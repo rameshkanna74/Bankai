{
 "cells": [
  {
   "cell_type": "markdown",
   "metadata": {},
   "source": [
    "# List operations"
   ]
  },
  {
   "cell_type": "code",
   "execution_count": 1,
   "metadata": {},
   "outputs": [
    {
     "name": "stdout",
     "output_type": "stream",
     "text": [
      "[3, 1, 4, 1, 5, 9, 2]\n",
      "[1, 1, 2, 3, 4, 5, 9]\n",
      "square of even number: [4, 16]\n",
      "squares of all  [1, 1, 4, 9, 16, 25, 81]\n",
      "sum of num: 25\n",
      "max of num: 9\n",
      "min of num: 1\n"
     ]
    }
   ],
   "source": [
    "nums = [3,1,4,1,5,9]\n",
    "nums.append(2)\n",
    "print(nums)\n",
    "nums.sort()\n",
    "print(nums)\n",
    "\n",
    "squares = [x**2 for x in nums if x%2 == 0]\n",
    "print(\"square of even number:\",squares)\n",
    "squ = [x**2 for x in nums]\n",
    "print(\"squares of all \",squ)\n",
    "\n",
    "print(\"sum of num:\",sum(nums))\n",
    "print(\"max of num:\",max(nums))\n",
    "print(\"min of num:\",min(nums))"
   ]
  },
  {
   "cell_type": "markdown",
   "metadata": {},
   "source": [
    "# String Manipulations"
   ]
  },
  {
   "cell_type": "code",
   "execution_count": 2,
   "metadata": {},
   "outputs": [
    {
     "name": "stdout",
     "output_type": "stream",
     "text": [
      "HELLO WORLD\n",
      "hello world\n",
      "hello Viji\n",
      "is radar is palindrome : False\n"
     ]
    }
   ],
   "source": [
    "s = \"hello world\"\n",
    "print(s.upper())\n",
    "print(s.lower())\n",
    "print(s.replace(\"world\",\"Viji\"))\n",
    "\n",
    "def is_palindrome(s):\n",
    "    return s == s[::-1]\n",
    "print(\"is radar is palindrome :\",is_palindrome(\"rakear\"))"
   ]
  },
  {
   "cell_type": "markdown",
   "metadata": {},
   "source": [
    "# Dictionary operations"
   ]
  },
  {
   "cell_type": "code",
   "execution_count": 3,
   "metadata": {},
   "outputs": [
    {
     "name": "stdout",
     "output_type": "stream",
     "text": [
      "Anu\n",
      "{'name': 'Anu', 'age': 20, 'grade': 'A', 'major': 'CSE'}\n",
      "name:Anu\n",
      "age:20\n",
      "grade:A\n",
      "major:CSE\n"
     ]
    }
   ],
   "source": [
    "student = {\"name\":\"Anu\",\"age\":20,\"grade\":\"A\"}\n",
    "print(student[\"name\"])\n",
    "\n",
    "student[\"major\"] = \"CSE\"\n",
    "print(student)\n",
    "\n",
    "for key, value in student.items():\n",
    "    print(f\"{key}:{value}\")\n"
   ]
  },
  {
   "cell_type": "markdown",
   "metadata": {},
   "source": [
    "# Set operations\n"
   ]
  },
  {
   "cell_type": "code",
   "execution_count": 4,
   "metadata": {},
   "outputs": [
    {
     "name": "stdout",
     "output_type": "stream",
     "text": [
      "union : {1, 2, 3, 4, 5.6}\n",
      "Intersection : {3, 4}\n",
      "Difference : {1, 2}\n"
     ]
    }
   ],
   "source": [
    "a = {1,2,3,4}\n",
    "b = {3,4,5.6}\n",
    "\n",
    "print(\"union :\",a | b)\n",
    "print(\"Intersection :\",a & b)\n",
    "print(\"Difference :\",a - b)"
   ]
  },
  {
   "cell_type": "markdown",
   "metadata": {},
   "source": [
    "# Two pointer Technique"
   ]
  },
  {
   "cell_type": "code",
   "execution_count": 6,
   "metadata": {},
   "outputs": [
    {
     "name": "stdout",
     "output_type": "stream",
     "text": [
      "[2, 7]\n"
     ]
    }
   ],
   "source": [
    "def two_sum(nums, target):\n",
    "    nums.sort()\n",
    "    left, right = 0, len(nums) - 1\n",
    "    while left < right:\n",
    "        curr_sum = nums[left] + nums[right]\n",
    "        if curr_sum == target:\n",
    "            return [nums[left],nums[right]]\n",
    "        elif curr_sum < target:\n",
    "            left += 1\n",
    "        else:\n",
    "            right -= 1\n",
    "    return []\n",
    "print(two_sum([2,11,7,15],9))"
   ]
  },
  {
   "cell_type": "markdown",
   "metadata": {},
   "source": [
    "# Sliding window technique"
   ]
  },
  {
   "cell_type": "code",
   "execution_count": 9,
   "metadata": {},
   "outputs": [
    {
     "name": "stdout",
     "output_type": "stream",
     "text": [
      "24\n"
     ]
    }
   ],
   "source": [
    "def max_sum_subarray(nums, k):\n",
    "    max_sum = current_sum = sum(nums[:k])\n",
    "    for i in range(k, len(nums)):\n",
    "        current_sum += nums[i] - nums[i - k]\n",
    "        max_sum = max(max_sum, current_sum)\n",
    "    return max_sum\n",
    "\n",
    "print(max_sum_subarray([1,2,3,4,5,6,7,8,9],3))"
   ]
  },
  {
   "cell_type": "code",
   "execution_count": null,
   "metadata": {},
   "outputs": [],
   "source": []
  }
 ],
 "metadata": {
  "kernelspec": {
   "display_name": "moon",
   "language": "python",
   "name": "python3"
  },
  "language_info": {
   "codemirror_mode": {
    "name": "ipython",
    "version": 3
   },
   "file_extension": ".py",
   "mimetype": "text/x-python",
   "name": "python",
   "nbconvert_exporter": "python",
   "pygments_lexer": "ipython3",
   "version": "3.11.11"
  }
 },
 "nbformat": 4,
 "nbformat_minor": 2
}
