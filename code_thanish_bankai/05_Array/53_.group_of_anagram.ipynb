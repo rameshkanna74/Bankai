{
 "cells": [
  {
   "cell_type": "markdown",
   "metadata": {},
   "source": [
    "49. Group Anagrams\n",
    "    Medium\n",
    "    Topics\n",
    "    Companies\n",
    "\n",
    "Given an array of strings strs, group the\n",
    "anagrams\n",
    "together. You can return the answer in any order.\n",
    "\n",
    "Example 1:\n",
    "\n",
    "Input: strs = [\"eat\",\"tea\",\"tan\",\"ate\",\"nat\",\"bat\"]\n",
    "\n",
    "Output: [[\"bat\"],[\"nat\",\"tan\"],[\"ate\",\"eat\",\"tea\"]]\n",
    "\n",
    "Explanation:\n",
    "\n",
    "    There is no string in strs that can be rearranged to form \"bat\".\n",
    "    The strings \"nat\" and \"tan\" are anagrams as they can be rearranged to form each other.\n",
    "    The strings \"ate\", \"eat\", and \"tea\" are anagrams as they can be rearranged to form each other.\n",
    "\n",
    "Example 2:\n",
    "\n",
    "Input: strs = [\"\"]\n",
    "\n",
    "Output: [[\"\"]]\n",
    "\n",
    "Example 3:\n",
    "\n",
    "Input: strs = [\"a\"]\n",
    "\n",
    "Output: [[\"a\"]]\n",
    "\n",
    "Constraints:\n",
    "\n",
    "    1 <= strs.length <= 104\n",
    "    0 <= strs[i].length <= 100\n",
    "    strs[i] consists of lowercase English letters.\n",
    "\n",
    "\n",
    "\n",
    "impl Solution {\n",
    "    pub fn group_anagrams(strs: Vec<String>) -> Vec<Vec<String>> {\n",
    "        \n",
    "    }\n",
    "}"
   ]
  }
 ],
 "metadata": {
  "language_info": {
   "name": "python"
  }
 },
 "nbformat": 4,
 "nbformat_minor": 2
}
