{
 "cells": [
  {
   "cell_type": "markdown",
   "metadata": {},
   "source": [
    "217. Contains Duplicate\n",
    "     Easy\n",
    "     Topics\n",
    "     Companies\n",
    "\n",
    "Given an integer array nums, return true if any value appears at least twice in the array, and return false if every element is distinct.\n",
    "\n",
    "Example 1:\n",
    "\n",
    "Input: nums = [1,2,3,1]\n",
    "\n",
    "Output: true\n",
    "\n",
    "Explanation:\n",
    "\n",
    "The element 1 occurs at the indices 0 and 3.\n",
    "\n",
    "Example 2:\n",
    "\n",
    "Input: nums = [1,2,3,4]\n",
    "\n",
    "Output: false\n",
    "\n",
    "Explanation:\n",
    "\n",
    "All elements are distinct.\n",
    "\n",
    "Example 3:\n",
    "\n",
    "Input: nums = [1,1,1,3,3,4,3,2,4,2]\n",
    "\n",
    "Output: true\n",
    "\n",
    "Constraints:\n",
    "\n",
    "    1 <= nums.length <= 105\n",
    "    -109 <= nums[i] <= 109\n",
    "\n",
    "\n",
    "impl Solution {\n",
    "    pub fn contains_duplicate(nums: Vec<i32>) -> bool {\n",
    "        \n",
    "    }\n",
    "}"
   ]
  },
  {
   "cell_type": "markdown",
   "metadata": {},
   "source": [
    "Find the missing number\n",
    "Maximum consecutive ones\n",
    "Single Number\n",
    "\n",
    "2 Sum \n",
    "Sort Colors 0's 1's and 2's\n",
    "Majority element - N/2 Times\n",
    "Print all subarrays in an array\n",
    "Maximum subarray sum ( Kadane's algorithm)\n",
    "Best time to buy and sell stock \n",
    "Leaders in an array \n",
    "Group of anagrams\n",
    "Rearrange arary elements by sign \n",
    "Subarray sum equals K\n",
    "\n",
    "3 Sum\n",
    "4 Sum\n",
    "Majority element - N/3 times\n",
    "Merge intervals\n",
    "Merge sorted arrays\n",
    "Count inversion \n",
    "Count of small numbers after self\n",
    "Closest subsequence sum\n",
    "Kth largest element ( quick select )\n",
    "Reverse pairs \n",
    "Maximum product subarray\n"
   ]
  },
  {
   "cell_type": "markdown",
   "metadata": {},
   "source": []
  }
 ],
 "metadata": {
  "language_info": {
   "name": "python"
  }
 },
 "nbformat": 4,
 "nbformat_minor": 2
}
