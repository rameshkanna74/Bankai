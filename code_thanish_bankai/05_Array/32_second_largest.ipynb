{
 "cells": [
  {
   "cell_type": "markdown",
   "metadata": {},
   "source": [
    "Second Largest\n",
    "Difficulty: EasyAccuracy: 26.72%Submissions: 774K+Points: 2\n",
    "\n",
    "Given an array arr[], return the second largest element from an array. If the second largest element doesn't exist then return -1.\n",
    "\n",
    "Note: The second largest element should not be equal to the first largest.\n",
    "\n",
    "Examples:\n",
    "\n",
    "Input: arr[] = [12, 35, 1, 10, 34, 1]\n",
    "Output: 34\n",
    "Explanation: The largest element of the array is 35 and the second largest element is 34.\n",
    "\n",
    "Input: arr[] = [10, 10]\n",
    "Output: -1\n",
    "Explanation: The largest element of the array is 10 and the second largest element does not exist..\n",
    "\n",
    "Constraints:\n",
    "2 ≤ arr.size() ≤ 105\n",
    "1 ≤ arr[i] ≤ 105\n",
    "\n",
    "---\n",
    "\n",
    "give best time and space complexity code in rust,give variables usefull name, add comments to explain the code way more clear,also add code to run example case\n",
    "\n",
    "---\n"
   ]
  },
  {
   "cell_type": "markdown",
   "metadata": {},
   "source": [
    "To solve the problem of finding the second largest element in an array, we need to keep track of two variables as we iterate through the array: the largest element and the second largest element.\n",
    "\n",
    "### Time and Space Complexity:\n",
    "\n",
    "- **Time Complexity**: The solution has a time complexity of **O(n)**, where `n` is the size of the array. We make a single pass over the array to determine both the largest and second largest elements.\n",
    "- **Space Complexity**: The space complexity is **O(1)** because we are only using a fixed number of variables to track the largest and second largest elements.\n",
    "\n",
    "### Plan:\n",
    "\n",
    "1. Iterate through the array once.\n",
    "2. Maintain two variables:\n",
    "   - `largest` to store the largest element.\n",
    "   - `second_largest` to store the second largest element.\n",
    "3. For each element in the array:\n",
    "   - If it is greater than `largest`, update both `second_largest` and `largest`.\n",
    "   - If it is not greater than `largest` but greater than `second_largest`, update `second_largest`.\n",
    "4. If `second_largest` is not updated (i.e., no second largest exists), return `-1`.\n",
    "\n",
    "### Rust Code:\n",
    "\n",
    "```rust\n",
    "fn find_second_largest(arr: &[i32]) -> i32 {\n",
    "    // Initialize the largest and second largest variables.\n",
    "    // Start with very small values since array elements are guaranteed to be positive.\n",
    "    let mut largest = i32::MIN;\n",
    "    let mut second_largest = i32::MIN;\n",
    "\n",
    "    // Loop through each element in the array\n",
    "    for &num in arr.iter() {\n",
    "        if num > largest {\n",
    "            // If the current number is greater than the largest, update second largest first\n",
    "            second_largest = largest;\n",
    "            largest = num;\n",
    "        } else if num > second_largest && num != largest {\n",
    "            // If the current number is greater than second largest and not equal to largest\n",
    "            second_largest = num;\n",
    "        }\n",
    "    }\n",
    "\n",
    "    // If second largest was not updated, return -1\n",
    "    if second_largest == i32::MIN {\n",
    "        return -1;\n",
    "    }\n",
    "\n",
    "    second_largest\n",
    "}\n",
    "\n",
    "fn main() {\n",
    "    // Example 1\n",
    "    let arr1 = vec![12, 35, 1, 10, 34, 1];\n",
    "    println!(\"The second largest element in arr1 is: {}\", find_second_largest(&arr1));\n",
    "\n",
    "    // Example 2\n",
    "    let arr2 = vec![10, 10];\n",
    "    println!(\"The second largest element in arr2 is: {}\", find_second_largest(&arr2));\n",
    "}\n",
    "```\n",
    "\n",
    "### Explanation of the Code:\n",
    "\n",
    "1. **`find_second_largest` function**:\n",
    "   - **Input**: A slice `&[i32]` representing the array of integers.\n",
    "   - **Output**: The second largest element in the array, or `-1` if no second largest element exists.\n",
    "   - **Step-by-Step**:\n",
    "     - We initialize two variables `largest` and `second_largest` to `i32::MIN`, which is the smallest possible value for an `i32`. This ensures that any valid element in the array will be greater than the initial values.\n",
    "     - We then loop through each element in the array:\n",
    "       - If the current number is greater than `largest`, we update `second_largest` to be the old value of `largest`, and then update `largest` to the current number.\n",
    "       - If the current number is not larger than `largest`, but it's larger than `second_largest` and not equal to `largest`, we update `second_largest`.\n",
    "     - After iterating over all elements, if `second_largest` remains unchanged (i.e., it is still `i32::MIN`), we return `-1` indicating that a second largest element doesn't exist.\n",
    "2. **`main` function**:\n",
    "   - This function demonstrates the use of `find_second_largest` with two example arrays:\n",
    "     - `arr1 = [12, 35, 1, 10, 34, 1]` where the second largest element is `34`.\n",
    "     - `arr2 = [10, 10]` where no second largest element exists, so the output is `-1`.\n",
    "   - The `println!` macro is used to print the result.\n",
    "\n",
    "### Example Run Output:\n",
    "\n",
    "```text\n",
    "The second largest element in arr1 is: 34\n",
    "The second largest element in arr2 is: -1\n",
    "```\n",
    "\n",
    "### Additional Considerations:\n",
    "\n",
    "- This solution handles cases where there are duplicate values (like in `arr2 = [10, 10]`), and it ensures that the second largest element is not equal to the largest.\n",
    "- The code uses the constant value `i32::MIN` to initialize `largest` and `second_largest`, which allows us to handle cases where all elements might be small positive integers.\n",
    "- This approach ensures we only scan through the array once, making it both time-efficient and space-efficient.\n",
    "\n",
    "Let me know if you have further questions or need additional functionality!\n"
   ]
  },
  {
   "cell_type": "code",
   "execution_count": 3,
   "metadata": {
    "vscode": {
     "languageId": "rust"
    }
   },
   "outputs": [
    {
     "name": "stdout",
     "output_type": "stream",
     "text": [
      "The second largest element in arr1 is: 34\n",
      "The second largest element in arr2 is: -1\n"
     ]
    },
    {
     "data": {
      "text/plain": [
       "()"
      ]
     },
     "execution_count": 3,
     "metadata": {},
     "output_type": "execute_result"
    }
   ],
   "source": [
    "fn find_second_largest(arr: &[i32]) -> i32 {\n",
    "    // Initialize the largest and second largest variables.\n",
    "    // Start with very small values since array elements are guaranteed to be positive.\n",
    "    let mut largest = i32::MIN;\n",
    "    let mut second_largest = i32::MIN;\n",
    "    \n",
    "    // Loop through each element in the array\n",
    "    for &num in arr.iter() {\n",
    "        if num > largest {\n",
    "            // If the current number is greater than the largest, update second largest first\n",
    "            second_largest = largest;\n",
    "            largest = num;\n",
    "        } else if num > second_largest && num != largest {\n",
    "            // If the current number is greater than second largest and not equal to largest\n",
    "            second_largest = num;\n",
    "        }\n",
    "    }\n",
    "    \n",
    "    // If second largest was not updated, return -1\n",
    "    if second_largest == i32::MIN {\n",
    "        return -1;\n",
    "    }\n",
    "    \n",
    "    second_largest\n",
    "}\n",
    "\n",
    "fn main() {\n",
    "    // Example 1\n",
    "    let arr1 = vec![12, 35, 1, 10, 34, 1];\n",
    "    println!(\"The second largest element in arr1 is: {}\", find_second_largest(&arr1));\n",
    "    \n",
    "    // Example 2\n",
    "    let arr2 = vec![10, 10];\n",
    "    println!(\"The second largest element in arr2 is: {}\", find_second_largest(&arr2));\n",
    "}\n",
    "\n",
    "main()"
   ]
  },
  {
   "cell_type": "code",
   "execution_count": null,
   "metadata": {
    "vscode": {
     "languageId": "rust"
    }
   },
   "outputs": [],
   "source": []
  }
 ],
 "metadata": {
  "kernelspec": {
   "display_name": "Rust",
   "language": "rust",
   "name": "rust"
  },
  "language_info": {
   "codemirror_mode": "rust",
   "file_extension": ".rs",
   "mimetype": "text/rust",
   "name": "Rust",
   "pygment_lexer": "rust",
   "version": ""
  }
 },
 "nbformat": 4,
 "nbformat_minor": 2
}
