{
 "cells": [
  {
   "cell_type": "markdown",
   "metadata": {},
   "source": [
    "228. Summary Ranges\n",
    "     Easy\n",
    "     Topics\n",
    "     Companies\n",
    "\n",
    "You are given a sorted unique integer array nums.\n",
    "\n",
    "A range [a,b] is the set of all integers from a to b (inclusive).\n",
    "\n",
    "Return the smallest sorted list of ranges that cover all the numbers in the array exactly. That is, each element of nums is covered by exactly one of the ranges, and there is no integer x such that x is in one of the ranges but not in nums.\n",
    "\n",
    "Each range [a,b] in the list should be output as:\n",
    "\n",
    "    \"a->b\" if a != b\n",
    "    \"a\" if a == b\n",
    "\n",
    "Example 1:\n",
    "\n",
    "Input: nums = [0,1,2,4,5,7]\n",
    "Output: [\"0->2\",\"4->5\",\"7\"]\n",
    "Explanation: The ranges are:\n",
    "[0,2] --> \"0->2\"\n",
    "[4,5] --> \"4->5\"\n",
    "[7,7] --> \"7\"\n",
    "\n",
    "Example 2:\n",
    "\n",
    "Input: nums = [0,2,3,4,6,8,9]\n",
    "Output: [\"0\",\"2->4\",\"6\",\"8->9\"]\n",
    "Explanation: The ranges are:\n",
    "[0,0] --> \"0\"\n",
    "[2,4] --> \"2->4\"\n",
    "[6,6] --> \"6\"\n",
    "[8,9] --> \"8->9\"\n",
    "\n",
    "Constraints:\n",
    "\n",
    "    0 <= nums.length <= 20\n",
    "    -231 <= nums[i] <= 231 - 1\n",
    "    All the values of nums are unique.\n",
    "    nums is sorted in ascending order.\n",
    "\n",
    "---\n",
    "\n",
    "give best time and space complexity code in rust,give variables usefull name, add comments to explain the code way more clear,also add code to run example case, use below typing\n",
    "\n",
    "---\n",
    "\n",
    "impl Solution {\n",
    "pub fn summary_ranges(nums: Vec<i32>) -> Vec<String> {\n",
    "\n",
    "    }\n",
    "\n",
    "}\n"
   ]
  },
  {
   "cell_type": "markdown",
   "metadata": {},
   "source": []
  },
  {
   "cell_type": "code",
   "execution_count": 4,
   "metadata": {},
   "outputs": [
    {
     "name": "stdout",
     "output_type": "stream",
     "text": [
      "[\"0->2\", \"4->5\", \"7\"]\n",
      "[\"0\", \"2->4\", \"6\", \"8->9\"]\n"
     ]
    },
    {
     "data": {
      "text/plain": [
       "()"
      ]
     },
     "execution_count": 4,
     "metadata": {},
     "output_type": "execute_result"
    }
   ],
   "source": [
    "pub struct Solution;\n",
    "\n",
    "impl Solution {\n",
    "    pub fn summary_ranges(nums: Vec<i32>) -> Vec<String> {\n",
    "        // Vector to hold the result ranges\n",
    "        let mut ranges = Vec::new();\n",
    "\n",
    "        // Check if the input array is empty\n",
    "        if nums.is_empty() {\n",
    "            return ranges; // Return an empty vector if no ranges are present\n",
    "        }\n",
    "\n",
    "        // Initialize the start of the range\n",
    "        let mut range_start = nums[0];\n",
    "\n",
    "        // Iterate through the numbers in the array, starting from the second element\n",
    "        for i in 1..nums.len() {\n",
    "            // Check if the current number is not consecutive to the previous one\n",
    "            if nums[i] != nums[i - 1] + 1 {\n",
    "                // If not consecutive, create the range string\n",
    "                if range_start == nums[i - 1] {\n",
    "                    // If the range has only one number\n",
    "                    ranges.push(range_start.to_string());\n",
    "                } else {\n",
    "                    // If the range has more than one number\n",
    "                    ranges.push(format!(\"{}->{}\", range_start, nums[i - 1]));\n",
    "                }\n",
    "                // Update the start of the new range\n",
    "                range_start = nums[i];\n",
    "            }\n",
    "        }\n",
    "\n",
    "        // Handle the last range after exiting the loop\n",
    "        if range_start == nums[nums.len() - 1] {\n",
    "            ranges.push(range_start.to_string()); // Only one number\n",
    "        } else {\n",
    "            ranges.push(format!(\"{}->{}\", range_start, nums[nums.len() - 1])); // Multiple numbers\n",
    "        }\n",
    "\n",
    "        ranges // Return the constructed ranges\n",
    "    }\n",
    "}\n",
    "\n",
    "// Example usage\n",
    "fn main() {\n",
    "    let nums1 = vec![0, 1, 2, 4, 5, 7];\n",
    "    let result1 = Solution::summary_ranges(nums1);\n",
    "    println!(\"{:?}\", result1); // Output: [\"0->2\", \"4->5\", \"7\"]\n",
    "\n",
    "    let nums2 = vec![0, 2, 3, 4, 6, 8, 9];\n",
    "    let result2 = Solution::summary_ranges(nums2);\n",
    "    println!(\"{:?}\", result2); // Output: [\"0\", \"2->4\", \"6\", \"8->9\"]\n",
    "}\n",
    "\n",
    "main()"
   ]
  },
  {
   "cell_type": "code",
   "execution_count": null,
   "metadata": {},
   "outputs": [],
   "source": []
  }
 ],
 "metadata": {
  "kernelspec": {
   "display_name": "Rust",
   "language": "rust",
   "name": "rust"
  },
  "language_info": {
   "codemirror_mode": "rust",
   "file_extension": ".rs",
   "mimetype": "text/rust",
   "name": "rust",
   "pygment_lexer": "rust",
   "version": ""
  }
 },
 "nbformat": 4,
 "nbformat_minor": 2
}
