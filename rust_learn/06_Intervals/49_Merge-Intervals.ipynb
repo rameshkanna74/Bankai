{
 "cells": [
  {
   "cell_type": "markdown",
   "metadata": {},
   "source": [
    "56. Merge Intervals\n",
    "    Medium\n",
    "    Topics\n",
    "    Companies\n",
    "\n",
    "Given an array of intervals where intervals[i] = [starti, endi], merge all overlapping intervals, and return an array of the non-overlapping intervals that cover all the intervals in the input.\n",
    "\n",
    "Example 1:\n",
    "\n",
    "Input: intervals = [[1,3],[2,6],[8,10],[15,18]]\n",
    "Output: [[1,6],[8,10],[15,18]]\n",
    "Explanation: Since intervals [1,3] and [2,6] overlap, merge them into [1,6].\n",
    "\n",
    "Example 2:\n",
    "\n",
    "Input: intervals = [[1,4],[4,5]]\n",
    "Output: [[1,5]]\n",
    "Explanation: Intervals [1,4] and [4,5] are considered overlapping.\n",
    "\n",
    "Constraints:\n",
    "\n",
    "    1 <= intervals.length <= 104\n",
    "    intervals[i].length == 2\n",
    "    0 <= starti <= endi <= 104\n",
    "\n",
    "---\n",
    "\n",
    "give best time and space complexity code in rust,give variables usefull name, add comments to explain the code way more clear,also add code to run example case, use below typing\n",
    "\n",
    "---\n",
    "\n",
    "impl Solution {\n",
    "pub fn merge(intervals: Vec<Vec<i32>>) -> Vec<Vec<i32>> {\n",
    "\n",
    "    }\n",
    "\n",
    "}\n"
   ]
  },
  {
   "cell_type": "markdown",
   "metadata": {},
   "source": [
    "Here's a Rust implementation of the \"Merge Intervals\" problem with clear variable names and comments to help explain the code. The implementation includes example cases for demonstration.\n",
    "\n",
    "```rust\n",
    "impl Solution {\n",
    "    pub fn merge(intervals: Vec<Vec<i32>>) -> Vec<Vec<i32>> {\n",
    "        // First, we need to sort the intervals based on the start time.\n",
    "        // This ensures that we can easily check for overlaps.\n",
    "        let mut sorted_intervals = intervals.clone();\n",
    "        sorted_intervals.sort_by_key(|interval| interval[0]);\n",
    "\n",
    "        // Initialize a vector to hold the merged intervals.\n",
    "        let mut merged_intervals: Vec<Vec<i32>> = Vec::new();\n",
    "\n",
    "        // Start with the first interval.\n",
    "        let mut current_interval = sorted_intervals[0].clone();\n",
    "\n",
    "        // Iterate through the sorted intervals.\n",
    "        for interval in sorted_intervals.iter().skip(1) {\n",
    "            // If the current interval overlaps with the next one,\n",
    "            // we merge them by extending the end time of the current interval.\n",
    "            if current_interval[1] >= interval[0] {\n",
    "                current_interval[1] = current_interval[1].max(interval[1]);\n",
    "            } else {\n",
    "                // If they do not overlap, we add the current interval to the merged list\n",
    "                // and update the current interval to the next one.\n",
    "                merged_intervals.push(current_interval);\n",
    "                current_interval = interval.clone();\n",
    "            }\n",
    "        }\n",
    "\n",
    "        // After the loop, we need to add the last interval.\n",
    "        merged_intervals.push(current_interval);\n",
    "\n",
    "        // Return the merged intervals.\n",
    "        merged_intervals\n",
    "    }\n",
    "}\n",
    "\n",
    "// Example usage\n",
    "fn main() {\n",
    "    let intervals = vec![vec![1, 3], vec![2, 6], vec![8, 10], vec![15, 18]];\n",
    "    let merged = Solution::merge(intervals);\n",
    "    println!(\"{:?}\", merged); // Output: [[1, 6], [8, 10], [15, 18]]\n",
    "\n",
    "    let intervals2 = vec![vec![1, 4], vec![4, 5]];\n",
    "    let merged2 = Solution::merge(intervals2);\n",
    "    println!(\"{:?}\", merged2); // Output: [[1, 5]]\n",
    "}\n",
    "```\n",
    "\n",
    "### Explanation of the Code:\n",
    "1. **Sorting**: The intervals are sorted based on their starting times. This is essential for merging because it allows us to only check the next interval against the current one.\n",
    "  \n",
    "2. **Merging Logic**:\n",
    "   - We initialize a `current_interval` with the first interval from the sorted list.\n",
    "   - We iterate through the remaining intervals and check if the `current_interval` overlaps with each interval.\n",
    "   - If they overlap (i.e., if the end of `current_interval` is greater than or equal to the start of the next interval), we update the end of the `current_interval` to the maximum of the two end times.\n",
    "   - If they do not overlap, we push the `current_interval` to the result list and update `current_interval` to the next interval.\n",
    "\n",
    "3. **Final Addition**: After the loop, we need to make sure to add the last `current_interval` to the merged list.\n",
    "\n",
    "### Time and Space Complexity:\n",
    "- **Time Complexity**: O(n log n) due to the sorting step, where n is the number of intervals.\n",
    "- **Space Complexity**: O(n) for storing the merged intervals in the output."
   ]
  },
  {
   "cell_type": "code",
   "execution_count": 3,
   "metadata": {
    "vscode": {
     "languageId": "rust"
    }
   },
   "outputs": [
    {
     "name": "stdout",
     "output_type": "stream",
     "text": [
      "[[1, 6], [8, 10], [15, 18]]\n",
      "[[1, 5]]\n"
     ]
    },
    {
     "data": {
      "text/plain": [
       "()"
      ]
     },
     "execution_count": 3,
     "metadata": {},
     "output_type": "execute_result"
    }
   ],
   "source": [
    "pub struct Solution;\n",
    "\n",
    "impl Solution {\n",
    "    pub fn merge(intervals: Vec<Vec<i32>>) -> Vec<Vec<i32>> {\n",
    "        // First, we need to sort the intervals based on the start time.\n",
    "        // This ensures that we can easily check for overlaps.\n",
    "        let mut sorted_intervals = intervals.clone();\n",
    "        sorted_intervals.sort_by_key(|interval| interval[0]);\n",
    "\n",
    "        // Initialize a vector to hold the merged intervals.\n",
    "        let mut merged_intervals: Vec<Vec<i32>> = Vec::new();\n",
    "\n",
    "        // Start with the first interval.\n",
    "        let mut current_interval = sorted_intervals[0].clone();\n",
    "\n",
    "        // Iterate through the sorted intervals.\n",
    "        for interval in sorted_intervals.iter().skip(1) {\n",
    "            // If the current interval overlaps with the next one,\n",
    "            // we merge them by extending the end time of the current interval.\n",
    "            if current_interval[1] >= interval[0] {\n",
    "                current_interval[1] = current_interval[1].max(interval[1]);\n",
    "            } else {\n",
    "                // If they do not overlap, we add the current interval to the merged list\n",
    "                // and update the current interval to the next one.\n",
    "                merged_intervals.push(current_interval);\n",
    "                current_interval = interval.clone();\n",
    "            }\n",
    "        }\n",
    "\n",
    "        // After the loop, we need to add the last interval.\n",
    "        merged_intervals.push(current_interval);\n",
    "\n",
    "        // Return the merged intervals.\n",
    "        merged_intervals\n",
    "    }\n",
    "}\n",
    "\n",
    "// Example usage\n",
    "fn main() {\n",
    "    let intervals = vec![vec![1, 3], vec![2, 6], vec![8, 10], vec![15, 18]];\n",
    "    let merged = Solution::merge(intervals);\n",
    "    println!(\"{:?}\", merged); // Output: [[1, 6], [8, 10], [15, 18]]\n",
    "\n",
    "    let intervals2 = vec![vec![1, 4], vec![4, 5]];\n",
    "    let merged2 = Solution::merge(intervals2);\n",
    "    println!(\"{:?}\", merged2); // Output: [[1, 5]]\n",
    "}\n",
    "\n",
    "main()"
   ]
  },
  {
   "cell_type": "code",
   "execution_count": null,
   "metadata": {
    "vscode": {
     "languageId": "rust"
    }
   },
   "outputs": [],
   "source": []
  }
 ],
 "metadata": {
  "kernelspec": {
   "display_name": "Rust",
   "language": "rust",
   "name": "rust"
  },
  "language_info": {
   "codemirror_mode": "rust",
   "file_extension": ".rs",
   "mimetype": "text/rust",
   "name": "Rust",
   "pygment_lexer": "rust",
   "version": ""
  }
 },
 "nbformat": 4,
 "nbformat_minor": 2
}
