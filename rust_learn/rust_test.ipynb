{
 "cells": [
  {
   "cell_type": "code",
   "execution_count": 2,
   "metadata": {},
   "outputs": [
    {
     "name": "stdout",
     "output_type": "stream",
     "text": [
      "The value of x is: 5\n",
      "The value of y is: 10\n",
      "The new value of y before is: 127\n",
      "The maximum points are: 100000\n"
     ]
    },
    {
     "data": {
      "text/plain": [
       "()"
      ]
     },
     "execution_count": 2,
     "metadata": {},
     "output_type": "execute_result"
    }
   ],
   "source": [
    "// Immutable variable\n",
    "let x:i8 = 5;\n",
    "println!(\"The value of x is: {}\", x);\n",
    "\n",
    "// Mutable variable\n",
    "let mut y:i8 = 10;\n",
    "println!(\"The value of y is: {}\", y);\n",
    "\n",
    "y = 127;\n",
    "println!(\"The new value of y before is: {}\", y);\n",
    "\n",
    "// Constant variable\n",
    "const MAX_POINTS:u32 = 100_000;\n",
    "println!(\"The maximum points are: {}\", MAX_POINTS)"
   ]
  },
  {
   "cell_type": "code",
   "execution_count": 3,
   "metadata": {},
   "outputs": [
    {
     "name": "stdout",
     "output_type": "stream",
     "text": [
      "The value of i8 MIN is: -128\n",
      "The value of i8 MAX is: 127\n",
      "The value of i16 MIN is: -32768\n",
      "The value of i16 MAX is: 32767\n",
      "The value of i32 MIN is: -2147483648\n",
      "The value of i32 MAX is: 2147483647\n",
      "The value of i64 MIN is: -9223372036854775808\n",
      "The value of i64 MAX is: 9223372036854775807\n",
      "The value of i128 MIN is: -170141183460469231731687303715884105728\n",
      "The value of i128 MAX is: 170141183460469231731687303715884105727\n"
     ]
    }
   ],
   "source": [
    "println!(\"The value of i8 MIN is: {}\", i8::MIN);\n",
    "println!(\"The value of i8 MAX is: {}\", i8::MAX);\n",
    "\n",
    "println!(\"The value of i16 MIN is: {}\", i16::MIN);\n",
    "println!(\"The value of i16 MAX is: {}\", i16::MAX);\n",
    "\n",
    "println!(\"The value of i32 MIN is: {}\", i32::MIN);\n",
    "println!(\"The value of i32 MAX is: {}\", i32::MAX);\n",
    "\n",
    "println!(\"The value of i64 MIN is: {}\", i64::MIN);\n",
    "println!(\"The value of i64 MAX is: {}\", i64::MAX);\n",
    "\n",
    "println!(\"The value of i128 MIN is: {}\", i128::MIN);\n",
    "println!(\"The value of i128 MAX is: {}\", i128::MAX);"
   ]
  },
  {
   "cell_type": "code",
   "execution_count": 4,
   "metadata": {},
   "outputs": [
    {
     "name": "stdout",
     "output_type": "stream",
     "text": [
      "The value of u8 MIN is: 0\n",
      "The value of u8 MAX is: 255\n",
      "The value of u16 MIN is: 0\n",
      "The value of u16 MAX is: 65535\n",
      "The value of u32 MIN is: 0\n",
      "The value of u32 MAX is: 4294967295\n",
      "The value of u64 MIN is: 0\n",
      "The value of u64 MAX is: 18446744073709551615\n",
      "The value of u128 MIN is: 0\n",
      "The value of u128 MAX is: 340282366920938463463374607431768211455\n"
     ]
    }
   ],
   "source": [
    "println!(\"The value of u8 MIN is: {}\", u8::MIN);\n",
    "println!(\"The value of u8 MAX is: {}\", u8::MAX);\n",
    "\n",
    "println!(\"The value of u16 MIN is: {}\", u16::MIN);\n",
    "println!(\"The value of u16 MAX is: {}\", u16::MAX);\n",
    "\n",
    "println!(\"The value of u32 MIN is: {}\", u32::MIN);\n",
    "println!(\"The value of u32 MAX is: {}\", u32::MAX);\n",
    "\n",
    "println!(\"The value of u64 MIN is: {}\", u64::MIN);\n",
    "println!(\"The value of u64 MAX is: {}\", u64::MAX);\n",
    "\n",
    "println!(\"The value of u128 MIN is: {}\", u128::MIN);\n",
    "println!(\"The value of u128 MAX is: {}\", u128::MAX);"
   ]
  },
  {
   "cell_type": "code",
   "execution_count": 5,
   "metadata": {},
   "outputs": [
    {
     "name": "stdout",
     "output_type": "stream",
     "text": [
      "The value of f32 MIN is: -340282350000000000000000000000000000000\n"
     ]
    }
   ],
   "source": [
    "println!(\"The value of f32 MIN is: {}\", f32::MIN);\n",
    "println!(\"The value of f32 MAX is: {}\", f32::MAX);\n",
    "\n",
    "println!(\"The value of f64 MIN is: {}\", f64::MIN);\n",
    "println!(\"The value of f64 MAX is: {}\", f64::MAX);"
   ]
  },
  {
   "cell_type": "code",
   "execution_count": null,
   "metadata": {},
   "outputs": [
    {
     "name": "stdout",
     "output_type": "stream",
     "text": [
      "The value of f32 MAX is: 340282350000000000000000000000000000000\n"
     ]
    }
   ],
   "source": [
    "fn double(x:i32)-> i32{\n",
    "    x * 2\n",
    "}\n",
    "\n",
    "fn say_hello(name: &str){\n",
    "    println!(\"Hello, {}\", name);\n",
    "}\n",
    "\n",
    "// main()\n",
    "let num:i32 = 5;\n",
    "let doubled:i32 = double(num);\n",
    "println!(\"The double of {} is {}\", num, doubled);\n",
    "say_hello(\"Alice\");"
   ]
  },
  {
   "cell_type": "code",
   "execution_count": 7,
   "metadata": {},
   "outputs": [
    {
     "name": "stdout",
     "output_type": "stream",
     "text": [
      "The number is equal to 7\n"
     ]
    }
   ],
   "source": [
    "// If-else statement\n",
    "let number:i32 = 7;\n",
    "\n",
    "if number < 5 {\n",
    "    println!(\"The number is less than 5\");\n",
    "} else if number == 7{\n",
    "    println!(\"The number is equal to 7\");\n",
    "} else {\n",
    "    println!(\"The number is greater than 5\");\n",
    "}\n",
    "\n",
    "// Using if in a let statement\n",
    "let is_even = if number % 2 == 0 { true } else {false};\n",
    "println!(\"Is the number even? {}\", is_even);\n"
   ]
  },
  {
   "cell_type": "code",
   "execution_count": null,
   "metadata": {},
   "outputs": [
    {
     "name": "stdout",
     "output_type": "stream",
     "text": [
      "Is the number even? false\n"
     ]
    }
   ],
   "source": [
    "// Loop (infinite loop)\n",
    "let mut counter:u8 = 0;\n",
    "loop {\n",
    "    counter += 15;\n",
    "    println!(\"Counter is at: {}\", counter);\n",
    "    if counter == u8::MAX {\n",
    "        break;\n",
    "    }  \n",
    "}"
   ]
  },
  {
   "cell_type": "code",
   "execution_count": 9,
   "metadata": {},
   "outputs": [
    {
     "name": "stdout",
     "output_type": "stream",
     "text": [
      "12!\n",
      "11!\n",
      "10!\n",
      "9!\n",
      "8!\n",
      "7!\n",
      "6!\n",
      "5!\n",
      "4!\n",
      "3!\n",
      "2!\n",
      "1!\n",
      "Listoff!\n"
     ]
    }
   ],
   "source": [
    "// While loop\n",
    "let mut countdown:u16 = 12;\n",
    "while countdown != 0 {\n",
    "    println!(\"{}!\", countdown);\n",
    "    countdown -= 1;\n",
    "}\n",
    "println!(\"Listoff!\");"
   ]
  },
  {
   "cell_type": "code",
   "execution_count": 10,
   "metadata": {},
   "outputs": [
    {
     "name": "stdout",
     "output_type": "stream",
     "text": [
      "The value is: 10\n",
      "The value is: 20\n",
      "The value is: 30\n",
      "The value is: 40\n",
      "The value is: 50\n"
     ]
    },
    {
     "data": {
      "text/plain": [
       "()"
      ]
     },
     "execution_count": 10,
     "metadata": {},
     "output_type": "execute_result"
    }
   ],
   "source": [
    "// For loop\n",
    "let numbers: [i32; 5] = [10, 20, 30, 40, 50];\n",
    "for num in numbers.iter() {\n",
    "    println!(\"The value is: {}\", num);\n",
    "}"
   ]
  },
  {
   "cell_type": "code",
   "execution_count": 11,
   "metadata": {},
   "outputs": [
    {
     "name": "stdout",
     "output_type": "stream",
     "text": [
      "i is: 1\n",
      "i is: 2\n",
      "i is: 3\n",
      "i is: 4\n",
      "i is: 5\n"
     ]
    },
    {
     "data": {
      "text/plain": [
       "()"
      ]
     },
     "execution_count": 11,
     "metadata": {},
     "output_type": "execute_result"
    }
   ],
   "source": [
    "// For loop with range\n",
    "for i in 1..=5 {\n",
    "    println!(\"i is: {}\", i);\n",
    "}"
   ]
  },
  {
   "cell_type": "code",
   "execution_count": 12,
   "metadata": {},
   "outputs": [
    {
     "name": "stdout",
     "output_type": "stream",
     "text": [
      "Integer: 10, Float: 3.14, Boolean: true, Character: A\n"
     ]
    }
   ],
   "source": [
    "// Scalar types\n",
    "let an_integer: i32 = 10;\n",
    "let a_float: f64 = 3.14;\n",
    "let a_boolean: bool = true;\n",
    "let a_charater: char = 'A';\n",
    "\n",
    "println!(\"Integer: {}, Float: {}, Boolean: {}, Character: {}\", an_integer,a_float,a_boolean,a_charater);"
   ]
  },
  {
   "cell_type": "code",
   "execution_count": 13,
   "metadata": {},
   "outputs": [
    {
     "name": "stdout",
     "output_type": "stream",
     "text": [
      "Tuple: x = 500, y = 6.4, z = 1\n",
      "Array: [1, 2, 3, 4, 5]\n"
     ]
    }
   ],
   "source": [
    "// Compound types\n",
    "let a_tuple: (i32, f64, u8) = (500, 6.4, 1);\n",
    "let (x, y, z) = a_tuple;\n",
    "println!(\"Tuple: x = {}, y = {}, z = {}\", x, y, z);\n",
    "\n",
    "let an_array: [i32; 5] = [1, 2, 3, 4, 5];\n",
    "println!(\"Array: {:?}\", an_array);"
   ]
  },
  {
   "cell_type": "code",
   "execution_count": 14,
   "metadata": {},
   "outputs": [
    {
     "name": "stdout",
     "output_type": "stream",
     "text": [
      "hello\n"
     ]
    }
   ],
   "source": [
    "fn test_owner(){\n",
    "    let s1 = String::from(\"hello\");\n",
    "    let s2 = s1;\n",
    "    println!(\"{}\", s2)\n",
    "}\n",
    "\n",
    "test_owner();"
   ]
  },
  {
   "cell_type": "code",
   "execution_count": 17,
   "metadata": {},
   "outputs": [
    {
     "name": "stdout",
     "output_type": "stream",
     "text": [
      "The length of 'hello' is 5.\n"
     ]
    }
   ],
   "source": [
    "fn calculate_length(s: &String) -> usize {\n",
    "    s.len() \n",
    "}\n",
    "\n",
    "let s1:String = String::from(\"hello\");\n",
    "let len = calculate_length(&s1);\n",
    "\n",
    "println!(\"The length of '{}' is {}.\", s1, len);"
   ]
  },
  {
   "cell_type": "code",
   "execution_count": 27,
   "metadata": {},
   "outputs": [
    {
     "ename": "Error",
     "evalue": "`x` does not live long enough",
     "output_type": "error",
     "traceback": [
      "\u001b[31m[E0597] Error:\u001b[0m `x` does not live long enough",
      "   \u001b[38;5;246m╭\u001b[0m\u001b[38;5;246m─\u001b[0m\u001b[38;5;246m[\u001b[0mcommand_27:1:1\u001b[38;5;246m]\u001b[0m",
      "   \u001b[38;5;246m│\u001b[0m",
      " \u001b[38;5;246m5 │\u001b[0m \u001b[38;5;249m \u001b[0m\u001b[38;5;249m \u001b[0m\u001b[38;5;249m \u001b[0m\u001b[38;5;249m \u001b[0m\u001b[38;5;249m \u001b[0m\u001b[38;5;249m \u001b[0m\u001b[38;5;249m \u001b[0m\u001b[38;5;249m \u001b[0m\u001b[38;5;249mr\u001b[0m\u001b[38;5;249m \u001b[0m\u001b[38;5;249m=\u001b[0m\u001b[38;5;249m \u001b[0m\u001b[38;5;54m&\u001b[0m\u001b[38;5;54mx\u001b[0m\u001b[38;5;249m;\u001b[0m",
      " \u001b[38;5;240m  │\u001b[0m             \u001b[38;5;54m─\u001b[0m\u001b[38;5;54m┬\u001b[0m  ",
      " \u001b[38;5;240m  │\u001b[0m              \u001b[38;5;54m╰\u001b[0m\u001b[38;5;54m─\u001b[0m\u001b[38;5;54m─\u001b[0m borrowed value does not live long enough",
      " \u001b[38;5;246m6 │\u001b[0m \u001b[38;5;249m \u001b[0m\u001b[38;5;249m \u001b[0m\u001b[38;5;249m \u001b[0m\u001b[38;5;249m \u001b[0m\u001b[38;5;100m}\u001b[0m",
      " \u001b[38;5;240m  │\u001b[0m     \u001b[38;5;100m┬\u001b[0m  ",
      " \u001b[38;5;240m  │\u001b[0m     \u001b[38;5;100m╰\u001b[0m\u001b[38;5;100m─\u001b[0m\u001b[38;5;100m─\u001b[0m `x` dropped here while still borrowed",
      " \u001b[38;5;246m7 │\u001b[0m \u001b[38;5;249m \u001b[0m\u001b[38;5;249m \u001b[0m\u001b[38;5;249m \u001b[0m\u001b[38;5;249m \u001b[0m\u001b[38;5;249mp\u001b[0m\u001b[38;5;249mr\u001b[0m\u001b[38;5;249mi\u001b[0m\u001b[38;5;249mn\u001b[0m\u001b[38;5;249mt\u001b[0m\u001b[38;5;249ml\u001b[0m\u001b[38;5;249mn\u001b[0m\u001b[38;5;249m!\u001b[0m\u001b[38;5;249m(\u001b[0m\u001b[38;5;249m\"\u001b[0m\u001b[38;5;249mr\u001b[0m\u001b[38;5;249m:\u001b[0m\u001b[38;5;249m \u001b[0m\u001b[38;5;249m{\u001b[0m\u001b[38;5;249m}\u001b[0m\u001b[38;5;249m\"\u001b[0m\u001b[38;5;249m,\u001b[0m\u001b[38;5;68mr\u001b[0m\u001b[38;5;249m)\u001b[0m\u001b[38;5;249m;\u001b[0m",
      " \u001b[38;5;240m  │\u001b[0m                      \u001b[38;5;68m┬\u001b[0m  ",
      " \u001b[38;5;240m  │\u001b[0m                      \u001b[38;5;68m╰\u001b[0m\u001b[38;5;68m─\u001b[0m\u001b[38;5;68m─\u001b[0m borrow later used here",
      "\u001b[38;5;246m───╯\u001b[0m"
     ]
    }
   ],
   "source": [
    "fn work_one() {\n",
    "    let r;\n",
    "    {\n",
    "        let x = 5;\n",
    "        r = &x;\n",
    "    }\n",
    "    println!(\"r: {}\",r);\n",
    "}\n",
    "\n",
    "work_one()"
   ]
  },
  {
   "cell_type": "code",
   "execution_count": 26,
   "metadata": {},
   "outputs": [
    {
     "name": "stdout",
     "output_type": "stream",
     "text": [
      "r: 5\n"
     ]
    },
    {
     "data": {
      "text/plain": [
       "()"
      ]
     },
     "execution_count": 26,
     "metadata": {},
     "output_type": "execute_result"
    }
   ],
   "source": [
    "fn work_one() {\n",
    "    let x = 5;\n",
    "    let r = &x;\n",
    "    println!(\"r: {}\",r);\n",
    "}\n",
    "\n",
    "work_one()"
   ]
  },
  {
   "cell_type": "code",
   "execution_count": 30,
   "metadata": {},
   "outputs": [
    {
     "name": "stdout",
     "output_type": "stream",
     "text": [
      "The value of i8 MIN is: -128\n",
      "The value of i8 MAX is: 127\n",
      "The value of u8 MIN is: 0\n",
      "The value of u8 MAX is: 255\n",
      "The value of f32 pi is: 3.141592\n",
      "The value of f64 pi is: 3.141592653589793\n",
      "The value of the integer as f32 is: 42\n"
     ]
    }
   ],
   "source": [
    "// Integer types\n",
    "println!(\"The value of i8 MIN is: {}\", i8::MIN); // -128\n",
    "println!(\"The value of i8 MAX is: {}\", i8::MAX); // 127\n",
    "\n",
    "println!(\"The value of u8 MIN is: {}\", u8::MIN); // 0\n",
    "println!(\"The value of u8 MAX is: {}\", u8::MAX); // 255\n",
    "\n",
    "// Floating-point types\n",
    "let float_32: f32 = 3.141592;\n",
    "let float_64: f64 = 3.141592653589793;\n",
    "\n",
    "println!(\"The value of f32 pi is: {}\", float_32);\n",
    "println!(\"The value of f64 pi is: {}\", float_64);\n",
    "\n",
    "// Type casting\n",
    "let integer = 42;\n",
    "let float: f32 = integer as f32; // Casting from i32 to f32\n",
    "println!(\"The value of the integer as f32 is: {}\", float);"
   ]
  },
  {
   "cell_type": "code",
   "execution_count": 33,
   "metadata": {},
   "outputs": [
    {
     "name": "stdout",
     "output_type": "stream",
     "text": [
      "The letter is: A\n",
      "The emoji is: 😊\n",
      "The Chinese character is: 你\n",
      "The heart symbol is: ❤\n"
     ]
    }
   ],
   "source": [
    "// Basic characters\n",
    "let letter: char = 'A';\n",
    "let emoji: char = '😊';\n",
    "let chinese_character: char = '你'; // Chinese character for \"you\"\n",
    "\n",
    "println!(\"The letter is: {}\", letter);\n",
    "println!(\"The emoji is: {}\", emoji);\n",
    "println!(\"The Chinese character is: {}\", chinese_character);\n",
    "\n",
    "// Using a character as a Unicode escape sequence\n",
    "let heart = '\\u{2764}'; // Unicode code point for a heart (❤)\n",
    "println!(\"The heart symbol is: {}\", heart);"
   ]
  },
  {
   "cell_type": "code",
   "execution_count": 38,
   "metadata": {},
   "outputs": [
    {
     "name": "stdout",
     "output_type": "stream",
     "text": [
      "Hello, World!\n",
      "Hello, World! Hello, Rust!\n",
      "Let's code! - Hello, World! Hello, Rust!\n"
     ]
    }
   ],
   "source": [
    "// Creating a new empty String\n",
    "let mut s:String = String::new();\n",
    "\n",
    "// Appending to a String\n",
    "s.push('H'); // Adding a single character\n",
    "s.push_str(\"ello, World!\"); // Adding a string slice\n",
    "\n",
    "println!(\"{}\", s); // Prints \"Hello, World!\"\n",
    "\n",
    "// Creating a String from a string literal\n",
    "let s1:String = String::from(\"Hello, Rust!\");\n",
    "\n",
    "// Concatenating Strings\n",
    "let s2:String = s + \" \" + &s1; // Using + operator\n",
    "println!(\"{}\", s2); // Prints \"Hello, World! Hello, Rust!\"\n",
    "\n",
    "// Using format! macro for concatenation\n",
    "let s3:String = format!(\"{b} - {a}\", a=s2, b=\"Let's code!\");\n",
    "println!(\"{}\", s3); // Prints \"Hello, World! Hello, Rust! - Let's code!\""
   ]
  },
  {
   "cell_type": "code",
   "execution_count": 39,
   "metadata": {},
   "outputs": [
    {
     "name": "stdout",
     "output_type": "stream",
     "text": [
      "Slice: Hello\n",
      "String slice: Hello\n"
     ]
    },
    {
     "data": {
      "text/plain": [
       "()"
      ]
     },
     "execution_count": 39,
     "metadata": {},
     "output_type": "execute_result"
    }
   ],
   "source": [
    "fn print_slice(s: &str) {\n",
    "    println!(\"String slice: {}\", s);\n",
    "}\n",
    "\n",
    "fn main() {\n",
    "    let s = String::from(\"Hello, Rust!\");\n",
    "\n",
    "    // String slice\n",
    "    let slice = &s[0..5]; // Slice of the first 5 characters\n",
    "    println!(\"Slice: {}\", slice); // Prints \"Hello\"\n",
    "\n",
    "    // Function that takes a &str\n",
    "    print_slice(slice);\n",
    "}\n",
    "\n",
    "main()"
   ]
  },
  {
   "cell_type": "code",
   "execution_count": 41,
   "metadata": {},
   "outputs": [
    {
     "name": "stdout",
     "output_type": "stream",
     "text": [
      "Length: 12\n",
      "Character: H\n",
      "Character: e\n",
      "Character: l\n",
      "Character: l\n",
      "Character: o\n",
      "Character: ,\n",
      "Character:  \n",
      "Character: R\n",
      "Character: u\n",
      "Character: s\n",
      "Character: t\n",
      "Character: !\n",
      "Byte: 72\n",
      "Byte: 101\n",
      "Byte: 108\n",
      "Byte: 108\n",
      "Byte: 111\n",
      "Byte: 44\n",
      "Byte: 32\n",
      "Byte: 82\n",
      "Byte: 117\n",
      "Byte: 115\n",
      "Byte: 116\n",
      "Byte: 33\n"
     ]
    },
    {
     "data": {
      "text/plain": [
       "()"
      ]
     },
     "execution_count": 41,
     "metadata": {},
     "output_type": "execute_result"
    }
   ],
   "source": [
    "fn main() {\n",
    "    let s = String::from(\"Hello, Rust!\");\n",
    "\n",
    "    // Length of the String (in bytes)\n",
    "    println!(\"Length: {}\", s.len()); // 12 bytes\n",
    "\n",
    "    // Iterating over characters\n",
    "    for c in s.chars() {\n",
    "        println!(\"Character: {}\", c);\n",
    "    }\n",
    "\n",
    "    // Iterating over bytes\n",
    "    for b in s.bytes() {\n",
    "        println!(\"Byte: {}\", b);\n",
    "    }\n",
    "}\n",
    "\n",
    "main()"
   ]
  },
  {
   "cell_type": "code",
   "execution_count": 43,
   "metadata": {},
   "outputs": [
    {
     "name": "stdout",
     "output_type": "stream",
     "text": [
      "[1, 2, 3, 4, 5]\n"
     ]
    },
    {
     "data": {
      "text/plain": [
       "()"
      ]
     },
     "execution_count": 43,
     "metadata": {},
     "output_type": "execute_result"
    }
   ],
   "source": [
    "fn main() {\n",
    "    let numbers: [i32; 5] = [1,2,3,4,5];\n",
    "    println!(\"{:?}\", numbers);\n",
    "}\n",
    "\n",
    "main()"
   ]
  },
  {
   "cell_type": "code",
   "execution_count": 50,
   "metadata": {},
   "outputs": [
    {
     "name": "stdout",
     "output_type": "stream",
     "text": [
      "First: 1, Last: 5\n"
     ]
    },
    {
     "data": {
      "text/plain": [
       "()"
      ]
     },
     "execution_count": 50,
     "metadata": {},
     "output_type": "execute_result"
    }
   ],
   "source": [
    "fn main() {\n",
    "    let numbers: [i32; 5] = [1,2,3,4,5];\n",
    "    let first = numbers[0];\n",
    "    let last = numbers[4];\n",
    "    println!(\"First: {}, Last: {}\", first, last);\n",
    "}\n",
    "\n",
    "main()"
   ]
  },
  {
   "cell_type": "code",
   "execution_count": 54,
   "metadata": {},
   "outputs": [
    {
     "name": "stdout",
     "output_type": "stream",
     "text": [
      "[77, 77, 77, 77, 77]\n"
     ]
    },
    {
     "data": {
      "text/plain": [
       "()"
      ]
     },
     "execution_count": 54,
     "metadata": {},
     "output_type": "execute_result"
    }
   ],
   "source": [
    "fn main() {\n",
    "    let numbers = [77; 5]; // Creates an array of 5 elements, all initialized to 3\n",
    "    println!(\"{:?}\", numbers); // Prints: [3, 3, 3, 3, 3]\n",
    "}\n",
    "\n",
    "main()"
   ]
  },
  {
   "cell_type": "code",
   "execution_count": 55,
   "metadata": {},
   "outputs": [
    {
     "name": "stdout",
     "output_type": "stream",
     "text": [
      "Array length: 5\n"
     ]
    },
    {
     "data": {
      "text/plain": [
       "()"
      ]
     },
     "execution_count": 55,
     "metadata": {},
     "output_type": "execute_result"
    }
   ],
   "source": [
    "fn main() {\n",
    "    let numbers = [1, 2, 3, 4, 5];\n",
    "    println!(\"Array length: {}\", numbers.len()); // Prints: 5\n",
    "}\n",
    "\n",
    "main()"
   ]
  },
  {
   "cell_type": "code",
   "execution_count": 59,
   "metadata": {},
   "outputs": [
    {
     "name": "stdout",
     "output_type": "stream",
     "text": [
      "Is the array empty? true\n"
     ]
    },
    {
     "data": {
      "text/plain": [
       "()"
      ]
     },
     "execution_count": 59,
     "metadata": {},
     "output_type": "execute_result"
    }
   ],
   "source": [
    "fn main() {\n",
    "    let numbers: [i32; 0] = [];\n",
    "    println!(\"Is the array empty? {}\", numbers.is_empty()); // Prints: true\n",
    "}\n",
    "\n",
    "main()"
   ]
  },
  {
   "cell_type": "code",
   "execution_count": 64,
   "metadata": {},
   "outputs": [
    {
     "name": "stdout",
     "output_type": "stream",
     "text": [
      "Found: 5\n"
     ]
    },
    {
     "data": {
      "text/plain": [
       "()"
      ]
     },
     "execution_count": 64,
     "metadata": {},
     "output_type": "execute_result"
    }
   ],
   "source": [
    "fn main() {\n",
    "    let numbers = [1, 2, 3, 4, 5];\n",
    "    match numbers.get(4) {\n",
    "        Some(num) => println!(\"Found: {}\", num),\n",
    "        None => println!(\"Index out of bounds\"),\n",
    "    }\n",
    "}\n",
    "\n",
    "main()"
   ]
  },
  {
   "cell_type": "code",
   "execution_count": 65,
   "metadata": {},
   "outputs": [
    {
     "name": "stdout",
     "output_type": "stream",
     "text": [
      "First element: 1\n",
      "Last element: 5\n"
     ]
    },
    {
     "data": {
      "text/plain": [
       "()"
      ]
     },
     "execution_count": 65,
     "metadata": {},
     "output_type": "execute_result"
    }
   ],
   "source": [
    "fn main() {\n",
    "    let numbers = [1, 2, 3, 4, 5];\n",
    "\n",
    "    if let Some(first) = numbers.first() {\n",
    "        println!(\"First element: {}\", first);\n",
    "    }\n",
    "\n",
    "    if let Some(last) = numbers.last() {\n",
    "        println!(\"Last element: {}\", last);\n",
    "    }\n",
    "}\n",
    "\n",
    "main()"
   ]
  },
  {
   "cell_type": "code",
   "execution_count": 66,
   "metadata": {},
   "outputs": [
    {
     "name": "stdout",
     "output_type": "stream",
     "text": [
      "1\n",
      "2\n",
      "3\n",
      "4\n",
      "5\n"
     ]
    },
    {
     "data": {
      "text/plain": [
       "()"
      ]
     },
     "execution_count": 66,
     "metadata": {},
     "output_type": "execute_result"
    }
   ],
   "source": [
    "fn main() {\n",
    "    let numbers = [1, 2, 3, 4, 5];\n",
    "\n",
    "    for num in numbers.iter() {\n",
    "        println!(\"{}\", num);\n",
    "    }\n",
    "}\n",
    "\n",
    "main()"
   ]
  },
  {
   "cell_type": "code",
   "execution_count": null,
   "metadata": {},
   "outputs": [],
   "source": [
    "\n",
    "\n",
    "main()"
   ]
  },
  {
   "cell_type": "code",
   "execution_count": null,
   "metadata": {},
   "outputs": [],
   "source": [
    "\n",
    "\n",
    "main()"
   ]
  },
  {
   "cell_type": "code",
   "execution_count": null,
   "metadata": {},
   "outputs": [],
   "source": [
    "\n",
    "\n",
    "main()"
   ]
  },
  {
   "cell_type": "code",
   "execution_count": null,
   "metadata": {},
   "outputs": [],
   "source": [
    "\n",
    "\n",
    "main()"
   ]
  },
  {
   "cell_type": "code",
   "execution_count": null,
   "metadata": {},
   "outputs": [],
   "source": [
    "\n",
    "\n",
    "main()"
   ]
  },
  {
   "cell_type": "code",
   "execution_count": 67,
   "metadata": {},
   "outputs": [
    {
     "name": "stdout",
     "output_type": "stream",
     "text": [
      "true\n",
      "false\n"
     ]
    },
    {
     "data": {
      "text/plain": [
       "()"
      ]
     },
     "execution_count": 67,
     "metadata": {},
     "output_type": "execute_result"
    }
   ],
   "source": [
    "fn contains_duplicate(nums: Vec<i32>) -> bool {\n",
    "    let mut nums = nums.clone(); // Clone the array to avoid modifying the original\n",
    "    nums.sort(); // Sort the array\n",
    "\n",
    "    for i in 1..nums.len() {\n",
    "        if nums[i] == nums[i - 1] {\n",
    "            return true; // Return true if consecutive elements are the same\n",
    "        }\n",
    "    }\n",
    "    false // Return false if no duplicates are found\n",
    "}\n",
    "\n",
    "fn main() {\n",
    "    let nums1:Vec<i32> = vec![1, 2, 3, 3];\n",
    "    let nums2:Vec<i32> = vec![1, 2, 3, 4];\n",
    "\n",
    "    println!(\"{}\", contains_duplicate(nums1)); // Output: true\n",
    "    println!(\"{}\", contains_duplicate(nums2)); // Output: false\n",
    "}\n",
    "\n",
    "main()"
   ]
  },
  {
   "cell_type": "markdown",
   "metadata": {
    "vscode": {
     "languageId": "rust"
    }
   },
   "source": [
    "6. Iterators and Iterator Adapters\n",
    "\n",
    "   Iterators: Iterators are used extensively in Rust for looping over collections.\n",
    "   Key Methods: map, filter, collect, fold, for_each, enumerate\n",
    "   Iterator Adapters: Functions that transform iterators, such as map, filter, take, zip.\n",
    "\n",
    "7. Slices and String Manipulation\n",
    "\n",
    "   Slices (&[T]): Useful for handling parts of arrays or vectors.\n",
    "   String Manipulation: Handling problems that require processing text.\n",
    "   Key Methods: split, trim, to_string, replace, chars, bytes, push_str, insert\n",
    "\n",
    "8. Recursion and Dynamic Programming\n",
    "\n",
    "   Recursion: Essential for problems involving backtracking, divide-and-conquer, or dynamic programming.\n",
    "   Dynamic Programming: Requires understanding memoization and tabulation techniques.\n",
    "\n",
    "9. Concurrency (Optional)\n",
    "\n",
    "   Concurrency: While not often required in LeetCode, Rust's concurrency model is powerful.\n",
    "   Key Concepts: Threads, channels, Arc, Mutex\n",
    "   Useful for advanced problems that may benefit from parallel processing.\n",
    "\n",
    "10. Practice and Problem-Solving Strategies\n",
    "\n",
    "    Problem-Solving: Familiarize yourself with common algorithms and techniques, such as:\n",
    "    Sorting algorithms\n",
    "    Searching algorithms (binary search, depth-first search, breadth-first search)\n",
    "    Graph algorithms\n",
    "    Two-pointer technique\n",
    "    Sliding window technique\n",
    "\n",
    "Next Steps\n",
    "\n",
    "    Strengthen Basics: Ensure you fully understand vectors, hash maps, and borrowing rules.\n",
    "    Algorithm Practice: Implement common algorithms in Rust to get comfortable with the syntax.\n",
    "    Solve Easy LeetCode Problems: Start with easier problems to apply the concepts in a real-world context.\n",
    "    Progress to Medium/Hard Problems: Gradually move on to more complex problems as you gain confidence.\n",
    "\n",
    "By mastering these concepts, you'll be well-prepared to tackle the top 150 LeetCode problems in Rust. If you encounter any specific concepts or problems while practicing, feel free to ask for further clarification!\n"
   ]
  }
 ],
 "metadata": {
  "kernelspec": {
   "display_name": "Rust",
   "language": "rust",
   "name": "rust"
  },
  "language_info": {
   "codemirror_mode": "rust",
   "file_extension": ".rs",
   "mimetype": "text/rust",
   "name": "rust",
   "pygment_lexer": "rust",
   "version": ""
  }
 },
 "nbformat": 4,
 "nbformat_minor": 2
}
