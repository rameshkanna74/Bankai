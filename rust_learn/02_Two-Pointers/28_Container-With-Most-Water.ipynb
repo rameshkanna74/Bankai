{
 "cells": [
  {
   "cell_type": "markdown",
   "metadata": {},
   "source": [
    "11. Container With Most Water\n",
    "\n",
    "You are given an integer array height of length n. There are n vertical lines drawn such that the two endpoints of the ith line are (i, 0) and (i, height[i]).\n",
    "\n",
    "Find two lines that together with the x-axis form a container, such that the container contains the most water.\n",
    "\n",
    "Return the maximum amount of water a container can store.\n",
    "\n",
    "Notice that you may not slant the container.\n",
    "\n",
    "Example 1:\n",
    "\n",
    "Input: height = [1,8,6,2,5,4,8,3,7]\n",
    "Output: 49\n",
    "Explanation: The above vertical lines are represented by array [1,8,6,2,5,4,8,3,7]. In this case, the max area of water (blue section) the container can contain is 49.\n",
    "\n",
    "Example 2:\n",
    "\n",
    "Input: height = [1,1]\n",
    "Output: 1\n",
    "\n",
    "Constraints:\n",
    "\n",
    "    n == height.length\n",
    "    2 <= n <= 105\n",
    "    0 <= height[i] <= 104\n",
    "\n",
    "-------------------------------------\n",
    "\n",
    "give best time and space complexity code in rust,give variables usefull name, add comments to explain the code way more clear,also add code to run example case, use below typing\n",
    "==============\n",
    "impl Solution {\n",
    "    pub fn max_area(height: Vec<i32>) -> i32 {\n",
    "        \n",
    "    }\n",
    "}"
   ]
  },
  {
   "cell_type": "markdown",
   "metadata": {},
   "source": [
    "Here's an optimized Rust solution for the problem \"Container With Most Water\" with clear variable names, detailed comments, and example usage.\n",
    "\n",
    "### Rust Code:\n",
    "\n",
    "```rust\n",
    "impl Solution {\n",
    "    pub fn max_area(height: Vec<i32>) -> i32 {\n",
    "        let mut left = 0; // Pointer to the left end of the array\n",
    "        let mut right = height.len() as i32 - 1; // Pointer to the right end of the array\n",
    "        let mut max_area = 0; // To store the maximum area found\n",
    "\n",
    "        // Use two pointers technique to calculate the area\n",
    "        while left < right {\n",
    "            // Calculate the area with the current left and right lines\n",
    "            let width = right - left;\n",
    "            let current_area = width * height[left.min(right) as usize];\n",
    "\n",
    "            // Update max_area if the current area is larger\n",
    "            max_area = max_area.max(current_area);\n",
    "\n",
    "            // Move the pointer pointing to the shorter line inward\n",
    "            if height[left as usize] < height[right as usize] {\n",
    "                left += 1;\n",
    "            } else {\n",
    "                right -= 1;\n",
    "            }\n",
    "        }\n",
    "\n",
    "        max_area\n",
    "    }\n",
    "}\n",
    "\n",
    "// Example usage\n",
    "fn main() {\n",
    "    let height1 = vec![1, 8, 6, 2, 5, 4, 8, 3, 7];\n",
    "    let result1 = Solution::max_area(height1);\n",
    "    println!(\"The maximum area of water for example 1 is: {}\", result1); // Expected output: 49\n",
    "\n",
    "    let height2 = vec![1, 1];\n",
    "    let result2 = Solution::max_area(height2);\n",
    "    println!(\"The maximum area of water for example 2 is: {}\", result2); // Expected output: 1\n",
    "}\n",
    "\n",
    "main()\n",
    "```\n",
    "\n",
    "### Explanation:\n",
    "\n",
    "1. **Two Pointers Approach**: We start with two pointers, one at the beginning (`left`) and the other at the end (`right`) of the `height` array.\n",
    "2. **Area Calculation**: The area is calculated as `width * min(height[left], height[right])`, where `width` is the distance between the two pointers.\n",
    "3. **Update Maximum Area**: We keep track of the maximum area found during the iterations.\n",
    "4. **Move Pointers**: To potentially find a larger area, we move the pointer pointing to the shorter line inward, hoping to find a taller line that could increase the area.\n",
    "5. **Repeat**: This process continues until the `left` pointer meets the `right` pointer.\n",
    "\n",
    "### Complexity:\n",
    "\n",
    "- **Time Complexity**: \\(O(n)\\) - We only traverse the array once.\n",
    "- **Space Complexity**: \\(O(1)\\) - No extra space is used other than a few variables.\n",
    "\n",
    "This approach efficiently finds the maximum area with minimal computational overhead.\n"
   ]
  },
  {
   "cell_type": "code",
   "execution_count": 2,
   "metadata": {},
   "outputs": [
    {
     "name": "stdout",
     "output_type": "stream",
     "text": [
      "The maximum area of water for example 1 is: 49\n",
      "The maximum area of water for example 2 is: 88\n"
     ]
    },
    {
     "data": {
      "text/plain": [
       "()"
      ]
     },
     "execution_count": 2,
     "metadata": {},
     "output_type": "execute_result"
    }
   ],
   "source": [
    "pub fn max_area(height: Vec<i32>) -> i32 {\n",
    "    let mut left = 0; // Pointer to the left end of the array\n",
    "    let mut right = height.len() as i32 - 1; // Pointer to the right end of the array\n",
    "    let mut max_area = 0; // To store the maximum area found\n",
    "\n",
    "    // Use two pointers technique to calculate the area\n",
    "    while left < right {\n",
    "        // Calculate the area with the current left and right lines\n",
    "        let width = right - left;\n",
    "        let current_area = width * height[left as usize].min(height[right as usize]);\n",
    "\n",
    "\n",
    "        // Update max_area if the current area is larger\n",
    "        max_area = max_area.max(current_area);\n",
    "\n",
    "        // Move the pointer pointing to the shorter line inward\n",
    "        if height[left as usize] < height[right as usize] {\n",
    "            left += 1;\n",
    "        } else {\n",
    "            right -= 1;\n",
    "        }\n",
    "    }\n",
    "\n",
    "    max_area\n",
    "}\n",
    "\n",
    "// Example usage\n",
    "fn main() {\n",
    "    let height1 = vec![1, 8, 6, 2, 5, 4, 8, 3, 7];\n",
    "    let result1 = max_area(height1);\n",
    "    println!(\"The maximum area of water for example 1 is: {}\", result1); // Expected output: 49\n",
    "\n",
    "    let height2 = vec![10, 1, 1, 6, 2, 5, 4, 8, 3, 1, 1, 8];\n",
    "    let result2 = max_area(height2);\n",
    "    println!(\"The maximum area of water for example 2 is: {}\", result2); // Expected output: 1\n",
    "}\n",
    "\n",
    "main()"
   ]
  },
  {
   "cell_type": "code",
   "execution_count": 6,
   "metadata": {},
   "outputs": [
    {
     "name": "stdout",
     "output_type": "stream",
     "text": [
      "The maximum area of water for example 1 is: 49\n",
      "The maximum area of water for example 2 is: 1\n"
     ]
    },
    {
     "data": {
      "text/plain": [
       "()"
      ]
     },
     "execution_count": 6,
     "metadata": {},
     "output_type": "execute_result"
    }
   ],
   "source": [
    "pub fn max_area(height: Vec<i32>) -> i32 {\n",
    "    let mut left = 0; // Pointer to the left end of the array\n",
    "    let mut right = height.len() as i32 - 1; // Pointer to the right end of the array\n",
    "    let mut max_area = 0; // To store the maximum area found\n",
    "\n",
    "    // Use two pointers technique to calculate the area\n",
    "    while left < right {\n",
    "        // Calculate the area with the current left and right lines\n",
    "        let width = right - left;\n",
    "        let current_area = width * height[left as usize].min(height[right as usize]);\n",
    "\n",
    "        // Update max_area if the current area is larger\n",
    "        max_area = max_area.max(current_area);\n",
    "\n",
    "        // Move the pointer pointing to the shorter line inward\n",
    "        if height[left as usize] < height[right as usize] {\n",
    "            left += 1;\n",
    "        } else {\n",
    "            right -= 1;\n",
    "        }\n",
    "    }\n",
    "\n",
    "    max_area\n",
    "}\n",
    "\n",
    "// Example usage\n",
    "fn main() {\n",
    "    let height1 = vec![1, 8, 6, 2, 5, 4, 8, 3, 7];\n",
    "    let result1 = max_area(height1);\n",
    "    println!(\"The maximum area of water for example 1 is: {}\", result1); // Expected output: 49\n",
    "\n",
    "    let height2 = vec![1, 1];\n",
    "    let result2 = max_area(height2);\n",
    "    println!(\"The maximum area of water for example 2 is: {}\", result2); // Expected output: 1\n",
    "}\n",
    "\n",
    "main()"
   ]
  },
  {
   "cell_type": "code",
   "execution_count": 9,
   "metadata": {},
   "outputs": [
    {
     "name": "stdout",
     "output_type": "stream",
     "text": [
      "The maximum area of water for example 1 is: 49\n",
      "The maximum area of water for example 2 is: 1\n"
     ]
    },
    {
     "data": {
      "text/plain": [
       "()"
      ]
     },
     "execution_count": 9,
     "metadata": {},
     "output_type": "execute_result"
    }
   ],
   "source": [
    "fn max_area(height: Vec<i32>) -> i32 {\n",
    "    let mut left = 0;\n",
    "    let mut right = height.len() as i32 - 1;\n",
    "    let mut max_area = 0;\n",
    "\n",
    "    while left < right{\n",
    "        let width = right - left;\n",
    "        let current_area = width * height[left as usize].min(height[right as usize]);\n",
    "\n",
    "        max_area = max_area.max(current_area);\n",
    "\n",
    "        if height[left as usize]<height[right as usize]{\n",
    "            left += 1;\n",
    "        } else {\n",
    "            right -= 1;   \n",
    "        }\n",
    "    }\n",
    "    max_area as i32\n",
    "}\n",
    "\n",
    "\n",
    "fn main() {\n",
    "    let height1 = vec![1, 8, 6, 2, 5, 4, 8, 3, 7];\n",
    "    let result1 = max_area(height1);\n",
    "    println!(\"The maximum area of water for example 1 is: {}\", result1); // Expected output: 49\n",
    "\n",
    "    let height2 = vec![1, 1];\n",
    "    let result2 = max_area(height2);\n",
    "    println!(\"The maximum area of water for example 2 is: {}\", result2); // Expected output: 1\n",
    "}\n",
    "\n",
    "main()"
   ]
  },
  {
   "cell_type": "code",
   "execution_count": null,
   "metadata": {},
   "outputs": [],
   "source": []
  }
 ],
 "metadata": {
  "kernelspec": {
   "display_name": "Rust",
   "language": "rust",
   "name": "rust"
  },
  "language_info": {
   "codemirror_mode": "rust",
   "file_extension": ".rs",
   "mimetype": "text/rust",
   "name": "rust",
   "pygment_lexer": "rust",
   "version": ""
  }
 },
 "nbformat": 4,
 "nbformat_minor": 2
}
