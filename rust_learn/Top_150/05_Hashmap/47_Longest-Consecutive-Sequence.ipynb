{
 "cells": [
  {
   "cell_type": "markdown",
   "metadata": {},
   "source": [
    "128. Longest Consecutive Sequence\n",
    "     Medium\n",
    "     Topics\n",
    "     Companies\n",
    "\n",
    "Given an unsorted array of integers nums, return the length of the longest consecutive elements sequence.\n",
    "\n",
    "You must write an algorithm that runs in O(n) time.\n",
    "\n",
    "Example 1:\n",
    "\n",
    "Input: nums = [100,4,200,1,3,2]\n",
    "Output: 4\n",
    "Explanation: The longest consecutive elements sequence is [1, 2, 3, 4]. Therefore its length is 4.\n",
    "\n",
    "Example 2:\n",
    "\n",
    "Input: nums = [0,3,7,2,5,8,4,6,0,1]\n",
    "Output: 9\n",
    "\n",
    "Constraints:\n",
    "\n",
    "    0 <= nums.length <= 105\n",
    "    -109 <= nums[i] <= 109\n",
    "\n",
    "---\n",
    "\n",
    "give best time and space complexity code in rust,give variables usefull name, add comments to explain the code way more clear,also add code to run example case, use below typing\n",
    "\n",
    "---\n",
    "\n",
    "impl Solution {\n",
    "pub fn longest_consecutive(nums: Vec<i32>) -> i32 {\n",
    "\n",
    "    }\n",
    "}\n"
   ]
  },
  {
   "cell_type": "markdown",
   "metadata": {},
   "source": [
    "Certainly! To solve the problem of finding the longest consecutive sequence in an unsorted array with an optimal time complexity of \\(O(n)\\), we can use a `HashSet` to store the numbers for quick lookups.\n",
    "\n",
    "Here’s the Rust implementation with clear variable names, comments for better understanding, and examples:\n",
    "\n",
    "```rust\n",
    "use std::collections::HashSet;\n",
    "\n",
    "pub struct Solution;\n",
    "\n",
    "impl Solution {\n",
    "    pub fn longest_consecutive(nums: Vec<i32>) -> i32 {\n",
    "        // Use a HashSet to store the unique numbers for O(1) lookups\n",
    "        let num_set: HashSet<i32> = nums.into_iter().collect();\n",
    "        let mut longest_streak = 0;\n",
    "\n",
    "        // Iterate through each number in the set\n",
    "        for &num in &num_set {\n",
    "            // Check if it's the beginning of a sequence\n",
    "            if !num_set.contains(&(num - 1)) {\n",
    "                let mut current_num = num;\n",
    "                let mut current_streak = 1;\n",
    "\n",
    "                // Increment current number to find the length of the sequence\n",
    "                while num_set.contains(&(current_num + 1)) {\n",
    "                    current_num += 1;\n",
    "                    current_streak += 1;\n",
    "                }\n",
    "\n",
    "                // Update longest streak found\n",
    "                longest_streak = longest_streak.max(current_streak);\n",
    "            }\n",
    "        }\n",
    "\n",
    "        // Return the length of the longest consecutive sequence\n",
    "        longest_streak\n",
    "    }\n",
    "}\n",
    "\n",
    "// Example usage to test the function\n",
    "fn main() {\n",
    "    let nums1 = vec![100, 4, 200, 1, 3, 2];\n",
    "    let result1 = Solution::longest_consecutive(nums1);\n",
    "    println!(\"Longest consecutive sequence length: {}\", result1); // Output: 4\n",
    "\n",
    "    let nums2 = vec![0, 3, 7, 2, 5, 8, 4, 6, 0, 1];\n",
    "    let result2 = Solution::longest_consecutive(nums2);\n",
    "    println!(\"Longest consecutive sequence length: {}\", result2); // Output: 9\n",
    "}\n",
    "```\n",
    "\n",
    "### Explanation of the Code:\n",
    "\n",
    "1. **HashSet Initialization**: We create a `HashSet` called `num_set` to store unique integers from the input vector `nums`. This allows us to efficiently check for the existence of consecutive numbers.\n",
    "\n",
    "2. **Longest Streak Variable**: We initialize `longest_streak` to keep track of the length of the longest consecutive sequence found.\n",
    "\n",
    "3. **Iterate Through Each Number**: We loop through each number in `num_set`. For each number, we check if it’s the start of a new sequence by verifying that `num - 1` does not exist in the set.\n",
    "\n",
    "4. **Finding Consecutive Numbers**: If it’s the start of a sequence, we initialize `current_num` to the current number and `current_streak` to 1. We then check for consecutive numbers (`current_num + 1`) in a while loop, incrementing both `current_num` and `current_streak` until we can no longer find consecutive numbers.\n",
    "\n",
    "5. **Update Longest Streak**: After finding the streak for the current number, we update `longest_streak` if `current_streak` is greater.\n",
    "\n",
    "6. **Return Result**: Finally, we return `longest_streak`, which contains the length of the longest consecutive sequence.\n",
    "\n",
    "### Time and Space Complexity:\n",
    "\n",
    "- **Time Complexity**: \\(O(n)\\) because we process each number once.\n",
    "- **Space Complexity**: \\(O(n)\\) for storing numbers in the `HashSet`.\n",
    "\n",
    "This implementation should efficiently solve the problem and works well within the provided constraints. If you have any further questions or need additional examples, feel free to ask!\n"
   ]
  },
  {
   "cell_type": "code",
   "execution_count": 2,
   "metadata": {
    "vscode": {
     "languageId": "rust"
    }
   },
   "outputs": [
    {
     "name": "stdout",
     "output_type": "stream",
     "text": [
      "Longest consecutive sequence length: 4\n",
      "Longest consecutive sequence length: 9\n"
     ]
    },
    {
     "data": {
      "text/plain": [
       "()"
      ]
     },
     "execution_count": 2,
     "metadata": {},
     "output_type": "execute_result"
    }
   ],
   "source": [
    "use std::collections::HashSet;\n",
    "\n",
    "pub struct Solution;\n",
    "\n",
    "impl Solution {\n",
    "    pub fn longest_consecutive(nums: Vec<i32>) -> i32 {\n",
    "        // Use a HashSet to store the unique numbers for O(1) lookups\n",
    "        let num_set: HashSet<i32> = nums.into_iter().collect();\n",
    "        let mut longest_streak = 0;\n",
    "\n",
    "        // Iterate through each number in the set\n",
    "        for &num in &num_set {\n",
    "            // Check if it's the beginning of a sequence\n",
    "            if !num_set.contains(&(num - 1)) {\n",
    "                let mut current_num = num;\n",
    "                let mut current_streak = 1;\n",
    "\n",
    "                // Increment current number to find the length of the sequence\n",
    "                while num_set.contains(&(current_num + 1)) {\n",
    "                    current_num += 1;\n",
    "                    current_streak += 1;\n",
    "                }\n",
    "\n",
    "                // Update longest streak found\n",
    "                longest_streak = longest_streak.max(current_streak);\n",
    "            }\n",
    "        }\n",
    "\n",
    "        // Return the length of the longest consecutive sequence\n",
    "        longest_streak\n",
    "    }\n",
    "}\n",
    "\n",
    "// Example usage to test the function\n",
    "fn main() {\n",
    "    let nums1 = vec![100, 4, 200, 1, 3, 2];\n",
    "    let result1 = Solution::longest_consecutive(nums1);\n",
    "    println!(\"Longest consecutive sequence length: {}\", result1); // Output: 4\n",
    "\n",
    "    let nums2 = vec![0, 3, 7, 2, 5, 8, 4, 6, 0, 1];\n",
    "    let result2 = Solution::longest_consecutive(nums2);\n",
    "    println!(\"Longest consecutive sequence length: {}\", result2); // Output: 9\n",
    "}\n",
    "\n",
    "main()"
   ]
  },
  {
   "cell_type": "code",
   "execution_count": null,
   "metadata": {
    "vscode": {
     "languageId": "rust"
    }
   },
   "outputs": [],
   "source": []
  },
  {
   "cell_type": "code",
   "execution_count": null,
   "metadata": {
    "vscode": {
     "languageId": "rust"
    }
   },
   "outputs": [],
   "source": []
  }
 ],
 "metadata": {
  "kernelspec": {
   "display_name": "Rust",
   "language": "rust",
   "name": "rust"
  },
  "language_info": {
   "codemirror_mode": "rust",
   "file_extension": ".rs",
   "mimetype": "text/rust",
   "name": "Rust",
   "pygment_lexer": "rust",
   "version": ""
  }
 },
 "nbformat": 4,
 "nbformat_minor": 2
}
