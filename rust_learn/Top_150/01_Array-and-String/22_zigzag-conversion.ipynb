{
 "cells": [
  {
   "cell_type": "markdown",
   "metadata": {},
   "source": [
    "6. Zigzag Conversion\n",
    "\n",
    "The string \"PAYPALISHIRING\" is written in a zigzag pattern on a given number of rows like this: (you may want to display this pattern in a fixed font for better legibility)\n",
    "\n",
    "P A H N\n",
    "A P L S I I G\n",
    "Y I R\n",
    "\n",
    "And then read line by line: \"PAHNAPLSIIGYIR\"\n",
    "\n",
    "Write the code that will take a string and make this conversion given a number of rows:\n",
    "\n",
    "string convert(string s, int numRows);\n",
    "\n",
    "Example 1:\n",
    "\n",
    "Input: s = \"PAYPALISHIRING\", numRows = 3\n",
    "Output: \"PAHNAPLSIIGYIR\"\n",
    "\n",
    "Example 2:\n",
    "\n",
    "Input: s = \"PAYPALISHIRING\", numRows = 4\n",
    "Output: \"PINALSIGYAHRPI\"\n",
    "Explanation:\n",
    "P I N\n",
    "A L S I G\n",
    "Y A H R\n",
    "P I\n",
    "\n",
    "Example 3:\n",
    "\n",
    "Input: s = \"A\", numRows = 1\n",
    "Output: \"A\"\n",
    "\n",
    "Constraints:\n",
    "\n",
    "    1 <= s.length <= 1000\n",
    "    s consists of English letters (lower-case and upper-case), ',' and '.'.\n",
    "    1 <= numRows <= 1000\n",
    "-------------------------------------\n",
    "\n",
    "give best time and space complexity code in rust,give variables usefull name, add comments to explain the code way more clear,also add code to run example case, use below typing\n",
    "==============\n",
    "impl Solution {\n",
    "    pub fn convert(s: String, num_rows: i32) -> String {\n",
    "        \n",
    "    }\n",
    "}"
   ]
  },
  {
   "cell_type": "markdown",
   "metadata": {},
   "source": [
    "Here is a Rust solution for the \"Zigzag Conversion\" problem with detailed comments, useful variable names, and example case execution:\n",
    "\n",
    "```rust\n",
    "impl Solution {\n",
    "    pub fn convert(s: String, num_rows: i32) -> String {\n",
    "        // Edge case: If num_rows is 1, the zigzag conversion is just the original string\n",
    "        if num_rows == 1 {\n",
    "            return s;\n",
    "        }\n",
    "\n",
    "        // Create a vector of strings to hold each row of the zigzag pattern\n",
    "        let mut rows = vec![String::new(); num_rows as usize];\n",
    "\n",
    "        // Initialize variables for the current row and direction of movement (down or up)\n",
    "        let mut current_row = 0;\n",
    "        let mut going_down = false;\n",
    "\n",
    "        // Iterate over each character in the input string\n",
    "        for c in s.chars() {\n",
    "            // Append the current character to the appropriate row\n",
    "            rows[current_row].push(c);\n",
    "\n",
    "            // Change direction if we hit the top or bottom row\n",
    "            if current_row == 0 || current_row == num_rows as usize - 1 {\n",
    "                going_down = !going_down;\n",
    "            }\n",
    "\n",
    "            // Move to the next row, depending on the current direction\n",
    "            if going_down {\n",
    "                current_row += 1;\n",
    "            } else {\n",
    "                current_row -= 1;\n",
    "            }\n",
    "        }\n",
    "\n",
    "        // Concatenate all rows to form the final zigzagged string\n",
    "        rows.concat()\n",
    "    }\n",
    "}\n",
    "\n",
    "fn main() {\n",
    "    // Example 1\n",
    "    let s1 = String::from(\"PAYPALISHIRING\");\n",
    "    let num_rows1 = 3;\n",
    "    println!(\"Output: {}\", Solution::convert(s1, num_rows1)); // Expected: \"PAHNAPLSIIGYIR\"\n",
    "\n",
    "    // Example 2\n",
    "    let s2 = String::from(\"PAYPALISHIRING\");\n",
    "    let num_rows2 = 4;\n",
    "    println!(\"Output: {}\", Solution::convert(s2, num_rows2)); // Expected: \"PINALSIGYAHRPI\"\n",
    "\n",
    "    // Example 3\n",
    "    let s3 = String::from(\"A\");\n",
    "    let num_rows3 = 1;\n",
    "    println!(\"Output: {}\", Solution::convert(s3, num_rows3)); // Expected: \"A\"\n",
    "}\n",
    "```\n",
    "\n",
    "### Explanation:\n",
    "\n",
    "1. **Edge Case Handling**:\n",
    "\n",
    "   - If `num_rows` is 1, the input string remains unchanged because there’s no zigzag pattern possible.\n",
    "\n",
    "2. **Row Management**:\n",
    "\n",
    "   - A vector of strings `rows` is used to collect characters for each row in the zigzag pattern.\n",
    "   - `current_row` keeps track of the current row.\n",
    "   - `going_down` is a boolean that determines the direction of movement. It toggles between moving down and up as we traverse the zigzag.\n",
    "\n",
    "3. **Iteration and Row Filling**:\n",
    "\n",
    "   - As we iterate over the characters in the string, we append each character to the appropriate row.\n",
    "   - We change direction whenever we reach the topmost or bottommost row.\n",
    "\n",
    "4. **Final String Construction**:\n",
    "   - Finally, all rows are concatenated to form the zigzagged string.\n",
    "\n",
    "### Time and Space Complexity:\n",
    "\n",
    "- **Time Complexity**: O(n), where n is the length of the string. We iterate through the string once.\n",
    "- **Space Complexity**: O(n), where n is the length of the string, used for storing the rows.\n",
    "\n",
    "This solution is efficient and clear, making it suitable for handling the constraints of the problem.\n"
   ]
  },
  {
   "cell_type": "code",
   "execution_count": 2,
   "metadata": {
    "vscode": {
     "languageId": "rust"
    }
   },
   "outputs": [
    {
     "name": "stdout",
     "output_type": "stream",
     "text": [
      "Output: PAHNAPLSIIGYIR\n",
      "Output: PINALSIGYAHRPI\n",
      "Output: A\n"
     ]
    },
    {
     "data": {
      "text/plain": [
       "()"
      ]
     },
     "execution_count": 2,
     "metadata": {},
     "output_type": "execute_result"
    }
   ],
   "source": [
    "pub fn convert(s: String, num_rows: i32) -> String {\n",
    "    // Edge case: If num_rows is 1, the zigzag conversion is just the original string\n",
    "    if num_rows == 1 {\n",
    "        return s;\n",
    "    }\n",
    "\n",
    "    // Create a vector of strings to hold each row of the zigzag pattern\n",
    "    let mut rows = vec![String::new(); num_rows as usize];\n",
    "    \n",
    "    // Initialize variables for the current row and direction of movement (down or up)\n",
    "    let mut current_row = 0;\n",
    "    let mut going_down = false;\n",
    "\n",
    "    // Iterate over each character in the input string\n",
    "    for c in s.chars() {\n",
    "        // Append the current character to the appropriate row\n",
    "        rows[current_row].push(c);\n",
    "        \n",
    "        // Change direction if we hit the top or bottom row\n",
    "        if current_row == 0 || current_row == num_rows as usize - 1 {\n",
    "            going_down = !going_down;\n",
    "        }\n",
    "        \n",
    "        // Move to the next row, depending on the current direction\n",
    "        if going_down {\n",
    "            current_row += 1;\n",
    "        } else {\n",
    "            current_row -= 1;\n",
    "        }\n",
    "    }\n",
    "\n",
    "    // Concatenate all rows to form the final zigzagged string\n",
    "    rows.concat()\n",
    "}\n",
    "\n",
    "\n",
    "fn main() {\n",
    "    // Example 1\n",
    "    let s1 = String::from(\"PAYPALISHIRING\");\n",
    "    let num_rows1 = 3;\n",
    "    println!(\"Output: {}\", convert(s1, num_rows1)); // Expected: \"PAHNAPLSIIGYIR\"\n",
    "\n",
    "    // Example 2\n",
    "    let s2 = String::from(\"PAYPALISHIRING\");\n",
    "    let num_rows2 = 4;\n",
    "    println!(\"Output: {}\", convert(s2, num_rows2)); // Expected: \"PINALSIGYAHRPI\"\n",
    "\n",
    "    // Example 3\n",
    "    let s3 = String::from(\"A\");\n",
    "    let num_rows3 = 1;\n",
    "    println!(\"Output: {}\", convert(s3, num_rows3)); // Expected: \"A\"\n",
    "}\n",
    "\n",
    "main()"
   ]
  },
  {
   "cell_type": "code",
   "execution_count": 2,
   "metadata": {
    "vscode": {
     "languageId": "rust"
    }
   },
   "outputs": [
    {
     "name": "stdout",
     "output_type": "stream",
     "text": [
      "Output: PAHNAPLSIIGYIR\n",
      "Output: PINALSIGYAHRPI\n",
      "Output: A\n"
     ]
    },
    {
     "data": {
      "text/plain": [
       "()"
      ]
     },
     "execution_count": 2,
     "metadata": {},
     "output_type": "execute_result"
    }
   ],
   "source": [
    "pub fn convert(s: String, num_rows: i32) -> String {\n",
    "    if num_rows == 1 {\n",
    "        return s;\n",
    "    }\n",
    "\n",
    "    // Create a vector of strings to hold each row of the zigzag pattern\n",
    "    let mut rows = vec![String::new(); num_rows as usize];\n",
    "    \n",
    "    // Initialize variables for the current row and direction of movement (down or up)\n",
    "    let mut current_row = 0;\n",
    "    let mut going_down = false;\n",
    "\n",
    "    // Iterate over each character in the input string\n",
    "    for c in s.chars() {\n",
    "        // Append the current character to the appropriate row\n",
    "        rows[current_row].push(c);\n",
    "        \n",
    "        // Change direction if we hit the top or bottom row\n",
    "        if current_row == 0 || current_row == num_rows as usize - 1 {\n",
    "            going_down = !going_down;\n",
    "        }\n",
    "        \n",
    "        // Move to the next row, depending on the current direction\n",
    "        if going_down {\n",
    "            current_row += 1;\n",
    "        } else {\n",
    "            current_row -= 1;\n",
    "        }\n",
    "    }\n",
    "\n",
    "    // Concatenate all rows to form the final zigzagged string\n",
    "    rows.concat()\n",
    "}\n",
    "\n",
    "fn main() {\n",
    "    // Example 1\n",
    "    let s1 = String::from(\"PAYPALISHIRING\");\n",
    "    let num_rows1 = 3;\n",
    "    println!(\"Output: {}\", convert(s1, num_rows1)); // Expected: \"PAHNAPLSIIGYIR\"\n",
    "\n",
    "    // Example 2\n",
    "    let s2 = String::from(\"PAYPALISHIRING\");\n",
    "    let num_rows2 = 4;\n",
    "    println!(\"Output: {}\", convert(s2, num_rows2)); // Expected: \"PINALSIGYAHRPI\"\n",
    "\n",
    "    // Example 3\n",
    "    let s3 = String::from(\"A\");\n",
    "    let num_rows3 = 1;\n",
    "    println!(\"Output: {}\", convert(s3, num_rows3)); // Expected: \"A\"\n",
    "}\n",
    "\n",
    "main()"
   ]
  },
  {
   "cell_type": "code",
   "execution_count": 7,
   "metadata": {
    "vscode": {
     "languageId": "rust"
    }
   },
   "outputs": [
    {
     "name": "stdout",
     "output_type": "stream",
     "text": [
      "Output: PAHNAPLSIIGYIR\n",
      "Output: PINALSIGYAHRPI\n",
      "Output: A\n"
     ]
    },
    {
     "data": {
      "text/plain": [
       "()"
      ]
     },
     "execution_count": 7,
     "metadata": {},
     "output_type": "execute_result"
    }
   ],
   "source": [
    "fn k_convert(s: String, num_rows: i32) -> String {\n",
    "    if num_rows == 1 {\n",
    "        return s;\n",
    "    }\n",
    "\n",
    "    let mut rows = vec![String::new(); num_rows as usize];\n",
    "    let mut current_row = 0;\n",
    "    let mut going_down = false;\n",
    "    for c in s.chars() {\n",
    "        rows[current_row].push(c);\n",
    "\n",
    "        if current_row == 0 || current_row == num_rows as usize - 1{\n",
    "            going_down = !going_down;\n",
    "        }\n",
    "\n",
    "        if going_down {\n",
    "            current_row += 1;\n",
    "        } else {\n",
    "            current_row -= 1;   \n",
    "        }\n",
    "        \n",
    "    }\n",
    "    rows.concat()\n",
    "}\n",
    "\n",
    "fn main() {\n",
    "    // Example 1\n",
    "    let s1 = String::from(\"PAYPALISHIRING\");\n",
    "    let num_rows1 = 3;\n",
    "    println!(\"Output: {}\", k_convert(s1, num_rows1)); // Expected: \"PAHNAPLSIIGYIR\"\n",
    "\n",
    "    // Example 2\n",
    "    let s2 = String::from(\"PAYPALISHIRING\");\n",
    "    let num_rows2 = 4;\n",
    "    println!(\"Output: {}\", k_convert(s2, num_rows2)); // Expected: \"PINALSIGYAHRPI\"\n",
    "\n",
    "    // Example 3\n",
    "    let s3 = String::from(\"A\");\n",
    "    let num_rows3 = 1;\n",
    "    println!(\"Output: {}\", k_convert(s3, num_rows3)); // Expected: \"A\"\n",
    "}\n",
    "\n",
    "main()"
   ]
  },
  {
   "cell_type": "code",
   "execution_count": 9,
   "metadata": {
    "vscode": {
     "languageId": "rust"
    }
   },
   "outputs": [
    {
     "name": "stdout",
     "output_type": "stream",
     "text": [
      "Output: PAHNAPLSIIGYIR\n",
      "Output: PINALSIGYAHRPI\n",
      "Output: A\n"
     ]
    },
    {
     "data": {
      "text/plain": [
       "()"
      ]
     },
     "execution_count": 9,
     "metadata": {},
     "output_type": "execute_result"
    }
   ],
   "source": [
    "pub fn r_convert(s: String, num_rows: i32) -> String {\n",
    "    if num_rows == 1 {\n",
    "        return s;\n",
    "    }\n",
    "    let mut rows = vec![String::new(); num_rows as usize];\n",
    "    let mut current_row = 0;\n",
    "    let mut going_down = false;\n",
    "\n",
    "    for c in s.chars() {\n",
    "        rows[current_row].push(c);\n",
    "\n",
    "        if current_row == 0 || current_row == num_rows as usize - 1 {\n",
    "            going_down = !going_down;\n",
    "        }\n",
    "        if going_down {\n",
    "            current_row += 1;\n",
    "        } else {\n",
    "            current_row -= 1;\n",
    "        }\n",
    "    }\n",
    "    rows.concat()\n",
    "}\n",
    "\n",
    "fn main() {\n",
    "    // Example 1\n",
    "    let s1 = String::from(\"PAYPALISHIRING\");\n",
    "    let num_rows1 = 3;\n",
    "    println!(\"Output: {}\", r_convert(s1, num_rows1)); // Expected: \"PAHNAPLSIIGYIR\"\n",
    "\n",
    "    // Example 2\n",
    "    let s2 = String::from(\"PAYPALISHIRING\");\n",
    "    let num_rows2 = 4;\n",
    "    println!(\"Output: {}\", r_convert(s2, num_rows2)); // Expected: \"PINALSIGYAHRPI\"\n",
    "\n",
    "    // Example 3\n",
    "    let s3 = String::from(\"A\");\n",
    "    let num_rows3 = 1;\n",
    "    println!(\"Output: {}\", r_convert(s3, num_rows3)); // Expected: \"A\"\n",
    "}\n",
    "\n",
    "main()"
   ]
  },
  {
   "cell_type": "markdown",
   "metadata": {},
   "source": [
    "```py\n",
    "class Solution:\n",
    "    def convert(self, s: str, numRows: int) -> str:\n",
    "        if numRows == 1 or numRows >= len(s):\n",
    "            return s\n",
    "\n",
    "        idx, d = 0, 1\n",
    "        rows = [[] for _ in range(numRows)]\n",
    "\n",
    "        for char in s:\n",
    "            rows[idx].append(char)\n",
    "            if idx == 0:\n",
    "                d = 1\n",
    "            elif idx == numRows - 1:\n",
    "                d = -1\n",
    "            idx += d\n",
    "\n",
    "        for i in range(numRows):\n",
    "            rows[i] = ''.join(rows[i])\n",
    "\n",
    "        return ''.join(rows)   \n",
    "```"
   ]
  },
  {
   "cell_type": "code",
   "execution_count": null,
   "metadata": {
    "vscode": {
     "languageId": "rust"
    }
   },
   "outputs": [],
   "source": []
  }
 ],
 "metadata": {
  "kernelspec": {
   "display_name": "Rust",
   "language": "rust",
   "name": "rust"
  },
  "language_info": {
   "codemirror_mode": "rust",
   "file_extension": ".rs",
   "mimetype": "text/rust",
   "name": "Rust",
   "pygment_lexer": "rust",
   "version": ""
  }
 },
 "nbformat": 4,
 "nbformat_minor": 2
}
