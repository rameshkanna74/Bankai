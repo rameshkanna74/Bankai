{
 "cells": [
  {
   "cell_type": "markdown",
   "metadata": {},
   "source": [
    "151. Reverse Words in a String\n",
    "\n",
    "Given an input string s, reverse the order of the words.\n",
    "\n",
    "A word is defined as a sequence of non-space characters. The words in s will be separated by at least one space.\n",
    "\n",
    "Return a string of the words in reverse order concatenated by a single space.\n",
    "\n",
    "Note that s may contain leading or trailing spaces or multiple spaces between two words. The returned string should only have a single space separating the words. Do not include any extra spaces.\n",
    "\n",
    "Example 1:\n",
    "\n",
    "Input: s = \"the sky is blue\"\n",
    "Output: \"blue is sky the\"\n",
    "\n",
    "Example 2:\n",
    "\n",
    "Input: s = \" hello world \"\n",
    "Output: \"world hello\"\n",
    "Explanation: Your reversed string should not contain leading or trailing spaces.\n",
    "\n",
    "Example 3:\n",
    "\n",
    "Input: s = \"a good example\"\n",
    "Output: \"example good a\"\n",
    "Explanation: You need to reduce multiple spaces between two words to a single space in the reversed string.\n",
    "\n",
    "Constraints:\n",
    "\n",
    "    1 <= s.length <= 104\n",
    "    s contains English letters (upper-case and lower-case), digits, and spaces ' '.\n",
    "    There is at least one word in s.\n",
    "\n",
    "Follow-up: If the string data type is mutable in your language, can you solve it in-place with O(1) extra space?\n",
    "-------------------------------------\n",
    "\n",
    "give best time and space complexity code in rust,give variables usefull name, add comments to explain the code way more clear,also add code to run example case, use below typing\n",
    "==============\n",
    "impl Solution {\n",
    "    pub fn reverse_words(s: String) -> String {\n",
    "        \n",
    "    }\n",
    "}"
   ]
  },
  {
   "cell_type": "markdown",
   "metadata": {},
   "source": [
    "Here is a Rust solution for the problem \"Reverse Words in a String\" with detailed comments, useful variable names, and an example case execution:\n",
    "\n",
    "```rust\n",
    "impl Solution {\n",
    "    pub fn reverse_words(s: String) -> String {\n",
    "        // Split the string by whitespace, filtering out any empty strings\n",
    "        let words: Vec<&str> = s.split_whitespace().collect();\n",
    "        \n",
    "        // Reverse the order of the words\n",
    "        let mut reversed_words = words.into_iter().rev().collect::<Vec<&str>>();\n",
    "        \n",
    "        // Join the reversed words with a single space\n",
    "        let result = reversed_words.join(\" \");\n",
    "        \n",
    "        result\n",
    "    }\n",
    "}\n",
    "\n",
    "fn main() {\n",
    "    // Example 1\n",
    "    let s1 = String::from(\"the sky is blue\");\n",
    "    println!(\"Output: {}\", Solution::reverse_words(s1)); // Expected: \"blue is sky the\"\n",
    "\n",
    "    // Example 2\n",
    "    let s2 = String::from(\"  hello world  \");\n",
    "    println!(\"Output: {}\", Solution::reverse_words(s2)); // Expected: \"world hello\"\n",
    "\n",
    "    // Example 3\n",
    "    let s3 = String::from(\"a good   example\");\n",
    "    println!(\"Output: {}\", Solution::reverse_words(s3)); // Expected: \"example good a\"\n",
    "}\n",
    "```\n",
    "\n",
    "### Explanation:\n",
    "1. **Splitting the String**:\n",
    "   - The `split_whitespace()` method splits the input string `s` by whitespace, automatically handling multiple spaces and removing any leading or trailing spaces.\n",
    "   \n",
    "2. **Reversing the Words**:\n",
    "   - The `rev()` method is used to reverse the iterator of words.\n",
    "   \n",
    "3. **Joining the Words**:\n",
    "   - The `join(\" \")` method concatenates the reversed words with a single space between them.\n",
    "\n",
    "### Time and Space Complexity:\n",
    "- **Time Complexity**: O(n), where n is the length of the string. We traverse the string once to split and once more to reverse and join.\n",
    "- **Space Complexity**: O(n), where n is the length of the string, used for storing the words and the result string.\n",
    "\n",
    "This solution efficiently handles the problem requirements and runs the example cases to demonstrate correctness."
   ]
  },
  {
   "cell_type": "code",
   "execution_count": 11,
   "metadata": {},
   "outputs": [
    {
     "name": "stdout",
     "output_type": "stream",
     "text": [
      "Output: blue is sky the\n"
     ]
    },
    {
     "data": {
      "text/plain": [
       "()"
      ]
     },
     "execution_count": 11,
     "metadata": {},
     "output_type": "execute_result"
    }
   ],
   "source": [
    "pub fn reverse_words(s: String) -> String {\n",
    "    // Split the string by whitespace, filtering out any empty strings\n",
    "    let words: Vec<&str> = s.split_whitespace().collect();\n",
    "\n",
    "    // Reverse the order of the words\n",
    "    let mut reversed_words = words.into_iter().rev().collect::<Vec<&str>>();\n",
    "    \n",
    "    // Join the reversed words with a single space\n",
    "    let result = reversed_words.join(\" \");\n",
    "    \n",
    "    result\n",
    "}\n",
    "\n",
    "fn main() {\n",
    "    // Example 1\n",
    "    let s1 = String::from(\"the sky is blue\");\n",
    "    println!(\"Output: {}\", reverse_words(s1)); // Expected: \"blue is sky the\"\n",
    "\n",
    "    // Example 2\n",
    "    //let s2 = String::from(\"  hello world  \");\n",
    "    //println!(\"Output: {}\", reverse_words(s2)); // Expected: \"world hello\"\n",
    "\n",
    "    // Example 3\n",
    "    //let s3 = String::from(\"a good   example\");\n",
    "    //println!(\"Output: {}\", reverse_words(s3)); // Expected: \"example good a\"\n",
    "}\n",
    "\n",
    "main()"
   ]
  },
  {
   "cell_type": "code",
   "execution_count": 12,
   "metadata": {},
   "outputs": [
    {
     "name": "stdout",
     "output_type": "stream",
     "text": [
      "Output: blue is sky the\n",
      "Output: world hello\n",
      "Output: example good a\n"
     ]
    },
    {
     "data": {
      "text/plain": [
       "()"
      ]
     },
     "execution_count": 12,
     "metadata": {},
     "output_type": "execute_result"
    }
   ],
   "source": [
    "pub fn reverse_words_new(s: String) -> String {\n",
    "    let word: Vec<&str> = s.split_whitespace().collect();\n",
    "    let mut reversed_words = word.into_iter().rev().collect::<Vec<&str>>();\n",
    "    let result = reversed_words.join(\" \");\n",
    "\n",
    "    result\n",
    "}\n",
    "\n",
    "fn main() {\n",
    "    // Example 1\n",
    "    let s1 = String::from(\"the sky is blue\");\n",
    "    println!(\"Output: {}\", reverse_words(s1)); // Expected: \"blue is sky the\"\n",
    "\n",
    "    // Example 2\n",
    "    let s2 = String::from(\"  hello world  \");\n",
    "    println!(\"Output: {}\", reverse_words(s2)); // Expected: \"world hello\"\n",
    "\n",
    "    // Example 3\n",
    "    let s3 = String::from(\"a good   example\");\n",
    "    println!(\"Output: {}\", reverse_words(s3)); // Expected: \"example good a\"\n",
    "}\n",
    "\n",
    "main()"
   ]
  },
  {
   "cell_type": "code",
   "execution_count": 13,
   "metadata": {},
   "outputs": [
    {
     "name": "stdout",
     "output_type": "stream",
     "text": [
      "Output: blue is sky the\n",
      "Output: world hello\n",
      "Output: example good a\n"
     ]
    },
    {
     "data": {
      "text/plain": [
       "()"
      ]
     },
     "execution_count": 13,
     "metadata": {},
     "output_type": "execute_result"
    }
   ],
   "source": [
    "pub fn reverse_words(s: String) -> String {\n",
    "    // Split the string by whitespace, reverse the order of words,\n",
    "    // collect them into a vector, and then join them into a single string with a space separator\n",
    "    s.split_whitespace().rev().collect::<Vec<&str>>().join(\" \")\n",
    "}\n",
    "\n",
    "fn main() {\n",
    "    // Example 1\n",
    "    let s1 = String::from(\"the sky is blue\");\n",
    "    println!(\"Output: {}\", reverse_words(s1)); // Expected: \"blue is sky the\"\n",
    "\n",
    "    // Example 2\n",
    "    let s2 = String::from(\"  hello world  \");\n",
    "    println!(\"Output: {}\", reverse_words(s2)); // Expected: \"world hello\"\n",
    "\n",
    "    // Example 3\n",
    "    let s3 = String::from(\"a good   example\");\n",
    "    println!(\"Output: {}\", reverse_words(s3)); // Expected: \"example good a\"\n",
    "}\n",
    "\n",
    "main()"
   ]
  },
  {
   "cell_type": "markdown",
   "metadata": {},
   "source": [
    "```py\n",
    "class Solution:\n",
    "    def reverseWords(self, s: str) -> str:\n",
    "        words = s.split()\n",
    "        res = []\n",
    "\n",
    "        for i in range(len(words) - 1, -1, -1):\n",
    "            res.append(words[i])\n",
    "            if i != 0:\n",
    "                res.append(\" \")\n",
    "\n",
    "        return \"\".join(res)\n",
    "```"
   ]
  },
  {
   "cell_type": "code",
   "execution_count": null,
   "metadata": {},
   "outputs": [],
   "source": []
  }
 ],
 "metadata": {
  "kernelspec": {
   "display_name": "Rust",
   "language": "rust",
   "name": "rust"
  },
  "language_info": {
   "codemirror_mode": "rust",
   "file_extension": ".rs",
   "mimetype": "text/rust",
   "name": "rust",
   "pygment_lexer": "rust",
   "version": ""
  }
 },
 "nbformat": 4,
 "nbformat_minor": 2
}
