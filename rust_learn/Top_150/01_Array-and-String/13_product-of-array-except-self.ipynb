{
 "cells": [
  {
   "cell_type": "markdown",
   "metadata": {},
   "source": [
    "238. Product of Array Except Self\n",
    "\n",
    "Given an integer array nums, return an array answer such that answer[i] is equal to the product of all the elements of nums except nums[i].\n",
    "\n",
    "The product of any prefix or suffix of nums is guaranteed to fit in a 32-bit integer.\n",
    "\n",
    "You must write an algorithm that runs in O(n) time and without using the division operation.\n",
    "\n",
    "Example 1:\n",
    "\n",
    "Input: nums = [1,2,3,4]\n",
    "Output: [24,12,8,6]\n",
    "\n",
    "Example 2:\n",
    "\n",
    "Input: nums = [-1,1,0,-3,3]\n",
    "Output: [0,0,9,0,0]\n",
    "\n",
    "Constraints:\n",
    "\n",
    "    2 <= nums.length <= 105\n",
    "    -30 <= nums[i] <= 30\n",
    "    The product of any prefix or suffix of nums is guaranteed to fit in a 32-bit integer.\n",
    "\n",
    "Follow up: Can you solve the problem in O(1) extra space complexity? (The output array does not count as extra space for space complexity analysis.)\n",
    "-------------------------------------\n",
    "\n",
    "give best time and space complexity code in rust,give variables usefull name, add comments to explain the code way more clear,also add code to run example case, use below typing\n",
    "==============\n",
    "impl Solution {\n",
    "    pub fn product_except_self(nums: Vec<i32>) -> Vec<i32> {\n",
    "        \n",
    "    }\n",
    "}"
   ]
  },
  {
   "cell_type": "markdown",
   "metadata": {},
   "source": [
    "To solve the \"Product of Array Except Self\" problem with O(n) time complexity and without using the division operation, we can use a two-pass approach:\n",
    "\n",
    "1. **Forward Pass:** Compute the product of all elements to the left of each index.\n",
    "2. **Backward Pass:** Compute the product of all elements to the right of each index and multiply it with the previously computed left product.\n",
    "\n",
    "### Approach\n",
    "- **Initialize Two Arrays:** `left_products` and `right_products`. But to optimize space, we can use the result array to store intermediate values.\n",
    "- **Forward Pass:** Compute the products of all elements to the left of each index.\n",
    "- **Backward Pass:** Compute the products of all elements to the right of each index and multiply them with the values in the result array from the forward pass.\n",
    "\n",
    "### Complexity\n",
    "- **Time Complexity:** \\(O(n)\\) for both forward and backward passes.\n",
    "- **Space Complexity:** \\(O(1)\\) extra space, since the result array is used for intermediate storage, and no additional space beyond the input and output arrays is used.\n",
    "\n",
    "Here’s the Rust implementation:\n",
    "\n",
    "```rust\n",
    "impl Solution {\n",
    "    /// Returns an array where each element at index `i` is the product of all elements in the input array except the element at `i`.\n",
    "    /// \n",
    "    /// # Arguments\n",
    "    /// \n",
    "    /// * `nums` - A vector of integers.\n",
    "    /// \n",
    "    /// # Returns\n",
    "    /// \n",
    "    /// A vector where each element is the product of all elements except the one at that index.\n",
    "    pub fn product_except_self(nums: Vec<i32>) -> Vec<i32> {\n",
    "        let n = nums.len();\n",
    "        let mut result = vec![1; n];\n",
    "        \n",
    "        // Forward pass: Calculate left products\n",
    "        let mut left_product = 1;\n",
    "        for i in 0..n {\n",
    "            result[i] = left_product;\n",
    "            left_product *= nums[i];\n",
    "        }\n",
    "        \n",
    "        // Backward pass: Calculate right products and multiply with left products\n",
    "        let mut right_product = 1;\n",
    "        for i in (0..n).rev() {\n",
    "            result[i] *= right_product;\n",
    "            right_product *= nums[i];\n",
    "        }\n",
    "        \n",
    "        result\n",
    "    }\n",
    "}\n",
    "\n",
    "fn main() {\n",
    "    // Example cases\n",
    "    let nums1 = vec![1, 2, 3, 4];\n",
    "    let nums2 = vec![-1, 1, 0, -3, 3];\n",
    "    \n",
    "    println!(\"Product except self for nums1: {:?}\", Solution::product_except_self(nums1)); // Output: [24, 12, 8, 6]\n",
    "    println!(\"Product except self for nums2: {:?}\", Solution::product_except_self(nums2)); // Output: [0, 0, 9, 0, 0]\n",
    "}\n",
    "```\n",
    "\n",
    "### Key Points\n",
    "- **Forward Pass:** Computes the product of all elements to the left of each index and stores it in the result array.\n",
    "- **Backward Pass:** Computes the product of all elements to the right of each index, and multiplies it with the previously stored left product in the result array.\n",
    "\n",
    "This approach ensures that we calculate the product of all elements except the one at each index efficiently in O(n) time and O(1) extra space."
   ]
  },
  {
   "cell_type": "code",
   "execution_count": 2,
   "metadata": {
    "vscode": {
     "languageId": "rust"
    }
   },
   "outputs": [
    {
     "name": "stdout",
     "output_type": "stream",
     "text": [
      "Product except self for nums1: [24, 12, 8, 6]\n",
      "Product except self for nums2: [0, 0, 9, 0, 0]\n"
     ]
    },
    {
     "data": {
      "text/plain": [
       "()"
      ]
     },
     "execution_count": 2,
     "metadata": {},
     "output_type": "execute_result"
    }
   ],
   "source": [
    "pub struct Solution;\n",
    "\n",
    "impl Solution {\n",
    "    fn product_except_self(nums: Vec<i32>) -> Vec<i32> {\n",
    "        let n = nums.len();\n",
    "        let mut result = vec![1; n];\n",
    "        \n",
    "        // Forward pass: Calculate left products\n",
    "        let mut left_product = 1;\n",
    "        for i in 0..n {\n",
    "            result[i] = left_product;\n",
    "            left_product *= nums[i];\n",
    "        }\n",
    "        \n",
    "        // Backward pass: Calculate right products and multiply with left products\n",
    "        let mut right_product = 1;\n",
    "        for i in (0..n).rev() {\n",
    "            result[i] *= right_product;\n",
    "            right_product *= nums[i];\n",
    "        }\n",
    "        \n",
    "        result\n",
    "    }\n",
    "}\n",
    "\n",
    "fn main() {\n",
    "    // Example cases\n",
    "    let nums1 = vec![1, 2, 3, 4];\n",
    "    let nums2 = vec![-1, 1, 0, -3, 3];\n",
    "    \n",
    "    println!(\"Product except self for nums1: {:?}\", Solution::product_except_self(nums1)); // Output: [24, 12, 8, 6]\n",
    "    println!(\"Product except self for nums2: {:?}\", Solution::product_except_self(nums2)); // Output: [0, 0, 9, 0, 0]\n",
    "}\n",
    "\n",
    "main()"
   ]
  },
  {
   "cell_type": "code",
   "execution_count": null,
   "metadata": {
    "vscode": {
     "languageId": "rust"
    }
   },
   "outputs": [],
   "source": [
    "impl Solution {\n",
    "    fn product_except_self(nums: Vec<i32>) -> Vec<i32> {\n",
    "        let n = nums.len();\n",
    "        let mut result = vec![1; n];\n",
    "        \n",
    "        // Forward pass: Calculate left products\n",
    "        let mut left_product = 1;\n",
    "        for i in 0..n {\n",
    "            result[i] = left_product;\n",
    "            left_product *= nums[i];\n",
    "        }\n",
    "        \n",
    "        // Backward pass: Calculate right products and multiply with left products\n",
    "        let mut right_product = 1;\n",
    "        for i in (0..n).rev() {\n",
    "            result[i] *= right_product;\n",
    "            right_product *= nums[i];\n",
    "        }\n",
    "        \n",
    "        result\n",
    "    }\n",
    "}"
   ]
  },
  {
   "cell_type": "markdown",
   "metadata": {},
   "source": [
    "```py\n",
    "class Solution:\n",
    "    def productExceptSelf(self, nums: List[int]) -> List[int]:\n",
    "        output = [1] * len(nums)\n",
    "        \n",
    "        left = 1\n",
    "        for i in range(len(nums)):\n",
    "            output[i] *= left\n",
    "            left *= nums[i]\n",
    "        \n",
    "        right = 1\n",
    "        for i in range(len(nums) - 1, -1, -1):\n",
    "            output[i] *= right\n",
    "            right *= nums[i]\n",
    "    \n",
    "        return output        \n",
    "```"
   ]
  }
 ],
 "metadata": {
  "kernelspec": {
   "display_name": "Rust",
   "language": "rust",
   "name": "rust"
  },
  "language_info": {
   "codemirror_mode": "rust",
   "file_extension": ".rs",
   "mimetype": "text/rust",
   "name": "Rust",
   "pygment_lexer": "rust",
   "version": ""
  }
 },
 "nbformat": 4,
 "nbformat_minor": 2
}
