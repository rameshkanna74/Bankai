{
 "cells": [
  {
   "cell_type": "markdown",
   "metadata": {},
   "source": [
    "121. Best Time to Buy and Sell Stock\n",
    "\n",
    "You are given an array prices where prices[i] is the price of a given stock on the ith day.\n",
    "\n",
    "You want to maximize your profit by choosing a single day to buy one stock and choosing a different day in the future to sell that stock.\n",
    "\n",
    "Return the maximum profit you can achieve from this transaction. If you cannot achieve any profit, return 0.\n",
    "\n",
    "Example 1:\n",
    "\n",
    "Input: prices = [7,1,5,3,6,4]\n",
    "Output: 5\n",
    "Explanation: Buy on day 2 (price = 1) and sell on day 5 (price = 6), profit = 6-1 = 5.\n",
    "Note that buying on day 2 and selling on day 1 is not allowed because you must buy before you sell.\n",
    "\n",
    "Example 2:\n",
    "\n",
    "Input: prices = [7,6,4,3,1]\n",
    "Output: 0\n",
    "Explanation: In this case, no transactions are done and the max profit = 0.\n",
    "\n",
    "Constraints:\n",
    "\n",
    "    1 <= prices.length <= 105\n",
    "    0 <= prices[i] <= 104\n",
    "-------------------------------------\n",
    "\n",
    "give best time and space complexity code in rust,give variables usefull name, add comments to explain the code way more clear,also add code to run example case, use below typing\n",
    "\n",
    "==============\n",
    "\n",
    "impl Solution {\n",
    "    pub fn max_profit(prices: Vec<i32>) -> i32 {\n",
    "        \n",
    "    }\n",
    "}"
   ]
  },
  {
   "cell_type": "markdown",
   "metadata": {},
   "source": [
    "Here's the Rust implementation for the \"Best Time to Buy and Sell Stock\" problem with detailed comments and example cases:\n",
    "\n",
    "```rust\n",
    "impl Solution {\n",
    "    pub fn max_profit(prices: Vec<i32>) -> i32 {\n",
    "        // Initialize variables to store the minimum price encountered and the maximum profit\n",
    "        let mut min_price = i32::MAX;\n",
    "        let mut max_profit = 0;\n",
    "\n",
    "        // Iterate through each price in the array\n",
    "        for price in prices {\n",
    "            // Update the minimum price if the current price is lower\n",
    "            if price < min_price {\n",
    "                min_price = price;\n",
    "            }\n",
    "            // Calculate the profit if we sell at the current price\n",
    "            let profit = price - min_price;\n",
    "            // Update the maximum profit if the current profit is higher\n",
    "            if profit > max_profit {\n",
    "                max_profit = profit;\n",
    "            }\n",
    "        }\n",
    "\n",
    "        // Return the maximum profit found\n",
    "        max_profit\n",
    "    }\n",
    "}\n",
    "\n",
    "fn main() {\n",
    "    // Example 1\n",
    "    let prices1 = vec![7, 1, 5, 3, 6, 4];\n",
    "    let result1 = Solution::max_profit(prices1);\n",
    "    println!(\"Max profit for prices1: {}\", result1); // Output: 5\n",
    "\n",
    "    // Example 2\n",
    "    let prices2 = vec![7, 6, 4, 3, 1];\n",
    "    let result2 = Solution::max_profit(prices2);\n",
    "    println!(\"Max profit for prices2: {}\", result2); // Output: 0\n",
    "}\n",
    "```\n",
    "\n",
    "### Explanation:\n",
    "\n",
    "1. **Time Complexity**: The solution runs in `O(n)` time, where `n` is the length of the `prices` array. This is because we only loop through the array once.\n",
    "  \n",
    "2. **Space Complexity**: The solution uses `O(1)` extra space since only a few variables are used to store the minimum price and maximum profit.\n",
    "\n",
    "### Running Example Cases:\n",
    "\n",
    "- **Example 1**: Given prices `[7, 1, 5, 3, 6, 4]`, the function identifies that buying on day 2 (price = 1) and selling on day 5 (price = 6) results in a maximum profit of `5`.\n",
    "- **Example 2**: Given prices `[7, 6, 4, 3, 1]`, the function identifies that no transaction is profitable, so it returns `0`.\n",
    "\n",
    "This method is efficient and optimal, meeting the problem constraints with the best possible time and space complexity."
   ]
  },
  {
   "cell_type": "code",
   "execution_count": 5,
   "metadata": {
    "vscode": {
     "languageId": "rust"
    }
   },
   "outputs": [
    {
     "name": "stdout",
     "output_type": "stream",
     "text": [
      "Max profit for prices1: 5\n",
      "Max profit for prices2: 0\n"
     ]
    },
    {
     "data": {
      "text/plain": [
       "()"
      ]
     },
     "execution_count": 5,
     "metadata": {},
     "output_type": "execute_result"
    }
   ],
   "source": [
    "fn max_profit(prices: Vec<i32>) -> i32 {\n",
    "        // Initialize variables to store the minimum price encountered and the maximum profit\n",
    "        let mut min_price = i32::MAX;\n",
    "        let mut max_profit = 0;\n",
    "\n",
    "        // Iterate through each price in the array\n",
    "        for price in prices {\n",
    "            // Update the minimum price if the current price is lower\n",
    "            if price < min_price {\n",
    "                min_price = price;\n",
    "            }\n",
    "            // Calculate the profit if we sell at the current price\n",
    "            let profit = price - min_price;\n",
    "            // Update the maximum profit if the current profit is higher\n",
    "            if profit > max_profit {\n",
    "                max_profit = profit;\n",
    "            }\n",
    "        }\n",
    "\n",
    "        // Return the maximum profit found\n",
    "        max_profit\n",
    "    }\n",
    "\n",
    "fn main() {\n",
    "    // Example 1\n",
    "    let prices1 = vec![7, 1, 5, 3, 6, 4];\n",
    "    let result1 = max_profit(prices1);\n",
    "    println!(\"Max profit for prices1: {}\", result1); // Output: 5\n",
    "\n",
    "    // Example 2\n",
    "    let prices2 = vec![7, 6, 4, 3, 1];\n",
    "    let result2 = max_profit(prices2);\n",
    "    println!(\"Max profit for prices2: {}\", result2); // Output: 0\n",
    "}\n",
    "\n",
    "main()"
   ]
  },
  {
   "cell_type": "code",
   "execution_count": 4,
   "metadata": {
    "vscode": {
     "languageId": "rust"
    }
   },
   "outputs": [
    {
     "name": "stdout",
     "output_type": "stream",
     "text": [
      "Max profit for prices1: 5\n",
      "Max profit for prices2: 0\n"
     ]
    }
   ],
   "source": [
    "pub struct Solution;\n",
    "\n",
    "impl Solution{\n",
    "    fn max_profit_new(prices: Vec<i32>) -> i32 {\n",
    "        let mut min_price = i32::MAX;\n",
    "        let mut max_profit = 0;\n",
    "\n",
    "        for price in prices {\n",
    "            if price < min_price {\n",
    "                min_price = price;\n",
    "            }\n",
    "            let profit = price - min_price;\n",
    "            if profit > max_profit {\n",
    "                max_profit = profit;\n",
    "            }\n",
    "        }\n",
    "        max_profit\n",
    "    }\n",
    "}\n",
    "\n",
    "// Example 1\n",
    "let prices1:Vec<i32> = vec![7, 1, 5, 3, 6, 4];\n",
    "let result1 = Solution::max_profit_new(prices1);\n",
    "println!(\"Max profit for prices1: {}\", result1); // Output: 5\n",
    "\n",
    "// Example 2\n",
    "let prices2:Vec<i32> = vec![7, 6, 4, 3, 1];\n",
    "let result2 = Solution::max_profit_new(prices2);\n",
    "println!(\"Max profit for prices2: {}\", result2); // Output: 0"
   ]
  },
  {
   "cell_type": "code",
   "execution_count": null,
   "metadata": {
    "vscode": {
     "languageId": "rust"
    }
   },
   "outputs": [],
   "source": [
    "impl Solution{\n",
    "    fn max_profit_new(prices: Vec<i32>) -> i32 {\n",
    "        let mut min_price = i32::MAX;\n",
    "        let mut max_profit = 0;\n",
    "\n",
    "        for price in prices {\n",
    "            if price < min_price {\n",
    "                min_price = price;\n",
    "            }\n",
    "            let profit = price - min_price;\n",
    "            if profit > max_profit {\n",
    "                max_profit = profit;\n",
    "            }\n",
    "        }\n",
    "        max_profit\n",
    "    }\n",
    "}\n"
   ]
  }
 ],
 "metadata": {
  "kernelspec": {
   "display_name": "Rust",
   "language": "rust",
   "name": "rust"
  },
  "language_info": {
   "codemirror_mode": "rust",
   "file_extension": ".rs",
   "mimetype": "text/rust",
   "name": "Rust",
   "pygment_lexer": "rust",
   "version": ""
  }
 },
 "nbformat": 4,
 "nbformat_minor": 2
}
