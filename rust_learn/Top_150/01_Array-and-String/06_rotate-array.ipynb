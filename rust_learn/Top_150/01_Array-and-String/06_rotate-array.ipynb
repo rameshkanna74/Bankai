{
 "cells": [
  {
   "cell_type": "markdown",
   "metadata": {},
   "source": [
    "189. Rotate Array\n",
    "\n",
    "Given an integer array nums, rotate the array to the right by k steps, where k is non-negative.\n",
    "\n",
    "Example 1:\n",
    "\n",
    "Input: nums = [1,2,3,4,5,6,7], k = 3\n",
    "Output: [5,6,7,1,2,3,4]\n",
    "Explanation:\n",
    "rotate 1 steps to the right: [7,1,2,3,4,5,6]\n",
    "rotate 2 steps to the right: [6,7,1,2,3,4,5]\n",
    "rotate 3 steps to the right: [5,6,7,1,2,3,4]\n",
    "\n",
    "Example 2:\n",
    "\n",
    "Input: nums = [-1,-100,3,99], k = 2\n",
    "Output: [3,99,-1,-100]\n",
    "Explanation:\n",
    "rotate 1 steps to the right: [99,-1,-100,3]\n",
    "rotate 2 steps to the right: [3,99,-1,-100]\n",
    "\n",
    "Constraints:\n",
    "\n",
    "    1 <= nums.length <= 105\n",
    "    -231 <= nums[i] <= 231 - 1\n",
    "    0 <= k <= 105\n",
    "\n",
    "Follow up:\n",
    "\n",
    "    Try to come up with as many solutions as you can. There are at least three different ways to solve this problem.\n",
    "    Could you do it in-place with O(1) extra space?\n",
    "\n",
    "---------------------------\n",
    "\n",
    "give best time and space complexity code in rust,give variables usefull name, add comments to explain the code way more clear,also add code to run example case"
   ]
  },
  {
   "cell_type": "markdown",
   "metadata": {},
   "source": [
    "Here's the correct Rust code considering that `k` should be an `i32`:\n",
    "\n",
    "```rust\n",
    "fn rotate_array(nums: &mut Vec<i32>, k: i32) {\n",
    "    let n = nums.len() as i32;\n",
    "    let k = k % n; // Handle cases where k is larger than n\n",
    "\n",
    "    // Step 1: Reverse the entire array\n",
    "    nums.reverse();\n",
    "\n",
    "    // Step 2: Reverse the first k elements\n",
    "    nums[0..(k as usize)].reverse();\n",
    "\n",
    "    // Step 3: Reverse the remaining elements\n",
    "    nums[(k as usize)..].reverse();\n",
    "}\n",
    "\n",
    "fn main() {\n",
    "    // Example 1\n",
    "    let mut nums1 = vec![1, 2, 3, 4, 5, 6, 7];\n",
    "    let k1 = 3;\n",
    "    rotate_array(&mut nums1, k1);\n",
    "    println!(\"Rotated array: {:?}\", nums1); // Output: [5, 6, 7, 1, 2, 3, 4]\n",
    "\n",
    "    // Example 2\n",
    "    let mut nums2 = vec![-1, -100, 3, 99];\n",
    "    let k2 = 2;\n",
    "    rotate_array(&mut nums2, k2);\n",
    "    println!(\"Rotated array: {:?}\", nums2); // Output: [3, 99, -1, -100]\n",
    "}\n",
    "```\n",
    "\n",
    "### Explanation:\n",
    "\n",
    "- **Time Complexity**: The solution runs in `O(n)` time because each reverse operation takes linear time, and we perform three reverse operations.\n",
    "- **Space Complexity**: The solution uses `O(1)` extra space since all operations are done in-place.\n",
    "\n",
    "### Running Example Cases:\n",
    "\n",
    "- **Example 1**: The array `[1, 2, 3, 4, 5, 6, 7]` is rotated 3 steps to the right, resulting in `[5, 6, 7, 1, 2, 3, 4]`.\n",
    "- **Example 2**: The array `[-1, -100, 3, 99]` is rotated 2 steps to the right, resulting in `[3, 99, -1, -100]`.\n",
    "\n",
    "This method is optimal and meets the constraints of the problem with the best possible time and space complexity.\n"
   ]
  },
  {
   "cell_type": "code",
   "execution_count": 5,
   "metadata": {
    "vscode": {
     "languageId": "rust"
    }
   },
   "outputs": [
    {
     "name": "stdout",
     "output_type": "stream",
     "text": [
      "Rotated array: [5, 6, 7, 1, 2, 3, 4]\n",
      "Rotated array: [3, 99, -1, -100]\n"
     ]
    },
    {
     "data": {
      "text/plain": [
       "()"
      ]
     },
     "execution_count": 5,
     "metadata": {},
     "output_type": "execute_result"
    }
   ],
   "source": [
    "pub struct Solution;\n",
    "\n",
    "impl Solution {\n",
    "    pub fn rotate(nums: &mut Vec<i32>, k: i32) {\n",
    "    let n = nums.len() as i32;\n",
    "    let k = k % n;\n",
    "    nums.reverse();\n",
    "    nums[0..(k as usize)].reverse();\n",
    "    nums[(k as usize)..].reverse();\n",
    "    }\n",
    "}\n",
    "\n",
    "\n",
    "fn main() {\n",
    "    // Example 1\n",
    "    let mut nums1 = vec![1, 2, 3, 4, 5, 6, 7];\n",
    "    let k1 = 3;\n",
    "    Solution::rotate(&mut nums1, k1);\n",
    "    println!(\"Rotated array: {:?}\", nums1); // Output: [5, 6, 7, 1, 2, 3, 4]\n",
    "\n",
    "    // Example 2\n",
    "    let mut nums2 = vec![-1, -100, 3, 99];\n",
    "    let k2 = 2;\n",
    "    Solution::rotate(&mut nums2, k2);\n",
    "    println!(\"Rotated array: {:?}\", nums2); // Output: [3, 99, -1, -100]\n",
    "}\n",
    "\n",
    "main()"
   ]
  },
  {
   "cell_type": "code",
   "execution_count": null,
   "metadata": {
    "vscode": {
     "languageId": "rust"
    }
   },
   "outputs": [],
   "source": [
    "impl Solution {\n",
    "    pub fn rotate(nums: &mut Vec<i32>, k: i32) {\n",
    "    let n = nums.len() as i32;\n",
    "    let k = k % n;\n",
    "    nums.reverse();\n",
    "    nums[0..(k as usize)].reverse();\n",
    "    nums[(k as usize)..].reverse();\n",
    "    }\n",
    "}\n"
   ]
  },
  {
   "cell_type": "markdown",
   "metadata": {},
   "source": [
    "```py\n",
    "class Solution:\n",
    "    def rotate(self, nums: List[int], k: int) -> None:\n",
    "        n = len(nums)\n",
    "        k = k % n\n",
    "        rotated = [0] * n\n",
    "\n",
    "        for i in range(n):\n",
    "            rotated[(i + k) % n] = nums[i]\n",
    "        \n",
    "        for i in range(n):\n",
    "            nums[i] = rotated[i]\n",
    "```"
   ]
  }
 ],
 "metadata": {
  "kernelspec": {
   "display_name": "Rust",
   "language": "rust",
   "name": "rust"
  },
  "language_info": {
   "codemirror_mode": "rust",
   "file_extension": ".rs",
   "mimetype": "text/rust",
   "name": "Rust",
   "pygment_lexer": "rust",
   "version": ""
  }
 },
 "nbformat": 4,
 "nbformat_minor": 2
}
