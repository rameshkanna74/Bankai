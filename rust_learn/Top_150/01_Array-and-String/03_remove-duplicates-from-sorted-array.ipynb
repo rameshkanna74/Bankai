{
 "cells": [
  {
   "cell_type": "markdown",
   "metadata": {},
   "source": [
    "26. Remove Duplicates from Sorted Array\n",
    "\n",
    "Given an integer array nums sorted in non-decreasing order, remove the duplicates in-place such that each unique element appears only once. The relative order of the elements should be kept the same. Then return the number of unique elements in nums.\n",
    "\n",
    "Consider the number of unique elements of nums to be k, to get accepted, you need to do the following things:\n",
    "\n",
    "    Change the array nums such that the first k elements of nums contain the unique elements in the order they were present in nums initially. The remaining elements of nums are not important as well as the size of nums.\n",
    "    Return k.\n",
    "\n",
    "Custom Judge:\n",
    "\n",
    "The judge will test your solution with the following code:\n",
    "\n",
    "int[] nums = [...]; // Input array\n",
    "int[] expectedNums = [...]; // The expected answer with correct length\n",
    "\n",
    "int k = removeDuplicates(nums); // Calls your implementation\n",
    "\n",
    "assert k == expectedNums.length;\n",
    "for (int i = 0; i < k; i++) {\n",
    "assert nums[i] == expectedNums[i];\n",
    "}\n",
    "\n",
    "If all assertions pass, then your solution will be accepted.\n",
    "\n",
    "Example 1:\n",
    "\n",
    "Input: nums = [1,1,2]\n",
    "Output: 2, nums = [1,2,_]\n",
    "Explanation: Your function should return k = 2, with the first two elements of nums being 1 and 2 respectively.\n",
    "It does not matter what you leave beyond the returned k (hence they are underscores).\n",
    "\n",
    "Example 2:\n",
    "\n",
    "Input: nums = [0,0,1,1,1,2,2,3,3,4]\n",
    "Output: 5, nums = [0,1,2,3,4,_,_,_,_,_]\n",
    "Explanation: Your function should return k = 5, with the first five elements of nums being 0, 1, 2, 3, and 4 respectively.\n",
    "It does not matter what you leave beyond the returned k (hence they are underscores).\n",
    "\n",
    "Constraints:\n",
    "\n",
    "    1 <= nums.length <= 3 * 104\n",
    "    -100 <= nums[i] <= 100\n",
    "    nums is sorted in non-decreasing order.\n",
    "\n",
    "---\n",
    "\n",
    "give best time and space complexity code in rust,give variables usefull name, add comments to explain the code way more clear,also add code to run example case\n"
   ]
  },
  {
   "cell_type": "markdown",
   "metadata": {},
   "source": [
    "Here’s a Rust solution to remove duplicates from a sorted array in-place, ensuring each unique element appears only once. The code is optimized for time and space complexity, with detailed comments, meaningful variable names, and example case execution:\n",
    "\n",
    "```rust\n",
    "fn remove_duplicates(nums: &mut Vec<i32>) -> usize {\n",
    "    // Edge case: if the array has 1 or no elements, return its length as is\n",
    "    if nums.len() <= 1 {\n",
    "        return nums.len();\n",
    "    }\n",
    "\n",
    "    // Index to keep track of the position where the next unique element should be placed\n",
    "    let mut write_index = 1;\n",
    "\n",
    "    // Iterate over the array starting from the second element\n",
    "    for i in 1..nums.len() {\n",
    "        // If the current element is different from the last unique element\n",
    "        if nums[i] != nums[write_index - 1] {\n",
    "            nums[write_index] = nums[i]; // Place the unique element at write_index\n",
    "            write_index += 1; // Move the write_index forward\n",
    "        }\n",
    "    }\n",
    "\n",
    "    // The number of unique elements is the value of write_index\n",
    "    write_index\n",
    "}\n",
    "\n",
    "fn main() {\n",
    "    // Example 1\n",
    "    let mut nums1 = vec![1, 1, 2];\n",
    "    let k1 = remove_duplicates(&mut nums1);\n",
    "    println!(\"k = {}, Modified array: {:?}\", k1, &nums1[..k1]); // Output: k = 2, Modified array: [1, 2]\n",
    "\n",
    "    // Example 2\n",
    "    let mut nums2 = vec![0, 0, 1, 1, 1, 2, 2, 3, 3, 4];\n",
    "    let k2 = remove_duplicates(&mut nums2);\n",
    "    println!(\"k = {}, Modified array: {:?}\", k2, &nums2[..k2]); // Output: k = 5, Modified array: [0, 1, 2, 3, 4]\n",
    "}\n",
    "```\n",
    "\n",
    "### Explanation:\n",
    "\n",
    "- **Time Complexity**: The solution runs in `O(n)` time, where `n` is the length of the array. We iterate through the array once.\n",
    "- **Space Complexity**: The solution uses `O(1)` extra space because the modification is done in-place.\n",
    "\n",
    "### Steps:\n",
    "\n",
    "1. **Edge Case Handling**:\n",
    "\n",
    "   - If the array has 1 or fewer elements, it automatically satisfies the condition of having no duplicates. Return the length of the array.\n",
    "\n",
    "2. **Initialization**:\n",
    "\n",
    "   - `write_index`: This variable keeps track of where the next unique element should be placed. It starts at `1` since the first element is always unique.\n",
    "\n",
    "3. **Iteration**:\n",
    "\n",
    "   - For each element starting from the second one (`i = 1`), check if it’s different from the element at `write_index - 1`.\n",
    "   - If it is, place it at `write_index` and move `write_index` forward.\n",
    "\n",
    "4. **Final Output**: After the loop, `write_index` will be the number of unique elements in `nums`. The first `write_index` elements in `nums` will be the modified array containing unique elements.\n",
    "\n",
    "5. **Running Example Cases**: The `main()` function demonstrates the usage of the `remove_duplicates` function with example cases and prints the modified arrays and the number of unique elements (`k`).\n",
    "\n",
    "This approach efficiently removes duplicates from the sorted array while maintaining optimal time and space complexity, adhering to the problem constraints.\n"
   ]
  },
  {
   "cell_type": "code",
   "execution_count": 4,
   "metadata": {
    "vscode": {
     "languageId": "rust"
    }
   },
   "outputs": [
    {
     "name": "stdout",
     "output_type": "stream",
     "text": [
      "k = 2\n",
      "k = 5\n"
     ]
    },
    {
     "data": {
      "text/plain": [
       "()"
      ]
     },
     "execution_count": 4,
     "metadata": {},
     "output_type": "execute_result"
    }
   ],
   "source": [
    "pub fn remove_duplicates(nums: &mut Vec<i32>) -> i32 {\n",
    "    let mut write_index = 1; // Position to write the next unique element\n",
    "\n",
    "    for i in 1..nums.len() {\n",
    "        // Check if the current element is different from the previous unique element\n",
    "        if nums[i] != nums[write_index - 1] {\n",
    "            nums[write_index] = nums[i];\n",
    "            write_index += 1; // Move the write_index forward\n",
    "        }\n",
    "    }\n",
    "    \n",
    "    write_index as i32 // Return the number of unique elements\n",
    "}\n",
    "\n",
    "fn main() {\n",
    "    // Example 1\n",
    "    let mut nums1 = vec![1, 1, 2];\n",
    "    let k1 = remove_duplicates(&mut nums1);\n",
    "    println!(\"k = {}\", k1); // Output: k = 2, Modified array: [1, 2]\n",
    "\n",
    "    // Example 2\n",
    "    let mut nums2 = vec![0, 0, 1, 1, 1, 2, 2, 3, 3, 4];\n",
    "    let k2 = remove_duplicates(&mut nums2);\n",
    "    println!(\"k = {}\", k2); // Output: k = 5, Modified array: [0, 1, 2, 3, 4]\n",
    "}\n",
    "\n",
    "main()"
   ]
  },
  {
   "cell_type": "markdown",
   "metadata": {},
   "source": [
    "```Rust\n",
    "impl Solution {\n",
    "    pub fn remove_duplicates(nums: &mut Vec<i32>) -> i32 {\n",
    "        let mut write_index = 1; // Position to write the next unique element\n",
    "\n",
    "        for i in 1..nums.len() {\n",
    "            // Check if the current element is different from the previous unique element\n",
    "            if nums[i] != nums[write_index - 1] {\n",
    "                nums[write_index] = nums[i];\n",
    "                write_index += 1; // Move the write_index forward\n",
    "            }\n",
    "        }\n",
    "        \n",
    "        write_index as i32 // Return the number of unique elements\n",
    "    }\n",
    "}\n",
    "\n",
    "```\n",
    "Code submitted to leetcode"
   ]
  },
  {
   "cell_type": "code",
   "execution_count": null,
   "metadata": {
    "vscode": {
     "languageId": "rust"
    }
   },
   "outputs": [],
   "source": [
    "impl Solution {\n",
    "    pub fn remove_duplicates(nums: &mut Vec<i32>) -> i32 {\n",
    "        let mut write_index = 1; // Position to write the next unique element\n",
    "\n",
    "        for i in 1..nums.len() {\n",
    "            // Check if the current element is different from the previous unique element\n",
    "            if nums[i] != nums[write_index - 1] {\n",
    "                nums[write_index] = nums[i];\n",
    "                write_index += 1; // Move the write_index forward\n",
    "            }\n",
    "        }\n",
    "        \n",
    "        write_index as i32 // Return the number of unique elements\n",
    "    }\n",
    "}\n"
   ]
  }
 ],
 "metadata": {
  "kernelspec": {
   "display_name": "Rust",
   "language": "rust",
   "name": "rust"
  },
  "language_info": {
   "codemirror_mode": "rust",
   "file_extension": ".rs",
   "mimetype": "text/rust",
   "name": "Rust",
   "pygment_lexer": "rust",
   "version": ""
  }
 },
 "nbformat": 4,
 "nbformat_minor": 2
}
