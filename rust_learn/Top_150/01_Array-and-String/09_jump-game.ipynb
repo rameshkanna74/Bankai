{
 "cells": [
  {
   "cell_type": "markdown",
   "metadata": {},
   "source": [
    "55. Jump Game\n",
    "\n",
    "You are given an integer array nums. You are initially positioned at the array's first index, and each element in the array represents your maximum jump length at that position.\n",
    "\n",
    "Return true if you can reach the last index, or false otherwise.\n",
    "\n",
    "Example 1:\n",
    "\n",
    "Input: nums = [2,3,1,1,4]\n",
    "Output: true\n",
    "Explanation: Jump 1 step from index 0 to 1, then 3 steps to the last index.\n",
    "\n",
    "Example 2:\n",
    "\n",
    "Input: nums = [3,2,1,0,4]\n",
    "Output: false\n",
    "Explanation: You will always arrive at index 3 no matter what. Its maximum jump length is 0, which makes it impossible to reach the last index.\n",
    "\n",
    "Constraints:\n",
    "\n",
    "    1 <= nums.length <= 104\n",
    "    0 <= nums[i] <= 105\n",
    "-------------------------------------\n",
    "\n",
    "give best time and space complexity code in rust,give variables usefull name, add comments to explain the code way more clear,also add code to run example case, use below typing\n",
    "==============\n",
    "impl Solution {\n",
    "    pub fn can_jump(nums: Vec<i32>) -> bool {\n",
    "        \n",
    "    }\n",
    "}"
   ]
  },
  {
   "cell_type": "markdown",
   "metadata": {},
   "source": [
    "The issue here is that Rust's `usize` and `i32` types are not directly compatible for arithmetic operations. Specifically, the `current_index` is of type `usize`, while `*jump_length` is of type `i32`. Rust requires explicit conversion between these types.\n",
    "\n",
    "We can fix this by converting `*jump_length` from `i32` to `usize` before performing the addition. Here’s the corrected code:\n",
    "\n",
    "```rust\n",
    "impl Solution {\n",
    "    /// Determines if you can jump to the last index of the array.\n",
    "    /// \n",
    "    /// # Arguments\n",
    "    /// \n",
    "    /// * `nums` - A vector of integers where `nums[i]` represents the maximum jump length from index `i`.\n",
    "    /// \n",
    "    /// # Returns\n",
    "    /// \n",
    "    /// `true` if you can reach the last index, otherwise `false`.\n",
    "    pub fn can_jump(nums: Vec<i32>) -> bool {\n",
    "        // Initialize the maximum reachable index to 0\n",
    "        let mut max_reachable: usize = 0;\n",
    "        \n",
    "        // Iterate through each index in the array\n",
    "        for (current_index, &jump_length) in nums.iter().enumerate() {\n",
    "            // If the current index is beyond the maximum reachable index, we can't proceed\n",
    "            if current_index > max_reachable {\n",
    "                return false;\n",
    "            }\n",
    "            \n",
    "            // Convert jump_length to usize before addition\n",
    "            let jump_length_usize = jump_length as usize;\n",
    "            \n",
    "            // Update the maximum reachable index\n",
    "            max_reachable = max_reachable.max(current_index + jump_length_usize);\n",
    "            \n",
    "            // If we can reach or exceed the last index, return true\n",
    "            if max_reachable >= nums.len() - 1 {\n",
    "                return true;\n",
    "            }\n",
    "        }\n",
    "        \n",
    "        // Return false if we finish iterating and haven't reached the last index\n",
    "        false\n",
    "    }\n",
    "}\n",
    "\n",
    "fn main() {\n",
    "    // Example cases\n",
    "    let nums1 = vec![2, 3, 1, 1, 4];\n",
    "    let nums2 = vec![3, 2, 1, 0, 4];\n",
    "    \n",
    "    println!(\"Can jump to the last index for nums1: {}\", Solution::can_jump(nums1)); // Output: true\n",
    "    println!(\"Can jump to the last index for nums2: {}\", Solution::can_jump(nums2)); // Output: false\n",
    "}\n",
    "```\n",
    "\n",
    "### Key Changes\n",
    "- Converted `jump_length` from `i32` to `usize` using `as usize`.\n",
    "- Updated the `max_reachable` calculation accordingly.\n",
    "\n",
    "With these changes, the code should compile and run correctly, handling the type mismatch and performing the necessary arithmetic operations."
   ]
  },
  {
   "cell_type": "code",
   "execution_count": 5,
   "metadata": {
    "vscode": {
     "languageId": "rust"
    }
   },
   "outputs": [
    {
     "name": "stdout",
     "output_type": "stream",
     "text": [
      "Can jump to the last index for nums1: true\n",
      "Can jump to the last index for nums2: false\n"
     ]
    },
    {
     "data": {
      "text/plain": [
       "()"
      ]
     },
     "execution_count": 5,
     "metadata": {},
     "output_type": "execute_result"
    }
   ],
   "source": [
    "pub fn can_jump(nums: Vec<i32>) -> bool {\n",
    "    // Initialize the maximum reachable index to 0\n",
    "    let mut max_reachable: usize = 0;\n",
    "    \n",
    "    // Iterate through each index in the array\n",
    "    for (current_index, &jump_length) in nums.iter().enumerate() {\n",
    "        // If the current index is beyond the maximum reachable index, we can't proceed\n",
    "        if current_index > max_reachable {\n",
    "            return false;\n",
    "        }\n",
    "        \n",
    "        // Convert jump_length to usize before addition\n",
    "        let jump_length_usize = jump_length as usize;\n",
    "        \n",
    "        // Update the maximum reachable index\n",
    "        max_reachable = max_reachable.max(current_index + jump_length_usize);\n",
    "        \n",
    "        // If we can reach or exceed the last index, return true\n",
    "        if max_reachable >= nums.len() - 1 {\n",
    "            return true;\n",
    "        }\n",
    "    }\n",
    "    \n",
    "    // Return false if we finish iterating and haven't reached the last index\n",
    "    false\n",
    "}\n",
    "\n",
    "fn main() {\n",
    "    // Example cases\n",
    "    let nums1 = vec![2, 3, 1, 1, 4];\n",
    "    let nums2 = vec![3, 2, 1, 0, 4];\n",
    "    \n",
    "    println!(\"Can jump to the last index for nums1: {}\", can_jump(nums1)); // Output: true\n",
    "    println!(\"Can jump to the last index for nums2: {}\", can_jump(nums2)); // Output: false\n",
    "}\n",
    "\n",
    "main()"
   ]
  },
  {
   "cell_type": "code",
   "execution_count": 2,
   "metadata": {
    "vscode": {
     "languageId": "rust"
    }
   },
   "outputs": [
    {
     "name": "stdout",
     "output_type": "stream",
     "text": [
      "Can jump to the last index for nums1: true\n",
      "Can jump to the last index for nums2: false\n"
     ]
    },
    {
     "data": {
      "text/plain": [
       "()"
      ]
     },
     "execution_count": 2,
     "metadata": {},
     "output_type": "execute_result"
    }
   ],
   "source": [
    "pub fn can_jump(nums: Vec<i32>) -> bool {\n",
    "    // Initialize the maximum reachable index to 0\n",
    "    let mut max_reachable = 0;\n",
    "    \n",
    "    // Iterate through each index in the array\n",
    "    for (current_index, &jump_length) in nums.iter().enumerate() {\n",
    "        // If the current index is beyond the maximum reachable index, we can't proceed\n",
    "        if current_index > max_reachable {\n",
    "            return false;\n",
    "        }\n",
    "        \n",
    "        // Convert jump_length to usize before addition\n",
    "        let jump_length_usize = jump_length as usize;\n",
    "        \n",
    "        // Update the maximum reachable index\n",
    "        max_reachable = max_reachable.max(current_index + jump_length_usize);\n",
    "        \n",
    "        // If we can reach or exceed the last index, return true\n",
    "        if max_reachable >= nums.len() - 1 {\n",
    "            return true;\n",
    "        }\n",
    "    }\n",
    "    \n",
    "    // Return false if we finish iterating and haven't reached the last index\n",
    "    false\n",
    "}\n",
    "\n",
    "fn main() {\n",
    "    // Example cases\n",
    "    let nums1 = vec![2, 3, 1, 1, 4];\n",
    "    let nums2 = vec![3, 2, 1, 0, 4];\n",
    "    \n",
    "    println!(\"Can jump to the last index for nums1: {}\", can_jump(nums1)); // Output: true\n",
    "    println!(\"Can jump to the last index for nums2: {}\", can_jump(nums2)); // Output: false\n",
    "}\n",
    "\n",
    "main()"
   ]
  },
  {
   "cell_type": "code",
   "execution_count": 3,
   "metadata": {
    "vscode": {
     "languageId": "rust"
    }
   },
   "outputs": [
    {
     "name": "stdout",
     "output_type": "stream",
     "text": [
      "Can jump to the last index for nums1: true\n",
      "Can jump to the last index for nums2: false\n"
     ]
    },
    {
     "data": {
      "text/plain": [
       "()"
      ]
     },
     "execution_count": 3,
     "metadata": {},
     "output_type": "execute_result"
    }
   ],
   "source": [
    "pub fn can_jump_new(nums: Vec<i32>) -> bool {\n",
    "\n",
    "    let mut max_reachable:usize = 0;\n",
    "\n",
    "    for (current_index, &jump_length) in nums.iter().enumerate() {\n",
    "        if current_index > max_reachable {\n",
    "            return false;\n",
    "        }\n",
    "        max_reachable = max_reachable.max(current_index + jump_length as usize);\n",
    "        if max_reachable >= nums.len()-1{\n",
    "            return true;\n",
    "        } \n",
    "    }\n",
    "    false\n",
    "}\n",
    "\n",
    "fn main() {\n",
    "    // Example cases\n",
    "    let nums1 = vec![2, 3, 1, 1, 4];\n",
    "    let nums2 = vec![3, 2, 1, 0, 4];\n",
    "    \n",
    "    println!(\"Can jump to the last index for nums1: {}\", can_jump_new(nums1)); // Output: true\n",
    "    println!(\"Can jump to the last index for nums2: {}\", can_jump_new(nums2)); // Output: false\n",
    "}\n",
    "\n",
    "main()"
   ]
  },
  {
   "cell_type": "code",
   "execution_count": null,
   "metadata": {
    "vscode": {
     "languageId": "rust"
    }
   },
   "outputs": [],
   "source": [
    "impl Solution {\n",
    "    pub fn can_jump_new(nums: Vec<i32>) -> bool {\n",
    "\n",
    "        let mut max_reachable:usize = 0;\n",
    "    \n",
    "        for (current_index, &jump_length) in nums.iter().enumerate() {\n",
    "            if current_index > max_reachable {\n",
    "                return false;\n",
    "            }\n",
    "            max_reachable = max_reachable.max(current_index + jump_length as usize);\n",
    "            if max_reachable >= nums.len()-1{\n",
    "                return true;\n",
    "            } \n",
    "        }\n",
    "        false\n",
    "    }    \n",
    "}"
   ]
  },
  {
   "cell_type": "markdown",
   "metadata": {},
   "source": [
    "```py\n",
    "class Solution:\n",
    "    def canJump(self, nums: List[int]) -> bool:\n",
    "        goal = len(nums) - 1\n",
    "\n",
    "        for i in range(len(nums) - 2, -1, -1):\n",
    "            if i + nums[i] >= goal:\n",
    "                goal = i\n",
    "        \n",
    "        return True if goal == 0 else False\n",
    "```"
   ]
  }
 ],
 "metadata": {
  "kernelspec": {
   "display_name": "Rust",
   "language": "rust",
   "name": "rust"
  },
  "language_info": {
   "codemirror_mode": "rust",
   "file_extension": ".rs",
   "mimetype": "text/rust",
   "name": "Rust",
   "pygment_lexer": "rust",
   "version": ""
  }
 },
 "nbformat": 4,
 "nbformat_minor": 2
}
