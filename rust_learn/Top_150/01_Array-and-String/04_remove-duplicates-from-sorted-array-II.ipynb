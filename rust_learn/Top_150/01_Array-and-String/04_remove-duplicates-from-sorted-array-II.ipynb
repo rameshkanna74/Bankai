{
 "cells": [
  {
   "cell_type": "markdown",
   "metadata": {},
   "source": [
    "Given an integer array nums sorted in non-decreasing order, remove some duplicates in-place such that each unique element appears at most twice. The relative order of the elements should be kept the same.\n",
    "\n",
    "Since it is impossible to change the length of the array in some languages, you must instead have the result be placed in the first part of the array nums. More formally, if there are k elements after removing the duplicates, then the first k elements of nums should hold the final result. It does not matter what you leave beyond the first k elements.\n",
    "\n",
    "Return k after placing the final result in the first k slots of nums.\n",
    "\n",
    "Do not allocate extra space for another array. You must do this by modifying the input array in-place with O(1) extra memory.\n",
    "\n",
    "Custom Judge:\n",
    "\n",
    "The judge will test your solution with the following code:\n",
    "\n",
    "int[] nums = [...]; // Input array\n",
    "int[] expectedNums = [...]; // The expected answer with correct length\n",
    "\n",
    "int k = removeDuplicates(nums); // Calls your implementation\n",
    "\n",
    "assert k == expectedNums.length;\n",
    "for (int i = 0; i < k; i++) {\n",
    "assert nums[i] == expectedNums[i];\n",
    "}\n",
    "\n",
    "If all assertions pass, then your solution will be accepted.\n",
    "\n",
    "Example 1:\n",
    "\n",
    "Input: nums = [1,1,1,2,2,3]\n",
    "Output: 5, nums = [1,1,2,2,3,_]\n",
    "Explanation: Your function should return k = 5, with the first five elements of nums being 1, 1, 2, 2 and 3 respectively.\n",
    "It does not matter what you leave beyond the returned k (hence they are underscores).\n",
    "\n",
    "Example 2:\n",
    "\n",
    "Input: nums = [0,0,1,1,1,1,2,3,3]\n",
    "Output: 7, nums = [0,0,1,1,2,3,3,_,_]\n",
    "Explanation: Your function should return k = 7, with the first seven elements of nums being 0, 0, 1, 1, 2, 3 and 3 respectively.\n",
    "It does not matter what you leave beyond the returned k (hence they are underscores).\n",
    "\n",
    "Constraints:\n",
    "\n",
    "    1 <= nums.length <= 3 * 104\n",
    "    -104 <= nums[i] <= 104\n",
    "    nums is sorted in non-decreasing order.\n",
    "\n",
    "---------------------------\n",
    "\n",
    "give best time and space complexity code in rust,give variables usefull name, add comments to explain the code way more clear,also add code to run example case"
   ]
  },
  {
   "cell_type": "markdown",
   "metadata": {},
   "source": [
    "Here’s a Rust solution to remove duplicates in a sorted array so that each unique element appears at most twice. The code is optimized for time and space complexity and includes detailed comments, useful variable names, and example case execution:\n",
    "\n",
    "```rust\n",
    "fn remove_duplicates(nums: &mut Vec<i32>) -> usize {\n",
    "    // Edge case: if the array has 2 or fewer elements, no need to process further\n",
    "    if nums.len() <= 2 {\n",
    "        return nums.len();\n",
    "    }\n",
    "\n",
    "    // Index to keep track of the position where the next valid element should be placed\n",
    "    let mut write_index = 2;\n",
    "\n",
    "    // Start iterating from the third element, since the first two are always allowed\n",
    "    for i in 2..nums.len() {\n",
    "        // If the current element is not the same as the element two places before,\n",
    "        // it means this is a valid element to keep (appearing at most twice)\n",
    "        if nums[i] != nums[write_index - 2] {\n",
    "            nums[write_index] = nums[i];\n",
    "            write_index += 1; // Move the write_index forward\n",
    "        }\n",
    "    }\n",
    "\n",
    "    // The array is now modified in-place, and write_index is the new length of the valid elements\n",
    "    write_index\n",
    "}\n",
    "\n",
    "fn main() {\n",
    "    // Example 1\n",
    "    let mut nums1 = vec![1, 1, 1, 2, 2, 3];\n",
    "    let k1 = remove_duplicates(&mut nums1);\n",
    "    println!(\"k = {}, Modified array: {:?}\", k1, &nums1[..k1]); // Output: k = 5, Modified array: [1, 1, 2, 2, 3]\n",
    "\n",
    "    // Example 2\n",
    "    let mut nums2 = vec![0, 0, 1, 1, 1, 1, 2, 3, 3];\n",
    "    let k2 = remove_duplicates(&mut nums2);\n",
    "    println!(\"k = {}, Modified array: {:?}\", k2, &nums2[..k2]); // Output: k = 7, Modified array: [0, 0, 1, 1, 2, 3, 3]\n",
    "}\n",
    "```\n",
    "\n",
    "### Explanation:\n",
    "- **Time Complexity**: The solution runs in `O(n)` time, where `n` is the length of the array. We iterate through the array once.\n",
    "- **Space Complexity**: The solution uses `O(1)` extra space since the modification is done in-place.\n",
    "\n",
    "### Steps:\n",
    "1. **Edge Case Handling**:\n",
    "   - If the array has 2 or fewer elements, it automatically satisfies the condition of each unique element appearing at most twice. Return the length of the array.\n",
    "\n",
    "2. **Initialization**:\n",
    "   - `write_index`: This variable keeps track of where the next valid element should be placed. It starts at `2` since the first two elements are always valid.\n",
    "\n",
    "3. **Iteration**:\n",
    "   - For each element starting from the third one (`i = 2`), check if it’s different from the element at `write_index - 2`.\n",
    "   - If it is, place it at `write_index` and move `write_index` forward.\n",
    "\n",
    "4. **Final Output**: After the loop, `write_index` will be the number of valid elements in `nums`. The first `write_index` elements in `nums` will be the modified array containing elements appearing at most twice.\n",
    "\n",
    "5. **Running Example Cases**: The `main()` function demonstrates the usage of the `remove_duplicates` function with example cases and prints the modified arrays and the number of valid elements (`k`).\n",
    "\n",
    "This approach efficiently removes duplicates while allowing at most two occurrences of each element in the sorted array, adhering to the problem constraints."
   ]
  },
  {
   "cell_type": "code",
   "execution_count": null,
   "metadata": {
    "vscode": {
     "languageId": "rust"
    }
   },
   "outputs": [
    {
     "name": "stdout",
     "output_type": "stream",
     "text": [
      "k = 5, Modified array: [1, 1, 2, 2, 3]\n",
      "k = 7, Modified array: [0, 0, 1, 1, 2, 3, 3]\n"
     ]
    },
    {
     "data": {
      "text/plain": [
       "()"
      ]
     },
     "metadata": {},
     "output_type": "display_data"
    }
   ],
   "source": [
    "fn remove_duplicates(nums: &mut Vec<i32>) -> usize {\n",
    "    // Edge case: if the array has 2 or fewer elements, no need to process further\n",
    "    if nums.len() <= 2 {\n",
    "        return nums.len();\n",
    "    }\n",
    "\n",
    "    // Index to keep track of the position where the next valid element should be placed\n",
    "    let mut write_index = 2;\n",
    "\n",
    "    // Start iterating from the third element, since the first two are always allowed\n",
    "    for i in 2..nums.len() {\n",
    "        // If the current element is not the same as the element two places before,\n",
    "        // it means this is a valid element to keep (appearing at most twice)\n",
    "        if nums[i] != nums[write_index - 2] {\n",
    "            nums[write_index] = nums[i];\n",
    "            write_index += 1; // Move the write_index forward\n",
    "        }\n",
    "    }\n",
    "\n",
    "    // The array is now modified in-place, and write_index is the new length of the valid elements\n",
    "    write_index\n",
    "}\n",
    "\n",
    "fn main() {\n",
    "    // Example 1\n",
    "    let mut nums1 = vec![1, 1, 1, 2, 2, 3];\n",
    "    let k1 = remove_duplicates(&mut nums1);\n",
    "    println!(\"k = {}, Modified array: {:?}\", k1, &nums1[..k1]); // Output: k = 5, Modified array: [1, 1, 2, 2, 3]\n",
    "\n",
    "    // Example 2\n",
    "    let mut nums2 = vec![0, 0, 1, 1, 1, 1, 2, 3, 3];\n",
    "    let k2 = remove_duplicates(&mut nums2);\n",
    "    println!(\"k = {}, Modified array: {:?}\", k2, &nums2[..k2]); // Output: k = 7, Modified array: [0, 0, 1, 1, 2, 3, 3]\n",
    "}\n",
    "\n",
    "main()"
   ]
  },
  {
   "cell_type": "code",
   "execution_count": 5,
   "metadata": {
    "vscode": {
     "languageId": "rust"
    }
   },
   "outputs": [
    {
     "name": "stdout",
     "output_type": "stream",
     "text": [
      "k = 5\n",
      "k = 7\n"
     ]
    },
    {
     "data": {
      "text/plain": [
       "()"
      ]
     },
     "execution_count": 5,
     "metadata": {},
     "output_type": "execute_result"
    }
   ],
   "source": [
    "pub fn remove_duplicates(nums: &mut Vec<i32>) -> i32 {\n",
    "    let len = nums.len();\n",
    "    if len <= 2 {\n",
    "        return len as i32; // If length is 2 or less, it's already valid\n",
    "    }\n",
    "\n",
    "    let mut write_index = 2;\n",
    "\n",
    "    for i in 2..len {\n",
    "        // Check if the current element is different from the element two places before\n",
    "        if nums[i] != nums[write_index - 2] {\n",
    "            nums[write_index] = nums[i];\n",
    "            write_index += 1;\n",
    "        }\n",
    "    }\n",
    "\n",
    "    write_index as i32\n",
    "}\n",
    "\n",
    "fn main() {\n",
    "    // Example 1\n",
    "    let mut nums1 = vec![1, 1, 1, 2, 2, 3];\n",
    "    let k1 = remove_duplicates(&mut nums1);\n",
    "    println!(\"k = {}\", k1); // Output: k = 5, Modified array: [1, 1, 2, 2, 3]\n",
    "\n",
    "    // Example 2\n",
    "    let mut nums2 = vec![0, 0, 1, 1, 1, 1, 2, 3, 3];\n",
    "    let k2 = remove_duplicates(&mut nums2);\n",
    "    println!(\"k = {}\", k2); // Output: k = 7, Modified array: [0, 0, 1, 1, 2, 3, 3]\n",
    "}\n",
    "\n",
    "main()"
   ]
  },
  {
   "cell_type": "markdown",
   "metadata": {},
   "source": [
    "```Rust\n",
    "impl Solution {\n",
    "    pub fn remove_duplicates(nums: &mut Vec<i32>) -> i32 {\n",
    "        let len = nums.len();\n",
    "        if len <= 2 {\n",
    "            return len as i32; // If length is 2 or less, it's already valid\n",
    "        }\n",
    "\n",
    "        let mut write_index = 2;\n",
    "\n",
    "        for i in 2..len {\n",
    "            // Check if the current element is different from the element two places before\n",
    "            if nums[i] != nums[write_index - 2] {\n",
    "                nums[write_index] = nums[i];\n",
    "                write_index += 1;\n",
    "            }\n",
    "        }\n",
    "\n",
    "        write_index as i32\n",
    "    }\n",
    "}\n",
    "\n",
    "```\n"
   ]
  },
  {
   "cell_type": "code",
   "execution_count": 2,
   "metadata": {
    "vscode": {
     "languageId": "rust"
    }
   },
   "outputs": [
    {
     "ename": "Error",
     "evalue": "cannot find type `Solution` in this scope",
     "output_type": "error",
     "traceback": [
      "\u001b[31m[E0412] Error:\u001b[0m cannot find type `Solution` in this scope",
      "   \u001b[38;5;246m╭\u001b[0m\u001b[38;5;246m─\u001b[0m\u001b[38;5;246m[\u001b[0mcommand_2:1:1\u001b[38;5;246m]\u001b[0m",
      "   \u001b[38;5;246m│\u001b[0m",
      " \u001b[38;5;246m1 │\u001b[0m \u001b[38;5;249mi\u001b[0m\u001b[38;5;249mm\u001b[0m\u001b[38;5;249mp\u001b[0m\u001b[38;5;249ml\u001b[0m\u001b[38;5;249m \u001b[0m\u001b[38;5;54mS\u001b[0m\u001b[38;5;54mo\u001b[0m\u001b[38;5;54ml\u001b[0m\u001b[38;5;54mu\u001b[0m\u001b[38;5;54mt\u001b[0m\u001b[38;5;54mi\u001b[0m\u001b[38;5;54mo\u001b[0m\u001b[38;5;54mn\u001b[0m\u001b[38;5;249m \u001b[0m\u001b[38;5;249m{\u001b[0m",
      " \u001b[38;5;240m  │\u001b[0m      \u001b[38;5;54m─\u001b[0m\u001b[38;5;54m─\u001b[0m\u001b[38;5;54m─\u001b[0m\u001b[38;5;54m─\u001b[0m\u001b[38;5;54m┬\u001b[0m\u001b[38;5;54m─\u001b[0m\u001b[38;5;54m─\u001b[0m\u001b[38;5;54m─\u001b[0m  ",
      " \u001b[38;5;240m  │\u001b[0m          \u001b[38;5;54m╰\u001b[0m\u001b[38;5;54m─\u001b[0m\u001b[38;5;54m─\u001b[0m\u001b[38;5;54m─\u001b[0m\u001b[38;5;54m─\u001b[0m\u001b[38;5;54m─\u001b[0m not found in this scope",
      "\u001b[38;5;246m───╯\u001b[0m"
     ]
    }
   ],
   "source": [
    "impl Solution {\n",
    "    pub fn remove_duplicates(nums: &mut Vec<i32>) -> i32 {\n",
    "        let len = nums.len();\n",
    "        if len <= 2 {\n",
    "            return len as i32; // If length is 2 or less, it's already valid\n",
    "        }\n",
    "\n",
    "        let mut write_index = 2;\n",
    "\n",
    "        for i in 2..len {\n",
    "            // Check if the current element is different from the element two places before\n",
    "            if nums[i] != nums[write_index - 2] {\n",
    "                nums[write_index] = nums[i];\n",
    "                write_index += 1;\n",
    "            }\n",
    "        }\n",
    "\n",
    "        write_index as i32\n",
    "    }\n",
    "}"
   ]
  },
  {
   "cell_type": "markdown",
   "metadata": {},
   "source": [
    "```py\n",
    "class Solution:\n",
    "    def removeDuplicates(self, nums: List[int]) -> int:\n",
    "        k = 2\n",
    "\n",
    "        for i in range(2, len(nums)):\n",
    "            if nums[i] != nums[k - 2]:\n",
    "                nums[k] = nums[i]\n",
    "                k += 1 \n",
    "\n",
    "        return k\n",
    "```\n"
   ]
  },
  {
   "cell_type": "code",
   "execution_count": null,
   "metadata": {
    "vscode": {
     "languageId": "rust"
    }
   },
   "outputs": [],
   "source": []
  }
 ],
 "metadata": {
  "kernelspec": {
   "display_name": "Rust",
   "language": "rust",
   "name": "rust"
  },
  "language_info": {
   "codemirror_mode": "rust",
   "file_extension": ".rs",
   "mimetype": "text/rust",
   "name": "Rust",
   "pygment_lexer": "rust",
   "version": ""
  }
 },
 "nbformat": 4,
 "nbformat_minor": 2
}
