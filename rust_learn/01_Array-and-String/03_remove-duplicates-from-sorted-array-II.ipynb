{
 "cells": [
  {
   "cell_type": "code",
   "execution_count": 1,
   "metadata": {},
   "outputs": [],
   "source": [
    "def remove_duplicates(nums):\n",
    "    # If the array has 2 or fewer elements, return its length as no duplicates need to be removed\n",
    "    if len(nums) <= 2:\n",
    "        return len(nums)\n",
    "\n",
    "    # Pointer to place the next allowed element (which appears at most twice)\n",
    "    next_position = 2\n",
    "\n",
    "    # Start iterating from the third element (index 2)\n",
    "    for current_position in range(2, len(nums)):\n",
    "        # Compare the current element with the element two positions back\n",
    "        if nums[current_position] != nums[next_position - 2]:\n",
    "            nums[next_position] = nums[current_position]\n",
    "            next_position += 1  # Move the pointer forward\n",
    "\n",
    "    # next_position now represents the number of elements after removing duplicates\n",
    "    return next_position"
   ]
  },
  {
   "cell_type": "code",
   "execution_count": null,
   "metadata": {},
   "outputs": [],
   "source": [
    "# Input: nums = [1,1,1,2,2,3]\n",
    "# Output: 5, nums = [1,1,2,2,3,_]"
   ]
  },
  {
   "cell_type": "code",
   "execution_count": 2,
   "metadata": {},
   "outputs": [
    {
     "data": {
      "text/plain": [
       "5"
      ]
     },
     "execution_count": 2,
     "metadata": {},
     "output_type": "execute_result"
    }
   ],
   "source": [
    "nums = [1,1,1,2,2,3]\n",
    "remove_duplicates(nums)"
   ]
  },
  {
   "cell_type": "markdown",
   "metadata": {},
   "source": [
    "Here's the Python code with clear comments and descriptive variable names for removing duplicates such that each unique element appears at most twice:\n",
    "\n",
    "### Code:\n",
    "```python\n",
    "def remove_duplicates(nums):\n",
    "    # If the array has 2 or fewer elements, return its length as no duplicates need to be removed\n",
    "    if len(nums) <= 2:\n",
    "        return len(nums)\n",
    "    \n",
    "    # Pointer to place the next allowed element (which appears at most twice)\n",
    "    next_position = 2\n",
    "    \n",
    "    # Start iterating from the third element (index 2)\n",
    "    for current_position in range(2, len(nums)):\n",
    "        # Compare the current element with the element two positions back\n",
    "        if nums[current_position] != nums[next_position - 2]:\n",
    "            nums[next_position] = nums[current_position]\n",
    "            next_position += 1  # Move the pointer forward\n",
    "    \n",
    "    # next_position now represents the number of elements after removing duplicates\n",
    "    return next_position\n",
    "```\n",
    "\n",
    "### Explanation:\n",
    "- **Time Complexity**: O(n), where `n` is the length of the array `nums`. The array is traversed once.\n",
    "- **Space Complexity**: O(1). The operation is done in place without using any additional space.\n",
    "\n",
    "### How it Works:\n",
    "1. **Initial Check**: If the array has 2 or fewer elements, no duplicates need to be removed, so the function returns the length of the array as it is.\n",
    "2. **Pointer `next_position`**: This pointer starts at index 2, where the next allowed element will be placed.\n",
    "3. **Iterating the Array**: \n",
    "   - The loop starts from the third element (index 2) and checks if the current element is the same as the element two positions back (`nums[next_position - 2]`).\n",
    "   - If it's different, it means the element is allowed (appearing at most twice), and it's moved to the `next_position`. The pointer `next_position` is then incremented.\n",
    "4. **Final Result**: After the loop, `next_position` represents the number of elements in the array after removing the extra duplicates. The first `next_position` elements in `nums` contain the desired result.\n",
    "\n",
    "This approach ensures that the duplicates are removed in place with the optimal time and space complexity."
   ]
  },
  {
   "cell_type": "code",
   "execution_count": null,
   "metadata": {},
   "outputs": [],
   "source": []
  }
 ],
 "metadata": {
  "kernelspec": {
   "display_name": "moon",
   "language": "python",
   "name": "python3"
  },
  "language_info": {
   "codemirror_mode": {
    "name": "ipython",
    "version": 3
   },
   "file_extension": ".py",
   "mimetype": "text/x-python",
   "name": "python",
   "nbconvert_exporter": "python",
   "pygments_lexer": "ipython3",
   "version": "3.11.7"
  }
 },
 "nbformat": 4,
 "nbformat_minor": 2
}
