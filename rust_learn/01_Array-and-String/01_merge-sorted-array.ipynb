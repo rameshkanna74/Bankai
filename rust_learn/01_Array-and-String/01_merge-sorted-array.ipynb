{
 "cells": [
  {
   "cell_type": "code",
   "execution_count": 5,
   "metadata": {},
   "outputs": [],
   "source": [
    "def merge(nums1, m, nums2, n):\n",
    "    # Start from the end of both arrays\n",
    "    i, j, k = m - 1, n - 1, m + n - 1\n",
    "    \n",
    "    while i >= 0 and j >= 0:\n",
    "        if nums1[i] > nums2[j]:\n",
    "            nums1[k] = nums1[i]\n",
    "            i -= 1\n",
    "        else:\n",
    "            nums1[k] = nums2[j]\n",
    "            j -= 1\n",
    "        k -= 1\n",
    "    \n",
    "    # If there are any remaining elements in nums2\n",
    "    while j >= 0:\n",
    "        nums1[k] = nums2[j]\n",
    "        j -= 1\n",
    "        k -= 1\n"
   ]
  },
  {
   "cell_type": "code",
   "execution_count": 6,
   "metadata": {},
   "outputs": [],
   "source": [
    "nums1 = [1, 2, 3, 0, 0, 0]\n",
    "m = 3\n",
    "nums2 = [2, 5, 6]\n",
    "n = 3\n",
    "\n",
    "merge(nums1, m, nums2, n)"
   ]
  },
  {
   "cell_type": "code",
   "execution_count": 7,
   "metadata": {},
   "outputs": [
    {
     "name": "stdout",
     "output_type": "stream",
     "text": [
      "Before merge: [1, 2, 3, 0, 0, 0]\n",
      "After merge: [1, 2, 2, 3, 5, 6]\n"
     ]
    }
   ],
   "source": [
    "nums1 = [1, 2, 3, 0, 0, 0]\n",
    "m = 3\n",
    "nums2 = [2, 5, 6]\n",
    "n = 3\n",
    "\n",
    "print(\"Before merge:\", nums1)\n",
    "merge(nums1, m, nums2, n)\n",
    "print(\"After merge:\", nums1)"
   ]
  },
  {
   "cell_type": "markdown",
   "metadata": {},
   "source": [
    "Here's an efficient Python solution to merge the two sorted arrays in place:\n",
    "\n",
    "### Code:\n",
    "```python\n",
    "def merge(nums1, m, nums2, n):\n",
    "    # Start from the end of both arrays\n",
    "    i, j, k = m - 1, n - 1, m + n - 1\n",
    "    \n",
    "    while i >= 0 and j >= 0:\n",
    "        if nums1[i] > nums2[j]:\n",
    "            nums1[k] = nums1[i]\n",
    "            i -= 1\n",
    "        else:\n",
    "            nums1[k] = nums2[j]\n",
    "            j -= 1\n",
    "        k -= 1\n",
    "    \n",
    "    # If there are any remaining elements in nums2\n",
    "    while j >= 0:\n",
    "        nums1[k] = nums2[j]\n",
    "        j -= 1\n",
    "        k -= 1\n",
    "```\n",
    "\n",
    "### Explanation:\n",
    "- **Time Complexity**: O(m + n), where m and n are the lengths of the arrays `nums1` and `nums2`. We iterate through each element exactly once.\n",
    "- **Space Complexity**: O(1). The merge is done in place, so no extra space is required beyond the input arrays.\n",
    "\n",
    "### How it Works:\n",
    "- The algorithm starts merging from the end of the arrays to avoid overwriting elements in `nums1`.\n",
    "- It compares the elements of `nums1` and `nums2` from the back, placing the larger one at the current end of `nums1`.\n",
    "- After one of the arrays is exhausted, any remaining elements of `nums2` (if any) are placed in `nums1`.\n",
    "\n",
    "This solution is optimal in both time and space complexity for the given problem constraints."
   ]
  },
  {
   "cell_type": "code",
   "execution_count": null,
   "metadata": {},
   "outputs": [],
   "source": []
  }
 ],
 "metadata": {
  "kernelspec": {
   "display_name": "moon",
   "language": "python",
   "name": "python3"
  },
  "language_info": {
   "codemirror_mode": {
    "name": "ipython",
    "version": 3
   },
   "file_extension": ".py",
   "mimetype": "text/x-python",
   "name": "python",
   "nbconvert_exporter": "python",
   "pygments_lexer": "ipython3",
   "version": "3.11.7"
  }
 },
 "nbformat": 4,
 "nbformat_minor": 2
}
