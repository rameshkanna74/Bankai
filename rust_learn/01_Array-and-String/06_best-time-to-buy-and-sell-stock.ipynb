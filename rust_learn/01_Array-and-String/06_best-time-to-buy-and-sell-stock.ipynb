{
 "cells": [
  {
   "cell_type": "code",
   "execution_count": 1,
   "metadata": {},
   "outputs": [],
   "source": [
    "def max_profit(prices):\n",
    "    # Initialize minimum price to a large value and max profit to zero\n",
    "    min_price = float('inf')\n",
    "    max_profit = 0\n",
    "    \n",
    "    # Iterate through each price in the list\n",
    "    for price in prices:\n",
    "        # Update min_price if the current price is lower\n",
    "        if price < min_price:\n",
    "            min_price = price\n",
    "        # Calculate profit if we sold at the current price, update max_profit if this profit is higher\n",
    "        elif price - min_price > max_profit:\n",
    "            max_profit = price - min_price\n",
    "    \n",
    "    return max_profit\n"
   ]
  },
  {
   "cell_type": "code",
   "execution_count": 2,
   "metadata": {},
   "outputs": [
    {
     "data": {
      "text/plain": [
       "5"
      ]
     },
     "execution_count": 2,
     "metadata": {},
     "output_type": "execute_result"
    }
   ],
   "source": [
    "prices = [7,1,5,3,6,4]\n",
    "max_profit(prices)"
   ]
  },
  {
   "cell_type": "markdown",
   "metadata": {},
   "source": [
    "To solve the problem of maximizing profit by buying and selling stock on different days, we can use a single pass through the array to keep track of the minimum price encountered so far and calculate the maximum profit at each step.\n",
    "\n",
    "### Code:\n",
    "```python\n",
    "def max_profit(prices):\n",
    "    # Initialize minimum price to a large value and max profit to zero\n",
    "    min_price = float('inf')\n",
    "    max_profit = 0\n",
    "    \n",
    "    # Iterate through each price in the list\n",
    "    for price in prices:\n",
    "        # Update min_price if the current price is lower\n",
    "        if price < min_price:\n",
    "            min_price = price\n",
    "        # Calculate profit if we sold at the current price, update max_profit if this profit is higher\n",
    "        elif price - min_price > max_profit:\n",
    "            max_profit = price - min_price\n",
    "    \n",
    "    return max_profit\n",
    "```\n",
    "\n",
    "### Explanation:\n",
    "- **Time Complexity**: O(n), where `n` is the length of the `prices` array. We only make a single pass through the array.\n",
    "- **Space Complexity**: O(1). The algorithm uses a constant amount of extra space.\n",
    "\n",
    "### How it Works:\n",
    "1. **Initialize**:\n",
    "   - `min_price` is set to a very large value (`float('inf')`) initially, representing the lowest price found so far.\n",
    "   - `max_profit` is initialized to zero, as no profit has been made yet.\n",
    "\n",
    "2. **Iterate through Prices**:\n",
    "   - For each `price` in the array, update `min_price` if the current `price` is lower than the previous `min_price`.\n",
    "   - Calculate the potential profit if the stock was bought at `min_price` and sold at the current `price`. If this profit is greater than the `max_profit` found so far, update `max_profit`.\n",
    "\n",
    "3. **Return the Result**:\n",
    "   - After the loop finishes, `max_profit` will contain the maximum possible profit.\n",
    "\n",
    "This solution efficiently finds the maximum profit with the best possible time and space complexity."
   ]
  },
  {
   "cell_type": "code",
   "execution_count": null,
   "metadata": {},
   "outputs": [],
   "source": []
  }
 ],
 "metadata": {
  "kernelspec": {
   "display_name": "moon",
   "language": "python",
   "name": "python3"
  },
  "language_info": {
   "codemirror_mode": {
    "name": "ipython",
    "version": 3
   },
   "file_extension": ".py",
   "mimetype": "text/x-python",
   "name": "python",
   "nbconvert_exporter": "python",
   "pygments_lexer": "ipython3",
   "version": "3.11.7"
  }
 },
 "nbformat": 4,
 "nbformat_minor": 2
}
