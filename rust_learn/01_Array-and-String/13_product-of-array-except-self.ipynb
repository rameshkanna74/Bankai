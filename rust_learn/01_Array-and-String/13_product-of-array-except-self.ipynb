{
 "cells": [
  {
   "cell_type": "code",
   "execution_count": 1,
   "metadata": {},
   "outputs": [],
   "source": [
    "def productExceptSelf(nums):\n",
    "    # Initialize the answer array with 1s\n",
    "    length = len(nums)\n",
    "    answer = [1] * length\n",
    "\n",
    "    # Compute the prefix product for each element except itself\n",
    "    prefix_product = 1\n",
    "    for i in range(length):\n",
    "        answer[i] = prefix_product\n",
    "        prefix_product *= nums[i]\n",
    "        # At this point, answer[i] contains the product of all elements to the left of nums[i]\n",
    "\n",
    "    # Compute the suffix product for each element except itself\n",
    "    suffix_product = 1\n",
    "    for i in range(length - 1, -1, -1):\n",
    "        answer[i] *= suffix_product\n",
    "        suffix_product *= nums[i]\n",
    "        # At this point, answer[i] is the product of all elements except nums[i]\n",
    "\n",
    "    return answer"
   ]
  },
  {
   "cell_type": "code",
   "execution_count": 2,
   "metadata": {},
   "outputs": [
    {
     "name": "stdout",
     "output_type": "stream",
     "text": [
      "Input: [1, 2, 3, 4]\n",
      "Output: [24, 12, 8, 6]\n",
      "Input: [-1, 1, 0, -3, 3]\n",
      "Output: [0, 0, 9, 0, 0]\n"
     ]
    }
   ],
   "source": [
    "# Example usage:\n",
    "nums1 = [1, 2, 3, 4]\n",
    "nums2 = [-1, 1, 0, -3, 3]\n",
    "\n",
    "# Run the examples\n",
    "output1 = productExceptSelf(nums1)\n",
    "output2 = productExceptSelf(nums2)\n",
    "\n",
    "print(f\"Input: {nums1}\\nOutput: {output1}\")  # Expected: [24, 12, 8, 6]\n",
    "print(f\"Input: {nums2}\\nOutput: {output2}\")  # Expected: [0, 0, 9, 0, 0]"
   ]
  },
  {
   "cell_type": "markdown",
   "metadata": {},
   "source": [
    "Here's a Python implementation that solves the problem in O(n) time complexity and uses O(1) extra space (excluding the space for the output array):\n",
    "\n",
    "```python\n",
    "def productExceptSelf(nums):\n",
    "    # Initialize the answer array with 1s\n",
    "    length = len(nums)\n",
    "    answer = [1] * length\n",
    "\n",
    "    # Compute the prefix product for each element except itself\n",
    "    prefix_product = 1\n",
    "    for i in range(length):\n",
    "        answer[i] = prefix_product\n",
    "        prefix_product *= nums[i]\n",
    "        # At this point, answer[i] contains the product of all elements to the left of nums[i]\n",
    "\n",
    "    # Compute the suffix product for each element except itself\n",
    "    suffix_product = 1\n",
    "    for i in range(length - 1, -1, -1):\n",
    "        answer[i] *= suffix_product\n",
    "        suffix_product *= nums[i]\n",
    "        # At this point, answer[i] is the product of all elements except nums[i]\n",
    "\n",
    "    return answer\n",
    "\n",
    "# Example usage:\n",
    "nums1 = [1, 2, 3, 4]\n",
    "nums2 = [-1, 1, 0, -3, 3]\n",
    "\n",
    "# Run the examples\n",
    "output1 = productExceptSelf(nums1)\n",
    "output2 = productExceptSelf(nums2)\n",
    "\n",
    "print(f\"Input: {nums1}\\nOutput: {output1}\")  # Expected: [24, 12, 8, 6]\n",
    "print(f\"Input: {nums2}\\nOutput: {output2}\")  # Expected: [0, 0, 9, 0, 0]\n",
    "```\n",
    "\n",
    "### Explanation:\n",
    "\n",
    "1. **Prefix Product Calculation**:\n",
    "\n",
    "   - We first traverse the array from left to right, calculating the product of all elements before each index.\n",
    "   - `answer[i]` is initially set to the product of all elements to the left of `nums[i]`.\n",
    "\n",
    "2. **Suffix Product Calculation**:\n",
    "\n",
    "   - We then traverse the array from right to left, updating each `answer[i]` by multiplying it with the product of all elements after `nums[i]`.\n",
    "\n",
    "3. **Time Complexity**:\n",
    "\n",
    "   - The algorithm runs in O(n) time since it involves two linear scans of the input array.\n",
    "\n",
    "4. **Space Complexity**:\n",
    "   - The space complexity is O(1) extra space, as the algorithm only uses a few extra variables (`prefix_product` and `suffix_product`) besides the input and output arrays.\n",
    "\n",
    "### Example Run:\n",
    "\n",
    "- For `nums = [1, 2, 3, 4]`:\n",
    "\n",
    "  - The prefix product calculation will make `answer = [1, 1, 2, 6]`.\n",
    "  - The suffix product calculation will update `answer = [24, 12, 8, 6]`.\n",
    "\n",
    "- For `nums = [-1, 1, 0, -3, 3]`:\n",
    "  - The prefix product calculation will make `answer = [1, -1, -1, 0, 0]`.\n",
    "  - The suffix product calculation will update `answer = [0, 0, 9, 0, 0]`.\n",
    "\n",
    "This implementation meets the problem's constraints and efficiently computes the required output.\n"
   ]
  },
  {
   "cell_type": "code",
   "execution_count": null,
   "metadata": {},
   "outputs": [],
   "source": []
  }
 ],
 "metadata": {
  "kernelspec": {
   "display_name": "moon",
   "language": "python",
   "name": "python3"
  },
  "language_info": {
   "codemirror_mode": {
    "name": "ipython",
    "version": 3
   },
   "file_extension": ".py",
   "mimetype": "text/x-python",
   "name": "python",
   "nbconvert_exporter": "python",
   "pygments_lexer": "ipython3",
   "version": "3.11.7"
  }
 },
 "nbformat": 4,
 "nbformat_minor": 2
}
