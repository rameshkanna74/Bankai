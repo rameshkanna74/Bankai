{
 "cells": [
  {
   "cell_type": "code",
   "execution_count": 1,
   "metadata": {},
   "outputs": [],
   "source": [
    "def longest_common_prefix(strs):\n",
    "    # Edge case: empty list\n",
    "    if not strs:\n",
    "        return \"\"\n",
    "\n",
    "    # Start with the first string as the initial prefix\n",
    "    prefix = strs[0]\n",
    "\n",
    "    # Iterate over the remaining strings\n",
    "    for string in strs[1:]:\n",
    "        # Compare the current prefix with the string\n",
    "        while not string.startswith(prefix):\n",
    "            # Shorten the prefix\n",
    "            prefix = prefix[:-1]\n",
    "            # If prefix is reduced to an empty string\n",
    "            if not prefix:\n",
    "                return \"\"\n",
    "\n",
    "    return prefix"
   ]
  },
  {
   "cell_type": "code",
   "execution_count": 2,
   "metadata": {},
   "outputs": [
    {
     "name": "stdout",
     "output_type": "stream",
     "text": [
      "Input: strs = ['flower', 'flow', 'flight']\n",
      "Output: \"fl\"\n",
      "Input: strs = ['dog', 'racecar', 'car']\n",
      "Output: \"\"\n"
     ]
    }
   ],
   "source": [
    "# Example cases\n",
    "example1 = [\"flower\", \"flow\", \"flight\"]\n",
    "example2 = [\"dog\", \"racecar\", \"car\"]\n",
    "\n",
    "# Run the examples\n",
    "output1 = longest_common_prefix(example1)\n",
    "output2 = longest_common_prefix(example2)\n",
    "\n",
    "print(f'Input: strs = {example1}\\nOutput: \"{output1}\"')  # Expected: \"fl\"\n",
    "print(f'Input: strs = {example2}\\nOutput: \"{output2}\"')  # Expected: \"\""
   ]
  },
  {
   "cell_type": "code",
   "execution_count": null,
   "metadata": {},
   "outputs": [],
   "source": []
  },
  {
   "cell_type": "markdown",
   "metadata": {},
   "source": [
    "To find the longest common prefix string among an array of strings, you can use the following approach:\n",
    "\n",
    "1. **Edge Case**: If the array of strings is empty, return an empty string.\n",
    "\n",
    "2. **Initialize the Prefix**: Start by assuming that the longest common prefix is the first string in the array. Then, compare this prefix with each subsequent string to refine the prefix.\n",
    "\n",
    "3. **Compare Prefix**: For each string in the array, update the prefix by comparing it with the current string. If the prefix does not match, shorten it until it matches or becomes an empty string.\n",
    "\n",
    "4. **Return the Result**: After processing all strings, the prefix will be the longest common prefix among all the strings.\n",
    "\n",
    "Here’s a Python function to achieve this:\n",
    "\n",
    "```python\n",
    "def longest_common_prefix(strs):\n",
    "    # Edge case: empty list\n",
    "    if not strs:\n",
    "        return \"\"\n",
    "    \n",
    "    # Start with the first string as the initial prefix\n",
    "    prefix = strs[0]\n",
    "    \n",
    "    # Iterate over the remaining strings\n",
    "    for string in strs[1:]:\n",
    "        # Compare the current prefix with the string\n",
    "        while not string.startswith(prefix):\n",
    "            # Shorten the prefix\n",
    "            prefix = prefix[:-1]\n",
    "            # If prefix is reduced to an empty string\n",
    "            if not prefix:\n",
    "                return \"\"\n",
    "    \n",
    "    return prefix\n",
    "\n",
    "# Example cases\n",
    "example1 = [\"flower\", \"flow\", \"flight\"]\n",
    "example2 = [\"dog\", \"racecar\", \"car\"]\n",
    "\n",
    "# Run the examples\n",
    "output1 = longest_common_prefix(example1)\n",
    "output2 = longest_common_prefix(example2)\n",
    "\n",
    "print(f\"Input: strs = {example1}\\nOutput: \\\"{output1}\\\"\")  # Expected: \"fl\"\n",
    "print(f\"Input: strs = {example2}\\nOutput: \\\"{output2}\\\"\")  # Expected: \"\"\n",
    "```\n",
    "\n",
    "### Explanation:\n",
    "\n",
    "1. **Edge Case Handling**:\n",
    "   - If the list `strs` is empty, return an empty string since there's no common prefix to find.\n",
    "\n",
    "2. **Prefix Initialization**:\n",
    "   - Start with the first string in the list as the initial prefix.\n",
    "\n",
    "3. **Prefix Comparison**:\n",
    "   - For each subsequent string, check if it starts with the current prefix using `startswith()`.\n",
    "   - If it does not, reduce the prefix by one character at a time (using slicing) until it either matches or becomes an empty string.\n",
    "\n",
    "4. **Returning the Result**:\n",
    "   - After processing all strings, the remaining prefix is the longest common prefix.\n",
    "\n",
    "### Time and Space Complexity:\n",
    "\n",
    "- **Time Complexity**: O(S), where S is the sum of all characters in all strings. This is because the function iterates over all characters of all strings to compare and update the prefix.\n",
    "- **Space Complexity**: O(1) additional space, not counting the input and output. The space used is only for a few variables.\n",
    "\n",
    "This approach efficiently determines the longest common prefix by leveraging simple string operations and ensures correctness by iterating through the list of strings."
   ]
  }
 ],
 "metadata": {
  "kernelspec": {
   "display_name": "moon",
   "language": "python",
   "name": "python3"
  },
  "language_info": {
   "codemirror_mode": {
    "name": "ipython",
    "version": 3
   },
   "file_extension": ".py",
   "mimetype": "text/x-python",
   "name": "python",
   "nbconvert_exporter": "python",
   "pygments_lexer": "ipython3",
   "version": "3.11.7"
  }
 },
 "nbformat": 4,
 "nbformat_minor": 2
}
