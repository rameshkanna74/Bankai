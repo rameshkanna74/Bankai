{
 "cells": [
  {
   "cell_type": "code",
   "execution_count": 1,
   "metadata": {},
   "outputs": [],
   "source": [
    "def reverse_words(s):\n",
    "    # Step 1: Trim the input string\n",
    "    trimmed_string = s.strip()\n",
    "\n",
    "    # Step 2: Split the trimmed string into words\n",
    "    words = trimmed_string.split()\n",
    "\n",
    "    # Step 3: Reverse the list of words\n",
    "    reversed_words = words[::-1]\n",
    "\n",
    "    # Step 4: Join the reversed list into a single string with single spaces\n",
    "    reversed_string = \" \".join(reversed_words)\n",
    "\n",
    "    return reversed_string"
   ]
  },
  {
   "cell_type": "code",
   "execution_count": 2,
   "metadata": {},
   "outputs": [
    {
     "name": "stdout",
     "output_type": "stream",
     "text": [
      "Input: s = \"the sky is blue\"\n",
      "Output: \"blue is sky the\"\n",
      "Input: s = \"  hello world  \"\n",
      "Output: \"world hello\"\n",
      "Input: s = \"a good   example\"\n",
      "Output: \"example good a\"\n"
     ]
    }
   ],
   "source": [
    "# Example cases\n",
    "example1 = \"the sky is blue\"\n",
    "example2 = \"  hello world  \"\n",
    "example3 = \"a good   example\"\n",
    "\n",
    "# Run the examples\n",
    "output1 = reverse_words(example1)\n",
    "output2 = reverse_words(example2)\n",
    "output3 = reverse_words(example3)\n",
    "\n",
    "print(f'Input: s = \"{example1}\"\\nOutput: \"{output1}\"')  # Expected: \"blue is sky the\"\n",
    "print(f'Input: s = \"{example2}\"\\nOutput: \"{output2}\"')  # Expected: \"world hello\"\n",
    "print(f'Input: s = \"{example3}\"\\nOutput: \"{output3}\"')  # Expected: \"example good a\""
   ]
  },
  {
   "cell_type": "code",
   "execution_count": null,
   "metadata": {},
   "outputs": [],
   "source": []
  },
  {
   "cell_type": "markdown",
   "metadata": {},
   "source": [
    "To reverse the order of words in a given string `s`, while ensuring there are no extra spaces and the words are separated by a single space, you can follow these steps:\n",
    "\n",
    "1. **Trim the Input**: Remove leading and trailing spaces from the input string.\n",
    "2. **Split the Words**: Split the string into a list of words, using whitespace as the delimiter. This will handle multiple spaces between words and also remove them.\n",
    "3. **Reverse the Words**: Reverse the list of words.\n",
    "4. **Join the Words**: Concatenate the reversed list into a single string with a single space between each word.\n",
    "\n",
    "Here’s the Python code implementing this approach:\n",
    "\n",
    "```python\n",
    "def reverse_words(s):\n",
    "    # Step 1: Trim the input string\n",
    "    trimmed_string = s.strip()\n",
    "    \n",
    "    # Step 2: Split the trimmed string into words\n",
    "    words = trimmed_string.split()\n",
    "    \n",
    "    # Step 3: Reverse the list of words\n",
    "    reversed_words = words[::-1]\n",
    "    \n",
    "    # Step 4: Join the reversed list into a single string with single spaces\n",
    "    reversed_string = ' '.join(reversed_words)\n",
    "    \n",
    "    return reversed_string\n",
    "\n",
    "# Example cases\n",
    "example1 = \"the sky is blue\"\n",
    "example2 = \"  hello world  \"\n",
    "example3 = \"a good   example\"\n",
    "\n",
    "# Run the examples\n",
    "output1 = reverse_words(example1)\n",
    "output2 = reverse_words(example2)\n",
    "output3 = reverse_words(example3)\n",
    "\n",
    "print(f\"Input: s = \\\"{example1}\\\"\\nOutput: \\\"{output1}\\\"\")  # Expected: \"blue is sky the\"\n",
    "print(f\"Input: s = \\\"{example2}\\\"\\nOutput: \\\"{output2}\\\"\")  # Expected: \"world hello\"\n",
    "print(f\"Input: s = \\\"{example3}\\\"\\nOutput: \\\"{output3}\\\"\")  # Expected: \"example good a\"\n",
    "```\n",
    "\n",
    "### Explanation:\n",
    "\n",
    "1. **Trimming**:\n",
    "   - `strip()` removes any leading or trailing whitespace from the string.\n",
    "\n",
    "2. **Splitting**:\n",
    "   - `split()` without arguments splits the string by any whitespace and removes any extra spaces between words. This results in a list of words.\n",
    "\n",
    "3. **Reversing**:\n",
    "   - `[::-1]` is a slicing technique that reverses the list of words.\n",
    "\n",
    "4. **Joining**:\n",
    "   - `' '.join()` concatenates the list of words into a single string with a single space between each word.\n",
    "\n",
    "### Time and Space Complexity:\n",
    "\n",
    "- **Time Complexity**: O(n), where n is the length of the input string. This is because the operations performed (trimming, splitting, reversing, and joining) each take linear time relative to the size of the input.\n",
    "- **Space Complexity**: O(n), where n is the length of the input string. The space is used for the list of words and the final output string.\n",
    "\n",
    "This solution handles leading, trailing"
   ]
  }
 ],
 "metadata": {
  "kernelspec": {
   "display_name": "moon",
   "language": "python",
   "name": "python3"
  },
  "language_info": {
   "codemirror_mode": {
    "name": "ipython",
    "version": 3
   },
   "file_extension": ".py",
   "mimetype": "text/x-python",
   "name": "python",
   "nbconvert_exporter": "python",
   "pygments_lexer": "ipython3",
   "version": "3.11.7"
  }
 },
 "nbformat": 4,
 "nbformat_minor": 2
}
