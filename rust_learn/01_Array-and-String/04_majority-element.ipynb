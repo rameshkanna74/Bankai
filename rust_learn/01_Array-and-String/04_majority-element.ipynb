{
 "cells": [
  {
   "cell_type": "code",
   "execution_count": 2,
   "metadata": {},
   "outputs": [],
   "source": [
    "def majority_element(nums):\n",
    "    # Initialize candidate for majority element and its count\n",
    "    candidate = None\n",
    "    count = 0\n",
    "\n",
    "    # Boyer-Moore Voting Algorithm\n",
    "    for num in nums:\n",
    "        if count == 0:\n",
    "            candidate = num  # Set the current element as the candidate\n",
    "        count += (\n",
    "            1 if num == candidate else -1\n",
    "        )  # Increment or decrement count based on match\n",
    "\n",
    "    # The candidate now holds the majority element\n",
    "    return candidate"
   ]
  },
  {
   "cell_type": "code",
   "execution_count": 1,
   "metadata": {},
   "outputs": [],
   "source": [
    "# Input: nums = [2,2,1,1,1,2,2]\n",
    "# Output: 2"
   ]
  },
  {
   "cell_type": "code",
   "execution_count": 3,
   "metadata": {},
   "outputs": [
    {
     "data": {
      "text/plain": [
       "2"
      ]
     },
     "execution_count": 3,
     "metadata": {},
     "output_type": "execute_result"
    }
   ],
   "source": [
    "nums = [2,2,1,1,1,2,2]\n",
    "majority_element(nums)"
   ]
  },
  {
   "cell_type": "markdown",
   "metadata": {},
   "source": [
    "To solve the problem in linear time with O(1) space complexity, we can use the **Boyer-Moore Voting Algorithm**. This algorithm is efficient and works in a single pass through the array while using only a constant amount of extra space.\n",
    "\n",
    "### Code:\n",
    "```python\n",
    "def majority_element(nums):\n",
    "    # Initialize candidate for majority element and its count\n",
    "    candidate = None\n",
    "    count = 0\n",
    "    \n",
    "    # Boyer-Moore Voting Algorithm\n",
    "    for num in nums:\n",
    "        if count == 0:\n",
    "            candidate = num  # Set the current element as the candidate\n",
    "        count += (1 if num == candidate else -1)  # Increment or decrement count based on match\n",
    "    \n",
    "    # The candidate now holds the majority element\n",
    "    return candidate\n",
    "```\n",
    "\n",
    "### Explanation:\n",
    "- **Time Complexity**: O(n), where `n` is the length of the array `nums`. We pass through the array just once.\n",
    "- **Space Complexity**: O(1). The algorithm only uses a few variables (`candidate` and `count`), making it very space efficient.\n",
    "\n",
    "### How it Works:\n",
    "1. **Candidate Initialization**: \n",
    "   - We start with `candidate` as `None` and `count` as 0.\n",
    "   \n",
    "2. **Iterating Through the Array**:\n",
    "   - If `count` is 0, it means there is no current candidate, so we set the current element as the `candidate`.\n",
    "   - If the current element is the same as the `candidate`, we increment the `count`.\n",
    "   - If it's different, we decrement the `count`.\n",
    "   \n",
    "3. **Majority Element**:\n",
    "   - The idea behind the algorithm is that the majority element will eventually remain as the candidate after we cancel out all other elements.\n",
    "   - At the end of the loop, the `candidate` will be the majority element, as it has the highest count.\n",
    "\n",
    "This approach is optimal for finding the majority element with the best possible time and space complexity."
   ]
  },
  {
   "cell_type": "code",
   "execution_count": null,
   "metadata": {},
   "outputs": [],
   "source": []
  }
 ],
 "metadata": {
  "kernelspec": {
   "display_name": "moon",
   "language": "python",
   "name": "python3"
  },
  "language_info": {
   "codemirror_mode": {
    "name": "ipython",
    "version": 3
   },
   "file_extension": ".py",
   "mimetype": "text/x-python",
   "name": "python",
   "nbconvert_exporter": "python",
   "pygments_lexer": "ipython3",
   "version": "3.11.7"
  }
 },
 "nbformat": 4,
 "nbformat_minor": 2
}
