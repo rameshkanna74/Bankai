{
 "cells": [
  {
   "cell_type": "code",
   "execution_count": 1,
   "metadata": {},
   "outputs": [],
   "source": [
    "def strStr(haystack, needle):\n",
    "    # Use the built-in find method to get the index of the first occurrence\n",
    "    return haystack.find(needle)"
   ]
  },
  {
   "cell_type": "code",
   "execution_count": 2,
   "metadata": {},
   "outputs": [
    {
     "name": "stdout",
     "output_type": "stream",
     "text": [
      "Input: haystack = \"sadbutsad\", needle = \"sad\"\n",
      "Output: 0\n",
      "Input: haystack = \"leetcode\", needle = \"leeto\"\n",
      "Output: -1\n"
     ]
    }
   ],
   "source": [
    "# Example cases\n",
    "example1 = (\"sadbutsad\", \"sad\")\n",
    "example2 = (\"leetcode\", \"leeto\")\n",
    "\n",
    "# Run the examples\n",
    "output1 = strStr(*example1)\n",
    "output2 = strStr(*example2)\n",
    "\n",
    "print(\n",
    "    f'Input: haystack = \"{example1[0]}\", needle = \"{example1[1]}\"\\nOutput: {output1}'\n",
    ")  # Expected: 0\n",
    "print(\n",
    "    f'Input: haystack = \"{example2[0]}\", needle = \"{example2[1]}\"\\nOutput: {output2}'\n",
    ")  # Expected: -1"
   ]
  },
  {
   "cell_type": "code",
   "execution_count": null,
   "metadata": {},
   "outputs": [],
   "source": []
  },
  {
   "cell_type": "markdown",
   "metadata": {},
   "source": [
    "To solve the problem of finding the index of the first occurrence of `needle` in `haystack`, you can utilize a simple and efficient approach. There are several methods to achieve this, but we'll focus on the most straightforward one using Python's built-in string methods.\n",
    "\n",
    "### Approach 1: Using Python's Built-in String Method `find`\n",
    "\n",
    "Python provides a built-in method `str.find(substring)` that returns the index of the first occurrence of `substring` in the string, or `-1` if the substring is not found. This method is efficient and directly applicable for this problem.\n",
    "\n",
    "Here's how you can use it:\n",
    "\n",
    "```python\n",
    "def strStr(haystack, needle):\n",
    "    # Use the built-in find method to get the index of the first occurrence\n",
    "    return haystack.find(needle)\n",
    "\n",
    "# Example cases\n",
    "example1 = (\"sadbutsad\", \"sad\")\n",
    "example2 = (\"leetcode\", \"leeto\")\n",
    "\n",
    "# Run the examples\n",
    "output1 = strStr(*example1)\n",
    "output2 = strStr(*example2)\n",
    "\n",
    "print(f\"Input: haystack = \\\"{example1[0]}\\\", needle = \\\"{example1[1]}\\\"\\nOutput: {output1}\")  # Expected: 0\n",
    "print(f\"Input: haystack = \\\"{example2[0]}\\\", needle = \\\"{example2[1]}\\\"\\nOutput: {output2}\")  # Expected: -1\n",
    "```\n",
    "\n",
    "### Explanation:\n",
    "\n",
    "1. **Function Call**:\n",
    "   - The `find` method is called on `haystack` with `needle` as the argument.\n",
    "   - If `needle` is found, `find` returns the starting index of the first occurrence.\n",
    "   - If `needle` is not found, `find` returns `-1`.\n",
    "\n",
    "2. **Edge Cases**:\n",
    "   - If `needle` is empty (though the constraints guarantee that `needle` has at least length 1), `find` would return `0` because an empty substring is technically found at the start of any string.\n",
    "\n",
    "### Time and Space Complexity:\n",
    "\n",
    "- **Time Complexity**: O(n), where n is the length of `haystack`. The `find` method performs a linear scan to locate the substring.\n",
    "- **Space Complexity**: O(1). The space used is constant as no additional storage is needed apart from the input strings.\n",
    "\n",
    "This method is efficient and leverages Python's optimized internal implementations to handle the search operation."
   ]
  }
 ],
 "metadata": {
  "kernelspec": {
   "display_name": "moon",
   "language": "python",
   "name": "python3"
  },
  "language_info": {
   "codemirror_mode": {
    "name": "ipython",
    "version": 3
   },
   "file_extension": ".py",
   "mimetype": "text/x-python",
   "name": "python",
   "nbconvert_exporter": "python",
   "pygments_lexer": "ipython3",
   "version": "3.11.7"
  }
 },
 "nbformat": 4,
 "nbformat_minor": 2
}
