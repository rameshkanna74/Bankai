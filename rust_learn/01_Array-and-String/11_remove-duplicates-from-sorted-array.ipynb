{
 "cells": [
  {
   "cell_type": "code",
   "execution_count": 1,
   "metadata": {},
   "outputs": [],
   "source": [
    "def removeDuplicates(nums):\n",
    "    # Edge case: if the list is empty, return 0\n",
    "    if not nums:\n",
    "        return 0\n",
    "\n",
    "    # Initialize the pointer for the position of the last unique element\n",
    "    unique_position = 0\n",
    "\n",
    "    # Iterate through the list starting from the second element\n",
    "    for i in range(1, len(nums)):\n",
    "        # If the current element is different from the last unique element\n",
    "        if nums[i] != nums[unique_position]:\n",
    "            # Move the unique_position forward and update it with the current unique element\n",
    "            unique_position += 1\n",
    "            nums[unique_position] = nums[i]\n",
    "\n",
    "    # The number of unique elements is unique_position + 1\n",
    "    return unique_position + 1"
   ]
  },
  {
   "cell_type": "code",
   "execution_count": 3,
   "metadata": {},
   "outputs": [
    {
     "name": "stdout",
     "output_type": "stream",
     "text": [
      "Unique elements in example 1: 2, nums = [1, 2]\n",
      "Unique elements in example 2: 5, nums = [0, 1, 2, 3, 4]\n"
     ]
    }
   ],
   "source": [
    "# Example usage:\n",
    "example_1 = [1, 1, 2]\n",
    "example_2 = [0, 0, 1, 1, 1, 2, 2, 3, 3, 4]\n",
    "\n",
    "k1 = removeDuplicates(example_1)\n",
    "k2 = removeDuplicates(example_2)\n",
    "\n",
    "print(\n",
    "    f\"Unique elements in example 1: {k1}, nums = {example_1[:k1]}\"\n",
    ")  # Output: 2, nums = [1, 2]\n",
    "print(\n",
    "    f\"Unique elements in example 2: {k2}, nums = {example_2[:k2]}\"\n",
    ")  # Output: 5, nums = [0, 1, 2, 3, 4]"
   ]
  },
  {
   "cell_type": "markdown",
   "metadata": {},
   "source": [
    "Here is a Python solution to remove duplicates from a sorted array `nums` in place, ensuring each unique element appears only once. The solution also returns the count of unique elements, with detailed comments and example usage:\n",
    "\n",
    "```python\n",
    "def removeDuplicates(nums):\n",
    "    # Edge case: if the list is empty, return 0\n",
    "    if not nums:\n",
    "        return 0\n",
    "\n",
    "    # Initialize the pointer for the position of the last unique element\n",
    "    unique_position = 0\n",
    "\n",
    "    # Iterate through the list starting from the second element\n",
    "    for i in range(1, len(nums)):\n",
    "        # If the current element is different from the last unique element\n",
    "        if nums[i] != nums[unique_position]:\n",
    "            # Move the unique_position forward and update it with the current unique element\n",
    "            unique_position += 1\n",
    "            nums[unique_position] = nums[i]\n",
    "\n",
    "    # The number of unique elements is unique_position + 1\n",
    "    return unique_position + 1\n",
    "\n",
    "# Example usage:\n",
    "example_1 = [1, 1, 2]\n",
    "example_2 = [0, 0, 1, 1, 1, 2, 2, 3, 3, 4]\n",
    "\n",
    "k1 = removeDuplicates(example_1)\n",
    "k2 = removeDuplicates(example_2)\n",
    "\n",
    "print(f\"Unique elements in example 1: {k1}, nums = {example_1[:k1]}\")  # Output: 2, nums = [1, 2]\n",
    "print(f\"Unique elements in example 2: {k2}, nums = {example_2[:k2]}\")  # Output: 5, nums = [0, 1, 2, 3, 4]\n",
    "```\n",
    "\n",
    "### Explanation:\n",
    "\n",
    "1. **unique_position**: This variable keeps track of the last index where a unique element was placed.\n",
    "2. **Loop through `nums`**: We start from the second element and compare it with the last unique element. If it's different, we move `unique_position` forward and update `nums[unique_position]` with the new unique value.\n",
    "3. **Return value**: The number of unique elements `k` is given by `unique_position + 1` since `unique_position` is 0-based.\n",
    "\n",
    "### Time and Space Complexity:\n",
    "\n",
    "- **Time Complexity**: O(n) – The algorithm processes each element in the array exactly once.\n",
    "- **Space Complexity**: O(1) – The solution uses a constant amount of extra space.\n",
    "\n",
    "This solution ensures that the input array is modified in place to contain the unique elements in their original order, and it is optimal in both time and space complexity.\n"
   ]
  },
  {
   "cell_type": "code",
   "execution_count": null,
   "metadata": {},
   "outputs": [],
   "source": []
  }
 ],
 "metadata": {
  "kernelspec": {
   "display_name": "moon",
   "language": "python",
   "name": "python3"
  },
  "language_info": {
   "codemirror_mode": {
    "name": "ipython",
    "version": 3
   },
   "file_extension": ".py",
   "mimetype": "text/x-python",
   "name": "python",
   "nbconvert_exporter": "python",
   "pygments_lexer": "ipython3",
   "version": "3.11.7"
  }
 },
 "nbformat": 4,
 "nbformat_minor": 2
}
