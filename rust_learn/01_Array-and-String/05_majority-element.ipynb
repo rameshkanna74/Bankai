{
 "cells": [
  {
   "cell_type": "markdown",
   "metadata": {},
   "source": [
    "169. Majority Element\n",
    "\n",
    "Given an array nums of size n, return the majority element.\n",
    "\n",
    "The majority element is the element that appears more than ⌊n / 2⌋ times. You may assume that the majority element always exists in the array.\n",
    "\n",
    "Example 1:\n",
    "\n",
    "Input: nums = [3,2,3]\n",
    "Output: 3\n",
    "\n",
    "Example 2:\n",
    "\n",
    "Input: nums = [2,2,1,1,1,2,2]\n",
    "Output: 2\n",
    "\n",
    "Constraints:\n",
    "\n",
    "    n == nums.length\n",
    "    1 <= n <= 5 * 104\n",
    "    -109 <= nums[i] <= 109\n",
    "\n",
    "Follow-up: Could you solve the problem in linear time and in O(1) space?\n",
    "-------------------------------------\n",
    "\n",
    "give best time and space complexity code in rust,give variables usefull name, add comments to explain the code way more clear,also add code to run example case\n"
   ]
  },
  {
   "cell_type": "markdown",
   "metadata": {},
   "source": [
    "The problem of finding the majority element can be solved efficiently using **Boyer-Moore Voting Algorithm**. This algorithm operates in `O(n)` time and `O(1)` space, making it optimal for this problem.\n",
    "\n",
    "Here’s the Rust solution:\n",
    "\n",
    "```rust\n",
    "fn majority_element(nums: Vec<i32>) -> i32 {\n",
    "    // The candidate for the majority element\n",
    "    let mut candidate = nums[0];\n",
    "    // A counter to track the frequency of the candidate\n",
    "    let mut count = 1;\n",
    "\n",
    "    // Iterate over the rest of the array\n",
    "    for &num in nums.iter().skip(1) {\n",
    "        if count == 0 {\n",
    "            // If the count is zero, switch to a new candidate\n",
    "            candidate = num;\n",
    "            count = 1;\n",
    "        } else if num == candidate {\n",
    "            // If the current number matches the candidate, increase the count\n",
    "            count += 1;\n",
    "        } else {\n",
    "            // If the current number does not match the candidate, decrease the count\n",
    "            count -= 1;\n",
    "        }\n",
    "    }\n",
    "\n",
    "    // The candidate is the majority element\n",
    "    candidate\n",
    "}\n",
    "\n",
    "fn main() {\n",
    "    // Example 1\n",
    "    let nums1 = vec![3, 2, 3];\n",
    "    let result1 = majority_element(nums1.clone());\n",
    "    println!(\"The majority element in {:?} is {}\", nums1, result1); // Output: 3\n",
    "\n",
    "    // Example 2\n",
    "    let nums2 = vec![2, 2, 1, 1, 1, 2, 2];\n",
    "    let result2 = majority_element(nums2.clone());\n",
    "    println!(\"The majority element in {:?} is {}\", nums2, result2); // Output: 2\n",
    "}\n",
    "```\n",
    "\n",
    "### Explanation:\n",
    "\n",
    "- **Time Complexity**: The solution runs in `O(n)` time, where `n` is the length of the array. The algorithm only requires one pass through the array.\n",
    "- **Space Complexity**: The solution uses `O(1)` extra space since only a few variables are needed.\n",
    "\n",
    "### Steps:\n",
    "\n",
    "1. **Initialization**:\n",
    "\n",
    "   - `candidate`: This variable holds the current candidate for the majority element. It's initialized with the first element of the array.\n",
    "   - `count`: A counter to keep track of the frequency of the candidate. Initially, it's set to `1` since the candidate is the first element.\n",
    "\n",
    "2. **Iteration**:\n",
    "   - As you iterate through the array:\n",
    "     - If the `count` is `0`, it means there’s no current candidate, so set the current element as the new candidate and reset `count` to `1`.\n",
    "     - If the current element matches the candidate, increase the `count`.\n",
    "     - If the current element doesn’t match the candidate, decrease the `count`.\n",
    "3. **Final Output**: After the loop, the candidate will be the majority element.\n",
    "\n",
    "4. **Running Example Cases**: The `main()` function demonstrates the usage of the `majority_element` function with example cases and prints the result.\n",
    "\n",
    "This approach is efficient and works perfectly for finding the majority element with optimal time and space complexity.\n"
   ]
  },
  {
   "cell_type": "code",
   "execution_count": 2,
   "metadata": {
    "vscode": {
     "languageId": "rust"
    }
   },
   "outputs": [
    {
     "name": "stdout",
     "output_type": "stream",
     "text": [
      "The majority element in [3, 2, 3] is 3\n",
      "The majority element in [2, 2, 1, 1, 1, 2, 2] is 2\n"
     ]
    },
    {
     "data": {
      "text/plain": [
       "()"
      ]
     },
     "execution_count": 2,
     "metadata": {},
     "output_type": "execute_result"
    }
   ],
   "source": [
    "fn majority_element(nums: Vec<i32>) -> i32 {\n",
    "    // The candidate for the majority element\n",
    "    let mut candidate = nums[0];\n",
    "    // A counter to track the frequency of the candidate\n",
    "    let mut count = 1;\n",
    "\n",
    "    // Iterate over the rest of the array\n",
    "    for &num in nums.iter().skip(1) {\n",
    "        if count == 0 {\n",
    "            // If the count is zero, switch to a new candidate\n",
    "            candidate = num;\n",
    "            count = 1;\n",
    "        } else if num == candidate {\n",
    "            // If the current number matches the candidate, increase the count\n",
    "            count += 1;\n",
    "        } else {\n",
    "            // If the current number does not match the candidate, decrease the count\n",
    "            count -= 1;\n",
    "        }\n",
    "    }\n",
    "\n",
    "    // The candidate is the majority element\n",
    "    candidate\n",
    "}\n",
    "\n",
    "fn main() {\n",
    "    // Example 1\n",
    "    let nums1 = vec![3, 2, 3];\n",
    "    let result1 = majority_element(nums1.clone());\n",
    "    println!(\"The majority element in {:?} is {}\", nums1, result1); // Output: 3\n",
    "\n",
    "    // Example 2\n",
    "    let nums2 = vec![2, 2, 1, 1, 1, 2, 2];\n",
    "    let result2 = majority_element(nums2.clone());\n",
    "    println!(\"The majority element in {:?} is {}\", nums2, result2); // Output: 2\n",
    "}\n",
    "\n",
    "main()"
   ]
  },
  {
   "cell_type": "code",
   "execution_count": null,
   "metadata": {
    "vscode": {
     "languageId": "rust"
    }
   },
   "outputs": [],
   "source": []
  }
 ],
 "metadata": {
  "kernelspec": {
   "display_name": "Rust",
   "language": "rust",
   "name": "rust"
  },
  "language_info": {
   "codemirror_mode": "rust",
   "file_extension": ".rs",
   "mimetype": "text/rust",
   "name": "Rust",
   "pygment_lexer": "rust",
   "version": ""
  }
 },
 "nbformat": 4,
 "nbformat_minor": 2
}
