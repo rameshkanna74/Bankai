{
 "cells": [
  {
   "cell_type": "markdown",
   "metadata": {},
   "source": [
    "2938. Separate Black and White Balls\n",
    "      Medium\n",
    "      Topics\n",
    "      Companies\n",
    "      Hint\n",
    "\n",
    "There are n balls on a table, each ball has a color black or white.\n",
    "\n",
    "You are given a 0-indexed binary string s of length n, where 1 and 0 represent black and white balls, respectively.\n",
    "\n",
    "In each step, you can choose two adjacent balls and swap them.\n",
    "\n",
    "Return the minimum number of steps to group all the black balls to the right and all the white balls to the left.\n",
    "\n",
    "Example 1:\n",
    "\n",
    "Input: s = \"101\"\n",
    "Output: 1\n",
    "Explanation: We can group all the black balls to the right in the following way:\n",
    "\n",
    "- Swap s[0] and s[1], s = \"011\".\n",
    "  Initially, 1s are not grouped together, requiring at least 1 step to group them to the right.\n",
    "\n",
    "Example 2:\n",
    "\n",
    "Input: s = \"100\"\n",
    "Output: 2\n",
    "Explanation: We can group all the black balls to the right in the following way:\n",
    "\n",
    "- Swap s[0] and s[1], s = \"010\".\n",
    "- Swap s[1] and s[2], s = \"001\".\n",
    "  It can be proven that the minimum number of steps needed is 2.\n",
    "\n",
    "Example 3:\n",
    "\n",
    "Input: s = \"0111\"\n",
    "Output: 0\n",
    "Explanation: All the black balls are already grouped to the right.\n",
    "\n",
    "Constraints:\n",
    "\n",
    "    1 <= n == s.length <= 105\n",
    "    s[i] is either '0' or '1'.\n",
    "\n",
    "---\n",
    "\n",
    "give best time and space complexity code in rust,give variables usefull name, add comments to explain the code way more clear,also add code to run example case, use below typing\n",
    "\n",
    "---\n",
    "\n",
    "impl Solution {\n",
    "pub fn minimum_steps(s: String) -> i64 {\n",
    "\n",
    "    }\n",
    "\n",
    "}\n"
   ]
  },
  {
   "cell_type": "markdown",
   "metadata": {},
   "source": []
  },
  {
   "cell_type": "code",
   "execution_count": null,
   "metadata": {
    "vscode": {
     "languageId": "plaintext"
    }
   },
   "outputs": [],
   "source": [
    "impl Solution {\n",
    "    pub fn minimum_steps(s: String) -> i64 {\n",
    "        s.chars().enumerate()\n",
    "            .filter(|(_, ch)| *ch == '0')\n",
    "            .enumerate()\n",
    "            .map(|(whites, (i, _))| i - whites)\n",
    "            .sum::<usize>() as _\n",
    "    }\n",
    "}"
   ]
  },
  {
   "cell_type": "code",
   "execution_count": null,
   "metadata": {
    "vscode": {
     "languageId": "plaintext"
    }
   },
   "outputs": [],
   "source": [
    "impl Solution {\n",
    "    pub fn minimum_steps(s: String) -> i64 {\n",
    "        let s: Vec<char> = s.chars().collect();\n",
    "        let mut white = 0;\n",
    "        let mut ans = 0;\n",
    "        for (i, &ch) in s.iter().enumerate() {\n",
    "            if ch == '0' {\n",
    "                ans += (i - white) as i64;\n",
    "                white += 1;\n",
    "            }\n",
    "        }\n",
    "        ans\n",
    "    }\n",
    "}"
   ]
  },
  {
   "cell_type": "markdown",
   "metadata": {},
   "source": [
    "aria2c -enable-rpc --rpc-listen-port=6800 --rpc-allow-origin-all --disable-ipv6"
   ]
  }
 ],
 "metadata": {
  "language_info": {
   "name": "python"
  }
 },
 "nbformat": 4,
 "nbformat_minor": 2
}
