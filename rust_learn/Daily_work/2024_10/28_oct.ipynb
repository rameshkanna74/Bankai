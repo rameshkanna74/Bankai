{
 "cells": [
  {
   "cell_type": "markdown",
   "metadata": {},
   "source": [
    "2501. Longest Square Streak in an Array\n",
    "      Medium\n",
    "      Topics\n",
    "      Companies\n",
    "      Hint\n",
    "\n",
    "You are given an integer array nums. A subsequence of nums is called a square streak if:\n",
    "\n",
    "    The length of the subsequence is at least 2, and\n",
    "    after sorting the subsequence, each element (except the first element) is the square of the previous number.\n",
    "\n",
    "Return the length of the longest square streak in nums, or return -1 if there is no square streak.\n",
    "\n",
    "A subsequence is an array that can be derived from another array by deleting some or no elements without changing the order of the remaining elements.\n",
    "\n",
    "Example 1:\n",
    "\n",
    "Input: nums = [4,3,6,16,8,2]\n",
    "Output: 3\n",
    "Explanation: Choose the subsequence [4,16,2]. After sorting it, it becomes [2,4,16].\n",
    "\n",
    "- 4 = 2 \\* 2.\n",
    "- 16 = 4 \\* 4.\n",
    "  Therefore, [4,16,2] is a square streak.\n",
    "  It can be shown that every subsequence of length 4 is not a square streak.\n",
    "\n",
    "Example 2:\n",
    "\n",
    "Input: nums = [2,3,5,6,7]\n",
    "Output: -1\n",
    "Explanation: There is no square streak in nums so return -1.\n",
    "\n",
    "Constraints:\n",
    "\n",
    "    2 <= nums.length <= 105\n",
    "    2 <= nums[i] <= 105\n",
    "\n",
    "---\n",
    "\n",
    "give best time and space complexity code in rust,give variables usefull name, add comments to explain the code way more clear,also add code to run example case, use below typing\n",
    "\n",
    "---\n",
    "\n",
    "impl Solution {\n",
    "pub fn longest_square_streak(nums: Vec<i32>) -> i32 {\n",
    "\n",
    "    }\n",
    "\n",
    "}\n"
   ]
  },
  {
   "cell_type": "markdown",
   "metadata": {},
   "source": []
  },
  {
   "cell_type": "code",
   "execution_count": null,
   "metadata": {
    "vscode": {
     "languageId": "plaintext"
    }
   },
   "outputs": [],
   "source": [
    "use std::collections::HashMap;\n",
    "\n",
    "impl Solution {\n",
    "    pub fn longest_square_streak(nums: Vec<i32>) -> i32 {\n",
    "        let mut nums = nums;\n",
    "        nums.sort_unstable();\n",
    "        let mut h : HashMap<i32, i32> = HashMap::new();\n",
    "        for &x in nums.iter().rev() {\n",
    "            if let Some(square) = x.checked_mul(x) {\n",
    "                if let Some(&sl) = h.get(&square) {\n",
    "                    h.insert(x, sl+1);\n",
    "                } else {\n",
    "                    h.insert(x, 0);\n",
    "                }\n",
    "            } else {\n",
    "                h.insert(x, 0);\n",
    "            }\n",
    "        }\n",
    "        match h.values().max() {\n",
    "            Some(&x) if x > 0 => x + 1,\n",
    "            _ => -1,\n",
    "        }\n",
    "    }\n",
    "}"
   ]
  },
  {
   "cell_type": "code",
   "execution_count": null,
   "metadata": {
    "vscode": {
     "languageId": "plaintext"
    }
   },
   "outputs": [],
   "source": [
    "impl Solution {\n",
    "    pub fn longest_square_streak(nums: Vec<i32>) -> i32 {\n",
    "        let mut nums = nums;\n",
    "        nums.sort_unstable();\n",
    "        let mut dp = vec![0; nums.len()];\n",
    "        for (idx, x) in nums.iter().enumerate().rev() {\n",
    "            if let Some(square) = x.checked_mul(*x) {\n",
    "                if let Ok(sqidx) = nums.binary_search(&square) {\n",
    "                    dp[idx] = dp[sqidx] + 1;\n",
    "                }\n",
    "            }\n",
    "        }\n",
    "        match dp.iter().max() {\n",
    "            Some(&x) if x > 0 => x + 1,\n",
    "            _ => -1,\n",
    "        }\n",
    "    }\n",
    "}"
   ]
  }
 ],
 "metadata": {
  "language_info": {
   "name": "python"
  }
 },
 "nbformat": 4,
 "nbformat_minor": 2
}
