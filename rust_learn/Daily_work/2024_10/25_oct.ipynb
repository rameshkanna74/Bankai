{
 "cells": [
  {
   "cell_type": "markdown",
   "metadata": {},
   "source": [
    "1233. Remove Sub-Folders from the Filesystem\n",
    "Medium\n",
    "Topics\n",
    "Companies\n",
    "Hint\n",
    "\n",
    "Given a list of folders folder, return the folders after removing all sub-folders in those folders. You may return the answer in any order.\n",
    "\n",
    "If a folder[i] is located within another folder[j], it is called a sub-folder of it. A sub-folder of folder[j] must start with folder[j], followed by a \"/\". For example, \"/a/b\" is a sub-folder of \"/a\", but \"/b\" is not a sub-folder of \"/a/b/c\".\n",
    "\n",
    "The format of a path is one or more concatenated strings of the form: '/' followed by one or more lowercase English letters.\n",
    "\n",
    "    For example, \"/leetcode\" and \"/leetcode/problems\" are valid paths while an empty string and \"/\" are not.\n",
    "\n",
    " \n",
    "\n",
    "Example 1:\n",
    "\n",
    "Input: folder = [\"/a\",\"/a/b\",\"/c/d\",\"/c/d/e\",\"/c/f\"]\n",
    "Output: [\"/a\",\"/c/d\",\"/c/f\"]\n",
    "Explanation: Folders \"/a/b\" is a subfolder of \"/a\" and \"/c/d/e\" is inside of folder \"/c/d\" in our filesystem.\n",
    "\n",
    "Example 2:\n",
    "\n",
    "Input: folder = [\"/a\",\"/a/b/c\",\"/a/b/d\"]\n",
    "Output: [\"/a\"]\n",
    "Explanation: Folders \"/a/b/c\" and \"/a/b/d\" will be removed because they are subfolders of \"/a\".\n",
    "\n",
    "Example 3:\n",
    "\n",
    "Input: folder = [\"/a/b/c\",\"/a/b/ca\",\"/a/b/d\"]\n",
    "Output: [\"/a/b/c\",\"/a/b/ca\",\"/a/b/d\"]\n",
    "\n",
    " \n",
    "\n",
    "Constraints:\n",
    "\n",
    "    1 <= folder.length <= 4 * 104\n",
    "    2 <= folder[i].length <= 100\n",
    "    folder[i] contains only lowercase letters and '/'.\n",
    "    folder[i] always starts with the character '/'.\n",
    "    Each folder name is unique.\n",
    "\n",
    "\n",
    "\n",
    "\n",
    "---\n",
    "\n",
    "give best time and space complexity code in rust,give variables usefull name, add comments to explain the code way more clear,also add code to run example case, use below typing\n",
    "\n",
    "---\n",
    "\n",
    "impl Solution {\n",
    "    pub fn remove_subfolders(folder: Vec<String>) -> Vec<String> {\n",
    "        \n",
    "    }\n",
    "}"
   ]
  },
  {
   "cell_type": "markdown",
   "metadata": {},
   "source": [
    "Topics:\n",
    "    Array\n",
    "    String\n",
    "    Depth-First Search\n",
    "    Trie"
   ]
  },
  {
   "cell_type": "markdown",
   "metadata": {},
   "source": []
  },
  {
   "cell_type": "code",
   "execution_count": null,
   "metadata": {
    "vscode": {
     "languageId": "plaintext"
    }
   },
   "outputs": [],
   "source": [
    "impl Solution {\n",
    "    pub fn remove_subfolders(mut folder: Vec<String>) -> Vec<String> {\n",
    "        // Sort the folder paths lexicographically\n",
    "        folder.sort_unstable();\n",
    "\n",
    "        // Vector to store the paths we want to keep\n",
    "        let mut keep = Vec::new();\n",
    "        \n",
    "        // Start with the first folder as the current folder to compare with\n",
    "        let mut cur: &str = &folder[0];\n",
    "        keep.push(cur.to_string());\n",
    "\n",
    "        // Iterate over the folder list starting from the second one\n",
    "        for s in folder.iter().skip(1) {\n",
    "            // Check if `s` is not a subfolder of `cur`\n",
    "            if !(s.starts_with(cur) && s.as_bytes().get(cur.len()) == Some(&b'/')) {\n",
    "                keep.push(s.clone());\n",
    "                cur = s;\n",
    "            }\n",
    "        }\n",
    "\n",
    "        keep\n",
    "    }\n",
    "}"
   ]
  }
 ],
 "metadata": {
  "language_info": {
   "name": "python"
  }
 },
 "nbformat": 4,
 "nbformat_minor": 2
}
