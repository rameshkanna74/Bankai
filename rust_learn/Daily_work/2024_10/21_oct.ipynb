{
 "cells": [
  {
   "cell_type": "markdown",
   "metadata": {},
   "source": [
    "1593. Split a String Into the Max Number of Unique Substrings\n",
    "      Medium\n",
    "      Topics\n",
    "      Companies\n",
    "      Hint\n",
    "\n",
    "Given a string s, return the maximum number of unique substrings that the given string can be split into.\n",
    "\n",
    "You can split string s into any list of non-empty substrings, where the concatenation of the substrings forms the original string. However, you must split the substrings such that all of them are unique.\n",
    "\n",
    "A substring is a contiguous sequence of characters within a string.\n",
    "\n",
    "Example 1:\n",
    "\n",
    "Input: s = \"ababccc\"\n",
    "Output: 5\n",
    "Explanation: One way to split maximally is ['a', 'b', 'ab', 'c', 'cc']. Splitting like ['a', 'b', 'a', 'b', 'c', 'cc'] is not valid as you have 'a' and 'b' multiple times.\n",
    "\n",
    "Example 2:\n",
    "\n",
    "Input: s = \"aba\"\n",
    "Output: 2\n",
    "Explanation: One way to split maximally is ['a', 'ba'].\n",
    "\n",
    "Example 3:\n",
    "\n",
    "Input: s = \"aa\"\n",
    "Output: 1\n",
    "Explanation: It is impossible to split the string any further.\n",
    "\n",
    "Constraints:\n",
    "\n",
    "    1 <= s.length <= 16\n",
    "\n",
    "    s contains only lower case English letters.\n",
    "\n",
    "---\n",
    "\n",
    "give best time and space complexity code in rust,give variables usefull name, add comments to explain the code way more clear,also add code to run example case, use below typing\n",
    "\n",
    "---\n",
    "\n",
    "impl Solution {\n",
    "pub fn max_unique_split(s: String) -> i32 {\n",
    "\n",
    "    }\n",
    "\n",
    "}\n"
   ]
  },
  {
   "cell_type": "markdown",
   "metadata": {},
   "source": []
  },
  {
   "cell_type": "code",
   "execution_count": null,
   "metadata": {
    "vscode": {
     "languageId": "plaintext"
    }
   },
   "outputs": [],
   "source": [
    "use std::collections::HashSet;\n",
    "\n",
    "impl Solution {\n",
    "    pub fn max_unique_split(s: String) -> i32 {\n",
    "        let mut seen: HashSet<String> = HashSet::new();\n",
    "        let mut max_count = 0;\n",
    "        \n",
    "        Self::backtrack(&s, 0, &mut seen, 0, &mut max_count);\n",
    "        \n",
    "        max_count\n",
    "    }\n",
    "\n",
    "    fn backtrack(s: &str, start: usize, seen: &mut HashSet<String>, \n",
    "                 count: i32, max_count: &mut i32) {\n",
    "        if count + (s.len() - start) as i32 <= *max_count {\n",
    "            return;\n",
    "        }\n",
    "\n",
    "        if start == s.len() {\n",
    "            *max_count = (*max_count).max(count);\n",
    "            return;\n",
    "        }\n",
    "\n",
    "        for end in start + 1..=s.len() {\n",
    "            let substring = s[start..end].to_string();\n",
    "            \n",
    "            if !seen.contains(&substring) {\n",
    "                seen.insert(substring.clone()); \n",
    "                \n",
    "                Self::backtrack(s, end, seen, count + 1, max_count);\n",
    "                \n",
    "                seen.remove(&substring);\n",
    "            }\n",
    "        }\n",
    "    }\n",
    "}"
   ]
  }
 ],
 "metadata": {
  "language_info": {
   "name": "python"
  }
 },
 "nbformat": 4,
 "nbformat_minor": 2
}
