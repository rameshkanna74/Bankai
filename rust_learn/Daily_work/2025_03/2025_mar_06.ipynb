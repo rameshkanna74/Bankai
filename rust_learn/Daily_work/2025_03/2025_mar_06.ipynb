{
 "cells": [
  {
   "cell_type": "markdown",
   "metadata": {},
   "source": [
    "2965. Find Missing and Repeated Values\n",
    "\n",
    "    Easy\n",
    "    Topics\n",
    "    Companies\n",
    "\n",
    "You are given a 0-indexed 2D integer matrix grid of size n \\* n with values in the range [1, n2]. Each integer appears exactly once except a which appears twice and b which is missing. The task is to find the repeating and missing numbers a and b.\n",
    "\n",
    "Return a 0-indexed integer array ans of size 2 where ans[0] equals to a and ans[1] equals to b.\n",
    "\n",
    "Example 1:\n",
    "\n",
    "Input: grid = [[1,3],[2,2]]\n",
    "Output: [2,4]\n",
    "Explanation: Number 2 is repeated and number 4 is missing so the answer is [2,4].\n",
    "Example 2:\n",
    "\n",
    "Input: grid = [[9,1,7],[8,9,2],[3,4,6]]\n",
    "Output: [9,5]\n",
    "Explanation: Number 9 is repeated and number 5 is missing so the answer is [9,5].\n",
    "\n",
    "Constraints:\n",
    "\n",
    "2 <= n == grid.length == grid[i].length <= 50\n",
    "1 <= grid[i][j] <= n _ n\n",
    "For all x that 1 <= x <= n _ n there is exactly one x that is not equal to any of the grid members.\n",
    "For all x that 1 <= x <= n _ n there is exactly one x that is equal to exactly two of the grid members.\n",
    "For all x that 1 <= x <= n _ n except two of them there is exatly one pair of i, j that 0 <= i, j <= n - 1 and grid[i][j] == x.\n",
    "\n",
    "---\n",
    "\n",
    "give best time and space complexity code in rust to use in interview,give variables usefull name, add comments to explain the code way more clear,also add code to run example case, use below typing\n",
    "\n",
    "---\n",
    "\n",
    "```rust\n",
    "impl Solution {\n",
    "    pub fn find_missing_and_repeated_values(grid: Vec<Vec<i32>>) -> Vec<i32> {\n",
    "        \n",
    "    }\n",
    "}\n",
    "```\n"
   ]
  },
  {
   "cell_type": "markdown",
   "metadata": {},
   "source": []
  },
  {
   "cell_type": "code",
   "execution_count": null,
   "metadata": {},
   "outputs": [],
   "source": [
    "impl Solution {\n",
    "    pub fn find_missing_and_repeated_values(grid: Vec<Vec<i32>>) -> Vec<i32> {\n",
    "        let n = grid.len() as i64;\n",
    "        let n_sq = n * n;\n",
    "\n",
    "        let supposed_sum = n_sq * (n_sq + 1) / 2;\n",
    "        let supposed_sum_sq = supposed_sum * (2 * n_sq + 1) / 3;\n",
    "\n",
    "        let (sum, sum_sq) = grid\n",
    "            .into_iter()\n",
    "            .flatten()\n",
    "            .fold((0_i64, 0_i64), |(sum, sum_sq), num| {\n",
    "                (sum + num as i64, sum_sq + (num * num) as i64)\n",
    "            });\n",
    "\n",
    "        let a_minus_b = sum - supposed_sum;\n",
    "        let a_plus_b = (sum_sq - supposed_sum_sq) / a_minus_b;\n",
    "\n",
    "        vec![\n",
    "            ((a_plus_b + a_minus_b) / 2) as _,\n",
    "            ((a_plus_b - a_minus_b) / 2) as _,\n",
    "        ]\n",
    "    }\n",
    "}"
   ]
  }
 ],
 "metadata": {
  "kernelspec": {
   "display_name": "Rust",
   "language": "rust",
   "name": "rust"
  },
  "language_info": {
   "name": "rust"
  }
 },
 "nbformat": 4,
 "nbformat_minor": 2
}
