{
 "cells": [
  {
   "cell_type": "markdown",
   "metadata": {},
   "source": [
    "2379. Minimum Recolors to Get K Consecutive Black Blocks\n",
    "      Easy\n",
    "      Topics\n",
    "      Companies\n",
    "      Hint\n",
    "\n",
    "You are given a 0-indexed string blocks of length n, where blocks[i] is either 'W' or 'B', representing the color of the ith block. The characters 'W' and 'B' denote the colors white and black, respectively.\n",
    "\n",
    "You are also given an integer k, which is the desired number of consecutive black blocks.\n",
    "\n",
    "In one operation, you can recolor a white block such that it becomes a black block.\n",
    "\n",
    "Return the minimum number of operations needed such that there is at least one occurrence of k consecutive black blocks.\n",
    "\n",
    "Example 1:\n",
    "\n",
    "Input: blocks = \"WBBWWBBWBW\", k = 7\n",
    "Output: 3\n",
    "Explanation:\n",
    "One way to achieve 7 consecutive black blocks is to recolor the 0th, 3rd, and 4th blocks\n",
    "so that blocks = \"BBBBBBBWBW\".\n",
    "It can be shown that there is no way to achieve 7 consecutive black blocks in less than 3 operations.\n",
    "Therefore, we return 3.\n",
    "Example 2:\n",
    "\n",
    "Input: blocks = \"WBWBBBW\", k = 2\n",
    "Output: 0\n",
    "Explanation:\n",
    "No changes need to be made, since 2 consecutive black blocks already exist.\n",
    "Therefore, we return 0.\n",
    "\n",
    "Constraints:\n",
    "\n",
    "n == blocks.length\n",
    "1 <= n <= 100\n",
    "blocks[i] is either 'W' or 'B'.\n",
    "1 <= k <= n\n",
    "\n",
    "---\n",
    "\n",
    "give best time and space complexity code in rust to use in interview,give variables usefull name, add comments to explain the code way more clear,also add code to run example case, use below typing\n",
    "\n",
    "---\n",
    "\n",
    "```rust\n",
    "impl Solution {\n",
    "    pub fn minimum_recolors(blocks: String, k: i32) -> i32 {\n",
    "\n",
    "    }\n",
    "}\n",
    "```\n"
   ]
  },
  {
   "cell_type": "markdown",
   "metadata": {},
   "source": []
  },
  {
   "cell_type": "code",
   "execution_count": null,
   "metadata": {},
   "outputs": [],
   "source": [
    "impl Solution {\n",
    "    pub fn minimum_recolors(blocks: String, k: i32) -> i32 {\n",
    "        let mut prefix_white_count = blocks.into_bytes();\n",
    "        prefix_white_count\n",
    "            .iter_mut()\n",
    "            .fold(0, |mut white_count, block| {\n",
    "                if *block == b'W' {\n",
    "                    white_count += 1;\n",
    "                }\n",
    "                *block = white_count;\n",
    "                white_count\n",
    "            });\n",
    "\n",
    "        let k = k as usize;\n",
    "        (k..prefix_white_count.len())\n",
    "            .map(|i| prefix_white_count[i] - prefix_white_count[i - k])\n",
    "            .chain([prefix_white_count[k - 1]])\n",
    "            .min()\n",
    "            .unwrap() as _\n",
    "    }\n",
    "}"
   ]
  }
 ],
 "metadata": {
  "kernelspec": {
   "display_name": "Rust",
   "language": "rust",
   "name": "rust"
  },
  "language_info": {
   "name": "rust"
  }
 },
 "nbformat": 4,
 "nbformat_minor": 2
}
