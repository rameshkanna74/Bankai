{
 "cells": [
  {
   "cell_type": "markdown",
   "metadata": {},
   "source": [
    "1358. Number of Substrings Containing All Three Characters\n",
    "      Medium\n",
    "      Topics\n",
    "      Companies\n",
    "      Hint\n",
    "\n",
    "Given a string s consisting only of characters a, b and c.\n",
    "\n",
    "Return the number of substrings containing at least one occurrence of all these characters a, b and c.\n",
    "\n",
    "Example 1:\n",
    "\n",
    "Input: s = \"abcabc\"\n",
    "Output: 10\n",
    "Explanation: The substrings containing at least one occurrence of the characters a, b and c are \"abc\", \"abca\", \"abcab\", \"abcabc\", \"bca\", \"bcab\", \"bcabc\", \"cab\", \"cabc\" and \"abc\" (again).\n",
    "Example 2:\n",
    "\n",
    "Input: s = \"aaacb\"\n",
    "Output: 3\n",
    "Explanation: The substrings containing at least one occurrence of the characters a, b and c are \"aaacb\", \"aacb\" and \"acb\".\n",
    "Example 3:\n",
    "\n",
    "Input: s = \"abc\"\n",
    "Output: 1\n",
    "\n",
    "Constraints:\n",
    "\n",
    "3 <= s.length <= 5 x 10^4\n",
    "s only consists of a, b or c characters.\n",
    "\n",
    "---\n",
    "\n",
    "give best time and space complexity code in rust to use in interview,give variables usefull name, add comments to explain the code way more clear,also add code to run example case, use below typing\n",
    "\n",
    "---\n",
    "\n",
    "```rust\n",
    "impl Solution {\n",
    "    pub fn number_of_substrings(s: String) -> i32 {\n",
    "\n",
    "    }\n",
    "}\n",
    "```\n"
   ]
  },
  {
   "cell_type": "markdown",
   "metadata": {},
   "source": []
  },
  {
   "cell_type": "code",
   "execution_count": null,
   "metadata": {},
   "outputs": [],
   "source": [
    "// abcabc\n",
    "// ^ ^\n",
    "// l r\n",
    "impl Solution {\n",
    "    pub fn number_of_substrings(s: String) -> i32 {\n",
    "        let mut last_pos = vec![-1,-1,-1];\n",
    "        let mut total = 0;\n",
    "        let s = s.as_bytes();\n",
    "        for idx in 0..s.len() {\n",
    "            last_pos[(s[idx] - b'a') as usize] = idx as i32;\n",
    "            total += 1 + last_pos.iter().min().unwrap();\n",
    "        }\n",
    "\n",
    "        total as i32\n",
    "    }\n",
    "}"
   ]
  }
 ],
 "metadata": {
  "kernelspec": {
   "display_name": "Rust",
   "language": "rust",
   "name": "rust"
  },
  "language_info": {
   "name": "rust"
  }
 },
 "nbformat": 4,
 "nbformat_minor": 2
}
