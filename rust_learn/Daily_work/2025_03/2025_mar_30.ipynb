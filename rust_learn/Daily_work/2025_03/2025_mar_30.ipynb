{
 "cells": [
  {
   "cell_type": "markdown",
   "metadata": {},
   "source": [
    "763. Partition Labels\n",
    "     Medium\n",
    "     Topics\n",
    "     Companies\n",
    "     Hint\n",
    "\n",
    "You are given a string s. We want to partition the string into as many parts as possible so that each letter appears in at most one part. For example, the string \"ababcc\" can be partitioned into [\"abab\", \"cc\"], but partitions such as [\"aba\", \"bcc\"] or [\"ab\", \"ab\", \"cc\"] are invalid.\n",
    "\n",
    "Note that the partition is done so that after concatenating all the parts in order, the resultant string should be s.\n",
    "\n",
    "Return a list of integers representing the size of these parts.\n",
    "\n",
    "Example 1:\n",
    "\n",
    "Input: s = \"ababcbacadefegdehijhklij\"\n",
    "Output: [9,7,8]\n",
    "Explanation:\n",
    "The partition is \"ababcbaca\", \"defegde\", \"hijhklij\".\n",
    "This is a partition so that each letter appears in at most one part.\n",
    "A partition like \"ababcbacadefegde\", \"hijhklij\" is incorrect, because it splits s into less parts.\n",
    "Example 2:\n",
    "\n",
    "Input: s = \"eccbbbbdec\"\n",
    "Output: [10]\n",
    "\n",
    "Constraints:\n",
    "\n",
    "1 <= s.length <= 500\n",
    "s consists of lowercase English letters.\n",
    "\n",
    "---\n",
    "\n",
    "give best time and space complexity code in rust to use in interview,give variables usefull name, add comments to explain the code way more clear,also add code to run example case, use below typing\n",
    "\n",
    "---\n",
    "\n",
    "```rust\n",
    "impl Solution {\n",
    "    pub fn partition_labels(s: String) -> Vec<i32> {\n",
    "\n",
    "    }\n",
    "}\n",
    "```\n"
   ]
  },
  {
   "cell_type": "markdown",
   "metadata": {},
   "source": []
  },
  {
   "cell_type": "code",
   "execution_count": null,
   "metadata": {},
   "outputs": [],
   "source": [
    "impl Solution {\n",
    "    pub fn partition_labels(s: String) -> Vec<i32> {\n",
    "        let mut last_occurrence = std::collections::HashMap::new();\n",
    "        for (i, c) in s.chars().enumerate() {\n",
    "            last_occurrence.insert(c, i);\n",
    "        }\n",
    "\n",
    "        let mut result = Vec::new();\n",
    "        let mut start = 0;\n",
    "        let mut end = 0;\n",
    "\n",
    "        for (i, c) in s.chars().enumerate() {\n",
    "            if let Some(&last) = last_occurrence.get(&c) {\n",
    "                end = end.max(last);\n",
    "            }\n",
    "            if i == end {\n",
    "                result.push((end - start + 1) as i32);\n",
    "                start = i + 1;\n",
    "            }\n",
    "        }\n",
    "\n",
    "        result\n",
    "    }\n",
    "}"
   ]
  }
 ],
 "metadata": {
  "kernelspec": {
   "display_name": "Rust",
   "language": "rust",
   "name": "rust"
  },
  "language_info": {
   "name": "rust"
  }
 },
 "nbformat": 4,
 "nbformat_minor": 2
}
