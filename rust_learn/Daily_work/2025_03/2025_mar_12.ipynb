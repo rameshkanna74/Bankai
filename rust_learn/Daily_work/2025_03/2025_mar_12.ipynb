{
 "cells": [
  {
   "cell_type": "markdown",
   "metadata": {},
   "source": [
    "2529. Maximum Count of Positive Integer and Negative Integer\n",
    "      Easy\n",
    "      Topics\n",
    "      Companies\n",
    "      Hint\n",
    "\n",
    "Given an array nums sorted in non-decreasing order, return the maximum between the number of positive integers and the number of negative integers.\n",
    "\n",
    "In other words, if the number of positive integers in nums is pos and the number of negative integers is neg, then return the maximum of pos and neg.\n",
    "Note that 0 is neither positive nor negative.\n",
    "\n",
    "Example 1:\n",
    "\n",
    "Input: nums = [-2,-1,-1,1,2,3]\n",
    "Output: 3\n",
    "Explanation: There are 3 positive integers and 3 negative integers. The maximum count among them is 3.\n",
    "Example 2:\n",
    "\n",
    "Input: nums = [-3,-2,-1,0,0,1,2]\n",
    "Output: 3\n",
    "Explanation: There are 2 positive integers and 3 negative integers. The maximum count among them is 3.\n",
    "Example 3:\n",
    "\n",
    "Input: nums = [5,20,66,1314]\n",
    "Output: 4\n",
    "Explanation: There are 4 positive integers and 0 negative integers. The maximum count among them is 4.\n",
    "\n",
    "Constraints:\n",
    "\n",
    "1 <= nums.length <= 2000\n",
    "-2000 <= nums[i] <= 2000\n",
    "nums is sorted in a non-decreasing order.\n",
    "\n",
    "Follow up: Can you solve the problem in O(log(n)) time complexity?\n",
    "\n",
    "---\n",
    "\n",
    "give best time and space complexity code in rust to use in interview,give variables usefull name, add comments to explain the code way more clear,also add code to run example case, use below typing\n",
    "\n",
    "---\n",
    "\n",
    "```rust\n",
    "impl Solution {\n",
    "    pub fn maximum_count(nums: Vec<i32>) -> i32 {\n",
    "        \n",
    "    }\n",
    "}\n",
    "```\n"
   ]
  },
  {
   "cell_type": "markdown",
   "metadata": {},
   "source": []
  },
  {
   "cell_type": "code",
   "execution_count": null,
   "metadata": {},
   "outputs": [],
   "source": [
    "impl Solution {\n",
    "    pub fn maximum_count(nums: Vec<i32>) -> i32 {\n",
    "        let neg_count = Self::binary_search(&nums, 0) as i32;\n",
    "        let pos_count = (nums.len() - Self::binary_search(&nums, 1)) as i32;\n",
    "        if neg_count > pos_count { neg_count } else { pos_count }\n",
    "    }\n",
    "\n",
    "    fn binary_search(nums: &Vec<i32>, target: i32) -> usize {\n",
    "        let (mut left, mut right, mut result) = (0, nums.len() as isize - 1, nums.len());\n",
    "        \n",
    "        while left <= right {\n",
    "            let mid = ((left + right) / 2) as usize;\n",
    "            if nums[mid] < target {\n",
    "                left = mid as isize + 1;\n",
    "            } else {\n",
    "                result = mid;\n",
    "                right = mid as isize - 1;\n",
    "            }\n",
    "        }\n",
    "        \n",
    "        result\n",
    "    }\n",
    "}"
   ]
  }
 ],
 "metadata": {
  "kernelspec": {
   "display_name": "Rust",
   "language": "rust",
   "name": "rust"
  },
  "language_info": {
   "name": "rust"
  }
 },
 "nbformat": 4,
 "nbformat_minor": 2
}
