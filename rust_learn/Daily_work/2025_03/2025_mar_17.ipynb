{
 "cells": [
  {
   "cell_type": "markdown",
   "metadata": {},
   "source": [
    "2206. Divide Array Into Equal Pairs\n",
    "      Easy\n",
    "      Topics\n",
    "      Companies\n",
    "      Hint\n",
    "\n",
    "You are given an integer array nums consisting of 2 \\* n integers.\n",
    "\n",
    "You need to divide nums into n pairs such that:\n",
    "\n",
    "Each element belongs to exactly one pair.\n",
    "The elements present in a pair are equal.\n",
    "Return true if nums can be divided into n pairs, otherwise return false.\n",
    "\n",
    "Example 1:\n",
    "\n",
    "Input: nums = [3,2,3,2,2,2]\n",
    "Output: true\n",
    "Explanation:\n",
    "There are 6 elements in nums, so they should be divided into 6 / 2 = 3 pairs.\n",
    "If nums is divided into the pairs (2, 2), (3, 3), and (2, 2), it will satisfy all the conditions.\n",
    "Example 2:\n",
    "\n",
    "Input: nums = [1,2,3,4]\n",
    "Output: false\n",
    "Explanation:\n",
    "There is no way to divide nums into 4 / 2 = 2 pairs such that the pairs satisfy every condition.\n",
    "\n",
    "Constraints:\n",
    "\n",
    "nums.length == 2 \\* n\n",
    "1 <= n <= 500\n",
    "1 <= nums[i] <= 500\n",
    "\n",
    "---\n",
    "\n",
    "give best time and space complexity code in rust to use in interview,give variables usefull name, add comments to explain the code way more clear,also add code to run example case, use below typing\n",
    "\n",
    "---\n",
    "\n",
    "```rust\n",
    "impl Solution {\n",
    "    pub fn divide_array(nums: Vec<i32>) -> bool {\n",
    "\n",
    "    }\n",
    "}\n",
    "```\n"
   ]
  },
  {
   "cell_type": "markdown",
   "metadata": {},
   "source": []
  },
  {
   "cell_type": "code",
   "execution_count": null,
   "metadata": {},
   "outputs": [],
   "source": [
    "impl Solution {\n",
    "    pub fn divide_array(nums: Vec<i32>) -> bool {\n",
    "        let mut has = [0; 501];\n",
    "        let mut pending = 0;\n",
    "\n",
    "        for n in nums {\n",
    "            let n = n as usize;\n",
    "            \n",
    "            if has[n] > 0 {\n",
    "                has[n] -= 1;\n",
    "                pending -= 1;\n",
    "            } else {\n",
    "                has[n] += 1;\n",
    "                pending += 1;\n",
    "            }\n",
    "        }\n",
    "        return pending == 0\n",
    "    }\n",
    "}"
   ]
  }
 ],
 "metadata": {
  "kernelspec": {
   "display_name": "Rust",
   "language": "rust",
   "name": "rust"
  },
  "language_info": {
   "name": "rust"
  }
 },
 "nbformat": 4,
 "nbformat_minor": 2
}
