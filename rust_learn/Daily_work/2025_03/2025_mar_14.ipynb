{
 "cells": [
  {
   "cell_type": "markdown",
   "metadata": {},
   "source": [
    "2226. Maximum Candies Allocated to K Children\n",
    "      Medium\n",
    "      Topics\n",
    "      Companies\n",
    "      Hint\n",
    "\n",
    "You are given a 0-indexed integer array candies. Each element in the array denotes a pile of candies of size candies[i]. You can divide each pile into any number of sub piles, but you cannot merge two piles together.\n",
    "\n",
    "You are also given an integer k. You should allocate piles of candies to k children such that each child gets the same number of candies. Each child can be allocated candies from only one pile of candies and some piles of candies may go unused.\n",
    "\n",
    "Return the maximum number of candies each child can get.\n",
    "\n",
    "Example 1:\n",
    "\n",
    "Input: candies = [5,8,6], k = 3\n",
    "Output: 5\n",
    "Explanation: We can divide candies[1] into 2 piles of size 5 and 3, and candies[2] into 2 piles of size 5 and 1. We now have five piles of candies of sizes 5, 5, 3, 5, and 1. We can allocate the 3 piles of size 5 to 3 children. It can be proven that each child cannot receive more than 5 candies.\n",
    "Example 2:\n",
    "\n",
    "Input: candies = [2,5], k = 11\n",
    "Output: 0\n",
    "Explanation: There are 11 children but only 7 candies in total, so it is impossible to ensure each child receives at least one candy. Thus, each child gets no candy and the answer is 0.\n",
    "\n",
    "Constraints:\n",
    "\n",
    "1 <= candies.length <= 105\n",
    "1 <= candies[i] <= 107\n",
    "1 <= k <= 1012\n",
    "\n",
    "---\n",
    "\n",
    "give best time and space complexity code in rust to use in interview,give variables usefull name, add comments to explain the code way more clear,also add code to run example case, use below typing\n",
    "\n",
    "---\n",
    "\n",
    "```rust\n",
    "impl Solution {\n",
    "    pub fn maximum_candies(candies: Vec<i32>, k: i64) -> i32 {\n",
    "\n",
    "    }\n",
    "}\n",
    "```\n"
   ]
  },
  {
   "cell_type": "markdown",
   "metadata": {},
   "source": []
  },
  {
   "cell_type": "code",
   "execution_count": null,
   "metadata": {},
   "outputs": [],
   "source": [
    "impl Solution {\n",
    "    pub fn maximum_candies(candies: Vec<i32>, k: i64) -> i32 {\n",
    "        let (mut left, mut right) = (0, *candies.iter().max().unwrap());\n",
    "        while left < right {\n",
    "            let mid = (left + right + 1) / 2;\n",
    "            if Self::can_allocate_candies(&candies, k, mid) {\n",
    "                left = mid;\n",
    "            } else {\n",
    "                right = mid - 1;\n",
    "            }\n",
    "        }\n",
    "        left\n",
    "    }\n",
    "\n",
    "    fn can_allocate_candies(candies: &Vec<i32>, k: i64, num_candies: i32) -> bool {\n",
    "        let mut total_child: i64 = 0;\n",
    "        for &p in candies.iter() {\n",
    "            total_child += (p / num_candies) as i64;\n",
    "            if total_child >= k {\n",
    "                return true;\n",
    "            }\n",
    "        }\n",
    "        total_child >= k\n",
    "    }\n",
    "}"
   ]
  }
 ],
 "metadata": {
  "kernelspec": {
   "display_name": "Rust",
   "language": "rust",
   "name": "rust"
  },
  "language_info": {
   "name": "rust"
  }
 },
 "nbformat": 4,
 "nbformat_minor": 2
}
