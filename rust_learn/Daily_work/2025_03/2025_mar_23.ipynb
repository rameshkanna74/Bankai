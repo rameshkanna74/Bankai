{
 "cells": [
  {
   "cell_type": "markdown",
   "metadata": {},
   "source": [
    "1976. Number of Ways to Arrive at Destination\n",
    "      Medium\n",
    "      Topics\n",
    "      Companies\n",
    "      Hint\n",
    "\n",
    "You are in a city that consists of n intersections numbered from 0 to n - 1 with bi-directional roads between some intersections. The inputs are generated such that you can reach any intersection from any other intersection and that there is at most one road between any two intersections.\n",
    "\n",
    "You are given an integer n and a 2D integer array roads where roads[i] = [ui, vi, timei] means that there is a road between intersections ui and vi that takes timei minutes to travel. You want to know in how many ways you can travel from intersection 0 to intersection n - 1 in the shortest amount of time.\n",
    "\n",
    "Return the number of ways you can arrive at your destination in the shortest amount of time. Since the answer may be large, return it modulo 109 + 7.\n",
    "\n",
    "Example 1:\n",
    "\n",
    "Input: n = 7, roads = [[0,6,7],[0,1,2],[1,2,3],[1,3,3],[6,3,3],[3,5,1],[6,5,1],[2,5,1],[0,4,5],[4,6,2]]\n",
    "Output: 4\n",
    "Explanation: The shortest amount of time it takes to go from intersection 0 to intersection 6 is 7 minutes.\n",
    "The four ways to get there in 7 minutes are:\n",
    "\n",
    "- 0 ➝ 6\n",
    "- 0 ➝ 4 ➝ 6\n",
    "- 0 ➝ 1 ➝ 2 ➝ 5 ➝ 6\n",
    "- 0 ➝ 1 ➝ 3 ➝ 5 ➝ 6\n",
    "\n",
    "Example 2:\n",
    "\n",
    "Input: n = 2, roads = [[1,0,10]]\n",
    "Output: 1\n",
    "Explanation: There is only one way to go from intersection 0 to intersection 1, and it takes 10 minutes.\n",
    "\n",
    "Constraints:\n",
    "\n",
    "    1 <= n <= 200\n",
    "    n - 1 <= roads.length <= n * (n - 1) / 2\n",
    "    roads[i].length == 3\n",
    "    0 <= ui, vi <= n - 1\n",
    "    1 <= timei <= 109\n",
    "    ui != vi\n",
    "    There is at most one road connecting any two intersections.\n",
    "    You can reach any intersection from any other intersection.\n",
    "\n",
    "---\n",
    "\n",
    "give best time and space complexity code in rust to use in interview,give variables usefull name, add comments to explain the code way more clear,also add code to run example case, use below typing\n",
    "\n",
    "---\n",
    "\n",
    "```rust\n",
    "impl Solution {\n",
    "    pub fn count_paths(n: i32, roads: Vec<Vec<i32>>) -> i32 {\n",
    "        \n",
    "    }\n",
    "}\n",
    "```\n"
   ]
  },
  {
   "cell_type": "markdown",
   "metadata": {},
   "source": []
  },
  {
   "cell_type": "code",
   "execution_count": null,
   "metadata": {},
   "outputs": [],
   "source": []
  }
 ],
 "metadata": {
  "kernelspec": {
   "display_name": "Rust",
   "language": "rust",
   "name": "rust"
  },
  "language_info": {
   "name": "rust"
  }
 },
 "nbformat": 4,
 "nbformat_minor": 2
}
