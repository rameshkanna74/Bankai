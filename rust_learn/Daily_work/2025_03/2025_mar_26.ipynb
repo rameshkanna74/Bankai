{
 "cells": [
  {
   "cell_type": "markdown",
   "metadata": {},
   "source": [
    "2033. Minimum Operations to Make a Uni-Value Grid\n",
    "      Medium\n",
    "      Topics\n",
    "      Companies\n",
    "      Hint\n",
    "\n",
    "You are given a 2D integer grid of size m x n and an integer x. In one operation, you can add x to or subtract x from any element in the grid.\n",
    "\n",
    "A uni-value grid is a grid where all the elements of it are equal.\n",
    "\n",
    "Return the minimum number of operations to make the grid uni-value. If it is not possible, return -1.\n",
    "\n",
    "Example 1:\n",
    "\n",
    "Input: grid = [[2,4],[6,8]], x = 2\n",
    "Output: 4\n",
    "Explanation: We can make every element equal to 4 by doing the following:\n",
    "\n",
    "- Add x to 2 once.\n",
    "- Subtract x from 6 once.\n",
    "- Subtract x from 8 twice.\n",
    "  A total of 4 operations were used.\n",
    "  Example 2:\n",
    "\n",
    "Input: grid = [[1,5],[2,3]], x = 1\n",
    "Output: 5\n",
    "Explanation: We can make every element equal to 3.\n",
    "Example 3:\n",
    "\n",
    "Input: grid = [[1,2],[3,4]], x = 2\n",
    "Output: -1\n",
    "Explanation: It is impossible to make every element equal.\n",
    "\n",
    "Constraints:\n",
    "\n",
    "m == grid.length\n",
    "n == grid[i].length\n",
    "1 <= m, n <= 105\n",
    "1 <= m \\* n <= 105\n",
    "1 <= x, grid[i][j] <= 104\n",
    "\n",
    "---\n",
    "\n",
    "give best time and space complexity code in rust to use in interview,give variables usefull name, add comments to explain the code way more clear,also add code to run example case, use below typing\n",
    "\n",
    "---\n",
    "\n",
    "```rust\n",
    "impl Solution {\n",
    "    pub fn min_operations(grid: Vec<Vec<i32>>, x: i32) -> i32 {\n",
    "        \n",
    "    }\n",
    "}\n",
    "```\n"
   ]
  },
  {
   "cell_type": "markdown",
   "metadata": {},
   "source": []
  },
  {
   "cell_type": "code",
   "execution_count": null,
   "metadata": {},
   "outputs": [],
   "source": [
    "impl Solution {\n",
    "    pub fn min_operations(grid: Vec<Vec<i32>>, x: i32) -> i32 {\n",
    "        let mut values: Vec<i32> = grid.iter().flat_map(|row| row.iter()).cloned().collect();\n",
    "        \n",
    "        values.sort();\n",
    "\n",
    "        if values.iter().any(|&val| (val - values[0]).abs() % x != 0) {\n",
    "            return -1;\n",
    "        }\n",
    "\n",
    "        let median = values[values.len() / 2];\n",
    "        values.iter().map(|&val| (val - median).abs() / x).sum()\n",
    "    }\n",
    "}"
   ]
  }
 ],
 "metadata": {
  "kernelspec": {
   "display_name": "Rust",
   "language": "rust",
   "name": "rust"
  },
  "language_info": {
   "name": "rust"
  }
 },
 "nbformat": 4,
 "nbformat_minor": 2
}
