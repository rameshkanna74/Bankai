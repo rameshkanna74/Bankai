{
 "cells": [
  {
   "cell_type": "markdown",
   "metadata": {},
   "source": [
    "2460. Apply Operations to an Array\n",
    "\n",
    "Easy\n",
    "Topics\n",
    "Companies\n",
    "Hint\n",
    "\n",
    "You are given a 0-indexed array nums of size n consisting of non-negative integers.\n",
    "\n",
    "You need to apply n - 1 operations to this array where, in the ith operation (0-indexed), you will apply the following on the ith element of nums:\n",
    "\n",
    "If nums[i] == nums[i + 1], then multiply nums[i] by 2 and set nums[i + 1] to 0. Otherwise, you skip this operation.\n",
    "After performing all the operations, shift all the 0's to the end of the array.\n",
    "\n",
    "For example, the array [1,0,2,0,0,1] after shifting all its 0's to the end, is [1,2,1,0,0,0].\n",
    "Return the resulting array.\n",
    "\n",
    "Note that the operations are applied sequentially, not all at once.\n",
    "\n",
    "Example 1:\n",
    "\n",
    "Input: nums = [1,2,2,1,1,0]\n",
    "Output: [1,4,2,0,0,0]\n",
    "Explanation: We do the following operations:\n",
    "\n",
    "- i = 0: nums[0] and nums[1] are not equal, so we skip this operation.\n",
    "- i = 1: nums[1] and nums[2] are equal, we multiply nums[1] by 2 and change nums[2] to 0. The array becomes [1,4,0,1,1,0].\n",
    "- i = 2: nums[2] and nums[3] are not equal, so we skip this operation.\n",
    "- i = 3: nums[3] and nums[4] are equal, we multiply nums[3] by 2 and change nums[4] to 0. The array becomes [1,4,0,2,0,0].\n",
    "- i = 4: nums[4] and nums[5] are equal, we multiply nums[4] by 2 and change nums[5] to 0. The array becomes [1,4,0,2,0,0].\n",
    "  After that, we shift the 0's to the end, which gives the array [1,4,2,0,0,0].\n",
    "  Example 2:\n",
    "\n",
    "Input: nums = [0,1]\n",
    "Output: [1,0]\n",
    "Explanation: No operation can be applied, we just shift the 0 to the end.\n",
    "\n",
    "Constraints:\n",
    "\n",
    "2 <= nums.length <= 2000\n",
    "0 <= nums[i] <= 1000\n",
    "\n",
    "---\n",
    "\n",
    "give best time and space complexity code in rust to use in interview,give variables usefull name, add comments to explain the code way more clear,also add code to run example case, use below typing\n",
    "\n",
    "---\n",
    "\n",
    "```rust\n",
    "impl Solution {\n",
    "    pub fn apply_operations(nums: Vec<i32>) -> Vec<i32> {\n",
    "\n",
    "    }\n",
    "}\n",
    "```\n"
   ]
  },
  {
   "cell_type": "markdown",
   "metadata": {},
   "source": []
  },
  {
   "cell_type": "code",
   "execution_count": null,
   "metadata": {
    "vscode": {
     "languageId": "plaintext"
    }
   },
   "outputs": [],
   "source": [
    "impl Solution {\n",
    "    pub fn apply_operations(mut nums: Vec<i32>) -> Vec<i32> {\n",
    "        // Apply Operations\n",
    "        for i in 0..(nums.len() - 1) {\n",
    "            if nums[i] == nums[i + 1] {\n",
    "                nums[i] *= 2;\n",
    "                nums[i + 1] = 0;\n",
    "            }\n",
    "        }\n",
    "        // Sort the Array\n",
    "        let mut first: usize = 0;\n",
    "        for i in 0..nums.len() {\n",
    "            if nums[i] != 0 {\n",
    "                nums[first] = nums[i];\n",
    "                if first != i {\n",
    "                    nums[i] = 0;\n",
    "                }\n",
    "                first += 1;\n",
    "            }\n",
    "        }\n",
    "        nums\n",
    "    }\n",
    "}"
   ]
  }
 ],
 "metadata": {
  "language_info": {
   "name": "python"
  }
 },
 "nbformat": 4,
 "nbformat_minor": 2
}
