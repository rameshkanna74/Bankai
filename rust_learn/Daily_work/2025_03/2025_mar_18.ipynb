{
 "cells": [
  {
   "cell_type": "markdown",
   "metadata": {},
   "source": [
    "2401. Longest Nice Subarray\n",
    "      Medium\n",
    "      Topics\n",
    "      Companies\n",
    "      Hint\n",
    "\n",
    "You are given an array nums consisting of positive integers.\n",
    "\n",
    "We call a subarray of nums nice if the bitwise AND of every pair of elements that are in different positions in the subarray is equal to 0.\n",
    "\n",
    "Return the length of the longest nice subarray.\n",
    "\n",
    "A subarray is a contiguous part of an array.\n",
    "\n",
    "Note that subarrays of length 1 are always considered nice.\n",
    "\n",
    "Example 1:\n",
    "\n",
    "Input: nums = [1,3,8,48,10]\n",
    "Output: 3\n",
    "Explanation: The longest nice subarray is [3,8,48]. This subarray satisfies the conditions:\n",
    "\n",
    "- 3 AND 8 = 0.\n",
    "- 3 AND 48 = 0.\n",
    "- 8 AND 48 = 0.\n",
    "  It can be proven that no longer nice subarray can be obtained, so we return 3.\n",
    "  Example 2:\n",
    "\n",
    "Input: nums = [3,1,5,11,13]\n",
    "Output: 1\n",
    "Explanation: The length of the longest nice subarray is 1. Any subarray of length 1 can be chosen.\n",
    "\n",
    "Constraints:\n",
    "\n",
    "1 <= nums.length <= 105\n",
    "1 <= nums[i] <= 109\n",
    "\n",
    "---\n",
    "\n",
    "give best time and space complexity code in rust to use in interview,give variables usefull name, add comments to explain the code way more clear,also add code to run example case, use below typing\n",
    "\n",
    "---\n",
    "\n",
    "```rust\n",
    "impl Solution {\n",
    "    pub fn longest_nice_subarray(nums: Vec<i32>) -> i32 {\n",
    "\n",
    "    }\n",
    "}\n",
    "```\n"
   ]
  },
  {
   "cell_type": "markdown",
   "metadata": {},
   "source": []
  },
  {
   "cell_type": "code",
   "execution_count": null,
   "metadata": {},
   "outputs": [],
   "source": [
    "impl Solution {\n",
    "    pub fn longest_nice_subarray(nums: Vec<i32>) -> i32 {\n",
    "        let mut max_length = 1;\n",
    "        let mut left = 0;\n",
    "        let mut used_bits = 0;\n",
    "\n",
    "        for right in 0..nums.len() {\n",
    "            while (used_bits & nums[right]) != 0 {\n",
    "                used_bits ^= nums[left];\n",
    "                left += 1;\n",
    "            }\n",
    "\n",
    "            used_bits |= nums[right];\n",
    "            max_length = max_length.max((right - left + 1) as i32);\n",
    "        }\n",
    "\n",
    "        max_length\n",
    "    }\n",
    "}"
   ]
  }
 ],
 "metadata": {
  "kernelspec": {
   "display_name": "Rust",
   "language": "rust",
   "name": "rust"
  },
  "language_info": {
   "name": "rust"
  }
 },
 "nbformat": 4,
 "nbformat_minor": 2
}
