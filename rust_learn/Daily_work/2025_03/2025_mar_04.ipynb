{
 "cells": [
  {
   "cell_type": "markdown",
   "metadata": {},
   "source": [
    "1780. Check if Number is a Sum of Powers of Three\n",
    "      Medium\n",
    "      Topics\n",
    "      Companies\n",
    "      Hint\n",
    "\n",
    "Given an integer n, return true if it is possible to represent n as the sum of distinct powers of three. Otherwise, return false.\n",
    "\n",
    "An integer y is a power of three if there exists an integer x such that y == 3x.\n",
    "\n",
    "Example 1:\n",
    "\n",
    "Input: n = 12\n",
    "Output: true\n",
    "Explanation: 12 = 31 + 32\n",
    "Example 2:\n",
    "\n",
    "Input: n = 91\n",
    "Output: true\n",
    "Explanation: 91 = 30 + 32 + 34\n",
    "Example 3:\n",
    "\n",
    "Input: n = 21\n",
    "Output: false\n",
    "\n",
    "Constraints:\n",
    "\n",
    "1 <= n <= 107\n",
    "\n",
    "---\n",
    "\n",
    "give best time and space complexity code in rust to use in interview,give variables usefull name, add comments to explain the code way more clear,also add code to run example case, use below typing\n",
    "\n",
    "---\n",
    "\n",
    "```rust\n",
    "impl Solution {\n",
    "    pub fn check_powers_of_three(n: i32) -> bool {\n",
    "        \n",
    "    }\n",
    "}\n",
    "```\n"
   ]
  },
  {
   "cell_type": "markdown",
   "metadata": {},
   "source": []
  },
  {
   "cell_type": "code",
   "execution_count": null,
   "metadata": {},
   "outputs": [],
   "source": [
    "impl Solution {\n",
    "    pub fn check_powers_of_three(n: i32) -> bool {\n",
    "        std::iter::repeat(())\n",
    "            .scan(n, |n, ()| {\n",
    "                (*n > 0).then(|| {\n",
    "                    let rem = *n % 3;\n",
    "                    *n /= 3;\n",
    "                    rem\n",
    "                })\n",
    "            })\n",
    "            .all(|rem| rem < 2)\n",
    "    }\n",
    "}"
   ]
  },
  {
   "cell_type": "code",
   "execution_count": null,
   "metadata": {},
   "outputs": [],
   "source": [
    "impl Solution {\n",
    "    pub fn check_powers_of_three(n: i32) -> bool {\n",
    "        let mut temp = n;\n",
    "        while temp > 0 {\n",
    "            if temp % 3 == 2 {\n",
    "                return false;\n",
    "            }\n",
    "            temp /= 3;\n",
    "        }\n",
    "        true\n",
    "    }\n",
    "}"
   ]
  }
 ],
 "metadata": {
  "kernelspec": {
   "display_name": "Rust",
   "language": "rust",
   "name": "rust"
  },
  "language_info": {
   "name": "rust"
  }
 },
 "nbformat": 4,
 "nbformat_minor": 2
}
