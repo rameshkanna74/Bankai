{
 "cells": [
  {
   "cell_type": "markdown",
   "metadata": {},
   "source": [
    "2579. Count Total Number of Colored Cells\n",
    "\n",
    "      Medium\n",
    "      Topics\n",
    "      Companies\n",
    "      Hint\n",
    "\n",
    "There exists an infinitely large two-dimensional grid of uncolored unit cells. You are given a positive integer n, indicating that you must do the following routine for n minutes:\n",
    "\n",
    "At the first minute, color any arbitrary unit cell blue.\n",
    "Every minute thereafter, color blue every uncolored cell that touches a blue cell.\n",
    "Below is a pictorial representation of the state of the grid after minutes 1, 2, and 3.\n",
    "\n",
    "Return the number of colored cells at the end of n minutes.\n",
    "\n",
    "Example 1:\n",
    "\n",
    "Input: n = 1\n",
    "Output: 1\n",
    "Explanation: After 1 minute, there is only 1 blue cell, so we return 1.\n",
    "Example 2:\n",
    "\n",
    "Input: n = 2\n",
    "Output: 5\n",
    "Explanation: After 2 minutes, there are 4 colored cells on the boundary and 1 in the center, so we return 5.\n",
    "\n",
    "Constraints:\n",
    "\n",
    "1 <= n <= 105\n",
    "\n",
    "---\n",
    "\n",
    "give best time and space complexity code in rust to use in interview,give variables usefull name, add comments to explain the code way more clear,also add code to run example case, use below typing\n",
    "\n",
    "---\n",
    "\n",
    "```rust\n",
    "impl Solution {\n",
    "    pub fn colored_cells(n: i32) -> i64 {\n",
    "        \n",
    "    }\n",
    "}\n",
    "```\n"
   ]
  },
  {
   "cell_type": "markdown",
   "metadata": {},
   "source": []
  },
  {
   "cell_type": "code",
   "execution_count": null,
   "metadata": {},
   "outputs": [],
   "source": [
    "impl Solution {\n",
    "    pub fn colored_cells(n: i32) -> i64 {\n",
    "        1 + 2 * n as i64 * (n as i64 - 1)\n",
    "    }\n",
    "}"
   ]
  }
 ],
 "metadata": {
  "kernelspec": {
   "display_name": "Rust",
   "language": "rust",
   "name": "rust"
  },
  "language_info": {
   "name": "rust"
  }
 },
 "nbformat": 4,
 "nbformat_minor": 2
}
