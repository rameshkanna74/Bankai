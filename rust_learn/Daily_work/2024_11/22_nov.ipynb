{
 "cells": [
  {
   "cell_type": "markdown",
   "metadata": {},
   "source": [
    "1072. Flip Columns For Maximum Number of Equal Rows\n",
    "      Medium\n",
    "      Topics\n",
    "      Companies\n",
    "      Hint\n",
    "\n",
    "You are given an m x n binary matrix matrix.\n",
    "\n",
    "You can choose any number of columns in the matrix and flip every cell in that column (i.e., Change the value of the cell from 0 to 1 or vice versa).\n",
    "\n",
    "Return the maximum number of rows that have all values equal after some number of flips.\n",
    "\n",
    "Example 1:\n",
    "\n",
    "Input: matrix = [[0,1],[1,1]]\n",
    "Output: 1\n",
    "Explanation: After flipping no values, 1 row has all values equal.\n",
    "\n",
    "Example 2:\n",
    "\n",
    "Input: matrix = [[0,1],[1,0]]\n",
    "Output: 2\n",
    "Explanation: After flipping values in the first column, both rows have equal values.\n",
    "\n",
    "Example 3:\n",
    "\n",
    "Input: matrix = [[0,0,0],[0,0,1],[1,1,0]]\n",
    "Output: 2\n",
    "Explanation: After flipping values in the first two columns, the last two rows have equal values.\n",
    "\n",
    "Constraints:\n",
    "\n",
    "    m == matrix.length\n",
    "    n == matrix[i].length\n",
    "    1 <= m, n <= 300\n",
    "    matrix[i][j] is either 0 or 1.\n",
    "\n",
    "---\n",
    "\n",
    "give best time and space complexity code in rust,give variables usefull name, add comments to explain the code way more clear,also add code to run example case, use below typing\n",
    "\n",
    "---\n",
    "\n",
    "impl Solution {\n",
    "    pub fn max_equal_rows_after_flips(matrix: Vec<Vec<i32>>) -> i32 {\n",
    "        \n",
    "    }\n",
    "}"
   ]
  },
  {
   "cell_type": "markdown",
   "metadata": {},
   "source": []
  },
  {
   "cell_type": "code",
   "execution_count": null,
   "metadata": {
    "vscode": {
     "languageId": "plaintext"
    }
   },
   "outputs": [],
   "source": [
    "use std::collections::HashMap;\n",
    "\n",
    "impl Solution {\n",
    "    pub fn max_equal_rows_after_flips(matrix: Vec<Vec<i32>>) -> i32 {\n",
    "        let mut hash = HashMap::new();\n",
    "        for row in &matrix {\n",
    "            hash.entry(row).and_modify(|c| *c += 1).or_insert(1);\n",
    "        }\n",
    "        let mut answer = 0;\n",
    "        for (key, count) in &hash {\n",
    "            let antikey: Vec<_> = key.iter().map(|&x| 1 - x).collect();\n",
    "            let anticount = hash.get(&antikey).unwrap_or(&0);\n",
    "            answer = answer.max(count + anticount);\n",
    "        }\n",
    "        answer\n",
    "    }\n",
    "}"
   ]
  },
  {
   "cell_type": "code",
   "execution_count": null,
   "metadata": {
    "vscode": {
     "languageId": "plaintext"
    }
   },
   "outputs": [],
   "source": [
    "use std::collections::HashMap;\n",
    "\n",
    "impl Solution {\n",
    "    pub fn max_equal_rows_after_flips(mat: Vec<Vec<i32>>) -> i32 {\n",
    "        let mut pat_freq = HashMap::new();\n",
    "        \n",
    "        for row in mat {\n",
    "            let pattern = if row[0] == 0 {\n",
    "                row.iter().map(|&x| x.to_string()).collect::<String>()\n",
    "            } else {\n",
    "                row.iter().map(|&x| (x ^ 1).to_string()).collect::<String>()\n",
    "            };\n",
    "            \n",
    "            *pat_freq.entry(pattern).or_insert(0) += 1;\n",
    "        }\n",
    "        \n",
    "        *pat_freq.values().max().unwrap()\n",
    "    }\n",
    "}"
   ]
  }
 ],
 "metadata": {
  "language_info": {
   "name": "python"
  }
 },
 "nbformat": 4,
 "nbformat_minor": 2
}
