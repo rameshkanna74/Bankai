{
 "cells": [
  {
   "cell_type": "markdown",
   "metadata": {},
   "source": [
    "2563. Count the Number of Fair Pairs\n",
    "      Medium\n",
    "      Topics\n",
    "      Companies\n",
    "      Hint\n",
    "\n",
    "Given a 0-indexed integer array nums of size n and two integers lower and upper, return the number of fair pairs.\n",
    "\n",
    "A pair (i, j) is fair if:\n",
    "\n",
    "    0 <= i < j < n, and\n",
    "    lower <= nums[i] + nums[j] <= upper\n",
    "\n",
    "Example 1:\n",
    "\n",
    "Input: nums = [0,1,7,4,4,5], lower = 3, upper = 6\n",
    "Output: 6\n",
    "Explanation: There are 6 fair pairs: (0,3), (0,4), (0,5), (1,3), (1,4), and (1,5).\n",
    "\n",
    "Example 2:\n",
    "\n",
    "Input: nums = [1,7,9,2,5], lower = 11, upper = 11\n",
    "Output: 1\n",
    "Explanation: There is a single fair pair: (2,3).\n",
    "\n",
    "Constraints:\n",
    "\n",
    "    1 <= nums.length <= 105\n",
    "    nums.length == n\n",
    "    -109 <= nums[i] <= 109\n",
    "    -109 <= lower <= upper <= 109\n",
    "\n",
    "---\n",
    "\n",
    "give best time and space complexity code in rust,give variables usefull name, add comments to explain the code way more clear,also add code to run example case, use below typing\n",
    "\n",
    "---\n",
    "\n",
    "impl Solution {\n",
    "    pub fn count_fair_pairs(nums: Vec<i32>, lower: i32, upper: i32) -> i64 {\n",
    "        \n",
    "    }\n",
    "}"
   ]
  },
  {
   "cell_type": "markdown",
   "metadata": {},
   "source": []
  },
  {
   "cell_type": "code",
   "execution_count": null,
   "metadata": {},
   "outputs": [],
   "source": [
    "impl Solution {\n",
    "\tpub fn count_fair_pairs(mut nums: Vec<i32>, lower: i32, upper: i32) -> i64 {\n",
    "\t\tnums.sort_unstable();\n",
    "\t\tlet mut ans = 0;\n",
    "\t\tfor (i, &n) in (0..).zip(&nums) {\n",
    "\t\t\tlet start = nums.partition_point(|&m| m < lower - n);\n",
    "\t\t\tlet idx = nums[start..].partition_point(|&m| m <= upper - n);\n",
    "\t\t\tans += idx as i64 - (start..start + idx).contains(&i) as i64;\n",
    "\t\t}\n",
    "\t\tans / 2\n",
    "\t}\n",
    "}"
   ]
  }
 ],
 "metadata": {
  "kernelspec": {
   "display_name": "Rust",
   "language": "rust",
   "name": "rust"
  },
  "language_info": {
   "name": "rust"
  }
 },
 "nbformat": 4,
 "nbformat_minor": 2
}
