{
 "cells": [
  {
   "cell_type": "markdown",
   "metadata": {},
   "source": [
    "3133. Minimum Array End\n",
    "      Medium\n",
    "      Topics\n",
    "      Companies\n",
    "      Hint\n",
    "\n",
    "You are given two integers n and x. You have to construct an array of positive integers nums of size n where for every 0 <= i < n - 1, nums[i + 1] is greater than nums[i], and the result of the bitwise AND operation between all elements of nums is x.\n",
    "\n",
    "Return the minimum possible value of nums[n - 1].\n",
    "\n",
    "Example 1:\n",
    "\n",
    "Input: n = 3, x = 4\n",
    "\n",
    "Output: 6\n",
    "\n",
    "Explanation:\n",
    "\n",
    "nums can be [4,5,6] and its last element is 6.\n",
    "\n",
    "Example 2:\n",
    "\n",
    "Input: n = 2, x = 7\n",
    "\n",
    "Output: 15\n",
    "\n",
    "Explanation:\n",
    "\n",
    "nums can be [7,15] and its last element is 15.\n",
    "\n",
    "Constraints:\n",
    "\n",
    "    1 <= n, x <= 108\n",
    "\n",
    "---\n",
    "\n",
    "give best time and space complexity code in rust,give variables usefull name, add comments to explain the code way more clear,also add code to run example case, use below typing\n",
    "\n",
    "---\n",
    "\n",
    "impl Solution {\n",
    "    pub fn min_end(n: i32, x: i32) -> i64 {\n",
    "        \n",
    "    }\n",
    "}"
   ]
  },
  {
   "cell_type": "markdown",
   "metadata": {},
   "source": []
  },
  {
   "cell_type": "code",
   "execution_count": null,
   "metadata": {},
   "outputs": [],
   "source": [
    "impl Solution {\n",
    "    pub fn min_end(n: i32, x: i32) -> i64 {\n",
    "        let mut shifts = Vec::new();\n",
    "        let mut cur = x as i64;\n",
    "        let mut calc = n as i64 - 1;\n",
    "        \n",
    "        for i in 0..32 {\n",
    "            if (x & (1 << i)) == 0 {\n",
    "                shifts.push(i);\n",
    "            }\n",
    "        }\n",
    "        \n",
    "        for i in 32..64 {\n",
    "            shifts.push(i);\n",
    "        }\n",
    "        \n",
    "        let mut i = 0;\n",
    "        while calc > 0 {\n",
    "            cur += (calc & 1) << shifts[i];\n",
    "            calc >>= 1;\n",
    "            i += 1;\n",
    "        }\n",
    "        \n",
    "        cur\n",
    "    }\n",
    "}"
   ]
  }
 ],
 "metadata": {
  "kernelspec": {
   "display_name": "Rust",
   "language": "rust",
   "name": "rust"
  },
  "language_info": {
   "name": "rust"
  }
 },
 "nbformat": 4,
 "nbformat_minor": 2
}
