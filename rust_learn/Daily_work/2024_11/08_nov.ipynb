{
 "cells": [
  {
   "cell_type": "markdown",
   "metadata": {},
   "source": [
    "1829. Maximum XOR for Each Query\n",
    "      Medium\n",
    "      Topics\n",
    "      Companies\n",
    "      Hint\n",
    "\n",
    "You are given a sorted array nums of n non-negative integers and an integer maximumBit. You want to perform the following query n times:\n",
    "\n",
    "    Find a non-negative integer k < 2maximumBit such that nums[0] XOR nums[1] XOR ... XOR nums[nums.length-1] XOR k is maximized. k is the answer to the ith query.\n",
    "    Remove the last element from the current array nums.\n",
    "\n",
    "Return an array answer, where answer[i] is the answer to the ith query.\n",
    "\n",
    "Example 1:\n",
    "\n",
    "Input: nums = [0,1,1,3], maximumBit = 2\n",
    "Output: [0,3,2,3]\n",
    "Explanation: The queries are answered as follows:\n",
    "1st query: nums = [0,1,1,3], k = 0 since 0 XOR 1 XOR 1 XOR 3 XOR 0 = 3.\n",
    "2nd query: nums = [0,1,1], k = 3 since 0 XOR 1 XOR 1 XOR 3 = 3.\n",
    "3rd query: nums = [0,1], k = 2 since 0 XOR 1 XOR 2 = 3.\n",
    "4th query: nums = [0], k = 3 since 0 XOR 3 = 3.\n",
    "\n",
    "Example 2:\n",
    "\n",
    "Input: nums = [2,3,4,7], maximumBit = 3\n",
    "Output: [5,2,6,5]\n",
    "Explanation: The queries are answered as follows:\n",
    "1st query: nums = [2,3,4,7], k = 5 since 2 XOR 3 XOR 4 XOR 7 XOR 5 = 7.\n",
    "2nd query: nums = [2,3,4], k = 2 since 2 XOR 3 XOR 4 XOR 2 = 7.\n",
    "3rd query: nums = [2,3], k = 6 since 2 XOR 3 XOR 6 = 7.\n",
    "4th query: nums = [2], k = 5 since 2 XOR 5 = 7.\n",
    "\n",
    "Example 3:\n",
    "\n",
    "Input: nums = [0,1,2,2,5,7], maximumBit = 3\n",
    "Output: [4,3,6,4,6,7]\n",
    "\n",
    "Constraints:\n",
    "\n",
    "    nums.length == n\n",
    "    1 <= n <= 105\n",
    "    1 <= maximumBit <= 20\n",
    "    0 <= nums[i] < 2maximumBit\n",
    "    nums​​​ is sorted in ascending order.\n",
    "\n",
    "---\n",
    "\n",
    "give best time and space complexity code in rust,give variables usefull name, add comments to explain the code way more clear,also add code to run example case, use below typing\n",
    "\n",
    "---\n",
    "\n",
    "impl Solution {\n",
    "    pub fn get_maximum_xor(nums: Vec<i32>, maximum_bit: i32) -> Vec<i32> {\n",
    "        \n",
    "    }\n",
    "}"
   ]
  },
  {
   "cell_type": "markdown",
   "metadata": {},
   "source": []
  },
  {
   "cell_type": "code",
   "execution_count": null,
   "metadata": {
    "vscode": {
     "languageId": "plaintext"
    }
   },
   "outputs": [],
   "source": [
    "impl Solution {\n",
    "    pub fn get_maximum_xor(nums: Vec<i32>, maximum_bit: i32) -> Vec<i32> {\n",
    "        let mask = (1 << maximum_bit) - 1;\n",
    "        let n = nums.len();\n",
    "        let mut res = vec![0; n];\n",
    "        let mut curr = 0;\n",
    "        \n",
    "        for i in 0..n {\n",
    "            curr ^= nums[i];\n",
    "            res[n-i-1] = !curr & mask;\n",
    "        }\n",
    "        \n",
    "        res\n",
    "    }\n",
    "}\n"
   ]
  }
 ],
 "metadata": {
  "language_info": {
   "name": "python"
  }
 },
 "nbformat": 4,
 "nbformat_minor": 2
}
