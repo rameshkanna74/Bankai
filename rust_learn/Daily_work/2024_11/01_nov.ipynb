{
 "cells": [
  {
   "cell_type": "markdown",
   "metadata": {},
   "source": [
    "1957. Delete Characters to Make Fancy String\n",
    "      Solved\n",
    "      Easy\n",
    "      Topics\n",
    "      Companies\n",
    "      Hint\n",
    "\n",
    "A fancy string is a string where no three consecutive characters are equal.\n",
    "\n",
    "Given a string s, delete the minimum possible number of characters from s to make it fancy.\n",
    "\n",
    "Return the final string after the deletion. It can be shown that the answer will always be unique.\n",
    "\n",
    "Example 1:\n",
    "\n",
    "Input: s = \"leeetcode\"\n",
    "Output: \"leetcode\"\n",
    "Explanation:\n",
    "Remove an 'e' from the first group of 'e's to create \"leetcode\".\n",
    "No three consecutive characters are equal, so return \"leetcode\".\n",
    "\n",
    "Example 2:\n",
    "\n",
    "Input: s = \"aaabaaaa\"\n",
    "Output: \"aabaa\"\n",
    "Explanation:\n",
    "Remove an 'a' from the first group of 'a's to create \"aabaaaa\".\n",
    "Remove two 'a's from the second group of 'a's to create \"aabaa\".\n",
    "No three consecutive characters are equal, so return \"aabaa\".\n",
    "\n",
    "Example 3:\n",
    "\n",
    "Input: s = \"aab\"\n",
    "Output: \"aab\"\n",
    "Explanation: No three consecutive characters are equal, so return \"aab\".\n",
    "\n",
    "Constraints:\n",
    "\n",
    "    1 <= s.length <= 105\n",
    "    s consists only of lowercase English letters.\n",
    "\n",
    "---\n",
    "\n",
    "give best time and space complexity code in rust,give variables usefull name, add comments to explain the code way more clear,also add code to run example case, use below typing\n",
    "\n",
    "---\n",
    "\n",
    "impl Solution {\n",
    "    pub fn make_fancy_string(s: String) -> String {\n",
    "\n",
    "    }\n",
    "}"
   ]
  },
  {
   "cell_type": "markdown",
   "metadata": {},
   "source": []
  },
  {
   "cell_type": "code",
   "execution_count": null,
   "metadata": {
    "vscode": {
     "languageId": "plaintext"
    }
   },
   "outputs": [],
   "source": [
    "impl Solution {\n",
    "    pub fn make_fancy_string(s: String) -> String {\n",
    "        s.into_bytes()\n",
    "            .chunk_by(|a, b| a == b)\n",
    "            .flat_map(|chunk| chunk.iter().take(2))\n",
    "            .map(|&b| b as char)\n",
    "            .collect()\n",
    "    }\n",
    "}"
   ]
  }
 ],
 "metadata": {
  "language_info": {
   "name": "python"
  }
 },
 "nbformat": 4,
 "nbformat_minor": 2
}
