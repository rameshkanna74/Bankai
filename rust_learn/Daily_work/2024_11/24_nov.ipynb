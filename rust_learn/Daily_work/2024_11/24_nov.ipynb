{
 "cells": [
  {
   "cell_type": "markdown",
   "metadata": {},
   "source": [
    "1975. Maximum Matrix Sum\n",
    "      Medium\n",
    "      Topics\n",
    "      Companies\n",
    "      Hint\n",
    "\n",
    "You are given an n x n integer matrix. You can do the following operation any number of times:\n",
    "\n",
    "    Choose any two adjacent elements of matrix and multiply each of them by -1.\n",
    "\n",
    "Two elements are considered adjacent if and only if they share a border.\n",
    "\n",
    "Your goal is to maximize the summation of the matrix's elements. Return the maximum sum of the matrix's elements using the operation mentioned above.\n",
    "\n",
    "Example 1:\n",
    "\n",
    "Input: matrix = [[1,-1],[-1,1]]\n",
    "Output: 4\n",
    "Explanation: We can follow the following steps to reach sum equals 4:\n",
    "\n",
    "- Multiply the 2 elements in the first row by -1.\n",
    "- Multiply the 2 elements in the first column by -1.\n",
    "\n",
    "Example 2:\n",
    "\n",
    "Input: matrix = [[1,2,3],[-1,-2,-3],[1,2,3]]\n",
    "Output: 16\n",
    "Explanation: We can follow the following step to reach sum equals 16:\n",
    "\n",
    "- Multiply the 2 last elements in the second row by -1.\n",
    "\n",
    "Constraints:\n",
    "\n",
    "    n == matrix.length == matrix[i].length\n",
    "    2 <= n <= 250\n",
    "    -105 <= matrix[i][j] <= 105\n",
    "\n",
    "---\n",
    "\n",
    "give best time and space complexity code in rust,give variables usefull name, add comments to explain the code way more clear,also add code to run example case, use below typing\n",
    "\n",
    "---\n",
    "\n",
    "impl Solution {\n",
    "    pub fn max_matrix_sum(matrix: Vec<Vec<i32>>) -> i64 {\n",
    "\n",
    "    }\n",
    "}\n"
   ]
  },
  {
   "cell_type": "markdown",
   "metadata": {},
   "source": []
  },
  {
   "cell_type": "code",
   "execution_count": null,
   "metadata": {
    "vscode": {
     "languageId": "plaintext"
    }
   },
   "outputs": [],
   "source": [
    "impl Solution {\n",
    "    pub fn max_matrix_sum(matrix: Vec<Vec<i32>>) -> i64 {\n",
    "        let (total, min_abs, neg_count) = matrix\n",
    "            .iter()\n",
    "            .flatten()\n",
    "            .fold((0_i64, i32::MAX, 0), |(total, min_abs, neg_count), &num| {\n",
    "                (\n",
    "                    total + num.abs() as i64,\n",
    "                    min_abs.min(num.abs()),\n",
    "                    neg_count + if num < 0 { 1 } else { 0 },\n",
    "                )\n",
    "            });\n",
    "    \n",
    "        if neg_count % 2 == 1 {\n",
    "            total - (min_abs as i64 * 2)\n",
    "        } else {\n",
    "            total\n",
    "        }\n",
    "    }\n",
    "}"
   ]
  }
 ],
 "metadata": {
  "language_info": {
   "name": "python"
  }
 },
 "nbformat": 4,
 "nbformat_minor": 2
}
