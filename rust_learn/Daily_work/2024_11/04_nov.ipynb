{
 "cells": [
  {
   "cell_type": "markdown",
   "metadata": {},
   "source": [
    "3163. String Compression III\n",
    "      Medium\n",
    "      Topics\n",
    "      Companies\n",
    "      Hint\n",
    "\n",
    "Given a string word, compress it using the following algorithm:\n",
    "\n",
    "    Begin with an empty string comp. While word is not empty, use the following operation:\n",
    "        Remove a maximum length prefix of word made of a single character c repeating at most 9 times.\n",
    "        Append the length of the prefix followed by c to comp.\n",
    "\n",
    "Return the string comp.\n",
    "\n",
    "Example 1:\n",
    "\n",
    "Input: word = \"abcde\"\n",
    "\n",
    "Output: \"1a1b1c1d1e\"\n",
    "\n",
    "Explanation:\n",
    "\n",
    "Initially, comp = \"\". Apply the operation 5 times, choosing \"a\", \"b\", \"c\", \"d\", and \"e\" as the prefix in each operation.\n",
    "\n",
    "For each prefix, append \"1\" followed by the character to comp.\n",
    "\n",
    "Example 2:\n",
    "\n",
    "Input: word = \"aaaaaaaaaaaaaabb\"\n",
    "\n",
    "Output: \"9a5a2b\"\n",
    "\n",
    "Explanation:\n",
    "\n",
    "Initially, comp = \"\". Apply the operation 3 times, choosing \"aaaaaaaaa\", \"aaaaa\", and \"bb\" as the prefix in each operation.\n",
    "\n",
    "    For prefix \"aaaaaaaaa\", append \"9\" followed by \"a\" to comp.\n",
    "    For prefix \"aaaaa\", append \"5\" followed by \"a\" to comp.\n",
    "    For prefix \"bb\", append \"2\" followed by \"b\" to comp.\n",
    "\n",
    "Constraints:\n",
    "\n",
    "    1 <= word.length <= 2 * 105\n",
    "    word consists only of lowercase English letters.\n",
    "\n",
    "---\n",
    "\n",
    "give best time and space complexity code in rust,give variables usefull name, add comments to explain the code way more clear,also add code to run example case, use below typing\n",
    "\n",
    "---\n",
    "\n",
    "impl Solution {\n",
    "    pub fn compressed_string(word: String) -> String {\n",
    "\n",
    "    }\n",
    "}"
   ]
  },
  {
   "cell_type": "markdown",
   "metadata": {},
   "source": []
  },
  {
   "cell_type": "code",
   "execution_count": null,
   "metadata": {},
   "outputs": [],
   "source": [
    "impl Solution {\n",
    "    pub fn compressed_string(word: String) -> String {\n",
    "        word.into_bytes()\n",
    "            .chunk_by(|a, b| a == b)\n",
    "            .flat_map(|chunk| {\n",
    "                chunk\n",
    "                    .chunks(9)\n",
    "                    .flat_map(|c| [Into::<char>::into(c.len() as u8 + b'0'), chunk[0].into()])\n",
    "            })\n",
    "            .collect()\n",
    "    }\n",
    "}"
   ]
  }
 ],
 "metadata": {
  "kernelspec": {
   "display_name": "Rust",
   "language": "rust",
   "name": "rust"
  },
  "language_info": {
   "name": "rust"
  }
 },
 "nbformat": 4,
 "nbformat_minor": 2
}
