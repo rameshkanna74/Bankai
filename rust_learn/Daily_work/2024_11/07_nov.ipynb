{
 "cells": [
  {
   "cell_type": "markdown",
   "metadata": {},
   "source": [
    "2275. Largest Combination With Bitwise AND Greater Than Zero\n",
    "      Medium\n",
    "      Topics\n",
    "      Companies\n",
    "      Hint\n",
    "\n",
    "The bitwise AND of an array nums is the bitwise AND of all integers in nums.\n",
    "\n",
    "    For example, for nums = [1, 5, 3], the bitwise AND is equal to 1 & 5 & 3 = 1.\n",
    "    Also, for nums = [7], the bitwise AND is 7.\n",
    "\n",
    "You are given an array of positive integers candidates. Evaluate the bitwise AND of every combination of numbers of candidates. Each number in candidates may only be used once in each combination.\n",
    "\n",
    "Return the size of the largest combination of candidates with a bitwise AND greater than 0.\n",
    "\n",
    "Example 1:\n",
    "\n",
    "Input: candidates = [16,17,71,62,12,24,14]\n",
    "Output: 4\n",
    "Explanation: The combination [16,17,62,24] has a bitwise AND of 16 & 17 & 62 & 24 = 16 > 0.\n",
    "The size of the combination is 4.\n",
    "It can be shown that no combination with a size greater than 4 has a bitwise AND greater than 0.\n",
    "Note that more than one combination may have the largest size.\n",
    "For example, the combination [62,12,24,14] has a bitwise AND of 62 & 12 & 24 & 14 = 8 > 0.\n",
    "\n",
    "Example 2:\n",
    "\n",
    "Input: candidates = [8,8]\n",
    "Output: 2\n",
    "Explanation: The largest combination [8,8] has a bitwise AND of 8 & 8 = 8 > 0.\n",
    "The size of the combination is 2, so we return 2.\n",
    "\n",
    "Constraints:\n",
    "\n",
    "    1 <= candidates.length <= 105\n",
    "    1 <= candidates[i] <= 107\n",
    "\n",
    "---\n",
    "\n",
    "give best time and space complexity code in rust,give variables usefull name, add comments to explain the code way more clear,also add code to run example case, use below typing\n",
    "\n",
    "---\n",
    "\n",
    "impl Solution {\n",
    "    pub fn largest_combination(candidates: Vec<i32>) -> i32 {\n",
    "        \n",
    "    }\n",
    "}"
   ]
  },
  {
   "cell_type": "markdown",
   "metadata": {},
   "source": []
  },
  {
   "cell_type": "code",
   "execution_count": null,
   "metadata": {},
   "outputs": [],
   "source": [
    "impl Solution {\n",
    "    pub fn largest_combination(candidates: Vec<i32>) -> i32 {\n",
    "        let mut bit_counts = vec![0; 32];\n",
    "        \n",
    "        // Count bits for each number\n",
    "        for &num in candidates.iter() {\n",
    "            Self::count_bits(num, &mut bit_counts);\n",
    "        }\n",
    "        \n",
    "        // Find maximum count\n",
    "        *bit_counts.iter().max().unwrap()\n",
    "    }\n",
    "    \n",
    "    fn count_bits(mut num: i32, bit_counts: &mut Vec<i32>) {\n",
    "        for i in 0..32 {\n",
    "            if (num & (1 << i)) != 0 {\n",
    "                bit_counts[i] += 1;\n",
    "            }\n",
    "        }\n",
    "    }\n",
    "}"
   ]
  }
 ],
 "metadata": {
  "kernelspec": {
   "display_name": "Rust",
   "language": "rust",
   "name": "rust"
  },
  "language_info": {
   "name": "rust"
  }
 },
 "nbformat": 4,
 "nbformat_minor": 2
}
