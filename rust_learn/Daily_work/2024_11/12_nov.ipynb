{
 "cells": [
  {
   "cell_type": "markdown",
   "metadata": {},
   "source": [
    "2070. Most Beautiful Item for Each Query\n",
    "      Medium\n",
    "      Topics\n",
    "      Companies\n",
    "      Hint\n",
    "\n",
    "You are given a 2D integer array items where items[i] = [pricei, beautyi] denotes the price and beauty of an item respectively.\n",
    "\n",
    "You are also given a 0-indexed integer array queries. For each queries[j], you want to determine the maximum beauty of an item whose price is less than or equal to queries[j]. If no such item exists, then the answer to this query is 0.\n",
    "\n",
    "Return an array answer of the same length as queries where answer[j] is the answer to the jth query.\n",
    "\n",
    "Example 1:\n",
    "\n",
    "Input: items = [[1,2],[3,2],[2,4],[5,6],[3,5]], queries = [1,2,3,4,5,6]\n",
    "Output: [2,4,5,5,6,6]\n",
    "Explanation:\n",
    "\n",
    "- For queries[0]=1, [1,2] is the only item which has price <= 1. Hence, the answer for this query is 2.\n",
    "- For queries[1]=2, the items which can be considered are [1,2] and [2,4].\n",
    "  The maximum beauty among them is 4.\n",
    "- For queries[2]=3 and queries[3]=4, the items which can be considered are [1,2], [3,2], [2,4], and [3,5].\n",
    "  The maximum beauty among them is 5.\n",
    "- For queries[4]=5 and queries[5]=6, all items can be considered.\n",
    "  Hence, the answer for them is the maximum beauty of all items, i.e., 6.\n",
    "\n",
    "Example 2:\n",
    "\n",
    "Input: items = [[1,2],[1,2],[1,3],[1,4]], queries = [1]\n",
    "Output: [4]\n",
    "Explanation:\n",
    "The price of every item is equal to 1, so we choose the item with the maximum beauty 4.\n",
    "Note that multiple items can have the same price and/or beauty.\n",
    "\n",
    "Example 3:\n",
    "\n",
    "Input: items = [[10,1000]], queries = [5]\n",
    "Output: [0]\n",
    "Explanation:\n",
    "No item has a price less than or equal to 5, so no item can be chosen.\n",
    "Hence, the answer to the query is 0.\n",
    "\n",
    "Constraints:\n",
    "\n",
    "    1 <= items.length, queries.length <= 105\n",
    "    items[i].length == 2\n",
    "    1 <= pricei, beautyi, queries[j] <= 109\n",
    "\n",
    "---\n",
    "\n",
    "give best time and space complexity code in rust,give variables usefull name, add comments to explain the code way more clear,also add code to run example case, use below typing\n",
    "\n",
    "---\n",
    "\n",
    "impl Solution {\n",
    "    pub fn maximum_beauty(items: Vec<Vec<i32>>, queries: Vec<i32>) -> Vec<i32> {\n",
    "        \n",
    "    }\n",
    "}"
   ]
  },
  {
   "cell_type": "markdown",
   "metadata": {},
   "source": []
  },
  {
   "cell_type": "code",
   "execution_count": null,
   "metadata": {
    "vscode": {
     "languageId": "plaintext"
    }
   },
   "outputs": [],
   "source": [
    "impl Solution {\n",
    "    pub fn maximum_beauty(mut items: Vec<Vec<i32>>, queries: Vec<i32>) -> Vec<i32> {\n",
    "        items.sort_unstable();\n",
    "        items.dedup_by(|right, left| right[1] <= left[1]);\n",
    "        queries.into_iter().map(|q|\n",
    "            match items.partition_point(|it| it[0] <= q) {\n",
    "                0 => 0,\n",
    "                i => items[i - 1][1]\n",
    "            }\n",
    "        ).collect()\n",
    "    }\n",
    "}"
   ]
  },
  {
   "cell_type": "markdown",
   "metadata": {},
   "source": [
    "https://leetcode.com/u/Andriamanitra/"
   ]
  }
 ],
 "metadata": {
  "language_info": {
   "name": "python"
  }
 },
 "nbformat": 4,
 "nbformat_minor": 2
}
