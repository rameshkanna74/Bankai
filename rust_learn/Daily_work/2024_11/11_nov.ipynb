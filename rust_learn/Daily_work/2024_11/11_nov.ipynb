{
 "cells": [
  {
   "cell_type": "markdown",
   "metadata": {},
   "source": [
    "2601. Prime Subtraction Operation\n",
    "      Medium\n",
    "      Topics\n",
    "      Companies\n",
    "      Hint\n",
    "\n",
    "You are given a 0-indexed integer array nums of length n.\n",
    "\n",
    "You can perform the following operation as many times as you want:\n",
    "\n",
    "    Pick an index i that you haven’t picked before, and pick a prime p strictly less than nums[i], then subtract p from nums[i].\n",
    "\n",
    "Return true if you can make nums a strictly increasing array using the above operation and false otherwise.\n",
    "\n",
    "A strictly increasing array is an array whose each element is strictly greater than its preceding element.\n",
    "\n",
    "Example 1:\n",
    "\n",
    "Input: nums = [4,9,6,10]\n",
    "Output: true\n",
    "Explanation: In the first operation: Pick i = 0 and p = 3, and then subtract 3 from nums[0], so that nums becomes [1,9,6,10].\n",
    "In the second operation: i = 1, p = 7, subtract 7 from nums[1], so nums becomes equal to [1,2,6,10].\n",
    "After the second operation, nums is sorted in strictly increasing order, so the answer is true.\n",
    "\n",
    "Example 2:\n",
    "\n",
    "Input: nums = [6,8,11,12]\n",
    "Output: true\n",
    "Explanation: Initially nums is sorted in strictly increasing order, so we don't need to make any operations.\n",
    "\n",
    "Example 3:\n",
    "\n",
    "Input: nums = [5,8,3]\n",
    "Output: false\n",
    "Explanation: It can be proven that there is no way to perform operations to make nums sorted in strictly increasing order, so the answer is false.\n",
    "\n",
    "Constraints:\n",
    "\n",
    "    1 <= nums.length <= 1000\n",
    "    1 <= nums[i] <= 1000\n",
    "    nums.length == n\n",
    "\n",
    "---\n",
    "\n",
    "give best time and space complexity code in rust,give variables usefull name, add comments to explain the code way more clear,also add code to run example case, use below typing\n",
    "\n",
    "---\n",
    "\n",
    "impl Solution {\n",
    "    pub fn prime_sub_operation(nums: Vec<i32>) -> bool {\n",
    "        \n",
    "    }\n",
    "}"
   ]
  },
  {
   "cell_type": "markdown",
   "metadata": {},
   "source": []
  },
  {
   "cell_type": "code",
   "execution_count": null,
   "metadata": {
    "vscode": {
     "languageId": "plaintext"
    }
   },
   "outputs": [],
   "source": [
    "impl Solution {\n",
    "    pub fn prime_sub_operation(nums: Vec<i32>) -> bool {\n",
    "        let primes = vec![2, 3, 5, 7, 11, 13, 17, 19, 23, 29, 31, 37, 41, 43, 47, 53, 59, 61, 67, 71, 73, 79, 83, 89, 97, 101, 103, 107, 109, 113, 127, 131, 137, 139, 149, 151, 157, 163, 167, 173, 179, 181, 191, 193, 197, 199, 211, 223, 227, 229, 233, 239, 241, 251, 257, 263, 269, 271, 277, 281, 283, 293, 307, 311, 313, 317, 331, 337, 347, 349, 353, 359, 367, 373, 379, 383, 389, 397, 401, 409, 419, 421, 431, 433, 439, 443, 449, 457, 461, 463, 467, 479, 487, 491, 499, 503, 509, 521, 523, 541, 547, 557, 563, 569, 571, 577, 587, 593, 599, 601, 607, 613, 617, 619, 631, 641, 643, 647, 653, 659, 661, 673, 677, 683, 691, 701, 709, 719, 727, 733, 739, 743, 751, 757, 761, 769, 773, 787, 797, 809, 811, 821, 823, 827, 829, 839, 853, 857, 859, 863, 877, 881, 883, 887, 907, 911, 919, 929, 937, 941, 947, 953, 967, 971, 977, 983, 991, 997, 1009, 1013, 1019, 1021];\n",
    "        \n",
    "        let mut prev = 0;\n",
    "        for num in nums.iter() {\n",
    "            let mut curr = *num;\n",
    "            \n",
    "            for &prime in primes.iter().rev() {\n",
    "                if prime < curr && curr - prime > prev {\n",
    "                    curr -= prime;\n",
    "                    break;\n",
    "                }\n",
    "            }\n",
    "            \n",
    "            if curr <= prev {\n",
    "                return false;\n",
    "            }\n",
    "            prev = curr;\n",
    "        }\n",
    "        true\n",
    "    }\n",
    "}"
   ]
  }
 ],
 "metadata": {
  "language_info": {
   "name": "python"
  }
 },
 "nbformat": 4,
 "nbformat_minor": 2
}
