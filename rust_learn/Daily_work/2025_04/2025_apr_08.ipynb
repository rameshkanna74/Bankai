{
 "cells": [
  {
   "cell_type": "markdown",
   "metadata": {},
   "source": [
    "\n",
    "\n",
    "---\n",
    "\n",
    "give best time and space complexity code in rust to use in interview,give variables usefull name, add comments to explain the code way more clear,also add code to run example case, use below typing\n",
    "\n",
    "---\n",
    "\n",
    "```rust\n",
    "\n",
    "```\n"
   ]
  },
  {
   "cell_type": "markdown",
   "metadata": {},
   "source": []
  },
  {
   "cell_type": "code",
   "execution_count": null,
   "metadata": {},
   "outputs": [],
   "source": [
    "use std::collections::HashSet;\n",
    "\n",
    "impl Solution {\n",
    "    pub fn minimum_operations(nums: Vec<i32>) -> i32 {\n",
    "        (0..nums.len()).rev()\n",
    "            .scan(HashSet::new(), |set, i| set.insert(nums[i]).then_some(i))\n",
    "            .last()\n",
    "            .map_or(0, |i| ((i + 2) / 3) as i32)\n",
    "    }\n",
    "}"
   ]
  },
  {
   "cell_type": "code",
   "execution_count": null,
   "metadata": {},
   "outputs": [],
   "source": [
    "use std::collections::HashSet;\n",
    "\n",
    "impl Solution {\n",
    "    pub fn minimum_operations(nums: Vec<i32>) -> i32 {\n",
    "        let mut ans = 0;\n",
    "\n",
    "        let check_unique = |start: usize| -> bool {\n",
    "            let mut seen = HashSet::new();\n",
    "            for &num in &nums[start..] {\n",
    "                if seen.contains(&num) {\n",
    "                    return false;\n",
    "                }\n",
    "                seen.insert(num);\n",
    "            }\n",
    "            true\n",
    "        };\n",
    "\n",
    "        for i in (0..nums.len()).step_by(3) {\n",
    "            if check_unique(i) {\n",
    "                return ans;\n",
    "            }\n",
    "            ans += 1;\n",
    "        }\n",
    "\n",
    "        ans\n",
    "    }\n",
    "}"
   ]
  },
  {
   "cell_type": "code",
   "execution_count": null,
   "metadata": {},
   "outputs": [],
   "source": [
    "class Solution:\n",
    "    def minimumOperations(self, nums: List[int]) -> int:\n",
    "        count=0\n",
    "        while len(nums)>len(set(nums)):\n",
    "            nums=nums[3:]\n",
    "            count+=1\n",
    "        return count\n",
    "        \n",
    "        "
   ]
  }
 ],
 "metadata": {
  "kernelspec": {
   "display_name": "Rust",
   "language": "rust",
   "name": "rust"
  },
  "language_info": {
   "name": "rust"
  }
 },
 "nbformat": 4,
 "nbformat_minor": 2
}
