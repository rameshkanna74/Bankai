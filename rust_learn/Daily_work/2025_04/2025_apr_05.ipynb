{
 "cells": [
  {
   "cell_type": "markdown",
   "metadata": {},
   "source": [
    "1863. Sum of All Subset XOR Totals\n",
    "\n",
    "Easy\n",
    "Topics\n",
    "Companies\n",
    "Hint\n",
    "\n",
    "The XOR total of an array is defined as the bitwise XOR of all its elements, or 0 if the array is empty.\n",
    "\n",
    "For example, the XOR total of the array [2,5,6] is 2 XOR 5 XOR 6 = 1.\n",
    "Given an array nums, return the sum of all XOR totals for every subset of nums.\n",
    "\n",
    "Note: Subsets with the same elements should be counted multiple times.\n",
    "\n",
    "An array a is a subset of an array b if a can be obtained from b by deleting some (possibly zero) elements of b.\n",
    "\n",
    "Example 1:\n",
    "\n",
    "Input: nums = [1,3]\n",
    "Output: 6\n",
    "Explanation: The 4 subsets of [1,3] are:\n",
    "\n",
    "- The empty subset has an XOR total of 0.\n",
    "- [1] has an XOR total of 1.\n",
    "- [3] has an XOR total of 3.\n",
    "- [1,3] has an XOR total of 1 XOR 3 = 2.\n",
    "  0 + 1 + 3 + 2 = 6\n",
    "  Example 2:\n",
    "\n",
    "Input: nums = [5,1,6]\n",
    "Output: 28\n",
    "Explanation: The 8 subsets of [5,1,6] are:\n",
    "\n",
    "- The empty subset has an XOR total of 0.\n",
    "- [5] has an XOR total of 5.\n",
    "- [1] has an XOR total of 1.\n",
    "- [6] has an XOR total of 6.\n",
    "- [5,1] has an XOR total of 5 XOR 1 = 4.\n",
    "- [5,6] has an XOR total of 5 XOR 6 = 3.\n",
    "- [1,6] has an XOR total of 1 XOR 6 = 7.\n",
    "- [5,1,6] has an XOR total of 5 XOR 1 XOR 6 = 2.\n",
    "  0 + 5 + 1 + 6 + 4 + 3 + 7 + 2 = 28\n",
    "  Example 3:\n",
    "\n",
    "Input: nums = [3,4,5,6,7,8]\n",
    "Output: 480\n",
    "Explanation: The sum of all XOR totals for every subset is 480.\n",
    "\n",
    "Constraints:\n",
    "\n",
    "1 <= nums.length <= 12\n",
    "1 <= nums[i] <= 20\n",
    "\n",
    "---\n",
    "\n",
    "give best time and space complexity code in rust to use in interview,give variables usefull name, add comments to explain the code way more clear,also add code to run example case, use below typing\n",
    "\n",
    "---\n",
    "\n",
    "```rust\n",
    "impl Solution {\n",
    "    pub fn subset_xor_sum(nums: Vec<i32>) -> i32 {\n",
    "\n",
    "    }\n",
    "}\n",
    "```\n"
   ]
  },
  {
   "cell_type": "markdown",
   "metadata": {},
   "source": []
  },
  {
   "cell_type": "code",
   "execution_count": null,
   "metadata": {},
   "outputs": [],
   "source": [
    "impl Solution {\n",
    "    pub fn subset_xor_sum(nums: Vec<i32>) -> i32 {\n",
    "        let mut res =0;\n",
    "        for n in &nums{\n",
    "            res|=n;\n",
    "        }\n",
    "        res<<(nums.len()-1)\n",
    "    }\n",
    "}"
   ]
  },
  {
   "cell_type": "code",
   "execution_count": null,
   "metadata": {},
   "outputs": [],
   "source": [
    "class Solution:\n",
    "    def subsetXORSum(self, nums):\n",
    "        total = 0\n",
    "        for num in nums:\n",
    "            total |= num  # Step 1: Compute bitwise OR of all numbers\n",
    "        return total * (1 << (len(nums) - 1))  # Step 2: Multiply by 2^(n-1)\n"
   ]
  }
 ],
 "metadata": {
  "kernelspec": {
   "display_name": "Rust",
   "language": "rust",
   "name": "rust"
  },
  "language_info": {
   "name": "rust"
  }
 },
 "nbformat": 4,
 "nbformat_minor": 2
}
