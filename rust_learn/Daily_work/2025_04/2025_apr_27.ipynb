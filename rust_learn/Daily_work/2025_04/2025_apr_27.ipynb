{
 "cells": [
  {
   "cell_type": "markdown",
   "metadata": {},
   "source": [
    "3392. Count Subarrays of Length Three With a Condition\n",
    "\n",
    "Easy\n",
    "Topics\n",
    "Companies\n",
    "Hint\n",
    "\n",
    "Given an integer array nums, return the number of\n",
    "\n",
    "of length 3 such that the sum of the first and third numbers equals exactly half of the second number.\n",
    "\n",
    " \n",
    "\n",
    "Example 1:\n",
    "\n",
    "Input: nums = [1,2,1,4,1]\n",
    "\n",
    "Output: 1\n",
    "\n",
    "Explanation:\n",
    "\n",
    "Only the subarray [1,4,1] contains exactly 3 elements where the sum of the first and third numbers equals half the middle number.\n",
    "\n",
    "Example 2:\n",
    "\n",
    "Input: nums = [1,1,1]\n",
    "\n",
    "Output: 0\n",
    "\n",
    "Explanation:\n",
    "\n",
    "[1,1,1] is the only subarray of length 3. However, its first and third numbers do not add to half the middle number.\n",
    "\n",
    " \n",
    "\n",
    "Constraints:\n",
    "\n",
    "    3 <= nums.length <= 100\n",
    "    -100 <= nums[i] <= 100\n",
    "\n",
    "\n",
    "---\n",
    "\n",
    "give best time and space complexity code in rust to use in interview,give variables usefull name, add comments to explain the code way more clear,also add code to run example case, use below typing\n",
    "\n",
    "---\n",
    "\n",
    "```rust\n",
    "impl Solution {\n",
    "    pub fn count_subarrays(nums: Vec<i32>) -> i32 {\n",
    "        \n",
    "    }\n",
    "}\n",
    "```\n"
   ]
  },
  {
   "cell_type": "markdown",
   "metadata": {},
   "source": []
  },
  {
   "cell_type": "code",
   "execution_count": null,
   "metadata": {},
   "outputs": [],
   "source": []
  },
  {
   "cell_type": "markdown",
   "metadata": {},
   "source": [
    "```py\n",
    "class Solution:\n",
    "    def countSubarrays(self, nums):\n",
    "        i, j, n = 0, 0, len(nums)\n",
    "        cnt = 0\n",
    "        while j < n:\n",
    "            if j - i + 1 == 3:\n",
    "                if nums[i] + nums[j] == (nums[i+1] // 2) and (nums[i+1] % 2 == 0):\n",
    "                    cnt += 1\n",
    "                i += 1\n",
    "            j += 1\n",
    "        return cnt\n",
    "```"
   ]
  }
 ],
 "metadata": {
  "kernelspec": {
   "display_name": "Rust",
   "language": "rust",
   "name": "rust"
  },
  "language_info": {
   "name": "rust"
  }
 },
 "nbformat": 4,
 "nbformat_minor": 2
}
