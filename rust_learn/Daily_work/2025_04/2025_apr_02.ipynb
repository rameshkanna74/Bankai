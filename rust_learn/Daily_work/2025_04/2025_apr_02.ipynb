{
 "cells": [
  {
   "cell_type": "markdown",
   "metadata": {},
   "source": [
    "2873. Maximum Value of an Ordered Triplet I\n",
    "      Easy\n",
    "      Topics\n",
    "      Companies\n",
    "      Hint\n",
    "\n",
    "You are given a 0-indexed integer array nums.\n",
    "\n",
    "Return the maximum value over all triplets of indices (i, j, k) such that i < j < k. If all such triplets have a negative value, return 0.\n",
    "\n",
    "The value of a triplet of indices (i, j, k) is equal to (nums[i] - nums[j]) \\* nums[k].\n",
    "\n",
    "Example 1:\n",
    "\n",
    "Input: nums = [12,6,1,2,7]\n",
    "Output: 77\n",
    "Explanation: The value of the triplet (0, 2, 4) is (nums[0] - nums[2]) \\* nums[4] = 77.\n",
    "It can be shown that there are no ordered triplets of indices with a value greater than 77.\n",
    "\n",
    "Example 2:\n",
    "\n",
    "Input: nums = [1,10,3,4,19]\n",
    "Output: 133\n",
    "Explanation: The value of the triplet (1, 2, 4) is (nums[1] - nums[2]) \\* nums[4] = 133.\n",
    "It can be shown that there are no ordered triplets of indices with a value greater than 133.\n",
    "\n",
    "Example 3:\n",
    "\n",
    "Input: nums = [1,2,3]\n",
    "Output: 0\n",
    "Explanation: The only ordered triplet of indices (0, 1, 2) has a negative value of (nums[0] - nums[1]) \\* nums[2] = -3. Hence, the answer would be 0.\n",
    "\n",
    "Constraints:\n",
    "\n",
    "    3 <= nums.length <= 100\n",
    "    1 <= nums[i] <= 106\n",
    "\n",
    "---\n",
    "\n",
    "give best time and space complexity code in rust to use in interview,give variables usefull name, add comments to explain the code way more clear,also add code to run example case, use below typing\n",
    "\n",
    "---\n",
    "\n",
    "```rust\n",
    "impl Solution {\n",
    "    pub fn maximum_triplet_value(nums: Vec<i32>) -> i64 {\n",
    "        \n",
    "    }\n",
    "}\n",
    "```\n"
   ]
  },
  {
   "cell_type": "markdown",
   "metadata": {},
   "source": []
  },
  {
   "cell_type": "code",
   "execution_count": null,
   "metadata": {},
   "outputs": [],
   "source": [
    "impl Solution {\n",
    "    pub fn maximum_triplet_value(n: Vec<i32>) -> i64 {\n",
    "        let (mut m, mut d) = (0, 0);\n",
    "        n.iter().map(|&x| { let x = x as i64;\n",
    "            let r = d * x; d = d.max(m - x); m = m.max(x); r\n",
    "        }).max().unwrap()\n",
    "    }\n",
    "}"
   ]
  },
  {
   "cell_type": "code",
   "execution_count": null,
   "metadata": {},
   "outputs": [],
   "source": [
    "impl Solution {\n",
    "    pub fn maximum_triplet_value(nums: Vec<i32>) -> i64 {\n",
    "        let n = nums.len();\n",
    "        let mut res = 0;\n",
    "        for i in 0..n {\n",
    "            for j in i+1..n {\n",
    "                for k in j+1..n {\n",
    "                    res = res.max((nums[i] - nums[j]) as i64 * nums[k] as i64);\n",
    "                }\n",
    "            }\n",
    "        }\n",
    "        res\n",
    "    }\n",
    "}"
   ]
  }
 ],
 "metadata": {
  "kernelspec": {
   "display_name": "Rust",
   "language": "rust",
   "name": "rust"
  },
  "language_info": {
   "name": "rust"
  }
 },
 "nbformat": 4,
 "nbformat_minor": 2
}
