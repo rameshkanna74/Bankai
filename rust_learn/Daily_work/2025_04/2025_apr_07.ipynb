{
 "cells": [
  {
   "cell_type": "markdown",
   "metadata": {},
   "source": [
    "416. Partition Equal Subset Sum\n",
    "     Medium\n",
    "     Topics\n",
    "     Companies\n",
    "\n",
    "Given an integer array nums, return true if you can partition the array into two subsets such that the sum of the elements in both subsets is equal or false otherwise.\n",
    "\n",
    "Example 1:\n",
    "\n",
    "Input: nums = [1,5,11,5]\n",
    "Output: true\n",
    "Explanation: The array can be partitioned as [1, 5, 5] and [11].\n",
    "\n",
    "Example 2:\n",
    "\n",
    "Input: nums = [1,2,3,5]\n",
    "Output: false\n",
    "Explanation: The array cannot be partitioned into equal sum subsets.\n",
    "\n",
    "Constraints:\n",
    "\n",
    "    1 <= nums.length <= 200\n",
    "    1 <= nums[i] <= 100\n",
    "\n",
    "---\n",
    "\n",
    "give best time and space complexity code in rust to use in interview,give variables usefull name, add comments to explain the code way more clear,also add code to run example case, use below typing\n",
    "\n",
    "---\n",
    "\n",
    "```rust\n",
    "impl Solution {\n",
    "    pub fn can_partition(nums: Vec<i32>) -> bool {\n",
    "\n",
    "    }\n",
    "}\n",
    "```\n"
   ]
  },
  {
   "cell_type": "markdown",
   "metadata": {},
   "source": []
  },
  {
   "cell_type": "code",
   "execution_count": null,
   "metadata": {},
   "outputs": [],
   "source": [
    "impl Solution {\n",
    "    pub fn can_partition(nums: Vec<i32>) -> bool {\n",
    "        // 0-1 knapsack\n",
    "        let t_sum = nums.iter().fold(0, |x,y| x+y);\n",
    "        if t_sum % 2 == 1 {\n",
    "            return false;\n",
    "        }\n",
    "        let seek = (t_sum / 2) as usize ;\n",
    "        let mut dp = vec![false; seek + 1];\n",
    "        dp[0] = true;\n",
    "        for num in nums.iter() {\n",
    "            let n2 = *num as usize;\n",
    "            for i in (n2..=seek).rev() {\n",
    "                let index = i as usize;\n",
    "                dp[index] = dp[index] || dp[index-n2];\n",
    "            }\n",
    "            if dp[seek] {\n",
    "                return true;\n",
    "            }\n",
    "        }\n",
    "        false\n",
    "    }\n",
    "}"
   ]
  },
  {
   "cell_type": "code",
   "execution_count": null,
   "metadata": {},
   "outputs": [],
   "source": [
    "impl Solution {\n",
    "    pub fn can_partition(nums: Vec<i32>) -> bool {\n",
    "        let sum: i32 = nums.iter().sum();\n",
    "        if sum % 2 != 0 {\n",
    "            return false;\n",
    "        }\n",
    "        let target = (sum / 2) as usize;\n",
    "        let mut dp = vec![false; target + 1];\n",
    "        dp[0] = true;\n",
    "        for num in nums {\n",
    "            let num = num as usize;\n",
    "            if num > target {\n",
    "                return false;\n",
    "            }\n",
    "            for j in (0..=target - num).rev() {\n",
    "                if dp[j] {\n",
    "                    dp[j + num] = true;\n",
    "                }\n",
    "            }\n",
    "            if dp[target] {\n",
    "                return true;\n",
    "            }\n",
    "        }\n",
    "        dp[target]\n",
    "    }\n",
    "}"
   ]
  }
 ],
 "metadata": {
  "kernelspec": {
   "display_name": "Rust",
   "language": "rust",
   "name": "rust"
  },
  "language_info": {
   "name": "rust"
  }
 },
 "nbformat": 4,
 "nbformat_minor": 2
}
