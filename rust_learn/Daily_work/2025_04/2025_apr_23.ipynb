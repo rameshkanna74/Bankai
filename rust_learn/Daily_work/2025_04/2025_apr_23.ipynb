{
 "cells": [
  {
   "cell_type": "markdown",
   "metadata": {},
   "source": [
    "1399. Count Largest Group\n",
    "\n",
    "Easy\n",
    "Topics\n",
    "Companies\n",
    "Hint\n",
    "\n",
    "You are given an integer n.\n",
    "\n",
    "Each number from 1 to n is grouped according to the sum of its digits.\n",
    "\n",
    "Return the number of groups that have the largest size.\n",
    "\n",
    " \n",
    "\n",
    "Example 1:\n",
    "\n",
    "Input: n = 13\n",
    "Output: 4\n",
    "Explanation: There are 9 groups in total, they are grouped according sum of its digits of numbers from 1 to 13:\n",
    "[1,10], [2,11], [3,12], [4,13], [5], [6], [7], [8], [9].\n",
    "There are 4 groups with largest size.\n",
    "Example 2:\n",
    "\n",
    "Input: n = 2\n",
    "Output: 2\n",
    "Explanation: There are 2 groups [1], [2] of size 1.\n",
    " \n",
    "\n",
    "Constraints:\n",
    "\n",
    "1 <= n <= 104\n",
    "\n",
    "---\n",
    "\n",
    "give best time and space complexity code in rust to use in interview,give variables usefull name, add comments to explain the code way more clear,also add code to run example case, use below typing\n",
    "\n",
    "---\n",
    "\n",
    "```rust\n",
    "impl Solution {\n",
    "    pub fn count_largest_group(n: i32) -> i32 {\n",
    "        \n",
    "    }\n",
    "}\n",
    "```\n"
   ]
  },
  {
   "cell_type": "markdown",
   "metadata": {},
   "source": []
  },
  {
   "cell_type": "code",
   "execution_count": null,
   "metadata": {},
   "outputs": [],
   "source": [
    "use std::collections::HashMap;\n",
    "\n",
    "impl Solution {\n",
    "    pub fn count_largest_group(n: i32) -> i32 {\n",
    "        let mut map = HashMap::new();\n",
    "        let mut max = 0;\n",
    "        for i in 1..=n {\n",
    "            let mut x = i;\n",
    "            let mut sum = 0;\n",
    "            while x > 0 {\n",
    "                sum += x % 10;\n",
    "                x /= 10;\n",
    "            }\n",
    "            *map.entry(sum).or_insert(0) += 1;\n",
    "            max = max.max(*map.get(&sum).unwrap());\n",
    "        }\n",
    "        map.values().filter(|&&v| v == max).count() as i32\n",
    "    }\n",
    "}"
   ]
  },
  {
   "cell_type": "markdown",
   "metadata": {},
   "source": [
    "```py\n",
    "class Solution:\n",
    "    def countLargestGroup(self, n: int) -> int:\n",
    "        def helper(x):\n",
    "            return sum(int(d) for d in str(x))\n",
    "        \n",
    "        m = {}\n",
    "        maxi = 0\n",
    "        for i in range(1, n+1):\n",
    "            digit = helper(i)\n",
    "            m[digit] = m.get(digit, 0) + 1\n",
    "            maxi = max(maxi, m[digit])\n",
    "        return sum(1 for v in m.values() if v == maxi)\n",
    "```"
   ]
  }
 ],
 "metadata": {
  "kernelspec": {
   "display_name": "Rust",
   "language": "rust",
   "name": "rust"
  },
  "language_info": {
   "name": "rust"
  }
 },
 "nbformat": 4,
 "nbformat_minor": 2
}
