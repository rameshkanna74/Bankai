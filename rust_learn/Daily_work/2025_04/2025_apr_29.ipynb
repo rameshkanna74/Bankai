{
 "cells": [
  {
   "cell_type": "markdown",
   "metadata": {},
   "source": [
    "2962. Count Subarrays Where Max Element Appears at Least K Times\n",
    "\n",
    "Medium\n",
    "Topics\n",
    "Companies\n",
    "\n",
    "You are given an integer array nums and a positive integer k.\n",
    "\n",
    "Return the number of subarrays where the maximum element of nums appears at least k times in that subarray.\n",
    "\n",
    "A subarray is a contiguous sequence of elements within an array.\n",
    "\n",
    " \n",
    "\n",
    "Example 1:\n",
    "\n",
    "Input: nums = [1,3,2,3,3], k = 2\n",
    "Output: 6\n",
    "Explanation: The subarrays that contain the element 3 at least 2 times are: [1,3,2,3], [1,3,2,3,3], [3,2,3], [3,2,3,3], [2,3,3] and [3,3].\n",
    "\n",
    "Example 2:\n",
    "\n",
    "Input: nums = [1,4,2,1], k = 3\n",
    "Output: 0\n",
    "Explanation: No subarray contains the element 4 at least 3 times.\n",
    "\n",
    " \n",
    "\n",
    "Constraints:\n",
    "\n",
    "    1 <= nums.length <= 105\n",
    "    1 <= nums[i] <= 106\n",
    "    1 <= k <= 105\n",
    "\n",
    "\n",
    "\n",
    "---\n",
    "\n",
    "give best time and space complexity code in rust to use in interview,give variables usefull name, add comments to explain the code way more clear,also add code to run example case, use below typing\n",
    "\n",
    "---\n",
    "\n",
    "```rust\n",
    "impl Solution {\n",
    "    pub fn count_subarrays(nums: Vec<i32>, k: i32) -> i64 {\n",
    "        \n",
    "    }\n",
    "}\n",
    "```\n"
   ]
  },
  {
   "cell_type": "markdown",
   "metadata": {},
   "source": []
  },
  {
   "cell_type": "code",
   "execution_count": null,
   "metadata": {},
   "outputs": [],
   "source": [
    "impl Solution {\n",
    "    pub fn count_subarrays(nums: Vec<i32>, k: i32) -> i64 {\n",
    "        let max = *nums.iter().max().unwrap();\n",
    "\n",
    "        let mut left = 0;\n",
    "        let mut count = 0;\n",
    "        let mut res : i64 = 0;\n",
    "\n",
    "        for val in nums.iter() {\n",
    "            if *val == max {\n",
    "                count += 1;\n",
    "            }\n",
    "\n",
    "            while count >= k {\n",
    "                if (nums[left] == max) {\n",
    "                    count -= 1;\n",
    "                }\n",
    "                left += 1;\n",
    "            }\n",
    "\n",
    "            res += left as i64;\n",
    "        }\n",
    "\n",
    "        return res;\n",
    "    }\n",
    "}"
   ]
  },
  {
   "cell_type": "markdown",
   "metadata": {},
   "source": [
    "```py\n",
    "class Solution:\n",
    "    def countSubarrays(self, nums: List[int], k: int) -> int:\n",
    "        \n",
    "```"
   ]
  },
  {
   "cell_type": "markdown",
   "metadata": {},
   "source": [
    "```py\n",
    "class Solution:\n",
    "    def countSubarrays(self, nums: List[int], k: int) -> int:\n",
    "        max_el = max(nums)\n",
    "        count = 0\n",
    "        l = 0\n",
    "        max_found = 0\n",
    "        n = len(nums)\n",
    "\n",
    "        for r in range(n):\n",
    "            if nums[r] == max_el:\n",
    "                max_found += 1\n",
    "\n",
    "            while max_found == k:\n",
    "                count += n - r\n",
    "                if nums[l] == max_el:\n",
    "                    max_found -= 1\n",
    "                l += 1\n",
    "\n",
    "        return count\n",
    "```"
   ]
  }
 ],
 "metadata": {
  "kernelspec": {
   "display_name": "Rust",
   "language": "rust",
   "name": "rust"
  },
  "language_info": {
   "name": "rust"
  }
 },
 "nbformat": 4,
 "nbformat_minor": 2
}
