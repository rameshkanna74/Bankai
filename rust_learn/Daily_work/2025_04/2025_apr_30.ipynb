{
 "cells": [
  {
   "cell_type": "markdown",
   "metadata": {},
   "source": [
    "1295. Find Numbers with Even Number of Digits\n",
    "\n",
    "Easy\n",
    "Topics\n",
    "Companies\n",
    "Hint\n",
    "\n",
    "Given an array nums of integers, return how many of them contain an even number of digits.\n",
    "\n",
    "\n",
    "Example 1:\n",
    "\n",
    "Input: nums = [12,345,2,6,7896]\n",
    "Output: 2\n",
    "Explanation: \n",
    "12 contains 2 digits (even number of digits). \n",
    "345 contains 3 digits (odd number of digits). \n",
    "2 contains 1 digit (odd number of digits). \n",
    "6 contains 1 digit (odd number of digits). \n",
    "7896 contains 4 digits (even number of digits). \n",
    "Therefore only 12 and 7896 contain an even number of digits.\n",
    "\n",
    "Example 2:\n",
    "\n",
    "Input: nums = [555,901,482,1771]\n",
    "Output: 1 \n",
    "Explanation: \n",
    "Only 1771 contains an even number of digits.\n",
    "\n",
    " \n",
    "\n",
    "Constraints:\n",
    "\n",
    "    1 <= nums.length <= 500\n",
    "    1 <= nums[i] <= 105\n",
    "\n",
    "\n",
    "\n",
    "---\n",
    "\n",
    "give best time and space complexity code in rust to use in interview,give variables usefull name, add comments to explain the code way more clear,also add code to run example case, use below typing\n",
    "\n",
    "---\n",
    "\n",
    "```rust\n",
    "impl Solution {\n",
    "    pub fn find_numbers(nums: Vec<i32>) -> i32 {\n",
    "        \n",
    "    }\n",
    "}\n",
    "```\n"
   ]
  },
  {
   "cell_type": "markdown",
   "metadata": {},
   "source": []
  },
  {
   "cell_type": "code",
   "execution_count": null,
   "metadata": {},
   "outputs": [],
   "source": [
    "impl Solution {\n",
    "    pub fn find_numbers(nums: Vec<i32>) -> i32 {\n",
    "        nums.into_iter()\n",
    "            .filter(|&num| {\n",
    "                matches!(\n",
    "                    num,\n",
    "                    10..100 | 1_000..10_000 | 100_000\n",
    "                )\n",
    "            })\n",
    "            .count() as _\n",
    "    }\n",
    "}\n"
   ]
  },
  {
   "cell_type": "code",
   "execution_count": null,
   "metadata": {},
   "outputs": [],
   "source": [
    "impl Solution {\n",
    "    pub fn find_numbers(nums: Vec<i32>) -> i32 {\n",
    "        let mut count_even = 0;\n",
    "\n",
    "        for num in nums.into_iter() {\n",
    "            let num = num.to_string();\n",
    "            if num.len() % 2 == 0 {\n",
    "                count_even += 1;\n",
    "            } \n",
    "        }\n",
    "\n",
    "        count_even\n",
    "    }\n",
    "}"
   ]
  },
  {
   "cell_type": "markdown",
   "metadata": {},
   "source": [
    "```py\n",
    "class Solution:\n",
    "    def findNumbers(self, nums: List[int]) -> int:\n",
    "        res = 0\n",
    "\n",
    "        for n in nums:\n",
    "            if 9 < n < 100 or 999 < n < 10000 or n == 100000:\n",
    "                res += 1\n",
    "        \n",
    "        return res\n",
    "```"
   ]
  }
 ],
 "metadata": {
  "kernelspec": {
   "display_name": "Rust",
   "language": "rust",
   "name": "rust"
  },
  "language_info": {
   "name": "rust"
  }
 },
 "nbformat": 4,
 "nbformat_minor": 2
}
