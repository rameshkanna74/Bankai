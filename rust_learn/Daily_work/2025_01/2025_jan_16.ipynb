{
 "cells": [
  {
   "cell_type": "markdown",
   "metadata": {},
   "source": [
    "2425. Bitwise XOR of All Pairings\n",
    "      Medium\n",
    "      Topics\n",
    "      Companies\n",
    "      Hint\n",
    "\n",
    "You are given two 0-indexed arrays, nums1 and nums2, consisting of non-negative integers. There exists another array, nums3, which contains the bitwise XOR of all pairings of integers between nums1 and nums2 (every integer in nums1 is paired with every integer in nums2 exactly once).\n",
    "\n",
    "Return the bitwise XOR of all integers in nums3.\n",
    "\n",
    "Example 1:\n",
    "\n",
    "Input: nums1 = [2,1,3], nums2 = [10,2,5,0]\n",
    "Output: 13\n",
    "Explanation:\n",
    "A possible nums3 array is [8,0,7,2,11,3,4,1,9,1,6,3].\n",
    "The bitwise XOR of all these numbers is 13, so we return 13.\n",
    "Example 2:\n",
    "\n",
    "Input: nums1 = [1,2], nums2 = [3,4]\n",
    "Output: 0\n",
    "Explanation:\n",
    "All possible pairs of bitwise XORs are nums1[0] ^ nums2[0], nums1[0] ^ nums2[1], nums1[1] ^ nums2[0],\n",
    "and nums1[1] ^ nums2[1].\n",
    "Thus, one possible nums3 array is [2,5,1,6].\n",
    "2 ^ 5 ^ 1 ^ 6 = 0, so we return 0.\n",
    "\n",
    "Constraints:\n",
    "\n",
    "1 <= nums1.length, nums2.length <= 105\n",
    "0 <= nums1[i], nums2[j] <= 109\n",
    "\n",
    "---\n",
    "\n",
    "give best time and space complexity code in rust,give variables usefull name, add comments to explain the code way more clear,also add code to run example case, use below typing\n",
    "\n",
    "---\n",
    "\n",
    "```rust\n",
    "impl Solution {\n",
    "    pub fn xor_all_nums(nums1: Vec<i32>, nums2: Vec<i32>) -> i32 {\n",
    "        \n",
    "    }\n",
    "}\n",
    "```\n"
   ]
  },
  {
   "cell_type": "markdown",
   "metadata": {},
   "source": []
  },
  {
   "cell_type": "code",
   "execution_count": null,
   "metadata": {
    "vscode": {
     "languageId": "plaintext"
    }
   },
   "outputs": [],
   "source": [
    "impl Solution {\n",
    "    pub fn xor_all_nums(nums1: Vec<i32>, nums2: Vec<i32>) -> i32 {\n",
    "        let n1 = nums1.len();\n",
    "        let n2 = nums2.len();\n",
    "\n",
    "        let res1 = if n2 % 2 == 0 {0} else {\n",
    "            nums1.into_iter()\n",
    "              .fold(0_i32, |r, n| r ^ n)\n",
    "        };\n",
    "\n",
    "        if n1 % 2 == 0 {res1} else {\n",
    "            nums2.into_iter()\n",
    "              .fold(res1, |r, n| r ^ n)\n",
    "        }\n",
    "    }\n",
    "}"
   ]
  },
  {
   "cell_type": "code",
   "execution_count": null,
   "metadata": {
    "vscode": {
     "languageId": "plaintext"
    }
   },
   "outputs": [],
   "source": [
    "use std::ops::BitXor;\n",
    "\n",
    "impl Solution {\n",
    "    pub fn xor_all_nums(nums1: Vec<i32>, nums2: Vec<i32>) -> i32 {\n",
    "        nums1.iter().take((nums2.len() & 1) * usize::MAX)\n",
    "            .chain(nums2.iter().take((nums1.len() & 1) * usize::MAX))\n",
    "            .fold(0, i32::bitxor)\n",
    "    }\n",
    "}"
   ]
  }
 ],
 "metadata": {
  "language_info": {
   "name": "python"
  }
 },
 "nbformat": 4,
 "nbformat_minor": 2
}
