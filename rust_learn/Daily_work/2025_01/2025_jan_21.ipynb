{
 "cells": [
  {
   "cell_type": "markdown",
   "metadata": {},
   "source": [
    "2017. Grid Game\n",
    "\n",
    "Medium\n",
    "Topics\n",
    "Companies\n",
    "Hint\n",
    "\n",
    "You are given a 0-indexed 2D array grid of size 2 x n, where grid[r][c] represents the number of points at position (r, c) on the matrix. Two robots are playing a game on this matrix.\n",
    "\n",
    "Both robots initially start at (0, 0) and want to reach (1, n-1). Each robot may only move to the right ((r, c) to (r, c + 1)) or down ((r, c) to (r + 1, c)).\n",
    "\n",
    "At the start of the game, the first robot moves from (0, 0) to (1, n-1), collecting all the points from the cells on its path. For all cells (r, c) traversed on the path, grid[r][c] is set to 0. Then, the second robot moves from (0, 0) to (1, n-1), collecting the points on its path. Note that their paths may intersect with one another.\n",
    "\n",
    "The first robot wants to minimize the number of points collected by the second robot. In contrast, the second robot wants to maximize the number of points it collects. If both robots play optimally, return the number of points collected by the second robot.\n",
    "\n",
    "Example 1:\n",
    "\n",
    "Input: grid = [[2,5,4],[1,5,1]]\n",
    "Output: 4\n",
    "Explanation: The optimal path taken by the first robot is shown in red, and the optimal path taken by the second robot is shown in blue.\n",
    "The cells visited by the first robot are set to 0.\n",
    "The second robot will collect 0 + 0 + 4 + 0 = 4 points.\n",
    "\n",
    "Example 2:\n",
    "\n",
    "Input: grid = [[3,3,1],[8,5,2]]\n",
    "Output: 4\n",
    "Explanation: The optimal path taken by the first robot is shown in red, and the optimal path taken by the second robot is shown in blue.\n",
    "The cells visited by the first robot are set to 0.\n",
    "The second robot will collect 0 + 3 + 1 + 0 = 4 points.\n",
    "\n",
    "Example 3:\n",
    "\n",
    "Input: grid = [[1,3,1,15],[1,3,3,1]]\n",
    "Output: 7\n",
    "Explanation: The optimal path taken by the first robot is shown in red, and the optimal path taken by the second robot is shown in blue.\n",
    "The cells visited by the first robot are set to 0.\n",
    "The second robot will collect 0 + 1 + 3 + 3 + 0 = 7 points.\n",
    "\n",
    "Constraints:\n",
    "\n",
    "    grid.length == 2\n",
    "    n == grid[r].length\n",
    "    1 <= n <= 5 * 104\n",
    "    1 <= grid[r][c] <= 105\n",
    "\n",
    "---\n",
    "\n",
    "give best time and space complexity code in rust,give variables usefull name, add comments to explain the code way more clear,also add code to run example case, use below typing\n",
    "\n",
    "---\n",
    "\n",
    "```rust\n",
    "impl Solution {\n",
    "    pub fn grid_game(grid: Vec<Vec<i32>>) -> i64 {\n",
    "\n",
    "    }\n",
    "}\n",
    "```\n"
   ]
  },
  {
   "cell_type": "markdown",
   "metadata": {},
   "source": []
  },
  {
   "cell_type": "code",
   "execution_count": null,
   "metadata": {
    "vscode": {
     "languageId": "plaintext"
    }
   },
   "outputs": [],
   "source": [
    "impl Solution {\n",
    "    pub fn grid_game(grid: Vec<Vec<i32>>) -> i64 {\n",
    "        let n = grid[0].len();\n",
    "\n",
    "        let mut memo1 = vec![0;n+1];\n",
    "        let mut memo2 = vec![0;n+1];\n",
    "        for i in 0..n {\n",
    "            memo1[i+1] = memo1[i] + grid[0][i] as i64;\n",
    "            memo2[i+1] = memo2[i] + grid[1][i] as i64;\n",
    "        }\n",
    "\n",
    "        let mut result = i64::max_value();\n",
    "        for i in 0..n {\n",
    "            result = result.min(memo2[i].max(memo1[n] - memo1[i+1]));\n",
    "        }\n",
    "\n",
    "        result\n",
    "    }\n",
    "}"
   ]
  }
 ],
 "metadata": {
  "language_info": {
   "name": "python"
  }
 },
 "nbformat": 4,
 "nbformat_minor": 2
}
