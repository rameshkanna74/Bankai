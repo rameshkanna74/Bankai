{
 "cells": [
  {
   "cell_type": "markdown",
   "metadata": {},
   "source": [
    "1400. Construct K Palindrome Strings\n",
    "\n",
    "\n",
    "    Medium\n",
    "    Topics\n",
    "    Companies\n",
    "    Hint\n",
    "\n",
    "Given a string s and an integer k, return true if you can use all the characters in s to construct k palindrome strings or false otherwise.\n",
    "\n",
    "Example 1:\n",
    "\n",
    "Input: s = \"annabelle\", k = 2\n",
    "Output: true\n",
    "Explanation: You can construct two palindromes using all characters in s.\n",
    "Some possible constructions \"anna\" + \"elble\", \"anbna\" + \"elle\", \"anellena\" + \"b\"\n",
    "Example 2:\n",
    "\n",
    "Input: s = \"leetcode\", k = 3\n",
    "Output: false\n",
    "Explanation: It is impossible to construct 3 palindromes using all the characters of s.\n",
    "Example 3:\n",
    "\n",
    "Input: s = \"true\", k = 4\n",
    "Output: true\n",
    "Explanation: The only possible solution is to put each character in a separate string.\n",
    "\n",
    "Constraints:\n",
    "\n",
    "1 <= s.length <= 105\n",
    "s consists of lowercase English letters.\n",
    "1 <= k <= 105\n",
    "\n",
    "---\n",
    "\n",
    "give best time and space complexity code in rust,give variables usefull name, add comments to explain the code way more clear,also add code to run example case, use below typing\n",
    "\n",
    "---\n",
    "\n",
    "```rust\n",
    "impl Solution {\n",
    "    pub fn can_construct(s: String, k: i32) -> bool {\n",
    "        \n",
    "    }\n",
    "}\n",
    "```\n"
   ]
  },
  {
   "cell_type": "markdown",
   "metadata": {},
   "source": []
  },
  {
   "cell_type": "code",
   "execution_count": null,
   "metadata": {
    "vscode": {
     "languageId": "plaintext"
    }
   },
   "outputs": [],
   "source": [
    "impl Solution {\n",
    "    pub fn can_construct(s: String, k: i32) -> bool {\n",
    "        // we can pair letters together to extend palendromes\n",
    "        // so we only need to care about if theres an odd or even number of each letter\n",
    "        // we will use a bitmask to store this information.\n",
    "        // for each palendrome we can use up one extra odd count char,\n",
    "        // so all we need to do is check if theres <= k odd letters.\n",
    "        // \n",
    "        // the question wants *exactly* k palendromes \n",
    "        // instead of *up to* k palendromes, \n",
    "        // so we need to check theres at least k characters in s first.\n",
    "        \n",
    "        s.len() >= k as usize\n",
    "            && s.bytes()\n",
    "                .fold(0u32, |acc, b| acc ^ (1 << b-b'a'))\n",
    "                .count_ones() <= k as u32\n",
    "    }\n",
    "}"
   ]
  },
  {
   "cell_type": "code",
   "execution_count": null,
   "metadata": {
    "vscode": {
     "languageId": "plaintext"
    }
   },
   "outputs": [],
   "source": [
    "impl Solution {\n",
    "    pub fn can_construct(s: String, k: i32) -> bool {\n",
    "        s.len() >= k as usize\n",
    "            && s.bytes()\n",
    "                .fold(0u32, |acc, b| acc ^ (1 << b-b'a'))\n",
    "                .count_ones() <= k as u32\n",
    "    }\n",
    "}"
   ]
  }
 ],
 "metadata": {
  "language_info": {
   "name": "python"
  }
 },
 "nbformat": 4,
 "nbformat_minor": 2
}
