{
 "cells": [
  {
   "cell_type": "markdown",
   "metadata": {},
   "source": [
    "2948. Make Lexicographically Smallest Array by Swapping Elements\n",
    "\n",
    "    Medium\n",
    "    Topics\n",
    "    Companies\n",
    "    Hint\n",
    "\n",
    "You are given a 0-indexed array of positive integers nums and a positive integer limit.\n",
    "\n",
    "In one operation, you can choose any two indices i and j and swap nums[i] and nums[j] if |nums[i] - nums[j]| <= limit.\n",
    "\n",
    "Return the lexicographically smallest array that can be obtained by performing the operation any number of times.\n",
    "\n",
    "An array a is lexicographically smaller than an array b if in the first position where a and b differ, array a has an element that is less than the corresponding element in b. For example, the array [2,10,3] is lexicographically smaller than the array [10,2,3] because they differ at index 0 and 2 < 10.\n",
    "\n",
    "Example 1:\n",
    "\n",
    "Input: nums = [1,5,3,9,8], limit = 2\n",
    "Output: [1,3,5,8,9]\n",
    "Explanation: Apply the operation 2 times:\n",
    "\n",
    "- Swap nums[1] with nums[2]. The array becomes [1,3,5,9,8]\n",
    "- Swap nums[3] with nums[4]. The array becomes [1,3,5,8,9]\n",
    "  We cannot obtain a lexicographically smaller array by applying any more operations.\n",
    "  Note that it may be possible to get the same result by doing different operations.\n",
    "  Example 2:\n",
    "\n",
    "Input: nums = [1,7,6,18,2,1], limit = 3\n",
    "Output: [1,6,7,18,1,2]\n",
    "Explanation: Apply the operation 3 times:\n",
    "\n",
    "- Swap nums[1] with nums[2]. The array becomes [1,6,7,18,2,1]\n",
    "- Swap nums[0] with nums[4]. The array becomes [2,6,7,18,1,1]\n",
    "- Swap nums[0] with nums[5]. The array becomes [1,6,7,18,1,2]\n",
    "  We cannot obtain a lexicographically smaller array by applying any more operations.\n",
    "  Example 3:\n",
    "\n",
    "Input: nums = [1,7,28,19,10], limit = 3\n",
    "Output: [1,7,28,19,10]\n",
    "Explanation: [1,7,28,19,10] is the lexicographically smallest array we can obtain because we cannot apply the operation on any two indices.\n",
    "\n",
    "Constraints:\n",
    "\n",
    "1 <= nums.length <= 105\n",
    "1 <= nums[i] <= 109\n",
    "1 <= limit <= 109\n",
    "\n",
    "---\n",
    "\n",
    "give best time and space complexity code in rust,give variables usefull name, add comments to explain the code way more clear,also add code to run example case, use below typing\n",
    "\n",
    "---\n",
    "\n",
    "```rust\n",
    "impl Solution {\n",
    "    pub fn lexicographically_smallest_array(nums: Vec<i32>, limit: i32) -> Vec<i32> {\n",
    "        \n",
    "    }\n",
    "}\n",
    "```\n"
   ]
  },
  {
   "cell_type": "markdown",
   "metadata": {},
   "source": []
  },
  {
   "cell_type": "code",
   "execution_count": null,
   "metadata": {
    "vscode": {
     "languageId": "plaintext"
    }
   },
   "outputs": [],
   "source": [
    "impl Solution {\n",
    "    pub fn lexicographically_smallest_array(mut nums: Vec<i32>, limit: i32) -> Vec<i32> {\n",
    "        let mut v: Vec<(usize, i32)> = nums.iter().copied().enumerate().collect();\n",
    "        v.sort_unstable_by_key(|&(_, x)| x);\n",
    "        let mut inds: Vec<usize> = v.iter().map(|&(i, _)| i).collect();\n",
    "        let mut i = 0;\n",
    "        for j in 1..nums.len() {\n",
    "            if v[j].1 - v[j - 1].1 > limit {\n",
    "                (&mut inds[i..j]).sort_unstable();\n",
    "                i = j;\n",
    "            }\n",
    "        }\n",
    "        (&mut inds[i..]).sort_unstable();\n",
    "        for (&i, &(_, x)) in inds.iter().zip(v.iter()) {\n",
    "            nums[i] = x;\n",
    "        }\n",
    "        nums\n",
    "    }\n",
    "}"
   ]
  }
 ],
 "metadata": {
  "language_info": {
   "name": "python"
  }
 },
 "nbformat": 4,
 "nbformat_minor": 2
}
