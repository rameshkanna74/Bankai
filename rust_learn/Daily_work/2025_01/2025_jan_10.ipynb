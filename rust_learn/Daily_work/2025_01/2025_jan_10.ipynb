{
 "cells": [
  {
   "cell_type": "markdown",
   "metadata": {},
   "source": [
    "916. Word Subsets\n",
    "     Medium\n",
    "     Topics\n",
    "     Companies\n",
    "     You are given two string arrays words1 and words2.\n",
    "\n",
    "A string b is a subset of string a if every letter in b occurs in a including multiplicity.\n",
    "\n",
    "For example, \"wrr\" is a subset of \"warrior\" but is not a subset of \"world\".\n",
    "A string a from words1 is universal if for every string b in words2, b is a subset of a.\n",
    "\n",
    "Return an array of all the universal strings in words1. You may return the answer in any order.\n",
    "\n",
    "Example 1:\n",
    "\n",
    "Input: words1 = [\"amazon\",\"apple\",\"facebook\",\"google\",\"leetcode\"], words2 = [\"e\",\"o\"]\n",
    "Output: [\"facebook\",\"google\",\"leetcode\"]\n",
    "Example 2:\n",
    "\n",
    "Input: words1 = [\"amazon\",\"apple\",\"facebook\",\"google\",\"leetcode\"], words2 = [\"l\",\"e\"]\n",
    "Output: [\"apple\",\"google\",\"leetcode\"]\n",
    "\n",
    "Constraints:\n",
    "\n",
    "1 <= words1.length, words2.length <= 104\n",
    "1 <= words1[i].length, words2[i].length <= 10\n",
    "words1[i] and words2[i] consist only of lowercase English letters.\n",
    "All the strings of words1 are unique.\n",
    "\n",
    "---\n",
    "\n",
    "give best time and space complexity code in rust,give variables usefull name, add comments to explain the code way more clear,also add code to run example case, use below typing\n",
    "\n",
    "---\n",
    "\n",
    "```rust\n",
    "impl Solution {\n",
    "    pub fn word_subsets(words1: Vec<String>, words2: Vec<String>) -> Vec<String> {\n",
    "        \n",
    "    }\n",
    "}\n",
    "```\n"
   ]
  },
  {
   "cell_type": "markdown",
   "metadata": {},
   "source": []
  },
  {
   "cell_type": "code",
   "execution_count": null,
   "metadata": {
    "vscode": {
     "languageId": "plaintext"
    }
   },
   "outputs": [],
   "source": [
    "use std::collections::HashMap;\n",
    "\n",
    "impl Solution {\n",
    "    pub fn word_subsets(words1: Vec<String>, words2: Vec<String>) -> Vec<String> {\n",
    "        let mut maxfreq = vec![0; 26];\n",
    "        let mut ans = Vec::new();\n",
    "\n",
    "        for str in words2 {\n",
    "            let mut freq = vec![0; 26];\n",
    "            for ch in str.chars() {\n",
    "                freq[ch as usize - 'a' as usize] += 1;\n",
    "            }\n",
    "            for i in 0..26 {\n",
    "                maxfreq[i] = maxfreq[i].max(freq[i]);\n",
    "            }\n",
    "        }\n",
    "\n",
    "        for str in words1 {\n",
    "            let mut freq = vec![0; 26];\n",
    "            for ch in str.chars() {\n",
    "                freq[ch as usize - 'a' as usize] += 1;\n",
    "            }\n",
    "\n",
    "            let issubset = (0..26).all(|i| freq[i] >= maxfreq[i]);\n",
    "            if issubset {\n",
    "                ans.push(str);\n",
    "            }\n",
    "        }\n",
    "\n",
    "        ans\n",
    "    }\n",
    "}"
   ]
  }
 ],
 "metadata": {
  "language_info": {
   "name": "python"
  }
 },
 "nbformat": 4,
 "nbformat_minor": 2
}
