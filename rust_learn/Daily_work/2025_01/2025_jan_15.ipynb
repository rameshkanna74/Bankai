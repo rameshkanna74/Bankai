{
 "cells": [
  {
   "cell_type": "markdown",
   "metadata": {},
   "source": [
    "2657. Find the Prefix Common Array of Two Arrays\n",
    "      Medium\n",
    "      Topics\n",
    "      Companies\n",
    "      Hint\n",
    "\n",
    "You are given two 0-indexed integer permutations A and B of length n.\n",
    "\n",
    "A prefix common array of A and B is an array C such that C[i] is equal to the count of numbers that are present at or before the index i in both A and B.\n",
    "\n",
    "Return the prefix common array of A and B.\n",
    "\n",
    "A sequence of n integers is called a permutation if it contains all integers from 1 to n exactly once.\n",
    "\n",
    "Example 1:\n",
    "\n",
    "Input: A = [1,3,2,4], B = [3,1,2,4]\n",
    "Output: [0,2,3,4]\n",
    "Explanation: At i = 0: no number is common, so C[0] = 0.\n",
    "At i = 1: 1 and 3 are common in A and B, so C[1] = 2.\n",
    "At i = 2: 1, 2, and 3 are common in A and B, so C[2] = 3.\n",
    "At i = 3: 1, 2, 3, and 4 are common in A and B, so C[3] = 4.\n",
    "Example 2:\n",
    "\n",
    "Input: A = [2,3,1], B = [3,1,2]\n",
    "Output: [0,1,3]\n",
    "Explanation: At i = 0: no number is common, so C[0] = 0.\n",
    "At i = 1: only 3 is common in A and B, so C[1] = 1.\n",
    "At i = 2: 1, 2, and 3 are common in A and B, so C[2] = 3.\n",
    "\n",
    "Constraints:\n",
    "\n",
    "1 <= A.length == B.length == n <= 50\n",
    "1 <= A[i], B[i] <= n\n",
    "It is guaranteed that A and B are both a permutation of n integers.\n",
    "\n",
    "---\n",
    "\n",
    "give best time and space complexity code in rust,give variables usefull name, add comments to explain the code way more clear,also add code to run example case, use below typing\n",
    "\n",
    "---\n",
    "\n",
    "```rust\n",
    "impl Solution {\n",
    "    pub fn find_the_prefix_common_array(a: Vec<i32>, b: Vec<i32>) -> Vec<i32> {\n",
    "        \n",
    "    }\n",
    "}\n",
    "```\n"
   ]
  },
  {
   "cell_type": "markdown",
   "metadata": {},
   "source": []
  },
  {
   "cell_type": "code",
   "execution_count": null,
   "metadata": {
    "vscode": {
     "languageId": "plaintext"
    }
   },
   "outputs": [],
   "source": [
    "impl Solution {\n",
    "    pub fn minimize_xor(num1: i32, num2: i32) -> i32 {\n",
    "         let ones1 = num1.count_ones();\n",
    "         let ones2 = num2.count_ones();\n",
    "         println!(\"{} {}\", ones1, ones2);\n",
    "\n",
    "         if ones1 >= ones2 {\n",
    "            (0..32)\n",
    "              .rev()\n",
    "              .map(|i| (i, (num1 >> i) & 1))\n",
    "              .filter(|&(_, bit)| bit == 1)\n",
    "              .take(ones2 as usize)\n",
    "              .fold(0_i32, |res, (i, bit)| res | (1 << i))\n",
    "         } else {\n",
    "            (0..32)\n",
    "              .map(|i| (i, (num1 >> i) & 1))\n",
    "              .fold((ones2 - ones1, 0_i32), |(extra_bits, res), (i, bit)| {\n",
    "                if bit == 1 {\n",
    "                    (extra_bits, res | (1 << i))\n",
    "                } else if extra_bits > 0 {\n",
    "                    (extra_bits - 1, res | (1 << i))\n",
    "                } else {\n",
    "                    (extra_bits, res)\n",
    "                }\n",
    "              })\n",
    "              .1\n",
    "         }\n",
    "    }\n",
    "}"
   ]
  },
  {
   "cell_type": "code",
   "execution_count": null,
   "metadata": {
    "vscode": {
     "languageId": "plaintext"
    }
   },
   "outputs": [],
   "source": [
    "use core::arch::x86_64::_pdep_u32;\n",
    "use core::cmp::max;\n",
    "\n",
    "impl Solution {\n",
    "    pub fn minimize_xor(num1: i32, num2: i32) -> i32 {\n",
    "        let p1 = num1.count_ones() as i32;\n",
    "        let p2 = num2.count_ones() as i32;\n",
    "        return unsafe { _pdep_u32(u32::MAX << max(p1 - p2, 0), num1 as u32) + _pdep_u32((1 << max(p2 - p1, 0)) - 1, !num1 as u32) } as i32;\n",
    "    }\n",
    "}"
   ]
  }
 ],
 "metadata": {
  "language_info": {
   "name": "python"
  }
 },
 "nbformat": 4,
 "nbformat_minor": 2
}
