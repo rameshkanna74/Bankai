{
 "cells": [
  {
   "cell_type": "markdown",
   "metadata": {},
   "source": [
    "2429. Minimize XOR\n",
    "\n",
    "    Medium\n",
    "    Topics\n",
    "    Companies\n",
    "    Hint\n",
    "\n",
    "Given two positive integers num1 and num2, find the positive integer x such that:\n",
    "\n",
    "x has the same number of set bits as num2, and\n",
    "The value x XOR num1 is minimal.\n",
    "Note that XOR is the bitwise XOR operation.\n",
    "\n",
    "Return the integer x. The test cases are generated such that x is uniquely determined.\n",
    "\n",
    "The number of set bits of an integer is the number of 1's in its binary representation.\n",
    "\n",
    "Example 1:\n",
    "\n",
    "Input: num1 = 3, num2 = 5\n",
    "Output: 3\n",
    "Explanation:\n",
    "The binary representations of num1 and num2 are 0011 and 0101, respectively.\n",
    "The integer 3 has the same number of set bits as num2, and the value 3 XOR 3 = 0 is minimal.\n",
    "Example 2:\n",
    "\n",
    "Input: num1 = 1, num2 = 12\n",
    "Output: 3\n",
    "Explanation:\n",
    "The binary representations of num1 and num2 are 0001 and 1100, respectively.\n",
    "The integer 3 has the same number of set bits as num2, and the value 3 XOR 1 = 2 is minimal.\n",
    "\n",
    "Constraints:\n",
    "\n",
    "1 <= num1, num2 <= 109\n",
    "\n",
    "---\n",
    "\n",
    "give best time and space complexity code in rust,give variables usefull name, add comments to explain the code way more clear,also add code to run example case, use below typing\n",
    "\n",
    "---\n",
    "\n",
    "```rust\n",
    "impl Solution {\n",
    "    pub fn minimize_xor(num1: i32, num2: i32) -> i32 {\n",
    "        \n",
    "    }\n",
    "}\n",
    "```\n"
   ]
  },
  {
   "cell_type": "markdown",
   "metadata": {},
   "source": []
  },
  {
   "cell_type": "code",
   "execution_count": null,
   "metadata": {
    "vscode": {
     "languageId": "plaintext"
    }
   },
   "outputs": [],
   "source": [
    "impl Solution {\n",
    "    pub fn minimize_xor(num1: i32, num2: i32) -> i32 {\n",
    "         let ones1 = num1.count_ones();\n",
    "         let ones2 = num2.count_ones();\n",
    "         println!(\"{} {}\", ones1, ones2);\n",
    "\n",
    "         if ones1 >= ones2 {\n",
    "            (0..32)\n",
    "              .rev()\n",
    "              .map(|i| (i, (num1 >> i) & 1))\n",
    "              .filter(|&(_, bit)| bit == 1)\n",
    "              .take(ones2 as usize)\n",
    "              .fold(0_i32, |res, (i, bit)| res | (1 << i))\n",
    "         } else {\n",
    "            (0..32)\n",
    "              .map(|i| (i, (num1 >> i) & 1))\n",
    "              .fold((ones2 - ones1, 0_i32), |(extra_bits, res), (i, bit)| {\n",
    "                if bit == 1 {\n",
    "                    (extra_bits, res | (1 << i))\n",
    "                } else if extra_bits > 0 {\n",
    "                    (extra_bits - 1, res | (1 << i))\n",
    "                } else {\n",
    "                    (extra_bits, res)\n",
    "                }\n",
    "              })\n",
    "              .1\n",
    "         }\n",
    "    }\n",
    "}"
   ]
  },
  {
   "cell_type": "code",
   "execution_count": null,
   "metadata": {
    "vscode": {
     "languageId": "plaintext"
    }
   },
   "outputs": [],
   "source": [
    "use core::arch::x86_64::_pdep_u32;\n",
    "use core::cmp::max;\n",
    "\n",
    "impl Solution {\n",
    "    pub fn minimize_xor(num1: i32, num2: i32) -> i32 {\n",
    "        let p1 = num1.count_ones() as i32;\n",
    "        let p2 = num2.count_ones() as i32;\n",
    "        return unsafe { _pdep_u32(u32::MAX << max(p1 - p2, 0), num1 as u32) + _pdep_u32((1 << max(p2 - p1, 0)) - 1, !num1 as u32) } as i32;\n",
    "    }\n",
    "}"
   ]
  }
 ],
 "metadata": {
  "language_info": {
   "name": "python"
  }
 },
 "nbformat": 4,
 "nbformat_minor": 2
}
