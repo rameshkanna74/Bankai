{
 "cells": [
  {
   "cell_type": "markdown",
   "metadata": {},
   "source": [
    "2661. First Completely Painted Row or Column\n",
    "\n",
    "    Medium\n",
    "    Topics\n",
    "    Companies\n",
    "    Hint\n",
    "\n",
    "You are given a 0-indexed integer array arr, and an m x n integer matrix mat. arr and mat both contain all the integers in the range [1, m * n].\n",
    "\n",
    "Go through each index i in arr starting from index 0 and paint the cell in mat containing the integer arr[i].\n",
    "\n",
    "Return the smallest index i at which either a row or a column will be completely painted in mat.\n",
    "\n",
    "Example 1:\n",
    "image explanation for example 1\n",
    "\n",
    "Input: arr = [1,3,4,2], mat = [[1,4],[2,3]]\n",
    "Output: 2\n",
    "Explanation: The moves are shown in order, and both the first row and second column of the matrix become fully painted at arr[2].\n",
    "\n",
    "Example 2:\n",
    "image explanation for example 2\n",
    "\n",
    "Input: arr = [2,8,7,4,1,3,5,6,9], mat = [[3,2,5],[1,4,6],[8,7,9]]\n",
    "Output: 3\n",
    "Explanation: The second column becomes fully painted at arr[3].\n",
    "\n",
    "Constraints:\n",
    "\n",
    "    m == mat.length\n",
    "    n = mat[i].length\n",
    "    arr.length == m * n\n",
    "    1 <= m, n <= 105\n",
    "    1 <= m * n <= 105\n",
    "    1 <= arr[i], mat[r][c] <= m * n\n",
    "    All the integers of arr are unique.\n",
    "    All the integers of mat are unique.\n",
    "\n",
    "---\n",
    "\n",
    "give best time and space complexity code in rust,give variables usefull name, add comments to explain the code way more clear,also add code to run example case, use below typing\n",
    "\n",
    "---\n",
    "\n",
    "```rust\n",
    "impl Solution {\n",
    "    pub fn first_complete_index(arr: Vec<i32>, mat: Vec<Vec<i32>>) -> i32 {\n",
    "\n",
    "    }\n",
    "}\n",
    "```\n"
   ]
  },
  {
   "cell_type": "markdown",
   "metadata": {},
   "source": []
  },
  {
   "cell_type": "code",
   "execution_count": null,
   "metadata": {
    "vscode": {
     "languageId": "plaintext"
    }
   },
   "outputs": [],
   "source": [
    "use std::collections::HashMap;\n",
    "impl Solution {\n",
    "    pub fn first_complete_index(arr: Vec<i32>, mat: Vec<Vec<i32>>) -> i32 {\n",
    "        let m: usize = mat.len();\n",
    "        let n: usize = mat[0].len();\n",
    "        let mut p: HashMap<i32, (usize, usize)> = HashMap::with_capacity(m*n);\n",
    "        for i in 0..m {\n",
    "            for j in 0..n {\n",
    "                *p.entry(mat[i][j]).or_insert((m, n)) = (i, j);\n",
    "            }\n",
    "        }\n",
    "        let mut rows: Vec<usize> = vec![0; m];\n",
    "        let mut cols: Vec<usize> = vec![0; n];\n",
    "\n",
    "        for k in 0..arr.len() {\n",
    "            if let Some(&(i, j)) = p.get(&arr[k]) {\n",
    "                rows[i] += 1;\n",
    "                cols[j] += 1;\n",
    "                if rows[i] == n || cols[j] == m {\n",
    "                    return k as i32;\n",
    "                }\n",
    "            }\n",
    "        }\n",
    "        unreachable!();\n",
    "    }\n",
    "}"
   ]
  }
 ],
 "metadata": {
  "language_info": {
   "name": "python"
  }
 },
 "nbformat": 4,
 "nbformat_minor": 2
}
