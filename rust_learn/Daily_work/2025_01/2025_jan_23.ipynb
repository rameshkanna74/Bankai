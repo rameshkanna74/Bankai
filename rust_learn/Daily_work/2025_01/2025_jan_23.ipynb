{
 "cells": [
  {
   "cell_type": "markdown",
   "metadata": {},
   "source": [
    "1267. Count Servers that Communicate\n",
    "\n",
    "    Medium\n",
    "    Topics\n",
    "    Companies\n",
    "    Hint\n",
    "\n",
    "You are given a map of a server center, represented as a m \\* n integer matrix grid, where 1 means that on that cell there is a server and 0 means that it is no server. Two servers are said to communicate if they are on the same row or on the same column.\n",
    "\n",
    "Return the number of servers that communicate with any other server.\n",
    "\n",
    "Example 1:\n",
    "\n",
    "Input: grid = [[1,0],[0,1]]\n",
    "Output: 0\n",
    "Explanation: No servers can communicate with others.\n",
    "Example 2:\n",
    "\n",
    "Input: grid = [[1,0],[1,1]]\n",
    "Output: 3\n",
    "Explanation: All three servers can communicate with at least one other server.\n",
    "Example 3:\n",
    "\n",
    "Input: grid = [[1,1,0,0],[0,0,1,0],[0,0,1,0],[0,0,0,1]]\n",
    "Output: 4\n",
    "Explanation: The two servers in the first row can communicate with each other. The two servers in the third column can communicate with each other. The server at right bottom corner can't communicate with any other server.\n",
    "\n",
    "Constraints:\n",
    "\n",
    "m == grid.length\n",
    "n == grid[i].length\n",
    "1 <= m <= 250\n",
    "1 <= n <= 250\n",
    "grid[i][j] == 0 or 1\n",
    "\n",
    "---\n",
    "\n",
    "give best time and space complexity code in rust,give variables usefull name, add comments to explain the code way more clear,also add code to run example case, use below typing\n",
    "\n",
    "---\n",
    "\n",
    "```rust\n",
    "impl Solution {\n",
    "    pub fn count_servers(grid: Vec<Vec<i32>>) -> i32 {\n",
    "        \n",
    "    }\n",
    "}\n",
    "```\n"
   ]
  },
  {
   "cell_type": "markdown",
   "metadata": {},
   "source": []
  },
  {
   "cell_type": "code",
   "execution_count": null,
   "metadata": {
    "vscode": {
     "languageId": "plaintext"
    }
   },
   "outputs": [],
   "source": [
    "impl Solution {\n",
    "    pub fn count_servers(grid: Vec<Vec<i32>>) -> i32 {\n",
    "        let (num_rows, num_cols) = (grid.len(), grid[0].len());\n",
    "\n",
    "        let col_counts = (0..num_cols)\n",
    "          .map(|i| (0..num_rows)\n",
    "            .map(|j| grid[j][i])\n",
    "            .sum::<i32>()\n",
    "          )\n",
    "          .collect::<Vec<_>>();\n",
    "        \n",
    "        let row_counts = (0..num_rows)\n",
    "          .map(|i| (0..num_cols)\n",
    "            .map(|j| grid[i][j])\n",
    "            .sum::<i32>()\n",
    "          )\n",
    "          .collect::<Vec<_>>();\n",
    "\n",
    "        (0..num_rows)\n",
    "          .flat_map(|i| (0..num_cols).map(move |j| (i, j)))\n",
    "          .filter(|&(i, j)| row_counts[i] > 1 || col_counts[j] > 1)\n",
    "          .map(|(i, j)| grid[i][j])\n",
    "          .sum()\n",
    "    }\n",
    "}"
   ]
  }
 ],
 "metadata": {
  "language_info": {
   "name": "python"
  }
 },
 "nbformat": 4,
 "nbformat_minor": 2
}
