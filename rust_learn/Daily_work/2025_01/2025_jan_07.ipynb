{
 "cells": [
  {
   "cell_type": "markdown",
   "metadata": {},
   "source": [
    "1408. String Matching in an Array\n",
    "      Easy\n",
    "      Topics\n",
    "      Companies\n",
    "      Hint\n",
    "\n",
    "Given an array of string words, return all strings in words that is a substring of another word. You can return the answer in any order.\n",
    "\n",
    "A substring is a contiguous sequence of characters within a string\n",
    "\n",
    "Example 1:\n",
    "\n",
    "Input: words = [\"mass\",\"as\",\"hero\",\"superhero\"]\n",
    "Output: [\"as\",\"hero\"]\n",
    "Explanation: \"as\" is substring of \"mass\" and \"hero\" is substring of \"superhero\".\n",
    "[\"hero\",\"as\"] is also a valid answer.\n",
    "Example 2:\n",
    "\n",
    "Input: words = [\"leetcode\",\"et\",\"code\"]\n",
    "Output: [\"et\",\"code\"]\n",
    "Explanation: \"et\", \"code\" are substring of \"leetcode\".\n",
    "Example 3:\n",
    "\n",
    "Input: words = [\"blue\",\"green\",\"bu\"]\n",
    "Output: []\n",
    "Explanation: No string of words is substring of another string.\n",
    "\n",
    "Constraints:\n",
    "\n",
    "1 <= words.length <= 100\n",
    "1 <= words[i].length <= 30\n",
    "words[i] contains only lowercase English letters.\n",
    "All the strings of words are unique.\n",
    "\n",
    "---\n",
    "\n",
    "give best time and space complexity code in rust,give variables usefull name, add comments to explain the code way more clear,also add code to run example case, use below typing\n",
    "\n",
    "---\n",
    "\n",
    "```rust\n",
    "impl Solution {\n",
    "    pub fn string_matching(words: Vec<String>) -> Vec<String> {\n",
    "        \n",
    "    }\n",
    "}\n",
    "```\n"
   ]
  },
  {
   "cell_type": "markdown",
   "metadata": {},
   "source": []
  },
  {
   "cell_type": "code",
   "execution_count": null,
   "metadata": {},
   "outputs": [],
   "source": [
    "impl Solution \n",
    "{\n",
    "    pub fn string_matching(mut words: Vec<String>) -> Vec<String> \n",
    "    {\n",
    "        // [1] instead of iterating over a vector inside the inner loop,\n",
    "        //     we can iterate over a string consisting of words separated\n",
    "        //     by a unique character, i.e., a whitespace\n",
    "        let joined = words.join(\" \");\n",
    "        \n",
    "        // [2] this allows us to use a simpler functional-style expression\n",
    "        //     to find matches (we need to find two of them, one is always there)\n",
    "        words.into_iter()\n",
    "             .filter(|word| joined.matches(word).nth(1).is_some())\n",
    "             .collect()\n",
    "    }\n",
    "}"
   ]
  },
  {
   "cell_type": "code",
   "execution_count": null,
   "metadata": {},
   "outputs": [],
   "source": [
    "impl Solution \n",
    "{\n",
    "    pub fn string_matching(mut words: Vec<String>) -> Vec<String> \n",
    "    {\n",
    "        let joined = words.join(\" \");        \n",
    "        words.into_iter()\n",
    "             .filter(|word| joined.matches(word).nth(1).is_some())\n",
    "             .collect()\n",
    "    }\n",
    "}"
   ]
  }
 ],
 "metadata": {
  "kernelspec": {
   "display_name": "Rust",
   "language": "rust",
   "name": "rust"
  },
  "language_info": {
   "name": "rust"
  }
 },
 "nbformat": 4,
 "nbformat_minor": 2
}
