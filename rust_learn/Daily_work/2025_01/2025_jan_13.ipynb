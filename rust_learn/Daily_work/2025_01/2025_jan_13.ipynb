{
 "cells": [
  {
   "cell_type": "markdown",
   "metadata": {},
   "source": [
    "3223. Minimum Length of String After Operations\n",
    "\n",
    "      Medium\n",
    "      Topics\n",
    "      Companies\n",
    "      Hint\n",
    "\n",
    "You are given a string s.\n",
    "\n",
    "You can perform the following process on s any number of times:\n",
    "\n",
    "Choose an index i in the string such that there is at least one character to the left of index i that is equal to s[i], and at least one character to the right that is also equal to s[i].\n",
    "Delete the closest character to the left of index i that is equal to s[i].\n",
    "Delete the closest character to the right of index i that is equal to s[i].\n",
    "Return the minimum length of the final string s that you can achieve.\n",
    "\n",
    "Example 1:\n",
    "\n",
    "Input: s = \"abaacbcbb\"\n",
    "\n",
    "Output: 5\n",
    "\n",
    "Explanation:\n",
    "We do the following operations:\n",
    "\n",
    "Choose index 2, then remove the characters at indices 0 and 3. The resulting string is s = \"bacbcbb\".\n",
    "Choose index 3, then remove the characters at indices 0 and 5. The resulting string is s = \"acbcb\".\n",
    "Example 2:\n",
    "\n",
    "Input: s = \"aa\"\n",
    "\n",
    "Output: 2\n",
    "\n",
    "Explanation:\n",
    "We cannot perform any operations, so we return the length of the original string.\n",
    "\n",
    "Constraints:\n",
    "\n",
    "1 <= s.length <= 2 \\* 105\n",
    "s consists only of lowercase English letters.\n",
    "\n",
    "---\n",
    "\n",
    "give best time and space complexity code in rust,give variables usefull name, add comments to explain the code way more clear,also add code to run example case, use below typing\n",
    "\n",
    "---\n",
    "\n",
    "```rust\n",
    "impl Solution {\n",
    "    pub fn minimum_length(s: String) -> i32 {\n",
    "        \n",
    "    }\n",
    "}\n",
    "```\n"
   ]
  },
  {
   "cell_type": "markdown",
   "metadata": {},
   "source": []
  },
  {
   "cell_type": "code",
   "execution_count": null,
   "metadata": {
    "vscode": {
     "languageId": "plaintext"
    }
   },
   "outputs": [],
   "source": [
    "impl Solution {\n",
    "    pub fn minimum_length(s: String) -> i32 {\n",
    "        let n = s.len() as i32;\n",
    "        let mut removable_len = 0;\n",
    "        let mut freq = vec![0; 26];\n",
    "        \n",
    "        for c in s.chars() {\n",
    "            freq[(c as u8 - b'a') as usize] += 1;\n",
    "        }\n",
    "        \n",
    "        for frequency in freq {\n",
    "            if frequency % 2 != 0 {\n",
    "                removable_len += frequency - 1;\n",
    "            } else if frequency != 0 {\n",
    "                removable_len += frequency - 2;\n",
    "            }\n",
    "        }\n",
    "        \n",
    "        n - removable_len\n",
    "    }\n",
    "}"
   ]
  }
 ],
 "metadata": {
  "language_info": {
   "name": "python"
  }
 },
 "nbformat": 4,
 "nbformat_minor": 2
}
