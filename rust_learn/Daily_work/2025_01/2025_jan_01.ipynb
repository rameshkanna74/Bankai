{
 "cells": [
  {
   "cell_type": "markdown",
   "metadata": {},
   "source": [
    "1422. Maximum Score After Splitting a String\n",
    "\n",
    "      Easy\n",
    "      Topics\n",
    "      Companies\n",
    "      Hint\n",
    "\n",
    "Given a string s of zeros and ones, return the maximum score after splitting the string into two non-empty substrings (i.e. left substring and right substring).\n",
    "\n",
    "The score after splitting a string is the number of zeros in the left substring plus the number of ones in the right substring.\n",
    "\n",
    "Example 1:\n",
    "\n",
    "Input: s = \"011101\"\n",
    "Output: 5\n",
    "Explanation:\n",
    "All possible ways of splitting s into two non-empty substrings are:\n",
    "left = \"0\" and right = \"11101\", score = 1 + 4 = 5\n",
    "left = \"01\" and right = \"1101\", score = 1 + 3 = 4\n",
    "left = \"011\" and right = \"101\", score = 1 + 2 = 3\n",
    "left = \"0111\" and right = \"01\", score = 1 + 1 = 2\n",
    "left = \"01110\" and right = \"1\", score = 2 + 1 = 3\n",
    "Example 2:\n",
    "\n",
    "Input: s = \"00111\"\n",
    "Output: 5\n",
    "Explanation: When left = \"00\" and right = \"111\", we get the maximum score = 2 + 3 = 5\n",
    "Example 3:\n",
    "\n",
    "Input: s = \"1111\"\n",
    "Output: 3\n",
    "\n",
    "Constraints:\n",
    "\n",
    "2 <= s.length <= 500\n",
    "The string s consists of characters '0' and '1' only.\n",
    "\n",
    "---\n",
    "\n",
    "give best time and space complexity code in rust,give variables usefull name, add comments to explain the code way more clear,also add code to run example case, use below typing\n",
    "\n",
    "---\n",
    "\n",
    "```rust\n",
    "impl Solution {\n",
    "    pub fn max_score(s: String) -> i32 {\n",
    "        \n",
    "    }\n",
    "}\n",
    "```\n"
   ]
  },
  {
   "cell_type": "markdown",
   "metadata": {},
   "source": []
  },
  {
   "cell_type": "code",
   "execution_count": null,
   "metadata": {
    "vscode": {
     "languageId": "plaintext"
    }
   },
   "outputs": [],
   "source": [
    "impl Solution {\n",
    "    pub fn max_score(s: String) -> i32 {\n",
    "        let mut result = 0;\n",
    "        for j in 1..s.len() {\n",
    "            let left: String = s[0..j].to_string();\n",
    "            let right: String = s[j..].to_string();\n",
    "            result = result.max(\n",
    "                (left.chars().filter(|&c| c == '0').count() + right.chars().filter(|&c| c == '1').count()) as i32\n",
    "            );\n",
    "        }\n",
    "        result\n",
    "    }\n",
    "}"
   ]
  },
  {
   "cell_type": "code",
   "execution_count": null,
   "metadata": {
    "vscode": {
     "languageId": "plaintext"
    }
   },
   "outputs": [],
   "source": [
    "impl Solution {\n",
    "    pub fn max_score(s: String) -> i32 {\n",
    "        let mut left_zeroes = vec![0; s.len()];\n",
    "        let mut right_ones = vec![0; s.len()];\n",
    "        let input_chars = s.chars().collect::<Vec<char>>();\n",
    "        for i in 0..input_chars.len() {\n",
    "            if i > 0 {\n",
    "                left_zeroes[i] = left_zeroes[i-1];\n",
    "            }\n",
    "            if input_chars[i] == '0' {\n",
    "                left_zeroes[i] += 1;\n",
    "            }\n",
    "        }\n",
    "        for i in (0..input_chars.len()).rev() {\n",
    "            if i < input_chars.len()-1 {\n",
    "                right_ones[i] = right_ones[i+1];\n",
    "            }\n",
    "            if input_chars[i] == '1' {\n",
    "                right_ones[i] += 1;\n",
    "            }\n",
    "        }\n",
    "        let mut max = 0;\n",
    "        for i in 0..input_chars.len()-1 {\n",
    "            max = std::cmp::max(max, left_zeroes[i] + right_ones[i+1]);\n",
    "        }\n",
    "        max\n",
    "    }\n",
    "}"
   ]
  }
 ],
 "metadata": {
  "language_info": {
   "name": "python"
  }
 },
 "nbformat": 4,
 "nbformat_minor": 2
}
