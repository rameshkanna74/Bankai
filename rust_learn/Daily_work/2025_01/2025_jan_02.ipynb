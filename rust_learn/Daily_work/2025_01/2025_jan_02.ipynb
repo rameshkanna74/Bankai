{
 "cells": [
  {
   "cell_type": "markdown",
   "metadata": {},
   "source": [
    "2559. Count Vowel Strings in Ranges\n",
    "\n",
    "      Medium\n",
    "      Topics\n",
    "      Companies\n",
    "      Hint\n",
    "\n",
    "You are given a 0-indexed array of strings words and a 2D array of integers queries.\n",
    "\n",
    "Each query queries[i] = [li, ri] asks us to find the number of strings present in the range li to ri (both inclusive) of words that start and end with a vowel.\n",
    "\n",
    "Return an array ans of size queries.length, where ans[i] is the answer to the ith query.\n",
    "\n",
    "Note that the vowel letters are 'a', 'e', 'i', 'o', and 'u'.\n",
    "\n",
    "Example 1:\n",
    "\n",
    "Input: words = [\"aba\",\"bcb\",\"ece\",\"aa\",\"e\"], queries = [[0,2],[1,4],[1,1]]\n",
    "Output: [2,3,0]\n",
    "Explanation: The strings starting and ending with a vowel are \"aba\", \"ece\", \"aa\" and \"e\".\n",
    "The answer to the query [0,2] is 2 (strings \"aba\" and \"ece\").\n",
    "to query [1,4] is 3 (strings \"ece\", \"aa\", \"e\").\n",
    "to query [1,1] is 0.\n",
    "We return [2,3,0].\n",
    "Example 2:\n",
    "\n",
    "Input: words = [\"a\",\"e\",\"i\"], queries = [[0,2],[0,1],[2,2]]\n",
    "Output: [3,2,1]\n",
    "Explanation: Every string satisfies the conditions, so we return [3,2,1].\n",
    "\n",
    "Constraints:\n",
    "\n",
    "1 <= words.length <= 105\n",
    "1 <= words[i].length <= 40\n",
    "words[i] consists only of lowercase English letters.\n",
    "sum(words[i].length) <= 3 \\* 105\n",
    "1 <= queries.length <= 105\n",
    "0 <= li <= ri < words.length\n",
    "\n",
    "---\n",
    "\n",
    "give best time and space complexity code in rust,give variables usefull name, add comments to explain the code way more clear,also add code to run example case, use below typing\n",
    "\n",
    "---\n",
    "\n",
    "```rust\n",
    "impl Solution {\n",
    "    pub fn vowel_strings(words: Vec<String>, queries: Vec<Vec<i32>>) -> Vec<i32> {\n",
    "        \n",
    "    }\n",
    "}\n",
    "```\n"
   ]
  },
  {
   "cell_type": "markdown",
   "metadata": {},
   "source": []
  },
  {
   "cell_type": "code",
   "execution_count": null,
   "metadata": {
    "vscode": {
     "languageId": "plaintext"
    }
   },
   "outputs": [],
   "source": [
    "impl Solution {\n",
    "    pub fn vowel_strings(words: Vec<String>, queries: Vec<Vec<i32>>) -> Vec<i32> {\n",
    "        let vowels = ['a', 'e', 'i', 'o', 'u'].iter().copied().collect::<std::collections::HashSet<_>>();\n",
    "\n",
    "        // Step 1: Build the prefix sum array\n",
    "        let mut prefix_sum = vec![0; words.len() + 1];\n",
    "        for (i, word) in words.iter().enumerate() {\n",
    "            let is_vowel_string = word.chars().next().map_or(false, |c| vowels.contains(&c)) &&\n",
    "                                  word.chars().last().map_or(false, |c| vowels.contains(&c));\n",
    "            prefix_sum[i + 1] = prefix_sum[i] + if is_vowel_string { 1 } else { 0 };\n",
    "        }\n",
    "\n",
    "        // Step 2: Answer each query\n",
    "        queries.into_iter().map(|query| {\n",
    "            let left = query[0] as usize;\n",
    "            let right = query[1] as usize;\n",
    "            prefix_sum[right + 1] - prefix_sum[left]\n",
    "        }).collect()\n",
    "    }\n",
    "}"
   ]
  },
  {
   "cell_type": "code",
   "execution_count": null,
   "metadata": {
    "vscode": {
     "languageId": "plaintext"
    }
   },
   "outputs": [],
   "source": [
    "impl Solution {\n",
    "    pub fn vowel_strings(words: Vec<String>, queries: Vec<Vec<i32>>) -> Vec<i32> {\n",
    "        let is_vowel = |c: u8| {\n",
    "            c == 'a' as u8 ||\n",
    "            c == 'e' as u8 ||\n",
    "            c == 'i' as u8 ||\n",
    "            c == 'o' as u8 ||\n",
    "            c == 'u' as u8\n",
    "        };\n",
    "\n",
    "        let prefix_sum = words\n",
    "          .into_iter()\n",
    "          .map(|w| {\n",
    "            let bytes = w.as_bytes();\n",
    "            if is_vowel(bytes[0]) && is_vowel(bytes[bytes.len() - 1]) {\n",
    "                1\n",
    "            } else {\n",
    "                0\n",
    "            }\n",
    "          })\n",
    "          .scan(0, |sum, n| {\n",
    "            *sum += n;\n",
    "            Some(*sum)\n",
    "          })\n",
    "          .collect::<Vec<_>>();\n",
    "        \n",
    "        // [\"aba\",\"bcb\",\"ece\",\"aa\",\"e\"]\n",
    "        // [1, 1, 2, 3, 4]\n",
    "        queries\n",
    "          .into_iter()\n",
    "          .map(|q| {\n",
    "            let (i, j) = (q[0] as usize, q[1] as usize);\n",
    "            if i == 0 {\n",
    "                prefix_sum[j]\n",
    "            } else {\n",
    "                prefix_sum[j] - prefix_sum[i - 1]\n",
    "            }\n",
    "          })\n",
    "          .collect()\n",
    "    }\n",
    "}"
   ]
  }
 ],
 "metadata": {
  "language_info": {
   "name": "python"
  }
 },
 "nbformat": 4,
 "nbformat_minor": 2
}
