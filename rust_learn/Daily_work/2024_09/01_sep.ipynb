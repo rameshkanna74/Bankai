{
 "cells": [
  {
   "cell_type": "markdown",
   "metadata": {},
   "source": [
    "2022. Convert 1D Array Into 2D Array\n",
    "\n",
    "You are given a 0-indexed 1-dimensional (1D) integer array original, and two integers, m and n. You are tasked with creating a 2-dimensional (2D) array with m rows and n columns using all the elements from original.\n",
    "\n",
    "The elements from indices 0 to n - 1 (inclusive) of original should form the first row of the constructed 2D array, the elements from indices n to 2 \\* n - 1 (inclusive) should form the second row of the constructed 2D array, and so on.\n",
    "\n",
    "Return an m x n 2D array constructed according to the above procedure, or an empty 2D array if it is impossible.\n",
    "\n",
    "Example 1:\n",
    "\n",
    "Input: original = [1,2,3,4], m = 2, n = 2\n",
    "Output: [[1,2],[3,4]]\n",
    "Explanation: The constructed 2D array should contain 2 rows and 2 columns.\n",
    "The first group of n=2 elements in original, [1,2], becomes the first row in the constructed 2D array.\n",
    "The second group of n=2 elements in original, [3,4], becomes the second row in the constructed 2D array.\n",
    "\n",
    "Example 2:\n",
    "\n",
    "Input: original = [1,2,3], m = 1, n = 3\n",
    "Output: [[1,2,3]]\n",
    "Explanation: The constructed 2D array should contain 1 row and 3 columns.\n",
    "Put all three elements in original into the first row of the constructed 2D array.\n",
    "\n",
    "Example 3:\n",
    "\n",
    "Input: original = [1,2], m = 1, n = 1\n",
    "Output: []\n",
    "Explanation: There are 2 elements in original.\n",
    "It is impossible to fit 2 elements in a 1x1 2D array, so return an empty 2D array.\n",
    "\n",
    "Constraints:\n",
    "\n",
    "    1 <= original.length <= 5 * 104\n",
    "    1 <= original[i] <= 105\n",
    "    1 <= m, n <= 4 * 104\n",
    "\n",
    "-------------------------------------\n",
    "\n",
    "give best time and space complexity code in rust,give variables usefull name, add comments to explain the code way more clear,also add code to run example case, use below typing\n",
    "\n",
    "==============\n",
    "\n",
    "class Solution:\n",
    "    def construct2DArray(self, original: List[int], m: int, n: int) -> List[List[int]]:\n",
    "        "
   ]
  },
  {
   "cell_type": "markdown",
   "metadata": {},
   "source": [
    "Here's an optimized Rust solution for converting a 1D array into a 2D array, with clear comments, useful variable names, and example case execution. This code ensures the best time and space complexity.\n",
    "\n",
    "```rust\n",
    "impl Solution {\n",
    "    pub fn construct2d_array(original: Vec<i32>, m: i32, n: i32) -> Vec<Vec<i32>> {\n",
    "        // Check if the total number of elements matches the desired dimensions\n",
    "        if original.len() != (m * n) as usize {\n",
    "            return vec![]; // Return an empty 2D array if dimensions don't match\n",
    "        }\n",
    "\n",
    "        // Initialize the 2D array with the given dimensions\n",
    "        let mut result = vec![vec![0; n as usize]; m as usize];\n",
    "\n",
    "        // Fill the 2D array row by row\n",
    "        for i in 0..m as usize {\n",
    "            for j in 0..n as usize {\n",
    "                result[i][j] = original[i * n as usize + j];\n",
    "            }\n",
    "        }\n",
    "\n",
    "        result\n",
    "    }\n",
    "}\n",
    "\n",
    "// Example usage\n",
    "fn main() {\n",
    "    // Example case 1\n",
    "    let original1 = vec![1, 2, 3, 4];\n",
    "    let m1 = 2;\n",
    "    let n1 = 2;\n",
    "    let result1 = Solution::construct2d_array(original1, m1, n1);\n",
    "    println!(\"Result for example 1: {:?}\", result1); // Expected output: [[1, 2], [3, 4]]\n",
    "\n",
    "    // Example case 2\n",
    "    let original2 = vec![1, 2, 3];\n",
    "    let m2 = 1;\n",
    "    let n2 = 3;\n",
    "    let result2 = Solution::construct2d_array(original2, m2, n2);\n",
    "    println!(\"Result for example 2: {:?}\", result2); // Expected output: [[1, 2, 3]]\n",
    "\n",
    "    // Example case 3\n",
    "    let original3 = vec![1, 2];\n",
    "    let m3 = 1;\n",
    "    let n3 = 1;\n",
    "    let result3 = Solution::construct2d_array(original3, m3, n3);\n",
    "    println!(\"Result for example 3: {:?}\", result3); // Expected output: []\n",
    "}\n",
    "```\n",
    "\n",
    "### Explanation and Optimization\n",
    "\n",
    "1. **Dimension Check**:\n",
    "   - The first step is to ensure that the length of the `original` array matches the total number of elements required for the 2D array. If not, the function returns an empty 2D array.\n",
    "\n",
    "2. **2D Array Initialization**:\n",
    "   - We initialize a 2D vector (`result`) with dimensions `m x n`, filled initially with zeros.\n",
    "\n",
    "3. **Filling the 2D Array**:\n",
    "   - We fill the 2D array row by row. The element at position `(i, j)` in the 2D array corresponds to the element at index `i * n + j` in the original 1D array.\n",
    "\n",
    "4. **Efficiency**:\n",
    "   - **Time Complexity**: \\(O(m \\times n)\\) where `m` is the number of rows and `n` is the number of columns. This is the time required to fill the 2D array.\n",
    "   - **Space Complexity**: \\(O(m \\times n)\\) for the 2D array that we construct.\n",
    "\n",
    "### Example Case Execution\n",
    "- The `main` function includes three examples with the expected outputs to demonstrate how the `construct2d_array` function works in various scenarios."
   ]
  },
  {
   "cell_type": "code",
   "execution_count": 14,
   "metadata": {},
   "outputs": [
    {
     "name": "stdout",
     "output_type": "stream",
     "text": [
      "Result for example 1: [[1, 2], [3, 4]]\n",
      "Result for example 2: [[1, 2, 3]]\n",
      "Result for example 3: []\n"
     ]
    },
    {
     "data": {
      "text/plain": [
       "()"
      ]
     },
     "execution_count": 14,
     "metadata": {},
     "output_type": "execute_result"
    }
   ],
   "source": [
    "    pub fn construct2d_array(original: Vec<i32>, m: i32, n: i32) -> Vec<Vec<i32>> {\n",
    "        // Check if the total number of elements matches the desired dimensions\n",
    "        if original.len() != (m * n) as usize {\n",
    "            return vec![]; // Return an empty 2D array if dimensions don't match\n",
    "        }\n",
    "\n",
    "        // Initialize the 2D array with the given dimensions\n",
    "        let mut result = vec![vec![0; n as usize]; m as usize];\n",
    "        // Fill the 2D array row by row\n",
    "        for i in 0..m as usize {\n",
    "            for j in 0..n as usize {\n",
    "                result[i][j] = original[i * n as usize + j];\n",
    "            }\n",
    "        }\n",
    "\n",
    "        result\n",
    "    }\n",
    "\n",
    "// Example usage \n",
    "fn main() {\n",
    "    // Example case 1\n",
    "    let original1 = vec![1, 2, 3, 4];\n",
    "    let m1 = 2;\n",
    "    let n1 = 2;\n",
    "    let result1 = construct2d_array(original1, m1, n1);\n",
    "    println!(\"Result for example 1: {:?}\", result1); // Expected output: [[1, 2], [3, 4]]\n",
    "\n",
    "    // Example case 2\n",
    "    let original2 = vec![1, 2, 3];\n",
    "    let m2 = 1;\n",
    "    let n2 = 3;\n",
    "    let result2 = construct2d_array(original2, m2, n2);\n",
    "    println!(\"Result for example 2: {:?}\", result2); // Expected output: [[1, 2, 3]]\n",
    "\n",
    "    // Example case 3\n",
    "    let original3 = vec![1, 2];\n",
    "    let m3 = 1;\n",
    "    let n3 = 1;\n",
    "    let result3 = construct2d_array(original3, m3, n3);\n",
    "    println!(\"Result for example 3: {:?}\", result3); // Expected output: []\n",
    "}\n",
    "\n",
    "main()"
   ]
  },
  {
   "cell_type": "code",
   "execution_count": 17,
   "metadata": {},
   "outputs": [
    {
     "name": "stdout",
     "output_type": "stream",
     "text": [
      "Result for example 1: [[1, 2], [3, 4]]\n",
      "Result for example 2: [[1, 2, 3]]\n",
      "Result for example 3: []\n"
     ]
    },
    {
     "data": {
      "text/plain": [
       "()"
      ]
     },
     "execution_count": 17,
     "metadata": {},
     "output_type": "execute_result"
    }
   ],
   "source": [
    "pub fn construct2d_array(original: Vec<i32>, m: i32, n: i32) -> Vec<Vec<i32>> {\n",
    "    // Check if the total number of elements matches the desired dimensions\n",
    "    if original.len() != (m * n) as usize {\n",
    "        return vec![]; // Return an empty 2D array if dimensions don't match\n",
    "    }\n",
    "\n",
    "    // Directly chunk the original array into a 2D vector\n",
    "    original\n",
    "        .chunks(n as usize) // Split the original vector into chunks of size `n`\n",
    "        .map(|chunk| chunk.to_vec()) // Convert each chunk into a vector\n",
    "        .collect() // Collect the chunks into a 2D vector\n",
    "}\n",
    "\n",
    "fn main() {\n",
    "    // Example case 1\n",
    "    let original1 = vec![1, 2, 3, 4];\n",
    "    let m1 = 2;\n",
    "    let n1 = 2;\n",
    "    let result1 = construct2d_array(original1, m1, n1);\n",
    "    println!(\"Result for example 1: {:?}\", result1); // Expected output: [[1, 2], [3, 4]]\n",
    "\n",
    "    // Example case 2\n",
    "    let original2 = vec![1, 2, 3];\n",
    "    let m2 = 1;\n",
    "    let n2 = 3;\n",
    "    let result2 = construct2d_array(original2, m2, n2);\n",
    "    println!(\"Result for example 2: {:?}\", result2); // Expected output: [[1, 2, 3]]\n",
    "\n",
    "    // Example case 3\n",
    "    let original3 = vec![1, 2];\n",
    "    let m3 = 1;\n",
    "    let n3 = 1;\n",
    "    let result3 = construct2d_array(original3, m3, n3);\n",
    "    println!(\"Result for example 3: {:?}\", result3); // Expected output: []\n",
    "}\n",
    "\n",
    "main()"
   ]
  },
  {
   "cell_type": "code",
   "execution_count": 19,
   "metadata": {},
   "outputs": [
    {
     "name": "stdout",
     "output_type": "stream",
     "text": [
      "Result for example 1: [[1, 2], [3, 4]]\n",
      "Result for example 2: [[1, 2, 3]]\n",
      "Result for example 3: []\n"
     ]
    },
    {
     "data": {
      "text/plain": [
       "()"
      ]
     },
     "execution_count": 19,
     "metadata": {},
     "output_type": "execute_result"
    }
   ],
   "source": [
    "fn construct2d_array(original: Vec<i32>, m: i32, n:i32) -> Vec<Vec<i32>> {\n",
    "    if original.len() != (m * n) as usize {\n",
    "        return vec![];\n",
    "    }\n",
    "    original.chunks(n as usize).map(|chunk| chunk.to_vec()).collect()\n",
    "}\n",
    "\n",
    "fn main() {\n",
    "    // Example case 1\n",
    "    let original1 = vec![1, 2, 3, 4];\n",
    "    let m1 = 2;\n",
    "    let n1 = 2;\n",
    "    let result1 = construct2d_array(original1, m1, n1);\n",
    "    println!(\"Result for example 1: {:?}\", result1); // Expected output: [[1, 2], [3, 4]]\n",
    "\n",
    "    // Example case 2\n",
    "    let original2 = vec![1, 2, 3];\n",
    "    let m2 = 1;\n",
    "    let n2 = 3;\n",
    "    let result2 = construct2d_array(original2, m2, n2);\n",
    "    println!(\"Result for example 2: {:?}\", result2); // Expected output: [[1, 2, 3]]\n",
    "\n",
    "    // Example case 3\n",
    "    let original3 = vec![1, 2];\n",
    "    let m3 = 1;\n",
    "    let n3 = 1;\n",
    "    let result3 = construct2d_array(original3, m3, n3);\n",
    "    println!(\"Result for example 3: {:?}\", result3); // Expected output: []\n",
    "}\n",
    "\n",
    "main()"
   ]
  },
  {
   "cell_type": "code",
   "execution_count": 23,
   "metadata": {},
   "outputs": [
    {
     "name": "stdout",
     "output_type": "stream",
     "text": [
      "Result for example 1: [[1, 2], [3, 4]]\n",
      "Result for example 2: [[1, 2, 3]]\n",
      "Result for example 3: []\n"
     ]
    },
    {
     "data": {
      "text/plain": [
       "()"
      ]
     },
     "execution_count": 23,
     "metadata": {},
     "output_type": "execute_result"
    }
   ],
   "source": [
    "fn construct2d_array(original: Vec<i32>, m: i32, n:i32) -> Vec<Vec<i32>> {\n",
    "    if original.len() != (m * n) as usize {\n",
    "        return vec![];\n",
    "    }\n",
    "    let mut result = vec![vec![0; n as usize]; m as usize];\n",
    "    for i in 0..m as usize {\n",
    "        for j in 0..n as usize {\n",
    "            result[i][j] = original[(i * n as usize +j)]\n",
    "        }\n",
    "    }\n",
    "    result\n",
    "}\n",
    "\n",
    "fn main() {\n",
    "    // Example case 1\n",
    "    let original1 = vec![1, 2, 3, 4];\n",
    "    let m1 = 2;\n",
    "    let n1 = 2;\n",
    "    let result1 = construct2d_array(original1, m1, n1);\n",
    "    println!(\"Result for example 1: {:?}\", result1); // Expected output: [[1, 2], [3, 4]]\n",
    "\n",
    "    // Example case 2\n",
    "    let original2 = vec![1, 2, 3];\n",
    "    let m2 = 1;\n",
    "    let n2 = 3;\n",
    "    let result2 = construct2d_array(original2, m2, n2);\n",
    "    println!(\"Result for example 2: {:?}\", result2); // Expected output: [[1, 2, 3]]\n",
    "\n",
    "    // Example case 3\n",
    "    let original3 = vec![1, 2];\n",
    "    let m3 = 1;\n",
    "    let n3 = 1;\n",
    "    let result3 = construct2d_array(original3, m3, n3);\n",
    "    println!(\"Result for example 3: {:?}\", result3); // Expected output: []\n",
    "}\n",
    "\n",
    "main()"
   ]
  },
  {
   "cell_type": "code",
   "execution_count": null,
   "metadata": {},
   "outputs": [],
   "source": []
  }
 ],
 "metadata": {
  "kernelspec": {
   "display_name": "Rust",
   "language": "rust",
   "name": "rust"
  },
  "language_info": {
   "codemirror_mode": "rust",
   "file_extension": ".rs",
   "mimetype": "text/rust",
   "name": "rust",
   "pygment_lexer": "rust",
   "version": ""
  }
 },
 "nbformat": 4,
 "nbformat_minor": 2
}
