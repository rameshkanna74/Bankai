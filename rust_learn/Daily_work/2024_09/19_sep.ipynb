{
 "cells": [
  {
   "cell_type": "markdown",
   "metadata": {},
   "source": [
    "241. Different Ways to Add Parentheses\n",
    "     Medium\n",
    "     Topics\n",
    "     Companies\n",
    "\n",
    "Given a string expression of numbers and operators, return all possible results from computing all the different possible ways to group numbers and operators. You may return the answer in any order.\n",
    "\n",
    "The test cases are generated such that the output values fit in a 32-bit integer and the number of different results does not exceed 104.\n",
    "\n",
    "Example 1:\n",
    "\n",
    "Input: expression = \"2-1-1\"\n",
    "Output: [0,2]\n",
    "Explanation:\n",
    "((2-1)-1) = 0\n",
    "(2-(1-1)) = 2\n",
    "\n",
    "Example 2:\n",
    "\n",
    "Input: expression = \"2*3-4*5\"\n",
    "Output: [-34,-14,-10,-10,10]\n",
    "Explanation:\n",
    "(2*(3-(4*5))) = -34\n",
    "((2*3)-(4*5)) = -14\n",
    "((2*(3-4))*5) = -10\n",
    "(2*((3-4)*5)) = -10\n",
    "(((2*3)-4)*5) = 10\n",
    "\n",
    "Constraints:\n",
    "\n",
    "    1 <= expression.length <= 20\n",
    "    expression consists of digits and the operator '+', '-', and '*'.\n",
    "    All the integer values in the input expression are in the range [0, 99].\n",
    "    The integer values in the input expression do not have a leading '-' or '+' denoting the sign.\n",
    "\n",
    "---\n",
    "\n",
    "give best time and space complexity code in rust,give variables usefull name, add comments to explain the code way more clear,also add code to run example case, use below typing\n",
    "\n",
    "---\n",
    "\n",
    "impl Solution {\n",
    "    pub fn diff_ways_to_compute(expression: String) -> Vec<i32> {\n",
    "        \n",
    "    }\n",
    "}"
   ]
  },
  {
   "cell_type": "markdown",
   "metadata": {},
   "source": []
  },
  {
   "cell_type": "markdown",
   "metadata": {},
   "source": []
  }
 ],
 "metadata": {
  "language_info": {
   "name": "python"
  }
 },
 "nbformat": 4,
 "nbformat_minor": 2
}
