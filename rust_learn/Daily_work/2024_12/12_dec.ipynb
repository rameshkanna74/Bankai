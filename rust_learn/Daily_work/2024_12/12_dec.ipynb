{
 "cells": [
  {
   "cell_type": "markdown",
   "metadata": {},
   "source": [
    "2558. Take Gifts From the Richest Pile\n",
    "      Easy\n",
    "      Topics\n",
    "      Companies\n",
    "      Hint\n",
    "\n",
    "You are given an integer array gifts denoting the number of gifts in various piles. Every second, you do the following:\n",
    "\n",
    "    Choose the pile with the maximum number of gifts.\n",
    "    If there is more than one pile with the maximum number of gifts, choose any.\n",
    "    Leave behind the floor of the square root of the number of gifts in the pile. Take the rest of the gifts.\n",
    "\n",
    "Return the number of gifts remaining after k seconds.\n",
    "\n",
    "Example 1:\n",
    "\n",
    "Input: gifts = [25,64,9,4,100], k = 4\n",
    "Output: 29\n",
    "Explanation:\n",
    "The gifts are taken in the following way:\n",
    "\n",
    "- In the first second, the last pile is chosen and 10 gifts are left behind.\n",
    "- Then the second pile is chosen and 8 gifts are left behind.\n",
    "- After that the first pile is chosen and 5 gifts are left behind.\n",
    "- Finally, the last pile is chosen again and 3 gifts are left behind.\n",
    "  The final remaining gifts are [5,8,9,4,3], so the total number of gifts remaining is 29.\n",
    "\n",
    "Example 2:\n",
    "\n",
    "Input: gifts = [1,1,1,1], k = 4\n",
    "Output: 4\n",
    "Explanation:\n",
    "In this case, regardless which pile you choose, you have to leave behind 1 gift in each pile.\n",
    "That is, you can't take any pile with you.\n",
    "So, the total gifts remaining are 4.\n",
    "\n",
    "Constraints:\n",
    "\n",
    "    1 <= gifts.length <= 103\n",
    "    1 <= gifts[i] <= 109\n",
    "    1 <= k <= 103\n",
    "\n",
    "---\n",
    "\n",
    "give best time and space complexity code in rust,give variables usefull name, add comments to explain the code way more clear,also add code to run example case, use below typing\n",
    "\n",
    "---\n",
    "\n",
    "impl Solution {\n",
    "    pub fn pick_gifts(gifts: Vec<i32>, k: i32) -> i64 {\n",
    "        \n",
    "    }\n",
    "}"
   ]
  },
  {
   "cell_type": "markdown",
   "metadata": {},
   "source": []
  },
  {
   "cell_type": "code",
   "execution_count": null,
   "metadata": {},
   "outputs": [],
   "source": [
    "use std::collections::BinaryHeap;\n",
    "impl Solution {\n",
    "    pub fn pick_gifts(gifts: Vec<i32>, k: i32) -> i64 {\n",
    "        (0..k)\n",
    "        .fold(\n",
    "            gifts.into_iter()\n",
    "            .map(|x| x as i64)\n",
    "            .collect::<BinaryHeap<i64>>(),\n",
    "        |mut q, _| {\n",
    "            if let Some(x) = q.pop() {\n",
    "                q.push((x as f64).sqrt() as i64);\n",
    "            } q\n",
    "        })\n",
    "        .into_iter()\n",
    "        .sum::<i64>()\n",
    "    }\n",
    "}"
   ]
  }
 ],
 "metadata": {
  "kernelspec": {
   "display_name": "Rust",
   "language": "rust",
   "name": "rust"
  },
  "language_info": {
   "name": "rust"
  }
 },
 "nbformat": 4,
 "nbformat_minor": 2
}
