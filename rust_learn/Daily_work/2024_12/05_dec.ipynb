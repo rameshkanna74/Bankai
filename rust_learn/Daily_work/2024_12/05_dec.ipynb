{
 "cells": [
  {
   "cell_type": "markdown",
   "metadata": {},
   "source": [
    "2337. Move Pieces to Obtain a String\n",
    "      Medium\n",
    "      Topics\n",
    "      Companies\n",
    "      Hint\n",
    "\n",
    "You are given two strings start and target, both of length n. Each string consists only of the characters 'L', 'R', and '\\_' where:\n",
    "\n",
    "    The characters 'L' and 'R' represent pieces, where a piece 'L' can move to the left only if there is a blank space directly to its left, and a piece 'R' can move to the right only if there is a blank space directly to its right.\n",
    "    The character '_' represents a blank space that can be occupied by any of the 'L' or 'R' pieces.\n",
    "\n",
    "Return true if it is possible to obtain the string target by moving the pieces of the string start any number of times. Otherwise, return false.\n",
    "\n",
    "Example 1:\n",
    "\n",
    "Input: start = \"_L**R**R_\", target = \"L**\\_\\_**RR\"\n",
    "Output: true\n",
    "Explanation: We can obtain the string target from start by doing the following moves:\n",
    "\n",
    "- Move the first piece one step to the left, start becomes equal to \"L**\\_R**R\\_\".\n",
    "- Move the last piece one step to the right, start becomes equal to \"L**_R_**R\".\n",
    "- Move the second piece three steps to the right, start becomes equal to \"L**\\_\\_**RR\".\n",
    "  Since it is possible to get the string target from start, we return true.\n",
    "\n",
    "Example 2:\n",
    "\n",
    "Input: start = \"R*L*\", target = \"\\__LR\"\n",
    "Output: false\n",
    "Explanation: The 'R' piece in the string start can move one step to the right to obtain \"\\_RL_\".\n",
    "After that, no pieces can move anymore, so it is impossible to obtain the string target from start.\n",
    "\n",
    "Example 3:\n",
    "\n",
    "Input: start = \"_R\", target = \"R_\"\n",
    "Output: false\n",
    "Explanation: The piece in the string start can move only to the right, so it is impossible to obtain the string target from start.\n",
    "\n",
    "Constraints:\n",
    "\n",
    "    n == start.length == target.length\n",
    "    1 <= n <= 105\n",
    "    start and target consist of the characters 'L', 'R', and '_'.\n",
    "\n",
    "---\n",
    "\n",
    "give best time and space complexity code in rust,give variables usefull name, add comments to explain the code way more clear,also add code to run example case, use below typing\n",
    "\n",
    "---\n",
    "\n",
    "impl Solution {\n",
    "    pub fn can_change(start: String, target: String) -> bool {\n",
    "        \n",
    "    }\n",
    "}"
   ]
  },
  {
   "cell_type": "markdown",
   "metadata": {},
   "source": []
  },
  {
   "cell_type": "code",
   "execution_count": 7,
   "metadata": {
    "vscode": {
     "languageId": "rust"
    }
   },
   "outputs": [
    {
     "name": "stdout",
     "output_type": "stream",
     "text": [
      "Test case 1 result: false\n",
      "Test case 2 result: false\n",
      "Test case 3 result: false\n"
     ]
    },
    {
     "data": {
      "text/plain": [
       "()"
      ]
     },
     "execution_count": 7,
     "metadata": {},
     "output_type": "execute_result"
    }
   ],
   "source": [
    "pub struct Solution;\n",
    "\n",
    "impl Solution {\n",
    "    pub fn can_change(start: String, target: String) -> bool {\n",
    "        #[derive(Debug, Clone, Copy)]\n",
    "        enum Dir {\n",
    "            Left,\n",
    "            Right,\n",
    "        }\n",
    "\n",
    "        // Helper function to tokenize the string and identify positions of 'L' and 'R'\n",
    "        fn tokens(s: String) -> impl Iterator<Item = (usize, Dir)> {\n",
    "            s.into_bytes()\n",
    "                .into_iter()\n",
    "                .enumerate()\n",
    "                .filter_map(|(i, byte)| match byte {\n",
    "                    b'L' => Some((i, Dir::Left)),\n",
    "                    b'R' => Some((i, Dir::Right)),\n",
    "                    _ => None,\n",
    "                })\n",
    "        }\n",
    "\n",
    "        // Create iterators over the 'L' and 'R' positions for start and target strings\n",
    "        let mut start_tokens = tokens(start);\n",
    "        let mut target_tokens = tokens(target);\n",
    "\n",
    "        loop {\n",
    "            match (start_tokens.next(), target_tokens.next()) {\n",
    "                // 'L' can only move left, so we check that 'L' in start is at a position >= 'L' in target\n",
    "                (Some((i, Dir::Left)), Some((j, Dir::Left))) if i >= j => {}\n",
    "                // 'R' can only move right, so we check that 'R' in start is at a position <= 'R' in target\n",
    "                (Some((i, Dir::Right)), Some((j, Dir::Right))) if i <= j => {}\n",
    "                // If both iterators have no more tokens, the transformation is possible\n",
    "                (None, None) => break true,\n",
    "                // If the positions of 'L' or 'R' are invalid or mismatched\n",
    "                _ => break false,\n",
    "            }\n",
    "        }\n",
    "    }\n",
    "}\n",
    "\n",
    "fn main() {\n",
    "    // Test example 1\n",
    "    let start = \"_LRR_\".to_string();\n",
    "    let target = \"LR__R\".to_string();\n",
    "    let result = Solution::can_change(start, target);\n",
    "    println!(\"Test case 1 result: {}\", result); // Expected output: true\n",
    "\n",
    "    // Test example 2\n",
    "    let start = \"R_L_\".to_string();\n",
    "    let target = \"LR__\".to_string();\n",
    "    let result = Solution::can_change(start, target);\n",
    "    println!(\"Test case 2 result: {}\", result); // Expected output: false\n",
    "\n",
    "    // Test example 3\n",
    "    let start = \"_R\".to_string();\n",
    "    let target = \"R_\".to_string();\n",
    "    let result = Solution::can_change(start, target);\n",
    "    println!(\"Test case 3 result: {}\", result); // Expected output: false\n",
    "}\n",
    "\n",
    "main()"
   ]
  },
  {
   "cell_type": "code",
   "execution_count": null,
   "metadata": {
    "vscode": {
     "languageId": "rust"
    }
   },
   "outputs": [],
   "source": [
    "impl Solution {\n",
    "    pub fn can_change(start: String, target: String) -> bool {\n",
    "        #[derive(Debug, Clone, Copy)]\n",
    "        enum Dir {\n",
    "            Left,\n",
    "            Right,\n",
    "        }\n",
    "\n",
    "        fn tokens(s: String) -> impl Iterator<Item = (usize, Dir)> {\n",
    "            s.into_bytes()\n",
    "                .into_iter()\n",
    "                .enumerate()\n",
    "                .filter_map(|(i, byte)| match byte {\n",
    "                    b'L' => Some((i, Dir::Left)),\n",
    "                    b'R' => Some((i, Dir::Right)),\n",
    "                    _ => None,\n",
    "                })\n",
    "        }\n",
    "\n",
    "        let mut start_tokens = tokens(start);\n",
    "        let mut target_tokens = tokens(target);\n",
    "\n",
    "        loop {\n",
    "            match (start_tokens.next(), target_tokens.next()) {\n",
    "                (Some((i, Dir::Left)), Some((j, Dir::Left))) if i >= j => {}\n",
    "                (Some((i, Dir::Right)), Some((j, Dir::Right))) if i <= j => {}\n",
    "                (None, None) => break true,\n",
    "                _ => break false,\n",
    "            }\n",
    "        }\n",
    "    }\n",
    "}"
   ]
  }
 ],
 "metadata": {
  "kernelspec": {
   "display_name": "Rust",
   "language": "rust",
   "name": "rust"
  },
  "language_info": {
   "codemirror_mode": "rust",
   "file_extension": ".rs",
   "mimetype": "text/rust",
   "name": "Rust",
   "pygment_lexer": "rust",
   "version": ""
  }
 },
 "nbformat": 4,
 "nbformat_minor": 2
}
