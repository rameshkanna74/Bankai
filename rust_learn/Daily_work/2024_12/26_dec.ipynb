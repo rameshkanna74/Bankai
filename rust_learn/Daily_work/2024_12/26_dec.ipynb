{
 "cells": [
  {
   "cell_type": "markdown",
   "metadata": {},
   "source": [
    "494. Target Sum\n",
    "     Solved\n",
    "     Medium\n",
    "     Topics\n",
    "     Companies\n",
    "\n",
    "You are given an integer array nums and an integer target.\n",
    "\n",
    "You want to build an expression out of nums by adding one of the symbols '+' and '-' before each integer in nums and then concatenate all the integers.\n",
    "\n",
    "    For example, if nums = [2, 1], you can add a '+' before 2 and a '-' before 1 and concatenate them to build the expression \"+2-1\".\n",
    "\n",
    "Return the number of different expressions that you can build, which evaluates to target.\n",
    "\n",
    "Example 1:\n",
    "\n",
    "Input: nums = [1,1,1,1,1], target = 3\n",
    "Output: 5\n",
    "Explanation: There are 5 ways to assign symbols to make the sum of nums be target 3.\n",
    "-1 + 1 + 1 + 1 + 1 = 3\n",
    "+1 - 1 + 1 + 1 + 1 = 3\n",
    "+1 + 1 - 1 + 1 + 1 = 3\n",
    "+1 + 1 + 1 - 1 + 1 = 3\n",
    "+1 + 1 + 1 + 1 - 1 = 3\n",
    "\n",
    "Example 2:\n",
    "\n",
    "Input: nums = [1], target = 1\n",
    "Output: 1\n",
    "\n",
    "Constraints:\n",
    "\n",
    "    1 <= nums.length <= 20\n",
    "    0 <= nums[i] <= 1000\n",
    "    0 <= sum(nums[i]) <= 1000\n",
    "    -1000 <= target <= 1000\n",
    "\n",
    "---\n",
    "\n",
    "give best time and space complexity code in rust,give variables usefull name, add comments to explain the code way more clear,also add code to run example case, use below typing\n",
    "\n",
    "---\n",
    "\n",
    "impl Solution {\n",
    "    pub fn find_target_sum_ways(nums: Vec<i32>, target: i32) -> i32 {\n",
    "        \n",
    "    }\n",
    "}"
   ]
  },
  {
   "cell_type": "markdown",
   "metadata": {},
   "source": []
  },
  {
   "cell_type": "code",
   "execution_count": null,
   "metadata": {
    "vscode": {
     "languageId": "plaintext"
    }
   },
   "outputs": [],
   "source": [
    "impl Solution {\n",
    "    pub fn find_target_sum_ways(nums: Vec<i32>, target: i32) -> i32 {\n",
    "        use std::collections::HashMap;\n",
    "        let freq = if nums[0] == 0 {\n",
    "            HashMap::from([\n",
    "                (0, 2),\n",
    "            ])\n",
    "        } else {\n",
    "            HashMap::from([\n",
    "                (nums[0], 1),\n",
    "                (-nums[0], 1),\n",
    "            ])\n",
    "        };\n",
    "\n",
    "        let freq = nums\n",
    "          .into_iter()\n",
    "          .skip(1)\n",
    "          .fold(freq, |f, n| {\n",
    "            let mut updated_f = HashMap::new();\n",
    "            f\n",
    "              .into_iter()\n",
    "              .for_each(|(k, v)| {\n",
    "                let new_val1 = k + n;\n",
    "                let new_val2 = k - n;\n",
    "                updated_f.entry(new_val1).and_modify(|c| *c += v).or_insert(v);\n",
    "                updated_f.entry(new_val2).and_modify(|c| *c += v).or_insert(v);\n",
    "              });\n",
    "            updated_f\n",
    "          });\n",
    "        *freq.get(&target).unwrap_or(&0)\n",
    "    }\n",
    "}"
   ]
  },
  {
   "cell_type": "code",
   "execution_count": null,
   "metadata": {
    "vscode": {
     "languageId": "plaintext"
    }
   },
   "outputs": [],
   "source": [
    "impl Solution {\n",
    "    pub fn find_target_sum_ways(nums: Vec<i32>, target: i32) -> i32 {\n",
    "        let sm: i32 = nums.iter().sum();\n",
    "        if sm < target.abs() || (sm + target) % 2 != 0 {\n",
    "            return 0;\n",
    "        }\n",
    "        let totalsum = (sm + target) / 2;\n",
    "\n",
    "        let mut dp = vec![0; (totalsum + 1) as usize];\n",
    "        dp[0] = 1;\n",
    "\n",
    "        for &num in nums.iter() {\n",
    "            for t in (num..=totalsum).rev() {\n",
    "                dp[t as usize] += dp[(t - num) as usize];\n",
    "            }\n",
    "        }\n",
    "\n",
    "        dp[totalsum as usize]\n",
    "    }\n",
    "}\n"
   ]
  },
  {
   "cell_type": "code",
   "execution_count": null,
   "metadata": {
    "vscode": {
     "languageId": "plaintext"
    }
   },
   "outputs": [],
   "source": [
    "impl Solution {\n",
    "    pub fn find_target_sum_ways(nums: Vec<i32>, target: i32) -> i32 {\n",
    "        let t_sum = nums.iter().sum::<i32>();\n",
    "        if t_sum < target || -t_sum > target || ((t_sum & 1) ^ (target & 1) == 1) {\n",
    "            0\n",
    "        } else {\n",
    "            let limits = (target + t_sum) / 2;\n",
    "            let mut dp = vec![0; limits as usize + 1];\n",
    "            dp[0] = 1;\n",
    "            for i in 1..=nums.len() {\n",
    "                for j in (0..=limits as usize).rev() {\n",
    "                    dp[j] += if j >= nums[i - 1] as usize {\n",
    "                        dp[j - nums[i - 1] as usize]\n",
    "                    } else {\n",
    "                        0\n",
    "                    };\n",
    "                }\n",
    "            }\n",
    "            dp[limits as usize]\n",
    "        }\n",
    "    }\n",
    "}"
   ]
  }
 ],
 "metadata": {
  "language_info": {
   "name": "python"
  }
 },
 "nbformat": 4,
 "nbformat_minor": 2
}
