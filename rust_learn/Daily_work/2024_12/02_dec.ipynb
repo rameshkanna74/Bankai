{
 "cells": [
  {
   "cell_type": "markdown",
   "metadata": {},
   "source": [
    "1455. Check If a Word Occurs As a Prefix of Any Word in a Sentence\n",
    "      Easy\n",
    "      Topics\n",
    "      Companies\n",
    "      Hint\n",
    "\n",
    "Given a sentence that consists of some words separated by a single space, and a searchWord, check if searchWord is a prefix of any word in sentence.\n",
    "\n",
    "Return the index of the word in sentence (1-indexed) where searchWord is a prefix of this word. If searchWord is a prefix of more than one word, return the index of the first word (minimum index). If there is no such word return -1.\n",
    "\n",
    "A prefix of a string s is any leading contiguous substring of s.\n",
    "\n",
    "Example 1:\n",
    "\n",
    "Input: sentence = \"i love eating burger\", searchWord = \"burg\"\n",
    "Output: 4\n",
    "Explanation: \"burg\" is prefix of \"burger\" which is the 4th word in the sentence.\n",
    "\n",
    "Example 2:\n",
    "\n",
    "Input: sentence = \"this problem is an easy problem\", searchWord = \"pro\"\n",
    "Output: 2\n",
    "Explanation: \"pro\" is prefix of \"problem\" which is the 2nd and the 6th word in the sentence, but we return 2 as it's the minimal index.\n",
    "\n",
    "Example 3:\n",
    "\n",
    "Input: sentence = \"i am tired\", searchWord = \"you\"\n",
    "Output: -1\n",
    "Explanation: \"you\" is not a prefix of any word in the sentence.\n",
    "\n",
    "Constraints:\n",
    "\n",
    "    1 <= sentence.length <= 100\n",
    "    1 <= searchWord.length <= 10\n",
    "    sentence consists of lowercase English letters and spaces.\n",
    "    searchWord consists of lowercase English letters.\n",
    "\n",
    "---\n",
    "\n",
    "give best time and space complexity code in rust,give variables usefull name, add comments to explain the code way more clear,also add code to run example case, use below typing\n",
    "\n",
    "---\n",
    "\n",
    "impl Solution {\n",
    "    pub fn is_prefix_of_word(sentence: String, search_word: String) -> i32 {\n",
    "        \n",
    "    }\n",
    "}"
   ]
  },
  {
   "cell_type": "markdown",
   "metadata": {},
   "source": []
  },
  {
   "cell_type": "code",
   "execution_count": null,
   "metadata": {
    "vscode": {
     "languageId": "plaintext"
    }
   },
   "outputs": [],
   "source": [
    "impl Solution {\n",
    "    pub fn is_prefix_of_word(sentence: String, search_word: String) -> i32 {\n",
    "        for (i, word) in sentence.split_whitespace().enumerate() {\n",
    "            if word.starts_with(&search_word) {\n",
    "                return (i + 1) as i32;\n",
    "            }\n",
    "        }\n",
    "        -1\n",
    "    }\n",
    "}"
   ]
  }
 ],
 "metadata": {
  "language_info": {
   "name": "python"
  }
 },
 "nbformat": 4,
 "nbformat_minor": 2
}
