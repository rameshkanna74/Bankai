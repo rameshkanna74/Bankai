{
 "cells": [
  {
   "cell_type": "markdown",
   "metadata": {},
   "source": [
    "1639. Number of Ways to Form a Target String Given a Dictionary\n",
    "      Hard\n",
    "      Topics\n",
    "      Companies\n",
    "      Hint\n",
    "      You are given a list of strings of the same length words and a string target.\n",
    "\n",
    "Your task is to form target using the given words under the following rules:\n",
    "\n",
    "target should be formed from left to right.\n",
    "To form the ith character (0-indexed) of target, you can choose the kth character of the jth string in words if target[i] = words[j][k].\n",
    "Once you use the kth character of the jth string of words, you can no longer use the xth character of any string in words where x <= k. In other words, all characters to the left of or at index k become unusuable for every string.\n",
    "Repeat the process until you form the string target.\n",
    "Notice that you can use multiple characters from the same string in words provided the conditions above are met.\n",
    "\n",
    "Return the number of ways to form target from words. Since the answer may be too large, return it modulo 109 + 7.\n",
    "\n",
    "Example 1:\n",
    "\n",
    "Input: words = [\"acca\",\"bbbb\",\"caca\"], target = \"aba\"\n",
    "Output: 6\n",
    "Explanation: There are 6 ways to form target.\n",
    "\"aba\" -> index 0 (\"acca\"), index 1 (\"bbbb\"), index 3 (\"caca\")\n",
    "\"aba\" -> index 0 (\"acca\"), index 2 (\"bbbb\"), index 3 (\"caca\")\n",
    "\"aba\" -> index 0 (\"acca\"), index 1 (\"bbbb\"), index 3 (\"acca\")\n",
    "\"aba\" -> index 0 (\"acca\"), index 2 (\"bbbb\"), index 3 (\"acca\")\n",
    "\"aba\" -> index 1 (\"caca\"), index 2 (\"bbbb\"), index 3 (\"acca\")\n",
    "\"aba\" -> index 1 (\"caca\"), index 2 (\"bbbb\"), index 3 (\"caca\")\n",
    "Example 2:\n",
    "\n",
    "Input: words = [\"abba\",\"baab\"], target = \"bab\"\n",
    "Output: 4\n",
    "Explanation: There are 4 ways to form target.\n",
    "\"bab\" -> index 0 (\"baab\"), index 1 (\"baab\"), index 2 (\"abba\")\n",
    "\"bab\" -> index 0 (\"baab\"), index 1 (\"baab\"), index 3 (\"baab\")\n",
    "\"bab\" -> index 0 (\"baab\"), index 2 (\"baab\"), index 3 (\"baab\")\n",
    "\"bab\" -> index 1 (\"abba\"), index 2 (\"baab\"), index 3 (\"baab\")\n",
    "\n",
    "Constraints:\n",
    "\n",
    "1 <= words.length <= 1000\n",
    "1 <= words[i].length <= 1000\n",
    "All strings in words have the same length.\n",
    "1 <= target.length <= 1000\n",
    "words[i] and target contain only lowercase English letters.\n",
    "\n",
    "---\n",
    "\n",
    "give best time and space complexity code in rust,give variables usefull name, add comments to explain the code way more clear,also add code to run example case, use below typing\n",
    "\n",
    "---\n",
    "\n",
    "```rust\n",
    "impl Solution {\n",
    "    pub fn num_ways(words: Vec<String>, target: String) -> i32 {\n",
    "        \n",
    "    }\n",
    "}\n",
    "```"
   ]
  },
  {
   "cell_type": "markdown",
   "metadata": {},
   "source": []
  },
  {
   "cell_type": "code",
   "execution_count": null,
   "metadata": {
    "vscode": {
     "languageId": "plaintext"
    }
   },
   "outputs": [],
   "source": [
    "impl Solution {\n",
    "    pub fn num_ways(words: Vec<String>, target: String) -> i32 {\n",
    "        let modulo = 1_000_000_007;\n",
    "        let word_len = words[0].len();\n",
    "        let target_len = target.len();\n",
    "\n",
    "        let freq: Vec<[i32; 26]> = words\n",
    "          .into_iter()\n",
    "          .fold(vec![[0; 26]; word_len], |mut m, w| {\n",
    "            w\n",
    "              .as_bytes()\n",
    "              .iter()\n",
    "              .enumerate()\n",
    "              .for_each(|(i, &c)| m[i][(c - 'a' as u8) as usize] += 1);\n",
    "            m\n",
    "          });\n",
    "\n",
    "        let mut dp = vec![vec![0_i64; target_len + 1]; word_len + 1];\n",
    "        (0..=word_len)\n",
    "          .for_each(|word_idx| dp[word_idx][0] = 1);\n",
    "        (1..=target_len)\n",
    "          .flat_map(|i| (1..=word_len).map(move |j| (i, j)))\n",
    "          .for_each(|(target_idx, word_idx)| {\n",
    "            dp[word_idx][target_idx] = dp[word_idx - 1][target_idx];\n",
    "            let c = (target.as_bytes()[target_idx - 1] - 'a' as u8) as usize;\n",
    "            dp[word_idx][target_idx] += (dp[word_idx - 1][target_idx - 1] * freq[word_idx - 1][c] as i64) % modulo;\n",
    "            dp[word_idx][target_idx] %= modulo;\n",
    "          });\n",
    "        dp[word_len][target_len] as i32\n",
    "    }\n",
    "}"
   ]
  },
  {
   "cell_type": "code",
   "execution_count": null,
   "metadata": {
    "vscode": {
     "languageId": "plaintext"
    }
   },
   "outputs": [],
   "source": [
    "impl Solution {\n",
    "    pub fn num_ways(w: Vec<String>, t: String) -> i32 {\n",
    "        if t.len()>w[0].len() {return 0}\n",
    "        let (mut c, mut dp) = ([[0;1000];26], [0;1001]); dp[0]=1;\n",
    "        w.iter().map(|x| x.as_bytes().iter().enumerate().map(|(j,&ch)| c[ch as usize-97][j]+=1).count()).count();  \n",
    "        for j in 0..w[0].len() {\n",
    "            for (i, &x) in t.as_bytes().iter().take(j+1).enumerate().rev() {\n",
    "                dp[i+1]=(dp[i+1]+dp[i]*c[x as usize-97][j] as isize)%1000000007;\n",
    "            }\n",
    "        }\n",
    "        dp[t.len()] as i32\n",
    "    }\n",
    "}"
   ]
  },
  {
   "cell_type": "code",
   "execution_count": null,
   "metadata": {
    "vscode": {
     "languageId": "plaintext"
    }
   },
   "outputs": [],
   "source": [
    "// Turn word dict to frequency map\n",
    "pub fn preproc(words: Vec<String>) -> Vec<[usize; 32]> {\n",
    "    let n = words[0].len();\n",
    "\n",
    "    let mut freq_map = vec![[0; 32]; n]; // 28 chars in alphabet\n",
    "\n",
    "    for word in words {\n",
    "        for (i, c) in word.chars().enumerate() {\n",
    "            let c = c as usize - 'a' as usize;\n",
    "            freq_map[i][c] += 1;\n",
    "        }\n",
    "    }\n",
    "\n",
    "    freq_map\n",
    "}\n",
    "\n",
    "use std::collections::VecDeque;\n",
    "\n",
    "impl Solution {\n",
    "    const MOD: usize = 1_000_000_007;\n",
    "\n",
    "    pub fn _impl(words: Vec<String>, target: String) -> Option<usize> {\n",
    "        if words.is_empty() { return None; }\n",
    "        \n",
    "        let mut target = target.chars()\n",
    "            .map(|c| c as usize - 'a' as usize)\n",
    "            .collect::<Vec<_>>(); // convert string to vec of chars\n",
    "        let mut freq_map = preproc(words); // frequency map for each index\n",
    "\n",
    "        let (m, n) = (target.len(), freq_map.len());\n",
    "        if m > n { return None; }\n",
    "\n",
    "        target.reverse();\n",
    "        freq_map.reverse(); // WHY DO YOU HATE YOURSELF\n",
    "\n",
    "        let dp_len = n - m + 1;\n",
    "        let mut dp = VecDeque::from(vec![1usize; dp_len]); // magic\n",
    "\n",
    "        for (i, c) in target.into_iter().enumerate() { // what??\n",
    "            let mut count_prev = 0usize;\n",
    "\n",
    "            for j in (0..(n-m+1)) { // ??\n",
    "                let mut head = dp.pop_front().unwrap();\n",
    "\n",
    "                head *= freq_map[i + j][c]; // WAT?????\n",
    "                head += count_prev;\n",
    "                head %= Self::MOD;\n",
    "\n",
    "                dp.push_back(head);\n",
    "\n",
    "                count_prev = head;\n",
    "            }\n",
    "        }\n",
    "\n",
    "        dp.pop_back()\n",
    "    }\n",
    "\n",
    "    pub fn num_ways(words: Vec<String>, target: String) -> i32 {\n",
    "        Self::_impl(words, target)\n",
    "            .unwrap_or(0) as i32\n",
    "    }\n",
    "}"
   ]
  },
  {
   "cell_type": "code",
   "execution_count": null,
   "metadata": {
    "vscode": {
     "languageId": "plaintext"
    }
   },
   "outputs": [],
   "source": []
  },
  {
   "cell_type": "markdown",
   "metadata": {},
   "source": [
    "https://leetcode.com/u/soyflourbread/\n",
    "\n",
    "https://leetcode.com/u/servasilich/\n",
    "1255 problem rank 7,149\n",
    "\n",
    "https://leetcode.com/u/ustinovas/\n",
    "845 problems, rank 30,226\n"
   ]
  }
 ],
 "metadata": {
  "language_info": {
   "name": "python"
  }
 },
 "nbformat": 4,
 "nbformat_minor": 2
}
