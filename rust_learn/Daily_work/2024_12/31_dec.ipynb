{
 "cells": [
  {
   "cell_type": "markdown",
   "metadata": {},
   "source": [
    "983. Minimum Cost For Tickets\n",
    "\n",
    "\n",
    "    Medium\n",
    "    Topics\n",
    "    Companies\n",
    "\n",
    "You have planned some train traveling one year in advance. The days of the year in which you will travel are given as an integer array days. Each day is an integer from 1 to 365.\n",
    "\n",
    "Train tickets are sold in three different ways:\n",
    "\n",
    "a 1-day pass is sold for costs[0] dollars,\n",
    "a 7-day pass is sold for costs[1] dollars, and\n",
    "a 30-day pass is sold for costs[2] dollars.\n",
    "The passes allow that many days of consecutive travel.\n",
    "\n",
    "For example, if we get a 7-day pass on day 2, then we can travel for 7 days: 2, 3, 4, 5, 6, 7, and 8.\n",
    "Return the minimum number of dollars you need to travel every day in the given list of days.\n",
    "\n",
    "Example 1:\n",
    "\n",
    "Input: days = [1,4,6,7,8,20], costs = [2,7,15]\n",
    "Output: 11\n",
    "Explanation: For example, here is one way to buy passes that lets you travel your travel plan:\n",
    "On day 1, you bought a 1-day pass for costs[0] = $2, which covered day 1.\n",
    "On day 3, you bought a 7-day pass for costs[1] = $7, which covered days 3, 4, ..., 9.\n",
    "On day 20, you bought a 1-day pass for costs[0] = $2, which covered day 20.\n",
    "In total, you spent $11 and covered all the days of your travel.\n",
    "Example 2:\n",
    "\n",
    "Input: days = [1,2,3,4,5,6,7,8,9,10,30,31], costs = [2,7,15]\n",
    "Output: 17\n",
    "Explanation: For example, here is one way to buy passes that lets you travel your travel plan:\n",
    "On day 1, you bought a 30-day pass for costs[2] = $15 which covered days 1, 2, ..., 30.\n",
    "On day 31, you bought a 1-day pass for costs[0] = $2 which covered day 31.\n",
    "In total, you spent $17 and covered all the days of your travel.\n",
    "\n",
    "Constraints:\n",
    "\n",
    "1 <= days.length <= 365\n",
    "1 <= days[i] <= 365\n",
    "days is in strictly increasing order.\n",
    "costs.length == 3\n",
    "1 <= costs[i] <= 1000\n",
    "\n",
    "---\n",
    "\n",
    "give best time and space complexity code in rust,give variables usefull name, add comments to explain the code way more clear,also add code to run example case, use below typing\n",
    "\n",
    "---\n",
    "\n",
    "impl Solution {\n",
    "    pub fn mincost_tickets(days: Vec<i32>, costs: Vec<i32>) -> i32 {\n",
    "        \n",
    "    }\n",
    "}"
   ]
  },
  {
   "cell_type": "markdown",
   "metadata": {},
   "source": []
  },
  {
   "cell_type": "code",
   "execution_count": null,
   "metadata": {
    "vscode": {
     "languageId": "plaintext"
    }
   },
   "outputs": [],
   "source": [
    "use std::collections::HashSet;\n",
    "impl Solution {\n",
    "    fn f(dp: &mut Vec<i32>, dset: &HashSet<i32>, costs: &Vec<i32>, d: i32) -> i32 {\n",
    "        if d < 0 {\n",
    "            return 0;\n",
    "        }\n",
    "        \n",
    "        if dp[d as usize] != -1 { \n",
    "            return dp[d as usize];\n",
    "        }\n",
    "        if !dset.contains(&d) {\n",
    "            return Self::f(dp, dset, costs, d-1);\n",
    "        }\n",
    "\n",
    "        let ans: i32 = (costs[0] + Self::f(dp, dset, costs, d-1))\n",
    "            .min(\n",
    "                costs[1] + Self::f(dp, dset, costs, d-7)\n",
    "            )\n",
    "            .min(\n",
    "                costs[2] + Self::f(dp, dset, costs, d-30)\n",
    "            );\n",
    "        dp[d as usize] = ans;\n",
    "        ans\n",
    "    }\n",
    "    pub fn mincost_tickets(days: Vec<i32>, costs: Vec<i32>) -> i32 {\n",
    "        let mut dset: HashSet<i32> = days.iter().cloned().collect();\n",
    "        let mut dp: Vec<i32> = vec![-1; (days[days.len()-1]+1) as usize];\n",
    "        Self::f(&mut dp, &dset, &costs, days[days.len()-1])\n",
    "    }\n",
    "}"
   ]
  },
  {
   "cell_type": "code",
   "execution_count": null,
   "metadata": {
    "vscode": {
     "languageId": "plaintext"
    }
   },
   "outputs": [],
   "source": [
    "impl Solution {\n",
    "    pub fn mincost_tickets(days: Vec<i32>, costs: Vec<i32>) -> i32 {\n",
    "        let n = days.len();\n",
    "        let pass_days = [1, 7, 30];\n",
    "        let mut dp = vec![i32::MAX; n + 1];\n",
    "        dp[n] = 0;\n",
    "        let mut i = n - 1;\n",
    "        loop {\n",
    "            for (d, cost) in costs.iter().enumerate() {\n",
    "                let mut j = i;\n",
    "                while j < n && days[i] + pass_days[d] > days[j] {\n",
    "                    j += 1;\n",
    "                }\n",
    "                dp[i] = dp[i].min(*cost + dp[j])\n",
    "            }\n",
    "\n",
    "            if i == 0 {\n",
    "                break;\n",
    "            }\n",
    "            i -= 1;\n",
    "        }\n",
    "        dp[0]\n",
    "    }\n",
    "}"
   ]
  }
 ],
 "metadata": {
  "language_info": {
   "name": "python"
  }
 },
 "nbformat": 4,
 "nbformat_minor": 2
}
