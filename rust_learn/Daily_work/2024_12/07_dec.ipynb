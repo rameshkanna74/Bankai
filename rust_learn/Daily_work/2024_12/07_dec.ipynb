{
 "cells": [
  {
   "cell_type": "markdown",
   "metadata": {},
   "source": [
    "1760. Minimum Limit of Balls in a Bag\n",
    "      Medium\n",
    "      Topics\n",
    "      Companies\n",
    "      Hint\n",
    "\n",
    "You are given an integer array nums where the ith bag contains nums[i] balls. You are also given an integer maxOperations.\n",
    "\n",
    "You can perform the following operation at most maxOperations times:\n",
    "\n",
    "    Take any bag of balls and divide it into two new bags with a positive number of balls.\n",
    "        For example, a bag of 5 balls can become two new bags of 1 and 4 balls, or two new bags of 2 and 3 balls.\n",
    "\n",
    "Your penalty is the maximum number of balls in a bag. You want to minimize your penalty after the operations.\n",
    "\n",
    "Return the minimum possible penalty after performing the operations.\n",
    "\n",
    "Example 1:\n",
    "\n",
    "Input: nums = [9], maxOperations = 2\n",
    "Output: 3\n",
    "Explanation:\n",
    "\n",
    "- Divide the bag with 9 balls into two bags of sizes 6 and 3. [9] -> [6,3].\n",
    "- Divide the bag with 6 balls into two bags of sizes 3 and 3. [6,3] -> [3,3,3].\n",
    "  The bag with the most number of balls has 3 balls, so your penalty is 3 and you should return 3.\n",
    "\n",
    "Example 2:\n",
    "\n",
    "Input: nums = [2,4,8,2], maxOperations = 4\n",
    "Output: 2\n",
    "Explanation:\n",
    "\n",
    "- Divide the bag with 8 balls into two bags of sizes 4 and 4. [2,4,8,2] -> [2,4,4,4,2].\n",
    "- Divide the bag with 4 balls into two bags of sizes 2 and 2. [2,4,4,4,2] -> [2,2,2,4,4,2].\n",
    "- Divide the bag with 4 balls into two bags of sizes 2 and 2. [2,2,2,4,4,2] -> [2,2,2,2,2,4,2].\n",
    "- Divide the bag with 4 balls into two bags of sizes 2 and 2. [2,2,2,2,2,4,2] -> [2,2,2,2,2,2,2,2].\n",
    "  The bag with the most number of balls has 2 balls, so your penalty is 2, and you should return 2.\n",
    "\n",
    "Constraints:\n",
    "\n",
    "    1 <= nums.length <= 105\n",
    "    1 <= maxOperations, nums[i] <= 109\n",
    "\n",
    "---\n",
    "\n",
    "give best time and space complexity code in rust,give variables usefull name, add comments to explain the code way more clear,also add code to run example case, use below typing\n",
    "\n",
    "---\n",
    "\n",
    "impl Solution {\n",
    "    pub fn minimum_size(nums: Vec<i32>, max_operations: i32) -> i32 {\n",
    "        \n",
    "    }\n",
    "}"
   ]
  },
  {
   "cell_type": "markdown",
   "metadata": {},
   "source": []
  },
  {
   "cell_type": "code",
   "execution_count": null,
   "metadata": {},
   "outputs": [],
   "source": [
    "impl Solution {\n",
    "    pub fn minimum_size(nums: Vec<i32>, max_ops: i32) -> i32 {\n",
    "        let mut low = 1;\n",
    "        let mut high = *nums.iter().max().unwrap();\n",
    "        while low < high {\n",
    "            let mid = (low + high) / 2;\n",
    "            let ops = nums.iter().map(|&n| (n - 1) / mid).sum::<i32>();\n",
    "            if ops <= max_ops { high = mid } else { low = mid + 1 }\n",
    "        }\n",
    "        high\n",
    "    }\n",
    "}"
   ]
  }
 ],
 "metadata": {
  "kernelspec": {
   "display_name": "Rust",
   "language": "rust",
   "name": "rust"
  },
  "language_info": {
   "name": "rust"
  }
 },
 "nbformat": 4,
 "nbformat_minor": 2
}
