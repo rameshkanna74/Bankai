{
 "cells": [
  {
   "cell_type": "markdown",
   "metadata": {},
   "source": [
    "2466. Count Ways To Build Good Strings\n",
    "\n",
    "      Medium\n",
    "      Topics\n",
    "      Companies\n",
    "      Hint\n",
    "\n",
    "Given the integers zero, one, low, and high, we can construct a string by starting with an empty string, and then at each step perform either of the following:\n",
    "\n",
    "Append the character '0' zero times.\n",
    "Append the character '1' one times.\n",
    "This can be performed any number of times.\n",
    "\n",
    "A good string is a string constructed by the above process having a length between low and high (inclusive).\n",
    "\n",
    "Return the number of different good strings that can be constructed satisfying these properties. Since the answer can be large, return it modulo 109 + 7.\n",
    "\n",
    "Example 1:\n",
    "\n",
    "Input: low = 3, high = 3, zero = 1, one = 1\n",
    "Output: 8\n",
    "Explanation:\n",
    "One possible valid good string is \"011\".\n",
    "It can be constructed as follows: \"\" -> \"0\" -> \"01\" -> \"011\".\n",
    "All binary strings from \"000\" to \"111\" are good strings in this example.\n",
    "Example 2:\n",
    "\n",
    "Input: low = 2, high = 3, zero = 1, one = 2\n",
    "Output: 5\n",
    "Explanation: The good strings are \"00\", \"11\", \"000\", \"110\", and \"011\".\n",
    "\n",
    "Constraints:\n",
    "\n",
    "1 <= low <= high <= 105\n",
    "1 <= zero, one <= low\n",
    "\n",
    "---\n",
    "\n",
    "give best time and space complexity code in rust,give variables usefull name, add comments to explain the code way more clear,also add code to run example case, use below typing\n",
    "\n",
    "---\n",
    "\n",
    "\n",
    "impl Solution {\n",
    "    pub fn count_good_strings(low: i32, high: i32, zero: i32, one: i32) -> i32 {\n",
    "        \n",
    "    }\n",
    "}"
   ]
  },
  {
   "cell_type": "markdown",
   "metadata": {},
   "source": []
  },
  {
   "cell_type": "code",
   "execution_count": null,
   "metadata": {
    "vscode": {
     "languageId": "plaintext"
    }
   },
   "outputs": [],
   "source": [
    "impl Solution {\n",
    "    pub fn count_good_strings(low: i32, high: i32, zero: i32, one: i32) -> i32 {\n",
    "        let (low, high) = (low as usize, high as usize);\n",
    "        let (zero, one) = (zero as usize, one as usize);\n",
    "        let mut dp = vec![0; high + 1];\n",
    "        let mut ret = 0;\n",
    "        dp[0] = 1;\n",
    "\n",
    "        for i in 0..=high {\n",
    "            if i >= low {\n",
    "                ret = (ret + dp[i]) % 1_000_000_007;\n",
    "            }\n",
    "\n",
    "            if i + zero <= high {\n",
    "                dp[i + zero] = (dp[i + zero] + dp[i]) % 1_000_000_007;\n",
    "            }\n",
    "            if i + one <= high {\n",
    "                dp[i + one] = (dp[i + one] + dp[i]) % 1_000_000_007;\n",
    "            }\n",
    "        }\n",
    "\n",
    "        ret\n",
    "    }\n",
    "}"
   ]
  }
 ],
 "metadata": {
  "language_info": {
   "name": "python"
  }
 },
 "nbformat": 4,
 "nbformat_minor": 2
}
