{
 "cells": [
  {
   "cell_type": "markdown",
   "metadata": {},
   "source": [
    "1346. Check If N and Its Double Exist\n",
    "      Easy\n",
    "      Topics\n",
    "      Companies\n",
    "      Hint\n",
    "\n",
    "Given an array arr of integers, check if there exist two indices i and j such that :\n",
    "\n",
    "    i != j\n",
    "    0 <= i, j < arr.length\n",
    "    arr[i] == 2 * arr[j]\n",
    "\n",
    "Example 1:\n",
    "\n",
    "Input: arr = [10,2,5,3]\n",
    "Output: true\n",
    "Explanation: For i = 0 and j = 2, arr[i] == 10 == 2 _ 5 == 2 _ arr[j]\n",
    "\n",
    "Example 2:\n",
    "\n",
    "Input: arr = [3,1,7,11]\n",
    "Output: false\n",
    "Explanation: There is no i and j that satisfy the conditions.\n",
    "\n",
    "Constraints:\n",
    "\n",
    "    2 <= arr.length <= 500\n",
    "    -103 <= arr[i] <= 103\n",
    "\n",
    "---\n",
    "\n",
    "give best time and space complexity code in rust,give variables usefull name, add comments to explain the code way more clear,also add code to run example case, use below typing\n",
    "\n",
    "---\n",
    "\n",
    "\n",
    "impl Solution {\n",
    "    pub fn check_if_exist(arr: Vec<i32>) -> bool {\n",
    "        \n",
    "    }\n",
    "}"
   ]
  },
  {
   "cell_type": "markdown",
   "metadata": {},
   "source": []
  },
  {
   "cell_type": "code",
   "execution_count": null,
   "metadata": {
    "vscode": {
     "languageId": "plaintext"
    }
   },
   "outputs": [],
   "source": [
    "impl Solution {\n",
    "    pub fn check_if_exist(mut arr: Vec<i32>) -> bool {\n",
    "        arr.sort_unstable(); (0..arr.len()).any(|i| { \n",
    "            i != arr.binary_search(&(2 * arr[i])).unwrap_or(i) })\n",
    "    }\n",
    "}"
   ]
  }
 ],
 "metadata": {
  "language_info": {
   "name": "python"
  }
 },
 "nbformat": 4,
 "nbformat_minor": 2
}
