{
 "cells": [
  {
   "cell_type": "markdown",
   "metadata": {},
   "source": [
    "3152. Special Array II\n",
    "      Medium\n",
    "      Topics\n",
    "      Companies\n",
    "      Hint\n",
    "\n",
    "An array is considered special if every pair of its adjacent elements contains two numbers with different parity.\n",
    "\n",
    "You are given an array of integer nums and a 2D integer matrix queries, where for queries[i] = [fromi, toi] your task is to check that\n",
    "subarray\n",
    "nums[fromi..toi] is special or not.\n",
    "\n",
    "Return an array of booleans answer such that answer[i] is true if nums[fromi..toi] is special.\n",
    "\n",
    "Example 1:\n",
    "\n",
    "Input: nums = [3,4,1,2,6], queries = [[0,4]]\n",
    "\n",
    "Output: [false]\n",
    "\n",
    "Explanation:\n",
    "\n",
    "The subarray is [3,4,1,2,6]. 2 and 6 are both even.\n",
    "\n",
    "Example 2:\n",
    "\n",
    "Input: nums = [4,3,1,6], queries = [[0,2],[2,3]]\n",
    "\n",
    "Output: [false,true]\n",
    "\n",
    "Explanation:\n",
    "\n",
    "    The subarray is [4,3,1]. 3 and 1 are both odd. So the answer to this query is false.\n",
    "    The subarray is [1,6]. There is only one pair: (1,6) and it contains numbers with different parity. So the answer to this query is true.\n",
    "\n",
    "Constraints:\n",
    "\n",
    "    1 <= nums.length <= 105\n",
    "    1 <= nums[i] <= 105\n",
    "    1 <= queries.length <= 105\n",
    "    queries[i].length == 2\n",
    "    0 <= queries[i][0] <= queries[i][1] <= nums.length - 1\n",
    "\n",
    "---\n",
    "\n",
    "give best time and space complexity code in rust,give variables usefull name, add comments to explain the code way more clear,also add code to run example case, use below typing\n",
    "\n",
    "---\n",
    "\n",
    "impl Solution {\n",
    "    pub fn is_array_special(nums: Vec<i32>, queries: Vec<Vec<i32>>) -> Vec<bool> {\n",
    "        \n",
    "    }\n",
    "}"
   ]
  },
  {
   "cell_type": "markdown",
   "metadata": {},
   "source": []
  },
  {
   "cell_type": "code",
   "execution_count": null,
   "metadata": {
    "vscode": {
     "languageId": "plaintext"
    }
   },
   "outputs": [],
   "source": [
    "impl Solution {\n",
    "    pub fn is_array_special(nums: Vec<i32>, queries: Vec<Vec<i32>>) -> Vec<bool> {\n",
    "        let n = nums.len();\n",
    "        let mut prefix = vec![0; n]; // Initialize prefix array\n",
    "\n",
    "        // Build the prefix array to count special pairs\n",
    "        for i in 1..n {\n",
    "            prefix[i] = prefix[i - 1];\n",
    "            if (nums[i - 1] % 2 == 0 && nums[i] % 2 == 0) || (nums[i - 1] % 2 != 0 && nums[i] % 2 != 0) {\n",
    "                prefix[i] += 1;\n",
    "            }\n",
    "        }\n",
    "\n",
    "        let mut result = Vec::new(); // Result vector\n",
    "\n",
    "        // Process each query\n",
    "        for q in queries {\n",
    "            let left = q[0] as usize;\n",
    "            let right = q[1] as usize;\n",
    "            let special_count = prefix[right] - (if left > 0 { prefix[left] } else { 0 });\n",
    "            result.push(special_count == 0);\n",
    "        }\n",
    "\n",
    "        result // Return the result\n",
    "    }\n",
    "}\n"
   ]
  }
 ],
 "metadata": {
  "language_info": {
   "name": "python"
  }
 },
 "nbformat": 4,
 "nbformat_minor": 2
}
