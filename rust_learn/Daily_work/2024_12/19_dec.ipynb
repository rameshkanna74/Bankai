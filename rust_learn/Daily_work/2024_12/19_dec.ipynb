{
 "cells": [
  {
   "cell_type": "markdown",
   "metadata": {},
   "source": [
    "769. Max Chunks To Make Sorted\n",
    "     Medium\n",
    "     Topics\n",
    "     Companies\n",
    "     Hint\n",
    "\n",
    "You are given an integer array arr of length n that represents a permutation of the integers in the range [0, n - 1].\n",
    "\n",
    "We split arr into some number of chunks (i.e., partitions), and individually sort each chunk. After concatenating them, the result should equal the sorted array.\n",
    "\n",
    "Return the largest number of chunks we can make to sort the array.\n",
    "\n",
    "Example 1:\n",
    "\n",
    "Input: arr = [4,3,2,1,0]\n",
    "Output: 1\n",
    "Explanation:\n",
    "Splitting into two or more chunks will not return the required result.\n",
    "For example, splitting into [4, 3], [2, 1, 0] will result in [3, 4, 0, 1, 2], which isn't sorted.\n",
    "\n",
    "Example 2:\n",
    "\n",
    "Input: arr = [1,0,2,3,4]\n",
    "Output: 4\n",
    "Explanation:\n",
    "We can split into two chunks, such as [1, 0], [2, 3, 4].\n",
    "However, splitting into [1, 0], [2], [3], [4] is the highest number of chunks possible.\n",
    "\n",
    "Constraints:\n",
    "\n",
    "    n == arr.length\n",
    "    1 <= n <= 10\n",
    "    0 <= arr[i] < n\n",
    "    All the elements of arr are unique.\n",
    "\n",
    "---\n",
    "\n",
    "give best time and space complexity code in rust,give variables usefull name, add comments to explain the code way more clear,also add code to run example case, use below typing\n",
    "\n",
    "---\n",
    "\n",
    "impl Solution {\n",
    "    pub fn max_chunks_to_sorted(arr: Vec<i32>) -> i32 {\n",
    "        \n",
    "    }\n",
    "}"
   ]
  },
  {
   "cell_type": "markdown",
   "metadata": {},
   "source": []
  },
  {
   "cell_type": "code",
   "execution_count": null,
   "metadata": {
    "vscode": {
     "languageId": "plaintext"
    }
   },
   "outputs": [],
   "source": [
    "impl Solution {\n",
    "    pub fn max_chunks_to_sorted(arr: Vec<i32>) -> i32 {\n",
    "        let mut chunk = 0;\n",
    "        let mut max = vec![0; arr.len()];\n",
    "        max[0] = arr[0];\n",
    "\n",
    "        for i in 1..arr.len() {\n",
    "            max[i] = max[i - 1].max(arr[i]);\n",
    "        }\n",
    "\n",
    "        for i in 0..arr.len() {\n",
    "            if max[i] == i as i32 {\n",
    "                chunk += 1;\n",
    "            }\n",
    "        }\n",
    "        chunk\n",
    "    }\n",
    "}"
   ]
  }
 ],
 "metadata": {
  "language_info": {
   "name": "python"
  }
 },
 "nbformat": 4,
 "nbformat_minor": 2
}
