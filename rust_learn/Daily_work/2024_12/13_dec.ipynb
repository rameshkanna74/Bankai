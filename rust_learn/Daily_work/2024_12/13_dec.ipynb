{
 "cells": [
  {
   "cell_type": "markdown",
   "metadata": {},
   "source": [
    "2593. Find Score of an Array After Marking All Elements\n",
    "      Medium\n",
    "      Topics\n",
    "      Companies\n",
    "      Hint\n",
    "\n",
    "You are given an array nums consisting of positive integers.\n",
    "\n",
    "Starting with score = 0, apply the following algorithm:\n",
    "\n",
    "    Choose the smallest integer of the array that is not marked. If there is a tie, choose the one with the smallest index.\n",
    "    Add the value of the chosen integer to score.\n",
    "    Mark the chosen element and its two adjacent elements if they exist.\n",
    "    Repeat until all the array elements are marked.\n",
    "\n",
    "Return the score you get after applying the above algorithm.\n",
    "\n",
    "Example 1:\n",
    "\n",
    "Input: nums = [2,1,3,4,5,2]\n",
    "Output: 7\n",
    "Explanation: We mark the elements as follows:\n",
    "\n",
    "- 1 is the smallest unmarked element, so we mark it and its two adjacent elements: [2,1,3,4,5,2].\n",
    "- 2 is the smallest unmarked element, so we mark it and its left adjacent element: [2,1,3,4,5,2].\n",
    "- 4 is the only remaining unmarked element, so we mark it: [2,1,3,4,5,2].\n",
    "  Our score is 1 + 2 + 4 = 7.\n",
    "\n",
    "Example 2:\n",
    "\n",
    "Input: nums = [2,3,5,1,3,2]\n",
    "Output: 5\n",
    "Explanation: We mark the elements as follows:\n",
    "\n",
    "- 1 is the smallest unmarked element, so we mark it and its two adjacent elements: [2,3,5,1,3,2].\n",
    "- 2 is the smallest unmarked element, since there are two of them, we choose the left-most one, so we mark the one at index 0 and its right adjacent element: [2,3,5,1,3,2].\n",
    "- 2 is the only remaining unmarked element, so we mark it: [2,3,5,1,3,2].\n",
    "  Our score is 1 + 2 + 2 = 5.\n",
    "\n",
    "Constraints:\n",
    "\n",
    "    1 <= nums.length <= 105\n",
    "    1 <= nums[i] <= 106\n",
    "\n",
    "---\n",
    "\n",
    "give best time and space complexity code in rust,give variables usefull name, add comments to explain the code way more clear,also add code to run example case, use below typing\n",
    "\n",
    "---\n",
    "\n",
    "impl Solution {\n",
    "    pub fn find_score(nums: Vec<i32>) -> i64 {\n",
    "        \n",
    "    }\n",
    "}"
   ]
  },
  {
   "cell_type": "markdown",
   "metadata": {},
   "source": []
  },
  {
   "cell_type": "code",
   "execution_count": null,
   "metadata": {
    "vscode": {
     "languageId": "plaintext"
    }
   },
   "outputs": [],
   "source": [
    "use std::collections::HashSet;\n",
    "impl Solution {\n",
    "    pub fn find_score(nums: Vec<i32>) -> i64 {\n",
    "        let mut res: i64 = 0;\n",
    "        let mut marks: HashSet<usize> = HashSet::with_capacity(nums.len());\n",
    "        // small to large\n",
    "        let mut stl = nums.into_iter().zip(0..).collect::<Vec<_>>();\n",
    "        stl.sort_unstable();\n",
    "        for (v, i) in stl {\n",
    "            if marks.contains(&i) {\n",
    "                continue;\n",
    "            }\n",
    "            res += v as i64;\n",
    "            marks.insert(i);\n",
    "            marks.insert(i.saturating_sub(1));\n",
    "            marks.insert(i + 1);\n",
    "        }\n",
    "        res\n",
    "    }\n",
    "}"
   ]
  },
  {
   "cell_type": "code",
   "execution_count": null,
   "metadata": {
    "vscode": {
     "languageId": "plaintext"
    }
   },
   "outputs": [],
   "source": [
    "impl Solution {\n",
    "    pub fn find_score(nums: Vec<i32>) -> i64 {\n",
    "        let     n      = nums.len();\n",
    "        let mut idxs   = (0..n).collect::<Vec<_>>();\n",
    "        let mut marked = vec![false; n + 2];\n",
    "        let mut score  = 0;\n",
    "\n",
    "        idxs.sort_unstable_by_key(|&i| (nums[i], i));\n",
    "\n",
    "        for i in idxs {\n",
    "            if !marked[i + 1] {\n",
    "                \n",
    "                score += nums[i] as i64;\n",
    "\n",
    "                marked[i    ] = true;\n",
    "                marked[i + 2] = true;\n",
    "            }\n",
    "        }\n",
    "        score\n",
    "    }\n",
    "}"
   ]
  },
  {
   "cell_type": "code",
   "execution_count": null,
   "metadata": {
    "vscode": {
     "languageId": "plaintext"
    }
   },
   "outputs": [],
   "source": [
    "impl Solution {\n",
    "    pub fn find_score(nums: Vec<i32>) -> i64 {\n",
    "        let mut nums = nums\n",
    "          .into_iter()\n",
    "          .enumerate()\n",
    "          .collect::<Vec<_>>();\n",
    "\n",
    "        nums.sort_unstable_by_key(|&(i, n)| (n, i));\n",
    "        let n = nums.len();\n",
    "\n",
    "        let mut occur = vec![0_u128; n / 128 + 1];\n",
    "        nums\n",
    "          .into_iter()\n",
    "          .fold(0_i64, |sum, (i, x)| {\n",
    "            if (occur[i / 128] >> (i % 128)) & 1 == 1 {\n",
    "                sum\n",
    "            } else {\n",
    "                if i > 0 {\n",
    "                    occur[(i - 1) / 128] |= 1 << ((i - 1) % 128);\n",
    "                }\n",
    "                if i < n - 1 {\n",
    "                    occur[(i + 1) / 128] |= 1 << ((i + 1) % 128);\n",
    "                }\n",
    "                //println!(\"{} {}\", i, occur[i / 64]);\n",
    "                sum + x as i64\n",
    "            }\n",
    "          })\n",
    "    }\n",
    "}"
   ]
  }
 ],
 "metadata": {
  "language_info": {
   "name": "python"
  }
 },
 "nbformat": 4,
 "nbformat_minor": 2
}
