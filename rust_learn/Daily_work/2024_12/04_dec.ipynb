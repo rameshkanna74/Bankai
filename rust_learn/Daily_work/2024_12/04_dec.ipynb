{
 "cells": [
  {
   "cell_type": "markdown",
   "metadata": {},
   "source": [
    "2825. Make String a Subsequence Using Cyclic Increments\n",
    "      Medium\n",
    "      Topics\n",
    "      Companies\n",
    "      Hint\n",
    "\n",
    "You are given two 0-indexed strings str1 and str2.\n",
    "\n",
    "In an operation, you select a set of indices in str1, and for each index i in the set, increment str1[i] to the next character cyclically. That is 'a' becomes 'b', 'b' becomes 'c', and so on, and 'z' becomes 'a'.\n",
    "\n",
    "Return true if it is possible to make str2 a subsequence of str1 by performing the operation at most once, and false otherwise.\n",
    "\n",
    "Note: A subsequence of a string is a new string that is formed from the original string by deleting some (possibly none) of the characters without disturbing the relative positions of the remaining characters.\n",
    "\n",
    "Example 1:\n",
    "\n",
    "Input: str1 = \"abc\", str2 = \"ad\"\n",
    "Output: true\n",
    "Explanation: Select index 2 in str1.\n",
    "Increment str1[2] to become 'd'.\n",
    "Hence, str1 becomes \"abd\" and str2 is now a subsequence. Therefore, true is returned.\n",
    "\n",
    "Example 2:\n",
    "\n",
    "Input: str1 = \"zc\", str2 = \"ad\"\n",
    "Output: true\n",
    "Explanation: Select indices 0 and 1 in str1.\n",
    "Increment str1[0] to become 'a'.\n",
    "Increment str1[1] to become 'd'.\n",
    "Hence, str1 becomes \"ad\" and str2 is now a subsequence. Therefore, true is returned.\n",
    "\n",
    "Example 3:\n",
    "\n",
    "Input: str1 = \"ab\", str2 = \"d\"\n",
    "Output: false\n",
    "Explanation: In this example, it can be shown that it is impossible to make str2 a subsequence of str1 using the operation at most once.\n",
    "Therefore, false is returned.\n",
    "\n",
    "Constraints:\n",
    "\n",
    "    1 <= str1.length <= 105\n",
    "    1 <= str2.length <= 105\n",
    "    str1 and str2 consist of only lowercase English letters.\n",
    "\n",
    "---\n",
    "\n",
    "give best time and space complexity code in rust,give variables usefull name, add comments to explain the code way more clear,also add code to run example case, use below typing\n",
    "\n",
    "---\n",
    "\n",
    "impl Solution {\n",
    "    pub fn can_make_subsequence(str1: String, str2: String) -> bool {\n",
    "        \n",
    "    }\n",
    "}"
   ]
  },
  {
   "cell_type": "markdown",
   "metadata": {},
   "source": []
  },
  {
   "cell_type": "code",
   "execution_count": null,
   "metadata": {
    "vscode": {
     "languageId": "plaintext"
    }
   },
   "outputs": [],
   "source": [
    "impl Solution {\n",
    "    pub fn can_make_subsequence(source: String, target: String) -> bool {\n",
    "        let mut target_idx = 0;\n",
    "        let target_len = target.len();\n",
    "        let target_bytes = target.as_bytes();\n",
    "        \n",
    "        for curr_char in source.bytes() {\n",
    "            if target_idx < target_len && \n",
    "               (target_bytes[target_idx] as i32 - curr_char as i32 + 26) % 26 <= 1 {\n",
    "                target_idx += 1;\n",
    "            }\n",
    "        }\n",
    "        target_idx == target_len\n",
    "    }\n",
    "}"
   ]
  }
 ],
 "metadata": {
  "language_info": {
   "name": "python"
  }
 },
 "nbformat": 4,
 "nbformat_minor": 2
}
