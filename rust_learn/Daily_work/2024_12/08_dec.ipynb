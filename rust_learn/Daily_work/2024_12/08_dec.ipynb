{
 "cells": [
  {
   "cell_type": "markdown",
   "metadata": {},
   "source": [
    "\n",
    "\n",
    "---\n",
    "\n",
    "give best time and space complexity code in rust,give variables usefull name, add comments to explain the code way more clear,also add code to run example case, use below typing\n",
    "\n",
    "---\n"
   ]
  },
  {
   "cell_type": "markdown",
   "metadata": {},
   "source": []
  },
  {
   "cell_type": "code",
   "execution_count": null,
   "metadata": {
    "vscode": {
     "languageId": "plaintext"
    }
   },
   "outputs": [],
   "source": [
    "impl Solution {\n",
    "    pub fn max_two_events(events: Vec<Vec<i32>>) -> i32 {\n",
    "        let n = events.len();\n",
    "\n",
    "        // Step 1: Sort the events by their start time\n",
    "        let mut events = events;\n",
    "        events.sort_by(|a, b| a[0].cmp(&b[0]));\n",
    "\n",
    "        // Step 2: Create the suffix array for the maximum event value from each event onward\n",
    "        let mut suffix_max = vec![0; n];\n",
    "        suffix_max[n - 1] = events[n - 1][2];  // Initialize the last event's value\n",
    "        \n",
    "        // Populate the suffix_max array\n",
    "        for i in (0..n - 1).rev() {\n",
    "            suffix_max[i] = suffix_max[i + 1].max(events[i][2]);\n",
    "        }\n",
    "\n",
    "        // Step 3: For each event, find the next event that starts after it ends\n",
    "        let mut max_sum = 0;\n",
    "\n",
    "        for i in 0..n {\n",
    "            let mut left = i + 1;\n",
    "            let mut right = n - 1;\n",
    "            let mut next_event_index = -1;\n",
    "\n",
    "            // Perform binary search to find the next non-overlapping event\n",
    "            while left <= right {\n",
    "                let mid = left + (right - left) / 2;\n",
    "                if events[mid][0] > events[i][1] {\n",
    "                    next_event_index = mid as i32;\n",
    "                    right = mid - 1;\n",
    "                } else {\n",
    "                    left = mid + 1;\n",
    "                }\n",
    "            }\n",
    "\n",
    "            // If a valid next event is found, update max_sum\n",
    "            if next_event_index != -1 {\n",
    "                let next_event_index = next_event_index as usize;\n",
    "                max_sum = max_sum.max(events[i][2] + suffix_max[next_event_index]);\n",
    "            }\n",
    "\n",
    "            // Also consider the case where we take only the current event\n",
    "            max_sum = max_sum.max(events[i][2]);\n",
    "        }\n",
    "\n",
    "        max_sum\n",
    "    }\n",
    "}\n"
   ]
  }
 ],
 "metadata": {
  "language_info": {
   "name": "python"
  }
 },
 "nbformat": 4,
 "nbformat_minor": 2
}
