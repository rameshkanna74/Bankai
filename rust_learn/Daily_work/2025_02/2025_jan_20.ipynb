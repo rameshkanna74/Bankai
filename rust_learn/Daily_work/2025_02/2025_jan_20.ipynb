{
 "cells": [
  {
   "cell_type": "markdown",
   "metadata": {},
   "source": [
    "1980. Find Unique Binary String\n",
    "\n",
    "    Medium\n",
    "    Topics\n",
    "    Companies\n",
    "    Hint\n",
    "\n",
    "Given an array of strings nums containing n unique binary strings each of length n, return a binary string of length n that does not appear in nums. If there are multiple answers, you may return any of them.\n",
    "\n",
    "Example 1:\n",
    "\n",
    "Input: nums = [\"01\",\"10\"]\n",
    "Output: \"11\"\n",
    "Explanation: \"11\" does not appear in nums. \"00\" would also be correct.\n",
    "Example 2:\n",
    "\n",
    "Input: nums = [\"00\",\"01\"]\n",
    "Output: \"11\"\n",
    "Explanation: \"11\" does not appear in nums. \"10\" would also be correct.\n",
    "Example 3:\n",
    "\n",
    "Input: nums = [\"111\",\"011\",\"001\"]\n",
    "Output: \"101\"\n",
    "Explanation: \"101\" does not appear in nums. \"000\", \"010\", \"100\", and \"110\" would also be correct.\n",
    "\n",
    "Constraints:\n",
    "\n",
    "n == nums.length\n",
    "1 <= n <= 16\n",
    "nums[i].length == n\n",
    "nums[i] is either '0' or '1'.\n",
    "All the strings of nums are unique.\n",
    "\n",
    "---\n",
    "\n",
    "give best time and space complexity code in rust,give variables usefull name, add comments to explain the code way more clear,also add code to run example case, use below typing\n",
    "\n",
    "---\n",
    "\n",
    "```rust\n",
    "impl Solution {\n",
    "    pub fn find_different_binary_string(nums: Vec<String>) -> String {\n",
    "        \n",
    "    }\n",
    "}\n",
    "```\n"
   ]
  },
  {
   "cell_type": "markdown",
   "metadata": {},
   "source": []
  },
  {
   "cell_type": "code",
   "execution_count": null,
   "metadata": {
    "vscode": {
     "languageId": "plaintext"
    }
   },
   "outputs": [],
   "source": [
    "impl Solution {\n",
    "    pub fn find_different_binary_string(nums: Vec<String>) -> String {\n",
    "        let mut appearances = [false; 2_usize.pow(16)];\n",
    "        let n = nums.len();\n",
    "        for num in nums {\n",
    "            let num = unsafe { usize::from_str_radix(&num, 2).unwrap_unchecked() };\n",
    "            appearances[num] = true;\n",
    "        }\n",
    "\n",
    "        let empty_spot = appearances\n",
    "            .iter()\n",
    "            .copied()\n",
    "            .enumerate()\n",
    "            .find(|&(_, appearance)| !appearance)\n",
    "            .unwrap()\n",
    "            .0;\n",
    "\n",
    "        format!(\"{:>0n$b}\", empty_spot)\n",
    "    }\n",
    "}"
   ]
  }
 ],
 "metadata": {
  "language_info": {
   "name": "python"
  }
 },
 "nbformat": 4,
 "nbformat_minor": 2
}
