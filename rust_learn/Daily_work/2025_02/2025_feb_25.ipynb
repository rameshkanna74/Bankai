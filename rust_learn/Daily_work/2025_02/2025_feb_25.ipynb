{
 "cells": [
  {
   "cell_type": "markdown",
   "metadata": {},
   "source": [
    "1524. Number of Sub-arrays With Odd Sum\n",
    "\n",
    "Medium\n",
    "Topics\n",
    "Companies\n",
    "Hint\n",
    "\n",
    "Given an array of integers arr, return the number of subarrays with an odd sum.\n",
    "\n",
    "Since the answer can be very large, return it modulo 109 + 7.\n",
    "\n",
    "Example 1:\n",
    "\n",
    "Input: arr = [1,3,5]\n",
    "Output: 4\n",
    "Explanation: All subarrays are [[1],[1,3],[1,3,5],[3],[3,5],[5]]\n",
    "All sub-arrays sum are [1,4,9,3,8,5].\n",
    "Odd sums are [1,9,3,5] so the answer is 4.\n",
    "Example 2:\n",
    "\n",
    "Input: arr = [2,4,6]\n",
    "Output: 0\n",
    "Explanation: All subarrays are [[2],[2,4],[2,4,6],[4],[4,6],[6]]\n",
    "All sub-arrays sum are [2,6,12,4,10,6].\n",
    "All sub-arrays have even sum and the answer is 0.\n",
    "Example 3:\n",
    "\n",
    "Input: arr = [1,2,3,4,5,6,7]\n",
    "Output: 16\n",
    "\n",
    "Constraints:\n",
    "\n",
    "1 <= arr.length <= 105\n",
    "1 <= arr[i] <= 100\n",
    "\n",
    "---\n",
    "\n",
    "give best time and space complexity code in rust to use in interview,give variables usefull name, add comments to explain the code way more clear,also add code to run example case, use below typing\n",
    "\n",
    "---\n",
    "\n",
    "```rust\n",
    "impl Solution {\n",
    "    pub fn num_of_subarrays(arr: Vec<i32>) -> i32 {\n",
    "\n",
    "    }\n",
    "}\n",
    "```\n"
   ]
  },
  {
   "cell_type": "markdown",
   "metadata": {},
   "source": []
  },
  {
   "cell_type": "code",
   "execution_count": null,
   "metadata": {},
   "outputs": [],
   "source": [
    "impl Solution {\n",
    "    pub fn num_of_subarrays(arr: Vec<i32>) -> i32 {\n",
    "        const MOD: i32 = 1_000_000_007;\n",
    "\n",
    "        let mut odd_count = 0;\n",
    "        let mut even_count = 0;\n",
    "\n",
    "        let mut result = 0;\n",
    "\n",
    "        for cur in arr {\n",
    "            (odd_count, even_count) = match cur & 1 {\n",
    "                0 => (odd_count, even_count + 1),\n",
    "                _ => (even_count + 1, odd_count),\n",
    "            };\n",
    "\n",
    "            result = (result + odd_count) % MOD;\n",
    "        }\n",
    "\n",
    "        result\n",
    "    }\n",
    "}"
   ]
  }
 ],
 "metadata": {
  "kernelspec": {
   "display_name": "Rust",
   "language": "rust",
   "name": "rust"
  },
  "language_info": {
   "name": "rust"
  }
 },
 "nbformat": 4,
 "nbformat_minor": 2
}
