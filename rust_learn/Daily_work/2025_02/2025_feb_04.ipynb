{
 "cells": [
  {
   "cell_type": "markdown",
   "metadata": {},
   "source": [
    "1800. Maximum Ascending Subarray Sum\n",
    "\n",
    "      Easy\n",
    "      Topics\n",
    "      Companies\n",
    "      Hint\n",
    "\n",
    "Given an array of positive integers nums, return the maximum possible sum of an ascending subarray in nums.\n",
    "\n",
    "A subarray is defined as a contiguous sequence of numbers in an array.\n",
    "\n",
    "A subarray [numsl, numsl+1, ..., numsr-1, numsr] is ascending if for all i where l <= i < r, numsi < numsi+1. Note that a subarray of size 1 is ascending.\n",
    "\n",
    "Example 1:\n",
    "\n",
    "Input: nums = [10,20,30,5,10,50]\n",
    "Output: 65\n",
    "Explanation: [5,10,50] is the ascending subarray with the maximum sum of 65.\n",
    "Example 2:\n",
    "\n",
    "Input: nums = [10,20,30,40,50]\n",
    "Output: 150\n",
    "Explanation: [10,20,30,40,50] is the ascending subarray with the maximum sum of 150.\n",
    "Example 3:\n",
    "\n",
    "Input: nums = [12,17,15,13,10,11,12]\n",
    "Output: 33\n",
    "Explanation: [10,11,12] is the ascending subarray with the maximum sum of 33.\n",
    "\n",
    "Constraints:\n",
    "\n",
    "1 <= nums.length <= 100\n",
    "1 <= nums[i] <= 100\n",
    "\n",
    "---\n",
    "\n",
    "give best time and space complexity code in rust to use in interview,give variables usefull name, add comments to explain the code way more clear,also add code to run example case, use below typing\n",
    "\n",
    "---\n",
    "\n",
    "```rust\n",
    "impl Solution {\n",
    "    pub fn max_ascending_sum(nums: Vec<i32>) -> i32 {\n",
    "        \n",
    "    }\n",
    "}\n",
    "```\n"
   ]
  },
  {
   "cell_type": "markdown",
   "metadata": {},
   "source": []
  },
  {
   "cell_type": "code",
   "execution_count": null,
   "metadata": {},
   "outputs": [],
   "source": [
    "impl Solution {\n",
    "    pub fn max_ascending_sum(nums: Vec<i32>) -> i32 {\n",
    "        let mut res = i32::MIN;\n",
    "        let mut curr = 0;\n",
    "\n",
    "        for i in 0..nums.len()-1 {\n",
    "            curr += nums[i];\n",
    "            if nums[i] >= nums[i+1] {\n",
    "                res = res.max(curr);\n",
    "                curr = 0;\n",
    "            }\n",
    "        }\n",
    "\n",
    "        res.max(curr + nums.last().unwrap())\n",
    "    }\n",
    "}"
   ]
  }
 ],
 "metadata": {
  "kernelspec": {
   "display_name": "Rust",
   "language": "rust",
   "name": "rust"
  },
  "language_info": {
   "name": "rust"
  }
 },
 "nbformat": 4,
 "nbformat_minor": 2
}
