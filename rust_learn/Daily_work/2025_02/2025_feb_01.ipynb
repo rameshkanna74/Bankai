{
 "cells": [
  {
   "cell_type": "markdown",
   "metadata": {},
   "source": [
    "3151. Special Array I\n",
    "\n",
    "    Easy\n",
    "    Topics\n",
    "    Companies\n",
    "    Hint\n",
    "\n",
    "An array is considered special if every pair of its adjacent elements contains two numbers with different parity.\n",
    "\n",
    "You are given an array of integers nums. Return true if nums is a special array, otherwise, return false.\n",
    "\n",
    "Example 1:\n",
    "\n",
    "Input: nums = [1]\n",
    "\n",
    "Output: true\n",
    "\n",
    "Explanation:\n",
    "\n",
    "There is only one element. So the answer is true.\n",
    "\n",
    "Example 2:\n",
    "\n",
    "Input: nums = [2,1,4]\n",
    "\n",
    "Output: true\n",
    "\n",
    "Explanation:\n",
    "\n",
    "There is only two pairs: (2,1) and (1,4), and both of them contain numbers with different parity. So the answer is true.\n",
    "\n",
    "Example 3:\n",
    "\n",
    "Input: nums = [4,3,1,6]\n",
    "\n",
    "Output: false\n",
    "\n",
    "Explanation:\n",
    "\n",
    "nums[1] and nums[2] are both odd. So the answer is false.\n",
    "\n",
    "Constraints:\n",
    "\n",
    "1 <= nums.length <= 100\n",
    "1 <= nums[i] <= 100\n",
    "\n",
    "---\n",
    "\n",
    "give best time and space complexity code in rust,give variables usefull name, add comments to explain the code way more clear,also add code to run example case, use below typing\n",
    "\n",
    "---\n",
    "\n",
    "```rust\n",
    "impl Solution {\n",
    "    pub fn is_array_special(nums: Vec<i32>) -> bool {\n",
    "        \n",
    "    }\n",
    "}\n",
    "```\n"
   ]
  },
  {
   "cell_type": "markdown",
   "metadata": {},
   "source": []
  },
  {
   "cell_type": "code",
   "execution_count": null,
   "metadata": {},
   "outputs": [],
   "source": [
    "impl Solution {\n",
    "    pub fn is_array_special(nums: Vec<i32>) -> bool {\n",
    "        nums.windows(2).all(|v| (v[0] ^ v[1]) & 1 == 1)\n",
    "    }\n",
    "}"
   ]
  }
 ],
 "metadata": {
  "kernelspec": {
   "display_name": "Rust",
   "language": "rust",
   "name": "rust"
  },
  "language_info": {
   "name": "rust"
  }
 },
 "nbformat": 4,
 "nbformat_minor": 2
}
