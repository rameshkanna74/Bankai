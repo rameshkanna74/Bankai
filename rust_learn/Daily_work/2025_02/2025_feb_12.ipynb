{
 "cells": [
  {
   "cell_type": "markdown",
   "metadata": {},
   "source": [
    "2342. Max Sum of a Pair With Equal Sum of Digits\n",
    "\n",
    "    Medium\n",
    "    Topics\n",
    "    Companies\n",
    "    Hint\n",
    "\n",
    "You are given a 0-indexed array nums consisting of positive integers. You can choose two indices i and j, such that i != j, and the sum of digits of the number nums[i] is equal to that of nums[j].\n",
    "\n",
    "Return the maximum value of nums[i] + nums[j] that you can obtain over all possible indices i and j that satisfy the conditions.\n",
    "\n",
    "Example 1:\n",
    "\n",
    "Input: nums = [18,43,36,13,7]\n",
    "Output: 54\n",
    "Explanation: The pairs (i, j) that satisfy the conditions are:\n",
    "\n",
    "- (0, 2), both numbers have a sum of digits equal to 9, and their sum is 18 + 36 = 54.\n",
    "- (1, 4), both numbers have a sum of digits equal to 7, and their sum is 43 + 7 = 50.\n",
    "  So the maximum sum that we can obtain is 54.\n",
    "  Example 2:\n",
    "\n",
    "Input: nums = [10,12,19,14]\n",
    "Output: -1\n",
    "Explanation: There are no two numbers that satisfy the conditions, so we return -1.\n",
    "\n",
    "Constraints:\n",
    "\n",
    "1 <= nums.length <= 105\n",
    "1 <= nums[i] <= 109\n",
    "\n",
    "---\n",
    "\n",
    "give best time and space complexity code in rust to use in interview,give variables usefull name, add comments to explain the code way more clear,also add code to run example case, use below typing\n",
    "\n",
    "---\n",
    "\n",
    "```rust\n",
    "impl Solution {\n",
    "    pub fn maximum_sum(nums: Vec<i32>) -> i32 {\n",
    "\n",
    "    }\n",
    "}\n",
    "```\n"
   ]
  },
  {
   "cell_type": "markdown",
   "metadata": {},
   "source": []
  },
  {
   "cell_type": "code",
   "execution_count": null,
   "metadata": {
    "vscode": {
     "languageId": "plaintext"
    }
   },
   "outputs": [],
   "source": [
    "impl Solution {\n",
    "    pub fn maximum_sum(nums: Vec<i32>) -> i32 {\n",
    "        // 1 = 1\n",
    "        // 9+9+9+9+9+9+9+9+9 = 81\n",
    "        nums.into_iter()\n",
    "            .scan([0; 81], |sum_digits_nums, num| {\n",
    "                let sum_digit = {\n",
    "                    let mut num = num;\n",
    "                    let mut sum_digit = 0;\n",
    "                    while num > 0 {\n",
    "                        sum_digit += (num % 10) as usize;\n",
    "                        num /= 10;\n",
    "                    }\n",
    "                    sum_digit\n",
    "                };\n",
    "                let entry = &mut sum_digits_nums[sum_digit - 1];\n",
    "\n",
    "                if *entry == 0 {\n",
    "                    *entry = num;\n",
    "                    return Some(-1);\n",
    "                }\n",
    "\n",
    "                let old_num = *entry;\n",
    "                *entry = old_num.max(num);\n",
    "\n",
    "                Some(old_num + num)\n",
    "            })\n",
    "            .max()\n",
    "            .unwrap()\n",
    "    }\n",
    "}"
   ]
  }
 ],
 "metadata": {
  "language_info": {
   "name": "python"
  }
 },
 "nbformat": 4,
 "nbformat_minor": 2
}
