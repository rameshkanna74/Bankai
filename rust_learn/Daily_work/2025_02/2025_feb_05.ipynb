{
 "cells": [
  {
   "cell_type": "markdown",
   "metadata": {},
   "source": [
    "1790. Check if One String Swap Can Make Strings Equal\n",
    "\n",
    "    Easy\n",
    "    Topics\n",
    "    Companies\n",
    "    Hint\n",
    "\n",
    "You are given two strings s1 and s2 of equal length. A string swap is an operation where you choose two indices in a string (not necessarily different) and swap the characters at these indices.\n",
    "\n",
    "Return true if it is possible to make both strings equal by performing at most one string swap on exactly one of the strings. Otherwise, return false.\n",
    "\n",
    "Example 1:\n",
    "\n",
    "Input: s1 = \"bank\", s2 = \"kanb\"\n",
    "Output: true\n",
    "Explanation: For example, swap the first character with the last character of s2 to make \"bank\".\n",
    "Example 2:\n",
    "\n",
    "Input: s1 = \"attack\", s2 = \"defend\"\n",
    "Output: false\n",
    "Explanation: It is impossible to make them equal with one string swap.\n",
    "Example 3:\n",
    "\n",
    "Input: s1 = \"kelb\", s2 = \"kelb\"\n",
    "Output: true\n",
    "Explanation: The two strings are already equal, so no string swap operation is required.\n",
    "\n",
    "Constraints:\n",
    "\n",
    "1 <= s1.length, s2.length <= 100\n",
    "s1.length == s2.length\n",
    "s1 and s2 consist of only lowercase English letters.\n",
    "\n",
    "---\n",
    "\n",
    "give best time and space complexity code in rust to use in interview,give variables usefull name, add comments to explain the code way more clear,also add code to run example case, use below typing\n",
    "\n",
    "---\n",
    "\n",
    "```rust\n",
    "impl Solution {\n",
    "    pub fn are_almost_equal(s1: String, s2: String) -> bool {\n",
    "        \n",
    "    }\n",
    "}\n",
    "```\n"
   ]
  },
  {
   "cell_type": "markdown",
   "metadata": {},
   "source": []
  },
  {
   "cell_type": "code",
   "execution_count": null,
   "metadata": {},
   "outputs": [],
   "source": [
    "impl Solution {\n",
    "    pub fn are_almost_equal(s1: String, s2: String) -> bool {\n",
    "        let mut iter = s1.bytes().zip(s2.bytes()).filter(|(b1, b2)| b1 != b2);\n",
    "\n",
    "        let Some(first_diff) = iter.next() else {\n",
    "            return true; // no diff = strings are equal!\n",
    "        };\n",
    "\n",
    "        let Some(second_diff) = iter.next() else {\n",
    "            return false; // unfortunately, if there's only one diff, we can't make them equal by swaping with any\n",
    "        };\n",
    "\n",
    "        if iter.next().is_some() {\n",
    "            false // more? we can only swap once, sr\n",
    "        } else {\n",
    "            first_diff.0 == second_diff.1 && first_diff.1 == second_diff.0\n",
    "        }\n",
    "    }\n",
    "}"
   ]
  }
 ],
 "metadata": {
  "kernelspec": {
   "display_name": "Rust",
   "language": "rust",
   "name": "rust"
  },
  "language_info": {
   "name": "rust"
  }
 },
 "nbformat": 4,
 "nbformat_minor": 2
}
