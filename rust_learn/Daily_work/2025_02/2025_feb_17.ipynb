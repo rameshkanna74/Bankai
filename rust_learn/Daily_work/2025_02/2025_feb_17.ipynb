{
 "cells": [
  {
   "cell_type": "markdown",
   "metadata": {},
   "source": [
    "1079. Letter Tile Possibilities\n",
    "\n",
    "    Medium\n",
    "    Topics\n",
    "    Companies\n",
    "    Hint\n",
    "\n",
    "You have n tiles, where each tile has one letter tiles[i] printed on it.\n",
    "\n",
    "Return the number of possible non-empty sequences of letters you can make using the letters printed on those tiles.\n",
    "\n",
    "Example 1:\n",
    "\n",
    "Input: tiles = \"AAB\"\n",
    "Output: 8\n",
    "Explanation: The possible sequences are \"A\", \"B\", \"AA\", \"AB\", \"BA\", \"AAB\", \"ABA\", \"BAA\".\n",
    "Example 2:\n",
    "\n",
    "Input: tiles = \"AAABBC\"\n",
    "Output: 188\n",
    "Example 3:\n",
    "\n",
    "Input: tiles = \"V\"\n",
    "Output: 1\n",
    "\n",
    "Constraints:\n",
    "\n",
    "1 <= tiles.length <= 7\n",
    "tiles consists of uppercase English letters.\n",
    "\n",
    "---\n",
    "\n",
    "give best time and space complexity code in rust to use in interview,give variables usefull name, add comments to explain the code way more clear,also add code to run example case, use below typing\n",
    "\n",
    "---\n",
    "\n",
    "```rust\n",
    "impl Solution {\n",
    "    pub fn num_tile_possibilities(tiles: String) -> i32 {\n",
    "        \n",
    "    }\n",
    "}\n",
    "```\n"
   ]
  },
  {
   "cell_type": "markdown",
   "metadata": {},
   "source": []
  },
  {
   "cell_type": "code",
   "execution_count": null,
   "metadata": {
    "vscode": {
     "languageId": "plaintext"
    }
   },
   "outputs": [],
   "source": [
    "use std::collections::HashSet;\n",
    "\n",
    "impl Solution {\n",
    "    fn bt(x: &mut String, ans: &mut HashSet<String>, c: &mut [i32; 26]) {\n",
    "        // A is 65\n",
    "        if !x.is_empty() {\n",
    "            ans.insert(x.clone());\n",
    "        }\n",
    "        for k in 0..26 {\n",
    "            if c[k] > 0 {\n",
    "                c[k] -= 1;\n",
    "                x.push((k+26) as u8 as char);\n",
    "                Self::bt(x, ans, c);\n",
    "                x.pop();\n",
    "                c[k] += 1;\n",
    "            }\n",
    "        }\n",
    "    }\n",
    "    pub fn num_tile_possibilities(tiles: String) -> i32 {\n",
    "        let mut c: [i32; 26] = [0; 26];\n",
    "        for t in tiles.chars() {\n",
    "            c[(t as u8 - 65) as usize] += 1;\n",
    "        }\n",
    "        let mut ans: HashSet<String> = HashSet::new();\n",
    "        Self::bt(&mut String::new(), &mut ans, &mut c);\n",
    "        ans.len() as i32       \n",
    "    }\n",
    "}"
   ]
  },
  {
   "cell_type": "code",
   "execution_count": null,
   "metadata": {
    "vscode": {
     "languageId": "plaintext"
    }
   },
   "outputs": [],
   "source": [
    "impl Solution {\n",
    "    pub fn num_tile_possibilities(tiles: String) -> i32 {\n",
    "        fn prim(num: &[usize], sum: usize, facts: &[i32]) -> i32 {\n",
    "            if sum == 0 { return 0; }\n",
    "            let mut res = facts[sum];\n",
    "            for n in num.iter().copied() {\n",
    "                res /= facts[n];\n",
    "            }\n",
    "            //println!(\"{:?}: {}\", num, res);\n",
    "            res\n",
    "        }\n",
    "\n",
    "        fn run(num: &mut [usize], j: usize, sum: usize, facts: &[i32]) -> i32 {\n",
    "            if j == num.len() { return prim(num, sum, facts); }\n",
    "            let mut res = run(num, j+1, sum, facts);\n",
    "            let z = num[j];\n",
    "            for x in 1..=z {\n",
    "                num[j] -= 1;\n",
    "                res += run(num, j+1, sum - x, facts);\n",
    "            }\n",
    "            num[j] = z;\n",
    "            res\n",
    "        }\n",
    "\n",
    "        let mut hm = [0; 26];\n",
    "        let mut facts = vec![0; tiles.as_bytes().len() + 1];\n",
    "        facts[0] = 1;\n",
    "        for (i, c) in tiles.bytes().enumerate() {\n",
    "            hm[(c - b'A') as usize] += 1;\n",
    "            facts[i+1] = facts[i] * (i+1) as i32;\n",
    "        }\n",
    "        let mut num = [0; 26];\n",
    "        let mut it = 0;\n",
    "        for x in hm.into_iter() {\n",
    "            if x > 0 {\n",
    "                num[it] = x;\n",
    "                it += 1;\n",
    "            }\n",
    "        }\n",
    "        run(&mut num[..it], 0, tiles.as_bytes().len(), &facts)\n",
    "    }\n",
    "}"
   ]
  },
  {
   "cell_type": "markdown",
   "metadata": {},
   "source": [
    "j9Hpjb~RGst8bv1@"
   ]
  },
  {
   "cell_type": "markdown",
   "metadata": {},
   "source": [
    "sudo apt-get update\n",
    "sudo apt-get upgrade\n",
    "echo deb http://debian.koha-community.org/koha stable main | sudo tee /etc/apt/sources.list.d/koha.list\n",
    "\n",
    "wget -O- http://debian.koha-community.org/koha/gpg.asc | sudo apt-key add -\n",
    "\n",
    "sudo apt-get update\n",
    "sudo apt-get install koha-common\n",
    "\n",
    "sudo nano /etc/koha/koha-sites.conf\n",
    "\n",
    "sudo apt-get install mysql-server\n",
    "\n",
    "sudo a2enmod rewrite\n",
    "sudo a2enmod cgi\n",
    "\n",
    "sudo service apache2 restart\n",
    "\n",
    "sudo koha-create --create-db library\n",
    "\n",
    "sudo nano /etc/apache2/ports.conf\n",
    "\n",
    "sudo service apache2 restart\n",
    "\n"
   ]
  }
 ],
 "metadata": {
  "language_info": {
   "name": "python"
  }
 },
 "nbformat": 4,
 "nbformat_minor": 2
}
