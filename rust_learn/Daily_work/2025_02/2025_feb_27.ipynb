{
 "cells": [
  {
   "cell_type": "markdown",
   "metadata": {},
   "source": [
    "873. Length of Longest Fibonacci Subsequence\n",
    "\n",
    "Medium\n",
    "Topics\n",
    "Companies\n",
    "\n",
    "A sequence x1, x2, ..., xn is Fibonacci-like if:\n",
    "\n",
    "n >= 3\n",
    "xi + xi+1 == xi+2 for all i + 2 <= n\n",
    "Given a strictly increasing array arr of positive integers forming a sequence, return the length of the longest Fibonacci-like subsequence of arr. If one does not exist, return 0.\n",
    "\n",
    "A subsequence is derived from another sequence arr by deleting any number of elements (including none) from arr, without changing the order of the remaining elements. For example, [3, 5, 8] is a subsequence of [3, 4, 5, 6, 7, 8].\n",
    "\n",
    "Example 1:\n",
    "\n",
    "Input: arr = [1,2,3,4,5,6,7,8]\n",
    "Output: 5\n",
    "Explanation: The longest subsequence that is fibonacci-like: [1,2,3,5,8].\n",
    "Example 2:\n",
    "\n",
    "Input: arr = [1,3,7,11,12,14,18]\n",
    "Output: 3\n",
    "Explanation: The longest subsequence that is fibonacci-like: [1,11,12], [3,11,14] or [7,11,18].\n",
    "\n",
    "Constraints:\n",
    "\n",
    "3 <= arr.length <= 1000\n",
    "1 <= arr[i] < arr[i + 1] <= 109\n",
    "\n",
    "---\n",
    "\n",
    "give best time and space complexity code in rust to use in interview,give variables usefull name, add comments to explain the code way more clear,also add code to run example case, use below typing\n",
    "\n",
    "---\n",
    "\n",
    "```rust\n",
    "impl Solution {\n",
    "    pub fn len_longest_fib_subseq(arr: Vec<i32>) -> i32 {\n",
    "\n",
    "    }\n",
    "}\n",
    "```\n"
   ]
  },
  {
   "cell_type": "markdown",
   "metadata": {},
   "source": []
  },
  {
   "cell_type": "code",
   "execution_count": null,
   "metadata": {
    "vscode": {
     "languageId": "plaintext"
    }
   },
   "outputs": [],
   "source": []
  }
 ],
 "metadata": {
  "language_info": {
   "name": "python"
  }
 },
 "nbformat": 4,
 "nbformat_minor": 2
}
