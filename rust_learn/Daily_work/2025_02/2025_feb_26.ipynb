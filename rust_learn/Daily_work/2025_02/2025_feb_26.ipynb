{
 "cells": [
  {
   "cell_type": "markdown",
   "metadata": {},
   "source": [
    "1749. Maximum Absolute Sum of Any Subarray\n",
    "\n",
    "Medium\n",
    "Topics\n",
    "Companies\n",
    "Hint\n",
    "\n",
    "You are given an integer array nums. The absolute sum of a subarray [numsl, numsl+1, ..., numsr-1, numsr] is abs(numsl + numsl+1 + ... + numsr-1 + numsr).\n",
    "\n",
    "Return the maximum absolute sum of any (possibly empty) subarray of nums.\n",
    "\n",
    "Note that abs(x) is defined as follows:\n",
    "\n",
    "If x is a negative integer, then abs(x) = -x.\n",
    "If x is a non-negative integer, then abs(x) = x.\n",
    "\n",
    "Example 1:\n",
    "\n",
    "Input: nums = [1,-3,2,3,-4]\n",
    "Output: 5\n",
    "Explanation: The subarray [2,3] has absolute sum = abs(2+3) = abs(5) = 5.\n",
    "Example 2:\n",
    "\n",
    "Input: nums = [2,-5,1,-4,3,-2]\n",
    "Output: 8\n",
    "Explanation: The subarray [-5,1,-4] has absolute sum = abs(-5+1-4) = abs(-8) = 8.\n",
    "\n",
    "Constraints:\n",
    "\n",
    "1 <= nums.length <= 105\n",
    "-104 <= nums[i] <= 104\n",
    "\n",
    "---\n",
    "\n",
    "give best time and space complexity code in rust to use in interview,give variables usefull name, add comments to explain the code way more clear,also add code to run example case, use below typing\n",
    "\n",
    "---\n",
    "\n",
    "```rust\n",
    "impl Solution {\n",
    "    pub fn max_absolute_sum(nums: Vec<i32>) -> i32 {\n",
    "\n",
    "    }\n",
    "}\n",
    "```\n"
   ]
  },
  {
   "cell_type": "markdown",
   "metadata": {},
   "source": []
  },
  {
   "cell_type": "code",
   "execution_count": null,
   "metadata": {
    "vscode": {
     "languageId": "plaintext"
    }
   },
   "outputs": [],
   "source": [
    "impl Solution {\n",
    "    pub fn max_absolute_sum(nums: Vec<i32>) -> i32 {\n",
    "        let (mut cur_positive_sum, mut cur_negative_sum, mut max_abs_sum) = (0, 0, 0);\n",
    "\n",
    "        for num in nums {\n",
    "            cur_positive_sum = (cur_positive_sum + num).max(0);\n",
    "            cur_negative_sum = (cur_negative_sum - num).max(0);\n",
    "            max_abs_sum = max_abs_sum.max(cur_positive_sum).max(cur_negative_sum);\n",
    "        }\n",
    "\n",
    "        max_abs_sum\n",
    "    }\n",
    "}"
   ]
  }
 ],
 "metadata": {
  "language_info": {
   "name": "python"
  }
 },
 "nbformat": 4,
 "nbformat_minor": 2
}
