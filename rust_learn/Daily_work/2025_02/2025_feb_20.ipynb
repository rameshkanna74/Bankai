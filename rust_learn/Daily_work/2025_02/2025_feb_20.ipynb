{
 "cells": [
  {
   "cell_type": "markdown",
   "metadata": {},
   "source": [
    "\n",
    "---\n",
    "\n",
    "give best time and space complexity code in rust to use in interview,give variables usefull name, add comments to explain the code way more clear,also add code to run example case, use below typing\n",
    "\n",
    "---\n",
    "```rust\n",
    "```\n"
   ]
  },
  {
   "cell_type": "markdown",
   "metadata": {},
   "source": []
  },
  {
   "cell_type": "code",
   "execution_count": null,
   "metadata": {
    "vscode": {
     "languageId": "plaintext"
    }
   },
   "outputs": [],
   "source": [
    "impl Solution {\n",
    "    pub fn find_different_binary_string(nums: Vec<String>) -> String {\n",
    "        let mut visited = [false; 17];\n",
    "        for s in nums.iter() {\n",
    "            let x = i32::from_str_radix(s, 2).unwrap();\n",
    "            if x < 16 {\n",
    "                visited[x as usize] = true;\n",
    "            }\n",
    "        }\n",
    "        for i in 0..17 {\n",
    "            if !visited[i] {\n",
    "                return format!(\"{:0len$b}\", i, len = nums.len());\n",
    "            }\n",
    "        }\n",
    "        unreachable!()\n",
    "    }\n",
    "}"
   ]
  }
 ],
 "metadata": {
  "language_info": {
   "name": "python"
  }
 },
 "nbformat": 4,
 "nbformat_minor": 2
}
