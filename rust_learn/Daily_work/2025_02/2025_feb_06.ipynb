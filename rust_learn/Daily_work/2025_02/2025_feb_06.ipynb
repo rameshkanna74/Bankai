{
 "cells": [
  {
   "cell_type": "markdown",
   "metadata": {},
   "source": [
    "1726. Tuple with Same Product\n",
    "\n",
    "      Medium\n",
    "      Topics\n",
    "      Companies\n",
    "      Hint\n",
    "\n",
    "Given an array nums of distinct positive integers, return the number of tuples (a, b, c, d) such that a _ b = c _ d where a, b, c, and d are elements of nums, and a != b != c != d.\n",
    "\n",
    "Example 1:\n",
    "\n",
    "Input: nums = [2,3,4,6]\n",
    "Output: 8\n",
    "Explanation: There are 8 valid tuples:\n",
    "(2,6,3,4) , (2,6,4,3) , (6,2,3,4) , (6,2,4,3)\n",
    "(3,4,2,6) , (4,3,2,6) , (3,4,6,2) , (4,3,6,2)\n",
    "Example 2:\n",
    "\n",
    "Input: nums = [1,2,4,5,10]\n",
    "Output: 16\n",
    "Explanation: There are 16 valid tuples:\n",
    "(1,10,2,5) , (1,10,5,2) , (10,1,2,5) , (10,1,5,2)\n",
    "(2,5,1,10) , (2,5,10,1) , (5,2,1,10) , (5,2,10,1)\n",
    "(2,10,4,5) , (2,10,5,4) , (10,2,4,5) , (10,2,5,4)\n",
    "(4,5,2,10) , (4,5,10,2) , (5,4,2,10) , (5,4,10,2)\n",
    "\n",
    "Constraints:\n",
    "\n",
    "1 <= nums.length <= 1000\n",
    "1 <= nums[i] <= 104\n",
    "All elements in nums are distinct.\n",
    "\n",
    "---\n",
    "\n",
    "give best time and space complexity code in rust to use in interview,give variables usefull name, add comments to explain the code way more clear,also add code to run example case, use below typing\n",
    "\n",
    "---\n",
    "\n",
    "```rust\n",
    "impl Solution {\n",
    "    pub fn tuple_same_product(nums: Vec<i32>) -> i32 {\n",
    "        \n",
    "    }\n",
    "}\n",
    "```\n"
   ]
  },
  {
   "cell_type": "markdown",
   "metadata": {},
   "source": []
  },
  {
   "cell_type": "code",
   "execution_count": null,
   "metadata": {},
   "outputs": [],
   "source": [
    "use std::collections::HashMap;\n",
    "\n",
    "impl Solution {\n",
    "    pub fn tuple_same_product(nums: Vec<i32>) -> i32 {\n",
    "        nums.iter()\n",
    "            .enumerate()\n",
    "            .flat_map(|(i, &a)| nums[i + 1..].iter().map(move |&b| a * b))\n",
    "            .scan(HashMap::new(), |product_counts, product| {\n",
    "                let product_count = product_counts.entry(product).or_insert(0);\n",
    "                *product_count += 1;\n",
    "                Some(*product_count - 1)\n",
    "            })\n",
    "            .sum::<i32>()\n",
    "            * 8\n",
    "    }\n",
    "}"
   ]
  }
 ],
 "metadata": {
  "kernelspec": {
   "display_name": "Rust",
   "language": "rust",
   "name": "rust"
  },
  "language_info": {
   "name": "rust"
  }
 },
 "nbformat": 4,
 "nbformat_minor": 2
}
