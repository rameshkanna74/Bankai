{
 "cells": [
  {
   "cell_type": "markdown",
   "metadata": {},
   "source": [
    "2270. Number of Ways to Split Array\n",
    "      Medium\n",
    "      Topics\n",
    "      Companies\n",
    "      Hint\n",
    "      You are given a 0-indexed integer array nums of length n.\n",
    "\n",
    "nums contains a valid split at index i if the following are true:\n",
    "\n",
    "The sum of the first i + 1 elements is greater than or equal to the sum of the last n - i - 1 elements.\n",
    "There is at least one element to the right of i. That is, 0 <= i < n - 1.\n",
    "Return the number of valid splits in nums.\n",
    "\n",
    "Example 1:\n",
    "\n",
    "Input: nums = [10,4,-8,7]\n",
    "Output: 2\n",
    "Explanation:\n",
    "There are three ways of splitting nums into two non-empty parts:\n",
    "\n",
    "- Split nums at index 0. Then, the first part is [10], and its sum is 10. The second part is [4,-8,7], and its sum is 3. Since 10 >= 3, i = 0 is a valid split.\n",
    "- Split nums at index 1. Then, the first part is [10,4], and its sum is 14. The second part is [-8,7], and its sum is -1. Since 14 >= -1, i = 1 is a valid split.\n",
    "- Split nums at index 2. Then, the first part is [10,4,-8], and its sum is 6. The second part is [7], and its sum is 7. Since 6 < 7, i = 2 is not a valid split.\n",
    "  Thus, the number of valid splits in nums is 2.\n",
    "  Example 2:\n",
    "\n",
    "Input: nums = [2,3,1,0]\n",
    "Output: 2\n",
    "Explanation:\n",
    "There are two valid splits in nums:\n",
    "\n",
    "- Split nums at index 1. Then, the first part is [2,3], and its sum is 5. The second part is [1,0], and its sum is 1. Since 5 >= 1, i = 1 is a valid split.\n",
    "- Split nums at index 2. Then, the first part is [2,3,1], and its sum is 6. The second part is [0], and its sum is 0. Since 6 >= 0, i = 2 is a valid split.\n",
    "\n",
    "Constraints:\n",
    "\n",
    "2 <= nums.length <= 105\n",
    "-105 <= nums[i] <= 105\n",
    "\n",
    "---\n",
    "\n",
    "give best time and space complexity code in rust,give variables usefull name, add comments to explain the code way more clear,also add code to run example case, use below typing\n",
    "\n",
    "---\n",
    "\n",
    "```rust\n",
    "impl Solution {\n",
    "    pub fn ways_to_split_array(nums: Vec<i32>) -> i32 {\n",
    "        \n",
    "    }\n",
    "}\n",
    "```\n"
   ]
  },
  {
   "cell_type": "markdown",
   "metadata": {},
   "source": []
  },
  {
   "cell_type": "code",
   "execution_count": null,
   "metadata": {
    "vscode": {
     "languageId": "plaintext"
    }
   },
   "outputs": [],
   "source": [
    "impl Solution {\n",
    "    pub fn ways_to_split_array(nums: Vec<i32>) -> i32 {\n",
    "        let mut acc = nums.iter().map(|&x| x as i64).sum::<i64>();\n",
    "        let mut ans = 0;\n",
    "        let mut iter = nums.iter();\n",
    "        iter.next_back(); // skip the last element.\n",
    "        for &x in iter {\n",
    "            acc -= x as i64 * 2;\n",
    "            if acc <= 0 {\n",
    "                ans += 1;\n",
    "            }\n",
    "        }\n",
    "        ans\n",
    "    }\n",
    "}"
   ]
  }
 ],
 "metadata": {
  "language_info": {
   "name": "python"
  }
 },
 "nbformat": 4,
 "nbformat_minor": 2
}
