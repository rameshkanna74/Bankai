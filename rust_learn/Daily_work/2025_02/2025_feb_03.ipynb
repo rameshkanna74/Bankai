{
 "cells": [
  {
   "cell_type": "markdown",
   "metadata": {},
   "source": [
    "3105. Longest Strictly Increasing or Strictly Decreasing Subarray\n",
    "      Solved\n",
    "      Easy\n",
    "      Topics\n",
    "      Companies\n",
    "\n",
    "You are given an array of integers nums. Return the length of the longest subarray of nums which is either strictly increasing or strictly decreasing.\n",
    "\n",
    "Example 1:\n",
    "\n",
    "Input: nums = [1,4,3,3,2]\n",
    "\n",
    "Output: 2\n",
    "\n",
    "Explanation:\n",
    "\n",
    "The strictly increasing subarrays of nums are [1], [2], [3], [3], [4], and [1,4].\n",
    "\n",
    "The strictly decreasing subarrays of nums are [1], [2], [3], [3], [4], [3,2], and [4,3].\n",
    "\n",
    "Hence, we return 2.\n",
    "\n",
    "Example 2:\n",
    "\n",
    "Input: nums = [3,3,3,3]\n",
    "\n",
    "Output: 1\n",
    "\n",
    "Explanation:\n",
    "\n",
    "The strictly increasing subarrays of nums are [3], [3], [3], and [3].\n",
    "\n",
    "The strictly decreasing subarrays of nums are [3], [3], [3], and [3].\n",
    "\n",
    "Hence, we return 1.\n",
    "\n",
    "Example 3:\n",
    "\n",
    "Input: nums = [3,2,1]\n",
    "\n",
    "Output: 3\n",
    "\n",
    "Explanation:\n",
    "\n",
    "The strictly increasing subarrays of nums are [3], [2], and [1].\n",
    "\n",
    "The strictly decreasing subarrays of nums are [3], [2], [1], [3,2], [2,1], and [3,2,1].\n",
    "\n",
    "Hence, we return 3.\n",
    "\n",
    "Constraints:\n",
    "\n",
    "1 <= nums.length <= 50\n",
    "1 <= nums[i] <= 50\n",
    "\n",
    "---\n",
    "\n",
    "give best time and space complexity code in rust to use in interview,give variables usefull name, add comments to explain the code way more clear,also add code to run example case, use below typing\n",
    "\n",
    "---\n",
    "\n",
    "```rust\n",
    "impl Solution {\n",
    "    pub fn longest_monotonic_subarray(nums: Vec<i32>) -> i32 {\n",
    "        \n",
    "    }\n",
    "}\n",
    "```\n"
   ]
  },
  {
   "cell_type": "markdown",
   "metadata": {},
   "source": []
  },
  {
   "cell_type": "code",
   "execution_count": null,
   "metadata": {
    "vscode": {
     "languageId": "plaintext"
    }
   },
   "outputs": [],
   "source": []
  }
 ],
 "metadata": {
  "language_info": {
   "name": "python"
  }
 },
 "nbformat": 4,
 "nbformat_minor": 2
}
