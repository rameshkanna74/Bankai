{
 "cells": [
  {
   "cell_type": "markdown",
   "metadata": {},
   "source": [
    "2364. Count Number of Bad Pairs\n",
    "\n",
    "      Medium\n",
    "      Topics\n",
    "      Companies\n",
    "      Hint\n",
    "\n",
    "You are given a 0-indexed integer array nums. A pair of indices (i, j) is a bad pair if i < j and j - i != nums[j] - nums[i].\n",
    "\n",
    "Return the total number of bad pairs in nums.\n",
    "\n",
    "Example 1:\n",
    "\n",
    "Input: nums = [4,1,3,3]\n",
    "Output: 5\n",
    "Explanation: The pair (0, 1) is a bad pair since 1 - 0 != 1 - 4.\n",
    "The pair (0, 2) is a bad pair since 2 - 0 != 3 - 4, 2 != -1.\n",
    "The pair (0, 3) is a bad pair since 3 - 0 != 3 - 4, 3 != -1.\n",
    "The pair (1, 2) is a bad pair since 2 - 1 != 3 - 1, 1 != 2.\n",
    "The pair (2, 3) is a bad pair since 3 - 2 != 3 - 3, 1 != 0.\n",
    "There are a total of 5 bad pairs, so we return 5.\n",
    "Example 2:\n",
    "\n",
    "Input: nums = [1,2,3,4,5]\n",
    "Output: 0\n",
    "Explanation: There are no bad pairs.\n",
    "\n",
    "Constraints:\n",
    "\n",
    "1 <= nums.length <= 105\n",
    "1 <= nums[i] <= 109\n",
    "\n",
    "---\n",
    "\n",
    "give best time and space complexity code in rust to use in interview,give variables usefull name, add comments to explain the code way more clear,also add code to run example case, use below typing\n",
    "\n",
    "---\n",
    "\n",
    "```rust\n",
    "impl Solution {\n",
    "    pub fn count_bad_pairs(nums: Vec<i32>) -> i64 {\n",
    "        \n",
    "    }\n",
    "}\n",
    "```\n"
   ]
  },
  {
   "cell_type": "markdown",
   "metadata": {},
   "source": []
  },
  {
   "cell_type": "code",
   "execution_count": null,
   "metadata": {},
   "outputs": [],
   "source": [
    "impl Solution {\n",
    "    pub fn count_bad_pairs(nums: Vec<i32>) -> i64 {\n",
    "        let mut nums = nums;\n",
    "        for i in 0..nums.len() {\n",
    "            nums[i] -= i as i32;\n",
    "        }\n",
    "        nums.sort_unstable();\n",
    "        let mut ans = nums.len() as i64 * (nums.len() as i64 - 1) / 2;\n",
    "        let mut i = 0;\n",
    "        let mut j = 1;\n",
    "        while j < nums.len() {\n",
    "            while j < nums.len() && nums[i] == nums[j] {\n",
    "                j += 1;\n",
    "            }\n",
    "            ans -= (j - i) as i64 * ((j - i) as i64 - 1) / 2;\n",
    "            i = j;\n",
    "            j += 1;\n",
    "        }\n",
    "        ans\n",
    "    }\n",
    "}"
   ]
  }
 ],
 "metadata": {
  "kernelspec": {
   "display_name": "Rust",
   "language": "rust",
   "name": "rust"
  },
  "language_info": {
   "name": "rust"
  }
 },
 "nbformat": 4,
 "nbformat_minor": 2
}
