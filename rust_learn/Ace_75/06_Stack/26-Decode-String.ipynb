{
 "cells": [
  {
   "cell_type": "markdown",
   "metadata": {},
   "source": [
    "394. Decode String\n",
    "Medium\n",
    "Topics\n",
    "Companies\n",
    "\n",
    "Given an encoded string, return its decoded string.\n",
    "\n",
    "The encoding rule is: k[encoded_string], where the encoded_string inside the square brackets is being repeated exactly k times. Note that k is guaranteed to be a positive integer.\n",
    "\n",
    "You may assume that the input string is always valid; there are no extra white spaces, square brackets are well-formed, etc. Furthermore, you may assume that the original data does not contain any digits and that digits are only for those repeat numbers, k. For example, there will not be input like 3a or 2[4].\n",
    "\n",
    "The test cases are generated so that the length of the output will never exceed 105.\n",
    "\n",
    " \n",
    "\n",
    "Example 1:\n",
    "\n",
    "Input: s = \"3[a]2[bc]\"\n",
    "Output: \"aaabcbc\"\n",
    "\n",
    "Example 2:\n",
    "\n",
    "Input: s = \"3[a2[c]]\"\n",
    "Output: \"accaccacc\"\n",
    "\n",
    "Example 3:\n",
    "\n",
    "Input: s = \"2[abc]3[cd]ef\"\n",
    "Output: \"abcabccdcdcdef\"\n",
    "\n",
    " \n",
    "\n",
    "Constraints:\n",
    "\n",
    "    1 <= s.length <= 30\n",
    "    s consists of lowercase English letters, digits, and square brackets '[]'.\n",
    "    s is guaranteed to be a valid input.\n",
    "    All the integers in s are in the range [1, 300].\n",
    "\n",
    "---\n",
    "\n",
    "give best time and space complexity code in rust,give variables usefull name, add comments to explain the code way more clear,also add code to run example case, use below typing\n",
    "\n",
    "---\n",
    "\n",
    "impl Solution {\n",
    "    pub fn decode_string(s: String) -> String {\n",
    "        \n",
    "    }\n",
    "}"
   ]
  },
  {
   "cell_type": "markdown",
   "metadata": {},
   "source": []
  },
  {
   "cell_type": "code",
   "execution_count": null,
   "metadata": {},
   "outputs": [],
   "source": [
    "impl Solution {\n",
    "    pub fn decode_string(s: String) -> String {\n",
    "        let mut stack: Vec<(usize, String)> = Vec::new();\n",
    "        let (mut n, mut str) = (0, String::new());\n",
    "        for c in s.chars() {\n",
    "            match c {\n",
    "                '[' => {\n",
    "                    stack.push((n, str.clone()));\n",
    "                    n = 0;\n",
    "                    str.clear();\n",
    "                }\n",
    "                ']' => {\n",
    "                    if let Some(last) = stack.pop() {\n",
    "                        str = last.1 + str.repeat(last.0).as_str();\n",
    "                    }\n",
    "                }\n",
    "                '0'..='9' => n = n * 10 + (c as u8 - b'0') as usize,\n",
    "                c => str.push(c),\n",
    "            }\n",
    "        }\n",
    "        str\n",
    "    }\n",
    "}"
   ]
  }
 ],
 "metadata": {
  "kernelspec": {
   "display_name": "Rust",
   "language": "rust",
   "name": "rust"
  },
  "language_info": {
   "name": "rust"
  }
 },
 "nbformat": 4,
 "nbformat_minor": 4
}
