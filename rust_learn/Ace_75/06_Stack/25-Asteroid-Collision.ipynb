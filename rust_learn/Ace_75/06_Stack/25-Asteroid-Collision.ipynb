{
 "cells": [
  {
   "cell_type": "markdown",
   "metadata": {},
   "source": [
    "735. Asteroid Collision\n",
    "     Medium\n",
    "     Topics\n",
    "     Companies\n",
    "     Hint\n",
    "\n",
    "We are given an array asteroids of integers representing asteroids in a row.\n",
    "\n",
    "For each asteroid, the absolute value represents its size, and the sign represents its direction (positive meaning right, negative meaning left). Each asteroid moves at the same speed.\n",
    "\n",
    "Find out the state of the asteroids after all collisions. If two asteroids meet, the smaller one will explode. If both are the same size, both will explode. Two asteroids moving in the same direction will never meet.\n",
    "\n",
    "Example 1:\n",
    "\n",
    "Input: asteroids = [5,10,-5]\n",
    "Output: [5,10]\n",
    "Explanation: The 10 and -5 collide resulting in 10. The 5 and 10 never collide.\n",
    "\n",
    "Example 2:\n",
    "\n",
    "Input: asteroids = [8,-8]\n",
    "Output: []\n",
    "Explanation: The 8 and -8 collide exploding each other.\n",
    "\n",
    "Example 3:\n",
    "\n",
    "Input: asteroids = [10,2,-5]\n",
    "Output: [10]\n",
    "Explanation: The 2 and -5 collide resulting in -5. The 10 and -5 collide resulting in 10.\n",
    "\n",
    "Constraints:\n",
    "\n",
    "    2 <= asteroids.length <= 104\n",
    "    -1000 <= asteroids[i] <= 1000\n",
    "    asteroids[i] != 0\n",
    "\n",
    "---\n",
    "\n",
    "give best time and space complexity code in rust,give variables usefull name, add comments to explain the code way more clear,also add code to run example case, use below typing\n",
    "\n",
    "---\n",
    "\n",
    "impl Solution {\n",
    "pub fn asteroid_collision(asteroids: Vec<i32>) -> Vec<i32> {\n",
    "\n",
    "    }\n",
    "\n",
    "}\n"
   ]
  },
  {
   "cell_type": "markdown",
   "metadata": {},
   "source": []
  },
  {
   "cell_type": "code",
   "execution_count": null,
   "metadata": {},
   "outputs": [],
   "source": [
    "impl Solution {\n",
    "    pub fn asteroid_collision(asteroids: Vec<i32>) -> Vec<i32> {\n",
    "        let mut answer = Vec::new();\n",
    "        for &asteroid in asteroids.iter() {\n",
    "            answer.push(asteroid);\n",
    "            while answer.len() > 1 && answer[answer.len() - 2] > 0 && answer[answer.len() - 1] < 0 {\n",
    "                let l = answer.pop().unwrap();\n",
    "                let r = answer.pop().unwrap();\n",
    "                match r.cmp(&-l) {\n",
    "                    std::cmp::Ordering::Less => answer.push(l),\n",
    "                    std::cmp::Ordering::Equal => {}\n",
    "                    std::cmp::Ordering::Greater => answer.push(r),\n",
    "                }\n",
    "            }\n",
    "        }\n",
    "        answer\n",
    "    }\n",
    "}"
   ]
  }
 ],
 "metadata": {
  "kernelspec": {
   "display_name": "Rust",
   "language": "rust",
   "name": "rust"
  },
  "language_info": {
   "name": "rust"
  }
 },
 "nbformat": 4,
 "nbformat_minor": 4
}
