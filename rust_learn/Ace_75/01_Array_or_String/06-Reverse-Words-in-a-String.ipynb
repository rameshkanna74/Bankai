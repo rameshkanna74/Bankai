{
 "cells": [
  {
   "cell_type": "markdown",
   "metadata": {},
   "source": [
    "151. Reverse Words in a String\n",
    "     Medium\n",
    "     Topics\n",
    "     Companies\n",
    "\n",
    "Given an input string s, reverse the order of the words.\n",
    "\n",
    "A word is defined as a sequence of non-space characters. The words in s will be separated by at least one space.\n",
    "\n",
    "Return a string of the words in reverse order concatenated by a single space.\n",
    "\n",
    "Note that s may contain leading or trailing spaces or multiple spaces between two words. The returned string should only have a single space separating the words. Do not include any extra spaces.\n",
    "\n",
    "Example 1:\n",
    "\n",
    "Input: s = \"the sky is blue\"\n",
    "Output: \"blue is sky the\"\n",
    "\n",
    "Example 2:\n",
    "\n",
    "Input: s = \" hello world \"\n",
    "Output: \"world hello\"\n",
    "Explanation: Your reversed string should not contain leading or trailing spaces.\n",
    "\n",
    "Example 3:\n",
    "\n",
    "Input: s = \"a good example\"\n",
    "Output: \"example good a\"\n",
    "Explanation: You need to reduce multiple spaces between two words to a single space in the reversed string.\n",
    "\n",
    "Constraints:\n",
    "\n",
    "    1 <= s.length <= 104\n",
    "    s contains English letters (upper-case and lower-case), digits, and spaces ' '.\n",
    "    There is at least one word in s.\n",
    "\n",
    "Follow-up: If the string data type is mutable in your language, can you solve it in-place with O(1) extra space?\n",
    "\n",
    "---\n",
    "\n",
    "give best time and space complexity code in rust,give variables usefull name, add comments to explain the code way more clear,also add code to run example case, use below typing\n",
    "\n",
    "---\n",
    "\n",
    "impl Solution {\n",
    "pub fn reverse_words(s: String) -> String {\n",
    "\n",
    "    }\n",
    "\n",
    "}\n"
   ]
  },
  {
   "cell_type": "markdown",
   "metadata": {},
   "source": []
  },
  {
   "cell_type": "code",
   "execution_count": null,
   "metadata": {},
   "outputs": [],
   "source": [
    "impl Solution {\n",
    "    pub fn reverse_words(s: String) -> String {\n",
    "        s.split(' ')\n",
    "            .rev()\n",
    "            .filter(|x| !x.is_empty())\n",
    "            .collect::<Vec<&str>>()\n",
    "            .join(\" \")\n",
    "    }\n",
    "}"
   ]
  },
  {
   "cell_type": "markdown",
   "metadata": {},
   "source": [
    "Rust is not as hard as it seems. This problem can be solved in Rust using a very simple and readable one-liner.\n",
    "\n",
    "    .split_whitespace() takes care of multiple spaces and padding spaces and turns the string into an iterator.\n",
    "    .rev() reverses the iterator\n",
    "    .collect::<Vec<&str>>() collects the iterator into a vector of string slices.\n",
    "    .join(\" \") joins the vector into one String seperated by spaces.\n"
   ]
  },
  {
   "cell_type": "code",
   "execution_count": null,
   "metadata": {},
   "outputs": [],
   "source": [
    "impl Solution {\n",
    "    pub fn reverse_words(s: String) -> String {\n",
    "        s.split_whitespace().rev().collect::<Vec<&str>>().join(\" \")\n",
    "    }\n",
    "}"
   ]
  },
  {
   "cell_type": "markdown",
   "metadata": {},
   "source": [
    "### **Time Complexity**:\n",
    "The time complexity of this solution is \\(O(n)\\), where \\(n\\) is the length of the input string `s`. Here's a breakdown:\n",
    "- **`split_whitespace()`**: It splits the string by whitespace, which takes \\(O(n)\\) time.\n",
    "- **`rev()`**: Reversing the iterator also takes \\(O(m)\\), where \\(m\\) is the number of words in the string. Since \\(m \\leq n\\), this is at most \\(O(n)\\).\n",
    "- **`collect::<Vec<&str>>()`**: Collecting the reversed iterator into a vector of words also takes \\(O(m)\\) time, and \\(m \\leq n\\), so it's \\(O(n)\\).\n",
    "- **`join(\" \")`**: Joining the vector of words back into a string requires concatenating them, which takes \\(O(n)\\) time.\n",
    "\n",
    "Thus, the overall time complexity is \\(O(n)\\).\n",
    "\n",
    "### **Space Complexity**:\n",
    "The space complexity is also \\(O(n)\\), because we are storing the words in a vector (using `collect::<Vec<&str>>()`) and creating a new string with `join(\" \")`.\n",
    "\n",
    "- **`split_whitespace()`** creates an iterator, but no extra space is used beyond the words themselves.\n",
    "- **`collect::<Vec<&str>>()`** stores the words in a vector.\n",
    "- **`join(\" \")`** creates the final string, which takes \\(O(n)\\) space.\n",
    "\n",
    "Therefore, the space complexity is \\(O(n)\\).\n",
    "\n",
    "### **DSA Concept Used**:\n",
    "- **String Manipulation**: The primary technique here is splitting a string, reversing the order of the words, and joining them back. This is an example of string manipulation, a fundamental operation often required in coding problems.\n",
    "- **Iterators**: The solution makes heavy use of iterators, which is a key concept in Rust. The `rev()`, `split_whitespace()`, and `join()` methods are all iterators that allow for clean and efficient transformations on sequences of elements.\n",
    "- **Functional Programming Concepts**: The solution uses functional programming patterns such as chaining operations on iterators. This makes the code both compact and readable.\n",
    "\n",
    "### **Why This Approach is Suitable for This Problem**:\n",
    "- **Conciseness**: The solution is short and highly readable, making it easy to understand and implement. It takes full advantage of Rust’s iterator methods, which allow transforming and processing collections in a concise way.\n",
    "- **Efficiency**: The approach avoids manually handling strings and spaces, leveraging Rust’s efficient built-in methods for splitting, reversing, and joining. This leads to a time complexity of \\(O(n)\\), which is optimal for this problem.\n",
    "- **Rust’s Strength**: This solution takes full advantage of Rust’s ability to handle iterators efficiently, ensuring that it performs well even for larger strings.\n",
    "\n",
    "### **Knowledge Learned and How It Helps**:\n",
    "1. **Working with Strings and Iterators**: Understanding how to efficiently split, reverse, and join strings is a critical skill when working with text-based data.\n",
    "   - **In Interview**: The interviewer will appreciate the concise, efficient approach to solving string manipulation problems, showing both problem-solving ability and knowledge of Rust’s powerful iterator methods.\n",
    "2. **Space Efficiency**: By understanding space complexity in relation to how data is stored (e.g., splitting strings into a vector), you can optimize for memory usage in larger problems, especially with big data processing tasks.\n",
    "3. **Functional Programming in Rust**: By learning to use iterator-based functions, you can write cleaner, more modular code in Rust. This approach can be useful in real-world projects requiring transformations of collections.\n",
    "\n",
    "### **Final Verdict**:\n",
    "This code is an excellent solution that showcases your ability to manipulate strings efficiently using Rust’s iterator tools. The time and space complexity are optimal for this problem, and it’s a perfect example of how to leverage functional programming techniques in Rust to produce clean, efficient solutions."
   ]
  }
 ],
 "metadata": {
  "kernelspec": {
   "display_name": "Rust",
   "language": "rust",
   "name": "rust"
  },
  "language_info": {
   "name": "rust"
  }
 },
 "nbformat": 4,
 "nbformat_minor": 4
}
