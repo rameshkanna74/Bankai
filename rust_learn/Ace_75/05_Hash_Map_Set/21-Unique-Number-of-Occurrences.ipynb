{
 "cells": [
  {
   "cell_type": "markdown",
   "metadata": {},
   "source": [
    "1207. Unique Number of Occurrences\n",
    "      Easy\n",
    "      Topics\n",
    "      Companies\n",
    "      Hint\n",
    "\n",
    "Given an array of integers arr, return true if the number of occurrences of each value in the array is unique or false otherwise.\n",
    "\n",
    "Example 1:\n",
    "\n",
    "Input: arr = [1,2,2,1,1,3]\n",
    "Output: true\n",
    "Explanation: The value 1 has 3 occurrences, 2 has 2 and 3 has 1. No two values have the same number of occurrences.\n",
    "\n",
    "Example 2:\n",
    "\n",
    "Input: arr = [1,2]\n",
    "Output: false\n",
    "\n",
    "Example 3:\n",
    "\n",
    "Input: arr = [-3,0,1,-3,1,1,1,-3,10,0]\n",
    "Output: true\n",
    "\n",
    "Constraints:\n",
    "\n",
    "    1 <= arr.length <= 1000\n",
    "    -1000 <= arr[i] <= 1000\n",
    "\n",
    "---\n",
    "\n",
    "give best time and space complexity code in rust,give variables usefull name, add comments to explain the code way more clear,also add code to run example case, use below typing\n",
    "\n",
    "---\n",
    "\n",
    "impl Solution {\n",
    "pub fn unique_occurrences(arr: Vec<i32>) -> bool {\n",
    "\n",
    "    }\n",
    "\n",
    "}\n"
   ]
  },
  {
   "cell_type": "markdown",
   "metadata": {},
   "source": []
  },
  {
   "cell_type": "code",
   "execution_count": null,
   "metadata": {},
   "outputs": [],
   "source": [
    "use std::collections::HashSet;\n",
    "\n",
    "impl Solution {\n",
    "    pub fn unique_occurrences(arr: Vec<i32>) -> bool {\n",
    "        let mut arr = arr;\n",
    "        arr.sort();\n",
    "\n",
    "        let mut unique_set = HashSet::new();\n",
    "\n",
    "        let mut count = 1;\n",
    "        for i in 1..arr.len() {\n",
    "            if arr[i] == arr[i - 1] {\n",
    "                count += 1;\n",
    "            } else {\n",
    "                if unique_set.contains(&count) {\n",
    "                    return false;\n",
    "                }\n",
    "\n",
    "                unique_set.insert(count);\n",
    "                count = 1;\n",
    "            }\n",
    "        }\n",
    "\n",
    "        !unique_set.contains(&count)\n",
    "    }\n",
    "}"
   ]
  }
 ],
 "metadata": {
  "kernelspec": {
   "display_name": "Rust",
   "language": "rust",
   "name": "rust"
  },
  "language_info": {
   "name": "rust"
  }
 },
 "nbformat": 4,
 "nbformat_minor": 4
}
