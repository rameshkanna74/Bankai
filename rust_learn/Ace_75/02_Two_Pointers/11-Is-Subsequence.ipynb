{
 "cells": [
  {
   "cell_type": "markdown",
   "metadata": {},
   "source": [
    "392. Is Subsequence\n",
    "     Easy\n",
    "     Topics\n",
    "     Companies\n",
    "\n",
    "Given two strings s and t, return true if s is a subsequence of t, or false otherwise.\n",
    "\n",
    "A subsequence of a string is a new string that is formed from the original string by deleting some (can be none) of the characters without disturbing the relative positions of the remaining characters. (i.e., \"ace\" is a subsequence of \"abcde\" while \"aec\" is not).\n",
    "\n",
    "Example 1:\n",
    "\n",
    "Input: s = \"abc\", t = \"ahbgdc\"\n",
    "Output: true\n",
    "\n",
    "Example 2:\n",
    "\n",
    "Input: s = \"axc\", t = \"ahbgdc\"\n",
    "Output: false\n",
    "\n",
    "Constraints:\n",
    "\n",
    "    0 <= s.length <= 100\n",
    "    0 <= t.length <= 104\n",
    "    s and t consist only of lowercase English letters.\n",
    "\n",
    "Follow up: Suppose there are lots of incoming s, say s1, s2, ..., sk where k >= 109, and you want to check one by one to see if t has its subsequence. In this scenario, how would you change your code?\n",
    "\n",
    "---\n",
    "\n",
    "give best time and space complexity code in rust,give variables usefull name, add comments to explain the code way more clear,also add code to run example case, use below typing\n",
    "\n",
    "---\n",
    "\n",
    "impl Solution {\n",
    "pub fn is_subsequence(s: String, t: String) -> bool {\n",
    "\n",
    "    }\n",
    "\n",
    "}\n"
   ]
  },
  {
   "cell_type": "markdown",
   "metadata": {},
   "source": []
  },
  {
   "cell_type": "code",
   "execution_count": null,
   "metadata": {},
   "outputs": [],
   "source": [
    "impl Solution {\n",
    "    pub fn is_subsequence(s: String, t: String) -> bool {\n",
    "        let mut i = 0;\n",
    "        let mut j = 0;\n",
    "        let s_chars: Vec<char> = s.chars().collect();\n",
    "        let t_chars: Vec<char> = t.chars().collect();\n",
    "        \n",
    "        while i < s.len() && j < t.len() {\n",
    "            if s_chars[i] == t_chars[j] {\n",
    "                i += 1;\n",
    "            }\n",
    "            j += 1;\n",
    "        }\n",
    "        i == s.len()\n",
    "    }\n",
    "}"
   ]
  },
  {
   "cell_type": "code",
   "execution_count": null,
   "metadata": {},
   "outputs": [],
   "source": [
    "impl Solution {\n",
    "    pub fn is_subsequence(s: String, t: String) -> bool {\n",
    "        let mut i = 0; // Pointer for string `s`\n",
    "        let mut j = 0; // Pointer for string `t`\n",
    "\n",
    "        // Iterate through string `t` and check for characters in `s`\n",
    "        while i < s.len() && j < t.len() {\n",
    "            if s.chars().nth(i) == t.chars().nth(j) {\n",
    "                i += 1;\n",
    "            }\n",
    "            j += 1;\n",
    "        }\n",
    "        \n",
    "        // If we've traversed all of `s`, it's a subsequence of `t`\n",
    "        i == s.len()\n",
    "    }\n",
    "}\n"
   ]
  }
 ],
 "metadata": {
  "kernelspec": {
   "display_name": "Rust",
   "language": "rust",
   "name": "rust"
  },
  "language_info": {
   "name": "rust"
  }
 },
 "nbformat": 4,
 "nbformat_minor": 4
}
