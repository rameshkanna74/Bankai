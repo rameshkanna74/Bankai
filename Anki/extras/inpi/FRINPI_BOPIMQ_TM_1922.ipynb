{
 "cells": [
  {
   "cell_type": "code",
   "execution_count": 4,
   "id": "93c13a6b",
   "metadata": {},
   "outputs": [],
   "source": [
    "import pandas as pd "
   ]
  },
  {
   "cell_type": "code",
   "execution_count": null,
   "id": "5831d388",
   "metadata": {},
   "outputs": [],
   "source": [
    "df = pd.read_csv(\"FRINPI_BOPIMQ_TM_1922.csv\")\n"
   ]
  },
  {
   "cell_type": "code",
   "execution_count": 6,
   "id": "1f76d9c3",
   "metadata": {},
   "outputs": [
    {
     "data": {
      "text/html": [
       "<div>\n",
       "<style scoped>\n",
       "    .dataframe tbody tr th:only-of-type {\n",
       "        vertical-align: middle;\n",
       "    }\n",
       "\n",
       "    .dataframe tbody tr th {\n",
       "        vertical-align: top;\n",
       "    }\n",
       "\n",
       "    .dataframe thead th {\n",
       "        text-align: right;\n",
       "    }\n",
       "</style>\n",
       "<table border=\"1\" class=\"dataframe\">\n",
       "  <thead>\n",
       "    <tr style=\"text-align: right;\">\n",
       "      <th></th>\n",
       "      <th>Année du BOPI</th>\n",
       "      <th>Numéro de pages du BOPI</th>\n",
       "      <th>Lettres alphabétiques</th>\n",
       "      <th>Chiffres des marques</th>\n",
       "      <th>Dénomination des marques</th>\n",
       "      <th>Emblême</th>\n",
       "      <th>Numéro de classe</th>\n",
       "      <th>Numéro des pages correspondantes</th>\n",
       "      <th>ERRATA</th>\n",
       "      <th>Numéro de la marque</th>\n",
       "      <th>Renonciation totale</th>\n",
       "      <th>Renonciation partielle</th>\n",
       "    </tr>\n",
       "  </thead>\n",
       "  <tbody>\n",
       "    <tr>\n",
       "      <th>0</th>\n",
       "      <td>1922</td>\n",
       "      <td>57</td>\n",
       "      <td>A</td>\n",
       "      <td>NaN</td>\n",
       "      <td>A</td>\n",
       "      <td>NaN</td>\n",
       "      <td>NaN</td>\n",
       "      <td>NaN</td>\n",
       "      <td>NaN</td>\n",
       "      <td>NaN</td>\n",
       "      <td>NaN</td>\n",
       "      <td>NaN</td>\n",
       "    </tr>\n",
       "    <tr>\n",
       "      <th>1</th>\n",
       "      <td>1922</td>\n",
       "      <td>57</td>\n",
       "      <td>A</td>\n",
       "      <td>NaN</td>\n",
       "      <td>A (Cire)</td>\n",
       "      <td>NaN</td>\n",
       "      <td>33</td>\n",
       "      <td>10</td>\n",
       "      <td>NaN</td>\n",
       "      <td>NaN</td>\n",
       "      <td>NaN</td>\n",
       "      <td>NaN</td>\n",
       "    </tr>\n",
       "    <tr>\n",
       "      <th>2</th>\n",
       "      <td>1922</td>\n",
       "      <td>57</td>\n",
       "      <td>A</td>\n",
       "      <td>NaN</td>\n",
       "      <td>A.</td>\n",
       "      <td>NaN</td>\n",
       "      <td>47</td>\n",
       "      <td>13</td>\n",
       "      <td>NaN</td>\n",
       "      <td>NaN</td>\n",
       "      <td>NaN</td>\n",
       "      <td>NaN</td>\n",
       "    </tr>\n",
       "    <tr>\n",
       "      <th>3</th>\n",
       "      <td>1922</td>\n",
       "      <td>57</td>\n",
       "      <td>A</td>\n",
       "      <td>NaN</td>\n",
       "      <td>A</td>\n",
       "      <td>NaN</td>\n",
       "      <td>68</td>\n",
       "      <td>290</td>\n",
       "      <td>NaN</td>\n",
       "      <td>NaN</td>\n",
       "      <td>NaN</td>\n",
       "      <td>NaN</td>\n",
       "    </tr>\n",
       "    <tr>\n",
       "      <th>4</th>\n",
       "      <td>1922</td>\n",
       "      <td>57</td>\n",
       "      <td>A</td>\n",
       "      <td>NaN</td>\n",
       "      <td>A</td>\n",
       "      <td>NaN</td>\n",
       "      <td>8</td>\n",
       "      <td>791</td>\n",
       "      <td>NaN</td>\n",
       "      <td>NaN</td>\n",
       "      <td>NaN</td>\n",
       "      <td>NaN</td>\n",
       "    </tr>\n",
       "  </tbody>\n",
       "</table>\n",
       "</div>"
      ],
      "text/plain": [
       "   Année du BOPI  Numéro de pages du BOPI Lettres alphabétiques  \\\n",
       "0           1922                       57                     A   \n",
       "1           1922                       57                     A   \n",
       "2           1922                       57                     A   \n",
       "3           1922                       57                     A   \n",
       "4           1922                       57                     A   \n",
       "\n",
       "   Chiffres des marques Dénomination des marques  Emblême Numéro de classe  \\\n",
       "0                   NaN                        A      NaN              NaN   \n",
       "1                   NaN                 A (Cire)      NaN               33   \n",
       "2                   NaN                       A.      NaN               47   \n",
       "3                   NaN                        A      NaN               68   \n",
       "4                   NaN                        A      NaN                8   \n",
       "\n",
       "  Numéro des pages correspondantes  ERRATA  Numéro de la marque  \\\n",
       "0                              NaN     NaN                  NaN   \n",
       "1                               10     NaN                  NaN   \n",
       "2                               13     NaN                  NaN   \n",
       "3                              290     NaN                  NaN   \n",
       "4                              791     NaN                  NaN   \n",
       "\n",
       "   Renonciation totale  Renonciation partielle  \n",
       "0                  NaN                     NaN  \n",
       "1                  NaN                     NaN  \n",
       "2                  NaN                     NaN  \n",
       "3                  NaN                     NaN  \n",
       "4                  NaN                     NaN  "
      ]
     },
     "execution_count": 6,
     "metadata": {},
     "output_type": "execute_result"
    }
   ],
   "source": [
    "df.head()"
   ]
  },
  {
   "cell_type": "code",
   "execution_count": 7,
   "id": "21e954d7",
   "metadata": {},
   "outputs": [
    {
     "data": {
      "text/plain": [
       "Index(['Année du BOPI', 'Numéro de pages du BOPI', 'Lettres alphabétiques',\n",
       "       'Chiffres des marques', 'Dénomination des marques', 'Emblême',\n",
       "       'Numéro de classe', 'Numéro des pages correspondantes', 'ERRATA',\n",
       "       'Numéro de la marque', 'Renonciation totale', 'Renonciation partielle'],\n",
       "      dtype='object')"
      ]
     },
     "execution_count": 7,
     "metadata": {},
     "output_type": "execute_result"
    }
   ],
   "source": [
    "df.columns"
   ]
  },
  {
   "cell_type": "code",
   "execution_count": 12,
   "id": "31486953",
   "metadata": {},
   "outputs": [],
   "source": [
    "df2 = pd.read_csv(\"bopi_exploded.csv\")"
   ]
  },
  {
   "cell_type": "code",
   "execution_count": 13,
   "id": "958e503b",
   "metadata": {},
   "outputs": [
    {
     "data": {
      "text/plain": [
       "Index(['Année du BOPI', 'Numéro de pages du BOPI', 'Lettres alphabétiques',\n",
       "       'Chiffres des marques', 'Dénomination des marques', 'Emblême',\n",
       "       'Numéro de classe', 'Numéro des pages correspondantes', 'ERRATA',\n",
       "       'Numéro de la marque', 'Renonciation totale', 'Renonciation partielle'],\n",
       "      dtype='object')"
      ]
     },
     "execution_count": 13,
     "metadata": {},
     "output_type": "execute_result"
    }
   ],
   "source": [
    "df.columns"
   ]
  },
  {
   "cell_type": "code",
   "execution_count": 14,
   "id": "b24f33f4",
   "metadata": {},
   "outputs": [
    {
     "data": {
      "text/plain": [
       "Index(['Année du BOPI', 'Numéro de pages du BOPI', 'Lettres alphabétiques',\n",
       "       'Noms des déposants', 'Numéro de classe',\n",
       "       'Numéro des pages correspondantes', 'ERRATA', 'Numéro de la marque',\n",
       "       'Renonciation totale', 'Renonciation partielle'],\n",
       "      dtype='object')"
      ]
     },
     "execution_count": 14,
     "metadata": {},
     "output_type": "execute_result"
    }
   ],
   "source": [
    "df2.columns"
   ]
  },
  {
   "cell_type": "code",
   "execution_count": null,
   "id": "a55409ee",
   "metadata": {},
   "outputs": [],
   "source": []
  }
 ],
 "metadata": {
  "kernelspec": {
   "display_name": "moon",
   "language": "python",
   "name": "python3"
  },
  "language_info": {
   "codemirror_mode": {
    "name": "ipython",
    "version": 3
   },
   "file_extension": ".py",
   "mimetype": "text/x-python",
   "name": "python",
   "nbconvert_exporter": "python",
   "pygments_lexer": "ipython3",
   "version": "3.11.7"
  }
 },
 "nbformat": 4,
 "nbformat_minor": 5
}
