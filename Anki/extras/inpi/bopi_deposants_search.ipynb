{
 "cells": [
  {
   "cell_type": "code",
   "execution_count": 2,
   "id": "93c13a6b",
   "metadata": {},
   "outputs": [],
   "source": [
    "import pandas as pd "
   ]
  },
  {
   "cell_type": "code",
   "execution_count": 14,
   "id": "5831d388",
   "metadata": {},
   "outputs": [],
   "source": [
    "df = pd.read_csv(\"BOPI_MQ_TM_1922.csv\")"
   ]
  },
  {
   "cell_type": "code",
   "execution_count": 4,
   "id": "1f76d9c3",
   "metadata": {},
   "outputs": [
    {
     "data": {
      "text/html": [
       "<div>\n",
       "<style scoped>\n",
       "    .dataframe tbody tr th:only-of-type {\n",
       "        vertical-align: middle;\n",
       "    }\n",
       "\n",
       "    .dataframe tbody tr th {\n",
       "        vertical-align: top;\n",
       "    }\n",
       "\n",
       "    .dataframe thead th {\n",
       "        text-align: right;\n",
       "    }\n",
       "</style>\n",
       "<table border=\"1\" class=\"dataframe\">\n",
       "  <thead>\n",
       "    <tr style=\"text-align: right;\">\n",
       "      <th></th>\n",
       "      <th>Année du BOPI</th>\n",
       "      <th>Numéro de pages du BOPI</th>\n",
       "      <th>Lettres alphabétiques</th>\n",
       "      <th>Noms des déposants</th>\n",
       "      <th>Numéro de classe</th>\n",
       "      <th>Numéro des pages correspondantes</th>\n",
       "      <th>ERRATA</th>\n",
       "      <th>Numéro de la marque</th>\n",
       "      <th>Renonciation totale</th>\n",
       "      <th>Renonciation partielle</th>\n",
       "    </tr>\n",
       "  </thead>\n",
       "  <tbody>\n",
       "    <tr>\n",
       "      <th>0</th>\n",
       "      <td>1922</td>\n",
       "      <td>5</td>\n",
       "      <td>A</td>\n",
       "      <td>Aachener Thermalwasser Kaiserbrunnen A G (Soci...</td>\n",
       "      <td>888</td>\n",
       "      <td>NaN</td>\n",
       "      <td>NaN</td>\n",
       "      <td>NaN</td>\n",
       "      <td>NaN</td>\n",
       "      <td>NaN</td>\n",
       "    </tr>\n",
       "    <tr>\n",
       "      <th>1</th>\n",
       "      <td>1922</td>\n",
       "      <td>5</td>\n",
       "      <td>A</td>\n",
       "      <td>Abadie (Mlle M.L.)</td>\n",
       "      <td>584</td>\n",
       "      <td>NaN</td>\n",
       "      <td>NaN</td>\n",
       "      <td>NaN</td>\n",
       "      <td>NaN</td>\n",
       "      <td>NaN</td>\n",
       "    </tr>\n",
       "    <tr>\n",
       "      <th>2</th>\n",
       "      <td>1922</td>\n",
       "      <td>5</td>\n",
       "      <td>A</td>\n",
       "      <td>Abadie (Société anonyme des Papiers)</td>\n",
       "      <td>1088, 1737, 1793, 1794, 1795, 1796</td>\n",
       "      <td>NaN</td>\n",
       "      <td>NaN</td>\n",
       "      <td>NaN</td>\n",
       "      <td>NaN</td>\n",
       "      <td>NaN</td>\n",
       "    </tr>\n",
       "    <tr>\n",
       "      <th>3</th>\n",
       "      <td>1922</td>\n",
       "      <td>5</td>\n",
       "      <td>A</td>\n",
       "      <td>Abadie Léotard (E.)</td>\n",
       "      <td>506, 538</td>\n",
       "      <td>NaN</td>\n",
       "      <td>NaN</td>\n",
       "      <td>NaN</td>\n",
       "      <td>NaN</td>\n",
       "      <td>NaN</td>\n",
       "    </tr>\n",
       "    <tr>\n",
       "      <th>4</th>\n",
       "      <td>1922</td>\n",
       "      <td>5</td>\n",
       "      <td>A</td>\n",
       "      <td>Abbat (G.) &amp; Guenet (M.)</td>\n",
       "      <td>1464</td>\n",
       "      <td>NaN</td>\n",
       "      <td>NaN</td>\n",
       "      <td>NaN</td>\n",
       "      <td>NaN</td>\n",
       "      <td>NaN</td>\n",
       "    </tr>\n",
       "  </tbody>\n",
       "</table>\n",
       "</div>"
      ],
      "text/plain": [
       "   Année du BOPI Numéro de pages du BOPI Lettres alphabétiques  \\\n",
       "0           1922                       5                     A   \n",
       "1           1922                       5                     A   \n",
       "2           1922                       5                     A   \n",
       "3           1922                       5                     A   \n",
       "4           1922                       5                     A   \n",
       "\n",
       "                                  Noms des déposants  \\\n",
       "0  Aachener Thermalwasser Kaiserbrunnen A G (Soci...   \n",
       "1                                 Abadie (Mlle M.L.)   \n",
       "2               Abadie (Société anonyme des Papiers)   \n",
       "3                                Abadie Léotard (E.)   \n",
       "4                           Abbat (G.) & Guenet (M.)   \n",
       "\n",
       "                     Numéro de classe Numéro des pages correspondantes  \\\n",
       "0                                 888                              NaN   \n",
       "1                                 584                              NaN   \n",
       "2  1088, 1737, 1793, 1794, 1795, 1796                              NaN   \n",
       "3                            506, 538                              NaN   \n",
       "4                                1464                              NaN   \n",
       "\n",
       "   ERRATA  Numéro de la marque  Renonciation totale  Renonciation partielle  \n",
       "0     NaN                  NaN                  NaN                     NaN  \n",
       "1     NaN                  NaN                  NaN                     NaN  \n",
       "2     NaN                  NaN                  NaN                     NaN  \n",
       "3     NaN                  NaN                  NaN                     NaN  \n",
       "4     NaN                  NaN                  NaN                     NaN  "
      ]
     },
     "execution_count": 4,
     "metadata": {},
     "output_type": "execute_result"
    }
   ],
   "source": [
    "df.head()"
   ]
  },
  {
   "cell_type": "code",
   "execution_count": 5,
   "id": "21e954d7",
   "metadata": {},
   "outputs": [
    {
     "data": {
      "text/plain": [
       "Index(['Année du BOPI', 'Numéro de pages du BOPI', 'Lettres alphabétiques',\n",
       "       'Noms des déposants', 'Numéro de classe',\n",
       "       'Numéro des pages correspondantes', 'ERRATA', 'Numéro de la marque',\n",
       "       'Renonciation totale', 'Renonciation partielle'],\n",
       "      dtype='object')"
      ]
     },
     "execution_count": 5,
     "metadata": {},
     "output_type": "execute_result"
    }
   ],
   "source": [
    "df.columns"
   ]
  },
  {
   "cell_type": "code",
   "execution_count": 8,
   "id": "fef9d1c1",
   "metadata": {},
   "outputs": [
    {
     "ename": "ValueError",
     "evalue": "The truth value of an array with more than one element is ambiguous. Use a.any() or a.all()",
     "output_type": "error",
     "traceback": [
      "\u001b[0;31m---------------------------------------------------------------------------\u001b[0m",
      "\u001b[0;31mValueError\u001b[0m                                Traceback (most recent call last)",
      "Cell \u001b[0;32mIn[8], line 7\u001b[0m\n\u001b[1;32m      4\u001b[0m     \u001b[38;5;28;01mreturn\u001b[39;00m [\u001b[38;5;28mint\u001b[39m(v\u001b[38;5;241m.\u001b[39mstrip()) \u001b[38;5;28;01mfor\u001b[39;00m v \u001b[38;5;129;01min\u001b[39;00m \u001b[38;5;28mstr\u001b[39m(val)\u001b[38;5;241m.\u001b[39msplit(\u001b[38;5;124m'\u001b[39m\u001b[38;5;124m,\u001b[39m\u001b[38;5;124m'\u001b[39m) \u001b[38;5;28;01mif\u001b[39;00m v\u001b[38;5;241m.\u001b[39mstrip()\u001b[38;5;241m.\u001b[39misdigit()]\n\u001b[1;32m      6\u001b[0m \u001b[38;5;66;03m# Apply to the specific column\u001b[39;00m\n\u001b[0;32m----> 7\u001b[0m df[\u001b[38;5;124m'\u001b[39m\u001b[38;5;124mNuméro de classe\u001b[39m\u001b[38;5;124m'\u001b[39m] \u001b[38;5;241m=\u001b[39m df[\u001b[38;5;124m'\u001b[39m\u001b[38;5;124mNuméro de classe\u001b[39m\u001b[38;5;124m'\u001b[39m]\u001b[38;5;241m.\u001b[39mapply(parse_page_numbers)\n\u001b[1;32m      9\u001b[0m \u001b[38;5;66;03m# Example: Filter rows where page number 1088 appears\u001b[39;00m\n\u001b[1;32m     10\u001b[0m filtered_df \u001b[38;5;241m=\u001b[39m df[df[\u001b[38;5;124m'\u001b[39m\u001b[38;5;124mNuméro de classe\u001b[39m\u001b[38;5;124m'\u001b[39m]\u001b[38;5;241m.\u001b[39mapply(\u001b[38;5;28;01mlambda\u001b[39;00m x: \u001b[38;5;241m1088\u001b[39m \u001b[38;5;129;01min\u001b[39;00m x)]\n",
      "File \u001b[0;32m~/miniconda3/envs/moon/lib/python3.11/site-packages/pandas/core/series.py:4924\u001b[0m, in \u001b[0;36mSeries.apply\u001b[0;34m(self, func, convert_dtype, args, by_row, **kwargs)\u001b[0m\n\u001b[1;32m   4789\u001b[0m \u001b[38;5;28;01mdef\u001b[39;00m \u001b[38;5;21mapply\u001b[39m(\n\u001b[1;32m   4790\u001b[0m     \u001b[38;5;28mself\u001b[39m,\n\u001b[1;32m   4791\u001b[0m     func: AggFuncType,\n\u001b[0;32m   (...)\u001b[0m\n\u001b[1;32m   4796\u001b[0m     \u001b[38;5;241m*\u001b[39m\u001b[38;5;241m*\u001b[39mkwargs,\n\u001b[1;32m   4797\u001b[0m ) \u001b[38;5;241m-\u001b[39m\u001b[38;5;241m>\u001b[39m DataFrame \u001b[38;5;241m|\u001b[39m Series:\n\u001b[1;32m   4798\u001b[0m \u001b[38;5;250m    \u001b[39m\u001b[38;5;124;03m\"\"\"\u001b[39;00m\n\u001b[1;32m   4799\u001b[0m \u001b[38;5;124;03m    Invoke function on values of Series.\u001b[39;00m\n\u001b[1;32m   4800\u001b[0m \n\u001b[0;32m   (...)\u001b[0m\n\u001b[1;32m   4915\u001b[0m \u001b[38;5;124;03m    dtype: float64\u001b[39;00m\n\u001b[1;32m   4916\u001b[0m \u001b[38;5;124;03m    \"\"\"\u001b[39;00m\n\u001b[1;32m   4917\u001b[0m     \u001b[38;5;28;01mreturn\u001b[39;00m SeriesApply(\n\u001b[1;32m   4918\u001b[0m         \u001b[38;5;28mself\u001b[39m,\n\u001b[1;32m   4919\u001b[0m         func,\n\u001b[1;32m   4920\u001b[0m         convert_dtype\u001b[38;5;241m=\u001b[39mconvert_dtype,\n\u001b[1;32m   4921\u001b[0m         by_row\u001b[38;5;241m=\u001b[39mby_row,\n\u001b[1;32m   4922\u001b[0m         args\u001b[38;5;241m=\u001b[39margs,\n\u001b[1;32m   4923\u001b[0m         kwargs\u001b[38;5;241m=\u001b[39mkwargs,\n\u001b[0;32m-> 4924\u001b[0m     )\u001b[38;5;241m.\u001b[39mapply()\n",
      "File \u001b[0;32m~/miniconda3/envs/moon/lib/python3.11/site-packages/pandas/core/apply.py:1427\u001b[0m, in \u001b[0;36mSeriesApply.apply\u001b[0;34m(self)\u001b[0m\n\u001b[1;32m   1424\u001b[0m     \u001b[38;5;28;01mreturn\u001b[39;00m \u001b[38;5;28mself\u001b[39m\u001b[38;5;241m.\u001b[39mapply_compat()\n\u001b[1;32m   1426\u001b[0m \u001b[38;5;66;03m# self.func is Callable\u001b[39;00m\n\u001b[0;32m-> 1427\u001b[0m \u001b[38;5;28;01mreturn\u001b[39;00m \u001b[38;5;28mself\u001b[39m\u001b[38;5;241m.\u001b[39mapply_standard()\n",
      "File \u001b[0;32m~/miniconda3/envs/moon/lib/python3.11/site-packages/pandas/core/apply.py:1507\u001b[0m, in \u001b[0;36mSeriesApply.apply_standard\u001b[0;34m(self)\u001b[0m\n\u001b[1;32m   1501\u001b[0m \u001b[38;5;66;03m# row-wise access\u001b[39;00m\n\u001b[1;32m   1502\u001b[0m \u001b[38;5;66;03m# apply doesn't have a `na_action` keyword and for backward compat reasons\u001b[39;00m\n\u001b[1;32m   1503\u001b[0m \u001b[38;5;66;03m# we need to give `na_action=\"ignore\"` for categorical data.\u001b[39;00m\n\u001b[1;32m   1504\u001b[0m \u001b[38;5;66;03m# TODO: remove the `na_action=\"ignore\"` when that default has been changed in\u001b[39;00m\n\u001b[1;32m   1505\u001b[0m \u001b[38;5;66;03m#  Categorical (GH51645).\u001b[39;00m\n\u001b[1;32m   1506\u001b[0m action \u001b[38;5;241m=\u001b[39m \u001b[38;5;124m\"\u001b[39m\u001b[38;5;124mignore\u001b[39m\u001b[38;5;124m\"\u001b[39m \u001b[38;5;28;01mif\u001b[39;00m \u001b[38;5;28misinstance\u001b[39m(obj\u001b[38;5;241m.\u001b[39mdtype, CategoricalDtype) \u001b[38;5;28;01melse\u001b[39;00m \u001b[38;5;28;01mNone\u001b[39;00m\n\u001b[0;32m-> 1507\u001b[0m mapped \u001b[38;5;241m=\u001b[39m obj\u001b[38;5;241m.\u001b[39m_map_values(\n\u001b[1;32m   1508\u001b[0m     mapper\u001b[38;5;241m=\u001b[39mcurried, na_action\u001b[38;5;241m=\u001b[39maction, convert\u001b[38;5;241m=\u001b[39m\u001b[38;5;28mself\u001b[39m\u001b[38;5;241m.\u001b[39mconvert_dtype\n\u001b[1;32m   1509\u001b[0m )\n\u001b[1;32m   1511\u001b[0m \u001b[38;5;28;01mif\u001b[39;00m \u001b[38;5;28mlen\u001b[39m(mapped) \u001b[38;5;129;01mand\u001b[39;00m \u001b[38;5;28misinstance\u001b[39m(mapped[\u001b[38;5;241m0\u001b[39m], ABCSeries):\n\u001b[1;32m   1512\u001b[0m     \u001b[38;5;66;03m# GH#43986 Need to do list(mapped) in order to get treated as nested\u001b[39;00m\n\u001b[1;32m   1513\u001b[0m     \u001b[38;5;66;03m#  See also GH#25959 regarding EA support\u001b[39;00m\n\u001b[1;32m   1514\u001b[0m     \u001b[38;5;28;01mreturn\u001b[39;00m obj\u001b[38;5;241m.\u001b[39m_constructor_expanddim(\u001b[38;5;28mlist\u001b[39m(mapped), index\u001b[38;5;241m=\u001b[39mobj\u001b[38;5;241m.\u001b[39mindex)\n",
      "File \u001b[0;32m~/miniconda3/envs/moon/lib/python3.11/site-packages/pandas/core/base.py:921\u001b[0m, in \u001b[0;36mIndexOpsMixin._map_values\u001b[0;34m(self, mapper, na_action, convert)\u001b[0m\n\u001b[1;32m    918\u001b[0m \u001b[38;5;28;01mif\u001b[39;00m \u001b[38;5;28misinstance\u001b[39m(arr, ExtensionArray):\n\u001b[1;32m    919\u001b[0m     \u001b[38;5;28;01mreturn\u001b[39;00m arr\u001b[38;5;241m.\u001b[39mmap(mapper, na_action\u001b[38;5;241m=\u001b[39mna_action)\n\u001b[0;32m--> 921\u001b[0m \u001b[38;5;28;01mreturn\u001b[39;00m algorithms\u001b[38;5;241m.\u001b[39mmap_array(arr, mapper, na_action\u001b[38;5;241m=\u001b[39mna_action, convert\u001b[38;5;241m=\u001b[39mconvert)\n",
      "File \u001b[0;32m~/miniconda3/envs/moon/lib/python3.11/site-packages/pandas/core/algorithms.py:1743\u001b[0m, in \u001b[0;36mmap_array\u001b[0;34m(arr, mapper, na_action, convert)\u001b[0m\n\u001b[1;32m   1741\u001b[0m values \u001b[38;5;241m=\u001b[39m arr\u001b[38;5;241m.\u001b[39mastype(\u001b[38;5;28mobject\u001b[39m, copy\u001b[38;5;241m=\u001b[39m\u001b[38;5;28;01mFalse\u001b[39;00m)\n\u001b[1;32m   1742\u001b[0m \u001b[38;5;28;01mif\u001b[39;00m na_action \u001b[38;5;129;01mis\u001b[39;00m \u001b[38;5;28;01mNone\u001b[39;00m:\n\u001b[0;32m-> 1743\u001b[0m     \u001b[38;5;28;01mreturn\u001b[39;00m lib\u001b[38;5;241m.\u001b[39mmap_infer(values, mapper, convert\u001b[38;5;241m=\u001b[39mconvert)\n\u001b[1;32m   1744\u001b[0m \u001b[38;5;28;01melse\u001b[39;00m:\n\u001b[1;32m   1745\u001b[0m     \u001b[38;5;28;01mreturn\u001b[39;00m lib\u001b[38;5;241m.\u001b[39mmap_infer_mask(\n\u001b[1;32m   1746\u001b[0m         values, mapper, mask\u001b[38;5;241m=\u001b[39misna(values)\u001b[38;5;241m.\u001b[39mview(np\u001b[38;5;241m.\u001b[39muint8), convert\u001b[38;5;241m=\u001b[39mconvert\n\u001b[1;32m   1747\u001b[0m     )\n",
      "File \u001b[0;32mlib.pyx:2972\u001b[0m, in \u001b[0;36mpandas._libs.lib.map_infer\u001b[0;34m()\u001b[0m\n",
      "Cell \u001b[0;32mIn[8], line 2\u001b[0m, in \u001b[0;36mparse_page_numbers\u001b[0;34m(val)\u001b[0m\n\u001b[1;32m      1\u001b[0m \u001b[38;5;28;01mdef\u001b[39;00m \u001b[38;5;21mparse_page_numbers\u001b[39m(val):\n\u001b[0;32m----> 2\u001b[0m     \u001b[38;5;28;01mif\u001b[39;00m pd\u001b[38;5;241m.\u001b[39misna(val):\n\u001b[1;32m      3\u001b[0m         \u001b[38;5;28;01mreturn\u001b[39;00m []\n\u001b[1;32m      4\u001b[0m     \u001b[38;5;28;01mreturn\u001b[39;00m [\u001b[38;5;28mint\u001b[39m(v\u001b[38;5;241m.\u001b[39mstrip()) \u001b[38;5;28;01mfor\u001b[39;00m v \u001b[38;5;129;01min\u001b[39;00m \u001b[38;5;28mstr\u001b[39m(val)\u001b[38;5;241m.\u001b[39msplit(\u001b[38;5;124m'\u001b[39m\u001b[38;5;124m,\u001b[39m\u001b[38;5;124m'\u001b[39m) \u001b[38;5;28;01mif\u001b[39;00m v\u001b[38;5;241m.\u001b[39mstrip()\u001b[38;5;241m.\u001b[39misdigit()]\n",
      "\u001b[0;31mValueError\u001b[0m: The truth value of an array with more than one element is ambiguous. Use a.any() or a.all()"
     ]
    }
   ],
   "source": [
    "def parse_page_numbers(val):\n",
    "    if pd.isna(val):\n",
    "        return []\n",
    "    return [int(v.strip()) for v in str(val).split(',') if v.strip().isdigit()]\n",
    "\n",
    "# Apply to the specific column\n",
    "df['Numéro de classe'] = df['Numéro de classe'].apply(parse_page_numbers)\n",
    "\n",
    "# Example: Filter rows where page number 1088 appears\n",
    "filtered_df = df[df['Numéro de classe'].apply(lambda x: 1088 in x)]\n",
    "\n",
    "# Print or export\n",
    "print(filtered_df)\n",
    "# df.to_csv(\"cleaned_output.csv\", index=False)"
   ]
  },
  {
   "cell_type": "code",
   "execution_count": 10,
   "id": "8d55658b",
   "metadata": {},
   "outputs": [
    {
     "name": "stdout",
     "output_type": "stream",
     "text": [
      "                                  Noms des déposants  \\\n",
      "0  Aachener Thermalwasser Kaiserbrunnen A G (Soci...   \n",
      "1                                 Abadie (Mlle M.L.)   \n",
      "2               Abadie (Société anonyme des Papiers)   \n",
      "3                                Abadie Léotard (E.)   \n",
      "4                           Abbat (G.) & Guenet (M.)   \n",
      "5                                       Page réelle.   \n",
      "6                                     Abbond (R.V.).   \n",
      "7                          Abécassis frères (C. &F.)   \n",
      "8     Abel-Bresson (Société anonyme Établissements).   \n",
      "9                                         Abélé (H.)   \n",
      "\n",
      "                       Numéro de classe  \n",
      "0                                 [888]  \n",
      "1                                 [584]  \n",
      "2  [1088, 1737, 1793, 1794, 1795, 1796]  \n",
      "3                            [506, 538]  \n",
      "4                                [1464]  \n",
      "5                                [1554]  \n",
      "6                                 [970]  \n",
      "7                                 [852]  \n",
      "8                                 [887]  \n",
      "9                                  [51]  \n"
     ]
    }
   ],
   "source": [
    "import pandas as pd\n",
    "import numpy as np\n",
    "\n",
    "# Load the CSV\n",
    "df = pd.read_csv(\"BOPI_MQ_TM_1922.csv\")\n",
    "\n",
    "# Function to clean and convert the \"Numéro de classe\" values\n",
    "def parse_numero_de_classe(val):\n",
    "    if pd.isna(val):  # Handles NaN\n",
    "        return []\n",
    "    if isinstance(val, (int, float)):\n",
    "        return [int(val)]\n",
    "    if isinstance(val, str):\n",
    "        # Remove unwanted trailing punctuation and whitespace\n",
    "        val = val.strip().rstrip('.')\n",
    "        # Split on commas and convert to int\n",
    "        return [int(v.strip()) for v in val.split(',') if v.strip().isdigit()]\n",
    "    return []\n",
    "\n",
    "# Apply to the \"Numéro de classe\" column\n",
    "df[\"Numéro de classe\"] = df[\"Numéro de classe\"].apply(parse_numero_de_classe)\n",
    "\n",
    "# View sample rows\n",
    "print(df[[\"Noms des déposants\", \"Numéro de classe\"]].head(10))\n",
    "\n",
    "# Optional: Save cleaned version\n",
    "df.to_csv(\"cleaned_bopi.csv\", index=False)\n"
   ]
  },
  {
   "cell_type": "code",
   "execution_count": 16,
   "id": "f3cf67a3",
   "metadata": {},
   "outputs": [
    {
     "data": {
      "text/plain": [
       "[2]"
      ]
     },
     "execution_count": 16,
     "metadata": {},
     "output_type": "execute_result"
    }
   ],
   "source": [
    "import re\n",
    "\n",
    "df = pd.read_csv(\"cleaned_bopi.csv\")\n",
    "# Function to extract all numbers using regex\n",
    "def extract_numbers_regex(val):\n",
    "    if pd.isna(val):\n",
    "        return []\n",
    "    numbers = re.findall(r'\\d+', str(val))  # Finds all digit sequences\n",
    "    return [int(num) for num in numbers]\n",
    "\n",
    "extract_numbers_regex(2)\n"
   ]
  },
  {
   "cell_type": "code",
   "execution_count": 20,
   "id": "e4a8aea9",
   "metadata": {},
   "outputs": [
    {
     "data": {
      "text/plain": [
       "[2]"
      ]
     },
     "execution_count": 20,
     "metadata": {},
     "output_type": "execute_result"
    }
   ],
   "source": [
    "import re\n",
    "\n",
    "df = pd.read_csv(\"bopi_exploded.csv\")\n",
    "\n",
    "# Function to extract numbers using regex\n",
    "def extract_numbers_regex(val):\n",
    "    if pd.isna(val):\n",
    "        return []\n",
    "    return [int(num) for num in re.findall(r\"\\d+\", str(val))]\n",
    "\n",
    "\n",
    "extract_numbers_regex(2)\n"
   ]
  },
  {
   "cell_type": "code",
   "execution_count": 2,
   "id": "4b14bb6e",
   "metadata": {},
   "outputs": [],
   "source": [
    "import pandas as pd\n",
    "import re\n",
    "\n",
    "# Load CSV\n",
    "df = pd.read_csv(\"BOPI_MQ_TM_1922.csv\")\n",
    "\n",
    "# Function to extract numbers using regex\n",
    "def extract_numbers(val):\n",
    "    if pd.isna(val):\n",
    "        return []\n",
    "    return [int(num) for num in re.findall(r'\\d+', str(val))]\n",
    "\n",
    "# Apply the function to the \"Numéro de classe\" column\n",
    "df[\"Numéro de classe\"] = df[\"Numéro de classe\"].apply(extract_numbers)\n",
    "\n",
    "# Explode the column so each number gets its own row\n",
    "df_exploded = df.explode(\"Numéro de classe\", ignore_index=True)\n",
    "\n",
    "# Optional: Save or view\n",
    "df_exploded.to_csv(\"bopi_exploded.csv\", index=False)\n"
   ]
  },
  {
   "cell_type": "code",
   "execution_count": 5,
   "id": "a104b0d1",
   "metadata": {},
   "outputs": [
    {
     "data": {
      "text/html": [
       "<div>\n",
       "<style scoped>\n",
       "    .dataframe tbody tr th:only-of-type {\n",
       "        vertical-align: middle;\n",
       "    }\n",
       "\n",
       "    .dataframe tbody tr th {\n",
       "        vertical-align: top;\n",
       "    }\n",
       "\n",
       "    .dataframe thead th {\n",
       "        text-align: right;\n",
       "    }\n",
       "</style>\n",
       "<table border=\"1\" class=\"dataframe\">\n",
       "  <thead>\n",
       "    <tr style=\"text-align: right;\">\n",
       "      <th></th>\n",
       "      <th>Année du BOPI</th>\n",
       "      <th>Numéro de pages du BOPI</th>\n",
       "      <th>Lettres alphabétiques</th>\n",
       "      <th>Noms des déposants</th>\n",
       "      <th>Numéro de classe</th>\n",
       "      <th>Numéro des pages correspondantes</th>\n",
       "      <th>ERRATA</th>\n",
       "      <th>Numéro de la marque</th>\n",
       "      <th>Renonciation totale</th>\n",
       "      <th>Renonciation partielle</th>\n",
       "    </tr>\n",
       "  </thead>\n",
       "  <tbody>\n",
       "    <tr>\n",
       "      <th>19</th>\n",
       "      <td>1922</td>\n",
       "      <td>5</td>\n",
       "      <td>A</td>\n",
       "      <td>Abramovici (E.).</td>\n",
       "      <td>2.0</td>\n",
       "      <td>NaN</td>\n",
       "      <td>NaN</td>\n",
       "      <td>NaN</td>\n",
       "      <td>NaN</td>\n",
       "      <td>NaN</td>\n",
       "    </tr>\n",
       "    <tr>\n",
       "      <th>184</th>\n",
       "      <td>1922</td>\n",
       "      <td>5</td>\n",
       "      <td>A</td>\n",
       "      <td>Amieux frères &amp; Cie (Société).</td>\n",
       "      <td>2.0</td>\n",
       "      <td>761, 766, 767, 768, 769, 915, 1311, 1437, 1438...</td>\n",
       "      <td>NaN</td>\n",
       "      <td>NaN</td>\n",
       "      <td>NaN</td>\n",
       "      <td>NaN</td>\n",
       "    </tr>\n",
       "    <tr>\n",
       "      <th>2740</th>\n",
       "      <td>1922</td>\n",
       "      <td>14</td>\n",
       "      <td>C</td>\n",
       "      <td>Cô Hien</td>\n",
       "      <td>2.0</td>\n",
       "      <td>NaN</td>\n",
       "      <td>NaN</td>\n",
       "      <td>NaN</td>\n",
       "      <td>NaN</td>\n",
       "      <td>NaN</td>\n",
       "    </tr>\n",
       "    <tr>\n",
       "      <th>2871</th>\n",
       "      <td>1922</td>\n",
       "      <td>14</td>\n",
       "      <td>C</td>\n",
       "      <td>Compagnie Française de l’Afrique Occidentale.</td>\n",
       "      <td>2.0</td>\n",
       "      <td>NaN</td>\n",
       "      <td>NaN</td>\n",
       "      <td>NaN</td>\n",
       "      <td>NaN</td>\n",
       "      <td>NaN</td>\n",
       "    </tr>\n",
       "  </tbody>\n",
       "</table>\n",
       "</div>"
      ],
      "text/plain": [
       "      Année du BOPI Numéro de pages du BOPI Lettres alphabétiques  \\\n",
       "19             1922                       5                     A   \n",
       "184            1922                       5                     A   \n",
       "2740           1922                      14                     C   \n",
       "2871           1922                      14                     C   \n",
       "\n",
       "                                 Noms des déposants  Numéro de classe  \\\n",
       "19                                 Abramovici (E.).               2.0   \n",
       "184                 Amieux frères & Cie (Société).                2.0   \n",
       "2740                                        Cô Hien               2.0   \n",
       "2871  Compagnie Française de l’Afrique Occidentale.               2.0   \n",
       "\n",
       "                       Numéro des pages correspondantes  ERRATA  \\\n",
       "19                                                  NaN     NaN   \n",
       "184   761, 766, 767, 768, 769, 915, 1311, 1437, 1438...     NaN   \n",
       "2740                                                NaN     NaN   \n",
       "2871                                                NaN     NaN   \n",
       "\n",
       "      Numéro de la marque  Renonciation totale  Renonciation partielle  \n",
       "19                    NaN                  NaN                     NaN  \n",
       "184                   NaN                  NaN                     NaN  \n",
       "2740                  NaN                  NaN                     NaN  \n",
       "2871                  NaN                  NaN                     NaN  "
      ]
     },
     "execution_count": 5,
     "metadata": {},
     "output_type": "execute_result"
    }
   ],
   "source": [
    "df = pd.read_csv(\"bopi_exploded.csv\")\n",
    "df[df[\"Numéro de classe\"]==2]"
   ]
  },
  {
   "cell_type": "code",
   "execution_count": null,
   "id": "31486953",
   "metadata": {},
   "outputs": [],
   "source": []
  }
 ],
 "metadata": {
  "kernelspec": {
   "display_name": "moon",
   "language": "python",
   "name": "python3"
  },
  "language_info": {
   "codemirror_mode": {
    "name": "ipython",
    "version": 3
   },
   "file_extension": ".py",
   "mimetype": "text/x-python",
   "name": "python",
   "nbconvert_exporter": "python",
   "pygments_lexer": "ipython3",
   "version": "3.11.7"
  }
 },
 "nbformat": 4,
 "nbformat_minor": 5
}
