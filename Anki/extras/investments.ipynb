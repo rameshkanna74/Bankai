{
 "cells": [
  {
   "cell_type": "markdown",
   "metadata": {},
   "source": [
    "## insurance and investment is different\n",
    "\n",
    "life insurance\n",
    "\n",
    "disability insurance\n",
    "\n",
    "medical insurance\n",
    "\n",
    "---\n",
    "\n",
    "## long term savings\n",
    "\n",
    "index fund or mutual fund or SIP\n",
    "\n",
    "FD / RD\n",
    "\n",
    "PPF\n",
    "\n",
    "---\n",
    "\n",
    "## short term savings\n",
    "\n",
    "RD different account\n",
    "\n",
    "sip of mutual funds\n",
    "\n",
    "---\n",
    "\n",
    "Stock market\n",
    "\n",
    "---\n",
    "\n",
    "## understand needs and want\n",
    "\n",
    "---\n",
    "\n",
    "takeaway\n",
    "\n",
    "1. open a demat account\n",
    "\n",
    "2. open a PPF account\n",
    "\n",
    "3. Term insurance\n",
    "\n",
    "4. Disability insurance\n",
    "\n",
    "5. Save and Invest first, spend later\n"
   ]
  },
  {
   "cell_type": "markdown",
   "metadata": {},
   "source": [
    "real wealth is when you wake up , you should do whatever you want to do"
   ]
  },
  {
   "cell_type": "code",
   "execution_count": null,
   "metadata": {
    "vscode": {
     "languageId": "plaintext"
    }
   },
   "outputs": [],
   "source": [
    "impl Solution {\n",
    "    pub fn reverse_string(s: &mut Vec<char>) {\n",
    "        let mut left = 0;\n",
    "        let mut right = s.len() - 1;\n",
    "\n",
    "        while left < right {\n",
    "            let temp = s[left];\n",
    "            s[left] = s[right];\n",
    "            s[right] = temp;\n",
    "\n",
    "            left += 1;\n",
    "            right -= 1;\n",
    "        }\n",
    "      }\n",
    "}   "
   ]
  },
  {
   "cell_type": "code",
   "execution_count": null,
   "metadata": {
    "vscode": {
     "languageId": "plaintext"
    }
   },
   "outputs": [],
   "source": [
    "impl Solution {\n",
    "    pub fn remove_duplicates(nums: &mut Vec<i32>) -> i32 {\n",
    "    if nums.is_empty(){\n",
    "        return 0;\n",
    "    }       \n",
    "\n",
    "    let mut i:usize = 0;\n",
    "    for j in 1..nums.len() {\n",
    "        if nums[j] != nums[i]{\n",
    "            i += 1;\n",
    "            nums[i] = nums[j];\n",
    "        }\n",
    "    }\n",
    "    (i + 1) as i32\n",
    "    }\n",
    "}"
   ]
  }
 ],
 "metadata": {
  "language_info": {
   "name": "python"
  }
 },
 "nbformat": 4,
 "nbformat_minor": 2
}
