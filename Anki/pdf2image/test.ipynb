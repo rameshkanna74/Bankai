{
 "cells": [
  {
   "cell_type": "code",
   "execution_count": 6,
   "metadata": {},
   "outputs": [
    {
     "name": "stdout",
     "output_type": "stream",
     "text": [
      "Requirement already satisfied: openpyxl in ./Bankai/lib/python3.12/site-packages (3.1.5)\n",
      "Requirement already satisfied: et-xmlfile in ./Bankai/lib/python3.12/site-packages (from openpyxl) (2.0.0)\n"
     ]
    }
   ],
   "source": [
    "!pip install openpyxl"
   ]
  },
  {
   "cell_type": "code",
   "execution_count": 7,
   "metadata": {},
   "outputs": [],
   "source": [
    "import pandas as pd\n",
    "from sklearn.model_selection import train_test_split\n",
    "from sklearn.feature_extraction.text import TfidfVectorizer\n",
    "from sklearn.preprocessing import StandardScaler\n",
    "from sklearn.neighbors import KNeighborsClassifier\n",
    "from sklearn.metrics import accuracy_score\n",
    "import numpy as np\n",
    "\n",
    "# Define global objects for reusability\n",
    "vectorizer = TfidfVectorizer()\n",
    "scaler = StandardScaler()\n",
    "knn = None  # Initialize KNN as None to define it later\n",
    "\n",
    "def model():\n",
    "    global vectorizer, scaler, knn\n",
    "\n",
    "    # Correct file path\n",
    "    file_path = \"Sample_data.xlsx\"\n",
    "\n",
    "    # Read the data\n",
    "    df = pd.read_excel(file_path)\n",
    "\n",
    "    # Ensure numeric column is clean\n",
    "    df[\"matricule_ocr_value\"] = pd.to_numeric(df[\"matricule_ocr_value\"], errors='coerce')\n",
    "\n",
    "    # Drop rows with invalid numeric values\n",
    "    df = df.dropna(subset=[\"matricule_ocr_value\"])\n",
    "\n",
    "    # Extract features and target\n",
    "    X_text = df[\"Full_name\"]\n",
    "    X_numeric = df[\"matricule_ocr_value\"].values.reshape(-1, 1)\n",
    "    y = df[\"Corrected_Name\"]\n",
    "\n",
    "    # Split the data into training and testing sets\n",
    "    X_text_train, X_text_test, X_numeric_train, X_numeric_test, y_train, y_test = train_test_split(\n",
    "        X_text, X_numeric, y, test_size=0.2, random_state=42\n",
    "    )\n",
    "\n",
    "    # Text feature vectorization\n",
    "    X_text_train_vectors = vectorizer.fit_transform(X_text_train)\n",
    "    X_text_test_vectors = vectorizer.transform(X_text_test)\n",
    "\n",
    "    # Numeric feature scaling\n",
    "    X_numeric_train_scaled = scaler.fit_transform(X_numeric_train)\n",
    "    X_numeric_test_scaled = scaler.transform(X_numeric_test)\n",
    "\n",
    "    # Combine text and numeric features\n",
    "    X_train_combined = np.hstack([X_text_train_vectors.toarray(), X_numeric_train_scaled])\n",
    "    X_test_combined = np.hstack([X_text_test_vectors.toarray(), X_numeric_test_scaled])\n",
    "\n",
    "    # Train KNN model\n",
    "    knn = KNeighborsClassifier(n_neighbors=1)\n",
    "    knn.fit(X_train_combined, y_train)\n",
    "\n",
    "    # Make predictions\n",
    "    y_pred = knn.predict(X_test_combined)\n",
    "\n",
    "    # Calculate accuracy\n",
    "    accuracy = accuracy_score(y_test, y_pred)\n",
    "    print(\"Accuracy:\", accuracy)\n",
    "\n",
    "def new_data():\n",
    "    global vectorizer, scaler, knn\n",
    "\n",
    "    if knn is None:\n",
    "        print(\"Model is not trained yet. Please run the 'model' function first.\")\n",
    "        return\n",
    "\n",
    "    # Input new data interactively\n",
    "    matricule_number = float(input(\"Enter the Matricule number: \"))\n",
    "    full_name = input(\"Enter the Full name: \")\n",
    "\n",
    "    # Transform new text data using the existing vectorizer\n",
    "    new_text_vectors = vectorizer.transform([full_name])\n",
    "\n",
    "    # Scale new numeric data using the existing scaler\n",
    "    new_numeric_scaled = scaler.transform(np.array([matricule_number]).reshape(-1, 1))\n",
    "\n",
    "    # Combine new features\n",
    "    new_combined = np.hstack([new_text_vectors.toarray(), new_numeric_scaled])\n",
    "\n",
    "    # Predict using the trained KNN model\n",
    "    prediction = knn.predict(new_combined)\n",
    "\n",
    "    print(\"Prediction for new data:\")\n",
    "    print(f\"Matricule: {matricule_number}, Combined Text: '{full_name}', Predicted Name: {prediction[0]}\")\n"
   ]
  },
  {
   "cell_type": "code",
   "execution_count": 8,
   "metadata": {},
   "outputs": [
    {
     "name": "stdout",
     "output_type": "stream",
     "text": [
      "Accuracy: 0.968944099378882\n"
     ]
    }
   ],
   "source": [
    "model()"
   ]
  },
  {
   "cell_type": "code",
   "execution_count": 9,
   "metadata": {},
   "outputs": [
    {
     "name": "stdout",
     "output_type": "stream",
     "text": [
      "Prediction for new data:\n",
      "Matricule: 904817.0, Combined Text: 'Allard A', Predicted Name: Allard Arthur\n"
     ]
    }
   ],
   "source": [
    "new_data()"
   ]
  },
  {
   "cell_type": "code",
   "execution_count": null,
   "metadata": {},
   "outputs": [],
   "source": []
  }
 ],
 "metadata": {
  "kernelspec": {
   "display_name": "Bankai",
   "language": "python",
   "name": "python3"
  },
  "language_info": {
   "codemirror_mode": {
    "name": "ipython",
    "version": 3
   },
   "file_extension": ".py",
   "mimetype": "text/x-python",
   "name": "python",
   "nbconvert_exporter": "python",
   "pygments_lexer": "ipython3",
   "version": "3.12.8"
  }
 },
 "nbformat": 4,
 "nbformat_minor": 2
}
