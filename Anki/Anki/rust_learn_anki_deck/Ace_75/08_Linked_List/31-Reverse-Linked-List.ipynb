{
  "cells": [
    {
      "cell_type": "markdown",
      "metadata": {},
      "source": [
        "\nProvide the **most optimized, production-quality, and interview-ready Rust solution** for the following DSA problem:\n\n### Problem:\n\n\n\n### Typing\n\n```rust\n\n```\n\n---\n\n### Requirements:\n\n🔹 **Optimal Time Complexity**\n\n- State the algorithm's time complexity and justify why it is optimal given the problem constraints.\n\n🔹 **Optimal Space Complexity**\n\n- Minimize extra space usage and explain the space complexity.\n\n🔹 **Rust Code Quality**\n\n- Use **clean, idiomatic, modular Rust code** suitable for **FAANG/MAANG interviews**.\n- Follow **ownership, borrowing, and iterator best practices**.\n- Include **realistic interview-level function signatures** (`fn solve(...) -> ...`).\n- Avoid unnecessary `unwrap()`, `expect()`, or unsafe code unless clearly justified.\n- Handle all **edge cases** thoughtfully within the code.\n- Provide **unit tests** (`#[test]`) for common and edge cases.\n\n🔹 **Algorithm Explanation**\n\n- Describe the **core DSA concepts** used (e.g., Greedy, DP, Binary Search).\n- Explain the **algorithm design, reasoning**, and why this is the most optimal approach.\n- Discuss any **critical trade-offs** made.\n- Identify common **edge cases** and explain how they are handled.\n\n🔹 **Constraints & Scalability**\n\n- Analyze the solution's behavior under **maximum input sizes**.\n- Confirm it passes **stress tests** without significant performance degradation.\n\n🔹 **DSA Tags**\n\n- Suggest relevant DSA topics (e.g., Arrays, Trees, Graphs, Dynamic Programming, Sliding Window).\n\n🔹 **Follow-up Enhancements (Optional)**\n\n- How would the solution adapt to **streaming input**, **parallelization**, or **distributed systems**?\n- What are potential **real-world applications** of this approach?\n"
      ]
    },
    {
      "cell_type": "markdown",
      "metadata": {},
      "source": [
        "206. Reverse Linked List\n",
        "     Easy\n",
        "     Topics\n",
        "     Companies\n",
        "\n",
        "Given the head of a singly linked list, reverse the list, and return the reversed list.\n",
        "\n",
        "Example 1:\n",
        "\n",
        "Input: head = [1,2,3,4,5]\n",
        "Output: [5,4,3,2,1]\n",
        "\n",
        "Example 2:\n",
        "\n",
        "Input: head = [1,2]\n",
        "Output: [2,1]\n",
        "\n",
        "Example 3:\n",
        "\n",
        "Input: head = []\n",
        "Output: []\n",
        "\n",
        "Constraints:\n",
        "\n",
        "    The number of nodes in the list is the range [0, 5000].\n",
        "    -5000 <= Node.val <= 5000\n",
        "\n",
        "Follow up: A linked list can be reversed either iteratively or recursively. Could you implement both?\n",
        "\n",
        "---\n",
        "\n",
        "give best time and space complexity code in rust,give variables usefull name, add comments to explain the code way more clear,also add code to run example case, use below typing\n",
        "\n",
        "---\n",
        "\n",
        "// Definition for singly-linked list.\n",
        "// #[derive(PartialEq, Eq, Clone, Debug)]\n",
        "// pub struct ListNode {\n",
        "// pub val: i32,\n",
        "// pub next: Option<Box<ListNode>>\n",
        "// }\n",
        "//\n",
        "// impl ListNode {\n",
        "// #[inline]\n",
        "// fn new(val: i32) -> Self {\n",
        "// ListNode {\n",
        "// next: None,\n",
        "// val\n",
        "// }\n",
        "// }\n",
        "// }\n",
        "impl Solution {\n",
        "pub fn reverse_list(head: Option<Box<ListNode>>) -> Option<Box<ListNode>> {\n",
        "\n",
        "    }\n",
        "\n",
        "}\n"
      ]
    }
  ],
  "metadata": {
    "language_info": {
      "name": "python"
    }
  },
  "nbformat": 4,
  "nbformat_minor": 4
}