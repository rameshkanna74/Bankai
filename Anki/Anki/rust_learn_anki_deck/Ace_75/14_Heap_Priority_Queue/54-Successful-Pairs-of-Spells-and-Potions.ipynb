{
  "cells": [
    {
      "cell_type": "markdown",
      "metadata": {},
      "source": [
        "\nProvide the **most optimized, production-quality, and interview-ready Rust solution** for the following DSA problem:\n\n### Problem:\n\n\n\n### Typing\n\n```rust\n\n```\n\n---\n\n### Requirements:\n\n🔹 **Optimal Time Complexity**\n\n- State the algorithm's time complexity and justify why it is optimal given the problem constraints.\n\n🔹 **Optimal Space Complexity**\n\n- Minimize extra space usage and explain the space complexity.\n\n🔹 **Rust Code Quality**\n\n- Use **clean, idiomatic, modular Rust code** suitable for **FAANG/MAANG interviews**.\n- Follow **ownership, borrowing, and iterator best practices**.\n- Include **realistic interview-level function signatures** (`fn solve(...) -> ...`).\n- Avoid unnecessary `unwrap()`, `expect()`, or unsafe code unless clearly justified.\n- Handle all **edge cases** thoughtfully within the code.\n- Provide **unit tests** (`#[test]`) for common and edge cases.\n\n🔹 **Algorithm Explanation**\n\n- Describe the **core DSA concepts** used (e.g., Greedy, DP, Binary Search).\n- Explain the **algorithm design, reasoning**, and why this is the most optimal approach.\n- Discuss any **critical trade-offs** made.\n- Identify common **edge cases** and explain how they are handled.\n\n🔹 **Constraints & Scalability**\n\n- Analyze the solution's behavior under **maximum input sizes**.\n- Confirm it passes **stress tests** without significant performance degradation.\n\n🔹 **DSA Tags**\n\n- Suggest relevant DSA topics (e.g., Arrays, Trees, Graphs, Dynamic Programming, Sliding Window).\n\n🔹 **Follow-up Enhancements (Optional)**\n\n- How would the solution adapt to **streaming input**, **parallelization**, or **distributed systems**?\n- What are potential **real-world applications** of this approach?\n"
      ]
    },
    {
      "cell_type": "markdown",
      "metadata": {},
      "source": [
        "2300. Successful Pairs of Spells and Potions\n",
        "Medium\n",
        "Topics\n",
        "Companies\n",
        "Hint\n",
        "\n",
        "You are given two positive integer arrays spells and potions, of length n and m respectively, where spells[i] represents the strength of the ith spell and potions[j] represents the strength of the jth potion.\n",
        "\n",
        "You are also given an integer success. A spell and potion pair is considered successful if the product of their strengths is at least success.\n",
        "\n",
        "Return an integer array pairs of length n where pairs[i] is the number of potions that will form a successful pair with the ith spell.\n",
        "\n",
        " \n",
        "\n",
        "Example 1:\n",
        "\n",
        "Input: spells = [5,1,3], potions = [1,2,3,4,5], success = 7\n",
        "Output: [4,0,3]\n",
        "Explanation:\n",
        "- 0th spell: 5 * [1,2,3,4,5] = [5,10,15,20,25]. 4 pairs are successful.\n",
        "- 1st spell: 1 * [1,2,3,4,5] = [1,2,3,4,5]. 0 pairs are successful.\n",
        "- 2nd spell: 3 * [1,2,3,4,5] = [3,6,9,12,15]. 3 pairs are successful.\n",
        "Thus, [4,0,3] is returned.\n",
        "\n",
        "Example 2:\n",
        "\n",
        "Input: spells = [3,1,2], potions = [8,5,8], success = 16\n",
        "Output: [2,0,2]\n",
        "Explanation:\n",
        "- 0th spell: 3 * [8,5,8] = [24,15,24]. 2 pairs are successful.\n",
        "- 1st spell: 1 * [8,5,8] = [8,5,8]. 0 pairs are successful. \n",
        "- 2nd spell: 2 * [8,5,8] = [16,10,16]. 2 pairs are successful. \n",
        "Thus, [2,0,2] is returned.\n",
        "\n",
        " \n",
        "\n",
        "Constraints:\n",
        "\n",
        "    n == spells.length\n",
        "    m == potions.length\n",
        "    1 <= n, m <= 105\n",
        "    1 <= spells[i], potions[i] <= 105\n",
        "    1 <= success <= 1010\n",
        "\n",
        "\n",
        "\n",
        "---\n",
        "\n",
        "give best time and space complexity code in rust,give variables usefull name, add comments to explain the code way more clear,also add code to run example case, use below typing\n",
        "\n",
        "---\n",
        "\n",
        "impl Solution {\n",
        "    pub fn successful_pairs(spells: Vec<i32>, potions: Vec<i32>, success: i64) -> Vec<i32> {\n",
        "        \n",
        "    }\n",
        "}"
      ]
    }
  ],
  "metadata": {
    "language_info": {
      "name": "python"
    }
  },
  "nbformat": 4,
  "nbformat_minor": 4
}