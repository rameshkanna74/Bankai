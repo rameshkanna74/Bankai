{
  "cells": [
    {
      "cell_type": "markdown",
      "metadata": {},
      "source": [
        "\nProvide the **most optimized, production-quality, and interview-ready Rust solution** for the following DSA problem:\n\n### Problem:\n\n\n\n### Typing\n\n```rust\n\n```\n\n---\n\n### Requirements:\n\n🔹 **Optimal Time Complexity**\n\n- State the algorithm's time complexity and justify why it is optimal given the problem constraints.\n\n🔹 **Optimal Space Complexity**\n\n- Minimize extra space usage and explain the space complexity.\n\n🔹 **Rust Code Quality**\n\n- Use **clean, idiomatic, modular Rust code** suitable for **FAANG/MAANG interviews**.\n- Follow **ownership, borrowing, and iterator best practices**.\n- Include **realistic interview-level function signatures** (`fn solve(...) -> ...`).\n- Avoid unnecessary `unwrap()`, `expect()`, or unsafe code unless clearly justified.\n- Handle all **edge cases** thoughtfully within the code.\n- Provide **unit tests** (`#[test]`) for common and edge cases.\n\n🔹 **Algorithm Explanation**\n\n- Describe the **core DSA concepts** used (e.g., Greedy, DP, Binary Search).\n- Explain the **algorithm design, reasoning**, and why this is the most optimal approach.\n- Discuss any **critical trade-offs** made.\n- Identify common **edge cases** and explain how they are handled.\n\n🔹 **Constraints & Scalability**\n\n- Analyze the solution's behavior under **maximum input sizes**.\n- Confirm it passes **stress tests** without significant performance degradation.\n\n🔹 **DSA Tags**\n\n- Suggest relevant DSA topics (e.g., Arrays, Trees, Graphs, Dynamic Programming, Sliding Window).\n\n🔹 **Follow-up Enhancements (Optional)**\n\n- How would the solution adapt to **streaming input**, **parallelization**, or **distributed systems**?\n- What are potential **real-world applications** of this approach?\n"
      ]
    },
    {
      "cell_type": "markdown",
      "metadata": {},
      "source": [
        "735. Asteroid Collision\n",
        "     Medium\n",
        "     Topics\n",
        "     Companies\n",
        "     Hint\n",
        "\n",
        "We are given an array asteroids of integers representing asteroids in a row.\n",
        "\n",
        "For each asteroid, the absolute value represents its size, and the sign represents its direction (positive meaning right, negative meaning left). Each asteroid moves at the same speed.\n",
        "\n",
        "Find out the state of the asteroids after all collisions. If two asteroids meet, the smaller one will explode. If both are the same size, both will explode. Two asteroids moving in the same direction will never meet.\n",
        "\n",
        "Example 1:\n",
        "\n",
        "Input: asteroids = [5,10,-5]\n",
        "Output: [5,10]\n",
        "Explanation: The 10 and -5 collide resulting in 10. The 5 and 10 never collide.\n",
        "\n",
        "Example 2:\n",
        "\n",
        "Input: asteroids = [8,-8]\n",
        "Output: []\n",
        "Explanation: The 8 and -8 collide exploding each other.\n",
        "\n",
        "Example 3:\n",
        "\n",
        "Input: asteroids = [10,2,-5]\n",
        "Output: [10]\n",
        "Explanation: The 2 and -5 collide resulting in -5. The 10 and -5 collide resulting in 10.\n",
        "\n",
        "Constraints:\n",
        "\n",
        "    2 <= asteroids.length <= 104\n",
        "    -1000 <= asteroids[i] <= 1000\n",
        "    asteroids[i] != 0\n",
        "\n",
        "---\n",
        "\n",
        "give best time and space complexity code in rust,give variables usefull name, add comments to explain the code way more clear,also add code to run example case, use below typing\n",
        "\n",
        "---\n",
        "\n",
        "impl Solution {\n",
        "pub fn asteroid_collision(asteroids: Vec<i32>) -> Vec<i32> {\n",
        "\n",
        "    }\n",
        "\n",
        "}\n"
      ]
    }
  ],
  "metadata": {
    "kernelspec": {
      "display_name": "Rust",
      "language": "rust",
      "name": "rust"
    },
    "language_info": {
      "name": "rust"
    }
  },
  "nbformat": 4,
  "nbformat_minor": 4
}