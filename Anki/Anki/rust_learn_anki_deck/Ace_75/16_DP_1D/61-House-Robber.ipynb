{
  "cells": [
    {
      "cell_type": "markdown",
      "metadata": {},
      "source": [
        "\nProvide the **most optimized, production-quality, and interview-ready Rust solution** for the following DSA problem:\n\n### Problem:\n\n\n\n### Typing\n\n```rust\n\n```\n\n---\n\n### Requirements:\n\n🔹 **Optimal Time Complexity**\n\n- State the algorithm's time complexity and justify why it is optimal given the problem constraints.\n\n🔹 **Optimal Space Complexity**\n\n- Minimize extra space usage and explain the space complexity.\n\n🔹 **Rust Code Quality**\n\n- Use **clean, idiomatic, modular Rust code** suitable for **FAANG/MAANG interviews**.\n- Follow **ownership, borrowing, and iterator best practices**.\n- Include **realistic interview-level function signatures** (`fn solve(...) -> ...`).\n- Avoid unnecessary `unwrap()`, `expect()`, or unsafe code unless clearly justified.\n- Handle all **edge cases** thoughtfully within the code.\n- Provide **unit tests** (`#[test]`) for common and edge cases.\n\n🔹 **Algorithm Explanation**\n\n- Describe the **core DSA concepts** used (e.g., Greedy, DP, Binary Search).\n- Explain the **algorithm design, reasoning**, and why this is the most optimal approach.\n- Discuss any **critical trade-offs** made.\n- Identify common **edge cases** and explain how they are handled.\n\n🔹 **Constraints & Scalability**\n\n- Analyze the solution's behavior under **maximum input sizes**.\n- Confirm it passes **stress tests** without significant performance degradation.\n\n🔹 **DSA Tags**\n\n- Suggest relevant DSA topics (e.g., Arrays, Trees, Graphs, Dynamic Programming, Sliding Window).\n\n🔹 **Follow-up Enhancements (Optional)**\n\n- How would the solution adapt to **streaming input**, **parallelization**, or **distributed systems**?\n- What are potential **real-world applications** of this approach?\n"
      ]
    },
    {
      "cell_type": "markdown",
      "metadata": {},
      "source": [
        "198. House Robber\n",
        "     Medium\n",
        "     Topics\n",
        "     Companies\n",
        "\n",
        "You are a professional robber planning to rob houses along a street. Each house has a certain amount of money stashed, the only constraint stopping you from robbing each of them is that adjacent houses have security systems connected and it will automatically contact the police if two adjacent houses were broken into on the same night.\n",
        "\n",
        "Given an integer array nums representing the amount of money of each house, return the maximum amount of money you can rob tonight without alerting the police.\n",
        "\n",
        "Example 1:\n",
        "\n",
        "Input: nums = [1,2,3,1]\n",
        "Output: 4\n",
        "Explanation: Rob house 1 (money = 1) and then rob house 3 (money = 3).\n",
        "Total amount you can rob = 1 + 3 = 4.\n",
        "\n",
        "Example 2:\n",
        "\n",
        "Input: nums = [2,7,9,3,1]\n",
        "Output: 12\n",
        "Explanation: Rob house 1 (money = 2), rob house 3 (money = 9) and rob house 5 (money = 1).\n",
        "Total amount you can rob = 2 + 9 + 1 = 12.\n",
        "\n",
        "Constraints:\n",
        "\n",
        "    1 <= nums.length <= 100\n",
        "    0 <= nums[i] <= 400\n",
        "\n",
        "---\n",
        "\n",
        "give best time and space complexity code in rust,give variables usefull name, add comments to explain the code way more clear,also add code to run example case, use below typing\n",
        "\n",
        "---\n",
        "\n",
        "impl Solution {\n",
        "pub fn rob(nums: Vec<i32>) -> i32 {\n",
        "\n",
        "    }\n",
        "\n",
        "}\n"
      ]
    }
  ],
  "metadata": {
    "language_info": {
      "name": "python"
    }
  },
  "nbformat": 4,
  "nbformat_minor": 4
}