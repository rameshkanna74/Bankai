{
  "cells": [
    {
      "cell_type": "markdown",
      "metadata": {},
      "source": [
        "\nProvide the **most optimized, production-quality, and interview-ready Rust solution** for the following DSA problem:\n\n### Problem:\n\n\n\n### Typing\n\n```rust\n\n```\n\n---\n\n### Requirements:\n\n🔹 **Optimal Time Complexity**\n\n- State the algorithm's time complexity and justify why it is optimal given the problem constraints.\n\n🔹 **Optimal Space Complexity**\n\n- Minimize extra space usage and explain the space complexity.\n\n🔹 **Rust Code Quality**\n\n- Use **clean, idiomatic, modular Rust code** suitable for **FAANG/MAANG interviews**.\n- Follow **ownership, borrowing, and iterator best practices**.\n- Include **realistic interview-level function signatures** (`fn solve(...) -> ...`).\n- Avoid unnecessary `unwrap()`, `expect()`, or unsafe code unless clearly justified.\n- Handle all **edge cases** thoughtfully within the code.\n- Provide **unit tests** (`#[test]`) for common and edge cases.\n\n🔹 **Algorithm Explanation**\n\n- Describe the **core DSA concepts** used (e.g., Greedy, DP, Binary Search).\n- Explain the **algorithm design, reasoning**, and why this is the most optimal approach.\n- Discuss any **critical trade-offs** made.\n- Identify common **edge cases** and explain how they are handled.\n\n🔹 **Constraints & Scalability**\n\n- Analyze the solution's behavior under **maximum input sizes**.\n- Confirm it passes **stress tests** without significant performance degradation.\n\n🔹 **DSA Tags**\n\n- Suggest relevant DSA topics (e.g., Arrays, Trees, Graphs, Dynamic Programming, Sliding Window).\n\n🔹 **Follow-up Enhancements (Optional)**\n\n- How would the solution adapt to **streaming input**, **parallelization**, or **distributed systems**?\n- What are potential **real-world applications** of this approach?\n"
      ]
    },
    {
      "cell_type": "markdown",
      "metadata": {},
      "source": [
        "11. Container With Most Water\n",
        "\n",
        "You are given an integer array height of length n. There are n vertical lines drawn such that the two endpoints of the ith line are (i, 0) and (i, height[i]).\n",
        "\n",
        "Find two lines that together with the x-axis form a container, such that the container contains the most water.\n",
        "\n",
        "Return the maximum amount of water a container can store.\n",
        "\n",
        "Notice that you may not slant the container.\n",
        "\n",
        "Example 1:\n",
        "\n",
        "Input: height = [1,8,6,2,5,4,8,3,7]\n",
        "Output: 49\n",
        "Explanation: The above vertical lines are represented by array [1,8,6,2,5,4,8,3,7]. In this case, the max area of water (blue section) the container can contain is 49.\n",
        "\n",
        "Example 2:\n",
        "\n",
        "Input: height = [1,1]\n",
        "Output: 1\n",
        "\n",
        "Constraints:\n",
        "\n",
        "    n == height.length\n",
        "    2 <= n <= 105\n",
        "    0 <= height[i] <= 104\n",
        "\n",
        "-------------------------------------\n",
        "\n",
        "give best time and space complexity code in rust,give variables usefull name, add comments to explain the code way more clear,also add code to run example case, use below typing\n",
        "==============\n",
        "impl Solution {\n",
        "    pub fn max_area(height: Vec<i32>) -> i32 {\n",
        "        \n",
        "    }\n",
        "}"
      ]
    }
  ],
  "metadata": {
    "kernelspec": {
      "display_name": "Rust",
      "language": "rust",
      "name": "rust"
    },
    "language_info": {
      "codemirror_mode": "rust",
      "file_extension": ".rs",
      "mimetype": "text/rust",
      "name": "rust",
      "pygment_lexer": "rust",
      "version": ""
    }
  },
  "nbformat": 4,
  "nbformat_minor": 2
}