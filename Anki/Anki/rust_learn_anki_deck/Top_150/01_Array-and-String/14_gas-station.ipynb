{
  "cells": [
    {
      "cell_type": "markdown",
      "metadata": {},
      "source": [
        "\nProvide the **most optimized, production-quality, and interview-ready Rust solution** for the following DSA problem:\n\n### Problem:\n\n\n\n### Typing\n\n```rust\n\n```\n\n---\n\n### Requirements:\n\n🔹 **Optimal Time Complexity**\n\n- State the algorithm's time complexity and justify why it is optimal given the problem constraints.\n\n🔹 **Optimal Space Complexity**\n\n- Minimize extra space usage and explain the space complexity.\n\n🔹 **Rust Code Quality**\n\n- Use **clean, idiomatic, modular Rust code** suitable for **FAANG/MAANG interviews**.\n- Follow **ownership, borrowing, and iterator best practices**.\n- Include **realistic interview-level function signatures** (`fn solve(...) -> ...`).\n- Avoid unnecessary `unwrap()`, `expect()`, or unsafe code unless clearly justified.\n- Handle all **edge cases** thoughtfully within the code.\n- Provide **unit tests** (`#[test]`) for common and edge cases.\n\n🔹 **Algorithm Explanation**\n\n- Describe the **core DSA concepts** used (e.g., Greedy, DP, Binary Search).\n- Explain the **algorithm design, reasoning**, and why this is the most optimal approach.\n- Discuss any **critical trade-offs** made.\n- Identify common **edge cases** and explain how they are handled.\n\n🔹 **Constraints & Scalability**\n\n- Analyze the solution's behavior under **maximum input sizes**.\n- Confirm it passes **stress tests** without significant performance degradation.\n\n🔹 **DSA Tags**\n\n- Suggest relevant DSA topics (e.g., Arrays, Trees, Graphs, Dynamic Programming, Sliding Window).\n\n🔹 **Follow-up Enhancements (Optional)**\n\n- How would the solution adapt to **streaming input**, **parallelization**, or **distributed systems**?\n- What are potential **real-world applications** of this approach?\n"
      ]
    },
    {
      "cell_type": "markdown",
      "metadata": {},
      "source": [
        "134. Gas Station\n",
        "\n",
        "There are n gas stations along a circular route, where the amount of gas at the ith station is gas[i].\n",
        "\n",
        "You have a car with an unlimited gas tank and it costs cost[i] of gas to travel from the ith station to its next (i + 1)th station. You begin the journey with an empty tank at one of the gas stations.\n",
        "\n",
        "Given two integer arrays gas and cost, return the starting gas station's index if you can travel around the circuit once in the clockwise direction, otherwise return -1. If there exists a solution, it is guaranteed to be unique.\n",
        "\n",
        "Example 1:\n",
        "\n",
        "Input: gas = [1,2,3,4,5], cost = [3,4,5,1,2]\n",
        "Output: 3\n",
        "Explanation:\n",
        "Start at station 3 (index 3) and fill up with 4 unit of gas. Your tank = 0 + 4 = 4\n",
        "Travel to station 4. Your tank = 4 - 1 + 5 = 8\n",
        "Travel to station 0. Your tank = 8 - 2 + 1 = 7\n",
        "Travel to station 1. Your tank = 7 - 3 + 2 = 6\n",
        "Travel to station 2. Your tank = 6 - 4 + 3 = 5\n",
        "Travel to station 3. The cost is 5. Your gas is just enough to travel back to station 3.\n",
        "Therefore, return 3 as the starting index.\n",
        "\n",
        "Example 2:\n",
        "\n",
        "Input: gas = [2,3,4], cost = [3,4,3]\n",
        "Output: -1\n",
        "Explanation:\n",
        "You can't start at station 0 or 1, as there is not enough gas to travel to the next station.\n",
        "Let's start at station 2 and fill up with 4 unit of gas. Your tank = 0 + 4 = 4\n",
        "Travel to station 0. Your tank = 4 - 3 + 2 = 3\n",
        "Travel to station 1. Your tank = 3 - 3 + 3 = 3\n",
        "You cannot travel back to station 2, as it requires 4 unit of gas but you only have 3.\n",
        "Therefore, you can't travel around the circuit once no matter where you start.\n",
        "\n",
        "Constraints:\n",
        "\n",
        "    n == gas.length == cost.length\n",
        "    1 <= n <= 105\n",
        "    0 <= gas[i], cost[i] <= 104\n",
        "-------------------------------------\n",
        "\n",
        "give best time and space complexity code in rust,give variables usefull name, add comments to explain the code way more clear,also add code to run example case, use below typing\n",
        "==============\n",
        "impl Solution {\n",
        "    pub fn can_complete_circuit(gas: Vec<i32>, cost: Vec<i32>) -> i32 {\n",
        "        \n",
        "    }\n",
        "}"
      ]
    }
  ],
  "metadata": {
    "kernelspec": {
      "display_name": "Rust",
      "language": "rust",
      "name": "rust"
    },
    "language_info": {
      "codemirror_mode": "rust",
      "file_extension": ".rs",
      "mimetype": "text/rust",
      "name": "Rust",
      "pygment_lexer": "rust",
      "version": ""
    }
  },
  "nbformat": 4,
  "nbformat_minor": 2
}