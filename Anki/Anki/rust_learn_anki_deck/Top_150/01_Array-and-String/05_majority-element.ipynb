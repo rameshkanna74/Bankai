{
  "cells": [
    {
      "cell_type": "markdown",
      "metadata": {},
      "source": [
        "\nProvide the **most optimized, production-quality, and interview-ready Rust solution** for the following DSA problem:\n\n### Problem:\n\n\n\n### Typing\n\n```rust\n\n```\n\n---\n\n### Requirements:\n\n🔹 **Optimal Time Complexity**\n\n- State the algorithm's time complexity and justify why it is optimal given the problem constraints.\n\n🔹 **Optimal Space Complexity**\n\n- Minimize extra space usage and explain the space complexity.\n\n🔹 **Rust Code Quality**\n\n- Use **clean, idiomatic, modular Rust code** suitable for **FAANG/MAANG interviews**.\n- Follow **ownership, borrowing, and iterator best practices**.\n- Include **realistic interview-level function signatures** (`fn solve(...) -> ...`).\n- Avoid unnecessary `unwrap()`, `expect()`, or unsafe code unless clearly justified.\n- Handle all **edge cases** thoughtfully within the code.\n- Provide **unit tests** (`#[test]`) for common and edge cases.\n\n🔹 **Algorithm Explanation**\n\n- Describe the **core DSA concepts** used (e.g., Greedy, DP, Binary Search).\n- Explain the **algorithm design, reasoning**, and why this is the most optimal approach.\n- Discuss any **critical trade-offs** made.\n- Identify common **edge cases** and explain how they are handled.\n\n🔹 **Constraints & Scalability**\n\n- Analyze the solution's behavior under **maximum input sizes**.\n- Confirm it passes **stress tests** without significant performance degradation.\n\n🔹 **DSA Tags**\n\n- Suggest relevant DSA topics (e.g., Arrays, Trees, Graphs, Dynamic Programming, Sliding Window).\n\n🔹 **Follow-up Enhancements (Optional)**\n\n- How would the solution adapt to **streaming input**, **parallelization**, or **distributed systems**?\n- What are potential **real-world applications** of this approach?\n"
      ]
    },
    {
      "cell_type": "markdown",
      "metadata": {},
      "source": [
        "169. Majority Element\n",
        "\n",
        "Given an array nums of size n, return the majority element.\n",
        "\n",
        "The majority element is the element that appears more than ⌊n / 2⌋ times. You may assume that the majority element always exists in the array.\n",
        "\n",
        "Example 1:\n",
        "\n",
        "Input: nums = [3,2,3]\n",
        "Output: 3\n",
        "\n",
        "Example 2:\n",
        "\n",
        "Input: nums = [2,2,1,1,1,2,2]\n",
        "Output: 2\n",
        "\n",
        "Constraints:\n",
        "\n",
        "    n == nums.length\n",
        "    1 <= n <= 5 * 104\n",
        "    -109 <= nums[i] <= 109\n",
        "\n",
        "Follow-up: Could you solve the problem in linear time and in O(1) space?\n",
        "-------------------------------------\n",
        "\n",
        "give best time and space complexity code in rust,give variables usefull name, add comments to explain the code way more clear,also add code to run example case\n"
      ]
    }
  ],
  "metadata": {
    "kernelspec": {
      "display_name": "Rust",
      "language": "rust",
      "name": "rust"
    },
    "language_info": {
      "codemirror_mode": "rust",
      "file_extension": ".rs",
      "mimetype": "text/rust",
      "name": "Rust",
      "pygment_lexer": "rust",
      "version": ""
    }
  },
  "nbformat": 4,
  "nbformat_minor": 2
}