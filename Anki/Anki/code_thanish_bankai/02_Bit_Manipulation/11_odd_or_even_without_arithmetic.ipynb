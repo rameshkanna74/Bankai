{
 "cells": [
  {
   "cell_type": "markdown",
   "metadata": {},
   "source": [
    "Odd or Even\n",
    "Difficulty: BasicAccuracy: 60.6%Submissions: 107K+Points: 1\n",
    "\n",
    "Given a positive integer n, determine whether it is odd or even. Return a string \"even\" if the number is even and \"odd\" if the number is odd.\n",
    "\n",
    "Examples:\n",
    "\n",
    "Input: n = 15\n",
    "Output: odd\n",
    "Explanation: The number is not divisible by 2\n",
    "\n",
    "Input: n = 44\n",
    "Output: even\n",
    "Explanation: The number is divisible by 2\n",
    "\n",
    "Expected Time Complexity: O(1)\n",
    "Expected Auxiliary Space: O(1)\n",
    "\n",
    "Constraints:\n",
    "0 <= n <= 104\n",
    "\n",
    "---\n",
    "\n",
    "give best time and space complexity code in rust,give variables usefull name, add comments to explain the code way more clear,also add code to run example case\n",
    "\n",
    "---\n"
   ]
  },
  {
   "cell_type": "markdown",
   "metadata": {},
   "source": [
    "To determine whether a given positive integer `n` is **odd** or **even**, you can simply use the modulo operator (`%`). This operator gives the remainder when one number is divided by another. \n",
    "\n",
    "### Approach:\n",
    "- **Even Number**: If `n % 2 == 0`, the number is **even**.\n",
    "- **Odd Number**: If `n % 2 == 1`, the number is **odd**.\n",
    "\n",
    "### Time Complexity:\n",
    "- **Time Complexity**: \\( O(1) \\). The modulo operation is constant time.\n",
    "- **Space Complexity**: \\( O(1) \\). We only need a small amount of space to store the result.\n",
    "\n",
    "### Rust Code Implementation:\n",
    "\n",
    "```rust\n",
    "impl Solution {\n",
    "    pub fn even_or_odd(n: i32) -> String {\n",
    "        if n % 2 == 0 {\n",
    "            \"even\".to_string()\n",
    "        } else {\n",
    "            \"odd\".to_string()\n",
    "        }\n",
    "    }\n",
    "}\n",
    "\n",
    "fn main() {\n",
    "    // Example 1\n",
    "    let n = 15;\n",
    "    let result = Solution::even_or_odd(n);\n",
    "    println!(\"The number {} is: {}\", n, result);  // Output: odd\n",
    "\n",
    "    // Example 2\n",
    "    let n = 44;\n",
    "    let result = Solution::even_or_odd(n);\n",
    "    println!(\"The number {} is: {}\", n, result);  // Output: even\n",
    "}\n",
    "```\n",
    "\n",
    "### Explanation of the Code:\n",
    "1. **`even_or_odd` function**:\n",
    "   - It takes an integer `n` as input.\n",
    "   - It checks if the remainder of `n` divided by 2 is 0 (i.e., `n % 2 == 0`). If true, it returns `\"even\"`. Otherwise, it returns `\"odd\"`.\n",
    "\n",
    "2. **`to_string()`**:\n",
    "   - In Rust, the string literals like `\"even\"` and `\"odd\"` are of type `&str`. To return a `String` type (since the function is expected to return a `String`), we use the `.to_string()` method to convert them into `String` objects.\n",
    "\n",
    "### Example Walkthrough:\n",
    "\n",
    "#### Example 1:\n",
    "- Input: `n = 15`\n",
    "- `15 % 2 == 1`, so the function returns `\"odd\"`.\n",
    "- Output: `odd`\n",
    "\n",
    "#### Example 2:\n",
    "- Input: `n = 44`\n",
    "- `44 % 2 == 0`, so the function returns `\"even\"`.\n",
    "- Output: `even`\n",
    "\n",
    "### Edge Case:\n",
    "- **Input**: `n = 0`\n",
    "  - `0 % 2 == 0`, so the output will be `\"even\"`.\n",
    "  \n",
    "This solution is very efficient with constant time and space complexity, making it suitable for any input within the given constraints."
   ]
  },
  {
   "cell_type": "markdown",
   "metadata": {},
   "source": [
    "To determine if a number is **odd** or **even** without using arithmetic operators such as `%`, we can use bitwise operators.\n",
    "\n",
    "### Key Insight:\n",
    "- **Even Number**: A number is even if its **least significant bit (LSB)** is `0`.\n",
    "- **Odd Number**: A number is odd if its **least significant bit (LSB)** is `1`.\n",
    "\n",
    "### Bitwise Operation:\n",
    "- You can check the least significant bit (LSB) of a number using the **bitwise AND operator (`&`)** with the number `1`.\n",
    "  - If the result of `n & 1` is `0`, the number is even.\n",
    "  - If the result of `n & 1` is `1`, the number is odd.\n",
    "\n",
    "### Time Complexity:\n",
    "- **Time Complexity**: \\( O(1) \\) because checking the least significant bit using the bitwise AND operation is a constant-time operation.\n",
    "- **Space Complexity**: \\( O(1) \\) as we only use a small amount of space for the result.\n",
    "\n",
    "### Rust Code Implementation:\n",
    "\n",
    "```rust\n",
    "impl Solution {\n",
    "    pub fn even_or_odd(n: i32) -> String {\n",
    "        if n & 1 == 0 {\n",
    "            \"even\".to_string()\n",
    "        } else {\n",
    "            \"odd\".to_string()\n",
    "        }\n",
    "    }\n",
    "}\n",
    "\n",
    "fn main() {\n",
    "    // Example 1\n",
    "    let n = 15;\n",
    "    let result = Solution::even_or_odd(n);\n",
    "    println!(\"The number {} is: {}\", n, result);  // Output: odd\n",
    "\n",
    "    // Example 2\n",
    "    let n = 44;\n",
    "    let result = Solution::even_or_odd(n);\n",
    "    println!(\"The number {} is: {}\", n, result);  // Output: even\n",
    "}\n",
    "```\n",
    "\n",
    "### Explanation:\n",
    "- The function uses the **bitwise AND operator (`&`)** with `1` to check the least significant bit of `n`.\n",
    "  - If the least significant bit is `0`, the result of `n & 1` is `0`, and the number is **even**.\n",
    "  - If the least significant bit is `1`, the result of `n & 1` is `1`, and the number is **odd**.\n",
    "  \n",
    "### Example Walkthrough:\n",
    "\n",
    "#### Example 1:\n",
    "- Input: `n = 15`\n",
    "- Binary representation of 15: `1111`\n",
    "- The least significant bit (LSB) is `1`, so the result of `15 & 1` is `1`, indicating that `15` is **odd**.\n",
    "- Output: `\"odd\"`\n",
    "\n",
    "#### Example 2:\n",
    "- Input: `n = 44`\n",
    "- Binary representation of 44: `101100`\n",
    "- The least significant bit (LSB) is `0`, so the result of `44 & 1` is `0`, indicating that `44` is **even**.\n",
    "- Output: `\"even\"`\n",
    "\n",
    "#### Example 3 (Edge Case):\n",
    "- Input: `n = 0`\n",
    "- Binary representation of 0: `0`\n",
    "- The least significant bit (LSB) is `0`, so the result of `0 & 1` is `0`, indicating that `0` is **even**.\n",
    "- Output: `\"even\"`\n",
    "\n",
    "This approach avoids the use of arithmetic operators while still determining if a number is odd or even efficiently."
   ]
  },
  {
   "cell_type": "code",
   "execution_count": 3,
   "metadata": {
    "vscode": {
     "languageId": "rust"
    }
   },
   "outputs": [
    {
     "name": "stdout",
     "output_type": "stream",
     "text": [
      "The number 15 is: odd\n",
      "The number 44 is: even\n"
     ]
    },
    {
     "data": {
      "text/plain": [
       "()"
      ]
     },
     "execution_count": 3,
     "metadata": {},
     "output_type": "execute_result"
    }
   ],
   "source": [
    "pub struct Solution;\n",
    "\n",
    "impl Solution {\n",
    "    pub fn even_or_odd(n: i32) -> String {\n",
    "        if n % 2 == 0 {\n",
    "            \"even\".to_string()\n",
    "        } else {\n",
    "            \"odd\".to_string()\n",
    "        }\n",
    "    }\n",
    "}\n",
    "\n",
    "fn main() {\n",
    "    // Example 1\n",
    "    let n = 15;\n",
    "    let result = Solution::even_or_odd(n);\n",
    "    println!(\"The number {} is: {}\", n, result);  // Output: odd\n",
    "\n",
    "    // Example 2\n",
    "    let n = 44;\n",
    "    let result = Solution::even_or_odd(n);\n",
    "    println!(\"The number {} is: {}\", n, result);  // Output: even\n",
    "}\n",
    "\n",
    "main()"
   ]
  },
  {
   "cell_type": "code",
   "execution_count": 2,
   "metadata": {
    "vscode": {
     "languageId": "rust"
    }
   },
   "outputs": [
    {
     "name": "stdout",
     "output_type": "stream",
     "text": [
      "The number 15 is: odd\n",
      "The number 44 is: even\n"
     ]
    },
    {
     "data": {
      "text/plain": [
       "()"
      ]
     },
     "execution_count": 2,
     "metadata": {},
     "output_type": "execute_result"
    }
   ],
   "source": [
    "pub struct Solution;\n",
    "\n",
    "impl Solution {\n",
    "    pub fn even_or_odd(n: i32) -> String {\n",
    "        if n & 1 == 0 {\n",
    "            \"even\".to_string()\n",
    "        } else {\n",
    "            \"odd\".to_string()\n",
    "        }\n",
    "    }\n",
    "}\n",
    "\n",
    "fn main() {\n",
    "    // Example 1\n",
    "    let n = 15;\n",
    "    let result = Solution::even_or_odd(n);\n",
    "    println!(\"The number {} is: {}\", n, result);  // Output: odd\n",
    "\n",
    "    // Example 2\n",
    "    let n = 44;\n",
    "    let result = Solution::even_or_odd(n);\n",
    "    println!(\"The number {} is: {}\", n, result);  // Output: even\n",
    "}\n",
    "\n",
    "main()"
   ]
  },
  {
   "cell_type": "code",
   "execution_count": null,
   "metadata": {
    "vscode": {
     "languageId": "rust"
    }
   },
   "outputs": [],
   "source": []
  }
 ],
 "metadata": {
  "kernelspec": {
   "display_name": "Rust",
   "language": "rust",
   "name": "rust"
  },
  "language_info": {
   "codemirror_mode": "rust",
   "file_extension": ".rs",
   "mimetype": "text/rust",
   "name": "Rust",
   "pygment_lexer": "rust",
   "version": ""
  }
 },
 "nbformat": 4,
 "nbformat_minor": 2
}
