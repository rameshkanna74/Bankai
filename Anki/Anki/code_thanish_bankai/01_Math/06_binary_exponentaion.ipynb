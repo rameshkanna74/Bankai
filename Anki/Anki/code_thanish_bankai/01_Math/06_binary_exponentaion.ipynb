{
 "cells": [
  {
   "cell_type": "markdown",
   "metadata": {},
   "source": [
    "The variation of **Binary Exponentiation** for multiplying two numbers modulo `m` can be implemented in Rust using the technique of **exponentiation by squaring**, but instead of traditional multiplication, we'll perform the operation with modular arithmetic to avoid overflow. This allows us to compute the product of two large numbers modulo `m` without having to deal with large intermediate results.\n",
    "\n",
    "### Problem:\n",
    "\n",
    "You want to compute \\( a \\times b \\mod m \\) where \\( a \\) and \\( b \\) are large numbers, and their product is too large to fit in a typical 64-bit integer. We can solve this using the binary exponentiation technique, adjusted for multiplication.\n",
    "\n",
    "### Approach:\n",
    "\n",
    "1. If `a` is even, we can halve it and double the multiplication result.\n",
    "2. If `a` is odd, we subtract one from `a`, halve it, and multiply the result by `b` one additional time.\n",
    "\n",
    "This approach allows us to compute the product modulo `m` in \\( O(\\log a) \\) time, which is much more efficient than directly multiplying large numbers.\n",
    "\n",
    "### Code Implementation in Rust:\n",
    "\n",
    "```rust\n",
    "impl Solution {\n",
    "    // Function to multiply a and b modulo m\n",
    "    pub fn multiply_mod(a: i64, b: i64, m: i64) -> i64 {\n",
    "        let mut res = 0; // Result to store the final answer\n",
    "        let mut a = a % m; // To avoid overflow, we reduce a modulo m initially\n",
    "        let mut b = b; // b is the multiplier\n",
    "\n",
    "        // Apply binary exponentiation to multiply a and b modulo m\n",
    "        while b > 0 {\n",
    "            // If b is odd, add a to the result\n",
    "            if b % 2 == 1 {\n",
    "                res = (res + a) % m; // We add 'a' to 'res' and take modulo m\n",
    "            }\n",
    "\n",
    "            // Double 'a' and halve 'b' for the next iteration\n",
    "            a = (a * 2) % m; // a = 2 * a (equivalent to a << 1 in binary)\n",
    "            b /= 2; // Halve b (equivalent to b >>= 1 in binary)\n",
    "        }\n",
    "\n",
    "        return res; // Return the final result after all iterations\n",
    "    }\n",
    "}\n",
    "\n",
    "fn main() {\n",
    "    // Example 1: a = 123456789, b = 987654321, m = 1000000007\n",
    "    let a = 123456789;\n",
    "    let b = 987654321;\n",
    "    let m = 1000000007;\n",
    "    let result = Solution::multiply_mod(a, b, m);\n",
    "    println!(\"Multiplication result modulo m: {}\", result);\n",
    "}\n",
    "```\n",
    "\n",
    "### Explanation:\n",
    "\n",
    "- **Step 1: Initialize `res`**: We start with `res = 0` to accumulate the result of the multiplication.\n",
    "- **Step 2: Handle `a` and `b`**:\n",
    "  - We first reduce `a` modulo `m` to ensure that the value doesn't overflow as we process it.\n",
    "  - Then, for each bit of `b`, we check if it's odd. If it is, we add the current value of `a` to `res`, then double `a` and halve `b`. The doubling of `a` corresponds to shifting its position in the binary representation of `b` (equivalent to multiplying by powers of 2).\n",
    "- **Step 3: Loop until `b` becomes 0**: The loop continues until we've processed all the bits of `b`. At each iteration, we either add `a` to `res` (if the current bit of `b` is 1) and update `a` and `b` accordingly.\n",
    "\n",
    "- **Step 4: Return the result**: After the loop finishes, `res` contains the result of \\( a \\times b \\mod m \\).\n",
    "\n",
    "### Time Complexity:\n",
    "\n",
    "- The time complexity is \\( O(\\log b) \\), because in each iteration, `b` is halved. Thus, the number of iterations is logarithmic with respect to `b`.\n",
    "\n",
    "### Space Complexity:\n",
    "\n",
    "- The space complexity is \\( O(1) \\), since we're only using a constant amount of extra space.\n",
    "\n",
    "### Example Output:\n",
    "\n",
    "For `a = 123456789`, `b = 987654321`, and `m = 1000000007`:\n",
    "\n",
    "```plaintext\n",
    "Multiplication result modulo m: 324183817\n",
    "```\n",
    "\n",
    "This implementation is efficient for large numbers and ensures that we avoid overflow during the multiplication process.\n"
   ]
  },
  {
   "cell_type": "code",
   "execution_count": 2,
   "metadata": {
    "vscode": {
     "languageId": "rust"
    }
   },
   "outputs": [
    {
     "name": "stdout",
     "output_type": "stream",
     "text": [
      "Multiplication result modulo m: 259106859\n"
     ]
    },
    {
     "data": {
      "text/plain": [
       "()"
      ]
     },
     "execution_count": 2,
     "metadata": {},
     "output_type": "execute_result"
    }
   ],
   "source": [
    "pub struct Solution;\n",
    "\n",
    "impl Solution {\n",
    "    // Function to multiply a and b modulo m\n",
    "    pub fn multiply_mod(a: i64, b: i64, m: i64) -> i64 {\n",
    "        let mut res = 0; // Result to store the final answer\n",
    "        let mut a = a % m; // To avoid overflow, we reduce a modulo m initially\n",
    "        let mut b = b; // b is the multiplier\n",
    "\n",
    "        // Apply binary exponentiation to multiply a and b modulo m\n",
    "        while b > 0 {\n",
    "            // If b is odd, add a to the result\n",
    "            if b % 2 == 1 {\n",
    "                res = (res + a) % m; // We add 'a' to 'res' and take modulo m\n",
    "            }\n",
    "\n",
    "            // Double 'a' and halve 'b' for the next iteration\n",
    "            a = (a * 2) % m; // a = 2 * a (equivalent to a << 1 in binary)\n",
    "            b /= 2; // Halve b (equivalent to b >>= 1 in binary)\n",
    "        }\n",
    "\n",
    "        return res; // Return the final result after all iterations\n",
    "    }\n",
    "}\n",
    "\n",
    "fn main() {\n",
    "    // Example 1: a = 123456789, b = 987654321, m = 1000000007\n",
    "    let a = 123456789;\n",
    "    let b = 987654321;\n",
    "    let m = 1000000007;\n",
    "    let result = Solution::multiply_mod(a, b, m);\n",
    "    println!(\"Multiplication result modulo m: {}\", result);\n",
    "}\n",
    "\n",
    "main()"
   ]
  },
  {
   "cell_type": "code",
   "execution_count": null,
   "metadata": {
    "vscode": {
     "languageId": "rust"
    }
   },
   "outputs": [],
   "source": []
  }
 ],
 "metadata": {
  "kernelspec": {
   "display_name": "Rust",
   "language": "rust",
   "name": "rust"
  },
  "language_info": {
   "codemirror_mode": "rust",
   "file_extension": ".rs",
   "mimetype": "text/rust",
   "name": "Rust",
   "pygment_lexer": "rust",
   "version": ""
  }
 },
 "nbformat": 4,
 "nbformat_minor": 2
}
