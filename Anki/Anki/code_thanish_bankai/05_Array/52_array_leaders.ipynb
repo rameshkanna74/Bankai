{
 "cells": [
  {
   "cell_type": "markdown",
   "metadata": {},
   "source": [
    "Array leaders\n",
    "\n",
    "You are given an array arr of positive integers. Your task is to find all the leaders in the array. An element is considered a leader if it is greater than or equal to all elements to its right. The rightmost element is always a leader.\n",
    "\n",
    "Examples:\n",
    "\n",
    "Input: arr = [16, 17, 4, 3, 5, 2]\n",
    "Output: [17, 5, 2]\n",
    "Explanation: Note that there is nothing greater on the right side of 17, 5 and, 2.\n",
    "\n",
    "Input: arr = [10, 4, 2, 4, 1]\n",
    "Output: [10, 4, 4, 1]\n",
    "Explanation: Note that both of the 4s are in output, as to be a leader an equal element is also allowed on the right. side\n",
    "\n",
    "Input: arr = [5, 10, 20, 40]\n",
    "Output: [40]\n",
    "Explanation: When an array is sorted in increasing order, only the rightmost element is leader.\n",
    "\n",
    "Input: arr = [30, 10, 10, 5]\n",
    "Output: [30, 10, 10, 5]\n",
    "Explanation: When an array is sorted in non-increasing order, all elements are leaders.\n",
    "\n",
    "Constraints:\n",
    "1 <= arr.size() <= 106\n",
    "0 <= arr[i] <= 106\n"
   ]
  },
  {
   "cell_type": "markdown",
   "metadata": {},
   "source": []
  }
 ],
 "metadata": {
  "language_info": {
   "name": "python"
  }
 },
 "nbformat": 4,
 "nbformat_minor": 2
}
