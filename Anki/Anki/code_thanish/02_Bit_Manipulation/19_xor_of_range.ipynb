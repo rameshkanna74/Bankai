{
 "cells": [
  {
   "cell_type": "markdown",
   "metadata": {},
   "source": [
    "L to R XOR\n",
    "\n",
    "Easy\n",
    "\n",
    "Problem statement\n",
    "\n",
    "You are given two numbers 'L' and 'R'.\n",
    "\n",
    "Find the XOR of the elements in the range [L, R].\n",
    "\n",
    "For Example:\n",
    "\n",
    "For 'L' = 1 and ‘R’ = 5.\n",
    "The answer is 1.\n",
    "\n",
    "Detailed explanation ( Input/output format, Notes, Images )\n",
    "Sample Input 1:\n",
    "\n",
    "3 5\n",
    "\n",
    "Sample Output 1:\n",
    "\n",
    "2\n",
    "\n",
    "Explanation of sample output 1:\n",
    "\n",
    "'L' = 3 and ‘R’ = 5\n",
    "Answer is 2. Value of 3^4^5 is 2.\n",
    "\n",
    "Sample Input 2:\n",
    "\n",
    "1 3\n",
    "\n",
    "Sample Output 2:\n",
    "\n",
    "0\n",
    "\n",
    "Constraints:\n",
    "\n",
    "1 <= ‘L’ <= ‘R’ <= 10^9\n",
    "Time Limit: 1 sec\n"
   ]
  },
  {
   "cell_type": "code",
   "execution_count": null,
   "metadata": {
    "vscode": {
     "languageId": "rust"
    }
   },
   "outputs": [],
   "source": [
    "impl Solution {\n",
    "    pub fn xor_range(l: i32, r: i32) -> i32 {\n",
    "        fn xor_upto(n: i32) -> i32 {\n",
    "            match n % 4 {\n",
    "                0 => n,\n",
    "                1 => 1,\n",
    "                2 => n + 1,\n",
    "                _ => 0,\n",
    "            }\n",
    "        }\n",
    "        xor_upto(r) ^ xor_upto(l - 1)\n",
    "    }\n",
    "}\n"
   ]
  },
  {
   "cell_type": "code",
   "execution_count": null,
   "metadata": {
    "vscode": {
     "languageId": "rust"
    }
   },
   "outputs": [],
   "source": []
  }
 ],
 "metadata": {
  "kernelspec": {
   "display_name": "Rust",
   "language": "rust",
   "name": "rust"
  },
  "language_info": {
   "codemirror_mode": "rust",
   "file_extension": ".rs",
   "mimetype": "text/rust",
   "name": "Rust",
   "pygment_lexer": "rust",
   "version": ""
  }
 },
 "nbformat": 4,
 "nbformat_minor": 2
}
