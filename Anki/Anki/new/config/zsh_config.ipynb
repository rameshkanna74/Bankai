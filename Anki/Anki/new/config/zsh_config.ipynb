{
 "cells": [
  {
   "cell_type": "markdown",
   "id": "e3b92572",
   "metadata": {},
   "source": [
    "sudo pacman -S zsh"
   ]
  },
  {
   "cell_type": "markdown",
   "id": "9445dea7",
   "metadata": {},
   "source": [
    "chsh kanna\n",
    "\n",
    "\n",
    "/bin/zsh\n",
    "\n",
    "\n",
    "have git installed\n",
    "\n",
    "mv ~/.zshrc ~/.zshrc.bak"
   ]
  },
  {
   "cell_type": "markdown",
   "id": "44236c8b",
   "metadata": {},
   "source": [
    "sudo pacman -S ttf-jetbrains-mono-nerd\n"
   ]
  },
  {
   "cell_type": "markdown",
   "id": "59c2c6e8",
   "metadata": {},
   "source": [
    "# Set the directory we want to store zinit and plugins\n",
    "ZINIT_HOME=\"${XDG_DATA_HOME:-${HOME}/.local/share}/zinit/zinit.git\"\n",
    "\n",
    "# Download Zinit, if it's not there yet\n",
    "if [ ! -d \"$ZINIT_HOME\" ]; then\n",
    "   mkdir -p \"$(dirname $ZINIT_HOME)\"\n",
    "   git clone https://github.com/zdharma-continuum/zinit.git \"$ZINIT_HOME\"\n",
    "fi\n",
    "\n",
    "# Source/Load zinit\n",
    "source \"${ZINIT_HOME}/zinit.zsh\"\n",
    "\n",
    "# Add in Powerlevel10k\n",
    "zinit ice depth=1; zinit light romkatv/powerlevel10k\n",
    "\n",
    "# Add in zsh plugins\n",
    "zinit light zsh-users/zsh-syntax-highlighting\n",
    "zinit light zsh-users/zsh-completions\n",
    "zinit light zsh-users/zsh-autosuggestions\n",
    "zinit light Aloxaf/fzf-tab\n",
    "\n",
    "# Add in snippets\n",
    "zinit snippet OMZL::git.zsh\n",
    "zinit snippet OMZP::git\n",
    "zinit snippet OMZP::sudo\n",
    "zinit snippet OMZP::archlinux\n",
    "zinit snippet OMZP::aws\n",
    "zinit snippet OMZP::kubectl\n",
    "zinit snippet OMZP::kubectx\n",
    "zinit snippet OMZP::command-not-found\n",
    "\n",
    "# Load completions\n",
    "autoload -Uz compinit && compinit\n",
    "\n",
    "zinit cdreplay -q\n",
    "\n",
    "\n",
    "# Keybindings\n",
    "bindkey -e\n",
    "bindkey '^p' history-search-backward\n",
    "bindkey '^n' history-search-forward\n",
    "bindkey '^[w' kill-region\n",
    "\n",
    "# History\n",
    "HISTSIZE=5000\n",
    "HISTFILE=~/.zsh_history\n",
    "SAVEHIST=$HISTSIZE\n",
    "HISTDUP=erase\n",
    "setopt appendhistory\n",
    "setopt sharehistory\n",
    "setopt hist_ignore_space\n",
    "setopt hist_ignore_all_dups\n",
    "setopt hist_save_no_dups\n",
    "setopt hist_ignore_dups\n",
    "setopt hist_find_no_dups\n",
    "\n",
    "# Completion styling\n",
    "zstyle ':completion:*' matcher-list 'm:{a-z}={A-Za-z}'\n",
    "zstyle ':completion:*' list-colors \"${(s.:.)LS_COLORS}\"\n",
    "zstyle ':completion:*' menu no\n",
    "zstyle ':fzf-tab:complete:cd:*' fzf-preview 'ls --color $realpath'\n",
    "zstyle ':fzf-tab:complete:__zoxide_z:*' fzf-preview 'ls --color $realpath'\n",
    "\n",
    "# Aliases\n",
    "alias ls='ls --color'\n",
    "alias vim='nvim'\n",
    "alias c='clear'\n",
    "\n",
    "# Shell integrations\n",
    "eval \"$(fzf --zsh)\"\n",
    "eval \"$(zoxide init --cmd cd zsh)\""
   ]
  },
  {
   "cell_type": "markdown",
   "id": "1c90bc6b",
   "metadata": {},
   "source": [
    "# If you come from bash you might have to change your $PATH.\n",
    "# export PATH=$HOME/bin:/usr/local/bin:$PATH\n",
    "\n",
    "export ZSH=\"$HOME/.oh-my-zsh\"\n",
    "\n",
    "ZSH_THEME=\"xiong-chiamiov-plus\"\n",
    "\n",
    "plugins=( \n",
    "    git\n",
    "    zsh-autosuggestions\n",
    "    zsh-syntax-highlighting\n",
    ")\n",
    "\n",
    "source $ZSH/oh-my-zsh.sh\n",
    "\n",
    "alias lv='/home/aurexus/Apps/nvim-linux-x86_64/bin/nvim'\n",
    "alias aa='source /home/aurexus/miniconda3/bin/activate'\n",
    "alias hp='./home/aurexus/Downloads/Programs/Hoppscotch_linux_x64.AppImage'\n",
    "alias ss='source /home/aurexus/Music/Python/sss/senZmaki/venv/bin/activate'\n",
    "alias sz='cd ~/Django/Dante && source ~/Music/Python/sss/senZmaki/venv/bin/activate'\n",
    "alias km='killall -9 mpv'\n",
    "alias y1=\"yt-dlp -f 'bestvideo[height<=1080]+bestaudio'\"\n",
    "alias y7=\"yt-dlp -f 'bestvideo[height<=720]+bestaudio'\"\n",
    "alias anki=\"~/Downloads/anki_linux/anki-24.11-linux-qt6/anki\"\n",
    "alias ur=\"uv run\"\n",
    "alias ua=\"uv add\"\n",
    "alias um=\"uv run manage.py \"\n",
    "alias lzd='/home/aurexus/Videos/gene/lzd/lazydocker'\n",
    "\n",
    ". \"$HOME/.cargo/env\"\n",
    "\n",
    "\n",
    "alias kdu='/home/aurexus/Music/KDU841_Demo_Apps_for_Linux-x86-64_231117/kdu_compress'\n",
    "\n",
    "export LD_LIBRARY_PATH=\"/home/aurexus/Music/KDU841_Demo_Apps_for_Linux-x86-64_231117:$LD_LIBRARY_PATH\"\n",
    "\n",
    "export LD_LIBRARY_PATH=/home/aurexus/miniconda3/envs/py8/lib:$LD_LIBRARY_PATH\n",
    "export LD_LIBRARY_PATH=/usr/lib/x86_64-linux-gnu:$LD_LIBRARY_PATH\n",
    "\n",
    "export PATH=\"~/.local/bin:$PATH\"\n",
    "\n",
    ". \"$HOME/.local/bin/env\"\n"
   ]
  },
  {
   "cell_type": "markdown",
   "id": "a45e70ad",
   "metadata": {},
   "source": [
    "ls -lah .zsh_history"
   ]
  },
  {
   "cell_type": "markdown",
   "id": "a2c2efc7",
   "metadata": {},
   "source": []
  },
  {
   "cell_type": "markdown",
   "id": "06f85797",
   "metadata": {},
   "source": [
    "# If you come from bash you might have to change your $PATH.\n",
    "# export PATH=$HOME/bin:/usr/local/bin:$PATH\n",
    "\n",
    "export ZSH=\"$HOME/.oh-my-zsh\"\n",
    "\n",
    "ZSH_THEME=\"xiong-chiamiov-plus\"\n",
    "\n",
    "plugins=( \n",
    "    git\n",
    "    zsh-autosuggestions\n",
    "    zsh-syntax-highlighting\n",
    ")\n",
    "\n",
    "source $ZSH/oh-my-zsh.sh\n",
    "\n",
    "alias lv='/home/aurexus/Apps/nvim-linux-x86_64/bin/nvim'\n",
    "alias aa='source /home/aurexus/miniconda3/bin/activate'\n",
    "alias hp='./home/aurexus/Downloads/Programs/Hoppscotch_linux_x64.AppImage'\n",
    "alias ss='source /home/aurexus/Music/Python/sss/senZmaki/venv/bin/activate'\n",
    "alias sz='cd ~/Django/Dante && source ~/Music/Python/sss/senZmaki/venv/bin/activate'\n",
    "alias km='killall -9 mpv'\n",
    "alias y1=\"yt-dlp -f 'bestvideo[height<=1080]+bestaudio'\"\n",
    "alias y7=\"yt-dlp -f 'bestvideo[height<=720]+bestaudio'\"\n",
    "alias anki=\"~/Downloads/anki_linux/anki-24.11-linux-qt6/anki\"\n",
    "alias ur=\"uv run\"\n",
    "alias ua=\"uv add\"\n",
    "alias um=\"uv run manage.py \"\n",
    "alias lzd='/home/aurexus/Videos/gene/lzd/lazydocker'\n",
    "\n",
    ". \"$HOME/.cargo/env\"\n",
    "\n",
    "\n",
    "alias kdu='/home/aurexus/Music/KDU841_Demo_Apps_for_Linux-x86-64_231117/kdu_compress'\n",
    "\n",
    "export LD_LIBRARY_PATH=\"/home/aurexus/Music/KDU841_Demo_Apps_for_Linux-x86-64_231117:$LD_LIBRARY_PATH\"\n",
    "\n",
    "export LD_LIBRARY_PATH=/home/aurexus/miniconda3/envs/py8/lib:$LD_LIBRARY_PATH\n",
    "export LD_LIBRARY_PATH=/usr/lib/x86_64-linux-gnu:$LD_LIBRARY_PATH\n",
    "\n",
    "export PATH=\"~/.local/bin:$PATH\"\n",
    "\n",
    ". \"$HOME/.local/bin/env\"\n"
   ]
  },
  {
   "cell_type": "markdown",
   "id": "59e73dfa",
   "metadata": {},
   "source": [
    "eval \"$(oh-my-posh init zsh)\""
   ]
  },
  {
   "cell_type": "markdown",
   "id": "24b21210",
   "metadata": {},
   "source": [
    "mkdir .config/ohmyposh"
   ]
  },
  {
   "cell_type": "markdown",
   "id": "6fa97992",
   "metadata": {},
   "source": [
    "ohmyposh config export --output ./base.json"
   ]
  },
  {
   "cell_type": "markdown",
   "id": "8272799e",
   "metadata": {},
   "source": [
    "ohmyposh config export --format toml --output ~/.config/ohmyposh/zen.toml"
   ]
  }
 ],
 "metadata": {
  "language_info": {
   "name": "python"
  }
 },
 "nbformat": 4,
 "nbformat_minor": 5
}
