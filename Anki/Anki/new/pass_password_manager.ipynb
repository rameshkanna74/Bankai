{
 "cells": [
  {
   "cell_type": "markdown",
   "id": "3c859009",
   "metadata": {},
   "source": [
    "gpg --gen-key\n",
    "\n",
    "hoshigakikisame\n",
    "kisamesamehada21@gmail.com\n",
    "\n",
    "\n"
   ]
  },
  {
   "cell_type": "markdown",
   "metadata": {},
   "source": [
    "gpg --gen-key\n",
    "gpg (GnuPG) 2.2.40; Copyright (C) 2022 g10 Code GmbH\n",
    "This is free software: you are free to change and redistribute it.\n",
    "There is NO WARRANTY, to the extent permitted by law.\n",
    "\n",
    "Note: Use \"gpg --full-generate-key\" for a full featured key generation dialog.\n",
    "\n",
    "GnuPG needs to construct a user ID to identify your key.\n",
    "\n",
    "Real name: hoshigakikisame\n",
    "Email address: kisamesamehada21@gmail.com\n",
    "You selected this USER-ID:\n",
    "    \"hoshigakikisame <kisamesamehada21@gmail.com>\"\n",
    "\n",
    "Change (N)ame, (E)mail, or (O)kay/(Q)uit? o\n",
    "We need to generate a lot of random bytes. It is a good idea to perform\n",
    "some other action (type on the keyboard, move the mouse, utilize the\n",
    "disks) during the prime generation; this gives the random number\n",
    "generator a better chance to gain enough entropy.\n",
    "We need to generate a lot of random bytes. It is a good idea to perform\n",
    "some other action (type on the keyboard, move the mouse, utilize the\n",
    "disks) during the prime generation; this gives the random number\n",
    "generator a better chance to gain enough entropy.\n",
    "gpg: revocation certificate stored as '/home/aurexus/.gnupg/openpgp-revocs.d/C46FE1E02AD29AF911434FD2BFD1D283C4AE016B.rev'\n",
    "public and secret key created and signed.\n",
    "\n",
    "pub   rsa3072 2025-04-16 [SC] [expires: 2027-04-16]\n",
    "      C46FE1E02AD29AF911434FD2BFD1D283C4AE016B\n",
    "uid                      hoshigakikisame <kisamesamehada21@gmail.com>\n",
    "sub   rsa3072 2025-04-16 [E] [expires: 2027-04-16]"
   ]
  },
  {
   "cell_type": "markdown",
   "id": "58898af1",
   "metadata": {},
   "source": [
    "pass init C46FE1E02AD29AF911434FD2BFD1D283C4AE016B"
   ]
  },
  {
   "cell_type": "markdown",
   "id": "a5b26683",
   "metadata": {},
   "source": [
    "pass insert github/personal_01"
   ]
  },
  {
   "cell_type": "markdown",
   "id": "19036d71",
   "metadata": {},
   "source": [
    "pass generate aws"
   ]
  },
  {
   "cell_type": "markdown",
   "id": "00fd944d",
   "metadata": {},
   "source": [
    "pass find github"
   ]
  },
  {
   "cell_type": "markdown",
   "id": "30ef49d0",
   "metadata": {},
   "source": [
    "pass show github"
   ]
  },
  {
   "cell_type": "markdown",
   "id": "396a58fd",
   "metadata": {},
   "source": [
    "pass edit github/personal"
   ]
  },
  {
   "cell_type": "markdown",
   "id": "094409cc",
   "metadata": {},
   "source": [
    "asdfasdg\n",
    "email: info@dreamsofcode.io"
   ]
  },
  {
   "cell_type": "markdown",
   "id": "be5faa64",
   "metadata": {},
   "source": [
    "pass grep \"info@dreamsofcode\""
   ]
  },
  {
   "cell_type": "markdown",
   "id": "ec718d2d",
   "metadata": {},
   "source": [
    "pass grep \"email:\""
   ]
  },
  {
   "cell_type": "markdown",
   "id": "cd6e1656",
   "metadata": {},
   "source": [
    "pass show github/personal"
   ]
  },
  {
   "cell_type": "markdown",
   "id": "6023c421",
   "metadata": {},
   "source": [
    "pass show -c github/personal"
   ]
  },
  {
   "cell_type": "markdown",
   "id": "2ba93409",
   "metadata": {},
   "source": [
    "xclip -o -sel clip"
   ]
  },
  {
   "cell_type": "markdown",
   "id": "547f6454",
   "metadata": {},
   "source": [
    "pass rm github/personal"
   ]
  },
  {
   "cell_type": "markdown",
   "id": "53b2cbfa",
   "metadata": {},
   "source": [
    "pass git log"
   ]
  },
  {
   "cell_type": "markdown",
   "id": "e72655ff",
   "metadata": {},
   "source": [
    "pass git revert HEAD"
   ]
  },
  {
   "cell_type": "markdown",
   "id": "e4076022",
   "metadata": {},
   "source": [
    "pass show github/personal"
   ]
  },
  {
   "cell_type": "markdown",
   "id": "9b86dcf0",
   "metadata": {},
   "source": [
    "pass git remote add origin git@github.com:dreamsofcode-io/pwd-store.git\n"
   ]
  },
  {
   "cell_type": "markdown",
   "id": "a7594430",
   "metadata": {},
   "source": [
    "pass git push origin main"
   ]
  },
  {
   "cell_type": "markdown",
   "id": "d0faa093",
   "metadata": {},
   "source": [
    "mkdir exported-keys"
   ]
  },
  {
   "cell_type": "markdown",
   "id": "d749f0b3",
   "metadata": {},
   "source": [
    "gpg --output public.pgp --armor --export kisamesamehada21@gmail.com"
   ]
  },
  {
   "cell_type": "markdown",
   "id": "7739537b",
   "metadata": {},
   "source": [
    "gpg --output private.pgp --armor --export kisamesamehada21@gmail.com"
   ]
  },
  {
   "cell_type": "markdown",
   "id": "6e36a8d2",
   "metadata": {},
   "source": [
    "gpg --output private.pgp --armor --export-secret-keys kisamesamehada21@gmail.com"
   ]
  },
  {
   "cell_type": "markdown",
   "id": "66dd3d62",
   "metadata": {},
   "source": [
    "scp -r elliot@amaterasu:exported-keys .\n",
    "\n",
    "cd exported-keys"
   ]
  },
  {
   "cell_type": "markdown",
   "id": "69a9fc92",
   "metadata": {},
   "source": [
    "gpg --import private.pgp\n",
    "\n",
    "gpg --import public.pgp"
   ]
  },
  {
   "cell_type": "markdown",
   "id": "129c19f4",
   "metadata": {},
   "source": [
    "alias aws=\"AWS_ACCESS_KEY_ID=$(pass show aws/access_id) AWS_SECRET_ACCESS_KEY=$(pass show aws/access_token) aws\""
   ]
  },
  {
   "cell_type": "markdown",
   "id": "681f41fc",
   "metadata": {},
   "source": []
  }
 ],
 "metadata": {
  "language_info": {
   "name": "python"
  }
 },
 "nbformat": 4,
 "nbformat_minor": 5
}
