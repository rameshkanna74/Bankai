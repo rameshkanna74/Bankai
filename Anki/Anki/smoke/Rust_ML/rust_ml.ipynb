{
 "cells": [
  {
   "cell_type": "code",
   "execution_count": 4,
   "metadata": {},
   "outputs": [
    {
     "name": "stdout",
     "output_type": "stream",
     "text": [
      "{\"name\":\"example\",\"value\":42}\n"
     ]
    }
   ],
   "source": [
    "// Add the serde and serde_json dependencies with the derive feature\n",
    ":dep serde = { version = \"1.0\", features = [\"derive\"] }\n",
    ":dep serde_json = \"1.0\"\n",
    "\n",
    "// Use the crates\n",
    "use serde::{Serialize, Deserialize};\n",
    "use serde_json::json;\n",
    "\n",
    "#[derive(Serialize, Deserialize)]\n",
    "struct MyStruct {\n",
    "    name: String,\n",
    "    value: i32,\n",
    "}\n",
    "\n",
    "let my_data = MyStruct {\n",
    "    name: String::from(\"example\"),\n",
    "    value: 42,\n",
    "};\n",
    "\n",
    "// Serialize to JSON with explicit type\n",
    "let json_data: String = serde_json::to_string(&my_data).unwrap();\n",
    "println!(\"{}\", json_data);\n"
   ]
  },
  {
   "cell_type": "code",
   "execution_count": 11,
   "metadata": {},
   "outputs": [
    {
     "name": "stderr",
     "output_type": "stream",
     "text": [
      "The type of the variable my_data was redefined, so was lost.\n"
     ]
    },
    {
     "name": "stdout",
     "output_type": "stream",
     "text": [
      "Iteration 0, Cost: 0.5080721728903961\n",
      "Iteration 100, Cost: 0.5038466376677018\n",
      "Iteration 200, Cost: 0.49965769210713795\n",
      "Iteration 300, Cost: 0.49550501830411764\n",
      "Iteration 400, Cost: 0.4913883011171367\n",
      "Iteration 500, Cost: 0.48730722814375793\n",
      "Iteration 600, Cost: 0.4832614896968035\n",
      "Iteration 700, Cost: 0.4792507787807532\n",
      "Iteration 800, Cost: 0.47527479106835013\n",
      "Iteration 900, Cost: 0.4713332248774075\n",
      "Predicted Price: 486.06099443078426\n"
     ]
    },
    {
     "data": {
      "text/plain": [
       "()"
      ]
     },
     "execution_count": 11,
     "metadata": {},
     "output_type": "execute_result"
    }
   ],
   "source": [
    "// Add dependencies\n",
    ":dep ndarray = \"0.15\" \n",
    "// No features\n",
    ":dep rand = \"0.8\"\n",
    "\n",
    "use ndarray::{Array, Array2, Axis};\n",
    "use rand::Rng; // Import Rng trait\n",
    "\n",
    "fn normalize(X: &Array2<f64>, epsilon: f64) -> (Array2<f64>, Array2<f64>, Array2<f64>) {\n",
    "    let mean = X.mean_axis(Axis(1)).unwrap().insert_axis(Axis(1));\n",
    "    let std = X.std_axis(Axis(1), 0.0).insert_axis(Axis(1)) + epsilon;\n",
    "\n",
    "    let normalized = (X - &mean) / &std;\n",
    "    (normalized, mean, std)\n",
    "}\n",
    "\n",
    "fn denormalize(A: &Array2<f64>, mean: &Array2<f64>, std: &Array2<f64>) -> Array2<f64> {\n",
    "    A * std + mean\n",
    "}\n",
    "\n",
    "fn forward_propagation(X: &Array2<f64>, W: &Array2<f64>, b: f64) -> Array2<f64> {\n",
    "    W.dot(X) + b\n",
    "}\n",
    "\n",
    "fn backward_propagation(X: &Array2<f64>, A: &Array2<f64>, Y: &Array2<f64>) -> (Array2<f64>, f64) {\n",
    "    let m = X.shape()[1] as f64;\n",
    "    let dZ = A - Y;\n",
    "    let dW = dZ.dot(&X.t()) / m;\n",
    "    let db = dZ.sum() / m;\n",
    "\n",
    "    (dW, db)\n",
    "}\n",
    "\n",
    "fn compute_cost(Y: &Array2<f64>, A: &Array2<f64>) -> f64 {\n",
    "    let m = Y.shape()[1] as f64;\n",
    "    (1.0 / (2.0 * m)) * (A - Y).mapv(|x| x.powi(2)).sum()\n",
    "}\n",
    "\n",
    "fn neural_network(X: &Array2<f64>, Y: &Array2<f64>, learning_rate: f64, iterations: usize) -> (Array2<f64>, f64) {\n",
    "    let n_x = X.shape()[0];\n",
    "    let mut rng = rand::thread_rng();\n",
    "    let mut W = Array::from_shape_vec((1, n_x), (0..n_x).map(|_| rng.gen_range(-0.01..0.01)).collect()).unwrap(); // Use rand for weights\n",
    "    let mut b = 0.0;\n",
    "\n",
    "    for i in 0..iterations {\n",
    "        let A = forward_propagation(X, &W, b);\n",
    "        let cost = compute_cost(Y, &A);\n",
    "\n",
    "        if cost.is_nan() || cost.is_infinite() {\n",
    "            println!(\"Stopping at iteration {} due to overflow\", i);\n",
    "            break;\n",
    "        }\n",
    "\n",
    "        let (dW, db) = backward_propagation(X, &A, Y);\n",
    "        W = &W - &(learning_rate * dW);\n",
    "        b -= learning_rate * db;\n",
    "\n",
    "        if i % 100 == 0 {\n",
    "            println!(\"Iteration {}, Cost: {}\", i, cost);\n",
    "        }\n",
    "    }\n",
    "    (W, b)\n",
    "}\n",
    "\n",
    "fn predict(X: &Array2<f64>, W: &Array2<f64>, b: f64) -> Array2<f64> {\n",
    "    forward_propagation(X, W, b)\n",
    "}\n",
    "\n",
    "fn main() {\n",
    "    // Example dataset: Rooms, Area (sqft), Floors, Age (years), Garage\n",
    "    let X = Array::from_shape_vec((5, 6), vec![\n",
    "        3.0, 4.0, 2.0, 5.0, 3.0, 6.0,  // Rooms\n",
    "        1500.0, 1800.0, 800.0, 2300.0, 1200.0, 3000.0,  // Area\n",
    "        2.0, 2.0, 1.0, 3.0, 1.0, 3.0,  // Floors\n",
    "        10.0, 5.0, 20.0, 8.0, 30.0, 2.0,  // Age\n",
    "        1.0, 1.0, 0.0, 1.0, 0.0, 1.0   // Garage (0 or 1)\n",
    "    ]).unwrap();\n",
    "\n",
    "    // Prices in $1000 (Target)\n",
    "    let Y = Array::from_shape_vec((1, 6), vec![400.0, 500.0, 150.0, 650.0, 200.0, 900.0]).unwrap();\n",
    "\n",
    "    // Normalize the input features\n",
    "    let (X_normalized, X_mean, X_std) = normalize(&X, 1e-8);\n",
    "    let (Y_normalized, Y_mean, Y_std) = normalize(&Y, 1e-8);\n",
    "\n",
    "    // Train the neural network\n",
    "    let (W, b) = neural_network(&X_normalized, &Y_normalized, 0.00001, 1000);\n",
    "\n",
    "    // New input for prediction\n",
    "    let p = Array::from_shape_vec((5, 1), vec![8.0, 18000.0, 2.0, 1.0, 2.0]).unwrap();\n",
    "    \n",
    "    // Normalize the new input for prediction\n",
    "    let p_normalized = (&p - &X_mean) / &X_std;\n",
    "\n",
    "    // Make predictions (normalized)\n",
    "    let predicted_price_normalized = predict(&p_normalized, &W, b);\n",
    "\n",
    "    // Denormalize the predicted price\n",
    "    let predicted_price = denormalize(&predicted_price_normalized, &Y_mean, &Y_std);\n",
    "\n",
    "    println!(\"Predicted Price: {}\", predicted_price[[0, 0]]);\n",
    "}\n"
   ]
  },
  {
   "cell_type": "code",
   "execution_count": null,
   "metadata": {},
   "outputs": [],
   "source": []
  }
 ],
 "metadata": {
  "kernelspec": {
   "display_name": "Rust",
   "language": "rust",
   "name": "rust"
  },
  "language_info": {
   "codemirror_mode": "rust",
   "file_extension": ".rs",
   "mimetype": "text/rust",
   "name": "rust",
   "pygment_lexer": "rust",
   "version": ""
  }
 },
 "nbformat": 4,
 "nbformat_minor": 2
}
