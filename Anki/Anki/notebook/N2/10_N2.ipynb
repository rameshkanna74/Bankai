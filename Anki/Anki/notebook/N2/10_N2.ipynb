{
 "cells": [
  {
   "cell_type": "markdown",
   "metadata": {},
   "source": [
    "# N2\n",
    "\n",
    "### 第 10 課 - ペットを避難所に連れていったら、自治体の指示やルールに基づいて行動し、周りの人にも配慮しましょう。\n",
    "\n",
    "### Lesson 10 - If you take your pet to the shelter, please act according to the instructions and rules of the local government and be considerate of the people around you.\n"
   ]
  },
  {
   "cell_type": "markdown",
   "metadata": {},
   "source": [
    "# Vocabulary"
   ]
  },
  {
   "cell_type": "markdown",
   "metadata": {},
   "source": [
    "    1.ひなんじょ 避難所 n. shelter/place of refuge\n",
    "    2.みおとす 見落とす vt. to overlook/to fail to notice\n",
    "    3.おきざり 置き去り n. desertion/leaving behind\n",
    "    4.かこ 過去 n. the past\n",
    "    5.そなえる 備える vt. to furnish/to equip/to prepare for\n",
    "    6.かいぬし 飼い主 n. owner of a pet\n",
    "    7.ルート n. route\n",
    "    8.あわてる 慌てる vi. to panic/to be in a rush\n",
    "    9.しつけ 躾 n. discipline/training/upbringing\n",
    "    10.きほん 基本 n. foundation/basis/standard\n",
    "    11.アレルギー n. allergy\n",
    "    12.じちたい 自治体 n. municipality/local government\n",
    "    13.ならす 慣らす vt. to accustom/to train\n",
    "    14.どうこう 同行 n./vi. accompanying/to accompany\n",
    "    15.あんぜん 安全 n. safety\n",
    "    16.かくほ 確保 n./vt. guarantee/to ensure/to secure/to get without a fail\n",
    "    17.けいげん 軽減 n./vt. reduction/to reduce/to lessen\n",
    "    18.ほこらしい 誇らしい い-adj. proud\n",
    "    19.とくい 得意 n./な-adj. pride/triumph/one's specialty/proud\n",
    "    20.しょうじょう 賞状 n. honorable certificate\n",
    "    21.かいご 介護 n./vt. caregiving/to look after/to care for\n",
    "    22.バージョン n. version\n",
    "    23.くろう 苦労 n./vi. hardships/trouble/to have hardships\n",
    "    24.ゴール n. goal (used in sports)\n",
    "    25.ぜいりつ 税率 n. tax rate\n"
   ]
  },
  {
   "cell_type": "markdown",
   "metadata": {},
   "source": [
    "    26.かす 課す vt. to impose/to assign\n",
    "    27.しょゆうけん 所有権 n. ownership\n",
    "    28.あらそう 争う vi./vt. to compete/to dispute/to fight\n",
    "    29.ぎろん 議論 n./vi./vt. argument/discussion/to argue/to discuss\n",
    "    30.たいりつ 対立 n./vi. confrontation/opposition/to confront/to be opposed\n",
    "    31.かいぜん 改善 n./vt. improvement/to improve\n",
    "    32.ぞうぜい 増税 n./vi. tax increase/to increase tax\n",
    "    33.げんぜい 減税 n./vi. tax decrease/to decrease tax\n",
    "    34.ちゅうし 注視 n./vt. gaze/to gaze\n",
    "    35.よういん 要因 n. factor/cause\n",
    "    36.ちゅうだん 中断 n./vt. interruption/to interrupt\n",
    "    37.はたす 果たす vt. to accomplish/to achieve/to perform\n",
    "    38.はきはき adv. clearly/briskly\n",
    "    39.ばからしい 馬鹿らしい い-adj. absurd/silly\n",
    "    40.しんし 紳士 n. gentleman\n",
    "    41.しゃない 社内 n. inside the company\n",
    "    42.しゃがい 社外 n. outside the company\n",
    "    43.のうさんぶつ 農産物 n. agricultural products\n",
    "    44.げんじょう 現状 n. current status/the state of affairs\n",
    "    45.ろうどうせいさんせい 労働生産性 n. labor productivity\n",
    "    46.わくせい 惑星 n. planet\n",
    "    47.こうせい 恒星 n. fixed star\n",
    "    48.プロデューサー n. producer\n",
    "    49.はんろ 販路 n. market/outlet\n",
    "    50.かくだい 拡大 n./vt. expansion/magnification/to expand/to magnify/to enlarge\n"
   ]
  },
  {
   "cell_type": "markdown",
   "metadata": {},
   "source": [
    "    51.ぼうふう 防風 n. windproof\n",
    "    52.ぼうすい 防水 n. waterproof\n",
    "    53.せいのう 性能 n. ability/performance\n",
    "    54.かっせいか 活性化 n./vt./vi. activation/to revitalize/to grow active/to liven up\n",
    "    55.せつび 設備 n./vt. utilities/facilities/to equip\n",
    "    56.とうし 投資 n./vi. investment/to invest\n",
    "    57.そくしん 促進 n./vt. promotion/encouragement/to promote/to encourage\n",
    "    58.あたたまる 温まる vi. to heat up/to get warm\n",
    "    59.いじゅう 移住 n./vi. immigration/emigration/to immigrate/to emigrate\n",
    "    60.しょくにくもく 食肉目 n. carnivore\n",
    "    61.せいそく 生息 n./vi. inhabiting/to inhabit\n",
    "    62.しげる 茂る vi. to grow thick\n",
    "    63.まえあし 前足 n. fore leg\n",
    "    64.うしろあし 後ろ足 n. hind leg\n",
    "    65.たんどく 単独 n./な-adj. solo/single/alone\n",
    "    66.とうみん 冬眠 n./vi. hibernation/to hibernate\n",
    "    67.かんれい 寒冷 n./な-adj. cold\n",
    "    68.ちくりん 竹林 n. bamboo forest\n",
    "    69.こっこうかいふく 国交回復 n. diplomatic relations restoration\n",
    "    70.しいく 飼育 n./vt. breeding/raising/to breed/to raise\n",
    "    71.ぜつめつ 絶滅 n./vi. extinction/to be extinct\n",
    "    72.ひんする 瀕する vi. to be on the verge of/to be on the brink of\n",
    "    73.はんしょく 繁殖 n./vi. breeding/to breed\n",
    "    74.してき 指摘 n./vt. to point out\n",
    "    75.ほご 保護 n./vt. protection/conservation/to protect/to conserve\n",
    "    76.ほかく 捕獲 n./vt. capture/to capture/to catch\n",
    "    77.どうせ adv. at any rate/in any case/at best\n",
    "    78.するどい 鋭い い-adj. sharp/keen/stabbing\n",
    "    79.ひょうこう 標高 n. altitude/elevation\n",
    "    80.ひまつぶし 暇つぶし n. waste of time/killing time\n"
   ]
  },
  {
   "cell_type": "markdown",
   "metadata": {},
   "source": [
    "Here’s the vocabulary table for your latest entries:\n",
    "\n",
    "| No. | Japanese (Kanji) | Hiragana     | Romaji     | English Translation                    | Part of Speech | Example Sentence (Japanese)                | Example Sentence (English)                       | Example Sentence (Romaji)                       | Notes                                       |\n",
    "| --- | ---------------- | ------------ | ---------- | -------------------------------------- | -------------- | ------------------------------------------ | ------------------------------------------------ | ----------------------------------------------- | ------------------------------------------- |\n",
    "| 1   | 避難所           | ひなんじょ   | hinanjo    | shelter / place of refuge              | n              | 避難所に行く必要があります。               | We need to go to the shelter.                    | Hinanjo ni iku hitsuyō ga arimasu.              | Important in disaster situations.           |\n",
    "| 2   | 見落とす         | みおとす     | miotosu    | to overlook / to fail to notice        | vt             | 重要な点を見落としました。                 | I overlooked an important point.                 | Jūyō na ten o miotoshimashita.                  | Relevant in discussions of details.         |\n",
    "| 3   | 置き去り         | おきざり     | okizari    | desertion / leaving behind             | n              | 子供を置き去りにすることはできません。     | You cannot leave a child behind.                 | Kodomo o okizari ni suru koto wa dekimasen.     | Important in discussions of responsibility. |\n",
    "| 4   | 過去             | かこ         | kako       | the past                               | n              | 過去を振り返ることは大切です。             | Reflecting on the past is important.             | Kako o furikaeru koto wa taisetsu desu.         | Useful in discussions of history.           |\n",
    "| 5   | 備える           | そなえる     | sonaeru    | to furnish / to equip / to prepare for | vt             | 災害に備えることが重要です。               | It's important to prepare for disasters.         | Saigai ni sonaeru koto ga jūyō desu.            | Relevant in emergency planning.             |\n",
    "| 6   | 飼い主           | かいぬし     | kainushi   | owner of a pet                         | n              | 彼は犬の飼い主です。                       | He is the owner of a dog.                        | Kare wa inu no kainushi desu.                   | Important in pet discussions.               |\n",
    "| 7   | ルート           | ルート       | rūto       | route                                  | n              | ルートを確認してください。                 | Please check the route.                          | Rūto o kakunin shite kudasai.                   | Common in travel contexts.                  |\n",
    "| 8   | 慌てる           | あわてる     | awateru    | to panic / to be in a rush             | vi             | 慌てずに行動してください。                 | Please act without panicking.                    | Awatezu ni kōdō shite kudasai.                  | Important in emergency situations.          |\n",
    "| 9   | 躾               | しつけ       | shitsuke   | discipline / training / upbringing     | n              | 子供にしつけをするのが大事です。           | It's important to discipline children.           | Kodomo ni shitsuke o suru no ga daiji desu.     | Relevant in parenting discussions.          |\n",
    "| 10  | 基本             | きほん       | kihon      | foundation / basis / standard          | n              | 基本を学ぶことが必要です。                 | Learning the basics is necessary.                | Kihon o manabu koto ga hitsuyō desu.            | Useful in education contexts.               |\n",
    "| 11  | アレルギー       | アレルギー   | arerugī    | allergy                                | n              | 彼女はアレルギーがあります。               | She has an allergy.                              | Kanojo wa arerugī ga arimasu.                   | Important in health discussions.            |\n",
    "| 12  | 自治体           | じちたい     | jichitai   | municipality / local government        | n              | 自治体のサービスを利用してください。       | Please use the services of the municipality.     | Jichitai no sābisu o riyō shite kudasai.        | Relevant in governance discussions.         |\n",
    "| 13  | 慣らす           | ならす       | narasu     | to accustom / to train                 | vt             | 犬を慣らすのに時間がかかります。           | It takes time to accustom the dog.               | Inu o narasu no ni jikan ga kakarimasu.         | Important in training contexts.             |\n",
    "| 14  | 同行             | どうこう     | dōkō       | accompanying / to accompany            | n/vi           | 彼女は私に同行します。                     | She will accompany me.                           | Kanojo wa watashi ni dōkō shimasu.              | Useful in travel discussions.               |\n",
    "| 15  | 安全             | あんぜん     | anzen      | safety                                 | n              | 安全第一です。                             | Safety comes first.                              | Anzen daiichi desu.                             | Important in discussions of safety.         |\n",
    "| 16  | 確保             | かくほ       | kakuho     | guarantee / to ensure / to secure      | n/vt           | 資金を確保する必要があります。             | We need to secure funding.                       | Shikin o kakuho suru hitsuyō ga arimasu.        | Relevant in financial discussions.          |\n",
    "| 17  | 軽減             | けいげん     | keigen     | reduction / to reduce                  | n/vt           | リスクを軽減する方法を考えています。       | We are thinking of ways to reduce risks.         | Risuku o keigen suru hōhō o kangaeteimasu.      | Important in risk management.               |\n",
    "| 18  | 誇らしい         | ほこらしい   | hokorashii | proud                                  | na-adj         | 私はその業績を誇らしく思います。           | I am proud of that achievement.                  | Watashi wa sono gyōseki o hokorashiku omoimasu. | Relevant in personal discussions.           |\n",
    "| 19  | 得意             | とくい       | tokui      | pride / specialty / to be good at      | n/na-adj       | 彼は数学が得意です。                       | He is good at mathematics.                       | Kare wa suugaku ga tokui desu.                  | Important in skill discussions.             |\n",
    "| 20  | 賞状             | しょうじょう | shōjō      | honorable certificate                  | n              | 賞状を受け取りました。                     | I received a certificate.                        | Shōjō o uketorimashita.                         | Common in award contexts.                   |\n",
    "| 21  | 介護             | かいご       | kaigo      | caregiving / to care for               | n/vt           | 介護が必要な人が増えています。             | The number of people needing care is increasing. | Kaigo ga hitsuyō na hito ga fueteimasu.         | Important in health care discussions.       |\n",
    "| 22  | バージョン       | バージョン   | bājon      | version                                | n              | ソフトウェアの新しいバージョンが出ました。 | A new version of the software has been released. | Sofutowea no atarashii bājon ga demashita.      | Common in tech discussions.                 |\n",
    "| 23  | 苦労             | くろう       | kurō       | hardships / trouble                    | n/vi           | 苦労を重ねてきました。                     | I have gone through hardships.                   | Kurō o kasanete kimashita.                      | Relevant in personal stories.               |\n",
    "| 24  | ゴール           | ゴール       | gōru       | goal (used in sports)                  | n              | ゴールを決めました。                       | I scored a goal.                                 | Gōru o kimemashita.                             | Important in sports discussions.            |\n",
    "| 25  | 税率             | ぜいりつ     | zeiritsu   | tax rate                               | n              | 新しい税率が発表されました。               | A new tax rate has been announced.               | Atarashii zeiritsu ga happyō saremashita.       | Relevant in finance discussions.            |\n",
    "\n",
    "Let me know if you need further adjustments or more entries!\n"
   ]
  },
  {
   "cell_type": "markdown",
   "metadata": {},
   "source": [
    "Here’s the vocabulary table for your latest entries:\n",
    "\n",
    "| No. | Japanese (Kanji) | Hiragana             | Romaji         | English Translation                   | Part of Speech | Example Sentence (Japanese)              | Example Sentence (English)                         | Example Sentence (Romaji)                              | Notes                                      |\n",
    "| --- | ---------------- | -------------------- | -------------- | ------------------------------------- | -------------- | ---------------------------------------- | -------------------------------------------------- | ------------------------------------------------------ | ------------------------------------------ |\n",
    "| 26  | 課す             | かす                 | kasu           | to impose / to assign                 | vt             | 彼に新しい仕事を課しました。             | I assigned him a new task.                         | Kare ni atarashii shigoto o kashimashita.              | Relevant in management contexts.           |\n",
    "| 27  | 所有権           | しょゆうけん         | shoyūken       | ownership                             | n              | 所有権の問題が話題になっています。       | The issue of ownership is a topic of discussion.   | Shoyūken no mondai ga wadai ni natteimasu.             | Important in legal discussions.            |\n",
    "| 28  | 争う             | あらそう             | arasō          | to compete / to dispute / to fight    | vi/vt          | 彼らは賞を争っています。                 | They are competing for the prize.                  | Karera wa shō o arasotteimasu.                         | Relevant in competitive contexts.          |\n",
    "| 29  | 議論             | ぎろん               | giron          | argument / discussion                 | n/vi/vt        | 議論が白熱しています。                   | The discussion is heated.                          | Giron ga hakunetsu shiteimasu.                         | Important in debates.                      |\n",
    "| 30  | 対立             | たいりつ             | tairitsu       | confrontation / opposition            | n/vi           | 対立を解決する必要があります。           | We need to resolve the confrontation.              | Tairitsu o kaiketsu suru hitsuyō ga arimasu.           | Relevant in conflict discussions.          |\n",
    "| 31  | 改善             | かいぜん             | kaizen         | improvement / to improve              | n/vt           | 仕事の改善が求められています。           | Improvement in work is being sought.               | Shigoto no kaizen ga motomerareteimasu.                | Important in quality discussions.          |\n",
    "| 32  | 増税             | ぞうぜい             | zōzei          | tax increase                          | n/vi           | 増税が発表されました。                   | A tax increase has been announced.                 | Zōzei ga happyō saremashita.                           | Relevant in finance discussions.           |\n",
    "| 33  | 減税             | げんぜい             | genzei         | tax decrease                          | n/vi           | 減税が期待されています。                 | A tax decrease is anticipated.                     | Genzei ga kitai sareteimasu.                           | Important in budget discussions.           |\n",
    "| 34  | 注視             | ちゅうし             | chūshi         | gaze / to gaze                        | n/vt           | 彼は画面を注視しています。               | He is gazing at the screen.                        | Kare wa gamen o chūshi shiteimasu.                     | Useful in focus discussions.               |\n",
    "| 35  | 要因             | よういん             | yōin           | factor / cause                        | n              | この問題の要因を分析する必要があります。 | We need to analyze the factors of this issue.      | Kono mondai no yōin o bunseki suru hitsuyō ga arimasu. | Relevant in analytical discussions.        |\n",
    "| 36  | 中断             | ちゅうだん           | chūdan         | interruption / to interrupt           | n/vt           | 会議が中断されました。                   | The meeting was interrupted.                       | Kaigi ga chūdan saremashita.                           | Important in scheduling discussions.       |\n",
    "| 37  | 果たす           | はたす               | hatasu         | to accomplish / to achieve            | vt             | 目標を果たすことが大切です。             | It's important to accomplish goals.                | Mokuhyō o hatasu koto ga taisetsu desu.                | Relevant in goal-setting contexts.         |\n",
    "| 38  | はきはき         | はきはき             | hakihaki       | clearly / briskly                     | adv            | 彼ははきはきと話します。                 | He speaks clearly.                                 | Kare wa hakihaki to hanashimasu.                       | Important in communication discussions.    |\n",
    "| 39  | 馬鹿らしい       | ばからしい           | bakarashii     | absurd / silly                        | na-adj         | それは馬鹿らしい提案です。               | That is an absurd proposal.                        | Sore wa bakarashii teian desu.                         | Relevant in critical discussions.          |\n",
    "| 40  | 紳士             | しんし               | shinshi        | gentleman                             | n              | 彼は真の紳士です。                       | He is a true gentleman.                            | Kare wa shin no shinshi desu.                          | Important in character discussions.        |\n",
    "| 41  | 社内             | しゃない             | shanai         | inside the company                    | n              | 社内のルールを守る必要があります。       | We need to follow the rules inside the company.    | Shanai no rūru o mamoru hitsuyō ga arimasu.            | Relevant in corporate discussions.         |\n",
    "| 42  | 社外             | しゃがい             | shagai         | outside the company                   | n              | 社外のイベントに参加します。             | I will attend an event outside the company.        | Shagai no ibento ni sankashimasu.                      | Important in external relations.           |\n",
    "| 43  | 農産物           | のうさんぶつ         | nōsanbutsu     | agricultural products                 | n              | 農産物の品質が重要です。                 | The quality of agricultural products is important. | Nōsanbutsu no hinshitsu ga jūyō desu.                  | Relevant in agricultural discussions.      |\n",
    "| 44  | 現状             | げんじょう           | genjō          | current status / the state of affairs | n              | 現状を把握することが必要です。           | It's necessary to understand the current status.   | Genjō o hakaru koto ga hitsuyō desu.                   | Important in evaluation discussions.       |\n",
    "| 45  | 労働生産性       | ろうどうせいさんせい | rōdōseisanssei | labor productivity                    | n              | 労働生産性を向上させる必要があります。   | We need to improve labor productivity.             | Rōdōseisanssei o kōjō saseru hitsuyō ga arimasu.       | Relevant in economic discussions.          |\n",
    "| 46  | 惑星             | わくせい             | wakusei        | planet                                | n              | 火星は惑星の一つです。                   | Mars is one of the planets.                        | Kasei wa wakusei no hitotsu desu.                      | Important in astronomy discussions.        |\n",
    "| 47  | 恒星             | こうせい             | kōsei          | fixed star                            | n              | 太陽は恒星です。                         | The sun is a fixed star.                           | Taiyō wa kōsei desu.                                   | Relevant in astrophysics discussions.      |\n",
    "| 48  | プロデューサー   | プロデューサー       | purodyūsā      | producer                              | n              | 彼は映画のプロデューサーです。           | He is the producer of the movie.                   | Kare wa eiga no purodyūsā desu.                        | Important in film industry discussions.    |\n",
    "| 49  | 販路             | はんろ               | hanro          | market / outlet                       | n              | 新しい販路を開拓する必要があります。     | We need to develop new markets.                    | Atarashii hanro o kaitaku suru hitsuyō ga arimasu.     | Relevant in business strategy discussions. |\n",
    "| 50  | 拡大             | かくだい             | kakudai        | expansion / to expand                 | n/vt           | 事業の拡大を目指しています。             | We aim for the expansion of the business.          | Jigyō no kakudai o mezashiteimasu.                     | Important in growth discussions.           |\n",
    "\n",
    "Let me know if you need more entries or any adjustments!\n"
   ]
  },
  {
   "cell_type": "markdown",
   "metadata": {},
   "source": [
    "Here's the vocabulary table for your latest entries:\n",
    "\n",
    "| No. | Japanese (Kanji) | Hiragana         | Romaji        | English Translation              | Part of Speech | Example Sentence (Japanese)        | Example Sentence (English)                          | Example Sentence (Romaji)                       | Notes                                            |\n",
    "| --- | ---------------- | ---------------- | ------------- | -------------------------------- | -------------- | ---------------------------------- | --------------------------------------------------- | ----------------------------------------------- | ------------------------------------------------ |\n",
    "| 51  | 防風             | ぼうふう         | bōfū          | windproof                        | n              | このジャケットは防風です。         | This jacket is windproof.                           | Kono jaketto wa bōfū desu.                      | Useful in clothing discussions.                  |\n",
    "| 52  | 防水             | ぼうすい         | bōsui         | waterproof                       | n              | このバッグは防水です。             | This bag is waterproof.                             | Kono baggu wa bōsui desu.                       | Important in outdoor gear.                       |\n",
    "| 53  | 性能             | せいのう         | seinō         | ability / performance            | n              | この機械の性能は素晴らしいです。   | The performance of this machine is excellent.       | Kono kikai no seinō wa subarashii desu.         | Relevant in technology contexts.                 |\n",
    "| 54  | 活性化           | かっせいか       | kasseika      | activation / to revitalize       | n/vt/vi        | 地域の活性化が求められています。   | Revitalization of the area is needed.               | Chiiki no kasseika ga motomerareteimasu.        | Important in development discussions.            |\n",
    "| 55  | 設備             | せつび           | setsubi       | utilities / facilities           | n/vt           | 会社の設備を更新しました。         | We updated the company's facilities.                | Kaisha no setsubi o koshin shimashita.          | Relevant in infrastructure discussions.          |\n",
    "| 56  | 投資             | とうし           | tōshi         | investment / to invest           | n/vi           | 投資はリスクを伴います。           | Investment comes with risks.                        | Tōshi wa risuku o tomonai masu.                 | Important in financial discussions.              |\n",
    "| 57  | 促進             | そくしん         | sokushin      | promotion / encouragement        | n/vt           | 健康促進のために運動が重要です。   | Exercise is important for health promotion.         | Kenkō sokushin no tame ni undō ga jūyō desu.    | Relevant in health discussions.                  |\n",
    "| 58  | 温まる           | あたたまる       | atatamaru     | to heat up / to get warm         | vi             | 食事を温める必要があります。       | We need to heat up the food.                        | Shokuji o atatameru hitsuyō ga arimasu.         | Useful in cooking contexts.                      |\n",
    "| 59  | 移住             | いじゅう         | ijū           | immigration / to immigrate       | n/vi           | 海外に移住することを考えています。 | I'm considering immigrating abroad.                 | Kaigai ni ijū suru koto o kangaeteimasu.        | Important in migration discussions.              |\n",
    "| 60  | 食肉目           | しょくにくもく   | shokunikumoku | carnivore                        | n              | 食肉目の動物は肉を食べます。       | Carnivorous animals eat meat.                       | Shokunikumoku no dōbutsu wa niku o tabemasu.    | Relevant in biology discussions.                 |\n",
    "| 61  | 生息             | せいそく         | seisoku       | inhabiting / to inhabit          | n/vi           | この地域に生息する動物は多いです。 | There are many animals inhabiting this area.        | Kono chiiki ni seisoku suru dōbutsu wa ōi desu. | Important in ecology discussions.                |\n",
    "| 62  | 茂る             | しげる           | shigeru       | to grow thick                    | vi             | 森が茂っています。                 | The forest is thick with growth.                    | Mori ga shigeru shiteimasu.                     | Useful in environmental discussions.             |\n",
    "| 63  | 前足             | まえあし         | maeashi       | fore leg                         | n              | 犬の前足は速く動きます。           | The dog's fore legs move quickly.                   | Inu no maeashi wa hayaku ugokimasu.             | Relevant in animal anatomy.                      |\n",
    "| 64  | 後ろ足           | うしろあし       | ushiroashi    | hind leg                         | n              | 猫の後ろ足は非常に強いです。       | The cat's hind legs are very strong.                | Neko no ushiroashi wa hijō ni tsuyoi desu.      | Important in animal anatomy.                     |\n",
    "| 65  | 単独             | たんどく         | tandoku       | solo / single / alone            | n/na-adj       | 彼は単独で旅行しています。         | He is traveling alone.                              | Kare wa tandoku de ryokō shiteimasu.            | Relevant in personal experiences.                |\n",
    "| 66  | 冬眠             | とうみん         | tōmin         | hibernation / to hibernate       | n/vi           | クマは冬眠します。                 | Bears hibernate.                                    | Kuma wa tōmin shimasu.                          | Important in animal behavior discussions.        |\n",
    "| 67  | 寒冷             | かんれい         | kanrei        | cold                             | n/na-adj       | 寒冷地での生活は厳しいです。       | Life in cold regions is harsh.                      | Kanrei chi de no seikatsu wa kibishii desu.     | Relevant in climate discussions.                 |\n",
    "| 68  | 竹林             | ちくりん         | chikurin      | bamboo forest                    | n              | 竹林は美しいです。                 | The bamboo forest is beautiful.                     | Chikurin wa utsukushii desu.                    | Important in nature discussions.                 |\n",
    "| 69  | 国交回復         | こっこうかいふく | kokkōkaifuku  | diplomatic relations restoration | n              | 国交回復が期待されています。       | Restoration of diplomatic relations is anticipated. | Kokkō kaifuku ga kitai sareteimasu.             | Relevant in international relations discussions. |\n",
    "| 70  | 飼育             | しいく           | shiiku        | breeding / raising               | n/vt           | 彼は動物を飼育しています。         | He is raising animals.                              | Kare wa dōbutsu o shiiku shiteimasu.            | Important in animal care discussions.            |\n",
    "| 71  | 絶滅             | ぜつめつ         | zetsumetsu    | extinction / to be extinct       | n/vi           | この種は絶滅の危機にあります。     | This species is at risk of extinction.              | Kono shū wa zetsumetsu no kiki ni arimasu.      | Relevant in conservation discussions.            |\n",
    "| 72  | 瀕する           | ひんする         | hin suru      | to be on the verge of            | vi             | 彼は危険に瀕しています。           | He is on the verge of danger.                       | Kare wa kiken ni hin shiteimasu.                | Useful in risk discussions.                      |\n",
    "| 73  | 繁殖             | はんしょく       | hanshoku      | breeding / to breed              | n/vi           | この動物は繁殖が容易です。         | This animal breeds easily.                          | Kono dōbutsu wa hanshoku ga yōi desu.           | Relevant in animal breeding discussions.         |\n",
    "| 74  | 指摘             | してき           | shiteki       | to point out                     | n/vt           | 問題を指摘することが大切です。     | It's important to point out the issues.             | Mondai o shiteki suru koto ga taisetsu desu.    | Useful in critical discussions.                  |\n",
    "| 75  | 保護             | ほご             | hogo          | protection / conservation        | n/vt           | 環境保護が重要です。               | Environmental protection is important.              | Kankyō hogo ga jūyō desu.                       | Relevant in environmental discussions.           |\n",
    "| 76  | 捕獲             | ほかく           | hakaku        | capture / to capture             | n/vt           | 捕獲するには許可が必要です。       | Permission is required for capture.                 | Hakaku suru ni wa kyoka ga hitsuyō desu.        | Important in wildlife discussions.               |\n",
    "| 77  | どうせ           | どうせ           | dōse          | at any rate / in any case        | adv            | どうせ行くなら、楽しんでください。 | If you're going anyway, enjoy it.                   | Dōse iku nara, tanoshinde kudasai.              | Useful in casual conversations.                  |\n",
    "| 78  | 鋭い             | するどい         | surudoi       | sharp / keen / stabbing          | na-adj         | 彼のナイフは鋭いです。             | His knife is sharp.                                 | Kare no naifu wa surudoi desu.                  | Relevant in safety discussions.                  |\n",
    "| 79  | 標高             | ひょうこう       | hyōkō         | altitude / elevation             | n              | この山の標高は高いです。           | The altitude of this mountain is high.              | Kono yama no hyōkō wa takai desu.               | Important in geography discussions.              |\n",
    "| 80  | 暇つぶし         | ひまつぶし       | himatsubushi  | waste of time / killing time     | n              | 暇つぶしに映画を見ました。         | I watched a movie to kill time.                     | Himatsubushi ni eiga o mimashita.               | Useful in casual conversations.                  |\n",
    "\n",
    "Let me know if you need more entries or adjustments!\n"
   ]
  },
  {
   "cell_type": "markdown",
   "metadata": {},
   "source": [
    "---"
   ]
  },
  {
   "cell_type": "markdown",
   "metadata": {},
   "source": [
    "# Conversation"
   ]
  },
  {
   "cell_type": "markdown",
   "metadata": {},
   "source": [
    "みなさん、 災 害 が起こり、避難しなければならなくなったとき、\n",
    "ペットをどうするか 考 えていますか?\n",
    "\n",
    "災 害 対 策 などをする 中 で、わりと見落としがちなのが、ペットの避 難 対 策 です。\n",
    "過去の 災 害 では、ペットが置き去りにされたり、飼い 主 と 離 ればなれに\n",
    "なってしまったりした 末 、 悲 しい結果となったケースがたくさんありました。\n",
    "ペットを家族のように大事にしていながらも、 災 害 対 策 はできていない、\n",
    "ということのないよう、 本 日 はペットの 災 害 対 策 についてお 話 したいと\n",
    "思 います。\n",
    "\n",
    "ペットの 災 害 対 策 は普段から 考 え、 備 えておく 必 要 があります。\n",
    "飼い 主 は 十 分 な 水 や 食 料 、 常 用 薬 等 を用意し、避 難 所 や\n",
    "避難ルートを 確 認 しておきましょう。\n",
    "緊 急 の場面で 慌 てないように、ペットに基 本 的 なしつけをして、\n",
    "備 えておく必要もあります。\n",
    "\n",
    "避難するときは、ペットを連れて 一 緒 に避難してください。\n",
    "これを「同 行 避 難 」と言います。\n",
    "避 難 所 では、 動 物 の好きな 人 、 嫌 いな 人 、 動 物 アレルギーの 人 など\n",
    "様 々 な 人 が 集 まっています。\n",
    "\n",
    "過去には、避 難 所 で飼い 主 と 一 緒 に避難してきたペットをめぐり、\n",
    "大 きなトラブルになったケースもありました。\n",
    "ペットを避 難 所 に連れていったら、自治体の指示やルールに 基 づいて 行 動 し、\n",
    "周 りの 人 に 配 慮 しましょう。\n",
    "\n",
    "また、避 難 生 活 では、ペットは飼い 主 と 常 に 一 緒 にいながらも、\n",
    "環 境 の変化によって、 大 きなストレスを 感 じている可 能 性 があります。\n",
    "ペットの 心 のケアにも 配 慮 しましょう。\n",
    "\n",
    "また、普段からペットに基 本 的 なしつけをしつつ、ペットを 様 々 な 環 境 に\n",
    "慣らしておくことも 重 要 です。\n",
    "\n",
    "しつけはペットの安 全 確 保 のみならず、災 害 時 のストレスを 軽 減 させ、\n",
    "飼い 主 自身や 周 りの 人 々 への 安 全 ・安 心 の確保のためにも大事なことです。\n",
    "\n",
    "ここで 注 意 すべきなのは、すべての避難場所でペットの受け入れができるわけではないということです。\n",
    "現 在 自分が住んでいる地域の避難場所では、ペットとの同 行 避 難 が可能か\n",
    "どうかをあらかじめ 確 認 し、自治体に問い合わせをするなどして、\n",
    "ペットとの避 難 計 画 を 考 えておきましょう。"
   ]
  },
  {
   "cell_type": "markdown",
   "metadata": {},
   "source": [
    "Here's the complete structured table based on the text about disaster preparedness for pets:\n",
    "\n",
    "| **Section**                   | **Japanese (Hiragana)**                                                                                                                                  | **Japanese (Kanji)**                                                                                                                                     | **English Translation**                                                                                                                                                          | **Romaji**                                                                                                                                                                                        | **Notes**                                                   |\n",
    "| ----------------------------- | -------------------------------------------------------------------------------------------------------------------------------------------------------- | -------------------------------------------------------------------------------------------------------------------------------------------------------- | -------------------------------------------------------------------------------------------------------------------------------------------------------------------------------- | ------------------------------------------------------------------------------------------------------------------------------------------------------------------------------------------------- | ----------------------------------------------------------- |\n",
    "| **Introduction**              | みなさん、災害が起こり、避難しなければならなくなったとき、ペットをどうするか考えていますか?                                                              | みなさん、災害が起こり、避難しなければならなくなったとき、ペットをどうするか考えていますか?                                                              | Everyone, have you thought about what to do with your pets in the event of a disaster?                                                                                           | Minasan, saigai ga okori, hinan shinakereba naranakunatta toki, petto o dō suru ka kangaete imasu ka?                                                                                             | Engaging the audience to consider pet care in emergencies.  |\n",
    "| **Importance**                | 災害対策などをする中で、わりと見落としがちなのが、ペットの避難対策です。                                                                                 | 災害対策などをする中で、わりと見落としがちなのが、ペットの避難対策です。                                                                                 | One aspect that is often overlooked in disaster preparedness is planning for pets.                                                                                               | Saigai taisaku nado o suru naka de, warito miotoshi gachi na no ga, petto no hinan taisaku desu.                                                                                                  | Highlighting the common oversight in disaster plans.        |\n",
    "| **Consequences**              | 過去の災害では、ペットが置き去りにされたり、飼い主と離ればなれになってしまったりした末、悲しい結果となったケースがたくさんありました。                   | 過去の災害では、ペットが置き去りにされたり、飼い主と離ればなれになってしまったりした末、悲しい結果となったケースがたくさんありました。                   | In past disasters, many pets were left behind or separated from their owners, leading to sad outcomes.                                                                           | Kako no saigai de wa, petto ga okizari ni sare tari, kainushi to hanarebanare ni natte shimattari shita sue, kanashii kekka to natta kēsu ga takusan arimashita.                                  | Discussing the tragic outcomes from previous disasters.     |\n",
    "| **Preparation**               | ペットの災害対策は普段から考え、備えておく必要があります。                                                                                               | ペットの災害対策は普段から考え、備えておく必要があります。                                                                                               | Disaster preparedness for pets should be considered and planned for regularly.                                                                                                   | Petto no saigai taisaku wa fudan kara kangae, sonaete oku hitsuyō ga arimasu.                                                                                                                     | Emphasizing the need for ongoing planning.                  |\n",
    "| **Supplies**                  | 飼い主は十分な水や食料、常用薬等を用意し、避難所や避難ルートを確認しておきましょう。                                                                     | 飼い主は十分な水や食料、常用薬等を用意し、避難所や避難ルートを確認しておきましょう。                                                                     | Owners should prepare enough water, food, and regular medications, and confirm evacuation centers and routes.                                                                    | Kainushi wa jūbun na mizu ya shokuryō, jōyōyaku nado o yōi shi, hinanjo ya hinan rūto o kakunin shite okimashou.                                                                                  | Listing necessary supplies for pets.                        |\n",
    "| **Training**                  | 緊急の場面で慌てないように、ペットに基本的なしつけをして、備えておく必要もあります。                                                                     | 緊急の場面で慌てないように、ペットに基本的なしつけをして、備えておく必要もあります。                                                                     | To avoid panic in emergencies, it's necessary to train pets with basic commands and prepare them.                                                                                | Kinkyū no bamen de awatenai yō ni, petto ni kihonteki na shitsuke o shite, sonaete oku hitsuyō mo arimasu.                                                                                        | Stressing the importance of training pets for emergencies.  |\n",
    "| **Evacuation**                | 避難するときは、ペットを連れて一緒に避難してください。これを「同行避難」と言います。                                                                     | 避難するときは、ペットを連れて一緒に避難してください。これを「同行避難」と言います。                                                                     | When evacuating, please take your pets with you. This is called \"evacuation together.\"                                                                                           | Hinan suru toki wa, petto o tsurete issho ni hinan shite kudasai. Kore o \"dōkō hinan\" to iimasu.                                                                                                  | Explaining the concept of evacuating with pets.             |\n",
    "| **Considerations**            | 避難所では、動物の好きな人、嫌いな人、動物アレルギーの人など様々な人が集まっています。                                                                   | 避難所では、動物の好きな人、嫌いな人、動物アレルギーの人など様々な人が集まっています。                                                                   | In evacuation shelters, various people gather, including those who like animals, dislike them, and those with animal allergies.                                                  | Hinanjo de wa, dōbutsu no sukina hito, kirai na hito, dōbutsu arerugī no hito nado samazama na hito ga atsumatte imasu.                                                                           | Acknowledging the diverse reactions to pets in shelters.    |\n",
    "| **Past Issues**               | 過去には、避難所で飼い主と一緒に避難してきたペットをめぐり、大きなトラブルになったケースもありました。                                                   | 過去には、避難所で飼い主と一緒に避難してきたペットをめぐり、大きなトラブルになったケースもありました。                                                   | In the past, there have been significant troubles regarding pets that evacuated with their owners in shelters.                                                                   | Kako ni wa, hinanjo de kainushi to issho ni hinan shite kita petto o meguri, ōkina toraburu ni natta kēsu mo arimashita.                                                                          | Highlighting past conflicts related to pets in shelters.    |\n",
    "| **Rules**                     | ペットを避難所に連れていったら、自治体の指示やルールに基づいて行動し、周りの人に配慮しましょう。                                                         | ペットを避難所に連れていったら、自治体の指示やルールに基づいて行動し、周りの人に配慮しましょう。                                                         | If you bring your pet to a shelter, act according to the municipality's instructions and rules, and consider those around you.                                                   | Petto o hinanjo ni tsurete ittara, jichitai no shiji ya rūru ni motozuite kōdō shi, mawari no hito ni hairyo shimashou.                                                                           | Emphasizing compliance with local rules in shelters.        |\n",
    "| **Stress Management**         | 避難生活では、ペットは飼い主と常に一緒にいながらも、環境の変化によって、大きなストレスを感じている可能性があります。ペットの心のケアにも配慮しましょう。 | 避難生活では、ペットは飼い主と常に一緒にいながらも、環境の変化によって、大きなストレスを感じている可能性があります。ペットの心のケアにも配慮しましょう。 | In evacuation life, while pets are always with their owners, they may experience significant stress due to environmental changes. Pay attention to their emotional care as well. | Hinan seikatsu de wa, petto wa kainushi to tsuneni issho ni inagara mo, kankyō no henka ni yotte, ōkina sutoresu o kanjite iru kanōsei ga arimasu. Petto no kokoro no kea ni mo hairyo shimashou. | Discussing the emotional impact on pets during evacuations. |\n",
    "| **Training for Environments** | 普段からペットに基本的なしつけをしつつ、ペットを様々な環境に慣らしておくことも重要です。                                                                 | 普段からペットに基本的なしつけをしつつ、ペットを様々な環境に慣らしておくことも重要です。                                                                 | It’s also important to train pets with basic commands and expose them to various environments.                                                                                   | Fudan kara petto ni kihonteki na shitsuke o shitsutsu, petto o samazama na kankyō ni narashite oku koto mo jūyō desu.                                                                             | Importance of acclimating pets to different environments.   |\n",
    "\n",
    "If you need any modifications or further details, feel free to ask!\n"
   ]
  },
  {
   "cell_type": "markdown",
   "metadata": {},
   "source": [
    "---"
   ]
  },
  {
   "cell_type": "markdown",
   "metadata": {},
   "source": [
    "# Grammar 1\n"
   ]
  },
  {
   "cell_type": "markdown",
   "metadata": {},
   "source": []
  },
  {
   "cell_type": "markdown",
   "metadata": {},
   "source": []
  },
  {
   "cell_type": "markdown",
   "metadata": {},
   "source": []
  },
  {
   "cell_type": "markdown",
   "metadata": {},
   "source": [
    "---\n",
    "---"
   ]
  },
  {
   "cell_type": "markdown",
   "metadata": {},
   "source": [
    "# Grammar 2\n"
   ]
  },
  {
   "cell_type": "markdown",
   "metadata": {},
   "source": []
  },
  {
   "cell_type": "markdown",
   "metadata": {},
   "source": []
  },
  {
   "cell_type": "markdown",
   "metadata": {},
   "source": []
  },
  {
   "cell_type": "markdown",
   "metadata": {},
   "source": [
    "---\n",
    "---"
   ]
  },
  {
   "cell_type": "markdown",
   "metadata": {},
   "source": [
    "# Grammar 3\n"
   ]
  },
  {
   "cell_type": "markdown",
   "metadata": {},
   "source": []
  },
  {
   "cell_type": "markdown",
   "metadata": {},
   "source": []
  },
  {
   "cell_type": "markdown",
   "metadata": {},
   "source": []
  },
  {
   "cell_type": "markdown",
   "metadata": {},
   "source": [
    "---\n",
    "---"
   ]
  },
  {
   "cell_type": "markdown",
   "metadata": {},
   "source": [
    "# Grammar 4\n"
   ]
  },
  {
   "cell_type": "markdown",
   "metadata": {},
   "source": []
  },
  {
   "cell_type": "markdown",
   "metadata": {},
   "source": []
  },
  {
   "cell_type": "markdown",
   "metadata": {},
   "source": []
  },
  {
   "cell_type": "markdown",
   "metadata": {},
   "source": [
    "---\n",
    "---"
   ]
  },
  {
   "cell_type": "markdown",
   "metadata": {},
   "source": [
    "# Grammar 5\n"
   ]
  },
  {
   "cell_type": "markdown",
   "metadata": {},
   "source": []
  },
  {
   "cell_type": "markdown",
   "metadata": {},
   "source": []
  },
  {
   "cell_type": "markdown",
   "metadata": {},
   "source": []
  },
  {
   "cell_type": "markdown",
   "metadata": {},
   "source": [
    "---\n",
    "---"
   ]
  },
  {
   "cell_type": "markdown",
   "metadata": {},
   "source": [
    "# Grammar 6\n"
   ]
  },
  {
   "cell_type": "markdown",
   "metadata": {},
   "source": []
  },
  {
   "cell_type": "markdown",
   "metadata": {},
   "source": []
  },
  {
   "cell_type": "markdown",
   "metadata": {},
   "source": []
  },
  {
   "cell_type": "markdown",
   "metadata": {},
   "source": [
    "---\n",
    "---"
   ]
  },
  {
   "cell_type": "markdown",
   "metadata": {},
   "source": [
    "# Grammar 7\n"
   ]
  },
  {
   "cell_type": "markdown",
   "metadata": {},
   "source": []
  },
  {
   "cell_type": "markdown",
   "metadata": {},
   "source": []
  },
  {
   "cell_type": "markdown",
   "metadata": {},
   "source": []
  },
  {
   "cell_type": "markdown",
   "metadata": {},
   "source": [
    "---\n",
    "---"
   ]
  },
  {
   "cell_type": "markdown",
   "metadata": {},
   "source": [
    "# Grammar 8\n"
   ]
  },
  {
   "cell_type": "markdown",
   "metadata": {},
   "source": []
  },
  {
   "cell_type": "markdown",
   "metadata": {},
   "source": []
  },
  {
   "cell_type": "markdown",
   "metadata": {},
   "source": []
  },
  {
   "cell_type": "markdown",
   "metadata": {},
   "source": [
    "---\n",
    "---"
   ]
  },
  {
   "cell_type": "markdown",
   "metadata": {},
   "source": [
    "# Grammar 9\n"
   ]
  },
  {
   "cell_type": "markdown",
   "metadata": {},
   "source": []
  },
  {
   "cell_type": "markdown",
   "metadata": {},
   "source": []
  },
  {
   "cell_type": "markdown",
   "metadata": {},
   "source": []
  },
  {
   "cell_type": "markdown",
   "metadata": {},
   "source": [
    "---\n",
    "---"
   ]
  },
  {
   "cell_type": "markdown",
   "metadata": {},
   "source": [
    "# Grammar 10\n"
   ]
  },
  {
   "cell_type": "markdown",
   "metadata": {},
   "source": []
  },
  {
   "cell_type": "markdown",
   "metadata": {},
   "source": []
  },
  {
   "cell_type": "markdown",
   "metadata": {},
   "source": []
  },
  {
   "cell_type": "markdown",
   "metadata": {},
   "source": [
    "---\n",
    "---"
   ]
  },
  {
   "cell_type": "markdown",
   "metadata": {},
   "source": [
    "# Grammar 11\n"
   ]
  },
  {
   "cell_type": "markdown",
   "metadata": {},
   "source": []
  },
  {
   "cell_type": "markdown",
   "metadata": {},
   "source": []
  },
  {
   "cell_type": "markdown",
   "metadata": {},
   "source": []
  },
  {
   "cell_type": "markdown",
   "metadata": {},
   "source": [
    "---\n",
    "---"
   ]
  },
  {
   "cell_type": "markdown",
   "metadata": {},
   "source": [
    "# Grammar 12\n"
   ]
  },
  {
   "cell_type": "markdown",
   "metadata": {},
   "source": []
  },
  {
   "cell_type": "markdown",
   "metadata": {},
   "source": []
  },
  {
   "cell_type": "markdown",
   "metadata": {},
   "source": []
  },
  {
   "cell_type": "markdown",
   "metadata": {},
   "source": [
    "---\n",
    "---"
   ]
  }
 ],
 "metadata": {
  "language_info": {
   "name": "python"
  }
 },
 "nbformat": 4,
 "nbformat_minor": 2
}
