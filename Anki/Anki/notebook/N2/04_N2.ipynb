{
 "cells": [
  {
   "cell_type": "markdown",
   "metadata": {},
   "source": [
    "# N2\n",
    "\n",
    "### 第 04 課 - 『社員旅行を契機として、他部署との交流を図りましょう』と書いてあります。\n",
    "\n",
    "### Lesson 04 - It says \"Letʼs take this company trip as an opportunity to communicate with people from other departments.\"\n"
   ]
  },
  {
   "cell_type": "markdown",
   "metadata": {},
   "source": [
    "# Vocabulary"
   ]
  },
  {
   "cell_type": "markdown",
   "metadata": {},
   "source": [
    "    1.ていいん 定員 n. capacity/quota\n",
    "    2.しめきる 締め切る vt. to close\n",
    "    3.しめきり 締め切り n. deadline/closing date\n",
    "    4.といあわせ 問い合わせ n. inquiry\n",
    "    5.ねんど 年度 n. fiscal year/academic year/business year\n",
    "    6.てんかい 展開 n./vi./vt. development/unfolding/to develop/to unfold/to spread out\n",
    "    7.けいき 契機 n. chance/opportunity\n",
    "    8.きっかけ きっかけ n. chance/opportunity\n",
    "    9.かるいざわ 軽井沢 n. Karuizawa(a city in Nagano Prefecture)\n",
    "    10.しんちょう 慎重 な-adj./n. careful/cautious/prudent\n",
    "    11.ぎむ 義務 n. obligation/duty\n",
    "    12.ぎむきょういく 義務教育 n. compulsory education\n",
    "    13.はいりょ 配慮 n./vt. consideration/care/concern/to consider/to care\n",
    "    14.かたる 語る vt. to talk/to tell/to narrate\n",
    "    15.こうこうぎょう 鉱工業 n. mining and manufacturing industry\n",
    "    16.げんそく 原則 n. principle\n",
    "    17.めんじょ 免除 n./vt. exemption/to exempt\n",
    "    18.しんさい 震災 n. earthquake disaster\n",
    "    19.えんじょ 援助 n./vt. aid/help/to aid/to help\n",
    "    20.きゅうじょ 救助 n./vt. rescue/to rescue\n",
    "    21.せいぎ 正義 n. justice\n",
    "    22.つみ 罪 n. crime/guilt/sin\n",
    "    23.おうさま 王様 n. king\n",
    "    24.へいし 兵士 n. soldier\n",
    "    25.のうみん 農民 n. farmer/peasant\n"
   ]
  },
  {
   "cell_type": "markdown",
   "metadata": {},
   "source": [
    "    26.うばう 奪う vt. to rob/to snatch/to take something away from someone\n",
    "    27.どくりつ 独立 n./vi. independence/to be independent\n",
    "    28.くりかえす 繰り返す vt. to repeat\n",
    "    29.かいりょう 改良 n./vt. improvement/to improve\n",
    "    30.マネジメント n. management\n",
    "    31.はかまいり 墓参り n./vi. visiting one's grave/to visit one's grave\n",
    "    32.ちゅうや 昼夜 n. day and night\n",
    "    33.しんや 深夜 n. very late at night\n",
    "    34.うむ 有無 n. existence or non-existence/presence or absence/yes or no\n",
    "    35.せいべつ 性別 n. sex/gender\n",
    "    36.こくせき 国籍 n. nationality/citizenship\n",
    "    37.げんしかく 原子核 n. atomic nucleus\n",
    "    38.たいさく 対策 n. measure/countermeasure\n",
    "    39.きょうか 強化 n./vt. reinforcement/to reinforce/to strengthen\n",
    "    40.サンプル n. sample\n",
    "    41.しだい 次第 n. /suffix order/the state of things/reason/depending on/as soon as\n",
    "    42.じっし 実施 n./vt. implementation/enforcement/to implement/to put something into effect\n",
    "    43.けいじばん 掲示板 n. bulletin board/notice board\n",
    "    44.くわしい 詳しい い-adj. detailed/knowing something well\n",
    "    45.しゅくはく 宿泊 n./vi. lodging/to stay/to lodge\n",
    "    46.デート n./vi. date (romantic outing)/to go on a date\n",
    "    47.へいぼん 平凡 な-adj. mediocre/ordinary/common\n",
    "    48.トップ n. top/lead/head\n",
    "    49.カーブ n./vi. curve/bend/to curve\n",
    "    50.しょくば 職場 n. workplace/office\n"
   ]
  },
  {
   "cell_type": "markdown",
   "metadata": {},
   "source": [
    "    51.とけこむ 溶け込む vi. to blend in/to blend with/to dissolve into/to fade into/to adapt\n",
    "    52.かきとり 書き取り n. dictation/spelling out\n",
    "    53.ずらりと adv. in a (long) row or line\n",
    "    54.さっさと adv. quickly/in a hurry\n",
    "    55.みだれる 乱れる vi. to fall into disorder/to be entangled/to be disheveled/to be chaotic/to be corrupt\n",
    "    56.うらなう 占う vt. to tell somebody's fortune/to forecast\n",
    "    57.おそれる 恐れる vi. to fear/to be afraid of\n",
    "    58.ゆるい い-adj. loose/slack/lax/slow/gentle\n",
    "    59.しつこい い-adj. insistent/pestering\n",
    "    60.おんだん 温暖 n./な-adj. warmth/warm\n",
    "    61.じゅしょう 受賞 n./vt. being awarded/to win a prize/to receive an award\n",
    "    62.じゅけんせい 受験生 n. examinee/test taker\n",
    "    63.じぎょうかつどう 事業活動 n. business operations/business activities\n",
    "    64.うんこう 運行 n./vi. service/to be in operation(bus, train)\n",
    "    65.そうげい 送迎 n./vt. to see off and pick up someone\n",
    "    66.さかみち 坂道 n. slope/hill\n",
    "    67.もくせい 木製 n. made of wood\n",
    "    68.かみせい 紙製 n. made of paper\n",
    "    69.ビタミン n. vitamin\n",
    "    70.カロリー n. calorie\n",
    "    71.ちゅうせい 忠誠 n. loyalty\n",
    "    72.ちかう 誓う vt. to swear/to take an oath\n",
    "    73.けいさい 掲載 n./vt. to publish/to print/to carry (the news)\n",
    "    74.ランキング n. ranking\n"
   ]
  },
  {
   "cell_type": "markdown",
   "metadata": {},
   "source": [
    "Here’s the formatted table for your new vocabulary:\n",
    "\n",
    "| No. | Japanese (Kanji) | Hiragana       | Romaji      | English Translation                     | Part of Speech | Example Sentence (Japanese) | Example Sentence (English)                 | Example Sentence (Romaji)           | Notes                                  |\n",
    "| --- | ---------------- | -------------- | ----------- | --------------------------------------- | -------------- | --------------------------- | ------------------------------------------ | ----------------------------------- | -------------------------------------- |\n",
    "| 1   | 定員             | ていいん       | teiin       | capacity/quota                          | noun           | 定員は 100 人です。         | The capacity is 100 people.                | Teiin wa hyakunin desu.             | Used in contexts of limits             |\n",
    "| 2   | 締め切る         | しめきる       | shimekiru   | to close                                | verb           | 申し込みを締め切ります。    | I will close the applications.             | Mōshikomi o shimekirimasu.          | Common in deadlines                    |\n",
    "| 3   | 締め切り         | しめきり       | shimekiri   | deadline/closing date                   | noun           | 締め切りは来週です。        | The deadline is next week.                 | Shimekiri wa raishū desu.           | Important in planning                  |\n",
    "| 4   | 問い合わせ       | といあわせ     | toiawase    | inquiry                                 | noun           | お問い合わせはこちらです。  | Inquiries can be made here.                | Toiawase wa kochira desu.           | Used in customer service               |\n",
    "| 5   | 年度             | ねんど         | nendo       | fiscal year/academic year/business year | noun           | 新年度が始まります。        | The new fiscal year begins.                | Shin nendo ga hajimarimasu.         | Relevant in finance and education      |\n",
    "| 6   | 展開             | てんかい       | tenkai      | development/unfolding                   | noun/verb      | 新しい展開が期待されます。  | A new development is anticipated.          | Atarashii tenkai ga kitai saremasu. | Common in project discussions          |\n",
    "| 7   | 契機             | けいき         | keiki       | chance/opportunity                      | noun           | 契機を逃さないでください。  | Don’t miss the opportunity.                | Keiki o nogasanai de kudasai.       | Used for pivotal moments               |\n",
    "| 8   | きっかけ         | きっかけ       | kikkake     | chance/opportunity                      | noun           | きっかけが必要です。        | A chance is necessary.                     | Kikkake ga hitsuyō desu.            | Similar to \"契機\" but more casual      |\n",
    "| 9   | 軽井沢           | かるいざわ     | Karuizawa   | Karuizawa (a city in Nagano Prefecture) | proper noun    | 軽井沢に行きます。          | I will go to Karuizawa.                    | Karuizawa ni ikimasu.               | Popular tourist destination            |\n",
    "| 10  | 慎重             | しんちょう     | shinchō     | careful/cautious/prudent                | na-adjective   | 慎重に判断してください。    | Please make your judgment carefully.       | Shinchō ni handan shite kudasai.    | Important in decision-making           |\n",
    "| 11  | 義務             | ぎむ           | gimu        | obligation/duty                         | noun           | これは私の義務です。        | This is my obligation.                     | Kore wa watashi no gimu desu.       | Relevant in legal and ethical contexts |\n",
    "| 12  | 義務教育         | ぎむきょういく | gimu kyōiku | compulsory education                    | noun           | 義務教育は大切です。        | Compulsory education is important.         | Gimu kyōiku wa taisetsu desu.       | Focus on education policy              |\n",
    "| 13  | 配慮             | はいりょ       | hairyo      | consideration/care                      | noun/verb      | 配慮が必要です。            | Consideration is necessary.                | Hairyo ga hitsuyō desu.             | Used in discussions about empathy      |\n",
    "| 14  | 語る             | かたる         | kataru      | to talk/to tell/to narrate              | verb           | 彼は歴史を語ります。        | He narrates history.                       | Kare wa rekishi o katarimasu.       | Common in storytelling                 |\n",
    "| 15  | 鉱工業           | こうこうぎょう | kōkōgyō     | mining and manufacturing industry       | noun           | 鉱工業は重要です。          | The mining industry is important.          | Kōkōgyō wa jūyō desu.               | Relevant in economic discussions       |\n",
    "| 16  | 原則             | げんそく       | gensoku     | principle                               | noun           | 原則を守るべきです。        | You should follow the principles.          | Gensoku o mamoru beki desu.         | Important in ethics and law            |\n",
    "| 17  | 免除             | めんじょ       | menjo       | exemption/to exempt                     | noun/verb      | 免除されました。            | I was exempted.                            | Menjo saremashita.                  | Common in legal contexts               |\n",
    "| 18  | 震災             | しんさい       | shinsai     | earthquake disaster                     | noun           | 震災の影響を受けました。    | I was affected by the earthquake disaster. | Shinsai no eikyō o ukemashita.      | Relevant in disaster discussions       |\n",
    "| 19  | 援助             | えんじょ       | enjo        | aid/help/to aid/to help                 | noun/verb      | 援助が必要です。            | Aid is necessary.                          | Enjo ga hitsuyō desu.               | Common in humanitarian contexts        |\n",
    "| 20  | 救助             | きゅうじょ     | kyūjo       | rescue/to rescue                        | noun/verb      | 救助が行われました。        | The rescue was conducted.                  | Kyūjo ga okonawaremashita.          | Relevant in emergency contexts         |\n",
    "| 21  | 正義             | せいぎ         | seigi       | justice                                 | noun           | 正義が勝ちました。          | Justice prevailed.                         | Seigi ga kachimashita.              | Important in moral discussions         |\n",
    "| 22  | 罪               | つみ           | tsumi       | crime/guilt/sin                         | noun           | 罪を償います。              | I will atone for my sins.                  | Tsumi o tsugunai masu.              | Common in legal contexts               |\n",
    "| 23  | 王様             | おうさま       | ōsama       | king                                    | noun           | 王様が統治しています。      | The king is ruling.                        | Ōsama ga tōchi shiteimasu.          | Common in discussions of royalty       |\n",
    "| 24  | 兵士             | へいし         | heishi      | soldier                                 | noun           | 兵士が戦っています。        | The soldier is fighting.                   | Heishi ga tatakatteimasu.           | Relevant in military contexts          |\n",
    "| 25  | 農民             | のうみん       | nōmin       | farmer/peasant                          | noun           | 農民が作物を育てています。  | The farmer is growing crops.               | Nōmin ga sakumotsu o sodateimasu.   | Important in agricultural discussions  |\n",
    "\n",
    "If you need more, just let me know!\n"
   ]
  },
  {
   "cell_type": "markdown",
   "metadata": {},
   "source": [
    "Here's the formatted table for your latest vocabulary:\n",
    "\n",
    "| No. | Japanese (Kanji) | Hiragana     | Romaji      | English Translation                      | Part of Speech | Example Sentence (Japanese)    | Example Sentence (English)                  | Example Sentence (Romaji)                  | Notes                                  |\n",
    "| --- | ---------------- | ------------ | ----------- | ---------------------------------------- | -------------- | ------------------------------ | ------------------------------------------- | ------------------------------------------ | -------------------------------------- |\n",
    "| 26  | 奪う             | うばう       | ubau        | to rob/to snatch/to take away            | verb           | 彼は財布を奪いました。         | He robbed the wallet.                       | Kare wa saifu o ubai mashita.              | Used in contexts of theft              |\n",
    "| 27  | 独立             | どくりつ     | dokuritsu   | independence/to be independent           | noun/verb      | 彼は独立を宣言しました。       | He declared independence.                   | Kare wa dokuritsu o sengen shimashita.     | Common in political discussions        |\n",
    "| 28  | 繰り返す         | くりかえす   | kurikaesu   | to repeat                                | verb           | 彼は同じことを繰り返しました。 | He repeated the same thing.                 | Kare wa onaji koto o kurikaeshimashita.    | Often used in learning contexts        |\n",
    "| 29  | 改良             | かいりょう   | kairyō      | improvement/to improve                   | noun/verb      | 製品の改良が必要です。         | Improvement of the product is necessary.    | Seihin no kairyō ga hitsuyō desu.          | Relevant in development discussions    |\n",
    "| 30  | マネジメント     | マネジメント | manejimento | management                               | noun           | マネジメントが重要です。       | Management is important.                    | Manejimento ga jūyō desu.                  | Common in business contexts            |\n",
    "| 31  | 墓参り           | はかまいり   | hakamairi   | visiting one's grave                     | noun/verb      | 墓参りに行きます。             | I will go to visit the grave.               | Hakamairi ni ikimasu.                      | Important in cultural practices        |\n",
    "| 32  | 昼夜             | ちゅうや     | chūya       | day and night                            | noun           | 昼夜を問わず働きます。         | I work day and night.                       | Chūya o towazu hatarakimasu.               | Common in work contexts                |\n",
    "| 33  | 深夜             | しんや       | shinya      | very late at night                       | noun           | 深夜まで起きています。         | I’m awake until late at night.              | Shinya made oki teimasu.                   | Relevant in discussions about sleep    |\n",
    "| 34  | 有無             | うむ         | umu         | existence or non-existence               | noun           | 有無を問わず参加できます。     | You can participate regardless of presence. | Umu o towazu sanka dekimasu.               | Important in formal contexts           |\n",
    "| 35  | 性別             | せいべつ     | seibetsu    | sex/gender                               | noun           | 性別に関係なく平等です。       | It is equal regardless of gender.           | Seibetsu ni kankei naku byōdō desu.        | Relevant in discussions about equality |\n",
    "| 36  | 国籍             | こくせき     | kokuseki    | nationality/citizenship                  | noun           | 国籍を証明する必要があります。 | You need to prove your nationality.         | Kokuseki o shōmei suru hitsuyō ga arimasu. | Common in legal contexts               |\n",
    "| 37  | 原子核           | げんしかく   | genshikaku  | atomic nucleus                           | noun           | 原子核の研究が進んでいます。   | Research on atomic nuclei is advancing.     | Genshikaku no kenkyū ga susundeimasu.      | Important in scientific discussions    |\n",
    "| 38  | 対策             | たいさく     | taisaku     | measure/countermeasure                   | noun           | 対策を講じる必要があります。   | Measures need to be taken.                  | Taisaku o kōjiru hitsuyō ga arimasu.       | Common in policy discussions           |\n",
    "| 39  | 強化             | きょうか     | kyōka       | reinforcement/to reinforce/to strengthen | noun/verb      | チームの強化が必要です。       | Reinforcement of the team is necessary.     | Chīmu no kyōka ga hitsuyō desu.            | Relevant in training contexts          |\n",
    "| 40  | サンプル         | サンプル     | sanpuru     | sample                                   | noun           | サンプルを送ってください。     | Please send the samples.                    | Sanpuru o okutte kudasai.                  | Common in research and testing         |\n",
    "| 41  | 次第             | しだい       | shidai      | order/state of things/depend on          | noun/suffix    | お知らせ次第お伝えします。     | I will inform you as soon as I know.        | Oshirase shidai otsutae shimasu.           | Common in formal communications        |\n",
    "| 42  | 実施             | じっし       | jisshi      | implementation/enforcement               | noun/verb      | 新しい政策が実施されます。     | The new policy will be implemented.         | Atarashii seisaku ga jisshi saremasu.      | Important in administrative contexts   |\n",
    "| 43  | 掲示板           | けいじばん   | keijiban    | bulletin board/notice board              | noun           | 掲示板に情報があります。       | There is information on the bulletin board. | Keijiban ni jōhō ga arimasu.               | Common in public spaces                |\n",
    "| 44  | 詳しい           | くわしい     | kuwashii    | detailed/knowing something well          | na-adjective   | 詳しい説明が必要です。         | Detailed explanations are necessary.        | Kuwashii setsumei ga hitsuyō desu.         | Important in teaching contexts         |\n",
    "| 45  | 宿泊             | しゅくはく   | shukuhaku   | lodging/to stay/to lodge                 | noun/verb      | 宿泊の予約をしました。         | I made a reservation for lodging.           | Shukuhaku no yoyaku o shimashita.          | Common in travel contexts              |\n",
    "| 46  | デート           | デート       | dēto        | date (romantic outing)/to go on a date   | noun/verb      | 彼女とデートに行きます。       | I will go on a date with her.               | Kanojo to dēto ni ikimasu.                 | Common in social contexts              |\n",
    "| 47  | 平凡             | へいぼん     | heibon      | mediocre/ordinary/common                 | na-adjective   | 平凡な生活が好きです。         | I like an ordinary life.                    | Heibon na seikatsu ga suki desu.           | Often used in lifestyle discussions    |\n",
    "| 48  | トップ           | トップ       | toppu       | top/lead/head                            | noun           | トップに立つことが重要です。   | It's important to be at the top.            | Toppu ni tatsu koto ga jūyō desu.          | Common in business contexts            |\n",
    "| 49  | カーブ           | カーブ       | kābu        | curve/bend/to curve                      | noun/verb      | カーブに注意してください。     | Please be careful of the curve.             | Kābu ni chūi shite kudasai.                | Common in driving contexts             |\n",
    "| 50  | 職場             | しょくば     | shokuba     | workplace/office                         | noun           | 職場での協力が必要です。       | Cooperation in the workplace is necessary.  | Shokuba de no kyōryoku ga hitsuyō desu.    | Relevant in professional discussions   |\n",
    "\n",
    "Let me know if you need more!\n"
   ]
  },
  {
   "cell_type": "markdown",
   "metadata": {},
   "source": [
    "Here’s the formatted table for the vocabulary you've provided:\n",
    "\n",
    "| No. | Japanese (Kanji) | Hiragana         | Romaji        | English Translation                        | Part of Speech | Example Sentence (Japanese)        | Example Sentence (English)           | Example Sentence (Romaji)               | Notes                                      |\n",
    "| --- | ---------------- | ---------------- | ------------- | ------------------------------------------ | -------------- | ---------------------------------- | ------------------------------------ | --------------------------------------- | ------------------------------------------ |\n",
    "| 51  | 溶け込む         | とけこむ         | toke komu     | to blend in/to blend with/to dissolve into | vi             | 彼はそのグループに溶け込んだ。     | He blended into the group.           | Kare wa sono gurūpu ni toke konda.      | Used in social contexts.                   |\n",
    "| 52  | 書き取り         | かきとり         | kaki tori     | dictation/spelling out                     | n              | 授業で書き取りをしました。         | We did dictation in class.           | Jugyō de kaki tori o shimashita.        | Common in language learning.               |\n",
    "| 53  | ずらりと         | ずらりと         | zurari to     | in a (long) row or line                    | adv            | 本がずらりと並んでいる。           | The books are lined up in a row.     | Hon ga zurari to narande iru.           | Describes arrangement or display.          |\n",
    "| 54  | さっさと         | さっさと         | sassa to      | quickly/in a hurry                         | adv            | さっさと仕事を終わらせてください。 | Please finish the work quickly.      | Sassato shigoto o owarasete kudasai.    | Implies urgency.                           |\n",
    "| 55  | 乱れる           | みだれる         | midareru      | to fall into disorder/to be chaotic        | vi             | 部屋が乱れている。                 | The room is in disorder.             | Heya ga midarete iru.                   | Often used for physical or mental states.  |\n",
    "| 56  | 占う             | うらなう         | uranau        | to tell somebody's fortune/to forecast     | vt             | 彼女は未来を占った。               | She told fortunes about the future.  | Kanojo wa mirai o uranatta.             | Related to fortune-telling.                |\n",
    "| 57  | 恐れる           | おそれる         | osoreru       | to fear/to be afraid of                    | vi             | 私は高いところが恐い。             | I fear heights.                      | Watashi wa takai tokoro ga kowai.       | Common expression of fear.                 |\n",
    "| 58  | ゆるい           | ゆるい           | yurui         | loose/slack/lax/slow/gentle                | i-adj          | そのベルトはゆるい。               | That belt is loose.                  | Sono beruto wa yurui.                   | Describes fit or tension.                  |\n",
    "| 59  | しつこい         | しつこい         | shitsukoi     | insistent/pestering                        | i-adj          | 彼はしつこく聞いてくる。           | He keeps asking insistently.         | Kare wa shitsukoku kiite kuru.          | Often negative connotation.                |\n",
    "| 60  | 温暖             | おんだん         | ondann        | warmth/warm                                | n/na-adj       | 温暖な気候です。                   | It’s a warm climate.                 | Ondan na kikō desu.                     | Often used in weather discussions.         |\n",
    "| 61  | 受賞             | じゅしょう       | jushō         | being awarded/to win a prize               | n/vt           | 彼は賞を受賞した。                 | He won an award.                     | Kare wa shō o jushō shita.              | Related to recognition and accolades.      |\n",
    "| 62  | 受験生           | じゅけんせい     | jukensei      | examinee/test taker                        | n              | 受験生は頑張って勉強しています。   | The examinees are studying hard.     | Jukensei wa ganbatte benkyō shiteimasu. | Refers to students taking exams.           |\n",
    "| 63  | 事業活動         | じぎょうかつどう | jigyō katsudō | business operations/business activities    | n              | 事業活動を進める。                 | We will promote business activities. | Jigyō katsudō o susumeru.               | Involves corporate or organizational work. |\n",
    "| 64  | 運行             | うんこう         | unkou         | service/to be in operation                 | n/vi           | バスの運行は遅れています。         | The bus service is delayed.          | Basu no unkou wa okureteimasu.          | Common in transport contexts.              |\n",
    "| 65  | 送迎             | そうげい         | sōgei         | to see off and pick up someone             | n/vt           | 彼を送迎する。                     | I will see him off.                  | Kare o sōgei suru.                      | Involves transportation.                   |\n",
    "| 66  | 坂道             | さかみち         | sakamichi     | slope/hill                                 | n              | 坂道を上るのは大変だ。             | Climbing the slope is tough.         | Sakamichi o noboru no wa taihen da.     | Often describes physical geography.        |\n",
    "| 67  | 木製             | もくせい         | mokusei       | made of wood                               | n              | その椅子は木製です。               | That chair is made of wood.          | Sono isu wa mokusei desu.               | Used in descriptions of materials.         |\n",
    "| 68  | 紙製             | かみせい         | kamisei       | made of paper                              | n              | この箱は紙製です。                 | This box is made of paper.           | Kono hako wa kamisei desu.              | Often used for packaging.                  |\n",
    "| 69  | ビタミン         | ビタミン         | bitamin       | vitamin                                    | n              | ビタミンは体に良い。               | Vitamins are good for the body.      | Bitamin wa karada ni yoi.               | Common in health discussions.              |\n",
    "| 70  | カロリー         | カロリー         | karorī        | calorie                                    | n              | この食事はカロリーが高い。         | This meal is high in calories.       | Kono shokuji wa karorī ga takai.        | Important in nutrition contexts.           |\n",
    "| 71  | 忠誠             | ちゅうせい       | chūsei        | loyalty                                    | n              | 忠誠を誓います。                   | I swear loyalty.                     | Chūsei o chikaimasu.                    | Often used in formal contexts.             |\n",
    "| 72  | 誓う             | ちかう           | chikau        | to swear/to take an oath                   | vt             | 彼は誓った。                       | He swore an oath.                    | Kare wa chikatta.                       | Common in legal or serious contexts.       |\n",
    "| 73  | 掲載             | けいさい         | keisai        | to publish/to print/to carry (the news)    | n/vt           | その記事が掲載された。             | That article was published.          | Sono kiji ga keisai sareta.             | Used in journalism and publishing.         |\n",
    "| 74  | ランキング       | ランキング       | rankingu      | ranking                                    | n              | 彼女はランキングの一位だ。         | She is ranked first.                 | Kanojo wa rankingu no ichii da.         | Common in competitive contexts.            |\n",
    "\n",
    "Feel free to ask if you need any further assistance!\n"
   ]
  },
  {
   "cell_type": "markdown",
   "metadata": {},
   "source": [
    "---"
   ]
  },
  {
   "cell_type": "markdown",
   "metadata": {},
   "source": [
    "# Conversation"
   ]
  },
  {
   "cell_type": "markdown",
   "metadata": {},
   "source": [
    "ワン:お 疲 れ 様 です。\n",
    "\n",
    "吉田:お 疲 れ 様 です。 どうですか。 仕事に慣れましたか。\n",
    "\n",
    "ワン:はい、 先 輩 方 のご指導のもとで 実 際 の 業 務 もやり 始 めました。\n",
    "    この仕事にも 少 しずつ慣れてきました。\n",
    "\n",
    "吉田:それはいいですね。 来 年 から、うちの 会 社 はアジアを 中 心 に\n",
    "    事 業 を 展 開 する予定なので、みんなはワンさんみたいな 外 国 人 の\n",
    "    新 入 社 員 に期待していますよ。\n",
    "\n",
    "ワン: 早 くお 役 に立てるように頑張ります。 この 職 場 では 中 国 語 と\n",
    "    英語を生かすことができるので、 本 当 にやりがいがあります。\n",
    "\n",
    "吉田:頑張ってくださいね。 では、 私 は仕事に 戻 りますね。\n",
    "\n",
    "ワン:ああ、吉田さん、すみません。 こちらは 社 員 旅 行 の\n",
    "    お知らせですよね。 「 社 員 旅 行 を契機として、他部署との 交 流 を\n",
    "    図 りましょう。」と書いてあります。 いいですね。\n",
    "    私 のような 新 入 社 員 も参加することが出来ますか。\n",
    "\n",
    "吉田:あ、軽 井 沢 に行くっていうお知らせですね。 それなら部署、\n",
    "    入 社 年 数 を問わず 誰 でも参加できますよ。\n",
    "    旅 行 も 楽 しみつつ、ほかの部門の 色 々 な 人 と 交 流 できるので、\n",
    "    ワンさんも参加したほうがいいと 思 いますよ。\n",
    "\n",
    "ワン:そうですね。どこに 申 し込めばいいでしょうか。\n",
    "\n",
    "吉田:5F の人事部です。 後 、ここに「 定 員 になり次第締め切ります」と\n",
    "    書いてあるので、 早 く 申 込 みをしたほうがいいですよ。\n",
    "\n",
    "ワン: 本 当 ですね。 今日 申 込 書 を人事部に出しに行きます。\n",
    "\n",
    "吉田:参加費も 申 込 書 と 一 緒 に 受 付 に出してくださいね。\n",
    "\n",
    "ワン:わかりました。 ありがとうございます。"
   ]
  },
  {
   "cell_type": "markdown",
   "metadata": {},
   "source": [
    "Here's the formatted table based on the conversation you provided, with no kanji in the Hiragana column:\n",
    "\n",
    "| Speaker | Japanese (Hiragana)                                                                                                                                                                    | Japanese (Kanji)                                                                                                                             | English Translation                                                                                                                                                       | Romaji                                                                                                                                                                                 | Notes                                                        |\n",
    "| ------- | -------------------------------------------------------------------------------------------------------------------------------------------------------------------------------------- | -------------------------------------------------------------------------------------------------------------------------------------------- | ------------------------------------------------------------------------------------------------------------------------------------------------------------------------- | -------------------------------------------------------------------------------------------------------------------------------------------------------------------------------------- | ------------------------------------------------------------ |\n",
    "| ワン    | おつかれさまです。                                                                                                                                                                     | お疲れ様です。                                                                                                                               | Thank you for your hard work.                                                                                                                                             | Otsukaresama desu.                                                                                                                                                                     | A common greeting to acknowledge someone's effort.           |\n",
    "| 吉田    | おつかれさまです。どうですか。しごとに慣れましたか。                                                                                                                                   | お疲れ様です。どうですか。仕事に慣れましたか。                                                                                               | Thank you for your hard work. How are you? Have you gotten used to the job?                                                                                               | Otsukaresama desu. Dou desu ka. Shigoto ni naremashita ka.                                                                                                                             | A friendly check-in about the work situation.                |\n",
    "| ワン    | はい、せんぱいがたのごしどうのもとでじっさいのぎょうむもやりはじめました。このしごとにもすこしずつなれてきました。                                                                     | はい、先輩方のご指導のもとで実際の業務もやり始めました。この仕事にも少しずつ慣れてきました。                                                 | Yes, under the guidance of my seniors, I've started doing actual work. I'm gradually getting used to this job.                                                            | Hai, senpai-gata no go-shidou no moto de jissai no gyoumu mo yari hajimemashita. Kono shigoto ni mo sukoshi zutsu narete kimashita.                                                    | _先輩_ (senpai) refers to a senior or mentor in a workplace. |\n",
    "| 吉田    | それはいいですね。らいねんから、うちのかいしゃはアジアをちゅうしんにじぎょうをてんかいするよていなので、みんなはワンさんみたいながいこくじんのしんにゅうしゃいんにきたいしていますよ。 | それはいいですね。来年から、うちの会社はアジアを中心に事業を展開する予定なので、みんなはワンさんみたいな外国人の新入社員に期待していますよ。 | That’s great! Starting next year, our company plans to expand its business focusing on Asia, so everyone is looking forward to new employees like you.                    | Sore wa ii desu ne. Rainen kara, uchi no kaisha wa Ajia wo chuushin ni jigyou wo tenkai suru yotei nano de, minna wa Wan-san mitaina gaikokujin no shinnyuusha ni kitai shiteimasu yo. | _期待_ (kitai) means \"expectation.\"                          |\n",
    "| ワン    | はやくおやくにたてるようにがんばります。このしょくばではちゅうごくごとえいごをいかすことができるので、ほんとうにやりがいがあります。                                                   | 早くお役に立てるように頑張ります。この職場では中国語と英語を生かすことができるので、本当にやりがいがあります。                               | I will do my best to be of help soon. In this workplace, I can utilize both Chinese and English, so it’s truly rewarding.                                                 | Hayaku oyaku ni tateru you ni ganbarimasu. Kono shokuba de wa Chūgokugo to Eigo wo ikasu koto ga dekiru no de, hontou ni yarigai ga arimasu.                                           | _やりがい_ (yarigai) means \"worth doing.\"                    |\n",
    "| 吉田    | がんばってくださいね。では、わたしはしごとにもどりますね。                                                                                                                             | 頑張ってくださいね。では、私は仕事に戻りますね。                                                                                             | Please do your best. Now, I will return to work.                                                                                                                          | Ganbatte kudasai ne. Dewa, watashi wa shigoto ni modorimasu ne.                                                                                                                        | Encouraging someone to do their best before leaving.         |\n",
    "| ワン    | ああ、吉田さん、すみません。こちらはしゃいりょこうのおしらせですよね。「しゃいりょこうをけいきとして、たぶしょとのこうりゅうをはかりましょう。」とかいてあります。いいですね。         | ああ、吉田さん、すみません。こちらは社員旅行のお知らせですよね。「社員旅行を契機として、他部署との交流を図りましょう。」と書いてあります。   | Ah, Yoshida-san, excuse me. This is the notice about the company trip, right? It says, \"Let’s use the company trip as an opportunity to interact with other departments.\" | Aa, Yoshida-san, sumimasen. Kochira wa shain ryokou no oshirase desu yo ne. \"Shain ryokou wo keiki to shite, tabusho to no kouryu wo hakarimashou.\" to kaite arimasu.                  | _交流_ (kouryu) means \"interaction.\"                         |\n",
    "| 吉田    | あ、軽井沢にいくっていうおしらせですね。それならぶしょ、にゅうしゃねんすうをとわずだれでもさんかできますよ。                                                                           | あ、軽井沢に行くっていうお知らせですね。それなら部署、入社年数を問わず誰でも参加できますよ。                                                 | Oh, that's the notice about going to Karuizawa, right? In that case, anyone can participate regardless of department or years since joining.                              | A, Karuizawa ni iku tte iu oshirase desu ne. Sore nara busho, nyuusha nensuu wo towazu daredemo sanka dekimasu yo.                                                                     | _軽井沢_ (Karuizawa) is a famous resort area in Japan.       |\n",
    "| ワン    | そうですね。どこにもうしこめばいいでしょうか。                                                                                                                                         | そうですね。どこに申し込めばいいでしょうか。                                                                                                 | Yes, where should I apply?                                                                                                                                                | Sou desu ne. Doko ni moushikomeba ii deshou ka.                                                                                                                                        | Asking for application information.                          |\n",
    "| 吉田    | 5F のじんじぶです。あと、ここに「ていいんになりしだいしめきります」とかいてあるので、はやくもうしこみをしたほうがいいですよ。                                                          | 5F の人事部です。後、ここに「定員になり次第締め切ります」と書いてあるので、早く申し込みをしたほうがいいですよ。                              | It’s the HR department on the 5th floor. Also, it says here, \"We will close applications once we reach capacity,\" so you should apply as soon as possible.                | 5F no jinjibu desu. Ato, koko ni \"teiin ni nari shidai shimekirimasu\" to kaite aru no de, hayaku moushikomi wo shita hou ga ii desu yo.                                                | _定員_ (teiin) means \"capacity.\"                             |\n",
    "| ワン    | ほんとうですね。きょうもうしこみしょをじんじぶにだしにいきます。                                                                                                                       | 本当ですね。今日申し込み書を人事部に出しに行きます。                                                                                         | That’s true. I’ll go submit my application form to the HR department today.                                                                                               | Hontou desu ne. Kyou moushikomi-sho wo jinjibu ni dashi ni ikimasu.                                                                                                                    | _申し込み書_ (moushikomi-sho) means \"application form.\"      |\n",
    "| 吉田    | さんかひももうしこみしょといっしょにうけつけにだしてくださいね。                                                                                                                       | 参加費も申し込み書と一緒に受付に出してくださいね。                                                                                           | Please submit the participation fee along with the application form at the reception.                                                                                     | Sanka hi mo moushikomi-sho to issho ni uketsuke ni dashite kudasai ne.                                                                                                                 | _参加費_ (sankahi) means \"participation fee.\"                |\n",
    "| ワン    | わかりました。ありがとうございます。                                                                                                                                                   | わかりました。ありがとうございます。                                                                                                         | Understood. Thank you very much.                                                                                                                                          | Wakarimashita. Arigatou gozaimasu.                                                                                                                                                     | Acknowledgment and gratitude.                                |\n",
    "\n",
    "If you need any adjustments or more information, just let me know!\n"
   ]
  },
  {
   "cell_type": "markdown",
   "metadata": {},
   "source": [
    "---"
   ]
  },
  {
   "cell_type": "markdown",
   "metadata": {},
   "source": [
    "# Grammar 1\n"
   ]
  },
  {
   "cell_type": "markdown",
   "metadata": {},
   "source": []
  },
  {
   "cell_type": "markdown",
   "metadata": {},
   "source": []
  },
  {
   "cell_type": "markdown",
   "metadata": {},
   "source": []
  },
  {
   "cell_type": "markdown",
   "metadata": {},
   "source": [
    "---\n",
    "---"
   ]
  },
  {
   "cell_type": "markdown",
   "metadata": {},
   "source": [
    "# Grammar 2\n"
   ]
  },
  {
   "cell_type": "markdown",
   "metadata": {},
   "source": []
  },
  {
   "cell_type": "markdown",
   "metadata": {},
   "source": []
  },
  {
   "cell_type": "markdown",
   "metadata": {},
   "source": []
  },
  {
   "cell_type": "markdown",
   "metadata": {},
   "source": [
    "---\n",
    "---"
   ]
  },
  {
   "cell_type": "markdown",
   "metadata": {},
   "source": [
    "# Grammar 3\n"
   ]
  },
  {
   "cell_type": "markdown",
   "metadata": {},
   "source": []
  },
  {
   "cell_type": "markdown",
   "metadata": {},
   "source": []
  },
  {
   "cell_type": "markdown",
   "metadata": {},
   "source": []
  },
  {
   "cell_type": "markdown",
   "metadata": {},
   "source": [
    "---\n",
    "---"
   ]
  },
  {
   "cell_type": "markdown",
   "metadata": {},
   "source": [
    "# Grammar 4\n"
   ]
  },
  {
   "cell_type": "markdown",
   "metadata": {},
   "source": []
  },
  {
   "cell_type": "markdown",
   "metadata": {},
   "source": []
  },
  {
   "cell_type": "markdown",
   "metadata": {},
   "source": []
  },
  {
   "cell_type": "markdown",
   "metadata": {},
   "source": [
    "---\n",
    "---"
   ]
  },
  {
   "cell_type": "markdown",
   "metadata": {},
   "source": [
    "# Grammar 5\n"
   ]
  },
  {
   "cell_type": "markdown",
   "metadata": {},
   "source": []
  },
  {
   "cell_type": "markdown",
   "metadata": {},
   "source": []
  },
  {
   "cell_type": "markdown",
   "metadata": {},
   "source": []
  },
  {
   "cell_type": "markdown",
   "metadata": {},
   "source": [
    "---\n",
    "---"
   ]
  },
  {
   "cell_type": "markdown",
   "metadata": {},
   "source": [
    "# Grammar 6\n"
   ]
  },
  {
   "cell_type": "markdown",
   "metadata": {},
   "source": []
  },
  {
   "cell_type": "markdown",
   "metadata": {},
   "source": []
  },
  {
   "cell_type": "markdown",
   "metadata": {},
   "source": []
  },
  {
   "cell_type": "markdown",
   "metadata": {},
   "source": [
    "---\n",
    "---"
   ]
  },
  {
   "cell_type": "markdown",
   "metadata": {},
   "source": [
    "# Grammar 7\n"
   ]
  },
  {
   "cell_type": "markdown",
   "metadata": {},
   "source": []
  },
  {
   "cell_type": "markdown",
   "metadata": {},
   "source": []
  },
  {
   "cell_type": "markdown",
   "metadata": {},
   "source": []
  },
  {
   "cell_type": "markdown",
   "metadata": {},
   "source": [
    "---\n",
    "---"
   ]
  },
  {
   "cell_type": "markdown",
   "metadata": {},
   "source": [
    "# Grammar 8\n"
   ]
  },
  {
   "cell_type": "markdown",
   "metadata": {},
   "source": []
  },
  {
   "cell_type": "markdown",
   "metadata": {},
   "source": []
  },
  {
   "cell_type": "markdown",
   "metadata": {},
   "source": []
  },
  {
   "cell_type": "markdown",
   "metadata": {},
   "source": [
    "---\n",
    "---"
   ]
  },
  {
   "cell_type": "markdown",
   "metadata": {},
   "source": [
    "# Grammar 9\n"
   ]
  },
  {
   "cell_type": "markdown",
   "metadata": {},
   "source": []
  },
  {
   "cell_type": "markdown",
   "metadata": {},
   "source": []
  },
  {
   "cell_type": "markdown",
   "metadata": {},
   "source": []
  },
  {
   "cell_type": "markdown",
   "metadata": {},
   "source": [
    "---\n",
    "---"
   ]
  },
  {
   "cell_type": "markdown",
   "metadata": {},
   "source": [
    "# Grammar 10\n"
   ]
  },
  {
   "cell_type": "markdown",
   "metadata": {},
   "source": []
  },
  {
   "cell_type": "markdown",
   "metadata": {},
   "source": []
  },
  {
   "cell_type": "markdown",
   "metadata": {},
   "source": []
  },
  {
   "cell_type": "markdown",
   "metadata": {},
   "source": [
    "---\n",
    "---"
   ]
  },
  {
   "cell_type": "markdown",
   "metadata": {},
   "source": [
    "# Grammar 11\n"
   ]
  },
  {
   "cell_type": "markdown",
   "metadata": {},
   "source": []
  },
  {
   "cell_type": "markdown",
   "metadata": {},
   "source": []
  },
  {
   "cell_type": "markdown",
   "metadata": {},
   "source": []
  },
  {
   "cell_type": "markdown",
   "metadata": {},
   "source": [
    "---\n",
    "---"
   ]
  },
  {
   "cell_type": "markdown",
   "metadata": {},
   "source": [
    "# Grammar 12\n"
   ]
  },
  {
   "cell_type": "markdown",
   "metadata": {},
   "source": []
  },
  {
   "cell_type": "markdown",
   "metadata": {},
   "source": []
  },
  {
   "cell_type": "markdown",
   "metadata": {},
   "source": []
  },
  {
   "cell_type": "markdown",
   "metadata": {},
   "source": [
    "---\n",
    "---"
   ]
  }
 ],
 "metadata": {
  "language_info": {
   "name": "python"
  }
 },
 "nbformat": 4,
 "nbformat_minor": 2
}
