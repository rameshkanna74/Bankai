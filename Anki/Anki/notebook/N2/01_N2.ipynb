{
 "cells": [
  {
   "cell_type": "markdown",
   "metadata": {},
   "source": [
    "# N2\n",
    "\n",
    "### 第 01 課 - 就職してすぐに、九州に引越しをせざるを得ない状況になっちゃって。\n",
    "\n",
    "### Lesson 01 - I had no choice but to move to Kyushu soon after I found the job.\n"
   ]
  },
  {
   "cell_type": "markdown",
   "metadata": {},
   "source": [
    "# Vocabulary"
   ]
  },
  {
   "cell_type": "markdown",
   "metadata": {},
   "source": [
    "    1.える 得る vt. to get/to gain/to understand\n",
    "    2.どうそうかい 同窓会 n. class reunion\n",
    "    3.どうきゅうせい 同級生 n. classmate/schoolmate in the same grade\n",
    "    4.しょくぎょう 職業 n. occupation\n",
    "    5.しゅうしょくさき 就職先 n. place of employment\n",
    "    6.しゅうしょくりつ 就職率 n. the rate of employment\n",
    "    7.しゅうしょくなん 就職難 n. difficulty in finding employment\n",
    "    8.みりょく 魅力 n. attraction/charm/appeal\n",
    "    9.かんたん 簡単 な-adj./n. easy/simple/ease\n",
    "    10.ジャーナリスト n. journalist\n",
    "    11.メディア n. media\n",
    "    12.とくしゅう 特集 n./vt. special edition/feature(story, article, TV program,etc. )/to feature\n",
    "    13.みだし 見出し n. headline\n",
    "    14.そうとう 相当 n./vi. worth/equivalent to/quite\n",
    "    15.デビュー n./vi. debut/to debut\n",
    "    16.じょゆう 女優 n. actress\n",
    "    17.はいゆう 俳優 n. actor\n",
    "    18.しゅつえんしゃ 出演者 n. the cast/performer\n",
    "    19.ちょめいじん 著名人 n. celebrity\n",
    "    20.しゅざい 取材 n./vi. news coverage/to collect data or materialsfor broadcast or publication/to interview\n",
    "    21.きしゃ 記者 n. journalist/reporter\n",
    "    22.ぎょうかい 業界 n. the industry/the trade\n",
    "    23.ぎょうせき 業績 n. achievements or results in business or academic research\n",
    "    24.みにつける 身につける vt. to wear/to put on/to acquire\n",
    "    25.じょうきょう 状況 n. situation/circumstances/the state of affairs"
   ]
  },
  {
   "cell_type": "markdown",
   "metadata": {},
   "source": [
    "    26.くらす 暮らす vi./vt. to live/to make oneʼs living\n",
    "    27.ひんしつ 品質 n. quality\n",
    "    28.うけいれる 受け入れる vt. to accept/to receive\n",
    "    29.くじょう 苦情 n. complaint/grievance\n",
    "    30.クレーム n. complaint/grievance\n",
    "    31.ぜんりょく 全力 n. all one's strength/all one's energy\n",
    "    32.こうざ 講座 n. lecture/course\n",
    "    33.こうし 講師 n. teacher/lecturer/speaker\n",
    "    34.たのもしい 頼もしい い-adj. reliable/promising\n",
    "    35.たよる 頼る vi./vt. to rely/to depend\n",
    "    36.きあい 気合 n. spirit/guts/energy and concentration\n",
    "    37.かいこう 開港 n./vi. opening of a port or an airport/to open a port or an airport\n",
    "    38.へいこう 閉港 n./vi. closing of a port or an airport/to close a port or an airport\n",
    "    39.ほんばん 本番 n. performance/real stage(not rehearsal or practice)\n",
    "    40.さんざん 散々 な-adj./adv. terrible/awful/terribly/severely/mercilessly\n",
    "    41.いかす 生かす vt. to bring to life/to make use of\n",
    "    42.うちゅう 宇宙 n. the universe/space/the cosmos\n",
    "    43.うちゅうせん 宇宙船 n. spacecraft/spaceship\n",
    "    44.おおざっぱ 大雑把 な-adj. rough/crude/sketchy\n",
    "    45.あじさい n. hydrangea\n",
    "    46.とうとう adv. finally/at last\n",
    "    47.しょくりょう 食料 n. food\n",
    "    48.ぼこう 母校 n. one's alma mater\n",
    "    49.けんしょう 健勝 n. good health\n",
    "    50.じせつ 時節 n. the season/the time of the year"
   ]
  },
  {
   "cell_type": "markdown",
   "metadata": {},
   "source": [
    "    51.きじつ 期日 n. due date/fixed date/expiration date\n",
    "    52.しょうがい 生涯 n. life/lifetime\n",
    "    53.けっこう 欠航 n./vi. cancellation of a flight or a sailing\n",
    "    54.しゅっけっせき 出欠席 n. attendance or (and) absence\n",
    "    55.かんじ 幹事 n. organizer of a social gathering\n",
    "    56.じょうじゅん 上旬 n. the beginning (the first ten days) of a month\n",
    "    57.げじゅん 下旬 n. the end (the last ten days) of a month\n",
    "    58.せっきょくてき 積極的 な-adj. proactive/positive/aggressive\n",
    "    59.しょうきょくてき 消極的 な-adj. unmotivated/passive/negative\n",
    "    60.きゅうゆう 旧友 n. old friend\n",
    "    61.くみかわす 酌み交わす vt. to drink together\n",
    "    62.きゅうこう 旧交 n. old friendship\n",
    "    63.たんにん 担任 n./vt. class teacher/to be in charge of a class\n",
    "    64.よそく 予測 n./vt. prediction/estimate/to predict/to estimate/to forecast\n",
    "    65.いし 意思 n. will/volition/determination/one's own mind\n",
    "    66.うっかり adv. carelessly/without thinking/incautiously\n",
    "    67.やぶる 破る vt. to break/to tear/to rip/to violate\n",
    "    68.はかる 測る vt. to measure/to estimate\n",
    "    69.りえき 利益 n. profit\n",
    "    70.アクセサリー n. accessory"
   ]
  },
  {
   "cell_type": "markdown",
   "metadata": {},
   "source": [
    "Here’s the formatted table for all 25 vocabulary items:\n",
    "\n",
    "| No. | Japanese (Kanji) | Hiragana         | Romaji        | English Translation              | Part of Speech | Example Sentence (Japanese)          | Example Sentence (English)                      | Example Sentence (Romaji)                     | Notes                                        |\n",
    "| --- | ---------------- | ---------------- | ------------- | -------------------------------- | -------------- | ------------------------------------ | ----------------------------------------------- | --------------------------------------------- | -------------------------------------------- |\n",
    "| 1   | 得る             | える             | eru           | to get/to gain/to understand     | Verb           | 知識を得ることが大切です。           | It's important to gain knowledge.               | Chishiki o eru koto ga taisetsu desu.         | Commonly used for gaining understanding.     |\n",
    "| 2   | 同窓会           | どうそうかい     | dōsōkai       | class reunion                    | Noun           | 同窓会に行く予定です。               | I plan to attend the reunion.                   | Dōsōkai ni iku yotei desu.                    | Often held years after graduation.           |\n",
    "| 3   | 同級生           | どうきゅうせい   | dōkyūsei      | classmate/schoolmate             | Noun           | 彼は私の同級生です。                 | He is my classmate.                             | Kare wa watashi no dōkyūsei desu.             | Refers to peers in the same grade.           |\n",
    "| 4   | 職業             | しょくぎょう     | shokugyō      | occupation                       | Noun           | 彼女の職業は教師です。               | Her occupation is a teacher.                    | Kanojo no shokugyō wa kyōshi desu.            | Can refer to any job or profession.          |\n",
    "| 5   | 就職先           | しゅうしょくさき | shūshokusaki  | place of employment              | Noun           | 新しい就職先が見つかりました。       | I found a new place of employment.              | Atarashii shūshokusaki ga mitsukarimashita.   | Refers to where one is employed.             |\n",
    "| 6   | 就職率           | しゅうしょくりつ | shūshokuritsu | the rate of employment           | Noun           | 就職率が上昇しています。             | The employment rate is rising.                  | Shūshokuritsu ga jōshō shiteimasu.            | Indicates job market health.                 |\n",
    "| 7   | 就職難           | しゅうしょくなん | shūshokunan   | difficulty in finding employment | Noun           | 就職難が続いています。               | The difficulty in finding employment continues. | Shūshokunan ga tsuzuiteimasu.                 | Reflects economic conditions.                |\n",
    "| 8   | 魅力             | みりょく         | miryoku       | attraction/charm/appeal          | Noun           | 彼の魅力に惹かれました。             | I was attracted by his charm.                   | Kare no miryoku ni hikaremashita.             | Can refer to physical or personality traits. |\n",
    "| 9   | 簡単             | かんたん         | kantan        | easy/simple/ease                 | Adj/Noun       | この問題は簡単です。                 | This problem is easy.                           | Kono mondai wa kantan desu.                   | Commonly used to describe tasks.             |\n",
    "| 10  | ジャーナリスト   | ジャーナリスト   | jānarisuto    | journalist                       | Noun           | 彼は有名なジャーナリストです。       | He is a famous journalist.                      | Kare wa yūmei na jānarisuto desu.             | Works in news media.                         |\n",
    "| 11  | メディア         | メディア         | media         | media                            | Noun           | メディアは重要な役割を果たします。   | Media plays an important role.                  | Media wa jūyō na yakuwari o hatashimasu.      | Refers to all forms of communication.        |\n",
    "| 12  | 特集             | とくしゅう       | tokushū       | special edition/feature          | Noun/Verb      | その特集は面白かったです。           | That feature was interesting.                   | Sono tokushū wa omoshirokatta desu.           | Often seen in magazines or broadcasts.       |\n",
    "| 13  | 見出し           | みだし           | midashi       | headline                         | Noun           | 新聞の見出しを読みました。           | I read the newspaper headline.                  | Shinbun no midashi o yomimashita.             | Key part of articles.                        |\n",
    "| 14  | 相当             | そうとう         | sōtō          | worth/equivalent to/quite        | Noun/Verb      | これは相当な価値があります。         | This has considerable value.                    | Kore wa sōtō na kachi ga arimasu.             | Indicates a comparison or equivalence.       |\n",
    "| 15  | デビュー         | デビュー         | debut         | debut                            | Noun/Verb      | 彼女は新しい映画でデビューしました。 | She made her debut in a new movie.              | Kanojo wa atarashii eiga de debut shimashita. | Often used for performers.                   |\n",
    "| 16  | 女優             | じょゆう         | joyū          | actress                          | Noun           | 彼女は有名な女優です。               | She is a famous actress.                        | Kanojo wa yūmei na joyū desu.                 | Female performers in film and theater.       |\n",
    "| 17  | 俳優             | はいゆう         | haiyū         | actor                            | Noun           | 彼は有名な俳優です。                 | He is a famous actor.                           | Kare wa yūmei na haiyū desu.                  | Male performers in film and theater.         |\n",
    "| 18  | 出演者           | しゅつえんしゃ   | shutsuen-sha  | the cast/performer               | Noun           | 出演者は素晴らしい演技をしました。   | The cast gave a wonderful performance.          | Shutsuen-sha wa subarashiiengi o shimashita.  | Refers to performers in a production.        |\n",
    "| 19  | 著名人           | ちょめいじん     | chomeijin     | celebrity                        | Noun           | 彼は著名人です。                     | He is a celebrity.                              | Kare wa chomeijin desu.                       | Well-known public figures.                   |\n",
    "| 20  | 取材             | しゅざい         | shuzai        | news coverage                    | Noun/Verb      | 彼は取材に行きました。               | He went for news coverage.                      | Kare wa shuzai ni ikimashita.                 | Involves gathering information.              |\n",
    "| 21  | 記者             | きしゃ           | kisha         | journalist/reporter              | Noun           | 彼女は新聞の記者です。               | She is a newspaper reporter.                    | Kanojo wa shinbun no kisha desu.              | Often works for news outlets.                |\n",
    "| 22  | 業界             | ぎょうかい       | gyōkai        | the industry/the trade           | Noun           | この業界は競争が激しいです。         | This industry is highly competitive.            | Kono gyōkai wa kyōsō ga hageshii desu.        | Refers to specific sectors of the economy.   |\n",
    "| 23  | 業績             | ぎょうせき       | gyōseki       | achievements/results             | Noun           | 彼の業績は素晴らしいです。           | His achievements are remarkable.                | Kare no gyōseki wa subarashii desu.           | Reflects success in work or studies.         |\n",
    "| 24  | 身につける       | みにつける       | mi ni tsukeru | to wear/to put on/to acquire     | Verb           | 新しい技術を身につけました。         | I acquired a new skill.                         | Atarashii gijutsu o mi ni tsukemashita.       | Often refers to skills or knowledge.         |\n",
    "| 25  | 状況             | じょうきょう     | jōkyō         | situation/circumstances          | Noun           | 現在の状況は厳しいです。             | The current situation is tough.                 | Genzai no jōkyō wa kibishii desu.             | Describes the state of affairs.              |\n",
    "\n",
    "Feel free to ask if you need anything else!\n"
   ]
  },
  {
   "cell_type": "markdown",
   "metadata": {},
   "source": [
    "Here’s the formatted table for the additional vocabulary items you provided:\n",
    "\n",
    "| No. | Japanese (Kanji) | Hiragana     | Romaji    | English Translation                 | Part of Speech   | Example Sentence (Japanese)        | Example Sentence (English)                     | Example Sentence (Romaji)                   | Notes                                          |\n",
    "| --- | ---------------- | ------------ | --------- | ----------------------------------- | ---------------- | ---------------------------------- | ---------------------------------------------- | ------------------------------------------- | ---------------------------------------------- |\n",
    "| 26  | 暮らす           | くらす       | kurasu    | to live/to make one’s living        | Verb             | 彼は東京で暮らしています。         | He lives in Tokyo.                             | Kare wa Tōkyō de kurashiteimasu.            | Refers to daily life or living conditions.     |\n",
    "| 27  | 品質             | ひんしつ     | hinshitsu | quality                             | Noun             | この商品の品質は高いです。         | The quality of this product is high.           | Kono shōhin no hinshitsu wa takai desu.     | Often used in discussions about products.      |\n",
    "| 28  | 受け入れる       | うけいれる   | ukeireru  | to accept/to receive                | Verb             | 彼は意見を受け入れました。         | He accepted the opinion.                       | Kare wa iken o ukeiremashita.               | Can also refer to accepting new ideas.         |\n",
    "| 29  | 苦情             | くじょう     | kujō      | complaint/grievance                 | Noun             | 彼女は苦情を言いました。           | She made a complaint.                          | Kanojo wa kujō o iimashita.                 | Common in customer service contexts.           |\n",
    "| 30  | クレーム         | クレーム     | kurēmu    | complaint/grievance                 | Noun             | クレームを処理する必要があります。 | We need to handle the complaints.              | Kurēmu o shori suru hitsuyō ga arimasu.     | Borrowed from English, used in business.       |\n",
    "| 31  | 全力             | ぜんりょく   | zenryoku  | all one's strength/all one's energy | Noun             | 彼は全力を尽くしました。           | He did his best.                               | Kare wa zenryoku o tsukushimashita.         | Often used in sports or challenges.            |\n",
    "| 32  | 講座             | こうざ       | kōza      | lecture/course                      | Noun             | 新しい講座を受講します。           | I will take a new course.                      | Atarashii kōza o jukō shimasu.              | Common in educational contexts.                |\n",
    "| 33  | 講師             | こうし       | kōshi     | teacher/lecturer/speaker            | Noun             | 彼は大学の講師です。               | He is a university lecturer.                   | Kare wa daigaku no kōshi desu.              | Refers to someone who teaches.                 |\n",
    "| 34  | 頼もしい         | たのもしい   | tanomoshi | reliable/promising                  | Adjective        | 彼は頼もしい友人です。             | He is a reliable friend.                       | Kare wa tanomoshi yūjin desu.               | Often used to describe dependable people.      |\n",
    "| 35  | 頼る             | たよる       | tayoru    | to rely/to depend                   | Verb             | 彼女に頼っています。               | I rely on her.                                 | Kanojo ni tayotteimasu.                     | Indicates dependency or trust.                 |\n",
    "| 36  | 気合             | きあい       | kiai      | spirit/guts                         | Noun             | 気合を入れて挑戦します。           | I will tackle it with spirit.                  | Kiai o irete chōsen shimasu.                | Often used in sports or competitions.          |\n",
    "| 37  | 開港             | かいこう     | kaikō     | opening of a port or an airport     | Noun/Verb        | 新しい港が開港しました。           | A new port has opened.                         | Atarashii minato ga kaikō shimashita.       | Related to trade and transportation.           |\n",
    "| 38  | 閉港             | へいこう     | heikō     | closing of a port or an airport     | Noun/Verb        | その港は閉港されました。           | That port was closed.                          | Sono minato wa heikō saremashita.           | Impacts shipping and logistics.                |\n",
    "| 39  | 本番             | ほんばん     | honban    | performance/real stage              | Noun             | 本番は明日です。                   | The performance is tomorrow.                   | Honban wa ashita desu.                      | Refers to actual performances, not rehearsals. |\n",
    "| 40  | 散々             | さんざん     | sanzan    | terrible/awful/severely             | Adjective/Adverb | 彼は散々な目に遭いました。         | He had a terrible experience.                  | Kare wa sanzan na me ni aimashita.          | Used to describe negative experiences.         |\n",
    "| 41  | 生かす           | いかす       | ikasu     | to bring to life/to make use of     | Verb             | その経験を生かします。             | I will make use of that experience.            | Sono keiken o ikasu shimasu.                | Refers to utilizing skills or knowledge.       |\n",
    "| 42  | 宇宙             | うちゅう     | uchū      | the universe/space                  | Noun             | 宇宙について学んでいます。         | I am learning about space.                     | Uchū ni tsuite manandeimasu.                | Encompasses everything beyond Earth.           |\n",
    "| 43  | 宇宙船           | うちゅうせん | uchūsen   | spacecraft/spaceship                | Noun             | 宇宙船が地球に戻りました。         | The spaceship returned to Earth.               | Uchūsen ga Chikyū ni modorimashita.         | Refers to vehicles designed for space travel.  |\n",
    "| 44  | 大雑把           | おおざっぱ   | ōzappa    | rough/crude/sketchy                 | Adjective        | 彼の計画は大雑把です。             | His plan is rough.                             | Kare no keikaku wa ōzappa desu.             | Can refer to vague or imprecise details.       |\n",
    "| 45  | あじさい         | あじさい     | ajisai    | hydrangea                           | Noun             | あじさいが咲いています。           | The hydrangeas are blooming.                   | Ajisai ga saiteimasu.                       | Popular ornamental plant in Japan.             |\n",
    "| 46  | 遂とう           | とうとう     | tōtō      | finally/at last                     | Adverb           | 遂とう、彼は目的を達成しました。   | Finally, he achieved his goal.                 | Tōtō, kare wa mokuteki o tassei shimashita. | Often used to indicate relief or conclusion.   |\n",
    "| 47  | 食料             | しょくりょう | shokuryō  | food                                | Noun             | 食料が不足しています。             | There is a shortage of food.                   | Shokuryō ga fusoku shiteimasu.              | Essential for survival and well-being.         |\n",
    "| 48  | 母校             | ぼこう       | bokō      | one's alma mater                    | Noun             | 母校を訪れるのが楽しみです。       | I'm looking forward to visiting my alma mater. | Bokō o otozureru no ga tanoshimi desu.      | Refers to the school one graduated from.       |\n",
    "| 49  | 健勝             | けんしょう   | kenshō    | good health                         | Noun             | 健勝を祈っています。               | I wish you good health.                        | Kenshō o inotteimasu.                       | Often used in well-wishing.                    |\n",
    "| 50  | 時節             | じせつ       | jisetsu   | the season/the time of the year     | Noun             | 時節の変わり目を感じます。         | I feel the change of seasons.                  | Jisetsu no kawarime o kanjimasu.            | Refers to seasonal changes or events.          |\n",
    "\n",
    "If you have more items or need further assistance, just let me know!\n"
   ]
  },
  {
   "cell_type": "markdown",
   "metadata": {},
   "source": [
    "Here’s the formatted table for the additional vocabulary items you provided:\n",
    "\n",
    "| No. | Japanese (Kanji) | Hiragana         | Romaji       | English Translation             | Part of Speech | Example Sentence (Japanese)            | Example Sentence (English)                   | Example Sentence (Romaji)                          | Notes                                        |\n",
    "| --- | ---------------- | ---------------- | ------------ | ------------------------------- | -------------- | -------------------------------------- | -------------------------------------------- | -------------------------------------------------- | -------------------------------------------- |\n",
    "| 51  | 期日             | きじつ           | kijitsu      | due date/fixed date             | Noun           | 期日は来週です。                       | The due date is next week.                   | Kijitsu wa raishū desu.                            | Important in deadlines and scheduling.       |\n",
    "| 52  | 生涯             | しょうがい       | shōgai       | life/lifetime                   | Noun           | 彼の生涯は素晴らしいものでした。       | His lifetime was wonderful.                  | Kare no shōgai wa subarashii mono deshita.         | Refers to a person's entire life.            |\n",
    "| 53  | 欠航             | けっこう         | kekkō        | cancellation of a flight        | Noun/Verb      | 飛行機が欠航しました。                 | The flight was canceled.                     | Hikōki ga kekkō shimashita.                        | Often used in travel contexts.               |\n",
    "| 54  | 出欠席           | しゅっけっせき   | shukkesseki  | attendance or absence           | Noun           | 出欠席の確認が必要です。               | Confirmation of attendance is needed.        | Shukkesseki no kakunin ga hitsuyō desu.            | Related to events and gatherings.            |\n",
    "| 55  | 幹事             | かんじ           | kanji        | organizer of a social gathering | Noun           | 彼女はパーティーの幹事です。           | She is the organizer of the party.           | Kanojo wa pātī no kanji desu.                      | Key role in event planning.                  |\n",
    "| 56  | 上旬             | じょうじゅん     | jōjun        | the beginning of a month        | Noun           | 上旬に旅行します。                     | I will travel in the beginning of the month. | Jōjun ni ryokō shimasu.                            | Refers to the first ten days of a month.     |\n",
    "| 57  | 下旬             | げじゅん         | gejun        | the end of a month              | Noun           | 下旬に会議があります。                 | There is a meeting in the end of the month.  | Gejun ni kaigi ga arimasu.                         | Refers to the last ten days of a month.      |\n",
    "| 58  | 積極的           | せっきょくてき   | sekkyokuteki | proactive/positive              | Adjective      | 彼は積極的な態度を持っています。       | He has a proactive attitude.                 | Kare wa sekkyokuteki na taido o motteimasu.        | Often encouraged in business.                |\n",
    "| 59  | 消極的           | しょうきょくてき | shōkyokuteki | unmotivated/passive             | Adjective      | 彼女は消極的な考え方をしています。     | She has a passive mindset.                   | Kanojo wa shōkyokuteki na kangaekata o shiteimasu. | Often seen as a negative trait.              |\n",
    "| 60  | 旧友             | きゅうゆう       | kyūyū        | old friend                      | Noun           | 彼とは旧友です。                       | He is an old friend of mine.                 | Kare to wa kyūyū desu.                             | Refers to long-term friendships.             |\n",
    "| 61  | 酌み交わす       | くみかわす       | kumikawasu   | to drink together               | Verb           | 彼と酌み交わすのが好きです。           | I enjoy drinking together with him.          | Kare to kumikawasu no ga suki desu.                | Often used in social settings.               |\n",
    "| 62  | 旧交             | きゅうこう       | kyūkō        | old friendship                  | Noun           | 旧交を温めることが大切です。           | It's important to cherish old friendships.   | Kyūkō o atatameru koto ga taisetsu desu.           | Reflects the value of lasting relationships. |\n",
    "| 63  | 担任             | たんにん         | tannin       | class teacher                   | Noun/Verb      | 彼は私の担任の先生です。               | He is my class teacher.                      | Kare wa watashi no tannin no sensei desu.          | Indicates responsibility for a class.        |\n",
    "| 64  | 予測             | よそく           | yosoku       | prediction/estimate             | Noun/Verb      | 天気を予測するのは難しいです。         | Predicting the weather is difficult.         | Tenki o yosoku suru no wa muzukashii desu.         | Used in forecasting contexts.                |\n",
    "| 65  | 意思             | いし             | ishi         | will/volition                   | Noun           | 彼の意思を尊重します。                 | I respect his will.                          | Kare no ishi o sonchō shimasu.                     | Refers to one's determination or intent.     |\n",
    "| 66  | うっかり         | うっかり         | ukkari       | carelessly/without thinking     | Adverb         | うっかり忘れてしまいました。           | I forgot carelessly.                         | Ukkari wasurete shimaimashita.                     | Common in describing mistakes.               |\n",
    "| 67  | 破る             | やぶる           | yaburu       | to break/to tear                | Verb           | 彼は約束を破りました。                 | He broke the promise.                        | Kare wa yakusoku o yaburimashita.                  | Can refer to rules or physical items.        |\n",
    "| 68  | 測る             | はかる           | hakaru       | to measure/to estimate          | Verb           | 温度を測っています。                   | I am measuring the temperature.              | Ondo o hakatteimasu.                               | Commonly used in scientific contexts.        |\n",
    "| 69  | 利益             | りえき           | rieki        | profit                          | Noun           | 会社の利益が増えました。               | The company's profit increased.              | Kaisha no rieki ga fuemashita.                     | Key term in business and finance.            |\n",
    "| 70  | アクセサリー     | アクセサリー     | akusesarī    | accessory                       | Noun           | 彼女は新しいアクセサリーを買いました。 | She bought a new accessory.                  | Kanojo wa atarashii akusesarī o kaimashita.        | Refers to additional items like jewelry.     |\n",
    "\n",
    "If you have more items or need further help, just let me know!\n"
   ]
  },
  {
   "cell_type": "markdown",
   "metadata": {},
   "source": [
    "---"
   ]
  },
  {
   "cell_type": "markdown",
   "metadata": {},
   "source": [
    "# Conversation"
   ]
  },
  {
   "cell_type": "markdown",
   "metadata": {},
   "source": [
    "安 藤 :ジュリちゃん、 久 しぶり!\n",
    "\n",
    "上 原 :ああ、あきちゃん、 久 しぶり! 元気にしてる?\n",
    "\n",
    "安 藤 :元気だよ。 ジュリちゃんも元気そうでよかった。\n",
    "    5 年 前 の 卒 業 式 で会ったきり、ずっと会っていないね。\n",
    "\n",
    "上 原 :そうね。 就 職 してすぐに、 九 州 に引越しをせざるを得ない\n",
    "    状 況 になっちゃって...。 みんなと 簡 単 に会えなくなっちゃったね。\n",
    "\n",
    "安 藤 :そういえば、 先 週 の土曜日の 同 窓 会 もジュリちゃんは来られ なかったよね。\n",
    "\n",
    "上 原 :ああ、 本 当 は参加するつもりだったんだけど、その日の 午 前 中 に\n",
    "    急 に仕事が 入 っちゃって...。 本 当 に 残 念 だったよ。\n",
    "\n",
    "安 藤 :そうなんだ。 でもジュリちゃんは すごいよ。\n",
    "    大 学 を 卒 業 して、ジャーナリストになって...。\n",
    "    ジュリちゃんが書いた 九 州 についての記事をよく見るよ。\n",
    "    同 級 生 の 間 では、ジュリちゃんはすでに 有 名 人 になっているよ。\n",
    "\n",
    "上 原 :いや、いや、そんなにすごくなんかないよ。\n",
    "\n",
    "安 藤 :でも、ジャーナリストの仕事って、 本 当 に 大 変 だろうね。\n",
    "\n",
    "上 原 :まあ、 最 初 のころは 大 変 だったよ。 自分ではうまく書けた\n",
    "    つもりでも、記事が 面 白 くないとか、見出しがだめだとか\n",
    "    さんざん言われた時期もあったし、頑張ってたくさん 最 新 情 報 を\n",
    "    集 めたものの、 使 える 情 報 が 少 なくて、がっかりしたり、\n",
    "    この 業 界 で生きていけるかなと 思 ったりもして...。\n",
    "\n",
    "安 藤 :へえ...\n",
    "\n",
    "上 原 :でも、やっぱり自分が 選 んだ 道 だから、 簡 単 に 諦 めるわけには\n",
    "    いかないし、もうちょっと頑張ろうと 思 ったんだ。\n",
    "    それから、 徐 々 に記事の書き 方 を身につけて、 取 材 の機会も\n",
    "    増えてきて、やっと 今 の仕事が 満 足 にできるようになったんだ。\n",
    "\n",
    "安 藤 :そうなんだ。 ジュリちゃんが 努 力 したことで得られたものがたくさん あったんだね。"
   ]
  },
  {
   "cell_type": "markdown",
   "metadata": {},
   "source": [
    "Got it! Here's the table with no kanji in the Hiragana column:\n",
    "\n",
    "| Speaker | Japanese (Hiragana)                                                                                                                                                                                                                                                       | Japanese (Kanji)                                                                                                                                                                                                                | English Translation                                                                                                                                                                                                                                                                                    | Romaji                                                                                                                                                                                                                                                                                | Notes                                                                       |\n",
    "| ------- | ------------------------------------------------------------------------------------------------------------------------------------------------------------------------------------------------------------------------------------------------------------------------- | ------------------------------------------------------------------------------------------------------------------------------------------------------------------------------------------------------------------------------- | ------------------------------------------------------------------------------------------------------------------------------------------------------------------------------------------------------------------------------------------------------------------------------------------------------ | ------------------------------------------------------------------------------------------------------------------------------------------------------------------------------------------------------------------------------------------------------------------------------------- | --------------------------------------------------------------------------- |\n",
    "| 安藤    | じゅりちゃん、ひさしぶり!                                                                                                                                                                                                                                                 | ジュリちゃん、久しぶり!                                                                                                                                                                                                         | Julie-chan, long time no see!                                                                                                                                                                                                                                                                          | Juri-chan, hisashiburi!                                                                                                                                                                                                                                                               | _久しぶり_ (hisashiburi) means \"long time no see.\"                          |\n",
    "| 上原    | ああ、あきちゃん、ひさしぶり!げんきにしてる?                                                                                                                                                                                                                              | ああ、あきちゃん、久しぶり!元気にしてる?                                                                                                                                                                                        | Ah, Aki-chan, long time no see! How have you been?                                                                                                                                                                                                                                                     | Aa, Aki-chan, hisashiburi! genki ni shiteru?                                                                                                                                                                                                                                          | _元気_ (genki) means \"well\" or \"healthy.\"                                   |\n",
    "| 安藤    | げんきだよ。じゅりちゃんもげんきそうでよかった。                                                                                                                                                                                                                          | 元気だよ。ジュリちゃんも元気そうでよかった。                                                                                                                                                                                    | I'm doing well. I'm glad to see you're doing well too, Julie.                                                                                                                                                                                                                                          | Genki da yo. Juri-chan mo genki sou de yokatta.                                                                                                                                                                                                                                       | _元気そう_ (genki sou) means \"seems well.\"                                  |\n",
    "| 上原    | そうね。しゅうしょくしてすぐに、きゅうしゅうにひっこしをせざるをえないじょうきょうになっちゃって…。                                                                                                                                                                       | そうね。就職してすぐに、九州に引越しをせざるを得ない状況になっちゃって…。                                                                                                                                                       | That's right. I had to move to Kyushu right after starting my job...                                                                                                                                                                                                                                   | Sou ne. Shuushoku shite sugu ni, Kyushu ni hikkoshi wo sezaru wo enai joukyou ni nacchatte...                                                                                                                                                                                         | _引越し_ (hikkoshi) means \"moving (to a new place).\"                        |\n",
    "| 安藤    | そういえば、せんしゅうのどうそうかいもじゅりちゃんはこられなかったよね。                                                                                                                                                                                                  | そういえば、先週の同窓会もジュリちゃんは来られなかったよね。                                                                                                                                                                    | Speaking of which, you couldn't make it to the reunion last Saturday either, could you?                                                                                                                                                                                                                | Sou ieba, senshuu no dousoukai mo Juri-chan wa korarenakatta yo ne.                                                                                                                                                                                                                   | _同窓会_ (dousoukai) means \"reunion.\"                                       |\n",
    "| 上原    | ああ、ほんとうはさんかするつもりだったんだけど、そのひのごぜんちゅうにきゅうにしごとがはいっちゃって…。                                                                                                                                                                   | ああ、本当は参加するつもりだったんだけど、その日の午前中に急に仕事が入っちゃって…。                                                                                                                                             | Ah, I actually planned to attend, but suddenly had work that morning...                                                                                                                                                                                                                                | Aa, hontou wa sanka suru tsumori dattan dakedo, sono hi no gozenchuu ni kyuu ni shigoto ga hairacchatte...                                                                                                                                                                            | _急に_ (kyuu ni) means \"suddenly.\"                                          |\n",
    "| 安藤    | そうなんだ。でもじゅりちゃんはすごいよ。                                                                                                                                                                                                                                  | そうなんだ。でもジュリちゃんはすごいよ。                                                                                                                                                                                        | I see... But you're amazing, Julie.                                                                                                                                                                                                                                                                    | Sou nanda. Demo Juri-chan wa sugoi yo.                                                                                                                                                                                                                                                | _すごい_ (sugoi) means \"amazing\" or \"great.\"                                |\n",
    "| 上原    | いや、いや、そんなにすごくなんかないよ。                                                                                                                                                                                                                                  | いや、いや、そんなにすごくなんかないよ。                                                                                                                                                                                        | No, no, it’s not that amazing.                                                                                                                                                                                                                                                                         | Iya, iya, sonna ni sugo kunai yo.                                                                                                                                                                                                                                                     | A humble response indicating modesty.                                       |\n",
    "| 安藤    | でも、じゃーなりすとのしごとって、ほんとうにたいへんだろうね。                                                                                                                                                                                                            | でも、ジャーナリストの仕事って、本当に大変だろうね。                                                                                                                                                                            | But being a journalist must be really tough, right?                                                                                                                                                                                                                                                    | Demo, jaanarisuto no shigoto tte, hontou ni taihen darou ne.                                                                                                                                                                                                                          | _大変_ (taihen) means \"tough\" or \"hard.\"                                    |\n",
    "| 上原    | まあ、さいしょのころはたいへんだったよ。                                                                                                                                                                                                                                  | まあ、最初のころは大変だったよ。                                                                                                                                                                                                | Well, it was tough in the beginning.                                                                                                                                                                                                                                                                   | Maa, saisho no koro wa taihen datta yo.                                                                                                                                                                                                                                               | _最初_ (saisho) means \"the beginning.\"                                      |\n",
    "| 上原    | じぶんではうまくかけたつもりでも、きじがおもしろくないとか、みだしがだめだとかさんざんいわれたじきもあったし、がんばってたくさんさいしんじょうほうをあつめたものの、つかえるじょうほうがすくなくて、がっかりしたり、このぎょうかいでいきていけるかなとおもったりもして…。 | 自分ではうまく書けたつもりでも、記事が面白くないとか、見出しがだめだとか散々言われた時期もあったし、頑張ってたくさん最新情報を集めたものの、使える情報が少なくて、がっかりしたり、この業界で生きていけるかなと思ったりもして…。 | Even though I thought I was writing well, there were times when I was told my articles weren’t interesting, or the headlines were bad. I worked hard to gather the latest information, but there wasn’t much usable info, which made me disappointed and wonder if I could survive in this industry... | Jibun de wa umaku kaketa tsumori demo, kiji ga omoshi kunai toka, midashi ga dame da toka sanzen iwareta jiki mo atta shi, ganbatte takusan saishin jouhou wo atsume tamono, tsukaeru jouhou ga sukunakute, gakkari shitari, kono gyoukai de ikite ikeru kana to omottari mo shite... | This part shows the struggles and self-doubt experienced in the profession. |\n",
    "| 安藤    | へえ…。                                                                                                                                                                                                                                                                   | へえ…。                                                                                                                                                                                                                         | Wow...                                                                                                                                                                                                                                                                                                 | Hee...                                                                                                                                                                                                                                                                                | An expression of surprise or interest.                                      |\n",
    "| 上原    | でも、やっぱりじぶんがえらんだみちだから、かんたんにあきらめるわけにはいかないし、もうちょっとがんばろうとおもったんだ。                                                                                                                                                  | でも、やっぱり自分が選んだ道だから、簡単に諦めるわけにはいかないし、もうちょっと頑張ろうと思ったんだ。                                                                                                                          | But since it’s the path I chose, I can’t just give up easily; I decided to keep trying a little more.                                                                                                                                                                                                  | Demo, yappari jibun ga eranda michi dakara, kantan ni akireru wake ni wa ikenai shi, mou chotto ganbarou to omottan da.                                                                                                                                                               | _諦める_ (akirameru) means \"to give up.\"                                    |\n",
    "| 上原    | それから、じょじょにきじのかきかたをみにつけて、しゅざいのきかいもふえてきて、やっといまのしごとがまんぞくにできるようになったんだ。                                                                                                                                      | それから、徐々に記事の書き方を身につけて、取材の機会も増えてきて、やっと今の仕事が満足にできるようになったんだ。                                                                                                                | After that, I gradually learned how to write articles, and the opportunities for reporting increased, so I was finally able to do my current job satisfactorily.                                                                                                                                       | Sore kara, jojo ni kiji no kakikata wo mi ni tsukete, shuzai no kikai mo fuete kite, yatto ima no shigoto ga manzoku ni dekiru you ni natta n da.                                                                                                                                     | _満足_ (manzoku) means \"satisfaction\" or \"to be satisfied.\"                 |\n",
    "| 安藤    | そうなんだ。じゅりちゃんがどりょくしたことでえられたものがたくさんあったんだね。                                                                                                                                                                                          | そうなんだ。ジュリちゃんが努力したことで得られたものがたくさんあったんだね。                                                                                                                                                    | I see! You’ve gained a lot from your efforts, Julie.                                                                                                                                                                                                                                                   | Sou nanda. Juri-chan ga doryoku shita koto de erareta mono ga takusan atta n da ne.                                                                                                                                                                                                   | _努力_ (doryoku) means \"effort.\"                                            |\n",
    "\n",
    "If you need any adjustments or more information, just let me know!\n"
   ]
  },
  {
   "cell_type": "markdown",
   "metadata": {},
   "source": [
    "---"
   ]
  },
  {
   "cell_type": "markdown",
   "metadata": {},
   "source": [
    "# Grammar 1\n"
   ]
  },
  {
   "cell_type": "markdown",
   "metadata": {},
   "source": []
  },
  {
   "cell_type": "markdown",
   "metadata": {},
   "source": []
  },
  {
   "cell_type": "markdown",
   "metadata": {},
   "source": []
  },
  {
   "cell_type": "markdown",
   "metadata": {},
   "source": [
    "---\n",
    "---"
   ]
  },
  {
   "cell_type": "markdown",
   "metadata": {},
   "source": [
    "# Grammar 2\n"
   ]
  },
  {
   "cell_type": "markdown",
   "metadata": {},
   "source": []
  },
  {
   "cell_type": "markdown",
   "metadata": {},
   "source": []
  },
  {
   "cell_type": "markdown",
   "metadata": {},
   "source": []
  },
  {
   "cell_type": "markdown",
   "metadata": {},
   "source": [
    "---\n",
    "---"
   ]
  },
  {
   "cell_type": "markdown",
   "metadata": {},
   "source": [
    "# Grammar 3\n"
   ]
  },
  {
   "cell_type": "markdown",
   "metadata": {},
   "source": []
  },
  {
   "cell_type": "markdown",
   "metadata": {},
   "source": []
  },
  {
   "cell_type": "markdown",
   "metadata": {},
   "source": []
  },
  {
   "cell_type": "markdown",
   "metadata": {},
   "source": [
    "---\n",
    "---"
   ]
  },
  {
   "cell_type": "markdown",
   "metadata": {},
   "source": [
    "# Grammar 4\n"
   ]
  },
  {
   "cell_type": "markdown",
   "metadata": {},
   "source": []
  },
  {
   "cell_type": "markdown",
   "metadata": {},
   "source": []
  },
  {
   "cell_type": "markdown",
   "metadata": {},
   "source": []
  },
  {
   "cell_type": "markdown",
   "metadata": {},
   "source": [
    "---\n",
    "---"
   ]
  },
  {
   "cell_type": "markdown",
   "metadata": {},
   "source": [
    "# Grammar 5\n"
   ]
  },
  {
   "cell_type": "markdown",
   "metadata": {},
   "source": []
  },
  {
   "cell_type": "markdown",
   "metadata": {},
   "source": []
  },
  {
   "cell_type": "markdown",
   "metadata": {},
   "source": []
  },
  {
   "cell_type": "markdown",
   "metadata": {},
   "source": [
    "---\n",
    "---"
   ]
  },
  {
   "cell_type": "markdown",
   "metadata": {},
   "source": [
    "# Grammar 6\n"
   ]
  },
  {
   "cell_type": "markdown",
   "metadata": {},
   "source": []
  },
  {
   "cell_type": "markdown",
   "metadata": {},
   "source": []
  },
  {
   "cell_type": "markdown",
   "metadata": {},
   "source": []
  },
  {
   "cell_type": "markdown",
   "metadata": {},
   "source": [
    "---\n",
    "---"
   ]
  },
  {
   "cell_type": "markdown",
   "metadata": {},
   "source": [
    "# Grammar 7\n"
   ]
  },
  {
   "cell_type": "markdown",
   "metadata": {},
   "source": []
  },
  {
   "cell_type": "markdown",
   "metadata": {},
   "source": []
  },
  {
   "cell_type": "markdown",
   "metadata": {},
   "source": []
  },
  {
   "cell_type": "markdown",
   "metadata": {},
   "source": [
    "---\n",
    "---"
   ]
  },
  {
   "cell_type": "markdown",
   "metadata": {},
   "source": [
    "# Grammar 8\n"
   ]
  },
  {
   "cell_type": "markdown",
   "metadata": {},
   "source": []
  },
  {
   "cell_type": "markdown",
   "metadata": {},
   "source": []
  },
  {
   "cell_type": "markdown",
   "metadata": {},
   "source": []
  },
  {
   "cell_type": "markdown",
   "metadata": {},
   "source": [
    "---\n",
    "---"
   ]
  },
  {
   "cell_type": "markdown",
   "metadata": {},
   "source": [
    "# Grammar 9\n"
   ]
  },
  {
   "cell_type": "markdown",
   "metadata": {},
   "source": []
  },
  {
   "cell_type": "markdown",
   "metadata": {},
   "source": []
  },
  {
   "cell_type": "markdown",
   "metadata": {},
   "source": []
  },
  {
   "cell_type": "markdown",
   "metadata": {},
   "source": [
    "---\n",
    "---"
   ]
  },
  {
   "cell_type": "markdown",
   "metadata": {},
   "source": [
    "# Grammar 10\n"
   ]
  },
  {
   "cell_type": "markdown",
   "metadata": {},
   "source": []
  },
  {
   "cell_type": "markdown",
   "metadata": {},
   "source": []
  },
  {
   "cell_type": "markdown",
   "metadata": {},
   "source": []
  },
  {
   "cell_type": "markdown",
   "metadata": {},
   "source": [
    "---\n",
    "---"
   ]
  },
  {
   "cell_type": "markdown",
   "metadata": {},
   "source": [
    "# Grammar 11\n"
   ]
  },
  {
   "cell_type": "markdown",
   "metadata": {},
   "source": []
  },
  {
   "cell_type": "markdown",
   "metadata": {},
   "source": []
  },
  {
   "cell_type": "markdown",
   "metadata": {},
   "source": []
  },
  {
   "cell_type": "markdown",
   "metadata": {},
   "source": [
    "---\n",
    "---"
   ]
  },
  {
   "cell_type": "markdown",
   "metadata": {},
   "source": [
    "# Grammar 12\n"
   ]
  },
  {
   "cell_type": "markdown",
   "metadata": {},
   "source": []
  },
  {
   "cell_type": "markdown",
   "metadata": {},
   "source": []
  },
  {
   "cell_type": "markdown",
   "metadata": {},
   "source": []
  },
  {
   "cell_type": "markdown",
   "metadata": {},
   "source": [
    "---\n",
    "---"
   ]
  }
 ],
 "metadata": {
  "language_info": {
   "name": "python"
  }
 },
 "nbformat": 4,
 "nbformat_minor": 2
}
