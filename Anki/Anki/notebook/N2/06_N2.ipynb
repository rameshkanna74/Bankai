{
 "cells": [
  {
   "cell_type": "markdown",
   "metadata": {},
   "source": [
    "# N2\n",
    "\n",
    "### 第 06 課 - インターネットでレシピを調べれば、レシピの本を買わなくて済みますよ。\n",
    "\n",
    "### Lesson 06 - If you search for the recipe online, you don't need to buy a cook book.\n"
   ]
  },
  {
   "cell_type": "markdown",
   "metadata": {},
   "source": [
    "# Vocabulary"
   ]
  },
  {
   "cell_type": "markdown",
   "metadata": {},
   "source": [
    "    1.とおりすぎる 通り過ぎる vi. to pass/to go past/to pass by\n",
    "    2.とおりかかる 通りかかる vi. to happen to pass by\n",
    "    3.ひつじ 羊 n. sheep\n",
    "    4.とら 虎 n. tiger\n",
    "    5.ライオン n. lion\n",
    "    6.むれ 群れ n. flock/herd/group/crowd\n",
    "    7.いやくひん 医薬品 n. pharmaceutical drugs\n",
    "    8.しょうにん 承認 n./vt. approval/to approve\n",
    "    9.きみ/ぎみ 気味 n./suffix sense/tendency/to have a hint of/to tend to/a little\n",
    "    10.うき 雨季 n. rainy season\n",
    "    11.かんき 乾季 n. dry season\n",
    "    12.きぼ 規模 n. scale\n",
    "    13.きせき 奇跡 n. miracle\n",
    "    14.しゅじゅつ 手術 n./vt. surgery/to do an operation/to have an operation\n",
    "    15.ちりょう 治療 n./vt. medical treatment/to treat/to cure\n",
    "    16.ごうとう 強盗 n. robbery/robber\n",
    "    17.ぶっさん 物産 n. products/commodities\n",
    "    18.てがける 手掛ける vt. to handle/to deal with\n",
    "    19.きしゅ 機種 n. model/kind (of machine or device)\n",
    "    20.やくめ 役目 n. duty/role\n",
    "    21.ふんいき 雰囲気 n. atmosphere\n",
    "    22.けいえい 経営 n./vt. business management/to manage (a firm)\n",
    "    23.めいかく 明確 な-adj./vt. precise/definite/clear/distinct\n",
    "    24.さだめる 定める vt. to determine/to establish/to settle\n",
    "    25.かんしん 関心 n. interest/concern\n"
   ]
  },
  {
   "cell_type": "markdown",
   "metadata": {},
   "source": [
    "    26.くみたてる 組み立てる vt. to assemble\n",
    "    27.ちょうり 調理 n./vt. cooking/to cook\n",
    "    28.わせい 和製 n. Japanese-made\n",
    "    29.くみあわせる 組み合わせる vt. to combine\n",
    "    30.やく 約 adv. about\n",
    "    31.とりももにく 鶏もも肉 n. chicken thigh\n",
    "    32.たまねぎ 玉ねぎ n. onion\n",
    "    33.マッシュルーム n. mushroom\n",
    "    34.きのこ n. mushroom\n",
    "    35.ケチャップ n. ketchup\n",
    "    36.サラダあぶら サラダ油 n. vegetable oil\n",
    "    37.こしょう 胡椒 n. pepper\n",
    "    38.さじ 匙 n. spoon\n",
    "    39.かく 角 n. cube\n",
    "    40.うすぎり 薄切り n. thin slice\n",
    "    41.フライパン n. frying pan\n",
    "    42.いためる 炒める vt. to stir fry/to fry\n",
    "    43.あげる 揚げる vt. to deep fry\n",
    "    44.にこむ 煮込む vt. to stew\n",
    "    45.あえる 和える vt. to dress/to toss (salad)\n",
    "    46.ぐざい 具材 n. ingredients\n",
    "    47.ほぐす 解す vt. to break (into small pieces)/to loosen\n",
    "    48.てばやい 手早い い-adj. nimble/quick\n",
    "    49.ととのえる 調える vt. to arrange/to prepare/to adjust\n",
    "    50.かきまぜる かき混ぜる vt. to stir\n"
   ]
  },
  {
   "cell_type": "markdown",
   "metadata": {},
   "source": [
    "    51.ソース n. sauce\n",
    "    52.めやす 目安 n. criterion/yard/aim\n",
    "    53.たんにん 担任 n./vt. class teacher/to be in charge of a class at school\n",
    "    54.こがす 焦がす vt. to burn\n",
    "    55.どうが 動画 n. video\n",
    "    56.チャンネル n. channel (TV/video)\n",
    "    57.さっそく 早速 adv./n./な-adj. immediately/promptly/right away\n",
    "    58.けんさく 検索 n./vt. search/to search\n",
    "    59.コロッケ n. croquette (bread-crumbed deep fried food)\n",
    "    60.やきとり 焼鳥 n.yakitori (grilled chicken on a skewer)\n",
    "    61.すきやき n. sukiyaki (thin sliced beef cooked with various vegetables in a shallow iron pot with soy sauce and sugar)\n",
    "    62.しゃぶしゃぶ n. shabu-shabu(thin sliced beef cooked with various vegetables cooked in a hot-pot in a savory sauce)\n",
    "    63.かいてんずし 回転寿司 n. conveyor belt sushi(sushi served on conveyor belts in a restaurant)\n",
    "    64.かいてん 開店 n./vi./vt. store opening/to open a store\n",
    "    65.へいてん 閉店 n./vi./vt. store closing/to close a store\n",
    "    66.セミナー n. seminar\n",
    "    67.アイディア/アイデア n. idea\n",
    "    68.レシピ n. recipe\n",
    "    69.おとなしい 大人しい い-adj. obedient/quiet/tame/well-behaved\n",
    "    70.おさない 幼い い-adj. young/childish/immature\n",
    "    71.うすめる 薄める vt. to dilute/to make something thin/to thin\n",
    "    72.おまけに adv. in addition/on top of something\n"
   ]
  },
  {
   "cell_type": "markdown",
   "metadata": {},
   "source": [
    "Here’s the vocabulary table for the words you provided:\n",
    "\n",
    "| No. | Japanese (Kanji) | Hiragana     | Romaji     | English Translation                         | Part of Speech | Example Sentence (Japanese)        | Example Sentence (English)                   | Example Sentence (Romaji)                      | Notes                                        |\n",
    "| --- | ---------------- | ------------ | ---------- | ------------------------------------------- | -------------- | ---------------------------------- | -------------------------------------------- | ---------------------------------------------- | -------------------------------------------- |\n",
    "| 1   | 通り過ぎる       | とおりすぎる | tōrisugiru | to pass/to go past/to pass by               | vi             | バスが通り過ぎました。             | The bus passed by.                           | Basu ga tōrisugimashita.                       | Common in travel contexts.                   |\n",
    "| 2   | 通りかかる       | とおりかかる | tōrikakaru | to happen to pass by                        | vi             | 友達に通りかかりました。           | I happened to pass by my friend.             | Tomodachi ni tōrikakarimashita.                | Used in casual conversation.                 |\n",
    "| 3   | 羊               | ひつじ       | hitsuji    | sheep                                       | n              | 羊が草を食べています。             | The sheep is eating grass.                   | Hitsuji ga kusa o tabeteimasu.                 | Common in farming contexts.                  |\n",
    "| 4   | 虎               | とら         | tora       | tiger                                       | n              | 虎は強い動物です。                 | The tiger is a strong animal.                | Tora wa tsuyoi dōbutsu desu.                   | Common in wildlife discussions.              |\n",
    "| 5   | ライオン         | ライオン     | raion      | lion                                        | n              | ライオンは王様と呼ばれます。       | The lion is called the king.                 | Raion wa ōsama to yobaremasu.                  | Common in wildlife discussions.              |\n",
    "| 6   | 群れ             | むれ         | mure       | flock/herd/group/crowd                      | n              | 鳥の群れが空を飛んでいます。       | A flock of birds is flying in the sky.       | Tori no mure ga sora o tondeimasu.             | Common in nature descriptions.               |\n",
    "| 7   | 医薬品           | いやくひん   | iyakuhin   | pharmaceutical drugs                        | n              | 医薬品は病気を治すために使います。 | Pharmaceuticals are used to treat illnesses. | Iyaku-hin wa byōki o naosu tame ni tsukaimasu. | Relevant in health discussions.              |\n",
    "| 8   | 承認             | しょうにん   | shōnin     | approval/to approve                         | n/vt           | この書類は承認されました。         | This document has been approved.             | Kono shorui wa shōnin saremashita.             | Common in administrative contexts.           |\n",
    "| 9   | 気味             | きみ/ぎみ    | kimi/gimi  | sense/tendency/to have a hint of/to tend to | n/suffix       | 彼は疲れ気味です。                 | He seems to be a bit tired.                  | Kare wa tsukare gimi desu.                     | Used in descriptive language.                |\n",
    "| 10  | 雨季             | うき         | uki        | rainy season                                | n              | 雨季にはたくさん雨が降ります。     | It rains a lot during the rainy season.      | Uki ni wa takusan ame ga furimasu.             | Important in climate discussions.            |\n",
    "| 11  | 乾季             | かんき       | kanki      | dry season                                  | n              | 乾季は農業に重要です。             | The dry season is important for agriculture. | Kanki wa nōgyō ni jūyō desu.                   | Relevant in farming contexts.                |\n",
    "| 12  | 規模             | きぼ         | kibo       | scale                                       | n              | 会社の規模が大きくなりました。     | The company's scale has grown.               | Kaisha no kibo ga ōkiku narimashita.           | Common in business discussions.              |\n",
    "| 13  | 奇跡             | きせき       | kiseki     | miracle                                     | n              | それは奇跡です！                   | That is a miracle!                           | Sore wa kiseki desu!                           | Used in religious or inspirational contexts. |\n",
    "| 14  | 手術             | しゅじゅつ   | shujutsu   | surgery/to do an operation                  | n/vt           | 手術は成功しました。               | The surgery was successful.                  | Shujutsu wa seikō shimashita.                  | Common in medical contexts.                  |\n",
    "| 15  | 治療             | ちりょう     | chiryo     | medical treatment/to treat/to cure          | n/vt           | 治療が必要です。                   | Treatment is necessary.                      | Chiryō ga hitsuyō desu.                        | Relevant in health discussions.              |\n",
    "| 16  | 強盗             | ごうとう     | gōtō       | robbery/robber                              | n              | 強盗が捕まった。                   | The robber was caught.                       | Gōtō ga tsukamatta.                            | Common in crime discussions.                 |\n",
    "| 17  | 物産             | ぶっさん     | bussan     | products/commodities                        | n              | 地元の物産を売っています。         | We sell local products.                      | Jimoto no bussan o utteimasu.                  | Relevant in trade discussions.               |\n",
    "| 18  | 手掛ける         | てがける     | tegakeru   | to handle/to deal with                      | vt             | このプロジェクトを手掛けています。 | I am handling this project.                  | Kono purojekuto o tegaketeimasu.               | Common in work contexts.                     |\n",
    "| 19  | 機種             | きしゅ       | kishu      | model/kind (of machine or device)           | n              | この機種は新しいです。             | This model is new.                           | Kono kishu wa atarashii desu.                  | Relevant in technology discussions.          |\n",
    "| 20  | 役目             | やくめ       | yakume     | duty/role                                   | n              | 彼の役目は重要です。               | His role is important.                       | Kare no yakume wa jūyō desu.                   | Common in job descriptions.                  |\n",
    "| 21  | 雰囲気           | ふんいき     | fun'iki    | atmosphere                                  | n              | この店は良い雰囲気です。           | This shop has a good atmosphere.             | Kono mise wa yoi fun'iki desu.                 | Relevant in hospitality contexts.            |\n",
    "| 22  | 経営             | けいえい     | keiei      | business management/to manage (a firm)      | n/vt           | 彼は会社を経営しています。         | He manages the company.                      | Kare wa kaisha o keiei shiteimasu.             | Common in business discussions.              |\n",
    "| 23  | 明確             | めいかく     | meikaku    | precise/definite/clear/distinct             | な-adj/vt      | 明確な答えが必要です。             | A clear answer is necessary.                 | Meikaku na kotae ga hitsuyō desu.              | Important in communication.                  |\n",
    "| 24  | 定める           | さだめる     | sadameru   | to determine/to establish/to settle         | vt             | ルールを定めましょう。             | Let's establish the rules.                   | Rūru o sadamemashō.                            | Common in policy discussions.                |\n",
    "| 25  | 関心             | かんしん     | kanshin    | interest/concern                            | n              | 彼女は環境問題に関心があります。   | She has an interest in environmental issues. | Kanojo wa kankyō mondai ni kanshin ga arimasu. | Common in discussions about social issues.   |\n",
    "\n",
    "Let me know if you need anything else!\n"
   ]
  },
  {
   "cell_type": "markdown",
   "metadata": {},
   "source": [
    "Here’s the vocabulary table for the words you provided:\n",
    "\n",
    "| No. | Japanese (Kanji) | Hiragana       | Romaji       | English Translation                    | Part of Speech | Example Sentence (Japanese)  | Example Sentence (English)             | Example Sentence (Romaji)         | Notes                                 |\n",
    "| --- | ---------------- | -------------- | ------------ | -------------------------------------- | -------------- | ---------------------------- | -------------------------------------- | --------------------------------- | ------------------------------------- |\n",
    "| 26  | 組み立てる       | くみたてる     | kumitateru   | to assemble                            | vt             | 家具を組み立てています。     | I am assembling the furniture.         | Kagu o kumitateru shiteimasu.     | Common in DIY contexts.               |\n",
    "| 27  | 調理             | ちょうり       | chōri        | cooking/to cook                        | n/vt           | 調理が終わりました。         | The cooking is finished.               | Chōri ga owarimashita.            | Relevant in culinary discussions.     |\n",
    "| 28  | 和製             | わせい         | wasei        | Japanese-made                          | n              | 和製品が増えています。       | Japanese-made products are increasing. | Waseihin ga fueteimasu.           | Common in discussions about products. |\n",
    "| 29  | 組み合わせる     | くみあわせる   | kumiawaseru  | to combine                             | vt             | 材料を組み合わせています。   | I am combining the ingredients.        | Zairyou o kumiawase ています.     | Relevant in cooking contexts.         |\n",
    "| 30  | 約               | やく           | yaku         | about                                  | adv            | 約 2 時間かかります。        | It takes about two hours.              | Yaku ni jikan kakarimasu.         | Common in time estimates.             |\n",
    "| 31  | 鶏もも肉         | とりももにく   | torimomoniku | chicken thigh                          | n              | 鶏もも肉が安くなっています。 | Chicken thighs are getting cheaper.    | Torimomoniku ga yasukunatteimasu. | Common in cooking discussions.        |\n",
    "| 32  | 玉ねぎ           | たまねぎ       | tamanegi     | onion                                  | n              | 玉ねぎを切ります。           | I will chop the onion.                 | Tamanegi o kirimasu.              | Common in recipes.                    |\n",
    "| 33  | マッシュルーム   | マッシュルーム | masshurūmu   | mushroom                               | n              | マッシュルームを追加します。 | I will add mushrooms.                  | Masshurūmu o tsuika shimasu.      | Common in culinary contexts.          |\n",
    "| 34  | きのこ           | きのこ         | kinoko       | mushroom                               | n              | きのこが好きです。           | I like mushrooms.                      | Kinoko ga suki desu.              | Common in cooking discussions.        |\n",
    "| 35  | ケチャップ       | ケチャップ     | kechappu     | ketchup                                | n              | ケチャップを使います。       | I use ketchup.                         | Kechappu o tsukaimasu.            | Common in food discussions.           |\n",
    "| 36  | サラダ油         | サラダあぶら   | sarada abura | vegetable oil                          | n              | サラダ油で炒めます。         | I stir-fry with vegetable oil.         | Sarada abura de itamemasu.        | Common in cooking contexts.           |\n",
    "| 37  | 胡椒             | こしょう       | koshō        | pepper                                 | n              | 胡椒をかけます。             | I sprinkle pepper.                     | Koshō o kakemasu.                 | Common in seasoning discussions.      |\n",
    "| 38  | 匙               | さじ           | saji         | spoon                                  | n              | スプーンで食べます。         | I eat with a spoon.                    | Supūn de tabemasu.                | Common in cooking contexts.           |\n",
    "| 39  | 角               | かく           | kaku         | cube                                   | n              | 角に切ります。               | I cut it into cubes.                   | Kaku ni kirimasu.                 | Common in recipe descriptions.        |\n",
    "| 40  | 薄切り           | うすぎり       | usugiri      | thin slice                             | n              | 薄切りの肉が必要です。       | I need thinly sliced meat.             | Usugiri no niku ga hitsuyō desu.  | Common in culinary contexts.          |\n",
    "| 41  | フライパン       | フライパン     | furai pan    | frying pan                             | n              | フライパンを熱します。       | I heat the frying pan.                 | Furai pan o netsushimasu.         | Essential kitchen tool.               |\n",
    "| 42  | 炒める           | いためる       | itameru      | to stir fry/to fry                     | vt             | 野菜を炒めます。             | I stir-fry the vegetables.             | Yasai o itamemasu.                | Common in cooking contexts.           |\n",
    "| 43  | 揚げる           | あげる         | ageru        | to deep fry                            | vt             | 天ぷらを揚げます。           | I deep fry tempura.                    | Tempura o agemasu.                | Common in cooking contexts.           |\n",
    "| 44  | 煮込む           | にこむ         | nikomu       | to stew                                | vt             | シチューを煮込みます。       | I stew the casserole.                  | Chitō o nikomimasu.               | Common in recipe contexts.            |\n",
    "| 45  | 和える           | あえる         | aeru         | to dress/to toss (salad)               | vt             | サラダを和えます。           | I toss the salad.                      | Sarada o aeimasu.                 | Common in culinary contexts.          |\n",
    "| 46  | 具材             | ぐざい         | guzai        | ingredients                            | n              | 具材を用意します。           | I prepare the ingredients.             | Guzai o yōi shimasu.              | Relevant in cooking discussions.      |\n",
    "| 47  | 解す             | ほぐす         | hogusu       | to break (into small pieces)/to loosen | vt             | 肉をほぐします。             | I break the meat into small pieces.    | Niku o hogushimasu.               | Common in cooking contexts.           |\n",
    "| 48  | 手早い           | てばやい       | tebayai      | nimble/quick                           | い-adj         | 彼は手早い料理人です。       | He is a quick cook.                    | Kare wa tebayai ryōrinin desu.    | Relevant in cooking discussions.      |\n",
    "| 49  | 調える           | ととのえる     | totonoeru    | to arrange/to prepare/to adjust        | vt             | 料理を調えます。             | I prepare the dish.                    | Ryōri o totonoemasu.              | Common in culinary contexts.          |\n",
    "| 50  | かき混ぜる       | かきまぜる     | kakimazeru   | to stir                                | vt             | スープをかき混ぜます。       | I stir the soup.                       | Sūpu o kakimazemasu.              | Common in cooking contexts.           |\n",
    "\n",
    "Let me know if you need any further information!\n"
   ]
  },
  {
   "cell_type": "markdown",
   "metadata": {},
   "source": [
    "Here's the vocabulary table for the new set of words you provided:\n",
    "\n",
    "| No. | Japanese (Kanji)    | Hiragana     | Romaji       | English Translation                                | Part of Speech | Example Sentence (Japanese)      | Example Sentence (English)           | Example Sentence (Romaji)              | Notes                                |\n",
    "| --- | ------------------- | ------------ | ------------ | -------------------------------------------------- | -------------- | -------------------------------- | ------------------------------------ | -------------------------------------- | ------------------------------------ |\n",
    "| 51  | ソース              | そーす       | sōsu         | sauce                                              | n              | この料理にはソースが必要です。   | This dish needs sauce.               | Kono ryōri ni wa sōsu ga hitsuyō desu. | Common in culinary discussions.      |\n",
    "| 52  | 目安                | めやす       | meyasu       | criterion/yard/aim                                 | n              | 目安を決めて計画します。         | I will set a criterion for the plan. | Meyasu o kimete keikaku shimasu.       | Relevant in planning contexts.       |\n",
    "| 53  | 担任                | たんにん     | tannin       | class teacher/to be in charge of a class at school | n/vt           | 彼は私の担任です。               | He is my homeroom teacher.           | Kare wa watashi no tannin desu.        | Common in educational contexts.      |\n",
    "| 54  | 焦がす              | こがす       | kogasu       | to burn                                            | vt             | 食べ物を焦がさないでください。   | Please do not burn the food.         | Tabemono o kogasanai de kudasai.       | Important in cooking contexts.       |\n",
    "| 55  | 動画                | どうが       | dōga         | video                                              | n              | 動画を見ています。               | I am watching a video.               | Dōga o miteimasu.                      | Common in digital media discussions. |\n",
    "| 56  | チャンネル          | ちゃんねる   | channeru     | channel (TV/video)                                 | n              | このチャンネルが好きです。       | I like this channel.                 | Kono channeru ga suki desu.            | Relevant in TV/media discussions.    |\n",
    "| 57  | 早速                | さっそく     | sassoku      | immediately/promptly/right away                    | adv/n/na-adj   | 早速行きましょう。               | Let's go right away.                 | Sassoku ikimashou.                     | Common in urgent situations.         |\n",
    "| 58  | 検索                | けんさく     | Kensaku      | search/to search                                   | n/vt           | 情報を検索しています。           | I am searching for information.      | Jōhō o kensaku shiteimasu.             | Common in digital contexts.          |\n",
    "| 59  | コロッケ            | コロッケ     | korokke      | croquette                                          | n              | コロッケが好きです。             | I like croquettes.                   | Korokke ga suki desu.                  | Common in food discussions.          |\n",
    "| 60  | 焼鳥                | やきとり     | yakitori     | yakitori (grilled chicken on a skewer)             | n              | 焼鳥を注文しました。             | I ordered yakitori.                  | Yakitori o chūmon shimashita.          | Popular dish in Japanese cuisine.    |\n",
    "| 61  | すきやき            | すきやき     | sukiyaki     | sukiyaki (beef with vegetables in a pot)           | n              | すきやきを作ります。             | I will make sukiyaki.                | Sukiyaki o tsukurimasu.                | Famous Japanese hot pot dish.        |\n",
    "| 62  | しゃぶしゃぶ        | しゃぶしゃぶ | shabu-shabu  | shabu-shabu (thin sliced beef hot pot)             | n              | しゃぶしゃぶを食べたいです。     | I want to eat shabu-shabu.           | Shabu-shabu o tabetai desu.            | Popular hot pot dish.                |\n",
    "| 63  | 回転寿司            | かいてんずし | kaiten-zushi | conveyor belt sushi                                | n              | 回転寿司に行きましょう。         | Let's go to conveyor belt sushi.     | Kaiten-zushi ni ikimashou.             | Unique dining experience.            |\n",
    "| 64  | 開店                | かいてん     | kaiten       | store opening/to open a store                      | n/vi/vt        | 新しい店が開店します。           | A new store will open.               | Atarashii mise ga kaiten shimasu.      | Relevant in business contexts.       |\n",
    "| 65  | 閉店                | へいてん     | heiten       | store closing/to close a store                     | n/vi/vt        | 店が閉店します。                 | The store will close.                | Mise ga heiten shimasu.                | Important in retail discussions.     |\n",
    "| 66  | セミナー            | セミナー     | seminā       | seminar                                            | n              | セミナーに参加します。           | I will attend the seminar.           | Seminā ni sanka shimasu.               | Common in educational contexts.      |\n",
    "| 67  | アイディア/アイデア | あいでぃあ   | aidea        | idea                                               | n              | 新しいアイデアがあります。       | I have a new idea.                   | Atarashii aidea ga arimasu.            | Common in brainstorming sessions.    |\n",
    "| 68  | レシピ              | れしぴ       | reshipi      | recipe                                             | n              | レシピを探しています。           | I am looking for a recipe.           | Reshipi o sagashiteimasu.              | Relevant in cooking discussions.     |\n",
    "| 69  | 大人しい            | おとなしい   | otonashii    | obedient/quiet/tame/well-behaved                   | い-adj         | 彼女は大人しいです。             | She is quiet.                        | Kanojo wa otonashii desu.              | Common in describing personality.    |\n",
    "| 70  | 幼い                | おさない     | osanai       | young/childish/immature                            | い-adj         | 幼い頃が懐かしいです。           | I miss my childhood.                 | Osanai koro ga natsukashii desu.       | Relevant in discussions about age.   |\n",
    "| 71  | 薄める              | うすめる     | usumeru      | to dilute/to make something thin/to thin           | vt             | このスープを薄めます。           | I will dilute this soup.             | Kono sūpu o usumemasu.                 | Common in culinary contexts.         |\n",
    "| 72  | おまけに            | おまけに     | omakeni      | in addition/on top of something                    | adv            | おまけにデザートもついてきます。 | It also comes with a dessert.        | Omakeni dezāto mo tsuite kimasu.       | Common in offers or promotions.      |\n",
    "\n",
    "Feel free to ask if you need further assistance!\n"
   ]
  },
  {
   "cell_type": "markdown",
   "metadata": {},
   "source": [
    "---"
   ]
  },
  {
   "cell_type": "markdown",
   "metadata": {},
   "source": [
    "# Conversation"
   ]
  },
  {
   "cell_type": "markdown",
   "metadata": {},
   "source": [
    "安藤 : 大 島 さん、日本語学校 の仕事は 最 近 も相変わらず 忙 しいですか。\n",
    "    この 前 言っていた日本語スピーチコンテストの結果は どうでしたか。\n",
    "\n",
    "大島: それがね、 残 念 なことに、うちのクラスは\n",
    "    優 勝 できなかったんだ。\n",
    "    でも、生徒たちにとってはいい 経 験 になったと 思 うけどね。\n",
    "\n",
    "安藤 :ええ、あんなに 練 習 していたのに。残 念 ですね。\n",
    "\n",
    "大島: 練 習 じゃうまくできていたんだけどね。ほんと、 運 が\n",
    "    悪 かったとしか言いようがないよ。\n",
    "    大 変 な 練 習 をして苦労したあげく 優 勝 できなくて、\n",
    "    おまけに風邪まで引いちゃって。\n",
    "\n",
    "安藤 :そうなんですか。 実 は 私 も風邪気味なんです。\n",
    "\n",
    "大島:ええ、 最 近 風邪が流行ってるからね...。\n",
    "    安 藤 さんもあんまり無理せずにちゃんと 休 んでくださいね。\n",
    "\n",
    "安藤 :ありがとうございます。ああ、そろそろワンさんのうちに着きます。\n",
    "\n",
    "大 島 、 安 藤 :お邪魔します。\n",
    "\n",
    "ワン:いらっしゃい。 料 理 ができあがるまでもうちょっと時間が\n",
    "    かかりそうなので 座 ってゆっくりしててください。\n",
    "\n",
    "大島 :もう 作 りはじめたの?順 調 ?\n",
    "\n",
    "ワン:それが、コロッケを 作 ってみたんですけど、揚げ過ぎて焦がし\n",
    "    てしまって...。\n",
    "    やっぱり 料 理 の 本 を買っておけばよかったなあ。\n",
    "\n",
    "安藤 :インターネットでレシピを 調 べれば、\n",
    "    レシピの 本 を買わなくて済みますよ。\n",
    "\n",
    "ワン :ええ? わたしは日 本 料 理 を 習 いたいんですが、\n",
    "    おすすめのサイトはありますか。\n",
    "\n",
    "安藤 :レシピの 数 からして、日 本 料 理 レシピ TV という\n",
    "    動画チャンネルがおすすめですよ。\n",
    "    動画でわかりやすく 説 明 してくれるし、日本語版はもちろん、\n",
    "    外 国 語 バージョンもあるんですよ。\n",
    "\n",
    "大島 :ええ、そうなの。 それなら、わたしの生徒たちも\n",
    "    見られますね。 早 速 検 索 してみよう。\n",
    "\n",
    "ワン:「日・ 本 ・ 料 ・理・レ・シ・ピ・T・V」、「 検 索 」\n",
    "    わあ、 本 当 ですね。 すごい 数 です。\n",
    "    じゃあ、 早 速 ここのレシピにそってコロッケを\n",
    "    もう一度 作 ってみます。\n",
    "\n",
    "安藤 : 私 たちも手伝いますよ。"
   ]
  },
  {
   "cell_type": "markdown",
   "metadata": {},
   "source": [
    "Here’s the formatted table based on your conversation, without kanji in the Hiragana column:\n",
    "\n",
    "| Speaker    | Japanese (Hiragana)                                                                                                                                                                          | Japanese (Kanji)                                                                                                                                                     | English Translation                                                                                                                                                                          | Romaji                                                                                                                                                                                                 | Notes                                               |\n",
    "| ---------- | -------------------------------------------------------------------------------------------------------------------------------------------------------------------------------------------- | -------------------------------------------------------------------------------------------------------------------------------------------------------------------- | -------------------------------------------------------------------------------------------------------------------------------------------------------------------------------------------- | ------------------------------------------------------------------------------------------------------------------------------------------------------------------------------------------------------ | --------------------------------------------------- |\n",
    "| 安藤       | おおしまさん、にほんごがっこうのしごとはさいきんもあいかわらずいそがしいですか。このまえいっていたにほんごすぴーちこんてすとのけっかはどうでしたか。                                         | 大島さん、日本語学校の仕事は最近も相変わらず忙しいですか。この前言っていた日本語スピーチコンテストの結果はどうでしたか。                                             | Oshima-san, is your work at the Japanese language school still busy as usual? How did the Japanese speech contest go that you mentioned the other day?                                       | Ōshima-san, nihongo gakkō no shigoto wa saikin mo aikawarazu isogashii desu ka. Kono mae itte ita nihongo supīchi kontesuto no kekka wa dō deshita ka.                                                 | Starting a conversation about work and the contest. |\n",
    "| 大島       | それがね、ざんねんなことに、うちのクラスはゆうしょうできなかったんだ。でも、せいとたちにとってはいいけいけんになったとおもうけどね。                                                         | それがね、残念なことに、うちのクラスは優勝できなかったんだ。でも、生徒たちにとってはいい経験になったと思うけどね。                                                   | Well, unfortunately, our class couldn't win. But I think it was a good experience for the students.                                                                                          | Sore ga ne, zannenn na koto ni, uchi no kurasu wa yūshō dekinakatta n da. Demo, seito-tachi ni totte wa ii keiken ni natta to omou kedo ne.                                                            | Sharing disappointing news about the contest.       |\n",
    "| 安藤       | ええ、あんなにれんしゅうしていたのに。ざんねんですね。                                                                                                                                       | ええ、あんなに練習していたのに。残念ですね。                                                                                                                         | Yes, they practiced so hard. It's a shame.                                                                                                                                                   | Ee, annani renshū shite ita noni. Zannen desu ne.                                                                                                                                                      | Expressing sympathy.                                |\n",
    "| 大島       | れんしゅうじゃうまくできていたんだけどね。ほんと、うんがわるかったとしかいいようがないよ。たいへんなれんしゅうをしてくろうしたあげくゆうしょうできなくて、おまけにかぜまでひいちゃって。     | 練習じゃうまくできていたんだけどね。本当、運が悪かったとしか言いようがないよ。大変な練習をして苦労したあげく優勝できなくて、おまけに風邪まで引いちゃって。           | They were doing well in practice, but really, I can only say it was bad luck. After all the hard training, we couldn't win, and to top it off, I caught a cold.                              | Renshū ja umaku dekite ita n da kedo ne. Honto, un ga warukatta to shika ii yō ga nai yo. Taihen na renshū wo shite kurō shita ageku yūshō dekinakute, omake ni kaze made hiichatte.                   | Expressing frustration and bad luck.                |\n",
    "| 安藤       | そうなんですか。じつはわたしもかぜぎみなんです。                                                                                                                                             | そうなんですか。実は私も風邪気味なんです。                                                                                                                           | Is that so? Actually, I'm also feeling a bit under the weather.                                                                                                                              | Sō nan desu ka. Jitsu wa watashi mo kaze gimi nan desu.                                                                                                                                                | Relating personal experience of illness.            |\n",
    "| 大島       | ええ、さいきんかぜがりゅうこうってるからね...。あんどうさんもあんまりむりせずにちゃんとやすんでくださいね。                                                                                  | ええ、最近風邪が流行ってるからね...。安藤さんもあんまり無理せずにちゃんと休んでくださいね。                                                                          | Yes, colds have been spreading recently... Please take care of yourself and rest properly, Ando-san.                                                                                         | Ee, saikin kaze ga ryūkō tte iru kara ne... Andō-san mo anmari muri sezu ni chanto yasunde kudasai ne.                                                                                                 | Caring advice for health.                           |\n",
    "| 安藤       | ありがとうございます。ああ、そろそろわんさんのうちにちきます。                                                                                                                               | ありがとうございます。ああ、そろそろワンさんの家に着きます。                                                                                                         | Thank you. Oh, I’m about to arrive at Wan-san's house.                                                                                                                                       | Arigatou gozaimasu. Aa, soro soro Wan-san no uchi ni tsukimasu.                                                                                                                                        | Preparing to arrive at a friend's house.            |\n",
    "| 大島、安藤 | おじゃまします。                                                                                                                                                                             | お邪魔します。                                                                                                                                                       | Excuse us for intruding.                                                                                                                                                                     | Ojamashimasu.                                                                                                                                                                                          | A polite expression upon entering someone's home.   |\n",
    "| ワン       | いらっしゃい。りょうりができあがるまでもうちょっとじかんがかかりそうなのでざってゆっくりしててください。                                                                                     | いらっしゃい。料理ができあがるまでもうちょっと時間がかかりそうなので座ってゆっくりしててください。                                                                   | Welcome! It looks like it will take a little more time for the food to be ready, so please sit and relax.                                                                                    | Irasshaimase. Ryōri ga dekiagaru made mō chotto jikan ga kakarisō na node, suwatte yukkuri shitetekudasai.                                                                                             | Warm welcome to guests.                             |\n",
    "| 大島       | もうつくりはじめたの？じゅんちょう？                                                                                                                                                         | もう作り始めたの？順調？                                                                                                                                             | Have you already started cooking? Is it going smoothly?                                                                                                                                      | Mō tsukuri hajimeta no? Junjō?                                                                                                                                                                         | Checking on the cooking progress.                   |\n",
    "| ワン       | それが、ころっけをつくってみたんですけど、あげすぎてこがしてしまって...。やっぱりりょうりのほんをかっておけばよかったなあ。                                                                  | それが、コロッケを作ってみたんですけど、揚げ過ぎて焦がしてしまって...。やっぱり料理の本を買っておけばよかったなあ。                                                  | Well, I tried making croquettes, but I overcooked them and burnt them... I really should have bought a cooking book.                                                                         | Sore ga, korokke wo tsukutte mita n desu kedo, age sugite kogashite shimatte... Yappari ryōri no hon wo katte okeba yokatta naa.                                                                       | Sharing a cooking mishap.                           |\n",
    "| 安藤       | インターネットでれしぴをしらべれば、れしぴのほんをかわなくてすみますよ。                                                                                                                     | インターネットでレシピを調べれば、レシピの本を買わなくて済みますよ。                                                                                                 | If you search for recipes on the Internet, you won't need to buy a recipe book.                                                                                                              | Intānetto de reshipi wo shirabereba, reshipi no hon wo kawanakute sumimasu yo.                                                                                                                         | Suggesting a solution to cooking issues.            |\n",
    "| ワン       | ええ？わたしはにほんりょうりをならいたいんですが、おすすめのさいとがありますか。                                                                                                             | ええ？私は日本料理を習いたいんですが、おすすめのサイトはありますか。                                                                                                 | Really? I want to learn Japanese cooking; do you have any recommended sites?                                                                                                                 | Ee? Watashi wa nihon ryōri wo nara itai n desu ga, osusume no saito wa arimasu ka.                                                                                                                     | Seeking recommendations for learning cooking.       |\n",
    "| 安藤       | れしぴのかずからして、にほんりょうりれしぴ TV というどうがチャンネルがおすすめですよ。どうがでわかりやすくせつめいしてくれるし、にほんごばんはもちろん、がいこくごばーじょんもあるんですよ。 | レシピの数からして、日本料理レシピ TV という動画チャンネルがおすすめですよ。動画でわかりやすく説明してくれるし、日本語版はもちろん、外国語バージョンもあるんですよ。 | Based on the number of recipes, I recommend a video channel called \"Japanese Cooking Recipe TV.\" They explain things clearly in videos, and they have versions in foreign languages as well. | Reshipi no kazu kara shite, Nihon ryōri reshipi TV to iu dōga channeru ga osusume desu yo. Dōga de wakari yasuku setsumei shite kureru shi, Nihongo ban wa mochiron, gaikokugo bājon mo aru n desu yo. | Suggesting a useful resource for cooking.           |\n",
    "| 大島       | ええ、そうなの。それなら、わたしのせいとたちもみられますね。はやそくけんさくしてみよう。                                                                                                     | ええ、そうなの。それなら、私の生徒たちも見られますね。早速検索してみよう。                                                                                           | Oh, really? Then my students can watch it too. I'll search for it right away.                                                                                                                | Ee, sō nano. Sorenara, watashi no seito-tachi mo mirareru ne. Hayasoku kensaku shite miyou.                                                                                                            | Excited to find a resource for students.            |\n",
    "| ワン       | 「にほんりょうりれしぴ TV」、「けんさく」わあ、ほんとうですね。すごいかずです。じゃあ、はやそくここのれしぴにそってころっけをもういちどつくってみます。                                      | 「日本料理レシピ TV」、「検索」わあ、本当ですね。すごい数です。じゃあ、早速ここのレシピに沿ってコロッケをもう一度作ってみます。                                      | \"Japanese Cooking Recipe TV,\" \"search,\" wow, that's really impressive. Well then, I'll quickly try making croquettes again using this recipe.                                                | \"Nihon ryōri reshipi TV,\" \"kensaku\" waa, hontō desu ne. Jaa, hayasoku koko no reshipi ni sotte korokke wo mō ichido tsukutte mimasu.                                                                   | Eager to try the recipe again.                      |\n",
    "| 安藤       | わたしたちもてつだいますよ。                                                                                                                                                                 | 私たちも手伝いますよ。                                                                                                                                               | We’ll help you too.                                                                                                                                                                          | Watashitachi mo tetsudaimasu yo.                                                                                                                                                                       | Offering help with cooking.                         |\n",
    "\n",
    "If you need any more adjustments or have further requests, just let me know!\n"
   ]
  },
  {
   "cell_type": "markdown",
   "metadata": {},
   "source": [
    "---"
   ]
  },
  {
   "cell_type": "markdown",
   "metadata": {},
   "source": [
    "# Grammar 1\n"
   ]
  },
  {
   "cell_type": "markdown",
   "metadata": {},
   "source": []
  },
  {
   "cell_type": "markdown",
   "metadata": {},
   "source": []
  },
  {
   "cell_type": "markdown",
   "metadata": {},
   "source": []
  },
  {
   "cell_type": "markdown",
   "metadata": {},
   "source": [
    "---\n",
    "---"
   ]
  },
  {
   "cell_type": "markdown",
   "metadata": {},
   "source": [
    "# Grammar 2\n"
   ]
  },
  {
   "cell_type": "markdown",
   "metadata": {},
   "source": []
  },
  {
   "cell_type": "markdown",
   "metadata": {},
   "source": []
  },
  {
   "cell_type": "markdown",
   "metadata": {},
   "source": []
  },
  {
   "cell_type": "markdown",
   "metadata": {},
   "source": [
    "---\n",
    "---"
   ]
  },
  {
   "cell_type": "markdown",
   "metadata": {},
   "source": [
    "# Grammar 3\n"
   ]
  },
  {
   "cell_type": "markdown",
   "metadata": {},
   "source": []
  },
  {
   "cell_type": "markdown",
   "metadata": {},
   "source": []
  },
  {
   "cell_type": "markdown",
   "metadata": {},
   "source": []
  },
  {
   "cell_type": "markdown",
   "metadata": {},
   "source": [
    "---\n",
    "---"
   ]
  },
  {
   "cell_type": "markdown",
   "metadata": {},
   "source": [
    "# Grammar 4\n"
   ]
  },
  {
   "cell_type": "markdown",
   "metadata": {},
   "source": []
  },
  {
   "cell_type": "markdown",
   "metadata": {},
   "source": []
  },
  {
   "cell_type": "markdown",
   "metadata": {},
   "source": []
  },
  {
   "cell_type": "markdown",
   "metadata": {},
   "source": [
    "---\n",
    "---"
   ]
  },
  {
   "cell_type": "markdown",
   "metadata": {},
   "source": [
    "# Grammar 5\n"
   ]
  },
  {
   "cell_type": "markdown",
   "metadata": {},
   "source": []
  },
  {
   "cell_type": "markdown",
   "metadata": {},
   "source": []
  },
  {
   "cell_type": "markdown",
   "metadata": {},
   "source": []
  },
  {
   "cell_type": "markdown",
   "metadata": {},
   "source": [
    "---\n",
    "---"
   ]
  },
  {
   "cell_type": "markdown",
   "metadata": {},
   "source": [
    "# Grammar 6\n"
   ]
  },
  {
   "cell_type": "markdown",
   "metadata": {},
   "source": []
  },
  {
   "cell_type": "markdown",
   "metadata": {},
   "source": []
  },
  {
   "cell_type": "markdown",
   "metadata": {},
   "source": []
  },
  {
   "cell_type": "markdown",
   "metadata": {},
   "source": [
    "---\n",
    "---"
   ]
  },
  {
   "cell_type": "markdown",
   "metadata": {},
   "source": [
    "# Grammar 7\n"
   ]
  },
  {
   "cell_type": "markdown",
   "metadata": {},
   "source": []
  },
  {
   "cell_type": "markdown",
   "metadata": {},
   "source": []
  },
  {
   "cell_type": "markdown",
   "metadata": {},
   "source": []
  },
  {
   "cell_type": "markdown",
   "metadata": {},
   "source": [
    "---\n",
    "---"
   ]
  },
  {
   "cell_type": "markdown",
   "metadata": {},
   "source": [
    "# Grammar 8\n"
   ]
  },
  {
   "cell_type": "markdown",
   "metadata": {},
   "source": []
  },
  {
   "cell_type": "markdown",
   "metadata": {},
   "source": []
  },
  {
   "cell_type": "markdown",
   "metadata": {},
   "source": []
  },
  {
   "cell_type": "markdown",
   "metadata": {},
   "source": [
    "---\n",
    "---"
   ]
  },
  {
   "cell_type": "markdown",
   "metadata": {},
   "source": [
    "# Grammar 9\n"
   ]
  },
  {
   "cell_type": "markdown",
   "metadata": {},
   "source": []
  },
  {
   "cell_type": "markdown",
   "metadata": {},
   "source": []
  },
  {
   "cell_type": "markdown",
   "metadata": {},
   "source": []
  },
  {
   "cell_type": "markdown",
   "metadata": {},
   "source": [
    "---\n",
    "---"
   ]
  },
  {
   "cell_type": "markdown",
   "metadata": {},
   "source": [
    "# Grammar 10\n"
   ]
  },
  {
   "cell_type": "markdown",
   "metadata": {},
   "source": []
  },
  {
   "cell_type": "markdown",
   "metadata": {},
   "source": []
  },
  {
   "cell_type": "markdown",
   "metadata": {},
   "source": []
  },
  {
   "cell_type": "markdown",
   "metadata": {},
   "source": [
    "---\n",
    "---"
   ]
  },
  {
   "cell_type": "markdown",
   "metadata": {},
   "source": [
    "# Grammar 11\n"
   ]
  },
  {
   "cell_type": "markdown",
   "metadata": {},
   "source": []
  },
  {
   "cell_type": "markdown",
   "metadata": {},
   "source": []
  },
  {
   "cell_type": "markdown",
   "metadata": {},
   "source": []
  },
  {
   "cell_type": "markdown",
   "metadata": {},
   "source": [
    "---\n",
    "---"
   ]
  },
  {
   "cell_type": "markdown",
   "metadata": {},
   "source": [
    "# Grammar 12\n"
   ]
  },
  {
   "cell_type": "markdown",
   "metadata": {},
   "source": []
  },
  {
   "cell_type": "markdown",
   "metadata": {},
   "source": []
  },
  {
   "cell_type": "markdown",
   "metadata": {},
   "source": []
  },
  {
   "cell_type": "markdown",
   "metadata": {},
   "source": [
    "---\n",
    "---"
   ]
  }
 ],
 "metadata": {
  "language_info": {
   "name": "python"
  }
 },
 "nbformat": 4,
 "nbformat_minor": 2
}
