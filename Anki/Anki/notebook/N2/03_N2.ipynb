{
 "cells": [
  {
   "cell_type": "markdown",
   "metadata": {},
   "source": [
    "# N2\n",
    "\n",
    "### 第 03 課 - 勝手な手順でバックアップしたら、大事な情報が流出しかねないからね。\n",
    "\n",
    "### Lesson 03 - If you backup the data against protocol, important information could get leaked.\n"
   ]
  },
  {
   "cell_type": "markdown",
   "metadata": {},
   "source": [
    "# Vocabulary"
   ]
  },
  {
   "cell_type": "markdown",
   "metadata": {},
   "source": [
    "    1.ていでん 停電 n./vi. power outage/blackout\n",
    "    2.だんすい 断水 n./vi. water outage/to cut off the water supply\n",
    "    3.ぶしょ 部署 n. oneʼs post/department/section\n",
    "    4.バックアップ n./vt. backup/to backup\n",
    "    5.てじゅん 手順 n. procedure\n",
    "    6.したがう 従う vi. to follow/to obey/to abide(by a rule, decision, etc.)\n",
    "    7.りゅうしゅつ 流出 n./vi. outflow/to leak out\n",
    "    8.じょうほうかんり 情報管理 n. information management\n",
    "    9.ほうしん 方針 n. policy\n",
    "    10.しゅうりょう 終了 n./vt./vi. end/close/to finish/to end\n",
    "    11.ほえる 吠える vi. to bark/to roar\n",
    "    12.りこん 離婚 n./vi. divorce/to get divorced\n",
    "    13.けつい 決意 n./vt. determination/to decide/to determinate\n",
    "    14.かえって adv. on the contrary/rather\n",
    "    15.おせん 汚染 n./vt. pollution/contamination/to pollute/to contaminate\n",
    "    16.かいよう 海洋 n. ocean\n",
    "    17.たいきおせん 大気汚染 n. air pollution\n",
    "    18.かいようおせん 海洋汚染 n. marine pollution\n",
    "    19.ちゅうかい 仲介 n./vt. mediation/to mediate\n",
    "    20.じどう 自動 n. automatic\n",
    "    21.ちょうせつ 調節 n./vt. adjustment/regulation/to adjust/to regulate\n",
    "    22.けいやく 契約 n./vt. contract/agreement/to contract/to make an agreement\n",
    "    23.きゅうぎょう 休業 n./vi. closing a business /to close a business\n",
    "    24.かいかい 開会 n./vi. opening of a meeting/to convene\n",
    "    25.ひとこと 一言 n. a word\n"
   ]
  },
  {
   "cell_type": "markdown",
   "metadata": {},
   "source": [
    "    26.しじ 指示 n./vt. instructions/to instruct/to direct\n",
    "    27.ひなん 避難 n./vi. evacuation/refuge/to take refuge/to get out of the danger\n",
    "    28.ゆたか 豊か な-adj. abundant/rich\n",
    "    29.ほうふ 豊富 n./な-adj. wealth/plenty/rich/abundant/plentiful\n",
    "    30.いっそう 一層 adv. more/even more\n",
    "    31.そうご 相互 n. mutual\n",
    "    32.いじめる 苛める vt. to torment/to tease/to bully\n",
    "    33.よけい 余計 な-adj./adv. extra/unnecessary\n",
    "    34.さいのう 才能 n. talent\n",
    "    35.さいよう 採用 n./vt. adoption/employment/to adopt/to accept/to employ/to use\n",
    "    36.ていりょう 定量 n. fixed quantity\n",
    "    37.じか 時下 n. nowadays (literary expression often used in letters)\n",
    "    38.てんけん 点検 n./vt. inspection/to inspect/to examine/to check\n",
    "    39.せいみつきかい 精密機械 n. precision machine\n",
    "    40.しゅっしゃ 出社 n./vi. going to work/to go to work\n",
    "    41.たいしゃ 退社 n./vi. leaving work/to leave work\n",
    "    42.あらかじめ 予め adv. beforehand/in advance\n",
    "    43.ぜんご 前後 n./vi. in front and behind/before and after/approximately/about\n",
    "    44.せいしょう 清祥 n. your good health and happiness (literary expression used in letters)\n",
    "    45.ふめい 不明 n./な-adj. obscurity/ambiguity/obscure/unknown/unidentified/ignorant/lack of insight\n",
    "    46.かき 下記 n. the following (used to list something below)\n",
    "    47.きそく 規則 n. rules/regulations\n",
    "    48.にゅうきょしゃ 入居者 n. resident/tenant\n",
    "    49.ほる 掘る vt. to dig\n",
    "    50.しつ 質 n. quality\n"
   ]
  },
  {
   "cell_type": "markdown",
   "metadata": {},
   "source": [
    "    51.しょり 処理 n./vt. processing/dealing/to deal with\n",
    "    52.ぎっしり adv. tight/full/tightly/fully\n",
    "    53.たんに 単に adv. merely/simply\n",
    "    54.せまる 迫る vi./vt. to approach/to be imminent/to urge\n",
    "    55.うけたまわる 承る vt. to hear/to know/to receive (a command)/to take (an order)\n",
    "    56.みにくい 醜い い-adj. ugly\n",
    "    57.さわがしい 騒がしい い-adj. noisy\n",
    "    58.すいへい 水平 n. horizontality/horizontally\n",
    "    59.きゅうそく 急速 n./な-adj. rapid\n",
    "    60.たんき 短気 n./な-adj. short temper/impatience/short-tempered/impatient\n",
    "    61.かくべつ 格別 n./な-adj. particular/special/exceptional/particularly\n",
    "    62.てんぽ 店舗 n. shop/store\n",
    "    63.かいせつ 開設 n./vt. establishment/opening/to open/to set up/to establish/to install\n",
    "    64.とうさん 倒産 n./vi. bankruptcy/to be bankrupt\n",
    "    65.せいど 制度 n. system/institution\n",
    "    66.けいひ 経費 n. expense/cost/expenditure\n",
    "    67.せっすい 節水 n./vi. saving water/to save water\n",
    "    68.せつでん 節電 n./vi. power saving/to save electricity\n",
    "    69.ヨガ n. yoga\n",
    "    70.ゆったり adv./vi. comfortable/loose/spacious/relaxed/to relax\n",
    "    71.トレーニング n./vi. training/to train\n",
    "    72.ベース n. base\n",
    "    73.ベテラン n. veteran\n",
    "    74.ロッカー n. locker\n",
    "    75.サークル n. circle/club\n"
   ]
  },
  {
   "cell_type": "markdown",
   "metadata": {},
   "source": [
    "Here’s the formatted table for your new vocabulary:\n",
    "\n",
    "| No. | Japanese (Kanji) | Hiragana         | Romaji     | English Translation                      | Part of Speech | Example Sentence (Japanese)      | Example Sentence (English)               | Example Sentence (Romaji)                 | Notes                              |\n",
    "| --- | ---------------- | ---------------- | ---------- | ---------------------------------------- | -------------- | -------------------------------- | ---------------------------------------- | ----------------------------------------- | ---------------------------------- |\n",
    "| 1   | 停電             | ていでん         | teiden     | power outage/blackout                    | noun/verb      | 昨夜は停電がありました。         | There was a power outage last night.     | Sakuya wa teiden ga arimashita.           | Common in weather-related contexts |\n",
    "| 2   | 断水             | だんすい         | dansui     | water outage/to cut off the water supply | noun/verb      | 明日、断水があります。           | There will be a water outage tomorrow.   | Ashita, dansui ga arimasu.                | Important in utilities             |\n",
    "| 3   | 部署             | ぶしょ           | busho      | one’s post/department/section            | noun           | 彼は新しい部署に移りました。     | He moved to a new department.            | Kare wa atarashii busho ni utsurimashita. | Refers to organizational structure |\n",
    "| 4   | バックアップ     | バックアップ     | bakkappu   | backup/to backup                         | noun/verb      | データのバックアップを取ります。 | I will take a backup of the data.        | Dēta no bakkappu o torimasu.              | Common in IT contexts              |\n",
    "| 5   | 手順             | てじゅん         | tejun      | procedure                                | noun           | 手順を守ってください。           | Please follow the procedure.             | Tejun o mamotte kudasai.                  | Important in processes             |\n",
    "| 6   | 従う             | したがう         | shitagau   | to follow/to obey                        | verb           | 規則に従って行動します。         | I will act according to the rules.       | Kisoku ni shitagatte kōdō shimasu.        | Common in regulations              |\n",
    "| 7   | 流出             | りゅうしゅつ     | ryūshutsu  | outflow/to leak out                      | noun/verb      | 情報の流出が問題です。           | The outflow of information is a problem. | Jōhō no ryūshutsu ga mondai desu.         | Often used in security contexts    |\n",
    "| 8   | 情報管理         | じょうほうかんり | jōhōkanri  | information management                   | noun           | 情報管理は重要です。             | Information management is important.     | Jōhōkanri wa jūyō desu.                   | Relevant in data handling          |\n",
    "| 9   | 方針             | ほうしん         | hōshin     | policy                                   | noun           | 新しい方針が発表されました。     | A new policy has been announced.         | Atarashii hōshin ga happyō saremashita.   | Important in governance            |\n",
    "| 10  | 終了             | しゅうりょう     | shūryō     | end/close/to finish                      | noun/verb      | 仕事が終了しました。             | The work has been completed.             | Shigoto ga shūryō shimashita.             | Common in meetings                 |\n",
    "| 11  | 吠える           | ほえる           | hoeru      | to bark/to roar                          | verb           | 犬が吠えています。               | The dog is barking.                      | Inu ga hoeteimasu.                        | Common in animal behavior          |\n",
    "| 12  | 離婚             | りこん           | rikondai   | divorce/to get divorced                  | noun/verb      | 彼らは離婚しました。             | They got divorced.                       | Karera wa rikon shimashita.               | Related to family law              |\n",
    "| 13  | 決意             | けつい           | ketsui     | determination/to decide                  | noun/verb      | 彼は決意を固めました。           | He made a firm determination.            | Kare wa ketsui o katamemashita.           | Important in personal goals        |\n",
    "| 14  | かえって         | かえって         | kaette     | on the contrary/rather                   | adverb         | かえって混乱しました。           | It rather caused confusion.              | Kaette konran shimashita.                 | Used for contrasting situations    |\n",
    "| 15  | 汚染             | おせん           | osen       | pollution/contamination                  | noun/verb      | 環境汚染が問題です。             | Environmental pollution is a problem.    | Kankyō osen ga mondai desu.               | Important in environmental issues  |\n",
    "| 16  | 海洋             | かいよう         | kaiyō      | ocean                                    | noun           | 海洋は広大です。                 | The ocean is vast.                       | Kaiyō wa kodai desu.                      | Common in geography                |\n",
    "| 17  | 大気汚染         | たいきおせん     | taiki osen | air pollution                            | noun           | 大気汚染が深刻です。             | Air pollution is serious.                | Taiki osen ga shinkoku desu.              | Important in health discussions    |\n",
    "| 18  | 海洋汚染         | かいようおせん   | kaiyō osen | marine pollution                         | noun           | 海洋汚染が増えています。         | Marine pollution is increasing.          | Kaiyō osen ga fueteimasu.                 | Relevant in environmental policies |\n",
    "| 19  | 仲介             | ちゅうかい       | chūkai     | mediation/to mediate                     | noun/verb      | 彼は仲介者です。                 | He is a mediator.                        | Kare wa chūkaisha desu.                   | Common in conflict resolution      |\n",
    "| 20  | 自動             | じどう           | jidō       | automatic                                | na-adjective   | 自動車が好きです。               | I like automatic cars.                   | Jidōsha ga suki desu.                     | Common in technology               |\n",
    "| 21  | 調節             | ちょうせつ       | chōsetsu   | adjustment/regulation                    | noun/verb      | 温度を調節してください。         | Please adjust the temperature.           | Ondo o chōsetsu shite kudasai.            | Important in settings              |\n",
    "| 22  | 契約             | けいやく         | keiyaku    | contract/agreement                       | noun/verb      | 契約を更新しました。             | I renewed the contract.                  | Keiyaku o kōshin shimashita.              | Related to legal documents         |\n",
    "| 23  | 休業             | きゅうぎょう     | kyūgyō     | closing a business/to close a business   | noun/verb      | 店が休業しています。             | The store is closed.                     | Mise ga kyūgyō shiteimasu.                | Common in business contexts        |\n",
    "| 24  | 開会             | かいかい         | kaikai     | opening of a meeting/to convene          | noun/verb      | 開会の挨拶をします。             | I will give the opening remarks.         | Kaikai no aisatsu o shimasu.              | Common in formal events            |\n",
    "| 25  | 一言             | ひとこと         | hitokoto   | a word                                   | noun           | 一言お願いします。               | A word, please.                          | Hitokoto onegaishimasu.                   | Common in requests                 |\n",
    "\n",
    "Let me know if you need anything else!\n"
   ]
  },
  {
   "cell_type": "markdown",
   "metadata": {},
   "source": [
    "Here’s the formatted table for your latest vocabulary:\n",
    "\n",
    "| No. | Japanese (Kanji) | Hiragana       | Romaji         | English Translation                  | Part of Speech    | Example Sentence (Japanese)        | Example Sentence (English)                 | Example Sentence (Romaji)             | Notes                                |\n",
    "| --- | ---------------- | -------------- | -------------- | ------------------------------------ | ----------------- | ---------------------------------- | ------------------------------------------ | ------------------------------------- | ------------------------------------ |\n",
    "| 26  | 指示             | しじ           | shiji          | instructions/to instruct/to direct   | noun/verb         | 指示に従って行動します。           | I will act according to the instructions.  | Shiji ni shitagatte kōdō shimasu.     | Common in workplace settings         |\n",
    "| 27  | 避難             | ひなん         | hinan          | evacuation/refuge/to take refuge     | noun/verb         | 避難が必要です。                   | Evacuation is necessary.                   | Hinen ga hitsuyō desu.                | Relevant in emergencies              |\n",
    "| 28  | 豊か             | ゆたか         | yutaka         | abundant/rich                        | na-adjective      | 豊かな自然があります。             | There is abundant nature.                  | Yutakana shizen ga arimasu.           | Used in describing resources         |\n",
    "| 29  | 豊富             | ほうふ         | hōfu           | wealth/plenty/rich/abundant          | noun/na-adjective | 豊富な経験があります。             | I have abundant experience.                | Hōfu na keiken ga arimasu.            | Common in discussing qualities       |\n",
    "| 30  | 一層             | いっそう       | issō           | more/even more                       | adverb            | 一層努力が必要です。               | More effort is needed.                     | Issō doryoku ga hitsuyō desu.         | Emphasizes an increase               |\n",
    "| 31  | 相互             | そうご         | sōgo           | mutual                               | noun              | 相互に理解しましょう。             | Let's understand each other mutually.      | Sōgo ni rikai shimashou.              | Often used in relationships          |\n",
    "| 32  | 苛める           | いじめる       | ijimeru        | to torment/to tease/to bully         | verb              | 彼を苛めるのはやめてください。     | Please stop bullying him.                  | Kare o ijimeru no wa yamete kudasai.  | Important in discussions on bullying |\n",
    "| 33  | 余計             | よけい         | yokē           | extra/unnecessary                    | na-adjective      | 余計なものは要りません。           | Extra things are not needed.               | Yokei na mono wa irimasen.            | Used for redundancy                  |\n",
    "| 34  | 才能             | さいのう       | sainō          | talent                               | noun              | 彼女には才能があります。           | She has talent.                            | Kanojo ni wa sainō ga arimasu.        | Common in discussions on skills      |\n",
    "| 35  | 採用             | さいよう       | saiyō          | adoption/employment/to adopt         | noun/verb         | 新しい人を採用します。             | I will employ a new person.                | Atarashii hito o saiyō shimasu.       | Relevant in hiring contexts          |\n",
    "| 36  | 定量             | ていりょう     | teiryō         | fixed quantity                       | noun              | 定量が設定されています。           | A fixed quantity is set.                   | Teiryō ga settei sareteimasu.         | Often used in measurements           |\n",
    "| 37  | 時下             | じか           | jika           | nowadays (literary expression)       | noun              | 時下、ますます便利になっています。 | Nowadays, it is becoming more convenient.  | Jika, masumasu benri ni natteimasu.   | Formal language                      |\n",
    "| 38  | 点検             | てんけん       | tenken         | inspection/to inspect                | noun/verb         | 車の点検を行います。               | I will perform an inspection on the car.   | Kuruma no tenken o okonaimasu.        | Common in maintenance contexts       |\n",
    "| 39  | 精密機械         | せいみつきかい | seimitsu kikai | precision machine                    | noun              | 精密機械を扱っています。           | I handle precision machines.               | Seimitsu kikai o atsukatteimasu.      | Important in engineering             |\n",
    "| 40  | 出社             | しゅっしゃ     | shussha        | going to work/to go to work          | noun/verb         | 毎日出社します。                   | I go to work every day.                    | Mainichi shussha shimasu.             | Common in employment discussions     |\n",
    "| 41  | 退社             | たいしゃ       | taisha         | leaving work/to leave work           | noun/verb         | 仕事の後に退社します。             | I leave work after finishing my job.       | Shigoto no ato ni taisha shimasu.     | Common in workplace settings         |\n",
    "| 42  | 予め             | あらかじめ     | arakajime      | beforehand/in advance                | adverb            | 予め連絡してください。             | Please contact me in advance.              | Arakajime renraku shite kudasai.      | Important in planning                |\n",
    "| 43  | 前後             | ぜんご         | zengo          | in front and behind/before and after | noun              | 前後の時間を考慮してください。     | Please consider the time before and after. | Zengo no jikan o kōryo shite kudasai. | Common in time discussions           |\n",
    "| 44  | 清祥             | せいしょう     | seishō         | your good health and happiness       | noun              | 清祥をお祈りします。               | I wish you good health and happiness.      | Seishō o oinori shimasu.              | Often used in letters                |\n",
    "| 45  | 不明             | ふめい         | fummei         | obscurity/ambiguity/unknown          | na-adjective      | 不明な点があります。               | There are unclear points.                  | Fumei na ten ga arimasu.              | Common in clarifications             |\n",
    "| 46  | 下記             | かき           | kaki           | the following (used to list)         | noun              | 下記の情報をご確認ください。       | Please check the following information.    | Kaki no jōhō o go kakunin kudasai.    | Common in documentation              |\n",
    "| 47  | 規則             | きそく         | kisoku         | rules/regulations                    | noun              | 規則を守ることが重要です。         | It is important to follow the rules.       | Kisoku o mamoru koto ga jūyō desu.    | Important in governance              |\n",
    "| 48  | 入居者           | にゅうきょしゃ | nyūkyosha      | resident/tenant                      | noun              | 入居者の情報が必要です。           | Tenant information is necessary.           | Nyūkyosha no jōhō ga hitsuyō desu.    | Relevant in housing discussions      |\n",
    "| 49  | 掘る             | ほる           | horu           | to dig                               | verb              | 地面を掘ります。                   | I will dig the ground.                     | Jimen o horimasu.                     | Common in construction               |\n",
    "| 50  | 質               | しつ           | shitsu         | quality                              | noun              | その製品の質は高いです。           | The quality of the product is high.        | Sono seihin no shitsu wa takai desu.  | Important in evaluations             |\n",
    "\n",
    "Let me know if you need anything else!\n"
   ]
  },
  {
   "cell_type": "markdown",
   "metadata": {},
   "source": [
    "Here’s the formatted table for your new set of vocabulary:\n",
    "\n",
    "| No. | Japanese (Kanji) | Hiragana     | Romaji      | English Translation                    | Part of Speech    | Example Sentence (Japanese)    | Example Sentence (English)              | Example Sentence (Romaji)                | Notes                              |\n",
    "| --- | ---------------- | ------------ | ----------- | -------------------------------------- | ----------------- | ------------------------------ | --------------------------------------- | ---------------------------------------- | ---------------------------------- |\n",
    "| 51  | 処理             | しょり       | shori       | processing/dealing/to deal with        | noun/verb         | データを処理します。           | I will process the data.                | Dēta o shori shimasu.                    | Common in IT and administration    |\n",
    "| 52  | ぎっしり         | ぎっしり     | gisshiri    | tight/full/tightly/fully               | adverb            | 箱がぎっしり詰まっています。   | The box is packed tightly.              | Hako ga gisshiri tsumatteimasu.          | Used for describing fullness       |\n",
    "| 53  | 単に             | たんに       | tan ni      | merely/simply                          | adverb            | 単に興味があります。           | I am simply interested.                 | Tan ni kyōmi ga arimasu.                 | Used to downplay or simplify       |\n",
    "| 54  | 迫る             | せまる       | semaru      | to approach/to be imminent/to urge     | verb              | 締切が迫っています。           | The deadline is approaching.            | Shimeki ga sematteimasu.                 | Common in time-sensitive contexts  |\n",
    "| 55  | 承る             | うけたまわる | uketamawaru | to hear/to know/to receive (a command) | verb              | ご注文を承ります。             | I will take your order.                 | Go chūmon o uketamawarimasu.             | Used in formal contexts            |\n",
    "| 56  | 醜い             | みにくい     | minikui     | ugly                                   | na-adjective      | 醜い景色です。                 | It is an ugly scenery.                  | Minikui keshiki desu.                    | Common in aesthetic discussions    |\n",
    "| 57  | 騒がしい         | さわがしい   | sawagashii  | noisy                                  | na-adjective      | 騒がしい場所です。             | It is a noisy place.                    | Sawagashii basho desu.                   | Used for loud environments         |\n",
    "| 58  | 水平             | すいへい     | suihei      | horizontality/horizontally             | noun              | 水平を保ってください。         | Please keep it horizontal.              | Suihei o tamotte kudasai.                | Relevant in engineering contexts   |\n",
    "| 59  | 急速             | きゅうそく   | kyūsoku     | rapid                                  | noun/na-adjective | 急速に成長しています。         | It is growing rapidly.                  | Kyūsoku ni seichō shiteimasu.            | Used in discussions of change      |\n",
    "| 60  | 短気             | たんき       | tanki       | short temper/impatience                | noun/na-adjective | 彼は短気です。                 | He has a short temper.                  | Kare wa tanki desu.                      | Common in personality descriptions |\n",
    "| 61  | 格別             | かくべつ     | kakubetsu   | particular/special/exceptional         | na-adjective      | 格別な体験でした。             | It was a special experience.            | Kakubetsu na taiken deshita.             | Used to emphasize uniqueness       |\n",
    "| 62  | 店舗             | てんぽ       | tenpo       | shop/store                             | noun              | 新しい店舗がオープンします。   | A new store will open.                  | Atarashii tenpo ga ōpun shimasu.         | Common in retail contexts          |\n",
    "| 63  | 開設             | かいせつ     | kaisetsu    | establishment/opening                  | noun/verb         | 新しい事務所を開設します。     | I will establish a new office.          | Atarashii jimusho o kaisetsu shimasu.    | Common in business settings        |\n",
    "| 64  | 倒産             | とうさん     | tōsan       | bankruptcy/to be bankrupt              | noun/verb         | 会社が倒産しました。           | The company went bankrupt.              | Kaisha ga tōsan shimashita.              | Important in financial discussions |\n",
    "| 65  | 制度             | せいど       | seido       | system/institution                     | noun              | 新しい制度が導入されます。     | A new system will be introduced.        | Atarashii seido ga dōnyū saremasu.       | Used in governance and policy      |\n",
    "| 66  | 経費             | けいひ       | keihi       | expense/cost/expenditure               | noun              | 経費を削減する必要があります。 | We need to reduce expenses.             | Keihi o sakugen suru hitsuyō ga arimasu. | Relevant in budgeting discussions  |\n",
    "| 67  | 節水             | せっすい     | sessui      | saving water                           | noun/verb         | 節水が大切です。               | Saving water is important.              | Sessui ga taisetsu desu.                 | Relevant in environmental contexts |\n",
    "| 68  | 節電             | せつでん     | setsuden    | power saving                           | noun/verb         | 節電を心がけています。         | I am conscious of saving electricity.   | Setsuden o kokorogake teimasu.           | Relevant in energy conservation    |\n",
    "| 69  | ヨガ             | よが         | yoga        | yoga                                   | noun              | ヨガをしています。             | I practice yoga.                        | Yoga o shiteimasu.                       | Common in fitness discussions      |\n",
    "| 70  | ゆったり         | ゆったり     | yuttari     | comfortable/loose/spacious/relaxed     | adverb/verb       | ゆったりとした服を着ています。 | I am wearing comfortable clothes.       | Yuttari to shita fuku o kiteimasu.       | Used to describe comfort           |\n",
    "| 71  | トレーニング     | トレーニング | torēningu   | training/to train                      | noun/verb         | トレーニングを始めます。       | I will start training.                  | Torēningu o hajimemasu.                  | Common in sports contexts          |\n",
    "| 72  | ベース           | ベース       | bēsu        | base                                   | noun              | このプロジェクトのベースです。 | This is the base of the project.        | Kono purojekuto no bēsu desu.            | Used in various contexts           |\n",
    "| 73  | ベテラン         | ベテラン     | beteran     | veteran                                | noun              | 彼はベテランのエンジニアです。 | He is a veteran engineer.               | Kare wa beteran no enjinia desu.         | Common in career discussions       |\n",
    "| 74  | ロッカー         | ロッカー     | rokkā       | locker                                 | noun              | ロッカーに荷物を入れます。     | I will put my belongings in the locker. | Rokkā ni nimotsu o iremasu.              | Common in schools and gyms         |\n",
    "| 75  | サークル         | サークル     | sākaru      | circle/club                            | noun              | 大学のサークルに参加します。   | I will join a university club.          | Daigaku no sākaru ni sanka shimasu.      | Used in social contexts            |\n",
    "\n",
    "Let me know if you need any more help!\n"
   ]
  },
  {
   "cell_type": "markdown",
   "metadata": {},
   "source": [
    "---"
   ]
  },
  {
   "cell_type": "markdown",
   "metadata": {},
   "source": [
    "# Conversation"
   ]
  },
  {
   "cell_type": "markdown",
   "metadata": {},
   "source": [
    "金 :お 疲 れ 様 です。\n",
    "\n",
    "安 藤 :お 疲 れ 様 です。\n",
    "\n",
    "金:あれ、ラジさんは?\n",
    "\n",
    "安 藤 :ラジさんはさっき 山 下 さんからのメモを見たとたん、急 いで 外 に出かけました。\n",
    "\n",
    "金 :そっか。 工 場 の 件 かな。 しばらく 戻 ってこないね。\n",
    "\n",
    "安 藤 :どうかしましたか。\n",
    "\n",
    "金 :ビルの管 理 会 社 から明日の 停 電 のお知らせが 届 いてて、\n",
    "    ラジさんに 各 部署に 連 絡 してもらおうかと 思 ったんだけど、\n",
    "    工 場 に行ってるなら、 帰 りが 遅 くなりそうね。\n",
    "\n",
    "安 藤 :「海 外 部 、生 産 部 に 加 えて、人事部の 階 で 停 電 を 行 います。」と\n",
    "    書いてありますね。 急 いで知らせたほうがいいので、\n",
    "    私 から 皆 さんに 連 絡 しましょうか。\n",
    "\n",
    "金 :ありがとう。 助 かるわ。 全 部 署 への 連 絡 をお 願 いね。\n",
    "\n",
    "安 藤 :はい、わかりました。じゃあ、みんなにメールを入れます。\n",
    "\n",
    "金 : 後 、 停 電 にあたっての注 意 事 項 もメールに入れといてね。特 にデータのバックアップについて。\n",
    "\n",
    "安 藤 :はい。 会 社 が決めた 手 順 に 従 って、バックアップを行 わなければならないことをみんなに 伝 えます。\n",
    "\n",
    "金 :ありがとう。 前 回 は 何 人 かがバックアップをしなかったばかりに、\n",
    "    いくつかデータが見つからなかったこともあって。\n",
    "    それに、勝手な 手 順 でバックアップしたら、大事な 情 報 が\n",
    "    流 出 しかねないからね。\n",
    "\n",
    "安 藤 :そうですね。 情 報 管 理 についても気をつけるよう、メールに 書いておきます。"
   ]
  },
  {
   "cell_type": "markdown",
   "metadata": {},
   "source": [
    "Here's the formatted table based on the conversation you provided, with no kanji in the Hiragana column:\n",
    "\n",
    "| Speaker | Japanese (Hiragana)                                                                                                                                                            | Japanese (Kanji)                                                                                                                                   | English Translation                                                                                                                                                                            | Romaji                                                                                                                                                                                         | Notes                                                     |\n",
    "| ------- | ------------------------------------------------------------------------------------------------------------------------------------------------------------------------------ | -------------------------------------------------------------------------------------------------------------------------------------------------- | ---------------------------------------------------------------------------------------------------------------------------------------------------------------------------------------------- | ---------------------------------------------------------------------------------------------------------------------------------------------------------------------------------------------- | --------------------------------------------------------- |\n",
    "| 金      | おつかれさまです。                                                                                                                                                             | お疲れ様です。                                                                                                                                     | Thank you for your hard work.                                                                                                                                                                  | Otsukaresama desu.                                                                                                                                                                             | A common greeting to acknowledge someone's effort.        |\n",
    "| 安藤    | おつかれさまです。                                                                                                                                                             | お疲れ様です。                                                                                                                                     | Thank you for your hard work.                                                                                                                                                                  | Otsukaresama desu.                                                                                                                                                                             | Same as above.                                            |\n",
    "| 金      | あれ、ラジさんは?                                                                                                                                                              | あれ、ラジさんは?                                                                                                                                  | Hey, where's Raj?                                                                                                                                                                              | Are, Raji-san wa?                                                                                                                                                                              | _ラジさん_ (Raji-san) is a person's name.                 |\n",
    "| 安藤    | ラジさんはさっきやましたさんからのメモをみたとたん、いそいでそとにでかけました。                                                                                               | ラジさんはさっき山下さんからのメモを見たとたん、急いで外に出かけました。                                                                           | Raj saw a memo from Yamashita just now and rushed out.                                                                                                                                         | Raji-san wa sakki Yamashita-san kara no memo wo mita to tan, isoide soto ni dekakemashita.                                                                                                     | _急いで_ (isoide) means \"in a hurry.\"                     |\n",
    "| 金      | そっか。こうばのけんかな。しばらくもどってこないね。                                                                                                                           | そっか。工場の件かな。しばらく戻ってこないね。                                                                                                     | I see. It’s probably about the factory. He won’t be back for a while.                                                                                                                          | Sokka. Koujou no ken kana. Shibaraku modotte konai ne.                                                                                                                                         | _工場_ (koujou) means \"factory.\"                          |\n",
    "| 安藤    | どうかしましたか。                                                                                                                                                             | どうかしましたか。                                                                                                                                 | Is something wrong?                                                                                                                                                                            | Douka shimashita ka?                                                                                                                                                                           | An expression of concern.                                 |\n",
    "| 金      | ビルのかんりかいしゃからあすのていでんのおしらせがとどいてて、ラジさんにかくぶしょにれんらくしてもらおうかとおもったんだけど、こうばにいってるなら、かえりがおそくなりそうね。 | ビルの管理会社から明日の停電のお知らせが届いてて、ラジさんに各部署に連絡してもらおうかと思ったんだけど、工場に行ってるなら、帰りが遅くなりそうね。 | I received a notice from the building management company about a power outage tomorrow, and I thought I’d have Raj contact each department, but if he’s at the factory, he might be back late. | Biru no kanri gaisha kara ashita no teiden no oshirase ga todoite te, Raji-san ni kaku bushou ni renraku shite morau ka to omotta n da kedo, koujou ni itteru nara, kaeri ga osoku narisou ne. | _停電_ (teiden) means \"power outage.\"                     |\n",
    "| 安藤    | 「かいがいぶ、せいさんぶにくわえて、じんじぶのかいでていでんをおこないます。」とかいてありますね。いそいでしらせたほうがいいので、わたしからみなさんにれんらくしましょうか。   | 「海外部、生産部に加えて、人事部の階で停電を行います。」と書いてありますね。急いで知らせたほうがいいので、私から皆さんに連絡しましょうか。         | It says, \"The outage will occur on the floor of the HR department, as well as in the overseas and production departments.\" We should notify everyone quickly. Should I reach out?              | \"Kaigai bu, seisan bu ni kuwaete, jinjibu no kai de teiden wo okonaimasu.\" to kaite arimasu ne. Isoide shiraseta hou ga ii node, watashi kara minasan ni renraku shimashou ka.                 | _加えて_ (kuwaete) means \"in addition to.\"                |\n",
    "| 金      | ありがとう。たすかるわ。ぜんぶしょへのれんらくをおねがいね。                                                                                                                   | ありがとう。助かるわ。全部署への連絡をお願いね。                                                                                                   | Thank you. That helps a lot. Please contact all departments.                                                                                                                                   | Arigatou. Tasukaru wa. Zen bushou e no renraku wo onegai ne.                                                                                                                                   | _助かる_ (tasukaru) means \"to be helpful.\"                |\n",
    "| 安藤    | はい、わかりました。じゃあ、みんなにメールをいれます。                                                                                                                         | はい、わかりました。じゃあ、みんなにメールを入れます。                                                                                             | Yes, understood. I’ll email everyone then.                                                                                                                                                     | Hai, wakarimashita. Jaa, minna ni meeru wo iremasu.                                                                                                                                            | Acknowledgment of task.                                   |\n",
    "| 金      | あと、ていでんにあたってのちゅういじこうもメールにいれておいてね。とくにデータのバックアップについて。                                                                         | 後、停電にあたっての注意事項もメールに入れといてね。特にデータのバックアップについて。                                                             | Also, please include the notes regarding the power outage in the email, especially about data backups.                                                                                         | Ato, teiden ni atatte no chuui jikou mo meeru ni irete oite ne. Toku ni deeta no bakkuappu ni tsuite.                                                                                          | _注意事項_ (chuui jikou) means \"precautions.\"             |\n",
    "| 安藤    | はい。かいしゃがきめたてじゅんにしたがって、バックアップをおこなわなければならないことをみんなにつたえます。                                                                   | はい。会社が決めた手順に従って、バックアップを行わなければならないことを皆に伝えます。                                                             | Yes. I’ll inform everyone that they must follow the company’s established procedures for backups.                                                                                              | Hai. Kaisha ga kimeta tejun ni shitagatte, bakkuappu wo okonawanakereba naranai koto wo minna ni tsutaemasu.                                                                                   | _手順_ (tejun) means \"procedure.\"                         |\n",
    "| 金      | ありがとう。ぜんかいはなんにんかがバックアップをしなかったばかりに、いくつかデータがみつからなかったこともあって。                                                             | ありがとう。前回は何人かがバックアップをしなかったばかりに、いくつかデータが見つからなかったこともあって。                                         | Thank you. Last time, because some people didn’t back up, several pieces of data were lost.                                                                                                    | Arigatou. Zenkai wa nan-nin ka ga bakkuappu wo shinakatta bakari ni, ikutsuka deeta ga mitsukaranakatta koto mo atte.                                                                          | _前回_ (zenkai) means \"last time.\"                        |\n",
    "| 金      | それに、かってなてじゅんでバックアップしたら、だいじなじょうほうがりゅうしゅつしかねないからね。                                                                               | それに、勝手な手順でバックアップしたら、大事な情報が流出しかねないからね。                                                                         | Also, if backups are done in a haphazard way, important information could leak out.                                                                                                            | Sore ni, katte na tejun de bakkuappu shitara, daiji na jouhou ga ryuushutsu shikanenai kara ne.                                                                                                | _流出_ (ryuushutsu) means \"leak.\"                         |\n",
    "| 安藤    | そうですね。じょうほうかんりについてもきをつけるよう、メールにかいておきます。                                                                                                 | そうですね。情報管理についても気をつけるよう、メールに書いておきます。                                                                             | That’s right. I’ll also note in the email to be careful about information management.                                                                                                          | Sou desu ne. Jouhou kanri ni tsuite mo ki wo tsukeru you, meeru ni kaite okimasu.                                                                                                              | _情報管理_ (jouhou kanri) means \"information management.\" |\n",
    "\n",
    "If you need any changes or more information, just let me know!\n"
   ]
  },
  {
   "cell_type": "markdown",
   "metadata": {},
   "source": [
    "---"
   ]
  },
  {
   "cell_type": "markdown",
   "metadata": {},
   "source": [
    "# Grammar 1\n"
   ]
  },
  {
   "cell_type": "markdown",
   "metadata": {},
   "source": []
  },
  {
   "cell_type": "markdown",
   "metadata": {},
   "source": []
  },
  {
   "cell_type": "markdown",
   "metadata": {},
   "source": []
  },
  {
   "cell_type": "markdown",
   "metadata": {},
   "source": [
    "---\n",
    "---"
   ]
  },
  {
   "cell_type": "markdown",
   "metadata": {},
   "source": [
    "# Grammar 2\n"
   ]
  },
  {
   "cell_type": "markdown",
   "metadata": {},
   "source": []
  },
  {
   "cell_type": "markdown",
   "metadata": {},
   "source": []
  },
  {
   "cell_type": "markdown",
   "metadata": {},
   "source": []
  },
  {
   "cell_type": "markdown",
   "metadata": {},
   "source": [
    "---\n",
    "---"
   ]
  },
  {
   "cell_type": "markdown",
   "metadata": {},
   "source": [
    "# Grammar 3\n"
   ]
  },
  {
   "cell_type": "markdown",
   "metadata": {},
   "source": []
  },
  {
   "cell_type": "markdown",
   "metadata": {},
   "source": []
  },
  {
   "cell_type": "markdown",
   "metadata": {},
   "source": []
  },
  {
   "cell_type": "markdown",
   "metadata": {},
   "source": [
    "---\n",
    "---"
   ]
  },
  {
   "cell_type": "markdown",
   "metadata": {},
   "source": [
    "# Grammar 4\n"
   ]
  },
  {
   "cell_type": "markdown",
   "metadata": {},
   "source": []
  },
  {
   "cell_type": "markdown",
   "metadata": {},
   "source": []
  },
  {
   "cell_type": "markdown",
   "metadata": {},
   "source": []
  },
  {
   "cell_type": "markdown",
   "metadata": {},
   "source": [
    "---\n",
    "---"
   ]
  },
  {
   "cell_type": "markdown",
   "metadata": {},
   "source": [
    "# Grammar 5\n"
   ]
  },
  {
   "cell_type": "markdown",
   "metadata": {},
   "source": []
  },
  {
   "cell_type": "markdown",
   "metadata": {},
   "source": []
  },
  {
   "cell_type": "markdown",
   "metadata": {},
   "source": []
  },
  {
   "cell_type": "markdown",
   "metadata": {},
   "source": [
    "---\n",
    "---"
   ]
  },
  {
   "cell_type": "markdown",
   "metadata": {},
   "source": [
    "# Grammar 6\n"
   ]
  },
  {
   "cell_type": "markdown",
   "metadata": {},
   "source": []
  },
  {
   "cell_type": "markdown",
   "metadata": {},
   "source": []
  },
  {
   "cell_type": "markdown",
   "metadata": {},
   "source": []
  },
  {
   "cell_type": "markdown",
   "metadata": {},
   "source": [
    "---\n",
    "---"
   ]
  },
  {
   "cell_type": "markdown",
   "metadata": {},
   "source": [
    "# Grammar 7\n"
   ]
  },
  {
   "cell_type": "markdown",
   "metadata": {},
   "source": []
  },
  {
   "cell_type": "markdown",
   "metadata": {},
   "source": []
  },
  {
   "cell_type": "markdown",
   "metadata": {},
   "source": []
  },
  {
   "cell_type": "markdown",
   "metadata": {},
   "source": [
    "---\n",
    "---"
   ]
  },
  {
   "cell_type": "markdown",
   "metadata": {},
   "source": [
    "# Grammar 8\n"
   ]
  },
  {
   "cell_type": "markdown",
   "metadata": {},
   "source": []
  },
  {
   "cell_type": "markdown",
   "metadata": {},
   "source": []
  },
  {
   "cell_type": "markdown",
   "metadata": {},
   "source": []
  },
  {
   "cell_type": "markdown",
   "metadata": {},
   "source": [
    "---\n",
    "---"
   ]
  },
  {
   "cell_type": "markdown",
   "metadata": {},
   "source": [
    "# Grammar 9\n"
   ]
  },
  {
   "cell_type": "markdown",
   "metadata": {},
   "source": []
  },
  {
   "cell_type": "markdown",
   "metadata": {},
   "source": []
  },
  {
   "cell_type": "markdown",
   "metadata": {},
   "source": []
  },
  {
   "cell_type": "markdown",
   "metadata": {},
   "source": [
    "---\n",
    "---"
   ]
  },
  {
   "cell_type": "markdown",
   "metadata": {},
   "source": [
    "# Grammar 10\n"
   ]
  },
  {
   "cell_type": "markdown",
   "metadata": {},
   "source": []
  },
  {
   "cell_type": "markdown",
   "metadata": {},
   "source": []
  },
  {
   "cell_type": "markdown",
   "metadata": {},
   "source": []
  },
  {
   "cell_type": "markdown",
   "metadata": {},
   "source": [
    "---\n",
    "---"
   ]
  },
  {
   "cell_type": "markdown",
   "metadata": {},
   "source": [
    "# Grammar 11\n"
   ]
  },
  {
   "cell_type": "markdown",
   "metadata": {},
   "source": []
  },
  {
   "cell_type": "markdown",
   "metadata": {},
   "source": []
  },
  {
   "cell_type": "markdown",
   "metadata": {},
   "source": []
  },
  {
   "cell_type": "markdown",
   "metadata": {},
   "source": [
    "---\n",
    "---"
   ]
  },
  {
   "cell_type": "markdown",
   "metadata": {},
   "source": [
    "# Grammar 12\n"
   ]
  },
  {
   "cell_type": "markdown",
   "metadata": {},
   "source": []
  },
  {
   "cell_type": "markdown",
   "metadata": {},
   "source": []
  },
  {
   "cell_type": "markdown",
   "metadata": {},
   "source": []
  },
  {
   "cell_type": "markdown",
   "metadata": {},
   "source": [
    "---\n",
    "---"
   ]
  }
 ],
 "metadata": {
  "language_info": {
   "name": "python"
  }
 },
 "nbformat": 4,
 "nbformat_minor": 2
}
