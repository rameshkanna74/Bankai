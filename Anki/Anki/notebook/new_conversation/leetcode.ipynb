{
 "cells": [
  {
   "cell_type": "markdown",
   "metadata": {},
   "source": [
    "Technical Screen:\n",
    "\n",
    "Basic Calculator II - https://leetcode.com/problems/basic-calculator-ii/description/ - Try to solve without using a stack to achieve O(1) space complexity.\n",
    "\n",
    "Minimum Remove to Make Valid Parentheses - https://leetcode.com/problems/minimum-remove-to-make-valid-parentheses/ - Try to solve without using a stack.\n",
    "\n",
    "Onsite:\n",
    "\n",
    "coding:\n",
    "https://leetcode.com/problems/palindrome-permutation/\n",
    "\n",
    "https://leetcode.com/problems/insert-delete-getrandom-o1/\n",
    "\n",
    "https://leetcode.com/problems/valid-palindrome-ii/description/ Follow-up: Could it work if we can remove up to (n) characters instead of just one?\n",
    "\n",
    "https://leetcode.com/problems/vertical-order-traversal-of-a-binary-tree/description/ - Interviewer suggested two possible improvements, which I think may not actually work. 1: Using BFS so I don't need to track row positions; 2: Rather than sorting, keep track of the min and max column numbers and iterate between them. I tried these briefly after the interview, but they didn’t seem effective.\n",
    "\n",
    "Architecture:\n",
    "Create a feed aggregator that collects all social media into one combined feed.\n",
    "\n",
    "Got rejected after a week and had to email the recruiter to get a response. I was surprised because I thought the interview went well; I solved all the coding questions with optimal solutions. The behavioral interview was quick, but the interviewer seemed satisfied. I walked through a solid design for the system architecture question, discussed all tradeoffs, and incorporated the interviewer’s suggestions for improvement."
   ]
  },
  {
   "cell_type": "markdown",
   "metadata": {},
   "source": []
  },
  {
   "cell_type": "markdown",
   "metadata": {},
   "source": []
  }
 ],
 "metadata": {
  "language_info": {
   "name": "python"
  }
 },
 "nbformat": 4,
 "nbformat_minor": 2
}
