{
 "cells": [
  {
   "cell_type": "markdown",
   "metadata": {},
   "source": [
    "# Vocabulary"
   ]
  },
  {
   "cell_type": "markdown",
   "metadata": {},
   "source": [
    "    1.ぼうねんかい 忘年会 n. year-end party\n",
    "    2.しんねんかい 新年会 n. new year party\n",
    "    3.よやく 予約 n./G3 reservation/to book\n",
    "    4.はなす 話す G1 to talk/to speak\n",
    "    5.しつもん 質問 n./G question/to ask a question\n",
    "    6.もんだい 問題 n. problem/question\n",
    "    7.こたえる 答える G2 to answer\n",
    "    8.こたえ 答え n. answer\n",
    "    9.おく 置く G1 to put down\n",
    "    10.うる 売る G1 to sell\n",
    "    11.たのむ 頼む G1 to ask/request\n",
    "    12.よぶ 呼ぶ G1 to call\n",
    "    13.こまる 困る G1 to have trouble\n",
    "    14.あぶない 危ない い-adj. dangerous\n",
    "    15.あかるい 明るい い-adj. bright\n",
    "    16.くらい 暗い い-adj. dark\n",
    "    17.でんわかいぎ 電話会議 n. conference call\n",
    "    18.タクシー n. taxi\n",
    "    19.つとめる 勤める G2 to work\n",
    "    20.つぎ 次 n. next\n",
    "    21.クラス n. class\n",
    "    22.テスト n. test\n",
    "    23.せいと 生徒 n. student\n",
    "    24.てつだう 手伝う G1 to help\n",
    "    25.たつ 立つ G1 to stand\n",
    "    26.みせる 見せる G2 to show\n"
   ]
  },
  {
   "cell_type": "markdown",
   "metadata": {},
   "source": [
    "    27.しょうがくせい 小学生 n. elementary school student\n",
    "    28.ちゅうがくせい 中学生 n. junior high school student\n",
    "    29.こうこうせい 高校生 n. high school student\n",
    "    30.だいがくせい 大学生 n. university student\n",
    "    31.~ねんせい ~年生 suffix student in~year\n",
    "    32.でんき 電気 n. electric light\n",
    "    33.つける 点ける G2 to turn on\n",
    "    34.けす 消す G1 to turn off/erase\n",
    "    35.しゅっせき 出席 n./G3 attendance/to attend\n",
    "    36.たんご 単語 n. word\n",
    "    37.おぼえる 覚える G2 to remember\n",
    "    38.わすれる 忘れる G2 to forget\n",
    "    39.けいたいでんわ 携帯電話 n. cellphone\n",
    "    40 つかう 使う G1 to use\n",
    "    41.うまれる 生まれる G2 to be born\n",
    "    42.はじめて adv. first time (doing something)\n",
    "    43.みんな n. everyone\n",
    "    44.ほか 他 n. other\n",
    "    45.~かい ~回 counters counters for frequency\n",
    "    46.~ひき ~匹 counters counters for small animals, fish and insects\n",
    "    47.~はい ~杯 counters counters for drinks in cups and glasses\n",
    "    48.~ほん ~本 counters counters for thin and long things\n",
    "    49.~さつ ~冊 counters counters for books\n",
    "    50.~だい ~台 counters counters for machines and vehicles\n",
    "    51.テープ n. tape\n",
    "    52.あげる 上げる G2 to raise/lift (up)\n"
   ]
  },
  {
   "cell_type": "markdown",
   "metadata": {},
   "source": [
    "Here’s the formatted table for the new vocabulary you provided:\n",
    "\n",
    "---\n",
    "\n",
    "| No. | Japanese (Kanji) | Hiragana     | Romaji      | English Translation        | Part of Speech | Example Sentence (Japanese)      | Example Sentence (English)             | Example Sentence (Romaji)              | Notes                                   |\n",
    "| --- | ---------------- | ------------ | ----------- | -------------------------- | -------------- | -------------------------------- | -------------------------------------- | -------------------------------------- | --------------------------------------- |\n",
    "| 1   | 忘年会           | ぼうねんかい | bōnenkai    | year-end party             | n.             | 忘年会に参加します。             | I will attend the year-end party.      | Bōnenkai ni sanka shimasu.             | Traditional Japanese gathering          |\n",
    "| 2   | 新年会           | しんねんかい | shinnenkai  | new year party             | n.             | 新年会の準備をしています。       | I am preparing for the new year party. | Shinnenkai no junbi o shiteimasu.      | Celebratory event for the new year      |\n",
    "| 3   | 予約             | よやく       | yoyaku      | reservation/to book        | n./G3          | ホテルを予約しました。           | I made a hotel reservation.            | Hoteru o yoyaku shimashita.            | Common in travel and dining             |\n",
    "| 4   | 話す             | はなす       | hanasu      | to talk/to speak           | G1             | 友達と話しています。             | I am talking with a friend.            | Tomodachi to hanashiteimasu.           | Everyday communication                  |\n",
    "| 5   | 質問             | しつもん     | shitsumon   | question/to ask a question | n./G           | 質問がありますか？               | Do you have any questions?             | Shitsumon ga arimasu ka?               | Used in learning contexts               |\n",
    "| 6   | 問題             | もんだい     | mondai      | problem/question           | n.             | この問題を解いてください。       | Please solve this problem.             | Kono mondai o toite kudasai.           | Common in academics and discussions     |\n",
    "| 7   | 答える           | こたえる     | kotaeru     | to answer                  | G2             | 質問に答えました。               | I answered the question.               | Shitsumon ni kotaemashita.             | Refers to providing a response          |\n",
    "| 8   | 答え             | こたえ       | kotae       | answer                     | n.             | 答えがわかりません。             | I do not understand the answer.        | Kotae ga wakarimasen.                  | Result of a question                    |\n",
    "| 9   | 置く             | おく         | oku         | to put down                | G1             | 本をテーブルに置きました。       | I put the book on the table.           | Hon o tēburu ni okimashita.            | Common action                           |\n",
    "| 10  | 売る             | うる         | uru         | to sell                    | G1             | 店で本を売っています。           | I am selling books at the store.       | Mise de hon o utteimasu.               | Related to commerce                     |\n",
    "| 11  | 頼む             | たのむ       | tanomu      | to ask/request             | G1             | 友達に手伝いを頼みました。       | I asked my friend for help.            | Tomodachi ni tetsudai o tanomimashita. | Common in seeking assistance            |\n",
    "| 12  | 呼ぶ             | よぶ         | yobu        | to call                    | G1             | 先生を呼びました。               | I called the teacher.                  | Sensei o yobimashita.                  | Refers to calling someone               |\n",
    "| 13  | 困る             | こまる       | komaru      | to have trouble            | G1             | 困っています。                   | I am having trouble.                   | Komatteimasu.                          | Used when facing difficulties           |\n",
    "| 14  | 危ない           | あぶない     | abunai      | dangerous                  | い-adj.        | 危ない場所に行かないでください。 | Please do not go to dangerous places.  | Abunai basho ni ikanaide kudasai.      | Safety-related term                     |\n",
    "| 15  | 明るい           | あかるい     | akarui      | bright                     | い-adj.        | 明るい部屋が好きです。           | I like bright rooms.                   | Akarui heya ga suki desu.              | Refers to light and positivity          |\n",
    "| 16  | 暗い             | くらい       | kurai       | dark                       | い-adj.        | 暗い場所には行きたくないです。   | I do not want to go to dark places.    | Kurai basho ni wa ikitakunai desu.     | Safety-related term                     |\n",
    "| 17  | 電話会議         | でんわかいぎ | denwa kaigi | conference call            | n.             | 電話会議が行われます。           | A conference call will be held.        | Denwa kaigi ga okonawaremasu.          | Common in business settings             |\n",
    "| 18  | タクシー         | タクシー     | takushī     | taxi                       | n.             | タクシーを呼びます。             | I will call a taxi.                    | Takushī o yobimasu.                    | Common mode of transport                |\n",
    "| 19  | 勤める           | つとめる     | tsutomeru   | to work                    | G2             | 会社に勤めています。             | I work at a company.                   | Kaisha ni tsutometeimasu.              | Employment context                      |\n",
    "| 20  | 次               | つぎ         | tsugi       | next                       | n.             | 次のバスを待っています。         | I am waiting for the next bus.         | Tsugi no basu o matteimasu.            | Indicates sequence                      |\n",
    "| 21  | クラス           | クラス       | kurasu      | class                      | n.             | クラスが始まります。             | The class is starting.                 | Kurasu ga hajimarimasu.                | Common in educational contexts          |\n",
    "| 22  | テスト           | テスト       | tesuto      | test                       | n.             | 明日テストがあります。           | There is a test tomorrow.              | Ashita tesuto ga arimasu.              | Academic evaluation                     |\n",
    "| 23  | 生徒             | せいと       | seito       | student                    | n.             | 生徒たちは頑張っています。       | The students are working hard.         | Seito-tachi wa ganbatteimasu.          | Refers to learners                      |\n",
    "| 24  | 手伝う           | てつだう     | tetsudau    | to help                    | G1             | 友達を手伝っています。           | I am helping a friend.                 | Tomodachi o tetsudatteimasu.           | Indicates assistance                    |\n",
    "| 25  | 立つ             | たつ         | tatsu       | to stand                   | G1             | 立ってください。                 | Please stand up.                       | Tatte kudasai.                         | Common directive                        |\n",
    "| 26  | 見せる           | みせる       | miseru      | to show                    | G2             | 作品を見せてください。           | Please show me your work.              | Sakuhin o misete kudasai.              | Indicates demonstration or presentation |\n",
    "\n",
    "---\n",
    "\n",
    "If you need more vocabulary or any other help, just let me know!\n"
   ]
  },
  {
   "cell_type": "markdown",
   "metadata": {},
   "source": [
    "Here’s the formatted table for the new vocabulary you provided:\n",
    "\n",
    "---\n",
    "\n",
    "| No. | Japanese (Kanji) | Hiragana       | Romaji       | English Translation                     | Part of Speech | Example Sentence (Japanese) | Example Sentence (English)              | Example Sentence (Romaji)            | Notes                                   |\n",
    "| --- | ---------------- | -------------- | ------------ | --------------------------------------- | -------------- | --------------------------- | --------------------------------------- | ------------------------------------ | --------------------------------------- |\n",
    "| 27  | 小学生           | しょうがくせい | shōgakusei   | elementary school student               | n.             | 彼は小学生です。            | He is an elementary school student.     | Kare wa shōgakusei desu.             | Refers to young learners                |\n",
    "| 28  | 中学生           | ちゅうがくせい | chūgakusei   | junior high school student              | n.             | 彼女は中学生です。          | She is a junior high school student.    | Kanojo wa chūgakusei desu.           | Next level of education                 |\n",
    "| 29  | 高校生           | こうこうせい   | kōkōsei      | high school student                     | n.             | 彼は高校生です。            | He is a high school student.            | Kare wa kōkōsei desu.                | Prepares for university                 |\n",
    "| 30  | 大学生           | だいがくせい   | daigakusei   | university student                      | n.             | 私は大学生です。            | I am a university student.              | Watashi wa daigakusei desu.          | Higher education                        |\n",
    "| 31  | ~年生            | ~ねんせい      | ~nensei      | student in ~year                        | suffix         | 彼は三年生です。            | He is a third-year student.             | Kare wa san nensei desu.             | Used to specify school year             |\n",
    "| 32  | 電気             | でんき         | denki        | electric light                          | n.             | 電気をつけてください。      | Please turn on the electric light.      | Denki o tsukete kudasai.             | Related to electricity                  |\n",
    "| 33  | 点ける           | つける         | tsukeru      | to turn on                              | G2             | ライトを点けました。        | I turned on the light.                  | Raito o tsukemashita.                | Action of activating                    |\n",
    "| 34  | 消す             | けす           | kesu         | to turn off/erase                       | G1             | 電気を消しました。          | I turned off the light.                 | Denki o keshimashita.                | Action of deactivating                  |\n",
    "| 35  | 出席             | しゅっせき     | shusseki     | attendance/to attend                    | n./G3          | 出席することが大切です。    | Attending is important.                 | Shusseki suru koto ga taisetsu desu. | Common in meetings or classes           |\n",
    "| 36  | 単語             | たんご         | tango        | word                                    | n.             | 新しい単語を覚えました。    | I learned a new word.                   | Atarashii tango o oboemashita.       | Basic unit of language                  |\n",
    "| 37  | 覚える           | おぼえる       | oboeru       | to remember                             | G2             | 名前を覚えています。        | I remember the name.                    | Namae o oboe ています.               | Action of recalling                     |\n",
    "| 38  | 忘れる           | わすれる       | wasureru     | to forget                               | G2             | 忘れないでください。        | Please do not forget.                   | Wasurenai de kudasai.                | Commonly used in reminders              |\n",
    "| 39  | 携帯電話         | けいたいでんわ | keitai denwa | cellphone                               | n.             | 携帯電話を使っています。    | I am using a cellphone.                 | Keitai denwa o tsukatteimasu.        | Modern communication device             |\n",
    "| 40  | 使う             | つかう         | tsukau       | to use                                  | G1             | このアプリを使っています。  | I am using this app.                    | Kono apuri o tsukatteimasu.          | General use in various contexts         |\n",
    "| 41  | 生まれる         | うまれる       | umareru      | to be born                              | G2             | 私は日本で生まれました。    | I was born in Japan.                    | Watashi wa Nihon de umaremashita.    | Refers to the act of birth              |\n",
    "| 42  | 初めて           | はじめて       | hajimete     | first time (doing something)            | adv.           | 初めて日本に行きます。      | I am going to Japan for the first time. | Hajimete Nihon ni ikimasu.           | Indicates novelty                       |\n",
    "| 43  | みんな           | みんな         | minna        | everyone                                | n.             | みんなが集まりました。      | Everyone gathered.                      | Minna ga atsumarimashita.            | Refers to a group                       |\n",
    "| 44  | 他               | ほか           | hoka         | other                                   | n.             | 他の選択肢があります。      | There are other options.                | Hoka no sentakushi ga arimasu.       | Used to indicate alternatives           |\n",
    "| 45  | ~回              | ~かい          | ~kai         | counters for frequency                  | counters       | 年に三回旅行します。        | I travel three times a year.            | Nen ni san kai ryokō shimasu.        | Used in counting occurrences            |\n",
    "| 46  | ~匹              | ~ひき          | ~hiki        | counters for small animals, fish, etc.  | counters       | 猫が二匹います。            | There are two cats.                     | Neko ga ni hiki imasu.               | Specific for counting animals           |\n",
    "| 47  | ~杯              | ~はい          | ~hai         | counters for drinks in cups and glasses | counters       | ビールを二杯ください。      | Two beers, please.                      | Bīru o ni hai kudasai.               | Used in ordering beverages              |\n",
    "| 48  | ~本              | ~ほん          | ~hon         | counters for thin and long things       | counters       | ペンが三本あります。        | I have three pens.                      | Pen ga san bon arimasu.              | Specific for counting elongated objects |\n",
    "| 49  | ~冊              | ~さつ          | ~satsu       | counters for books                      | counters       | 本を五冊読みました。        | I read five books.                      | Hon o go satsu yomimashita.          | Used for counting books                 |\n",
    "| 50  | ~台              | ~だい          | ~dai         | counters for machines and vehicles      | counters       | 車が一台あります。          | There is one car.                       | Kuruma ga ichi dai arimasu.          | Used for counting vehicles              |\n",
    "| 51  | テープ           | テープ         | tēpu         | tape                                    | n.             | テープを使ってください。    | Please use the tape.                    | Tēpu o tsukatte kudasai.             | Common adhesive item                    |\n",
    "| 52  | 上げる           | あげる         | ageru        | to raise/lift (up)                      | G2             | 手を上げてください。        | Please raise your hand.                 | Te o agete kudasai.                  | Common action                           |\n",
    "\n",
    "---\n",
    "\n",
    "If you need more information or have additional vocabulary, feel free to ask!\n"
   ]
  },
  {
   "cell_type": "markdown",
   "metadata": {},
   "source": []
  },
  {
   "cell_type": "markdown",
   "metadata": {},
   "source": []
  },
  {
   "cell_type": "markdown",
   "metadata": {},
   "source": [
    "---"
   ]
  },
  {
   "cell_type": "markdown",
   "metadata": {},
   "source": [
    "# Conversation"
   ]
  },
  {
   "cell_type": "markdown",
   "metadata": {},
   "source": [
    "安 藤 :明日は 会 社 の 忘 年 会 です。\n",
    "\n",
    "仕事が 終わってから、みんなで 予約したレストランに 行きましょう。\n",
    "\n",
    "電 車 で 行きますから、午後 7 時に 駅 に 来てください。みなさん、 何 か 質 問 は ありますか。\n",
    "\n",
    "ラン:わたしは いつも 自 転 車で 来ていますが、自 転 車で そのレストランに 行っても いいですか。\n",
    "\n",
    "安 藤 :そのレストランに、自 転 車を 置くところが ありませんから、良くないです。\n",
    "        でも、 駅 の 隣 に 自 転 車 を 置くところが あります。\n",
    "        そこに 自 転 車を 置いてください。\n",
    "        駅 の 前 の 道は 車 が 多 くて、 危 ないですから、 自転車を 置かないでださいね。\n",
    "\n",
    "ラン:はい、わかりました。\n",
    "\n",
    "ラジ:すみません、明日午後 6:30 に インド支社と 電話会議が ありますが、7:00 までに終わらないと思 います。どうしますか。\n",
    "\n",
    "安 藤 :仕事が 遅 く終わる 人 は 仕事が 終わってから、来てください。タクシーで 来ても いいです。\n",
    "\n",
    "ラジ:わかりました。\n",
    "\n",
    "安 藤 :他 の 質 問 はありますか。\n",
    "\n",
    "ラン:海 外 部 は 何人 出 席 しますか。\n",
    "\n",
    "安 藤 : 9 人 出 席 します。 山田 さ ん だ け 出 席 しません。 彼 はアメリカに 出 張 しています。\n"
   ]
  },
  {
   "cell_type": "markdown",
   "metadata": {},
   "source": [
    "Here's the formatted table for your conversation:\n",
    "\n",
    "| Speaker | Japanese (Hiragana)                                                                                                                                                                                                                            | Japanese (Kanji)                                                                                                                                                                                                     | English Translation                                                                                                                                                                                                                                                    | Romaji                                                                                                                                                                                                                                                             | Notes                                                  |\n",
    "| ------- | ---------------------------------------------------------------------------------------------------------------------------------------------------------------------------------------------------------------------------------------------- | -------------------------------------------------------------------------------------------------------------------------------------------------------------------------------------------------------------------- | ---------------------------------------------------------------------------------------------------------------------------------------------------------------------------------------------------------------------------------------------------------------------- | ------------------------------------------------------------------------------------------------------------------------------------------------------------------------------------------------------------------------------------------------------------------ | ------------------------------------------------------ |\n",
    "| 安藤    | 明日は 会 社 の 忘 年 会 です。仕事が 終わってから、みんなで 予約したレストランに 行きましょう。電 車 で 行きますから、午後 7 時に 駅 に 来てください。みなさん、何か 質 問 は ありますか。                                                    | 明日は会社の忘年会です。仕事が終わってから、みんなで予約したレストランに行きましょう。電車で行きますから、午後 7 時に駅に来てください。みなさん、何か質問はありますか。                                              | Tomorrow is the company's year-end party. After work, let’s go to the reserved restaurant together. We will go by train, so please come to the station by 7 PM. Any questions?                                                                                         | Ashita wa kaisha no bounenkai desu. Shigoto ga owatte kara, minna de yoyaku shita resutoran ni ikimashou. Densha de ikimasu kara, gogo 7-ji ni eki ni kite kudasai. Minasan, nanika shitsumon wa arimasu ka?                                                       | Announcing the event and giving instructions.          |\n",
    "| ラン    | わたしは いつも 自 転 車で 来ていますが、自 転 車で そのレストランに 行っても いいですか。                                                                                                                                                     | 私はいつも自転車で来ていますが、自転車でそのレストランに行ってもいいですか。                                                                                                                                         | I usually come by bicycle. Is it okay if I go to that restaurant by bike?                                                                                                                                                                                              | Watashi wa itsumo jitensha de kiteimasu ga, jitensha de sono resutoran ni ittemo ii desu ka?                                                                                                                                                                       | Asking about transportation options.                   |\n",
    "| 安藤    | そのレストランに、自 転 車を 置くところが ありませんから、良くないです。でも、 駅 の 隣 に 自 転 車 を 置くところが あります。そこに 自 転 車を 置いてください。駅 の 前 の 道は 車 が 多 くて、危 ないですから、自転車を 置かないでださいね。 | そのレストランに、自転車を置くところがありませんから、良くないです。でも、駅の隣に自転車を置くところがあります。そこに自転車を置いてください。駅の前の道は車が多くて、危ないですから、自転車を置かないでくださいね。 | There’s no place to park bicycles at that restaurant, so it’s not a good idea. However, there’s a place to park your bicycle next to the station. Please park there. The road in front of the station is busy and dangerous, so please don’t leave your bicycle there. | Sono resutoran ni, jitensha wo oku tokoro ga arimasen kara, yokunai desu. Demo, eki no tonari ni jitensha wo oku tokoro ga arimasu. Soko ni jitensha wo oite kudasai. Eki no mae no michi wa kuruma ga ookute, abunai desu kara, jitensha wo okanai de kudasai ne. | Clarifying bike parking options and safety concerns.   |\n",
    "| ラン    | はい、わかりました。                                                                                                                                                                                                                           | はい、わかりました。                                                                                                                                                                                                 | Yes, I understand.                                                                                                                                                                                                                                                     | Hai, wakarimashita.                                                                                                                                                                                                                                                | Acknowledging the information.                         |\n",
    "| ラジ    | すみません、明日午後 6:30 に インド支社と 電話会議が ありますが、7:00 までに終わらないと思います。どうしますか。                                                                                                                               | すみません、明日午後 6:30 にインド支社と電話会議がありますが、7:00 までに終わらないと思います。どうしますか。                                                                                                        | Excuse me, I have a conference call with the India branch tomorrow at 6:30 PM, but I don’t think it will end by 7:00. What should I do?                                                                                                                                | Sumimasen, ashita gogo 6:30 ni Indo shisha to denwa kaigi ga arimasu ga, 7:00 made ni owaranai to omoimasen. Dou shimasu ka?                                                                                                                                       | Raising a scheduling conflict.                         |\n",
    "| 安藤    | 仕事が 遅 く 終わる 人 は 仕事が 終わってから、来てください。タクシーで 来ても いいです。                                                                                                                                                      | 仕事が遅く終わる人は仕事が終わってから、来てください。タクシーで来てもいいです。                                                                                                                                     | Those who finish work late can come after they are done. It’s okay to come by taxi.                                                                                                                                                                                    | Shigoto ga osoku owaru hito wa shigoto ga owatte kara, kite kudasai. Takushii de kite mo ii desu.                                                                                                                                                                  | Offering a solution for those with schedule conflicts. |\n",
    "| ラジ    | わかりました。                                                                                                                                                                                                                                 | わかりました。                                                                                                                                                                                                       | Understood.                                                                                                                                                                                                                                                            | Wakarimashita.                                                                                                                                                                                                                                                     | Confirming understanding.                              |\n",
    "| 安藤    | 他 の 質 問 はありますか。                                                                                                                                                                                                                     | 他の質問はありますか。                                                                                                                                                                                               | Are there any other questions?                                                                                                                                                                                                                                         | Hoka no shitsumon wa arimasu ka?                                                                                                                                                                                                                                   | Inviting further questions.                            |\n",
    "| ラン    | 海 外 部 は 何人 出 席 しますか。                                                                                                                                                                                                              | 海外部は何人出席しますか。                                                                                                                                                                                           | How many people from the overseas department will attend?                                                                                                                                                                                                              | Kaigai bu wa nan nin shusseki shimasu ka?                                                                                                                                                                                                                          | Asking about attendance.                               |\n",
    "| 安藤    | 9 人 出 席 します。山田 さ ん だ け 出 席 しません。彼 はアメリカに 出 張 しています。                                                                                                                                                         | 9 人出席します。山田さんだけ出席しません。彼はアメリカに出張しています。                                                                                                                                             | Nine people will attend. Only Yamada-san will not be attending; he is on a business trip to America.                                                                                                                                                                   | 9 nin shusseki shimasu. Yamada-san dake shusseki shimasen. Kare wa Amerika ni shucchou shiteimasu.                                                                                                                                                                 | Providing attendance details.                          |\n",
    "\n",
    "Let me know if you need any adjustments or further assistance!\n"
   ]
  },
  {
   "cell_type": "markdown",
   "metadata": {},
   "source": [
    "---"
   ]
  },
  {
   "cell_type": "markdown",
   "metadata": {},
   "source": [
    "# Grammar 1\n"
   ]
  },
  {
   "cell_type": "markdown",
   "metadata": {},
   "source": []
  },
  {
   "cell_type": "markdown",
   "metadata": {},
   "source": []
  },
  {
   "cell_type": "markdown",
   "metadata": {},
   "source": [
    "---\n",
    "---"
   ]
  },
  {
   "cell_type": "markdown",
   "metadata": {},
   "source": [
    "# Grammar 2\n"
   ]
  },
  {
   "cell_type": "markdown",
   "metadata": {},
   "source": []
  },
  {
   "cell_type": "markdown",
   "metadata": {},
   "source": []
  },
  {
   "cell_type": "markdown",
   "metadata": {},
   "source": [
    "---\n",
    "---"
   ]
  },
  {
   "cell_type": "markdown",
   "metadata": {},
   "source": [
    "# Grammar 3\n"
   ]
  },
  {
   "cell_type": "markdown",
   "metadata": {},
   "source": []
  },
  {
   "cell_type": "markdown",
   "metadata": {},
   "source": []
  },
  {
   "cell_type": "markdown",
   "metadata": {},
   "source": [
    "---\n",
    "---"
   ]
  },
  {
   "cell_type": "markdown",
   "metadata": {},
   "source": [
    "# Grammar 4\n"
   ]
  },
  {
   "cell_type": "markdown",
   "metadata": {},
   "source": []
  },
  {
   "cell_type": "markdown",
   "metadata": {},
   "source": []
  },
  {
   "cell_type": "markdown",
   "metadata": {},
   "source": [
    "---\n",
    "---"
   ]
  },
  {
   "cell_type": "markdown",
   "metadata": {},
   "source": [
    "# Grammar 5\n"
   ]
  },
  {
   "cell_type": "markdown",
   "metadata": {},
   "source": []
  },
  {
   "cell_type": "markdown",
   "metadata": {},
   "source": []
  },
  {
   "cell_type": "markdown",
   "metadata": {},
   "source": [
    "---\n",
    "---"
   ]
  },
  {
   "cell_type": "markdown",
   "metadata": {},
   "source": [
    "# Grammar 6\n"
   ]
  },
  {
   "cell_type": "markdown",
   "metadata": {},
   "source": []
  },
  {
   "cell_type": "markdown",
   "metadata": {},
   "source": []
  },
  {
   "cell_type": "markdown",
   "metadata": {},
   "source": [
    "---\n",
    "---"
   ]
  },
  {
   "cell_type": "markdown",
   "metadata": {},
   "source": [
    "# Grammar 7\n"
   ]
  },
  {
   "cell_type": "markdown",
   "metadata": {},
   "source": []
  },
  {
   "cell_type": "markdown",
   "metadata": {},
   "source": []
  },
  {
   "cell_type": "markdown",
   "metadata": {},
   "source": [
    "---\n",
    "---"
   ]
  },
  {
   "cell_type": "markdown",
   "metadata": {},
   "source": [
    "# Grammar 8\n"
   ]
  },
  {
   "cell_type": "markdown",
   "metadata": {},
   "source": []
  },
  {
   "cell_type": "markdown",
   "metadata": {},
   "source": []
  },
  {
   "cell_type": "markdown",
   "metadata": {},
   "source": [
    "---\n",
    "---"
   ]
  },
  {
   "cell_type": "markdown",
   "metadata": {},
   "source": [
    "# Grammar 9\n"
   ]
  },
  {
   "cell_type": "markdown",
   "metadata": {},
   "source": []
  },
  {
   "cell_type": "markdown",
   "metadata": {},
   "source": []
  },
  {
   "cell_type": "markdown",
   "metadata": {},
   "source": [
    "---\n",
    "---"
   ]
  }
 ],
 "metadata": {
  "language_info": {
   "name": "python"
  }
 },
 "nbformat": 4,
 "nbformat_minor": 2
}
