{
 "cells": [
  {
   "cell_type": "markdown",
   "metadata": {},
   "source": [
    "# Vocabulary"
   ]
  },
  {
   "cell_type": "markdown",
   "metadata": {},
   "source": [
    "    1.でんわ 電話 n./G3 phone/ to call\n",
    "    2.グローバル な-adj global\n",
    "    3.フランス n. France\n",
    "    4.イタリア n. Italy\n",
    "    5.とても adv. very\n",
    "    6.あまり adv. not much\n",
    "    7.いそがしい 忙しい い-adj. busy\n",
    "    8.たのしい 楽しい い-adj. fun\n",
    "    9.おもしろい 面白い い-adj. interesting\n",
    "    10.むずかしい 難しい い-adj. difficult\n",
    "    11.やさしい 易しい い-adj. easy/simple\n",
    "    12.おおきい 大きい い-adj. big\n",
    "    13.ちいさい 小さい い-adj. small\n",
    "    14.さむい 寒い い-adj. cold\n",
    "    15.あつい 熱い/暑い い-adj. hot\n",
    "    16.たかい 高い い-adj. high/tall/expensive\n",
    "    17.やすい 安い い-adj. cheap\n",
    "    18.あたらしい 新しい い-adj. new\n",
    "    19.ふるい 古い い-adj. old\n",
    "    20.いい、よい 良い い-adj. good\n",
    "    21.わるい 悪い い-adj. bad\n",
    "    22.しろい 白い い-adj. white\n",
    "    23.しろ 白 n. white\n",
    "    24.くろい 黒い い-adj. black\n",
    "    25.くろ 黒 n. black\n",
    "    26.あかい 赤い い-adj. red\n"
   ]
  },
  {
   "cell_type": "markdown",
   "metadata": {},
   "source": [
    "    27.あか 赤 n. red\n",
    "    28.あおい 青い い-adj. blue\n",
    "    29.あお 青 n. blue\n",
    "    30.つめたい 冷たい い-adj. cool\n",
    "    31.あたたかい 暖かい い-adj. warm\n",
    "    32.ちかい 近い い-adj. near\n",
    "    33.とおい 遠い い-adj. far\n",
    "    34.ひろい 広い い-adj. wide\n",
    "    35.せまい 狭い い-adj. narrow\n",
    "    36.はやい 早い/速い い-adj. early/fast\n",
    "    37.おそい 遅い い-adj. late/slow\n",
    "    38.おいしい い-adj. delicious\n",
    "    39.まずい い-adj. bad-tasting/poor quality\n",
    "    40.うまい い-adj. delicious\n",
    "    41.てんき 天気 n. weather\n",
    "    42.とまる 泊まる G1 to stay the night\n",
    "    43.ホテル n. hotel\n",
    "    44.たてもの 建物 n. building\n",
    "    45.ジャパン n. Japan\n",
    "    46.せわ 世話 n. care/help\n",
    "    47.しる 知る G1 to know\n",
    "    48.ビル n. building\n",
    "    49.ひらがな 平仮名 n. hiragana (Basic Japanese characters)\n",
    "    50.カタカナ n. katakana (Characters used for foreign words)\n",
    "    51.かんじ 漢字 n. kanji (Chinese characters inJapanese)"
   ]
  },
  {
   "cell_type": "markdown",
   "metadata": {},
   "source": [
    "Here’s the formatted table for the new vocabulary:\n",
    "\n",
    "| No. | Japanese (Kanji) | Hiragana   | Romaji     | English Translation | Part of Speech | Example Sentence (Japanese)  | Example Sentence (English)         | Example Sentence (Romaji)             | Notes                                                       |\n",
    "| --- | ---------------- | ---------- | ---------- | ------------------- | -------------- | ---------------------------- | ---------------------------------- | ------------------------------------- | ----------------------------------------------------------- |\n",
    "| 1   | 電話             | でんわ     | denwa      | phone/to call       | n./G3          | 彼に電話をかけます。         | I will call him.                   | Kare ni denwa o kakemasu.             | Refers to a telephone or the act of calling.                |\n",
    "| 2   | グローバル       | グローバル | guroobaru  | global              | な-adj.        | グローバルな視点が必要です。 | A global perspective is necessary. | Guroobaru na shiten ga hitsuyou desu. | Refers to something international in scope.                 |\n",
    "| 3   | フランス         | フランス   | Furansu    | France              | n.             | フランスに行きたいです。     | I want to go to France.            | Furansu ni ikitai desu.               | Name of a country.                                          |\n",
    "| 4   | イタリア         | イタリア   | Itaria     | Italy               | n.             | イタリアの料理が好きです。   | I like Italian cuisine.            | Itaria no ryouri ga suki desu.        | Name of a country.                                          |\n",
    "| 5   | とても           | とても     | totemo     | very                | adv.           | とても面白いです。           | It’s very interesting.             | Totemo omoshiroi desu.                | Used for strong emphasis.                                   |\n",
    "| 6   | あまり           | あまり     | amari      | not much            | adv.           | あまりお腹が空いていません。 | I'm not very hungry.               | Amari onaka ga suiteimasen.           | Used with negative sentences.                               |\n",
    "| 7   | 忙しい           | いそがしい | isogashii  | busy                | い-adj.        | 今日は忙しいです。           | I am busy today.                   | Kyou wa isogashii desu.               | Describes a state of busyness.                              |\n",
    "| 8   | 楽しい           | たのしい   | tanoshii   | fun                 | い-adj.        | 今日は楽しい日です。         | Today is a fun day.                | Kyou wa tanoshii hi desu.             | Describes something enjoyable.                              |\n",
    "| 9   | 面白い           | おもしろい | omoshiroi  | interesting         | い-adj.        | この本は面白いです。         | This book is interesting.          | Kono hon wa omoshiroi desu.           | Describes something that piques interest.                   |\n",
    "| 10  | 難しい           | むずかしい | muzukashii | difficult           | い-adj.        | この問題は難しいです。       | This problem is difficult.         | Kono mondai wa muzukashii desu.       | Describes something challenging.                            |\n",
    "| 11  | 易しい           | やさしい   | yasashii   | easy/simple         | い-adj.        | これは易しい質問です。       | This is an easy question.          | Kore wa yasashii shitsumon desu.      | Indicates simplicity or ease.                               |\n",
    "| 12  | 大きい           | おおきい   | ookii      | big                 | い-adj.        | 彼の家は大きいです。         | His house is big.                  | Kare no ie wa ookii desu.             | Refers to size.                                             |\n",
    "| 13  | 小さい           | ちいさい   | chiisai    | small               | い-adj.        | この犬は小さいです。         | This dog is small.                 | Kono inu wa chiisai desu.             | Refers to size.                                             |\n",
    "| 14  | 寒い             | さむい     | samui      | cold                | い-adj.        | 今日は寒いです。             | It’s cold today.                   | Kyou wa samui desu.                   | Describes temperature.                                      |\n",
    "| 15  | 熱い/暑い        | あつい     | atsui      | hot                 | い-adj.        | コーヒーは熱いです。         | The coffee is hot.                 | Koohii wa atsui desu.                 | Refers to temperature (熱い for objects, 暑い for weather). |\n",
    "| 16  | 高い             | たかい     | takai      | high/tall/expensive | い-adj.        | このビルは高いです。         | This building is tall.             | Kono biru wa takai desu.              | Can refer to height or cost.                                |\n",
    "| 17  | 安い             | やすい     | yasui      | cheap               | い-adj.        | このレストランは安いです。   | This restaurant is cheap.          | Kono resutoran wa yasui desu.         | Refers to price.                                            |\n",
    "| 18  | 新しい           | あたらしい | atarashii  | new                 | い-adj.        | 新しい車を買いました。       | I bought a new car.                | Atarashii kuruma o kaimashita.        | Refers to something recent.                                 |\n",
    "| 19  | 古い             | ふるい     | furui      | old                 | い-adj.        | この本は古いです。           | This book is old.                  | Kono hon wa furui desu.               | Refers to age.                                              |\n",
    "| 20  | 良い             | いい/よい  | ii/yo      | good                | い-adj.        | これは良いアイデアです。     | This is a good idea.               | Kore wa yoi aidea desu.               | Indicates quality.                                          |\n",
    "| 21  | 悪い             | わるい     | warui      | bad                 | い-adj.        | その映画は悪いです。         | That movie is bad.                 | Sono eiga wa warui desu.              | Indicates poor quality.                                     |\n",
    "| 22  | 白い             | しろい     | shiroi     | white               | い-adj.        | この花は白いです。           | This flower is white.              | Kono hana wa shiroi desu.             | Describes color.                                            |\n",
    "| 23  | 白               | しろ       | shiro      | white               | n.             | 白が好きです。               | I like white.                      | Shiro ga suki desu.                   | Refers to the color itself.                                 |\n",
    "| 24  | 黒い             | くろい     | kuroi      | black               | い-adj.        | その猫は黒いです。           | That cat is black.                 | Sono neko wa kuroi desu.              | Describes color.                                            |\n",
    "| 25  | 黒               | くろ       | kuro       | black               | n.             | 黒が好きです。               | I like black.                      | Kuro ga suki desu.                    | Refers to the color itself.                                 |\n",
    "| 26  | 赤い             | あかい     | akai       | red                 | い-adj.        | その車は赤いです。           | That car is red.                   | Sono kuruma wa akai desu.             | Describes color.                                            |\n",
    "\n",
    "If you need any further modifications or additional entries, feel free to ask!\n"
   ]
  },
  {
   "cell_type": "markdown",
   "metadata": {},
   "source": [
    "Here’s the formatted table for the new vocabulary:\n",
    "\n",
    "| No. | Japanese (Kanji) | Hiragana   | Romaji   | English Translation      | Part of Speech | Example Sentence (Japanese)  | Example Sentence (English)          | Example Sentence (Romaji)             | Notes                                     |\n",
    "| --- | ---------------- | ---------- | -------- | ------------------------ | -------------- | ---------------------------- | ----------------------------------- | ------------------------------------- | ----------------------------------------- |\n",
    "| 27  | 赤               | あか       | aka      | red                      | n.             | 彼は赤が好きです。           | He likes red.                       | Kare wa aka ga suki desu.             | Refers to the color red.                  |\n",
    "| 28  | 青い             | あおい     | aoi      | blue                     | い-adj.        | 空は青いです。               | The sky is blue.                    | Sora wa aoi desu.                     | Describes the color blue.                 |\n",
    "| 29  | 青               | あお       | ao       | blue                     | n.             | 青が好きです。               | I like blue.                        | Ao ga suki desu.                      | Refers to the color itself.               |\n",
    "| 30  | 冷たい           | つめたい   | tsumetai | cool                     | い-adj.        | 水は冷たいです。             | The water is cool.                  | Mizu wa tsumetai desu.                | Describes temperature.                    |\n",
    "| 31  | 暖かい           | あたたかい | atatakai | warm                     | い-adj.        | 今日は暖かいです。           | Today is warm.                      | Kyou wa atatakai desu.                | Describes pleasant warmth.                |\n",
    "| 32  | 近い             | ちかい     | chikai   | near                     | い-adj.        | 駅は近いです。               | The station is near.                | Eki wa chikai desu.                   | Refers to proximity.                      |\n",
    "| 33  | 遠い             | とおい     | tooi     | far                      | い-adj.        | 学校は遠いです。             | The school is far.                  | Gakkou wa tooi desu.                  | Describes distance.                       |\n",
    "| 34  | 広い             | ひろい     | hiroi    | wide                     | い-adj.        | この部屋は広いです。         | This room is wide.                  | Kono heya wa hiroi desu.              | Refers to space or area.                  |\n",
    "| 35  | 狭い             | せまい     | semai    | narrow                   | い-adj.        | この道は狭いです。           | This road is narrow.                | Kono michi wa semai desu.             | Describes limited space.                  |\n",
    "| 36  | 早い             | はやい     | hayai    | early/fast               | い-adj.        | 彼は早いです。               | He is fast.                         | Kare wa hayai desu.                   | Refers to speed or time.                  |\n",
    "| 37  | 遅い             | おそい     | osoi     | late/slow                | い-adj.        | 彼女は遅いです。             | She is late.                        | Kanojo wa osoi desu.                  | Describes slowness or lateness.           |\n",
    "| 38  | おいしい         | おいしい   | oishii   | delicious                | い-adj.        | この料理はおいしいです。     | This dish is delicious.             | Kono ryouri wa oishii desu.           | Describes tasty food.                     |\n",
    "| 39  | まずい           | まずい     | mazui    | bad-tasting/poor quality | い-adj.        | この食べ物はまずいです。     | This food is bad-tasting.           | Kono tabemono wa mazui desu.          | Indicates unpleasant taste.               |\n",
    "| 40  | うまい           | うまい     | umai     | delicious                | い-adj.        | このラーメンはうまいです。   | This ramen is delicious.            | Kono rāmen wa umai desu.              | Informal way to say tasty.                |\n",
    "| 41  | 天気             | てんき     | tenki    | weather                  | n.             | 今日は天気がいいです。       | The weather is nice today.          | Kyou wa tenki ga ii desu.             | Refers to atmospheric conditions.         |\n",
    "| 42  | 泊まる           | とまる     | tomaru   | to stay the night        | G1             | ホテルに泊まります。         | I will stay at the hotel.           | Hoteru ni tomarimasu.                 | Refers to overnight stays.                |\n",
    "| 43  | ホテル           | ホテル     | hoteru   | hotel                    | n.             | ホテルに泊まります。         | I will stay at the hotel.           | Hoteru ni tomarimasu.                 | Refers to a place to stay.                |\n",
    "| 44  | 建物             | たてもの   | tatemono | building                 | n.             | その建物は古いです。         | That building is old.               | Sono tatemono wa furui desu.          | Refers to structures.                     |\n",
    "| 45  | ジャパン         | ジャパン   | Japan    | Japan                    | n.             | ジャパンは美しい国です。     | Japan is a beautiful country.       | Japan wa utsukushii kuni desu.        | Name of a country.                        |\n",
    "| 46  | 世話             | せわ       | sewa     | care/help                | n.             | 彼は私の世話をしています。   | He is taking care of me.            | Kare wa watashi no sewa o shiteimasu. | Refers to assistance or care.             |\n",
    "| 47  | 知る             | しる       | shiru    | to know                  | G1             | 私は彼を知っています。       | I know him.                         | Watashi wa kare o shitteimasu.        | Refers to knowledge.                      |\n",
    "| 48  | ビル             | ビル       | biru     | building                 | n.             | ビルがたくさんあります。     | There are many buildings.           | Biru ga takusan arimasu.              | Refers to large structures.               |\n",
    "| 49  | 平仮名           | ひらがな   | hiragana | hiragana                 | n.             | 平仮名を勉強しています。     | I am studying hiragana.             | Hiragana o benkyou shiteimasu.        | Refers to basic Japanese characters.      |\n",
    "| 50  | カタカナ         | カタカナ   | katakana | katakana                 | n.             | カタカナは外来語に使います。 | Katakana is used for foreign words. | Katakana wa gairaigo ni tsukaimasu.   | Refers to characters for foreign words.   |\n",
    "| 51  | 漢字             | かんじ     | kanji    | kanji                    | n.             | 漢字は難しいです。           | Kanji is difficult.                 | Kanji wa muzukashii desu.             | Refers to Chinese characters in Japanese. |\n",
    "\n",
    "If you have more vocabulary or need any modifications, feel free to let me know!\n"
   ]
  },
  {
   "cell_type": "markdown",
   "metadata": {},
   "source": [
    "安藤:お電話 ありがとうございます。 ABC グローバル 株 式 会 社 です。\n",
    "\n",
    "シルヴァン:お世話に なっております、フランスししゃの シルヴァンです。\n",
    "\n",
    "安藤:あんどうです。シルヴァンさん、お元気ですか。\n",
    "\n",
    "シルヴァン:はい、おかげさまでげんきです。日本の 仕事は どうですか。\n",
    "\n",
    "安藤 :毎 日 とても 忙 しいです。 フランスの お仕事は どうですか。\n",
    "\n",
    "シルヴァン:仕事は 楽 しいですが、漢字は 難 しいですね。来 週 日本に 行きます。\n",
    "\n",
    "安藤 :そうですか。 来 週 何 曜日に 日本に 来ますか。\n",
    "\n",
    "シルヴァン:水 曜 日 です。 日本の 天気は どうですか。\n",
    "\n",
    "安藤 : 先週は 寒 かったですが、 今 週 は あまり 寒 くないです。どこの ホテルに とまりますか。\n",
    "\n",
    "シルヴァン:ジャパンホテルです。秋 葉 原 駅 の近 くにあります。\n",
    "\n",
    "安藤:あそこですか。 わたしは あのホテルを 知っています。大 きいホテルです。\n",
    "\n",
    "シルヴァン:秋 葉 原 駅 から ジャパンホテルまで どうやって行きますか。\n",
    "\n",
    "安藤 :秋 葉 原 駅 の 5 番 出口を 出て、 右 へ曲がります。そしたら、交 番 の 近 くに 白 くて 高 いたてものが あります。\n",
    "\n",
    "シルヴァン:ええ。\n",
    "\n",
    "安藤 :その 白 いたてものの うしろに 大 きくて 黒 いたてものがあります。 それが ジャパンホテルです。\n",
    "\n",
    "シルヴァン: 大 きくて、 黒 いたてものですね。\n",
    "\n",
    "安藤 :はい。そうです。\n",
    "\n",
    "シルヴァン:わかりました。 ありがとう ございます。\n",
    "\n",
    "安藤 :いいえ。\n"
   ]
  },
  {
   "cell_type": "markdown",
   "metadata": {},
   "source": [
    "Here’s the formatted table based on your new conversation:\n",
    "\n",
    "| Speaker    | Japanese (Hiragana)                                                                                                          | Japanese (Kanji)                                                                                | English Translation                                                                                                  | Romaji                                                                                                                           | Notes                                                                   |\n",
    "| ---------- | ---------------------------------------------------------------------------------------------------------------------------- | ----------------------------------------------------------------------------------------------- | -------------------------------------------------------------------------------------------------------------------- | -------------------------------------------------------------------------------------------------------------------------------- | ----------------------------------------------------------------------- |\n",
    "| 安藤       | おでんわ ありがとうございます。 ABC グローバル かぶし かいしゃ です。                                                        | お電話ありがとうございます。 ABC グローバル株式会社です。                                       | Thank you for calling. This is ABC Global Corporation.                                                               | Odenwa arigatou gozaimasu. ABC Gurobaru Kabushiki Kaisha desu.                                                                   | A formal greeting when answering the phone.                             |\n",
    "| シルヴァン | おせわに なっております、フランスししゃの シルヴァンです。                                                                   | お世話になっております、フランス支社のシルヴァンです。                                          | I appreciate your help; this is Sylvain from the France branch.                                                      | Osewa ni natte orimasu, Furansu shisha no Shiruvan desu.                                                                         | A polite way to introduce oneself in a business context.                |\n",
    "| 安藤       | あんどうです。シルヴァンさん、お元気ですか。                                                                                 | 安藤です。シルヴァンさん、お元気ですか。                                                        | This is Ando. How are you, Sylvain?                                                                                  | Andou desu. Shiruvan-san, ogenki desu ka?                                                                                        | A standard greeting followed by a personal inquiry.                     |\n",
    "| シルヴァン | はい、おかげさまでげんきです。にほんの 仕事は どうですか。                                                                   | はい、おかげさまで元気です。日本の仕事はどうですか。                                            | Yes, thanks to you, I’m well. How is work in Japan?                                                                  | Hai, okage sama de genki desu. Nihon no shigoto wa dou desu ka?                                                                  | Responding positively and inquiring about the other person’s situation. |\n",
    "| 安藤       | まいにち とても いそがしいです。フランスの お仕事は どうですか。                                                             | 毎日とても忙しいです。フランスの仕事はどうですか。                                              | I’m very busy every day. How is work in France?                                                                      | Mainichi totemo isogashii desu. Furansu no shigoto wa dou desu ka?                                                               | Sharing one’s own experience and asking about the other’s.              |\n",
    "| シルヴァン | しごとは たのしいですが、かんじは むずかしいですね。らいしゅう にほんに いきます。                                           | 仕事は楽しいですが、漢字は難しいですね。来週日本に行きます。                                    | Work is fun, but kanji is difficult. I’m going to Japan next week.                                                   | Shigoto wa tanoshii desu ga, kanji wa muzukashii desu ne. Raishuu Nihon ni ikimasu.                                              | Expressing a mix of enjoyment and challenge in work.                    |\n",
    "| 安藤       | そうですか。らいしゅう なんようびに にほんに きますか。                                                                      | そうですか。来週何曜日に日本に来ますか。                                                        | I see. What day of the week are you coming to Japan next week?                                                       | Sou desu ka. Raishuu nan youbi ni Nihon ni kimasu ka?                                                                            | Asking for specific details about the visit.                            |\n",
    "| シルヴァン | すいようびです。にほんの てんきは どうですか。                                                                               | 水曜日です。日本の天気はどうですか。                                                            | It’s on Wednesday. How’s the weather in Japan?                                                                       | Suiyoubi desu. Nihon no tenki wa dou desu ka?                                                                                    | Confirming the day and inquiring about the weather.                     |\n",
    "| 安藤       | せんしゅうは さむかったですが、こんしゅうは あまり さむくないです。どこの ホテルに とまりますか。                            | 先週は寒かったですが、今週はあまり寒くないです。どこのホテルに泊まりますか。                    | Last week was cold, but it’s not too cold this week. Which hotel will you stay at?                                   | Senshuu wa samukatta desu ga, konshuu wa amari samukunai desu. Doko no hoteru ni tomarimasu ka?                                  | Providing a weather update and asking about accommodations.             |\n",
    "| シルヴァン | ジャパンホテルです。あきはばらえきの ちかくにあります。                                                                      | ジャパンホテルです。秋葉原駅の近くにあります。                                                  | It’s Japan Hotel. It’s near Akihabara Station.                                                                       | Japan Hoteru desu. Akihabara eki no chikaku ni arimasu.                                                                          | Stating the hotel name and its location.                                |\n",
    "| 安藤       | あそこですか。わたしは あのホテルを しっています。おおきいホテルです。                                                       | あそこですか。私はあのホテルを知っています。大きいホテルです。                                  | Is that the one? I know that hotel. It’s a big hotel.                                                                | Asoko desu ka. Watashi wa ano hoteru wo shitteimasu. Ooki hoteru desu.                                                           | Confirming knowledge of the hotel and describing it.                    |\n",
    "| シルヴァン | あきはばらえきから ジャパンホテルまで どうやって いきますか。                                                                | 秋葉原駅からジャパンホテルまでどうやって行きますか。                                            | How do I get from Akihabara Station to Japan Hotel?                                                                  | Akihabara eki kara Japan Hoteru made dou yatte ikimasu ka?                                                                       | Asking for directions.                                                  |\n",
    "| 安藤       | あきはばらえきの 5 ばん でぐちを でて、みぎへ まがります。そしたら、こうばんの ちかくに しろくて たかいたてものが あります。 | 秋葉原駅の 5 番出口を出て、右へ曲がります。そしたら、交番の近くに白くて高いたてものがあります。 | Exit from the 5th exit of Akihabara Station and turn right. Then, there’s a tall white building near the police box. | Akihabara eki no go-ban deguchi wo dete, migi e magarimasu. Soshitara, kouban no chikaku ni shirokute takai tatemono ga arimasu. | Providing clear directions.                                             |\n",
    "| シルヴァン | ええ。                                                                                                                       | ええ。                                                                                          | Yes.                                                                                                                 | Ee.                                                                                                                              | Simple affirmative response.                                            |\n",
    "| 安藤       | その しろいたてものの うしろに おおきくて くろいたてものがあります。それが ジャパンホテルです。                              | その白い建物の後ろに大きくて黒い建物があります。それがジャパンホテルです。                      | Behind that white building, there’s a large black building. That’s Japan Hotel.                                      | Sono shiroi tatemono no ushiro ni ookikute kuroi tatemono ga arimasu. Sore ga Japan Hoteru desu.                                 | Providing further clarification on the location.                        |\n",
    "| シルヴァン | おおきくて、くろいたてものですね。                                                                                           | 大きくて、黒い建物ですね。                                                                      | It’s a large black building, right?                                                                                  | Ookikute, kuroi tatemono desu ne.                                                                                                | Confirming understanding of the description.                            |\n",
    "| 安藤       | はい。そうです。                                                                                                             | はい。そうです。                                                                                | Yes, that’s right.                                                                                                   | Hai. Sou desu.                                                                                                                   | Affirming the description.                                              |\n",
    "| シルヴァン | わかりました。ありがとう ございます。                                                                                        | わかりました。ありがとうございます。                                                            | I understand. Thank you very much.                                                                                   | Wakarimashita. Arigatou gozaimasu.                                                                                               | Expressing gratitude for the information.                               |\n",
    "| 安藤       | いいえ。                                                                                                                     | いいえ。                                                                                        | No problem.                                                                                                          | Iie.                                                                                                                             | A casual response indicating no trouble.                                |\n",
    "\n",
    "If you have any more requests or need further details, just let me know!\n"
   ]
  },
  {
   "cell_type": "markdown",
   "metadata": {},
   "source": [
    "---"
   ]
  },
  {
   "cell_type": "markdown",
   "metadata": {},
   "source": [
    "# Conversation"
   ]
  },
  {
   "cell_type": "markdown",
   "metadata": {},
   "source": []
  },
  {
   "cell_type": "markdown",
   "metadata": {},
   "source": []
  },
  {
   "cell_type": "markdown",
   "metadata": {},
   "source": [
    "---"
   ]
  },
  {
   "cell_type": "markdown",
   "metadata": {},
   "source": [
    "# Grammar 1\n"
   ]
  },
  {
   "cell_type": "markdown",
   "metadata": {},
   "source": [
    "1. 形 容 詞の\n",
    "   しゅるい\n",
    "   Types of adjectives\n",
    "   Japanese adjectives have 2 types: “い-adjectives” and “な-adjectives”.\n",
    "   An “い-adjective” is an adjective that possess the “...い” form when modifying\n",
    "   a noun.\n",
    "   A “な-adjective” is an adjective that accompanies “な” when modifying a\n",
    "   noun.\n",
    "   Please note that although “きれい” ends in “い”, it is a“な-adjective”.\n"
   ]
  },
  {
   "cell_type": "markdown",
   "metadata": {},
   "source": []
  },
  {
   "cell_type": "markdown",
   "metadata": {},
   "source": []
  },
  {
   "cell_type": "markdown",
   "metadata": {},
   "source": [
    "---\n",
    "---"
   ]
  },
  {
   "cell_type": "markdown",
   "metadata": {},
   "source": [
    "# Grammar 2\n"
   ]
  },
  {
   "cell_type": "markdown",
   "metadata": {},
   "source": [
    "2.い 形 容 詞の\n",
    " かたち\n",
    "い-adjective Forms\n",
    "Japanese adjectives have 2 tenses: non-past and past. More specifically,\n",
    "there’re 4 forms: non-past affirmative, non-past negative, past affirmative,\n",
    "and past negative.\n",
    "You use the end of the “い-adjective” to conjugate the proper form. The\n",
    "adjectives that end in “い” are dictionary forms.\n",
    "Four い-adjective Forms:\n",
    "\n",
    "1.The non-past affirmative ~い\n",
    "Example\n",
    " ひろい (large)\n",
    " せまい (narrow)\n",
    "はやい (fast)\n",
    " おそい (slow)\n",
    "\n",
    "2.The non-past negative; replace “い” at the end of the word with “く”, and\n",
    "add “ない”. ~くない\n",
    "Example\n",
    " ひろくない (not large)\n",
    " せまくない (not narrow)\n",
    "はやくない (not fast)\n",
    " おそくない (not slow)\n",
    "Note: Please be aware of the “い-adjective” “いい”. The non-past negative of\n",
    "“いい” is “よくない”. Please remember this as an irregular form.\n",
    "\n",
    "3. The past affirmative; replace “い” at the word end with “かった”.\n",
    "\n",
    "Example\n",
    " ひろかった (was large) せまかった (was narrow)\n",
    "はやかった (was fast)\n",
    " おそかった (was slow)\n",
    "Note: the past affirmative of “いい” is “よかった”. It is an irregular form.\n",
    "\n",
    "4. The past negative form; replace “い” at the end of the word with “く”, and add “なかった”.\n",
    "Example\n",
    " ひろくなかった (wasn’t large)\n",
    " せまくなかった (wasn’t narrow)\n",
    "はやくなかった (wasn’t fast)\n",
    " おそくなかった (wasn’t slow)"
   ]
  },
  {
   "cell_type": "markdown",
   "metadata": {},
   "source": []
  },
  {
   "cell_type": "markdown",
   "metadata": {},
   "source": []
  },
  {
   "cell_type": "markdown",
   "metadata": {},
   "source": [
    "---\n",
    "---"
   ]
  },
  {
   "cell_type": "markdown",
   "metadata": {},
   "source": [
    "# Grammar 3\n"
   ]
  },
  {
   "cell_type": "markdown",
   "metadata": {},
   "source": [
    "3. N は い-adj です。\n",
    "N is ....\n",
    "This is how to describe a noun using “い-adjectives”. \n",
    "\n",
    "“N is い-adjective” is the sentence pattern. \n",
    "\n",
    "The subject of the sentence is a noun. \n",
    "\n",
    "Inserting “です” after the conjugated adjective expresses politeness.\n",
    "1N は い-adj\n",
    " です。\n",
    "N is....\n",
    "\n",
    "1.この たてものは とても 古 いです。\n",
    "This building is very old.\n",
    "\n",
    "\n",
    "2.この 部屋は 広 くないです。\n",
    "This room is not wide.\n",
    "\n",
    "\n",
    "3.おとといは 暖 かかったです。\n",
    "It was warm the day before yesterday.\n",
    "\n",
    "4.あの ホテルは あまり よくなかったです。\n",
    "That hotel wasn't very good.\n",
    "\n",
    "2N は い-adj ですか。\n",
    "\n",
    "Is N...?\n",
    "\n",
    "When asking a question with adjectives, you use “Is N い-adjective”?\n",
    "\n",
    "It is similar to asking a question with nouns. \n",
    "\n",
    "To answer, repeat the adjective word in your response.\n",
    "\n",
    "\n",
    "1.A:仕事は 忙 しいですか。\n",
    "Is your job busy?\n",
    "\n",
    "B:はい、 忙 しいです。\n",
    "Yes, it is.\n",
    "\n",
    "\n",
    "2. A:今日の 昼 ごはんは おいしかったですか。\n",
    "Was today's lunch delicious?\n",
    "\n",
    "B:いいえ、おいしくなかったです。\n",
    "No, it wasn't.\n",
    "\n",
    "\n",
    "3. A:ジャパンホテルは 高 いですか、 安 いですか。\n",
    "Is Japan Hotel expensive or cheap?\n",
    "\n",
    "B:とても 高 いです。\n",
    "It is very expensive."
   ]
  },
  {
   "cell_type": "markdown",
   "metadata": {},
   "source": []
  },
  {
   "cell_type": "markdown",
   "metadata": {},
   "source": []
  },
  {
   "cell_type": "markdown",
   "metadata": {},
   "source": [
    "---\n",
    "---"
   ]
  },
  {
   "cell_type": "markdown",
   "metadata": {},
   "source": [
    "# Grammar 4\n"
   ]
  },
  {
   "cell_type": "markdown",
   "metadata": {},
   "source": [
    "4.い-adj N です。\n",
    "It is ... N.\n",
    "\n",
    "Here, the “い-adjective” modifies a noun.\n",
    "\n",
    "The sentence structure is “い-adjective N”.\n",
    "\n",
    "Insert the “い-adjective” before the noun. When there’s a subject in the sentence, the sentence pattern is “N1 is い-adjective N2”.\n",
    "\n",
    "1. ジャパンホテルは あの 白 い 建 物 です。\n",
    "   Japan Hotel is that white building.\n",
    "\n",
    "2. この 紅 茶 は とても おいしいお 茶 です。\n",
    "   This black tea is really delicious tea.\n",
    "\n",
    "3. 今日は いい天気です。\n",
    "   It's good weather today.\n"
   ]
  },
  {
   "cell_type": "markdown",
   "metadata": {},
   "source": []
  },
  {
   "cell_type": "markdown",
   "metadata": {},
   "source": []
  },
  {
   "cell_type": "markdown",
   "metadata": {},
   "source": [
    "---\n",
    "---"
   ]
  },
  {
   "cell_type": "markdown",
   "metadata": {},
   "source": [
    "# Grammar 5\n"
   ]
  },
  {
   "cell_type": "markdown",
   "metadata": {},
   "source": [
    "5.N は どうですか。\n",
    "\n",
    "How is...?/ How do you think...?\n",
    "\n",
    "This sentence pattern is used when asking the listener’s opinions, ideas, or impressions. \n",
    "\n",
    "When answering the question “どうですか”, an adjective is included in the response.\n",
    "\n",
    "1N は どうですか。\n",
    "\n",
    "How is...?/ How do you think...?\n",
    "\n",
    "1. A:お仕事は どうですか。\n",
    "How is the job?\n",
    "\n",
    "B:いそがしいです。\n",
    "It is busy.\n",
    "\n",
    "2. A:このコーヒーは どうですか。\n",
    "What do you think of this coffee?\n",
    "\n",
    "B:とても おいしいです。\n",
    "It is very delicious.\n",
    "\n",
    "\n",
    "2N は どうでしたか\n",
    "How was...?\n",
    "When you ask the listener’s opinions, ideas, and impressions about a past\n",
    "incident, you ask with “どうでしたか”. This is the past tense of “どうですか”.\n",
    "\n",
    "1. A:昨日の 仕事は どうでしたか。\n",
    "How was work yesterday?\n",
    "\n",
    "B:あまり 忙 しくなかったです。\n",
    "It wasn't so busy.\n",
    "\n",
    "2.  A:旅行はどうでしたか。\n",
    "How was the trip?\n",
    "\n",
    "B:楽しかったです。\n",
    "It was fun."
   ]
  },
  {
   "cell_type": "markdown",
   "metadata": {},
   "source": []
  },
  {
   "cell_type": "markdown",
   "metadata": {},
   "source": []
  },
  {
   "cell_type": "markdown",
   "metadata": {},
   "source": [
    "---\n",
    "---"
   ]
  },
  {
   "cell_type": "markdown",
   "metadata": {},
   "source": [
    "# Grammar 6\n"
   ]
  },
  {
   "cell_type": "markdown",
   "metadata": {},
   "source": [
    "6.N は い-adj (...い) くて\n",
    "It is ..., and ....\n",
    "When you consecutively say two or more adjectives, you use the て-form. The\n",
    "proper conjugation is “い-adjective (...い) くて...”. When using two adjectives\n",
    "consecutively to describe past events, only the adjective at the end of the\n",
    "sentence is changed to the past tense.\n",
    "\n",
    "1.この部屋は 新 しくて 広 いです。\n",
    "The room is new and wide.\n",
    "\n",
    "2. 昼 ごはんは 安 くて おいしいです。\n",
    "The lunch is cheap and delicious.\n",
    "\n",
    "3. A:きのうの 天気は どうでしたか。\n",
    "How was the weather yesterday?\n",
    "\n",
    "B:天気が わるくて、とても寒 かったです\n",
    "It was really bad and cold.\n"
   ]
  },
  {
   "cell_type": "markdown",
   "metadata": {},
   "source": []
  },
  {
   "cell_type": "markdown",
   "metadata": {},
   "source": []
  },
  {
   "cell_type": "markdown",
   "metadata": {},
   "source": [
    "---\n",
    "---"
   ]
  },
  {
   "cell_type": "markdown",
   "metadata": {},
   "source": [
    "# Grammar 7\n"
   ]
  },
  {
   "cell_type": "markdown",
   "metadata": {},
   "source": [
    "7.N は い-adj (...い)く V\n",
    "\n",
    "Using い-adjectives to describe verbs\n",
    "\n",
    "This is how to properly conjugate an い-adjective into an adverb.\n",
    "\n",
    "When an adjective modifies a verb, it has to be changed into the adverbial usage form. \n",
    "\n",
    "The sentence pattern is “N is い-adjective (...い) く V”. \n",
    "\n",
    "The conjugation rule is to replace “い” of “い-adjective” words with “く”. \n",
    "\n",
    "Then, add a verb after the conjugated word. “い-adjective (...い)く V”\n",
    "\n",
    "1.昨日 早 く 寝ました。\n",
    "I slept early yesterday.\n",
    "\n",
    "2. 電 車 は 遅 く 来ました。\n",
    "The train came late.\n",
    "\n",
    "3. 友 達 と 楽 しく 旅 行 しました。\n",
    "I went on a fun trip with my friend."
   ]
  },
  {
   "cell_type": "markdown",
   "metadata": {},
   "source": []
  },
  {
   "cell_type": "markdown",
   "metadata": {},
   "source": []
  },
  {
   "cell_type": "markdown",
   "metadata": {},
   "source": [
    "---\n",
    "---"
   ]
  },
  {
   "cell_type": "markdown",
   "metadata": {},
   "source": [
    "# Grammar 8\n"
   ]
  },
  {
   "cell_type": "markdown",
   "metadata": {},
   "source": [
    "8....が、...\n",
    "\n",
    "...,but...\n",
    "\n",
    "Here, “が” is a conjunctive particle used to connect ideas or express a contradiction. \n",
    "\n",
    "In English, it means “but”. It is usually used as “...ですが、...” or “... ますが、...”.\n",
    "\n",
    "If there is an adjective inserted in a sentence that precedes or follows “が”,\n",
    "the preceding/following sentence of “が” is contradictory; one is positive and\n",
    "the other one is negative.\n",
    "\n",
    "1 adjective sentences\n",
    "\n",
    "1.漢字の勉強は 難しいですが、楽しいです。\n",
    "Learning kanji is difficult, but fun.\n",
    "\n",
    "2.フランスのお酒は おいしいですが、高いです。\n",
    "French alcohol is delicious, but expensive.\n",
    "\n",
    "3.わたしの家は 安いですが、狭いです。\n",
    "My home is cheap, but small.\n",
    "\n",
    "2verb sentences\n",
    "\n",
    "1.明日 京 都 に 行きますが、 夜 に 東 京 に 戻 ります。\n",
    "I will go to Kyoto tomorrow, but I will come back to Tokyo at night.\n",
    "\n",
    "2. 家 から 駅 までは 遠 いですが、バスが あります。\n",
    "Even though my home is far from the station, there is a bus.\n",
    "\n",
    "3. 学 校 に 行きましたが、 先 生 に 会いませんでした。\n",
    "I went to school, but I did not meet the teacher."
   ]
  },
  {
   "cell_type": "markdown",
   "metadata": {},
   "source": []
  },
  {
   "cell_type": "markdown",
   "metadata": {},
   "source": []
  },
  {
   "cell_type": "markdown",
   "metadata": {},
   "source": [
    "---\n",
    "---"
   ]
  },
  {
   "cell_type": "markdown",
   "metadata": {},
   "source": [
    "# Grammar 9\n"
   ]
  },
  {
   "cell_type": "markdown",
   "metadata": {},
   "source": [
    "9. N が ...。\n",
    "   N is .... / N does....\n",
    "\n",
    "Here, “が” is the subject of the predicative. In Lesson 1, you studied “は”. \n",
    "\n",
    "In this lesson, “が” is almost identical to “は” when indicating the subject. \n",
    "\n",
    "The difference is that the “は” is the primary particle used to indicate a subject.\n",
    "\n",
    "When “が” indicates the subject, it has a special meaning.\n",
    "\n",
    "1. N1 が N2 です。\n",
    "   N1 is N2.\n",
    "\n",
    "   N2 is being searched for, and describes N1. 1.ジャパンホテルは どれですか。\n",
    "   Which one is Japan Hotel?\n",
    "\n",
    "\n",
    "   あの白い建物が ジャパンホテルです。\n",
    "   That white building is Japan Hotel.\n",
    "\n",
    "2. 山田さんは 誰 ですか。\n",
    "   Who is Mr. Yamada.\n",
    "\n",
    "あの人が 山田さんです。\n",
    "He is Yamada.\n",
    "\n",
    "2 N が V。\n",
    "\n",
    "N does....\n",
    "\n",
    "When putting stress on the subject N, “が” is used.\n",
    "\n",
    "1. 金 さんが 大 阪 に 行きます。\n",
    "   It is Mr. Kim who will go to Osaka.\n",
    "\n",
    "2. 山田さんが コーヒーを 飲みました。\n",
    "It is Mr. Yamada who drank coffee.\n"
   ]
  },
  {
   "cell_type": "markdown",
   "metadata": {},
   "source": []
  },
  {
   "cell_type": "markdown",
   "metadata": {},
   "source": []
  },
  {
   "cell_type": "markdown",
   "metadata": {},
   "source": [
    "---\n",
    "---"
   ]
  }
 ],
 "metadata": {
  "language_info": {
   "name": "python"
  }
 },
 "nbformat": 4,
 "nbformat_minor": 2
}
