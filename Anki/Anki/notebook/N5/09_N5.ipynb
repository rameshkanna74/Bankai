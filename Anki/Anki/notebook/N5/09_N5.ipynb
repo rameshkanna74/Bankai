{
 "cells": [
  {
   "cell_type": "markdown",
   "metadata": {},
   "source": [
    "# Vocabulary"
   ]
  },
  {
   "cell_type": "markdown",
   "metadata": {},
   "source": [
    "    1.ひとつ 1 つ counters one(used when counting things)\n",
    "    2.ふたつ 2 つ counters two\n",
    "    3. ~こ ~個 counters counter suffix for small things\n",
    "    4.めい 名 counters counter suffix for people\n",
    "    5.なんめい 何名 interr. how many people\n",
    "    6.ゆうめい 有名 な- adj. famous\n",
    "    7.にぎやか 賑やか な- adj. lively/busy\n",
    "    8.しずか 静か な- adj. quiet\n",
    "    9.べんり 便利 な- adj. convenient\n",
    "    10.ふべん 不便 な- adj. inconvenient\n",
    "    11.じょうぶ 丈夫 な- adj. strong/solid\n",
    "    12.まじめ 真面目 な- adj. serious/honest\n",
    "    13.りっぱ 立派 な- adj. fine/respectable\n",
    "    14.ざんねん 残念 な- adj. regrettable\n",
    "    15.ひま 暇 な- adj. free\n",
    "    16.たいへん 大変 な- adj. difficult/hard\n",
    "    17.たくさん n./adv. many\n",
    "    18.いつも n./な- adj. always\n",
    "    19.みち 道 n. road/street\n",
    "    20.まち 町/街 n. town\n",
    "    21.そば n. soba(Japanese buckwheat noodles)\n",
    "    22.うどん n. udon (Japanese thick white noodle)\n",
    "    23.ぎゅうどん 牛丼 n. beef rice bowl\n",
    "    24.やきにく 焼肉 n. yakiniku(Japanese grilled beef)\n",
    "    25.にく 肉 n. meat\n"
   ]
  },
  {
   "cell_type": "markdown",
   "metadata": {},
   "source": [
    "    26.とりにく 鶏肉 n. chicken\n",
    "    27.ぶたにく 豚肉 n. pork\n",
    "    28.ぎゅうにく 牛肉 n. beef\n",
    "    29.やさい 野菜 n. vegetable\n",
    "    30.やきそば 焼きそば n. yakisoba (fried noodles)\n",
    "    31.カレー(ライス) n. curry\n",
    "    32.ピザ n. pizza\n",
    "    33.ハンバーガー n. hamburger\n",
    "    34.サンドイッチ n. sandwich\n",
    "    35.リンゴ n. apple\n",
    "    36.みかん 蜜柑 n. mandarin orange\n",
    "    37.なし 梨 n. pear\n",
    "    38.ていしょく 定食 n. set meal\n",
    "    39. ウェイトレス n waitress\n",
    "    40.ちゅうもん 注文 n./G3 order/to order\n",
    "    41.かいけい 会計 n./G3 payment/ to pay\n",
    "    42.えん 円 n. yen (Japanese currency)\n",
    "    43.べつべつ 別々 n./な-adj. separation/separately\n",
    "    44.レストラン n. restaurant\n",
    "    45.ところ 所 n. place\n",
    "    46.とき 時 n. time\n",
    "    47.ミス n. mistake\n",
    "    48.せいかつ 生活 n./G3 life/ to live\n",
    "    49.かえる 帰る G1 to go back/ return\n",
    "    50.おきる 起きる G2 to get up"
   ]
  },
  {
   "cell_type": "markdown",
   "metadata": {},
   "source": [
    "Here’s the formatted table for the new vocabulary:\n",
    "\n",
    "| No. | Japanese (Kanji) | Hiragana   | Romaji   | English Translation                | Part of Speech | Example Sentence (Japanese) | Example Sentence (English)   | Example Sentence (Romaji)           | Notes                                        |\n",
    "| --- | ---------------- | ---------- | -------- | ---------------------------------- | -------------- | --------------------------- | ---------------------------- | ----------------------------------- | -------------------------------------------- |\n",
    "| 1   | 1 つ             | ひとつ     | hitotsu  | one (used when counting things)    | Counters       | りんごが 1 つあります。     | There is one apple.          | Ringo ga hitotsu arimasu.           | Used for counting individual items.          |\n",
    "| 2   | 2 つ             | ふたつ     | futatsu  | two                                | Counters       | バナナが 2 つあります。     | There are two bananas.       | Banana ga futatsu arimasu.          | Used for counting individual items.          |\n",
    "| 3   | ~個              | ~こ        | ~ko      | counter suffix for small things    | Counters       | おにぎりが 3 個あります。   | There are three rice balls.  | Onigiri ga san ko arimasu.          | Used for small, countable items.             |\n",
    "| 4   | 名               | めい       | mei      | counter suffix for people          | Counters       | 彼は 3 名の友人がいます。   | He has three friends.        | Kare wa san mei no yuujin ga imasu. | Used for counting people.                    |\n",
    "| 5   | 何名             | なんめい   | nanmei   | how many people                    | Interrogative  | 何名ですか？                | How many people?             | Nanmei desu ka?                     | Used in questions about number of people.    |\n",
    "| 6   | 有名             | ゆうめい   | yuumei   | famous                             | な-adj.        | 彼女は有名な歌手です。      | She is a famous singer.      | Kanojo wa yuumei na kashu desu.     | Indicates popularity or renown.              |\n",
    "| 7   | 賑やか           | にぎやか   | nigiyaka | lively/busy                        | な-adj.        | この町は賑やかです。        | This town is lively.         | Kono machi wa nigiyaka desu.        | Describes a vibrant atmosphere.              |\n",
    "| 8   | 静か             | しずか     | shizuka  | quiet                              | な-adj.        | この場所は静かです。        | This place is quiet.         | Kono basho wa shizuka desu.         | Describes a calm environment.                |\n",
    "| 9   | 便利             | べんり     | benri    | convenient                         | な-adj.        | このアプリは便利です。      | This app is convenient.      | Kono apuri wa benri desu.           | Indicates usefulness or practicality.        |\n",
    "| 10  | 不便             | ふべん     | fuben    | inconvenient                       | な-adj.        | ここは不便です。            | This place is inconvenient.  | Koko wa fuben desu.                 | Indicates difficulty or lack of convenience. |\n",
    "| 11  | 丈夫             | じょうぶ   | joubu    | strong/solid                       | な-adj.        | この家具は丈夫です。        | This furniture is strong.    | Kono kagu wa joubu desu.            | Refers to durability or sturdiness.          |\n",
    "| 12  | 真面目           | まじめ     | majime   | serious/honest                     | な-adj.        | 彼は真面目な学生です。      | He is a serious student.     | Kare wa majime na gakusei desu.     | Indicates sincerity or diligence.            |\n",
    "| 13  | 立派             | りっぱ     | rippa    | fine/respectable                   | な-adj.        | 彼女は立派な人です。        | She is a respectable person. | Kanojo wa rippa na hito desu.       | Refers to admirable qualities.               |\n",
    "| 14  | 残念             | ざんねん   | zannen   | regrettable                        | な-adj.        | 残念ながら、行けません。    | Regrettably, I cannot go.    | Zannen nagara, ikemasen.            | Expresses disappointment.                    |\n",
    "| 15  | 暇               | ひま       | hima     | free                               | な-adj.        | 今は暇です。                | I am free now.               | Ima wa hima desu.                   | Indicates available time.                    |\n",
    "| 16  | 大変             | たいへん   | taihen   | difficult/hard                     | な-adj.        | これは大変な仕事です。      | This is a difficult job.     | Kore wa taihen na shigoto desu.     | Describes challenges.                        |\n",
    "| 17  | たくさん         | たくさん   | takusan  | many                               | n./adv.        | たくさんの人が来ました。    | Many people came.            | Takusan no hito ga kimashita.       | Refers to large quantities.                  |\n",
    "| 18  | いつも           | いつも     | itsumo   | always                             | n./na-adj.     | 彼はいつも遅れます。        | He is always late.           | Kare wa itsumo okuremasu.           | Indicates frequency.                         |\n",
    "| 19  | 道               | みち       | michi    | road/street                        | n.             | この道は広いです。          | This road is wide.           | Kono michi wa hiroi desu.           | Refers to pathways or routes.                |\n",
    "| 20  | 町/街            | まち       | machi    | town                               | n.             | この町は静かです。          | This town is quiet.          | Kono machi wa shizuka desu.         | Refers to urban areas.                       |\n",
    "| 21  | そば             | そば       | soba     | soba (Japanese buckwheat noodles)  | n.             | そばが好きです。            | I like soba.                 | Soba ga suki desu.                  | Refers to a type of noodle.                  |\n",
    "| 22  | うどん           | うどん     | udon     | udon (Japanese thick white noodle) | n.             | うどんが美味しいです。      | Udon is delicious.           | Udon ga oishii desu.                | Refers to another type of noodle.            |\n",
    "| 23  | 牛丼             | ぎゅうどん | gyuudon  | beef rice bowl                     | n.             | 牛丼が好きです。            | I like gyudon.               | Gyuudon ga suki desu.               | Refers to a popular dish.                    |\n",
    "| 24  | 焼肉             | やきにく   | yakiniku | yakiniku (Japanese grilled beef)   | n.             | 焼肉を食べに行きましょう。  | Let’s go eat yakiniku.       | Yakiniku o tabe ni ikimashou.       | Refers to grilled meat dishes.               |\n",
    "| 25  | 肉               | にく       | niku     | meat                               | n.             | 肉が好きです。              | I like meat.                 | Niku ga suki desu.                  | General term for meat.                       |\n",
    "\n",
    "If you need further assistance or more vocabulary, just let me know!\n"
   ]
  },
  {
   "cell_type": "markdown",
   "metadata": {},
   "source": [
    "Here's the formatted table for the new vocabulary:\n",
    "\n",
    "| No. | Japanese (Kanji) | Hiragana       | Romaji        | English Translation      | Part of Speech | Example Sentence (Japanese)  | Example Sentence (English)   | Example Sentence (Romaji)                 | Notes                              |\n",
    "| --- | ---------------- | -------------- | ------------- | ------------------------ | -------------- | ---------------------------- | ---------------------------- | ----------------------------------------- | ---------------------------------- |\n",
    "| 26 | 鶏肉             | とりにく       | toriniku      | chicken                  | n.             | 鶏肉が好きです。             | I like chicken.              | Toriniku ga suki desu.                    | Refers to poultry.                 |\n",
    "| 27 | 豚肉             | ぶたにく       | butaniku      | pork                     | n.             | 豚肉は美味しいです。         | Pork is delicious.           | Butaniku wa oishii desu.                  | Common type of meat.               |\n",
    "| 28 | 牛肉             | ぎゅうにく     | gyuuniku      | beef                     | n.             | 牛肉を食べました。           | I ate beef.                  | Gyuuniku o tabemashita.                   | Another popular type of meat.      |\n",
    "| 29 | 野菜             | やさい         | yasai         | vegetable                | n.             | 毎日野菜を食べます。         | I eat vegetables every day.  | Mainichi yasai o tabemasu.                | Refers to a variety of vegetables. |\n",
    "| 30 | 焼きそば         | やきそば       | yakisoba      | yakisoba (fried noodles) | n.             | 焼きそばが大好きです。       | I love yakisoba.             | Yakisoba ga daisuki desu.                 | A popular Japanese noodle dish.    |\n",
    "| 31 | カレー(ライス)   | カレー(ライス) | karee (raisu) | curry                    | n.             | カレーライスを注文しました。 | I ordered curry rice.        | Karee raisu o chuumon shimashita.         | A favorite comfort food.           |\n",
    "| 32 | ピザ             | ピザ           | piza          | pizza                    | n.             | ピザを食べましょう。         | Let's eat pizza.             | Piza o tabemashou.                        | Popular worldwide dish.            |\n",
    "| 33 | ハンバーガー     | ハンバーガー   | hanbaagaa     | hamburger                | n.             | ハンバーガーが好きです。     | I like hamburgers.           | Hanbaagaa ga suki desu.                   | Common fast food item.             |\n",
    "| 34 | サンドイッチ     | サンドイッチ   | sandoicchi    | sandwich                 | n.             | サンドイッチを作ります。     | I will make a sandwich.      | Sandoicchi o tsukurimasu.                 | Easy to prepare meal.              |\n",
    "| 35 | リンゴ           | リンゴ         | ringo         | apple                    | n.             | リンゴを食べたいです。       | I want to eat an apple.      | Ringo o tabetai desu.                     | Common fruit.                      |\n",
    "| 36 | 蜜柑             | みかん         | mikan         | mandarin orange          | n.             | 蜜柑は甘いです。             | The mandarin is sweet.       | Mikan wa amai desu.                       | Popular citrus fruit in Japan.     |\n",
    "| 37 | 梨               | なし           | nashi         | pear                     | n.             | 梨が新鮮です。               | The pear is fresh.           | Nashi ga shinsen desu.                    | Common seasonal fruit.             |\n",
    "| 38 | 定食             | ていしょく     | teishoku      | set meal                 | n.             | 定食を注文しました。         | I ordered a set meal.        | Teishoku o chuumon shimashita.            | Typically includes rice and sides. |\n",
    "| 39 | ウェイトレス     | ウェイトレス   | weiitoresu    | waitress                 | n.             | ウェイトレスに注文しました。 | I ordered from the waitress. | Weiitoresu ni chuumon shimashita.         | Refers to a female server.         |\n",
    "| 40 | 注文             | ちゅうもん     | chuumon       | order                    | n./G3          | 注文は何ですか？             | What is your order?          | Chuumon wa nan desu ka?                   | Used for food and drink requests.  |\n",
    "| 41 | 会計             | かいけい       | kaikei        | payment                  | n./G3          | 会計をお願いします。         | Please give me the bill.     | Kaikei o onegaishimasu.                   | Refers to the billing process.     |\n",
    "| 42 | 円               | えん           | en            | yen (Japanese currency)  | n.             | これで円を払います。         | I will pay with yen.         | Kore de en o haraimasu.                   | The currency used in Japan.        |\n",
    "| 43 | 別々             | べつべつ       | betsubetsu    | separation/separately    | n./na-adj.     | 別々に会計しましょう。       | Let's pay separately.        | Betsubetsu ni kaikei shimashou.           | Refers to separate payments.       |\n",
    "| 44 | レストラン       | レストラン     | resutoran     | restaurant               | n.             | このレストランは人気です。   | This restaurant is popular.  | Kono resutoran wa ninki desu.             | Dining establishment.              |\n",
    "| 45 | 所               | ところ         | tokoro        | place                    | n.             | いい所に住んでいます。       | I live in a nice place.      | Ii tokoro ni sundeimasu.                  | Refers to locations or spots.      |\n",
    "| 46 | 時               | とき           | toki          | time                     | n.             | 時間は大切です。             | Time is precious.            | Jikan wa taisetsu desu.                   | Refers to the concept of time.     |\n",
    "| 47 | ミス             | ミス           | misu          | mistake                  | n.             | それはミスです。             | That is a mistake.           | Sore wa misu desu.                        | Refers to errors or blunders.      |\n",
    "| 48 | 生活             | せいかつ       | seikatsu      | life                     | n./G3          | 彼は快適な生活をしています。 | He leads a comfortable life. | Kare wa kaiteki na seikatsu o shiteimasu. | Refers to daily living.            |\n",
    "| 49 | 帰る             | かえる         | kaeru         | to go back/return        | G1             | 家に帰ります。               | I will go back home.         | Ie ni kaerimasu.                          | Indicates returning to a place.    |\n",
    "| 50 | 起きる           | おきる         | okiru         | to get up                | G2             | 毎朝 6 時に起きます。        | I get up at 6 every morning. | Maiasa roku-ji ni okimasu.                | Refers to waking up or rising.     |\n",
    "\n",
    "If you need further adjustments or more vocabulary, feel free to ask!\n"
   ]
  },
  {
   "cell_type": "markdown",
   "metadata": {},
   "source": [
    "ウェイトレス:いらっしゃいませ。何 名 さまですか。\n",
    "\n",
    "安藤 :ふたりです。ウェイトレス:はい、こちらへ どうぞ。\n",
    "\n",
    "安藤 :この 店 は おいしくて、とても 有 名 ですよ。\n",
    "\n",
    "シルヴァン: 本 当 ですか。\n",
    "\n",
    "安藤 :はい、この 近 くには おいしいお 店 が たくさん ありますから、この 道 は いつも にぎやかです。シルヴァンさん、 何 を 食べますか。\n",
    "\n",
    "シルヴァン:そうですね。 てんぷら 定 食 を 食べます。 安 藤 さんは?\n",
    "\n",
    "安藤:わたしは やきそばを 食べます。注 文 しましょう。すみません。\n",
    "\n",
    "ウェイトレス:はい、ご 注 文 は?\n",
    "\n",
    "安藤:やきそば 一 つと てんぷら 定 食 一 つ、お 願 いします\n",
    "\n",
    "ウェイトレス:はい、やきそばと てんぷら 定 食 ですね。少 々 お待ちください。\n",
    "\n",
    "ウェイトレス:全部で 1980 円 です。 お会 計 は ご 一 緒 ですか、別 々 ですか。\n",
    "\n",
    "安藤:一 緒 でお 願 いします。\n",
    "\n",
    "シルヴァン:ああ、おいしかった。 安 藤 さん、ごちそうさまでした。ありがとう ございます。\n",
    "\n",
    "安藤:いいえ、どういたしまして。"
   ]
  },
  {
   "cell_type": "markdown",
   "metadata": {},
   "source": [
    "Here's the formatted table based on your latest conversation:\n",
    "\n",
    "| Speaker      | Japanese (Hiragana)                                                                              | Japanese (Kanji)                                                                 | English Translation                                                                | Romaji                                                                                            | Notes                                                |\n",
    "| ------------ | ------------------------------------------------------------------------------------------------ | -------------------------------------------------------------------------------- | ---------------------------------------------------------------------------------- | ------------------------------------------------------------------------------------------------- | ---------------------------------------------------- |\n",
    "| ウェイトレス | いらっしゃいませ。なんめいさまですか。                                                           | いらっしゃいませ。何名様ですか。                                                 | Welcome. How many people?                                                          | Irasshaimase. Nan-mei sama desu ka?                                                               | A standard greeting in restaurants.                  |\n",
    "| 安藤         | ふたりです。                                                                                     | 2 人です。                                                                       | Two people.                                                                        | Futari desu.                                                                                      | A simple response to the question.                   |\n",
    "| ウェイトレス | はい、こちらへどうぞ。                                                                           | はい、こちらへどうぞ。                                                           | Yes, please come this way.                                                         | Hai, kochira e douzo.                                                                             | Guiding the customers to their table.                |\n",
    "| 安藤         | このみせは おいしくて、とても ゆうめいですよ。                                                   | この店はおいしくて、とても有名ですよ。                                           | This restaurant is delicious and very famous.                                      | Kono mise wa oishikute, totemo yuumei desu yo.                                                    | Sharing information about the restaurant.            |\n",
    "| シルヴァン   | ほんとうですか。                                                                                 | 本当ですか。                                                                     | Really?                                                                            | Hontou desu ka?                                                                                   | Expressing curiosity.                                |\n",
    "| 安藤         | はい、この ちかくには おいしいおみせが たくさん ありますから、この みち は いつも にぎやかです。 | はい、この近くにはおいしいお店がたくさんありますから、この道はいつも賑やかです。 | Yes, there are many delicious restaurants nearby, so this street is always lively. | Hai, kono chikaku ni wa oishii omise ga takusan arimasu kara, kono michi wa itsumo nigiyaka desu. | Providing additional context about the area.         |\n",
    "| 安藤         | シルヴァンさん、何を たべますか。                                                                | シルヴァンさん、何を食べますか。                                                 | Sylvain, what will you eat?                                                        | Shiruvan-san, nani wo tabemasu ka?                                                                | Asking for the other person's order.                 |\n",
    "| シルヴァン   | そうですね。てんぷら ていしょく を たべます。                                                    | そうですね。天ぷら定食を食べます。                                               | Well, I’ll have the tempura set meal.                                              | Sou desu ne. Tenpura teishoku wo tabemasu.                                                        | Confirming and stating the order.                    |\n",
    "| 安藤         | わたしは やきそばを たべます。ちゅうもんしましょう。すみません。                                 | 私は焼きそばを食べます。注文しましょう。すみません。                             | I’ll have yakisoba. Let’s place the order. Excuse me.                              | Watashi wa yakisoba wo tabemasu. Chuumon shimashou. Sumimasen.                                    | Placing the order.                                   |\n",
    "| ウェイトレス | はい、ごちゅうもんは？                                                                           | はい、ご注文は？                                                                 | Yes, what would you like to order?                                                 | Hai, gochuumon wa?                                                                                | Confirming the order.                                |\n",
    "| 安藤         | やきそば いちつと てんぷら ていしょく いちつ、おねがいします。                                   | 焼きそば 1 つと天ぷら定食 1 つ、お願いします。                                   | One yakisoba and one tempura set meal, please.                                     | Yakisoba hitotsu to tenpura teishoku hitotsu, onegaishimasu.                                      | Ordering specific items.                             |\n",
    "| ウェイトレス | はい、やきそばと てんぷら ていしょく ですね。しょうしょう おまちください。                       | はい、焼きそばと天ぷら定食ですね。少々お待ちください。                           | Yes, one yakisoba and one tempura set meal. Please wait a moment.                  | Hai, yakisoba to tenpura teishoku desu ne. Shoushou omachi kudasai.                               | Confirming the order and asking for patience.        |\n",
    "| ウェイトレス | ぜんぶで 1980 えん です。おかいけいは ごいっしょ ですか、べつべつですか。                        | 全部で 1980 円です。お会計はご一緒ですか、別々ですか。                           | That will be 1980 yen in total. Would you like to pay together or separately?      | Zenbu de 1980 en desu. Okaikei wa goissho desu ka, betsubetsu desu ka?                            | Asking about the payment method.                     |\n",
    "| 安藤         | いっしょで おねがいします。                                                                      | 一緒でお願いします。                                                             | Please pay together.                                                               | Issho de onegaishimasu.                                                                           | Confirming the payment preference.                   |\n",
    "| シルヴァン   | ああ、おいしかった。あんどうさん、ごちそうさまでした。ありがとう ございます。                    | ああ、おいしかった。安藤さん、ごちそうさまでした。ありがとうございます。         | Ah, that was delicious. Thank you for the meal, Ando-san.                          | Aa, oishikatta. Andou-san, gochisousama deshita. Arigatou gozaimasu.                              | Expressing satisfaction with the meal and gratitude. |\n",
    "| 安藤         | いいえ。                                                                                         | いいえ。                                                                         | No problem.                                                                        | Iie.                                                                                              | A casual response indicating no trouble.             |\n",
    "\n",
    "If you need further modifications or additional details, feel free to ask!\n"
   ]
  },
  {
   "cell_type": "markdown",
   "metadata": {},
   "source": [
    "---"
   ]
  },
  {
   "cell_type": "markdown",
   "metadata": {},
   "source": [
    "# Conversation"
   ]
  },
  {
   "cell_type": "markdown",
   "metadata": {},
   "source": []
  },
  {
   "cell_type": "markdown",
   "metadata": {},
   "source": []
  },
  {
   "cell_type": "markdown",
   "metadata": {},
   "source": [
    "---"
   ]
  },
  {
   "cell_type": "markdown",
   "metadata": {},
   "source": [
    "# Grammar 1\n"
   ]
  },
  {
   "cell_type": "markdown",
   "metadata": {},
   "source": []
  },
  {
   "cell_type": "markdown",
   "metadata": {},
   "source": []
  },
  {
   "cell_type": "markdown",
   "metadata": {},
   "source": [
    "---\n",
    "---"
   ]
  },
  {
   "cell_type": "markdown",
   "metadata": {},
   "source": [
    "# Grammar 2\n"
   ]
  },
  {
   "cell_type": "markdown",
   "metadata": {},
   "source": []
  },
  {
   "cell_type": "markdown",
   "metadata": {},
   "source": []
  },
  {
   "cell_type": "markdown",
   "metadata": {},
   "source": [
    "---\n",
    "---"
   ]
  },
  {
   "cell_type": "markdown",
   "metadata": {},
   "source": [
    "# Grammar 3\n"
   ]
  },
  {
   "cell_type": "markdown",
   "metadata": {},
   "source": []
  },
  {
   "cell_type": "markdown",
   "metadata": {},
   "source": []
  },
  {
   "cell_type": "markdown",
   "metadata": {},
   "source": [
    "---\n",
    "---"
   ]
  },
  {
   "cell_type": "markdown",
   "metadata": {},
   "source": [
    "# Grammar 4\n"
   ]
  },
  {
   "cell_type": "markdown",
   "metadata": {},
   "source": []
  },
  {
   "cell_type": "markdown",
   "metadata": {},
   "source": []
  },
  {
   "cell_type": "markdown",
   "metadata": {},
   "source": [
    "---\n",
    "---"
   ]
  },
  {
   "cell_type": "markdown",
   "metadata": {},
   "source": [
    "# Grammar 5\n"
   ]
  },
  {
   "cell_type": "markdown",
   "metadata": {},
   "source": []
  },
  {
   "cell_type": "markdown",
   "metadata": {},
   "source": []
  },
  {
   "cell_type": "markdown",
   "metadata": {},
   "source": [
    "---\n",
    "---"
   ]
  },
  {
   "cell_type": "markdown",
   "metadata": {},
   "source": [
    "# Grammar 6\n"
   ]
  },
  {
   "cell_type": "markdown",
   "metadata": {},
   "source": []
  },
  {
   "cell_type": "markdown",
   "metadata": {},
   "source": []
  },
  {
   "cell_type": "markdown",
   "metadata": {},
   "source": [
    "---\n",
    "---"
   ]
  },
  {
   "cell_type": "markdown",
   "metadata": {},
   "source": [
    "# Grammar 7\n"
   ]
  },
  {
   "cell_type": "markdown",
   "metadata": {},
   "source": []
  },
  {
   "cell_type": "markdown",
   "metadata": {},
   "source": []
  },
  {
   "cell_type": "markdown",
   "metadata": {},
   "source": [
    "---\n",
    "---"
   ]
  },
  {
   "cell_type": "markdown",
   "metadata": {},
   "source": [
    "# Grammar 8\n"
   ]
  },
  {
   "cell_type": "markdown",
   "metadata": {},
   "source": []
  },
  {
   "cell_type": "markdown",
   "metadata": {},
   "source": []
  },
  {
   "cell_type": "markdown",
   "metadata": {},
   "source": [
    "---\n",
    "---"
   ]
  },
  {
   "cell_type": "markdown",
   "metadata": {},
   "source": [
    "# Grammar 9\n"
   ]
  },
  {
   "cell_type": "markdown",
   "metadata": {},
   "source": []
  },
  {
   "cell_type": "markdown",
   "metadata": {},
   "source": []
  },
  {
   "cell_type": "markdown",
   "metadata": {},
   "source": [
    "---\n",
    "---"
   ]
  }
 ],
 "metadata": {
  "language_info": {
   "name": "python"
  }
 },
 "nbformat": 4,
 "nbformat_minor": 2
}
