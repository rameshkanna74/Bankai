{
 "cells": [
  {
   "cell_type": "markdown",
   "metadata": {},
   "source": [
    "# Vocabulary"
   ]
  },
  {
   "cell_type": "markdown",
   "metadata": {},
   "source": [
    "    1.あね 姉 n. elder sister(When talking about your own sister)\n",
    "    2.おねえさん お姉さん n. elder sister\n",
    "    3.いもうと 妹 n. younger sister-\n",
    "    4.おとうと 弟 n. younger brother\n",
    "    5.おば n. aunt(when talking about your own aunt)\n",
    "    6.おばさん n. aunt\n",
    "    7.おじ n. uncle(When talking about your own uncle)\n",
    "    8.おじさん n. uncle\n",
    "    9.~ちゃん suffix suffix added to a girl's first name\n",
    "    10.~くん ~君 suffix suffix added to a boy's first name\n",
    "    11.ハッピー ハッピーゆうえんち 遊園地 n. an amusement park name\n",
    "    12.かんらんしゃ 観覧車 n. ferries wheel\n",
    "    13.ぜんかい 前回 n. last time\n",
    "    14.じかい 次回 n. next time\n",
    "    15.あめ 雨 n. rain\n",
    "    16.ゆき 雪 n. snow\n",
    "    17.はれ 晴れ n. clear weather\n",
    "    18.くもり 曇り n. cloudy weather\n",
    "    19.かぜ 風 n. wind\n",
    "    20.はれる 晴れる G2 to clear (up)\n",
    "    21.ふる 降る G1 to fall (rain/snow)\n",
    "    22.ふく 吹く G1 to blow (wind)\n",
    "    23.ごろ 頃 suffix about/around (used for time)\n",
    "    24.じしょ 辞書 n. dictionary\n",
    "    25.でんしじしょ 電子辞書 n. electronic dictionary\n"
   ]
  },
  {
   "cell_type": "markdown",
   "metadata": {},
   "source": [
    "    26.じゅぎょう 授業 n. class\n",
    "    27.ふじさん 富士山 n. Mt. Fuji\n",
    "    28.やま 山 n. mountain\n",
    "    29.のぼる 登る G1 to climb\n",
    "    30.しあい 試合 n. match/game\n",
    "    31.かつ 勝つ G1 to win\n",
    "    32.りゅうがく 留学 n./G3 studying abroad/to study abroad\n",
    "    33.なつやすみ n. summer vacation\n",
    "    34.ふゆやすみ n. winter vacation\n",
    "    35.はるやすみ n. spring vacation\n",
    "    36.しらべる G2 to examine/to search\n",
    "    37.でかける G2 to go out\n",
    "    38.きゃく n. customer\n",
    "    39.てんちょう n. store manager\n",
    "    40.ケーキ n. cake\n",
    "    41.みのり Minori (a Japanese girl's first name)\n",
    "    42.かずこ 和子 n. Kazuko (a Japanese girl's first name)\n",
    "    43.たくや 拓也 n. Takuya (a Japanese boy's first name)\n",
    "    44.アパート n. apartment\n",
    "    45.マンション n. condominium\n"
   ]
  },
  {
   "cell_type": "markdown",
   "metadata": {},
   "source": [
    "Here’s the formatted table for the new vocabulary you provided:\n",
    "\n",
    "---\n",
    "\n",
    "| No. | Japanese (Kanji) | Hiragana           | Romaji        | English Translation                 | Part of Speech | Example Sentence (Japanese)  | Example Sentence (English)               | Example Sentence (Romaji)       | Notes                                   |\n",
    "| --- | ---------------- | ------------------ | ------------- | ----------------------------------- | -------------- | ---------------------------- | ---------------------------------------- | ------------------------------- | --------------------------------------- |\n",
    "| 1   | 姉               | あね               | ane           | elder sister (your own sister)      | n.             | 姉は東京に住んでいます。     | My elder sister lives in Tokyo.          | Ane wa Tōkyō ni sundeimasu.     | Used when referring to one's own sister |\n",
    "| 2   | お姉さん         | おねえさん         | onēsan        | elder sister                        | n.             | お姉さんは優しいです。       | Your elder sister is kind.               | Onēsan wa yasashii desu.        | Polite term for someone else's sister   |\n",
    "| 3   | 妹               | いもうと           | imōto         | younger sister                      | n.             | 妹が遊びに来ます。           | My younger sister is coming over.        | Imōto ga asobi ni kimasu.       | Refers to one's own younger sister      |\n",
    "| 4   | 弟               | おとうと           | otōto         | younger brother                     | n.             | 弟はサッカーが好きです。     | My younger brother likes soccer.         | Otōto wa sakkā ga suki desu.    | Refers to one's own younger brother     |\n",
    "| 5   | おば             | おば               | oba           | aunt (your own aunt)                | n.             | おばが遊びに来ます。         | My aunt is coming over.                  | Oba ga asobi ni kimasu.         | Used for one's own aunt                 |\n",
    "| 6   | おばさん         | おばさん           | obasan        | aunt                                | n.             | おばさんはお料理が得意です。 | My aunt is good at cooking.              | Obasan wa ryōri ga tokui desu.  | General term for aunt                   |\n",
    "| 7   | おじ             | おじ               | oji           | uncle (your own uncle)              | n.             | おじが車を持っています。     | My uncle has a car.                      | Oji ga kuruma o motteimasu.     | Used for one's own uncle                |\n",
    "| 8   | おじさん         | おじさん           | ojisan        | uncle                               | n.             | おじさんは面白い人です。     | My uncle is an interesting person.       | Ojisan wa omoshiroi hito desu.  | General term for uncle                  |\n",
    "| 9   | ~ちゃん          | ~ちゃん            | ~chan         | suffix added to a girl's first name | suffix         | さくらちゃんが来た。         | Sakura-chan has come.                    | Sakura-chan ga kita.            | Indicates familiarity or affection      |\n",
    "| 10  | ~くん            | ~くん              | ~kun          | suffix added to a boy's first name  | suffix         | たろうくんは元気です。       | Taro-kun is doing well.                  | Tarō-kun wa genki desu.         | Used for boys, often among friends      |\n",
    "| 11  | ハッピー遊園地   | ハッピーゆうえんち | Happī Yūenchi | Happy Amusement Park                | n.             | ハッピー遊園地は楽しいです。 | Happy Amusement Park is fun.             | Happī Yūenchi wa tanoshii desu. | Name of a specific amusement park       |\n",
    "| 12  | 観覧車           | かんらんしゃ       | kanransha     | ferris wheel                        | n.             | 観覧車に乗りたいです。       | I want to ride the ferris wheel.         | Kanransha ni noritai desu.      | Popular attraction at amusement parks   |\n",
    "| 13  | 前回             | ぜんかい           | zenkai        | last time                           | n.             | 前回は楽しかったです。       | Last time was fun.                       | Zenkai wa tanoshikatta desu.    | Refers to the previous occasion         |\n",
    "| 14  | 次回             | じかい             | jikai         | next time                           | n.             | 次回はもっと面白いです。     | Next time will be more interesting.      | Jikai wa motto omoshiroi desu.  | Refers to the upcoming occasion         |\n",
    "| 15  | 雨               | あめ               | ame           | rain                                | n.             | 雨が降っています。           | It is raining.                           | Ame ga futteimasu.              | Common weather term                     |\n",
    "| 16  | 雪               | ゆき               | yuki          | snow                                | n.             | 雪が積もっています。         | Snow is piling up.                       | Yuki ga tsumotteimasu.          | Common weather term                     |\n",
    "| 17  | 晴れ             | はれ               | hare          | clear weather                       | n.             | 晴れた日が好きです。         | I like sunny days.                       | Haretahi ga suki desu.          | Indicates good weather                  |\n",
    "| 18  | 曇り             | くもり             | kumori        | cloudy weather                      | n.             | 今日は曇りです。             | Today is cloudy.                         | Kyō wa kumori desu.             | Indicates overcast conditions           |\n",
    "| 19  | 風               | かぜ               | kaze          | wind                                | n.             | 風が強いです。               | The wind is strong.                      | Kaze ga tsuyoi desu.            | Common weather term                     |\n",
    "| 20  | 晴れる           | はれる             | hareru        | to clear (up)                       | G2             | 天気が晴れます。             | The weather will clear up.               | Tenki ga haremasu.              | Refers to improving weather             |\n",
    "| 21  | 降る             | ふる               | furu          | to fall (rain/snow)                 | G1             | 雨が降っています。           | It is raining.                           | Ame ga futteimasu.              | Refers to precipitation                 |\n",
    "| 22  | 吹く             | ふく               | fuku          | to blow (wind)                      | G1             | 風が吹いています。           | The wind is blowing.                     | Kaze ga fuiteimasu.             | Refers to wind movement                 |\n",
    "| 23  | 頃               | ごろ               | goro          | about/around (used for time)        | suffix         | 五時頃に会いましょう。       | Let's meet around five o'clock.          | Go-ji goro ni aimashou.         | Used for estimating time                |\n",
    "| 24  | 辞書             | じしょ             | jisho         | dictionary                          | n.             | 辞書を使っています。         | I am using a dictionary.                 | Jisho o tsukatteimasu.          | Reference tool for language             |\n",
    "| 25  | 電子辞書         | でんしじしょ       | denshi jisho  | electronic dictionary               | n.             | 電子辞書が便利です。         | The electronic dictionary is convenient. | Denshi jisho ga benri desu.     | Modern tool for language study          |\n",
    "\n",
    "---\n",
    "\n",
    "Feel free to ask if you have more vocabulary or need further assistance!\n"
   ]
  },
  {
   "cell_type": "markdown",
   "metadata": {},
   "source": [
    "Here’s the formatted table for the additional vocabulary you provided:\n",
    "\n",
    "---\n",
    "\n",
    "| No. | Japanese (Kanji) | Hiragana   | Romaji      | English Translation                   | Part of Speech | Example Sentence (Japanese)      | Example Sentence (English)                  | Example Sentence (Romaji)                       | Notes                                  |\n",
    "| --- | ---------------- | ---------- | ----------- | ------------------------------------- | -------------- | -------------------------------- | ------------------------------------------- | ----------------------------------------------- | -------------------------------------- |\n",
    "| 26  | 授業             | じゅぎょう | jugyō       | class                                 | n.             | 授業は午前九時に始まります。     | Class starts at 9 AM.                       | Jugyō wa gozen kyuu-ji ni hajimarimasu.         | Educational context                    |\n",
    "| 27  | 富士山           | ふじさん   | Fujisan     | Mt. Fuji                              | n.             | 富士山は日本一高い山です。       | Mt. Fuji is the tallest mountain in Japan.  | Fujisan wa Nihon ichi takai yama desu.          | Iconic symbol of Japan                 |\n",
    "| 28  | 山               | やま       | yama        | mountain                              | n.             | 山に登るのが好きです。           | I like climbing mountains.                  | Yama ni noboru no ga suki desu.                 | General term for a mountain            |\n",
    "| 29  | 登る             | のぼる     | noboru      | to climb                              | G1             | 山を登るのは楽しいです。         | Climbing mountains is fun.                  | Yama o noboru no wa tanoshii desu.              | Action of ascending                    |\n",
    "| 30  | 試合             | しあい     | shiai       | match/game                            | n.             | サッカーの試合があります。       | There is a soccer match.                    | Sakkā no shiai ga arimasu.                      | Competitive context                    |\n",
    "| 31  | 勝つ             | かつ       | katsu       | to win                                | G1             | 試合に勝ちました。               | We won the match.                           | Shiai ni kachimashita.                          | Refers to achieving victory            |\n",
    "| 32  | 留学             | りゅうがく | ryūgaku     | studying abroad/to study abroad       | n./G3          | 留学するのが夢です。             | Studying abroad is my dream.                | Ryūgaku suru no ga yume desu.                   | Common aspiration for students         |\n",
    "| 33  | 夏休み           | なつやすみ | natsuyasumi | summer vacation                       | n.             | 夏休みが待ち遠しいです。         | I can't wait for summer vacation.           | Natsuyasumi ga machidooshii desu.               | School break during summer             |\n",
    "| 34  | 冬休み           | ふゆやすみ | fuyuyasumi  | winter vacation                       | n.             | 冬休みは家族と過ごします。       | I spend winter vacation with my family.     | Fuyuyasumi wa kazoku to sugoshimasu.            | School break during winter             |\n",
    "| 35  | 春休み           | はるやすみ | haruyasumi  | spring vacation                       | n.             | 春休みは旅行に行きます。         | I will go on a trip during spring vacation. | Haruyasumi wa ryokō ni ikimasu.                 | School break during spring             |\n",
    "| 36  | 調べる           | しらべる   | shiraberu   | to examine/to search                  | G2             | 本を調べています。               | I am examining the book.                    | Hon o shirabeteimasu.                           | Refers to researching or investigating |\n",
    "| 37  | 出かける         | でかける   | dekakeru    | to go out                             | G2             | 友達と出かけます。               | I will go out with my friends.              | Tomodachi to dekakemasu.                        | Indicates leaving home for an outing   |\n",
    "| 38  | 客               | きゃく     | kyaku       | customer                              | n.             | 客がたくさん来ています。         | Many customers are coming.                  | Kyaku ga takusan kiteimasu.                     | Refers to patrons or clients           |\n",
    "| 39  | 店長             | てんちょう | tenchō      | store manager                         | n.             | 店長が新しい商品を紹介しました。 | The store manager introduced a new product. | Tenchō ga atarashii shōhin o shōkai shimashita. | Refers to the head of a store          |\n",
    "| 40  | ケーキ           | ケーキ     | kēki        | cake                                  | n.             | ケーキがとても美味しいです。     | The cake is very delicious.                 | Kēki ga totemo oishii desu.                     | Popular dessert                        |\n",
    "| 41  | 美乃梨           | みのり     | Minori      | Minori (a Japanese girl's first name) | n.             | 美乃梨さんはとても優しいです。   | Minori-san is very kind.                    | Minori-san wa totemo yasashii desu.             | Common name for girls                  |\n",
    "| 42  | 和子             | かずこ     | Kazuko      | Kazuko (a Japanese girl's first name) | n.             | 和子さんは学生です。             | Kazuko-san is a student.                    | Kazuko-san wa gakusei desu.                     | Common name for girls                  |\n",
    "| 43  | 拓也             | たくや     | Takuya      | Takuya (a Japanese boy's first name)  | n.             | 拓也くんはサッカー選手です。     | Takuya-kun is a soccer player.              | Takuya-kun wa sakkā senshu desu.                | Common name for boys                   |\n",
    "| 44  | アパート         | アパート   | apāto       | apartment                             | n.             | アパートに住んでいます。         | I live in an apartment.                     | Apāto ni sundeimasu.                            | Type of housing                        |\n",
    "| 45  | マンション       | マンション | manshon     | condominium                           | n.             | マンションは便利です。           | The condominium is convenient.              | Manshon wa benri desu.                          | More spacious than an apartment        |\n",
    "\n",
    "---\n",
    "\n",
    "If you have more vocabulary or need anything else, feel free to ask!\n"
   ]
  },
  {
   "cell_type": "markdown",
   "metadata": {},
   "source": []
  },
  {
   "cell_type": "markdown",
   "metadata": {},
   "source": []
  },
  {
   "cell_type": "markdown",
   "metadata": {},
   "source": [
    "---"
   ]
  },
  {
   "cell_type": "markdown",
   "metadata": {},
   "source": [
    "# Conversation"
   ]
  },
  {
   "cell_type": "markdown",
   "metadata": {},
   "source": [
    "妹:ねえ、お姉ちゃん、明日 忙しい?\n",
    "\n",
    "安藤:え? あした?\n",
    "\n",
    "妹:うん。\n",
    "\n",
    "安藤:明日は 休みだけど、どうしたの?\n",
    "\n",
    "妹:いっしょに ハッピー遊園地に 行かない?\n",
    "\n",
    "安藤:いいけど、明日 みのりちゃん アルバイトが あるでしょう。\n",
    "\n",
    "妹: 休みに なったよ。 だから、一緒に 行きましょうよ。\n",
    "\n",
    "安藤:そうなんだ。みのりちゃん、ハッピー遊園地に 前回いつごろ 行ったの?\n",
    "\n",
    "妹: 先週の 土曜日。\n",
    "\n",
    "安藤:ええ? それでも 明日 また行くの?\n",
    "\n",
    "妹: ハッピー遊園地が 大好きだから。 一緒に 遊びましょうよ。\n",
    "\n",
    "安藤:うん、わかった。じゃあ、行きましょう。ちょっと、明日の天気を 調べるね。明日は 晴れだね。\n",
    "\n",
    "妹: よかった。\n",
    "\n",
    "安藤:私の アパートは ハッピー遊園地に 近いから、今晩、うちに 泊まる?\n",
    "\n",
    "妹: うん、ありがとう。 じゃ、お母さんに 電話するね。\n"
   ]
  },
  {
   "cell_type": "markdown",
   "metadata": {},
   "source": [
    "Here's the formatted table for your latest conversation:\n",
    "\n",
    "| Speaker | Japanese (Hiragana)                                                                      | Japanese (Kanji)                                                                       | English Translation                                                                 | Romaji                                                                                      | Notes                                                 |\n",
    "| ------- | ---------------------------------------------------------------------------------------- | -------------------------------------------------------------------------------------- | ----------------------------------------------------------------------------------- | ------------------------------------------------------------------------------------------- | ----------------------------------------------------- |\n",
    "| 妹      | ねえ、お姉ちゃん、あした いそがしい?                                                     | ねえ、お姉ちゃん、明日忙しい?                                                          | Hey, big sister, are you busy tomorrow?                                             | Nee, onee-chan, ashita isogashii?                                                           | Starting the conversation casually.                   |\n",
    "| 安藤    | え? あした?                                                                              | え? 明日?                                                                              | Huh? Tomorrow?                                                                      | E? Ashita?                                                                                  | Clarifying the question.                              |\n",
    "| 妹      | うん。                                                                                   | うん。                                                                                 | Yeah.                                                                               | Un.                                                                                         | Confirming her answer.                                |\n",
    "| 安藤    | 明日は やすみだけど、どうしたの?                                                         | 明日は休みだけど、どうしたの?                                                          | I'm off tomorrow, but what's up?                                                    | Ashita wa yasumi dakedo, dou shita no?                                                      | Asking for the reason.                                |\n",
    "| 妹      | いっしょに ハッピー遊園地に 行かない?                                                    | 一緒にハッピー遊園地に行かない?                                                        | Want to go to Happy Amusement Park together?                                        | Issho ni Happī Yūenchi ni ikanai?                                                           | Proposing an outing.                                  |\n",
    "| 安藤    | いいけど、明日 みのりちゃん アルバイトが あるでしょう。                                  | いいけど、明日みのりちゃんアルバイトがあるでしょう。                                   | That sounds good, but Minori-chan has her part-time job tomorrow, right?            | Ii kedo, ashita Minori-chan arubaito ga aru deshou.                                         | Mentioning a potential conflict.                      |\n",
    "| 妹      | 休みに なったよ。だから、一緒に 行きましょうよ。                                         | 休みになったよ。だから、一緒に行きましょうよ。                                         | She got the day off. So let's go together!                                          | Yasumi ni natta yo. Dakara, issho ni ikimashou yo.                                          | Explaining the change in plans.                       |\n",
    "| 安藤    | そうなんだ。みのりちゃん、ハッピー遊園地に 前回いつごろ 行ったの?                        | そうなんだ。みのりちゃん、ハッピー遊園地に前回いつごろ行ったの?                        | I see. When was the last time Minori-chan went to Happy Amusement Park?             | Sou nanda. Minori-chan, Happī Yūenchi ni zenkai itsu goro itta no?                          | Asking for more information.                          |\n",
    "| 妹      | 先週の 土曜日。                                                                          | 先週の土曜日。                                                                         | Last Saturday.                                                                      | Senshuu no doyoubi.                                                                         | Providing the last visit date.                        |\n",
    "| 安藤    | ええ? それでも 明日 また行くの?                                                          | ええ? それでも明日また行くの?                                                          | Huh? Are you really going again tomorrow?                                           | Ee? Sore demo ashita mata iku no?                                                           | Expressing surprise.                                  |\n",
    "| 妹      | ハッピー遊園地が 大好きだから。一緒に 遊びましょうよ。                                   | ハッピー遊園地が大好きだから。一緒に遊びましょうよ。                                   | I love Happy Amusement Park! Let’s have fun together!                               | Happī Yūenchi ga daisuki dakara. Issho ni asobimashou yo.                                   | Sharing enthusiasm for the amusement park.            |\n",
    "| 安藤    | うん、わかった。じゃあ、行きましょう。ちょっと、明日の天気を 調べるね。明日は 晴れだね。 | うん、わかった。じゃあ、行きましょう。ちょっと、明日の天気を調べるね。明日は晴れだね。 | Okay, got it. Let’s go! Let me check the weather for tomorrow. It’s sunny!          | Un, wakatta. Jaa, ikimashou. Chotto, ashita no tenki wo shiraberu ne. Ashita wa hare da ne. | Confirming the plan and checking the weather.         |\n",
    "| 妹      | よかった。                                                                               | よかった。                                                                             | That’s great!                                                                       | Yokatta.                                                                                    | Expressing relief or happiness about the weather.     |\n",
    "| 安藤    | 私の アパートは ハッピー遊園地に 近いから、今晩、うちに 泊まる?                          | 私のアパートはハッピー遊園地に近いから、今晩、うちに泊まる?                            | My apartment is close to Happy Amusement Park, so do you want to stay over tonight? | Watashi no apāto wa Happī Yūenchi ni chikai kara, konban, uchi ni tomaru?                   | Offering to host for the night.                       |\n",
    "| 妹      | うん、ありがとう。じゃ、お母さんに 電話するね。                                          | うん、ありがとう。じゃ、お母さんに電話するね。                                         | Yeah, thank you! Then I'll call Mom.                                                | Un, arigatou. Ja, okaasan ni denwa suru ne.                                                 | Confirming plans and mentioning calling their mother. |\n",
    "\n",
    "If you need any more assistance, feel free to ask!\n"
   ]
  },
  {
   "cell_type": "markdown",
   "metadata": {},
   "source": [
    "---"
   ]
  },
  {
   "cell_type": "markdown",
   "metadata": {},
   "source": [
    "# Grammar 1\n"
   ]
  },
  {
   "cell_type": "markdown",
   "metadata": {},
   "source": []
  },
  {
   "cell_type": "markdown",
   "metadata": {},
   "source": []
  },
  {
   "cell_type": "markdown",
   "metadata": {},
   "source": [
    "---\n",
    "---"
   ]
  },
  {
   "cell_type": "markdown",
   "metadata": {},
   "source": [
    "# Grammar 2\n"
   ]
  },
  {
   "cell_type": "markdown",
   "metadata": {},
   "source": []
  },
  {
   "cell_type": "markdown",
   "metadata": {},
   "source": []
  },
  {
   "cell_type": "markdown",
   "metadata": {},
   "source": [
    "---\n",
    "---"
   ]
  },
  {
   "cell_type": "markdown",
   "metadata": {},
   "source": [
    "# Grammar 3\n"
   ]
  },
  {
   "cell_type": "markdown",
   "metadata": {},
   "source": []
  },
  {
   "cell_type": "markdown",
   "metadata": {},
   "source": []
  },
  {
   "cell_type": "markdown",
   "metadata": {},
   "source": [
    "---\n",
    "---"
   ]
  },
  {
   "cell_type": "markdown",
   "metadata": {},
   "source": [
    "# Grammar 4\n"
   ]
  },
  {
   "cell_type": "markdown",
   "metadata": {},
   "source": []
  },
  {
   "cell_type": "markdown",
   "metadata": {},
   "source": []
  },
  {
   "cell_type": "markdown",
   "metadata": {},
   "source": [
    "---\n",
    "---"
   ]
  },
  {
   "cell_type": "markdown",
   "metadata": {},
   "source": [
    "# Grammar 5\n"
   ]
  },
  {
   "cell_type": "markdown",
   "metadata": {},
   "source": []
  },
  {
   "cell_type": "markdown",
   "metadata": {},
   "source": []
  },
  {
   "cell_type": "markdown",
   "metadata": {},
   "source": [
    "---\n",
    "---"
   ]
  },
  {
   "cell_type": "markdown",
   "metadata": {},
   "source": [
    "# Grammar 6\n"
   ]
  },
  {
   "cell_type": "markdown",
   "metadata": {},
   "source": []
  },
  {
   "cell_type": "markdown",
   "metadata": {},
   "source": []
  },
  {
   "cell_type": "markdown",
   "metadata": {},
   "source": [
    "---\n",
    "---"
   ]
  },
  {
   "cell_type": "markdown",
   "metadata": {},
   "source": [
    "# Grammar 7\n"
   ]
  },
  {
   "cell_type": "markdown",
   "metadata": {},
   "source": []
  },
  {
   "cell_type": "markdown",
   "metadata": {},
   "source": []
  },
  {
   "cell_type": "markdown",
   "metadata": {},
   "source": [
    "---\n",
    "---"
   ]
  },
  {
   "cell_type": "markdown",
   "metadata": {},
   "source": [
    "# Grammar 8\n"
   ]
  },
  {
   "cell_type": "markdown",
   "metadata": {},
   "source": []
  },
  {
   "cell_type": "markdown",
   "metadata": {},
   "source": []
  },
  {
   "cell_type": "markdown",
   "metadata": {},
   "source": [
    "---\n",
    "---"
   ]
  },
  {
   "cell_type": "markdown",
   "metadata": {},
   "source": [
    "# Grammar 9\n"
   ]
  },
  {
   "cell_type": "markdown",
   "metadata": {},
   "source": []
  },
  {
   "cell_type": "markdown",
   "metadata": {},
   "source": []
  },
  {
   "cell_type": "markdown",
   "metadata": {},
   "source": [
    "---\n",
    "---"
   ]
  }
 ],
 "metadata": {
  "language_info": {
   "name": "python"
  }
 },
 "nbformat": 4,
 "nbformat_minor": 2
}
