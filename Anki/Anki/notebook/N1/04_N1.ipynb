{
 "cells": [
  {
   "cell_type": "markdown",
   "metadata": {},
   "source": [
    "# N1\n",
    "\n",
    "### 第 04 課 - 私の話はさておいて、みのり、来月から一人暮らしするんだって?\n",
    "\n",
    "### Lesson 04 - Let's put my story aside. Minori, are you going to live by yourself from next month?\n"
   ]
  },
  {
   "cell_type": "markdown",
   "metadata": {},
   "source": [
    "# Vocabulary"
   ]
  },
  {
   "cell_type": "markdown",
   "metadata": {},
   "source": [
    "    1.だんらく 段落 n. paragraph\n",
    "    2.いきぬき 息抜き n./vi. rest/to take a rest\n",
    "    3.リサーチ n./vi. research/to do research\n",
    "    4.せつやく 節約 n./vt. saving/to save/to practice economy\n",
    "    5.けんやく 倹約 n./vt. economy/to economize/to cut down/to save\n",
    "    6.うんめい 運命 n. destiny/fate\n",
    "    7.たどる 辿る vt. to trace/to follow (a road)/to trudge\n",
    "    8.たんじゅん 単純 n./な-adj. simplicity/simple\n",
    "    9.きょくたん 極端 n./な-adj. extreme\n",
    "    10.しょくにん 職人 n. workman/artisan/craftsman\n",
    "    11.みちばた 道端 n. roadside\n",
    "    12.かんぱい 乾杯 n./vi. toast/to toast\n",
    "    13.うけつぐ 受け継ぐ vt. to inherit\n",
    "    14.コラーゲン n. collagen\n",
    "    15.とりしまりやく 取締役 n. company director/board member\n",
    "    16.かけよる 駆け寄る vi. to run up\n",
    "    17.はいご 背後 n. back/rear\n",
    "    18.ちかん 痴漢 n. groper/molester\n",
    "    19.とりくむ 取り組む vi. to tackle/to grapple with\n",
    "    20.かくしん 革新 n./vt. innovation/innovate\n",
    "    21.どうにゅう 導入 n./vt. introduction/to introduce\n",
    "    22.きょうこ 強固 な-adj. firm/stiff/steady/secure\n",
    "    23.かっき 活気 n. liveliness/vigor/energy\n",
    "    24.ぎむ 義務 n. duty/obligation\n",
    "    25.じゅく 塾 n. cramming school\n"
   ]
  },
  {
   "cell_type": "markdown",
   "metadata": {},
   "source": [
    "    26.のしかかる 伸し掛かる vi. to lean over/to bend over\n",
    "    27.とっしゅつ 突出 n./vi. projection/protrusion/to stick out\n",
    "    28.れんけい 連携 n./vi./vt. connection/to connect/to link\n",
    "    29.よりかかる 寄り掛かる vi. to lean on/to lean back\n",
    "    30.ゆらぐ 揺らぐ vi. to shake/to swing/to sway\n",
    "    31.がっくり adv./vi. disappointment/to be disappointed/to be depressed\n",
    "    32.かっきてき 画期的 な-adj. epoch‐making/revolutionary\n",
    "    33.きかざる 着飾る vt. to furnish with costumes\n",
    "    34.ジャンプ n./vi. jump/to jump\n",
    "    35.シナリオ n. script/scenario\n",
    "    36.わりあて 割り当て n. allotment/assignment\n",
    "    37.ろくに adv. (not)well/enough/properly\n",
    "    38.れんきゅう 連休 n. consecutive holidays\n",
    "    39.りょうち 領地 n. territory\n",
    "    40.りょうど 領土 n. territory/domain\n",
    "    41.とかく adv. one thing or another/to be apt to do/anyhow\n",
    "    42.たくましい 逞しい い-adj. robust/powerful/strong\n",
    "    43.ちゅうこく 忠告 n./vi./vt. advice/warning/caution\n",
    "    44.とうてい 到底 adv. ultimately/finally/(cannot)possibly\n",
    "    45.ちやほや adv./vt. indulgent/to pamper/to spoil\n",
    "    46.つのる 募る vi./vt. to raise(funds)/to collect(subscriptions)/to invite (applications)/to advertise (for)/to recruit (workers)\n",
    "    47.てあて 手当(て) n./vt. treatment/care/provision/allowance/to care/to treat\n",
    "    48.とおざかる 遠ざかる vi. to go away/to fade away\n",
    "    49.ないしょ 内緒 n. secret\n",
    "    50.なにより 何より adv. above all/highly/best/most\n"
   ]
  },
  {
   "cell_type": "markdown",
   "metadata": {},
   "source": [
    "    51.せいさい 制裁 n. sanction/punishment\n",
    "    52.つりかわ 吊り革 n. strap\n",
    "    53.あっけない い-adj. not long enough/too quick\n",
    "    54.おびただしい 夥しい い-adj. myriad/countless/immense/terrible\n",
    "    55.かいしゅう 回収 n./vt. collection/to collect\n",
    "    56.がいとう 該当 n./vi. correspondence/to correspond/to meet/to fulfill\n",
    "    57.さなか/さいちゅう 最中 n. midpoint/center\n",
    "    58.さほど adv. (not) much/(not) so/(not) very/(not) particularly\n",
    "    59.とつじょ 突如 adv. suddenly/abruptly\n",
    "    60.ならびに 並びに conj. and (also)/as well as\n",
    "    61.けがらわしい 汚らわしい い-adj. nasty/ugly/filthy\n",
    "    62.けんげん 権限 n. authority/power\n",
    "    63.こうたく 光沢 n. gloss/luster\n",
    "    64.まんじょう 満場 n. whole house/whole audience\n",
    "    65.みかく 味覚 n. taste/palate\n",
    "    66.あいそ(う) 愛想 n. amiability/compliment/friendliness\n",
    "    67.いちどうに 一同に adv. together/in concert\n",
    "    68.いちりつ 一律 n./な-adj. evenness /evenly/uniform\n",
    "    69.すがすがしい 清々しい い-adj. fresh/refreshed\n",
    "    70.せつじつ 切実 な-adj. earnest/urgent/seriously\n",
    "    71.ゆうぼう 有望 n./な-adj. good prospect/promising/hopeful\n",
    "    72.ほとり n. neighborhood/vicinity\n",
    "    73.ほそう 舗装 n. pavement\n",
    "    74.よそみ よそ見 n./vt. looking away/to look away\n"
   ]
  },
  {
   "cell_type": "markdown",
   "metadata": {},
   "source": [
    "Here's the table for the vocabulary words you've provided:\n",
    "\n",
    "---\n",
    "\n",
    "| No. | Japanese (Kanji) | Hiragana       | Romaji          | English Translation                   | Part of Speech | Example Sentence (Japanese)                            | Example Sentence (English)                               | Example Sentence (Romaji)                                    | Notes                                                                     |\n",
    "| --- | ---------------- | -------------- | --------------- | ------------------------------------- | -------------- | ------------------------------------------------------ | -------------------------------------------------------- | ------------------------------------------------------------ | ------------------------------------------------------------------------- |\n",
    "| 1   | 段落             | だんらく       | danraku         | paragraph                             | Noun           | この段落を読み終えたら、次のページをめくってください。 | After you finish reading this paragraph, turn the page.  | Kono danraku o yomioeta ra, tsugi no pēji o mekutte kudasai. | Refers to a paragraph in writing.                                         |\n",
    "| 2   | 息抜き           | いきぬき       | ikinuki         | rest/to take a rest                   | Noun/Verb      | 少しの息抜きが必要だ。                                 | I need a little rest.                                    | Sukoshi no ikinuki ga hitsuyō da.                            | Refers to a break or relaxation.                                          |\n",
    "| 3   | リサーチ         | リサーチ       | risāchi         | research/to do research               | Noun/Verb      | そのテーマについてリサーチを行った。                   | I did research on that topic.                            | Sono tēma ni tsuite risāchi o okonatta.                      | Borrowed from English; used for academic or professional research.        |\n",
    "| 4   | 節約             | せつやく       | setsuyaku       | saving/to save/to practice economy    | Noun/Verb      | 電気を節約することは大切だ。                           | It's important to save electricity.                      | Denki o setsuyaku suru koto wa taisetsu da.                  | Refers to the practice of saving or economizing.                          |\n",
    "| 5   | 倹約             | けんやく       | ken'yaku        | economy/to economize/to cut down      | Noun/Verb      | 毎月倹約して貯金を増やしている。                       | I economize every month and increase my savings.         | Mai tsuki ken'yaku shite chokin o fuyashite iru.             | Similar to 節約, but often implies a more frugal lifestyle.               |\n",
    "| 6   | 運命             | うんめい       | unmei           | destiny/fate                          | Noun           | 彼らの出会いは運命だった。                             | Their meeting was fate.                                  | Karera no deai wa unmei datta.                               | Refers to the concept of destiny or fate in life.                         |\n",
    "| 7   | 辿る             | たどる         | tadoru          | to trace/to follow (a road)/to trudge | Verb           | 彼は足跡を辿って探し続けた。                           | He kept searching by following the footprints.           | Kare wa ashiato o tadoratte sagishi tsudzuketa.              | Used for following a path or journey.                                     |\n",
    "| 8   | 単純             | たんじゅん     | tanjun          | simplicity/simple                     | Noun/Adjective | この問題は単純だ。                                     | This problem is simple.                                  | Kono mondai wa tanjun da.                                    | Refers to simplicity or straightforwardness.                              |\n",
    "| 9   | 極端             | きょくたん     | kyokutan        | extreme                               | Noun/Adjective | 彼の意見は極端すぎる。                                 | His opinion is too extreme.                              | Kare no iken wa kyokutan sugiru.                             | Used to describe something very extreme or radical.                       |\n",
    "| 10  | 職人             | しょくにん     | shokunin        | workman/artisan/craftsman             | Noun           | 彼は素晴らしい職人だ。                                 | He is a wonderful craftsman.                             | Kare wa subarashī shokunin da.                               | Refers to a skilled worker or artisan.                                    |\n",
    "| 11  | 道端             | みちばた       | michibata       | roadside                              | Noun           | 道端に花が咲いている。                                 | Flowers are blooming by the roadside.                    | Michibata ni hana ga saite iru.                              | Refers to the side of a road.                                             |\n",
    "| 12  | 乾杯             | かんぱい       | kanpai          | toast/to toast                        | Noun/Verb      | みんなで乾杯しましょう！                               | Let's make a toast together!                             | Minna de kanpai shimashou!                                   | Used when raising a glass for a toast.                                    |\n",
    "| 13  | 受け継ぐ         | うけつぐ       | uketsugu        | to inherit                            | Verb           | 彼は父から事業を受け継いだ。                           | He inherited the business from his father.               | Kare wa chichi kara jigyō o uketsuida.                       | Refers to passing down something from one generation to another.          |\n",
    "| 14  | コラーゲン       | コラーゲン     | korāgen         | collagen                              | Noun           | コラーゲンは肌に良い成分として知られている。           | Collagen is known as a good ingredient for skin.         | Korāgen wa hada ni yoi seibun toshite shirarete iru.         | Borrowed from English; used in beauty and health contexts.                |\n",
    "| 15  | 取締役           | とりしまりやく | torishimariyaku | company director/board member         | Noun           | 取締役会は午前 10 時に始まる予定だ。                   | The board meeting is scheduled to start at 10 AM.        | Torishimariyaku kai wa gozen 10-ji ni hajimaru yotei da.     | Refers to a director or high-ranking official in a company.               |\n",
    "| 16  | 駆け寄る         | かけよる       | kakeyoru        | to run up                             | Verb           | 彼は事故の現場に駆け寄った。                           | He ran up to the scene of the accident.                  | Kare wa jiko no genba ni kakeyotta.                          | Used when running towards something, often with urgency.                  |\n",
    "| 17  | 背後             | はいご         | haigo           | back/rear                             | Noun           | 背後から声が聞こえた。                                 | I heard a voice from behind.                             | Haigo kara koe ga kikoeta.                                   | Refers to the back or rear, often used in the context of a hidden action. |\n",
    "| 18  | 痴漢             | ちかん         | chikan          | groper/molester                       | Noun           | 痴漢に遭遇したことがある。                             | I have encountered a molester.                           | Chikan ni sōgū shita koto ga aru.                            | Refers to a person who molests others, often in public.                   |\n",
    "| 19  | 取り組む         | とりくむ       | torikumu        | to tackle/to grapple with             | Verb           | 彼は新しいプロジェクトに取り組んでいる。               | He is tackling a new project.                            | Kare wa atarashī purojekuto ni torikunde iru.                | Refers to tackling or dealing with something seriously.                   |\n",
    "| 20  | 革新             | かくしん       | kakushin        | innovation/innovate                   | Noun/Verb      | その会社は革新的な技術を導入した。                     | The company introduced innovative technology.            | Sono kaisha wa kakushinteki na gijutsu o dōnyū shita.        | Refers to innovation or making something new.                             |\n",
    "| 21  | 導入             | どうにゅう     | dōnyū           | introduction/to introduce             | Noun/Verb      | この新しいシステムは来月導入される予定だ。             | The new system is scheduled to be introduced next month. | Kono atarashī shisutemu wa raigetsu dōnyū sareru yotei da.   | Refers to the introduction or adoption of something.                      |\n",
    "| 22  | 強固             | きょうこ       | kyōko           | firm/stiff/steady/secure              | Adjective      | 彼の意志は強固で、何事にも動じない。                   | His will is firm, and he is unaffected by anything.      | Kare no ishi wa kyōko de, nanigoto ni mo dōjinai.            | Refers to something strong and unwavering.                                |\n",
    "| 23  | 活気             | かっき         | kakki           | liveliness/vigor/energy               | Noun           | この町は活気に満ちている。                             | This town is full of energy.                             | Kono machi wa kakki ni michite iru.                          | Refers to a lively or energetic atmosphere.                               |\n",
    "| 24  | 義務             | ぎむ           | gimu            | duty/obligation                       | Noun           | 自分の義務を果たさなければならない。                   | I must fulfill my duty.                                  | Jibun no gimu o hatasanakereba naranai.                      | Refers to a responsibility or obligation.                                 |\n",
    "| 25  | 塾               | じゅく         | juku            | cramming school                       | Noun           | 彼は塾に通っている。                                   | He goes to a cram school.                                | Kare wa juku ni kayotte iru.                                 | Refers to an after-school educational institution.                        |\n",
    "\n",
    "---\n",
    "\n",
    "Let me know if you'd like further explanation or more examples!\n"
   ]
  },
  {
   "cell_type": "markdown",
   "metadata": {},
   "source": [
    "Here's the table for the new vocabulary you've provided:\n",
    "\n",
    "---\n",
    "\n",
    "| No. | Japanese (Kanji) | Hiragana   | Romaji      | English Translation                         | Part of Speech | Example Sentence (Japanese)            | Example Sentence (English)                                | Example Sentence (Romaji)                                  | Notes                                                     |\n",
    "| --- | ---------------- | ---------- | ----------- | ------------------------------------------- | -------------- | -------------------------------------- | --------------------------------------------------------- | ---------------------------------------------------------- | --------------------------------------------------------- |\n",
    "| 26  | 伸し掛かる       | のしかかる | noshikakaru | to lean over/to bend over                   | Verb           | 彼は机の上に体を伸し掛けていた。       | He was leaning over the desk.                             | Kare wa tsukue no ue ni karada o noshikakete ita.          | Refers to leaning or bending over something.              |\n",
    "| 27  | 突出             | とっしゅつ | tokkutsu    | projection/protrusion/to stick out          | Noun/Verb      | 山の頂上に突出した岩が見える。         | You can see a protruding rock at the top of the mountain. | Yama no chōjō ni tokkutsu shita iwa ga mieru.              | Refers to something that sticks out or projects.          |\n",
    "| 28  | 連携             | れんけい   | renkei      | connection/to connect/to link               | Noun/Verb      | チームは緊密に連携して問題を解決した。 | The team worked closely together to solve the problem.    | Chīmu wa kinmitsu ni renkei shite mondai o kaiketsu shita. | Refers to coordination or collaboration.                  |\n",
    "| 29  | 寄り掛かる       | よりかかる | yorikakaru  | to lean on/to lean back                     | Verb           | 彼は壁に寄り掛かって休んでいる。       | He is leaning against the wall, resting.                  | Kare wa kabe ni yorikakatte yasunde iru.                   | Used when leaning or reclining on something.              |\n",
    "| 30  | 揺らぐ           | ゆらぐ     | yuragu      | to shake/to swing/to sway                   | Verb           | 木の枝が風で揺らいでいる。             | The branches of the tree are swaying in the wind.         | Ki no eda ga kaze de yurande iru.                          | Refers to shaking, swaying, or swinging back and forth.   |\n",
    "| 31  | がっくり         | がっくり   | gakkuri     | disappointment/to be disappointed/depressed | Adverb/Verb    | 試合に負けてがっくりした。             | I was disappointed after losing the game.                 | Shiai ni makete gakkuri shita.                             | Refers to feeling down or discouraged.                    |\n",
    "| 32  | 画期的           | かっきてき | kakkiteki   | epoch-making/revolutionary                  | Adjective      | その発明は画期的なものであった。       | That invention was revolutionary.                         | Sono hatsumei wa kakkiteki na mono de atta.                | Refers to something groundbreaking or innovative.         |\n",
    "| 33  | 着飾る           | きかざる   | kikazaru    | to furnish with costumes                    | Verb           | 彼女はいつもおしゃれに着飾っている。   | She is always dressed up fashionably.                     | Kanojo wa itsumo oshare ni kikazatte iru.                  | Refers to dressing up or adorning oneself.                |\n",
    "| 34  | ジャンプ         | ジャンプ   | janpu       | jump/to jump                                | Noun/Verb      | 彼は高くジャンプした。                 | He jumped high.                                           | Kare wa takaku janpu shita.                                | Borrowed from English; used for jumping or leaping.       |\n",
    "| 35  | シナリオ         | シナリオ   | shinario    | script/scenario                             | Noun           | 映画のシナリオは非常に面白かった。     | The movie's script was very interesting.                  | Eiga no shinario wa hijō ni omoshirokatta.                 | Borrowed from English; refers to the script or outline.   |\n",
    "| 36  | 割り当て         | わりあて   | wariaté     | allotment/assignment                        | Noun           | 彼に割り当てられた仕事は難しい。       | The task assigned to him was difficult.                   | Kare ni wariaté rareta shigoto wa muzukashī.               | Refers to being assigned a task or responsibility.        |\n",
    "| 37  | ろくに           | ろくに     | roku ni     | (not) well/enough/properly                  | Adverb         | 彼はろくに食事を取らない。             | He doesn't eat properly.                                  | Kare wa roku ni shokuji o toranai.                         | Used to express inadequacy in doing something.            |\n",
    "| 38  | 連休             | れんきゅう | renkyū      | consecutive holidays                        | Noun           | 連休に旅行に行く予定だ。               | I plan to go on a trip during the consecutive holidays.   | Renkyū ni ryokō ni iku yotei da.                           | Refers to consecutive days off, often for vacation.       |\n",
    "| 39  | 領地             | りょうち   | ryōchi      | territory                                   | Noun           | 彼は広大な領地を持っている。           | He owns vast territory.                                   | Kare wa kōdaina ryōchi o motte iru.                        | Refers to land or territory owned by someone.             |\n",
    "| 40  | 領土             | りょうど   | ryōdo       | territory/domain                            | Noun           | その国は広大な領土を有している。       | The country possesses vast territory.                     | Sono kuni wa kōdaina ryōdo o yūshite iru.                  | Refers to a country's land or jurisdiction.               |\n",
    "| 41  | とかく           | とかく     | tokaku      | one thing or another/to be apt to do/anyhow | Adverb         | とかく忙しくて、全然休めない。         | I'm so busy with one thing or another that I can't rest.  | Tokaku isogashikute, zenzen yasumenai.                     | Used to indicate general tendencies or actions.           |\n",
    "| 42  | 逞しい           | たくましい | takumashī   | robust/powerful/strong                      | Adjective      | 逞しい体を持っている。                 | He has a strong physique.                                 | Takumashī karada o motte iru.                              | Refers to physical or mental strength.                    |\n",
    "| 43  | 忠告             | ちゅうこく | chūkoku     | advice/warning/caution                      | Noun/Verb      | 両親から忠告を受けた。                 | I received advice from my parents.                        | Ryōshin kara chūkoku o uketa.                              | Refers to giving or receiving advice or warnings.         |\n",
    "| 44  | 到底             | とうてい   | tōtei       | ultimately/finally/(cannot)possibly         | Adverb         | 到底理解できなかった。                 | I couldn't understand it at all.                          | Tōtei rikai dekinakatta.                                   | Used for something that is impossible or hard to achieve. |\n",
    "| 45  | ちやほや         | ちやほや   | chiayoya    | indulgent/to pamper/to spoil                | Adverb/Verb    | 彼はいつも親にちやほやされて育った。   | He was always pampered by his parents.                    | Kare wa itsumo oya ni chiayoya sarete sodatta.             | Refers to pampering or spoiling someone.                  |\n",
    "| 46  | 募る             | つのる     | tsunoru     | to raise (funds)/to collect/subscriptions   | Verb           | 彼は寄付を募っている。                 | He is collecting donations.                               | Kare wa kifu o tsunotte iru.                               | Refers to raising funds or recruiting people.             |\n",
    "| 47  | 手当(て)         | てあて     | teate       | treatment/care/provision/allowance          | Noun/Verb      | 医者は適切な手当てを施してくれた。     | The doctor gave proper treatment.                         | Isha wa tekisetsu na teate o hodokoshite kureta.           | Refers to medical care, provision, or allowance.          |\n",
    "| 48  | 遠ざかる         | とおざかる | tōzakaru    | to go away/to fade away                     | Verb           | 彼の足音がだんだん遠ざかっていった。   | His footsteps gradually faded away.                       | Kare no ashioto ga dandan tōzakatte itta.                  | Refers to moving away or becoming distant.                |\n",
    "| 49  | 内緒             | ないしょ   | naisho      | secret                                      | Noun           | それは内緒にしておいてください。       | Please keep it a secret.                                  | Sore wa naisho ni shite oite kudasai.                      | Refers to keeping something secret or confidential.       |\n",
    "| 50  | 何より           | なにより   | naniyori    | above all/highly/best/most                  | Adverb         | 何よりも家族が大事だ。                 | Family is more important than anything else.              | Naniyori mo kazoku ga daiji da.                            | Used to express that something is the most important.     |\n",
    "\n",
    "---\n",
    "\n",
    "Let me know if you need further details or more examples!\n"
   ]
  },
  {
   "cell_type": "markdown",
   "metadata": {},
   "source": [
    "Sure! Here's the table format for the vocabulary you provided, with the example for one of the words completed and explanations in English.\n",
    "\n",
    "---\n",
    "\n",
    "| No. | Japanese (Kanji) | Hiragana     | Romaji       | English Translation        | Part of Speech | Example Sentence (Japanese)      | Example Sentence (English)                            | Example Sentence (Romaji)                          | Notes                                                 |\n",
    "| --- | ---------------- | ------------ | ------------ | -------------------------- | -------------- | -------------------------------- | ----------------------------------------------------- | -------------------------------------------------- | ----------------------------------------------------- |\n",
    "| 51  | 制裁             | せいさい     | seisai       | sanction/punishment        | Noun           | 制裁を受けることになった。       | He was punished.                                      | seisai o ukeru koto ni natta.                      | Refers to an official or legal penalty.               |\n",
    "| 52  | 吊り革           | つりかわ     | tsurikawa    | strap (on a train)         | Noun           | 車内の吊り革をつかまった。       | He grabbed the strap inside the train.                | shanai no tsurikawa o tsukamatta.                  | Commonly seen in public transportation.               |\n",
    "| 53  | あっけない       | あっけない   | akkenai      | too quick, not long enough | Adjective      | 話があっけなく終わった。         | The conversation ended too quickly.                   | hanashi ga akkenaku owatta.                        | Used to express disappointment in brevity.            |\n",
    "| 54  | 夥しい           | おびただしい | obitadashii  | myriad, countless          | Adjective      | 夥しい数の星が空に輝いている。   | A myriad of stars shine in the sky.                   | obitadashii kazu no hoshi ga sora ni kagayaiteiru. | Implies an immense or overwhelming quantity.          |\n",
    "| 55  | 回収             | かいしゅう   | kaishuu      | collection, to collect     | Noun/Verb      | 会社は古い商品の回収を始めた。   | The company started collecting the old products.      | kaisha wa furui shouhin no kaishuu o hajimeta.     | Used in contexts like product recalls.                |\n",
    "| 56  | 該当             | がいとう     | gaitou       | to correspond, to meet     | Noun/Verb      | この条件には該当しません。       | This does not meet the requirements.                  | kono jouken ni wa gaitou shimasen.                 | Refers to matching or fulfilling certain criteria.    |\n",
    "| 57  | 最中             | さいちゅう   | saichuu      | midpoint, center           | Noun           | 会議の最中に電話が鳴った。       | The phone rang in the middle of the meeting.          | kaigi no saichuu ni denwa ga natta.                | Refers to being in the midst of something.            |\n",
    "| 58  | さほど           | さほど       | sahodo       | (not) much, (not) so       | Adverb         | さほど問題ではない。             | It's not such a big problem.                          | sahodo mondai de wa nai.                           | Used to downplay something.                           |\n",
    "| 59  | 突如             | とつじょ     | totsujo      | suddenly, abruptly         | Adverb         | 突如、雷が鳴り出した。           | Suddenly, thunder began to roar.                      | totsujo, kaminari ga nari dashita.                 | Often used for unexpected events.                     |\n",
    "| 60  | 並びに           | ならびに     | narabini     | and (also), as well as     | Conjunction    | 先生並びに生徒が参加した。       | The teacher and the students participated.            | sensei narabini seito ga sanka shita.              | Formal conjunction used in written language.          |\n",
    "| 61  | 汚らわしい       | けがらわしい | kegarawashii | filthy, disgusting         | Adjective      | 汚らわしい部屋は片付けるべきだ。 | The filthy room should be cleaned.                    | kegarawashii heya wa katadzukeru beki da.          | Refers to something morally or physically dirty.      |\n",
    "| 62  | 権限             | けんげん     | kengen       | authority, power           | Noun           | 彼にはその決定権限がない。       | He does not have the authority to make that decision. | kare ni wa sono kettei kengen ga nai.              | Refers to formal or legal authority.                  |\n",
    "| 63  | 光沢             | こうたく     | koutaku      | gloss, luster              | Noun           | この製品は光沢がある。           | This product has a gloss.                             | kono seihin wa koutaku ga aru.                     | Used to describe the shiny quality of surfaces.       |\n",
    "| 64  | 満場             | まんじょう   | manjou       | whole audience             | Noun           | 満場一致で決定が下された。       | The decision was made with unanimous agreement.       | manjou icchi de kettei ga kudasareta.              | Refers to the entire group or audience.               |\n",
    "| 65  | 味覚             | みかく       | mikaku       | taste, palate              | Noun           | 味覚が鈍くなってきた。           | My sense of taste has become dull.                    | mikaku ga nibuku natte kita.                       | Refers to the ability to distinguish tastes.          |\n",
    "| 66  | 愛想             | あいそ       | aiso         | amiability, friendliness   | Noun           | 彼は愛想が良い人だ。             | He is a friendly person.                              | kare wa aiso ga yoi hito da.                       | Refers to pleasant demeanor or social grace.          |\n",
    "| 67  | 一同に           | いちどうに   | ichidouni    | together, in concert       | Adverb         | 一同に拍手を送った。             | The whole audience applauded together.                | ichidouni hakushu o okutta.                        | Refers to doing something together as a group.        |\n",
    "| 68  | 一律             | いちりつ     | ichiritsu    | uniform, even              | Noun/Adjective | 一律の料金が適用される。         | A uniform fee applies.                                | ichiritsu no ryoukin ga tekiyou sareru.            | Refers to consistency or equality in treatment.       |\n",
    "| 69  | 清々しい         | すがすがしい | sugasugashii | fresh, refreshing          | Adjective      | 朝の空気は清々しい。             | The morning air is refreshing.                        | asa no kuuki wa sugasugashii.                      | Often used to describe a fresh atmosphere or feeling. |\n",
    "| 70  | 切実             | せつじつ     | setujitsu    | earnest, urgent            | Adjective      | 彼は切実に助けを求めた。         | He earnestly sought help.                             | kare wa setujitsu ni tasuke o motometa.            | Describes something that is urgent or serious.        |\n",
    "| 71  | 有望             | ゆうぼう     | yuubou       | promising, hopeful         | Adjective/Noun | 彼女は有望な選手だ。             | She is a promising athlete.                           | kanojo wa yuubou na senshu da.                     | Often used for future success or potential.           |\n",
    "| 72  | ほとり           | ほとり       | hotori       | neighborhood, vicinity     | Noun           | 公園のほとりに住んでいる。       | I live near the park.                                 | kouen no hotori ni sundeiru.                       | Refers to the nearby area or surrounding space.       |\n",
    "| 73  | 舗装             | ほそう       | hosou        | pavement                   | Noun           | 新しい舗装が道路に施された。     | New pavement was laid on the road.                    | atarashii hosou ga douro ni hodokosareta.          | Refers to the surface layer of a road or path.        |\n",
    "| 74  | よそ見           | よそみ       | yosomi       | looking away               | Noun/Verb      | 彼はよそ見をしていた。           | He was looking away.                                  | kare wa yosomi o shiteita.                         | Refers to looking elsewhere or distractedly.          |\n",
    "\n",
    "---\n",
    "\n",
    "This format should help in organizing and studying the words along with their meanings, example sentences, and notes for context. Let me know if you need further assistance!\n"
   ]
  },
  {
   "cell_type": "markdown",
   "metadata": {},
   "source": [
    "---"
   ]
  },
  {
   "cell_type": "markdown",
   "metadata": {},
   "source": [
    "# Conversation"
   ]
  },
  {
   "cell_type": "markdown",
   "metadata": {},
   "source": [
    "みのり:やった! いよいよ 週 末 は家族 旅 行 だね。\n",
    "    お 姉 ちゃん、このスーツケースでいいと 思 う?\n",
    "\n",
    "安 藤 :3 日 間 だけなんだから、そんなに 大 きいスーツケースは\n",
    "    いらないんじゃない? 何 週 間 も行くわけじゃあるまいし。\n",
    "\n",
    "みのり:そうだね。ああ、でも 久 しぶりに家族で 旅 行 に行けるなんて\n",
    "    嬉 しい!\n",
    "\n",
    "安 藤 : 私 も 大 きい仕事が 一 段 落 したあとだし、いい息抜きになるよ。\n",
    "    ここ 最 近 の 忙 しさといったらなかったな。あのプロジェクトの\n",
    "    ために、日 曜 日 も出かけてリサーチしたり、夜中までネットで\n",
    "    調 べ 物 したり...そこまでやらなくていいのかもしれないけど、\n",
    "    ついのめりこんじゃうんだよね。\n",
    "\n",
    "みのり:おねえちゃんは 昔 から変わらないね。\n",
    "    おねえちゃんみたいな 熱 心 な 人 がいればこそ、\n",
    "    ああいう 大 きなプロジェクトは 成 功 するんだと 思 うな。\n",
    "\n",
    "安 藤 :まあ、 最 初 はたった 3ヶ月であのプロジェクトを 完 成 させるには\n",
    "    無理があると 思 ったんだけど、みんなで、 力 を合わせたから\n",
    "    やり遂げられたよ。\n",
    "    そうだ、 私 の 話 はさておいて、みのり、 来 月 から一人暮らし\n",
    "    するんだって?お 母 さんから聞いたよ。借りる部屋は見つかった?\n",
    "\n",
    "みのり:うん。まだなんだ...。...部屋を借りるのって、やれ 敷 金 だ\n",
    "    やれ 礼 金 だって、いろいろお 金 がかかるんだね。\n",
    "    冷 蔵 庫 も洗 濯 機 も買わなきゃいけないし。 思 ったよりずっとお 金 が\n",
    "    かかるなあ。バイト、やめるんじゃなかった。\n",
    "\n",
    "安 藤 :一人暮らしはお 金 がかかるからね。\n",
    "    まあでも、自分でご 飯 つくったり、 節 約 すれば 大 丈 夫 だよ。\n",
    "    がんばってね。 何 かあったら、 相 談 して。\n",
    "\n",
    "みのり:うん、わかった。ありがとう!"
   ]
  },
  {
   "cell_type": "markdown",
   "metadata": {},
   "source": [
    "Here's the formatted table for the conversation you've provided:\n",
    "\n",
    "| Speaker | Japanese (Hiragana)                                                                                                                                                                                                                                                                                                          | Japanese (Kanji)                                                                                                                                                                                                                                                               | English Translation                                                                                                                                                                                                                                                                                     | Romaji                                                                                                                                                                                                                                                                                                              | Notes                                                                                                                                                  |\n",
    "| ------- | ---------------------------------------------------------------------------------------------------------------------------------------------------------------------------------------------------------------------------------------------------------------------------------------------------------------------------- | ------------------------------------------------------------------------------------------------------------------------------------------------------------------------------------------------------------------------------------------------------------------------------ | ------------------------------------------------------------------------------------------------------------------------------------------------------------------------------------------------------------------------------------------------------------------------------------------------------- | ------------------------------------------------------------------------------------------------------------------------------------------------------------------------------------------------------------------------------------------------------------------------------------------------------------------- | ------------------------------------------------------------------------------------------------------------------------------------------------------ |\n",
    "| みのり  | やった! いよいよ しゅうまつ は かぞく りょこう だね。おねえちゃん、このスーツケースでいいとおもう?                                                                                                                                                                                                                           | やった! いよいよ 週末 は 家族 旅行 だね。お姉ちゃん、このスーツケースでいいと思う?                                                                                                                                                                                             | Yay! Finally, the weekend family trip is here! Do you think this suitcase is okay, sis?                                                                                                                                                                                                                 | Yatta! Iyoiyo shūmatsu wa kazoku ryokō da ne. Onee-chan, kono sūtsukēsu de ī to omou?                                                                                                                                                                                                                               | _週末_ (shūmatsu) means \"weekend\", _旅行_ (ryokō) means \"trip\", _思う_ (omou) means \"think\".                                                           |\n",
    "| 安藤    | 3 にち かん だけなんだから、そんなに おおきいスーツケースは いらないんじゃない? なに しゅうかん も いくわけじゃあるまいし。                                                                                                                                                                                                  | 3 日間 だけなんだから、そんなに 大きいスーツケースは いらないんじゃない? 何 週間 も行くわけじゃあるまいし。                                                                                                                                                                    | It’s only for three days, so I don’t think you need such a big suitcase. We’re not going for weeks after all.                                                                                                                                                                                           | 3-nichi kan dake nandakara, sonna ni ōkii sūtsukēsu wa iranain janai? Nani shūkan mo iku wake janai shi.                                                                                                                                                                                                            | _週間_ (shūkan) means \"weeks\".                                                                                                                         |\n",
    "| みのり  | そうだね。ああ、でも ひさしぶりに かぞく で りょこう に いけるなんて うれしい!                                                                                                                                                                                                                                               | そうだね。ああ、でも 久しぶりに 家族 で 旅行 に 行けるなんて 嬉しい!                                                                                                                                                                                                           | Yeah, you’re right. Oh, but it’s so nice to be able to go on a family trip after such a long time!                                                                                                                                                                                                      | Sō da ne. Ā, demo hisashiburi ni kazoku de ryokō ni ikeru nante ureshī!                                                                                                                                                                                                                                             | _家族_ (kazoku) means \"family\", _旅行_ (ryokō) means \"trip\", _嬉しい_ (ureshī) means \"happy\".                                                          |\n",
    "| 安藤    | わたし も おおきい しごと が いちだん おちた あとだし、いい いきぬき に なるよ。ここ さいきん の いそがしさといったら なかったな。あのプロジェクトの ために、にちようび も でかけて りさーち したり、 よなか まで ねっと で しらべ もの したり...そこまで やらなくていいのかもしれないけど、 つい のめりこんじゃうんだよね。 | 私 も 大きい仕事が 一段 落 した あとだし、いい息抜き になるよ。ここ 最近 の 忙しさといったらなかったな。あのプロジェクトのために、日曜日 も 出かけて リサーチしたり、夜中まで ネットで 調べ物したり...そこまでやらなくていいのかもしれないけど、ついのめりこんじゃうんだよね。 | I also just finished a big project, so this will be a nice break. Lately, the busyness has been overwhelming. For that project, I even went out on Sundays for research, stayed up late into the night to search on the internet… maybe I didn’t need to go that far, but I just get so absorbed in it. | Watashi mo ōkii shigoto ga ichidan ochita ato dashi, ii ikinuki ni naru yo. Koko saikin no isogashisa to ittara nakatta na. Ano purojekuto no tame ni, nichiyōbi mo dekakete risāchi shitari, yonaka made netto de shirabe mono shitari... soko made yaranakute ī no kamoshirenai kedo, tsui nomerikonjaunda yo ne. | _息抜き_ (ikinuki) means \"break\", _調べ物_ (shirabe-mono) means \"searching\", _のめり込む_ (nomerikomu) means \"to get absorbed into\".                   |\n",
    "| みのり  | おねえちゃん は むかし から かわらないね。おねえちゃん みたいな ねっしんな ひと が いれば こそ、 ああいう おおきなプロジェクトは せいこう するんだと おもうな。                                                                                                                                                              | お姉ちゃんは 昔 から 変わらないね。 お姉ちゃんみたいな 熱心な 人 がいればこそ、 ああいう 大きなプロジェクトは 成功 するんだと思うな。                                                                                                                                          | Sis, you haven’t changed at all from when I was little. It’s because there are passionate people like you that big projects like that succeed, I think.                                                                                                                                                 | Onee-chan wa mukashi kara kawaranai ne. Onee-chan mitaina nesshin na hito ga ireba koso, ā iu ōkina purojekuto wa seikō surun da to omou na.                                                                                                                                                                        | _熱心_ (nesshin) means \"passionate\", _成功_ (seikō) means \"success\".                                                                                   |\n",
    "| 安藤    | まあ、さいしょ は たった 3 かげつ で あのプロジェクトを かんせい させるには むりがあるとおもったんだけど、 みんなで、ちからを あわせたから やりとげられたよ。そうだ、わたし の はなし はさておいて、みのり、 らいげつ から ひとりぐらし するんだって?おかあさんからきいたよ。かりる へや は みつかった?                      | まあ、最初 はたった 3 ヶ月で あのプロジェクトを 完成 させるには 無理があると 思ったんだけど、みんなで、 力 を合わせたから やり遂げられたよ。そうだ、私 の 話 はさておいて、みのり、 来月 から 一人暮らし するんだって?お母さんから 聞いたよ。借りる部屋は 見つかった?          | Well, at first I thought it was impossible to complete that project in just three months, but because we all worked together, we managed to get it done. By the way, I heard from mom that you’re going to live alone starting next month. Have you found a place yet?                                  | Mā, saisho wa tatta 3-kagetsu de ano purojekuto o kansei saseru ni wa muri ga aru to omottan dakedo, minna de, chikara o awaseta kara yaritogerareta yo. Sō da, watashi no hanashi wa sate oite, Minori, raigetsu kara hitorigurashi surun datte? Okāsan kara kiita yo. Kariru heya wa mitsukatta?                  | _一人暮らし_ (hitorigurashi) means \"living alone\", _借りる_ (kariru) means \"to rent\".                                                                  |\n",
    "| みのり  | うん。まだなんだ...。...へや を かりる のって、やれ しききん だ やれ れいきん だって、いろいろ おかね が かかるんだね。 れいぞうこ もせんたくき も かわなきゃ いけないし。おもったより ずっと おかね が かかるなあ。バイト、やめるんじゃなかった。                                                                           | うん。まだなんだ…。…部屋を借りるのって、やれ 敷金 だ やれ 礼金 だって、いろいろお金がかかるんだね。 冷蔵庫 も洗濯機 も 買わなきゃいけないし。 思ったよりずっとお金がかかるなあ。バイト、やめるんじゃなかった。                                                                 | Yeah, not yet… Renting a room involves so many expenses, like the deposit and the key money. I also need to buy a fridge and a washing machine. It’s turning out to be much more expensive than I thought. I shouldn’t have quit my part-time job.                                                      | Un. Mada nanda... Heya o kariru nottte, yare shikikin da yare reikin datte, iroiro okane ga kakarunda ne. Reizōko mo sentakuki mo kawanakya ikenai shi. Omotta yori zutto okane ga kakarunā. Baito, yamerun janakatta.                                                                                              | _敷金_ (shikikin) means \"deposit\", _礼金_ (reikin) means \"key money\", _冷蔵庫_ (reizōko) means \"fridge\", _洗濯機_ (sentakuki) means \"washing machine\". |\n",
    "| 安藤    | ひとりぐらし は おかね が かかるからね。 まあ でも、 じぶん で ごはん つくったり、 せつやく すれば だいじょうぶ だよ。がんばってね。 なにか あったら、そうだん して。                                                                                                                                                        | 一人暮らしはお金がかかるからね。 まあでも、自分 でご飯 つくったり、 節約 すれば 大丈夫 だよ。がんばってね。 何かあったら、相談して。                                                                                                                                           | Living alone costs money, of course. But if you cook for yourself and save money, you’ll be fine. Hang in there. If you need anything, just ask.                                                                                                                                                        | Hitorigurashi wa okane ga kakaru kara ne. Mā demo, jibun de gohan tsukuttari, setsuyaku sureba daijōbu da yo. Ganbatte ne. Nani ka attara, sōdan shite.                                                                                                                                                             | _節約_ (setsuyaku) means \"saving money\", _相談_ (sōdan) means \"consult\".                                                                               |\n",
    "| みのり  | うん、わかった。ありがとう!                                                                                                                                                                                                                                                                                                  | うん、わかった。ありがとう!                                                                                                                                                                                                                                                    | Yeah, I got it. Thanks!                                                                                                                                                                                                                                                                                 | Un, wakatta. Arigatou!                                                                                                                                                                                                                                                                                              | _わかった_ (wakatta) means \"got it\", _ありがとう_ (arigatou) means \"thank you\".                                                                        |\n",
    "\n",
    "This breakdown covers key kanji, vocabulary, and expressions. Let me know if you'd like further clarifications!\n"
   ]
  },
  {
   "cell_type": "markdown",
   "metadata": {},
   "source": [
    "---"
   ]
  },
  {
   "cell_type": "markdown",
   "metadata": {},
   "source": [
    "# Grammar 1\n"
   ]
  },
  {
   "cell_type": "markdown",
   "metadata": {},
   "source": []
  },
  {
   "cell_type": "markdown",
   "metadata": {},
   "source": []
  },
  {
   "cell_type": "markdown",
   "metadata": {},
   "source": []
  },
  {
   "cell_type": "markdown",
   "metadata": {},
   "source": [
    "---\n",
    "---"
   ]
  },
  {
   "cell_type": "markdown",
   "metadata": {},
   "source": [
    "# Grammar 2\n"
   ]
  },
  {
   "cell_type": "markdown",
   "metadata": {},
   "source": []
  },
  {
   "cell_type": "markdown",
   "metadata": {},
   "source": []
  },
  {
   "cell_type": "markdown",
   "metadata": {},
   "source": []
  },
  {
   "cell_type": "markdown",
   "metadata": {},
   "source": [
    "---\n",
    "---"
   ]
  },
  {
   "cell_type": "markdown",
   "metadata": {},
   "source": [
    "# Grammar 3\n"
   ]
  },
  {
   "cell_type": "markdown",
   "metadata": {},
   "source": []
  },
  {
   "cell_type": "markdown",
   "metadata": {},
   "source": []
  },
  {
   "cell_type": "markdown",
   "metadata": {},
   "source": []
  },
  {
   "cell_type": "markdown",
   "metadata": {},
   "source": [
    "---\n",
    "---"
   ]
  },
  {
   "cell_type": "markdown",
   "metadata": {},
   "source": [
    "# Grammar 4\n"
   ]
  },
  {
   "cell_type": "markdown",
   "metadata": {},
   "source": []
  },
  {
   "cell_type": "markdown",
   "metadata": {},
   "source": []
  },
  {
   "cell_type": "markdown",
   "metadata": {},
   "source": []
  },
  {
   "cell_type": "markdown",
   "metadata": {},
   "source": [
    "---\n",
    "---"
   ]
  },
  {
   "cell_type": "markdown",
   "metadata": {},
   "source": [
    "# Grammar 5\n"
   ]
  },
  {
   "cell_type": "markdown",
   "metadata": {},
   "source": []
  },
  {
   "cell_type": "markdown",
   "metadata": {},
   "source": []
  },
  {
   "cell_type": "markdown",
   "metadata": {},
   "source": []
  },
  {
   "cell_type": "markdown",
   "metadata": {},
   "source": [
    "---\n",
    "---"
   ]
  },
  {
   "cell_type": "markdown",
   "metadata": {},
   "source": [
    "# Grammar 6\n"
   ]
  },
  {
   "cell_type": "markdown",
   "metadata": {},
   "source": []
  },
  {
   "cell_type": "markdown",
   "metadata": {},
   "source": []
  },
  {
   "cell_type": "markdown",
   "metadata": {},
   "source": []
  },
  {
   "cell_type": "markdown",
   "metadata": {},
   "source": [
    "---\n",
    "---"
   ]
  },
  {
   "cell_type": "markdown",
   "metadata": {},
   "source": [
    "# Grammar 7\n"
   ]
  },
  {
   "cell_type": "markdown",
   "metadata": {},
   "source": []
  },
  {
   "cell_type": "markdown",
   "metadata": {},
   "source": []
  },
  {
   "cell_type": "markdown",
   "metadata": {},
   "source": []
  },
  {
   "cell_type": "markdown",
   "metadata": {},
   "source": [
    "---\n",
    "---"
   ]
  },
  {
   "cell_type": "markdown",
   "metadata": {},
   "source": [
    "# Grammar 8\n"
   ]
  },
  {
   "cell_type": "markdown",
   "metadata": {},
   "source": []
  },
  {
   "cell_type": "markdown",
   "metadata": {},
   "source": []
  },
  {
   "cell_type": "markdown",
   "metadata": {},
   "source": []
  },
  {
   "cell_type": "markdown",
   "metadata": {},
   "source": [
    "---\n",
    "---"
   ]
  },
  {
   "cell_type": "markdown",
   "metadata": {},
   "source": [
    "# Grammar 9\n"
   ]
  },
  {
   "cell_type": "markdown",
   "metadata": {},
   "source": []
  },
  {
   "cell_type": "markdown",
   "metadata": {},
   "source": []
  },
  {
   "cell_type": "markdown",
   "metadata": {},
   "source": []
  },
  {
   "cell_type": "markdown",
   "metadata": {},
   "source": [
    "---\n",
    "---"
   ]
  },
  {
   "cell_type": "markdown",
   "metadata": {},
   "source": [
    "# Grammar 10\n"
   ]
  },
  {
   "cell_type": "markdown",
   "metadata": {},
   "source": []
  },
  {
   "cell_type": "markdown",
   "metadata": {},
   "source": []
  },
  {
   "cell_type": "markdown",
   "metadata": {},
   "source": []
  },
  {
   "cell_type": "markdown",
   "metadata": {},
   "source": [
    "---\n",
    "---"
   ]
  },
  {
   "cell_type": "markdown",
   "metadata": {},
   "source": [
    "# Grammar 11\n"
   ]
  },
  {
   "cell_type": "markdown",
   "metadata": {},
   "source": []
  },
  {
   "cell_type": "markdown",
   "metadata": {},
   "source": []
  },
  {
   "cell_type": "markdown",
   "metadata": {},
   "source": []
  },
  {
   "cell_type": "markdown",
   "metadata": {},
   "source": [
    "---\n",
    "---"
   ]
  },
  {
   "cell_type": "markdown",
   "metadata": {},
   "source": [
    "# Grammar 12\n"
   ]
  },
  {
   "cell_type": "markdown",
   "metadata": {},
   "source": []
  },
  {
   "cell_type": "markdown",
   "metadata": {},
   "source": []
  },
  {
   "cell_type": "markdown",
   "metadata": {},
   "source": []
  },
  {
   "cell_type": "markdown",
   "metadata": {},
   "source": [
    "---\n",
    "---"
   ]
  }
 ],
 "metadata": {
  "language_info": {
   "name": "python"
  }
 },
 "nbformat": 4,
 "nbformat_minor": 2
}
