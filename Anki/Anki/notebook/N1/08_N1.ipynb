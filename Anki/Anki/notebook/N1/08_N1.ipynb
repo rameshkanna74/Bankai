{
 "cells": [
  {
   "cell_type": "markdown",
   "metadata": {},
   "source": [
    "# N1\n",
    "\n",
    "### 第 08 課 - 一 食 たりともおろそかにしちゃだめ。\n",
    "\n",
    "### Lesson 08 - Do not ignore what you eat - you have to take good care of every meal you eat.\n"
   ]
  },
  {
   "cell_type": "markdown",
   "metadata": {},
   "source": [
    "# Vocabulary"
   ]
  },
  {
   "cell_type": "markdown",
   "metadata": {},
   "source": [
    "    1.かけもち 掛け持ち n./vt. working in two or more places/to have business in two or more places\n",
    "    2.ほんまつてんとう 本末転倒 n. mistake the means for the end/failing to properly evaluate the importance\n",
    "    3.いっしゅん 一瞬 n./adv. moment/instant/instantly\n",
    "    4.つうじょう 通常 n./adv. common/general/normal/usual/ generally/in general/ commonly/ordinarily/usually/normally\n",
    "    5.つねに 常に adv. ever/always/constantly\n",
    "    6.ざせつ 挫折 n./vi. setback/ breakdown/frustration/discouragement/to be discouraged\n",
    "    7.ぐち 愚痴 n. murmur/complaint\n",
    "    8.とりよせる 取り寄せる vt. to order/to send for\n",
    "    9.グルメ n. gourmet\n",
    "    10.たっせい 達成 n./vt. accomplishment/achievement/to accomplish/to achieve/to attain\n",
    "    11.むだん 無断 n. without permission/without notice\n",
    "    12.ぜんえい 前衛 n. the vanguard/an advance guard/avant-garde\n",
    "    13.そんぞく 存続 n./vi./vt. persistence/continuation/duration/retention/survival/to persist/to continue/to survive\n",
    "    14.あいこ 愛顧 n./vt. patronage/custom/to favor/to patronize\n",
    "    15.しょ 諸 prefix various/many/several\n",
    "    16.ひんぱつ 頻発 n./vi. frequent occurrence/to occur frequently\n",
    "    17.ばつぐん 抜群 n./な-adj. perfect/pre-eminently/distinguished/ conspicuous\n",
    "    18.かいしゃく 解釈 n./vt. explanation/interpretation/to explain/to interpret\n",
    "    19.やくす 訳す vt. to interpret/to translate\n",
    "    20.いちがん 一丸 n. unitedness\n",
    "    21.しつかん 質感 n. the feeling of a material/texture/quality\n",
    "    22.めど 目処 n. aim/outlook/object\n",
    "    23.たちあがる 立ち上がる vi. to stand up/to rise/to boot\n",
    "    24.はいしゅつ 排出 n./vt. extrusion/elimination/excretion/discharge/exudation/to extrude/to discharge\n",
    "    25.にゅうかく 入閣 n./vi. joining the Cabinet/to join the Cabinet/to enter the Cabinet\n"
   ]
  },
  {
   "cell_type": "markdown",
   "metadata": {},
   "source": [
    "    26.くらく 苦楽 n. pleasure and pain/joy and sorrow\n",
    "    27.たいせん 対戦 n./vi. match/fight/competition/to confront/to fight/to compete/to play a match\n",
    "    28.ししゅんき 思春期 n. early adolescence/adolescence/puberty\n",
    "    29.あやしむ 怪しむ vt. to doubt/to suspect/to distrust/to mistrust/to surmise/to wonder/to question\n",
    "    30.アピール n./vi./vt. appeal/to make an appeal\n",
    "    31.だいこんおろし 大根おろし n. grated daikon radish/a radish grater\n",
    "    32.たく 炊く vt. to cook rice/ to boil rice\n",
    "    33.どなべ 土鍋 n. an earthenware pot\n",
    "    34.つけもの 漬物 n.t tsukemono(Japanese pickled vegetables)\n",
    "    35.たんてき 端的 な-adj. direct/rough and ready\n",
    "    36.ぜつみょう 絶妙 n./な-adj. exquisite/brilliant/miraculous/superb\n",
    "    37.てってい 徹底 n./vi. completeness/thoroughness/to be thorough/to be complete\n",
    "    38.なまぐさい 生臭い い-adj. smelling of fish or blood\n",
    "    39.なまみ 生身 n. living body/raw meat/raw fish\n",
    "    40.あいま 合間 n. interval/break\n",
    "    41.ガレージ n. garage\n",
    "    42.コントラスト n. contrast\n",
    "    43.あつらえる 誂える vt. to give an order/to place an order with somebody for something\n",
    "    44.あやつる 操る vt. to handle/to manage/to manipulate/to operate\n",
    "    45.うっとうしい 鬱陶しい い-adj. dismay/gloomy/disconsolate/blue\n",
    "    46.えんきょく 婉曲 な-adj. indirect/inoffensive/euphemistic\n",
    "    47.えんまん 円満 な-adj. harmonious/peaceful/happy\n",
    "    48.おくびょう 臆病 n./な-adj. cowardice/timidity/cowardly/timid\n",
    "    49.おだてる 煽てる vt. to coax/to cajole/to instigate/to prompt\n",
    "    50.おどおど adv./vi. apprehensively/anxiously/bashfully/timidly/to be frightened/to be nervous\n"
   ]
  },
  {
   "cell_type": "markdown",
   "metadata": {},
   "source": [
    "    51.にかよう 似通う vi. to resemble closely\n",
    "    52.きよらか 清らか な-adj. pure/clean\n",
    "    53.なめらか 滑らか な-adj. smooth/fluent\n",
    "    54.ぬけだす 抜け出す vi. to slip/to steal (out of )\n",
    "    55.にんじょう 人情 n. human feeling\n",
    "    56.ねまわし 根回し n./vt. behind-the-scenes negotiations/digging round root/to dig around the root of a tree (before transplanting)\n",
    "    57.のぞましい 望ましい い-adj. desirable\n",
    "    58.はいしゃく 拝借 n./vt. borrowing/to borrow\n",
    "    59.はいれつ 配列 n./vt. arrangement/sequence/to arrange\n",
    "    60.はくがい 迫害 n./vt. persecution/oppression/to persecute/to oppress\n",
    "    61.はつみみ 初耳 n. hearing for the first time\n",
    "    62.はばむ 阻む vt. to exclude/to hinder/to hamper/to stop\n",
    "    63.ばんのう 万能 n./な-adj. all-purpose/utility/almighty/omnipotent/universal\n",
    "    64.びっしょり adv. wet through/drenched\n",
    "    65.ひってき 匹敵 n./vi. equal/rival/to be a match for/to match/to equal/to compare with/to rank with\n",
    "    66.ひょっとしたら phrase possibly/perhaps\n",
    "    67.ぶつぎ 物議 n. dispute/fuss\n",
    "    68.ふまえる 踏まえる vt. to base on something/to build up one's argument on the basis of the facts\n",
    "    69.ふんだん な-adj. abundant/copious/plentiful/ample/rich\n",
    "    70.ぼうぜん 茫然 adv.'s absent-mindedly/conjugation vacantly\n",
    "    71.ぼやく vi./vt. to murmur/to complain\n",
    "    72.ただしく 正しく adv. evidently/ really/truly/surely/certainly/unquestionably\n",
    "    73.まちまち な-adj. different/diverse/various\n",
    "    74.まるめる 丸める vt. to round/ to make something round/to roll up\n",
    "    75.みのまわり 身の回り n. belongings/one's personal things\n",
    "    76.むちゃ 無茶 n./な-adj. absurd/unreasonable/preposterous/reckless/excessive/rash\n",
    "    77.むやみに 無闇に adv. thoughtlessly/recklessly/rashly/indiscreetly/at random\n"
   ]
  },
  {
   "cell_type": "markdown",
   "metadata": {},
   "source": [
    "Here’s the continuation of the vocabulary list with example sentences for each entry:\n",
    "\n",
    "| No. | Japanese (Kanji) | Hiragana         | Romaji        | English Translation                      | Part of Speech | Example Sentence (Japanese)              | Example Sentence (English)                                                                  | Example Sentence (Romaji)                          | Notes                                                                                      |\n",
    "| --- | ---------------- | ---------------- | ------------- | ---------------------------------------- | -------------- | ---------------------------------------- | ------------------------------------------------------------------------------------------- | -------------------------------------------------- | ------------------------------------------------------------------------------------------ |\n",
    "| 1   | 掛け持ち         | かけもち         | kakemochi     | working in two or more places            | Noun/Verb      | 彼は二つの仕事を掛け持ちしている。       | He works two jobs.                                                                          | kare wa futatsu no shigoto o kakemochi shite iru.  | Refers to having multiple jobs or responsibilities.                                        |\n",
    "| 2   | 本末転倒         | ほんまつてんとう | honmatsutentō | mistake the means for the end            | Noun           | 目的を忘れて、本末転倒になっている。     | They've forgotten the purpose, and it's become a case of putting the cart before the horse. | mokuteki o wasurete, honmatsutentō ni natte iru.   | Refers to a situation where priorities are reversed or confused.                           |\n",
    "| 3   | 一瞬             | いっしゅん       | isshun        | moment, instant                          | Noun/Adverb    | 一瞬の出来事だった。                     | It was a momentary event.                                                                   | isshun no dekigoto datta.                          | Used to describe a very brief moment of time.                                              |\n",
    "| 4   | 通常             | つうじょう       | tsūjō         | normal, usual, generally                 | Noun/Adverb    | 通常、ここは静かだ。                     | Normally, it is quiet here.                                                                 | tsūjō, koko wa shizuka da.                         | Refers to the standard or usual state of things.                                           |\n",
    "| 5   | 常に             | つねに           | tsuneni       | always, constantly                       | Adverb         | 彼は常に前向きだ。                       | He is always positive.                                                                      | kare wa tsuneni maemuki da.                        | Refers to something that happens consistently or all the time.                             |\n",
    "| 6   | 挫折             | ざせつ           | zasetsu       | setback, frustration, to be discouraged  | Noun/Verb      | 彼は挫折を乗り越えて成功した。           | He overcame setbacks and succeeded.                                                         | kare wa zasetsu o norikoete seikō shita.           | Used to describe overcoming failure or frustration.                                        |\n",
    "| 7   | 愚痴             | ぐち             | guchi         | complaint, murmur                        | Noun           | 彼はいつも愚痴をこぼしている。           | He’s always complaining.                                                                    | kare wa itsumo guchi o koboshite iru.              | Refers to venting dissatisfaction or whining.                                              |\n",
    "| 8   | 取り寄せる       | とりよせる       | toriyoseru    | to order, to send for                    | Verb           | 本を取り寄せてくれる？                   | Can you order the book for me?                                                              | hon o toriyosete kureru?                           | Often used when requesting an item to be brought or ordered.                               |\n",
    "| 9   | グルメ           | グルメ           | gurume        | gourmet                                  | Noun           | 彼はグルメで、美味しい料理を探している。 | He is a gourmet and looks for delicious dishes.                                             | kare wa gurume de, oishī ryōri o sagashite iru.    | Refers to a person with refined tastes in food.                                            |\n",
    "| 10  | 達成             | たっせい         | tassei        | accomplishment, achievement              | Noun/Verb      | 目標を達成した。                         | I achieved my goal.                                                                         | mokuhyō o tassei shita.                            | Refers to successfully completing a task or objective.                                     |\n",
    "| 11  | 無断             | むだん           | mudan         | without permission, without notice       | Noun           | 無断で仕事を休んだ。                     | I took a day off without permission.                                                        | mudan de shigoto o yasunda.                        | Refers to doing something without obtaining prior approval.                                |\n",
    "| 12  | 前衛             | ぜんえい         | zen'ei        | the vanguard, avant-garde                | Noun           | 彼は前衛芸術に興味がある。               | He is interested in avant-garde art.                                                        | kare wa zen'ei geijutsu ni kyōmi ga aru.           | Refers to the forefront or cutting-edge movements in art or progress.                      |\n",
    "| 13  | 存続             | そんぞく         | sonzoku       | continuation, persistence                | Noun/Verb      | 企業の存続が危ぶまれている。             | The company’s continuation is in jeopardy.                                                  | kigyō no sonzoku ga ayabumarete iru.               | Refers to the continuation or survival of something, such as an organization or situation. |\n",
    "| 14  | 愛顧             | あいこ           | aiko          | patronage, to favor, to patronize        | Noun/Verb      | 長年の愛顧に感謝します。                 | We appreciate your long-time patronage.                                                     | naganen no aiko ni kansha shimasu.                 | Refers to the support or patronage someone gives, often used in a business context.        |\n",
    "| 15  | 諸               | しょ             | sho           | various, many, several                   | Prefix         | 諸事情により、予定が変更された。         | Due to various circumstances, the schedule was changed.                                     | shojijō ni yori, yotei ga henkō sareta.            | Used as a prefix to describe a variety of things.                                          |\n",
    "| 16  | 頻発             | ひんぱつ         | hinpatsu      | frequent occurrence, to occur frequently | Noun/Verb      | 事故が頻発している地域だ。               | It is an area where accidents frequently occur.                                             | jiko ga hinpatsu shite iru chiiki da.              | Refers to something happening repeatedly or often.                                         |\n",
    "| 17  | 抜群             | ばつぐん         | batsugun      | perfect, distinguished, outstanding      | Noun/Adjective | 彼は抜群の才能を持っている。             | He has outstanding talent.                                                                  | kare wa batsugun no sainō o motte iru.             | Describes something or someone exceptional or superior.                                    |\n",
    "| 18  | 解釈             | かいしゃく       | kaishaku      | explanation, interpretation              | Noun/Verb      | 彼の発言の解釈に違いがあった。           | There was a difference in the interpretation of his statement.                              | kare no hatsugen no kaishaku ni chigai ga atta.    | Refers to explaining or interpreting something.                                            |\n",
    "| 19  | 訳す             | やくす           | yakusu        | to interpret, to translate               | Verb           | この本を英語に訳すつもりだ。             | I plan to translate this book into English.                                                 | kono hon o eigo ni yakusu tsumori da.              | Refers to translating written or spoken material.                                          |\n",
    "| 20  | 一丸             | いちがん         | ichigan       | unitedness, as one                       | Noun           | チームは一丸となって戦った。             | The team fought as one.                                                                     | chīmu wa ichigan to natte tatakatta.               | Refers to a group acting as a unified whole.                                               |\n",
    "| 21  | 質感             | しつかん         | shitsukan     | texture, feeling of a material           | Noun           | この布の質感はとても良い。               | The texture of this fabric is very good.                                                    | kono nuno no shitsukan wa totemo yoi.              | Refers to the tactile or sensory quality of a material.                                    |\n",
    "| 22  | 目処             | めど             | medo          | aim, outlook, object                     | Noun           | この計画には目処が立っていない。         | This plan has no clear objective yet.                                                       | kono keikaku ni wa medo ga tatte inai.             | Refers to a goal or projected outcome.                                                     |\n",
    "| 23  | 立ち上がる       | たちあがる       | tachiagaru    | to stand up, to rise, to boot            | Verb           | 彼は急に立ち上がった。                   | He suddenly stood up.                                                                       | kare wa kyū ni tachiagatta.                        | Can be used both literally (getting up) or metaphorically (starting something).            |\n",
    "| 24  | 排出             | はいしゅつ       | haishutsu     | extrusion, discharge                     | Noun/Verb      | 工場から有害物質が排出されている。       | Harmful substances are being discharged from the factory.                                   | kōjō kara yūgai busshitsu ga haishutsu sarete iru. | Refers to the removal or discharge of substances, such as waste.                           |\n",
    "| 25  | 入閣             | にゅうかく       | nyūkaku       | joining the Cabinet                      | Noun/Verb      | 彼は新しい内閣に入閣した。               | He joined the new Cabinet.                                                                  | kare wa atarashī naikaku ni nyūkaku shita.         | Refers to the act of joining a government’s Cabinet or official leadership position.       |\n",
    "\n",
    "---\n",
    "\n",
    "Let me know if you'd like to dive deeper into any of these terms!\n"
   ]
  },
  {
   "cell_type": "markdown",
   "metadata": {},
   "source": [
    "Here is the continued vocabulary list with English translations, example sentences, and additional information for each entry:\n",
    "\n",
    "| No. | Japanese (Kanji) | Hiragana       | Romaji        | English Translation                        | Part of Speech | Example Sentence (Japanese)            | Example Sentence (English)                              | Example Sentence (Romaji)                     | Notes                                                                          |\n",
    "| --- | ---------------- | -------------- | ------------- | ------------------------------------------ | -------------- | -------------------------------------- | ------------------------------------------------------- | --------------------------------------------- | ------------------------------------------------------------------------------ |\n",
    "| 26  | 苦楽             | くらく         | kuraku        | pleasure and pain, joy and sorrow          | Noun           | 彼との苦楽を共にした。                 | I shared the joy and sorrow with him.                   | kare to no kuraku o tomo ni shita.            | Refers to the ups and downs of life or experiences.                            |\n",
    "| 27  | 対戦             | たいせん       | taisen        | match, fight, competition, to compete      | Noun/Verb      | 彼は昨日、試合で対戦した。             | He competed in a match yesterday.                       | kare wa kinō, shiai de taisen shita.          | Used in the context of sports or competition.                                  |\n",
    "| 28  | 思春期           | ししゅんき     | shishunki     | adolescence, puberty                       | Noun           | 思春期はとても複雑な時期だ。           | Adolescence is a very complicated period.               | shishunki wa totemo fukuzatsu na jiki da.     | Refers to the period of puberty and emotional development.                     |\n",
    "| 29  | 怪しむ           | あやしむ       | ayashimu      | to doubt, to suspect, to mistrust          | Verb           | 彼の話を怪しんでいる。                 | I am suspicious of his story.                           | kare no hanashi o ayashinde iru.              | Used when feeling distrust or suspicion about something.                       |\n",
    "| 30  | アピール         | アピール       | apīru         | appeal, to make an appeal                  | Noun/Verb      | 彼は選挙でアピールを行った。           | He made an appeal during the election.                  | kare wa senkyo de apīru o okonatta.           | Refers to making a strong request or appeal for support or attention.          |\n",
    "| 31  | 大根おろし       | だいこんおろし | daikon oroshi | grated daikon radish, a radish grater      | Noun           | この料理には大根おろしを添えた。       | I added grated daikon radish to this dish.              | kono ryōri ni wa daikon oroshi o soeta.       | A traditional accompaniment to Japanese meals, especially with tempura.        |\n",
    "| 32  | 炊く             | たく           | taku          | to cook rice, to boil rice                 | Verb           | ご飯を炊いている最中だ。               | I am in the middle of cooking rice.                     | gohan o taite iru saichū da.                  | The verb \"taku\" is specifically used for cooking rice in Japan.                |\n",
    "| 33  | 土鍋             | どなべ         | donabe        | earthenware pot                            | Noun           | 土鍋でご飯を炊くのが好きだ。           | I like to cook rice in a clay pot.                      | donabe de gohan o taku no ga suki da.         | A traditional Japanese cooking pot made from clay.                             |\n",
    "| 34  | 漬物             | つけもの       | tsukemono     | pickled vegetables                         | Noun           | 漬物は日本の食卓に欠かせない。         | Pickled vegetables are essential to the Japanese table. | tsukemono wa Nihon no shokutaku ni kakasenai. | Traditional Japanese side dish, often served with rice.                        |\n",
    "| 35  | 端的             | たんてき       | tanteki       | direct, clear, straightforward             | Adjective      | 端的に言うと、彼は間違っている。       | To put it simply, he is wrong.                          | tanteki ni iu to, kare wa machigatte iru.     | Refers to something expressed in a clear and concise manner.                   |\n",
    "| 36  | 絶妙             | ぜつみょう     | zetsumyō      | exquisite, brilliant, superb               | Adjective      | 絶妙なバランスで成功を収めた。         | He achieved success with an exquisite balance.          | zetsumyō na baransu de seikō o osameta.       | Used to describe something remarkably well-executed or finely crafted.         |\n",
    "| 37  | 徹底             | てってい       | tettei        | thoroughness, completeness, to be thorough | Noun/Verb      | 徹底的に調査を行った。                 | We conducted a thorough investigation.                  | tetteiteki ni chōsa o okonatta.               | Implies doing something completely and without leaving anything unfinished.    |\n",
    "| 38  | 生臭い           | なまぐさい     | namakusai     | smelling of fish or blood                  | Adjective      | 生臭い匂いがした。                     | There was a smell of fish.                              | namakusai nioi ga shita.                      | Refers to a strong, unpleasant smell, often associated with raw fish or meat.  |\n",
    "| 39  | 生身             | なまみ         | namami        | living body, raw meat, raw fish            | Noun           | 生身の人間は非常に脆弱だ。             | A living body is very fragile.                          | namami no ningen wa hijō ni zeijaku da.       | Can refer to something raw or in its natural state, especially the human body. |\n",
    "| 40  | 合間             | あいま         | aima          | interval, break                            | Noun           | 仕事の合間に休憩を取った。             | I took a break in between work.                         | shigoto no aima ni kyūkei o totta.            | Used for small breaks or moments of rest between activities.                   |\n",
    "| 41  | ガレージ         | ガレージ       | garēji        | garage                                     | Noun           | 車はガレージに停めてある。             | The car is parked in the garage.                        | kuruma wa garēji ni tomete aru.               | Refers to a garage for storing vehicles or as a workshop.                      |\n",
    "| 42  | コントラスト     | コントラスト   | kontorasuto   | contrast                                   | Noun           | この絵の色のコントラストが素晴らしい。 | The contrast of colors in this painting is wonderful.   | kono e no iro no kontorasuto ga subarashī.    | Refers to the difference between two things, often used in visual arts.        |\n",
    "| 43  | 誂える           | あつらえる     | atsuraeru     | to give an order, to place an order        | Verb           | 彼はオーダーメイドでスーツを誂えた。   | He ordered a custom-made suit.                          | kare wa ōdāmeido de sūtsu o atsuraeta.        | Refers to custom orders, especially in tailoring or goods.                     |\n",
    "| 44  | 操る             | あやつる       | ayatsuru      | to handle, to manage, to manipulate        | Verb           | 彼は人々を巧みに操る。                 | He manipulates people skillfully.                       | kare wa hitobito o takumi ni ayatsuru.        | Refers to controlling or managing something, often with skill or manipulation. |\n",
    "| 45  | 鬱陶しい         | うっとうしい   | uttōshī       | gloomy, dismal, annoying                   | Adjective      | うっとうしい天気が続いている。         | The gloomy weather continues.                           | uttōshī tenki ga tsudzuite iru.               | Describes something that is bothersome, frustrating, or unpleasant.            |\n",
    "| 46  | 婉曲             | えんきょく     | enkyoku       | indirect, euphemistic                      | Adjective      | 婉曲な言い回しを使った。               | I used an indirect expression.                          | enkyoku na iimawashi o tsukatta.              | Refers to a soft or indirect way of speaking, often to avoid offending.        |\n",
    "| 47  | 円満             | えんまん       | enman         | harmonious, peaceful, happy                | Adjective      | 円満な家庭が理想だ。                   | A harmonious family is ideal.                           | enman na katei ga risō da.                    | Describes a peaceful and balanced relationship or situation.                   |\n",
    "| 48  | 臆病             | おくびょう     | okubiyō       | cowardice, timidity, fearful               | Noun/Adjective | 臆病な性格を直したい。                 | I want to fix my cowardly nature.                       | okubiyō na seikaku o naoshitai.               | Refers to fear or a lack of courage, often used to describe someone timid.     |\n",
    "| 49  | 煽てる           | おだてる       | odate ru      | to coax, to cajole, to instigate           | Verb           | 彼は友達を煽てて無理をさせた。         | He coaxed his friend into doing something unreasonable. | kare wa tomodachi o odate te muri o saseta.   | Refers to encouraging or instigating someone, often by flattery.               |\n",
    "| 50  | おどおど         | おどおど       | odoodo        | apprehensively, nervously, timidly         | Adverb/Verb    | 彼はおどおどしている。                 | He is acting nervously.                                 | kare wa odoodo shite iru.                     | Describes a nervous, hesitant, or bashful behavior.                            |\n",
    "\n",
    "Let me know if you need more details or clarification!\n"
   ]
  },
  {
   "cell_type": "markdown",
   "metadata": {},
   "source": [
    "Here is the continued vocabulary list with English translations, example sentences, and additional information for each entry:\n",
    "\n",
    "| No. | Japanese (Kanji) | Hiragana       | Romaji        | English Translation                        | Part of Speech | Example Sentence (Japanese)              | Example Sentence (English)                          | Example Sentence (Romaji)                              | Notes                                                                                                                    |\n",
    "| --- | ---------------- | -------------- | ------------- | ------------------------------------------ | -------------- | ---------------------------------------- | --------------------------------------------------- | ------------------------------------------------------ | ------------------------------------------------------------------------------------------------------------------------ |\n",
    "| 51  | 似通う           | にかよう       | nikayou       | to resemble closely                        | Verb           | 彼と私は考え方が似通っている。           | He and I think alike.                               | kare to watashi wa kangaekata ga nikayotte iru.        | Refers to things or people that are very similar or closely resemble each other.                                         |\n",
    "| 52  | 清らか           | きよらか       | kiyora ka     | pure, clean                                | Adjective      | 彼女の清らかな心は尊い。                 | Her pure heart is precious.                         | kanojo no kiyora ka kokoro wa tōtoi.                   | Used to describe something that is pure or unstained, often in a moral or spiritual sense.                               |\n",
    "| 53  | 滑らか           | なめらか       | nameraka      | smooth, fluent                             | Adjective      | 滑らかな肌を持っている。                 | She has smooth skin.                                | nameraka na hada o motte iru.                          | Often used to describe the texture of something or the fluency of speech or movement.                                    |\n",
    "| 54  | 抜け出す         | ぬけだす       | nukedasu      | to slip out, to steal away                 | Verb           | 彼は会議から抜け出した。                 | He slipped out of the meeting.                      | kare wa kaigi kara nukedashita.                        | Often used when someone sneaks away or escapes quietly from a place.                                                     |\n",
    "| 55  | 人情             | にんじょう     | ninjō         | human feelings, compassion                 | Noun           | 人情に厚い人だ。                         | He is a person full of human compassion.            | ninjō ni atsui hito da.                                | Refers to the feelings of kindness, empathy, or compassion that humans share with one another.                           |\n",
    "| 56  | 根回し           | ねまわし       | nemawashi     | behind-the-scenes negotiations, groundwork | Noun/Verb      | 根回しが大切だと思う。                   | I think groundwork is important.                    | nemawashi ga taisetsu da to omou.                      | Refers to the preparatory work done, usually in a political or organizational setting, before a formal decision is made. |\n",
    "| 57  | 望ましい         | のぞましい     | nozomashī     | desirable                                  | Adjective      | 望ましい結果を得るために努力する。       | I will strive to achieve a desirable result.        | nozomashī kekka o eru tame ni doryoku suru.            | Used to describe something that is desirable or ideal, often in terms of outcomes or conditions.                         |\n",
    "| 58  | 拝借             | はいしゃく     | haishaku      | borrowing, to borrow                       | Noun/Verb      | 彼からお金を拝借した。                   | I borrowed money from him.                          | kare kara okane o haishaku shita.                      | A polite or formal way of saying \"borrow\" in Japanese.                                                                   |\n",
    "| 59  | 配列             | はいれつ       | hairetsu      | arrangement, sequence, to arrange          | Noun/Verb      | この花の配列が美しい。                   | The arrangement of these flowers is beautiful.      | kono hana no hairetsu ga utsukushī.                    | Used to describe the arrangement of things in a specific order or pattern.                                               |\n",
    "| 60  | 迫害             | はくがい       | hakugai       | persecution, oppression, to persecute      | Noun/Verb      | 彼は迫害を受けている。                   | He is being persecuted.                             | kare wa hakugai o ukete iru.                           | Refers to the systematic mistreatment or oppression of a group of people.                                                |\n",
    "| 61  | 初耳             | はつみみ       | hatsumimi     | hearing for the first time                 | Noun           | それは初耳だ！                           | That's the first time I’ve heard that!              | sore wa hatsumimi da!                                  | Used when you hear something for the first time, often expressing surprise or interest.                                  |\n",
    "| 62  | 阻む             | はばむ         | habamu        | to hinder, to stop, to obstruct            | Verb           | 彼の成功を阻む者は誰もいない。           | No one can hinder his success.                      | kare no seikō o habamu mono wa dare mo inai.           | Refers to preventing or obstructing progress or actions.                                                                 |\n",
    "| 63  | 万能             | ばんのう       | bannō         | all-purpose, almighty, universal           | Noun/Adjective | 万能の道具があればいいのに。             | It would be nice to have an all-purpose tool.       | bannō no dōgu ga areba ī noni.                         | Describes something that is versatile or capable of performing many functions.                                           |\n",
    "| 64  | びっしょり       | びっしょり     | bisshori      | wet through, drenched                      | Adverb         | 彼はびっしょりと汗をかいている。         | He is drenched in sweat.                            | kare wa bisshori to ase o kaite iru.                   | Used to describe being completely soaked or drenched with liquid.                                                        |\n",
    "| 65  | 匹敵             | ひってき       | hitteki       | equal, rival, to match                     | Noun/Verb      | 彼に匹敵する選手は今までいなかった。     | There has never been a player who could match him.  | kare ni hitteki suru senshu wa ima made inakatta.      | Used to describe someone or something that is equal to or comparable to another in skill or quality.                     |\n",
    "| 66  | ひょっとしたら   | ひょっとしたら | hyottoshitara | possibly, perhaps                          | Phrase         | ひょっとしたら、彼は遅れるかもしれない。 | Perhaps, he might be late.                          | hyottoshitara, kare wa okureru kamoshirenai.           | Often used when expressing uncertainty or a possibility.                                                                 |\n",
    "| 67  | 物議             | ぶつぎ         | butsugi       | dispute, fuss, controversy                 | Noun           | その発言は物議を醸した。                 | The statement caused a controversy.                 | sono hatsugen wa butsugi o kamoshita.                  | Refers to a public dispute or disagreement, often attracting attention or debate.                                        |\n",
    "| 68  | 踏まえる         | ふまえる       | fumaeru       | to base on, to take into account           | Verb           | 実際のデータを踏まえて計画を立てる。     | I will make plans based on the actual data.         | jissai no dēta o fumaete keikaku o tateru.             | Used when something is based on or built upon facts or previous experiences.                                             |\n",
    "| 69  | ふんだん         | ふんだん       | fundan        | abundant, plentiful                        | Adjective      | ふんだんな食材を使った料理。             | A dish made with abundant ingredients.              | fundan na shokuzai o tsukatta ryōri.                   | Describes something that is abundant or plentiful in quantity.                                                           |\n",
    "| 70  | 茫然             | ぼうぜん       | bōzen         | vacantly, in a daze                        | Adverb         | 彼は茫然としてその場に立ち尽くしていた。 | He stood there in a daze.                           | kare wa bōzen to shite sono ba ni tachitsukushite ita. | Describes a state of being stunned, confused, or absent-minded.                                                          |\n",
    "| 71  | ぼやく           | ぼやく         | boyaku        | to murmur, to complain                     | Verb           | 彼はいつもぼやいている。                 | He is always complaining.                           | kare wa itsumo boyaite iru.                            | Used when someone grumbles or murmurs about something, often in dissatisfaction.                                         |\n",
    "| 72  | 正しく           | ただしく       | tadashiku     | correctly, truly, surely                   | Adverb         | 正しく理解すれば問題はない。             | If you understand it correctly, there’s no problem. | tadashiku rikai sureba mondai wa nai.                  | Indicates that something is done in a correct or right way.                                                              |\n",
    "| 73  | まちまち         | まちまち       | machimachi    | different, diverse, various                | Adjective      | みんなの意見はまちまちだった。           | Everyone's opinion was different.                   | minna no iken wa machimachi datta.                     | Used when things are varied or not uniform.                                                                              |\n",
    "| 74  | 丸める           | まるめる       | marumeru      | to round, to make round, to roll up        | Verb           | 紙を丸めてゴミ箱に捨てた。               | I rolled up the paper and threw it in the trash.    | kami o marumete gomibako ni suteta.                    | Refers to the action of rounding or shaping something into a ball or roll.                                               |\n",
    "| 75  | 身の回り         | みのまわり     | minomawari    | one's personal things, surroundings        | Noun           | 身の回りを整理した。                     | I organized my personal belongings.                 | minomawari o seiri shita.                              | Refers to things or items around one’s personal space.                                                                   |\n",
    "| 76  | 無茶             | むちゃ         | mucha         | absurd, unreasonable, reckless             | Adjective/Noun | 無茶な要求をしてはいけない。             | You shouldn't make unreasonable demands.            | mucha na yōkyū o shite wa ikenai.                      | Describes something unreasonable or absurd, often used in a negative sense.                                              |\n",
    "| 77  | 無闇に           | むやみに       | muyami ni     | recklessly, indiscreetly                   | Adverb         | 無闇に物を買ってはいけない。             | You shouldn't buy things recklessly.                | muyami ni mono o katte wa ikenai.                      | Refers to doing something without thinking or acting recklessly.                                                         |\n",
    "\n",
    "Let me know if you'd like further clarification or examples!\n"
   ]
  },
  {
   "cell_type": "markdown",
   "metadata": {},
   "source": [
    "---"
   ]
  },
  {
   "cell_type": "markdown",
   "metadata": {},
   "source": [
    "# Conversation"
   ]
  },
  {
   "cell_type": "markdown",
   "metadata": {},
   "source": [
    "安藤:はい、どうぞ。\n",
    "\n",
    "みのり :ありがとう。\n",
    "\n",
    "安藤 :どう?みのり、引越し 先 は決まった?\n",
    "\n",
    "みのり :うん。\n",
    "\n",
    "安藤 :どれ、見せて。あれ?この部屋、エアコン付いてないの?\n",
    "    それに、このアパート、 古 いのにけっこう家賃が 高 いね。\n",
    "    敷 金 礼 金 もあるんだ。\n",
    "\n",
    "みのり :うん。不動産屋の 人 に、 私 が出した 条 件 に合う部屋は\n",
    "    それしかないって言われたの。 早 く決めないと、ほかの 人 に取られ\n",
    "    ちゃうんだって。やっぱり一人暮らしはお 金 がかるね。だから、バイ\n",
    "    トもかけもちで 2 つはじめたし、お 昼 ご 飯 を抜きにして 節 約 してる\n",
    "    んだ。\n",
    "\n",
    "安藤 :ええ?だから 最 近 顔 色 が 悪 いの。バイトばっかしてるのに、\n",
    "    ご 飯 を抜きにしちゃやりきれないでしょう。そこまでして一人暮ら\n",
    "    しすることないよ。\n",
    "\n",
    "みのり :ちょっとぐらい無理しても 大 丈 夫 だよ。\n",
    "\n",
    "安 藤 : 体 を 壊 しても知らないよ!お 母 さんがいつも言ってるでしょう、\n",
    "    「 一 食 たりともおろそかにしちゃだめ」って。\n",
    "    夢 を 叶 えるため必死なのはわかるけど、一人暮らしで 体 を 壊 しちゃ\n",
    "    本 末 転 倒 だよ。\n",
    "\n",
    "みのり :...そうだね。お 姉 ちゃんの言う 通 りだよ。\n",
    "\n",
    "安藤 :同 じ家賃でエアコンが付いている 物 件 は 必 ずあるよ。\n",
    "    それに 敷 金 や 礼 金 がない 物 件 だって 今 はいっぱいあるよ。\n",
    "    その不動産屋さん、 他 の 人 にとられちゃうとか言って、\n",
    "    あまりよくないと 思 う。 信 頼 に足る 店 じゃないよ。\n",
    "\n",
    "みのり :でも明日、 契 約 しに行く 約 束 なんだ。\n",
    "    悪 いなあ、 一 生 懸 命 さがしてくれたみたいだし...\n",
    "    謝 りにいかないと。\n",
    "\n",
    "安藤 :直 接 行くまでもないよ。まだ 契 約 していないんだから\n",
    "    電話で 断 れば 十 分 だよ。 他 の不動産屋にした 方 がいいね。\n",
    "    安 くていい部屋を 探 せるかどうかは不動産屋の 担 当 者 に\n",
    "    かかっているんだから。\n",
    "\n",
    "みのり :わかった。ねえ、お 姉 ちゃんもついて来てくれないかな...?\n",
    "\n",
    "安藤 :いいよ! 今 から、 駅 前 の不動産屋に行こうよ。\n",
    "\n",
    "みのり: 本 当 ?ありがとう!"
   ]
  },
  {
   "cell_type": "markdown",
   "metadata": {},
   "source": [
    "Here's the table format for this conversation, with the Japanese, Romaji, and English translations:\n",
    "\n",
    "| Speaker | Japanese (Hiragana)                                                                                                                                                                                                                             | Japanese (Kanji)                                                                                                                                                                                                                              | English Translation                                                                                                                                                                                                                                       | Romaji                                                                                                                                                                                                                                                                                                        | Notes                                                                                                                                                           |\n",
    "| ------- | ----------------------------------------------------------------------------------------------------------------------------------------------------------------------------------------------------------------------------------------------- | --------------------------------------------------------------------------------------------------------------------------------------------------------------------------------------------------------------------------------------------- | --------------------------------------------------------------------------------------------------------------------------------------------------------------------------------------------------------------------------------------------------------- | ------------------------------------------------------------------------------------------------------------------------------------------------------------------------------------------------------------------------------------------------------------------------------------------------------------- | --------------------------------------------------------------------------------------------------------------------------------------------------------------- |\n",
    "| 安藤    | はい、どうぞ。                                                                                                                                                                                                                                  | はい、どうぞ。                                                                                                                                                                                                                                | Here you go.                                                                                                                                                                                                                                              | Hai, dōzo.                                                                                                                                                                                                                                                                                                    | A casual and polite phrase used when offering something.                                                                                                        |\n",
    "| みのり  | ありがとう。                                                                                                                                                                                                                                    | ありがとう。                                                                                                                                                                                                                                  | Thank you.                                                                                                                                                                                                                                                | Arigatou.                                                                                                                                                                                                                                                                                                     | Simple and polite gratitude.                                                                                                                                    |\n",
    "| 安藤    | どう?みのり、引越し先は決まった?                                                                                                                                                                                                                | どう？みのり、引っ越し先は決まった？                                                                                                                                                                                                          | So? Minori, have you decided where to move?                                                                                                                                                                                                               | Dō? Minori, hikkoshi-saki wa kimatta?                                                                                                                                                                                                                                                                         | _引越し_ (hikkoshi) means \"moving\". _決まった_ (kimatta) means \"decided\".                                                                                       |\n",
    "| みのり  | うん。                                                                                                                                                                                                                                          | うん。                                                                                                                                                                                                                                        | Yeah.                                                                                                                                                                                                                                                     | Un.                                                                                                                                                                                                                                                                                                           | A casual affirmative.                                                                                                                                           |\n",
    "| 安藤    | どれ、見せて。あれ?この部屋、エアコン付いてないの?それに、このアパート、古いのにけっこう家賃が高いね。敷金礼金もあるんだ。                                                                                                                      | どれ、見せて。あれ？この部屋、エアコン付いてないの？それに、このアパート、古いのにけっこう家賃が高いね。敷金礼金もあるんだ。                                                                                                                  | Let me see. Huh? This room doesn’t have air conditioning? Also, this apartment is kind of old, but the rent is pretty high. There’s also a deposit and key money.                                                                                         | Dore, misete. Are? Kono heya, eakon tsuite nai no? Sore ni, kono apāto, furui noni kekkō yachin ga takai ne. Shikin reikin mo arunda.                                                                                                                                                                         | _エアコン_ (eakon) is \"air conditioner\", _敷金_ (shikin) means \"deposit\", and _礼金_ (reikin) means \"key money\".                                                |\n",
    "| みのり  | うん。不動産屋の人に、私が出した条件に合う部屋はそれしかないって言われたの。早く決めないと、ほかの人に取られちゃうんだって。やっぱり一人暮らしはお金がかかるね。だから、バイトもかけもちで 2 つはじめたし、お昼ご飯を抜きにして節約してるんだ。 | うん。不動産屋の人に、私が出した条件に合う部屋はそれしかないって言われたの。早く決めないと、ほかの人に取られちゃうんだって。やっぱり一人暮らしはお金がかかるね。だから、バイトも掛け持ちで 2 つ始めたし、お昼ご飯を抜きにして節約してるんだ。 | Yeah. The real estate agent told me this is the only room that meets the conditions I set. I need to decide quickly, or someone else will take it. Living alone really costs money. That’s why I started two part-time jobs and skip lunch to save money. | Un. Fudōsan-ya no hito ni, watashi ga dashita jōken ni au heya wa sore shika nai tte iwareta no. Hayaku kimenai to, hoka no hito ni torarechau nda tte. Yappari hitori-gurashi wa okane ga kakaru ne. Dakara, baito mo kakemochi de futatsu hajimeta shi, ohiru gohan o nuki ni shite setsuyaku shiteru n da. | _不動産屋_ (fudōsan-ya) means \"real estate agent\". _バイト_ (baito) is an abbreviation for \"part-time job\". _掛け持ち_ (kakemochi) means \"doing multiple jobs\". |\n",
    "| 安藤    | ええ?だから最近顔色が悪いの。バイトばっかしてるのに、ご飯を抜きにしちゃやりきれないでしょう。そこまでして一人暮らしすることないよ。                                                                                                             | ええ？だから最近顔色が悪いの。バイトばっかしてるのに、ご飯を抜きにしちゃやりきれないでしょう。そこまでして一人暮らしすることないよ。                                                                                                          | Huh? That’s why you’ve been looking pale recently. You can’t keep doing part-time jobs and skipping meals. You don’t have to go this far just to live alone.                                                                                              | Ē? Dakara saikin kaoiro ga warui no. Baito bakka shiteru noni, gohan o nuki ni shicha yarikirenai deshō. Soko made shite hitori-gurashi suru koto nai yo.                                                                                                                                                     | _顔色_ (kaoiro) means \"complexion\" or \"color of the face\", indicating someone looks unwell.                                                                     |\n",
    "| みのり  | ちょっとぐらい無理しても大丈夫だよ。                                                                                                                                                                                                            | ちょっとぐらい無理しても大丈夫だよ。                                                                                                                                                                                                          | It’s okay to push myself a little.                                                                                                                                                                                                                        | Chotto gurai muri shite mo daijōbu da yo.                                                                                                                                                                                                                                                                     | _無理_ (muri) means \"unreasonable\" or \"overdoing it\".                                                                                                           |\n",
    "| 安藤    | 体を壊しても知らないよ!お母さんがいつも言ってるでしょう、「一食たりともおろそかにしちゃだめ」って。夢を叶えるため必死なのはわかるけど、一人暮らしで体を壊しちゃ本末転倒だよ。                                                                   | 体を壊しても知らないよ！お母さんがいつも言ってるでしょう、「一食たりともおろそかにしちゃだめ」って。夢を叶えるため必死なのはわかるけど、一人暮らしで体を壊しちゃ本末転倒だよ。                                                                | I don’t want you to get sick! Mom always says, \"Don’t skip even one meal.\" I understand you’re desperate to make your dreams come true, but if you get sick living alone, it’s all for nothing.                                                           | Karada o kowashite mo shiranai yo! Okāsan ga itsumo itteru deshō, \"Isshoku tari to mo orosoka ni shicha dame\" tte. Yume o kanaeru tame hisshi na no wa wakaru kedo, hitori-gurashi de karada o kowashicha honmatsu-tendō da yo.                                                                               | _本末転倒_ (honmatsu-tendō) means \"the ends do not justify the means\", or \"putting the cart before the horse\".                                                  |\n",
    "| みのり  | ...そうだね。お姉ちゃんの言う通りだよ。                                                                                                                                                                                                         | …そうだね。お姉ちゃんの言う通りだよ。                                                                                                                                                                                                         | ...You’re right. You’re right, sis.                                                                                                                                                                                                                       | …Sō da ne. Onee-chan no iu tōri da yo.                                                                                                                                                                                                                                                                        | _通り_ (tōri) means \"as\" or \"according to\".                                                                                                                     |\n",
    "| 安藤    | 同じ家賃でエアコンが付いている物件は必ずあるよ。それに敷金や礼金がない物件だって今はいっぱいあるよ。その不動産屋さん、他の人にとられちゃうとか言って、あまりよくないと思う。信頼に足る店じゃないよ。                                            | 同じ家賃でエアコンが付いている物件は必ずあるよ。それに敷金や礼金がない物件だって今はいっぱいあるよ。その不動産屋さん、他の人にとられちゃうとか言って、あまりよくないと思う。信頼に足る店じゃないよ。                                          | There are definitely properties with air conditioning at the same rent. Also, there are plenty of properties without deposits or key money now. I don’t trust that real estate agent. They’re not reliable.                                               | Onaji yachin de eakon ga tsuite iru bukken wa kanarazu aru yo. Sore ni shikin ya reikin ga nai bukken datte ima wa ippai aru yo. Sono fudōsan-ya-san, hoka no hito ni torarechau toka itte, amari yokunai to omou. Shinrai ni taru mise ja nai yo.                                                            | _信頼に足る_ (shinrai ni taru) means \"reliable\".                                                                                                                |\n",
    "| みのり  | でも明日、契約しに行く約束なんだ。悪いなあ、一生懸命探してくれたみたいだし...謝りにいかないと。                                                                                                                                                 | でも明日、契約しに行く約束なんだ。悪いなあ、一生懸命探してくれたみたいだし…謝りにいかないと。                                                                                                                                                 | But tomorrow, I have an appointment to sign the contract. I feel bad, since it looks like they worked really hard to find it for me... I should apologize.                                                                                                | Demo ashita, keiyaku shi ni iku yakusoku nanda. Warui nā, isshōkenmei sagashite kureta mitai da shi… ayamari ni ikanaito.                                                                                                                                                                                     | _約束_ (yakusoku) means \"promise\" or \"appointment\".                                                                                                             |\n",
    "| 安藤    | 直接行くまでもないよ。まだ契約していないんだから電話で断れば十分だよ。他の不動産屋にした方がいいね。安くていい部屋を探せるかどうかは不動産屋の担当者にかかっているんだから。                                                                    | 直接行くまでもないよ。まだ契約していないんだから電話で断れば十分だよ。他の不動産屋にした方がいいね。安くていい部屋を探せるかどうかは不動産屋の担当者にかかっているんだから。                                                                  | You don’t need to go in person. Since you haven’t signed the contract yet, it’s enough to cancel over the phone. You should go with another real estate agent. Finding a cheap, good room depends on the agent.                                           | Chokusetsu iku made mo nai yo. Mada keiyaku shite inai n da kara denwa de kotowareba jūbun da yo. Hoka no fudōsan-ya ni shita hō ga ii ne. Yasukute ii heya o sagaseru ka dō ka wa fudōsan-ya no tantōsha ni kakatte iru n dakara.                                                                            | _担当者_ (tantōsha) means \"person in charge\".                                                                                                                   |\n",
    "| みのり  | わかった。ねえ、お姉ちゃんもついて来てくれないかな...?                                                                                                                                                                                          | わかった。ねえ、お姉ちゃんもついて来てくれないかな…？                                                                                                                                                                                         | Got it. Hey, sis, would you come with me...?                                                                                                                                                                                                              | Wakatta. Ne, onee-chan mo tsuite kite kurenai ka...?                                                                                                                                                                                                                                                          | _ついて来て_ (tsuite kite) means \"come with me\".                                                                                                                |\n",
    "| 安藤    | いいよ!今から、駅前の不動産屋に行こうよ。                                                                                                                                                                                                       | いいよ！今から、駅前の不動産屋に行こうよ。                                                                                                                                                                                                    | Sure! Let’s go to the real estate agent in front of the station now.                                                                                                                                                                                      | Ii yo! Ima kara, ekimae no fudōsan-ya ni ikou yo.                                                                                                                                                                                                                                                             | _駅前_ (ekimae) means \"in front of the station\".                                                                                                                |\n",
    "| みのり  | 本当?ありがとう!                                                                                                                                                                                                                                | 本当？ありがとう！                                                                                                                                                                                                                            | Really? Thank you!                                                                                                                                                                                                                                        | Hontō? Arigatou!                                                                                                                                                                                                                                                                                              | _本当_ (hontō) means \"really\" or \"truth\".                                                                                                                       |\n",
    "\n",
    "This conversation revolves around Minori, who is facing challenges with her decision to live alone. Her older sister, Ando, provides practical advice about apartment hunting, health, and finances. The dialogue also touches on real estate practices in Japan, such as deposits, key money, and the importance of finding trustworthy agents.\n"
   ]
  },
  {
   "cell_type": "markdown",
   "metadata": {},
   "source": [
    "---"
   ]
  },
  {
   "cell_type": "markdown",
   "metadata": {},
   "source": [
    "# Grammar 1\n"
   ]
  },
  {
   "cell_type": "markdown",
   "metadata": {},
   "source": []
  },
  {
   "cell_type": "markdown",
   "metadata": {},
   "source": []
  },
  {
   "cell_type": "markdown",
   "metadata": {},
   "source": []
  },
  {
   "cell_type": "markdown",
   "metadata": {},
   "source": [
    "---\n",
    "---"
   ]
  },
  {
   "cell_type": "markdown",
   "metadata": {},
   "source": [
    "# Grammar 2\n"
   ]
  },
  {
   "cell_type": "markdown",
   "metadata": {},
   "source": []
  },
  {
   "cell_type": "markdown",
   "metadata": {},
   "source": []
  },
  {
   "cell_type": "markdown",
   "metadata": {},
   "source": []
  },
  {
   "cell_type": "markdown",
   "metadata": {},
   "source": [
    "---\n",
    "---"
   ]
  },
  {
   "cell_type": "markdown",
   "metadata": {},
   "source": [
    "# Grammar 3\n"
   ]
  },
  {
   "cell_type": "markdown",
   "metadata": {},
   "source": []
  },
  {
   "cell_type": "markdown",
   "metadata": {},
   "source": []
  },
  {
   "cell_type": "markdown",
   "metadata": {},
   "source": []
  },
  {
   "cell_type": "markdown",
   "metadata": {},
   "source": [
    "---\n",
    "---"
   ]
  },
  {
   "cell_type": "markdown",
   "metadata": {},
   "source": [
    "# Grammar 4\n"
   ]
  },
  {
   "cell_type": "markdown",
   "metadata": {},
   "source": []
  },
  {
   "cell_type": "markdown",
   "metadata": {},
   "source": []
  },
  {
   "cell_type": "markdown",
   "metadata": {},
   "source": []
  },
  {
   "cell_type": "markdown",
   "metadata": {},
   "source": [
    "---\n",
    "---"
   ]
  },
  {
   "cell_type": "markdown",
   "metadata": {},
   "source": [
    "# Grammar 5\n"
   ]
  },
  {
   "cell_type": "markdown",
   "metadata": {},
   "source": []
  },
  {
   "cell_type": "markdown",
   "metadata": {},
   "source": []
  },
  {
   "cell_type": "markdown",
   "metadata": {},
   "source": []
  },
  {
   "cell_type": "markdown",
   "metadata": {},
   "source": [
    "---\n",
    "---"
   ]
  },
  {
   "cell_type": "markdown",
   "metadata": {},
   "source": [
    "# Grammar 6\n"
   ]
  },
  {
   "cell_type": "markdown",
   "metadata": {},
   "source": []
  },
  {
   "cell_type": "markdown",
   "metadata": {},
   "source": []
  },
  {
   "cell_type": "markdown",
   "metadata": {},
   "source": []
  },
  {
   "cell_type": "markdown",
   "metadata": {},
   "source": [
    "---\n",
    "---"
   ]
  },
  {
   "cell_type": "markdown",
   "metadata": {},
   "source": [
    "# Grammar 7\n"
   ]
  },
  {
   "cell_type": "markdown",
   "metadata": {},
   "source": []
  },
  {
   "cell_type": "markdown",
   "metadata": {},
   "source": []
  },
  {
   "cell_type": "markdown",
   "metadata": {},
   "source": []
  },
  {
   "cell_type": "markdown",
   "metadata": {},
   "source": [
    "---\n",
    "---"
   ]
  },
  {
   "cell_type": "markdown",
   "metadata": {},
   "source": [
    "# Grammar 8\n"
   ]
  },
  {
   "cell_type": "markdown",
   "metadata": {},
   "source": []
  },
  {
   "cell_type": "markdown",
   "metadata": {},
   "source": []
  },
  {
   "cell_type": "markdown",
   "metadata": {},
   "source": []
  },
  {
   "cell_type": "markdown",
   "metadata": {},
   "source": [
    "---\n",
    "---"
   ]
  },
  {
   "cell_type": "markdown",
   "metadata": {},
   "source": [
    "# Grammar 9\n"
   ]
  },
  {
   "cell_type": "markdown",
   "metadata": {},
   "source": []
  },
  {
   "cell_type": "markdown",
   "metadata": {},
   "source": []
  },
  {
   "cell_type": "markdown",
   "metadata": {},
   "source": []
  },
  {
   "cell_type": "markdown",
   "metadata": {},
   "source": [
    "---\n",
    "---"
   ]
  },
  {
   "cell_type": "markdown",
   "metadata": {},
   "source": [
    "# Grammar 10\n"
   ]
  },
  {
   "cell_type": "markdown",
   "metadata": {},
   "source": []
  },
  {
   "cell_type": "markdown",
   "metadata": {},
   "source": []
  },
  {
   "cell_type": "markdown",
   "metadata": {},
   "source": []
  },
  {
   "cell_type": "markdown",
   "metadata": {},
   "source": [
    "---\n",
    "---"
   ]
  },
  {
   "cell_type": "markdown",
   "metadata": {},
   "source": [
    "# Grammar 11\n"
   ]
  },
  {
   "cell_type": "markdown",
   "metadata": {},
   "source": []
  },
  {
   "cell_type": "markdown",
   "metadata": {},
   "source": []
  },
  {
   "cell_type": "markdown",
   "metadata": {},
   "source": []
  },
  {
   "cell_type": "markdown",
   "metadata": {},
   "source": [
    "---\n",
    "---"
   ]
  },
  {
   "cell_type": "markdown",
   "metadata": {},
   "source": [
    "# Grammar 12\n"
   ]
  },
  {
   "cell_type": "markdown",
   "metadata": {},
   "source": []
  },
  {
   "cell_type": "markdown",
   "metadata": {},
   "source": []
  },
  {
   "cell_type": "markdown",
   "metadata": {},
   "source": []
  },
  {
   "cell_type": "markdown",
   "metadata": {},
   "source": [
    "---\n",
    "---"
   ]
  }
 ],
 "metadata": {
  "language_info": {
   "name": "python"
  }
 },
 "nbformat": 4,
 "nbformat_minor": 2
}
