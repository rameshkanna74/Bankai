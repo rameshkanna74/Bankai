{
 "cells": [
  {
   "cell_type": "markdown",
   "metadata": {},
   "source": [
    "# N1\n",
    "\n",
    "### 第 02 課 - 大気だけにとどまらず、海にも影響が出ています。\n",
    "\n",
    "### Lesson 02 - It affects not only the atmosphere but also the oceans."
   ]
  },
  {
   "cell_type": "markdown",
   "metadata": {},
   "source": [
    "# Vocabulary"
   ]
  },
  {
   "cell_type": "markdown",
   "metadata": {},
   "source": [
    "    1.いたる 至る vi. to reach/to come/to extend\n",
    "    2.じょうせい 情勢 n. situation/condition\n",
    "    3.かんそく 観測 n./vt. observation/to observe\n",
    "    4.すいい 水位 n. water level\n",
    "    5.ゲリラ n. guerrilla(unexpectedly strong rain )\n",
    "    6.ごうう 豪雨 n. heavy rain/downpour\n",
    "    7.もうしょ 猛暑 n. heat wave/excessive heat\n",
    "    8.ざんしょ 残暑 n. late summer heat\n",
    "    9.ぜつめつ 絶滅 n./vi. extinction/to become extinct\n",
    "    10.マラリア n. malaria\n",
    "    11.デングねつ デング熱 n. dengue fever\n",
    "    12.かんせん 感染 n./vi. infection/contagion/to be infected\n",
    "    13.よぎない 余儀ない い-adj. unavoidable/owing to circumstance beyond one's control\n",
    "    14.しきしゃ 識者 n. expert/intellect\n",
    "    15.とげる 遂げる vt. to achieve/to attain/to realize/to commit\n",
    "    16.こんぽん 根本 n. foundation/basis/root/origin/essence\n",
    "    17.リストラ n./vt. layoff/to lay off/to fire\n",
    "    18.あかじ 赤字 n. deficit\n",
    "    19.くろじ 黒字 n. surplus\n",
    "    20.そんちょう 尊重 n./vt. respect/to respect/to have respect\n",
    "    21.おもんずる 重んずる vt. to value/to respect\n",
    "    22.てんじょう 天井 n. ceiling\n",
    "    23.ないそう 内装 n. interior/interior decoration\n",
    "    24.わいろ 賄賂 n. bribe\n",
    "    25.じしょく 辞職 n./vi./vt. resignation/to resign\n"
   ]
  },
  {
   "cell_type": "markdown",
   "metadata": {},
   "source": [
    "    26.はき 破棄 n./vt. destruction/to destruct/to cancel (a contract)/to break (a promise)\n",
    "    27.ちんもく 沈黙 n./vi. silence/to fall silent\n",
    "    28.さんにゅう 参入 n./vi. entry/participation/to enter (to the market)\n",
    "    29.せっとう 窃盗 n./vt. theft/to steal\n",
    "    30.べんしょう 弁償 n./vt. compensation/to compensate/to pay for/to replace\n",
    "    31.わがはい 吾輩 pronoun I/myself(an old way of speaking with a nuance of arrogance)\n",
    "    32.じめじめ adv./vi. damp/humid/gloomy/to be damp/to be gloomy\n",
    "    33.しょせい 書生 n. student (an old-fashioned expression)\n",
    "    34.いちだんと 一段と adv. further/still more\n",
    "    35.いきなり adv. suddenly\n",
    "    36.あやしい 怪しい い-adj. strange/uncertain/unsure/doubtful/mysterious\n",
    "    37.あやうい 危うい い-adj. dangerous/serious/life-threatening\n",
    "    38.どうあく 獰悪 n./な-adj. fierceness/violent/cruel\n",
    "    39.しゅぞく 種族 n. race/tribe/species\n",
    "    40.てのひら 掌 n. palm\n",
    "    41.べつだん 別段 n./adv. special/particularly\n",
    "    42.やかん 薬缶 n. kettle\n",
    "    43.そうしょく 装飾 n./vt. decoration/ornament\n",
    "    44.でくわす 出会す vi. to come across\n",
    "    45.とっき 突起 n./vi. protuberance/to bulge out\n",
    "    46.けむり 煙 n. smoke\n",
    "    47.つぶやく 呟く vi. to mutter/to grumble/to murmur\n",
    "    48.ていさい 体裁 n. appearance/form\n",
    "    49.てきぎ 適宜 n./な-adj. suitably/properly/appropriately\n",
    "    50.とがめる 咎める vt./vi. to blame/to reprimand/to feel guilty/to interrogate\n"
   ]
  },
  {
   "cell_type": "markdown",
   "metadata": {},
   "source": [
    "    51.なごやか 和やか な-adj. harmonious/peaceful/amicable\n",
    "    52.たくむ 巧む vt. to plan/to plot\n",
    "    53.たくみ 巧み n./な-adj. skillfulness/cleverness/shrewdness/skillful/clever\n",
    "    54.あらい 粗い い-adj. coarse/approximate/rough\n",
    "    55.しぶい 渋い い-adj. astringent/grim/sober/stingy/ bitter/sour/tasteful\n",
    "    56.いちじるしい 著しい い-adj. remarkable/outstanding\n",
    "    57.とりわけ adv. particularly/especially\n",
    "    58.だいなし 台無し n./な-adj. spoil/ruin/spoiled/ruined\n",
    "    59.つきなみ 月並み n./な-adj. common/ordinary/trite/commonplace/monthly\n",
    "    60.つじつま 辻褄 n. coherence/consistency\n",
    "    61.どうにか adv. someway/somehow\n",
    "    62.とぼしい 乏しい い-adj. scarce/lacking\n",
    "    63.なだかい 名高い い-adj. famous/noted\n",
    "    64.なりたつ 成り立つ vi. to consist of/to materialize\n",
    "    65.ねいろ 音色 n. tone/sound\n",
    "    66.ねびき 値引き n./vi. discount/to give discount\n",
    "    67.とぼける 惚ける vi. to pretend not to know/to play the fool/to play innocent\n",
    "    68.はあく 把握 n./vt. grasp/to comprehend/to grasp/to perceive\n",
    "    69.はぐ 剥ぐ vt. to peel/to tear off/to take off/to strip/to deprive\n",
    "    70.ひそか 密か な-adj. secret/private\n",
    "    71.ひといき 一息 n. breath/pause/rest/a little effort\n",
    "    72.ひとがら 人柄 n. personality\n",
    "    73.ふしん 不振 n./な-adj. dullness/depression/slump/stagnation/depressive/inactive\n",
    "    74.ほうじる 報じる vi. /vt. to inform/to report/to repay\n"
   ]
  },
  {
   "cell_type": "markdown",
   "metadata": {},
   "source": [
    "Here’s the formatted table for your next set of 25 vocabulary words:\n",
    "\n",
    "---\n",
    "\n",
    "| No. | Japanese (Kanji) | Hiragana   | Romaji      | English Translation                                    | Part of Speech | Example Sentence (Japanese)                        | Example Sentence (English)                                        | Example Sentence (Romaji)                                      | Notes                                                            |\n",
    "| --- | ---------------- | ---------- | ----------- | ------------------------------------------------------ | -------------- | -------------------------------------------------- | ----------------------------------------------------------------- | -------------------------------------------------------------- | ---------------------------------------------------------------- |\n",
    "| 1   | 至る             | いたる     | itaru       | to reach/to come/to extend                             | Verb           | ここに至るまでの道のりは長かった。                 | The journey to this point was long.                               | Koko ni itaru made no michinori wa nagakatta.                  | Commonly used for reaching a destination or result.              |\n",
    "| 2   | 情勢             | じょうせい | jōsei       | situation/condition                                    | Noun           | 現在の政治情勢は非常に不安定だ。                   | The current political situation is very unstable.                 | Genzaiteki seiji jōsei wa hijō ni fuan tei da.                 | Used in contexts involving situations or conditions.             |\n",
    "| 3   | 観測             | かんそく   | kansoku     | observation/to observe                                 | Noun/Verb      | 気象庁は台風の進行状況を観測している。             | The meteorological agency is observing the typhoon.               | Kishōchō wa taifū no shinkō jōkyō o kansoku shiteiru.          | Used for scientific or weather-related observations.             |\n",
    "| 4   | 水位             | すいい     | sui-i       | water level                                            | Noun           | 洪水のため、河川の水位が急激に上昇した。           | Due to the flood, the river's water level rapidly increased.      | Kōzui no tame, kasen no sui-i ga kyūgeki ni jōshō shita.       | Used in environmental or flood-related contexts.                 |\n",
    "| 5   | ゲリラ           | ゲリラ     | gerira      | guerrilla (also refers to unexpectedly strong rain)    | Noun           | ゲリラ豪雨で街が冠水した。                         | The city was flooded by a guerrilla downpour.                     | Gerira gōu de machi ga kansui shita.                           | Refers to sudden, intense rainfall.                              |\n",
    "| 6   | 豪雨             | ごうう     | gōu         | heavy rain/downpour                                    | Noun           | 豪雨が続いているため、外に出るのが危険だ。         | It is dangerous to go outside because of the heavy rain.          | Gōu ga tsuzuiteiru tame, soto ni deru no ga kiken da.          | Describes very heavy or intense rainfall.                        |\n",
    "| 7   | 猛暑             | もうしょ   | mōsho       | heat wave/excessive heat                               | Noun           | 猛暑が続いているため、エアコンの使用が増えている。 | Air conditioner use has increased due to the heat wave.           | Mōsho ga tsuzuiteiru tame, eakon no shiyō ga fueteiru.         | Refers to extreme heat, often in summer.                         |\n",
    "| 8   | 残暑             | ざんしょ   | zansho      | late summer heat                                       | Noun           | 今年の残暑は厳しい。                               | This year’s late summer heat is harsh.                            | Kotoshi no zansho wa kibishii.                                 | Refers to heat lingering after summer.                           |\n",
    "| 9   | 絶滅             | ぜつめつ   | zetsumetsu  | extinction/to become extinct                           | Noun/Verb      | 多くの動物が絶滅の危機に瀕している。               | Many animals are facing the risk of extinction.                   | Ōku no dōbutsu ga zetsumetsu no kiki ni hin shiteiru.          | Used in environmental and conservation contexts.                 |\n",
    "| 10  | マラリア         | マラリア   | mararia     | malaria                                                | Noun           | マラリアは蚊が媒介する病気です。                   | Malaria is a disease transmitted by mosquitoes.                   | Mararia wa ka ga baikai suru byōki desu.                       | A tropical disease caused by mosquitoes.                         |\n",
    "| 11  | デング熱         | デングねつ | dengu netsu | dengue fever                                           | Noun           | デング熱は熱帯地方で多く発生しています。           | Dengue fever occurs frequently in tropical areas.                 | Dengu netsu wa nettai chiho de ōku hassei shiteimasu.          | A mosquito-borne disease common in tropical areas.               |\n",
    "| 12  | 感染             | かんせん   | kansen      | infection/contagion/to be infected                     | Noun/Verb      | この病気は空気感染します。                         | This disease is airborne.                                         | Kono byōki wa kūki kansen shimasu.                             | Used for medical or health-related contexts.                     |\n",
    "| 13  | 余儀ない         | よぎない   | yoginai     | unavoidable/owing to circumstance beyond one's control | Adjective      | 余儀なく外出を控えることになった。                 | I had to refrain from going out due to unavoidable circumstances. | Yoginaku gaishutsu o hikaeru koto ni natta.                    | Often used to describe situations that are forced or inevitable. |\n",
    "| 14  | 識者             | しきしゃ   | shikisha    | expert/intellect                                       | Noun           | その問題について識者の意見を聞くことが重要だ。     | It is important to listen to the expert’s opinion on this matter. | Sono mondai ni tsuite shikisha no iken o kiku koto ga jūyō da. | Refers to someone with deep knowledge or expertise.              |\n",
    "| 15  | 遂げる           | とげる     | togeru      | to achieve/to attain/to realize/to commit              | Verb           | 彼は大きな目標を遂げた。                           | He achieved his big goal.                                         | Kare wa ōkina mokuhyō o togeta.                                | Often used for achieving personal goals or major achievements.   |\n",
    "| 16  | 根本             | こんぽん   | konpon      | foundation/basis/root/origin/essence                   | Noun           | 問題の根本原因を探る必要がある。                   | We need to find the root cause of the problem.                    | Mondai no konpon gen'in o saguru hitsuyō ga aru.               | Refers to the fundamental basis or cause of something.           |\n",
    "| 17  | リストラ         | リストラ   | risutora    | layoff/to lay off/to fire                              | Noun/Verb      | 会社のリストラが進んでいる。                       | Layoffs are progressing in the company.                           | Kaisha no risutora ga susundeiru.                              | Commonly used in corporate downsizing or job cuts.               |\n",
    "| 18  | 赤字             | あかじ     | akaji       | deficit                                                | Noun           | 今年の予算は赤字になってしまった。                 | This year’s budget ended up in deficit.                           | Kotoshi no yoshan wa akaji ni natte shimatta.                  | Refers to a financial loss or deficit.                           |\n",
    "| 19  | 黒字             | くろじ     | kuroji      | surplus                                                | Noun           | 会社は黒字で終わった。                             | The company ended with a surplus.                                 | Kaisha wa kuroji de owatta.                                    | Refers to a financial gain or surplus.                           |\n",
    "| 20  | 尊重             | そんちょう | sonchō      | respect/to respect/to have respect                     | Noun/Verb      | 彼の意見を尊重するべきだ。                         | We should respect his opinion.                                    | Kare no iken o sonchō suru beki da.                            | Refers to respecting or valuing someone's opinions or rights.    |\n",
    "| 21  | 重んずる         | おもんずる | omonzuru    | to value/to respect                                    | Verb           | 彼は人々の意見を重んずる。                         | He values the opinions of others.                                 | Kare wa hitobito no iken o omonzuru.                           | Similar to \"respect,\" but often used in more formal contexts.    |\n",
    "| 22  | 天井             | てんじょう | tenjō       | ceiling                                                | Noun           | 部屋の天井に穴が開いている。                       | There is a hole in the ceiling of the room.                       | Heya no tenjō ni ana ga aiteiru.                               | Refers to the upper interior surface of a room.                  |\n",
    "| 23  | 内装             | ないそう   | naisō       | interior/interior decoration                           | Noun           | 新しいビルの内装はとてもモダンだ。                | The interior decoration of the new building is very modern.       | Atarashī biru no naisō wa totemo modan da.                     | Refers to the decoration or design of the inside of a building.  |\n",
    "| 24  | 賄賂             | わいろ     | wairo       | bribe                                                  | Noun           | 彼は賄賂を受け取ったとして逮捕された。             | He was arrested for accepting a bribe.                            | Kare wa wairo o uketotta to shite taiho sareta.                | Refers to illegal payments made to influence decisions.          |\n",
    "| 25  | 辞職             | じしょく   | jishoku     | resignation/to resign                                  | Noun/Verb      | 彼は会社を辞職した。                               | He resigned from the company.                                     | Kare wa kaisha o jishoku shita.                                | Refers to voluntarily leaving a job or position.                 |\n",
    "\n",
    "---\n",
    "\n",
    "This table includes the word meanings, example sentences, and notes to help you understand the context in which they are used. If you need further examples or explanations, just let me know!\n"
   ]
  },
  {
   "cell_type": "markdown",
   "metadata": {},
   "source": [
    "Here is the table for the next 25 vocabulary words you provided:\n",
    "\n",
    "---\n",
    "\n",
    "| No. | Japanese (Kanji) | Hiragana   | Romaji    | English Translation                                                | Part of Speech | Example Sentence (Japanese)        | Example Sentence (English)                       | Example Sentence (Romaji)                           | Notes                                                                |\n",
    "| --- | ---------------- | ---------- | --------- | ------------------------------------------------------------------ | -------------- | ---------------------------------- | ------------------------------------------------ | --------------------------------------------------- | -------------------------------------------------------------------- |\n",
    "| 26  | 破棄             | はき       | haki      | destruction/to destroy/to cancel (a contract)/to break (a promise) | Noun/Verb      | 彼は契約を破棄した。               | He canceled the contract.                        | Kare wa keiyaku o haki shita.                       | Often used for breaking promises or legal agreements.                |\n",
    "| 27  | 沈黙             | ちんもく   | chinmoku  | silence/to fall silent                                             | Noun/Verb      | 会議中に沈黙が訪れた。             | Silence fell during the meeting.                 | Kaigi-chū ni chinmoku ga otozureta.                 | Refers to the act of becoming silent, often implying tension.        |\n",
    "| 28  | 参入             | さんにゅう | sannyū    | entry/participation/to enter (to the market)                       | Noun/Verb      | 新しい企業が市場に参入した。       | A new company entered the market.                | Atarashī kigyō ga shijō ni sannyū shita.            | Commonly used in business and market contexts.                       |\n",
    "| 29  | 窃盗             | せっとう   | settō     | theft/to steal                                                     | Noun/Verb      | 彼は窃盗の罪で逮捕された。         | He was arrested for theft.                       | Kare wa settō no tsumi de taiho sareta.             | Used in legal contexts for crimes involving theft.                   |\n",
    "| 30  | 弁償             | べんしょう | benshō    | compensation/to compensate/to pay for/to replace                   | Noun/Verb      | 彼は壊れた商品を弁償した。         | He compensated for the damaged goods.            | Kare wa kowareta shōhin o benshō shita.             | Often used when compensating for damages or losses.                  |\n",
    "| 31  | 吾輩             | わがはい   | wagahai   | I/myself (an old way of speaking with a nuance of arrogance)       | Pronoun        | 吾輩は猫である。                   | I am a cat. (from Natsume Sōseki’s famous novel) | Wagahai wa neko de aru.                             | A very old-fashioned and literary way to refer to oneself.           |\n",
    "| 32  | じめじめ         | じめじめ   | jimajima  | damp/humid/gloomy/to be damp/to be gloomy                          | Adjective/Verb | この部屋はじめじめしている。       | This room is damp and gloomy.                    | Kono heya wa jimajima shiteiru.                     | Refers to an unpleasant, damp atmosphere or feeling.                 |\n",
    "| 33  | 書生             | しょせい   | shosei    | student (an old-fashioned expression)                              | Noun           | 昔の書生は非常に勤勉だった。       | Old-fashioned students were very diligent.       | Mukashi no shosei wa hijō ni kinben datta.          | A historic term for students, often used in literature.              |\n",
    "| 34  | 一段と           | いちだんと | ichidanto | further/still more                                                 | Adverb         | 彼の技術は一段と向上した。         | His skills have improved even further.           | Kare no gijutsu wa ichidanto kōjō shita.            | Used to emphasize an increase or improvement.                        |\n",
    "| 35  | いきなり         | いきなり   | ikinari   | suddenly                                                           | Adverb         | いきなり彼は部屋に入ってきた。     | He suddenly entered the room.                    | Ikinari kare wa heya ni haittekita.                 | Refers to something unexpected or sudden happening.                  |\n",
    "| 36  | 怪しい           | あやしい   | ayashii   | strange/uncertain/unsure/doubtful/mysterious                       | Adjective      | あの人の言っていることは怪しい。   | What that person is saying is suspicious.        | Ano hito no itte iru koto wa ayashii.               | Often implies something suspicious or doubtful.                      |\n",
    "| 37  | 危うい           | あやうい   | ayaui     | dangerous/serious/life-threatening                                 | Adjective      | 危うく事故に遭いそうになった。     | I almost had an accident.                        | Ayauku jiko ni aiso ni natta.                       | Describes life-threatening or serious danger.                        |\n",
    "| 38  | 獰悪             | どうあく   | dōaku     | fierceness/violent/cruel                                           | Noun/Adjective | 獰悪な態度で彼は対話を拒んだ。     | He refused to talk with a cruel attitude.        | Dōaku na taido de kare wa taiwa o kobanda.          | Describes a violent or extremely cruel nature.                       |\n",
    "| 39  | 種族             | しゅぞく   | shuzoku   | race/tribe/species                                                 | Noun           | その種族は絶滅の危機に瀕している。 | That species is facing extinction.               | Sono shuzoku wa zetsumetsu no kiki ni hin shiteiru. | Used in the context of biological species or ethnic groups.          |\n",
    "| 40  | 掌               | てのひら   | tenohira  | palm                                                               | Noun           | 彼女は掌に小さな傷を負っていた。   | She had a small cut on her palm.                 | Kanojo wa tenohira ni chīsana kizu o otteita.       | Refers to the palm of the hand.                                      |\n",
    "| 41  | 別段             | べつだん   | betsudan  | special/particularly                                               | Noun/Adverb    | 別段難しくはない。                 | It’s not particularly difficult.                 | Betsudan muzukashiku wa nai.                        | Used to indicate something is not particularly special or important. |\n",
    "| 42  | 薬缶             | やかん     | yakan     | kettle                                                             | Noun           | 母は薬缶でお湯を沸かしている。     | My mother is boiling water in the kettle.        | Haha wa yakan de oyu o wakashiteiru.                | A kettle, typically for boiling water.                               |\n",
    "| 43  | 装飾             | そうしょく | sōshoku   | decoration/ornament                                                | Noun/Verb      | クリスマスツリーは装飾が豊富だ。   | The Christmas tree is richly decorated.          | Kurisumasu tsurī wa sōshoku ga hōfu da.             | Refers to the decoration or adornment of something.                  |\n",
    "| 44  | 出会す           | でくわす   | dekwasu   | to come across                                                     | Verb           | 彼とは偶然に出会った。             | I came across him by chance.                     | Kare to wa gūzen ni dekwatta.                       | Used for meeting someone unexpectedly.                               |\n",
    "| 45  | 突起             | とっき     | tokkī     | protuberance/to bulge out                                          | Noun/Verb      | 木の幹に突起ができている。         | A protrusion has formed on the tree trunk.       | Ki no miki ni tokkī ga dekite iru.                  | Refers to something that sticks out or bulges.                       |\n",
    "| 46  | 煙               | けむり     | kemuri    | smoke                                                              | Noun           | 火事の煙が遠くから見える。         | The smoke from the fire is visible from afar.    | Kaji no kemuri ga tōku kara mieru.                  | Refers to the visible smoke, usually from a fire.                    |\n",
    "| 47  | 呟く             | つぶやく   | tsubuyaku | to mutter/to grumble/to murmur                                     | Verb           | 彼は何かを呟いていた。             | He was muttering something.                      | Kare wa nanika o tsubuyaku shiteita.                | Often used for speaking quietly or complaining.                      |\n",
    "| 48  | 体裁             | ていさい   | teīsai    | appearance/form                                                    | Noun           | 体裁を整えるために、服を着替えた。 | I changed clothes to improve my appearance.      | Teisai o totonoeru tame ni, fuku o kigaeta.         | Refers to the outward appearance or manners.                         |\n",
    "| 49  | 適宜             | てきぎ     | tekigi    | suitably/properly/appropriately                                    | Noun/Adjective | 適宜対応してください。             | Please respond appropriately.                    | Tekigi taio shite kudasai.                          | Used to indicate an appropriate action in context.                   |\n",
    "| 50  | 咎める           | とがめる   | togareru  | to blame/to reprimand/to feel guilty/to interrogate                | Verb           | 彼はその件について咎められた。     | He was reprimanded for that matter.              | Kare wa sono ken ni tsuite togarereta.              | Refers to accusing, blaming, or questioning someone.                 |\n",
    "\n",
    "---\n",
    "\n",
    "This table includes the meanings, example sentences in both Japanese and English, and some notes to clarify how each word is typically used. If you need more context or further explanation, feel free to ask!\n"
   ]
  },
  {
   "cell_type": "markdown",
   "metadata": {},
   "source": [
    "Here is the formatted table for the next 25 vocabulary words you provided:\n",
    "\n",
    "---\n",
    "\n",
    "| No. | Japanese (Kanji) | Hiragana     | Romaji       | English Translation                               | Part of Speech | Example Sentence (Japanese)                    | Example Sentence (English)                            | Example Sentence (Romaji)                                | Notes                                                          |\n",
    "| --- | ---------------- | ------------ | ------------ | ------------------------------------------------- | -------------- | ---------------------------------------------- | ----------------------------------------------------- | -------------------------------------------------------- | -------------------------------------------------------------- |\n",
    "| 51  | 和やか           | なごやか     | nagoyaka     | harmonious/peaceful/amicable                      | Adjective      | 彼らは和やかな雰囲気の中で話していた。         | They were talking in a harmonious atmosphere.         | Karera wa nagoyaka na fun'iki no naka de hanashiteita.   | Describes a peaceful or friendly atmosphere.                   |\n",
    "| 52  | 巧む             | たくむ       | takumu       | to plan/to plot                                   | Verb           | 彼は巧みにその計画を立てた。                   | He cleverly made the plan.                            | Kare wa takumi ni sono keikaku o tateta.                 | Refers to skillfully planning or scheming.                     |\n",
    "| 53  | 巧み             | たくみ       | takumi       | skillfulness/cleverness/shrewdness/skillful       | Noun/Adjective | 彼は巧みな手腕で問題を解決した。               | He solved the problem with skillful hands.            | Kare wa takumi na shuwan de mondai o kaiketsu shita.     | Describes a high level of skill or cleverness.                 |\n",
    "| 54  | 粗い             | あらい       | arai         | coarse/rough/approximate                          | Adjective      | この布は粗い感じがする。                       | This cloth feels coarse.                              | Kono nuno wa arai kanji ga suru.                         | Describes something rough or unrefined in texture.             |\n",
    "| 55  | 渋い             | しぶい       | shibui       | astringent/grim/sober/stingy/bitter/sour/tasteful | Adjective      | 渋い味の茶を飲んでいる。                       | I’m drinking a bitter tea.                            | Shibui aji no cha o nondeiru.                            | Describes a refined or bitter taste, or a serious demeanor.    |\n",
    "| 56  | 著しい           | いちじるしい | ichijirushii | remarkable/outstanding                            | Adjective      | 彼の努力は著しい成果を生んだ。                 | His efforts produced remarkable results.              | Kare no doryoku wa ichijirushī seika o unda.             | Refers to something notable or outstanding.                    |\n",
    "| 57  | とりわけ         | とりわけ     | toriwake     | particularly/especially                           | Adverb         | とりわけ、あの映画は素晴らしかった。           | That movie was especially wonderful.                  | Toriwake, ano eiga wa subarashikatta.                    | Used to emphasize something particularly noteworthy.           |\n",
    "| 58  | 台無し           | だいなし     | dainashi     | spoil/ruin/spoiled/ruined                         | Noun/Adjective | 雨で計画が台無しになった。                     | The plan was ruined by the rain.                      | Ame de keikaku ga dainashi ni natta.                     | Refers to something being spoiled or ruined.                   |\n",
    "| 59  | 月並み           | つきなみ     | tsukinami    | common/ordinary/trite/monthly                     | Noun/Adjective | 月並みな回答をすることは避けたほうがいい。     | It's better to avoid giving ordinary answers.         | Tsukinami na kaitō o suru koto wa sakeeta hō ga ii.      | Refers to something predictable or commonplace.                |\n",
    "| 60  | 辻褄             | つじつま     | tsujitsuma   | coherence/consistency                             | Noun           | 彼の話には辻褄が合わない。                     | His story doesn’t make sense.                         | Kare no hanashi ni wa tsujitsuma ga awanai.              | Refers to the logical consistency or coherence of a situation. |\n",
    "| 61  | どうにか         | どうにか     | dōnika       | someway/somehow                                   | Adverb         | どうにかしてその問題を解決しなければならない。 | We have to solve this problem somehow.                | Dōnika shite sono mondai o kaiketsu shinakereba naranai. | Used when dealing with a challenging situation.                |\n",
    "| 62  | 乏しい           | とぼしい     | toboshii     | scarce/lacking                                    | Adjective      | 資源が乏しい国々が多い。                       | Many countries have scarce resources.                 | Shigen ga toboshii kuniguni ga ōi.                       | Refers to a lack or shortage of something.                     |\n",
    "| 63  | 名高い           | なだかい     | nadakai      | famous/noted                                      | Adjective      | 彼は名高い作家だ。                             | He is a famous writer.                                | Kare wa nadakai sakka da.                                | Describes someone or something well-known or renowned.         |\n",
    "| 64  | 成り立つ         | なりたつ     | naritatsu    | to consist of/to materialize                      | Verb           | この計画は今すぐには成り立たない。             | This plan can’t materialize right away.               | Kono keikaku wa ima sugu ni wa naritatsanai.             | Refers to something that comes together or is viable.          |\n",
    "| 65  | 音色             | ねいろ       | neiro        | tone/sound                                        | Noun           | 彼のピアノの音色は美しい。                     | The tone of his piano is beautiful.                   | Kare no piano no neiro wa utsukushii.                    | Refers to the quality or tone of sound, especially musical.    |\n",
    "| 66  | 値引き           | ねびき       | nebiki       | discount/to give a discount                       | Noun/Verb      | 店で 20%の値引きが行われている。               | A 20% discount is being offered at the store.         | Mise de 20% no nebiki ga okonawarete iru.                | Used in the context of reducing prices.                        |\n",
    "| 67  | 惚ける           | とぼける     | tobokeru     | to pretend not to know/to play the fool           | Verb           | 彼はその質問に対してとぼけて答えた。           | He played innocent and answered that question.        | Kare wa sono shitsumon ni taishite tobokete kotaeta.     | Refers to feigning ignorance or pretending.                    |\n",
    "| 68  | 把握             | はあく       | haaku        | grasp/to comprehend/to perceive                   | Noun/Verb      | この問題の重要性を把握するのは難しい。         | It’s difficult to grasp the importance of this issue. | Kono mondai no jūyō-sei o haaku suru no wa muzukashii.   | Refers to understanding or comprehending something clearly.    |\n",
    "| 69  | 剥ぐ             | はぐ         | hagu         | to peel/to tear off/to strip/to deprive           | Verb           | 果物の皮を剥ぐのは楽しい。                     | It’s fun to peel fruit.                               | Kudamono no kawa o hagu no wa tanoshii.                  | Refers to removing an outer layer or covering.                 |\n",
    "| 70  | 密か             | ひそか       | hisoka       | secret/private                                    | Adjective      | 密かに計画を進めている。                       | I am secretly advancing the plan.                     | Hisoka ni keikaku o susumete iru.                        | Refers to something done in secret or privacy.                 |\n",
    "| 71  | 一息             | ひといき     | hitoiki      | breath/pause/rest/a little effort                 | Noun           | しばらく一息ついてから作業を再開した。         | After a short break, I resumed the work.              | Shibaraku hitoiki tsuite kara sagyō o saikai shita.      | Can mean taking a short rest or a little pause.                |\n",
    "| 72  | 人柄             | ひとがら     | hitogara     | personality                                       | Noun           | 彼の人柄はとても温かい。                       | His personality is very warm.                         | Kare no hitogara wa totemo atatakai.                     | Refers to someone’s character or personal traits.              |\n",
    "| 73  | 不振             | ふしん       | fushin       | dullness/depression/slump/stagnation              | Noun/Adjective | 今年の売り上げは不振だ。                       | Sales this year are sluggish.                         | Kotoshi no uriage wa fushin da.                          | Refers to a situation that is stagnant or unsuccessful.        |\n",
    "| 74  | 報じる           | ほうじる     | hōjiru       | to inform/to report/to repay                      | Verb           | 事件はすぐにメディアに報じられた。             | The incident was reported to the media immediately.   | Jiken wa sugu ni media ni hōjirareta.                    | Refers to providing information or news.                       |\n",
    "\n",
    "---\n",
    "\n",
    "This table continues with detailed explanations, example sentences, and notes to give you a deeper understanding of each vocabulary word. Let me know if you need additional clarification or examples!\n"
   ]
  },
  {
   "cell_type": "markdown",
   "metadata": {},
   "source": [
    "---"
   ]
  },
  {
   "cell_type": "markdown",
   "metadata": {},
   "source": [
    "# Conversation"
   ]
  },
  {
   "cell_type": "markdown",
   "metadata": {},
   "source": [
    "キャスター :こんばんは。スペシャル 番 組 「みんなの 環 境 」、\n",
    "    今 回 は「 地 球 温 暖 化 」をテーマにお 送 りいたします。\n",
    "    本 日 はゲストの 方 にお越しいただきました。\n",
    "    環 境 委 員 会 の 研 究 員 で、 環 境 情 勢 の専 門 家 で\n",
    "    いらっしゃる安田 亮 さんです。\n",
    "    安田さん、よろしくお 願 いします。\n",
    "\n",
    "安田 :よろしくお 願 いします。\n",
    "\n",
    "キャスター :さて、 昨 日 、世界気候の 調 査 報 告 書 が 発 表 されました。\n",
    "    この 調 査 報 告 書 によると、 昨 年 の世界の 平 均 気温は、\n",
    "    調 査 を開始した 19世紀 半 ば以降、 最 高 気 温 を記録したとの\n",
    "    ことです。\n",
    "\n",
    "安田 :そうなんです。地 球 の 表 面 温度も過去 最 高 を 観 測 しました。\n",
    "    大気だけにとどまらず、 海 にも 影 響 が出ています。\n",
    "    それは、 海 面 水 温 と水位の 上 昇 です。\n",
    "    水位に 至 っては、この 一 年 間 の 上 昇 率 は、過去 最 大 です。\n",
    "    近 年 は以前にもまして、 産 業 活 動 が 活 発 ですから、\n",
    "    この 先 も温 暖 化 が 進 んでいくことでしょう。\n",
    "\n",
    "キャスター :温度や水位が 上 昇 していることはわかりましたが、\n",
    "    私 たちの 生 活 にどう 影 響 するのでしょうか。\n",
    "\n",
    "安田 :はい。 皆 さんご存知のとおり今年も 猛 暑 ですね。\n",
    "    高 温 の 他 にもゲリラ豪雨、熱波などの 異 常 気 象 が\n",
    "    増加しています。気温の 上 昇 により、 動 植 物 の 絶 滅 の\n",
    "    リスクも 高 まりますし、マラリアやデング 熱 などの\n",
    "    感 染 のリスクの 高 い地域も増えていくでしょう。\n",
    "\n",
    "キャスター :これらはすべて 地 球 温 暖 化 によるものなのですね。\n",
    "\n",
    "安田 :はい。このまま温 暖 化 がすすんだ場合、\n",
    "    海 面 はなんと 最 大 で 59cm も 上 昇 するそうです。\n"
   ]
  },
  {
   "cell_type": "markdown",
   "metadata": {},
   "source": [
    "Here’s the formatted table for the conversation you've provided:\n",
    "\n",
    "| Speaker    | Japanese (Hiragana)                                                                                                                                                                 | Japanese (Kanji)                                                                                                                             | English Translation                                                                                                                                                                                  | Romaji                                                                                                                                                               | Notes                                                                                      |\n",
    "| ---------- | ----------------------------------------------------------------------------------------------------------------------------------------------------------------------------------- | -------------------------------------------------------------------------------------------------------------------------------------------- | ---------------------------------------------------------------------------------------------------------------------------------------------------------------------------------------------------- | -------------------------------------------------------------------------------------------------------------------------------------------------------------------- | ------------------------------------------------------------------------------------------ |\n",
    "| キャスター | こんばんは。スペシャル ばん ぐみ 「みんなの かんきょう」、 今 かい は「 ちきゅう おんだん か 」をテーマにお おくりいたします。                                                      | こんばんは。スペシャル 番組 「みんなの 環境」、 今回 は「 地球 温暖 化 」をテーマにお送 りいたします。                                       | Good evening. This is the special program \"Everyone’s Environment.\" Tonight, the theme is \"Global Warming.\"                                                                                          | Konbanwa. Supesharu bangumi \"Minna no kankyō\", konkai wa \"Chikyū ondanka\" wo tēma ni o okuri itashimasu.                                                             | _環境_ (kankyō) means \"environment\".                                                       |\n",
    "| キャスター | ほんじつ はゲストの かた におこしいただきました。かんきょう いいん かい の けんきゅう いん で、 かんきょう じょうせい の せんもんか でいらっしゃる安田 りょう さんです。            | 本日 はゲストの 方 にお越しいただきました。環境委員会 の 研究員 で、 環境 情勢 の専門家 でいらっしゃる安田 亮 さんです。                     | Today, we have a guest with us: Mr. Ryo Yasuda, a researcher from the Environmental Committee and a specialist in environmental affairs.                                                             | Honjitsu wa gesuto no kata ni okoshi itadakimashita. Kankyō iin kai no kenkyūin de, kankyō jōsei no senmonka de irassharu Yasuda Ryō san desu.                       | _委員会_ (iinkai) means \"committee\" and _専門家_ (senmonka) means \"specialist\".            |\n",
    "| キャスター | やすださん、よろしくおねがいします。                                                                                                                                                | 安田さん、よろしくお願いします。                                                                                                             | Mr. Yasuda, thank you for being here.                                                                                                                                                                | Yasuda san, yoroshiku onegaishimasu.                                                                                                                                 | Simple polite phrase for introducing someone.                                              |\n",
    "| 安田       | よろしくおねがいします。                                                                                                                                                            | よろしくお願いします。                                                                                                                       | Thank you for having me.                                                                                                                                                                             | Yoroshiku onegaishimasu.                                                                                                                                             | Simple polite response.                                                                    |\n",
    "| キャスター | さて、きのう、せかいきこうの ちょうさ ほうこくしょ が はっぴょう されました。                                                                                                       | さて、昨日、世界気候の 調査 報告書 が 発表 されました。                                                                                      | So, yesterday, the world climate survey report was announced.                                                                                                                                        | Sate, kinou, sekai kikou no chousa houkokusho ga happyou saremashita.                                                                                                | _調査報告書_ (chōsa hōkokusho) means \"survey report\".                                      |\n",
    "| キャスター | この ちょうさ ほうこくしょ によると、 さくねん の せかい の へいきん きおん は、ちょうさ を かいしした 19 せいき はんば いこう、さいこう きおん を きろく したとのことです。        | この 調査 報告書 によると、 昨年 の世界の 平均 気温は、 調査 を開始した 19 世紀 半ば以降、 最 高 気温 を記録したとのことです。               | According to this report, the average global temperature for last year was the highest recorded since the survey started in the mid-19th century.                                                    | Kono chōsa hōkokusho ni yoru to, sakunen no sekai no heikin kion wa, chōsa wo kaishi shita 19 seiki hanba ikou, saikou kion wo kiroku shita to no koto desu.         | _気温_ (kion) means \"temperature\", and _記録_ (kiroku) means \"record\".                     |\n",
    "| 安田       | そうなんです。ちきゅう の ひょうめん おんど も かこ さいこう を かんそく しました。だいき だけに とどまらず、うみ にも えいきょう が でています。                                   | そうなんです。地球 の 表面 温度も過去 最 高 を 観測 しました。大気だけにとどまらず、 海 にも 影響 が出ています。                             | Yes, that’s correct. The Earth’s surface temperature has also reached the highest it has ever been observed. The impact is not just in the atmosphere, but also in the ocean.                        | Sō nan desu. Chikyū no hyōmen ondo mo kako saikou wo kansoku shimashita. Taiki dake ni todomarazu, umi ni mo eikyō ga deteimasu.                                     | _表面温度_ (hyōmen ondo) means \"surface temperature\", and _影響_ (eikyō) means \"impact\".   |\n",
    "| 安田       | それは、うみめん すいおん と すいい の じょうしょう です。すいい に いたっては、この いちねん かん の じょうしょうりつ は、かこ さいだい です。                                     | それは、海面 水温 と水位の 上昇 です。水位に 至っては、この 一年間 の 上昇率 は、過去 最 大 です。                                           | That is the rise in sea surface temperature and water levels. In fact, the rate of increase in water levels over the past year is the highest on record.                                             | Sore wa, kaimen suion to suii no jōshō desu. Suii ni itatte wa, kono ichinenkan no jōshō-ritsu wa, kako saidai desu.                                                 | _水位_ (suii) means \"water level\", and _上昇率_ (jōshō-ritsu) means \"rate of increase\".    |\n",
    "| 安田       | きんねん は いぜん に もまして、 さんぎょう かつどう が かっぱつ ですから、このさき も おんだんか が すすんでいく ことでしょう。                                                    | 近年 は以前にもまして、 産業 活動 が 活発 ですから、この先 も温暖化 が進んでいくことでしょう。                                               | In recent years, industrial activities have become more active than ever before, so global warming will likely continue.                                                                             | Kinnen wa izen ni mo mashite, sangyō katsudō ga kappatsu desu kara, kono saki mo ondanka ga susunde iku koto deshō.                                                  | _産業活動_ (sangyō katsudō) means \"industrial activity\".                                   |\n",
    "| キャスター | おんど や すい い が じょうしょう していることは わかりましたが、わたしたちの せいかつ に どう えいきょう するのでしょうか。                                                        | 温度や水位が 上昇 していることはわかりましたが、 私たちの 生 活 にどう 影響 するのでしょうか。                                               | I understand that temperatures and water levels are rising, but how will this affect our lives?                                                                                                      | Ondo ya suii ga jōshō shiteiru koto wa wakarimashita ga, watashitachi no seikatsu ni dō eikyō suru no deshō ka.                                                      | _生活_ (seikatsu) means \"life\" or \"lifestyle\".                                             |\n",
    "| 安田       | はい。 みなさんごぞんじのとおり、ことしも もうしょ ですね。こうおん の ほか にも ゲリラ ごうう、ねっぱ などの いじょう きしょう が ぞうか しています。                              | はい。皆さんご存知のとおり今年も 猛暑 ですね。高温 の 他 にもゲリラ豪雨、熱波などの 異常 気象 が 増加しています。                            | Yes. As you all know, it’s a scorching summer again this year. In addition to the high temperatures, there are more unusual weather phenomena such as guerrilla storms and heat waves.               | Hai. Minasan gozonji no tōri kotoshi mo mōsho desu ne. Kōon no hoka ni mo gerira gōu, neppa nado no ijō kishō ga zōka shiteimasu.                                    | _猛暑_ (mōsho) means \"scorching heat\", and _異常気象_ (ijō kishō) means \"unusual weather\". |\n",
    "| 安田       | きおん の じょうしょう により、どう しょくぶつ の ぜつめつ の りすく も たかまりますし、マラリア や でんぐねつ などの かんせん の りすく の たかい ちいき も ぞうえていくでしょう。 | 気温 の 上昇 により、 動植物 の 絶滅 の リスクも 高 まりますし、マラリアやデング 熱 などの 感染 のリスクの 高い 地域 も 増えていくでしょう。 | The rise in temperature will increase the risk of extinction for plants and animals, and also the risk of diseases like malaria and dengue fever will increase in areas with higher infection rates. | Kion no jōshō ni yori, dōshokubutsu no zetsumetsu no risuku mo takamarimasu shi, mararia ya dengu netsu nado no kansen no risuku no takai chiiki mo fuete iku deshō. | _絶滅_ (zetsumetsu) means \"extinction\", and _感染_ (kansen) means \"infection\".             |\n",
    "| キャスター | これらは すべて ちきゅう おんだん か による もの なのですね。                                                                                                                       | これらはすべて 地球 温暖 化 によるものなのですね。                                                                                           | All of these are due to global warming, aren’t they?                                                                                                                                                 | Korera wa subete chikyū ondanka ni yoru mono na no desu ne.                                                                                                          | _温暖化_ (ondanka) means \"global warming\".                                                 |\n",
    "| 安田       | はい。このまま おんだんか が すすんだ ばあい、 かいめん は なんと さいだい で 59cm も じょうしょう するそうです。                                                                   | はい。このまま温暖化 が進んだ場合、海面 はなんと 最 大 で 59cm も 上昇 するそうです。                                                        | Yes. If global warming continues, sea levels are expected to rise by as much as 59cm at most.                                                                                                        | Hai. Kono mama ondanka ga susunda baai, kaimen wa nanto saidai de 59cm mo jōshō suru sō desu.                                                                        | _海面_ (kaimen) means \"sea surface\" and _上昇_ (jōshō) means \"rise\".                       |\n",
    "\n",
    "This table breaks down the conversation, providing explanations of the kanji and vocabulary used, which should help you with the meanings, readings, and context. Let me know if you need any further assistance!\n"
   ]
  },
  {
   "cell_type": "markdown",
   "metadata": {},
   "source": [
    "---"
   ]
  },
  {
   "cell_type": "markdown",
   "metadata": {},
   "source": [
    "# Grammar 1\n"
   ]
  },
  {
   "cell_type": "markdown",
   "metadata": {},
   "source": []
  },
  {
   "cell_type": "markdown",
   "metadata": {},
   "source": []
  },
  {
   "cell_type": "markdown",
   "metadata": {},
   "source": []
  },
  {
   "cell_type": "markdown",
   "metadata": {},
   "source": [
    "---\n",
    "---"
   ]
  },
  {
   "cell_type": "markdown",
   "metadata": {},
   "source": [
    "# Grammar 2\n"
   ]
  },
  {
   "cell_type": "markdown",
   "metadata": {},
   "source": []
  },
  {
   "cell_type": "markdown",
   "metadata": {},
   "source": []
  },
  {
   "cell_type": "markdown",
   "metadata": {},
   "source": []
  },
  {
   "cell_type": "markdown",
   "metadata": {},
   "source": [
    "---\n",
    "---"
   ]
  },
  {
   "cell_type": "markdown",
   "metadata": {},
   "source": [
    "# Grammar 3\n"
   ]
  },
  {
   "cell_type": "markdown",
   "metadata": {},
   "source": []
  },
  {
   "cell_type": "markdown",
   "metadata": {},
   "source": []
  },
  {
   "cell_type": "markdown",
   "metadata": {},
   "source": []
  },
  {
   "cell_type": "markdown",
   "metadata": {},
   "source": [
    "---\n",
    "---"
   ]
  },
  {
   "cell_type": "markdown",
   "metadata": {},
   "source": [
    "# Grammar 4\n"
   ]
  },
  {
   "cell_type": "markdown",
   "metadata": {},
   "source": []
  },
  {
   "cell_type": "markdown",
   "metadata": {},
   "source": []
  },
  {
   "cell_type": "markdown",
   "metadata": {},
   "source": []
  },
  {
   "cell_type": "markdown",
   "metadata": {},
   "source": [
    "---\n",
    "---"
   ]
  },
  {
   "cell_type": "markdown",
   "metadata": {},
   "source": [
    "# Grammar 5\n"
   ]
  },
  {
   "cell_type": "markdown",
   "metadata": {},
   "source": []
  },
  {
   "cell_type": "markdown",
   "metadata": {},
   "source": []
  },
  {
   "cell_type": "markdown",
   "metadata": {},
   "source": []
  },
  {
   "cell_type": "markdown",
   "metadata": {},
   "source": [
    "---\n",
    "---"
   ]
  },
  {
   "cell_type": "markdown",
   "metadata": {},
   "source": [
    "# Grammar 6\n"
   ]
  },
  {
   "cell_type": "markdown",
   "metadata": {},
   "source": []
  },
  {
   "cell_type": "markdown",
   "metadata": {},
   "source": []
  },
  {
   "cell_type": "markdown",
   "metadata": {},
   "source": []
  },
  {
   "cell_type": "markdown",
   "metadata": {},
   "source": [
    "---\n",
    "---"
   ]
  },
  {
   "cell_type": "markdown",
   "metadata": {},
   "source": [
    "# Grammar 7\n"
   ]
  },
  {
   "cell_type": "markdown",
   "metadata": {},
   "source": []
  },
  {
   "cell_type": "markdown",
   "metadata": {},
   "source": []
  },
  {
   "cell_type": "markdown",
   "metadata": {},
   "source": []
  },
  {
   "cell_type": "markdown",
   "metadata": {},
   "source": [
    "---\n",
    "---"
   ]
  },
  {
   "cell_type": "markdown",
   "metadata": {},
   "source": [
    "# Grammar 8\n"
   ]
  },
  {
   "cell_type": "markdown",
   "metadata": {},
   "source": []
  },
  {
   "cell_type": "markdown",
   "metadata": {},
   "source": []
  },
  {
   "cell_type": "markdown",
   "metadata": {},
   "source": []
  },
  {
   "cell_type": "markdown",
   "metadata": {},
   "source": [
    "---\n",
    "---"
   ]
  },
  {
   "cell_type": "markdown",
   "metadata": {},
   "source": [
    "# Grammar 9\n"
   ]
  },
  {
   "cell_type": "markdown",
   "metadata": {},
   "source": []
  },
  {
   "cell_type": "markdown",
   "metadata": {},
   "source": []
  },
  {
   "cell_type": "markdown",
   "metadata": {},
   "source": []
  },
  {
   "cell_type": "markdown",
   "metadata": {},
   "source": [
    "---\n",
    "---"
   ]
  },
  {
   "cell_type": "markdown",
   "metadata": {},
   "source": [
    "# Grammar 10\n"
   ]
  },
  {
   "cell_type": "markdown",
   "metadata": {},
   "source": []
  },
  {
   "cell_type": "markdown",
   "metadata": {},
   "source": []
  },
  {
   "cell_type": "markdown",
   "metadata": {},
   "source": []
  },
  {
   "cell_type": "markdown",
   "metadata": {},
   "source": [
    "---\n",
    "---"
   ]
  },
  {
   "cell_type": "markdown",
   "metadata": {},
   "source": [
    "# Grammar 11\n"
   ]
  },
  {
   "cell_type": "markdown",
   "metadata": {},
   "source": []
  },
  {
   "cell_type": "markdown",
   "metadata": {},
   "source": []
  },
  {
   "cell_type": "markdown",
   "metadata": {},
   "source": []
  },
  {
   "cell_type": "markdown",
   "metadata": {},
   "source": [
    "---\n",
    "---"
   ]
  },
  {
   "cell_type": "markdown",
   "metadata": {},
   "source": [
    "# Grammar 12\n"
   ]
  },
  {
   "cell_type": "markdown",
   "metadata": {},
   "source": []
  },
  {
   "cell_type": "markdown",
   "metadata": {},
   "source": []
  },
  {
   "cell_type": "markdown",
   "metadata": {},
   "source": []
  },
  {
   "cell_type": "markdown",
   "metadata": {},
   "source": [
    "---\n",
    "---"
   ]
  }
 ],
 "metadata": {
  "language_info": {
   "name": "python"
  }
 },
 "nbformat": 4,
 "nbformat_minor": 2
}
