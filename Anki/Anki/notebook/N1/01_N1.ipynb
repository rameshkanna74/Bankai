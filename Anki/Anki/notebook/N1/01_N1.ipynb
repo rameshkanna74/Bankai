{
 "cells": [
  {
   "cell_type": "markdown",
   "metadata": {},
   "source": [
    "# N1\n",
    "\n",
    "### 第 01 課 - 優秀な社員とはいえ、トラブルはあるよ。\n",
    "\n",
    "### Lesson 01 - Even excellent workers sometimes get into a trouble."
   ]
  },
  {
   "cell_type": "markdown",
   "metadata": {},
   "source": [
    "# Vocabulary"
   ]
  },
  {
   "cell_type": "markdown",
   "metadata": {},
   "source": [
    "    1.じっせき 実績 n. achievement/results/performance\n",
    "    2.ひとがら 人柄 n. personality/character\n",
    "    3.じしゅ 自主 n. autonomy/self-direction/independence\n",
    "    4.おいて 於いて collocation in/at/on/as to (for)\n",
    "    5.ドーピング n. doping (drug use)\n",
    "    6.しゅつじょう 出場 n./vi. participation/to participate\n",
    "    7.ふうさ 封鎖 n./vt. blockade/to block\n",
    "    8.ひさい 被災 n./vi. to be hit by a disaster/to suffer from a disaster\n",
    "    9.むじつ 無実 n./な-adj innocence/innocent\n",
    "    10.そうさ 捜査 n./vt. investigation/to investigate\n",
    "    11.みとめる 認める vt. to see/ to notice/to judge/to admit/ to accept\n",
    "    12.しっかく 失格 n./vi. disqualification/to be disqualified\n",
    "    13.したじ 下地 n. groundwork/foundation/grounding\n",
    "    14.こくせき 国籍 n. nationality\n",
    "    15.ゆうけんしゃ 有権者 n. elector/voter/the electorate\n",
    "    16.がっしょう 合唱 n./vt. chorus/to sing together (in chorus)\n",
    "    17.あきす 空き巣 n. sneak-thievery/sneak thief\n",
    "    18.ぼうはん 防犯 n. crime prevention\n",
    "    19.パトロール n./vi. patrol/to patrol\n",
    "    20.いかん 如何 n. outcome/how/what\n",
    "    21.いかにも adv. just/indeed/really/certainly\n",
    "    22.あやふや な-adj. uncertain/indefinite/vague\n",
    "    23.ていけい 提携 n./vi. cooperation/to cooperate(with, in doing)\n",
    "    24.いりょう 医療 n. medicine/ medical treatment/medical service\n",
    "    25.じじょう 事情 n. circumstance/reason/condition\n"
   ]
  },
  {
   "cell_type": "markdown",
   "metadata": {},
   "source": [
    "    26.うつわ 器 n. container/capacity/caliber\n",
    "    27.おしきる 押し切る vt. to brazen out/ to overcome(the opposition)\n",
    "    28.おしこむ 押し込む vi./vt. to break in/to squeeze someone or something into\n",
    "    29.おいこむ 追い込む vt. to drive someone or something into\n",
    "    30.はなやか 華やか な-adj. gorgeous/spectacular/showy\n",
    "    31.うわまわる 上回る vi. to exceed\n",
    "    32.したまわる 下回る vi. to be (fall) below\n",
    "    33.はいけい 背景 n. background\n",
    "    34.とっきょ 特許 n. special permission/patent/concession\n",
    "    35.もめる 揉める vt. to dispute/to quarrel/to fight\n",
    "    36.そうりだいじん 総理大臣 n. Prime Minister\n",
    "    37.しょうちょう 象徴 n. symbol\n",
    "    38.ふぶき 吹雪 n. snowstorm\n",
    "    39.はかない 儚い い-adj. vain/transient/fragile/empty\n",
    "    40.みりょう 魅了 n./vt. fascination/to fascinate/to charm\n",
    "    41.ゆえん 由縁 n. origin/connection/relation/affinity/reason\n",
    "    42.ごげん 語源 n. origin of the word\n",
    "    43.はいく 俳句 n. haiku (a Japanese poem with three lines consisting of five, seven, and five syllables)\n",
    "    44.ちる 散る vi. to fall/to disperse/to scatter\n",
    "    45.しんすい 心酔 n./vi. infatuation/to be infatuated with\n",
    "    46.あいだがら 間柄 n. relationship\n",
    "    47.こゆう 固有 n./な-adj. peculiar/characteristic/native/inherent\n",
    "    48.じゅうらい 従来 n./adv. up to now/so far/heretofore/formerly\n",
    "    49.しょじ 所持 n./vt. possession/to possess\n",
    "    50.さわがしい 騒がしい い-adj. noisy\n"
   ]
  },
  {
   "cell_type": "markdown",
   "metadata": {},
   "source": [
    "    51.ずらっと adv. in a line/in a low\n",
    "    52.ずばり adv. directly/exactly/frankly\n",
    "    53.せつじつ 切実 な-adj. earnest/urgent\n",
    "    54.たばねる 束ねる vt. to bundle/to tie up/to bind\n",
    "    55.たもつ 保つ vt./vi. to keep/to retain/to remain/to preserve\n",
    "    56.たよう 多様 な-adj. various/diverse\n",
    "    57.つくづく adv. entirely/carefully/deeply/greatly/severely\n",
    "    58.つらぬく 貫く vt. to penetrate/to carry out\n",
    "    59.ていぎ 定義 n./vi. definition/to define\n",
    "    60.まぎらわしい 紛らわしい い-adj. confusing/ambiguous/misleading\n",
    "    61.みじめ 惨め な-adj. miserable\n",
    "    62.よふけ 夜更け n.l ate at night\n",
    "    63.よふかし 夜更かし n./vi. staying up late/to stay up late\n",
    "    64.すえる 据える vt. to place/to fix/to settle/to seat/to put\n",
    "    65.なやましい 悩ましい い-adj. uneasy/complex/seductive\n",
    "    66.すこやか 健やか な-adj. healthy\n",
    "    67.ゆとり n. room/space/ease\n",
    "    68.よほど 余程 adv. greatly/highly/very/considerably\n",
    "    69.やしん 野心 n. ambition\n",
    "    70.くすぐったい い-adj. ticklish\n",
    "    71.もどかしい い-adj. irritating/frustrating/impatient\n"
   ]
  },
  {
   "cell_type": "markdown",
   "metadata": {},
   "source": [
    "Sure! Below is the table format for all the vocabulary words you listed. I've included explanations, example sentences, and transliterations where relevant.\n",
    "\n",
    "---\n",
    "\n",
    "| No. | Japanese (Kanji) | Hiragana     | Romaji    | English Translation                               | Part of Speech | Example Sentence (Japanese)                | Example Sentence (English)                         | Example Sentence (Romaji)                            | Notes                                           |\n",
    "| --- | ---------------- | ------------ | --------- | ------------------------------------------------- | -------------- | ------------------------------------------ | -------------------------------------------------- | ---------------------------------------------------- | ----------------------------------------------- |\n",
    "| 1   | 実績             | じっせき     | jisseki   | achievement/results/performance                   | Noun           | 彼は素晴らしい実績を持っています。         | He has outstanding achievements.                   | Kare wa subarashii jisseki o motteimasu.             | Refers to actual results or achievements.       |\n",
    "| 2   | 人柄             | ひとがら     | hitogara  | personality/character                             | Noun           | 彼女の人柄はとても素晴らしいです。         | Her personality is wonderful.                      | Kanojo no hitogara wa totemo subarashii desu.        | Refers to someone's character.                  |\n",
    "| 3   | 自主             | じしゅ       | jishu     | autonomy/self-direction/independence              | Noun           | 自主性を大切にしています。                 | I value independence.                              | Jishusei o taisetsu ni shiteimasu.                   | Often used in educational contexts.             |\n",
    "| 4   | 於いて           | おいて       | oite      | in/at/on/as to (for)                              | Particle       | ビジネスの世界において重要な役割を果たす。 | He plays an important role in business.            | Bijinesu no sekai ni oite jūyō na yakuwari o hatasu. | Used in formal contexts, not as common as \"で\". |\n",
    "| 5   | ドーピング       | ドーピング   | dōpingu   | doping (drug use)                                 | Noun           | ドーピングはスポーツで禁止されています。   | Doping is banned in sports.                        | Dōpingu wa supōtsu de kinshi sareteimasu.            | Refers to drug use in sports.                   |\n",
    "| 6   | 出場             | しゅつじょう | shutsujou | participation/to participate                      | Noun/Verb      | 彼は大会に出場する予定です。               | He is scheduled to participate in the competition. | Kare wa taikai ni shutsujou suru yotei desu.         | Often used for competitions or events.          |\n",
    "| 7   | 封鎖             | ふうさ       | fūsa      | blockade/to block                                 | Noun/Verb      | 交通が封鎖されています。                   | The traffic is blocked.                            | Kōtsū ga fūsa sareteimasu.                           | Often used for physical blockages.              |\n",
    "| 8   | 被災             | ひさい       | hisai     | to be hit by a disaster/to suffer from a disaster | Noun/Verb      | 地震で被災しました。                       | I was affected by the earthquake.                  | Jishin de hisai shimashita.                          | Used in the context of natural disasters.       |\n",
    "| 9   | 無実             | むじつ       | mujitsu   | innocence/innocent                                | Noun/Adjective | 彼は無実です。                             | He is innocent.                                    | Kare wa mujitsu desu.                                | Often used in legal contexts.                   |\n",
    "| 10  | 捜査             | そうさ       | sōsa      | investigation/to investigate                      | Noun/Verb      | 警察が捜査を行っています。                 | The police are conducting an investigation.        | Keisatsu ga sōsa o okonatteimasu.                    | Used in legal or police contexts.               |\n",
    "| 11  | 認める           | みとめる     | mitomeru  | to see/to notice/to judge/to admit/to accept      | Verb           | 彼は自分のミスを認めました。               | He admitted his mistake.                           | Kare wa jibun no misu o mitomemashita.               | Can mean to admit or acknowledge.               |\n",
    "| 12  | 失格             | しっかく     | shikkaku  | disqualification/to be disqualified               | Noun/Verb      | ルール違反で失格になった。                 | He was disqualified for breaking the rules.        | Rūru ihan de shikkaku ni natta.                      | Commonly used in competitions.                  |\n",
    "| 13  | 下地             | したじ       | shita-ji  | groundwork/foundation/grounding                   | Noun           | 彼は事業の下地を作り始めた。               | He started laying the groundwork for the business. | Kare wa jigyō no shita-ji o tsukuri hajimeta.        | Refers to foundational work or preparation.     |\n",
    "| 14  | 国籍             | こくせき     | kokuseki  | nationality                                       | Noun           | 彼の国籍は日本です。                       | His nationality is Japanese.                       | Kare no kokuseki wa Nihon desu.                      | Refers to one's country of citizenship.         |\n",
    "| 15  | 有権者           | ゆうけんしゃ | yūkensha  | elector/voter/the electorate                      | Noun           | すべての有権者が投票に行きました。         | All the voters went to the polls.                  | Subete no yūkensha ga tōhyō ni ikimashita.           | Used in political contexts.                     |\n",
    "| 16  | 合唱             | がっしょう   | gasshō    | chorus/to sing together (in chorus)               | Noun/Verb      | みんなで合唱をした。                       | We sang together in a chorus.                      | Minna de gasshō o shita.                             | Often used in musical or group settings.        |\n",
    "| 17  | 空き巣           | あきす       | akisu     | sneak-thievery/sneak thief                        | Noun           | 空き巣に入られた。                         | We were robbed by a burglar.                       | Akisu ni irareta.                                    | Refers to burglars who break into houses.       |\n",
    "| 18  | 防犯             | ぼうはん     | bōhan     | crime prevention                                  | Noun           | 防犯対策を強化しています。                 | We are strengthening crime prevention measures.    | Bōhan taisaku o kyōka shiteimasu.                    | Refers to security measures to prevent crime.   |\n",
    "| 19  | パトロール       | パトロール   | patorōru  | patrol/to patrol                                  | Noun/Verb      | 警察がパトロールしている。                 | The police are patrolling.                         | Keisatsu ga patorōru shiteiru.                       | Often used in police or security contexts.      |\n",
    "| 20  | 如何             | いかん       | ikan      | outcome/how/what                                  | Noun           | その結果が如何にであるかが問題です。       | What the outcome will be is the problem.           | Sono kekka ga ikan ni de aru ka ga mondai desu.      | Formal, used in question forms.                 |\n",
    "| 21  | いかにも         | いかにも     | ikanimomo | just/indeed/really/certainly                      | Adverb         | いかにも彼らしい行動です。                 | It is certainly like him to act this way.          | Ikanimo karera-shī kōdō desu.                        | Emphasizes certainty or obviousness.            |\n",
    "| 22  | あやふや         | あやふや     | ayafuya   | uncertain/indefinite/vague                        | Adjective      | 彼の答えはあやふやでした。                 | His answer was vague.                              | Kare no kotae wa ayafuya deshita.                    | Describes something unclear or ambiguous.       |\n",
    "| 23  | 提携             | ていけい     | teikei    | cooperation/to cooperate (with, in doing)         | Noun/Verb      | 会社は他の企業と提携しています。           | The company is cooperating with other companies.   | Kaisha wa hoka no kigyō to teikei shiteimasu.        | Often used in business contexts.                |\n",
    "| 24  | 医療             | いりょう     | iryō      | medicine/medical treatment/medical service        | Noun           | 医療技術は進歩しています。                 | Medical technology is advancing.                   | Iryō gijutsu wa shinpo shiteimasu.                   | Refers to health-related services.              |\n",
    "| 25  | 事情             | じじょう     | jijō      | circumstance/reason/condition                     | Noun           | 事情があって遅れました。                   | I was late due to circumstances.                   | Jijō ga atte okuremashita.                           | Refers to reasons or background conditions.     |\n",
    "\n",
    "---\n",
    "\n",
    "This table covers all the vocabulary you provided with explanations, example sentences in both Japanese and English, and some additional notes for context.\n"
   ]
  },
  {
   "cell_type": "markdown",
   "metadata": {},
   "source": [
    "Sure! Below is a table for the next set of 25 vocabulary words with explanations and examples:\n",
    "\n",
    "---\n",
    "\n",
    "| No. | Japanese (Kanji) | Hiragana       | Romaji      | English Translation                                                                    | Part of Speech | Example Sentence (Japanese)          | Example Sentence (English)                                 | Example Sentence (Romaji)                             | Notes                                                            |\n",
    "| --- | ---------------- | -------------- | ----------- | -------------------------------------------------------------------------------------- | -------------- | ------------------------------------ | ---------------------------------------------------------- | ----------------------------------------------------- | ---------------------------------------------------------------- |\n",
    "| 26  | 器               | うつわ         | utsuwa      | container/capacity/caliber                                                             | Noun           | 彼は大きな器を持っています。         | He has great capacity.                                     | Kare wa ōkina utsuwa o motteimasu.                    | Can refer to both physical containers and personal qualities.    |\n",
    "| 27  | 押し切る         | おしきる       | oshikiru    | to brazen out/to overcome (the opposition)                                             | Verb           | 彼は反対を押し切って計画を実行した。 | He pushed through the opposition and carried out the plan. | Kare wa hantai o oshikiratte keikaku o jikkō shita.   | Often used when facing resistance or challenges.                 |\n",
    "| 28  | 押し込む         | おしこむ       | oshikomu    | to break in/to squeeze someone or something into                                       | Verb           | 彼は部屋に押し込まれた。             | He was shoved into the room.                               | Kare wa heya ni oshikomareta.                         | Can also mean squeezing into a tight space.                      |\n",
    "| 29  | 追い込む         | おいこむ       | oikomu      | to drive someone or something into                                                     | Verb           | 彼を corner 追い込んだ。             | He was driven into a corner.                               | Kare o oikonda.                                       | Used when someone is forced into a difficult situation.          |\n",
    "| 30  | 華やか           | はなやか       | hanayaka    | gorgeous/spectacular/showy                                                             | Adjective      | パーティーは華やかでした。           | The party was splendid.                                    | Pātī wa hanayakadeshita.                              | Often used for celebrations, events, or appearances.             |\n",
    "| 31  | 上回る           | うわまわる     | uwamawaru   | to exceed                                                                              | Verb           | 今年の売上は去年を上回った。         | This year's sales exceeded last year's.                    | Kotoshi no uriage wa kyonen o uwamawatta.             | Often used for surpassing expectations.                          |\n",
    "| 32  | 下回る           | したまわる     | shitamawaru | to be (fall) below                                                                     | Verb           | 売上は予想を下回った。               | Sales fell below expectations.                             | Uriage wa yosō o shitamawatta.                        | Commonly used in business or financial contexts.                 |\n",
    "| 33  | 背景             | はいけい       | haikei      | background                                                                             | Noun           | 彼女の背景について知っている。       | I know about her background.                               | Kanojo no haikei ni tsuite shitteiru.                 | Refers to both literal and figurative background.                |\n",
    "| 34  | 特許             | とっきょ       | tokkyo      | special permission/patent/concession                                                   | Noun           | 彼は新しい技術の特許を取った。       | He got a patent for the new technology.                    | Kare wa atarashī gijutsu no tokkyo o totta.           | Refers to legal patents or exclusive rights.                     |\n",
    "| 35  | 揉める           | もめる         | moberu      | to dispute/to quarrel/to fight                                                         | Verb           | 二人はその問題で揉めている。         | The two are fighting over the issue.                       | Futari wa sono mondai de mometeiru.                   | Often used for personal disputes or arguments.                   |\n",
    "| 36  | 総理大臣         | そうりだいじん | sōri daijin | Prime Minister                                                                         | Noun           | 総理大臣は記者会見を開いた。         | The Prime Minister held a press conference.                | Sōri daijin wa kishakaiken o hiraita.                 | Title for the head of government in Japan.                       |\n",
    "| 37  | 象徴             | しょうちょう   | shōchō      | symbol                                                                                 | Noun           | 鶴は長寿の象徴です。                 | The crane is a symbol of longevity.                        | Tsuru wa chōju no shōchō desu.                        | Often used in cultural or national symbols.                      |\n",
    "| 38  | 吹雪             | ふぶき         | fubuki      | snowstorm                                                                              | Noun           | 大きな吹雪が街を襲った。             | A huge snowstorm hit the town.                             | Ōkina fubuki ga machi o osotta.                       | Commonly used in winter weather contexts.                        |\n",
    "| 39  | 儚い             | はかない       | hakanai     | vain/transient/fragile/empty                                                           | Adjective      | 彼女の夢は儚いものだった。           | Her dream was fleeting.                                    | Kanojo no yume wa hakanai mono datta.                 | Often used to describe something fleeting or temporary.          |\n",
    "| 40  | 魅了             | みりょう       | miryō       | fascination/to fascinate/to charm                                                      | Noun/Verb      | 彼女は観客を魅了した。               | She fascinated the audience.                               | Kanojo wa kankyaku o miryō shita.                     | Can be used for both objects or people that captivate attention. |\n",
    "| 41  | 由縁             | ゆえん         | yuen        | origin/connection/reason/affinity/relation                                             | Noun           | 彼との出会いには深い由縁がある。     | There is a deep connection to my encounter with him.       | Kare to no deai ni wa fukai yuen ga aru.              | Often used for connections or significant reasons behind events. |\n",
    "| 42  | 語源             | ごげん         | gogen       | origin of the word                                                                     | Noun           | この言葉の語源は何ですか？           | What is the origin of this word?                           | Kono kotoba no gogen wa nan desu ka?                  | Used in linguistic contexts.                                     |\n",
    "| 43  | 俳句             | はいく         | haiku       | haiku (a Japanese poem with three lines consisting of five, seven, and five syllables) | Noun           | 彼は俳句が得意です。                 | He is good at haiku.                                       | Kare wa haiku ga tokui desu.                          | Refers to the traditional Japanese form of poetry.               |\n",
    "| 44  | 散る             | ちる           | chiru       | to fall/to disperse/to scatter                                                         | Verb           | 花が散る季節が好きだ。               | I like the season when flowers scatter.                    | Hana ga chiru kisetsu ga suki da.                     | Often used for flowers or things that spread out.                |\n",
    "| 45  | 心酔             | しんすい       | shinsui     | infatuation/to be infatuated with                                                      | Noun/Verb      | 彼は彼女に心酔している。             | He is infatuated with her.                                 | Kare wa kanojo ni shinsui shiteiru.                   | Describes a deep passion or obsession.                           |\n",
    "| 46  | 間柄             | あいだがら     | aidagara    | relationship                                                                           | Noun           | 私たちの間柄は長い歴史があります。   | We have a long history in our relationship.                | Watashitachi no aidagara wa nagai rekishi ga arimasu. | Describes personal relationships or connections.                 |\n",
    "| 47  | 固有             | こゆう         | koyū        | peculiar/characteristic/native/inherent                                                | Noun/Adjective | この文化は固有の特徴を持っている。   | This culture has unique characteristics.                   | Kono bunka wa koyū no tokuchō o motteiru.             | Used to describe something inherent or native.                   |\n",
    "| 48  | 従来             | じゅうらい     | jūrai       | up to now/so far/heretofore/formerly                                                   | Noun/Adverb    | 従来の方法ではうまくいかなかった。   | The traditional method did not work.                       | Jūrai no hōhō de wa umaku ikanakatta.                 | Often used to refer to past methods or conditions.               |\n",
    "| 49  | 所持             | しょじ         | shoji       | possession/to possess                                                                  | Noun/Verb      | 彼はその武器を所持していた。         | He was in possession of the weapon.                        | Kare wa sono buki o shoji shiteita.                   | Used in legal contexts for holding or possessing items.          |\n",
    "| 50  | 騒がしい         | さわがしい     | sawagashii  | noisy                                                                                  | Adjective      | 騒がしい場所では勉強できない。       | I can't study in noisy places.                             | Sawagashii basho de wa benkyō dekinai.                | Used to describe loud or chaotic environments.                   |\n",
    "\n",
    "---\n",
    "\n",
    "This table provides explanations and examples for each of the 25 vocabulary words in your list. Let me know if you need any further clarifications!\n"
   ]
  },
  {
   "cell_type": "markdown",
   "metadata": {},
   "source": [
    "Here’s the table for the next set of vocabulary words with explanations and examples:\n",
    "\n",
    "---\n",
    "\n",
    "| No. | Japanese (Kanji) | Hiragana     | Romaji       | English Translation                        | Part of Speech | Example Sentence (Japanese)          | Example Sentence (English)                  | Example Sentence (Romaji)                  | Notes                                                                |\n",
    "| --- | ---------------- | ------------ | ------------ | ------------------------------------------ | -------------- | ------------------------------------ | ------------------------------------------- | ------------------------------------------ | -------------------------------------------------------------------- |\n",
    "| 51  | ずらっと         | ずらっと     | zuratto      | in a line/in a row                         | Adverb         | 人々がずらっと並んでいる。           | The people are lined up in a row.           | Hitobito ga zuratto narandeiru.            | Used to describe things or people lined up or in order.              |\n",
    "| 52  | ずばり           | ずばり       | zubari       | directly/exactly/frankly                   | Adverb         | ずばり言ってください。               | Please say it directly.                     | Zubari itte kudasai.                       | Used to express something bluntly or directly.                       |\n",
    "| 53  | 切実             | せつじつ     | setujitsu    | earnest/urgent                             | Adjective      | 彼の切実な願いを聞いた。             | I heard his earnest wish.                   | Kare no setujitsu na negai o kiita.        | Refers to something urgent or deeply felt.                           |\n",
    "| 54  | 束ねる           | たばねる     | tabaneru     | to bundle/to tie up/to bind                | Verb           | 彼は木の枝を束ねた。                 | He bundled the branches together.           | Kare wa ki no eda o tabaneta.              | Often used for binding things together, like ropes or bundles.       |\n",
    "| 55  | 保つ             | たもつ       | tamotsu      | to keep/to retain/to remain/to preserve    | Verb           | 健康を保つために運動をしています。   | I exercise to maintain my health.           | Kenkō o tamotsu tame ni undō o shiteimasu. | Used for maintaining or keeping something in a state.                |\n",
    "| 56  | 多様             | たよう       | tayō         | various/diverse                            | Adjective      | この街には多様な文化があります。     | This city has various cultures.             | Kono machi ni wa tayō na bunka ga arimasu. | Used to describe variety or diversity.                               |\n",
    "| 57  | つくづく         | つくづく     | tsukuduku    | entirely/carefully/deeply/greatly/severely | Adverb         | つくづく人生は不公平だと感じる。     | I deeply feel that life is unfair.          | Tsukuduku jinsei wa fukōhei da to kanjiru. | Often used for expressing deep feelings or realizations.             |\n",
    "| 58  | 貫く             | つらぬく     | tsuranuku    | to penetrate/to carry out                  | Verb           | 彼は自分の信念を貫き通した。         | He stuck to his beliefs.                    | Kare wa jibun no shinnen o tsuranikuita.   | Refers to following through or staying true to something.            |\n",
    "| 59  | 定義             | ていぎ       | teigi        | definition/to define                       | Noun/Verb      | 言葉の定義を明確にする。             | Clarify the definition of the word.         | Kotoba no teigi o meikaku ni suru.         | Often used in academic or explanatory contexts.                      |\n",
    "| 60  | 紛らわしい       | まぎらわしい | magirawashii | confusing/ambiguous/misleading             | Adjective      | この説明は紛らわしいです。           | This explanation is confusing.              | Kono setsumei wa magirawashii desu.        | Used to describe things that are unclear or misleading.              |\n",
    "| 61  | 惨め             | みじめ       | mijime       | miserable                                  | Adjective      | 彼は惨めな生活を送っている。         | He is living a miserable life.              | Kare wa mijime na seikatsu o okutteiru.    | Describes extreme sadness or a poor state of affairs.                |\n",
    "| 62  | 夜更け           | よふけ       | yofuke       | late at night                              | Noun           | 夜更けに外を歩くのは危険です。       | Walking outside late at night is dangerous. | Yofuke ni soto o aruku no wa kiken desu.   | Refers to the late hours of the night.                               |\n",
    "| 63  | 夜更かし         | よふかし     | yofukashi    | staying up late/to stay up late            | Noun/Verb      | 彼は夜更かしをしてしまった。         | He stayed up late.                          | Kare wa yofukashi o shite shimatta.        | Describes staying awake past a usual bedtime.                        |\n",
    "| 64  | 据える           | すえる       | sueeru       | to place/to fix/to settle/to seat/to put   | Verb           | その椅子を部屋の隅に据えてください。 | Please place the chair in the corner.       | Sono isu o heya no sumi ni suete kudasai.  | Often used for fixing or placing something in position.              |\n",
    "| 65  | 悩ましい         | なやましい   | nayamashii   | uneasy/complex/seductive                   | Adjective      | 彼の態度は悩ましいものだった。       | His attitude was perplexing.                | Kare no taido wa nayamashii mono datta.    | Used for situations or feelings that are complicated or frustrating. |\n",
    "| 66  | 健やか           | すこやか     | sukoyaka     | healthy                                    | Adjective      | 健やかな生活を送っている。           | I lead a healthy life.                      | Sukoyaka na seikatsu o okutteiru.          | Refers to physical or mental health.                                 |\n",
    "| 67  | ゆとり           | ゆとり       | yutori       | room/space/ease                            | Noun           | この部屋にはゆとりがあります。       | This room has plenty of space.              | Kono heya ni wa yutori ga arimasu.         | Refers to having ample space or time.                                |\n",
    "| 68  | 余程             | よほど       | yohodo       | greatly/highly/very/considerably           | Adverb         | 余程疲れているようだ。               | You seem very tired.                        | Yohodo tsukareteiru yō da.                 | Used for emphasis, to express a great degree.                        |\n",
    "| 69  | 野心             | やしん       | yashin       | ambition                                   | Noun           | 彼は大きな野心を持っている。         | He has big ambitions.                       | Kare wa ōkina yashin o motteiru.           | Refers to someone's desire for success or achievement.               |\n",
    "| 70  | くすぐったい     | くすぐったい | kusuguttai   | ticklish                                   | Adjective      | 彼はくすぐったいので笑ってしまう。   | He laughs because he is ticklish.           | Kare wa kusuguttai node waratte shimau.    | Used to describe the sensation of being tickled.                     |\n",
    "| 71  | もどかしい       | もどかしい   | modokashii   | irritating/frustrating/impatient           | Adjective      | その計画はもどかしいほど進まない。   | The plan is frustratingly slow.             | Sono keikaku wa modokashī hodo susumanai.  | Describes situations that cause impatience or frustration.           |\n",
    "\n",
    "---\n",
    "\n",
    "This table provides explanations, example sentences, and contextual notes for each of the 21 vocabulary words in this batch. If you need more examples or clarifications, feel free to ask!\n"
   ]
  },
  {
   "cell_type": "markdown",
   "metadata": {},
   "source": [
    "---"
   ]
  },
  {
   "cell_type": "markdown",
   "metadata": {},
   "source": [
    "# Conversation"
   ]
  },
  {
   "cell_type": "markdown",
   "metadata": {},
   "source": [
    "佐藤:さっきの会議、どうして 発 言 しなかったの。時間がなかったから?\n",
    "\n",
    "ワン:いいえ、時間以前の 問 題 です。\n",
    "    自分の 考 えがうまくまとめられなかったんです。\n",
    "\n",
    "佐藤:そっか。はじめて 社 長 に会ったから 緊 張 しちゃった?\n",
    "\n",
    "ワン:それもあるんですけど...。 何 で会議 中 って、自分の 考 えを\n",
    "    うまく言葉にできないんでしょうね。もどかしいです。\n",
    "\n",
    "佐藤:ところで、前田 君 、すごいよね。今年も 優 秀 社 員 に 選 ばれて、\n",
    "    ボーナスもアップだって。うらやましい〜。\n",
    "\n",
    "ワン:前田さんは 選 ばれるべくして 選 ばれたと 思 います。\n",
    "    それだけの 実 績 を上げているんですから。\n",
    "\n",
    "佐藤:仕事ができるだけじゃなくて 人 柄 もいいよね。部下であろうと、\n",
    "    ビルの 清 掃 の 人 であろうと、 丁 寧 な言葉で 話 すからね。\n",
    "\n",
    "ワン:前田さんって、 完 璧 ですよね。 入 社 してからトラブルを\n",
    "    起こしたことなんて、 一 回 も ないんじゃないですか。\n",
    "\n",
    "佐藤:いや、 優 秀 な 社 員 とはいえ、トラブルはあるよ。\n",
    "    彼 だって 最 初 はワンさんと 同 じように 新 人 だったんだから。\n",
    "    入 社 してまだ 3年目のときだったかな、 彼 が 担 当 した\n",
    "    プロジェクト が 大 失 敗 したこともあってねえ。\n",
    "\n",
    "ワン:ええ。\n",
    "\n",
    "佐藤:そのプロジェクトが 大 失 敗 してからというもの、\n",
    "    彼 はすごく 努 力 してね。 朝 一 番 に 会 社 に来たり、\n",
    "    自 主 的 にセミナーに行ったりして。\n",
    "\n",
    "ワン:トラブルこそ 人 を 成 長 させるチャンスですね。\n",
    "\n",
    "佐藤:その 通 り。次期、 営 業 部 の 部 長 は 経 歴 、 人 柄 、 実 績\n",
    "    すべての 面 から見て、 彼 をおいてほかにいないね。"
   ]
  },
  {
   "cell_type": "markdown",
   "metadata": {},
   "source": [
    "Here is the formatted table for the conversation you provided:\n",
    "\n",
    "| Speaker | Japanese (Hiragana)                                                                                                                                                  | Japanese (Kanji)                                                                                                          | English Translation                                                                                                                                      | Romaji                                                                                                                                                      | Notes                                                          |\n",
    "| ------- | -------------------------------------------------------------------------------------------------------------------------------------------------------------------- | ------------------------------------------------------------------------------------------------------------------------- | -------------------------------------------------------------------------------------------------------------------------------------------------------- | ----------------------------------------------------------------------------------------------------------------------------------------------------------- | -------------------------------------------------------------- |\n",
    "| 佐藤    | さっきの かいぎ、どうして はつ げん しなかったの。じかんが なかったから？                                                                                            | さっきの会議、どうして 発言しなかったの。時間がなかったから？                                                             | Why didn't you speak up in the meeting earlier? Was it because there wasn't enough time?                                                                 | sakki no kaigi, doushite hatsugen shinakatta no. jikan ga nakatta kara?                                                                                     | _発言_ (hatsugen) means \"statement\" or \"speech\".               |\n",
    "| ワン    | いいえ、じかんいぜんの もん だい です。じぶんの かんがえ が うまく まとめられなかったんです。                                                                        | いいえ、時間以前の 問題です。自分の 考えがうまくまとめられなかったんです。                                                | No, it’s a problem that existed before time. I couldn't organize my thoughts well.                                                                       | iie, jikan izen no mondai desu. jibun no kangae ga umaku matomerarenakatta n desu.                                                                          | _考え_ (kangae) means \"thought\" or \"idea\".                     |\n",
    "| 佐藤    | そっか。はじめて しゃちょう に あったから きんちょう しちゃった？                                                                                                    | そっか。はじめて 社長 に会ったから 緊張しちゃった？                                                                       | I see. Was it because it was your first time meeting the president, and you got nervous?                                                                 | soka. hajimete shachou ni atta kara kinchou shichatta?                                                                                                      | _緊張_ (kinchou) means \"nervousness\" or \"tension\".             |\n",
    "| ワン    | それもあるんですけど…。なんで かいぎ ちゅう って、じぶんの かんがえ を うまく ことば に できないんでしょうね。もどかしいです。                                       | それもあるんですけど…。なんで 会議 中って、自分の 考えをうまく言葉にできないんでしょうね。もどかしいです。                | That’s part of it, but why is it that during meetings, I can’t put my thoughts into words properly? It’s frustrating.                                    | sore mo arun desu kedo...nande kaigi chuu tte, jibun no kangae wo umaku kotoba ni dekinain deshou ne. modokashii desu.                                      | _もどかしい_ (modokashii) means \"frustrating\" or \"irritating\". |\n",
    "| 佐藤    | ところで、まえだ くん、すごいよね。今年も ゆうしゅう しゃいん に えらばれて、ボーナスも アップだって。うらやましい〜。                                               | ところで、前田 君 、すごいよね。今年も 優秀 社員 に 選ばれて、ボーナスもアップだって。うらやましい〜。                    | By the way, Maeda-kun is amazing, right? He was chosen as the outstanding employee again this year, and his bonus went up. I’m so jealous!               | tokoro de, Maeda kun, sugoi yo ne. Kotoshi mo yuushuu shain ni erabarete, bo-nasu mo appu datte. urayamashii~.                                              | _優秀_ (yuushuu) means \"outstanding\" or \"excellent\".           |\n",
    "| ワン    | まえださんは えらばれるべくして えらばれたと おもいます。それだけの じっせき を あげているんですから。                                                               | 前田さんは 選ばれるべくして 選ばれたと思います。それだけの 実績を上げているんですから。                                   | I think Maeda-san was chosen because he deserved it. He has achieved such great results.                                                                 | Maeda san wa erabareru beki shite erabareta to omoimasu. Soredake no jisseki wo agete irundesukara.                                                         | _実績_ (jisseki) means \"achievement\" or \"track record\".        |\n",
    "| 佐藤    | しごとが できるだけじゃなくて、ひとがら も いいよね。ぶかで あろうと、ビルの せいそう の ひと で あろうと、ていねい な ことばで はなすからね。                       | 仕事ができるだけじゃなくて、人柄もいいよね。部下であろうと、ビルの 清掃 の 人 であろうと、丁寧な言葉で話すからね。        | Not only is he good at his work, but his character is also great. Whether he’s speaking to a subordinate or a building cleaner, he uses polite language. | shigoto ga dekiru dake janakute, hitogara mo ii yo ne. buka de arou to, biru no seisou no hito de arou to, teinei na kotoba de hanasu kara ne.              | _人柄_ (hitogara) means \"personality\" or \"character\".          |\n",
    "| ワン    | まえださんって、かんぺき ですよね。にゅうしゃ してから トラブル を おこしたこと なんて、いっかい も ないんじゃないですか。                                           | 前田さんって、完璧ですよね。入社してからトラブルを起こしたことなんて、一回もないんじゃないですか。                        | Maeda-san is perfect, isn’t he? Since joining the company, I don’t think he’s ever caused any trouble.                                                   | Maeda san tte, kanpeki desu yo ne. Nyuusha shite kara toraburu wo okoshita koto nante, ikkai mo nain janai desu ka.                                         | _完璧_ (kanpeki) means \"perfect\".                              |\n",
    "| 佐藤    | いや、ゆうしゅう な しゃいん とはいえ、トラブルは あるよ。かれ だって さいしょ は ワンさん と おなじように しんにん だったんだから。                                 | いや、優秀な社員とはいえ、トラブルはあるよ。彼だって最初はワンさんと同じように新人だったんだから。                        | No, even though he’s an outstanding employee, there were troubles. He was a newcomer, just like you, at first.                                           | Iya, yuushuu na shain to wa ie, toraburu wa aru yo. Kare datte saisho wa Wan san to onaji you ni shinjin datta n dakara.                                    | _新人_ (shinnin) means \"newcomer\" or \"novice\".                 |\n",
    "| ワン    | ええ。                                                                                                                                                               | ええ。                                                                                                                    | Yes.                                                                                                                                                     | ee.                                                                                                                                                         | Simple affirmative response.                                   |\n",
    "| 佐藤    | そのプロジェクトが だいしっぺい してから というもの、かれ は すごく どりょく してね。あさ いちばん に かいしゃ に きたり、じしゅ てき に セミナー に いったり して。 | そのプロジェクトが 大失敗してからというもの、彼はすごく努力してね。朝一番に会社に来たり、自主的にセミナーに行ったりして。 | Ever since that project failed, he has worked really hard. He comes to the office first thing in the morning, and goes to seminars voluntarily.          | Sono purojekuto ga daishippai shite kara to iu mono, kare wa sugoku doryoku shite ne. Asa ichiban ni kaisha ni kitari, jishuteki ni seminā ni ittari shite. | _努力_ (doryoku) means \"effort\" or \"hard work\".                |\n",
    "| ワン    | トラブル こそ ひと を せいちょう させる チャンス ですね。                                                                                                            | トラブルこそ人を成長させるチャンスですね。                                                                                | Troubles are the chances that help people grow, aren’t they?                                                                                             | Toraburu koso hito wo seichou saseru chansu desu ne.                                                                                                        | _成長_ (seichou) means \"growth\" or \"development\".              |\n",
    "| 佐藤    | その とおり。じき、えいぎょう ぶ の ぶちょう は けいれき、ひとがら、じっせき すべての めん から みて、かれ を おいてほかに いないね。                                | その通り。次期、営業部の部長は経歴、人柄、実績すべての面から見て、彼をおいてほかにいないね。                              | Exactly. For the next head of the sales department, based on experience, character, and results, there’s no one but him.                                 | Sono tōri. jiki, eigyōbu no buchou wa keireki, hitogara, jisseki subete no men kara mite, kare wo oite hokani inai ne.                                      | _面_ (men) means \"aspect\" or \"facet\".                          |\n",
    "\n",
    "This table provides a breakdown of the conversation, with explanations of the kanji and vocabulary used in each part. It should help with understanding the context and usage of various words, as well as their readings and meanings.\n"
   ]
  },
  {
   "cell_type": "markdown",
   "metadata": {},
   "source": [
    "---"
   ]
  },
  {
   "cell_type": "markdown",
   "metadata": {},
   "source": [
    "# Grammar 1\n"
   ]
  },
  {
   "cell_type": "markdown",
   "metadata": {},
   "source": []
  },
  {
   "cell_type": "markdown",
   "metadata": {},
   "source": []
  },
  {
   "cell_type": "markdown",
   "metadata": {},
   "source": []
  },
  {
   "cell_type": "markdown",
   "metadata": {},
   "source": [
    "---\n",
    "---"
   ]
  },
  {
   "cell_type": "markdown",
   "metadata": {},
   "source": [
    "# Grammar 2\n"
   ]
  },
  {
   "cell_type": "markdown",
   "metadata": {},
   "source": []
  },
  {
   "cell_type": "markdown",
   "metadata": {},
   "source": []
  },
  {
   "cell_type": "markdown",
   "metadata": {},
   "source": []
  },
  {
   "cell_type": "markdown",
   "metadata": {},
   "source": [
    "---\n",
    "---"
   ]
  },
  {
   "cell_type": "markdown",
   "metadata": {},
   "source": [
    "# Grammar 3\n"
   ]
  },
  {
   "cell_type": "markdown",
   "metadata": {},
   "source": []
  },
  {
   "cell_type": "markdown",
   "metadata": {},
   "source": []
  },
  {
   "cell_type": "markdown",
   "metadata": {},
   "source": []
  },
  {
   "cell_type": "markdown",
   "metadata": {},
   "source": [
    "---\n",
    "---"
   ]
  },
  {
   "cell_type": "markdown",
   "metadata": {},
   "source": [
    "# Grammar 4\n"
   ]
  },
  {
   "cell_type": "markdown",
   "metadata": {},
   "source": []
  },
  {
   "cell_type": "markdown",
   "metadata": {},
   "source": []
  },
  {
   "cell_type": "markdown",
   "metadata": {},
   "source": []
  },
  {
   "cell_type": "markdown",
   "metadata": {},
   "source": [
    "---\n",
    "---"
   ]
  },
  {
   "cell_type": "markdown",
   "metadata": {},
   "source": [
    "# Grammar 5\n"
   ]
  },
  {
   "cell_type": "markdown",
   "metadata": {},
   "source": []
  },
  {
   "cell_type": "markdown",
   "metadata": {},
   "source": []
  },
  {
   "cell_type": "markdown",
   "metadata": {},
   "source": []
  },
  {
   "cell_type": "markdown",
   "metadata": {},
   "source": [
    "---\n",
    "---"
   ]
  },
  {
   "cell_type": "markdown",
   "metadata": {},
   "source": [
    "# Grammar 6\n"
   ]
  },
  {
   "cell_type": "markdown",
   "metadata": {},
   "source": []
  },
  {
   "cell_type": "markdown",
   "metadata": {},
   "source": []
  },
  {
   "cell_type": "markdown",
   "metadata": {},
   "source": []
  },
  {
   "cell_type": "markdown",
   "metadata": {},
   "source": [
    "---\n",
    "---"
   ]
  },
  {
   "cell_type": "markdown",
   "metadata": {},
   "source": [
    "# Grammar 7\n"
   ]
  },
  {
   "cell_type": "markdown",
   "metadata": {},
   "source": []
  },
  {
   "cell_type": "markdown",
   "metadata": {},
   "source": []
  },
  {
   "cell_type": "markdown",
   "metadata": {},
   "source": []
  },
  {
   "cell_type": "markdown",
   "metadata": {},
   "source": [
    "---\n",
    "---"
   ]
  },
  {
   "cell_type": "markdown",
   "metadata": {},
   "source": [
    "# Grammar 8\n"
   ]
  },
  {
   "cell_type": "markdown",
   "metadata": {},
   "source": []
  },
  {
   "cell_type": "markdown",
   "metadata": {},
   "source": []
  },
  {
   "cell_type": "markdown",
   "metadata": {},
   "source": []
  },
  {
   "cell_type": "markdown",
   "metadata": {},
   "source": [
    "---\n",
    "---"
   ]
  },
  {
   "cell_type": "markdown",
   "metadata": {},
   "source": [
    "# Grammar 9\n"
   ]
  },
  {
   "cell_type": "markdown",
   "metadata": {},
   "source": []
  },
  {
   "cell_type": "markdown",
   "metadata": {},
   "source": []
  },
  {
   "cell_type": "markdown",
   "metadata": {},
   "source": []
  },
  {
   "cell_type": "markdown",
   "metadata": {},
   "source": [
    "---\n",
    "---"
   ]
  },
  {
   "cell_type": "markdown",
   "metadata": {},
   "source": [
    "# Grammar 10\n"
   ]
  },
  {
   "cell_type": "markdown",
   "metadata": {},
   "source": []
  },
  {
   "cell_type": "markdown",
   "metadata": {},
   "source": []
  },
  {
   "cell_type": "markdown",
   "metadata": {},
   "source": []
  },
  {
   "cell_type": "markdown",
   "metadata": {},
   "source": [
    "---\n",
    "---"
   ]
  },
  {
   "cell_type": "markdown",
   "metadata": {},
   "source": [
    "# Grammar 11\n"
   ]
  },
  {
   "cell_type": "markdown",
   "metadata": {},
   "source": []
  },
  {
   "cell_type": "markdown",
   "metadata": {},
   "source": []
  },
  {
   "cell_type": "markdown",
   "metadata": {},
   "source": []
  },
  {
   "cell_type": "markdown",
   "metadata": {},
   "source": [
    "---\n",
    "---"
   ]
  },
  {
   "cell_type": "markdown",
   "metadata": {},
   "source": [
    "# Grammar 12\n"
   ]
  },
  {
   "cell_type": "markdown",
   "metadata": {},
   "source": []
  },
  {
   "cell_type": "markdown",
   "metadata": {},
   "source": []
  },
  {
   "cell_type": "markdown",
   "metadata": {},
   "source": []
  },
  {
   "cell_type": "markdown",
   "metadata": {},
   "source": [
    "---\n",
    "---"
   ]
  }
 ],
 "metadata": {
  "language_info": {
   "name": "python"
  }
 },
 "nbformat": 4,
 "nbformat_minor": 2
}
