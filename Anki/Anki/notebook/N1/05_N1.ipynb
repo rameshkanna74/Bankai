{
 "cells": [
  {
   "cell_type": "markdown",
   "metadata": {},
   "source": [
    "# N1\n",
    "\n",
    "### 第 05 課 - この機種のキャッチコピーは「エレガンスの極み」です。\n",
    "\n",
    "### Lesson 05 - The advertising slogan for this model is “the ultimate elegance”.\n"
   ]
  },
  {
   "cell_type": "markdown",
   "metadata": {},
   "source": [
    "# Vocabulary"
   ]
  },
  {
   "cell_type": "markdown",
   "metadata": {},
   "source": [
    "    1.そうぎょう 創業 n./vi. establishment/start/to establish/to start (business)\n",
    "    2.ちめいど 知名度 n. reputation/notability\n",
    "    3.おりいって 折り入って adv. imploringly/entreatingly/pleadingly\n",
    "    4.エレガンス n. elegance\n",
    "    5.きわまる 極まる vi. to terminate/to be at an end/to reach an extreme/to be in a dilemma\n",
    "    6.ゆうび 優美 n./な-adj. elegant/graceful\n",
    "    7.キャッチコピー catch phrase\n",
    "    8.きょくせん 曲線 n. curve/curve line\n",
    "    9.はんきょう 反響 n./vi. effect/ influence/to evoke a response\n",
    "    10.つうこん 痛恨 n./vt. deep regret/to regret deeply\n",
    "    11.ひろう 疲労 n./vi. tiredness/ lassitude/defatigation/weariness/fatigue/to be tired\n",
    "    12.いかん 遺憾 n./な-adj. pity/regret/regrettable/deplorable/lamentable/unsatisfactory\n",
    "    13.ものだね 物種 n. fundamental element/seed\n",
    "    14.せきめん 赤面 n./vi. blushing/to blush\n",
    "    15.のんき 呑気 n. optimistic/careless/reckless/heedless/happy-go-lucky/easygoing/thoughtless\n",
    "    16.こうえい 光栄 n. honor/ glory/privilege\n",
    "    17.あたいする 値する vi. to be worth/to deserve/to merit\n",
    "    18.かんがん 汗顔 n. ashamed\n",
    "    19.かんしょう 鑑賞 n./vt. appreciation/to listen/to appreciate\n",
    "    20.けいちょう 傾聴 n./vt. listening/to listen\n",
    "    21.ねん 念 n. feeling/sense/desire\n",
    "    22.かわきり 皮切り n. opener/start/starting line/scratch/scratch line\n",
    "    23.がっきゅういいん 学級委員 n. class officer/class representative\n",
    "    24.エピソード n. episode/anecdote\n",
    "    25.つかいこむ 使い込む vt. to embezzle/to peculate/to accustom oneself to using/to use for a long time\n"
   ]
  },
  {
   "cell_type": "markdown",
   "metadata": {
    "vscode": {
     "languageId": "plaintext"
    }
   },
   "source": [
    "    26.ちじ 知事 n. governor\n",
    "    27.こうひ 公費 n. public expense\n",
    "    28.しひ 私費 n. private expense/personal expense\n",
    "    29.へきえき 辟易 n./vi. recoil/shrink/flinch/cringe/to shrink/to flinch/to cringe/to be annoyed\n",
    "    30.はんじょう 繁盛 n./vi. prosperity/flourishing/thriving/to prosper/to flourish/to thrive\n",
    "    31.かいざん 改ざん n./vt. falsification/ manipulation/to falsify\n",
    "    32.とうろん 討論 n./vt./vi. argumentation/ discussion/debate/to argue/to discuss/to debate\n",
    "    33.こきゃくそう 顧客層 n. customer base/constituency/customer segment/patron base/clientele\n",
    "    34.トレンド n. trend\n",
    "    35.ほんしょう 本性 n. original nature/ true character\n",
    "    36.もうける 設ける vt. to provide/to prepare/to lay down\n",
    "    37.せいとう 正当 n./な-adj. justifiable/legitimate/proper/due\n",
    "    38.こく 酷 な-adj. severe/cruel\n",
    "    39.てつや 徹夜 n./vi. to stay up all night\n",
    "    40.とだな 戸棚 n. cabinet/locker/sideboard/closet/cupboard\n",
    "    41.ふらふら adv./vi exhausted/ worn-out/fatigued/ to swing loosely/to stagger/ to feel dizzy\n",
    "    42.むてき 無敵 n./な-adj. invincibility/invincible/without rival\n",
    "    43.あかし 証 n. proof/evidence\n",
    "    44.あたりまえ 当たり前 な-adj. usual/common/ordinary/natural/proper\n",
    "    45.たにん 他人 n. other/stranger\n",
    "    46.ジャンル n. genre\n",
    "    47.しゅるい 種類 n. class/type/variety/kind\n",
    "    48.そんけいご 尊敬語 n. honorific expression\n",
    "    49.けんじょうご 謙譲語 n. humble expression\n",
    "    50.ていねいご 丁寧語 n. polite expression\n"
   ]
  },
  {
   "cell_type": "markdown",
   "metadata": {
    "vscode": {
     "languageId": "plaintext"
    }
   },
   "source": [
    "    51.しゅんじ 瞬時 n. moment/instant\n",
    "    52.きりかえる 切り替える vt. to change/to exchange/to convert/to renew/to replace/to switch over\n",
    "    53.ごよう 誤用 n./vt. misuse/abuse/incorrect use/to misuse/to abuse\n",
    "    54.びんせん 便箋 n. letter paper\n",
    "    55.つづる 綴る vt. to spell/ to write/to compose/to bind together\n",
    "    56.しゅくめい 宿命 n. destiny/fate\n",
    "    57.しよう 仕様 n. method/way/resource/specification\n",
    "    58.ぐっと adv. suddenly/considerably/firmly/completely/to a great extent/at a draft\n",
    "    59.ぜんてい 前提 n. premise/assumption\n",
    "    60.タイミング n. timing\n",
    "    61.いまだ 未だ adv. still/ not yet\n",
    "    62.うつむく 俯く vi. to hang one's head in shame/to look downward/to cast one's eyes down\n",
    "    63.ちょくちょく adv. often/frequently/now and then/occasionally\n",
    "    64.てんで adv. completely/entirely/utterly\n",
    "    65.どうかん 同感 n./vi. agreement/same opinion/same feeling/concurrence /to agree/to feel the same way\n",
    "    66.なれなれしい 馴れ馴れしい い-adj. over-familiar\n",
    "    67.にげだす 逃げ出す vi. to escape from/to run away\n",
    "    68.ねだる 強請る vt. to coax/ to beg/ to plead for\n",
    "    69.まちどおしい 待ち遠しい い-adj. to look forward to/to wait impatiently\n",
    "    70.みっしゅう 密集 n./vi. crowd/mass/to close up together\n",
    "    71.もはや adv. already/no longer/not any more/now\n",
    "    72.やくば 役場 n. town hall/town office\n",
    "    73.やしき 屋敷 n. mansion/residence\n"
   ]
  },
  {
   "cell_type": "markdown",
   "metadata": {},
   "source": [
    "Here’s the table format for the vocabulary you provided, with each word explained and placed into context.\n",
    "\n",
    "---\n",
    "\n",
    "| No. | Japanese (Kanji) | Hiragana         | Romaji        | English Translation                       | Part of Speech | Example Sentence (Japanese)              | Example Sentence (English)                      | Example Sentence (Romaji)                           | Notes                                                                   |\n",
    "| --- | ---------------- | ---------------- | ------------- | ----------------------------------------- | -------------- | ---------------------------------------- | ----------------------------------------------- | --------------------------------------------------- | ----------------------------------------------------------------------- |\n",
    "| 1   | 創業             | そうぎょう       | sougyou       | establishment, start (business)           | Noun/Verb      | 会社は 1985 年に創業されました。         | The company was established in 1985.            | kaisha wa 1985 nen ni sougyou saremashita.          | Used for starting a business or foundation.                             |\n",
    "| 2   | 知名度           | ちめいど         | chimeido      | reputation, notability                    | Noun           | 彼の知名度は急上昇した。                 | His reputation quickly rose.                    | kare no chimeido wa kyuu joushou shita.             | Refers to how well-known someone or something is.                       |\n",
    "| 3   | 折り入って       | おりいって       | oriitte       | imploringly, pleadingly                   | Adverb         | 折り入ってお願いがあります。             | I have a request to make, urgently.             | oriitte onegai ga arimasu.                          | Often used when making a serious request.                               |\n",
    "| 4   | エレガンス       | エレガンス       | eregansu      | elegance                                  | Noun           | 彼女のエレガンスには圧倒される。         | Her elegance is overwhelming.                   | kanojo no eregansu ni wa attou sareru.              | Borrowed word from English, used to describe refined beauty or grace.   |\n",
    "| 5   | 極まる           | きわまる         | kiwamaru      | to terminate, to reach an extreme         | Verb           | その状況は極まった。                     | The situation reached its extreme.              | sono joukyou wa kiwamatta.                          | Can describe something reaching its limit or extreme state.             |\n",
    "| 6   | 優美             | ゆうび           | yuubi         | elegant, graceful                         | Noun/Adjective | 優美な舞踏が観客を魅了した。             | The graceful dance captivated the audience.     | yuubi na butou ga kankyaku o miryoushita.           | Often used for artistic or graceful movements.                          |\n",
    "| 7   | キャッチコピー   | キャッチコピー   | kyacchi kopii | catchphrase                               | Noun           | その映画のキャッチコピーは印象的だった。 | The movie's catchphrase was impressive.         | sono eiga no kyacchi kopii wa inshouteki datta.     | Borrowed from English, refers to a memorable phrase used for marketing. |\n",
    "| 8   | 曲線             | きょくせん       | kyokusen      | curve, curved line                        | Noun           | この道は曲線が多い。                     | This road has many curves.                      | kono michi wa kyokusen ga ooi.                      | Describes the shape of something curving.                               |\n",
    "| 9   | 反響             | はんきょう       | hankyou       | effect, influence, to evoke a response    | Noun/Verb      | その発言には大きな反響があった。         | The statement had a large impact.               | sono hatsugen ni wa ookina hankyou ga atta.         | Refers to the ripple effect or reaction to an event.                    |\n",
    "| 10  | 痛恨             | つうこん         | tsuukon       | deep regret, to regret deeply             | Noun/Verb      | 失敗したことに痛恨の極みを感じる。       | I feel deep regret for the mistake.             | shippai shita koto ni tsuukon no kiwami o kanjiru.  | Used for feelings of deep sorrow or regret.                             |\n",
    "| 11  | 疲労             | ひろう           | hirou         | tiredness, fatigue, to be tired           | Noun/Verb      | 彼は仕事の疲労を感じている。             | He is feeling the fatigue from work.            | kare wa shigoto no hirou o kanjiteiru.              | Describes a state of physical or mental exhaustion.                     |\n",
    "| 12  | 遺憾             | いかん           | ikan          | pity, regret, unsatisfactory              | Noun/Adjective | この結果には遺憾の意を表する。           | I express regret for this result.               | kono kekka ni wa ikan no i o hyousuru.              | Describes dissatisfaction or regret in formal situations.               |\n",
    "| 13  | 物種             | ものだね         | monodane      | fundamental element, seed                 | Noun           | それは物種から始まった。                 | It started from the fundamental element.        | sore wa monodane kara hajimatta.                    | Refers to something fundamental or basic from which something grows.    |\n",
    "| 14  | 赤面             | せきめん         | sekimen       | blushing, to blush                        | Noun/Verb      | 彼は赤面して恥ずかしそうだった。         | He was blushing and looked embarrassed.         | kare wa sekimen shite hazukashisou datta.           | Refers to the physical act of blushing, often from embarrassment.       |\n",
    "| 15  | 呑気             | のんき           | nonki         | easy-going, carefree, thoughtless         | Noun/Adjective | 彼は呑気に過ごしている。                 | He is living carelessly.                        | kare wa nonki ni sugoshiteiru.                      | Can have a negative connotation, implying carelessness.                 |\n",
    "| 16  | 光栄             | こうえい         | kouei         | honor, glory, privilege                   | Noun           | あなたとお会いできて光栄です。           | It is an honor to meet you.                     | anata to oai dekite kouei desu.                     | Refers to a sense of pride or honor in an event.                        |\n",
    "| 17  | 値する           | あたいする       | ataisuru      | to be worth, to deserve                   | Verb           | 彼はその賞に値する。                     | He deserves that award.                         | kare wa sono shou ni ataisuru.                      | Used to indicate worthiness or merit for something.                     |\n",
    "| 18  | 汗顔             | かんがん         | kangan        | ashamed                                   | Noun           | 彼は汗顔の思いで謝罪した。               | He apologized with deep shame.                  | kare wa kangan no omoi de shazai shita.             | Refers to being ashamed to the point of sweating or embarrassment.      |\n",
    "| 19  | 鑑賞             | かんしょう       | kanshou       | appreciation, to appreciate               | Noun/Verb      | 美術館で絵画を鑑賞した。                 | I appreciated the paintings in the art gallery. | bijutsukan de kaiga o kanshou shita.                | Commonly used in the context of art or culture.                         |\n",
    "| 20  | 傾聴             | けいちょう       | keichou       | listening attentively                     | Noun/Verb      | 彼は私の話に傾聴してくれた。             | He listened to my story attentively.            | kare wa watashi no hanashi ni keichou shite kureta. | Implies deep or respectful listening.                                   |\n",
    "| 21  | 念               | ねん             | nen           | feeling, sense, desire                    | Noun           | 念には念を入れた方がいい。               | It's better to be cautious.                     | nen ni wa nen o iretahou ga ii.                     | Refers to thoughts, wishes, or feelings of intent.                      |\n",
    "| 22  | 皮切り           | かわきり         | kawakiri      | opener, start, starting line              | Noun           | このプロジェクトは皮切りに成功した。     | This project started successfully.              | kono purojekuto wa kawakiri ni seikou shita.        | Refers to the starting point or the beginning of an event.              |\n",
    "| 23  | 学級委員         | がっきゅういいん | gakyuuiin     | class representative, class officer       | Noun           | 彼は学級委員に選ばれた。                 | He was chosen as the class representative.      | kare wa gakyuuiin ni erabareta.                     | Refers to a student leader or class officer.                            |\n",
    "| 24  | エピソード       | エピソード       | episoodo      | episode, anecdote                         | Noun           | 面白いエピソードを聞いた。               | I heard an interesting anecdote.                | omoshiroi episoodo o kiita.                         | Borrowed from English, refers to a short story or event.                |\n",
    "| 25  | 使い込む         | つかいこむ       | tsukaikomu    | to embezzle, to accustom oneself to using | Verb           | 彼は会社のお金を使い込んだ。             | He embezzled company funds.                     | kare wa kaisha no okane o tsukaikonda.              | Can refer to both using something long-term and misappropriating funds. |\n",
    "\n",
    "---\n",
    "\n",
    "This table organizes the words, providing English meanings, example sentences, and a quick note for each. Let me know if you need more clarification or further words added!\n"
   ]
  },
  {
   "cell_type": "markdown",
   "metadata": {},
   "source": [
    "Here is the formatted table for the next set of vocabulary words, with their English translations, example sentences, and explanations.\n",
    "\n",
    "---\n",
    "\n",
    "| No. | Japanese (Kanji) | Hiragana     | Romaji      | English Translation                        | Part of Speech | Example Sentence (Japanese)                        | Example Sentence (English)                           | Example Sentence (Romaji)                                           | Notes                                                                                    |\n",
    "| --- | ---------------- | ------------ | ----------- | ------------------------------------------ | -------------- | -------------------------------------------------- | ---------------------------------------------------- | ------------------------------------------------------------------- | ---------------------------------------------------------------------------------------- |\n",
    "| 26  | 知事             | ちじ         | chiji       | governor                                   | Noun           | 彼はその州の知事を務めている。                     | He serves as the governor of the state.              | kare wa sono shuu no chiji o tsutometeiru.                          | The official title for a state or prefectural governor in Japan.                         |\n",
    "| 27  | 公費             | こうひ       | kouhi       | public expense                             | Noun           | この会議は公費で開催された。                       | This meeting was held at public expense.             | kono kaigi wa kouhi de kaisai sareta.                               | Refers to government or taxpayer funds used for official purposes.                       |\n",
    "| 28  | 私費             | しひ         | shihi       | private expense/personal expense           | Noun           | 旅行の費用は私費で支払った。                       | The travel expenses were paid out of personal funds. | ryokou no hiyou wa shihi de shiharatta.                             | Refers to expenses paid privately, not with public or company funds.                     |\n",
    "| 29  | 辟易             | へきえき     | hekieki     | recoil, shrink, flinch, cringe, be annoyed | Noun/Verb      | 彼の態度には辟易した。                             | I was disgusted by his attitude.                     | kare no taido ni wa hekieki shita.                                  | Refers to a strong reaction of distaste or discomfort.                                   |\n",
    "| 30  | 繁盛             | はんじょう   | hanjou      | prosperity, flourishing, thriving          | Noun/Verb      | そのレストランは繁盛している。                     | The restaurant is thriving.                          | sono resutoran wa hanjou shiteiru.                                  | Describes something that is flourishing or prosperous, often used for businesses.        |\n",
    "| 31  | 改ざん           | かいざん     | kaizan      | falsification, manipulation                | Noun/Verb      | 彼は書類を改ざんした。                             | He falsified the documents.                          | kare wa shorui o kaizan shita.                                      | Refers to the act of altering or falsifying information or documents.                    |\n",
    "| 32  | 討論             | とうろん     | touron      | argumentation, discussion, debate          | Noun/Verb      | 議会では激しい討論が行われた。                     | Intense debates took place in the legislature.       | gikai de wa hageshii touron ga okonawareta.                         | Refers to formal discussions or debates, often in a public setting.                      |\n",
    "| 33  | 顧客層           | こきゃくそう | kokyaku sou | customer base, clientele                   | Noun           | 彼のビジネスは若者の顧客層をターゲットにしている。 | His business targets a young customer base.          | kare no bijinesu wa wakamono no kokyaku sou o taagetto ni shiteiru. | Refers to the demographic or group of customers that a business serves.                  |\n",
    "| 34  | トレンド         | トレンド     | torendo     | trend                                      | Noun           | そのブランドは最新のトレンドを追っている。         | The brand is following the latest trends.            | sono burando wa saishin no torendo o otteiru.                       | Borrowed from English, used for the latest styles or trends in fashion, technology, etc. |\n",
    "| 35  | 本性             | ほんしょう   | honshou     | original nature, true character            | Noun           | 彼の本性は素晴らしい人だった。                     | His true character was that of a wonderful person.   | kare no honshou wa subarashii hito datta.                           | Refers to someone's inherent nature or personality.                                      |\n",
    "| 36  | 設ける           | もうける     | moukeru     | to provide, to prepare, to lay down        | Verb           | 彼は新しい規則を設けた。                           | He set new rules.                                    | kare wa atarashii kisoku o mouketa.                                 | Refers to establishing or preparing something, such as rules or systems.                 |\n",
    "| 37  | 正当             | せいとう     | seitou      | justifiable, legitimate, proper            | Noun/Adjective | それは正当な理由です。                             | That is a legitimate reason.                         | sore wa seitou na riyuu desu.                                       | Describes something that is fair, justified, or appropriate.                             |\n",
    "| 38  | 酷               | こく         | koku        | severe, cruel                              | Adjective      | 彼の態度は酷すぎる。                               | His attitude is too severe.                          | kare no taido wa kokusugiru.                                        | Often used to describe something that is harsh or extremely negative.                    |\n",
    "| 39  | 徹夜             | てつや       | tetsuya     | to stay up all night                       | Noun/Verb      | 彼は徹夜して仕事を終わらせた。                     | He stayed up all night to finish his work.           | kare wa tetsuya shite shigoto o owaraseta.                          | Refers to staying awake the entire night to complete tasks.                              |\n",
    "| 40  | 戸棚             | とだな       | todana      | cabinet, cupboard                          | Noun           | 台所の戸棚には食器が入っている。                   | The cupboard in the kitchen contains dishes.         | daidokoro no todana ni wa shokki ga haitteiru.                      | Used for storage furniture, like cabinets or shelves.                                    |\n",
    "| 41  | ふらふら         | ふらふら     | furafura    | exhausted, worn-out, dizzy, to stagger     | Adverb/Verb    | 長時間歩いて、ふらふらしている。                   | After walking for hours, I feel dizzy.               | choujikan aruite, furafura shiteiru.                                | Describes a feeling of being dizzy or exhausted, often from fatigue.                     |\n",
    "| 42  | 無敵             | むてき       | muteki      | invincibility, invincible                  | Noun/Adjective | 彼は無敵の選手だ。                                 | He is an invincible player.                          | kare wa muteki no senshu da.                                        | Refers to someone or something unbeatable or without rival.                              |\n",
    "| 43  | 証               | あかし       | akashi      | proof, evidence                            | Noun           | それは彼の無実を証明する証拠だ。                   | That is proof of his innocence.                      | sore wa kare no mujitsu o shoumei suru shouko da.                   | Refers to something that proves a fact or argument.                                      |\n",
    "| 44  | 当たり前         | あたりまえ   | atarimae    | usual, common, natural, proper             | Adjective      | これは当たり前のことだ。                           | This is a common thing.                              | kore wa atarimae no koto da.                                        | Refers to something that is obvious or natural in a given situation.                     |\n",
    "| 45  | 他人             | たにん       | tanin       | other people, strangers                    | Noun           | 他人の意見を尊重すべきだ。                         | You should respect other people's opinions.          | tanin no iken o sonchou subeki da.                                  | Refers to people who are not yourself, can be strangers or others.                       |\n",
    "| 46  | ジャンル         | ジャンル     | janru       | genre                                      | Noun           | 音楽のジャンルは多様だ。                           | There are many genres of music.                      | ongaku no janru wa tayou da.                                        | Borrowed from English, used for categories or types of things.                           |\n",
    "| 47  | 種類             | しゅるい     | shurui      | type, variety, kind                        | Noun           | いろいろな種類の果物が売られている。               | Various kinds of fruit are being sold.               | iroirona shurui no kudamono ga urareteiru.                          | Refers to different types or categories of things.                                       |\n",
    "| 48  | 尊敬語           | そんけいご   | sonkeigo    | honorific expression                       | Noun           | 日本語には尊敬語が多い。                           | Japanese has many honorific expressions.             | nihongo ni wa sonkeigo ga ooi.                                      | A form of polite language used to show respect to others.                                |\n",
    "| 49  | 謙譲語           | けんじょうご | kenjougo    | humble expression                          | Noun           | 彼は謙譲語をよく使う。                             | He often uses humble expressions.                    | kare wa kenjougo o yoku tsukau.                                     | A form of polite language where the speaker humbly lowers themselves.                    |\n",
    "| 50  | 丁寧語           | ていねいご   | teineigo    | polite expression                          | Noun           | 丁寧語は日本語の基本だ。                           | Polite expressions are the basics of Japanese.       | teineigo wa nihongo no kihon da.                                    | A general term for the formal, polite language in Japanese.                              |\n",
    "\n",
    "---\n",
    "\n",
    "This table includes a brief explanation of each word and provides an example sentence in both Japanese and English. Let me know if you'd like further clarifications or additional examples!\n"
   ]
  },
  {
   "cell_type": "markdown",
   "metadata": {},
   "source": [
    "Here is the formatted table for the next set of vocabulary words, with their English translations, example sentences, and explanations.\n",
    "\n",
    "---\n",
    "\n",
    "| No. | Japanese (Kanji) | Hiragana     | Romaji        | English Translation                       | Part of Speech | Example Sentence (Japanese)                  | Example Sentence (English)                                      | Example Sentence (Romaji)                          | Notes                                                                                        |\n",
    "| --- | ---------------- | ------------ | ------------- | ----------------------------------------- | -------------- | -------------------------------------------- | --------------------------------------------------------------- | -------------------------------------------------- | -------------------------------------------------------------------------------------------- |\n",
    "| 51  | 瞬時             | しゅんじ     | shunji        | moment, instant                           | Noun           | その瞬時に彼の目が輝いた。                   | In that moment, his eyes sparkled.                              | sono shunji ni kare no me ga kagayaita.            | Refers to a very brief, instantaneous period of time.                                        |\n",
    "| 52  | 切り替える       | きりかえる   | kirikaeru     | to change, to switch over, to replace     | Verb           | 私は新しい仕事に切り替えた。                 | I switched to a new job.                                        | watashi wa atarashii shigoto ni kirikaeta.         | Refers to changing or switching between states or things.                                    |\n",
    "| 53  | 誤用             | ごよう       | goyou         | misuse, abuse, incorrect use              | Noun/Verb      | この言葉の誤用は避けるべきだ。               | The misuse of this word should be avoided.                      | kono kotoba no goyou wa sakeru beki da.            | Refers to the incorrect or inappropriate use of something.                                   |\n",
    "| 54  | 便箋             | びんせん     | binsen        | letter paper                              | Noun           | 手紙を書くために便箋を買った。               | I bought letter paper to write a letter.                        | tegami o kaku tame ni binsen o katta.              | Refers to paper used for writing letters.                                                    |\n",
    "| 55  | 綴る             | つづる       | tsuzuru       | to spell, to write, to compose            | Verb           | 彼は日記を綴るのが好きだ。                   | He likes to write in his diary.                                 | kare wa nikki o tsuzuru no ga suki da.             | Refers to writing or composing, often used for diaries or stories.                           |\n",
    "| 56  | 宿命             | しゅくめい   | shukumei      | destiny, fate                             | Noun           | それは彼の宿命だった。                       | That was his fate.                                              | sore wa kare no shukumei datta.                    | Refers to a predestined fate or destiny that cannot be avoided.                              |\n",
    "| 57  | 仕様             | しよう       | shiyou        | method, way, specification                | Noun           | このソフトウェアの仕様はまだ決まっていない。 | The specifications for this software have not been decided yet. | kono sofutouea no shiyou wa mada kimatte inai.     | Refers to the specifications or method of doing something.                                   |\n",
    "| 58  | ぐっと           | ぐっと       | gutto         | suddenly, considerably, firmly            | Adverb         | 彼の話を聞いて、ぐっと心が動いた。           | After listening to his story, my heart was deeply moved.        | kare no hanashi o kiite, gutto kokoro ga ugoita.   | Expresses a sudden or significant change in action, emotion, or effect.                      |\n",
    "| 59  | 前提             | ぜんてい     | zentei        | premise, assumption                       | Noun           | その計画は特定の前提に基づいている。         | The plan is based on a specific premise.                        | sono keikaku wa tokutei no zentei ni motozuiteiru. | Refers to the underlying assumption or condition for something.                              |\n",
    "| 60  | タイミング       | タイミング   | taiming       | timing                                    | Noun           | 完璧なタイミングで登場した。                 | He appeared at the perfect timing.                              | kanpeki na taimingude toujou shita.                | Borrowed from English, refers to the right moment or timing for an action.                   |\n",
    "| 61  | 未だ             | いまだ       | imada         | still, not yet                            | Adverb         | 彼は未だにその問題を解決していない。         | He still hasn't solved that problem.                            | kare wa imada ni sono mondai o kaiketsu shiteinai. | Used to indicate something that has not happened yet or is still in progress.                |\n",
    "| 62  | 俯く             | うつむく     | utsumuku      | to look downward, to cast one's eyes down | Verb           | 彼は恥ずかしそうに俯いた。                   | He looked down in embarrassment.                                | kare wa hazukashisou ni utsumuita.                 | Refers to physically lowering one's head or gaze, often due to shyness or shame.             |\n",
    "| 63  | ちょくちょく     | ちょくちょく | chokuchoku    | often, frequently, occasionally           | Adverb         | ちょくちょく彼の家に遊びに行く。             | I often visit his house.                                        | chokuchoku kare no ie ni asobi ni iku.             | Refers to doing something regularly or frequently.                                           |\n",
    "| 64  | てんで           | てんで       | tende         | completely, entirely, utterly             | Adverb         | てんでダメだった。                           | It was completely useless.                                      | tende dame datta.                                  | Expresses something that is completely or utterly in a negative state.                       |\n",
    "| 65  | 同感             | どうかん     | doukan        | agreement, same opinion, concurrence      | Noun/Verb      | 彼の意見に同感だ。                           | I agree with his opinion.                                       | kare no iken ni doukan da.                         | Refers to agreeing with someone's feelings or opinions.                                      |\n",
    "| 66  | 馴れ馴れしい     | なれなれしい | narenare-shii | over-familiar, too familiar               | Adjective      | 彼は馴れ馴れしい態度を取る。                 | He acts too familiar.                                           | kare wa narenare-shii taido o toru.                | Describes someone who is excessively informal or overly friendly in an inappropriate manner. |\n",
    "| 67  | 逃げ出す         | にげだす     | nigedasu      | to escape from, to run away               | Verb           | 彼は家を逃げ出した。                         | He ran away from home.                                          | kare wa ie o nigedashita.                          | Refers to physically escaping from a place or situation.                                     |\n",
    "| 68  | 強請る           | ねだる       | nedaru        | to coax, to beg, to plead for             | Verb           | 子供はお菓子をねだる。                       | The child begs for candy.                                       | kodomo wa okashi o nedaru.                         | Refers to asking for something persistently or pleading.                                     |\n",
    "| 69  | 待ち遠しい       | まちどおしい | machidooshii  | to look forward to, to wait impatiently   | Adjective      | その映画の公開が待ち遠しい。                 | I can't wait for the movie to be released.                      | sono eiga no koukai ga machidooshii.               | Expresses eager anticipation or impatience for something to happen.                          |\n",
    "| 70  | 密集             | みっしゅう   | misshuu       | crowd, mass, to close up together         | Noun/Verb      | 密集した人々が集まっていた。                 | A crowd of people had gathered.                                 | misshuu shita hitobito ga atsumatte ita.           | Refers to things or people packed closely together in a dense group.                         |\n",
    "| 71  | もはや           | もはや       | mohiya        | already, no longer, now                   | Adverb         | もはや手遅れだ。                             | It's already too late.                                          | mohiya teokure da.                                 | Refers to something that has already occurred or is now impossible.                          |\n",
    "| 72  | 役場             | やくば       | yakuba        | town hall, town office                    | Noun           | 役場で申請書を提出した。                     | I submitted the application form at the town hall.              | yakuba de shinseisho o teishutsu shita.            | Refers to the administrative office or government building of a town or village.             |\n",
    "| 73  | 屋敷             | やしき       | yashiki       | mansion, residence                        | Noun           | 彼の家は大きな屋敷だ。                       | His house is a large mansion.                                   | kare no ie wa ookina yashiki da.                   | Refers to a large, often traditional, house or estate.                                       |\n",
    "\n",
    "---\n",
    "\n",
    "This table includes the English meanings, example sentences, and other relevant details for each vocabulary item. Let me know if you need further explanation or additional examples!\n"
   ]
  },
  {
   "cell_type": "markdown",
   "metadata": {},
   "source": [
    "---"
   ]
  },
  {
   "cell_type": "markdown",
   "metadata": {},
   "source": [
    "# Conversation"
   ]
  },
  {
   "cell_type": "markdown",
   "metadata": {},
   "source": [
    "安 藤 :佐藤 様 、 本 日 は 遠 いところをわざわざお越しいただき、\n",
    "    ありがとうございます。\n",
    "\n",
    "佐藤:いえいえ、このたびはおめでとうございます。\n",
    "\n",
    "山 本 :ありがとうございます。おかげさまで 20 周 年 を 迎 えることが\n",
    "    できました。PE 工 業 様 には 創 業 当時からたいへんお世話に\n",
    "    なっていると聞いております。\n",
    "\n",
    "佐藤 :こちらこそお世話になっております。\n",
    "    御 社 のスマートフォンに 弊 社 の 製 品 を 使 っていただいたおかげで\n",
    "    知名度もあがりましたから。\n",
    "\n",
    "安 藤 : 御 社 のガラスの 質 は、きびしい 環 境 での使用にも耐えることが\n",
    "    出来ますし 本 当 に素晴らしいですよ。\n",
    "    弊 社 のスマートフォンは、PE 特 製 ガラスあってのものです。\n",
    "    \n",
    "佐藤 :ありがとうございます。\n",
    "\n",
    "安 藤 : 実 は、そのガラスの 件 で折り入ってお 願 いしたいことが\n",
    "    ございまして...。\n",
    "\n",
    "佐藤:はい。\n",
    "\n",
    "安 藤 :まだここだけの 話 ですが、20 周 年 パーティーで、\n",
    "    新 機 種 を 発 表 し、日本を 皮 切りに 海 外 10 か 国 で 販 売 する\n",
    "    予定です。\n",
    "    新 機 種 にも 御 社 の PE 特 製 ガラスを 採 用 しております。\n",
    "    こちらが新 機 種 の 広 告 です。\n",
    "\n",
    "佐藤 :わあ〜、これは 美 しいですね。\n",
    "\n",
    "安 藤 :はい。この機種のキャッチコピーは「エレガンスの 極 み」です。\n",
    "    シンプルでありながら優美な 曲 線 を取り入れ、大人の 女 性 を\n",
    "    ターゲットに 開 発 しました。\n",
    "    前 回 注 文 分 の 200 枚 でまかなう予定でしたが、追加 生 産 が\n",
    "    決 定 いたしまして、もう 200 枚 必 要 になりました。\n",
    "    急 な 話 で 恐 縮 ですが、追加で 納 品 していただくことは\n",
    "    可能でしょうか...。 今 週 中 とまでは言わないとしても、 来 週 の\n",
    "    頭 ぐらいにはいただけるとありがたいのですが ...。\n",
    "\n",
    "佐藤 :200 枚 ですか。PE 特 製 ガラスは加工に手間がかかるので、\n",
    "    ちょっと 厳 しいですね...。できるか 否 かは 工 場 に聞いてみないと\n",
    "    なんとも...。\n",
    "\n",
    "山 本 : 市 場 調 査 の結果を見ると、新 機 種 の売り上げは\n",
    "    かなり期待できるものと 思 われます。\n",
    "    新 商 品 の 発 表 後 に 品 切れになることは避けたいと\n",
    "    考 えております。スマートフォンで 反 響 があれば、\n",
    "    タブレット 端 末 の 販 売 もする予定ですので、\n",
    "    御 社 にとっても 悪 い 話 ではないかと 思 うのですが、\n",
    "    いかがでしょうか。\n",
    "\n",
    "佐藤 :そうですか。なんとかお 力 になりたいですね。\n",
    "    う〜ん、可 能 性 もまったくないものでもないですが。\n",
    "    ちょっと 工 場 に 連 絡 をいれてみましょうか。\n",
    "\n",
    "安 藤 :お 願 いします。"
   ]
  },
  {
   "cell_type": "markdown",
   "metadata": {},
   "source": [
    "Here is the breakdown of the conversation in a table format with the Japanese, Romaji, and English translations:\n",
    "\n",
    "| Speaker | Japanese (Hiragana)                                                                                                                                                                                                                                                                                                                                                                          | Japanese (Kanji)                                                                                                                                                                                                                                                                                                 | English Translation                                                                                                                                                                                                                                                                                            | Romaji                                                                                                                                                                                                                                                                                                                                                    | Notes                                                                                                              |\n",
    "| ------- | -------------------------------------------------------------------------------------------------------------------------------------------------------------------------------------------------------------------------------------------------------------------------------------------------------------------------------------------------------------------------------------------- | ---------------------------------------------------------------------------------------------------------------------------------------------------------------------------------------------------------------------------------------------------------------------------------------------------------------- | -------------------------------------------------------------------------------------------------------------------------------------------------------------------------------------------------------------------------------------------------------------------------------------------------------------- | --------------------------------------------------------------------------------------------------------------------------------------------------------------------------------------------------------------------------------------------------------------------------------------------------------------------------------------------------------- | ------------------------------------------------------------------------------------------------------------------ |\n",
    "| 安藤    | さとう さま、ほんじつ は とおい ところを わざわざ おこしいただき、ありがとうございます。                                                                                                                                                                                                                                                                                                     | 佐藤 様 、 本 日 は 遠 い ところを わざわざ お越しいただき、ありがとうございます。                                                                                                                                                                                                                               | Mr. Sato, thank you for coming all the way here today.                                                                                                                                                                                                                                                         | Satō-sama, honjitsu wa tōi tokoro o wazawaza okoshi itadaki, arigatou gozaimasu.                                                                                                                                                                                                                                                                          | _様_ (sama) is a polite honorific used for addressing someone.                                                     |\n",
    "| 佐藤    | いえいえ、このたびはおめでとうございます。                                                                                                                                                                                                                                                                                                                                                   | いえいえ、このたびはおめでとうございます。                                                                                                                                                                                                                                                                       | No, no, congratulations on your achievement.                                                                                                                                                                                                                                                                   | Ie ie, kono tabi wa omedetou gozaimasu.                                                                                                                                                                                                                                                                                                                   | _このたび_ (kono tabi) means \"on this occasion\".                                                                   |\n",
    "| 山本    | ありがとうございます。おかげさまで 20 しゅうねん を むかえる ことができました。PE こうぎょう さま には そうぎょう とうじ から たいへん おせわに なっていると きいております。                                                                                                                                                                                                                | ありがとうございます。おかげさまで 20 周年 を 迎えることができました。PE 工 業 様 には 創 業 当時 から たいへんお世話になっていると聞いております。                                                                                                                                                              | Thank you very much. Thanks to your support, we’ve reached our 20th anniversary. I’ve heard that PE Industries has been helping us since the founding.                                                                                                                                                         | Arigatou gozaimasu. Okage-sama de 20-shūnen o mukaeru koto ga dekimashita. PE kōgyō-sama ni wa sōgyō tōji kara taihen osewa ni natte iru to kiite orimasu.                                                                                                                                                                                                | _おかげさまで_ (okage-sama de) means \"thanks to your support\". _創業当時_ (sōgyō tōji) means \"since the founding\". |\n",
    "| 佐藤    | こちらこそ おせわになっております。ご しゃ の スマートフォン に へいしゃ の せいひん を つかっていただいた おかげで ちめいど も あがりましたから。                                                                                                                                                                                                                                           | こちらこそお世話になっております。御 社 のスマートフォンに弊 社 の製 品 を使っていただいたおかげで知名度もあがりましたから。                                                                                                                                                                                     | It is us who are grateful. Thanks to using our products in your smartphones, our brand recognition has increased as well.                                                                                                                                                                                      | Kochira koso osewa ni natte orimasu. Go-sha no sumātofon ni heisha no seihin o tsukatte itadatta okage de chimeido mo agarimashita kara.                                                                                                                                                                                                                  | _知名度_ (chimeido) means \"brand recognition\". _弊社_ (heisha) is a humble way to refer to one's own company.      |\n",
    "| 安藤    | ご しゃ の ガラス の しつ は、 きびしい かんきょう で の しよう に も たえる ことが できますし、ほんとうに すばらしい ですよ。へいしゃ の スマートフォン は、PE とくせい ガラス あっての ものです。                                                                                                                                                                                          | 御 社 のガラスの質 は、厳しい 環 境 での 使用 にも 耐えることが 出来ますし 本 当 に素晴らしいですよ。弊 社 のスマートフォンは、PE 特 製 ガラスあってのものです。                                                                                                                                                 | The quality of your glass can withstand harsh environments, and it is truly excellent. Our smartphones are made possible thanks to your PE special glass.                                                                                                                                                      | Go-sha no garasu no shitsu wa, kibishii kankyō de no shiyō ni mo taeru koto ga dekimasu shi, hontō ni subarashī desu yo. Heisha no sumātofon wa, PE tokusei garasu atte no mono desu.                                                                                                                                                                     | _厳しい環境_ (kibishii kankyō) means \"harsh environment\". _特製_ (tokusei) means \"special\".                        |\n",
    "| 佐藤    | ありがとうございます。                                                                                                                                                                                                                                                                                                                                                                       | ありがとうございます。                                                                                                                                                                                                                                                                                           | Thank you very much.                                                                                                                                                                                                                                                                                           | Arigatou gozaimasu.                                                                                                                                                                                                                                                                                                                                       |                                                                                                                    |\n",
    "| 安藤    | じつは、その ガラス の けん で おりいって おねがい したいことが ございまして…。                                                                                                                                                                                                                                                                                                              | 実 は、そのガラスの 件 で折り入ってお願いしたいことが ございまして…。                                                                                                                                                                                                                                            | Actually, there is something I would like to discuss with you regarding the glass.                                                                                                                                                                                                                             | Jitsu wa, sono garasu no ken de orītte onegai shitai koto ga gozaimasu...                                                                                                                                                                                                                                                                                 | _件_ (ken) means \"matter\" or \"issue\". _折り入って_ (orītte) means \"to get to the point\".                           |\n",
    "| 佐藤    | はい。                                                                                                                                                                                                                                                                                                                                                                                       | はい。                                                                                                                                                                                                                                                                                                           | Yes.                                                                                                                                                                                                                                                                                                           | Hai.                                                                                                                                                                                                                                                                                                                                                      |                                                                                                                    |\n",
    "| 安藤    | まだ ここだけ の はなし ですが、20 しゅうねん パーティー で、しん きしゅ を はっぴょう し、にほん を かわきりに かいがい 10 かこく で はんばい する よていです。しん きしゅ にも ご しゃ の PE とくせい ガラス を さいよう しております。こちらが しん きしゅ の こうこく です。                                                                                                             | まだここだけの話ですが、20 周年 パーティーで、新機種 を 発 表 し、日本を皮切りに 海 外 10 か国で 販 売 する予定です。新機種にも御 社 の PE 特 製 ガラスを 採 用 しております。こちらが新機種の 広告 です。                                                                                                       | This is still a confidential matter, but at the 20th-anniversary party, we plan to announce a new model and release it in 10 countries starting with Japan. The new model also uses your PE special glass. Here is the advertisement for the new model.                                                        | Mada koko dake no hanashi desu ga, 20-shūnen pātī de, shin kishu o happyō shi, Nihon o kawakiri ni kaigai 10 kakoku de hanbai suru yotei desu. Shin kishu ni mo go-sha no PE tokusei garasu o sai yō shite orimasu. Kochira ga shin kishu no kōkoku desu.                                                                                                 | _皮切り_ (kawakiri) means \"starting with\". _広告_ (kōkoku) means \"advertisement\".                                  |\n",
    "| 佐藤    | わあ〜、これは うつくしいですね。                                                                                                                                                                                                                                                                                                                                                            | わあ〜、これは 美 しいですね。                                                                                                                                                                                                                                                                                   | Wow, this is beautiful.                                                                                                                                                                                                                                                                                        | Wā~, kore wa utsukushī desu ne.                                                                                                                                                                                                                                                                                                                           | _美しい_ (utsukushī) means \"beautiful\".                                                                            |\n",
    "| 安藤    | はい。このきしゅ の キャッチ コピー は「エレガンス の きわみ」です。シンプル で ありながら ゆうび な きょくせん を とりいれ、 おとな の じょせい を たーげっと に かいはつ しました。ぜんかい ちゅうもん ぶん の 200 まい で まかなう よていでしたが、ついか せいさん が けってい いたしまして、もう 200 まい ひつよう に なりました。                                                       | はい。この機種のキャッチコピーは「エレガンスの極み」です。 シンプルでありながら優美な曲線を取り入れ、大人の女性をターゲットに開発しました。前回注文分の 200 枚でまかなう予定でしたが、追加生産が決定いたしまして、もう 200 枚必要になりました。                                                                  | Yes. The catchphrase for this model is \"The Ultimate of Elegance.\" It was developed with elegant curves while maintaining simplicity, targeting adult women. We had planned to cover the previous 200 orders, but additional production has been decided, and now we need another 200 units.                   | Hai. Kono kishu no kyatchi kopī wa \"Eregansu no kiwami\" desu. Shinpuru de arinagara yūbi na kyokusen o toriire, otona no josei o tāgetto ni kaihatsu shimashita. Zenkai chūmon-bun no 200-mai de makana u yotei deshita ga, tsuika seisan ga kettei itashimashite, mō 200-mai hitsuyō ni narimashita.                                                     | _極み_ (kiwami) means \"the ultimate\". _曲線_ (kyokusen) means \"curves\".                                            |\n",
    "| 佐藤    | 200 まい ですか。PE とくせい ガラス は かこう に てま が かかるので、ちょっと きびしいですね…。できるか いなか は こうじょう に きいてみないと なんとも…。                                                                                                                                                                                                                                   | 200 枚 ですか。PE 特 製 ガラスは加工に手間がかかるので、ちょっと厳しいですね… できるか否かは工場に聞いてみないとなんとも…。                                                                                                                                                                                      | 200 units? PE special glass takes time to process, so it’s a bit difficult... I’ll have to check with the factory to see if it’s possible.                                                                                                                                                                     | 200-mai desu ka. PE tokusei garasu wa kakō ni tema ga kakaru node, chotto kibishī desu ne... Dekiru ka inaka wa kōjō ni kiite minai to nanto mo...                                                                                                                                                                                                        | _加工_ (kakō) means \"processing\". _手間_ (tema) means \"time/effort\".                                               |\n",
    "| 山本    | しじょう ちょうさ の けっか を みると、しん きしゅ の うりあげ は かなり きたい できる ものと おもわれます。しん しょうひん の はっぴょう ご に しなぎれ になる こと は さけたいと かんがえております。スマートフォン で はんのう が あれば、たぶれっと たんまつ の はんばい も する よてい ですので、 ご しゃ にとっても わるい はなし ではない かと おも うの ですが、いかが でしょう か。 | 市 場 調 査 の 結 果 を 見 ると、新 機 種 の 売り 上 げ は かなり 期待 できる ものと 思 われます。新 商 品 の 発 表 後 に 品 切れ になることは避けたいと考えております。スマートフォンで反響があれば、タブレット端末の販売もする予定ですので、御 社 にとっても悪い話ではないかと思うのですが、いかがでしょうか。 | According to our market research, we expect strong sales for the new model. We would like to avoid running out of stock after the product launch. If the smartphone receives a positive response, we plan to sell tablets as well. I believe this will not be a bad thing for your company. What do you think? | Shijō chōsa no kekka o miru to, shin kishu no uriage wa kanari kitai dekiru mono to omowaremasu. Shin shōhin no happyō go ni shinagire ni naru koto wa saketai to kangaete orimasu. Sumātofon de hankyō ga areba, taburetto tanmatsu no hanbai mo suru yotei desu node, go-sha ni totte mo warui hanashi de wa nai ka to omou no desu ga, ikaga deshō ka. | _市場調査_ (shijō chōsa) means \"market research\". _反響_ (hankyō) means \"response/feedback\".                       |\n",
    "| 佐藤    | そうですか。なんとか お ちから に なりたいですね。う〜ん、かのうせい も まったく ない もの でも ない ですが。ちょっと こうじょう に れんらく を いれてみましょうか。                                                                                                                                                                                                                         | そうですか。なんとかお力になりたいですね。う〜ん、可能性もまったくないものでもないですが。ちょっと工場に連絡をいれてみましょうか。                                                                                                                                                                               | I see. I’d like to help in some way. Hmm, it’s not entirely impossible, but I’ll check with the factory to see if it’s doable.                                                                                                                                                                                 | Sō desu ka. Nantoka okage ni naritai desu ne. Ūn, kanōsei mo mattaku nai mono demo nai desu ga. Chotto kōjō ni renraku o irete mimashou ka.                                                                                                                                                                                                               | _お力_ (ochikara) is a polite form of \"help\". _可能性_ (kanōsei) means \"possibility\".                              |\n",
    "| 安藤    | お ねがい します。                                                                                                                                                                                                                                                                                                                                                                           | お 願 い します。                                                                                                                                                                                                                                                                                                | Please, I beg you.                                                                                                                                                                                                                                                                                             | Onegai shimasu.                                                                                                                                                                                                                                                                                                                                           |                                                                                                                    |\n"
   ]
  },
  {
   "cell_type": "markdown",
   "metadata": {},
   "source": [
    "---"
   ]
  },
  {
   "cell_type": "markdown",
   "metadata": {},
   "source": [
    "# Grammar 1\n"
   ]
  },
  {
   "cell_type": "markdown",
   "metadata": {},
   "source": []
  },
  {
   "cell_type": "markdown",
   "metadata": {},
   "source": []
  },
  {
   "cell_type": "markdown",
   "metadata": {},
   "source": []
  },
  {
   "cell_type": "markdown",
   "metadata": {},
   "source": [
    "---\n",
    "---"
   ]
  },
  {
   "cell_type": "markdown",
   "metadata": {},
   "source": [
    "# Grammar 2\n"
   ]
  },
  {
   "cell_type": "markdown",
   "metadata": {},
   "source": []
  },
  {
   "cell_type": "markdown",
   "metadata": {},
   "source": []
  },
  {
   "cell_type": "markdown",
   "metadata": {},
   "source": []
  },
  {
   "cell_type": "markdown",
   "metadata": {},
   "source": [
    "---\n",
    "---"
   ]
  },
  {
   "cell_type": "markdown",
   "metadata": {},
   "source": [
    "# Grammar 3\n"
   ]
  },
  {
   "cell_type": "markdown",
   "metadata": {},
   "source": []
  },
  {
   "cell_type": "markdown",
   "metadata": {},
   "source": []
  },
  {
   "cell_type": "markdown",
   "metadata": {},
   "source": []
  },
  {
   "cell_type": "markdown",
   "metadata": {},
   "source": [
    "---\n",
    "---"
   ]
  },
  {
   "cell_type": "markdown",
   "metadata": {},
   "source": [
    "# Grammar 4\n"
   ]
  },
  {
   "cell_type": "markdown",
   "metadata": {},
   "source": []
  },
  {
   "cell_type": "markdown",
   "metadata": {},
   "source": []
  },
  {
   "cell_type": "markdown",
   "metadata": {},
   "source": []
  },
  {
   "cell_type": "markdown",
   "metadata": {},
   "source": [
    "---\n",
    "---"
   ]
  },
  {
   "cell_type": "markdown",
   "metadata": {},
   "source": [
    "# Grammar 5\n"
   ]
  },
  {
   "cell_type": "markdown",
   "metadata": {},
   "source": []
  },
  {
   "cell_type": "markdown",
   "metadata": {},
   "source": []
  },
  {
   "cell_type": "markdown",
   "metadata": {},
   "source": []
  },
  {
   "cell_type": "markdown",
   "metadata": {},
   "source": [
    "---\n",
    "---"
   ]
  },
  {
   "cell_type": "markdown",
   "metadata": {},
   "source": [
    "# Grammar 6\n"
   ]
  },
  {
   "cell_type": "markdown",
   "metadata": {},
   "source": []
  },
  {
   "cell_type": "markdown",
   "metadata": {},
   "source": []
  },
  {
   "cell_type": "markdown",
   "metadata": {},
   "source": []
  },
  {
   "cell_type": "markdown",
   "metadata": {},
   "source": [
    "---\n",
    "---"
   ]
  },
  {
   "cell_type": "markdown",
   "metadata": {},
   "source": [
    "# Grammar 7\n"
   ]
  },
  {
   "cell_type": "markdown",
   "metadata": {},
   "source": []
  },
  {
   "cell_type": "markdown",
   "metadata": {},
   "source": []
  },
  {
   "cell_type": "markdown",
   "metadata": {},
   "source": []
  },
  {
   "cell_type": "markdown",
   "metadata": {},
   "source": [
    "---\n",
    "---"
   ]
  },
  {
   "cell_type": "markdown",
   "metadata": {},
   "source": [
    "# Grammar 8\n"
   ]
  },
  {
   "cell_type": "markdown",
   "metadata": {},
   "source": []
  },
  {
   "cell_type": "markdown",
   "metadata": {},
   "source": []
  },
  {
   "cell_type": "markdown",
   "metadata": {},
   "source": []
  },
  {
   "cell_type": "markdown",
   "metadata": {},
   "source": [
    "---\n",
    "---"
   ]
  },
  {
   "cell_type": "markdown",
   "metadata": {},
   "source": [
    "# Grammar 9\n"
   ]
  },
  {
   "cell_type": "markdown",
   "metadata": {},
   "source": []
  },
  {
   "cell_type": "markdown",
   "metadata": {},
   "source": []
  },
  {
   "cell_type": "markdown",
   "metadata": {},
   "source": []
  },
  {
   "cell_type": "markdown",
   "metadata": {},
   "source": [
    "---\n",
    "---"
   ]
  },
  {
   "cell_type": "markdown",
   "metadata": {},
   "source": [
    "# Grammar 10\n"
   ]
  },
  {
   "cell_type": "markdown",
   "metadata": {},
   "source": []
  },
  {
   "cell_type": "markdown",
   "metadata": {},
   "source": []
  },
  {
   "cell_type": "markdown",
   "metadata": {},
   "source": []
  },
  {
   "cell_type": "markdown",
   "metadata": {},
   "source": [
    "---\n",
    "---"
   ]
  },
  {
   "cell_type": "markdown",
   "metadata": {},
   "source": [
    "# Grammar 11\n"
   ]
  },
  {
   "cell_type": "markdown",
   "metadata": {},
   "source": []
  },
  {
   "cell_type": "markdown",
   "metadata": {},
   "source": []
  },
  {
   "cell_type": "markdown",
   "metadata": {},
   "source": []
  },
  {
   "cell_type": "markdown",
   "metadata": {},
   "source": [
    "---\n",
    "---"
   ]
  },
  {
   "cell_type": "markdown",
   "metadata": {},
   "source": [
    "# Grammar 12\n"
   ]
  },
  {
   "cell_type": "markdown",
   "metadata": {},
   "source": []
  },
  {
   "cell_type": "markdown",
   "metadata": {},
   "source": []
  },
  {
   "cell_type": "markdown",
   "metadata": {},
   "source": []
  },
  {
   "cell_type": "markdown",
   "metadata": {},
   "source": [
    "---\n",
    "---"
   ]
  }
 ],
 "metadata": {
  "language_info": {
   "name": "python"
  }
 },
 "nbformat": 4,
 "nbformat_minor": 2
}
