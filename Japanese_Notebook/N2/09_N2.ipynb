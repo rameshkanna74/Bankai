{
 "cells": [
  {
   "cell_type": "markdown",
   "metadata": {},
   "source": [
    "# N2\n",
    "\n",
    "### 第 09 課 - 昨日も試験のことを気にするあまり、寝られなくなっちゃったんだ。\n",
    "\n",
    "### Lesson 09 - I worried about the exam so much that I couldn't fall asleep yesterday.\n"
   ]
  },
  {
   "cell_type": "markdown",
   "metadata": {},
   "source": [
    "# Vocabulary"
   ]
  },
  {
   "cell_type": "markdown",
   "metadata": {},
   "source": [
    "    1.きんちょう 緊張 n./vi. tension/to be tense/to be nervous\n",
    "    2.すいみん 睡眠 n. sleep\n",
    "    3.うらぎる 裏切る vt. to betray\n",
    "    4.アドバイス n. advice\n",
    "    5.ぬく 抜く vt. to extract/to pull out\n",
    "    6.あやうく adv. barely/nearly\n",
    "    7.そうさく 捜索 n./vt. investigate/to search\n",
    "    8.しゅっけつたりょう 出血多量 n. excessive bleeding\n",
    "    9.ぐずぐず adv./vi. lazily/slowly/to lag/to dawdle/grumbling\n",
    "    10.こうへい 公平 n./な-adj. fairness/justice/fair\n",
    "    11.はかい 破壊 n./vt. destruction/to destroy\n",
    "    12.てんねんしげん 天然資源 n. natural resources\n",
    "    13.こうい 行為 n. act/behavior\n",
    "    14.ぎょうれつ 行列 n. line/queue\n",
    "    15.ゆうのう 有能 な-adj. competent/able/capable\n",
    "    16.けつろん 結論 n./vi./vt. conclusion/to conclude\n",
    "    17.じょうだん 冗談 n. joke\n",
    "    18.こうい 好意 n. good will/favor/courtesy\n",
    "    19.ぶしょう 武将 n. warlord/military commander\n",
    "    20.しょうぐん 将軍 n. shogun (hereditary dictator in feudal Japan)/military general\n",
    "    21.しょうがい 生涯 n. lifetime\n",
    "    22.せんごくじだい 戦国時代 n. Sengoku Period(a time of military conflict in Japan)\n",
    "    23.てつがく 哲学 n. philosophy\n",
    "    24.しょうしか 少子化 n. declining birthrate\n",
    "    25.こうれいか 高齢化 n. aging/population aging\n"
   ]
  },
  {
   "cell_type": "markdown",
   "metadata": {},
   "source": [
    "    26.だいにじせかいたいせん 第二次世界大戦 n. World War II\n",
    "    27.けいぞく 継続 n./vt. continuation/to continue\n",
    "    28.やくわり 役割 n. role/part\n",
    "    29.ぶんたん 分担 n./vt. share/to share/to take part of\n",
    "    30.こよう 雇用 n./vt. employment/to employ/to hire\n",
    "    31.ぜんてい 前提 n. premise\n",
    "    32.すいじゅん 水準 n. level/standard\n",
    "    33.せいげん 制限 n./vt. limitation/restriction/to limit\n",
    "    34.しゅうぎょう 就業 n./vi. employment/to start work/to be at work\n",
    "    35.じょうたいか 常態化 n./vi. to become common/to become the norm\n",
    "    36.いせい 異性 n. the opposite sex\n",
    "    37.せってん 接点 n. contact/point of agreement/point of tangency\n",
    "    38.ばんこんか 晩婚化 n. trend toward late marriage\n",
    "    39.みこんか 未婚化 n. trend toward remaining unmarried\n",
    "    40.ろうどうじんこう 労働人口 n. working population\n",
    "    41.かつりょく 活力 n. vitality\n",
    "    42.ふたん 負担 n./vt. burden/to be burdened with/to bear\n",
    "    43.しゃかいほしょう 社会保障 n. social insurance/social security\n",
    "    44.そこねる 損ねる vt. to harm/to ruin/to fail to do something/to nearly do something\n",
    "    45.いくじ 育児 n. childcare\n",
    "    46.じかに 直に adv. directly\n",
    "    47.いっせい 一斉 n. all at once/all together\n",
    "    48.なやむ 悩む vi. to be worried/to be troubled\n",
    "    49.のぞむ 望む vt. to desire/to hope/to wish\n",
    "    50.そまつ 粗末 な-adj. rough/shabby/coarse\n"
   ]
  },
  {
   "cell_type": "markdown",
   "metadata": {},
   "source": [
    "    51.ぼうだい 膨大 な-adj. enormous/vast\n",
    "    52.けんとう 検討 n./vt. consideration/examination/to consider/to examine\n",
    "    53.ちゅうせん 抽選 n./vi. raffle/to draw lots\n",
    "    54.ようするに 要するに adv. in short\n",
    "    55.くむ 組む vi./vt. to cross/to join/to assemble/to collaborate\n",
    "    56.さます 冷ます vt. to cool\n",
    "    57.でいり 出入り n./vi. in and out/ coming and going/ to come in and come out/ to go in and to go out/ to come and go\n",
    "    58.いいつける 言いつける vt. to tell someone to do/ to tell on\n",
    "    59.スタート n./vi./vt. start/to start\n",
    "    60.ノック n./vt. knock/ to knock (on the door)\n",
    "    61.とりこわす 取り壊す vt. to demolish\n",
    "    62.ねらう 狙う vt. to aim at\n",
    "    63.ていこう 抵抗 n./vi. resistance/opposition/ to resist/to oppose\n",
    "    64.なおかつ adv. besides/furthermore\n",
    "    65.みっともない い-adj. disreputable/ shameful/shabby\n",
    "    66.うらやましい 羨ましい い-adj. jealous/envious\n",
    "    67.はなはだしい 甚だしい い-adj. extreme/intense/serious\n",
    "    68.そっちょく 率直 な-adj. frank/honest\n",
    "    69.きみょう 奇妙 な-adj. strange/odd/bizarre\n",
    "    70.うわき 浮気 n./vi./な-adj. inconstancy/to cheat on/ to have an affair/unfaithful\n"
   ]
  },
  {
   "cell_type": "markdown",
   "metadata": {},
   "source": [
    "Here’s the vocabulary table for your latest entries:\n",
    "\n",
    "| No. | Japanese (Kanji) | Hiragana           | Romaji           | English Translation                   | Part of Speech | Example Sentence (Japanese)          | Example Sentence (English)                         | Example Sentence (Romaji)                        | Notes                                     |\n",
    "| --- | ---------------- | ------------------ | ---------------- | ------------------------------------- | -------------- | ------------------------------------ | -------------------------------------------------- | ------------------------------------------------ | ----------------------------------------- |\n",
    "| 1   | 緊張             | きんちょう         | kinchō           | tension / to be tense / to be nervous | n/vi           | 緊張して眠れなかった。               | I couldn't sleep because of tension.               | Kinchō shite nemurenakatta.                      | Relevant in psychological contexts.       |\n",
    "| 2   | 睡眠             | すいみん           | suimin           | sleep                                 | n              | 睡眠は健康に大切です。               | Sleep is essential for health.                     | Suimin wa kenkō ni taisetsu desu.                | Important in health discussions.          |\n",
    "| 3   | 裏切る           | うらぎる           | uragiru          | to betray                             | vt             | 彼は私を裏切った。                   | He betrayed me.                                    | Kare wa watashi o uragitta.                      | Common in discussions of trust.           |\n",
    "| 4   | アドバイス       | アドバイス         | adobaisu         | advice                                | n              | 友達からアドバイスをもらった。       | I received advice from a friend.                   | Tomodachi kara adobaisu o moratta.               | Relevant in guidance contexts.            |\n",
    "| 5   | 抜く             | ぬく               | nuku             | to extract / to pull out              | vt             | 歯を抜くのが怖い。                   | I'm afraid of extracting a tooth.                  | Ha o nuku no ga kowai.                           | Important in medical contexts.            |\n",
    "| 6   | あやうく         | あやうく           | ayauku           | barely / nearly                       | adv            | あやうく事故を免れた。               | I narrowly escaped an accident.                    | Ayauku jiko o manukareta.                        | Relevant in safety discussions.           |\n",
    "| 7   | 捜索             | そうさく           | sōsaku           | to investigate / to search            | n/vt           | 捜索が続いている。                   | The search is ongoing.                             | Sōsaku ga tsuzuite iru.                          | Important in rescue contexts.             |\n",
    "| 8   | 出血多量         | しゅっけつたりょう | shukketsu tairyō | excessive bleeding                    | n              | 出血多量で危険な状態です。           | It's a dangerous state due to excessive bleeding.  | Shukketsu tairyō de kiken na jōtai desu.         | Relevant in medical emergencies.          |\n",
    "| 9   | ぐずぐず         | ぐずぐず           | guzuguzu         | lazily / slowly / to lag              | adv/vi         | 彼はぐずぐずしていた。               | He was dawdling.                                   | Kare wa guzuguzu shiteita.                       | Common in time management.                |\n",
    "| 10  | 公平             | こうへい           | kōhei            | fairness / justice / fair             | n/na-adj       | 公平な判断が必要です。               | A fair judgment is necessary.                      | Kōhei na handan ga hitsuyō desu.                 | Important in legal contexts.              |\n",
    "| 11  | 破壊             | はかい             | hakai            | destruction / to destroy              | n/vt           | 破壊行為は許されない。               | Destructive acts are not permitted.                | Hakai kōi wa yurusarenai.                        | Relevant in environmental discussions.    |\n",
    "| 12  | 天然資源         | てんねんしげん     | tennen shigen    | natural resources                     | n              | 天然資源を大切にしなければならない。 | We must cherish natural resources.                 | Tennen shigen o taisetsu ni shinakereba naranai. | Important in sustainability discussions.  |\n",
    "| 13  | 行為             | こうい             | kōi              | act / behavior                        | n              | その行為は賞賛に値する。             | That act deserves praise.                          | Sono kōi wa shōsan ni atai suru.                 | Relevant in ethics discussions.           |\n",
    "| 14  | 行列             | ぎょうれつ         | gyōretsu         | line / queue                          | n              | 行列が長くなってきた。               | The queue is getting longer.                       | Gyōretsu ga nagaku natte kita.                   | Common in public settings.                |\n",
    "| 15  | 有能             | ゆうのう           | yūnō             | competent / able / capable            | na-adj         | 彼は有能な社員です。                 | He is a competent employee.                        | Kare wa yūnō na shain desu.                      | Important in job contexts.                |\n",
    "| 16  | 結論             | けつろん           | ketsuron         | conclusion / to conclude              | n/vi           | 最終的な結論に達しました。           | We reached the final conclusion.                   | Saishūteki na ketsuron ni tasshimashita.         | Common in decision-making discussions.    |\n",
    "| 17  | 冗談             | じょうだん         | jōdan            | joke                                  | n              | それは冗談ですよ。                   | That's a joke.                                     | Sore wa jōdan desu yo.                           | Relevant in social contexts.              |\n",
    "| 18  | 好意             | こうい             | kōi              | good will / favor / courtesy          | n              | 彼女の好意を忘れない。               | I won't forget her kindness.                       | Kanojo no kōi o wasurenai.                       | Important in interpersonal relationships. |\n",
    "| 19  | 武将             | ぶしょう           | bushō            | warlord / military commander          | n              | 彼は有名な武将です。                 | He is a famous warlord.                            | Kare wa yūmei na bushō desu.                     | Relevant in historical contexts.          |\n",
    "| 20  | 将軍             | しょうぐん         | shōgun           | shogun                                | n              | 将軍は戦国時代の指導者だった。       | The shogun was a leader during the Sengoku period. | Shōgun wa Sengoku jidai no shidōsha datta.       | Important in Japanese history.            |\n",
    "| 21  | 生涯             | しょうがい         | shōgai           | lifetime                              | n              | 彼の生涯は波乱に満ちていた。         | His lifetime was full of turmoil.                  | Kare no shōgai wa haran ni michiteita.           | Relevant in biographical discussions.     |\n",
    "| 22  | 戦国時代         | せんごくじだい     | sengoku jidai    | Sengoku Period                        | n              | 戦国時代は多くの戦争があった。       | There were many wars during the Sengoku period.    | Sengoku jidai wa ōku no sensō ga atta.           | Important in Japanese history.            |\n",
    "| 23  | 哲学             | てつがく           | tetsugaku        | philosophy                            | n              | 哲学は深い考えを促す。               | Philosophy encourages deep thinking.               | Tetsugaku wa fukai kangae o unasu.               | Relevant in academic discussions.         |\n",
    "| 24  | 少子化           | しょうしか         | shōshika         | declining birthrate                   | n              | 少子化は社会問題です。               | Declining birthrate is a social issue.             | Shōshika wa shakai mondai desu.                  | Important in demographic studies.         |\n",
    "| 25  | 高齢化           | こうれいか         | kōreika          | aging / population aging              | n              | 高齢化が進んでいる。                 | The aging population is increasing.                | Kōreika ga susunde iru.                          | Important in social planning.             |\n",
    "\n",
    "Let me know if you need more information or changes!\n"
   ]
  },
  {
   "cell_type": "markdown",
   "metadata": {},
   "source": [
    "Here's the vocabulary table for your latest entries:\n",
    "\n",
    "| No. | Japanese (Kanji) | Hiragana               | Romaji                | English Translation                        | Part of Speech | Example Sentence (Japanese)            | Example Sentence (English)                                       | Example Sentence (Romaji)                         | Notes                                   |\n",
    "| --- | ---------------- | ---------------------- | --------------------- | ------------------------------------------ | -------------- | -------------------------------------- | ---------------------------------------------------------------- | ------------------------------------------------- | --------------------------------------- |\n",
    "| 26  | 第二次世界大戦   | だいにじせかいたいせん | daini ji sekai taisen | World War II                               | n              | 第二次世界大戦は多くの国を巻き込んだ。 | World War II involved many countries.                            | Daini ji sekai taisen wa ōku no kuni o makikonda. | Important in history education.         |\n",
    "| 27  | 継続             | けいぞく               | keizoku               | continuation / to continue                 | n/vt           | 継続は力なり。                         | Continuation is power.                                           | Keizoku wa chikara nari.                          | Relevant in motivation contexts.        |\n",
    "| 28  | 役割             | やくわり               | yakuwari              | role / part                                | n              | 彼の役割は重要です。                   | His role is important.                                           | Kare no yakuwari wa jūyō desu.                    | Important in teamwork discussions.      |\n",
    "| 29  | 分担             | ぶんたん               | buntan                | share / to share / to take part of         | n/vt           | 仕事の分担が必要です。                 | Sharing the work is necessary.                                   | Shigoto no buntan ga hitsuyō desu.                | Common in project management.           |\n",
    "| 30  | 雇用             | こよう                 | koyō                  | employment / to employ / to hire           | n/vt           | 雇用が増加しています。                 | Employment is increasing.                                        | Koyō ga zōka shiteimasu.                          | Relevant in economic discussions.       |\n",
    "| 31  | 前提             | ぜんてい               | zentei                | premise                                    | n              | その前提を考慮しなければならない。     | We must consider that premise.                                   | Sono zentei o kōryo shinakereba naranai.          | Important in logical reasoning.         |\n",
    "| 32  | 水準             | すいじゅん             | suijun                | level / standard                           | n              | 教育水準が上がっている。               | The educational level is rising.                                 | Kyōiku suijun ga agatte iru.                      | Relevant in educational contexts.       |\n",
    "| 33  | 制限             | せいげん               | seigen                | limitation / restriction / to limit        | n/vt           | 制限を設ける必要がある。               | We need to impose limitations.                                   | Seigen o mokeru hitsuyō ga aru.                   | Important in policy discussions.        |\n",
    "| 34  | 就業             | しゅうぎょう           | shūgyō                | employment / to start work / to be at work | n/vi           | 就業を始めたばかりです。               | I just started working.                                          | Shūgyō o hajimeta bakari desu.                    | Relevant in career discussions.         |\n",
    "| 35  | 常態化           | じょうたいか           | jōtaika               | to become common / to become the norm      | n/vi           | この問題は常態化しています。           | This issue has become common.                                    | Kono mondai wa jōtaika shiteimasu.                | Relevant in social discussions.         |\n",
    "| 36  | 異性             | いせい                 | isei                  | the opposite sex                           | n              | 異性に対する理解が必要です。           | Understanding the opposite sex is necessary.                     | Isei ni taisuru rikai ga hitsuyō desu.            | Important in gender studies.            |\n",
    "| 37  | 接点             | せってん               | setten                | contact / point of agreement               | n              | 彼らは接点を持つことが重要です。       | It is important for them to have contact.                        | Karera wa setten o motsu koto ga jūyō desu.       | Relevant in networking contexts.        |\n",
    "| 38  | 晩婚化           | ばんこんか             | bankonka              | trend toward late marriage                 | n              | 晩婚化が進んでいる。                   | The trend toward late marriage is advancing.                     | Bankonka ga susunde iru.                          | Important in demographic studies.       |\n",
    "| 39  | 未婚化           | みこんか               | mikonka               | trend toward remaining unmarried           | n              | 未婚化が社会問題になっている。         | The trend toward remaining unmarried is becoming a social issue. | Mikonka ga shakai mondai ni natte iru.            | Relevant in societal discussions.       |\n",
    "| 40  | 労働人口         | ろうどうじんこう       | rōdō jinkō            | working population                         | n              | 労働人口が減少している。               | The working population is decreasing.                            | Rōdō jinkō ga genshō shite iru.                   | Important in economic planning.         |\n",
    "| 41  | 活力             | かつりょく             | katsuryoku            | vitality                                   | n              | 活力が重要な要素です。                 | Vitality is an important factor.                                 | Katsuryoku ga jūyō na yōso desu.                  | Relevant in health discussions.         |\n",
    "| 42  | 負担             | ふたん                 | futan                 | burden / to be burdened with               | n/vt           | 彼に負担をかけたくない。               | I don't want to burden him.                                      | Kare ni futan o kaketakunai.                      | Important in financial discussions.     |\n",
    "| 43  | 社会保障         | しゃかいほしょう       | shakai hoshō          | social insurance / social security         | n              | 社会保障制度は重要です。               | The social security system is important.                         | Shakai hoshō seido wa jūyō desu.                  | Relevant in policy discussions.         |\n",
    "| 44  | 損ねる           | そこねる               | sokoneru              | to harm / to ruin                          | vt             | それは彼の名誉を損ねる。               | That harms his reputation.                                       | Sore wa kare no meiyo o sokoneru.                 | Relevant in discussions of ethics.      |\n",
    "| 45  | 育児             | いくじ                 | ikuji                 | childcare                                  | n              | 育児は大変な仕事です。                 | Childcare is a demanding job.                                    | Ikuji wa taihen na shigoto desu.                  | Important in parenting discussions.     |\n",
    "| 46  | 直に             | じかに                 | jika ni               | directly                                   | adv            | 彼に直に言うべきだ。                   | You should tell him directly.                                    | Kare ni jika ni iu beki da.                       | Common in communication contexts.       |\n",
    "| 47  | 一斉             | いっせい               | issai                 | all at once / all together                 | n              | 一斉にスタートしました。               | We started all at once.                                          | Issai ni sutāto shimashita.                       | Relevant in team activities.            |\n",
    "| 48  | 悩む             | なやむ                 | nayamu                | to be worried / to be troubled             | vi             | 彼女はいつも悩んでいる。               | She is always troubled.                                          | Kanojo wa itsumo nayande iru.                     | Common in discussions of mental health. |\n",
    "| 49  | 望む             | のぞむ                 | nozomu                | to desire / to hope / to wish              | vt             | 幸せを望んでいます。                   | I hope for happiness.                                            | Shiawase o nozonde imasu.                         | Important in aspiration discussions.    |\n",
    "| 50  | 粗末             | そまつ                 | somatsu               | rough / shabby / coarse                    | na-adj         | 粗末な扱いは許されない。               | Shabby treatment is not allowed.                                 | Somatsu na atsukai wa yurusarenai.                | Relevant in discussions of quality.     |\n",
    "\n",
    "Let me know if you need any adjustments or further information!\n"
   ]
  },
  {
   "cell_type": "markdown",
   "metadata": {},
   "source": [
    "Here’s the vocabulary table for your latest entries:\n",
    "\n",
    "| No. | Japanese (Kanji) | Hiragana     | Romaji       | English Translation                      | Part of Speech | Example Sentence (Japanese)          | Example Sentence (English)              | Example Sentence (Romaji)                  | Notes                                   |\n",
    "| --- | ---------------- | ------------ | ------------ | ---------------------------------------- | -------------- | ------------------------------------ | --------------------------------------- | ------------------------------------------ | --------------------------------------- |\n",
    "| 51  | 膨大             | ぼうだい     | bōdai        | enormous / vast                          | na-adj         | 膨大なデータが集まった。             | Enormous data has been collected.       | Bōdai na dēta ga atsumatta.                | Relevant in research contexts.          |\n",
    "| 52  | 検討             | けんとう     | kentō        | consideration / to consider / to examine | n/vt           | この問題を検討する必要がある。       | We need to consider this issue.         | Kono mondai o kentō suru hitsuyō ga aru.   | Important in decision-making.           |\n",
    "| 53  | 抽選             | ちゅうせん   | chūsen       | raffle / to draw lots                    | n/vi           | 抽選に参加しました。                 | I participated in the raffle.           | Chūsen ni sanka shimashita.                | Common in events and lotteries.         |\n",
    "| 54  | 要するに         | ようするに   | yō suru ni   | in short                                 | adv            | 要するに、彼は辞めたいと言っている。 | In short, he wants to quit.             | Yō suru ni, kare wa yametai to itte iru.   | Useful in summarizing information.      |\n",
    "| 55  | 組む             | くむ         | kumu         | to cross / to join / to collaborate      | vi/vt          | チームを組むことにしました。         | We decided to form a team.              | Chīmu o kumu koto ni shimashita.           | Important in teamwork.                  |\n",
    "| 56  | 冷ます           | さます       | samasu       | to cool                                  | vt             | お湯を冷ます必要があります。         | We need to cool the water.              | Oyu o samasu hitsuyō ga arimasu.           | Relevant in cooking contexts.           |\n",
    "| 57  | 出入り           | でいり       | deiri        | in and out / coming and going            | n/vi           | 出入り自由です。                     | Coming and going is free.               | Deiri jiyū desu.                           | Relevant in access discussions.         |\n",
    "| 58  | 言いつける       | いいつける   | iitsukeru    | to tell someone to do / to tell on       | vt             | 彼に言いつけました。                 | I told on him.                          | Kare ni iitsukemashita.                    | Relevant in communication contexts.     |\n",
    "| 59  | スタート         | スタート     | sutāto       | start / to start                         | n/vi/vt        | スタートの合図を待っています。       | I'm waiting for the signal to start.    | Sutāto no aizu o matteimasu.               | Common in events and races.             |\n",
    "| 60  | ノック           | ノック       | nokku        | knock / to knock                         | n/vt           | ドアをノックしてください。           | Please knock on the door.               | Doa o nokku shite kudasai.                 | Relevant in communication.              |\n",
    "| 61  | 取り壊す         | とりこわす   | torikowasu   | to demolish                              | vt             | 古い建物を取り壊す予定です。         | We plan to demolish the old building.   | Furui tatemono o torikowasu yotei desu.    | Important in construction contexts.     |\n",
    "| 62  | 狙う             | ねらう       | nerau        | to aim at                                | vt             | 目標を狙っています。                 | I am aiming at a target.                | Mokuhyō o neratteimasu.                    | Relevant in goal-setting.               |\n",
    "| 63  | 抵抗             | ていこう     | teikō        | resistance / to resist                   | n/vi           | 抵抗することは難しい。               | Resisting is difficult.                 | Teikō suru koto wa muzukashii.             | Important in discussions of change.     |\n",
    "| 64  | なおかつ         | なおかつ     | naokatsu     | besides / furthermore                    | adv            | 彼は優秀で、なおかつ親切です。       | He is excellent and, furthermore, kind. | Kare wa yūshū de, naokatsu shinsetsu desu. | Useful in adding information.           |\n",
    "| 65  | 甚だしい         | はなはだしい | hanahadashii | extreme / intense / serious              | na-adj         | 甚だしい影響を及ぼす。               | It has serious effects.                 | Hanahadashii eikyō o oyobosu.              | Relevant in discussions of impact.      |\n",
    "| 66  | 羨ましい         | うらやましい | urayamashii  | jealous / envious                        | na-adj         | 彼女の成功が羨ましい。               | I envy her success.                     | Kanojo no seikō ga urayamashii.            | Important in emotional discussions.     |\n",
    "| 67  | 甚だしい         | はなはだしい | hanahadashii | extreme / intense / serious              | na-adj         | 甚だしい問題が発生しています。       | Extreme problems have arisen.           | Hanahadashii mondai ga hassei shiteimasu.  | Relevant in crisis discussions.         |\n",
    "| 68  | 率直             | そっちょく   | socchoku     | frank / honest                           | na-adj         | 率直な意見が求められている。         | Frank opinions are needed.              | Socchoku na iken ga motomerarete iru.      | Important in feedback discussions.      |\n",
    "| 69  | 奇妙             | きみょう     | kimyō        | strange / odd / bizarre                  | na-adj         | 奇妙な出来事が起こった。             | A strange event occurred.               | Kimyō na dekigoto ga okotta.               | Relevant in discussions of the unusual. |\n",
    "| 70  | 浮気             | うわき       | uwaki        | infidelity / to cheat on                 | n/vi/na-adj    | 浮気は許されない。                   | Infidelity is not allowed.              | Uwaki wa yurusarenai.                      | Important in discussions of trust.      |\n",
    "\n",
    "Let me know if you need more or any adjustments!\n"
   ]
  },
  {
   "cell_type": "markdown",
   "metadata": {},
   "source": [
    "---"
   ]
  },
  {
   "cell_type": "markdown",
   "metadata": {},
   "source": [
    "# Conversation"
   ]
  },
  {
   "cell_type": "markdown",
   "metadata": {},
   "source": [
    "高 橋 :祐樹、なんか 疲 れた 顔 してるね。シルバーウィークに 遊 びすぎたんじゃないの?\n",
    "\n",
    "山 本 :いやあ、ちょっと寝不足でさ。 今 は 遊 ぶどころじゃないんだよね。\n",
    "\n",
    "高 橋 :寝られなかったの? 何 かあった?\n",
    "\n",
    "山 本 : 実 は、 俺 、アメリカの 大 学 に 留 学 の応募をしたんだ。明日、その試験\n",
    "    があるから、のんびりしてらんなくてさ。昨日も試験のことを気にする\n",
    "    あまり、寝られなくなっちゃったんだよね。\n",
    "\n",
    "高 橋 :ええ?! そうなの? アメリカに 留 学 しちゃったら、 簡 単 には\n",
    "    会えなくなるなあ。 でも、 応 援 するよ。\n",
    "    ただ、大事な試験だからと言って、無理しすぎるなよ。\n",
    "    試 験 前 にちゃんと 休 むことも 大 切 だよ。\n",
    "\n",
    "山 本 :うん、わかってるよ。わかってるけど、やっぱり 緊 張 するなあ。\n",
    "\n",
    "高 橋 :祐樹のことだから、きっと 大 丈 夫 だよ。 もともと英語の 発 音 が\n",
    "    きれいだし、 家 が 遠 いにもかかわらず、 授 業 がなくても\n",
    "    毎 日 大 学 に来て図 書 館 で 勉 強 してるじゃん。\n",
    "    努 力 は 人 を裏切らないって言うしさ。\n",
    "\n",
    "山 本 :ありがとう。 この 授 業 が終わったら、すぐ 家 に 帰 って\n",
    "    明日のためにちゃんと 睡 眠 をとることにするよ。\n",
    "\n",
    "高 橋 : 留 学 試 験 合 格 するといいね。頑張れよ。\n",
    "\n",
    "山 本 :うん! 授 業 のあと、 一 緒 に 帰 る?\n",
    "\n",
    "高 橋 :いや、この 後 、竹 田 先 生 の 研 究 室 に行かなきゃいけないんだ。\n",
    "    うちのゼミ「 少 子 化 問 題 」について 研 究 をしてるんだけど、\n",
    "    先 生 のアドバイス抜きには 完 成 できなくてさ。\n",
    "\n",
    "山 本 :そうなんだ。じゃあ、また今度ね。"
   ]
  },
  {
   "cell_type": "markdown",
   "metadata": {},
   "source": [
    "Here's the formatted table for your latest conversation:\n",
    "\n",
    "| Speaker | Japanese (Hiragana)                                                                                                                                                                  | Japanese (Kanji)                                                                                                                                                                     | English Translation                                                                                                                                                                                                                            | Romaji                                                                                                                                                                                                                                   | Notes                                               |\n",
    "| ------- | ------------------------------------------------------------------------------------------------------------------------------------------------------------------------------------ | ------------------------------------------------------------------------------------------------------------------------------------------------------------------------------------ | ---------------------------------------------------------------------------------------------------------------------------------------------------------------------------------------------------------------------------------------------- | ---------------------------------------------------------------------------------------------------------------------------------------------------------------------------------------------------------------------------------------- | --------------------------------------------------- |\n",
    "| 高橋    | 祐樹、なんか疲れた顔してるね。シルバーウィークに遊びすぎたんじゃないの?                                                                                                              | 祐樹、なんか疲れた顔してるね。シルバーウィークに遊びすぎたんじゃないの?                                                                                                              | Yuki, you look tired. Did you play too much during Silver Week?                                                                                                                                                                                | Yūki, nanka tsukareta kao shiteru ne. Shirubā Wīku ni asobi sugita n janai no?                                                                                                                                                           | Opening the conversation with a casual observation. |\n",
    "| 山本    | いやあ、ちょっと寝不足でさ。今は遊ぶどころじゃないんだよね。                                                                                                                         | いやあ、ちょっと寝不足でさ。今は遊ぶどころじゃないんだよね。                                                                                                                         | No, I’m a bit sleep-deprived. I can’t really think about playing right now.                                                                                                                                                                    | Iyaa, chotto nebusoku de sa. Ima wa asobu dokoro janai n da yo ne.                                                                                                                                                                       | Explaining the reason for his tiredness.            |\n",
    "| 高橋    | 寝られなかったの? 何かあった?                                                                                                                                                        | 寝られなかったの? 何かあった?                                                                                                                                                        | You couldn’t sleep? Is something wrong?                                                                                                                                                                                                        | Nerarenakatta no? Nani ka atta?                                                                                                                                                                                                          | Inquiring about the cause of his fatigue.           |\n",
    "| 山本    | 実は、俺、アメリカの大学に留学の応募をしたんだ。明日、その試験があるから、のんびりしてらんなくてさ。昨日も試験のことを気にするあまり、寝られなくなっちゃったんだよね。               | 実は、俺、アメリカの大学に留学の応募をしたんだ。明日、その試験があるから、のんびりしてられなくてさ。昨日も試験のことを気にするあまり、寝られなくなっちゃったんだよね。               | Actually, I applied for studying abroad at an American university. I have an exam tomorrow, so I can't relax. I couldn’t sleep last night because I was worried about the exam.                                                                | Jitsu wa, ore, Amerika no daigaku ni ryūgaku no ōbo wo shita nda. Ashita, sono shiken ga aru kara, nonbiri shiteranakute sa. Kinō mo shiken no koto wo ki ni suru amari, nerarenakunacchatta nda yo ne.                                  | Sharing personal news about studying abroad.        |\n",
    "| 高橋    | ええ?! そうなの? アメリカに留学しちゃったら、簡単には会えなくなるなあ。 でも、応援するよ。 ただ、大事な試験だからと言って、無理しすぎるなよ。試験前にちゃんと休むことも大切だよ。    | ええ?! そうなの? アメリカに留学しちゃったら、簡単には会えなくなるなあ。でも、応援するよ。ただ、大事な試験だからと言って、無理しすぎるなよ。試験前にちゃんと休むことも大切だよ。      | Really?! Is that so? If you study abroad in America, it won’t be easy to meet up. But I’ll support you. Just don’t overdo it because it’s an important exam. Resting before the exam is also important.                                        | E?! Sō nano? Amerika ni ryūgaku shichattara, kantan ni wa aenakunaru naa. Demo, ōen suru yo. Tada, daiji na shiken dakara to itte, muri shisugiru na yo. Shiken mae ni chanto yasumu koto mo taisetsu da yo.                             | Offering encouragement and advice.                  |\n",
    "| 山本    | うん、わかってるよ。わかってるけど、やっぱり緊張するなあ。                                                                                                                           | うん、わかってるよ。わかってるけど、やっぱり緊張するなあ。                                                                                                                           | Yeah, I know. I know, but I’m still really nervous.                                                                                                                                                                                            | Un, wakatteru yo. Wakatteru kedo, yappari kinchō suru naa.                                                                                                                                                                               | Acknowledging the pressure he feels.                |\n",
    "| 高橋    | 祐樹のことだから、きっと大丈夫だよ。もともと英語の発音がきれいだし、家が遠いにもかかわらず、授業がなくても毎日大学に来て図書館で勉強してるじゃん。努力は人を裏切らないって言うしさ。 | 祐樹のことだから、きっと大丈夫だよ。もともと英語の発音がきれいだし、家が遠いにもかかわらず、授業がなくても毎日大学に来て図書館で勉強してるじゃん。努力は人を裏切らないって言うしさ。 | Knowing you, you’ll be just fine. Your English pronunciation is good, and despite living far away, you come to the university every day to study in the library even when there are no classes. Hard work never betrays a person, as they say. | Yūki no koto dakara, kitto daijōbu da yo. Motomoto Eigo no hatsuon ga kirei da shi, ie ga tōi ni mo kakawarazu, jugyō ga nakute mo mainichi daigaku ni kite toshokan de benkyō shiteru jan. Doryoku wa hito wo uragiranai tte iu shi sa. | Providing reassurance and motivation.               |\n",
    "| 山本    | ありがとう。この授業が終わったら、すぐ家に帰って明日のためにちゃんと睡眠をとることにするよ。                                                                                         | ありがとう。この授業が終わったら、すぐ家に帰って明日のためにちゃんと睡眠をとることにするよ。                                                                                         | Thank you. After this class, I’ll go straight home and make sure to get enough sleep for tomorrow.                                                                                                                                             | Arigatou. Kono jugyō ga owattara, sugu ie ni kaette ashita no tame ni chanto suimin wo toru koto ni suru yo.                                                                                                                             | Committing to prioritize rest.                      |\n",
    "| 高橋    | 留学試験合格するといいね。頑張れよ。                                                                                                                                                 | 留学試験合格するといいね。頑張れよ。                                                                                                                                                 | I hope you pass the study abroad exam. Good luck!                                                                                                                                                                                              | Ryūgaku shiken gōkaku suru to ii ne. Ganbare yo.                                                                                                                                                                                         | Wishing him luck for the exam.                      |\n",
    "| 山本    | うん! 授業のあと、一緒に帰る?                                                                                                                                                        | うん! 授業のあと、一緒に帰る?                                                                                                                                                        | Yeah! Are we going home together after class?                                                                                                                                                                                                  | Un! Jugyō no ato, issho ni kaeru?                                                                                                                                                                                                        | Suggesting to go home together.                     |\n",
    "| 高橋    | いや、この後、竹田先生の研究室に行かなきゃいけないんだ。うちのゼミ「少子化問題」について研究をしてるんだけど、先生のアドバイス抜きには完成できなくてさ。                             | いや、この後、竹田先生の研究室に行かなきゃいけないんだ。うちのゼミ「少子化問題」について研究をしてるんだけど、先生のアドバイス抜きには完成できなくてさ。                             | No, I have to go to Professor Takeda’s research room after this. My seminar is studying the \"Declining Birthrate Problem,\" and I can’t finish it without the professor's advice.                                                               | Iya, kono ato, Takeda sensei no kenkyūshitsu ni ikanakya ikenai nda. Uchi no zemi \"shōshika mondai\" ni tsuite kenkyū wo shiterun da kedo, sensei no adobaisu nuki ni wa kansei dekinakute sa.                                            | Explaining his own commitments.                     |\n",
    "| 山本    | そうなんだ。じゃあ、また今度ね。                                                                                                                                                     | そうなんだ。じゃあ、また今度ね。                                                                                                                                                     | I see. Well then, see you next time.                                                                                                                                                                                                           | Sō nanda. Jaa, mata kondo ne.                                                                                                                                                                                                            | Closing the conversation.                           |\n",
    "\n",
    "If you have more conversations or any other requests, feel free to share!\n"
   ]
  },
  {
   "cell_type": "markdown",
   "metadata": {},
   "source": [
    "---"
   ]
  },
  {
   "cell_type": "markdown",
   "metadata": {},
   "source": [
    "# Grammar 1\n"
   ]
  },
  {
   "cell_type": "markdown",
   "metadata": {},
   "source": []
  },
  {
   "cell_type": "markdown",
   "metadata": {},
   "source": []
  },
  {
   "cell_type": "markdown",
   "metadata": {},
   "source": []
  },
  {
   "cell_type": "markdown",
   "metadata": {},
   "source": [
    "---\n",
    "---"
   ]
  },
  {
   "cell_type": "markdown",
   "metadata": {},
   "source": [
    "# Grammar 2\n"
   ]
  },
  {
   "cell_type": "markdown",
   "metadata": {},
   "source": []
  },
  {
   "cell_type": "markdown",
   "metadata": {},
   "source": []
  },
  {
   "cell_type": "markdown",
   "metadata": {},
   "source": []
  },
  {
   "cell_type": "markdown",
   "metadata": {},
   "source": [
    "---\n",
    "---"
   ]
  },
  {
   "cell_type": "markdown",
   "metadata": {},
   "source": [
    "# Grammar 3\n"
   ]
  },
  {
   "cell_type": "markdown",
   "metadata": {},
   "source": []
  },
  {
   "cell_type": "markdown",
   "metadata": {},
   "source": []
  },
  {
   "cell_type": "markdown",
   "metadata": {},
   "source": []
  },
  {
   "cell_type": "markdown",
   "metadata": {},
   "source": [
    "---\n",
    "---"
   ]
  },
  {
   "cell_type": "markdown",
   "metadata": {},
   "source": [
    "# Grammar 4\n"
   ]
  },
  {
   "cell_type": "markdown",
   "metadata": {},
   "source": []
  },
  {
   "cell_type": "markdown",
   "metadata": {},
   "source": []
  },
  {
   "cell_type": "markdown",
   "metadata": {},
   "source": []
  },
  {
   "cell_type": "markdown",
   "metadata": {},
   "source": [
    "---\n",
    "---"
   ]
  },
  {
   "cell_type": "markdown",
   "metadata": {},
   "source": [
    "# Grammar 5\n"
   ]
  },
  {
   "cell_type": "markdown",
   "metadata": {},
   "source": []
  },
  {
   "cell_type": "markdown",
   "metadata": {},
   "source": []
  },
  {
   "cell_type": "markdown",
   "metadata": {},
   "source": []
  },
  {
   "cell_type": "markdown",
   "metadata": {},
   "source": [
    "---\n",
    "---"
   ]
  },
  {
   "cell_type": "markdown",
   "metadata": {},
   "source": [
    "# Grammar 6\n"
   ]
  },
  {
   "cell_type": "markdown",
   "metadata": {},
   "source": []
  },
  {
   "cell_type": "markdown",
   "metadata": {},
   "source": []
  },
  {
   "cell_type": "markdown",
   "metadata": {},
   "source": []
  },
  {
   "cell_type": "markdown",
   "metadata": {},
   "source": [
    "---\n",
    "---"
   ]
  },
  {
   "cell_type": "markdown",
   "metadata": {},
   "source": [
    "# Grammar 7\n"
   ]
  },
  {
   "cell_type": "markdown",
   "metadata": {},
   "source": []
  },
  {
   "cell_type": "markdown",
   "metadata": {},
   "source": []
  },
  {
   "cell_type": "markdown",
   "metadata": {},
   "source": []
  },
  {
   "cell_type": "markdown",
   "metadata": {},
   "source": [
    "---\n",
    "---"
   ]
  },
  {
   "cell_type": "markdown",
   "metadata": {},
   "source": [
    "# Grammar 8\n"
   ]
  },
  {
   "cell_type": "markdown",
   "metadata": {},
   "source": []
  },
  {
   "cell_type": "markdown",
   "metadata": {},
   "source": []
  },
  {
   "cell_type": "markdown",
   "metadata": {},
   "source": []
  },
  {
   "cell_type": "markdown",
   "metadata": {},
   "source": [
    "---\n",
    "---"
   ]
  },
  {
   "cell_type": "markdown",
   "metadata": {},
   "source": [
    "# Grammar 9\n"
   ]
  },
  {
   "cell_type": "markdown",
   "metadata": {},
   "source": []
  },
  {
   "cell_type": "markdown",
   "metadata": {},
   "source": []
  },
  {
   "cell_type": "markdown",
   "metadata": {},
   "source": []
  },
  {
   "cell_type": "markdown",
   "metadata": {},
   "source": [
    "---\n",
    "---"
   ]
  },
  {
   "cell_type": "markdown",
   "metadata": {},
   "source": [
    "# Grammar 10\n"
   ]
  },
  {
   "cell_type": "markdown",
   "metadata": {},
   "source": []
  },
  {
   "cell_type": "markdown",
   "metadata": {},
   "source": []
  },
  {
   "cell_type": "markdown",
   "metadata": {},
   "source": []
  },
  {
   "cell_type": "markdown",
   "metadata": {},
   "source": [
    "---\n",
    "---"
   ]
  },
  {
   "cell_type": "markdown",
   "metadata": {},
   "source": [
    "# Grammar 11\n"
   ]
  },
  {
   "cell_type": "markdown",
   "metadata": {},
   "source": []
  },
  {
   "cell_type": "markdown",
   "metadata": {},
   "source": []
  },
  {
   "cell_type": "markdown",
   "metadata": {},
   "source": []
  },
  {
   "cell_type": "markdown",
   "metadata": {},
   "source": [
    "---\n",
    "---"
   ]
  },
  {
   "cell_type": "markdown",
   "metadata": {},
   "source": [
    "# Grammar 12\n"
   ]
  },
  {
   "cell_type": "markdown",
   "metadata": {},
   "source": []
  },
  {
   "cell_type": "markdown",
   "metadata": {},
   "source": []
  },
  {
   "cell_type": "markdown",
   "metadata": {},
   "source": []
  },
  {
   "cell_type": "markdown",
   "metadata": {},
   "source": [
    "---\n",
    "---"
   ]
  }
 ],
 "metadata": {
  "language_info": {
   "name": "python"
  }
 },
 "nbformat": 4,
 "nbformat_minor": 2
}
