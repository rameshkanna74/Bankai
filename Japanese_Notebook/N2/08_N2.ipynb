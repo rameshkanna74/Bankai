{
 "cells": [
  {
   "cell_type": "markdown",
   "metadata": {},
   "source": [
    "# N2\n",
    "\n",
    "### 第 08 課 - 台風が来たら、ツアーは中止されるに決まっていますよ。\n",
    "\n",
    "### Lesson 08 - If a typhoon comes, the tour will definitely be canceled.\n"
   ]
  },
  {
   "cell_type": "markdown",
   "metadata": {},
   "source": [
    "# Vocabulary"
   ]
  },
  {
   "cell_type": "markdown",
   "metadata": {},
   "source": [
    "    1.キャスター n. newscaster\n",
    "    2.ねったい 熱帯 n. tropics / tropical zone\n",
    "    3.きあつ 気圧 n. atmospheric pressure\n",
    "    4.グアム n. Guam\n",
    "    5.じょうりく 上陸 n./vi. landing / to land/to go ashore/(typhoon) to strike\n",
    "    6.ベルトじょう ベルト状 n. belt shape\n",
    "    7.おおう 覆う vt. to cover\n",
    "    8.せいりょく 勢力 n. power / influence\n",
    "    9.せっきん 接近 n./vi. approach / to approach/to get close\n",
    "    10.きょうふう 強風 n. strong wind\n",
    "    11.たかなみ 高波 n. high wave / storm surge\n",
    "    12.たいへいよう 太平洋 n. the Pacific Ocean\n",
    "    13.ちかづく 近付く vi. to approach /to come or go close/to get acquainted with\n",
    "    14.こうはんい 広範囲 n. wide range\n",
    "    15.つよまる 強まる vi. to strengthen\n",
    "    16.よわまる 弱まる vi. to weaken\n",
    "    17.ゴールデンウィーク n. Golden Week/GW (a week consisting of 3 Japanese national holidays at the end of April and the beginning of May, in which most people have about a week off from work or school.)\n",
    "    18.シルバーウィーク n. Silver Week (a week consisting of 3 Japanese national holidays in September, in which most people have about a week off from work or school. Only occurs in specified years.)\n",
    "    19.きせい 帰省 n./vi. homecoming/to return home\n",
    "    20.ラッシュ n. rush hour\n",
    "    21.ゆれ 揺れ n. shake / wavering / quake\n",
    "    22.まさる 勝る vi. to excel / to be superior\n",
    "    23.ときょうそう 徒競走 n. foot race\n",
    "    24.じっせき 実績 n. achievements/results/one's record of performance\n",
    "    25.ていきょう 提供 n./vt. offer/to offer/to supply with\n"
   ]
  },
  {
   "cell_type": "markdown",
   "metadata": {},
   "source": [
    "    26.りょういき 領域 n. territory / field / domain\n",
    "    27.ぎょうかい 業界 n. the business world/industry\n",
    "    28.しゅうふく 修復 n./vt. restoration / to restore/to repair\n",
    "    29.ちょさくけん 著作権 n. copyright\n",
    "    30.しんがい 侵害 n./vt. infringement /violation/to infringe\n",
    "    31.センス n. taste / sense / talent\n",
    "    32.じょうき 上記 n. above-mentioned\n",
    "    33.そうい 相違 n./vi. difference/ discrepancy/to differ\n",
    "    34.エンジン n. engine\n",
    "    35.じじつ 事実 n. fact / truth\n",
    "    36.こうきょう 公共 n. public / common\n",
    "    37.インフラ n. infrastructure\n",
    "    38.じゅうたく 住宅 n. housing / residence\n",
    "    39.はんえい 繁栄 n./vi. prosperity / to prosper\n",
    "    40.さんぎいん 参議院 n. House of Councilors\n",
    "    41.しゅうぎいん 衆議院 n. House of Representatives\n",
    "    42.ぎいん 議員 n. member of the Diet(legislative system of Japan)\n",
    "    43.せんきょ 選挙 n. election\n",
    "    44.にんき 任期 n. term of office / term of service\n",
    "    45.まんりょう 満了 n./vi. expiration / to expire\n",
    "    46.ほっと adv./vi. with relief /to feel relieved\n",
    "    47.かいえい 開映 n./vt. screening / a film begins\n",
    "    48.しゅうい 周囲 n. surroundings\n",
    "    49.きせい 規制 n./vt. regulation / control/to regulate / to control\n",
    "    50.にんてい 認定 n./vt. certification / approval/authorization /to certify /to accredit\n"
   ]
  },
  {
   "cell_type": "markdown",
   "metadata": {},
   "source": [
    "    51.りゅうつう 流通  n./vi. circulation / distribution/ to circulate / to distribute\n",
    "    52.いちがんれふかめら 一眼レフカメラ扱う n. SLR camera\n",
    "    53.あつかう 扱う vt. to handle / to deal with/to treat\n",
    "    54.ゆだん 油断 n./vi. negligence / carelessness/ to be careless\n",
    "    55.かいご 介護  n./vi. nursing / caregiving/to look after / to nurse\n",
    "    56.とうさい 搭載 n./vt. equipped / built-in/to load/to install\n",
    "    57.ふくよう 服用 n./vt. taking medicine/to take medicine\n",
    "    58.せってい 設定 n./vt. setting / establishment/ to set up / to establish/ to configure\n",
    "    59.さいきどう 再起動 n./vt./vi. reboot / to reboot\n",
    "    60.さる 去る vi./vt. to leave / to go away\n",
    "    61.ひめい 悲鳴 n./vi. scream / to scream\n",
    "    62.にせもの 偽物 n. counterfeit / imitation\n",
    "    63.ぎぞうひん 偽造品 n. counterfeit goods\n",
    "    64.でまわる 出回る vi. to appear on the market\n",
    "    65.かんき 喚起 n./vt. awakening / to awaken/ to arouse\n",
    "    66.はっかく 発覚 n./vi. revelation /disclosure /to be revealed /to be found out\n",
    "    67.うながす 促す vt. to prompt / to encourage/ to urge\n",
    "    68.オークション n. auction\n",
    "    69.タイヤ n. tire\n",
    "    70.こてい 固定 n./vt./vi. fixation / to fix (salary / capital)\n",
    "    71.てんとう 転倒 n./vi. falling down / to fall down/to tumble\n",
    "    72.だいさんじ 大惨事 n. catastrophe\n",
    "    73.とめぐ 留め具 n. clasp / fastener / catch\n",
    "    74.じたい 事態 n. situation/state of affairs\n",
    "    75.しょうひしゃ 消費者 n. consumer\n",
    "    76.しゅっぴんしゃ 出品者 n. exhibitor / seller\n",
    "    77.アカウント n. account\n",
    "    78.さくじょ 削除 n./vt. deletion / to delete\n",
    "    79.けいさい 掲載 n./vt. publication / insertion/to publish / to insert\n",
    "    80.クッション n. cushion / buffer\n",
    "    81.こんぜつ 根絶 n./vt. eradication/extermination/to eradicate\n",
    "    82.みずから 自ら n./adv. oneself / for one's self/voluntarily\n",
    "    83.そざい 素材 n. raw material/material\n"
   ]
  },
  {
   "cell_type": "markdown",
   "metadata": {},
   "source": [
    "Here’s the vocabulary table for your latest list:\n",
    "\n",
    "| No. | Japanese (Kanji)   | Hiragana           | Romaji       | English Translation                              | Part of Speech | Example Sentence (Japanese)      | Example Sentence (English)               | Example Sentence (Romaji)              | Notes                                   |\n",
    "| --- | ------------------ | ------------------ | ------------ | ------------------------------------------------ | -------------- | -------------------------------- | ---------------------------------------- | -------------------------------------- | --------------------------------------- |\n",
    "| 1   | キャスター         | キャスター         | kyasutā      | newscaster                                       | n              | 彼はテレビのキャスターです。     | He is a TV newscaster.                   | Kare wa terebi no kyasutā desu.        | Common in media discussions.            |\n",
    "| 2   | 熱帯               | ねったい           | nettai       | tropics / tropical zone                          | n              | 熱帯の植物が好きです。           | I like tropical plants.                  | Nettai no shokubutsu ga suki desu.     | Relevant in geography and climate.      |\n",
    "| 3   | 気圧               | きあつ             | kiatsu       | atmospheric pressure                             | n              | 気圧が下がっています。           | The atmospheric pressure is dropping.    | Kiatsu ga sagatteimasu.                | Important in meteorological contexts.   |\n",
    "| 4   | グアム             | グアム             | Guam         | Guam                                             | n              | グアムに行きたいです。           | I want to go to Guam.                    | Guam ni ikitai desu.                   | Relevant in travel discussions.         |\n",
    "| 5   | 上陸               | じょうりく         | jōriku       | landing / to land/to go ashore                   | n/vi           | 台風が上陸しました。             | The typhoon made landfall.               | Taifū ga jōriku shimashita.            | Relevant in weather forecasts.          |\n",
    "| 6   | ベルトじょう       | ベルトじょう       | beruto jō    | belt shape                                       | n              | ベルト状の雲が見えます。         | I see a belt-shaped cloud.               | Beruto jō no kumo ga miemasu.          | Useful in meteorological descriptions.  |\n",
    "| 7   | 覆う               | おおう             | ōu           | to cover                                         | vt             | 雲が空を覆っています。           | The clouds cover the sky.                | Kumo ga sora o ōtteimasu.              | Common in discussions about weather.    |\n",
    "| 8   | 勢力               | せいりょく         | seiryoku     | power / influence                                | n              | 彼は勢力を持っています。         | He has influence.                        | Kare wa seiryoku o motteimasu.         | Relevant in political discussions.      |\n",
    "| 9   | 接近               | せっきん           | sekkin       | approach / to approach/to get close              | n/vi           | 台風が接近しています。           | The typhoon is approaching.              | Taifū ga sekkin shiteimasu.            | Important in weather forecasts.         |\n",
    "| 10  | 強風               | きょうふう         | kyōfū        | strong wind                                      | n              | 強風が吹いています。             | A strong wind is blowing.                | Kyōfū ga fuiteimasu.                   | Relevant in weather reports.            |\n",
    "| 11  | 高波               | たかなみ           | takanami     | high wave / storm surge                          | n              | 高波に注意してください。         | Please be careful of high waves.         | Takanami ni chūi shite kudasai.        | Important for beach safety.             |\n",
    "| 12  | 太平洋             | たいへいよう       | taiheiyō     | the Pacific Ocean                                | n              | 太平洋を越えます。               | I will cross the Pacific Ocean.          | Taiheiyō o koemasu.                    | Relevant in geographical discussions.   |\n",
    "| 13  | 近付く             | ちかづく           | chikazuku    | to approach /to come or go close                 | vi             | 友達に近付いています。           | I am getting close to my friend.         | Tomodachi ni chikazuiteimasu.          | Useful in social contexts.              |\n",
    "| 14  | 広範囲             | こうはんい         | kōhan'i      | wide range                                       | n              | 広範囲にわたる問題です。         | It is a problem that spans a wide range. | Kōhan'i ni wataru mondai desu.         | Important in discussions of scope.      |\n",
    "| 15  | 強まる             | つよまる           | tsuyomaru    | to strengthen                                    | vi             | 風が強まっています。             | The wind is strengthening.               | Kaze ga tsuyomatteimasu.               | Relevant in weather discussions.        |\n",
    "| 16  | 弱まる             | よわまる           | yowamaru     | to weaken                                        | vi             | 風が弱まっています。             | The wind is weakening.                   | Kaze ga yowamatteimasu.                | Important in weather forecasts.         |\n",
    "| 17  | ゴールデンウィーク | ゴールデンウィーク | gōruden wīku | Golden Week                                      | n              | ゴールデンウィークに旅行します。 | I will travel during Golden Week.        | Gōruden wīku ni ryokō shimasu.         | Relevant in holiday planning.           |\n",
    "| 18  | シルバーウィーク   | シルバーウィーク   | shirubā wīku | Silver Week                                      | n              | シルバーウィークに休みます。     | I will take a break during Silver Week.  | Shirubā wīku ni yasumimasu.            | Relevant in holiday discussions.        |\n",
    "| 19  | 帰省               | きせい             | kisei        | homecoming/to return home                        | n/vi           | 帰省ラッシュが始まります。       | The homecoming rush is starting.         | Kisei rasshu ga hajimarimasu.          | Important during holidays.              |\n",
    "| 20  | ラッシュ           | ラッシュ           | rasshu       | rush hour                                        | n              | ラッシュアワーは混雑しています。 | The rush hour is congested.              | Rasshu awā wa konzatsu shiteimasu.     | Common in commuting discussions.        |\n",
    "| 21  | 揺れ               | ゆれ               | yure         | shake / wavering / quake                         | n              | 揺れを感じました。               | I felt a shake.                          | Yure o kanjimashita.                   | Relevant in discussions of earthquakes. |\n",
    "| 22  | 勝る               | まさる             | masaru       | to excel / to be superior                        | vi             | 彼はすべての競技で勝ります。     | He excels in all competitions.           | Kare wa subete no kyōgi de masarimasu. | Common in competitive contexts.         |\n",
    "| 23  | 徒競走             | ときょうそう       | tokkyōsō     | foot race                                        | n              | 子供たちが徒競走をしています。   | The children are having a foot race.     | Kodomo-tachi ga tokkyōsō o shiteimasu. | Relevant in school events.              |\n",
    "| 24  | 実績               | じっせき           | jisseki      | achievements/results/one's record of performance | n              | 彼女は多くの実績を持っています。 | She has many achievements.               | Kanojo wa ōku no jisseki o motteimasu. | Important in professional contexts.     |\n",
    "| 25  | 提供               | ていきょう         | teikyō       | offer/to offer/to supply with                    | n/vt           | 彼はサービスを提供しています。   | He is providing a service.               | Kare wa sābisu o teikyō shiteimasu.    | Common in business contexts.            |\n",
    "\n",
    "Let me know if you need anything else!\n"
   ]
  },
  {
   "cell_type": "markdown",
   "metadata": {},
   "source": [
    "Here’s the vocabulary table for your latest list:\n",
    "\n",
    "| No. | Japanese (Kanji) | Hiragana     | Romaji     | English Translation                           | Part of Speech | Example Sentence (Japanese)          | Example Sentence (English)                             | Example Sentence (Romaji)                         | Notes                                     |\n",
    "| --- | ---------------- | ------------ | ---------- | --------------------------------------------- | -------------- | ------------------------------------ | ------------------------------------------------------ | ------------------------------------------------- | ----------------------------------------- |\n",
    "| 26  | 領域             | りょういき   | ryōiki     | territory / field / domain                    | n              | 彼の専門はこの領域です。             | His specialty is in this field.                        | Kare no senmon wa kono ryōiki desu.               | Important in discussions about expertise. |\n",
    "| 27  | 業界             | ぎょうかい   | gyōkai     | the business world/industry                   | n              | 業界の動向を調査しています。         | We are researching trends in the industry.             | Gyōkai no dōkō o chōsa shiteimasu.                | Relevant in business contexts.            |\n",
    "| 28  | 修復             | しゅうふく   | shūfuku    | restoration / to restore/to repair            | n/vt           | この絵は修復が必要です。             | This painting needs restoration.                       | Kono e wa shūfuku ga hitsuyō desu.                | Common in art and history discussions.    |\n",
    "| 29  | 著作権           | ちょさくけん | chosakuken | copyright                                     | n              | 著作権を守ることが重要です。         | Protecting copyright is important.                     | Chosakuken o mamoru koto ga jūyō desu.            | Relevant in legal discussions.            |\n",
    "| 30  | 侵害             | しんがい     | shingai    | infringement / violation/to infringe          | n/vt           | 侵害行為が報告されました。           | Infringement has been reported.                        | Shingai kōi ga hōkoku saremashita.                | Important in legal contexts.              |\n",
    "| 31  | センス           | センス       | sensu      | taste / sense / talent                        | n              | 彼女はセンスが良いです。             | She has good taste.                                    | Kanojo wa sensu ga yoi desu.                      | Common in discussions about aesthetics.   |\n",
    "| 32  | 上記             | じょうき     | jōki       | above-mentioned                               | n              | 上記の内容を確認してください。       | Please check the above-mentioned content.              | Jōki no naiyō o kakunin shite kudasai.            | Relevant in formal writing.               |\n",
    "| 33  | 相違             | そうい       | sōi        | difference/ discrepancy/to differ             | n/vi           | 二つの意見に相違があります。         | There is a difference between the two opinions.        | Futatsu no iken ni sōi ga arimasu.                | Important in discussions of opinions.     |\n",
    "| 34  | エンジン         | エンジン     | enjin      | engine                                        | n              | 車のエンジンが故障しました。         | The car's engine has broken down.                      | Kuruma no enjin ga koshō shimashita.              | Relevant in automotive discussions.       |\n",
    "| 35  | 事実             | じじつ       | jijitsu    | fact / truth                                  | n              | これは事実です。                     | This is a fact.                                        | Kore wa jijitsu desu.                             | Important in discussions of evidence.     |\n",
    "| 36  | 公共             | こうきょう   | kōkyō      | public / common                               | n              | 公共の場では礼儀が必要です。         | Etiquette is necessary in public places.               | Kōkyō no ba de wa reigi ga hitsuyō desu.          | Relevant in discussions about society.    |\n",
    "| 37  | インフラ         | インフラ     | infura     | infrastructure                                | n              | インフラが整備されています。         | The infrastructure is being developed.                 | Infura ga seibi sareteimasu.                      | Important in urban planning discussions.  |\n",
    "| 38  | 住宅             | じゅうたく   | jūtaku     | housing / residence                           | n              | 住宅が不足しています。               | There is a shortage of housing.                        | Jūtaku ga fusoku shiteimasu.                      | Relevant in real estate discussions.      |\n",
    "| 39  | 繁栄             | はんえい     | han'ei     | prosperity / to prosper                       | n/vi           | その国は繁栄しています。             | That country is prosperous.                            | Sono kuni wa han'ei shiteimasu.                   | Important in economic discussions.        |\n",
    "| 40  | 参議院           | さんぎいん   | sangiin    | House of Councilors                           | n              | 参議院の選挙があります。             | There is an election for the House of Councilors.      | Sangiin no senkyo ga arimasu.                     | Relevant in political discussions.        |\n",
    "| 41  | 衆議院           | しゅうぎいん | shūgiin    | House of Representatives                      | n              | 衆議院で新しい法案が可決されました。 | A new bill was passed in the House of Representatives. | Shūgiin de atarashii hōan ga kaketsu saremashita. | Important in legislative discussions.     |\n",
    "| 42  | 議員             | ぎいん       | giin       | member of the Diet                            | n              | 彼は議員です。                       | He is a member of the Diet.                            | Kare wa giin desu.                                | Relevant in political discussions.        |\n",
    "| 43  | 選挙             | せんきょ     | senkyo     | election                                      | n              | 選挙に行きます。                     | I will go to the election.                             | Senkyo ni ikimasu.                                | Important in civic discussions.           |\n",
    "| 44  | 任期             | にんき       | ninki      | term of office / term of service              | n              | 任期は四年です。                     | The term of office is four years.                      | Ninki wa yonen desu.                              | Relevant in political contexts.           |\n",
    "| 45  | 満了             | まんりょう   | manryō     | expiration / to expire                        | n/vi           | 契約が満了しました。                 | The contract has expired.                              | Keiyaku ga manryō shimashita.                     | Important in legal discussions.           |\n",
    "| 46  | ほっと           | ほっと       | hotto      | with relief / to feel relieved                | adv/vi         | ほっとしました。                     | I felt relieved.                                       | Hotto shimashita.                                 | Common in emotional expressions.          |\n",
    "| 47  | 開映             | かいえい     | kaiei      | screening / a film begins                     | n/vt           | 映画が開映されます。                 | The film will begin screening.                         | Eiga ga kaiei saremasu.                           | Relevant in entertainment discussions.    |\n",
    "| 48  | 周囲             | しゅうい     | shūi       | surroundings                                  | n              | 周囲を確認してください。             | Please check your surroundings.                        | Shūi o kakunin shite kudasai.                     | Important in safety discussions.          |\n",
    "| 49  | 規制             | きせい       | kisei      | regulation / control/to regulate / to control | n/vt           | 新しい規制が施行されました。         | New regulations have been enforced.                    | Atarashii kisei ga shikō saremashita.             | Important in legal contexts.              |\n",
    "| 50  | 認定             | にんてい     | nintei     | certification / approval/authorization        | n/vt           | 認定が必要です。                     | Certification is required.                             | Nintei ga hitsuyō desu.                           | Relevant in professional discussions.     |\n",
    "\n",
    "Let me know if you need anything else!\n"
   ]
  },
  {
   "cell_type": "markdown",
   "metadata": {},
   "source": [
    "Here’s the vocabulary table for your latest list:\n",
    "\n",
    "| No. | Japanese (Kanji)   | Hiragana           | Romaji              | English Translation                    | Part of Speech | Example Sentence (Japanese)      | Example Sentence (English)                | Example Sentence (Romaji)                 | Notes                                         |\n",
    "| --- | ------------------ | ------------------ | ------------------- | -------------------------------------- | -------------- | -------------------------------- | ----------------------------------------- | ----------------------------------------- | --------------------------------------------- |\n",
    "| 51  | 流通               | りゅうつう         | ryūtsū              | circulation / distribution             | n/vi           | 商品が流通しています。           | Products are in circulation.              | Shōhin ga ryūtsū shiteimasu.              | Relevant in logistics discussions.            |\n",
    "| 52  | 一眼レフカメラ扱う | いちがんれふかめら | ichigan refu kamera | SLR camera                             | n              | 一眼レフカメラを買いました。     | I bought an SLR camera.                   | Ichigan refu kamera o kaimashita.         | Important in photography discussions.         |\n",
    "| 53  | 扱う               | あつかう           | atsukau             | to handle / to deal with               | vt             | 注意深く扱う必要があります。     | You need to handle it carefully.          | Chūi bukaku atsukau hitsuyō ga arimasu.   | Common in discussions about responsibilities. |\n",
    "| 54  | 油断               | ゆだん             | yudan               | negligence / carelessness              | n/vi           | 油断は禁物です。                 | Carelessness is not allowed.              | Yudan wa kinbutsu desu.                   | Important in safety discussions.              |\n",
    "| 55  | 介護               | かいご             | kaigo               | nursing / caregiving                   | n/vi           | 介護の仕事をしています。         | I work in caregiving.                     | Kaigo no shigoto o shiteimasu.            | Relevant in health care discussions.          |\n",
    "| 56  | 搭載               | とうさい           | tōsai               | equipped / built-in                    | n/vt           | 新しい機能が搭載されています。   | New features are equipped.                | Atarashii kinō ga tōsai sareteimasu.      | Common in technology discussions.             |\n",
    "| 57  | 服用               | ふくよう           | fukuyō              | taking medicine                        | n/vt           | 薬を服用してください。           | Please take your medicine.                | Kusuri o fukuyō shite kudasai.            | Important in health discussions.              |\n",
    "| 58  | 設定               | せってい           | settei              | setting / establishment                | n/vt           | 設定を変更しました。             | I changed the settings.                   | Settei o henkō shimashita.                | Relevant in tech and configuration contexts.  |\n",
    "| 59  | 再起動             | さいきどう         | saikidō             | reboot / to reboot                     | n/vt/vi        | コンピュータを再起動します。     | I will reboot the computer.               | Konpyūta o saikidō shimasu.               | Important in IT discussions.                  |\n",
    "| 60  | 去る               | さる               | saru                | to leave / to go away                  | vi/vt          | 彼は去りました。                 | He has left.                              | Kare wa sarimashita.                      | Common in discussions about departures.       |\n",
    "| 61  | 悲鳴               | ひめい             | himei               | scream / to scream                     | n/vi           | 彼女の悲鳴が聞こえました。       | I heard her scream.                       | Kanojo no himei ga kikoemashita.          | Relevant in discussions of distress.          |\n",
    "| 62  | 偽物               | にせもの           | nisemono            | counterfeit / imitation                | n              | 偽物に注意してください。         | Be careful of counterfeits.               | Nisemono ni chūi shite kudasai.           | Important in consumer awareness discussions.  |\n",
    "| 63  | 偽造品             | ぎぞうひん         | gizōhin             | counterfeit goods                      | n              | 偽造品を販売することは違法です。 | Selling counterfeit goods is illegal.     | Gizōhin o hanbai suru koto wa ihō desu.   | Relevant in legal discussions.                |\n",
    "| 64  | 出回る             | でまわる           | demawaru            | to appear on the market                | vi             | 新商品が出回りました。           | New products have appeared on the market. | Shin shōhin ga demawarimashita.           | Important in market discussions.              |\n",
    "| 65  | 喚起               | かんき             | kanki               | awakening / to awaken                  | n/vt           | 意識の喚起が重要です。           | Awakening awareness is important.         | Ishiki no kanki ga jūyō desu.             | Relevant in educational discussions.          |\n",
    "| 66  | 発覚               | はっかく           | hakkaku             | revelation / disclosure                | n/vi           | 問題が発覚しました。             | The issue has been revealed.              | Mondai ga hakkaku shimashita.             | Important in investigative contexts.          |\n",
    "| 67  | 促す               | うながす           | unagasu             | to prompt / to encourage               | vt             | 彼は参加を促しました。           | He encouraged participation.              | Kare wa sanka o unagashimashita.          | Relevant in motivational discussions.         |\n",
    "| 68  | オークション       | オークション       | ōkushon             | auction                                | n              | オークションに参加します。       | I will participate in the auction.        | Ōkushon ni sanka shimasu.                 | Common in sales discussions.                  |\n",
    "| 69  | タイヤ             | タイヤ             | taiya               | tire                                   | n              | タイヤを交換しました。           | I replaced the tire.                      | Taiya o kōkan shimashita.                 | Relevant in automotive discussions.           |\n",
    "| 70  | 固定               | こてい             | kotei               | fixation / to fix                      | n/vt/vi        | 収入を固定しました。             | I fixed the income.                       | Shūnyū o kotei shimashita.                | Important in financial discussions.           |\n",
    "| 71  | 転倒               | てんとう           | tentō               | falling down / to fall down            | n/vi           | 彼は転倒しました。               | He fell down.                             | Kare wa tentō shimashita.                 | Relevant in safety discussions.               |\n",
    "| 72  | 大惨事             | だいさんじ         | daisanjii           | catastrophe                            | n              | それは大惨事でした。             | It was a catastrophe.                     | Sore wa daisanjideshita.                  | Important in disaster management discussions. |\n",
    "| 73  | 留め具             | とめぐ             | tomegu              | clasp / fastener / catch               | n              | 留め具が壊れました。             | The clasp is broken.                      | Tomegu ga kowaremashita.                  | Relevant in discussions about design.         |\n",
    "| 74  | 事態               | じたい             | jitai               | situation / state of affairs           | n              | 事態が悪化しています。           | The situation is worsening.               | Jitai ga akka shiteimasu.                 | Important in crisis discussions.              |\n",
    "| 75  | 消費者             | しょうひしゃ       | shōhisha            | consumer                               | n              | 消費者の意見を聞きました。       | I heard the opinions of consumers.        | Shōhisha no iken o kikimashita.           | Relevant in market discussions.               |\n",
    "| 76  | 出品者             | しゅっぴんしゃ     | shuppinsha          | exhibitor / seller                     | n              | 出品者が商品を紹介しました。     | The exhibitor introduced the products.    | Shuppinsha ga shōhin o shōkai shimashita. | Important in sales discussions.               |\n",
    "| 77  | アカウント         | アカウント         | akaundo             | account                                | n              | アカウントを作成しました。       | I created an account.                     | Akaundo o sakusei shimashita.             | Common in online discussions.                 |\n",
    "| 78  | 削除               | さくじょ           | sakujo              | deletion / to delete                   | n/vt           | 不要なデータを削除しました。     | I deleted unnecessary data.               | Fuyō na dēta o sakujo shimashita.         | Important in data management.                 |\n",
    "| 79  | 掲載               | けいさい           | keisai              | publication / insertion                | n/vt           | 記事が掲載されました。           | The article has been published.           | Kiji ga keisai saremashita.               | Relevant in media discussions.                |\n",
    "| 80  | クッション         | クッション         | kusshon             | cushion / buffer                       | n              | クッションが必要です。           | A cushion is needed.                      | Kusshon ga hitsuyō desu.                  | Common in comfort discussions.                |\n",
    "| 81  | 根絶               | こんぜつ           | konzetsu            | eradication / extermination            | n/vt           | 病気の根絶が目標です。           | Eradicating the disease is the goal.      | Byōki no konzetsu ga mokuhyō desu.        | Important in health discussions.              |\n",
    "| 82  | 自ら               | みずから           | mizukara            | oneself / for one's self / voluntarily | n/adv          | 自ら行動する必要があります。     | You need to act for yourself.             | Mizukara kōdō suru hitsuyō ga arimasu.    | Common in self-reliance discussions.          |\n",
    "| 83  | 素材               | そざい             | sozai               | raw material / material                | n              | 良い素材が必要です。             | Good materials are needed.                | Yoi sozai ga hitsuyō desu.                | Important in production discussions.          |\n",
    "\n",
    "Let me know if you need any additional information!\n"
   ]
  },
  {
   "cell_type": "markdown",
   "metadata": {},
   "source": [
    "---"
   ]
  },
  {
   "cell_type": "markdown",
   "metadata": {},
   "source": [
    "# Conversation"
   ]
  },
  {
   "cell_type": "markdown",
   "metadata": {},
   "source": [
    "天気キャスター: 続 いて、 台 風 関 連 のニュースをお 伝 えします。\n",
    "    グアム 島 の東部で 発 生 した熱 帯 低 気 圧 が 発 達 し、\n",
    "    今日16 日 ( 水 )午前3時に 非 常 に 強 い 台 風 20 号 が\n",
    "    発 生 しました。 台 風 20 号 はゆっくりとしたスピードで\n",
    "    北 上 してくると予想され、 今 週 末 から 来 週 にかけて\n",
    "    日 本 列 島 に 上 陸 する見込みです。\n",
    "    今 週 末 には沖 縄 南 部 に 上 陸 し、 九 州 地 方 から\n",
    "    関 東 地 方 にかけての 広 い範囲で、 非 常 に 強 い 風 が吹く\n",
    "    可 能 性 が 高 く、 秋 の 大 型 連 休 のシルバーウィークと\n",
    "    ちょうど 重 なってしまうかもしれません。\n",
    "    台 風 の 接 近 にともない、太 平 洋 側 の地域では、強 風 と\n",
    "    ともに 大 雨 が降ることが予想されます。\n",
    "    また、 高 波 が 発 生 する 恐 れがありますので、\n",
    "    十 分 ご 注 意 ください。\n",
    "\n",
    "ワン:ええ、ずっと 雨 が 続 いてようやく晴れたかと 思 えば、\n",
    "    今度は 台 風 が来るの?\n",
    "    シルバーウィークにハイキングツアーを 申 し込んでいた\n",
    "    のに。 台 風 が来ても、 雨 が降っていなかったらツアーを\n",
    "    実施してくれないかなあ。\n",
    "\n",
    "安藤 :台 風 が来たら、ツアーは 中 止 されるに決まっていますよ。\n",
    "    交 通 機 関 はかなり 影 響 を受けそうですし、大人しく 家 で\n",
    "    過ごしたほうがよさそうですね。\n",
    "    \n",
    "ワン:そうですね。じゃあ、 家 で掃除でもしようかな。"
   ]
  },
  {
   "cell_type": "markdown",
   "metadata": {},
   "source": [
    "Here's the formatted table based on your new conversation, with the same structure as before:\n",
    "\n",
    "| Speaker        | Japanese (Hiragana)                                                                                                                                                                                                                              | Japanese (Kanji)                                                                                                                                                                                | English Translation                                                                                                                                                                                                            | Romaji                                                                                                                                                                                                                                 | Notes                                   |\n",
    "| -------------- | ------------------------------------------------------------------------------------------------------------------------------------------------------------------------------------------------------------------------------------------------ | ----------------------------------------------------------------------------------------------------------------------------------------------------------------------------------------------- | ------------------------------------------------------------------------------------------------------------------------------------------------------------------------------------------------------------------------------ | -------------------------------------------------------------------------------------------------------------------------------------------------------------------------------------------------------------------------------------- | --------------------------------------- |\n",
    "| 天気キャスター | つづいて、たいふうかんれんのにゅーすをおつたえします。ぐあむとうのとうぶではっせいしたねったい ていきあつがはったつし、きょう 16 にち（すい）ごぜん 3 じにひじょうにつよいたいふう 20 ごうがはっせいしました。                                   | 続いて、台風関連のニュースをお伝えします。グアム島の東部で発生した熱帯低気圧が発達し、今日 16 日（水）午前 3 時に非常に強い台風 20 号が発生しました。                                           | Next, I’ll provide news related to typhoons. A tropical depression that formed in the eastern part of Guam has developed into Typhoon No. 20, which formed today, the 16th, at 3 AM.                                           | Tsuzuite, taifū kanren no nyūsu wo otsutaemasu. Guam-tō no tōbu de hassei shita nettai teikiatsu ga hattatsu shi, kyō 16-nichi (sui) gozen 3-ji ni hijō ni tsuyoi taifū 20-gō ga hassei shimashita.                                    | Introducing a weather report.           |\n",
    "| 天気キャスター | たいふう 20 ごうはゆっくりとしたすぴーどでほくじょうしてくるとよそうされ、こんしゅうまつかららいしゅうにかけてにほんれっとうにじょうりくするみこみです。                                                                                         | 台風 20 号はゆっくりとしたスピードで北上してくると予想され、今週末から来週にかけて日本列島に上陸する見込みです。                                                                                | Typhoon No. 20 is expected to move north at a slow speed and is forecasted to land on the Japanese archipelago from this weekend to next week.                                                                                 | Taifū 20-gō wa yukkuri to shita supīdo de hokujō shite kuru to yosō sare, konshūmatsu kara raishū ni kakete Nihon rettō ni jōrikusuru mikomi desu.                                                                                     | Continuing the weather update.          |\n",
    "| 天気キャスター | こんしゅうまつにはおきなわなんぶにじょうりくし、きゅうしゅうちほうからかんとうちほうにかけてのひろいはんいで、ひじょうにつよいかぜがふくかのうせいがたかく、あきのおおがたれんきゅうのしるばーうぃーくとちょうどかさなってしまうかもしれません。 | 今週末には沖縄南部に上陸し、九州地方から関東地方にかけての広い範囲で、非常に強い風が吹く可能性が高く、秋の大型連休のシルバーウィークとちょうど重なってしまうかもしれません。                    | This weekend, it’s expected to land in the southern part of Okinawa, with a high possibility of very strong winds blowing across a wide area from Kyushu to the Kanto region, which may coincide with the Silver Week holiday. | Konshūmatsu ni wa Okinawa nanbu ni jōriku shi, Kyūshū chihō kara Kantō chihō ni kakete no hiroi han'i de, hijō ni tsuyoi kaze ga fuku kanōsei ga takaku, aki no ōgata renkyū no Shirubā Wīku to chōdo kasanatte shimau kamoshiremasen. | Warning about potential wind impacts.   |\n",
    "| 天気キャスター | たいふうのせっきんにともない、たいへいようがわのちいきでは、きょうふうとともにおおあめがふることがよそうされます。また、たかなみがはっせいするおそれがありますので、じゅうぶんごちゅういください。                                               | 台風の接近にともない、太平洋側の地域では、強風とともに大雨が降ることが予想されます。また、高波が発生する恐れがありますので、十分ご注意ください。                                                | With the approach of the typhoon, strong winds and heavy rain are expected in the Pacific region. Additionally, there’s a risk of high waves, so please take care.                                                             | Taifū no sekkin ni tomonai, Taiheiyōgawa no chiiki de wa, kyōfū to tomoni ōame ga furu koto ga yosō saremasu. Mata, takanami ga hassei suru osore ga arimasu node, jūbun go chūi kudasai.                                              | Final warnings and safety tips.         |\n",
    "| ワン           | ええ、ずっとあめがつづいてようやくはれたかとおもえば、こんどはたいふうがくるの?しるばーうぃーくにはいきんぐつあーをもうしこんでいたのに。たいふうがきても、あめがふっていなかったらつあーをじっししてくれないかなあ。                            | ええ、ずっと雨が続いてようやく晴れたかと思えば、今度は台風が来るの?シルバーウィークにハイキングツアーを申し込んでいたのに。台風が来ても、雨が降っていなかったらツアーを実施してくれないかなあ。 | Wow, after all that rain, just when I thought it finally cleared up, now a typhoon is coming? I had already signed up for a hiking tour during Silver Week. I hope they’ll still hold the tour if it doesn’t rain.             | Ee, zutto ame ga tsuzuite yōyaku hareta ka to omoeba, kondo wa taifū ga kuru no? Shirubā Wīku ni haikingu tsuā wo mōshikonde ita no ni. Taifū ga kite mo, ame ga futte inakattara tsuā wo jisshi shite kurenai kana.                   | Expressing concern about the tour.      |\n",
    "| 安藤           | たいふうがきたら、つあーはちゅうしされるにきまっていますよ。こうつうきかんはかなりえいきょうをうけそうですし、おとなしくいえですごしたほうがよさそうですね。                                                                                     | 台風が来たら、ツアーは中止されるに決まっていますよ。交通機関はかなり影響を受けそうですし、大人しく家で過ごしたほうがよさそうですね。                                                            | If a typhoon comes, the tour will definitely be canceled. Transportation will likely be significantly affected, so it seems better to stay quietly at home.                                                                    | Taifū ga kitara, tsuā wa chūshi sareru ni kimatte imasu yo. Kōtsū kikan wa kanari eikyō wo ukesō desu shi, otonashiku ie de sugoshita hō ga yosasō desu ne.                                                                            | Offering a realistic perspective.       |\n",
    "| ワン           | そうですね。じゃあ、いえでそうじでもしようかな。                                                                                                                                                                                                 | そうですね。じゃあ、家で掃除でもしようかな。                                                                                                                                                    | That’s true. Well then, I guess I’ll do some cleaning at home.                                                                                                                                                                 | Sō desu ne. Jaa, ie de sōji demo shiyou kana.                                                                                                                                                                                          | Concluding with a plan to stay indoors. |\n",
    "\n",
    "If you need further adjustments or have more conversations to format, just let me know!\n"
   ]
  },
  {
   "cell_type": "markdown",
   "metadata": {},
   "source": [
    "---"
   ]
  },
  {
   "cell_type": "markdown",
   "metadata": {},
   "source": [
    "# Grammar 1\n"
   ]
  },
  {
   "cell_type": "markdown",
   "metadata": {},
   "source": []
  },
  {
   "cell_type": "markdown",
   "metadata": {},
   "source": []
  },
  {
   "cell_type": "markdown",
   "metadata": {},
   "source": []
  },
  {
   "cell_type": "markdown",
   "metadata": {},
   "source": [
    "---\n",
    "---"
   ]
  },
  {
   "cell_type": "markdown",
   "metadata": {},
   "source": [
    "# Grammar 2\n"
   ]
  },
  {
   "cell_type": "markdown",
   "metadata": {},
   "source": []
  },
  {
   "cell_type": "markdown",
   "metadata": {},
   "source": []
  },
  {
   "cell_type": "markdown",
   "metadata": {},
   "source": []
  },
  {
   "cell_type": "markdown",
   "metadata": {},
   "source": [
    "---\n",
    "---"
   ]
  },
  {
   "cell_type": "markdown",
   "metadata": {},
   "source": [
    "# Grammar 3\n"
   ]
  },
  {
   "cell_type": "markdown",
   "metadata": {},
   "source": []
  },
  {
   "cell_type": "markdown",
   "metadata": {},
   "source": []
  },
  {
   "cell_type": "markdown",
   "metadata": {},
   "source": []
  },
  {
   "cell_type": "markdown",
   "metadata": {},
   "source": [
    "---\n",
    "---"
   ]
  },
  {
   "cell_type": "markdown",
   "metadata": {},
   "source": [
    "# Grammar 4\n"
   ]
  },
  {
   "cell_type": "markdown",
   "metadata": {},
   "source": []
  },
  {
   "cell_type": "markdown",
   "metadata": {},
   "source": []
  },
  {
   "cell_type": "markdown",
   "metadata": {},
   "source": []
  },
  {
   "cell_type": "markdown",
   "metadata": {},
   "source": [
    "---\n",
    "---"
   ]
  },
  {
   "cell_type": "markdown",
   "metadata": {},
   "source": [
    "# Grammar 5\n"
   ]
  },
  {
   "cell_type": "markdown",
   "metadata": {},
   "source": []
  },
  {
   "cell_type": "markdown",
   "metadata": {},
   "source": []
  },
  {
   "cell_type": "markdown",
   "metadata": {},
   "source": []
  },
  {
   "cell_type": "markdown",
   "metadata": {},
   "source": [
    "---\n",
    "---"
   ]
  },
  {
   "cell_type": "markdown",
   "metadata": {},
   "source": [
    "# Grammar 6\n"
   ]
  },
  {
   "cell_type": "markdown",
   "metadata": {},
   "source": []
  },
  {
   "cell_type": "markdown",
   "metadata": {},
   "source": []
  },
  {
   "cell_type": "markdown",
   "metadata": {},
   "source": []
  },
  {
   "cell_type": "markdown",
   "metadata": {},
   "source": [
    "---\n",
    "---"
   ]
  },
  {
   "cell_type": "markdown",
   "metadata": {},
   "source": [
    "# Grammar 7\n"
   ]
  },
  {
   "cell_type": "markdown",
   "metadata": {},
   "source": []
  },
  {
   "cell_type": "markdown",
   "metadata": {},
   "source": []
  },
  {
   "cell_type": "markdown",
   "metadata": {},
   "source": []
  },
  {
   "cell_type": "markdown",
   "metadata": {},
   "source": [
    "---\n",
    "---"
   ]
  },
  {
   "cell_type": "markdown",
   "metadata": {},
   "source": [
    "# Grammar 8\n"
   ]
  },
  {
   "cell_type": "markdown",
   "metadata": {},
   "source": []
  },
  {
   "cell_type": "markdown",
   "metadata": {},
   "source": []
  },
  {
   "cell_type": "markdown",
   "metadata": {},
   "source": []
  },
  {
   "cell_type": "markdown",
   "metadata": {},
   "source": [
    "---\n",
    "---"
   ]
  },
  {
   "cell_type": "markdown",
   "metadata": {},
   "source": [
    "# Grammar 9\n"
   ]
  },
  {
   "cell_type": "markdown",
   "metadata": {},
   "source": []
  },
  {
   "cell_type": "markdown",
   "metadata": {},
   "source": []
  },
  {
   "cell_type": "markdown",
   "metadata": {},
   "source": []
  },
  {
   "cell_type": "markdown",
   "metadata": {},
   "source": [
    "---\n",
    "---"
   ]
  },
  {
   "cell_type": "markdown",
   "metadata": {},
   "source": [
    "# Grammar 10\n"
   ]
  },
  {
   "cell_type": "markdown",
   "metadata": {},
   "source": []
  },
  {
   "cell_type": "markdown",
   "metadata": {},
   "source": []
  },
  {
   "cell_type": "markdown",
   "metadata": {},
   "source": []
  },
  {
   "cell_type": "markdown",
   "metadata": {},
   "source": [
    "---\n",
    "---"
   ]
  },
  {
   "cell_type": "markdown",
   "metadata": {},
   "source": [
    "# Grammar 11\n"
   ]
  },
  {
   "cell_type": "markdown",
   "metadata": {},
   "source": []
  },
  {
   "cell_type": "markdown",
   "metadata": {},
   "source": []
  },
  {
   "cell_type": "markdown",
   "metadata": {},
   "source": []
  },
  {
   "cell_type": "markdown",
   "metadata": {},
   "source": [
    "---\n",
    "---"
   ]
  },
  {
   "cell_type": "markdown",
   "metadata": {},
   "source": [
    "# Grammar 12\n"
   ]
  },
  {
   "cell_type": "markdown",
   "metadata": {},
   "source": []
  },
  {
   "cell_type": "markdown",
   "metadata": {},
   "source": []
  },
  {
   "cell_type": "markdown",
   "metadata": {},
   "source": []
  },
  {
   "cell_type": "markdown",
   "metadata": {},
   "source": [
    "---\n",
    "---"
   ]
  }
 ],
 "metadata": {
  "language_info": {
   "name": "python"
  }
 },
 "nbformat": 4,
 "nbformat_minor": 2
}
