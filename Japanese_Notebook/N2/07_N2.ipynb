{
 "cells": [
  {
   "cell_type": "markdown",
   "metadata": {},
   "source": [
    "# N2\n",
    "\n",
    "### 第 07 課 - そこは施設やサービスのよさがとても有名で、最高級の温泉旅館といっても過言ではないくらいです。\n",
    "\n",
    "### Lesson 07 - That hotel is very famous for its good facilities and service and it goes without saying that the hotel is one of the top class hot spring resorts.\n"
   ]
  },
  {
   "cell_type": "markdown",
   "metadata": {},
   "source": [
    "# Vocabulary"
   ]
  },
  {
   "cell_type": "markdown",
   "metadata": {},
   "source": [
    "    1.かぶしき 株式 n. stocks\n",
    "    2.とうし 投資 n./vi. investment/to invest\n",
    "    3.うむ 生む vt. to give birth/to produce\n",
    "    4.さっか 作家 n. writer/author\n",
    "    5.かごん 過言 n. exaggeration/overstatement\n",
    "    6.てんさい 天才 n. genius/prodigy\n",
    "    7.ささげる 捧げる vt. to devote/to give\n",
    "    8.ゴールデンタイム n. prime time\n",
    "    9.じかんたい 時間帯 n. time zone\n",
    "    10.じょうしき 常識 n. common sense/general knowledge\n",
    "    11.ひじょうしき 非常識 n./な -adj. lack of common sense/unreasonable/rude\n",
    "    12.ショック n./な-adj. shock/shocking\n",
    "    13.かんきゃく 観客 n. audience/spectator\n",
    "    14.ごかい 誤解 n./vt. misunderstanding/to misunderstand\n",
    "    15.かつやく 活躍 n./vi. success/to flourish/to do well\n",
    "    16.そうぞうりょく 創造力 n. creativity\n",
    "    17.けっこう 欠航 n./vi. flight or sailing cancellation/to cancel a flight or a sailing\n",
    "    18.しょうこ 証拠 n. evidence/proof\n",
    "    19.こんなん 困難 n./な-adj. difficulty/trouble/hardships/difficult/challenging\n",
    "    20.むきあう 向き合う vi. to face each other/to face(a problem, the reality, etc.)/to face up to\n",
    "    21.ささえる 支える vt. to support/to hold up/to bolster\n",
    "    22.セール n. bargain sale\n",
    "    23.キャンペーン n. campaign/promotion\n",
    "    24.てんねんおんせん 天然温泉 n. natural hot spring\n",
    "    25.さいこうきゅう 最高級 n. highest grade/top class\n"
   ]
  },
  {
   "cell_type": "markdown",
   "metadata": {},
   "source": [
    "    26.しせつ 施設 n. facility\n",
    "    27.リゾート n. resort\n",
    "    28.シャトルバス n. shuttle bus\n",
    "    29.テニスコート n. tennis court\n",
    "    30.プール n. swimming pool\n",
    "    31.めいしょう 名勝 n. scenic beauty/scenic spot\n",
    "    32.そう 宋 n. Song Dynasty (China)\n",
    "    33.しょもつ 書物 n. book\n",
    "    34.ひろびろ 広々 adv. spacious\n",
    "    35.せいじゃく 静寂 n./な-adj. silence/silent/quiet\n",
    "    36.おくぶかい 奥深い い-adj. deep/profound/abstruse\n",
    "    37.ふるびる 古びる vi. to become old/to have an antique (ancient)look\n",
    "    38.おもむき 趣 n. meaning/influence/appearance/taste\n",
    "    39.けいかん 景観 n. scenery\n",
    "    40.かねそなえる 兼ね備える vt. to have both/to combine\n",
    "    41.たき 滝 n. waterfall\n",
    "    42.かが 加賀 n. Kaga(an old province name for the area that is today the southern part of Ishikawa Prefecture)\n",
    "    43. はんしゅ 藩主 n. feudal lord\n",
    "    44.こうだい 広大 n./な-adj. immensity/vast/immense/infinite\n",
    "    45.しきち 敷地 n. site\n",
    "    46.ふんすい 噴水 n. fountain\n",
    "    47.げんぞん 現存 n./vi. existence/to exist/to live\n",
    "    48.ひょうじょう 表情 n. facial expression\n",
    "    49.しりょう 史料 n. historical records\n",
    "    50.てんじ 展示 n./vt. exhibition/display/to exhibit/to display\n"
   ]
  },
  {
   "cell_type": "markdown",
   "metadata": {},
   "source": [
    "    51.ろせんばす 路線バス n. transit bus\n",
    "    52.たしょう 多少 adv./n. somewhat/to some extent/a little/some/the quantity/the amount\n",
    "    53.せっかく adv. with considerable effort/kindly/long-awaited/precious\n",
    "    54.こごえる 凍える vi. to freeze/to be numb\n",
    "    55.そまつ 粗末 な-adj. crude/rough/humble\n",
    "    56.けってん 欠点 n. fault/weak point\n",
    "    57.コンテスト n. contest\n",
    "    58.どくせん 独占 n./vt. monopoly/to monopolize\n",
    "    59.こんざつ 混雑 n./vi. congestion/to congest/to be crowded\n",
    "    60.てる 照る vi. to shine\n",
    "    61.てれる 照れる vi. to be shy/to be bashful/to be embarrassed\n"
   ]
  },
  {
   "cell_type": "markdown",
   "metadata": {},
   "source": [
    "Here's the vocabulary table for the latest set of words you provided:\n",
    "\n",
    "| No. | Japanese (Kanji) | Hiragana         | Romaji        | English Translation                                | Part of Speech | Example Sentence (Japanese)            | Example Sentence (English)            | Example Sentence (Romaji)                   | Notes                                   |\n",
    "| --- | ---------------- | ---------------- | ------------- | -------------------------------------------------- | -------------- | -------------------------------------- | ------------------------------------- | ------------------------------------------- | --------------------------------------- |\n",
    "| 1   | 株式             | かぶしき         | kabushiki     | stocks                                             | n              | 株式市場が活況です。                   | The stock market is active.           | Kabushiki shijō ga kakkyō desu.             | Common in finance discussions.          |\n",
    "| 2   | 投資             | とうし           | tōshi         | investment/to invest                               | n/vi           | 投資は重要です。                       | Investment is important.              | Tōshi wa jūyō desu.                         | Relevant in economic contexts.          |\n",
    "| 3   | 生む             | うむ             | umu           | to give birth/to produce                           | vt             | 彼女は子供を生みました。               | She gave birth to a child.            | Kanojo wa kodomo o umimashita.              | Common in biological discussions.       |\n",
    "| 4   | 作家             | さっか           | sakka         | writer/author                                      | n              | 彼は有名な作家です。                   | He is a famous writer.                | Kare wa yūmei na sakka desu.                | Common in literary contexts.            |\n",
    "| 5   | 過言             | かごん           | kagon         | exaggeration/overstatement                         | n              | それは過言です。                       | That is an exaggeration.              | Sore wa kagon desu.                         | Relevant in discussions about claims.   |\n",
    "| 6   | 天才             | てんさい         | tensai        | genius/prodigy                                     | n              | 彼は天才です。                         | He is a genius.                       | Kare wa tensai desu.                        | Common in discussions about talent.     |\n",
    "| 7   | 捧げる           | ささげる         | sasageru      | to devote/to give                                  | vt             | 彼女はそのプロジェクトに捧げています。 | She devotes herself to that project.  | Kanojo wa sono purojekuto ni sasageteimasu. | Common in discussions of dedication.    |\n",
    "| 8   | ゴールデンタイム | ごーるでんたいむ | gōruden taimu | prime time                                         | n              | テレビのゴールデンタイムです。         | It's prime time on TV.                | Terebi no gōruden taimu desu.               | Relevant in media discussions.          |\n",
    "| 9   | 時間帯           | じかんたい       | jikantai      | time zone                                          | n              | 日本は UTC+9 の時間帯です。            | Japan is in the UTC+9 time zone.      | Nihon wa UTC+9 no jikantai desu.            | Important in global communication.      |\n",
    "| 10  | 常識             | じょうしき       | jōshiki       | common sense/general knowledge                     | n              | 常識を持って行動しましょう。           | Let's act with common sense.          | Jōshiki o motte kōdō shimashou.             | Relevant in social discussions.         |\n",
    "| 11  | 非常識           | ひじょうしき     | hijōshiki     | lack of common sense/unreasonable/rude             | n/na-adj       | 彼の行動は非常識です。                 | His behavior is unreasonable.         | Kare no kōdō wa hijōshiki desu.             | Important in discussions of behavior.   |\n",
    "| 12  | ショック         | しょっく         | shokku        | shock/shocking                                     | n/na-adj       | そのニュースにはショックでした。       | I was shocked by that news.           | Sono nyūsu ni wa shokku deshita.            | Common in emotional discussions.        |\n",
    "| 13  | 観客             | かんきゃく       | kankyaku      | audience/spectator                                 | n              | 観客が集まりました。                   | The audience gathered.                | Kankyaku ga atsumarimashita.                | Relevant in entertainment contexts.     |\n",
    "| 14  | 誤解             | ごかい           | gokai         | misunderstanding/to misunderstand                  | n/vt           | 誤解を解いてください。                 | Please clear up the misunderstanding. | Gokai o toite kudasai.                      | Common in communication discussions.    |\n",
    "| 15  | 活躍             | かつやく         | katsuyaku     | success/to flourish/to do well                     | n/vi           | 彼はビジネスで活躍しています。         | He is successful in business.         | Kare wa bijinesu de katsuyaku shiteimasu.   | Common in success discussions.          |\n",
    "| 16  | 創造力           | そうぞうりょく   | sōzōryoku     | creativity                                         | n              | 創造力が大切です。                     | Creativity is important.              | Sōzōryoku ga taisetsu desu.                 | Relevant in artistic discussions.       |\n",
    "| 17  | 欠航             | けっこう         | kekkō         | flight or sailing cancellation/to cancel           | n/vi           | フライトが欠航になりました。           | The flight was canceled.              | Furaito ga kekkō ni narimashita.            | Common in travel discussions.           |\n",
    "| 18  | 証拠             | しょうこ         | shōko         | evidence/proof                                     | n              | これは重要な証拠です。                 | This is important evidence.           | Kore wa jūyō na shōko desu.                 | Relevant in legal discussions.          |\n",
    "| 19  | 困難             | こんなん         | konnan        | difficulty/trouble/hardships/difficult/challenging | n/na-adj       | 彼は困難に直面しています。             | He is facing difficulties.            | Kare wa konnan ni chokumen shiteimasu.      | Important in discussions of challenges. |\n",
    "| 20  | 向き合う         | むきあう         | mukiau        | to face each other/to face (a problem)             | vi             | 問題に向き合う必要があります。         | We need to face the problem.          | Mondai ni mukiau hitsuyō ga arimasu.        | Relevant in personal development.       |\n",
    "| 21  | 支える           | ささえる         | sasaeru       | to support/to hold up/to bolster                   | vt             | 彼は私を支えてくれました。             | He supported me.                      | Kare wa watashi o sasaete kuremashita.      | Common in discussions of support.       |\n",
    "| 22  | セール           | セール           | sēru          | bargain sale                                       | n              | セールが始まります。                   | The sale is starting.                 | Sēru ga hajimarimasu.                       | Relevant in retail contexts.            |\n",
    "| 23  | キャンペーン     | キャンペーン     | kyampēn       | campaign/promotion                                 | n              | キャンペーンが行われています。         | A campaign is being held.             | Kyampēn ga okonawareteimasu.                | Common in marketing discussions.        |\n",
    "| 24  | 天然温泉         | てんねんおんせん | tennenonsen   | natural hot spring                                 | n              | 天然温泉に行きたいです。               | I want to go to a natural hot spring. | Tennenonsen ni ikitai desu.                 | Popular in travel discussions.          |\n",
    "| 25  | 最高級           | さいこうきゅう   | saikōkyū      | highest grade/top class                            | n              | これは最高級の製品です。               | This is a top-class product.          | Kore wa saikōkyū no seihin desu.            | Relevant in quality discussions.        |\n",
    "\n",
    "If you need any more information or help, feel free to ask!\n"
   ]
  },
  {
   "cell_type": "markdown",
   "metadata": {},
   "source": [
    "Here’s the vocabulary table for your latest list:\n",
    "\n",
    "| No. | Japanese (Kanji) | Hiragana     | Romaji       | English Translation                      | Part of Speech | Example Sentence (Japanese)        | Example Sentence (English)                 | Example Sentence (Romaji)                 | Notes                                       |\n",
    "| --- | ---------------- | ------------ | ------------ | ---------------------------------------- | -------------- | ---------------------------------- | ------------------------------------------ | ----------------------------------------- | ------------------------------------------- |\n",
    "| 26  | 施設             | しせつ       | shisetsu     | facility                                 | n              | 施設が新しくなりました。           | The facility has been renovated.           | Shisetsu ga atarashiku narimashita.       | Common in discussions about infrastructure. |\n",
    "| 27  | リゾート         | リゾート     | rizōto       | resort                                   | n              | 彼はリゾートで休暇を過ごしました。 | He spent his vacation at a resort.         | Kare wa rizōto de kyūka o sugoshimashita. | Popular in travel discussions.              |\n",
    "| 28  | シャトルバス     | シャトルバス | shatorubasu  | shuttle bus                              | n              | シャトルバスが運行しています。     | The shuttle bus is in operation.           | Shatorubasu ga un kō shiteimasu.          | Common in transportation discussions.       |\n",
    "| 29  | テニスコート     | テニスコート | tenisu kōto  | tennis court                             | n              | テニスコートで練習しています。     | I am practicing on the tennis court.       | Tenisu kōto de renshū shiteimasu.         | Relevant in sports discussions.             |\n",
    "| 30  | プール           | プール       | pūru         | swimming pool                            | n              | 夏にプールで泳ぎます。             | I swim in the pool in the summer.          | Natsu ni pūru de oyo gimasu.              | Common in recreational discussions.         |\n",
    "| 31  | 名勝             | めいしょう   | meishō       | scenic beauty/scenic spot                | n              | ここは名勝として知られています。   | This place is known for its scenic beauty. | Koko wa meishō to shite shirareteimasu.   | Relevant in tourism discussions.            |\n",
    "| 32  | 宋               | そう         | Sō           | Song Dynasty (China)                     | n              | 宋の時代は重要でした。             | The Song Dynasty was significant.          | Sō no jidai wa jūyō deshita.              | Important in historical discussions.        |\n",
    "| 33  | 書物             | しょもつ     | shomotsu     | book                                     | n              | 彼はたくさんの書物を持っています。 | He has many books.                         | Kare wa takusan no shomotsu o motteimasu. | Common in literary discussions.             |\n",
    "| 34  | 広々             | ひろびろ     | hirobiro     | spacious                                 | adv            | この部屋は広々としています。       | This room is spacious.                     | Kono heya wa hirobiro to shiteimasu.      | Relevant in real estate discussions.        |\n",
    "| 35  | 静寂             | せいじゃく   | seijaku      | silence/silent/quiet                     | n/na-adj       | 静寂な場所です。                   | It is a silent place.                      | Seijaku na basho desu.                    | Important in discussions of atmosphere.     |\n",
    "| 36  | 奥深い           | おくぶかい   | okubukai     | deep/profound/abstruse                   | i-adj          | その話は奥深いです。               | That story is profound.                    | Sono hanashi wa okubukai desu.            | Common in philosophical discussions.        |\n",
    "| 37  | 古びる           | ふるびる     | furubiru     | to become old/to have an antique look    | vi             | 家が古びています。                 | The house is becoming old.                 | Ie ga furubiteimasu.                      | Relevant in discussions of aging.           |\n",
    "| 38  | 趣               | おもむき     | omomuki      | meaning/influence/appearance/taste       | n              | その絵には趣があります。           | That painting has a special meaning.       | Sono e ni wa omomuki ga arimasu.          | Common in art discussions.                  |\n",
    "| 39  | 景観             | けいかん     | keikan       | scenery                                  | n              | ここからの景観が素晴らしいです。   | The scenery from here is wonderful.        | Koko kara no keikan ga subarashii desu.   | Relevant in environmental discussions.      |\n",
    "| 40  | 兼ね備える       | かねそなえる | kanesonaweru | to have both/to combine                  | vt             | 彼は多くの才能を兼ね備えています。 | He has many talents combined.              | Kare wa ōku no sainō o kanesonateimasu.   | Common in discussions of skills.            |\n",
    "| 41  | 滝               | たき         | taki         | waterfall                                | n              | この滝は美しいです。               | This waterfall is beautiful.               | Kono taki wa utsukushii desu.             | Common in nature discussions.               |\n",
    "| 42  | 加賀             | かが         | Kaga         | Kaga (an old province name)              | n              | 加賀は歴史的な場所です。           | Kaga is a historic place.                  | Kaga wa rekishiteki na basho desu.        | Important in regional history.              |\n",
    "| 43  | 藩主             | はんしゅ     | hanshu       | feudal lord                              | n              | 藩主は領地を管理していました。     | The feudal lord managed the territory.     | Hanshu wa ryōchi o kanri shiteimashita.   | Common in historical contexts.              |\n",
    "| 44  | 広大             | こうだい     | kōdai        | immensity/vast/immense/infinite          | n/na-adj       | 広大な土地があります。             | There is vast land.                        | Kōdai na tochi ga arimasu.                | Relevant in geography discussions.          |\n",
    "| 45  | 敷地             | しきち       | shikichi     | site                                     | n              | 敷地が広いです。                   | The site is spacious.                      | Shikichi ga hiroi desu.                   | Common in real estate discussions.          |\n",
    "| 46  | 噴水             | ふんすい     | funsui       | fountain                                 | n              | 噴水が公園にあります。             | There is a fountain in the park.           | Funsui ga kōen ni arimasu.                | Relevant in urban planning discussions.     |\n",
    "| 47  | 現存             | げんぞん     | genzon       | existence/to exist/to live               | n/vi           | 現存するものは少ないです。         | There are few existing things.             | Genzon suru mono wa sukunai desu.         | Important in historical preservation.       |\n",
    "| 48  | 表情             | ひょうじょう | hyōjō        | facial expression                        | n              | 彼女の表情は幸せそうです。         | Her facial expression looks happy.         | Kanojo no hyōjō wa shiawase sō desu.      | Common in discussions of emotions.          |\n",
    "| 49  | 史料             | しりょう     | shiryō       | historical records                       | n              | 史料を研究しています。             | I am studying historical records.          | Shiryō o kenkyū shiteimasu.               | Important in academic discussions.          |\n",
    "| 50  | 展示             | てんじ       | tenji        | exhibition/display/to exhibit/to display | n/vt           | 展示会に行きました。               | I went to the exhibition.                  | Tenjikai ni ikimashita.                   | Common in art and trade discussions.        |\n",
    "\n",
    "Feel free to let me know if you need more information or assistance!\n"
   ]
  },
  {
   "cell_type": "markdown",
   "metadata": {},
   "source": [
    "Here’s the vocabulary table for your latest list:\n",
    "\n",
    "| No. | Japanese (Kanji) | Hiragana   | Romaji     | English Translation                       | Part of Speech | Example Sentence (Japanese)      | Example Sentence (English)           | Example Sentence (Romaji)                  | Notes                                        |\n",
    "| --- | ---------------- | ---------- | ---------- | ----------------------------------------- | -------------- | -------------------------------- | ------------------------------------ | ------------------------------------------ | -------------------------------------------- |\n",
    "| 51  | 路線バス         | ろせんばす | rosen basu | transit bus                               | n              | 路線バスに乗ります。             | I will take the transit bus.         | Rosen basu ni norimasu.                    | Common in public transportation discussions. |\n",
    "| 52  | 多少             | たしょう   | tashō      | somewhat/to some extent/a little          | adv/n          | 多少お待ちください。             | Please wait a little.                | Tashō omachi kudasai.                      | Useful in polite requests.                   |\n",
    "| 53  | せっかく         | せっかく   | sekkaku    | with considerable effort/kindly           | adv            | せっかく来てくれたのに。         | You came all this way, but...        | Sekkaku kite kureta noni.                  | Often used to express disappointment.        |\n",
    "| 54  | 凍える           | こごえる   | kogoeru    | to freeze/to be numb                      | vi             | 寒さで凍えています。             | I am freezing from the cold.         | Samusa de kogoeteimasu.                    | Common in discussions about weather.         |\n",
    "| 55  | 粗末             | そまつ     | somatsu    | crude/rough/humble                        | na-adj         | 粗末な食事でした。               | It was a humble meal.                | Somatsu na shokuji deshita.                | Relevant in discussions of quality.          |\n",
    "| 56  | 欠点             | けってん   | ketten     | fault/weak point                          | n              | その計画には欠点があります。     | There are faults in that plan.       | Sono keikaku ni wa ketten ga arimasu.      | Important in evaluations and reviews.        |\n",
    "| 57  | コンテスト       | コンテスト | kontesuto  | contest                                   | n              | コンテストに参加します。         | I will participate in the contest.   | Kontesuto ni sanka shimasu.                | Common in discussions about competitions.    |\n",
    "| 58  | 独占             | どくせん   | dokusen    | monopoly/to monopolize                    | n/vt           | その会社は市場を独占しています。 | That company monopolizes the market. | Sono kaisha wa shijō o dokusen shiteimasu. | Relevant in economic discussions.            |\n",
    "| 59  | 混雑             | こんざつ   | konzatsu   | congestion/to congest/to be crowded       | n/vi           | 交通が混雑しています。           | The traffic is congested.            | Kōtsū ga konzatsu shiteimasu.              | Common in discussions about travel.          |\n",
    "| 60  | 照る             | てる       | teru       | to shine                                  | vi             | 太陽が照っています。             | The sun is shining.                  | Taiyō ga teru shiteimasu.                  | Common in weather-related conversations.     |\n",
    "| 61  | 照れる           | てれる     | teru       | to be shy/to be bashful/to be embarrassed | vi             | 彼は照れているようです。         | He seems shy.                        | Kare wa terete iru yō desu.                | Relevant in discussions about emotions.      |\n",
    "\n",
    "Let me know if you need anything else!\n"
   ]
  },
  {
   "cell_type": "markdown",
   "metadata": {},
   "source": [
    "---"
   ]
  },
  {
   "cell_type": "markdown",
   "metadata": {},
   "source": [
    "# Conversation"
   ]
  },
  {
   "cell_type": "markdown",
   "metadata": {},
   "source": [
    "ワン : 前 に 集 まった 時 、いつか 3 人 で 温 泉 旅 行 をしようという 話 を\n",
    "    しましたよね。 今日はせっかく 3 人 とも 揃 いましたし、\n",
    "    今 から 旅 館 を 調 べてみませんか。\n",
    "\n",
    "安 藤 :いいですね。\n",
    "\n",
    "大 島 : 温 泉 旅 館 といったら、やっぱりどこも 高 いのかな。\n",
    "\n",
    "ワン :すべてが 高 いとは 限 らないですが、天 然 温 泉 がついているものなら\n",
    "    普通の 旅 館 より 高 くなるのも 当 然 ですよね。\n",
    "\n",
    "安 藤 :たまにホテルの予約サイトで 温 泉 旅 館 のセールやキャンペーンを\n",
    "    やっているから、キャンペーン 中 だったら 安 く予約できるかもしれませんよ。\n",
    "\n",
    "ワン :そうですね。今 から見てみましょう。\n",
    "    あ、この「ロイリゾート」はどうですか。\n",
    "    今 はセール 中 で、1 泊 15000 円です。 温 泉 のほかに、プールや\n",
    "    テニスコートもあって、 宿 泊 する 人 は 無 料 で利用できるって\n",
    "    書いてあります。 無 料 シャトルバスもありますよ。\n",
    "\n",
    "安 藤 :ああ、ロイリゾートですね。\n",
    "\n",
    "大 島 :知ってるの?\n",
    "\n",
    "安 藤 :ええ。 施設やサービスのよさがとても 有 名 で、 最 高 級 の\n",
    "    温 泉 旅 館 といっても過言ではないと 思 いますよ。\n",
    "    普段は 1 泊 だいたい 3 万 円 ですから、この 旅 館 にしては、\n",
    "    その値段は 安 いほうですよ。\n",
    "\n",
    "大 島 :ええ、そうなんだ。でも、もうちょっと 安 いところはないかな...?\n",
    "\n",
    "ワン :えっと。 この「タケダ 旅 館 」もよさそうですね。 山 の 奥 のほうに\n",
    "    あって、とても 静 かな 旅 館 みたいです。ハイキングも出来ますし 温 泉\n",
    "    もあるので、のんびり出来ると 思 いますよ。\n",
    "\n",
    "大 島 :いいですね。そこはいくらなの?\n",
    "\n",
    "ワン :1 泊 8000 円 です。ただ、移 動 手 段 が...。\n",
    "\n",
    "安 藤 : 山 の 奥 なら、 電 車 やバスが 通 ってないでしょうね。\n",
    "\n",
    "ワン :ええ。 車 で行くほかないですね。 でも 3 人 とも 車 を持っていませんね...。\n",
    "\n",
    "安 藤 :もしそこにするようなら、 私 がレンタカーを借りますよ。\n",
    "\n",
    "大 島 :ええ、 本 当 ! いいね。 じゃあ、タケダ 旅 館 にしよう。"
   ]
  },
  {
   "cell_type": "markdown",
   "metadata": {},
   "source": [
    "Here’s the formatted table based on your conversation, without kanji in the Hiragana column:\n",
    "\n",
    "| Speaker | Japanese (Hiragana)                                                                                                                                                                                                                                                   | Japanese (Kanji)                                                                                                                                                                                                                      | English Translation                                                                                                                                                                                                                             | Romaji                                                                                                                                                                                                                                                           | Notes                                                        |\n",
    "| ------- | --------------------------------------------------------------------------------------------------------------------------------------------------------------------------------------------------------------------------------------------------------------------- | ------------------------------------------------------------------------------------------------------------------------------------------------------------------------------------------------------------------------------------- | ----------------------------------------------------------------------------------------------------------------------------------------------------------------------------------------------------------------------------------------------- | ---------------------------------------------------------------------------------------------------------------------------------------------------------------------------------------------------------------------------------------------------------------- | ------------------------------------------------------------ |\n",
    "| ワン    | まえにあつまったとき、いつか 3 にんでおんせんりょこうをしようというはなしをしましたよね。きょうはせっかく 3 にんともそろいましたし、いまからりょかんをしらべてみませんか。                                                                                            | 前に集まった時、いつか 3 人で温泉旅行をしようという話をしましたよね。今日はせっかく 3 人とも揃いましたし、今から旅館を調べてみませんか。                                                                                              | Remember when we met before and talked about going on a hot spring trip together someday? Now that all three of us are here, shall we look for a ryokan?                                                                                        | Mae ni atsumatta toki, itsuka san-nin de onsen ryokō wo shiyou to iu hanashi wo shimashita yo ne. Kyō wa sekkaku san-nin tomo soroimashita shi, ima kara ryokan wo shirabete mimasen ka.                                                                         | Initiating the discussion about a trip.                      |\n",
    "| 安藤    | いいですね。                                                                                                                                                                                                                                                          | いいですね。                                                                                                                                                                                                                          | That sounds good.                                                                                                                                                                                                                               | Ii desu ne.                                                                                                                                                                                                                                                      | Expressing agreement.                                        |\n",
    "| 大島    | おんせんりょかんといったら、やっぱりどこもたかいのかな。                                                                                                                                                                                                              | 温泉旅館といったら、やっぱりどこも高いのかな。                                                                                                                                                                                        | When it comes to hot spring inns, I wonder if they’re all expensive?                                                                                                                                                                            | Onsen ryokan to ittara, yappari doko mo takai no kana.                                                                                                                                                                                                           | Speculating about costs.                                     |\n",
    "| ワン    | すべてがたかいとはかぎらないですが、てんねんおんせんがついているものならふつうのりょかんよりたかくなるのもとうぜんですよね。                                                                                                                                          | すべてが高いとは限らないですが、天然温泉がついているものなら普通の旅館より高くなるのも当然ですよね。                                                                                                                                  | Not everything is expensive, but if it includes natural hot springs, it's natural that it would be pricier than a normal inn.                                                                                                                   | Subete ga takai to wa kagiranai desu ga, tennen onsen ga tsuite iru mono nara futsū no ryokan yori takaku naru no mo tōzen desu yo ne.                                                                                                                           | Clarifying that not all ryokans are expensive.               |\n",
    "| 安藤    | たまにホテルのよやくサイトでおんせんりょかんのせーるやきゃんぺーんをやっているから、きゃんぺーんちゅうだったらやすくよやくできるかもしれませんよ。                                                                                                                    | たまにホテルの予約サイトで温泉旅館のセールやキャンペーンをやっているから、キャンペーン中だったら安く予約できるかもしれませんよ。                                                                                                      | Sometimes, hotel booking sites have sales or campaigns for hot spring inns, so if there's a campaign, we might be able to book at a lower price.                                                                                                | Tamani hoteru no yoyaku saito de onsen ryokan no sēru ya kyampēn wo yatte iru kara, kyampēn chū dattara yasuku yoyaku dekiru kamoshiremasen yo.                                                                                                                  | Suggesting a way to find cheaper options.                    |\n",
    "| ワン    | そうですね。いまからみてみましょう。あ、この「ロイリゾート」はどうですか。いまはせーるちゅうで、1 ぱく 15000 えんです。おんせんのほかに、ぷーるやてにすこーとあって、しゅくはくするひとはむりょうでりようできるってかいてあります。むりょうしゃとるばすもありますよ。 | そうですね。今から見てみましょう。あ、この「ロイリゾート」はどうですか。今はセール中で、1 泊 15000 円です。温泉のほかに、プールやテニスコートもあって、宿泊する人は無料で利用できるって書いてあります。無料シャトルバスもありますよ。 | Sounds good. Let’s check it out now. How about this \"Roi Resort\"? It’s currently on sale for 15,000 yen per night. Besides the hot springs, it has a pool and tennis courts, and guests can use them for free. There's also a free shuttle bus. | Sō desu ne. Ima kara mite mimashou. A, kono \"Roi Rizōto\" wa dō desu ka. Ima wa sēru chū de, 1paku 15000 en desu. Onsen no hoka ni, pūru ya tenisu kōto mo atte, shukuhaku suru hito wa muryō de riyō dekiru tte kaite arimasu. Muryō shatoru basu mo arimasu yo. | Highlighting a potential option for the trip.                |\n",
    "| 安藤    | ああ、ロイリゾートですね。                                                                                                                                                                                                                                            | ああ、ロイリゾートですね。                                                                                                                                                                                                            | Ah, Roi Resort, right?                                                                                                                                                                                                                          | Aa, Roi Rizōto desu ne.                                                                                                                                                                                                                                          | Recognizing the place.                                       |\n",
    "| 大島    | しってるの?                                                                                                                                                                                                                                                           | 知ってるの?                                                                                                                                                                                                                           | Do you know it?                                                                                                                                                                                                                                 | Shitteru no?                                                                                                                                                                                                                                                     | Asking for confirmation.                                     |\n",
    "| 安藤    | ええ。しせつやさーびすのよさがとてもゆうめいで、さいこうきゅうのおんせんりょかんといってもかごんではないとおもいますよ。ふだんは 1 ぱくだいたい 3 まんえんですから、このりょかんにしては、そのねだんはやすいほうですよ。                                              | ええ。施設やサービスの良さがとても有名で、最高級の温泉旅館といっても過言ではないと思いますよ。普段は 1 泊だいたい 3 万円ですから、この旅館にしては、その値段は安い方ですよ。                                                          | Yes. The quality of the facilities and services is very famous, and I think it wouldn't be an exaggeration to say it's a top-class hot spring inn. Usually, it’s about 30,000 yen per night, so this price is relatively cheap for this inn.    | Ee. Shisetsu ya sābisu no yosa ga totemo yūmei de, saikōkyū no onsen ryokan to itte mo kagon de wa nai to omoimasu yo. Fudan wa 1 paku daitai 3-man en desu kara, kono ryokan ni shite wa, sono nedan wa yasui hō desu yo.                                       | Sharing information about the resort's reputation.           |\n",
    "| 大島    | ええ、そうなんだ。でも、もうちょっとやすいところはないかな...?                                                                                                                                                                                                        | ええ、そうなんだ。でも、もうちょっと安いところはないかな...?                                                                                                                                                                          | Oh, really? But I wonder if there’s a place that’s a bit cheaper...?                                                                                                                                                                            | Ee, sō nan da. Demo, mō chotto yasui tokoro wa nai kana...?                                                                                                                                                                                                      | Looking for cheaper alternatives.                            |\n",
    "| ワン    | えっと。この「タケダりょかん」もよさそうですね。やまの奥のほうにあって、とても静かなりょかんみたいです。ハイキングもできますしおんせんもあるので、のんびりできるとおもいますよ。                                                                                      | えっと。この「タケダ旅館」もよさそうですね。山の奥のほうにあって、とても静かな旅館みたいです。ハイキングもできますし温泉もあるので、のんびりできると思いますよ。                                                                      | Um, this \"Takeda Ryokan\" also looks nice. It seems to be located deep in the mountains and is very quiet. You can also go hiking and enjoy the hot springs, so I think it would be a relaxing stay.                                             | E tto. Kono \"Takeda Ryokan\" mo yosasou desu ne. Yama no oku no hō ni atte, totemo shizuka na ryokan mitai desu. Haikingu mo dekimasu shi onsen mo aru node, nonbiri dekiru to omoimasu yo.                                                                       | Suggesting another ryokan option.                            |\n",
    "| 大島    | いいですね。そこはいくらなの?                                                                                                                                                                                                                                         | いいですね。そこはいくらなの?                                                                                                                                                                                                         | That sounds good. How much is it?                                                                                                                                                                                                               | Ii desu ne. Soko wa ikura nano?                                                                                                                                                                                                                                  | Inquiring about the price.                                   |\n",
    "| ワン    | 1 ぱく 8000 えんです。ただ、いどうしゅだんが...。                                                                                                                                                                                                                     | 1 泊 8000 円です。ただ、移動手段が...。                                                                                                                                                                                               | It’s 8,000 yen per night. However, the transportation...                                                                                                                                                                                        | 1 paku 8000 en desu. Tada, idō shudan ga...                                                                                                                                                                                                                      | Sharing the cost but raising a concern about transportation. |\n",
    "| 安藤    | やまの奥なら、でんしゃやばすがとおってないでしょうね。                                                                                                                                                                                                                | 山の奥なら、電車やバスが通ってないでしょうね。                                                                                                                                                                                        | If it’s deep in the mountains, there probably aren’t any trains or buses running there.                                                                                                                                                         | Yama no oku nara, densha ya basu ga tōtte nai deshō ne.                                                                                                                                                                                                          | Noting transportation issues.                                |\n",
    "| ワン    | ええ。くるまでいくほかないですね。でも 3 にんともくるまをもっていませんね…。                                                                                                                                                                                          | ええ。車で行くほかないですね。でも 3 人とも車を持っていませんね…。                                                                                                                                                                    | Yes. We have no choice but to go by car. But none of us has a car...                                                                                                                                                                            | Ee. Kuruma de iku hoka nai desu ne. Demo san-nin tomo kuruma wo motte imasen ne...                                                                                                                                                                               | Acknowledging transportation constraints.                    |\n",
    "| 安藤    | もしそこにするようなら、わたしがれんたかーをかりますよ。                                                                                                                                                                                                              | もしそこにするようなら、私がレンタカーを借りますよ。                                                                                                                                                                                  | If we decide on that place, I can rent a car.                                                                                                                                                                                                   | Moshi soko ni suru yō nara, watashi ga rentakā wo karimasu yo.                                                                                                                                                                                                   | Offering a solution for transportation.                      |\n",
    "| 大島    | ええ、ほんとう!いいね。じゃあ、タケダりょかんにしよう。                                                                                                                                                                                                               | ええ、本当!いいね。じゃあ、タケダ旅館にしよう。                                                                                                                                                                                       | Oh, really! That sounds good. Then let's go with Takeda Ryokan.                                                                                                                                                                                 | Ee, hontō! Ii ne. Jaa, Takeda Ryokan ni shiyou.                                                                                                                                                                                                                  | Making a decision about the ryokan.                          |\n",
    "\n",
    "If you need any more changes or additions, feel free to ask!\n"
   ]
  },
  {
   "cell_type": "markdown",
   "metadata": {},
   "source": [
    "---"
   ]
  },
  {
   "cell_type": "markdown",
   "metadata": {},
   "source": [
    "# Grammar 1\n"
   ]
  },
  {
   "cell_type": "markdown",
   "metadata": {},
   "source": []
  },
  {
   "cell_type": "markdown",
   "metadata": {},
   "source": []
  },
  {
   "cell_type": "markdown",
   "metadata": {},
   "source": []
  },
  {
   "cell_type": "markdown",
   "metadata": {},
   "source": [
    "---\n",
    "---"
   ]
  },
  {
   "cell_type": "markdown",
   "metadata": {},
   "source": [
    "# Grammar 2\n"
   ]
  },
  {
   "cell_type": "markdown",
   "metadata": {},
   "source": []
  },
  {
   "cell_type": "markdown",
   "metadata": {},
   "source": []
  },
  {
   "cell_type": "markdown",
   "metadata": {},
   "source": []
  },
  {
   "cell_type": "markdown",
   "metadata": {},
   "source": [
    "---\n",
    "---"
   ]
  },
  {
   "cell_type": "markdown",
   "metadata": {},
   "source": [
    "# Grammar 3\n"
   ]
  },
  {
   "cell_type": "markdown",
   "metadata": {},
   "source": []
  },
  {
   "cell_type": "markdown",
   "metadata": {},
   "source": []
  },
  {
   "cell_type": "markdown",
   "metadata": {},
   "source": []
  },
  {
   "cell_type": "markdown",
   "metadata": {},
   "source": [
    "---\n",
    "---"
   ]
  },
  {
   "cell_type": "markdown",
   "metadata": {},
   "source": [
    "# Grammar 4\n"
   ]
  },
  {
   "cell_type": "markdown",
   "metadata": {},
   "source": []
  },
  {
   "cell_type": "markdown",
   "metadata": {},
   "source": []
  },
  {
   "cell_type": "markdown",
   "metadata": {},
   "source": []
  },
  {
   "cell_type": "markdown",
   "metadata": {},
   "source": [
    "---\n",
    "---"
   ]
  },
  {
   "cell_type": "markdown",
   "metadata": {},
   "source": [
    "# Grammar 5\n"
   ]
  },
  {
   "cell_type": "markdown",
   "metadata": {},
   "source": []
  },
  {
   "cell_type": "markdown",
   "metadata": {},
   "source": []
  },
  {
   "cell_type": "markdown",
   "metadata": {},
   "source": []
  },
  {
   "cell_type": "markdown",
   "metadata": {},
   "source": [
    "---\n",
    "---"
   ]
  },
  {
   "cell_type": "markdown",
   "metadata": {},
   "source": [
    "# Grammar 6\n"
   ]
  },
  {
   "cell_type": "markdown",
   "metadata": {},
   "source": []
  },
  {
   "cell_type": "markdown",
   "metadata": {},
   "source": []
  },
  {
   "cell_type": "markdown",
   "metadata": {},
   "source": []
  },
  {
   "cell_type": "markdown",
   "metadata": {},
   "source": [
    "---\n",
    "---"
   ]
  },
  {
   "cell_type": "markdown",
   "metadata": {},
   "source": [
    "# Grammar 7\n"
   ]
  },
  {
   "cell_type": "markdown",
   "metadata": {},
   "source": []
  },
  {
   "cell_type": "markdown",
   "metadata": {},
   "source": []
  },
  {
   "cell_type": "markdown",
   "metadata": {},
   "source": []
  },
  {
   "cell_type": "markdown",
   "metadata": {},
   "source": [
    "---\n",
    "---"
   ]
  },
  {
   "cell_type": "markdown",
   "metadata": {},
   "source": [
    "# Grammar 8\n"
   ]
  },
  {
   "cell_type": "markdown",
   "metadata": {},
   "source": []
  },
  {
   "cell_type": "markdown",
   "metadata": {},
   "source": []
  },
  {
   "cell_type": "markdown",
   "metadata": {},
   "source": []
  },
  {
   "cell_type": "markdown",
   "metadata": {},
   "source": [
    "---\n",
    "---"
   ]
  },
  {
   "cell_type": "markdown",
   "metadata": {},
   "source": [
    "# Grammar 9\n"
   ]
  },
  {
   "cell_type": "markdown",
   "metadata": {},
   "source": []
  },
  {
   "cell_type": "markdown",
   "metadata": {},
   "source": []
  },
  {
   "cell_type": "markdown",
   "metadata": {},
   "source": []
  },
  {
   "cell_type": "markdown",
   "metadata": {},
   "source": [
    "---\n",
    "---"
   ]
  },
  {
   "cell_type": "markdown",
   "metadata": {},
   "source": [
    "# Grammar 10\n"
   ]
  },
  {
   "cell_type": "markdown",
   "metadata": {},
   "source": []
  },
  {
   "cell_type": "markdown",
   "metadata": {},
   "source": []
  },
  {
   "cell_type": "markdown",
   "metadata": {},
   "source": []
  },
  {
   "cell_type": "markdown",
   "metadata": {},
   "source": [
    "---\n",
    "---"
   ]
  },
  {
   "cell_type": "markdown",
   "metadata": {},
   "source": [
    "# Grammar 11\n"
   ]
  },
  {
   "cell_type": "markdown",
   "metadata": {},
   "source": []
  },
  {
   "cell_type": "markdown",
   "metadata": {},
   "source": []
  },
  {
   "cell_type": "markdown",
   "metadata": {},
   "source": []
  },
  {
   "cell_type": "markdown",
   "metadata": {},
   "source": [
    "---\n",
    "---"
   ]
  },
  {
   "cell_type": "markdown",
   "metadata": {},
   "source": [
    "# Grammar 12\n"
   ]
  },
  {
   "cell_type": "markdown",
   "metadata": {},
   "source": []
  },
  {
   "cell_type": "markdown",
   "metadata": {},
   "source": []
  },
  {
   "cell_type": "markdown",
   "metadata": {},
   "source": []
  },
  {
   "cell_type": "markdown",
   "metadata": {},
   "source": [
    "---\n",
    "---"
   ]
  }
 ],
 "metadata": {
  "language_info": {
   "name": "python"
  }
 },
 "nbformat": 4,
 "nbformat_minor": 2
}
