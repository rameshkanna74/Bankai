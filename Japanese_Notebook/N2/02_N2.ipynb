{
 "cells": [
  {
   "cell_type": "markdown",
   "metadata": {},
   "source": [
    "# N2\n",
    "\n",
    "### 第 02 課 - あそこは事前登録してからでないと利用できないよ。\n",
    "\n",
    "### Lesson 02 - If you don't register in advance, you can't use it.\n"
   ]
  },
  {
   "cell_type": "markdown",
   "metadata": {},
   "source": [
    "# Vocabulary"
   ]
  },
  {
   "cell_type": "markdown",
   "metadata": {},
   "source": [
    "    1.しょうこ 証拠 n. evidence\n",
    "    2.つかむ 掴む vt. to catch/to seize/to grip\n",
    "    3.ようぎしゃ 容疑者 n. suspect/person under suspicion\n",
    "    4.たいほ 逮捕 n./vt. arrest/to arrest\n",
    "    5.ちゅうりん 駐輪 n./vi. parking a bicycle/to park a bicycle\n",
    "    6.ちゅうりんじょう 駐輪場 n. parking lot (for bicycles)\n",
    "    7.じゅんちょう 順調 な-adj. favorable/satisfactory/smooth\n",
    "    8.いはん 違反 n./vi. violation/to violate/to offend (against the rules)\n",
    "    9.はりがみ 貼(り)紙 n. poster/sticker/notice\n",
    "    10.シール n. sticker\n",
    "    11.きょか 許可 n./vt. permission/to permit/to allow\n",
    "    12.すすめる 薦める vt. to recommend\n",
    "    13.かぎる 限る vi. to be limited\n",
    "    14.はんがく 半額 n. half price\n",
    "    15.がくわり 学割 n. student discount\n",
    "    16.がくれき 学歴 n. educational background/academic background\n",
    "    17.せつやく 節約 n./vt. saving/to save (time, money)\n",
    "    18.ゆうこう 有効 n./な-adj. valid/effective\n",
    "    19.むこう 無効 n./な-adj. invalid/ineffective\n",
    "    20.じょうひん 上品 な-adj. elegant/refined/sophisticated\n",
    "    21.げひん 下品 な-adj. vulgar\n",
    "    22.まし な-adj. better (although it's not the best)\n",
    "    23.そうぞうしい 騒々しい い-adj. noisy\n",
    "    24.ひとしい 等しい い-adj. equal\n",
    "    25.ばっきん 罰金 n. fine/penalty\n"
   ]
  },
  {
   "cell_type": "markdown",
   "metadata": {},
   "source": [
    "    26.ふくそう 服装 n. clothes/the style of dress\n",
    "    27.パフォーマンス n. performance\n",
    "    28.ピーマン n. green pepper\n",
    "    29.せきにん 責任 n. responsibility\n",
    "    30.がいこうかん 外交官 n. diplomat\n",
    "    31.まさに adv. exactly/just\n",
    "    32.あらた 新た な-adj. new/renewed\n",
    "    33.ごうか 豪華 な-adj. luxurious/gorgeous\n",
    "    34.げんじゅう 厳重 な-adj. severe/strict\n",
    "    35.こうりつ 効率 n. efficiency\n",
    "    36.けいやく 契約 n. contract/agreement\n",
    "    37.かかわる 関わる vi. to be affected/to be concerned with/to be involved\n",
    "    38.ふざい 不在 n. absence\n",
    "    39.ようけん 用件 n. business/matters of business\n",
    "    40.しじょう 市場 n. market\n",
    "    41.しんしゅつ 進出 n./vi. advance/to advance/to go (into)\n",
    "    42.もともと adv. originally/from the start\n",
    "    43.やね 屋根 n. roof\n",
    "    44.ぴかぴか な-adj./adv. sparkling/glittering/shiny\n",
    "    45.とりあえず adv. for the time being/first of all\n",
    "    46.バイク n. motorcycle\n",
    "    47.りょうしょう 了承 n./vt. agreement/permission/to approve/to accept\n",
    "    48.ちょうかりょうきん 超過料金 n. excess charge\n",
    "    49.たんい 単位 n. unit/academic credit\n",
    "    50.ていき 定期 n. fixed period/term/season ticket"
   ]
  },
  {
   "cell_type": "markdown",
   "metadata": {},
   "source": [
    "    51.のぞく 除く vt. to eliminate/to exclude\n",
    "    52.のみ adv. only\n",
    "    53.にゅうじょう 入場 n./vi. admission/entrance/to be admitted/to enter\n",
    "    54.くべつ 区別 n./vt. distinction/to distinguish\n",
    "    55.ほうち 放置 n./vt. neglect/to neglect/to leave something as it is\n",
    "    56.ぼうし 防止 n./vt. prevention/to prevent\n",
    "    57.おう 負う vt. to bear/to take responsibility for\n",
    "    58.はそん 破損 n./vi./vt. damage/to be damaged/to damage\n",
    "    59.キャンペーン n. campaign/promotion\n",
    "    60.まどぐち 窓口 n. help desk/point of contact/service counter\n",
    "    61.あわただしい 慌しい い-adj. busy/hurried/hectic\n",
    "    62.きよう 器用 な-adj. skilled/handy/good with hands\n",
    "    63.ごういん 強引 な-adj. overbearing/pushy/forcible\n",
    "    64.ようき 陽気 な-adj. cheerful/merry\n",
    "    65.めいかく 明確 な-adj. clear/precise\n",
    "    66.くぎる 区切る vt. to split up/to separate/to divide/to mark off (by a comma)\n",
    "    67.あてはまる 当てはまる vi. to be applicable\n",
    "    68.てがかり 手がかり n. clue\n"
   ]
  },
  {
   "cell_type": "markdown",
   "metadata": {},
   "source": [
    "Sure! Here’s the formatted table for the vocabulary you provided:\n",
    "\n",
    "| No. | Japanese (Kanji) | Hiragana         | Romaji    | English Translation        | Part of Speech    | Example Sentence (Japanese)  | Example Sentence (English)               | Example Sentence (Romaji)            | Notes                                     |\n",
    "| --- | ---------------- | ---------------- | --------- | -------------------------- | ----------------- | ---------------------------- | ---------------------------------------- | ------------------------------------ | ----------------------------------------- |\n",
    "| 1   | 証拠             | しょうこ         | shōko     | evidence                   | noun              | 彼は証拠を見せました。       | He showed evidence.                      | Kare wa shōko o misemashita.         | Used in legal contexts                    |\n",
    "| 2   | 掴む             | つかむ           | tsukamu   | to catch/seize             | verb              | 彼はボールを掴みました。     | He caught the ball.                      | Kare wa bōru o tsukamimashita.       | Can refer to physical or abstract seizing |\n",
    "| 3   | 容疑者           | ようぎしゃ       | yōgisha   | suspect                    | noun              | 容疑者が逮捕されました。     | The suspect was arrested.                | Yōgisha ga taiho saremashita.        | Common in crime-related discussions       |\n",
    "| 4   | 逮捕             | たいほ           | taiho     | arrest                     | noun/verb         | 警察が逮捕しました。         | The police made an arrest.               | Keisatsu ga taiho shimashita.        | Important in law enforcement context      |\n",
    "| 5   | 駐輪             | ちゅうりん       | chūrin    | parking a bicycle          | noun/verb         | ここで駐輪できます。         | You can park your bicycle here.          | Koko de chūrin dekimasu.             | Specific to bicycles                      |\n",
    "| 6   | 駐輪場           | ちゅうりんじょう | chūrinjō  | parking lot (for bicycles) | noun              | 駐輪場はあちらです。         | The bicycle parking lot is over there.   | Chūrinjō wa achira desu.             | Designated area for bicycles              |\n",
    "| 7   | 順調             | じゅんちょう     | junchō    | favorable/satisfactory     | na-adjective      | 仕事は順調に進んでいます。   | The work is progressing smoothly.        | Shigoto wa junchō ni sundeimasu.     | Often used to describe progress           |\n",
    "| 8   | 違反             | いはん           | ihan      | violation                  | noun/verb         | 彼は違反をしました。         | He committed a violation.                | Kare wa ihan o shimashita.           | Relates to rules and laws                 |\n",
    "| 9   | 貼(り)紙         | はりがみ         | harigami  | poster/sticker/notice      | noun              | 貼り紙が貼ってあります。     | There is a poster stuck up.              | Harigami ga hatte arimasu.           | Used for public notices                   |\n",
    "| 10  | シール           | シール           | shīru     | sticker                    | noun              | シールを貼ってください。     | Please put on the sticker.               | Shīru o hatte kudasai.               | Commonly used for labels                  |\n",
    "| 11  | 許可             | きょか           | kyoka     | permission                 | noun/verb         | それには許可が必要です。     | Permission is needed for that.           | Sore ni wa kyoka ga hitsuyō desu.    | Important in formal contexts              |\n",
    "| 12  | 薦める           | すすめる         | susumeru  | to recommend               | verb              | 彼女を薦めます。             | I recommend her.                         | Kanojo o susumemasu.                 | Used in suggesting something              |\n",
    "| 13  | 限る             | かぎる           | kagiru    | to be limited              | verb              | 時間が限られています。       | Time is limited.                         | Jikan ga kagirareteimasu.            | Often used for restrictions               |\n",
    "| 14  | 半額             | はんがく         | hangaku   | half price                 | noun              | 半額セールがあります。       | There is a half-price sale.              | Hangaku sēru ga arimasu.             | Common in shopping contexts               |\n",
    "| 15  | 学割             | がくわり         | gakuwari  | student discount           | noun              | 学割を使いました。           | I used the student discount.             | Gakuwari o tsukaimashita.            | Popular among students                    |\n",
    "| 16  | 学歴             | がくれき         | gakureki  | educational background     | noun              | 彼の学歴は素晴らしいです。   | His educational background is excellent. | Kare no gakureki wa subarashii desu. | Relevant for job applications             |\n",
    "| 17  | 節約             | せつやく         | setsuyaku | saving                     | noun/verb         | 節約が大切です。             | Saving is important.                     | Setsuyaku ga taisetsu desu.          | Often discussed in finance                |\n",
    "| 18  | 有効             | ゆうこう         | yūkō      | valid/effective            | noun/na-adjective | このクーポンは有効です。     | This coupon is valid.                    | Kono kūpon wa yūkō desu.             | Important in various contexts             |\n",
    "| 19  | 無効             | むこう           | mukō      | invalid/ineffective        | noun/na-adjective | この契約は無効です。         | This contract is invalid.                | Kono keiyaku wa mukō desu.           | Used in legal discussions                 |\n",
    "| 20  | 上品             | じょうひん       | jōhin     | elegant/refined            | na-adjective      | 彼女は上品な人です。         | She is an elegant person.                | Kanojo wa jōhin na hito desu.        | Describes sophistication                  |\n",
    "| 21  | 下品             | げひん           | gehin     | vulgar                     | na-adjective      | その言葉は下品です。         | That word is vulgar.                     | Sono kotoba wa gehin desu.           | Used to describe bad taste                |\n",
    "| 22  | まし             | まし             | mashi     | better                     | na-adjective      | それはマシです。             | That is better.                          | Sore wa mashi desu.                  | Implies a comparison                      |\n",
    "| 23  | 騒々しい         | そうぞうしい     | sōzōshii  | noisy                      | i-adjective       | この場所は騒々しいです。     | This place is noisy.                     | Kono basho wa sōzōshii desu.         | Describes sound level                     |\n",
    "| 24  | 等しい           | ひとしい         | hitoshii  | equal                      | i-adjective       | 彼らは等しい権利があります。 | They have equal rights.                  | Karera wa hitoshii kenri ga arimasu. | Used in comparisons                       |\n",
    "| 25  | 罰金             | ばっきん         | bakkin    | fine/penalty               | noun              | 違反には罰金が科せられます。 | A fine will be imposed for violations.   | Ihan ni wa bakkin ga kaseraremasu.   | Related to legal penalties                |\n",
    "\n",
    "Feel free to ask if you need more information or adjustments!\n"
   ]
  },
  {
   "cell_type": "markdown",
   "metadata": {},
   "source": [
    "Here’s the formatted table for the additional vocabulary:\n",
    "\n",
    "| No. | Japanese (Kanji) | Hiragana           | Romaji      | English Translation          | Part of Speech    | Example Sentence (Japanese)            | Example Sentence (English)                  | Example Sentence (Romaji)                  | Notes                                           |\n",
    "| --- | ---------------- | ------------------ | ----------- | ---------------------------- | ----------------- | -------------------------------------- | ------------------------------------------- | ------------------------------------------ | ----------------------------------------------- |\n",
    "| 26  | 服装             | ふくそう           | fukusō      | clothes/style of dress       | noun              | 彼の服装はとてもおしゃれです。         | His clothes are very stylish.               | Kare no fukusō wa totemo oshare desu.      | Refers to attire and fashion                    |\n",
    "| 27  | パフォーマンス   | パフォーマンス     | pafōmansu   | performance                  | noun              | 彼女のパフォーマンスは素晴らしかった。 | Her performance was wonderful.              | Kanojo no pafōmansu wa subarashikatta.     | Common in arts and sports                       |\n",
    "| 28  | ピーマン         | ピーマン           | pīman       | green pepper                 | noun              | ピーマンが好きですか？                 | Do you like green peppers?                  | Pīman ga suki desu ka?                     | Common vegetable                                |\n",
    "| 29  | 責任             | せきにん           | sekinin     | responsibility               | noun              | 彼には責任があります。                 | He has responsibilities.                    | Kare ni wa sekinin ga arimasu.             | Important in personal and professional contexts |\n",
    "| 30  | 外交官           | がいこうかん       | gaikōkan    | diplomat                     | noun              | 彼は外交官です。                       | He is a diplomat.                           | Kare wa gaikōkan desu.                     | Involved in international relations             |\n",
    "| 31  | まさに           | まさに             | masani      | exactly/just                 | adverb            | まさにその通りです。                   | That is exactly right.                      | Masani sono tōri desu.                     | Used for emphasis                               |\n",
    "| 32  | 新た             | あらた             | arata       | new/renewed                  | na-adjective      | 新たな挑戦が待っています。             | A new challenge awaits.                     | Arata na chōsen ga matteimasu.             | Refers to freshness or novelty                  |\n",
    "| 33  | 豪華             | ごうか             | gōka        | luxurious/gorgeous           | na-adjective      | 豪華なホテルに泊まりました。           | I stayed at a luxurious hotel.              | Gōka na hoteru ni tomarimashita.           | Describes opulence                              |\n",
    "| 34  | 厳重             | げんじゅう         | genjū       | severe/strict                | na-adjective      | 厳重な管理が必要です。                 | Strict management is necessary.             | Genjū na kanri ga hitsuyō desu.            | Often relates to security                       |\n",
    "| 35  | 効率             | こうりつ           | kōritsu     | efficiency                   | noun              | 効率を上げる方法を考えています。       | I’m thinking of ways to improve efficiency. | Kōritsu o ageru hōhō o kangaeteimasu.      | Important in business contexts                  |\n",
    "| 36  | 契約             | けいやく           | keiyaku     | contract/agreement           | noun              | 契約を結びました。                     | I made a contract.                          | Keiyaku o musubimashita.                   | Legal binding document                          |\n",
    "| 37  | 関わる           | かかわる           | kakawaru    | to be affected/concerned     | verb              | 彼の仕事に関わっています。             | I am involved in his work.                  | Kare no shigoto ni kakawatteimasu.         | Implies involvement                             |\n",
    "| 38  | 不在             | ふざい             | fuzai       | absence                      | noun              | 彼は不在です。                         | He is absent.                               | Kare wa fuzai desu.                        | Indicates someone is not present                |\n",
    "| 39  | 用件             | ようけん           | yōken       | business/matters of business | noun              | 用件は何ですか？                       | What is the business matter?                | Yōken wa nan desu ka?                      | Often used in professional contexts             |\n",
    "| 40  | 市場             | しじょう           | shijō       | market                       | noun              | 市場は賑わっています。                 | The market is bustling.                     | Shijō wa nigiwatteimasu.                   | Refers to economic areas                        |\n",
    "| 41  | 進出             | しんしゅつ         | shinshutsu  | advance/to advance           | noun/verb         | 海外に進出したいです。                 | I want to advance overseas.                 | Kaigai ni shinshutsu shitai desu.          | Common in business expansion                    |\n",
    "| 42  | もともと         | もともと           | motomoto    | originally/from the start    | adverb            | もともと私はここに住んでいました。     | I originally lived here.                    | Motomoto watashi wa koko ni sundeimashita. | Indicates origin                                |\n",
    "| 43  | 屋根             | やね               | yane        | roof                         | noun              | 屋根が壊れています。                   | The roof is broken.                         | Yane ga kowareteimasu.                     | Important in construction                       |\n",
    "| 44  | ぴかぴか         | ぴかぴか           | pikapika    | sparkling/glittering/shiny   | na-adjective/adv. | ぴかぴかの車が好きです。               | I like shiny cars.                          | Pikapika no kuruma ga suki desu.           | Describes cleanliness or shine                  |\n",
    "| 45  | とりあえず       | とりあえず         | toriaezu    | for the time being           | adverb            | とりあえず待ちましょう。               | Let's wait for the time being.              | Toriaezu machimashou.                      | Implies temporary action                        |\n",
    "| 46  | バイク           | バイク             | baiku       | motorcycle                   | noun              | バイクが好きです。                     | I like motorcycles.                         | Baiku ga suki desu.                        | Common form of transportation                   |\n",
    "| 47  | 了承             | りょうしょう       | ryōshō      | agreement/permission         | noun/verb         | 了承を得ました。                       | I got permission.                           | Ryōshō o emashita.                         | Used in formal agreements                       |\n",
    "| 48  | 超過料金         | ちょうかりょうきん | chōkaryōkin | excess charge                | noun              | 超過料金がかかります。                 | An excess charge will apply.                | Chōkaryōkin ga kakarimasu.                 | Relevant in finance contexts                    |\n",
    "| 49  | 単位             | たんい             | tan'i       | unit/academic credit         | noun              | これは単位です。                       | This is a unit.                             | Kore wa tan'i desu.                        | Common in education                             |\n",
    "| 50  | 定期             | ていき             | teiki       | fixed period/season ticket   | noun              | 定期券を買いました。                   | I bought a season ticket.                   | Teikiken o kaimashita.                     | Related to travel and transport                 |\n",
    "\n",
    "If you need anything else or further elaboration, just let me know!\n"
   ]
  },
  {
   "cell_type": "markdown",
   "metadata": {},
   "source": [
    "Here’s the formatted table for the next set of vocabulary:\n",
    "\n",
    "| No. | Japanese (Kanji) | Hiragana     | Romaji      | English Translation                 | Part of Speech | Example Sentence (Japanese)  | Example Sentence (English)          | Example Sentence (Romaji)           | Notes                          |\n",
    "| --- | ---------------- | ------------ | ----------- | ----------------------------------- | -------------- | ---------------------------- | ----------------------------------- | ----------------------------------- | ------------------------------ |\n",
    "| 51  | 除く             | のぞく       | nozoku      | to eliminate/exclude                | verb           | 不要なものを除きました。     | I eliminated unnecessary things.    | Fuyō na mono o nozokimashita.       | Common in cleaning contexts    |\n",
    "| 52  | のみ             | のみ         | nomi        | only                                | adverb         | 大人のみ入場できます。       | Only adults can enter.              | Otona nomi nyūjō dekimasu.          | Used for exclusivity           |\n",
    "| 53  | 入場             | にゅうじょう | nyūjō       | admission/entrance                  | noun/verb      | 入場料が必要です。           | An admission fee is required.       | Nyūjōryō ga hitsuyō desu.           | Common in events and venues    |\n",
    "| 54  | 区別             | くべつ       | kubetsu     | distinction/to distinguish          | noun/verb      | 区別が重要です。             | Distinction is important.           | Kubetsu ga jūyō desu.               | Used in various contexts       |\n",
    "| 55  | 放置             | ほうち       | hōchi       | neglect/to leave something as it is | noun/verb      | 放置された問題です。         | It is a neglected problem.          | Hōchi sareta mondai desu.           | Often used in care contexts    |\n",
    "| 56  | 防止             | ぼうし       | bōshi       | prevention/to prevent               | noun/verb      | 病気の防止が必要です。       | Prevention of illness is necessary. | Byōki no bōshi ga hitsuyō desu.     | Common in health discussions   |\n",
    "| 57  | 負う             | おう         | ou          | to bear/to take responsibility      | verb           | 彼は責任を負っています。     | He is bearing the responsibility.   | Kare wa sekinin o outeimasu.        | Important in accountability    |\n",
    "| 58  | 破損             | はそん       | hason       | damage/to be damaged                | noun/verb      | 物が破損しています。         | The item is damaged.                | Mono ga hason shiteimasu.           | Common in insurance contexts   |\n",
    "| 59  | キャンペーン     | キャンペーン | kyampēn     | campaign/promotion                  | noun           | キャンペーンが始まりました。 | The campaign has started.           | Kyampēn ga hajimarimashita.         | Common in marketing            |\n",
    "| 60  | 窓口             | まどぐち     | madoguchi   | help desk/service counter           | noun           | 窓口で情報を得ました。       | I got information at the help desk. | Madoguchi de jōhō o emashita.       | Important in customer service  |\n",
    "| 61  | 慌ただしい       | あわただしい | awatadashii | busy/hurried/hectic                 | i-adjective    | 慌ただしい一日でした。       | It was a hectic day.                | Awatadashii ichinichi deshita.      | Describes a fast pace          |\n",
    "| 62  | 器用             | きよう       | kiyō        | skilled/handy                       | na-adjective   | 彼は器用な人です。           | He is a skilled person.             | Kare wa kiyō na hito desu.          | Often used in practical skills |\n",
    "| 63  | 強引             | ごういん     | gōin        | overbearing/pushy                   | na-adjective   | 彼は強引なやり方をします。   | He uses an overbearing approach.    | Kare wa gōin na yarikata o shimasu. | Can have negative connotation  |\n",
    "| 64  | 陽気             | ようき       | yōki        | cheerful/merry                      | na-adjective   | 彼女は陽気な性格です。       | She has a cheerful personality.     | Kanojo wa yōki na seikaku desu.     | Often used to describe mood    |\n",
    "| 65  | 明確             | めいかく     | meikaku     | clear/precise                       | na-adjective   | 明確な指示が必要です。       | Clear instructions are necessary.   | Meikaku na shiji ga hitsuyō desu.   | Important in communication     |\n",
    "| 66  | 区切る           | くぎる       | kugiru      | to split up/to separate             | verb           | 文章を区切ってください。     | Please separate the sentences.      | Bunshō o kugitte kudasai.           | Common in writing contexts     |\n",
    "| 67  | 当てはまる       | あてはまる   | atehamaru   | to be applicable                    | verb           | そのルールは当てはまります。 | That rule is applicable.            | Sono rūru wa atehamarimasu.         | Often used in regulations      |\n",
    "| 68  | 手がかり         | てがかり     | tegakari    | clue                                | noun           | 手がかりが見つかりました。   | A clue has been found.              | Tegakari ga mitsukarimashita.       | Common in mystery contexts     |\n",
    "\n",
    "Let me know if you need any further assistance!\n"
   ]
  },
  {
   "cell_type": "markdown",
   "metadata": {},
   "source": [
    "---"
   ]
  },
  {
   "cell_type": "markdown",
   "metadata": {},
   "source": [
    "# Conversation"
   ]
  },
  {
   "cell_type": "markdown",
   "metadata": {},
   "source": [
    "高 橋 :なあ、祐樹、いつも自 転 車 はどこに停めてる?\n",
    "\n",
    "山 本 :たいてい 駅 前 の 無 料 のとこだよ。 学 校 に 近 いし、\n",
    "    とても便利だよ。\n",
    "\n",
    "高 橋 :今朝ね、 俺 もその 駐 輪 場 を利用したんだけど、 昼 に自 転 車 を\n",
    "    取りに行った 時 に、 駐 輪 違 反 の 貼 紙 が貼られてて...\n",
    "    あそこは 誰 でも利用できるわけじゃないの?\n",
    "\n",
    "山 本 :あそこは事 前 登 録 してからでないと利用できないよ。\n",
    "    身 分 証 明 書 を見せて、申 込 み用紙に 必 要 な 情 報 を 記 入 したら、\n",
    "    登 録 した自 転 車 に 駐 輪 許 可 のシールが貼られるんだよ。\n",
    "    置きっぱなしの自 転 車 が増えたから、最 近 管理が 厳 しくなったみたい。\n",
    "\n",
    "高 橋 :そうなんだ、知らなかった。\n",
    "\n",
    "山 本 :もし 学 校 の 一 番 近 くのとこに停めたいなら、 学 校 正 門 前 の\n",
    "    駐 輪 場 がおすすめだよ。\n",
    "\n",
    "高 橋 :でも、 正 門 前 の 駐 輪 場 って 有 料 でしょう。\n",
    "    結 構 高 いって聞いたけど。\n",
    "\n",
    "山 本 :いや、そうでもないよ。 在 学 している 限 りは 学 割 があるから\n",
    "    半 額 だよ。 学 生 は 100 円 で 8時間、しかも 最 初 の 2時間は\n",
    "    無 料 で停められるんだよ。\n",
    "\n",
    "高 橋 :月 曜 日 から金 曜 日 の5 日 間 、 学 校 に来るとしたら、 一 週 間 で\n",
    "    500 円 か。 悪 くないね。 それに、 学 校 正 門 まで自 転 車 で\n",
    "    来られるから、だいぶ時間が 節 約 できるし。\n",
    "\n",
    "山 本 :そうだよ。この 辺 の 駐 輪 違 反 の 罰 金 の 方 が 高 いと 思 うよ。\n",
    "\n",
    "高 橋 : 罰 金 を 払 うくらいなら、 正 門 前 の 駐 輪 場 で定 期 契 約 を\n",
    "    した 方 がましだね。 いろいろ 教 えてくれてありがとう。\n",
    "\n",
    "山 本 :どういたしまして。 ついでに 駅 の 前 の 無 料 駐 輪 場 も\n",
    "    申 し込んでおいた 方 がいいんじゃない。\n",
    "\n",
    "高 橋 :うん、わかった。そうする。"
   ]
  },
  {
   "cell_type": "markdown",
   "metadata": {},
   "source": [
    "Here's the formatted table based on the conversation you provided, with no kanji in the Hiragana column:\n",
    "\n",
    "| Speaker | Japanese (Hiragana)                                                                                                                                                                                              | Japanese (Kanji)                                                                                                                                           | English Translation                                                                                                                                                                                                        | Romaji                                                                                                                                                                                                                      | Notes                                                  |\n",
    "| ------- | ---------------------------------------------------------------------------------------------------------------------------------------------------------------------------------------------------------------- | ---------------------------------------------------------------------------------------------------------------------------------------------------------- | -------------------------------------------------------------------------------------------------------------------------------------------------------------------------------------------------------------------------- | --------------------------------------------------------------------------------------------------------------------------------------------------------------------------------------------------------------------------- | ------------------------------------------------------ |\n",
    "| 高橋    | なあ、ゆうき、いつもじてんしゃはどこにとめてる?                                                                                                                                                                  | なあ、祐樹、いつも自転車はどこに停めてる?                                                                                                                  | Hey, Yuki, where do you usually park your bicycle?                                                                                                                                                                         | Naa, Yuuki, itsumo jitensha wa doko ni tometeru?                                                                                                                                                                            | _自転車_ (jitensha) means \"bicycle.\"                   |\n",
    "| 山本    | たいていえきまえのむりょうのとこだよ。がっこうにちかいし、とてもべんりだよ。                                                                                                                                     | たいてい駅前の無料のとこだよ。学校に近いし、とても便利だよ。                                                                                               | I usually park in the free area in front of the station. It’s close to school and very convenient.                                                                                                                         | Taiitei ekimae no muryou no toko da yo. Gakkou ni chikai shi, totemo benri da yo.                                                                                                                                           | _便利_ (benri) means \"convenient.\"                     |\n",
    "| 高橋    | けさね、おれもそのちゅうりんじょうをりようしたんだけど、ひるにじてんしゃをとりにいったときに、ちゅうりんいはんのはりしがはられてて...あそこはだれでもりようできるわけじゃないの?                                 | 今朝ね、俺もその駐輪場を利用したんだけど、昼に自転車を取りに行った時に、駐輪違反の貼り紙が貼られてて...あそこは誰でも利用できるわけじゃないの?             | This morning, I also used that bike parking, but when I went to pick up my bicycle at noon, I found a violation notice posted... Isn’t that parking area available for anyone?                                             | Kesa ne, ore mo sono chuurin jou wo riyou shitan dakedo, hiru ni jitensha wo tori ni itta toki ni, chuurin ihan no harigami ga hararete te... Asoko wa dare demo riyou dekiru wake janai no?                                | _駐輪場_ (chuurinjou) means \"bicycle parking lot.\"     |\n",
    "| 山本    | あそこはじぜんとうろくしてからでないとりようできないよ。みぶんしょうめいしょをみせて、もうしこみようしにひつようなじょうほうをきにゅうしたら、とうろくしたじてんしゃにちゅうりんきょかのしーるがはられるんだよ。 | あそこは事前登録してからでないと利用できないよ。身分証明書を見せて、申込み用紙に必要な情報を記入したら、登録した自転車に駐輪許可のシールが貼られるんだよ。 | You can’t use that area without prior registration. You have to show your ID and fill out the application form with the necessary information, and then a parking permit sticker will be placed on the registered bicycle. | Asoko wa jizen touroku shite kara de nai to riyou dekinai yo. Mibun shoumeisho wo misete, moushikomi youshi ni hitsuyou na jouhou wo kinyuu shitara, touroku shita jitensha ni chuurin kyoka no shiiru ga harareru n da yo. | _事前登録_ (jizen touroku) means \"prior registration.\" |\n",
    "| 高橋    | そうなんだ、しらなかった。                                                                                                                                                                                       | そうなんだ、知らなかった。                                                                                                                                 | I see, I didn’t know that.                                                                                                                                                                                                 | Sou nanda, shiranakatta.                                                                                                                                                                                                    | Acknowledgment of new information.                     |\n",
    "| 山本    | もしがっこうのいちばんちかくのとこにとめたいなら、がっこうせいもんまえのちゅうりんじょうがおすすめだよ。                                                                                                         | もし学校の一番近くのとこに停めたいなら、学校正門前の駐輪場がおすすめだよ。                                                                                 | If you want to park in the closest spot to the school, I recommend the bike parking in front of the main gate.                                                                                                             | Moshi gakkou no ichiban chikaku no toko ni tometai nara, gakkou seimon mae no chuurin jou ga osusume da yo.                                                                                                                 | _正門_ (seimon) means \"main gate.\"                     |\n",
    "| 高橋    | でも、せいもんまえのちゅうりんじょうってゆうりょうでしょう。けっこうたかいってきいたけど。                                                                                                                       | でも、正門前の駐輪場って有料でしょう。結構高いって聞いたけど。                                                                                             | But the bike parking in front of the main gate is paid, right? I heard it’s quite expensive.                                                                                                                               | Demo, seimon mae no chuurin jou tte yuuryou deshou. Kekkou takai tte kiita kedo.                                                                                                                                            | _有料_ (yuuryou) means \"paid\" or \"fee-based.\"          |\n",
    "| 山本    | いや、そうでもないよ。ざいがくしているかぎりはがくわりがあるからはんがくだよ。がくせいは 100 えんで 8 じかん、しかもさいしょの 2 じかんはむりょうでとめられるんだよ。                                            | いや、そうでもないよ。在学している限りは学割があるから半額だよ。学生は 100 円で 8 時間、しかも最初の 2 時間は無料で停められるんだよ。                      | No, it’s not that expensive. As long as you’re enrolled, you get a student discount, so it’s half price. Students can park for 100 yen for 8 hours, and the first 2 hours are free.                                        | Iya, sou demo nai yo. Zaigaku shite iru kagiri wa gaku wari ga aru kara han gaku da yo. Gakusei wa 100 en de 8 jikan, shikamo saisho no 2 jikan wa muryou de tomeraru n da yo.                                              | _学割_ (gaku wari) means \"student discount.\"           |\n",
    "| 高橋    | げつようびからきんようびの 5 にちかん、がっこうにくるとしたら、いっしゅうかんで 500 えんか。わるくないね。それに、がっこうせいもんまでじてんしゃできられるから、だいぶじかんがせつやくできるし。                 | 月曜日から金曜日の 5 日間、学校に来るとしたら、一週間で 500 円か。悪くないね。それに、学校正門まで自転車で来られるから、だいぶ時間が節約できるし。         | If I come to school from Monday to Friday for 5 days, that’s 500 yen a week. Not bad. Plus, since I can bike right up to the main gate, I can save a lot of time.                                                          | Getsuyoubi kara kinyoubi no 5 nichikan, gakkou ni kuru to shitara, isshuun de 500 en ka. Warukunai ne. Sore ni, gakkou seimon made jitensha de korareru kara, daibu jikan ga setsuyaku dekiru shi.                          | _節約_ (setsuyaku) means \"to save (time/money).\"       |\n",
    "| 山本    | そうだよ。このへんのちゅうりんいはんのばっきんのほうがたかいとおもうよ。                                                                                                                                         | そうだよ。この辺の駐輪違反の罰金の方が高いと思うよ。                                                                                                       | That’s right. I think the fines for parking violations around here are higher.                                                                                                                                             | Sou da yo. Kono hen no chuurin ihan no bakkin no hou ga takai to omou yo.                                                                                                                                                   | _罰金_ (bakkin) means \"fine.\"                          |\n",
    "| 高橋    | ばっきんをはらうくらいなら、せいもんまえのちゅうりんじょうでていきけいやくをしたほうがましだね。いろいろおしえてくれてありがとう。いろいろ教えてくれてありがとう。                                               | Rather than paying a fine, it’s better to make a regular contract at the parking lot in front of the main gate. Thanks for the info!                       | Bakkin wo harau kurai nara, seimon mae no chuurin jou de teiki keiyaku wo shita hou ga mashi da ne. Iroiro oshiete kurete arigatou.                                                                                        | _定期契約_ (teiki keiyaku) means \"regular contract.\"                                                                                                                                                                        |\n",
    "| 山本    | どういたしまして。ついでにえきのまえのむりょうちゅうりんじょうももうしこんでおいたほうがいいんじゃない。                                                                                                         | どういたしまして。ついでに駅の前の無料駐輪場も申し込んでおいた方がいいんじゃない。                                                                         | You're welcome! By the way, you might want to apply for the free bike parking in front of the station as well.                                                                                                             | Douitashimashite. Tsuide ni eki no mae no muryou chuurinjou mo moushikonde oita hou ga ii n janai.                                                                                                                          | _申し込む_ (moushikomu) means \"to apply.\"              |\n",
    "| 高橋    | うん、わかった。そうする。                                                                                                                                                                                       | うん、わかった。そうする。                                                                                                                                 | Yeah, got it. I’ll do that.                                                                                                                                                                                                | Un, wakatta. Sou suru.                                                                                                                                                                                                      | Acknowledgment and decision to act.                    |\n",
    "\n",
    "If you need any modifications or additional information, just let me know!\n"
   ]
  },
  {
   "cell_type": "markdown",
   "metadata": {},
   "source": [
    "---"
   ]
  },
  {
   "cell_type": "markdown",
   "metadata": {},
   "source": [
    "# Grammar 1\n"
   ]
  },
  {
   "cell_type": "markdown",
   "metadata": {},
   "source": []
  },
  {
   "cell_type": "markdown",
   "metadata": {},
   "source": []
  },
  {
   "cell_type": "markdown",
   "metadata": {},
   "source": []
  },
  {
   "cell_type": "markdown",
   "metadata": {},
   "source": [
    "---\n",
    "---"
   ]
  },
  {
   "cell_type": "markdown",
   "metadata": {},
   "source": [
    "# Grammar 2\n"
   ]
  },
  {
   "cell_type": "markdown",
   "metadata": {},
   "source": []
  },
  {
   "cell_type": "markdown",
   "metadata": {},
   "source": []
  },
  {
   "cell_type": "markdown",
   "metadata": {},
   "source": []
  },
  {
   "cell_type": "markdown",
   "metadata": {},
   "source": [
    "---\n",
    "---"
   ]
  },
  {
   "cell_type": "markdown",
   "metadata": {},
   "source": [
    "# Grammar 3\n"
   ]
  },
  {
   "cell_type": "markdown",
   "metadata": {},
   "source": []
  },
  {
   "cell_type": "markdown",
   "metadata": {},
   "source": []
  },
  {
   "cell_type": "markdown",
   "metadata": {},
   "source": []
  },
  {
   "cell_type": "markdown",
   "metadata": {},
   "source": [
    "---\n",
    "---"
   ]
  },
  {
   "cell_type": "markdown",
   "metadata": {},
   "source": [
    "# Grammar 4\n"
   ]
  },
  {
   "cell_type": "markdown",
   "metadata": {},
   "source": []
  },
  {
   "cell_type": "markdown",
   "metadata": {},
   "source": []
  },
  {
   "cell_type": "markdown",
   "metadata": {},
   "source": []
  },
  {
   "cell_type": "markdown",
   "metadata": {},
   "source": [
    "---\n",
    "---"
   ]
  },
  {
   "cell_type": "markdown",
   "metadata": {},
   "source": [
    "# Grammar 5\n"
   ]
  },
  {
   "cell_type": "markdown",
   "metadata": {},
   "source": []
  },
  {
   "cell_type": "markdown",
   "metadata": {},
   "source": []
  },
  {
   "cell_type": "markdown",
   "metadata": {},
   "source": []
  },
  {
   "cell_type": "markdown",
   "metadata": {},
   "source": [
    "---\n",
    "---"
   ]
  },
  {
   "cell_type": "markdown",
   "metadata": {},
   "source": [
    "# Grammar 6\n"
   ]
  },
  {
   "cell_type": "markdown",
   "metadata": {},
   "source": []
  },
  {
   "cell_type": "markdown",
   "metadata": {},
   "source": []
  },
  {
   "cell_type": "markdown",
   "metadata": {},
   "source": []
  },
  {
   "cell_type": "markdown",
   "metadata": {},
   "source": [
    "---\n",
    "---"
   ]
  },
  {
   "cell_type": "markdown",
   "metadata": {},
   "source": [
    "# Grammar 7\n"
   ]
  },
  {
   "cell_type": "markdown",
   "metadata": {},
   "source": []
  },
  {
   "cell_type": "markdown",
   "metadata": {},
   "source": []
  },
  {
   "cell_type": "markdown",
   "metadata": {},
   "source": []
  },
  {
   "cell_type": "markdown",
   "metadata": {},
   "source": [
    "---\n",
    "---"
   ]
  },
  {
   "cell_type": "markdown",
   "metadata": {},
   "source": [
    "# Grammar 8\n"
   ]
  },
  {
   "cell_type": "markdown",
   "metadata": {},
   "source": []
  },
  {
   "cell_type": "markdown",
   "metadata": {},
   "source": []
  },
  {
   "cell_type": "markdown",
   "metadata": {},
   "source": []
  },
  {
   "cell_type": "markdown",
   "metadata": {},
   "source": [
    "---\n",
    "---"
   ]
  },
  {
   "cell_type": "markdown",
   "metadata": {},
   "source": [
    "# Grammar 9\n"
   ]
  },
  {
   "cell_type": "markdown",
   "metadata": {},
   "source": []
  },
  {
   "cell_type": "markdown",
   "metadata": {},
   "source": []
  },
  {
   "cell_type": "markdown",
   "metadata": {},
   "source": []
  },
  {
   "cell_type": "markdown",
   "metadata": {},
   "source": [
    "---\n",
    "---"
   ]
  },
  {
   "cell_type": "markdown",
   "metadata": {},
   "source": [
    "# Grammar 10\n"
   ]
  },
  {
   "cell_type": "markdown",
   "metadata": {},
   "source": []
  },
  {
   "cell_type": "markdown",
   "metadata": {},
   "source": []
  },
  {
   "cell_type": "markdown",
   "metadata": {},
   "source": []
  },
  {
   "cell_type": "markdown",
   "metadata": {},
   "source": [
    "---\n",
    "---"
   ]
  },
  {
   "cell_type": "markdown",
   "metadata": {},
   "source": [
    "# Grammar 11\n"
   ]
  },
  {
   "cell_type": "markdown",
   "metadata": {},
   "source": []
  },
  {
   "cell_type": "markdown",
   "metadata": {},
   "source": []
  },
  {
   "cell_type": "markdown",
   "metadata": {},
   "source": []
  },
  {
   "cell_type": "markdown",
   "metadata": {},
   "source": [
    "---\n",
    "---"
   ]
  },
  {
   "cell_type": "markdown",
   "metadata": {},
   "source": [
    "# Grammar 12\n"
   ]
  },
  {
   "cell_type": "markdown",
   "metadata": {},
   "source": []
  },
  {
   "cell_type": "markdown",
   "metadata": {},
   "source": []
  },
  {
   "cell_type": "markdown",
   "metadata": {},
   "source": []
  },
  {
   "cell_type": "markdown",
   "metadata": {},
   "source": [
    "---\n",
    "---"
   ]
  }
 ],
 "metadata": {
  "language_info": {
   "name": "python"
  }
 },
 "nbformat": 4,
 "nbformat_minor": 2
}
