{
 "cells": [
  {
   "cell_type": "markdown",
   "metadata": {},
   "source": [
    "# N1\n",
    "\n",
    "### 第 09 課 - キャンペーン期間は 延 長 になりましたので、明日 決めていただかなくても差し支 えありません。\n",
    "\n",
    "### Lesson 09 - We will extend the campaign period, so you do not have to make a decision by tomorrow.\n"
   ]
  },
  {
   "cell_type": "markdown",
   "metadata": {},
   "source": [
    "# Vocabulary"
   ]
  },
  {
   "cell_type": "markdown",
   "metadata": {},
   "source": [
    "    1.そうば 相場 n. rate/speculation/market price\n",
    "    2.そくする 即する vi. to adapt/to conform/to adjust\n",
    "    3.しんちく 新築 n. new construction/new building\n",
    "    4.けん 圏 n. category/bloc/circle/sphere/range\n",
    "    5.キャンペーン n. campaign/promotion\n",
    "    6.リフォーム n./vt. renovation/makeover/reconstruction/to reconstruct/to renovate\n",
    "    7.げんかい 限界 n. limitation/limit\n",
    "    8.りっち 立地 n. habitat/location\n",
    "    9.さしつかえる 差し支える vi. to interfere/to hinder/to impede\n",
    "    10.ないらん 内覧 n./vt. preliminary inspection/preview/to preview\n",
    "    11.みだしなみ 身だしなみ n. appearance/manner\n",
    "    12.ひょうじょう 表情 n. looks/facial expression\n",
    "    13.ようじん 用心 n./vi. precaution/caution/to beware/to guard/to mind\n",
    "    14.プランター n. planter\n",
    "    15.とうし 投資 n./vi. investment/to invest\n",
    "    16.きらく 気楽 な-adj. comfortable/easy/easygoing\n",
    "    17.へんせい 編成 n./vt. organization/formation/composition/to organize/to compose/to form\n",
    "    18.のっとる 則る vi. to follow/to conform to\n",
    "    19.ひけつ 秘訣 n. secret/key\n",
    "    20.スーパーチェーン n. supermarket chain\n",
    "    21.じれい 事例 n. instance/example/case\n",
    "    22.とうはつ 頭髪 n. hair\n",
    "    23.しゅし 趣旨 n. point/aim/meaning\n",
    "    24.えま 絵馬 n. votive picture of horse\n",
    "    25.えんぎもの 縁起物 n. talisman/lucky charm\n"
   ]
  },
  {
   "cell_type": "markdown",
   "metadata": {},
   "source": [
    "    26.ちょうかい 懲戒 n./vi. discipline/punishment/reprimand/to punish/to reprimand\n",
    "    27.やくいん 役員 n. executive/director\n",
    "    28.しんきゅう 進級 n./vi. promotion/to promote\n",
    "    29.あっぱく 圧迫 n./vt. oppression/pressure/compulsion/compression/to oppress/to compress\n",
    "    30.ぬいぐるみ n. stuffed toy\n",
    "    31.そうたい 相対 n./vi. relative/counterpart/to be opposite one another\n",
    "    32.しっつい 失墜 n./vt. loss/fall/ to lose(one's credit with somebody)/to fall\n",
    "    33.かみくず 紙くず n. wastepaper/paper scraps\n",
    "    34.うちあける 打ち明ける vt. to confess/to concede/to profess/to confide\n",
    "    35.せんさい 繊細 な-adj. dainty/subtle/delicate/fine/soft/delicate\n",
    "    36.がっぺい 合併 n./vi./vt. union/combination/merger/affiliation/to merge/to consolidate/to combine\n",
    "    37.あく 灰汁 n. harshness/lye\n",
    "    38.えいみん 永眠 n./vi. death/eternal sleep/to die/to pass away\n",
    "    39.ねころぶ 寝転ぶ vi. to lie/to lie down\n",
    "    40.はっき 発揮 n./vt. demonstration/manifestation/to show one's ability/to display/to demonstrate\n",
    "    41.きじ 生地 n. texture/ground/originalsurface/material\n",
    "    42.ており 手織り n. handwoven/handloomed/handspun\n",
    "    43.モール n. shopping mall\n",
    "    44.カウンター n. counter\n",
    "    45.ギフトけん ギフト券 n. gift certificate/gift token\n",
    "    46.るいけい 累計 n./vt. total/sum/to sum\n",
    "    47.こうかん 交換 n./vt. replacement/exchange/substitution/interchange/switching/to replace/to exchange/to substitute/to switch\n",
    "    48.あざやか 鮮やか な-adj. vivid/clear/brilliant\n",
    "    49.あらかじめ 予め adv. previously/ ahead/antecedently/beforehand/in advance\n",
    "    50.あんじ 暗示 n./vt. reminder/hint/suggestion/to remind/to suggest\n"
   ]
  },
  {
   "cell_type": "markdown",
   "metadata": {},
   "source": [
    "    51.いき/すい 粋 n. considerate/smart/romantic/fashionable/elegant\n",
    "    52.いちがいに 一概に adv. unconditionally/as a rule\n",
    "    53.いっかつ 一括 n./vt. all together/to sum up/to lump together\n",
    "    54.いちれん 一連 n. series/chain/sequence\n",
    "    55.うつろ 虚ろ n./な-adj. vacant/hollow/empty/blank\n",
    "    56.うるおう 潤う vi. to be moist/to be damp/to get wet/to be watered\n",
    "    57.うんざり adv./vi. bore/weary/tiresome/to bore/to weary/to fatigue\n",
    "    58.おおまか 大まか な-adj. broad/general/loose/rough\n",
    "    59.おのずから 自ずから adv. spontaneously/naturally\n",
    "    60.がいする 害する vt. to wound/to injure/to hurt/to injure\n",
    "    61.ぼうがい 妨害 n./vt. disturbance/deprivation/jamming/interference/to deprive/to distribute/to interfere\n",
    "    62.かおつき 顔つき n. aspect/looks/facial expression\n",
    "    63.かいにゅう 介入 n./vi. intervention/to interfere/to step in/to meddle\n",
    "    64.かくさ 格差 n. gap/difference\n",
    "    65.かすか 微か な-adj. faint/dim/indistinct/slight/weak/vague/wretched/meager/scanty\n",
    "    66.かばう 庇う vt. to defend/to fend for/to support/to protect/to hold/to guard\n",
    "    67.かんげん 還元 n./vi./vt. reducing/reduction/restoration/resolution/to reduce/to resolve\n",
    "    68.かんさん 換算 n./vt. conversion/change/to converse/to change\n",
    "    69.がんじょう 頑丈 な-adj. robust/strong\n",
    "    70.きざし 兆し n. omen/symptom/sign/indication\n",
    "    71.きまじめ 生真面目 な-adj. serious/solemn\n",
    "    72.きゃしゃ 華奢 n./な-adj. elegance/delicate/slight/slim/slender\n",
    "    73.ばかばかしい 馬鹿馬鹿しい い-adj. silly/absurd/ridiculous/nonsensical\n",
    "    74.このましい 好ましい い-adj. nice/fine/desirable/beneficial/favorable/agreeable\n",
    "    75.はげる 剥げる vi. to fade/to discolor/to be worn off/to come off\n",
    "    76.はらはら adv./vi. to feel excited/to be thrilled/to feel uneasy/to stream down/to flutter down\n",
    "    77.ひいては adv. eventually/in addition to/consequently\n",
    "    78.ひどり 日取り n. date\n",
    "    79.ひなた 日向 n. sunshine/sunny place\n"
   ]
  },
  {
   "cell_type": "markdown",
   "metadata": {},
   "source": [
    "Here's a detailed vocabulary list with English translations, example sentences, and other relevant information:\n",
    "\n",
    "| No. | Japanese (Kanji) | Hiragana         | Romaji        | English Translation                    | Part of Speech | Example Sentence (Japanese)            | Example Sentence (English)                      | Example Sentence (Romaji)                         | Notes                                                                                             |\n",
    "| --- | ---------------- | ---------------- | ------------- | -------------------------------------- | -------------- | -------------------------------------- | ----------------------------------------------- | ------------------------------------------------- | ------------------------------------------------------------------------------------------------- |\n",
    "| 1   | 相場             | そうば           | sōba          | market price, speculation, rate        | Noun           | 今日は相場が高い。                     | The market price is high today.                 | kyō wa sōba ga takai.                             | Refers to market prices or rates in various fields, such as stocks or goods.                      |\n",
    "| 2   | 即する           | そくする         | soku suru     | to adapt, to conform, to adjust        | Verb           | 規則に即する行動をしなければならない。 | You must act in accordance with the rules.      | kisoku ni soku suru kōdō o shinakereba naranai.   | Refers to conforming or adapting to a situation or condition.                                     |\n",
    "| 3   | 新築             | しんちく         | shinchiku     | new construction, new building         | Noun           | この建物は新築です。                   | This building is newly constructed.             | kono tatemono wa shinchiku desu.                  | Refers to a newly built structure, typically for a home or business.                              |\n",
    "| 4   | 圏               | けん             | ken           | category, bloc, sphere, range          | Noun           | この問題は専門家の圏内に入っている。   | This issue falls within the realm of experts.   | kono mondai wa senmonka no ken'nai ni haitte iru. | Used to describe a specific domain, range, or group of people.                                    |\n",
    "| 5   | キャンペーン     | キャンペーン     | kyanpēn       | campaign, promotion                    | Noun           | セールのキャンペーンが始まった。       | A sales campaign has started.                   | sēru no kyanpēn ga hajimatta.                     | Refers to a promotional or marketing campaign, often used for sales or political purposes.        |\n",
    "| 6   | リフォーム       | リフォーム       | rifōmu        | renovation, makeover, reconstruction   | Noun/Verb      | 古い家をリフォームする。               | I will renovate the old house.                  | furui ie o rifōmu suru.                           | Refers to remodeling or making improvements to a building or space.                               |\n",
    "| 7   | 限界             | げんかい         | genkai        | limitation, limit                      | Noun           | 彼の限界はここまでだ。                 | His limit is here.                              | kare no genkai wa koko made da.                   | Describes the maximum extent or capacity of something.                                            |\n",
    "| 8   | 立地             | りっち           | ritchi        | location, habitat                      | Noun           | このビルは良い立地にあります。         | This building is in a good location.            | kono biru wa yoi ritchi ni arimasu.               | Refers to the location or site of a building or facility, especially in terms of its suitability. |\n",
    "| 9   | 差し支える       | さしつかえる     | sashitsukaeru | to interfere, to hinder, to impede     | Verb           | そのことは何か差し支えますか？         | Does that cause any inconvenience?              | sono koto wa nanika sashitsukaemasu ka?           | Describes something that interferes or hinders progress or plans.                                 |\n",
    "| 10  | 内覧             | ないらん         | nairan        | preliminary inspection, preview        | Noun/Verb      | 新しいアパートを内覧した。             | I previewed the new apartment.                  | atarashī apāto o nairan shita.                    | Refers to an inspection or viewing, often used for properties or exhibitions.                     |\n",
    "| 11  | 身だしなみ       | みだしなみ       | midashinami   | appearance, grooming, manners          | Noun           | 身だしなみに気をつけてください。       | Please pay attention to your appearance.        | midashinami ni ki o tsukete kudasai.              | Refers to one's outward appearance, grooming, and general presentation.                           |\n",
    "| 12  | 表情             | ひょうじょう     | hyōjō         | facial expression, look                | Noun           | 彼女の表情が悲しそうだった。           | Her facial expression seemed sad.               | kanojo no hyōjō ga kanashisō datta.               | Refers to the look or expression on someone's face, conveying emotions or feelings.               |\n",
    "| 13  | 用心             | ようじん         | yōjin         | caution, precaution                    | Noun/Verb      | 用心しておいたほうがいいよ。           | It’s better to be cautious.                     | yōjin shite oita hō ga ii yo.                     | Refers to taking care or being cautious to avoid harm or problems.                                |\n",
    "| 14  | プランター       | プランター       | purantā       | planter                                | Noun           | 庭にプランターを置いて花を育てる。     | I put a planter in the garden and grow flowers. | niwa ni purantā o oite hana o sodateru.           | Refers to containers used for growing plants, especially in gardening.                            |\n",
    "| 15  | 投資             | とうし           | tōshi         | investment, to invest                  | Noun/Verb      | 彼は不動産に投資している。             | He is investing in real estate.                 | kare wa fudōsan ni tōshi shite iru.               | Refers to the act of investing money or resources with the expectation of future returns.         |\n",
    "| 16  | 気楽             | きらく           | kiraku        | comfortable, easygoing                 | Adjective      | 気楽に考えてみて。                     | Try to think about it easily.                   | kiraku ni kangaete mite.                          | Refers to a relaxed or easy-going attitude or environment.                                        |\n",
    "| 17  | 編成             | へんせい         | hensei        | organization, composition, to organize | Noun/Verb      | チームの編成を見直す必要がある。       | We need to reassess the team composition.       | chīmu no hensei o minaosu hitsuyō ga aru.         | Refers to the formation, organization, or structuring of something, like a team or group.         |\n",
    "| 18  | 則る             | のっとる         | nottoru       | to follow, to conform to               | Verb           | 会社の規則に則って行動してください。   | Please act according to the company rules.      | kaisha no kisoku ni nottote kōdō shite kudasai.   | Refers to following or adhering to rules, regulations, or precedents.                             |\n",
    "| 19  | 秘訣             | ひけつ           | hiketsu       | secret, key (to something)             | Noun           | 成功の秘訣は努力だ。                   | The key to success is hard work.                | seikō no hiketsu wa doryoku da.                   | Refers to a secret or method that leads to success or understanding.                              |\n",
    "| 20  | スーパーチェーン | スーパーチェーン | sūpā chēn     | supermarket chain                      | Noun           | 日本には多くのスーパーチェーンがある。 | There are many supermarket chains in Japan.     | nihon ni wa ōku no sūpā chēn ga aru.              | Refers to a group of supermarkets operating under the same brand or ownership.                    |\n",
    "| 21  | 事例             | じれい           | jirei         | instance, example, case                | Noun           | その事例を見てみましょう。             | Let’s look at that example.                     | sono jirei o mite mimashou.                       | Refers to a specific case or example used to illustrate something.                                |\n",
    "| 22  | 頭髪             | とうはつ         | tōhatsu       | hair (on the head)                     | Noun           | 彼は頭髪が長い。                       | He has long hair.                               | kare wa tōhatsu ga nagai.                         | Refers specifically to the hair on a person's head.                                               |\n",
    "| 23  | 趣旨             | しゅし           | shushi        | point, aim, meaning                    | Noun           | この会議の趣旨を説明します。           | I will explain the purpose of this meeting.     | kono kaigi no shushi o setsumei shimasu.          | Refers to the main idea, purpose, or intent of something.                                         |\n",
    "| 24  | 絵馬             | えま             | ema           | votive picture of horse                | Noun           | 神社で絵馬を奉納した。                 | I offered a votive picture at the shrine.       | jinja de ema o hōnō shita.                        | A wooden plaque with a picture of a horse, offered at Shinto shrines for prayers and wishes.      |\n",
    "| 25  | 縁起物           | えんぎもの       | engimono      | talisman, lucky charm                  | Noun           | これは縁起物です。                     | This is a lucky charm.                          | kore wa engimono desu.                            | Refers to objects believed to bring good luck or fortune, often tied to cultural traditions.      |\n",
    "\n",
    "Let me know if you need further clarifications or more examples!\n"
   ]
  },
  {
   "cell_type": "markdown",
   "metadata": {},
   "source": [
    "Here’s a detailed vocabulary list with English translations, example sentences, and other relevant information:\n",
    "\n",
    "| No. | Japanese (Kanji) | Hiragana   | Romaji     | English Translation                               | Part of Speech | Example Sentence (Japanese)          | Example Sentence (English)                               | Example Sentence (Romaji)                         | Notes                                                                                |\n",
    "| --- | ---------------- | ---------- | ---------- | ------------------------------------------------- | -------------- | ------------------------------------ | -------------------------------------------------------- | ------------------------------------------------- | ------------------------------------------------------------------------------------ |\n",
    "| 26  | 懲戒             | ちょうかい | chōkai     | discipline, punishment, reprimand                 | Noun/Verb      | 彼は懲戒処分を受けた。               | He was punished.                                         | kare wa chōkai shobun o uketa.                    | Refers to disciplinary actions or punishments, often in the workplace or school.     |\n",
    "| 27  | 役員             | やくいん   | yakuin     | executive, director                               | Noun           | 役員会で決定を下す。                 | The board of directors will make the decision.           | yakuinkai de kettei o kudasu.                     | Refers to high-ranking officials in a company or organization.                       |\n",
    "| 28  | 進級             | しんきゅう | shinkyū    | promotion, to promote                             | Noun/Verb      | 今年、彼は進級した。                 | This year, he was promoted.                              | kotoshi, kare wa shinkyū shita.                   | Refers to moving up a grade level, often used in school or workplace promotions.     |\n",
    "| 29  | 圧迫             | あっぱく   | appaku     | oppression, pressure, compulsion                  | Noun/Verb      | その政策は市民に圧迫を与えた。       | The policy exerted pressure on the citizens.             | sono seisaku wa shimin ni appaku o ataeta.        | Refers to physical or metaphorical pressure or oppression.                           |\n",
    "| 30  | ぬいぐるみ       | ぬいぐるみ | nuigurumi  | stuffed toy                                       | Noun           | 子供はぬいぐるみが大好きだ。         | The child loves stuffed toys.                            | kodomo wa nuigurumi ga daisuki da.                | Refers to soft, stuffed animals or dolls.                                            |\n",
    "| 31  | 相対             | そうたい   | sōtai      | relative, counterpart, to be opposite one another | Noun/Verb      | 二人は相対する立場にある。           | The two are in opposing positions.                       | futari wa sōtai suru tachiba ni aru.              | Describes a relationship where two things or people are opposite or complementary.   |\n",
    "| 32  | 失墜             | しっつい   | shittui    | loss, fall, to lose (one's credit or position)    | Noun/Verb      | 彼の評判は失墜した。                 | His reputation was ruined.                               | kare no hyōban wa shittui shita.                  | Refers to the loss of respect, reputation, or position.                              |\n",
    "| 33  | 紙くず           | かみくず   | kamikuzu   | wastepaper, paper scraps                          | Noun           | 机の上に紙くずが散らかっている。     | There are paper scraps scattered on the desk.            | tsukue no ue ni kamikuzu ga chirakatte iru.       | Refers to scraps or discarded pieces of paper.                                       |\n",
    "| 34  | 打ち明ける       | うちあける | uchiakeru  | to confess, to concede, to profess, to confide    | Verb           | 彼は私に秘密を打ち明けた。           | He confided a secret to me.                              | kare wa watashi ni himitsu o uchiaketa.           | Refers to confessing or revealing something personal.                                |\n",
    "| 35  | 繊細             | せんさい   | sensai     | delicate, subtle, dainty                          | Adjective      | 彼女は繊細な感性を持っている。       | She has a delicate sensibility.                          | kanojo wa sensai na kansei o motte iru.           | Describes something fine, subtle, or finely detailed.                                |\n",
    "| 36  | 合併             | がっぺい   | gappei     | merger, combination, to merge                     | Noun/Verb      | 二社は合併して大手企業になった。     | The two companies merged and became a large corporation. | nisha wa gappei shite ōte kigyō ni natta.         | Refers to the merging of companies or organizations.                                 |\n",
    "| 37  | 灰汁             | あく       | aku        | lye, harshness, bitterness (in food)              | Noun           | 野菜を湯通しして灰汁を取る。         | Boil the vegetables to remove the bitterness.            | yasai o yudōshi shite aku o toru.                 | Refers to the bitter or unpleasant substance often found in vegetables or food.      |\n",
    "| 38  | 永眠             | えいみん   | eimin      | eternal sleep, death, to pass away                | Noun/Verb      | 彼は昨夜永眠した。                   | He passed away last night.                               | kare wa sakuya eimin shita.                       | A more euphemistic way to say \"death\" in Japanese.                                   |\n",
    "| 39  | 寝転ぶ           | ねころぶ   | nekorobu   | to lie down, to lie on one's back                 | Verb           | 彼は床に寝転んでリラックスした。     | He lay on the floor and relaxed.                         | kare wa yuka ni nekoronde rirakkusu shita.        | Describes the act of lying down, often in a relaxed or casual manner.                |\n",
    "| 40  | 発揮             | はっき     | hakki      | demonstration, to show one’s ability, to display  | Noun/Verb      | 彼は試合で素晴らしい能力を発揮した。 | He demonstrated amazing ability in the match.            | kare wa shiai de subarashī nōryoku o hakki shita. | Refers to showcasing one's skills or abilities.                                      |\n",
    "| 41  | 生地             | きじ       | kiji       | material, texture, surface                        | Noun           | このシャツは良い生地で作られている。 | This shirt is made from good material.                   | kono shatsu wa yoi kiji de tsukurarete iru.       | Refers to the fabric or texture of a material, often used for clothing.              |\n",
    "| 42  | 手織り           | ており     | teori      | handwoven, handloomed, handspun                   | Noun/Adjective | これは手織りの布です。               | This is handwoven fabric.                                | kore wa teori no nuno desu.                       | Refers to fabric made by hand using a loom, as opposed to machine-made.              |\n",
    "| 43  | モール           | モール     | mōru       | shopping mall                                     | Noun           | 新しいモールがオープンした。         | A new mall has opened.                                   | atarashī mōru ga ōpun shita.                      | Refers to a large shopping center or mall.                                           |\n",
    "| 44  | カウンター       | カウンター | kauntā     | counter                                           | Noun           | カウンターで注文を取ってください。   | Please order at the counter.                             | kauntā de chūmon o tottetekudasai.                | Refers to a service counter, especially in a shop or restaurant.                     |\n",
    "| 45  | ギフト券         | ギフトけん | gifuto ken | gift certificate, gift token                      | Noun           | 誕生日にギフト券をもらった。         | I received a gift certificate for my birthday.           | tanjōbi ni gifuto ken o moratta.                  | A voucher or certificate used as a gift, typically redeemable for goods or services. |\n",
    "| 46  | 累計             | るいけい   | ruikei     | total, sum, to sum                                | Noun/Verb      | 売上の累計が増えている。             | The total sales have increased.                          | uriage no ruikei ga fuete iru.                    | Refers to cumulative totals or sums, often in financial contexts.                    |\n",
    "| 47  | 交換             | こうかん   | kōkan      | exchange, replacement, to replace, to switch      | Noun/Verb      | 切符の交換をお願いできますか？       | Could you exchange the ticket?                           | kippu no kōkan o onegaidekimasu ka?               | Refers to the act of exchanging something, like items, tickets, or goods.            |\n",
    "| 48  | 鮮やか           | あざやか   | azayaka    | vivid, clear, brilliant                           | Adjective      | 鮮やかな色が好きです。               | I like vivid colors.                                     | azayakana iro ga suki desu.                       | Refers to something bright, clear, or strikingly beautiful.                          |\n",
    "| 49  | 予め             | あらかじめ | arakajime  | previously, in advance                            | Adverb         | 予め確認しておいてください。         | Please check in advance.                                 | arakajime kakunin shite oite kudasai.             | Refers to actions or preparations done before the actual event.                      |\n",
    "| 50  | 暗示             | あんじ     | anji       | suggestion, hint, to remind, to suggest           | Noun/Verb      | 彼の言葉には暗示が含まれていた。     | His words contained a suggestion.                        | kare no kotoba ni wa anji ga fukumarete ita.      | Refers to a subtle suggestion or hint, often indirect.                               |\n",
    "\n"
   ]
  },
  {
   "cell_type": "markdown",
   "metadata": {},
   "source": [
    "Here’s your vocabulary list with example sentences and explanations for each term:\n",
    "\n",
    "| No. | Japanese (Kanji) | Hiragana     | Romaji       | English Translation                                | Part of Speech | Example Sentence (Japanese)              | Example Sentence (English)                           | Example Sentence (Romaji)                                | Notes                                                                                            |\n",
    "| --- | ---------------- | ------------ | ------------ | -------------------------------------------------- | -------------- | ---------------------------------------- | ---------------------------------------------------- | -------------------------------------------------------- | ------------------------------------------------------------------------------------------------ |\n",
    "| 51  | 粋               | いき         | iki          | considerate, smart, romantic, fashionable, elegant | Noun/Adjective | 彼の粋なファッションはみんなを驚かせた。 | His smart fashion amazed everyone.                   | kare no iki na fasshon wa minna o odorokaseta.           | Refers to a refined, stylish, and elegant manner, often with a sense of grace or sophistication. |\n",
    "| 52  | 一概に           | いちがいに   | ichigaini    | unconditionally, as a rule                         | Adverb         | すべての人を一概に判断するのは危険だ。   | It’s dangerous to judge all people unconditionally.  | subete no hito o ichigaini handan suru no wa kiken da.   | Used to indicate something done without exceptions or qualifications.                            |\n",
    "| 53  | 一括             | いっかつ     | ikkatsu      | all together, to sum up, to lump together          | Noun/Verb      | 料金は一括で支払ってください。           | Please pay the total amount all together.            | ryōkin wa ikkatsu de shiharatte kudasai.                 | Refers to doing something in one go, often used for payments or summarizing.                     |\n",
    "| 54  | 一連             | いちれん     | ichiren      | series, chain, sequence                            | Noun           | この一連の出来事は非常に重要だ。         | This series of events is very important.             | kono ichiren no dekigoto wa hijō ni jūyō da.             | Refers to a connected series of actions or events.                                               |\n",
    "| 55  | 虚ろ             | うつろ       | utsuro       | vacant, hollow, empty, blank                       | Noun/Adjective | 彼の目は虚ろで何も見ていなかった。       | His eyes were vacant, and he wasn't seeing anything. | kare no me wa utsuro de nanimo mite inakatta.            | Describes an empty or vacant state, often used for expression or eyes.                           |\n",
    "| 56  | 潤う             | うるおう     | uruou        | to be moist, to be damp, to get wet, to be watered | Verb           | 乾燥した肌が潤ってきた。                 | My dry skin has become moisturized.                  | kansō shita hada ga uruotte kita.                        | Often used for something that has been made moist or hydrated.                                   |\n",
    "| 57  | うんざり         | うんざり     | unzari       | bored, weary, tiresome, to bore, to weary          | Adverb/Verb    | 彼の話にはうんざりしてきた。             | I’m getting tired of his stories.                    | kare no hanashi ni wa unzari shite kita.                 | Refers to a feeling of being fed up or extremely bored with something.                           |\n",
    "| 58  | 大まか           | おおまか     | ōmaka        | broad, general, loose, rough                       | Adjective      | 彼は大まかな計画を立てた。               | He made a rough plan.                                | kare wa ōmaka na keikaku o tateta.                       | Describes something that is broad or general in nature, not detailed.                            |\n",
    "| 59  | 自ずから         | おのずから   | onozukara    | spontaneously, naturally                           | Adverb         | 問題は自ずから解決するだろう。           | The problem will resolve itself naturally.           | mondai wa onozukara kaiketsu suru darou.                 | Refers to something happening naturally or on its own, without forced intervention.              |\n",
    "| 60  | 害する           | がいする     | gaisuru      | to wound, to injure, to hurt                       | Verb           | その行動は彼に害を与えた。               | That action caused harm to him.                      | sono kōdō wa kare ni gai o ataeta.                       | Refers to causing damage or harm, physically or metaphorically.                                  |\n",
    "| 61  | 妨害             | ぼうがい     | bōgai        | disturbance, interference, to interfere            | Noun/Verb      | 彼の進行を妨害しないでください。         | Please do not interfere with his progress.           | kare no shinkō o bōgai shinaide kudasai.                 | Refers to hindering or obstructing progress or action.                                           |\n",
    "| 62  | 顔つき           | かおつき     | kaotsuki     | aspect, looks, facial expression                   | Noun           | 彼の顔つきは怒っているようだった。       | His facial expression seemed angry.                  | kare no kaotsuki wa okotte iru yō datta.                 | Describes someone’s facial expression or overall appearance.                                     |\n",
    "| 63  | 介入             | かいにゅう   | kainyū       | intervention, to interfere                         | Noun/Verb      | 政府は経済に介入した。                   | The government intervened in the economy.            | seifu wa keizai ni kainyū shita.                         | Refers to stepping into a situation to influence or intervene.                                   |\n",
    "| 64  | 格差             | かくさ       | kakusa       | gap, difference                                    | Noun           | 貧富の格差が広がっている。               | The gap between rich and poor is widening.           | hinpu no kakusa ga hirogatte iru.                        | Describes disparities or differences, often used in economic or social contexts.                 |\n",
    "| 65  | 微か             | かすか       | kasuka       | faint, dim, indistinct, slight, weak               | Adjective      | 微かな音が聞こえた。                     | I heard a faint sound.                               | kasuka na oto ga kikoeta.                                | Describes something barely perceptible or very weak.                                             |\n",
    "| 66  | 庇う             | かばう       | kabau        | to defend, to support, to protect                  | Verb           | 彼は友達を庇って戦った。                 | He fought to defend his friend.                      | kare wa tomodachi o kabatte tatakatta.                   | Refers to protecting or defending someone, often from harm or criticism.                         |\n",
    "| 67  | 還元             | かんげん     | kangen       | reduction, restoration, to reduce, to restore      | Noun/Verb      | 環境保護が最優先されるべきだ。           | Environmental protection should be prioritized.      | kankyō hogo ga sai yūsen sareru beki da.                 | Refers to the act of returning something to its original state or making a reduction.            |\n",
    "| 68  | 換算             | かんさん     | kansan       | conversion, to convert, to change                  | Noun/Verb      | 円をドルに換算する。                     | Convert yen to dollars.                              | en o doru ni kansan suru.                                | Refers to changing from one unit or form to another, often in a financial context.               |\n",
    "| 69  | 頑丈             | がんじょう   | ganjō        | robust, strong                                     | Adjective      | この箱は頑丈で壊れにくい。               | This box is robust and hard to break.                | kono hako wa ganjō de kowarenikui.                       | Describes something that is sturdy, strong, or resistant to damage.                              |\n",
    "| 70  | 兆し             | きざし       | kizashi      | omen, symptom, sign, indication                    | Noun           | 何か悪い兆しが見える。                   | I see signs of something bad happening.              | nanika warui kizashi ga mieru.                           | Refers to an early sign or indication of something.                                              |\n",
    "| 71  | 生真面目         | きまじめ     | kimajime     | serious, solemn                                    | Adjective      | 彼は生真面目な性格だ。                   | He has a serious personality.                        | kare wa kimajime na seikaku da.                          | Describes a person who is very earnest or serious in nature.                                     |\n",
    "| 72  | 華奢             | きゃしゃ     | kyasha       | elegance, delicate, slim                           | Noun/Adjective | 彼女は華奢で美しい。                     | She is delicate and beautiful.                       | kanojo wa kyasha de utsukushī.                           | Describes something or someone who is delicate and elegant, often used for women.                |\n",
    "| 73  | 馬鹿馬鹿しい     | ばかばかしい | bakabakashii | silly, absurd, ridiculous                          | Adjective      | その話は馬鹿馬鹿しい。                   | That story is ridiculous.                            | sono hanashi wa bakabakashī.                             | Used to describe something nonsensical or foolish.                                               |\n",
    "| 74  | 好ましい         | このましい   | konomashii   | desirable, favorable, agreeable                    | Adjective      | 彼は好ましい人物だ。                     | He is a desirable person.                            | kare wa konomashī jinbutsu da.                           | Describes something that is pleasant, favorable, or desirable.                                   |\n",
    "| 75  | 剥げる           | はげる       | hageru       | to fade, to discolor, to wear off                  | Verb           | ペンキが剥げてきた。                     | The paint is fading.                                 | penki ga hagete kita.                                    | Refers to the fading or wearing away of something, like color or surface.                        |\n",
    "| 76  | はらはら         | はらはら     | harahara     | to feel excited, to be thrilled, to flutter down   | Adverb/Verb    | 彼女は試験結果にハラハラしていた。       | She was anxious about the exam results.              | kanojo wa shiken kekka ni harahara shite ita.            | Describes the feeling of anxiety or anticipation, often with an emotional flutter.               |\n",
    "| 77  | ひいては         | ひいては     | hiite wa     | eventually, in addition to, consequently           | Adverb         | 彼の成功はひいては会社の成功に繋がった。 | His success eventually led to the company's success. | kare no seikō wa hiite wa kaisha no seikō ni tsunagatta. | Used to show consequence or a further result.                                                    |\n",
    "| 78  | 日取り           | ひどり       | hitori       | date (for an event)                                | Noun           | 結婚式の日取りを決めた。                 | We decided on the date for the wedding.              | kekkonshiki no hitori o kimeta.                          | Refers to a scheduled date for an event or important activity.                                   |\n",
    "| 79  | 日向             | ひなた       | hinata       | sunshine, sunny place                              | Noun           | 日向で昼寝をした。                       | I took a nap in the sunshine.                        | hinata de hirune o shita.                                | Refers to a sunny place, or the direct sunlight itself.                                          |\n",
    "\n",
    "Feel free to ask if you need further clarifications or have more questions!\n"
   ]
  },
  {
   "cell_type": "markdown",
   "metadata": {},
   "source": [
    "---"
   ]
  },
  {
   "cell_type": "markdown",
   "metadata": {},
   "source": [
    "# Conversation"
   ]
  },
  {
   "cell_type": "markdown",
   "metadata": {},
   "source": [
    "スタッフ :いらっしゃいませ。 数 ある不動産屋の中から 弊 社 を 選 んでいた\n",
    "\n",
    "だき、 誠 にありがとうございます。\n",
    "まずお 客 様 のご希望をお 伺 いします。\n",
    "\n",
    "みのり :1 D K で、秋 葉 原 駅 から 歩 いて 15 分 以内のできれば\n",
    "    アパートよりマンションがいいです。\n",
    "\n",
    "スタッフ :ご予算は?\n",
    "\n",
    "みのり : 安 いにこしたことはないですが、 高 くても 6 万 台 なら\n",
    "    大 丈 夫 です。\n",
    "\n",
    "スタッフ:う〜ん、秋 葉 原 駅 周 辺 の 賃 貸 の相場は 7 万 円 台 以 上\n",
    "    ですので、ご 要 望 のお部屋の 数 は 正 直 あまり 多 くないかも\n",
    "    しれません。\n",
    "\n",
    "安藤 :やっぱり 難 しいですか...。\n",
    "\n",
    "みのり :だめでもともとでいいので、お 願 いします。\n",
    "\n",
    "スタッフ :かしこまりました。 条 件 に合うお部屋を 探 してみます。\n",
    "    ...お待たせしました。2 件 見つかりました。\n",
    "    お 客 様 のご 要 望 に 即 した 物 件 をたくさんご用意できたら\n",
    "    よかったのですが... 少 なくて 申 し 訳 ありません。\n",
    "    いかがでしょうか。\n",
    "\n",
    "みのり: 古 いアパートでエアコンがないところですか。 新 築 とは言わない\n",
    "    までも、エアコン付きの部屋がいいんですけど...。\n",
    "\n",
    "\n",
    "スタッフ :秋 葉 原 は 交 通 の 便 もよく、人気があります。 駅 から徒歩 圏 内\n",
    "    となると、設備の 整 った部屋は 7 万 でもなかなかないですね。\n",
    "\n",
    "安藤 :やっぱり 駅 の 近 くは 難 しいね。\n",
    "\n",
    "スタッフ : 駅 のそばは、 昼 といわず 夜 といわず、 観 光 客 やビジネスマン\n",
    "    で 賑 やかですので、 少 々 不便とて、 駅 から 離 れた 方 が、 静\n",
    "    かでいいとおっしゃるお 客 様 もいらっしゃいますよ。\n",
    "\n",
    "みのり :じゃあ、 駅 から 遠 くなってもいいです。徒歩15 分 以内の 条 件 は外 してください。\n",
    "\n",
    "スタッフ :はい、 承 知 しました。お 客 様 、いい 物 件 がありました。\n",
    "    こちらはいかがでしょう。 駅 まで徒歩25 分 ですが、1LDK です\n",
    "    よ。家賃は 通 常 71,000 円 ですが、\n",
    "    こちらの 物 件 は、 現 在 、 弊 社 でキャンペーンを実施しておりま\n",
    "    して、 入 居 から 2 年 間 、家賃は 毎 月 2000 円 引きです。 築 20\n",
    "    年 ですが、リフォームしたばかりですので、部屋の設備のエアコ\n",
    "    ン、キッチンなどは 新 しいものに取り替えてあります。\n",
    "\n",
    "みのり :値引きしてもらうと 月 69,000 円 かあ。7 万 円 以下で 1LDK の部屋\n",
    "    が借りられるのはなかなかないかも。しかも 新 築 も 同 然 の部屋だし。\n",
    "    う〜ん、でもちょっと予算ぎりぎりかな。\n",
    "\n",
    "安藤 :家賃はこれ 以 上 は 安 くなりませんか。\n",
    "\n",
    "スタッフ:お 客 様 のご 要 望 におこたえしたいのはやまやまですが、\n",
    "    リフォームをしたこともあいまって、こちらの 物 件 に 関 しては\n",
    "    この 金 額 が 限 界 でして。\n",
    "\n",
    "安藤:そうですか。\n",
    "\n",
    "スタッフ :ただ、こちらは 敷 金 ・ 礼 金 がかかりません。この好 立 地 であっ\n",
    "    ても、初期費用をかけずに住み 始 めることができるのは 魅 力 だ\n",
    "    と 思 いますよ。\n",
    "\n",
    "\n",
    "みのり:たしかに、初期費用を 払 うことなしに、こんな良い立地に住める\n",
    "    ならお 得 だよね。\n",
    "    この日付だと、キャンペーンは明日までになっていますけど、\n",
    "    明日までに決めなければなりませんか。\n",
    "\n",
    "スタッフ :キャンペーン期間ですが、 延 長 になりましたので、明日決めて\n",
    "    いただかなくても差し 支 えありません。 今 週 中 に決めてい\n",
    "    ただければ 結 構 です。\n",
    "\n",
    "安藤 :よかったね。じゃあ、明日この 物 件 の 内 覧 に行こう。"
   ]
  },
  {
   "cell_type": "markdown",
   "metadata": {},
   "source": [
    "Here’s the conversation with Japanese, romaji, and English translations in a table format:\n",
    "\n",
    "| Speaker  | Japanese (Hiragana)                                                                                                                                                                                                                                                                                                                                                    | Japanese (Kanji)                                                                                                                                                                                                                                                                                                                                                       | English Translation                                                                                                                                                                                                                                                                                                                                             | Romaji                                                                                                                                                                                                                                                                                                                                                                                                                                       | Notes                                                                  |\n",
    "| -------- | ---------------------------------------------------------------------------------------------------------------------------------------------------------------------------------------------------------------------------------------------------------------------------------------------------------------------------------------------------------------------- | ---------------------------------------------------------------------------------------------------------------------------------------------------------------------------------------------------------------------------------------------------------------------------------------------------------------------------------------------------------------------- | --------------------------------------------------------------------------------------------------------------------------------------------------------------------------------------------------------------------------------------------------------------------------------------------------------------------------------------------------------------- | -------------------------------------------------------------------------------------------------------------------------------------------------------------------------------------------------------------------------------------------------------------------------------------------------------------------------------------------------------------------------------------------------------------------------------------------- | ---------------------------------------------------------------------- |\n",
    "| スタッフ | いらっしゃいませ。数ある不動産屋の中から弊社を選んでいただき、誠にありがとうございます。まずお客様のご希望をお伺いします。                                                                                                                                                                                                                                             | いらっしゃいませ。数ある不動産屋の中から弊社を選んでいただき、誠にありがとうございます。まずお客様のご希望をお伺いします。                                                                                                                                                                                                                                             | Welcome. Thank you very much for choosing our agency among the many real estate agents. First, may I ask what you’re looking for?                                                                                                                                                                                                                               | Irasshaimase. Kazu aru fudōsan-ya no naka kara heisha o erande itadaki, makoto ni arigatou gozaimasu. Mazu okyakusama no go kibou o oukagai shimasu.                                                                                                                                                                                                                                                                                         | _弊社_ (heisha) means \"our company,\" used for formal settings.         |\n",
    "| みのり   | 1DK で、秋葉原駅から歩いて 15 分以内のできればアパートよりマンションがいいです。                                                                                                                                                                                                                                                                                       | 1DK で、秋葉原駅から歩いて 15 分以内のできればアパートよりマンションがいいです。                                                                                                                                                                                                                                                                                       | I’m looking for a 1DK within 15 minutes walking from Akihabara Station. If possible, I prefer an apartment over a flat.                                                                                                                                                                                                                                         | 1DK de, Akihabara-eki kara aruite 15-fun inai no de, dekireba apāto yori manshon ga ii desu.                                                                                                                                                                                                                                                                                                                                                 | _1DK_ refers to a 1-room apartment with a dining and kitchen space.    |\n",
    "| スタッフ | ご予算は?                                                                                                                                                                                                                                                                                                                                                              | ご予算は？                                                                                                                                                                                                                                                                                                                                                             | What is your budget?                                                                                                                                                                                                                                                                                                                                            | Go yosan wa?                                                                                                                                                                                                                                                                                                                                                                                                                                 | _予算_ (yosan) means \"budget\".                                         |\n",
    "| みのり   | 安いにこしたことはないですが、高くても 6 万台なら大丈夫です。                                                                                                                                                                                                                                                                                                          | 安いに越したことはないですが、高くても 6 万台なら大丈夫です。                                                                                                                                                                                                                                                                                                          | It’s best if it’s cheap, but if it’s up to the 60,000 yen range, that’s okay.                                                                                                                                                                                                                                                                                   | Yasui ni koshita koto wa nai desu ga, takakute mo 6-man dai nara daijōbu desu.                                                                                                                                                                                                                                                                                                                                                               | _越した_ (koshita) means \"better\", used here as \"best if...\".          |\n",
    "| スタッフ | う〜ん、秋葉原駅周辺の賃貸の相場は 7 万円台以上ですので、ご要望のお部屋の数は正直あまり多くないかもしれません。                                                                                                                                                                                                                                                        | う〜ん、秋葉原駅周辺の賃貸の相場は 7 万円台以上ですので、ご要望のお部屋の数は正直あまり多くないかもしれません。                                                                                                                                                                                                                                                        | Hmm, the rental prices around Akihabara Station are typically above 70,000 yen, so there might not be many rooms that meet your requirements.                                                                                                                                                                                                                   | U~n, Akihabara-eki shūhen no chintai no sōba wa 7-man dai ijō desu node, go-yōbō no oheya no kazu wa shōjiki amari ōkuni nai kamoshiremasen.                                                                                                                                                                                                                                                                                                 | _相場_ (sōba) means \"market price\" or \"going rate\".                    |\n",
    "| 安藤     | やっぱり難しいですか…。                                                                                                                                                                                                                                                                                                                                                | やっぱり難しいですか…。                                                                                                                                                                                                                                                                                                                                                | I guess it’s difficult after all...                                                                                                                                                                                                                                                                                                                             | Yappari muzukashii desu ka...                                                                                                                                                                                                                                                                                                                                                                                                                | _やっぱり_ (yappari) means \"after all\" or \"as expected\".               |\n",
    "| みのり   | だめでもともとでいいので、お願いします。                                                                                                                                                                                                                                                                                                                               | だめでもともとでいいので、お願いします。                                                                                                                                                                                                                                                                                                                               | I’m fine even if it doesn’t work out, so please try anyway.                                                                                                                                                                                                                                                                                                     | Dame demo to moto de ii node, onegaishimasu.                                                                                                                                                                                                                                                                                                                                                                                                 | _ともとで_ (tomotode) means \"as a matter of course\" or \"anyway\".       |\n",
    "| スタッフ | かしこまりました。条件に合うお部屋を探してみます。…お待たせしました。2 件見つかりました。お客様のご要望に即した物件をたくさんご用意できたらよかったのですが…少なくて申し訳ありません。いかがでしょうか。                                                                                                                                                               | かしこまりました。条件に合うお部屋を探してみます。…お待たせしました。2 件見つかりました。お客様のご要望に即した物件をたくさんご用意できたらよかったのですが…少なくて申し訳ありません。いかがでしょうか。                                                                                                                                                               | Understood. I will look for a room that matches your conditions. ...Thank you for waiting. I found 2 properties. I wish I could offer more rooms that match your requirements, but I’m sorry there are only a few. How is it?                                                                                                                                   | Kashikomarimashita. Jōken ni au oheya o sagashite mimasu. ...Omatase shimashita. 2-ken mitsukarimashita. Okyakusama no go-yōbō ni soku shita bukken o takusan go-yōi dekitara yokatta no desu ga... sukunakute mōshiwake arimasen. Ikagadeshōka?                                                                                                                                                                                             | _即した_ (sokushita) means \"matched\" or \"complied with\".               |\n",
    "| みのり   | 古いアパートでエアコンがないところですか。新築とは言わないまでも、エアコン付きの部屋がいいんですけど…。                                                                                                                                                                                                                                                                | 古いアパートでエアコンがないところですか。新築とは言わないまでも、エアコン付きの部屋がいいんですけど…。                                                                                                                                                                                                                                                                | Is this an old apartment without air conditioning? I would prefer a room with air conditioning, if not a brand new one...                                                                                                                                                                                                                                       | Furui apāto de eakon ga nai tokoro desu ka. Shin-chiku to wa iwanai mademo, eakon-tsuki no heya ga ii n desu kedo...                                                                                                                                                                                                                                                                                                                         | _新築_ (shinchiku) means \"newly built\".                                |\n",
    "| スタッフ | 秋葉原は交通の便もよく、人気があります。駅から徒歩圏内となると、設備の整った部屋は 7 万でもなかなかないですね。                                                                                                                                                                                                                                                        | 秋葉原は交通の便もよく、人気があります。駅から徒歩圏内となると、設備の整った部屋は 7 万でもなかなかないですね。                                                                                                                                                                                                                                                        | Akihabara has good transportation access and is very popular. When you’re within walking distance of the station, it’s rare to find a room with good facilities for under 70,000 yen.                                                                                                                                                                           | Akihabara wa kōtsū no ben mo yoku, ninki ga arimasu. Eki kara tohoken-nai to naru to, setsubi no totonatta heya wa 7-man demo nakakara nai desu ne.                                                                                                                                                                                                                                                                                          | _徒歩圏内_ (tohoken-nai) means \"within walking distance\".              |\n",
    "| 安藤     | やっぱり駅の近くは難しいね。                                                                                                                                                                                                                                                                                                                                           | やっぱり駅の近くは難しいね。                                                                                                                                                                                                                                                                                                                                           | I guess it’s hard to find a place near the station after all.                                                                                                                                                                                                                                                                                                   | Yappari eki no chikaku wa muzukashii ne.                                                                                                                                                                                                                                                                                                                                                                                                     | _近く_ (chikaku) means \"nearby\" or \"close\".                            |\n",
    "| スタッフ | 駅のそばは、昼といわず夜といわず、観光客やビジネスマンで賑やかですので、少々不便とて、駅から離れた方が、静かでいいとおっしゃるお客様もいらっしゃいますよ。                                                                                                                                                                                                             | 駅のそばは、昼といわず夜といわず、観光客やビジネスマンで賑やかですので、少々不便とて、駅から離れた方が、静かでいいとおっしゃるお客様もいらっしゃいますよ。                                                                                                                                                                                                             | The area around the station is busy with tourists and businesspeople day and night, so although it’s a bit inconvenient, some customers prefer a quieter place farther from the station.                                                                                                                                                                        | Eki no soba wa, hiru to iwazu yoru to iwazu, kankōkyaku ya bijinesuman de nigiyaka desu node, shōshō fuben tote, eki kara hanareta hō ga, shizuka de ii to ossharu okyakusama mo irasshaimasu yo.                                                                                                                                                                                                                                            | _観光客_ (kankōkyaku) means \"tourists\".                                |\n",
    "| みのり   | じゃあ、駅から遠くなってもいいです。徒歩 15 分以内の条件は外してください。                                                                                                                                                                                                                                                                                             | じゃあ、駅から遠くなってもいいです。徒歩 15 分以内の条件は外してください。                                                                                                                                                                                                                                                                                             | Okay, then I’m fine with being farther from the station. Please remove the condition of being within 15 minutes walking.                                                                                                                                                                                                                                        | Jā, eki kara tōku natte mo ii desu. Toho 15-fun inai no jōken wa sotokashite kudasai.                                                                                                                                                                                                                                                                                                                                                        | _外してください_ (sotokashite kudasai) means \"please remove\".          |\n",
    "| スタッフ | はい、承知しました。お客様、いい物件がありました。こちらはいかがでしょう。駅まで徒歩 25 分ですが、1LDK ですよ。家賃は通常 71,000 円ですが、こちらの物件は現在、弊社でキャンペーンを実施しておりまして、入居から 2 年間、家賃は毎月 2000 円引きです。築 20 年ですが、リフォームしたばかりですので、部屋の設備のエアコン、キッチンなどは新しいものに取り替えてあります。 | はい、承知しました。お客様、いい物件がありました。こちらはいかがでしょう。駅まで徒歩 25 分ですが、1LDK ですよ。家賃は通常 71,000 円ですが、こちらの物件は現在、弊社でキャンペーンを実施しておりまして、入居から 2 年間、家賃は毎月 2000 円引きです。築 20 年ですが、リフォームしたばかりですので、部屋の設備のエアコン、キッチンなどは新しいものに取り替えてあります。 | Yes, I have found a good property. How about this one? It’s 25 minutes from the station on foot, and it’s a 1LDK. The rent is normally 71,000 yen, but we’re running a campaign at our agency where the rent will be reduced by 2,000 yen for the first two years. It’s 20 years old, but it’s recently renovated, so the air conditioning and kitchen are new. | Hai, shōchi shimashita. Okyakusama, ii bukken ga arimashita. Kochira wa ikagadeshō. Eki made toho 25-fun desu ga, 1LDK desu yo. Yachin wa tsūjō 71,000-en desu ga, kochira no bukken wa genzai, heisha de kyanpēn o jisshi shite orimashite, nyūkyo kara 2-nenkan, yachin wa maitsuki 2,000-en hiki desu. Chiku 20-nen desu ga, rifōmu shita bakari desu node, heya no setsubi no eakon, kicchin nado wa atarashī mono ni torikaete arimasu. | _リフォーム_ (rifōmu) means \"renovation\".                              |\n",
    "| みのり   | 値引きしてもらうと月 69,000 円かあ。7 万円以下で 1LDK の部屋が借りられるのはなかなかないかも。しかも新築も同然の部屋だし。う〜ん、でもちょっと予算ぎりぎりかな。                                                                                                                                                                                                       | 値引きしてもらうと月 69,000 円かあ。7 万円以下で 1LDK の部屋が借りられるのはなかなかないかも。しかも新築も同然の部屋だし。う〜ん、でもちょっと予算ぎりぎりかな。                                                                                                                                                                                                       | If they give a discount, it’ll be 69,000 yen a month. It’s hard to find a 1LDK for under 70,000 yen. Plus, it’s like new. Hmm, but it’s a bit close to my budget.                                                                                                                                                                                               | Nebiki shite morau to tsuki 69,000-en kā. 7-man en ika de 1LDK no heya ga karirareru no waakanaka nai kamo. Shikamo shin-chiku mo dōzen no heya dashi. U~n, demo chotto yosan girigiri kana.                                                                                                                                                                                                                                                 | _ぎりぎり_ (girigiri) means \"just barely\".                             |\n",
    "| 安藤     | 家賃はこれ以上は安くなりませんか。                                                                                                                                                                                                                                                                                                                                     | 家賃はこれ以上は安くなりませんか。                                                                                                                                                                                                                                                                                                                                     | Can the rent be lowered any further?                                                                                                                                                                                                                                                                                                                            | Yachin wa kore ijō wa yasuku narimasen ka.                                                                                                                                                                                                                                                                                                                                                                                                   | _以上_ (ijō) means \"more than\" or \"beyond\".                            |\n",
    "| スタッフ | お客様のご要望におこたえしたいのはやまやまですが、リフォームをしたこともあいまって、こちらの物件に関してはこの金額が限界でして。                                                                                                                                                                                                                                       | お客様のご要望におこたえしたいのはやまやまですが、リフォームをしたこともあいまって、こちらの物件に関してはこの金額が限界でして。                                                                                                                                                                                                                                       | I would like to meet your request, but since it was renovated, this price is the limit for this property.                                                                                                                                                                                                                                                       | Okyakusama no go-yōbō ni okotae shitaino wa yamayama desu ga, rifōmu o shita koto mo aimate, kochira no bukken ni kanshite wa kono kingaku ga genkai deshite.                                                                                                                                                                                                                                                                                | _限界_ (genkai) means \"limit\".                                         |\n",
    "| 安藤     | そうですか。                                                                                                                                                                                                                                                                                                                                                           | そうですか。                                                                                                                                                                                                                                                                                                                                                           | I see.                                                                                                                                                                                                                                                                                                                                                          | Sō desu ka.                                                                                                                                                                                                                                                                                                                                                                                                                                  |                                                                        |\n",
    "| スタッフ | ただ、こちらは敷金・礼金がかかりません。この好立地であっても、初期費用をかけずに住み始めることができるのは魅力だと思いますよ。                                                                                                                                                                                                                                         | ただ、こちらは敷金・礼金がかかりません。この好立地であっても、初期費用をかけずに住み始めることができるのは魅力だと思いますよ。                                                                                                                                                                                                                                         | However, this property does not require a security deposit or key money. Even in such a good location, I think it’s very attractive that you can move in without initial costs.                                                                                                                                                                                 | Tada, kochira wa shiki-kin, rei-kin ga kakarimasen. Kono kō-ritchi de attemo, shoki hiyō o kakezu ni sumi hajimeru koto ga dekiru no wa miryoku da to omoimasu yo.                                                                                                                                                                                                                                                                           | _敷金_ (shiki-kin) means \"security deposit\".                           |\n",
    "| みのり   | たしかに、初期費用を払うことなしに、こんな良い立地に住めるならお得だよね。 この日付だと、キャンペーンは明日までになっていますけど、明日までに決めなければなりませんか。                                                                                                                                                                                                | たしかに、初期費用を払うことなしに、こんな良い立地に住めるならお得だよね。この日付だと、キャンペーンは明日までになっていますけど、明日までに決めなければなりませんか。                                                                                                                                                                                                 | It’s true, if we can move into such a great location without paying initial costs, it’s a good deal. The campaign ends tomorrow, but do I have to decide by tomorrow?                                                                                                                                                                                           | Tashika ni, shoki hiyō o harau koto nashi ni, konna ii ritchi ni sumeru nara otoku da yo ne. Kono hizuke da to, kyanpēn wa ashita made ni natte imasu kedo, ashita made ni kimeranakereba narimasen ka.                                                                                                                                                                                                                                      | _決めなければなりません_ (kimenakereba narimasen) means \"must decide\". |\n",
    "| スタッフ | キャンペーン期間ですが、延長になりましたので、明日決めていただかなくても差し支えありません。今週中に決めていただければ結構です。                                                                                                                                                                                                                                       | キャンペーン期間ですが、延長になりましたので、明日決めていただかなくても差し支えありません。今週中に決めていただければ結構です。                                                                                                                                                                                                                                       | The campaign period has been extended, so you don’t have to decide by tomorrow. If you decide by the end of this week, that’s fine.                                                                                                                                                                                                                             | Kyanpēn kikann desu ga, enchō ni narimashita node, ashita kimete itadakanakute mo sashiwake arimasen. Konshū-chū ni kimete itadakereba kekkō desu.                                                                                                                                                                                                                                                                                           | _延長_ (enchō) means \"extension\".                                      |\n",
    "| 安藤     | よかったね。じゃあ、明日この物件の内覧に行こう。                                                                                                                                                                                                                                                                                                                       | よかったね。じゃあ、明日この物件の内覧に行こう。                                                                                                                                                                                                                                                                                                                       | That’s great! Then, let’s go see this property tomorrow.                                                                                                                                                                                                                                                                                                        | Yokatta ne. Jā, ashita kono bukken no nairan ni ikou.                                                                                                                                                                                                                                                                                                                                                                                        | _内覧_ (nairan) means \"viewing\" or \"touring\".                          |\n",
    "\n",
    "This table should give you a clear understanding of each part of the conversation, from the real estate agent's formal greetings to the final decision! Let me know if you'd like further clarification or help!\n"
   ]
  },
  {
   "cell_type": "markdown",
   "metadata": {},
   "source": [
    "---"
   ]
  },
  {
   "cell_type": "markdown",
   "metadata": {},
   "source": [
    "# Grammar 1\n"
   ]
  },
  {
   "cell_type": "markdown",
   "metadata": {},
   "source": []
  },
  {
   "cell_type": "markdown",
   "metadata": {},
   "source": []
  },
  {
   "cell_type": "markdown",
   "metadata": {},
   "source": []
  },
  {
   "cell_type": "markdown",
   "metadata": {},
   "source": [
    "---\n",
    "---"
   ]
  },
  {
   "cell_type": "markdown",
   "metadata": {},
   "source": [
    "# Grammar 2\n"
   ]
  },
  {
   "cell_type": "markdown",
   "metadata": {},
   "source": []
  },
  {
   "cell_type": "markdown",
   "metadata": {},
   "source": []
  },
  {
   "cell_type": "markdown",
   "metadata": {},
   "source": []
  },
  {
   "cell_type": "markdown",
   "metadata": {},
   "source": [
    "---\n",
    "---"
   ]
  },
  {
   "cell_type": "markdown",
   "metadata": {},
   "source": [
    "# Grammar 3\n"
   ]
  },
  {
   "cell_type": "markdown",
   "metadata": {},
   "source": []
  },
  {
   "cell_type": "markdown",
   "metadata": {},
   "source": []
  },
  {
   "cell_type": "markdown",
   "metadata": {},
   "source": []
  },
  {
   "cell_type": "markdown",
   "metadata": {},
   "source": [
    "---\n",
    "---"
   ]
  },
  {
   "cell_type": "markdown",
   "metadata": {},
   "source": [
    "# Grammar 4\n"
   ]
  },
  {
   "cell_type": "markdown",
   "metadata": {},
   "source": []
  },
  {
   "cell_type": "markdown",
   "metadata": {},
   "source": []
  },
  {
   "cell_type": "markdown",
   "metadata": {},
   "source": []
  },
  {
   "cell_type": "markdown",
   "metadata": {},
   "source": [
    "---\n",
    "---"
   ]
  },
  {
   "cell_type": "markdown",
   "metadata": {},
   "source": [
    "# Grammar 5\n"
   ]
  },
  {
   "cell_type": "markdown",
   "metadata": {},
   "source": []
  },
  {
   "cell_type": "markdown",
   "metadata": {},
   "source": []
  },
  {
   "cell_type": "markdown",
   "metadata": {},
   "source": []
  },
  {
   "cell_type": "markdown",
   "metadata": {},
   "source": [
    "---\n",
    "---"
   ]
  },
  {
   "cell_type": "markdown",
   "metadata": {},
   "source": [
    "# Grammar 6\n"
   ]
  },
  {
   "cell_type": "markdown",
   "metadata": {},
   "source": []
  },
  {
   "cell_type": "markdown",
   "metadata": {},
   "source": []
  },
  {
   "cell_type": "markdown",
   "metadata": {},
   "source": []
  },
  {
   "cell_type": "markdown",
   "metadata": {},
   "source": [
    "---\n",
    "---"
   ]
  },
  {
   "cell_type": "markdown",
   "metadata": {},
   "source": [
    "# Grammar 7\n"
   ]
  },
  {
   "cell_type": "markdown",
   "metadata": {},
   "source": []
  },
  {
   "cell_type": "markdown",
   "metadata": {},
   "source": []
  },
  {
   "cell_type": "markdown",
   "metadata": {},
   "source": []
  },
  {
   "cell_type": "markdown",
   "metadata": {},
   "source": [
    "---\n",
    "---"
   ]
  },
  {
   "cell_type": "markdown",
   "metadata": {},
   "source": [
    "# Grammar 8\n"
   ]
  },
  {
   "cell_type": "markdown",
   "metadata": {},
   "source": []
  },
  {
   "cell_type": "markdown",
   "metadata": {},
   "source": []
  },
  {
   "cell_type": "markdown",
   "metadata": {},
   "source": []
  },
  {
   "cell_type": "markdown",
   "metadata": {},
   "source": [
    "---\n",
    "---"
   ]
  },
  {
   "cell_type": "markdown",
   "metadata": {},
   "source": [
    "# Grammar 9\n"
   ]
  },
  {
   "cell_type": "markdown",
   "metadata": {},
   "source": []
  },
  {
   "cell_type": "markdown",
   "metadata": {},
   "source": []
  },
  {
   "cell_type": "markdown",
   "metadata": {},
   "source": []
  },
  {
   "cell_type": "markdown",
   "metadata": {},
   "source": [
    "---\n",
    "---"
   ]
  },
  {
   "cell_type": "markdown",
   "metadata": {},
   "source": [
    "# Grammar 10\n"
   ]
  },
  {
   "cell_type": "markdown",
   "metadata": {},
   "source": []
  },
  {
   "cell_type": "markdown",
   "metadata": {},
   "source": []
  },
  {
   "cell_type": "markdown",
   "metadata": {},
   "source": []
  },
  {
   "cell_type": "markdown",
   "metadata": {},
   "source": [
    "---\n",
    "---"
   ]
  },
  {
   "cell_type": "markdown",
   "metadata": {},
   "source": [
    "# Grammar 11\n"
   ]
  },
  {
   "cell_type": "markdown",
   "metadata": {},
   "source": []
  },
  {
   "cell_type": "markdown",
   "metadata": {},
   "source": []
  },
  {
   "cell_type": "markdown",
   "metadata": {},
   "source": []
  },
  {
   "cell_type": "markdown",
   "metadata": {},
   "source": [
    "---\n",
    "---"
   ]
  },
  {
   "cell_type": "markdown",
   "metadata": {},
   "source": [
    "# Grammar 12\n"
   ]
  },
  {
   "cell_type": "markdown",
   "metadata": {},
   "source": []
  },
  {
   "cell_type": "markdown",
   "metadata": {},
   "source": []
  },
  {
   "cell_type": "markdown",
   "metadata": {},
   "source": []
  },
  {
   "cell_type": "markdown",
   "metadata": {},
   "source": [
    "---\n",
    "---"
   ]
  }
 ],
 "metadata": {
  "language_info": {
   "name": "python"
  }
 },
 "nbformat": 4,
 "nbformat_minor": 2
}
