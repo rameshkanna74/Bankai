{
 "cells": [
  {
   "cell_type": "markdown",
   "metadata": {},
   "source": [
    "# N1\n",
    "\n",
    "### 第 07 課 - ラストは、がっかりしたというか、理解 できない というか、複雑 な気持ちでいっぱいです。\n",
    "\n",
    "### Lesson 07 - I have mixed feelings about the ending - I felt it was somewhat disappointing and unintelligible."
   ]
  },
  {
   "cell_type": "markdown",
   "metadata": {},
   "source": [
    "# Vocabulary"
   ]
  },
  {
   "cell_type": "markdown",
   "metadata": {},
   "source": [
    "    1.イマイチ adv. not quite/not very good/lacking\n",
    "    2.しちょうりつ 視聴率 n. program rating/audience rating\n",
    "    3.するどい 鋭い い-adj. acute/keen/sharp/quick/piercing\n",
    "    4.ミステリアス な-adj. mysterious\n",
    "    5.いちごがり イチゴ狩り n. strawberry picking\n",
    "    6.あなば 穴場 n. little-known good spot/a good place not many people know about\n",
    "    7.そんかい 損壊 n./vi. damage/destruction/failure/to damage\n",
    "    8.しんきょう 心境 n. mental state/state of mind\n",
    "    9.どんかん 鈍感 n./な-adj. stolidity/dull/insensible/unaffected\n",
    "    10.さんどう 参道 n. the approach/an entrance path (to a Shinto shrine)\n",
    "    11.さっとう 殺到 n./vi. rush/a flood of/to rush to(a place)/to throng to\n",
    "    12.バタバタ adv./vi. to bustle/to hurry/to be in a panic/panic/flapping\n",
    "    13.ぜいむしょ 税務署 n. tax office\n",
    "    14.だつぜい 脱税 n./vi. evasion of taxes/tax evasion/ to engage intax evasion/to cheat oneʼs taxes\n",
    "    15.しまつ 始末 n./vt. the case/circumstances/state of things/management/disposal/to dispose/to manage\n",
    "    16.バケツ n. bucket\n",
    "    17.ごにん 誤認 n./vt. mistake/error/false recognition/to mistake/to misunderstand\n",
    "    18.ずぶ prefix/adv. whole/entirely/all/completely/totally\n",
    "    19.かえりみる 顧みる vt. to look back/to review/to retrospect/to reflect/to look backward\n",
    "    20.コスプレ n. cosplay\n",
    "    21.せいち 聖地 n. holy place/Holy Land\n",
    "    22.はずむ 弾む vi./vt. to spring/to bounce/to be stimulated\n",
    "    23.ようつう 腰痛 n. backache/lower back pain\n",
    "    24.いぶつ 異物 n. a foreign body/an alien substance\n",
    "    25.こんにゅう 混入 n./vi./vt. contamination/mixture/blending/to contaminateto mix/to blend/\n"
   ]
  },
  {
   "cell_type": "markdown",
   "metadata": {},
   "source": [
    "    26.たいまん 怠慢 n./な-adj. neglect/inattention/carelessness/careless/lazy\n",
    "    27.おこたる 怠る vi./vt. to neglect/to leave something undone/to be remiss in\n",
    "    28.かいこ 解雇 n./vt. layoff/ dismissal/discharge/to dismiss/to layoff/to fire\n",
    "    29.どくさいてき 独裁的 な-adj. dictatorial/autocratic\n",
    "    30.ぎっくりごし ぎっくり腰 n. strained back\n",
    "    31.はんそう 搬送 n./vt. conveyance/carrier/to convey/to carry\n",
    "    32.アルコールちゅうどく アルコール中毒 n. alcoholic intoxication/alcohol poisoning\n",
    "    33.かみん 仮眠 n./vi. snooze/nap/to take a nap\n",
    "    34.いへん 異変 n./な-adj. an emergency/accident/something unusual\n",
    "    35.さっする 察する vt. to guess/to sense/to presume/to judge\n",
    "    36.だんりょく 弾力 n. elastic force\n",
    "    37.しなやか な-adj. supple/flexible\n",
    "    38.しめい 使命 n. mission\n",
    "    39.しんぼう 辛抱 n./vi. patience/endurance/perseverance/to endure/to persevere\n",
    "    40.すくう 掬う vt. to scoop out/to take up/to lift out/to scoop up\n",
    "    41.ついやす 費やす vt. to consume/to eat to exhaust/to deplete/to run through/to pay\n",
    "    42.つうせつ 痛切 な-adj. deep/poignant\n",
    "    43.ねたむ 妬む vt. to envy/to be jealous of\n",
    "    44.ノイローゼ n. cardiac neurosis/anxiety neurosis\n",
    "    45.はいけい 背景 n. background\n",
    "    46.はくじょう 白状 n./vt. confession/admit/acknowledgement/to confess/to admit/to acknowledge\n",
    "    47.はじらう 恥じらう vi. to blush/to be shy\n",
    "    48.ぼっしゅう 没収 n./vt. confiscation/to confiscate\n",
    "    49.みすぼらしい い-adj. miserable/deplorable/execrable/woeful/wretched\n",
    "    50.みじん 微塵 n. particle/small piece\n"
   ]
  },
  {
   "cell_type": "markdown",
   "metadata": {},
   "source": [
    "    51.ゆすぐ vt. to wash/to rinse\n",
    "    52.こうちょう 好調 n./な-adj. favorable/satisfactory/favorable trend/improving/well\n",
    "    53.がんらい 元来 adv. originally/primarily\n",
    "    54.げり 下痢 n. diarrhea\n",
    "    55.はなばなしい 華々しい い-adj. splendid/glorious\n",
    "    56.アプローチ n./vi. approach/to approach\n",
    "    57.インフレ n. inflation\n",
    "    58.あざわらう 嘲笑う vt. to deride/to laugh at/to make fun\n",
    "    59.あべこべ n./な-adj. contrary/opposite/inverse\n",
    "    60.かぶれる vi. to be influenced/to be infected with/to get a rash (from a medicine)\n",
    "    61.しいて adv. by force/forcibly\n",
    "    62.しいる 強いる vt. to thrust/to force/to impel\n",
    "    63.とんだ pre-noun awful/terrible/adjectival unexpected/unlikely\n",
    "    64.だぶだぶ adv./な-adj./vi. loose/baggy/to be loose\n",
    "    65.ちゅうしょう 中傷 n./vt. slander/slur/to injure somebody's reputation\n",
    "    66.つかのま 束の間 n. brief/moment\n",
    "    67.らっかん 楽観 n. optimistic view/optimism\n",
    "    68.ひかん 悲観 n. despair/disappointment/pessimism\n",
    "    69.ぶかぶか adv./ vi./な-adj. loosely/loose-fitting/baggy/to be loose\n",
    "    70.ぺこぺこ adv./vi./な-adj. hungry/starving/ in a servile manner/hungrily/to bow and scrape to somebody/hungry/starving/famished\n",
    "    71.またがる 跨る vi. to ride on\n",
    "    72.まるっきり adv. entirely/wholly/completely\n",
    "    73.むしる vt. to pluck/to tear\n",
    "    74.めいりょう 明瞭 n./な-adj. clearness/plainness/intelligible/clear/plain/obvious\n",
    "    75.もっぱら adv. entirely/exclusively/solely\n",
    "    76.やりとおす やり通す vt.to carry out/to put\n",
    "    77.めぢから 目力 n.through/to follow through/to implement/to act/to execute eye appeal/the ability to convey strong emotionswith his eyes (for an actor)\n"
   ]
  },
  {
   "cell_type": "markdown",
   "metadata": {},
   "source": [
    "Here is the next batch of vocabulary in the same format:\n",
    "\n",
    "---\n",
    "\n",
    "| No. | Japanese (Kanji) | Hiragana     | Romaji       | English Translation                                                                   | Part of Speech | Example Sentence (Japanese)                  | Example Sentence (English)                                   | Example Sentence (Romaji)                          | Notes                                                                                                   |\n",
    "| --- | ---------------- | ------------ | ------------ | ------------------------------------------------------------------------------------- | -------------- | -------------------------------------------- | ------------------------------------------------------------ | -------------------------------------------------- | ------------------------------------------------------------------------------------------------------- |\n",
    "| 1   | イマイチ         | いまいち     | imaichi      | not quite, not very good, lacking                                                     | Adverb         | この映画はイマイチだった。                   | This movie was not very good.                                | kono eiga wa imaichi datta.                        | Used to express dissatisfaction or something that is \"just not quite right.\"                            |\n",
    "| 2   | 視聴率           | しちょうりつ | shichouritsu | program rating, audience rating                                                       | Noun           | この番組の視聴率は高い。                     | This program has a high audience rating.                     | kono bangumi no shichouritsu wa takai.             | Commonly used in the context of TV or radio program ratings.                                            |\n",
    "| 3   | 鋭い             | するどい     | surudoi      | acute, keen, sharp, quick, piercing                                                   | Adjective      | 彼の鋭い観察力に驚いた。                     | I was amazed by his keen observation skills.                 | kare no surudoi kansatsuryoku ni odoroita.         | Describes something with sharpness or quickness, either physically or mentally.                         |\n",
    "| 4   | ミステリアス     | ミステリアス | misuteriasu  | mysterious                                                                            | Adjective      | 彼女はミステリアスな雰囲気を持っている。     | She has a mysterious aura.                                   | kanojo wa misuteriasu na fun'iki o motte iru.      | Borrowed from English, used to describe something or someone enigmatic or secretive.                    |\n",
    "| 5   | イチゴ狩り       | いちごがり   | ichigo-gari  | strawberry picking                                                                    | Noun           | 毎年、イチゴ狩りに行くのが楽しみだ。         | I look forward to going strawberry picking every year.       | maitoshi, ichigo-gari ni iku no ga tanoshimi da.   | A popular activity, especially in spring in Japan.                                                      |\n",
    "| 6   | 穴場             | あなば       | anaba        | little-known good spot, a good place not many people know about                       | Noun           | このレストランは穴場だよ。                   | This restaurant is a hidden gem.                             | kono resutoran wa anaba da yo.                     | Refers to a place that is not widely known but is considered a great find.                              |\n",
    "| 7   | 損壊             | そんかい     | sonkai       | damage, destruction, failure, to damage                                               | Noun/Verb      | 地震で家が損壊した。                         | The house was damaged in the earthquake.                     | jishin de ie ga sonkai shita.                      | Often used in legal or insurance contexts to describe property damage.                                  |\n",
    "| 8   | 心境             | しんきょう   | shinkyō      | mental state, state of mind                                                           | Noun           | 彼は心境を語るのが得意だ。                   | He is good at talking about his state of mind.               | kare wa shinkyō o kataru no ga tokui da.           | Refers to someone's emotional or mental state at a given time.                                          |\n",
    "| 9   | 鈍感             | どんかん     | donkan       | stolidity, dull, insensible, unaffected                                               | Adjective      | 彼は鈍感だから、気づかないだろう。           | He's so insensitive, he probably won't notice.               | kare wa donkan dakara, kizukanai darou.            | Describes a lack of sensitivity or awareness to situations or emotions.                                 |\n",
    "| 10  | 参道             | さんどう     | sandō        | the approach, an entrance path (to a Shinto shrine)                                   | Noun           | 神社の参道を歩いている。                     | I'm walking along the shrine's approach path.                | jinja no sandō o aruite iru.                       | Refers specifically to the path leading up to a Shinto shrine, often lined with trees or gates.         |\n",
    "| 11  | 殺到             | さっとう     | sattō        | rush, a flood of, to rush to a place, to throng to                                    | Noun/Verb      | セールが始まると、客が殺到した。             | When the sale started, customers rushed in.                  | sēru ga hajimaru to, kyaku ga sattō shita.         | Often used to describe a rush of people, especially in sales or emergencies.                            |\n",
    "| 12  | バタバタ         | バタバタ     | batabata     | to bustle, to hurry, to be in a panic, panic, flapping                                | Adverb/Verb    | 朝はいつもバタバタしている。                 | I'm always in a panic in the morning.                        | asa wa itsumo batabata shite iru.                  | Used to describe a situation or person that is hurried, frantic, or disorganized.                       |\n",
    "| 13  | 税務署           | ぜいむしょ   | zeimusho     | tax office                                                                            | Noun           | 税務署に行って、税金を払わなければならない。 | I have to go to the tax office and pay my taxes.             | zeimusho ni itte, zeikin o harawanakereba naranai. | Refers to the governmental office responsible for tax administration.                                   |\n",
    "| 14  | 脱税             | だつぜい     | datsuzei     | evasion of taxes, tax evasion, to cheat one's taxes                                   | Noun/Verb      | 彼は脱税で逮捕された。                       | He was arrested for tax evasion.                             | kare wa datuzei de taiho sareta.                   | Refers to illegal activities related to not paying owed taxes.                                          |\n",
    "| 15  | 始末             | しまつ       | shimatsu     | the case, circumstances, state of things, management, disposal, to dispose, to manage | Noun/Verb      | この問題は彼が始末した。                     | He took care of the situation.                               | kono mondai wa kare ga shimatsu shita.             | Used to describe handling or managing a situation, often with a connotation of getting rid of problems. |\n",
    "| 16  | バケツ           | バケツ       | baketsu      | bucket                                                                                | Noun           | バケツに水を汲んで、庭に運んだ。             | I filled the bucket with water and carried it to the garden. | baketsu ni mizu o kunde, niwa ni hakonda.          | Refers to a bucket, typically for carrying liquids or small items.                                      |\n",
    "| 17  | 誤認             | ごにん       | gonin        | mistake, error, false recognition, to mistake, to misunderstand                       | Noun/Verb      | 彼は誤認されたまま逮捕された。               | He was arrested after being mistaken for someone else.       | kare wa gonin sareta mama taiho sareta.            | Refers to the act of misidentifying or misunderstanding something or someone.                           |\n",
    "| 18  | ずぶ             | ずぶ         | zubu         | whole, entirely, all, completely, totally                                             | Prefix/Adverb  | ずぶ濡れになった。                           | I got completely soaked.                                     | zubu nure ni natta.                                | Used to emphasize totality or completeness of an action or state.                                       |\n",
    "| 19  | 顧みる           | かえりみる   | kaerimiru    | to look back, to review, to retrospect, to reflect, to look backward                  | Verb           | 彼は過去を顧みることが多い。                 | He often reflects on the past.                               | kare wa kako o kaerimiru koto ga ooi.              | Refers to reflecting on or looking back at one's past actions or experiences.                           |\n",
    "| 20  | コスプレ         | コスプレ     | kosupure     | cosplay                                                                               | Noun           | コスプレイベントに参加した。                 | I participated in a cosplay event.                           | kosupure ibento ni sanka shita.                    | Refers to dressing up as characters from movies, TV shows, or games, a popular culture activity.        |\n",
    "| 21  | 聖地             | せいち       | seichi       | holy place, Holy Land                                                                 | Noun           | これは私たちの聖地だ。                       | This is our holy place.                                      | kore wa watashitachi no seichi da.                 | Refers to a sacred or spiritually significant place.                                                    |\n",
    "| 22  | 弾む             | はずむ       | hazumu       | to spring, to bounce, to be stimulated                                                | Verb           | 彼女の心が弾んでいるように見える。           | She seems to be in high spirits.                             | kanojo no kokoro ga hazunde iru you ni mieru.      | Refers to something bouncing or springing, or to someone feeling excited or energized.                  |\n",
    "| 23  | 腰痛             | ようつう     | yōtsū        | backache, lower back pain                                                             | Noun           | 長時間座っていると腰痛がひどくなる。         | My back pain gets worse if I sit for a long time.            | chōjikan suwatte iru to yōtsū ga hidoku naru.      | Refers specifically to pain in the lower back, a common complaint.                                      |\n",
    "| 24  | 異物             | いぶつ       | ibutsu       | a foreign body, an alien substance                                                    | Noun           | 目に異物が入った。                           | Something got into my eye.                                   | me ni ibutsu ga haitta.                            | Refers to an object or substance that is foreign to its usual environment.                              |\n",
    "| 25  | 混入             | こんにゅう   | konnyū       | contamination, mixture, blending, to contaminate, to mix, to blend                    | Noun/Verb      | 食べ物に異物が混入していた。                 | Foreign objects were mixed in with the food.                 | tabemono ni ibutsu ga konnyū shite ita.            | Refers to mixing or contaminating something, often in a negative sense.                                 |\n",
    "\n",
    "---\n",
    "\n",
    "This set continues with a mix of common expressions and specific terms, such as \"イチゴ狩り\" (strawberry picking) and \"脱税\" (tax evasion), along with other useful words for describing experiences or situations. Let me know if you need more examples or further explanations!\n"
   ]
  },
  {
   "cell_type": "markdown",
   "metadata": {},
   "source": [
    "Here is the next set of vocabulary along with example sentences in the same format as before:\n",
    "\n",
    "---\n",
    "\n",
    "| No. | Japanese (Kanji) | Hiragana             | Romaji          | English Translation                                               | Part of Speech | Example Sentence (Japanese)              | Example Sentence (English)                         | Example Sentence (Romaji)                               | Notes                                                                                     |\n",
    "| --- | ---------------- | -------------------- | --------------- | ----------------------------------------------------------------- | -------------- | ---------------------------------------- | -------------------------------------------------- | ------------------------------------------------------- | ----------------------------------------------------------------------------------------- |\n",
    "| 26  | 怠慢             | たいまん             | taimai          | neglect, inattention, carelessness, lazy                          | Noun/Adjective | 彼は怠慢な仕事ぶりをしている。           | He has a lazy work ethic.                          | kare wa taimai na shigotoburi o shite iru.              | Describes a lack of effort or negligence in work or duties.                               |\n",
    "| 27  | 怠る             | おこたる             | okotaru         | to neglect, to leave something undone, to be remiss in            | Verb           | 勉強を怠ると、成績が悪くなる。           | If you neglect studying, your grades will drop.    | benkyou o okotaru to, seiseki ga warukunaru.            | Describes failing to perform a duty or task properly.                                     |\n",
    "| 28  | 解雇             | かいこ               | kaiko           | layoff, dismissal, discharge, to dismiss, to fire                 | Noun/Verb      | 彼は会社に解雇された。                   | He was laid off by the company.                    | kare wa kaisha ni kaiko sareta.                         | Refers to being fired or dismissed from a job.                                            |\n",
    "| 29  | 独裁的           | どくさいてき         | dokusaiteki     | dictatorial, autocratic                                           | Adjective      | 彼は独裁的なリーダーシップを取っている。 | He takes a dictatorial approach to leadership.     | kare wa dokusaiteki na rīdāshippu o totte iru.          | Used to describe an authoritarian or absolute rule.                                       |\n",
    "| 30  | ぎっくり腰       | ぎっくりごし         | gikkuri-goshi   | strained back                                                     | Noun           | 重い物を持ってぎっくり腰になった。       | I strained my back lifting a heavy object.         | omoi mono o motte gokkuri-goshi ni natta.               | Refers to a sudden back injury or sprain, often from lifting.                             |\n",
    "| 31  | 搬送             | はんそう             | hansou          | conveyance, carrier, to convey, to carry                          | Noun/Verb      | 彼は病院に搬送された。                   | He was transported to the hospital.                | kare wa byouin ni hansou sareta.                        | Often used in the context of transporting people or goods.                                |\n",
    "| 32  | アルコール中毒   | アルコールちゅうどく | arukōru chūdoku | alcoholic intoxication, alcohol poisoning                         | Noun           | アルコール中毒が原因で入院した。         | He was hospitalized due to alcohol poisoning.      | arukōru chūdoku ga gen'in de nyūin shita.               | Refers to a serious condition caused by excessive alcohol consumption.                    |\n",
    "| 33  | 仮眠             | かみん               | kamin           | snooze, nap, to take a nap                                        | Noun/Verb      | 昼休みに仮眠を取った。                   | I took a nap during lunch break.                   | hiruyasumi ni kamin o totta.                            | A short, light sleep, often taken in the afternoon.                                       |\n",
    "| 34  | 異変             | いへん               | ihen            | an emergency, accident, something unusual                         | Noun/Adjective | 異変が起こる前に警告があった。           | There was a warning before the emergency occurred. | ihen ga okoru mae ni keikoku ga atta.                   | Refers to something unusual or unexpected happening.                                      |\n",
    "| 35  | 察する           | さっする             | sassuru         | to guess, to sense, to presume, to judge                          | Verb           | 彼の気持ちを察することができなかった。   | I couldn't sense his feelings.                     | kare no kimochi o sassuru koto ga dekinakatta.          | Describes an intuitive understanding or guess about a situation.                          |\n",
    "| 36  | 弾力             | だんりょく           | danryoku        | elastic force                                                     | Noun           | ゴムの弾力を使って跳ね返した。           | I bounced back using the elasticity of the rubber. | gomu no danryoku o tsukatte hanekaeshita.               | Describes the ability of a material to return to its original shape.                      |\n",
    "| 37  | しなやか         | しなやか             | shinayaka       | supple, flexible                                                  | Adjective      | 彼女はしなやかな体を持っている。         | She has a supple body.                             | kanojo wa shinayaka na karada o motte iru.              | Describes something or someone that is flexible or graceful.                              |\n",
    "| 38  | 使命             | しめい               | shimei          | mission                                                           | Noun           | 彼は自分の使命を果たすために働いている。 | He works to fulfill his mission.                   | kare wa jibun no shimei o hatasu tame ni hataraite iru. | Refers to a sense of purpose or a special duty.                                           |\n",
    "| 39  | 辛抱             | しんぼう             | shinbō          | patience, endurance, perseverance, to endure, to persevere        | Noun/Verb      | 辛抱強く待った。                         | I waited with patience.                            | shinbō dzuyoku matta.                                   | Describes the ability to endure hardship or difficult situations.                         |\n",
    "| 40  | 掬う             | すくう               | sukū            | to scoop out, to take up, to lift out                             | Verb           | バケツで水を掬った。                     | I scooped water with a bucket.                     | baketsu de mizu o sukutta.                              | Refers to lifting or scooping something, often from water or another container.           |\n",
    "| 41  | 費やす           | ついやす             | tsuiyasu        | to consume, to eat to exhaust, to deplete, to run through, to pay | Verb           | 彼は一晩でお金を費やしてしまった。       | He spent all his money in one night.               | kare wa hitobanju de okane o tsuiyashite shimatta.      | Refers to consuming resources or time excessively.                                        |\n",
    "| 42  | 痛切             | つうせつ             | tsūsetsu        | deep, poignant                                                    | Adjective      | その映画は痛切な感動を与えた。           | The movie had a deep, poignant impact.             | sono eiga wa tsūsetsu na kandō o ataeta.                | Describes something that is emotionally powerful or moving.                               |\n",
    "| 43  | 妬む             | ねたむ               | netamu          | to envy, to be jealous of                                         | Verb           | 彼は友達の成功を妬んでいる。             | He is jealous of his friend's success.             | kare wa tomodachi no seikō o netande iru.               | Refers to feeling envious or jealous, typically of someone's success or possessions.      |\n",
    "| 44  | ノイローゼ       | ノイローゼ           | noirōze         | cardiac neurosis, anxiety neurosis                                | Noun           | 彼はノイローゼで精神科に通っている。     | He is seeing a psychiatrist for anxiety neurosis.  | kare wa noirōze de seishinka ni kayotte iru.            | Refers to a state of psychological anxiety or stress, often leading to physical symptoms. |\n",
    "| 45  | 背景             | はけい               | haikei          | background                                                        | Noun           | この映画には深い背景がある。             | This movie has a deep background story.            | kono eiga ni wa fukai haikei ga aru.                    | Refers to the circumstances or setting behind something, such as a person or event.       |\n",
    "| 46  | 白状             | はくじょう           | hakujō          | confession, to confess, to admit, to acknowledge                  | Noun/Verb      | 彼は罪を白状した。                       | He confessed to the crime.                         | kare wa tsumi o hakujō shita.                           | Refers to admitting something, especially guilt or a mistake.                             |\n",
    "| 47  | 恥じらう         | はじらう             | hajirau         | to blush, to be shy                                               | Verb           | 彼女は恥じらいながら微笑んだ。           | She smiled shyly, blushing.                        | kanojo wa hajirainagara hohoenda.                       | Describes a person feeling bashful or embarrassed.                                        |\n",
    "| 48  | 没収             | ぼっしゅう           | bosshū          | confiscation, to confiscate                                       | Noun/Verb      | 彼の財産は没収された。                   | His property was confiscated.                      | kare no zaisan wa bosshū sareta.                        | Refers to the official act of taking someone's possessions by authority.                  |\n",
    "| 49  | みすぼらしい     | みすぼらしい         | misuborashii    | miserable, deplorable, execrable, woeful, wretched                | Adjective      | 彼はみすぼらしい服を着ていた。           | He was wearing miserable clothes.                  | kare wa misuborashii fuku o kite ita.                   | Used to describe something in a very poor or shabby condition.                            |\n",
    "| 50  | 微塵             | みじん               | mijin           | particle, small piece                                             | Noun           | 彼の言葉に微塵の嘘もなかった。           | There wasn't a particle of lie in his words.       | kare no kotoba ni mijin no uso mo nakatta.              | Refers to something very small, often used in the expression \"not a particle of...\"       |\n",
    "\n",
    "---\n",
    "\n",
    "This set provides vocabulary related to actions, feelings, and situations. If you need more information or additional examples, feel free to ask!\n"
   ]
  },
  {
   "cell_type": "markdown",
   "metadata": {},
   "source": [
    "Here's the continuation of the vocabulary list with example sentences for each entry:\n",
    "\n",
    "---\n",
    "\n",
    "| No. | Japanese (Kanji) | Hiragana     | Romaji       | English Translation                                         | Part of Speech     | Example Sentence (Japanese)                    | Example Sentence (English)                             | Example Sentence (Romaji)                              | Notes                                                                                  |\n",
    "| --- | ---------------- | ------------ | ------------ | ----------------------------------------------------------- | ------------------ | ---------------------------------------------- | ------------------------------------------------------ | ------------------------------------------------------ | -------------------------------------------------------------------------------------- |\n",
    "| 51  | ゆすぐ           | ゆすぐ       | yusugu       | to wash, to rinse                                           | Verb               | 口をゆすぐことで、口内をきれいにした。         | I rinsed my mouth to clean it.                         | kuchi o yusugu koto de, kunai o kirei ni shita.        | Often refers to rinsing something with water.                                          |\n",
    "| 52  | 好調             | こうちょう   | kōchō        | favorable, satisfactory, improving, well                    | Noun/Adjective     | 会社の業績は好調だ。                           | The company's performance is favorable.                | kaisha no gyōseki wa kōchō da.                         | Used to describe good progress or favorable conditions.                                |\n",
    "| 53  | 元来             | がんらい     | ganrai       | originally, primarily                                       | Adverb             | 元来、彼は静かな性格だった。                   | Originally, he had a quiet personality.                | ganrai, kare wa shizuka na seikaku datta.              | Refers to the inherent or original state of something or someone.                      |\n",
    "| 54  | 下痢             | げり         | geri         | diarrhea                                                    | Noun               | 下痢がひどくて、病院に行った。                 | I had severe diarrhea and went to the hospital.        | geri ga hidokute, byōin ni itta.                       | Refers to frequent and watery bowel movements.                                         |\n",
    "| 55  | 華々しい         | はなばなしい | hanabanashii | splendid, glorious                                          | Adjective          | 彼女は華々しい結婚式を挙げた。                 | She had a splendid wedding.                            | kanojo wa hanabanashii kekkonshiki o ageta.            | Describes something impressive or lavish.                                              |\n",
    "| 56  | アプローチ       | アプローチ   | apurōchi     | approach, to approach                                       | Noun/Verb          | 新しいアプローチを試してみた。                 | I tried a new approach.                                | atarashii apurōchi o tameshite mita.                   | Used in various contexts, including methods and strategies.                            |\n",
    "| 57  | インフレ         | インフレ     | infure       | inflation                                                   | Noun               | インフレの影響で物価が上がった。               | Due to inflation, prices went up.                      | infure no eikyō de bukka ga agatta.                    | Refers to the increase in prices and decrease in currency value.                       |\n",
    "| 58  | 嘲笑う           | あざわらう   | azawarau     | to deride, to laugh at, to make fun                         | Verb               | 彼は私を嘲笑うような顔をした。                 | He made a face as if to mock me.                       | kare wa watashi o azawarau yō na kao o shita.          | Often implies a mocking or disdainful laugh.                                           |\n",
    "| 59  | あべこべ         | あべこべ     | abekobe      | contrary, opposite, inverse                                 | Noun/Adjective     | 結果があべこべになった。                       | The results turned out the opposite.                   | kekka ga abekobe ni natta.                             | Describes something being reversed or opposite of what is expected.                    |\n",
    "| 60  | かぶれる         | かぶれる     | kabureru     | to be influenced, to be infected with, to get a rash        | Verb               | 新しい化粧品でかぶれた。                       | I got a rash from the new cosmetics.                   | atarashī keshōhin de kabureta.                         | Can also refer to being influenced by something, not just a physical rash.             |\n",
    "| 61  | しいて           | しいて       | shiite       | by force, forcibly                                          | Adverb             | しいて言えば、彼の意見に賛成できない。         | If I must say, I cannot agree with his opinion.        | shiite ieba, kare no iken ni sansei dekinai.           | Refers to forcing something to happen or being made to say something.                  |\n",
    "| 62  | 強いる           | しいる       | shiiru       | to thrust, to force, to impel                               | Verb               | 彼は私に無理に参加を強いた。                   | He forced me to participate unwillingly.               | kare wa watashi ni muri ni sanka o shiita.             | Describes an action where someone is made to do something against their will.          |\n",
    "| 63  | とんだ           | とんだ       | tonda        | awful, terrible, unexpected, unlikely                       | Pre-noun adjective | とんだ間違いを犯した。                         | I made a terrible mistake.                             | tonda machigai o okashita.                             | Often used to describe something shocking or disastrous.                               |\n",
    "| 64  | だぶだぶ         | だぶだぶ     | dabudabu     | loose, baggy, to be loose                                   | Adverb/Adjective   | その服はだぶだぶで大きすぎる。                 | Those clothes are too big and baggy.                   | sono fuku wa dabudabu de ōkī sugiru.                   | Refers to clothing or things that are excessively loose.                               |\n",
    "| 65  | 中傷             | ちゅうしょう | chūshō       | slander, slur, to injure someone's reputation               | Noun/Verb          | 彼は中傷を受けて会社を辞めた。                 | He quit the company after being slandered.             | kare wa chūshō o ukete kaisha o yameta.                | Refers to harmful or false statements made to damage someone's reputation.             |\n",
    "| 66  | 束の間           | つかのま     | tsukanoma    | brief, a moment                                             | Noun               | つかの間の休息を取った。                       | I took a brief rest.                                   | tsukanoma no kyūsoku o totta.                          | Refers to a very short amount of time or moment.                                       |\n",
    "| 67  | 楽観             | らっかん     | rakkan       | optimistic view, optimism                                   | Noun               | 彼の楽観的な態度に影響を受けた。               | I was influenced by his optimistic attitude.           | kare no rakkanteki na taido ni eikyō o uketa.          | Refers to seeing things in a positive or hopeful light.                                |\n",
    "| 68  | 悲観             | ひかん       | hikan        | despair, disappointment, pessimism                          | Noun               | 彼女は未来に対して悲観的だった。               | She was pessimistic about the future.                  | kanojo wa mirai ni taishite hikanteki datta.           | Refers to seeing things negatively or with a lack of hope.                             |\n",
    "| 69  | ぶかぶか         | ぶかぶか     | bukabuka     | loosely, loose-fitting, baggy, to be loose                  | Adverb/Adjective   | そのシャツはぶかぶかで着心地が悪い。           | The shirt is too loose and uncomfortable to wear.      | sono shatsu wa bukabuka de kigokochi ga warui.         | Similar to だぶだぶ, often describing clothing that is too big.                        |\n",
    "| 70  | ぺこぺこ         | ぺこぺこ     | pekopeko     | hungry, starving, in a servile manner                       | Adverb/Adjective   | お腹がぺこぺこだ。                             | I'm starving.                                          | onaka ga pekopeko da.                                  | Can also describe someone overly subservient, bowing repeatedly.                       |\n",
    "| 71  | またがる         | またがる     | matagaru     | to ride on                                                  | Verb               | 馬にまたがるのが好きだ。                       | I like riding horses.                                  | uma ni matagaru no ga suki da.                         | Refers to straddling or riding an animal, often a horse.                               |\n",
    "| 72  | まるっきり       | まるっきり   | marukkiri    | entirely, wholly, completely                                | Adverb             | まるっきり知らなかった。                       | I didn’t know anything about it at all.                | marukkiri shiranakatta.                                | Strong expression of total lack or absence of something.                               |\n",
    "| 73  | むしる           | むしる       | mushiru      | to pluck, to tear                                           | Verb               | 花をむしるのはやめなさい。                     | Stop plucking the flowers.                             | hana o mushiru no wa yamenasai.                        | Refers to pulling or tearing things out, often by hand.                                |\n",
    "| 74  | 明瞭             | めいりょう   | meiryō       | clearness, plainness, intelligible                          | Adjective/Noun     | 彼の説明は明瞭でわかりやすかった。             | His explanation was clear and easy to understand.      | kare no setsumei wa meiryō de wakariyasukatta.         | Refers to clarity or something easily understood.                                      |\n",
    "| 75  | もっぱら         | もっぱら     | moppara      | entirely, exclusively, solely                               | Adverb             | 彼はもっぱら音楽に没頭している。               | He is solely focused on music.                         | kare wa moppara ongaku ni bottō shite iru.             | Describes something done to the exclusion of other things.                             |\n",
    "| 76  | やり通す         | やりとおす   | yaritōsu     | to carry out, to complete                                   | Verb               | どんな困難があっても、目標をやり通すつもりだ。 | No matter the difficulty, I plan to carry out my goal. | donna konnan ga attemo, mokuhyō o yaritōsu tsumori da. | Describes persistence in completing a task.                                            |\n",
    "| 77  | 目力             | めぢから     | mejikara     | eye appeal, the ability to convey strong emotions with eyes | Noun               | 彼は目力で多くの人を引きつけた。               | He attracted many people with his powerful gaze.       | kare wa mejikara de ōku no hito o hikitsuketa.         | Refers to the ability to communicate intense emotions or presence through eye contact. |\n",
    "\n",
    "---\n",
    "\n",
    "These entries contain practical vocabulary for a variety of contexts, from everyday activities to more abstract concepts. Let me know if you'd like further details or more examples!\n"
   ]
  },
  {
   "cell_type": "markdown",
   "metadata": {},
   "source": [
    "---"
   ]
  },
  {
   "cell_type": "markdown",
   "metadata": {},
   "source": [
    "# Conversation"
   ]
  },
  {
   "cell_type": "markdown",
   "metadata": {},
   "source": [
    "ワン :お邪魔します。\n",
    "\n",
    "安 藤 :いらっしゃい。\n",
    "\n",
    "ワン : 安 藤 さんのうちの 近 くの 道 は、 休 日 とあって 結 構 混んでいますね。\n",
    "\n",
    "安 藤 : ああ、うちの 近 くに、歴史のある 神 社 があるから、 朝 から\n",
    "    観 光 客 がたくさん来るんですよ。混んでて 疲 れたでしょう。\n",
    "    ワンさん、この 前 やってたドラマの 最 終 回 の DVD をレンタルし\n",
    "    たので 一 緒 に見ませんか?お菓子もあるので、食べながら見ましょうよ。\n",
    "\n",
    "ワン :やった!あのドラマの 最 終 回 、見たかったんですけど、 忙 しく\n",
    "    て見そびれちゃったんですよ。\n",
    "\n",
    "ワン:ラストは、がっかりというか、理解できないというか、 複 雑 な気持\n",
    "ちでいっぱいですね。\n",
    "\n",
    "安 藤 : 最 終 回 の 前 まではよかったんですけどね。 結 末 がイマイチだっ\n",
    "    たこともあって、 最 終 回 の 視 聴 率 がいちばん 低 かったらしいですよ。\n",
    "\n",
    "ワン :この DVD のパッケージには、 主 演 俳 優 のことを「 演 技 力 もさる\n",
    "    ことながら、 鋭 い 目 力 とミステリアスな容姿で、 圧 倒 的 な\n",
    "    存 在 感 を 放 っている」って書いてありますね。\n",
    "\n",
    "安 藤 :たしかにあの 俳 優 はよかったですね。でもストーリーがなあ。\n",
    "    まあ、でも 暇 つぶしとしてはちょうどよかったですね。\n",
    "\n",
    "ワン :そうですね。あ、そうだ。もうすぐゴールデンウィークなので、\n",
    "    どこかに行こうと 思 うんですが、 安 藤 さんのおすすめの場所はあり\n",
    "    ますか。\n",
    "\n",
    "安 藤 :う〜ん。ゴールデンウィークともなると、 有 名 な観 光 地 は\n",
    "    どこも 相 当 な 混 雑 ですからねえ。\n",
    "    ああ、そうだ。 埼 玉 に行ってイチゴ狩りはどうですか。子どもの 頃\n",
    "    よく行ったんですけど、 苺 が 入 ったソフトクリームが売っていて、と\n",
    "    てもおいしかったですよ。そんなに 有 名 じゃないから、穴場だと 思 います。\n",
    "\n",
    "ワン :へえ、イチゴ狩りですか。 面 白 そうですね!ぜひ行ってみたいです。\n",
    "\n",
    "安 藤 :家族に聞けば 詳 しい場所とか行き 方 がわかると 思 います。\n",
    "    わかったら 連 絡 しますね!\n"
   ]
  },
  {
   "cell_type": "markdown",
   "metadata": {},
   "source": [
    "Here's a table format for the conversation with Japanese, Romaji, and English translations:\n",
    "\n",
    "| Speaker | Japanese (Hiragana)                                                                                                                                                                                                                                                              | Japanese (Kanji)                                                                                                                                                                                                                                                                 | English Translation                                                                                                                                                                                                                                                                                                | Romaji                                                                                                                                                                                                                                                                                                        | Notes                                                                                                                  |\n",
    "| ------- | -------------------------------------------------------------------------------------------------------------------------------------------------------------------------------------------------------------------------------------------------------------------------------- | -------------------------------------------------------------------------------------------------------------------------------------------------------------------------------------------------------------------------------------------------------------------------------- | ------------------------------------------------------------------------------------------------------------------------------------------------------------------------------------------------------------------------------------------------------------------------------------------------------------------ | ------------------------------------------------------------------------------------------------------------------------------------------------------------------------------------------------------------------------------------------------------------------------------------------------------------- | ---------------------------------------------------------------------------------------------------------------------- |\n",
    "| ワン    | おじゃまします。                                                                                                                                                                                                                                                                 | お邪魔します。                                                                                                                                                                                                                                                                   | Excuse me for intruding.                                                                                                                                                                                                                                                                                           | Ojama shimasu.                                                                                                                                                                                                                                                                                                | A polite phrase when entering someone’s house.                                                                         |\n",
    "| 安藤    | いらっしゃい。                                                                                                                                                                                                                                                                   | いらっしゃい。                                                                                                                                                                                                                                                                   | Welcome.                                                                                                                                                                                                                                                                                                           | Irasshai.                                                                                                                                                                                                                                                                                                     | Casual but polite welcome.                                                                                             |\n",
    "| ワン    | 安藤さんのうちの 近くの 道 は、 休日 とあって 結構 混んでいますね。                                                                                                                                                                                                              | 安藤さんのうちの近くの道は、休日とあって結構混んでいますね。                                                                                                                                                                                                                     | The roads near your house are quite crowded because it’s a holiday.                                                                                                                                                                                                                                                | Andō-san no uchi no chikaku no michi wa, kyūjitsu to atte kekkō kondeimasu ne.                                                                                                                                                                                                                                | _結構_ (kekkō) means \"quite\" or \"fairly\". _混んでいます_ (kondeimasu) means \"crowded\".                                 |\n",
    "| 安藤    | ああ、うちの 近くに、歴史のある 神社 があるから、 朝 から 観光 客 がたくさん来るんですよ。混んでて 疲れたでしょう。ワンさん、この前 やってたドラマの 最終回 の DVD をレンタルしたので 一緒に見ませんか?お菓子もあるので、食べながら見ましょうよ。                                | ああ、うちの近くに、歴史のある神社があるから、朝から観光客がたくさん来るんですよ。混んでて疲れたでしょう。ワンさん、この前やってたドラマの最終回の DVD をレンタルしたので一緒に見ませんか？お菓子もあるので、食べながら見ましょうよ。                                            | Ah, there’s a historical shrine near my place, so tourists come in the morning. It must have been crowded and tiring. Wan-san, I rented the DVD of the final episode of the drama that was on recently, would you like to watch it together? I have some snacks, let’s watch while eating.                         | Ā, uchi no chikaku ni, rekishi no aru jinja ga aru kara, asa kara kankō kyaku ga takusan kuru n desu yo. Kondete tsukareta deshō. Wan-san, kono mae yattetadōrama no saishūkai no DVD o rentaru shita node issho ni mimasen ka? Okashi mo aru node, tabenagara mimashō yo.                                    | _観光客_ (kankō kyaku) means \"tourists\". _疲れた_ (tsukareta) means \"tired\". _レンタル_ (rentaru) means \"rental\".      |\n",
    "| ワン    | やった!あのドラマの 最終回 、見たかったんですけど、忙しくて見そびれちゃったんですよ。                                                                                                                                                                                            | やった！あのドラマの最終回、見たかったんですけど、忙しくて見そびれちゃったんですよ。                                                                                                                                                                                             | Yay! I wanted to see the final episode of that drama, but I was too busy and missed it.                                                                                                                                                                                                                            | Yatta! Ano dorama no saishūkai, mitakatta n desu kedo, isogashikute misobirechatta n desu yo.                                                                                                                                                                                                                 | _見そびれちゃった_ (misobirechatta) means \"missed (the opportunity)\".                                                  |\n",
    "| ワン    | ラストは、がっかりというか、理解できないというか、複雑な気持ちでいっぱいですね。                                                                                                                                                                                                 | ラストは、がっかりというか、理解できないというか、複雑な気持ちでいっぱいですね。                                                                                                                                                                                                 | The ending was disappointing, or rather, it was confusing, and I’m filled with mixed feelings.                                                                                                                                                                                                                     | Rasuto wa, gakkari to iu ka, rikai dekinai to iu ka, fukuzatsu na kimochi de ippai desu ne.                                                                                                                                                                                                                   | _がっかり_ (gakkari) means \"disappointed\". _複雑_ (fukuzatsu) means \"complicated/mixed\".                               |\n",
    "| 安藤    | 最終回の前まではよかったんですけどね。結末がイマイチだったこともあって、最終回の視聴率がいちばん低かったらしいですよ。                                                                                                                                                           | 最終回の前まではよかったんですけどね。結末がイマイチだったこともあって、最終回の視聴率がいちばん低かったらしいですよ。                                                                                                                                                           | It was good until the final episode, but since the ending was somewhat lackluster, it seems that the final episode had the lowest viewer ratings.                                                                                                                                                                  | Saishūkai no mae made wa yokatta n desu kedo ne. Ketsumatsu ga imaichi datta koto mo atte, saishūkai no shichōritsu ga ichiban hikukatta rashii desu yo.                                                                                                                                                      | _結末_ (ketsumatsu) means \"ending\". _視聴率_ (shichōritsu) means \"viewership\".                                         |\n",
    "| ワン    | この DVD のパッケージには、主演俳優のことを「演技力もさることながら、鋭い目力とミステリアスな容姿で、圧倒的な存在感を放っている」って書いてありますね。                                                                                                                          | この DVD のパッケージには、主演俳優のことを「演技力もさることながら、鋭い目力とミステリアスな容姿で、圧倒的な存在感を放っている」って書いてありますね。                                                                                                                          | The DVD package says, \"Not only is the acting talent outstanding, but the actor also exudes an overwhelming presence with sharp eyes and a mysterious appearance.\"                                                                                                                                                 | Kono DVD no pakkēji ni wa, shuen haiyū no koto o \"engiryoku mo saru koto nagara, surudoi me-doku to misuteriasu na yōshi de, attōteki na sonzaikan o hanatte iru\" tte kaite arimasu ne.                                                                                                                       | _演技力_ (engiryoku) means \"acting ability\". _鋭い_ (surudoi) means \"sharp\". _圧倒的_ (attōteki) means \"overwhelming\". |\n",
    "| 安藤    | たしかにあの俳優はよかったですね。でもストーリーがなあ。まあ、でも暇つぶしとしてはちょうどよかったですね。                                                                                                                                                                       | たしかにあの俳優はよかったですね。でもストーリーがなあ。まあ、でも暇つぶしとしてはちょうどよかったですね。                                                                                                                                                                       | That actor was certainly good, but the story... well, for passing the time, it was just fine.                                                                                                                                                                                                                      | Tashika ni ano haiyū wa yokatta desu ne. Demo sutōrī ga nā. Mā, demo himatsubushi toshite wa chōdo yokatta desu ne.                                                                                                                                                                                           | _暇つぶし_ (himatsubushi) means \"passing the time\".                                                                    |\n",
    "| ワン    | そうですね。あ、そうだ。もうすぐゴールデンウィークなので、どこかに行こうと思うんですが、安藤さんのおすすめの場所はありますか。                                                                                                                                                   | そうですね。あ、そうだ。もうすぐゴールデンウィークなので、どこかに行こうと思うんですが、安藤さんのおすすめの場所はありますか。                                                                                                                                                   | That’s true. Oh, by the way, Golden Week is coming soon, and I was thinking about going somewhere. Do you have any recommended places?                                                                                                                                                                             | Sō desu ne. A, sō da. Mō sugu Gōruden Wīku nanode, dokoka ni ikou to omou n desu ga, Andō-san no osusume no basho wa arimasu ka.                                                                                                                                                                              | _ゴールデンウィーク_ (Gōruden Wīku) refers to \"Golden Week,\" a popular holiday season in Japan.                        |\n",
    "| 安藤    | う〜ん。ゴールデンウィークともなると、有名な観光地はどこも相当な混雑ですからねえ。ああ、そうだ。埼玉に行ってイチゴ狩りはどうですか。子どもの頃よく行ったんですけど、苺が入ったソフトクリームが売っていて、とてもおいしかったですよ。そんなに有名じゃないから、穴場だと思います。 | う〜ん。ゴールデンウィークともなると、有名な観光地はどこも相当な混雑ですからねえ。ああ、そうだ。埼玉に行ってイチゴ狩りはどうですか。子どもの頃よく行ったんですけど、苺が入ったソフトクリームが売っていて、とてもおいしかったですよ。そんなに有名じゃないから、穴場だと思います。 | Hmm, during Golden Week, all the famous tourist spots are crowded. Ah, I have an idea! How about going strawberry picking in Saitama? I used to go there when I was a kid, and they sell strawberry-flavored soft serve ice cream, which was really delicious. It’s not that famous, so I think it’s a hidden gem. | Ūn. Gōruden Wīku to mo naru to, yūmei na kankōchi wa dokomo sōtō na konzatsu desu kara nee. Ā, sō da. Saitama ni itte ichigo-gari wa dō desu ka. Kodomo no koro yoku ittan desu kedo, ichigo ga haitta sofutokurīmu ga utte ite, totemo oishikatta desu yo. Sonna ni yūmei ja nai kara, anaba da to omoimasu. | _穴場_ (anaba) means \"hidden gem\" or \"lesser-known spot\".                                                              |\n",
    "| ワン    | へえ、イチゴ狩りですか。面白そうですね!ぜひ行ってみたいです。                                                                                                                                                                                                                    | へえ、イチゴ狩りですか。面白そうですね！ぜひ行ってみたいです。                                                                                                                                                                                                                   | Wow, strawberry picking? That sounds interesting! I’d love to try it.                                                                                                                                                                                                                                              | Hee, ichigo-gari desu ka. Omoshirosō desu ne! Zehi itte mitai desu.                                                                                                                                                                                                                                           | _面白そう_ (omoshirosō) means \"sounds interesting\".                                                                    |\n",
    "| 安藤    | 家族に聞けば詳しい場所とか行き方がわかると思います。わかったら連絡しますね!                                                                                                                                                                                                      | 家族に聞けば詳しい場所とか行き方がわかると思います。わかったら連絡しますね！                                                                                                                                                                                                     | I think my family knows the details and how to get there. I’ll let you know once I find out!                                                                                                                                                                                                                       | Kazoku ni kikeba kuwashī basho toka ikikata ga wakaru to omoimasu. Wakattara renraku shimasu ne!                                                                                                                                                                                                              | _詳しい_ (kuwashī) means \"detailed\". _連絡_ (renraku) means \"contact\" or \"notify\".                                     |\n",
    "\n",
    "This dialogue reflects a casual interaction between friends, where they discuss a drama they watched, suggest a fun activity (strawberry picking), and make plans for the upcoming Golden Week holiday. The Japanese language used here is informal and friendly, with polite nuances where needed.\n"
   ]
  },
  {
   "cell_type": "markdown",
   "metadata": {},
   "source": [
    "---"
   ]
  },
  {
   "cell_type": "markdown",
   "metadata": {},
   "source": [
    "# Grammar 1\n"
   ]
  },
  {
   "cell_type": "markdown",
   "metadata": {},
   "source": []
  },
  {
   "cell_type": "markdown",
   "metadata": {},
   "source": []
  },
  {
   "cell_type": "markdown",
   "metadata": {},
   "source": []
  },
  {
   "cell_type": "markdown",
   "metadata": {},
   "source": [
    "---\n",
    "---"
   ]
  },
  {
   "cell_type": "markdown",
   "metadata": {},
   "source": [
    "# Grammar 2\n"
   ]
  },
  {
   "cell_type": "markdown",
   "metadata": {},
   "source": []
  },
  {
   "cell_type": "markdown",
   "metadata": {},
   "source": []
  },
  {
   "cell_type": "markdown",
   "metadata": {},
   "source": []
  },
  {
   "cell_type": "markdown",
   "metadata": {},
   "source": [
    "---\n",
    "---"
   ]
  },
  {
   "cell_type": "markdown",
   "metadata": {},
   "source": [
    "# Grammar 3\n"
   ]
  },
  {
   "cell_type": "markdown",
   "metadata": {},
   "source": []
  },
  {
   "cell_type": "markdown",
   "metadata": {},
   "source": []
  },
  {
   "cell_type": "markdown",
   "metadata": {},
   "source": []
  },
  {
   "cell_type": "markdown",
   "metadata": {},
   "source": [
    "---\n",
    "---"
   ]
  },
  {
   "cell_type": "markdown",
   "metadata": {},
   "source": [
    "# Grammar 4\n"
   ]
  },
  {
   "cell_type": "markdown",
   "metadata": {},
   "source": []
  },
  {
   "cell_type": "markdown",
   "metadata": {},
   "source": []
  },
  {
   "cell_type": "markdown",
   "metadata": {},
   "source": []
  },
  {
   "cell_type": "markdown",
   "metadata": {},
   "source": [
    "---\n",
    "---"
   ]
  },
  {
   "cell_type": "markdown",
   "metadata": {},
   "source": [
    "# Grammar 5\n"
   ]
  },
  {
   "cell_type": "markdown",
   "metadata": {},
   "source": []
  },
  {
   "cell_type": "markdown",
   "metadata": {},
   "source": []
  },
  {
   "cell_type": "markdown",
   "metadata": {},
   "source": []
  },
  {
   "cell_type": "markdown",
   "metadata": {},
   "source": [
    "---\n",
    "---"
   ]
  },
  {
   "cell_type": "markdown",
   "metadata": {},
   "source": [
    "# Grammar 6\n"
   ]
  },
  {
   "cell_type": "markdown",
   "metadata": {},
   "source": []
  },
  {
   "cell_type": "markdown",
   "metadata": {},
   "source": []
  },
  {
   "cell_type": "markdown",
   "metadata": {},
   "source": []
  },
  {
   "cell_type": "markdown",
   "metadata": {},
   "source": [
    "---\n",
    "---"
   ]
  },
  {
   "cell_type": "markdown",
   "metadata": {},
   "source": [
    "# Grammar 7\n"
   ]
  },
  {
   "cell_type": "markdown",
   "metadata": {},
   "source": []
  },
  {
   "cell_type": "markdown",
   "metadata": {},
   "source": []
  },
  {
   "cell_type": "markdown",
   "metadata": {},
   "source": []
  },
  {
   "cell_type": "markdown",
   "metadata": {},
   "source": [
    "---\n",
    "---"
   ]
  },
  {
   "cell_type": "markdown",
   "metadata": {},
   "source": [
    "# Grammar 8\n"
   ]
  },
  {
   "cell_type": "markdown",
   "metadata": {},
   "source": []
  },
  {
   "cell_type": "markdown",
   "metadata": {},
   "source": []
  },
  {
   "cell_type": "markdown",
   "metadata": {},
   "source": []
  },
  {
   "cell_type": "markdown",
   "metadata": {},
   "source": [
    "---\n",
    "---"
   ]
  },
  {
   "cell_type": "markdown",
   "metadata": {},
   "source": [
    "# Grammar 9\n"
   ]
  },
  {
   "cell_type": "markdown",
   "metadata": {},
   "source": []
  },
  {
   "cell_type": "markdown",
   "metadata": {},
   "source": []
  },
  {
   "cell_type": "markdown",
   "metadata": {},
   "source": []
  },
  {
   "cell_type": "markdown",
   "metadata": {},
   "source": [
    "---\n",
    "---"
   ]
  },
  {
   "cell_type": "markdown",
   "metadata": {},
   "source": [
    "# Grammar 10\n"
   ]
  },
  {
   "cell_type": "markdown",
   "metadata": {},
   "source": []
  },
  {
   "cell_type": "markdown",
   "metadata": {},
   "source": []
  },
  {
   "cell_type": "markdown",
   "metadata": {},
   "source": []
  },
  {
   "cell_type": "markdown",
   "metadata": {},
   "source": [
    "---\n",
    "---"
   ]
  },
  {
   "cell_type": "markdown",
   "metadata": {},
   "source": [
    "# Grammar 11\n"
   ]
  },
  {
   "cell_type": "markdown",
   "metadata": {},
   "source": []
  },
  {
   "cell_type": "markdown",
   "metadata": {},
   "source": []
  },
  {
   "cell_type": "markdown",
   "metadata": {},
   "source": []
  },
  {
   "cell_type": "markdown",
   "metadata": {},
   "source": [
    "---\n",
    "---"
   ]
  },
  {
   "cell_type": "markdown",
   "metadata": {},
   "source": [
    "# Grammar 12\n"
   ]
  },
  {
   "cell_type": "markdown",
   "metadata": {},
   "source": []
  },
  {
   "cell_type": "markdown",
   "metadata": {},
   "source": []
  },
  {
   "cell_type": "markdown",
   "metadata": {},
   "source": []
  },
  {
   "cell_type": "markdown",
   "metadata": {},
   "source": [
    "---\n",
    "---"
   ]
  }
 ],
 "metadata": {
  "language_info": {
   "name": "python"
  }
 },
 "nbformat": 4,
 "nbformat_minor": 2
}
