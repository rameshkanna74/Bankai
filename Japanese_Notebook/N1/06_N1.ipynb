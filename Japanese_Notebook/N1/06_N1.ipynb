{
 "cells": [
  {
   "cell_type": "markdown",
   "metadata": {},
   "source": [
    "# N1\n",
    "\n",
    "### 第 06 課 - こんな大事なプロジェクトを任 されるなんて、想像 だにしていなかった。\n",
    "\n",
    "### Lesson 06 - Little did I imagine that I would be in charge of such a big project."
   ]
  },
  {
   "cell_type": "markdown",
   "metadata": {},
   "source": [
    "# Vocabulary"
   ]
  },
  {
   "cell_type": "markdown",
   "metadata": {},
   "source": [
    "    1.きまずい 気まずい い-adj. embarrassed/awkward\n",
    "    2.たいこう 対抗 n./vi. opposition/antagonism/to oppose/to confront/to cope with/to rival\n",
    "    3.とりつぐ 取り次ぐ vt. to convey/to announce\n",
    "    4.とりたてる 取り立てる vt. to collect/to promote/to emphasize\n",
    "    5.こける 転ける vi. to fall/to collapse\n",
    "    6.つまずく 躓く vi. to stumble/to trip over(anything)/to fail\n",
    "    7.さいばんちょう 裁判長 n. the chief judge/the chief justice\n",
    "    8.ちょうえき 懲役 n. penal servitude/prison term\n",
    "    9.むき 無期 n./な-adj. indefinite/unlimited/indefinite period/unlimited term\n",
    "    10.ゆうき 有期 n. definite term\n",
    "    11.げんこく 原告 n. accuser/plaintiff\n",
    "    12.ひこく 被告 n. the accused/defendant\n",
    "    13.びどう 微動 n./vi. slight shock/to quiver/to tremor\n",
    "    14.はいたい 敗退 n./vi. defeat/to retreat/to lose\n",
    "    15.かべがみ 壁紙 n. wallpaper/paper hanging\n",
    "    16.とうき 陶器 n. pottery/earthenware\n",
    "    17.ためる 矯める vt. to amend/to repair/ to rectify/to remedy/ to falsify/to reform/to reclaim /to aim\n",
    "    18.すがめる 眇める vt. to scrutinize/to look closely at\n",
    "    19.おさななじみ 幼馴染み n. childhood friend/ friend from infancy/ old playmate\n",
    "    20.ささぶね 笹舟 n. bamboo grass leaf boat\n",
    "    21.じょうりゅう 上流 n. upstream\n",
    "    22.かりゅう 下流 n. downstream\n",
    "    23.デビュー n./vi. debut/to debut\n",
    "    24.ふしょうじ 不祥事 n. scandal\n",
    "    25.はばかる 憚る vi./vt. to hesitate/ to have scruples/to be afraid of what others may think\n"
   ]
  },
  {
   "cell_type": "markdown",
   "metadata": {},
   "source": [
    "    26.けっさく 傑作 n. masterpiece/ great work of art\n",
    "    27.だんげん 断言 n./vt. positive statement/ assertion/declaration/ to make an assertion/ to affirm\n",
    "    28.たんけん 探検 n./vt. expedition/exploration/ to explore/to make an expedition\n",
    "    29.ばれる vi. to leak/ to leak out/ to come out/ to be discovered/ to be found out\n",
    "    30.かんさつ 観察 n./vt. observation/to observe\n",
    "    31.けいひん 景品 n. gift/premium\n",
    "    32.さんきゅう 産休 n. maternity leave/childbirth leave\n",
    "    33.だいたい 代替 n./vt. substitution/ alternative/to substitute/to alternate\n",
    "    34.しょうとつ 衝突 n./vi. crack-up/conflict/crash/collision/impingement/to collide/to encounter\n",
    "    35.ちょくしん 直進 n./vi. direct advance/going straight/to go straight\n",
    "    36.おうてん 横転 n./vi. overturning/to turn\n",
    "    37.させつ 左折 n./vi. left turn/to turn left\n",
    "    38.うせつ 右折 n./vi. right turn/to turn right\n",
    "    39.パトカー n. patrol car\n",
    "    40.だぼく 打撲 n./vt. contusion/bruise/ blow/to bruise\n",
    "    41.けいしょう 軽傷 n. slight injury\n",
    "    42.じゅうたい 重体 n. critical stage/serious condition\n",
    "    43.もくげき 目撃 n./vt. witnessing/observing/sighting/to witness\n",
    "    44.さいぶ 細部 n. point/detail/fine\n",
    "    45.はもの 刃物 n. cutting tool/edge tool/cutter\n",
    "    46.おしいる 押し入る n. to burgle/to break into (a house)\n",
    "    47.おどす 脅す vt. to threaten/to intimidate/to restrain\n",
    "    48.はんこう 犯行 n. crime/guilty deed\n",
    "    49.かけつける 駆けつける vi. to rush/to run to\n",
    "    50.スリル n. thrill\n"
   ]
  },
  {
   "cell_type": "markdown",
   "metadata": {},
   "source": [
    "    51.とりおさえる 取り押さえる vt. to hold down/to subdue/to seize/to catch\n",
    "    52.きょうじゅつ 供述 n./vt. allegation/statement/to testify/to confess\n",
    "    53.あおぐ 仰ぐ vt. to look up to/to admire/to respect/to honor/to abide by\n",
    "    54.つぶら 円ら な-adj. round and cute\n",
    "    55.てぎわ 手際 n. workmanship/skill/craftsmanship\n",
    "    56.ときおり 時折 adv. sometimes/occasionally/at times/from time to time\n",
    "    57.とうとい 尊い い-adj. precious/valuable/priceless/noble/exalted/sacred\n",
    "    58.ふさわしい 相応しい い-adj. appropriate/suitable/worthy/desirable\n",
    "    59.ぶらぶら adv./vi. aimlessly/idly/to linger/to stroll\n",
    "    60.べんかい 弁解 n./vi./vt. excuse/explanation/to excuse/to explain\n",
    "    61.ほころびる 綻びる vi. to open/to become unsewn/to smile\n",
    "    62.ほっさ 発作 n./vi. stroke/spasm/to stroke/to have a fit\n",
    "    63.まぎれる 紛れる vi. to be confused/to be lost in/to slip into/to distract\n",
    "    64.うっかり adv. carelessly/thoughtlessly/inadvertently\n",
    "    65.いっせいに 一斉に adv. simultaneously/at the same time/all at once\n",
    "    66.みのうえ 身の上 n. one's personal affair/one's life/one's future\n",
    "    67.みれん 未練 n./な-adj. lingering affection/regret/reluctance/ruefulness/irresolute\n",
    "    68.おおがら 大柄 n./な-adj. large build/large pattern\n",
    "    69.こがら 小柄 n./な-adj. small build/petite\n",
    "    70.ひらたい 平たい い-adj. flat/uncomplicated/unproblematic/even\n",
    "    71.げんみつ 厳密 な-adj. austere/rigid/rigorous/severe/stern\n",
    "    72.こうご 交互 n. mutual/alternate\n",
    "    73.こころよい 快い い-adj. comfortable/nice/pleasant\n",
    "    74.のどか 長閑 な-adj. tranquil/calm/quiet/peaceful\n",
    "    75.おごそかに 厳かに adv. solemnly\n",
    "    76.こころざす 志す vi. to intend/ to aspire/to propose/to aim\n",
    "    77.こころざし 志 n. intention/will/resolution\n",
    "    78.るいしん 累進 n./vi. successive (gradual)promotion/to rise step by step\n"
   ]
  },
  {
   "cell_type": "markdown",
   "metadata": {},
   "source": [
    "Here is the formatted table for the next set of vocabulary words, with their English translations, example sentences, and explanations.\n",
    "\n",
    "---\n",
    "\n",
    "| No. | Japanese (Kanji) | Hiragana       | Romaji      | English Translation                                                  | Part of Speech           | Example Sentence (Japanese)      | Example Sentence (English)                           | Example Sentence (Romaji)                                                    | Notes                                                                                          |\n",
    "| --- | ---------------- | -------------- | ----------- | -------------------------------------------------------------------- | ------------------------ | -------------------------------- | ---------------------------------------------------- | ---------------------------------------------------------------------------- | ---------------------------------------------------------------------------------------------- |\n",
    "| 1   | 気まずい         | きまずい       | kima-zui    | embarrassed, awkward                                                 | Adjective                | 彼との会話は気まずい。           | The conversation with him is awkward.                | kare to no kaiwa wa kimazui.                                                 | Refers to a situation where there is discomfort or embarrassment.                              |\n",
    "| 2   | 対抗             | たいこう       | taikou      | opposition, antagonism, to oppose                                    | Noun/Verb                | 彼は対抗馬として出馬する。       | He will run as an opponent.                          | kare wa taikou-ba toshite shutsuba suru.                                     | Refers to opposing or confronting someone or something, often used in competitions or rivalry. |\n",
    "| 3   | 取り次ぐ         | とりつぐ       | toritsugu   | to convey, to announce                                               | Verb                     | 彼が社長に取り次いでくれた。     | He conveyed the message to the president for me.     | kare ga shachou ni toritsuide kureta.                                        | Refers to relaying information or announcements to someone.                                    |\n",
    "| 4   | 取り立てる       | とりたてる     | toritateru  | to collect, to promote, to emphasize                                 | Verb                     | 支払いを取り立てるのが仕事だ。   | My job is to collect payments.                       | shiharai o toritateru no ga shigoto da.                                      | Can also mean to bring attention to or highlight something.                                    |\n",
    "| 5   | 転ける           | こける         | kokeru      | to fall, to collapse                                                 | Verb                     | 彼は階段で転けた。               | He fell on the stairs.                               | kare wa kaidan de koketa.                                                    | Refers to falling down, often unexpectedly or awkwardly.                                       |\n",
    "| 6   | 躓く             | つまずく       | tsumazuku   | to stumble, to trip over, to fail                                    | Verb                     | 彼は足元で躓いた。               | He stumbled on his feet.                             | kare wa ashimoto de tsumazuita.                                              | Refers to stumbling, tripping, or encountering an obstacle that causes a fall or failure.      |\n",
    "| 7   | 裁判長           | さいばんちょう | saiban-chou | chief judge, the chief justice                                       | Noun                     | 裁判長は審理を開始した。         | The chief judge started the trial.                   | saiban-chou wa shinri o kaishi shita.                                        | Refers to the presiding judge in a court trial.                                                |\n",
    "| 8   | 懲役             | ちょうえき     | choueki     | penal servitude, prison term                                         | Noun                     | 彼は懲役 10 年を宣告された。     | He was sentenced to 10 years of prison.              | kare wa choueki juunen o senkoku sareta.                                     | Refers to a prison sentence, especially a term of hard labor.                                  |\n",
    "| 9   | 無期             | むき           | muki        | indefinite, unlimited term                                           | Noun/Adjective           | 彼は無期懲役を受けた。           | He received an indefinite prison sentence.           | kare wa muki choueki o uketa.                                                | Refers to something with no fixed term, often used in the context of prison sentences.         |\n",
    "| 10  | 有期             | ゆうき         | yuuki       | definite term                                                        | Noun                     | 有期刑の判決が下された。         | The sentence with a definite term was handed down.   | yuuki-kei no hanketsu ga kudasareta.                                         | Refers to a fixed or limited period, especially in terms of prison sentences.                  |\n",
    "| 11  | 原告             | げんこく       | genkoku     | accuser, plaintiff                                                   | Noun                     | 原告は証拠を提出した。           | The plaintiff submitted the evidence.                | genkoku wa shouko o teishutsu shita.                                         | Refers to the person who brings a lawsuit or legal action.                                     |\n",
    "| 12  | 被告             | ひこく         | hikoku      | defendant, the accused                                               | Noun                     | 被告は罪を否認した。             | The defendant denied the charges.                    | hikoku wa tsumi o hinin shita.                                               | Refers to the person accused of a crime in a court case.                                       |\n",
    "| 13  | 微動             | びどう         | bidou       | slight movement, tremor, to quiver                                   | Noun/Verb                | 彼の手が微動した。               | His hand quivered slightly.                          | kare no te ga bidou shita.                                                   | Refers to a very small or subtle movement or tremor.                                           |\n",
    "| 14  | 敗退             | はいたい       | haitai      | defeat, to retreat, to lose                                          | Noun/Verb                | チームは大会で敗退した。         | The team was defeated in the tournament.             | chiimu wa taikai de haitai shita.                                            | Refers to losing in a competition or battle, or being eliminated from a contest.               |\n",
    "| 15  | 壁紙             | かべがみ       | kabegami    | wallpaper                                                            | Noun                     | 新しい壁紙を貼った。             | I put up new wallpaper.                              | atarashii kabegami o hatta.                                                  | Refers to the material used to cover walls for decoration.                                     |\n",
    "| 16  | 陶器             | とうき         | touki       | pottery, earthenware                                                 | Noun                     | この陶器は高価だ。               | This pottery is expensive.                           | kono touki wa kouka da.                                                      | Refers to ceramic items, typically made from clay and baked at high temperatures.              |\n",
    "| 17  | 矯める           | ためる         | tameru      | to amend, to repair, to rectify, to falsify                          | Verb                     | 彼は不正を矯めるために努力した。 | He worked to correct the injustice.                  | kare wa fusei o tameru tame ni doryoku shita.                                | Can refer to correcting mistakes or changing something to improve.                             |\n",
    "| 18  | 眇める           | すがめる       | sugameru    | to scrutinize, to look closely at                                    | Verb                     | 彼は私を眇めて見た。             | He looked at me closely.                             | kare wa watashi o sugamete mita.                                             | Refers to examining something closely or peering at it with attention.                         |\n",
    "| 19  | 幼馴染み         | おさななじみ   | osananajimi | childhood friend, old playmate                                       | Noun                     | 幼馴染みと再会した。             | I reunited with my childhood friend.                 | osananajimi to saikai shita.                                                 | Refers to friends one has known since childhood.                                               |\n",
    "| 20  | 笹舟             | ささぶね       | sasabune    | bamboo grass leaf boat                                               | Noun                     | 子供たちは笹舟を川に浮かべた。   | The children floated bamboo leaf boats on the river. | kodomotachi wa sasabune o kawa ni ukabeta.                                   | Refers to small boats made from bamboo leaves, often used by children in traditional games.    |\n",
    "| 21  | 上流             | じょうりゅう   | jouryuu     | upstream                                                             | Noun                     | 川の上流に行ったことがある。     | I have been upstream on the river.                   | kawa no jouryuu ni itta koto ga aru.                                         | Refers to the direction or area of a river that is closer to its source.                       |\n",
    "| 22  | 下流             | かりゅう       | karyuu      | downstream                                                           | Noun                     | ここは川の下流だ。               | This is the downstream part of the river.            | koko wa kawa no karyuu da.                                                   | Refers to the direction or area of a river that is closer to its mouth.                        |\n",
    "| 23  | デビュー         | デビュー       | debut       | Noun/Verb                                                            | 彼は映画でデビューした。 | He made his debut in a movie.    | kare wa eiga de debutu shita.                        | Borrowed from English, refers to a person's first appearance or performance. |\n",
    "| 24  | 不祥事           | ふしょうじ     | fushouji    | scandal                                                              | Noun                     | その会社は不祥事を起こした。     | The company caused a scandal.                        | sono kaisha wa fushouji o okoshita.                                          | Refers to an event or action that causes public disgrace or shame.                             |\n",
    "| 25  | 憚る             | はばかる       | habakaru    | to hesitate, to have scruples, to be afraid of what others may think | Verb                     | 彼は意見を言うことを憚っている。 | He hesitates to speak his opinion.                   | kare wa iken o iu koto o habatte iru.                                        | Refers to being cautious or reluctant due to concern about what others think.                  |\n",
    "\n",
    "---\n",
    "\n",
    "This table includes the English meanings, example sentences, and other relevant details for each vocabulary item. Let me know if you'd like any further details!\n"
   ]
  },
  {
   "cell_type": "markdown",
   "metadata": {},
   "source": [
    "Here is the formatted table for the next 25 vocabulary words:\n",
    "\n",
    "---\n",
    "\n",
    "| No. | Japanese (Kanji) | Hiragana   | Romaji     | English Translation                            | Part of Speech | Example Sentence (Japanese)        | Example Sentence (English)                            | Example Sentence (Romaji)                        | Notes                                                                                 |\n",
    "| --- | ---------------- | ---------- | ---------- | ---------------------------------------------- | -------------- | ---------------------------------- | ----------------------------------------------------- | ------------------------------------------------ | ------------------------------------------------------------------------------------- |\n",
    "| 26  | 傑作             | けっさく   | kessaku    | masterpiece, great work of art                 | Noun           | この絵は傑作だと思う。             | I think this painting is a masterpiece.               | kono e wa kessaku da to omou.                    | Refers to an outstanding or exemplary work, often in art or literature.               |\n",
    "| 27  | 断言             | だんげん   | dangen     | positive statement, assertion, declaration     | Noun/Verb      | 彼はそれが事実だと断言した。       | He asserted that it was a fact.                       | kare wa sore ga jijitsu da to dangen shita.      | To make a firm statement or affirmation.                                              |\n",
    "| 28  | 探検             | たんけん   | tanken     | expedition, exploration, to explore            | Noun/Verb      | 彼はアマゾンの探検に参加した。     | He participated in an expedition to the Amazon.       | kare wa Amazon no tanken ni sanka shita.         | Refers to an exploration or journey undertaken for discovery.                         |\n",
    "| 29  | ばれる           | ばれる     | bareru     | to leak out, to be discovered, to be found out | Verb           | 彼の秘密がばれた。                 | His secret was found out.                             | kare no himitsu ga bareta.                       | Refers to something being exposed or revealed, often unintentionally.                 |\n",
    "| 30  | 観察             | かんさつ   | kansatsu   | observation, to observe                        | Noun/Verb      | 科学者は生物を観察している。       | The scientist is observing the organisms.             | kagakusha wa seibutsu o kansatsu shite iru.      | The act of closely watching or studying something.                                    |\n",
    "| 31  | 景品             | けいひん   | keihin     | gift, premium                                  | Noun           | このゲームで景品をもらった。       | I got a gift from the game.                           | kono geemu de keihin o moratta.                  | Refers to a prize or gift given as an incentive or reward.                            |\n",
    "| 32  | 産休             | さんきゅう | sankyuu    | maternity leave, childbirth leave              | Noun           | 彼女は産休に入った。               | She went on maternity leave.                          | kanojo wa sankyuu ni haitta.                     | Refers to leave taken from work due to pregnancy or childbirth.                       |\n",
    "| 33  | 代替             | だいたい   | daitai     | substitution, alternative                      | Noun/Verb      | この材料は代替品として使える。     | This material can be used as a substitute.            | kono zairyou wa daitahiin toshite tsukaeru.      | Refers to something used in place of something else.                                  |\n",
    "| 34  | 衝突             | しょうとつ | shoutotsu  | crash, collision, to collide                   | Noun/Verb      | 車が衝突した。                     | The car crashed.                                      | kuruma ga shoutotsu shita.                       | Refers to a violent encounter or collision, especially of vehicles.                   |\n",
    "| 35  | 直進             | ちょくしん | chokusin   | direct advance, going straight                 | Noun/Verb      | 直進して右の角を曲がってください。 | Go straight and turn right at the corner.             | chokusin shite migi no kado o magatte kudasai.   | Refers to moving straight ahead, especially in driving or walking.                    |\n",
    "| 36  | 横転             | おうてん   | outen      | overturning, to turn over                      | Noun/Verb      | 車が横転した。                     | The car overturned.                                   | kuruma ga outen shita.                           | Refers to something, usually a vehicle, turning over.                                 |\n",
    "| 37  | 左折             | させつ     | sasetsu    | left turn, to turn left                        | Noun/Verb      | 左折して次の信号を右に曲がる。     | Turn left, then turn right at the next traffic light. | sasetsu shite tsugi no shingou o migi ni magaru. | Refers to turning to the left, especially in driving.                                 |\n",
    "| 38  | 右折             | うせつ     | usetsu     | right turn, to turn right                      | Noun/Verb      | 右折して大きな通りに出てください。 | Turn right and head onto the main road.               | usetsu shite ookina toori ni dete kudasai.       | Refers to turning to the right, especially in driving.                                |\n",
    "| 39  | パトカー         | パトカー   | patokaa    | patrol car                                     | Noun           | パトカーが通りを走っている。       | The patrol car is driving down the street.            | patokaa ga toori o hashitte iru.                 | Refers to a police car, typically used for patrolling.                                |\n",
    "| 40  | 打撲             | だぼく     | daboku     | contusion, bruise, blow, to bruise             | Noun/Verb      | 彼は打撲を受けた。                 | He received a bruise.                                 | kare wa daboku o uketa.                          | Refers to a blow or impact causing a bruise or injury.                                |\n",
    "| 41  | 軽傷             | けいしょう | keishou    | slight injury                                  | Noun           | 彼は軽傷を負った。                 | He sustained a slight injury.                         | kare wa keishou o otta.                          | Refers to a minor or not serious injury.                                              |\n",
    "| 42  | 重体             | じゅうたい | juutai     | critical stage, serious condition              | Noun           | 事故の後、彼は重体になった。       | After the accident, he was in critical condition.     | jiko no ato, kare wa juutai ni natta.            | Refers to a life-threatening or severe medical condition.                             |\n",
    "| 43  | 目撃             | もくげき   | mokugeki   | witnessing, sighting, to witness               | Noun/Verb      | 彼は事件を目撃した。               | He witnessed the incident.                            | kare wa jiken o mokugeki shita.                  | Refers to personally seeing or observing an event, often used in legal contexts.      |\n",
    "| 44  | 細部             | さいぶ     | saibu      | detail, fine point                             | Noun           | この計画の細部を調整する。         | Adjust the details of this plan.                      | kono keikaku no saibu o chousei suru.            | Refers to the small, intricate parts of something, especially important for accuracy. |\n",
    "| 45  | 刃物             | はもの     | hamono     | cutting tool, edge tool, cutter                | Noun           | 刃物で手を切った。                 | I cut my hand with a sharp tool.                      | hamono de te o kitta.                            | Refers to sharp-edged tools like knives, scissors, etc.                               |\n",
    "| 46  | 押し入る         | おしいる   | oshiiru    | to burgle, to break into (a house)             | Verb           | 彼は家に押し入ってお金を盗んだ。   | He broke into the house and stole money.              | kare wa ie ni oshiiratte okane o nusunda.        | Refers to the act of illegally entering a house to steal.                             |\n",
    "| 47  | 脅す             | おどす     | odosu      | to threaten, to intimidate                     | Verb           | 彼は脅してお金を取った。           | He threatened and took the money.                     | kare wa odoshite okane o totta.                  | Refers to using threats to manipulate or force someone into something.                |\n",
    "| 48  | 犯行             | はんこう   | hankou     | crime, guilty deed                             | Noun           | 彼は犯行を認めた。                 | He admitted the crime.                                | kare wa hankou o mitometa.                       | Refers to a criminal act or wrongdoing.                                               |\n",
    "| 49  | 駆けつける       | かけつける | kakesukeru | to rush, to run to                             | Verb           | 救急車がすぐに駆けつけた。         | The ambulance rushed to the scene immediately.        | kyuukyuusha ga sugu ni kakesuketa.               | Refers to rushing toward a place, often in response to an emergency.                  |\n",
    "| 50  | スリル           | スリル     | suriru     | thrill                                         | Noun           | この映画はスリル満点だ。           | This movie is full of thrills.                        | kono eiga wa suriru manten da.                   | Borrowed from English, refers to an exciting, adrenaline-pumping sensation.           |\n",
    "\n",
    "---\n",
    "\n",
    "This table provides a detailed breakdown of each word's meaning, usage, and example sentences. Let me know if you'd like any more information or further breakdowns!\n"
   ]
  },
  {
   "cell_type": "markdown",
   "metadata": {},
   "source": [
    "Here is the formatted table for the next 25 vocabulary words:\n",
    "\n",
    "---\n",
    "\n",
    "| No. | Japanese (Kanji) | Hiragana     | Romaji      | English Translation                                             | Part of Speech | Example Sentence (Japanese)              | Example Sentence (English)                              | Example Sentence (Romaji)                            | Notes                                                                                             |\n",
    "| --- | ---------------- | ------------ | ----------- | --------------------------------------------------------------- | -------------- | ---------------------------------------- | ------------------------------------------------------- | ---------------------------------------------------- | ------------------------------------------------------------------------------------------------- |\n",
    "| 51  | 取り押さえる     | とりおさえる | toriosaeru  | to hold down, to subdue, to seize, to catch                     | Verb           | 警察が犯人を取り押さえた。               | The police subdued the criminal.                        | keisatsu ga hanjin o toriosaeta.                     | Refers to physically restraining or catching someone, often used in a legal or police context.    |\n",
    "| 52  | 供述             | きょうじゅつ | kyoujutsu   | allegation, statement, to testify, to confess                   | Noun/Verb      | 彼は供述を拒否した。                     | He refused to make a statement.                         | kare wa kyoujutsu o kyohi shita.                     | Typically used in legal contexts to refer to someone's statement or confession.                   |\n",
    "| 53  | 仰ぐ             | あおぐ       | aogu        | to look up to, to admire, to respect, to honor, to abide by     | Verb           | 彼を尊敬して仰いでいる。                 | I look up to him and admire him.                        | kare o sonkei shite aoi de iru.                      | Often used to express respect or admiration for someone in a position of authority.               |\n",
    "| 54  | 円ら             | つぶら       | tsubura     | round and cute                                                  | Adjective      | 彼のつぶらな目が可愛い。                 | His round and cute eyes are adorable.                   | kare no tsubura na me ga kawaii.                     | Describes something small, round, and charming, often used to describe eyes.                      |\n",
    "| 55  | 手際             | てぎわ       | tegiwa      | workmanship, skill, craftsmanship                               | Noun           | 彼女の手際の良さに感心した。             | I was impressed by her skill and craftsmanship.         | kanojo no tegiwa no yosa ni kanshin shita.           | Refers to the skill or efficiency in performing a task or job.                                    |\n",
    "| 56  | 時折             | ときおり     | tokiori     | sometimes, occasionally, at times, from time to time            | Adverb         | 時折雨が降ることがある。                 | Sometimes it rains.                                     | tokiori ame ga furu koto ga aru.                     | Indicates something that happens intermittently or occasionally.                                  |\n",
    "| 57  | 尊い             | とうとい     | toutoi      | precious, valuable, priceless, noble, exalted, sacred           | Adjective      | 尊い命を無駄にしてはいけない。           | One must not waste a precious life.                     | toutoi inochi o mudani shite wa ikenai.              | Describes something considered highly valuable or noble.                                          |\n",
    "| 58  | 相応しい         | ふさわしい   | fusawashii  | appropriate, suitable, worthy, desirable                        | Adjective      | この役には相応しい人物が選ばれた。       | A suitable person was chosen for this role.             | kono yaku ni wa fusawashii jinbutsu ga erabareta.    | Refers to something that is fitting or appropriate for a situation.                               |\n",
    "| 59  | ぶらぶら         | ぶらぶら     | burabura    | aimlessly, idly, to linger, to stroll                           | Adverb/Verb    | 公園でぶらぶら歩いていた。               | I was strolling aimlessly in the park.                  | kouen de burabura aruite ita.                        | Used to describe walking or lingering without a specific purpose.                                 |\n",
    "| 60  | 弁解             | べんかい     | benkai      | excuse, explanation, to excuse, to explain                      | Noun/Verb      | 彼の弁解を聞いても納得できない。         | I cannot accept his explanation, even after hearing it. | kare no benkai o kiite mo nattoku dekinai.           | Refers to giving a justification or excuse for something.                                         |\n",
    "| 61  | 綻びる           | ほころびる   | hokorobiru  | to open, to become unsewn, to smile                             | Verb           | 彼女は微笑んで綻びた。                   | She smiled and her face softened.                       | kanojo wa hohoende hokorobita.                       | Refers to something unravelling or opening, often used metaphorically for expressions.            |\n",
    "| 62  | 発作             | ほっさ       | hossa       | stroke, spasm, to have a fit                                    | Noun/Verb      | 彼は発作を起こした。                     | He had a seizure.                                       | kare wa hossa o okoshita.                            | Refers to a sudden, involuntary physical reaction, like a seizure or spasm.                       |\n",
    "| 63  | 紛れる           | まぎれる     | magireru    | to be confused, to be lost in, to slip into, to distract        | Verb           | 彼は人混みに紛れて見失った。             | He got lost in the crowd.                               | kare wa hitogomi ni magirete miushinatta.            | Refers to becoming indistinguishable or distracted in a situation.                                |\n",
    "| 64  | うっかり         | うっかり     | ukkari      | carelessly, thoughtlessly, inadvertently                        | Adverb         | うっかり約束を忘れた。                   | I carelessly forgot the appointment.                    | ukkari yakusoku o wasureta.                          | Used to express accidental or thoughtless actions.                                                |\n",
    "| 65  | 一斉に           | いっせいに   | issei ni    | simultaneously, at the same time, all at once                   | Adverb         | みんな一斉に拍手をした。                 | Everyone clapped at the same time.                      | minna issei ni hakushu o shita.                      | Refers to multiple actions occurring simultaneously.                                              |\n",
    "| 66  | 身の上           | みのうえ     | minoue      | one's personal affair, one's life, one's future                 | Noun           | 彼は身の上に関する相談を持ちかけてきた。 | He approached me with a personal matter about his life. | kare wa minoue ni kansuru soudan o mochikakete kita. | Refers to a person's personal situation or background.                                            |\n",
    "| 67  | 未練             | みれん       | miren       | lingering affection, regret, reluctance, ruefulness, irresolute | Noun/Adjective | 彼は未練が残っているようだ。             | He seems to have lingering regret.                      | kare wa miren ga nokotte iru you da.                 | Refers to unresolved feelings, often related to regret or attachment.                             |\n",
    "| 68  | 大柄             | おおがら     | oogara      | large build, large pattern                                      | Noun/Adjective | 彼は大柄な体格だ。                       | He has a large build.                                   | kare wa oogara na taikaku da.                        | Describes a person with a large or robust body build, or a large pattern/design.                  |\n",
    "| 69  | 小柄             | こがら       | kogara      | small build, petite                                             | Noun/Adjective | 彼女は小柄な体型だ。                     | She has a petite build.                                 | kanojo wa kogara na taikei da.                       | Refers to a small or delicate body build, often used for describing women or smaller individuals. |\n",
    "| 70  | 平たい           | ひらたい     | hiratai     | flat, uncomplicated, unproblematic, even                        | Adjective      | この岩は平たい形をしている。             | This rock has a flat shape.                             | kono iwa wa hiratai katachi o shite iru.             | Refers to something that is flat or simple in shape or structure.                                 |\n",
    "| 71  | 厳密             | げんみつ     | genmitsu    | austere, rigid, rigorous, severe, stern                         | Adjective      | 厳密なルールが必要だ。                   | Strict rules are necessary.                             | genmitsu na ruuru ga hitsuyou da.                    | Refers to something that is precise, strict, or without exceptions.                               |\n",
    "| 72  | 交互             | こうご       | kougo       | mutual, alternate                                               | Noun           | 交互に発言してください。                 | Please speak alternately.                               | kougo ni hatsugen shite kudasai.                     | Refers to alternating or mutual actions or processes.                                             |\n",
    "| 73  | 快い             | こころよい   | kokoroyoi   | comfortable, nice, pleasant                                     | Adjective      | 快い風が吹いている。                     | A pleasant breeze is blowing.                           | kokoroyoi kaze ga fuite iru.                         | Describes something that feels good or is pleasing to the senses.                                 |\n",
    "| 74  | 長閑             | のどか       | nodoka      | tranquil, calm, quiet, peaceful                                 | Adjective      | 長閑な田舎で過ごしたい。                 | I want to spend time in a peaceful countryside.         | nodoka na inaka de sugoshitai.                       | Refers to a calm and peaceful atmosphere, often used for rural or serene environments.            |\n",
    "| 75  | 厳かに           | おごそかに   | ogosoka ni  | solemnly                                                        | Adverb         | 厳かに式が始まった。                     | The ceremony began solemnly.                            | ogosoka ni shiki ga hajimatta.                       | Describes an event or action that is done in a serious and respectful manner.                     |\n",
    "| 76  | 志す             | こころざす   | kokorozasu  | to intend, to aspire, to propose, to aim                        | Verb           | 彼は医者を志している。                   | He aspires to be a doctor.                              | kare wa isha o kokorozashite iru.                    | Refers to setting an intention or aim for a future goal.                                          |\n",
    "| 77  | 志               | こころざし   | kokorozashi | intention, will, resolution                                     | Noun           | 彼女の志は強い。                         | Her resolve is strong.                                  | kanojo no kokorozashi wa tsuyoi.                     | Refers to a personal goal or resolve.                                                             |\n",
    "| 78  | 累進             | るいしん     | ruishin     | successive (gradual) promotion, to rise step by step            | Noun/Verb      | 彼は累進的に昇進した。                   | He was promoted gradually.                              | kare wa ruishin teki ni shoushin shita.              | Refers to a process or system where something progresses gradually over time.                     |\n",
    "\n",
    "---\n",
    "\n",
    "This table continues the vocabulary and example sentences. Let me know if you need further information or explanations!\n"
   ]
  },
  {
   "cell_type": "markdown",
   "metadata": {},
   "source": [
    "---"
   ]
  },
  {
   "cell_type": "markdown",
   "metadata": {},
   "source": [
    "# Conversation"
   ]
  },
  {
   "cell_type": "markdown",
   "metadata": {},
   "source": [
    "ワン:佐藤さん、おめでとうございます。聞きましたよ。\n",
    "    今度のプロジェクト、佐藤さんがリーダーになったそうですね。\n",
    "\n",
    "佐藤:うん...。\n",
    "\n",
    "ワン:あれ?なんか 暗 いですね。どうしたんですか?\n",
    "\n",
    "佐藤: 社 長 から「わが 社 を挙げての 大 プロジェクト」なんて\n",
    "    言われてさあ。 責 任 重 大 だよ。\n",
    "    入 社 以来、 大 きい仕事のまとめ 役 なんてできたためしがないのに、\n",
    "    こんな大事なプロジェクトを 任 されるなんて、\n",
    "    想 像 だにしていなかったよ。\n",
    "\n",
    "ワン:それって、 社 長 に 信 頼 されているってことじゃないですか。\n",
    "    すごいですよ。\n",
    "\n",
    "佐藤:でも、 先 に 発 売 したライバルの A 社 の 商 品 は値段といい、\n",
    "    機能といい、 正 直 すごいし...。\n",
    "    ウチはこれに 対 抗 しないといけないんだよね...。\n",
    "    円 高 も 進 行 して 海 外 市 場 は 厳 しいし...。\n",
    "    しかもリーダーだからって、 先 輩 に指示するのも気まずいし。\n",
    "    はあ〜。 私 に 務 まるかな...。\n",
    "\n",
    "ワン:不安なのはわかりますけど、 考 えたらきりがないですよ。\n",
    "    円 高 の 影 響 は、うちの 会 社 に 限 ったことではないですしね。\n",
    "    どんなに 心 配 しようと、もう明日からプロジェクトは\n",
    "    はじまるんですから。\n",
    "\n",
    "佐藤:でも 失 敗 でもしたら...\n",
    "\n",
    "ワン:それを言ったら最後。部下がついて来ませんよ。\n",
    "    自信を持って取り組みましょう。 わたしも手伝います。\n",
    "\n",
    "佐藤:ワンさん、ありがとう!よし! 社 長 の期待にこたえて、\n",
    "    プロジェクトを 成 功 させるぞ!"
   ]
  },
  {
   "cell_type": "markdown",
   "metadata": {},
   "source": [
    "Here’s the conversation breakdown in a table format with the Japanese, Romaji, and English translations:\n",
    "\n",
    "| Speaker | Japanese (Hiragana)                                                                                                                                                                                                                                                                                                                     | Japanese (Kanji)                                                                                                                                                                                                                                  | English Translation                                                                                                                                                                                                                                                                          | Romaji                                                                                                                                                                                                                                                                                                                  | Notes                                                                                                                                 |\n",
    "| ------- | --------------------------------------------------------------------------------------------------------------------------------------------------------------------------------------------------------------------------------------------------------------------------------------------------------------------------------------- | ------------------------------------------------------------------------------------------------------------------------------------------------------------------------------------------------------------------------------------------------- | -------------------------------------------------------------------------------------------------------------------------------------------------------------------------------------------------------------------------------------------------------------------------------------------- | ----------------------------------------------------------------------------------------------------------------------------------------------------------------------------------------------------------------------------------------------------------------------------------------------------------------------- | ------------------------------------------------------------------------------------------------------------------------------------- |\n",
    "| ワン    | さとうさん、おめでとうございます。ききましたよ。こんどのプロジェクト、さとうさんがリーダーになったそうですね。                                                                                                                                                                                                                          | 佐藤さん、おめでとうございます。聞きましたよ。今度のプロジェクト、佐藤さんがリーダーになったそうですね。                                                                                                                                          | Mr. Sato, congratulations! I heard about it. I hear you’ve become the leader of the new project.                                                                                                                                                                                             | Satō-san, omedetō gozaimasu. Kikimashita yo. Kondo no purojekuto, Satō-san ga rīdā ni natta sō desu ne.                                                                                                                                                                                                                 | _おめでとうございます_ (omedetō gozaimasu) means \"congratulations\".                                                                   |\n",
    "| 佐藤    | うん…。                                                                                                                                                                                                                                                                                                                                 | うん…。                                                                                                                                                                                                                                           | Yeah...                                                                                                                                                                                                                                                                                      | Un...                                                                                                                                                                                                                                                                                                                   | Simple response indicating hesitance or low spirits.                                                                                  |\n",
    "| ワン    | あれ?なんか くらいですね。どうしたんですか?                                                                                                                                                                                                                                                                                             | あれ?なんか暗いですね。どうしたんですか?                                                                                                                                                                                                          | Huh? You seem down. What’s going on?                                                                                                                                                                                                                                                         | Are? Nanka kurai desu ne. Dō shitan desu ka?                                                                                                                                                                                                                                                                            | _暗い_ (kurai) means \"down\" or \"gloomy\".                                                                                              |\n",
    "| 佐藤    | しゃちょう から「わがしゃ を あげて の だい プロジェクト」なんて いわれてさあ。せきにん じゅうだい だよ。にゅうしゃ いらい、 おおきい しごとの まとめ やく なんて できたためしがないのに、 こんな だいじな プロジェクトを まかされるなんて、そうぞうだにしていなかったよ。                                                              | 社長から「わが社を挙げての大プロジェクト」なんて言われてさあ。責任重大だよ。入社以来、大きい仕事のまとめ役なんてできたためしがないのに、こんな大事なプロジェクトを任されるなんて、想像だにしていなかったよ。                                      | The CEO told me, \"This is a big project for our company,\" and now I have this huge responsibility. Since joining, I’ve never been in charge of such big projects, so I never imagined being entrusted with something this important.                                                         | Shachō kara \"waga-sha o agete no dai purojekuto\" nante iwarete sā. Sekinin jūdai da yo. Nyūsha irai, ōkii shigoto no matome-yaku nante dekita tameshi ga nai noni, konna daiji na purojekuto o makasareru nante, sōzō da ni shiteinakatta yo.                                                                           | _責任重大_ (sekinin jūdai) means \"huge responsibility\". _想像だにしていなかった_ (sōzō da ni shiteinakatta) means \"I never imagined\". |\n",
    "| ワン    | それって、しゃちょう に しんらい されているって こと じゃないですか。すごいですよ。                                                                                                                                                                                                                                                     | それって、社長に信頼されているってことじゃないですか。すごいですよ。                                                                                                                                                                              | Doesn’t that mean the CEO trusts you? That’s amazing!                                                                                                                                                                                                                                        | Sorette, shachō ni shinrai sarete iru tte koto janai desu ka. Sugoi desu yo.                                                                                                                                                                                                                                            | _信頼されている_ (shinrai sarete iru) means \"being trusted\".                                                                          |\n",
    "| 佐藤    | でも、さき に はつばい した らいばる の A しゃ の しょうひん はねだん と いい、きのう と いい、しょうじき すごいし…。うちは これ に たいこう しないといけないんだよね…。えんだか も しんこう して かいがい しじょう は きびしいし…。しかも リーダー だからって、せんぱい に しじ するのも きまずいし。はあ〜。わたし に つとまるかな…。 | でも、先に発売したライバルの A 社の商 品 は値段といい、機能といい、正直すごいし…。ウチはこれに対抗しないといけないんだよね…。円高も進行して海外市場は厳しいし…。しかもリーダーだからって、先輩に指示するのも気まずいし。はあ〜。私に務まるかな…。 | But the rival A company’s product, in terms of price and function, is really amazing... We have to compete against that, right? Plus, the strengthening yen makes the overseas market tough. And since I’m the leader, giving instructions to my seniors is awkward. Ha~. Can I handle this? | Demo, saki ni hatsubai shita raibaru no A-sha no shōhin wa nedan to ii, kinō to ii, shōjiki sugoi shi... Uchi wa kore ni taikō shinai to ikenai n da yo ne... Endaka mo shinkō shite kaigai shijō wa kibishī shi... Shikamo rīdā dakara tte, senpai ni shiji suru no mo kimazui shi. Hā~. Watashi ni tsutomaru ka na... | _対抗しないといけない_ (taikō shinai to ikenai) means \"have to compete\". _円高_ (endaka) refers to \"strong yen\".                      |\n",
    "| ワン    | ふあん なの は わかりますけど、かんがえたらきりがないですよ。えんだか の えいきょう は、うち の かいしゃ に かぎった こと では ないですしね。どんなに しんぱい しようと、もう あしたから プロジェクト は はじまるん ですから。                                                                                                          | 不安なのはわかりますけど、考えたらきりがないですよ。円高の影響は、うちの会社に限ったことではないですしね。どんなに心配しようと、もう明日からプロジェクトは始まるんですから。                                                                      | I understand you’re anxious, but if you keep worrying, there’s no end to it. The effect of the strong yen isn’t something that only our company is facing. No matter how much you worry, the project starts tomorrow.                                                                        | Fuan na no wa wakarimasu kedo, kangaetara kiri ga nai desu yo. Endaka no eikyō wa, uchi no kaisha ni kagitta koto de wa nai desu shi ne. Donna ni shinpai shiyou to, mō ashita kara purojekuto wa hajimaru n desu kara.                                                                                                 | _影響_ (eikyō) means \"influence/impact\".                                                                                              |\n",
    "| 佐藤    | でも しっぱい でも したら…                                                                                                                                                                                                                                                                                                              | でも失敗でもしたら…                                                                                                                                                                                                                               | But what if I fail...?                                                                                                                                                                                                                                                                       | Demo shippai demo shitara...                                                                                                                                                                                                                                                                                            | Expressing anxiety about failure.                                                                                                     |\n",
    "| ワン    | それをいったらさいご。ぶか が ついてきませんよ。じしん を もって とりくみましょう。わたし も てつだいます。                                                                                                                                                                                                                             | それを言ったら最後。部下がついてきませんよ。自信を持って取り組みましょう。私も手伝います。                                                                                                                                                        | If you say that, your subordinates won’t follow you. Let’s tackle this with confidence. I’ll help you too.                                                                                                                                                                                   | Sore o ittara saigo. Buka ga tsuite kimasen yo. Jishin o motte torikumi mashou. Watashi mo tetsudaimasu.                                                                                                                                                                                                                | _部下_ (buka) means \"subordinates\". _取り組む_ (torikumu) means \"to tackle/approach\".                                                 |\n",
    "| 佐藤    | わんさん、ありがとう! よし! しゃちょう の きたい に こたえて、プロジェクト を せいこう させるぞ!                                                                                                                                                                                                                                        | ワンさん、ありがとう！よし！社長の期待に答えて、プロジェクトを成功させるぞ！                                                                                                                                                                      | Thank you, Wan-san! Alright! I’ll meet the CEO’s expectations and make this project a success!                                                                                                                                                                                               | Wan-san, arigatou! Yoshi! Shachō no kitai ni kotaete, purojekuto o seikō saseru zo!                                                                                                                                                                                                                                     | _期待_ (kitai) means \"expectations\". _成功_ (seikō) means \"success\".                                                                  |\n",
    "\n",
    "This conversation shows a leader struggling with the responsibility of managing a big project, but with the encouragement of a colleague, they resolve to tackle the challenges with confidence.\n"
   ]
  },
  {
   "cell_type": "markdown",
   "metadata": {},
   "source": [
    "---"
   ]
  },
  {
   "cell_type": "markdown",
   "metadata": {},
   "source": [
    "# Grammar 1\n"
   ]
  },
  {
   "cell_type": "markdown",
   "metadata": {},
   "source": []
  },
  {
   "cell_type": "markdown",
   "metadata": {},
   "source": []
  },
  {
   "cell_type": "markdown",
   "metadata": {},
   "source": []
  },
  {
   "cell_type": "markdown",
   "metadata": {},
   "source": [
    "---\n",
    "---"
   ]
  },
  {
   "cell_type": "markdown",
   "metadata": {},
   "source": [
    "# Grammar 2\n"
   ]
  },
  {
   "cell_type": "markdown",
   "metadata": {},
   "source": []
  },
  {
   "cell_type": "markdown",
   "metadata": {},
   "source": []
  },
  {
   "cell_type": "markdown",
   "metadata": {},
   "source": []
  },
  {
   "cell_type": "markdown",
   "metadata": {},
   "source": [
    "---\n",
    "---"
   ]
  },
  {
   "cell_type": "markdown",
   "metadata": {},
   "source": [
    "# Grammar 3\n"
   ]
  },
  {
   "cell_type": "markdown",
   "metadata": {},
   "source": []
  },
  {
   "cell_type": "markdown",
   "metadata": {},
   "source": []
  },
  {
   "cell_type": "markdown",
   "metadata": {},
   "source": []
  },
  {
   "cell_type": "markdown",
   "metadata": {},
   "source": [
    "---\n",
    "---"
   ]
  },
  {
   "cell_type": "markdown",
   "metadata": {},
   "source": [
    "# Grammar 4\n"
   ]
  },
  {
   "cell_type": "markdown",
   "metadata": {},
   "source": []
  },
  {
   "cell_type": "markdown",
   "metadata": {},
   "source": []
  },
  {
   "cell_type": "markdown",
   "metadata": {},
   "source": []
  },
  {
   "cell_type": "markdown",
   "metadata": {},
   "source": [
    "---\n",
    "---"
   ]
  },
  {
   "cell_type": "markdown",
   "metadata": {},
   "source": [
    "# Grammar 5\n"
   ]
  },
  {
   "cell_type": "markdown",
   "metadata": {},
   "source": []
  },
  {
   "cell_type": "markdown",
   "metadata": {},
   "source": []
  },
  {
   "cell_type": "markdown",
   "metadata": {},
   "source": []
  },
  {
   "cell_type": "markdown",
   "metadata": {},
   "source": [
    "---\n",
    "---"
   ]
  },
  {
   "cell_type": "markdown",
   "metadata": {},
   "source": [
    "# Grammar 6\n"
   ]
  },
  {
   "cell_type": "markdown",
   "metadata": {},
   "source": []
  },
  {
   "cell_type": "markdown",
   "metadata": {},
   "source": []
  },
  {
   "cell_type": "markdown",
   "metadata": {},
   "source": []
  },
  {
   "cell_type": "markdown",
   "metadata": {},
   "source": [
    "---\n",
    "---"
   ]
  },
  {
   "cell_type": "markdown",
   "metadata": {},
   "source": [
    "# Grammar 7\n"
   ]
  },
  {
   "cell_type": "markdown",
   "metadata": {},
   "source": []
  },
  {
   "cell_type": "markdown",
   "metadata": {},
   "source": []
  },
  {
   "cell_type": "markdown",
   "metadata": {},
   "source": []
  },
  {
   "cell_type": "markdown",
   "metadata": {},
   "source": [
    "---\n",
    "---"
   ]
  },
  {
   "cell_type": "markdown",
   "metadata": {},
   "source": [
    "# Grammar 8\n"
   ]
  },
  {
   "cell_type": "markdown",
   "metadata": {},
   "source": []
  },
  {
   "cell_type": "markdown",
   "metadata": {},
   "source": []
  },
  {
   "cell_type": "markdown",
   "metadata": {},
   "source": []
  },
  {
   "cell_type": "markdown",
   "metadata": {},
   "source": [
    "---\n",
    "---"
   ]
  },
  {
   "cell_type": "markdown",
   "metadata": {},
   "source": [
    "# Grammar 9\n"
   ]
  },
  {
   "cell_type": "markdown",
   "metadata": {},
   "source": []
  },
  {
   "cell_type": "markdown",
   "metadata": {},
   "source": []
  },
  {
   "cell_type": "markdown",
   "metadata": {},
   "source": []
  },
  {
   "cell_type": "markdown",
   "metadata": {},
   "source": [
    "---\n",
    "---"
   ]
  },
  {
   "cell_type": "markdown",
   "metadata": {},
   "source": [
    "# Grammar 10\n"
   ]
  },
  {
   "cell_type": "markdown",
   "metadata": {},
   "source": []
  },
  {
   "cell_type": "markdown",
   "metadata": {},
   "source": []
  },
  {
   "cell_type": "markdown",
   "metadata": {},
   "source": []
  },
  {
   "cell_type": "markdown",
   "metadata": {},
   "source": [
    "---\n",
    "---"
   ]
  },
  {
   "cell_type": "markdown",
   "metadata": {},
   "source": [
    "# Grammar 11\n"
   ]
  },
  {
   "cell_type": "markdown",
   "metadata": {},
   "source": []
  },
  {
   "cell_type": "markdown",
   "metadata": {},
   "source": []
  },
  {
   "cell_type": "markdown",
   "metadata": {},
   "source": []
  },
  {
   "cell_type": "markdown",
   "metadata": {},
   "source": [
    "---\n",
    "---"
   ]
  },
  {
   "cell_type": "markdown",
   "metadata": {},
   "source": [
    "# Grammar 12\n"
   ]
  },
  {
   "cell_type": "markdown",
   "metadata": {},
   "source": []
  },
  {
   "cell_type": "markdown",
   "metadata": {},
   "source": []
  },
  {
   "cell_type": "markdown",
   "metadata": {},
   "source": []
  },
  {
   "cell_type": "markdown",
   "metadata": {},
   "source": [
    "---\n",
    "---"
   ]
  }
 ],
 "metadata": {
  "language_info": {
   "name": "python"
  }
 },
 "nbformat": 4,
 "nbformat_minor": 2
}
