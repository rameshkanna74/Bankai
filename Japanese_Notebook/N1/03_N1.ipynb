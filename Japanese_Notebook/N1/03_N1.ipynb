{
 "cells": [
  {
   "cell_type": "markdown",
   "metadata": {},
   "source": [
    "# N1\n",
    "\n",
    "### 第 03 課 - 私たち個人の行動なしには、地球温暖化を止めることはできないでしょう。\n",
    "\n",
    "### Lesson 03 - We cannot stop the progress of global warming without our individual actions.\n"
   ]
  },
  {
   "cell_type": "markdown",
   "metadata": {},
   "source": [
    "# Vocabulary"
   ]
  },
  {
   "cell_type": "markdown",
   "metadata": {},
   "source": [
    "    1.かける 欠ける vi. to lack/to chip/to be broken\n",
    "    2.かかす 欠かす vt. to lack/to miss doing something\n",
    "    3.ひつじゅひん 必需品 n. necessities\n",
    "    4.かこむ 囲む vt. to surround\n",
    "    5.あさましい 浅ましい い-adj. despicable/shameful\n",
    "    6.あくどい い-adj. vicious/wicked/gaudy\n",
    "    7.コンセント n. outlet/socket\n",
    "    8.グリーンカーテン n. green wall\n",
    "    9.よくせい 抑制 n./vt. restraint/to restrain/to control\n",
    "    10.しゅうかく 収穫 n./vt. harvest/to harvest\n",
    "    11.さいてき 最適 n./な-adj. optimum/most suitable/ideal/optimal\n",
    "    12.ほほえみ 微笑み n. smile\n",
    "    13.くんれん 訓練 n./vt. training/to train\n",
    "    14.ちゆ 治癒 n./vi./vt. healing/to heal\n",
    "    15.こころづかい 心遣い n. consideration/thoughtfulness\n",
    "    16.ぼうふうう 暴風雨 n. rainstorm\n",
    "    17.あいこうか 愛好家 n. enthusiast/amateur\n",
    "    18.こくふく 克服 n./vt. to overcome/to conquer\n",
    "    19.ひらける 開ける vi. to open out/to become civilized/to develop\n",
    "    20.どなる 怒鳴る vi. to shout/to yell/to scold loudly\n",
    "    21.しょぶん 処分 n./vt. disposal/to dispose of/to throw away/to get rid of/to punish\n",
    "    22.ざわざわ adv./vi. noisily/rustling/to become noisy/to buzz/to rustle\n",
    "    23.さつ/ふだ 札 n. bill/bank note/paper money\n",
    "    24.かんばん 看板 n. signboard\n",
    "    25.せと 瀬戸 n. strait/pottery\n"
   ]
  },
  {
   "cell_type": "markdown",
   "metadata": {},
   "source": [
    "    26.れんが 煉瓦 n. brick\n",
    "    27.ガラス 硝子 n. glass\n",
    "    28.うらがわ 裏側 n. backside\n",
    "    29.ペンキ n. paint\n",
    "    30.とうけん 当軒 n. this house/this store\n",
    "    31.おおどおり 大通り n. main street/avenue\n",
    "    32.あからじめ 予め adv. previously/in advance\n",
    "    33.まえもって 前もって adv. previously/in advance\n",
    "    34.ありふれる ありふれる vi. to disseminate/to spread/to be common\n",
    "    35.いぜん 依然 adv. still/as before\n",
    "    36.いっしんに 一心に adv. with one's whole heart/devotedly/intently/single-mindedly\n",
    "    37.うぬぼれ 自惚れ n. self-conceit/ego\n",
    "    38.みぢか 身近 n./な-adj. close/near/familiar\n",
    "    39.みなり 身なり n. appearance/dress\n",
    "    40.むだづかい 無駄遣い n./vt. wasteful expenditure/to waste\n",
    "    41.めいはく 明白 n./な-adj. clear/obvious/plain/apparent\n",
    "    42.めもり 目盛り n. graduation/scale/tick mark\n",
    "    43.もうしでる 申し出る vt. to offer\n",
    "    44.ゆるむ 緩む vi. to loose\n",
    "    45.やけに adv. terribly/awfully\n",
    "    46.やしなう 養う vt. to bring up/to raise/to support\n",
    "    47.もしくは conjunction or\n",
    "    48.みわたす 見渡す vt. to look out over/ to overlook\n",
    "    49.むごん 無言 n. wordless/silence\n",
    "    50.みぐるしい 見苦しい い-adj. ugly/disgraceful/shabby\n"
   ]
  },
  {
   "cell_type": "markdown",
   "metadata": {},
   "source": [
    "    51.まして adv. much (still) more\n",
    "    52.ほどこす 施す vt. to do/to perform/to give something as charity\n",
    "    53.ほうりだす 放り出す vt. to throw out/to give up/to abandon\n",
    "    54.ほうりこむ 放り込む vt. to throw into/to dump\n",
    "    55.のんき な-adj. easy/optimistic/easy-going/thoughtless\n",
    "    56.ほがらか 朗らか な-adj. cheerful/merry/bright\n",
    "    57.めざましい 目覚ましい い-adj. remarkable/splendid/striking\n",
    "    58.ほんば 本場 n. home/birthplace\n",
    "    59.いいわけ 言い訳 n. excuse/explanation/pretext\n",
    "    60.マスコミ n. the media/mass media\n",
    "    61.みはからう 見計らう vt. to judge the right timing or thing\n",
    "    62.いさましい 勇ましい い-adj. brave/courageous\n",
    "    63.たえまない 絶え間ない い-adj. incessant/constant\n",
    "    64.いわゆる participial what is called/so-called adjective\n",
    "    65.めくる 捲る vt. to turn up/to turn over/to flip\n",
    "    66.やがい 野外 n. outdoors/open air\n",
    "    67.ゆうずう 融通 n./vt. flexibility/elastic/to accommodate someone with something/to lend\n",
    "    68.だいいち 第一 n./adv. first/best/most important/in the first place\n",
    "    69.むなしい 空しい い-adj. empty/futile/vain\n",
    "    70.ややこしい い-adj. complex/complicated/knotty\n",
    "    71.ふんしつ 紛失 n./vi./vt. loss/to lose/to be lost\n",
    "    72.しゅわん 手腕 n. skill/competence/ability\n",
    "    73.なんぎ 難儀 n./な-adj./vi. difficulty/trouble/problem/hardship/to have difficulty\n"
   ]
  },
  {
   "cell_type": "markdown",
   "metadata": {},
   "source": [
    "Here is the formatted table for the next 25 vocabulary words you provided:\n",
    "\n",
    "---\n",
    "\n",
    "| No. | Japanese (Kanji) | Hiragana         | Romaji        | English Translation                            | Part of Speech | Example Sentence (Japanese)                      | Example Sentence (English)                               | Example Sentence (Romaji)                                           | Notes                                                                                   |\n",
    "| --- | ---------------- | ---------------- | ------------- | ---------------------------------------------- | -------------- | ------------------------------------------------ | -------------------------------------------------------- | ------------------------------------------------------------------- | --------------------------------------------------------------------------------------- |\n",
    "| 1   | 欠ける           | かける           | kakeru        | to lack/to chip/to be broken                   | Verb           | カップが欠けてしまった。                         | The cup is chipped.                                      | Kappu ga kakete shimatta.                                           | Refers to something missing a part or being damaged.                                    |\n",
    "| 2   | 欠かす           | かかす           | kakasu        | to lack/to miss doing something                | Verb           | 毎日運動を欠かさずに続けている。                 | I continue exercising every day without missing.         | Mainichi undō o kakasazu ni tsuzukete iru.                          | Refers to neglecting or missing an action or task.                                      |\n",
    "| 3   | 必需品           | ひつじゅひん     | hitsujuhin    | necessities                                    | Noun           | 旅行には必需品を忘れずに持っていくことが大切だ。 | It’s important to bring necessities when traveling.      | Ryokō ni wa hitsujuhin o wasurezu ni motte iku koto ga taisetsu da. | Refers to essential or necessary items.                                                 |\n",
    "| 4   | 囲む             | かこむ           | kakomu        | to surround                                    | Verb           | みんなで彼を囲んで祝った。                       | Everyone surrounded him and celebrated.                  | Minna de kare o kakonde iwatta.                                     | Refers to surrounding someone or something physically.                                  |\n",
    "| 5   | 浅ましい         | あさましい       | asamashii     | despicable/shameful                            | Adjective      | 彼の浅ましい行動は許せない。                     | His despicable behavior is unforgivable.                 | Kare no asamashii kōdō wa yurusenai.                                | Describes something morally reprehensible.                                              |\n",
    "| 6   | 悪どい           | あくどい         | akudoi        | vicious/wicked/gaudy                           | Adjective      | 悪どい商売をしていると噂されている。             | He is rumored to be involved in vicious business.        | Akudoi shōbai o shiteiru to uwasa sarete iru.                       | Describes something immoral, excessive, or flashy.                                      |\n",
    "| 7   | コンセント       | コンセント       | konsento      | outlet/socket                                  | Noun           | パソコンを充電するためにコンセントに差し込んだ。 | I plugged it into the socket to charge my computer.      | Pasokon o jūden suru tame ni konsento ni sashikonda.                | Refers to an electrical outlet or socket.                                               |\n",
    "| 8   | グリーンカーテン | グリーンカーテン | guriin kaaten | green wall                                     | Noun           | 夏にはグリーンカーテンで涼しくなる。             | In summer, the green wall keeps the room cool.           | Natsu ni wa gurīn kāten de suzushiku naru.                          | Refers to plants grown to block sunlight and cool down areas.                           |\n",
    "| 9   | 抑制             | よくせい         | yokusei       | restraint/to restrain/to control               | Noun/Verb      | 感情を抑制することは大切だ。                     | It is important to restrain one’s emotions.              | Kanjo o yokusei suru koto wa taisetsu da.                           | Refers to self-control or restraining something.                                        |\n",
    "| 10  | 収穫             | しゅうかく       | shuukaku      | harvest/to harvest                             | Noun/Verb      | 今年の収穫は豊作だ。                             | This year’s harvest is abundant.                         | Kotoshi no shuukaku wa hōsaku da.                                   | Refers to the act of gathering crops or harvest.                                        |\n",
    "| 11  | 最適             | さいてき         | saiteki       | optimum/most suitable/ideal/optimal            | Adjective      | この方法が最適だと思います。                     | I think this method is the most optimal.                 | Kono hōhō ga saiteki da to omoimasu.                                | Describes something most suitable or best in a given context.                           |\n",
    "| 12  | 微笑み           | ほほえみ         | hohoemi       | smile                                          | Noun           | 彼女の微笑みは素敵だ。                           | Her smile is lovely.                                     | Kanojo no hohoemi wa suteki da.                                     | Refers to a gentle or warm smile.                                                       |\n",
    "| 13  | 訓練             | くんれん         | kunren        | training/to train                              | Noun/Verb      | 彼は毎日犬を訓練している。                       | He trains his dog every day.                             | Kare wa mainichi inu o kunren shiteiru.                             | Refers to the process of training or practice.                                          |\n",
    "| 14  | 治癒             | ちゆ             | chiyu         | healing/to heal                                | Noun/Verb      | 怪我が治癒するまでに時間がかかる。               | It will take time for the injury to heal.                | Kega ga chiyu suru made ni jikan ga kakaru.                         | Refers to physical or emotional healing.                                                |\n",
    "| 15  | 心遣い           | こころづかい     | kokorozukai   | consideration/thoughtfulness                   | Noun           | 彼女の心遣いに感謝している。                     | I am grateful for her thoughtfulness.                    | Kanojo no kokorozukai ni kansha shite iru.                          | Refers to being considerate or thoughtful toward others.                                |\n",
    "| 16  | 暴風雨           | ぼうふうう       | bōfūu         | rainstorm                                      | Noun           | 暴風雨の中で外出するのは危険だ。                 | It’s dangerous to go out during a rainstorm.             | Bōfūu no naka de gaishutsu suru no wa kiken da.                     | Refers to a heavy rainstorm with strong winds.                                          |\n",
    "| 17  | 愛好家           | あいこうか       | aikōka        | enthusiast/amateur                             | Noun           | 彼は音楽の愛好家だ。                             | He is a music enthusiast.                                | Kare wa ongaku no aikōka da.                                        | Refers to someone who has a strong interest or hobby in something.                      |\n",
    "| 18  | 克服             | こくふく         | kokufuku      | to overcome/to conquer                         | Noun/Verb      | 彼は大きな困難を克服した。                       | He overcame a great difficulty.                          | Kare wa ōkina konnan o kokufuku shita.                              | Refers to overcoming obstacles or difficulties.                                         |\n",
    "| 19  | 開ける           | ひらける         | hirakeru      | to open out/to become civilized/to develop     | Verb           | この街は急速に開けている。                       | This town is rapidly developing.                         | Kono machi wa kyūsoku ni hirakete iru.                              | Refers to opening up, developing, or becoming more civilized.                           |\n",
    "| 20  | 怒鳴る           | どなる           | donaru        | to shout/to yell/to scold loudly               | Verb           | 先生は私に怒鳴った。                             | The teacher yelled at me.                                | Sensei wa watashi ni donatta.                                       | Refers to shouting or scolding loudly.                                                  |\n",
    "| 21  | 処分             | しょぶん         | shobun        | disposal/to dispose of/to throw away/to punish | Noun/Verb      | 不要な物を処分する必要がある。                   | I need to dispose of unnecessary things.                 | Fuyō na mono o shobun suru hitsuyō ga aru.                          | Refers to getting rid of or punishing something.                                        |\n",
    "| 22  | ざわざわ         | ざわざわ         | zawazawa      | noisily/rustling/to become noisy/to buzz       | Adverb/Verb    | ざわざわとした声が聞こえる。                     | I hear a noisy rustling sound.                           | Zawazawa to shita koe ga kikoeru.                                   | Describes noise or rustling sounds, especially in a crowd.                              |\n",
    "| 23  | 札               | さつ/ふだ        | satsu/fuda    | bill/bank note/paper money                     | Noun           | お金を札で支払った。                             | I paid with paper money.                                 | Okane o satsu de shiharatta.                                        | Refers to bills or banknotes.                                                           |\n",
    "| 24  | 看板             | かんばん         | kanban        | signboard                                      | Noun           | 店の看板が新しくなった。                         | The store's signboard has been renewed.                  | Mise no kanban ga atarashiku natta.                                 | Refers to a signboard or notice board.                                                  |\n",
    "| 25  | 瀬戸             | せと             | seto          | strait/pottery                                 | Noun           | 瀬戸内海には美しい瀬戸がたくさんある。           | There are many beautiful straits in the Seto Inland Sea. | Seto Naikai ni wa utsukushī seto ga takusan aru.                    | Refers to a narrow body of water between two landmasses or a region famous for pottery. |\n",
    "\n",
    "---\n",
    "\n",
    "This table provides the vocabulary, their meanings, example sentences, and additional explanations for the provided words. Let me know if you'd like further clarification on any specific entry!\n"
   ]
  },
  {
   "cell_type": "markdown",
   "metadata": {},
   "source": [
    "Here's the formatted table for the next set of vocabulary words:\n",
    "\n",
    "---\n",
    "\n",
    "| No. | Japanese (Kanji) | Hiragana   | Romaji     | English Translation                       | Part of Speech | Example Sentence (Japanese)                          | Example Sentence (English)                                 | Example Sentence (Romaji)                                           | Notes                                                            |\n",
    "| --- | ---------------- | ---------- | ---------- | ----------------------------------------- | -------------- | ---------------------------------------------------- | ---------------------------------------------------------- | ------------------------------------------------------------------- | ---------------------------------------------------------------- |\n",
    "| 26  | 煉瓦             | れんが     | renga      | brick                                     | Noun           | 煉瓦で作られた家が美しい。                           | The house made of bricks is beautiful.                     | Renga de tsukurareta ie ga utsukushii.                              | Refers to a brick, used in construction.                         |\n",
    "| 27  | 硝子             | ガラス     | garasu     | glass                                     | Noun           | 硝子のコップを割ってしまった。                       | I broke the glass cup.                                     | Garasu no koppu o watte shimatta.                                   | Refers to glass, such as windows or cups.                        |\n",
    "| 28  | 裏側             | うらがわ   | uragawa    | backside                                  | Noun           | このビルの裏側には駐車場がある。                     | There is a parking lot on the backside of this building.   | Kono biru no uragawa ni wa chūshajō ga aru.                         | Refers to the back side or reverse side of something.            |\n",
    "| 29  | ペンキ           | ペンキ     | penki      | paint                                     | Noun           | 部屋をペンキで塗り替えた。                           | I repainted the room with paint.                           | Heya o penki de nurikaita.                                          | Refers to paint, typically used for walls or surfaces.           |\n",
    "| 30  | 当軒             | とうけん   | tōken      | this house/this store                     | Noun           | 当軒の製品は全て手作りです。                         | All of the products in this store are handmade.            | Tōken no seihin wa subete tezukuri desu.                            | Used to refer to the shop or place you're talking about.         |\n",
    "| 31  | 大通り           | おおどおり | ōdōri      | main street/avenue                        | Noun           | 大通りに面した場所は人気があります。                 | Places facing the main street are popular.                 | Ōdōri ni meshi-ta basho wa ninki ga arimasu.                        | Refers to a major street or avenue in a city.                    |\n",
    "| 32  | 予め             | あらかじめ | arakajime  | previously/in advance                     | Adverb         | 予め準備をしておいた方がいい。                       | It’s better to prepare in advance.                         | Arakajime junbi o shite oita hō ga ii.                              | Used to describe something done in advance.                      |\n",
    "| 33  | 前もって         | まえもって | maemotte   | previously/in advance                     | Adverb         | 前もって知らせてください。                           | Please inform me in advance.                               | Maemotte shirasete kudasai.                                         | Similar to 予め, used for advance actions.                       |\n",
    "| 34  | ありふれる       | ありふれる | arifureru  | to disseminate/to spread/to be common     | Verb           | その話はありふれているので、誰も信じない。           | That story is so common that no one believes it.           | Sono hanashi wa arifurete iru node, dare mo shinjinai.              | Describes something that is common or ordinary.                  |\n",
    "| 35  | 依然             | いぜん     | izen       | still/as before                           | Adverb         | 依然として問題は解決されていない。                   | The problem remains unsolved as before.                    | Izen to shite mondai wa kaiketsu sarete inai.                       | Refers to something that remains the same over time.             |\n",
    "| 36  | 一心に           | いっしんに | isshin ni  | with one's whole heart/devotedly/intently | Adverb         | 彼は一心に仕事に取り組んでいる。                     | He is working with his whole heart.                        | Kare wa isshin ni shigoto ni torikunde iru.                         | Describes someone focused or devoted to a task.                  |\n",
    "| 37  | 自惚れ           | うぬぼれ   | unnbore    | self-conceit/ego                          | Noun           | 彼の自惚れがひどくて、誰も近づきたがらない。         | His ego is so bad that no one wants to get close to him.   | Kare no unnbore ga hidokute, dare mo chikadukitagaranai.            | Refers to arrogance or excessive pride in oneself.               |\n",
    "| 38  | 身近             | みぢか     | mijika     | close/near/familiar                       | Noun/Adjective | 身近な人々と一緒に過ごす時間が一番大切だ。           | The time spent with close people is the most important.    | Mijika na hitobito to issho ni sugosu jikan ga ichiban taisetsu da. | Refers to something close or familiar, such as people or places. |\n",
    "| 39  | 身なり           | みなり     | minari     | appearance/dress                          | Noun           | 彼の身なりはいつも整っている。                       | His appearance is always neat.                             | Kare no minari wa itsumo totono tte iru.                            | Refers to one's dress or overall appearance.                     |\n",
    "| 40  | 無駄遣い         | むだづかい | mudazukai  | wasteful expenditure/to waste             | Noun/Verb      | 無駄遣いをしないように気をつけている。               | I’m careful not to waste money.                            | Mudazukai o shinai yō ni ki o tsukete iru.                          | Refers to unnecessary waste or extravagance.                     |\n",
    "| 41  | 明白             | めいはく   | meihaku    | clear/obvious/plain/apparent              | Adjective      | その証拠は明白だ。                                   | The evidence is clear.                                     | Sono shōko wa meihaku da.                                           | Describes something that is clear or easily understood.          |\n",
    "| 42  | 目盛り           | めもり     | memori     | graduation/scale/tick mark                | Noun           | 時計の目盛りが細かくて見やすい。                     | The tick marks on the clock are fine and easy to read.     | Tokei no memori ga komakakute miyasu i.                             | Refers to divisions on a scale, like a ruler or clock.           |\n",
    "| 43  | 申し出る         | もうしでる | mōshideru  | to offer                                  | Verb           | 彼は手伝いを申し出た。                               | He offered to help.                                        | Kare wa tetsudai o mōshideta.                                       | Refers to offering something or making a suggestion.             |\n",
    "| 44  | 緩む             | ゆるむ     | yurumu     | to loosen                                 | Verb           | ベルトが緩んでいる。                                 | The belt is loose.                                         | Beruto ga yurunde iru.                                              | Refers to something loosening or relaxing.                       |\n",
    "| 45  | やけに           | やけに     | yakenii    | terribly/awfully                          | Adverb         | 今日、やけに暑いですね。                             | It’s terribly hot today, isn’t it?                         | Kyō, yakenii atsui desu ne.                                         | Describes something unusually or excessively.                    |\n",
    "| 46  | 養う             | やしなう   | yashinau   | to bring up/to raise/to support           | Verb           | 親は子供を養う責任がある。                           | Parents have the responsibility to raise their children.   | Oya wa kodomo o yashinau sekinin ga aru.                            | Refers to nurturing, raising, or supporting someone.             |\n",
    "| 47  | もしくは         | もしくは   | moshikuwa  | or                                        | Conjunction    | コーヒーもしくは紅茶を選んでください。               | Please choose coffee or tea.                               | Kōhī moshikuwa kōcha o erande kudasai.                              | A formal way of saying \"or\" in a sentence.                       |\n",
    "| 48  | 見渡す           | みわたす   | miwatasu   | to look out over/to overlook              | Verb           | 山の頂上から見渡すと、素晴らしい景色が広がっていた。 | From the top of the mountain, a wonderful view spread out. | Yama no chōjō kara miwatasu to, subarashī keshiki ga hirogatte ita. | Refers to surveying or looking out over a wide area.             |\n",
    "| 49  | 無言             | むごん     | mugon      | wordless/silence                          | Noun/Adjective | 無言のまま立ち去った。                               | He left without saying a word.                             | Mugon no mama tachisatta.                                           | Describes a state of silence or being wordless.                  |\n",
    "| 50  | 見苦しい         | みぐるしい | migurushii | ugly/disgraceful/shabby                   | Adjective      | 見苦しい姿勢をしている。                             | He has an ugly posture.                                    | Migurushī shisei o shite iru.                                       | Describes something unpleasant to look at or disgraceful.        |\n",
    "\n",
    "---\n",
    "\n",
    "This table provides meanings, example sentences, and additional notes for the vocabulary items you've shared. Let me know if you'd like more information or if you'd like to continue with the next set!\n"
   ]
  },
  {
   "cell_type": "markdown",
   "metadata": {},
   "source": [
    "Here's the table for the next set of vocabulary words you provided:\n",
    "\n",
    "---\n",
    "\n",
    "| No. | Japanese (Kanji) | Hiragana   | Romaji     | English Translation                                               | Part of Speech | Example Sentence (Japanese)                      | Example Sentence (English)                                      | Example Sentence (Romaji)                                   | Notes                                                                      |\n",
    "| --- | ---------------- | ---------- | ---------- | ----------------------------------------------------------------- | -------------- | ------------------------------------------------ | --------------------------------------------------------------- | ----------------------------------------------------------- | -------------------------------------------------------------------------- |\n",
    "| 51  | まして           | まして     | mashite    | much (still) more                                                 | Adverb         | それができないなら、ましてあなたには無理だろう。 | If you can't do that, then it will be impossible for you.       | Sore ga dekinai nara, mashite anata ni wa muri darou.       | Used to emphasize something even more than what was mentioned before.      |\n",
    "| 52  | 施す             | ほどこす   | hodokosu   | to do/to perform/to give something as charity                     | Verb           | 彼は貧しい人々に援助を施した。                   | He gave assistance to the poor.                                 | Kare wa mazushī hitobito ni enjo o hodokoshita.             | Refers to doing something for others, often with a charitable purpose.     |\n",
    "| 53  | 放り出す         | ほうりだす | hōridasu   | to throw out/to give up/to abandon                                | Verb           | 彼は問題に直面して、すぐに放り出した。           | He faced the problem and immediately gave up.                   | Kare wa mondai ni chokumen shite, sugu ni hōridashta.       | Used when someone abandons something or someone.                           |\n",
    "| 54  | 放り込む         | ほうりこむ | hōrikomu   | to throw into/to dump                                             | Verb           | 彼はゴミを箱に放り込んだ。                       | He threw the trash into the box.                                | Kare wa gomi o hako ni hōrikonda.                           | Refers to throwing something into a container or place.                    |\n",
    "| 55  | のんき           | のんき     | nonki      | easy-going/optimistic/thoughtless                                 | Adjective      | 彼はいつものんきに過ごしている。                 | He always lives in an easy-going way.                           | Kare wa itsumo nonki ni sugoshite iru.                      | Refers to being carefree or not thinking things through.                   |\n",
    "| 56  | 朗らか           | ほがらか   | hogaraka   | cheerful/merry/bright                                             | Adjective      | 彼女は朗らかな性格でみんなに好かれている。       | She has a cheerful personality and is liked by everyone.        | Kanojo wa hogaraka na seikaku de minna ni sukarete iru.     | Refers to being bright and cheerful in mood or disposition.                |\n",
    "| 57  | 目覚ましい       | めざましい | mezamashii | remarkable/splendid/striking                                      | Adjective      | 彼の成績は目覚ましいものだった。                 | His results were remarkable.                                    | Kare no seiseki wa mezamashī mono datta.                    | Describes something outstanding or surprising.                             |\n",
    "| 58  | 本場             | ほんば     | honba      | home/birthplace                                                   | Noun           | この料理は本場で食べると一層美味しい。           | This dish tastes even better when eaten at its birthplace.      | Kono ryōri wa honba de taberu to issō oishī.                | Refers to the original or authentic place where something is made or from. |\n",
    "| 59  | 言い訳           | いいわけ   | iiwake     | excuse/explanation/pretext                                        | Noun           | 彼はいつも言い訳ばかりしている。                 | He is always making excuses.                                    | Kare wa itsumo iiwake bakari shite iru.                     | Refers to giving reasons or excuses to justify something.                  |\n",
    "| 60  | マスコミ         | マスコミ   | masukomi   | the media/mass media                                              | Noun           | マスコミはそのニュースを大きく取り上げた。       | The media covered that news extensively.                        | Masukomi wa sono nyūsu o ōkiku toriageta.                   | Refers to the mass media, including TV, radio, and newspapers.             |\n",
    "| 61  | 見計らう         | みはからう | miharau    | to judge the right timing or thing                                | Verb           | 彼はタイミングを見計らって発表をした。           | He judged the right timing and made the announcement.           | Kare wa taiming o miharakatte happyō o shita.               | Refers to timing something carefully or judging a situation.               |\n",
    "| 62  | 勇ましい         | いさましい | isamashii  | brave/courageous                                                  | Adjective      | 勇ましい行動を見せた彼に感動した。               | I was moved by his brave actions.                               | Isamashī kōdō o miseta kare ni kandō shita.                 | Describes someone or something that is brave or courageous.                |\n",
    "| 63  | 絶え間ない       | たえまない | taemanai   | incessant/constant                                                | Adjective      | 彼の努力は絶え間ないもので、尊敬に値する。       | His effort is constant, and deserves respect.                   | Kare no doryoku wa taemanai mono de, sonkei ni ataisuru.    | Refers to something that is unceasing or continuous.                       |\n",
    "| 64  | いわゆる         | いわゆる   | iwayuru    | what is called/so-called                                          | Adjective      | いわゆる「無駄な努力」をしていた。               | I was doing what is called \"a futile effort.\"                   | Iwayuru \"mudana doryoku\" o shite ita.                       | Used to refer to something commonly known or described.                    |\n",
    "| 65  | 捲る             | めくる     | mekuru     | to turn up/to turn over/to flip                                   | Verb           | 本をめくると、面白い話が出てきた。               | When I flipped through the book, an interesting story appeared. | Hon o mekuru to, omoshiroi hanashi ga detekita.             | Refers to flipping or turning over something, like pages.                  |\n",
    "| 66  | 野外             | やがい     | yagai      | outdoors/open air                                                 | Noun           | 今日、野外でバーベキューをする予定だ。           | We are planning to have a barbecue outdoors today.              | Kyō, yagai de bābekyū o suru yotei da.                      | Refers to activities or events held outdoors.                              |\n",
    "| 67  | 融通             | ゆうずう   | yūzū       | flexibility/elastic/to accommodate someone with something/to lend | Noun/Verb      | 彼は融通が利く人だ。                             | He is a flexible person.                                        | Kare wa yūzū ga kiku hito da.                               | Refers to the ability to be flexible or accommodating.                     |\n",
    "| 68  | 第一             | だいいち   | daiichi    | first/best/most important/in the first place                      | Noun/Adverb    | 私にとって、家族が第一だ。                       | Family comes first to me.                                       | Watashi ni totte, kazoku ga daiichi da.                     | Refers to something being the most important or priority.                  |\n",
    "| 69  | 空しい           | むなしい   | munashii   | empty/futile/vain                                                 | Adjective      | その努力は空しい結果に終わった。                 | That effort ended in vain.                                      | Sono doryoku wa munashī kekka ni owatta.                    | Describes something that is pointless, empty, or futile.                   |\n",
    "| 70  | ややこしい       | ややこしい | yayakoshii | complex/complicated/knotty                                        | Adjective      | この問題はややこしくて解決するのが難しい。       | This problem is complicated and hard to solve.                  | Kono mondai wa yayakoshikute kaiketsu suru no ga muzukashī. | Refers to something that is difficult to understand or resolve.            |\n",
    "| 71  | 紛失             | ふんしつ   | funshitsu  | loss/to lose/to be lost                                           | Noun/Verb      | パスポートを紛失してしまった。                   | I lost my passport.                                             | Pasupōto o funshitsu shite shimatta.                        | Refers to losing something, often something important.                     |\n",
    "| 72  | 手腕             | しゅわん   | shuwan     | skill/competence/ability                                          | Noun           | 彼の手腕に感銘を受けた。                         | I was impressed by his skill.                                   | Kare no shuwan ni kanmei o uketa.                           | Refers to one's skill or ability in doing something well.                  |\n",
    "| 73  | 難儀             | なんぎ     | nangi      | difficulty/trouble/problem/hardship                               | Noun/Adjective | 彼は難儀しているようだ。                         | He seems to be in trouble.                                      | Kare wa nangi shite iru yō da.                              | Refers to experiencing difficulty or hardship.                             |\n",
    "\n",
    "---\n",
    "\n",
    "Let me know if you'd like further details or additional sets!\n"
   ]
  },
  {
   "cell_type": "markdown",
   "metadata": {},
   "source": [
    "---"
   ]
  },
  {
   "cell_type": "markdown",
   "metadata": {},
   "source": [
    "# Conversation"
   ]
  },
  {
   "cell_type": "markdown",
   "metadata": {},
   "source": [
    "安田: このまま温 暖 化 がすすんだ場合、 海 面 はなんと 最 大 で59 cm も 上 昇 するそうです。\n",
    "\n",
    "\n",
    "キャスター: おそろしい数値ですね。しかし、これからも 経 済 は 成 長\n",
    "    し、 産 業 活 動 はますます 活 発 になるでしょう。ですが、\n",
    "    電 力 消 費 の 大 きいパソコン、スマートフォンなど、 私 た\n",
    "    ちの 生 活 に欠かせないこれらの 必 需 品 を手放して以前のよ\n",
    "    うな 生 活 に 戻 ることは 難 しいと 感 じる 方 も 多 いのではな\n",
    "    いでしょうか。とくに 今 の 10 代 にあたる世代の 方 は生まれ\n",
    "    ながらにして、これらの機器に 囲 まれた 環 境 で 育 っていま\n",
    "    すからね。\n",
    "\n",
    "\n",
    "安田: そうですね。おっしゃる 通 り、温 暖 化 は 活 発 な 産 業 活 動\n",
    "    によるところが 大 きいですから、もちろん 企 業 が 対 策 を取\n",
    "    ってしかるべき 問 題 です。しかし個人である 私 たちにもで\n",
    "    きることはあります。 使 わないコンセントを抜く、 冷 房 の\n",
    "    温度を上げるなどは以前から言われていることですが、 最 近\n",
    "    は 楽 しみながら無理をせずに 環 境 を 守 ろうという 動 きがあ\n",
    "    りますね。\n",
    "\n",
    "\n",
    "キャスター: グリーンカーテンなどは良い 例 ですね。 例 えば、ゴーヤの葉\n",
    "    を 茂 らせ、日差しをさえぎることで 冷 房 の使用を 抑 制 し、\n",
    "    収 穫 も 楽 しむことができます。\n",
    "\n",
    "\n",
    "安田: 私 たち個人の 行 動 なしには、 地 球 温 暖 化 を止めることは\n",
    "    できないでしょう。時代に合った 方 法 で、温 暖 化 の 進 行 を\n",
    "    ゆるめていきましょう。 地 球 の未 来 は 私 たちの 行 動 いか\n",
    "    んで決まります。\n",
    "\n",
    "\n",
    "キャスター: 地 球 温 暖 化 防止は 難 しいことだと 思 っていましたが、自分\n",
    "    なりの 方 法 で、無理をしなくてもできることをすればいいん\n",
    "    ですね。安田さん、 本 日 はお越しくださいまして 本 当 にあり\n",
    "    がとうございました。 以 上 、「みんなの 環 境 」でした。ま\n",
    "    た次回お会いしましょう。"
   ]
  },
  {
   "cell_type": "markdown",
   "metadata": {},
   "source": [
    "Here’s the formatted table for this part of the conversation:\n",
    "\n",
    "| Speaker    | Japanese (Hiragana)                                                                                                                                                                                                                                                                                                    | Japanese (Kanji)                                                                                                                                                                                                                                                   | English Translation                                                                                                                                                                                                                                                                                    | Romaji                                                                                                                                                                                                                                                                               | Notes                                                                                                                      |\n",
    "| ---------- | ---------------------------------------------------------------------------------------------------------------------------------------------------------------------------------------------------------------------------------------------------------------------------------------------------------------------- | ------------------------------------------------------------------------------------------------------------------------------------------------------------------------------------------------------------------------------------------------------------------ | ------------------------------------------------------------------------------------------------------------------------------------------------------------------------------------------------------------------------------------------------------------------------------------------------------ | ------------------------------------------------------------------------------------------------------------------------------------------------------------------------------------------------------------------------------------------------------------------------------------ | -------------------------------------------------------------------------------------------------------------------------- |\n",
    "| 安田       | このままおんだんかがすすんだ ばあい、 かいめんはなんとさいだいで 59cm もじょうしょう するそうです。                                                                                                                                                                                                                    | このまま温暖化 が進んだ場合、海面 はなんと 最 大 で 59cm も 上昇 するそうです。                                                                                                                                                                                    | If global warming continues, sea levels are expected to rise by as much as 59 cm at most.                                                                                                                                                                                                              | Kono mama ondanka ga susunda baai, kaimen wa nanto saidai de 59cm mo jōshō suru sō desu.                                                                                                                                                                                             | _温暖化_ (ondanka) means \"global warming\", _上昇_ (jōshō) means \"rise\", _海面_ (kaimen) means \"sea surface\".               |\n",
    "| キャスター | おそろしい すうち ですね。 しかし、これからもけいざい はせいちょう し、 さんぎょう かつどう はますます かっぱつ になるでしょう。                                                                                                                                                                                       | おそろしい 数値 ですね。 しかし、これからも 経済 は 成長 し、 産業 活動 はますます 活発 になるでしょう。                                                                                                                                                           | That’s a frightening number. However, the economy will continue to grow, and industrial activities will become even more active.                                                                                                                                                                       | Osoroshī sūchi desu ne. Shikashi, kore kara mo keizai wa seichō shi, sangyō katsudō wa masumasu kappatsu ni naru deshō.                                                                                                                                                              | _数値_ (sūchi) means \"number\", _経済_ (keizai) means \"economy\", _産業活動_ (sangyō katsudō) means \"industrial activities\". |\n",
    "| キャスター | ですが、でんりょく しょうひ の おおきい ぱそこん、スマートフォン など、わたしたちの せいかつ に かかせない これらの ひつじゅひん を てばなして いぜんのような せいかつ に もどることは むずかしいと かんじる かた もおおいのではないでしょうか。                                                                       | ですが、電力 消費 の 大きい パソコン、スマートフォン など、 私 たちの 生活 に欠かせない これらの 必需品 を手放して以前のような 生活 に戻ることは難しいと 感じる 方 も多いのではないでしょうか。                                                                    | However, with large power-consuming devices like computers and smartphones that are essential to our lives, it’s difficult to imagine going back to the way things were. Many people might feel this way.                                                                                              | Desu ga, denryoku shōhi no ōkii pasokon, sumātōfon nado, watashitachi no seikatsu ni kakasenai korera no hitsujuhin o tebanashite izen no yōna seikatsu ni modoru koto wa muzukashī to kanjiru kata mo ōi no de wa nai deshō ka.                                                     | _電力消費_ (denryoku shōhi) means \"power consumption\", _必需品_ (hitsujuhin) means \"necessities\".                          |\n",
    "| キャスター | とくに いまの 10 だい に あたる せだい の かた は うまれながらにして、これらの きき に かこまれた かんきょう で そだって いますからね。                                                                                                                                                                                | 特に 今 の 10 代 にあたる 世代 の 方 は生まれながらにして、これらの機器に 囲まれた 環境 で 育って いますからね。                                                                                                                                                   | Especially the current generation of people in their teens, who were born into an environment surrounded by these devices.                                                                                                                                                                             | Tokuni ima no jūdai ni ataru sedai no kata wa umarenagara ni shite, korera no kiki ni kakomareta kankyō de sodatte imasu kara ne.                                                                                                                                                    | _環境_ (kankyō) means \"environment\", _機器_ (kiki) means \"devices\".                                                        |\n",
    "| 安田       | そうですね。おっしゃる とおり、おんだんか は かっぱつ な さんぎょう かつどう に よるところが おおきいですから、もちろん きぎょう が たいさく を とって しかるべき もんだい です。                                                                                                                                      | そうですね。おっしゃる 通り、温暖化 は 活発 な 産業 活動 によるところが 大きいですから、もちろん 企業 が 対策 を取ってしかるべき 問題 です。                                                                                                                       | Yes, that’s correct. As you mentioned, global warming is largely due to active industrial activities, so of course, companies should take measures to address it.                                                                                                                                      | Sō desu ne. Ossharu tōri, ondanka wa kappatsu na sangyō katsudō ni yoru tokoro ga ōkii desu kara, mochiron kigyō ga taisaku o totte shikarubeki mondai desu.                                                                                                                         | _企業_ (kigyō) means \"companies\", _対策_ (taisaku) means \"measures\".                                                       |\n",
    "| 安田       | しかし こじん である わたしたちにも できることは あります。 つかわない こんせんと を ぬく、 れいぼう の おんど を あげる などは いぜんから いわれていることですが、 さいきんは たのしみながら むりをせずに かんきょう を まもろう という うごき が ありますね。                                                        | しかし個人である 私たちにもできることはあります。 使わない コンセントを抜く、 冷房 の 温度を上げる などは以前から言われていることですが、 最近は 楽しみながら 無理をせずに 環境 を 守ろう という 動き が ありますね。                                              | However, there are things we individuals can do. For example, unplugging unused outlets or raising the temperature on air conditioning are things that have been said for a while. Recently, there’s a movement to protect the environment without pushing ourselves too hard, while still having fun. | Shikashi kojin de aru watashitachi ni mo dekiru koto wa arimasu. Tsukawanai konsento o nuku, reibō no ondo o ageru nado wa izen kara iwarete iru koto desu ga, saikin wa tanoshimi nagara muri o sezu ni kankyō o mamorou to iu ugoki ga arimasu ne.                                 | _冷房_ (reibō) means \"air conditioning\", _無理をせずに_ (muri o sezu ni) means \"without overexerting\".                     |\n",
    "| キャスター | グリーン カーテン など は よい れい ですね。 れい えば、ごーや の は を しげらせ、ひざしを さえぎる ことで れいぼう の しよう を よくせい し、しゅうかく も たのしむ ことが できます。                                                                                                                                 | グリーンカーテン など は良い 例 ですね。 例 えば、ゴーヤの葉 を 茂らせ、日差しをさえぎることで 冷房 の使用 を抑制 し、収 穫 も 楽 しむことができます。                                                                                                             | Green curtains are a good example. For instance, by growing bitter melon (goya) leaves and blocking sunlight, you can reduce air conditioning usage and also enjoy harvesting.                                                                                                                         | Gurīn kāten nado wa yoi rei desu ne. Rei eba, gōya no ha o shigerase, hizashi o saegiru koto de reibō no shiyō o yokusei shi, shūkaku mo tanoshimu koto ga dekimasu.                                                                                                                 | _収穫_ (shūkaku) means \"harvest\", _抑制_ (yokusei) means \"control\".                                                        |\n",
    "| 安田       | わたしたち こじん の こうどう なしには、ちきゅう おんだん か を とめる こと は できないでしょう。 じだい に あった ほうほう で、おんだんか の しんこう を ゆるめて いきましょう。ちきゅうの みらい は わたしたちの こうどう いかんで きまります。                                                                      | 私たち個人の 行動 なしには、 地球 温暖 化 を止める こと は できないでしょう。 時代 に合った 方 法 で、温暖 化 の 進行 を ゆるめていきましょう。 地球 の未 来 は 私たちの 行動 いかんで 決まります。                                                                | Without the actions of individuals, we cannot stop global warming. Let’s try to slow down the progress of global warming with methods that fit the times. The future of the Earth depends on our actions.                                                                                              | Watashitachi kojin no kōdō nashi ni wa, chikyū ondanka o tomeru koto wa dekinai deshō. Jidai ni atta hōhō de, ondanka no shinkō o yurumete ikimashou. Chikyū no mirai wa watashitachi no kōdō ikan de kimarimasu.                                                                    | _未來_ (mirai) means \"future\", _進行_ (shinkō) means \"progress\".                                                           |\n",
    "| キャスター | ちきゅう おんだん か ぼうし は むずかしい こと だと おもっていましたが、 じぶん なり の ほうほう で、 むりを しなくても できること を すれば いいんですね。 安田さん、ほんじつ は おこし くださいまして ほんとうに ありがとうございました。 いじょう、「 みんなの かんきょう 」でした。 また じかい おあいしましょう。 | 地球 温暖 化 防止 は 難しい こと だと 思っていましたが、自分 なり の 方 法 で、無理を しなくてもできることを すればいいんですね。安田さん、本日 はお越しくださいまして 本当 に ありがとうございました。 以上、「みんなの 環境」でした。 また次回お会いしましょう。 | I had thought that preventing global warming was difficult, but it seems that we can do what we can in our own way, without overexerting ourselves. Mr. Yasuda, thank you very much for joining us today. That’s all for \"Everyone’s Environment.\" We’ll see you next time.                            | Chikyū ondanka bōshi wa muzukashī koto da to omotte imashita ga, jibun nari no hōhō de, muri o shinakute mo dekiru koto o sureba īn desu ne. Yasuda-san, honjitsu wa okoshi kudasaimashite hontō ni arigatō gozaimashita. Ijō, \"Minna no kankyō\" deshita. Mata jikai o ai shimashou. | _防止_ (bōshi) means \"prevention\", _無理をしなくても_ (muri o shinakute mo) means \"without overexerting\".                  |\n",
    "\n",
    "This breakdown includes explanations of key vocabulary, kanji, and phrases, which should be helpful for understanding and memorizing the material. Let me know if you'd like more details or additional clarifications!\n"
   ]
  },
  {
   "cell_type": "markdown",
   "metadata": {},
   "source": [
    "---"
   ]
  },
  {
   "cell_type": "markdown",
   "metadata": {},
   "source": [
    "# Grammar 1\n"
   ]
  },
  {
   "cell_type": "markdown",
   "metadata": {},
   "source": []
  },
  {
   "cell_type": "markdown",
   "metadata": {},
   "source": []
  },
  {
   "cell_type": "markdown",
   "metadata": {},
   "source": []
  },
  {
   "cell_type": "markdown",
   "metadata": {},
   "source": [
    "---\n",
    "---"
   ]
  },
  {
   "cell_type": "markdown",
   "metadata": {},
   "source": [
    "# Grammar 2\n"
   ]
  },
  {
   "cell_type": "markdown",
   "metadata": {},
   "source": []
  },
  {
   "cell_type": "markdown",
   "metadata": {},
   "source": []
  },
  {
   "cell_type": "markdown",
   "metadata": {},
   "source": []
  },
  {
   "cell_type": "markdown",
   "metadata": {},
   "source": [
    "---\n",
    "---"
   ]
  },
  {
   "cell_type": "markdown",
   "metadata": {},
   "source": [
    "# Grammar 3\n"
   ]
  },
  {
   "cell_type": "markdown",
   "metadata": {},
   "source": []
  },
  {
   "cell_type": "markdown",
   "metadata": {},
   "source": []
  },
  {
   "cell_type": "markdown",
   "metadata": {},
   "source": []
  },
  {
   "cell_type": "markdown",
   "metadata": {},
   "source": [
    "---\n",
    "---"
   ]
  },
  {
   "cell_type": "markdown",
   "metadata": {},
   "source": [
    "# Grammar 4\n"
   ]
  },
  {
   "cell_type": "markdown",
   "metadata": {},
   "source": []
  },
  {
   "cell_type": "markdown",
   "metadata": {},
   "source": []
  },
  {
   "cell_type": "markdown",
   "metadata": {},
   "source": []
  },
  {
   "cell_type": "markdown",
   "metadata": {},
   "source": [
    "---\n",
    "---"
   ]
  },
  {
   "cell_type": "markdown",
   "metadata": {},
   "source": [
    "# Grammar 5\n"
   ]
  },
  {
   "cell_type": "markdown",
   "metadata": {},
   "source": []
  },
  {
   "cell_type": "markdown",
   "metadata": {},
   "source": []
  },
  {
   "cell_type": "markdown",
   "metadata": {},
   "source": []
  },
  {
   "cell_type": "markdown",
   "metadata": {},
   "source": [
    "---\n",
    "---"
   ]
  },
  {
   "cell_type": "markdown",
   "metadata": {},
   "source": [
    "# Grammar 6\n"
   ]
  },
  {
   "cell_type": "markdown",
   "metadata": {},
   "source": []
  },
  {
   "cell_type": "markdown",
   "metadata": {},
   "source": []
  },
  {
   "cell_type": "markdown",
   "metadata": {},
   "source": []
  },
  {
   "cell_type": "markdown",
   "metadata": {},
   "source": [
    "---\n",
    "---"
   ]
  },
  {
   "cell_type": "markdown",
   "metadata": {},
   "source": [
    "# Grammar 7\n"
   ]
  },
  {
   "cell_type": "markdown",
   "metadata": {},
   "source": []
  },
  {
   "cell_type": "markdown",
   "metadata": {},
   "source": []
  },
  {
   "cell_type": "markdown",
   "metadata": {},
   "source": []
  },
  {
   "cell_type": "markdown",
   "metadata": {},
   "source": [
    "---\n",
    "---"
   ]
  },
  {
   "cell_type": "markdown",
   "metadata": {},
   "source": [
    "# Grammar 8\n"
   ]
  },
  {
   "cell_type": "markdown",
   "metadata": {},
   "source": []
  },
  {
   "cell_type": "markdown",
   "metadata": {},
   "source": []
  },
  {
   "cell_type": "markdown",
   "metadata": {},
   "source": []
  },
  {
   "cell_type": "markdown",
   "metadata": {},
   "source": [
    "---\n",
    "---"
   ]
  },
  {
   "cell_type": "markdown",
   "metadata": {},
   "source": [
    "# Grammar 9\n"
   ]
  },
  {
   "cell_type": "markdown",
   "metadata": {},
   "source": []
  },
  {
   "cell_type": "markdown",
   "metadata": {},
   "source": []
  },
  {
   "cell_type": "markdown",
   "metadata": {},
   "source": []
  },
  {
   "cell_type": "markdown",
   "metadata": {},
   "source": [
    "---\n",
    "---"
   ]
  },
  {
   "cell_type": "markdown",
   "metadata": {},
   "source": [
    "# Grammar 10\n"
   ]
  },
  {
   "cell_type": "markdown",
   "metadata": {},
   "source": []
  },
  {
   "cell_type": "markdown",
   "metadata": {},
   "source": []
  },
  {
   "cell_type": "markdown",
   "metadata": {},
   "source": []
  },
  {
   "cell_type": "markdown",
   "metadata": {},
   "source": [
    "---\n",
    "---"
   ]
  },
  {
   "cell_type": "markdown",
   "metadata": {},
   "source": [
    "# Grammar 11\n"
   ]
  },
  {
   "cell_type": "markdown",
   "metadata": {},
   "source": []
  },
  {
   "cell_type": "markdown",
   "metadata": {},
   "source": []
  },
  {
   "cell_type": "markdown",
   "metadata": {},
   "source": []
  },
  {
   "cell_type": "markdown",
   "metadata": {},
   "source": [
    "---\n",
    "---"
   ]
  },
  {
   "cell_type": "markdown",
   "metadata": {},
   "source": [
    "# Grammar 12\n"
   ]
  },
  {
   "cell_type": "markdown",
   "metadata": {},
   "source": []
  },
  {
   "cell_type": "markdown",
   "metadata": {},
   "source": []
  },
  {
   "cell_type": "markdown",
   "metadata": {},
   "source": []
  },
  {
   "cell_type": "markdown",
   "metadata": {},
   "source": [
    "---\n",
    "---"
   ]
  }
 ],
 "metadata": {
  "language_info": {
   "name": "python"
  }
 },
 "nbformat": 4,
 "nbformat_minor": 2
}
