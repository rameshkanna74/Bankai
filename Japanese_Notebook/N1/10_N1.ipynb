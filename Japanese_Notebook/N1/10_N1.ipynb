{
 "cells": [
  {
   "cell_type": "markdown",
   "metadata": {},
   "source": [
    "# N1\n",
    "\n",
    "### 第 10 課 - モデルさんの 協 力 なくしてこの作品 はできませんでした。\n",
    "\n",
    "### Lesson 10 -  I couldnʼt create this work without the help of the model."
   ]
  },
  {
   "cell_type": "markdown",
   "metadata": {},
   "source": [
    "# Vocabulary"
   ]
  },
  {
   "cell_type": "markdown",
   "metadata": {},
   "source": [
    "    1.コンクール n. contest/competition\n",
    "    2.イラスト n. illustration/picture/drawing/sketch\n",
    "    3.わがさ 和傘 n. Japanese umbrella\n",
    "    4.コントラスト n. contrast\n",
    "    5.しんさいん 審査員 n. judge/juror\n",
    "    6.ひょうしょうしき 表彰式 n. commendation ceremony/prize-giving ceremony\n",
    "    7.イメージキャラクター n. poster boy/poster girl/image character/mascot\n",
    "    8.がんこ 頑固 n./な-adj. obstinacy/stubbornness/bigotry/tenacity/stubborn/bigoted/persistent/inveterate\n",
    "    9.がんしょ 願書 n. application/written request\n",
    "    10.トリミング n./vt. trimming/to trim\n",
    "    11.スケッチ n./vt. sketching/to go sketching\n",
    "    12.ナンセンス n. nonsense/rubbish/baloney\n",
    "    13.ファイル n. file\n",
    "    14.ていぎ 定義 n./vt. definition/to define\n",
    "    15.きんせん 金銭 n. money/cash\n",
    "    16.てんさい 天才 n. genius\n",
    "    17.えいゆう 英雄 n. hero/heroic figure\n",
    "    18.きょうちゅう 胸中 n. one's mind/ one's heart/one's feelings\n",
    "    19.うきよえ 浮世絵 n. ukiyoe(a picture of everyday life in the Edo period)\n",
    "    20.すいさつ 推察 n./vt. guess/conjecture/to guess/to assume/to reckon\n",
    "    21.あからさま な-adj. clear/blatant/flagrant\n",
    "    22.なげやり 投げやり n./な-adj. reckless/slovenly/careless/irresponsible\n",
    "    23.ちらっと adv. at a glance/ briefly\n",
    "    24.しずまりかえる 静まり返る vi. to fall completely silent/to become deathly silent\n",
    "    25.けはい 気配 n. sign/hint/sense/intimation\n"
   ]
  },
  {
   "cell_type": "markdown",
   "metadata": {},
   "source": [
    "    26.ものづくり n. craftsmanship/manufacturing\n",
    "    27.コンパクト n./な-adj. compact/cozy/small\n",
    "    28.モーター n. motor\n",
    "    29.パジャマ n. pajamas\n",
    "    30.きごこち 着心地 n. feeling or sensation when you wear something\n",
    "    31.きぬ 絹 n. silk\n",
    "    32.はいざい 廃材 n. waste lumber/scrap wood\n",
    "    33.サイレン n. siren\n",
    "    34.やさき 矢先 n. the moment one is going to do\n",
    "    35.せんぼう 羨望 n./vi. envy/envious admiration/to envy\n",
    "    36.こみあげる vi. to be filled with /to be overcome with/to fill one's heart\n",
    "    37.ちょくりつ 直立 n./vi. upright/to erect/to stand straight\n",
    "    38.でんしんばしら 電信柱 n. utility pole/telephone pole\n",
    "    39.かぞえたてる 数え立てる vt. to enumerate/to count up/to list\n",
    "    40.たんちょう 単調 n./な-adj. monotony/dullness/monotonous/dull/boring/flat\n",
    "    41.あからむ 赤らむ vi. to blush\n",
    "    42.かくり 隔離 n./vt. isolation/insulation/segregation/to isolate/to insulate/to quarantine\n",
    "    43.かんさん 閑散 な-adj./n. quiet/hushed/dull/inactive/dullness/inactivity\n",
    "    44.あてはまる 当てはまる vi. to be true of /to apply to/ to fit in/\n",
    "    45.けねん 懸念 n./vt. concern/anxiety/to worry/ to feel concern\n",
    "    46.しめん 紙面 n. page space/surface of paper/sheet\n",
    "    47.かつじ 活字 n. (printing)type/ letter\n",
    "    48.ていりゅうじょ 停留所 n. stop/stopping place\n",
    "    49.おかす 冒す vt. to take a risk /to brave/to risk\n",
    "    50.ろうどく 朗読 n./vt. reading aloud/to read aloud/to recite\n"
   ]
  },
  {
   "cell_type": "markdown",
   "metadata": {},
   "source": [
    "    51.インテリ n. intellectual/educated person\n",
    "    52.つぶる 瞑る vt. to close one's eyes\n",
    "    53.てじゅん 手順 n. process/procedure/order/course\n",
    "    54.みせびらかす 見せびらかす vt. to show off /to flaunt/to display\n",
    "    55.えんかつ 円滑 な-adj./n. smooth/without any interruption\n",
    "    56.うんよう 運用 n./vt. use/to make use of/to utilize\n",
    "    57.おおすじ 大筋 n. outline/summary/basic point\n",
    "    58.すみやか 速やか な-adj. speedy/quick/prompt\n",
    "    59.すんなり adv. easily/smoothly/slim/slender\n",
    "    60.せいぜん 整然 n./な-adj. well-ordered/well-regulated\n",
    "    61.せいめい 声明 n./vi./vt. declaration/statement/announcement/to declare/to proclaim\n",
    "    62.せかす 急かす vt. to hurry (up)/to rush /to press\n",
    "    63.そびえる vi. to rise/ to tower\n",
    "    64.たずさわる 携わる vi. to take part in/to participate in/to be involved in /to be engaged in\n",
    "    65.ちょくちょく adv. often/ now and then/from time to time/frequently\n",
    "    66.だるい い-adj. sluggish/heavy/languid\n",
    "    67.つっぱる 突っ張る vi. to stick out/to stiffen/to tighten/to insist on /to act tough\n",
    "    68.たんいつ 単一 n./な-adj. singleness/single/sole/individual\n",
    "    69.ずるずる adv. dragging/slithery/trailingly\n",
    "    70.せじ 世辞 n. flattery/insincere compliment/blarney/sweet words\n",
    "    71.まるごと 丸ごと adv. whole/ altogether/entirely\n",
    "    72.めいちゅう 命中 n./vi. hit/to hit (the mark)\n",
    "    73.めんぼく 面目 n. face/ honor/reputation/ dignity\n",
    "    74.もろい 脆い い-adj. fragile/delicate/breakable/weak/frail/unsubstantial\n",
    "    75.もよおす 催す vi./vt. to hold/to organize/to perform/to take place\n",
    "    76.しとやか 淑やか な-adj. graceful/gentle/modest/ladylike/polite\n",
    "    77.じっくり adv. thoroughly/closely/carefully\n",
    "    78.きしょう 希少 な-adj. rare\n"
   ]
  },
  {
   "cell_type": "markdown",
   "metadata": {},
   "source": [
    "Here is your updated list with translations, example sentences, and explanations:\n",
    "\n",
    "| No. | Japanese (Kanji)     | Hiragana             | Romaji          | English Translation                                                           | Part of Speech | Example Sentence (Japanese)                      | Example Sentence (English)                                        | Example Sentence (Romaji)                                 | Notes                                                                                     |\n",
    "| --- | -------------------- | -------------------- | --------------- | ----------------------------------------------------------------------------- | -------------- | ------------------------------------------------ | ----------------------------------------------------------------- | --------------------------------------------------------- | ----------------------------------------------------------------------------------------- |\n",
    "| 1   | コンクール           | こんくーる           | konkurū         | contest, competition                                                          | Noun           | 彼は音楽コンクールで優勝した。                   | He won the music contest.                                         | kare wa ongaku konkurū de yūshō shita.                    | A general term for any type of contest or competition.                                    |\n",
    "| 2   | イラスト             | いらすと             | irasuto         | illustration, picture, drawing, sketch                                        | Noun           | 彼女はイラストを描くのが得意だ。                 | She is good at drawing illustrations.                             | kanojo wa irasuto o kaku no ga tokui da.                  | Refers to any kind of drawing or visual art.                                              |\n",
    "| 3   | 和傘                 | わがさ               | wagasa          | Japanese umbrella                                                             | Noun           | 和傘は日本の伝統的な傘です。                     | A wagasa is a traditional Japanese umbrella.                      | wagasa wa nihon no dentō-teki na kasa desu.               | A type of umbrella made of paper and bamboo, often used in traditional Japanese settings. |\n",
    "| 4   | コントラスト         | こんとらすと         | kontorasuto     | contrast                                                                      | Noun           | この写真には色のコントラストが強い。             | This photo has strong color contrast.                             | kono shashin ni wa iro no kontorasuto ga tsuyoi.          | Refers to the difference between two elements, often in art or photography.               |\n",
    "| 5   | 審査員               | しんさいん           | shinsain        | judge, juror                                                                  | Noun           | 審査員は全員、専門家だ。                         | The judges are all experts.                                       | shinsain wa zen'in, senmonka da.                          | Refers to individuals who evaluate or judge in a competition or trial.                    |\n",
    "| 6   | 表彰式               | ひょうしょうしき     | hyōshōshiki     | commendation ceremony, prize-giving ceremony                                  | Noun           | 表彰式で彼は最優秀賞を受け取った。               | He received the grand prize at the award ceremony.                | hyōshōshiki de kare wa saiyūshū-shō o uketotta.           | A ceremony where awards or prizes are given.                                              |\n",
    "| 7   | イメージキャラクター | いめーじきゃらくたー | imēji kyarakutā | image character, mascot                                                       | Noun           | このキャラクターは会社のイメージキャラクターだ。 | This character is the company's mascot.                           | kono kyarakutā wa kaisha no imēji kyarakutā da.           | A character or mascot used to represent a brand or idea.                                  |\n",
    "| 8   | 頑固                 | がんこ               | ganko           | obstinacy, stubbornness, tenacity                                             | Noun/Adjective | 彼は頑固な性格で、意見を変えない。               | He is so stubborn and never changes his opinion.                  | kare wa ganko na seikaku de, iken o kaenai.               | Refers to someone who is stubborn or persistent.                                          |\n",
    "| 9   | 願書                 | がんしょ             | gansho          | application, written request                                                  | Noun           | 大学に入学するための願書を提出した。             | I submitted my application to enter university.                   | daigaku ni nyūgaku suru tame no gansho o teishutsu shita. | A formal written request or application, often for schools or jobs.                       |\n",
    "| 10  | トリミング           | とりみんぐ           | torimingu       | trimming, to trim                                                             | Noun/Verb      | 彼は犬の毛をトリミングした。                     | He trimmed the dog's fur.                                         | kare wa inu no ke o torimingu shita.                      | Refers to cutting or trimming, often used for hair, plants, or pets.                      |\n",
    "| 11  | スケッチ             | すけっち             | suketchi        | sketch, to sketch                                                             | Noun/Verb      | 彼は公園でスケッチをしている。                   | He is sketching in the park.                                      | kare wa kōen de suketchi o shite iru.                     | Refers to a rough drawing or to draw something quickly and simply.                        |\n",
    "| 12  | ナンセンス           | なんせんす           | nansensu        | nonsense, rubbish                                                             | Noun           | そのアイデアはナンセンスだ。                     | That idea is nonsense.                                            | sono aidea wa nansensu da.                                | Refers to something that is absurd or illogical.                                          |\n",
    "| 13  | ファイル             | ふぁいる             | fairu           | file                                                                          | Noun           | 重要な書類はファイルに保管している。             | I store important documents in a file.                            | jūyō na shorui wa fairu ni hokan shite iru.               | Refers to a file for storing papers or digital data.                                      |\n",
    "| 14  | 定義                 | ていぎ               | teigi           | definition, to define                                                         | Noun/Verb      | その言葉の定義は辞書に載っている。               | The definition of that word is in the dictionary.                 | sono kotoba no teigi wa jisho ni notte iru.               | Refers to explaining or specifying the meaning of something.                              |\n",
    "| 15  | 金銭                 | きんせん             | kinsen          | money, cash                                                                   | Noun           | 彼は金銭的な問題に悩んでいる。                   | He is troubled by financial problems.                             | kare wa kinsenteki na mondai ni nayande iru.              | Refers to money, often used in a formal or technical sense.                               |\n",
    "| 16  | 天才                 | てんさい             | tensai          | genius                                                                        | Noun           | 彼は数学の天才だ。                               | He is a genius in mathematics.                                    | kare wa sūgaku no tensai da.                              | Refers to someone exceptionally talented or gifted in a particular field.                 |\n",
    "| 17  | 英雄                 | えいゆう             | eiyū            | hero, heroic figure                                                           | Noun           | 彼は歴史上の英雄のようだ。                       | He is like a hero from history.                                   | kare wa rekishijō no eiyū no yō da.                       | Refers to a person who is admired for their courage or noble qualities.                   |\n",
    "| 18  | 胸中                 | きょうちゅう         | kyōchū          | one's mind, one's heart, one's feelings                                       | Noun           | 彼は胸中で何を思っているのだろう。               | I wonder what he is thinking in his heart.                        | kare wa kyōchū de nani o omotte iru no darou.             | Refers to one's internal feelings or thoughts, often used metaphorically.                 |\n",
    "| 19  | 浮世絵               | うきよえ             | ukiyoe          | ukiyo-e (a type of woodblock print depicting everyday life in the Edo period) | Noun           | 浮世絵は江戸時代の日本の芸術だ。                 | Ukiyo-e is an art form from Edo period Japan.                     | ukiyo-e wa Edo jidai no Nihon no geijutsu da.             | Traditional Japanese woodblock prints, often depicting scenes from daily life.            |\n",
    "| 20  | 推察                 | すいさつ             | suisatsu        | guess, conjecture, to guess                                                   | Noun/Verb      | 彼の表情から推察すると、彼は怒っている。         | From his expression, I can guess that he is angry.                | kare no hyōjō kara suisatsu suru to, kare wa okotte iru.  | Refers to making an educated guess or assumption based on available clues.                |\n",
    "| 21  | あからさま           | あからさま           | akarasama       | clear, blatant, flagrant                                                      | Adjective      | 彼の行動はあからさまに不正だ。                   | His actions are blatantly dishonest.                              | kare no kōdō wa akarasama ni fusei da.                    | Describes something that is obvious or done openly and without shame.                     |\n",
    "| 22  | 投げやり             | なげやり             | nageyari        | reckless, careless, irresponsible                                             | Noun/Adjective | 彼は投げやりに仕事を放り出した。                 | He recklessly abandoned his work.                                 | kare wa nageyari ni shigoto o hōridashta.                 | Refers to an attitude of giving up or acting without consideration.                       |\n",
    "| 23  | ちらっと             | ちらっと             | chiratto        | at a glance, briefly                                                          | Adverb         | ちらっと見ると、彼女が泣いているのが見えた。     | I saw her crying briefly when I glanced at her.                   | chiratto miru to, kanojo ga naite iru no ga mieta.        | Refers to a quick or brief glance at something.                                           |\n",
    "| 24  | 静まり返る           | しずまりかえる       | shizumarikaeru  | to fall completely silent, to become deathly silent                           | Verb           | 会場は静まり返って、誰もが息を呑んだ。           | The venue fell completely silent, and everyone held their breath. | kaijō wa shizumarikaette, dare mo ga iki o nonda.         | Used to describe a place or situation becoming completely quiet.                          |\n",
    "| 25  | 気配                 | けはい               | kehai           | sign, hint, sense, intimation                                                 | Noun           | 彼女は気配を感じて振り返った。                   | She turned around after sensing something.                        | kanojo wa kehāi o kanjite furikaetta.                     | Refers to an impression or feeling of something present or about to happen.               |\n",
    "\n",
    "Let me know if you'd like more examples or any further clarifications!\n"
   ]
  },
  {
   "cell_type": "markdown",
   "metadata": {},
   "source": [
    "Here is your updated list with translations, example sentences, and explanations:\n",
    "\n",
    "| No. | Japanese (Kanji) | Hiragana       | Romaji         | English Translation                          | Part of Speech | Example Sentence (Japanese)              | Example Sentence (English)                             | Example Sentence (Romaji)                        | Notes                                                                                    |\n",
    "| --- | ---------------- | -------------- | -------------- | -------------------------------------------- | -------------- | ---------------------------------------- | ------------------------------------------------------ | ------------------------------------------------ | ---------------------------------------------------------------------------------------- |\n",
    "| 26  | ものづくり       | ものづくり     | monozukuri     | craftsmanship, manufacturing                 | Noun           | 日本はものづくりの国として知られている。 | Japan is known as a country of craftsmanship.          | Nihon wa monozukuri no kuni to shira rete iru.   | Refers to the art of making things by hand or the manufacturing industry.                |\n",
    "| 27  | コンパクト       | こんぱくと     | konpakuto      | compact, cozy, small                         | Noun/Adjective | この家はコンパクトで住みやすい。         | This house is compact and easy to live in.             | Kono ie wa konpakuto de sumi yasui.              | Often used to describe small, space-efficient designs.                                   |\n",
    "| 28  | モーター         | もーたー       | mōtā           | motor                                        | Noun           | 車のモーターが故障した。                 | The car's motor broke down.                            | Kuruma no mōtā ga koshō shita.                   | Refers to an engine or mechanical device that converts energy into motion.               |\n",
    "| 29  | パジャマ         | ぱじゃま       | pajama         | pajamas                                      | Noun           | 寝る前にパジャマに着替えた。             | I changed into pajamas before going to bed.            | Neru mae ni pajama ni kigaeta.                   | Refers to the clothes worn for sleeping.                                                 |\n",
    "| 30  | 着心地           | きごこち       | kigokochi      | feeling or sensation when you wear something | Noun           | このシャツは着心地がいい。               | This shirt feels comfortable to wear.                  | Kono shatsu wa kigokochi ga ii.                  | Describes how a garment feels when worn.                                                 |\n",
    "| 31  | 絹               | きぬ           | kinu           | silk                                         | Noun           | 絹のドレスはとても高級だ。               | A silk dress is very luxurious.                        | Kinu no doresu wa totemo kōkyū da.               | Refers to the fabric made from the fibers of silkworms.                                  |\n",
    "| 32  | 廃材             | はいざい       | haizai         | waste lumber, scrap wood                     | Noun           | 廃材を使って家具を作った。               | I made furniture using scrap wood.                     | Haizai o tsukatte kagu o tsukutta.               | Refers to leftover or discarded materials, especially wood.                              |\n",
    "| 33  | サイレン         | さいれん       | sairen         | siren                                        | Noun           | サイレンの音が遠くから聞こえてきた。     | I heard the sound of a siren from afar.                | Sairen no oto ga tōku kara kikoete kita.         | Refers to the sound made by an emergency vehicle or alarm.                               |\n",
    "| 34  | 矢先             | やさき         | yasaki         | the moment one is going to do something      | Noun           | 矢先にドアが開いた。                     | Just as I was about to knock, the door opened.         | Yasaki ni doa ga hiraita.                        | Refers to the exact moment right before an action is taken.                              |\n",
    "| 35  | 羨望             | せんぼう       | senbō          | envy, envious admiration                     | Noun/Verb      | 彼の成功を羨望している。                 | I envy his success.                                    | Kare no seikō o senbō shite iru.                 | Refers to feeling envious of someone’s success or possessions.                           |\n",
    "| 36  | こみあげる       | こみあげる     | komiageru      | to be filled with, to be overcome with       | Verb           | 喜びがこみあげてきた。                   | A sense of joy overwhelmed me.                         | Yorokobi ga komiagete kita.                      | Refers to strong emotions rising up, often used with feelings like joy or tears.         |\n",
    "| 37  | 直立             | ちょくりつ     | chokuritsu     | upright, to stand straight                   | Noun/Verb      | 彼は背筋を伸ばして直立している。         | He is standing upright with his back straight.         | Kare wa seisui o nobashite chokuritsu shite iru. | Describes standing straight and erect.                                                   |\n",
    "| 38  | 電信柱           | でんしんばしら | denshinbashira | utility pole, telephone pole                 | Noun           | 電信柱に電話線が張られている。           | Telephone wires are stretched across the utility pole. | Denshinbashira ni denwā-sen ga hararete iru.     | Refers to the tall poles used to carry electrical or telephone wires.                    |\n",
    "| 39  | 数え立てる       | かぞえたてる   | kazoetateru    | to enumerate, to count up, to list           | Verb           | 彼は所有している本を数え立てた。         | He listed the books he owns.                           | Kare wa shoyū shite iru hon o kazoetateru.       | Used when counting items or listing things one by one.                                   |\n",
    "| 40  | 単調             | たんちょう     | tanchō         | monotony, dullness, monotonous, dull, boring | Noun/Adjective | その仕事は単調で退屈だ。                 | That job is monotonous and boring.                     | Sono shigoto wa tanchō de taikutsu da.           | Describes something repetitive and lacking variety, often leading to boredom.            |\n",
    "| 41  | 赤らむ           | あからむ       | akaramu        | to blush                                     | Verb           | 恥ずかしくて顔が赤らんだ。               | I blushed because I was embarrassed.                   | Hazukashikute kao ga akaramda.                   | Refers to the act of one's face turning red due to embarrassment or shyness.             |\n",
    "| 42  | 隔離             | かくり         | kakuri         | isolation, segregation, to isolate           | Noun/Verb      | 病気の患者は隔離されている。             | The patient with the disease is in isolation.          | Byōki no kanja wa kakuri sarete iru.             | Refers to the act of separating someone or something for safety or privacy.              |\n",
    "| 43  | 閑散             | かんさん       | kansan         | quiet, dull, inactive, dullness, inactivity  | Adjective/Noun | 閑散とした通りを歩いている。             | I’m walking down a quiet street.                       | Kansan to shita tōri o aruite iru.               | Describes an empty or inactive place, often used to refer to areas with little activity. |\n",
    "| 44  | 当てはまる       | あてはまる     | atehamaru      | to be true of, to apply to, to fit in        | Verb           | このルールはあなたには当てはまらない。   | This rule doesn't apply to you.                        | Kono rūru wa anata ni wa atehamaranai.           | Refers to something fitting a particular situation or condition.                         |\n",
    "| 45  | 懸念             | けねん         | kenen          | concern, anxiety, to worry                   | Noun/Verb      | 私はその計画に懸念を抱いている。         | I have concerns about that plan.                       | Watashi wa sono keikaku ni kenen o idaite iru.   | Refers to feeling worried or having doubts about something.                              |\n",
    "| 46  | 紙面             | しめん         | shimen         | page space, surface of paper, sheet          | Noun           | 紙面に記事が載っている。                 | An article is printed on the page.                     | Shimen ni kiji ga notte iru.                     | Refers to the physical surface of paper, especially in the context of publishing.        |\n",
    "| 47  | 活字             | かつじ         | katsuji        | (printing) type, letter                      | Noun           | 活字が小さすぎて読みにくい。             | The print is too small and hard to read.               | Katsuji ga chiisasugite yominikui.               | Refers to the printed letters or type used in books, newspapers, etc.                    |\n",
    "| 48  | 停留所           | ていりゅうじょ | teiryūjo       | stop, stopping place                         | Noun           | バスの停留所はあそこです。               | The bus stop is over there.                            | Basu no teiryūjo wa asoko desu.                  | Refers to a designated place where public transport vehicles stop.                       |\n",
    "| 49  | 冒す             | おかす         | okasu          | to take a risk, to brave, to risk            | Verb           | 彼は命を冒して山を登った。               | He risked his life climbing the mountain.              | Kare wa inochi o okashite yama o nobotta.        | Refers to the act of doing something dangerous or risky.                                 |\n",
    "| 50  | 朗読             | ろうどく       | rōdoku         | reading aloud, to read aloud, to recite      | Noun/Verb      | 彼女は詩を朗読した。                     | She recited a poem aloud.                              | Kanojo wa shi o rōdoku shita.                    | Refers to the act of reading something aloud, often for performance or practice.         |\n",
    "\n",
    "Let me know if you'd like further details or more examples!\n"
   ]
  },
  {
   "cell_type": "markdown",
   "metadata": {},
   "source": [
    "Here's your updated list with translations, example sentences, and explanations:\n",
    "\n",
    "| No. | Japanese (Kanji) | Hiragana     | Romaji       | English Translation                                              | Part of Speech | Example Sentence (Japanese)                  | Example Sentence (English)                                 | Example Sentence (Romaji)                            | Notes                                                                               |\n",
    "| --- | ---------------- | ------------ | ------------ | ---------------------------------------------------------------- | -------------- | -------------------------------------------- | ---------------------------------------------------------- | ---------------------------------------------------- | ----------------------------------------------------------------------------------- |\n",
    "| 51  | インテリ         | いんてり     | interi       | intellectual, educated person                                    | Noun           | 彼はインテリで、いつも本を読んでいる。       | He is an intellectual and always reading books.            | Kare wa interi de, itsumo hon o yonde iru.           | Refers to a person who is intellectual or well-educated.                            |\n",
    "| 52  | 瞑る             | める         | meguru       | to close one's eyes                                              | Verb           | 目を瞑って考えた。                           | I closed my eyes and thought.                              | Me o megutte kangaeta.                               | Often used to describe the act of closing one's eyes, especially in concentration.  |\n",
    "| 53  | 手順             | てじゅん     | tejun        | process, procedure, order, course                                | Noun           | 手順通りに作業を進めてください。             | Please proceed with the work according to the procedure.   | Tejun dōri ni sagyō o susumete kudasai.              | Refers to a series of steps or actions in a process.                                |\n",
    "| 54  | 見せびらかす     | みせびらかす | misebirakasu | to show off, to flaunt, to display                               | Verb           | 彼は新しい車を見せびらかしている。           | He is showing off his new car.                             | Kare wa atarashī kuruma o misebirakashite iru.       | Implies showing something off to impress others.                                    |\n",
    "| 55  | 円滑             | えんかつ     | enkatsu      | smooth, without interruption                                     | Adjective/Noun | 円滑な運営をするために準備が必要だ。         | Preparations are necessary for smooth operations.          | Enkatsu na un'ei o suru tame ni junbi ga hitsuyō da. | Refers to a process that is carried out smoothly or without obstacles.              |\n",
    "| 56  | 運用             | うんよう     | un'yō        | use, to make use of, to utilize                                  | Noun/Verb      | この資金は慎重に運用しなければならない。     | This capital must be used carefully.                       | Kono shikin wa shinchō ni un'yō shinakereba naranai. | Refers to the act of managing resources effectively.                                |\n",
    "| 57  | 大筋             | おおすじ     | ōsūji        | outline, summary, basic point                                    | Noun           | 会議で大筋を確認した。                       | We confirmed the main points in the meeting.               | Kaigi de ōsūji o kakunin shita.                      | Refers to the general idea or main points, especially when giving a summary.        |\n",
    "| 58  | 速やか           | すみやか     | sumyaka      | speedy, quick, prompt                                            | Adjective      | 速やかに対応してください。                   | Please respond promptly.                                   | Sumyaka ni taio shite kudasai.                       | Refers to actions that are done quickly or without delay.                           |\n",
    "| 59  | すんなり         | すんなり     | sunnari      | easily, smoothly                                                 | Adverb         | 彼の説明はすんなり理解できた。               | His explanation was easily understood.                     | Kare no setsumei wa sunnari rikai dekita.            | Describes something that happens without difficulty or with ease.                   |\n",
    "| 60  | 整然             | せいぜん     | seizen       | well-ordered, well-regulated                                     | Adjective/Noun | 整然と並んだ書類が机の上にあった。           | The documents were neatly arranged on the desk.            | Seizen to naranda shorui ga tsukue no ue ni atta.    | Refers to a state of orderliness and neatness.                                      |\n",
    "| 61  | 声明             | せいめい     | seimei       | declaration, statement, announcement                             | Noun/Verb      | 政府は新しい声明を発表した。                 | The government made a new declaration.                     | Seifu wa atarashī seimei o happyō shita.             | Refers to a formal or public statement made to announce something.                  |\n",
    "| 62  | 急かす           | せかす       | sekasu       | to hurry (up), to rush, to press                                 | Verb           | 彼は私を急かすことがよくある。               | He often rushes me.                                        | Kare wa watashi o sekasu koto ga yoku aru.           | Implies pressuring someone to hurry or finish something quickly.                    |\n",
    "| 63  | そびえる         | そびえる     | sobieru      | to rise, to tower                                                | Verb           | 高いビルが空にそびえている。                 | The tall building towers over the sky.                     | Takai biru ga sora ni sobiete iru.                   | Refers to something that stands tall or rises up impressively.                      |\n",
    "| 64  | 携わる           | たずさわる   | tazusawaru   | to take part in, to participate in, to be involved in            | Verb           | 彼はこのプロジェクトに携わっている。         | He is involved in this project.                            | Kare wa kono purojekuto ni tazusawatte iru.          | Refers to taking part in or being engaged in a task or activity.                    |\n",
    "| 65  | ちょくちょく     | ちょくちょく | chokuchoku   | often, now and then, from time to time                           | Adverb         | ちょくちょく彼に会う。                       | I meet him from time to time.                              | Chokuchoku kare ni au.                               | Refers to something that happens regularly but not constantly.                      |\n",
    "| 66  | だるい           | だるい       | darui        | sluggish, heavy, languid                                         | Adjective      | 朝からだるくて動きたくない。                 | I feel sluggish and don't want to move since this morning. | Asa kara darukute ugokitakunai.                      | Describes a feeling of fatigue or heaviness, often related to illness or tiredness. |\n",
    "| 67  | 突っ張る         | つっぱる     | tsupparu     | to stick out, to stiffen, to tighten, to insist on, to act tough | Verb           | 彼はいつも自分の意見を突っ張って言う。       | He always insists on his opinion.                          | Kare wa itsumo jibun no iken o tsuppatte iu.         | Can refer to physically stiffening, or metaphorically sticking to one's opinions.   |\n",
    "| 68  | 単一             | たんいつ     | tan'itsu     | singleness, single, sole, individual                             | Noun/Adjective | 単一な理由では決定できません。               | We cannot decide based on a single reason.                 | Tan'itsu na riyū de wa kettei dekimasen.             | Refers to something that is singular or unified.                                    |\n",
    "| 69  | ずるずる         | ずるずる     | zuruzuru     | dragging, slithery, trailing                                     | Adverb         | 引きずっていた箱がずるずると床を引きずった。 | The box I was dragging slid across the floor.              | Hikizutte ita hako ga zuruzuru to yuka o hikizutta.  | Describes a slow, dragging movement, often of something heavy or slippery.          |\n",
    "| 70  | 世辞             | せじ         | seji         | flattery, insincere compliment, blarney                          | Noun           | 彼は世辞がうまい。                           | He is good at flattery.                                    | Kare wa seji ga umai.                                | Refers to compliments or praise that are often exaggerated or insincere.            |\n",
    "| 71  | 丸ごと           | まるごと     | marugoto     | whole, altogether, entirely                                      | Adverb         | 丸ごと食べてしまった。                       | I ate it all (the whole thing).                            | Marugoto tabete shimatta.                            | Refers to something being consumed or dealt with in its entirety.                   |\n",
    "| 72  | 命中             | めいちゅう   | meichū       | hit, to hit the mark                                             | Noun/Verb      | 彼の矢は的に命中した。                       | His arrow hit the target.                                  | Kare no ya wa mato ni meichū shita.                  | Refers to hitting the target, or something being perfectly accurate.                |\n",
    "| 73  | 面目             | めんぼく     | menboku      | face, honor, reputation, dignity                                 | Noun           | 彼は面目を保つために頑張った。               | He worked hard to preserve his dignity.                    | Kare wa menboku o tamotsu tame ni ganbatta.          | Refers to one's reputation or social standing.                                      |\n",
    "| 74  | 脆い             | もろい       | moroi        | fragile, delicate, breakable, weak, frail                        | Adjective      | このガラスは脆いから気をつけて。             | This glass is fragile, so be careful.                      | Kono garasu wa moroi kara ki o tsukete.              | Refers to something that is easily broken or weak.                                  |\n",
    "| 75  | 催す             | もよおす     | moyōsu       | to hold, to organize, to perform, to take place                  | Verb           | パーティーを催す予定だ。                     | I plan to hold a party.                                    | Pātī o moyōsu yotei da.                              | Refers to organizing or hosting an event or gathering.                              |\n",
    "| 76  | 淑やか           | しとやか     | shitoyaka    | graceful, gentle, modest, ladylike, polite                       | Adjective      | 彼女はとても淑やかで礼儀正しい。             | She is very graceful and polite.                           | Kanojo wa totemo shitoyaka de reigi tadashī.         | Refers to a graceful or refined manner, typically used for women.                   |\n",
    "| 77  | じっくり         | じっくり     | jikkuri      | thoroughly, closely, carefully                                   | Adverb         | じっくり考えてから決めるべきだ。             | You should decide after thinking thoroughly.               | Jikkuri kangaete kara kimeru beki da.                | Implies taking time to carefully consider something.                                |\n",
    "| 78  | 希少             | きしょう     | kishō        | rare                                                             | Adjective      | この植物は希少な種類です。                   | This plant is a rare species.                              | Kono shokubutsu wa kishō na shurui desu.             | Refers to something that is scarce or hard to find.                                 |\n",
    "\n",
    "Let me know if you need more examples or further explanation!\n"
   ]
  },
  {
   "cell_type": "markdown",
   "metadata": {},
   "source": [
    "---"
   ]
  },
  {
   "cell_type": "markdown",
   "metadata": {},
   "source": [
    "# Conversation"
   ]
  },
  {
   "cell_type": "markdown",
   "metadata": {},
   "source": [
    "安 藤 : 山 本 くん、ふるさとイラストコンクールで 最 優 秀 賞 に 選 ばれたんだって?おめでとう!\n",
    "\n",
    "山 本 :ありがとうございます。\n",
    "\n",
    "安 藤 :どんなのを描いたの?見せて、見せて!\n",
    "\n",
    "山 本 : 県 のホームページからも見られますよ、ちょっと待ってくださいね。\n",
    "\n",
    "安 藤 :わあ!真っ 白 な雪 景 色 の 中 で、着物の 女 性 がさしている 赤 い和傘\n",
    "    のコントラストが綺麗。 女 性 が 空 を見上げる 表 情 もいいね。\n",
    "    審 査 員 の 評 価 に「これが 芸 術 でなくてなんだろう。 白 と 赤 の\n",
    "    コントラストが 実 に見事である。」って、書いてある。審 査 員 がこの\n",
    "    イラストを見て、 驚 いたことは 想 像 にかたくないね。\n",
    "\n",
    "山 本 :ありがとうございます。そんなにほめられると恥ずかしいですね。\n",
    "    最 近 は 忙 しさにかまけて、コンクールの結果を見るのを 忘 れてい\n",
    "    て、市 役 所 から 表 彰 式 のお知らせが来るまで知らなかったんで\n",
    "    す。いちばんいい 賞 をもらえて、とてもうれしいです。 \n",
    "\n",
    "安 藤 :そういえば、 秋 に 社 内 のイメージキャラクターのデザインコンテス\n",
    "    トもあったけど、 山 本 くんは応募しなかったの?\n",
    "\n",
    "山 本 :そのときは参加しなかったです。自分は 結 構 頑固なきらいがある\n",
    "    から、 満 足 できる 作 品 ができるまでは 発 表 したくないんです。\n",
    "    ちょうどあの時期は、仕事で 新 しいプロジェクトを 控 えていろんな\n",
    "    準 備 を 整 える時期だから、仕事をそっちのけで、イラストを描く\n",
    "    わけにもいかないし応募を見送ったんです。この 作 品 もだいぶ時間が\n",
    "    かかってしまって、 締 切 ギリギリでした。描いたあとに、パソコンで\n",
    "    色 や 明 るさの 調 整 をしたり、画面をトリミングしたりして...。\n",
    "    こだわるときりがないんですけどね。\n",
    "\n",
    "安 藤 :へえ...時間がかかるんだ。\n",
    "\n",
    "山 本 :応募する 直 前 になってどうしても 納 得 いかなくて、 雪 の 中 モデル\n",
    "    さんに立ってもらって描き 直 したこともありました。モデルさんの\n",
    "    協 力 なくしてこの 作 品 はできませんでした。\n",
    "    安 藤 さんは絵を描くのは好きですか。\n",
    "\n",
    "安 藤 :見るのは大好きだよ。でもイラストの 作 成 ソフトはおろか、\n",
    "    パソコンに 元 から 入 ってるソフトもうまく 使 いこなせなくて。\n",
    "    よかったら、今度 教 えてほしいな。\n",
    "\n",
    "山 本 :いいですよ。加工のしようによっては、 同 じイラストでも 違 う雰囲気\n",
    "    が出せるので 面 白 いですよ。そうだ。 週 末 に 桜 が咲き 始 めるら\n",
    "    しいから、 公 園 にスケッチしに行きませんか。そのあと 僕 の 家 でイ\n",
    "    ラストの 作 成 ソフトの 使 い 方 を 教 えますよ。\n",
    "\n",
    "安 藤 :ええ、 面 白 そう! 楽 しみだなあ!"
   ]
  },
  {
   "cell_type": "markdown",
   "metadata": {},
   "source": [
    "| Speaker | Japanese (Hiragana)                                                                                                                                                                                                                                                                                                                                                                                                                                                                                                                 | Japanese (Kanji)                                                                                                                                                                                                                                                                                                                                                                                                                                              | English Translation                                                                                                                                                                                                                                                                                                                                                                                                                                                                                          | Romaji                                                                                                                                                                                                                                                                                                                                                                                                                                                                                                                                                                 | Notes                                                                                                                                     |\n",
    "| ------- | ----------------------------------------------------------------------------------------------------------------------------------------------------------------------------------------------------------------------------------------------------------------------------------------------------------------------------------------------------------------------------------------------------------------------------------------------------------------------------------------------------------------------------------- | ------------------------------------------------------------------------------------------------------------------------------------------------------------------------------------------------------------------------------------------------------------------------------------------------------------------------------------------------------------------------------------------------------------------------------------------------------------- | ------------------------------------------------------------------------------------------------------------------------------------------------------------------------------------------------------------------------------------------------------------------------------------------------------------------------------------------------------------------------------------------------------------------------------------------------------------------------------------------------------------ | ---------------------------------------------------------------------------------------------------------------------------------------------------------------------------------------------------------------------------------------------------------------------------------------------------------------------------------------------------------------------------------------------------------------------------------------------------------------------------------------------------------------------------------------------------------------------- | ----------------------------------------------------------------------------------------------------------------------------------------- |\n",
    "| 安藤    | やまもとくん、ふるさとイラストコンクールでさいゆうしょうにえらばれたんだって? おめでとう!                                                                                                                                                                                                                                                                                                                                                                                                                                           | 山本くん、ふるさとイラストコンクールで最優秀賞に選ばれたんだって? おめでとう!                                                                                                                                                                                                                                                                                                                                                                                 | Yamamoto-kun, I heard you won the grand prize in the hometown illustration contest? Congratulations!                                                                                                                                                                                                                                                                                                                                                                                                         | Yamamoto-kun, furusato irasuto konkūru de saiyūshūshō ni erabareta n datte? Omedetou!                                                                                                                                                                                                                                                                                                                                                                                                                                                                                  | \"ふるさと\" (furusato) means \"hometown\", and \"さいゆうしょう\" (saiyūshūshō) means \"grand prize\".                                           |\n",
    "| 山本    | ありがとうございます。                                                                                                                                                                                                                                                                                                                                                                                                                                                                                                              | ありがとうございます。                                                                                                                                                                                                                                                                                                                                                                                                                                        | Thank you very much.                                                                                                                                                                                                                                                                                                                                                                                                                                                                                         | Arigatou gozaimasu.                                                                                                                                                                                                                                                                                                                                                                                                                                                                                                                                                    | A polite way of expressing gratitude.                                                                                                     |\n",
    "| 安藤    | どんなのをかいたの? みせて、みせて!                                                                                                                                                                                                                                                                                                                                                                                                                                                                                                 | どんなのを描いたの? 見せて、見せて!                                                                                                                                                                                                                                                                                                                                                                                                                           | What did you draw? Show me, show me!                                                                                                                                                                                                                                                                                                                                                                                                                                                                         | Donnano o kaita no? Misete, misete!                                                                                                                                                                                                                                                                                                                                                                                                                                                                                                                                    | Casual, enthusiastic request to see the artwork.                                                                                          |\n",
    "| 山本    | けんのホームページからもみられますよ、ちょっとまってくださいね。                                                                                                                                                                                                                                                                                                                                                                                                                                                                    | 県のホームページからも見られますよ、ちょっと待ってくださいね。                                                                                                                                                                                                                                                                                                                                                                                                | You can also see it on the prefecture's website. Please wait a moment.                                                                                                                                                                                                                                                                                                                                                                                                                                       | Ken no hōmupējī kara mo miraremasu yo, chotto matte kudasai ne.                                                                                                                                                                                                                                                                                                                                                                                                                                                                                                        | \"けん\" (ken) means \"prefecture\".                                                                                                          |\n",
    "| 安藤    | わあ! まっしろなゆきけしきのなかで、きもののじょせいがさしているあかいわがさのコントラストがきれい。じょせいがそらをみあげるひょうじょうもいいね。しんさにんのひょうかに「これがげいじゅつでなくてなんだろう。しろとあかのコントラストがじつにみごとである。」って、かいてある。しんさにんがこのイラストをみて、おどろいたことはそうぞうにかたくないね。                                                                                                                                                                            | わあ! 真っ白な雪景色の中で、着物の女性がさしている赤い和傘のコントラストが綺麗。女性が空を見上げる表情もいいね。審査員の評価に「これが芸術でなくてなんだろう。白と赤のコントラストが実に見事である。」って、書いてある。審査員がこのイラストを見て、驚いたことは想像にかたくないね。                                                                                                                                                                          | Wow! The contrast of the red Japanese umbrella held by the woman in a kimono against the pure white snowy landscape is beautiful. The expression of the woman looking up at the sky is also nice. The judges wrote in their evaluation, \"If this isn't art, then what is it? The contrast of white and red is truly magnificent.\" It's easy to imagine the judges must have been astonished when they saw this illustration.                                                                                 | Wā! Masshiro na yukigeshiki no naka de, kimono no josei ga sashiteiru akai wagasa no konturasuto ga kirei. Josei ga sora o miageru hyoujou mo ii ne. Shinsain no hyouka ni \"Kore ga geijutsu de nakute nandarou. Shiro to aka no konturasuto ga jitsu ni migoto de aru.\" tte, kaite aru. Shinsain ga kono irasuto o mite, odorokita koto wa souzou ni kataku nai ne.                                                                                                                                                                                                   | _コントラスト_ (konturasuto) is a loanword from English meaning \"contrast\". \"芸術\" (geijutsu) means \"art\".                                |\n",
    "| 山本    | ありがとうございます。そんなにほめられると、はずかしいですね。さいきんは、いそがしさにかまけて、コンクールのけっかをみるのをわすれていて、しやくしょからしょうちょうしきのおしらせがくるまでしらなかったんです。いちばんいいあんをもらえて、とてもうれしいです。                                                                                                                                                                                                                                                                    | ありがとうございます。そんなに褒められると、恥ずかしいですね。最近は、忙しさにかまけて、コンクールの結果を見るのを忘れていて、市役所から表彰式のお知らせが来るまで知らなかったんです。いちばんいい賞をもらえて、とてもうれしいです。                                                                                                                                                                                                                          | Thank you. It's a bit embarrassing to be praised so much. Recently, I got so caught up in my busyness that I forgot to check the results of the contest. I didn’t know until I received the notification of the award ceremony from the city office. I’m very happy to have received the top prize.                                                                                                                                                                                                          | Arigatou gozaimasu. Sonna ni homerareru to, hazukashii desu ne. Saikin wa, isogashisa ni kamakete, konkūru no kekka o miru no o wasurete ite, shiyakusho kara hyoushoushiki no oshirase ga kuru made shiranakatta n desu. Ichiban ii shou o moraete, totemo ureshii desu.                                                                                                                                                                                                                                                                                              | \"しやくしょ\" (shiyakusho) means \"city hall\". \"しょうちょうしき\" (shouchoushiki) means \"award ceremony\".                                   |\n",
    "| 安藤    | そういえば、あきにしゃないのイメージキャラクターのデザインコンテストもあったけど、やまもとくんはおうぼしなかったの?                                                                                                                                                                                                                                                                                                                                                                                                                 | そういえば、秋に社内のイメージキャラクターのデザインコンテストもあったけど、山本くんは応募しなかったの?                                                                                                                                                                                                                                                                                                                                                       | By the way, there was also an in-house design contest for the company’s image character last autumn. Didn't you participate, Yamamoto-kun?                                                                                                                                                                                                                                                                                                                                                                   | Sou ieba, aki ni shanai no imēji kyarakutā no dezain kontesuto mo atta kedo, Yamamoto-kun wa oubo shinakatta no?                                                                                                                                                                                                                                                                                                                                                                                                                                                       | \"しゃない\" (shanai) means \"in-house\" (within the company).                                                                                |\n",
    "| 山本    | そのときはさんかしなかったです。じぶんはけっこうがんこなきらいがあるから、まんぞくできるさくひんができるまでは、はっぴょうしたくないんです。ちょうどあのときは、しごとであたらしいプロジェクトをひかえていろんなじゅんびをととのえるじきだから、しごとをそっちのけで、イラストをかくわけにもいかないしおうぼをみおくったんです。このさくひんもだいぶじかんがかかってしまって、しめきりぎりぎりでした。かいたあとに、パソコンでいろやあかるさのちょうせいをしたり、がめんをトリミングしたりして…。こだわるときりがないんですけどね。 | そのときは参加しなかったです。自分は結構頑固な嫌いがあるから、満足できる作品ができるまでは、発表したくないんです。ちょうどあの時期は、仕事で新しいプロジェクトを控えていろんな準備を整える時期だから、仕事をそっちのけで、イラストを描くわけにもいかないし応募を見送ったんです。この作品もだいぶ時間がかかってしまって、締切ギリギリでした。描いたあとに、パソコンで色や明るさの調整をしたり、画面をトリミングしたりして…。こだわるときりがないんですけどね。 | I didn't participate at that time. I'm rather stubborn, so I don't want to present my work until I'm satisfied with it. At that time, I was busy preparing for a new project at work, so I couldn’t afford to spend time drawing illustrations and decided not to enter. This piece also took a lot of time, and I finished it just before the deadline. After drawing it, I adjusted the colors and brightness on the computer, and cropped the image... It’s endless once I start focusing on the details. | Sono toki wa sanka shinakatta desu. Jibun wa kekkou ganko na kirai ga aru kara, manzoku dekiru sakuhin ga dekiru made wa, happyou shitakunai n desu. Choudo ano jiki wa, shigoto de atarashii purojekuto o hikaete ironna junbi o totonoeru jiki dakara, shigoto o socchinoke de, irasuto o kaku wake ni mo ikenai shi oubo o miokutta n desu. Kono sakuhin mo daibu jikan ga kakatte shimatte, shimekiri girigiri deshita. Kaita ato ni, pasokon de iro ya akarusa no chousei o shitari, gamen o torimingu shitari shite... Kodawaru toki kiri ga nai n desu kedo ne. | \"しめきりぎりぎり\" (shimekiri girigiri) means \"just before the deadline\". \"こだわる\" (kodawaru) means \"to be particular about something\". |\n",
    "| 安藤    | へえ...じかんがかかるんだ。                                                                                                                                                                                                                                                                                                                                                                                                                                                                                                         | へえ...時間がかかるんだ。                                                                                                                                                                                                                                                                                                                                                                                                                                     | Wow... it takes a lot of time.                                                                                                                                                                                                                                                                                                                                                                                                                                                                               | Hee... jikan ga kakaru nda.                                                                                                                                                                                                                                                                                                                                                                                                                                                                                                                                            | _じかんがかかる_ (jikan ga kakaru) means \"takes time\".                                                                                    |\n",
    "| 山本    | おうぼするちょくぜんになってどうしてもなっとくいかなくて、ゆきのなかモデルさんにたってもらってかきなおしたこともありました。モデルさんのきょうりょくなくしてこのさくひんはできませんでした。あんどうさんはえをかくのはすきですか。                                                                                                                                                                                                                                                                                                  | 応募する直前になってどうしても納得いかなくて、雪の中モデルさんに立ってもらって描き直したこともありました。モデルさんの協力なくしてこの作品はできませんでした。安藤さんは絵を描くのは好きですか。                                                                                                                                                                                                                                                              | Just before submitting, I couldn't be satisfied with it, so I had a model stand in the snow and redraw it. Without the model’s cooperation, I wouldn’t have been able to create this piece. Do you like drawing, Andou-san?                                                                                                                                                                                                                                                                                  | Ou bo suru chokuzai ni natte doushitemo nattoku ikanaku te, yuki no naka moderu-san ni tatte moratte kaki naoshita koto mo arimashita. Moderu-san no kyouryoku nakushite kono sakuhin wa dekimasen deshita. Andou-san wa e o kaku no wa suki desu ka.                                                                                                                                                                                                                                                                                                                  | \"モデルさん\" (moderu-san) refers to a model (person).                                                                                     |\n",
    "| 安藤    | みるのはだいすきだよ。でもイラストのさくせいソフトはおろか、パソコンにもともとはいってるソフトもうまくつかいこなせなくて。よかったら、こんどおしえてほしいな。                                                                                                                                                                                                                                                                                                                                                                      | 見るのは大好きだよ。でもイラストの作成ソフトはおろか、パソコンに元から入ってるソフトもうまく使いこなせなくて。よかったら、今度教えてほしいな。                                                                                                                                                                                                                                                                                                                | I love looking at illustrations, but I can't even use the software that comes pre-installed on the computer, let alone illustration creation software. If it's okay, could you teach me sometime?                                                                                                                                                                                                                                                                                                            | Miru no wa daisuki da yo. Demo irasuto no sakusei sofuto wa oroka, pasokon ni motokara haitteru sofuto mo umaku tsukaikonasenakute. Yokattara, kondo oshiete hoshii na.                                                                                                                                                                                                                                                                                                                                                                                                | \"さくせいソフト\" (sakusei sofuto) means \"creation software\".                                                                              |\n",
    "| 山本    | いいですよ。かこうのしようによっては、おなじイラストでもちがうふんいきがだせるのでおもしろいですよ。そうだ。しゅうまつにさくらがさきはじめるらしいから、こうえんにスケッチしにいきませんか。そのあとぼくのいえでイラストのさくせいソフトのつかいかたをおしえますよ。                                                                                                                                                                                                                                                                | いいですよ。加工のしようによっては、同じイラストでも違う雰囲気が出せるので面白いですよ。そうだ。週末に桜が咲き始めるらしいから、公園にスケッチしに行きませんか。そのあと僕の家でイラストの作成ソフトの使い方を教えますよ。                                                                                                                                                                                                                                    | Sure. Depending on how you process it, you can create a different atmosphere with the same illustration, which is really interesting. By the way, I heard the cherry blossoms will start blooming this weekend. Would you like to go sketching in the park? After that, I'll teach you how to use the illustration creation software at my place.                                                                                                                                                            | Ii desu yo. Kakou no shiyou ni yotte wa, onaji irasuto demo chigau fun'iki ga daseru node omoshiroi desu yo. Sou da. Shuumatsu ni sakura ga saki hajimeru rashii kara, kouen ni sukecchi shi ni ikimasen ka. Sono ato boku no ie de irasuto no sakusei sofuto no tsukaikata o oshiemasu yo.                                                                                                                                                                                                                                                                            | \"かこう\" (kakou) means \"processing\", \"ふんいき\" (fun'iki) means \"atmosphere\".                                                             |\n",
    "| 安藤    | ええ、おもしろそう! たのしみだなあ!                                                                                                                                                                                                                                                                                                                                                                                                                                                                                                 | ええ、面白そう! 楽しみだなあ!                                                                                                                                                                                                                                                                                                                                                                                                                                 | Sounds interesting! I’m looking forward to it!                                                                                                                                                                                                                                                                                                                                                                                                                                                               | Ee, omoshirosou! Tanoshimi da naa!                                                                                                                                                                                                                                                                                                                                                                                                                                                                                                                                     | Enthusiastic expression of excitement and anticipation.                                                                                   |\n"
   ]
  },
  {
   "cell_type": "markdown",
   "metadata": {},
   "source": [
    "こちらの会話の内容は、安藤さんと山本さんがイラストや創作活動について話しているものです。会話に登場する内容について説明し、表現を一部ピックアップしてみます。\n",
    "\n",
    "| **会話の内容**                                                                                                                                                                 | **英訳**                                                                                                                                                                                                                         | **注釈**                                                                                                                                           |\n",
    "| ------------------------------------------------------------------------------------------------------------------------------------------------------------------------------ | -------------------------------------------------------------------------------------------------------------------------------------------------------------------------------------------------------------------------------- | -------------------------------------------------------------------------------------------------------------------------------------------------- |\n",
    "| **安藤**: 山本くん、ふるさとイラストコンクールで最優秀賞に選ばれたんだって?おめでとう!                                                                                         | **Ando**: Yamamoto-kun, you won the Grand Prize in the Hometown Illustration Contest, right? Congratulations!                                                                                                                    | **最優秀賞** (saiyūshū-shō) means \"Grand Prize\" or \"Best Award\".                                                                                   |\n",
    "| **山本**: ありがとうございます。                                                                                                                                               | **Yamamoto**: Thank you very much.                                                                                                                                                                                               |                                                                                                                                                    |\n",
    "| **安藤**: どんなのを描いたの?見せて、見せて!                                                                                                                                   | **Ando**: What kind of illustration did you draw? Show me, show me!                                                                                                                                                              |                                                                                                                                                    |\n",
    "| **山本**: 県のホームページからも見られますよ、ちょっと待ってくださいね。                                                                                                       | **Yamamoto**: You can also see it on the prefecture’s homepage. Just wait a moment.                                                                                                                                              |                                                                                                                                                    |\n",
    "| **安藤**: わあ!真っ白な雪景色の中で、着物の女性がさしている赤い和傘のコントラストが綺麗。女性が空を見上げる表情もいいね。                                                      | **Ando**: Wow! The contrast of the red traditional umbrella held by the woman in the snow-covered landscape is beautiful. I also like the expression of the woman looking up at the sky.                                         | **和傘** (wagasa) means \"traditional Japanese umbrella\".                                                                                           |\n",
    "| **安藤**: 審査員の評価に「これが芸術でなくてなんだろう。白と赤のコントラストが実に見事である。」って、書いてある。審査員がこのイラストを見て、驚いたことは想像にかたくないね。 | **Ando**: The judges wrote in their evaluation, “If this isn’t art, what is? The contrast of white and red is truly magnificent.” I can’t imagine how surprised they must have been when they saw this illustration.             | **芸術** (geijutsu) means \"art\", and **想像にかたくない** (sōzō ni katakunai) means \"I can easily imagine\".                                        |\n",
    "| **山本**: ありがとうございます。そんなにほめられると恥ずかしいですね。                                                                                                         | **Yamamoto**: Thank you. It’s a little embarrassing to be praised that much.                                                                                                                                                     |                                                                                                                                                    |\n",
    "| **山本**: 最近は忙しさにかまけて、コンクールの結果を見るのを忘れていて、市役所から表彰式のお知らせが来るまで知らなかったんです。いちばんいい賞をもらえて、とてもうれしいです。 | **Yamamoto**: Recently, I’ve been so busy that I forgot to check the results of the contest. I didn’t know until I got a notification about the award ceremony from the city office. I’m really happy to have won the top award. | **市役所** (shiyakusho) means \"city office\", and **表彰式** (hyōshō-shiki) means \"award ceremony\".                                                 |\n",
    "| **安藤**: そういえば、秋に社内のイメージキャラクターのデザインコンテストもあったけど、山本くんは応募しなかったの?                                                              | **Ando**: By the way, there was also an in-house image character design contest last autumn. Didn’t you participate, Yamamoto-kun?                                                                                               | **社内** (shanai) means \"in-house\", referring to something within the company. **イメージキャラクター** (imēji kyarakutā) means \"image character\". |\n",
    "| **山本**: そのときは参加しなかったです。自分は結構頑固なきらいがあるから、満足できる作品ができるまでは発表したくないんです。                                                   | **Yamamoto**: I didn’t participate at that time. I tend to be quite stubborn, so I don’t want to present something until I’m satisfied with the work.                                                                            | **頑固な** (ganko na) means \"stubborn\", and **きらいがある** (kirai ga aru) implies \"tendency\" or \"a bit of a bad habit\".                          |\n",
    "| **山本**: ちょうどあの時期は、仕事で新しいプロジェクトを控えていろんな準備を整える時期だから、仕事をそっちのけで、イラストを描くわけにもいかないし応募を見送ったんです。       | **Yamamoto**: That period was just when I had to prepare for a new project at work, so I couldn’t neglect my work to draw illustrations, so I decided to skip the contest.                                                       | **控えて** (hikaete) means \"to be about to\" or \"to be preparing for\".                                                                              |\n",
    "| **山本**: この作品もだいぶ時間がかかってしまって、締切ギリギリでした。描いたあとに、パソコンで色や明るさの調整をしたり、画面をトリミングしたりして…。                          | **Yamamoto**: This work also took quite a long time, and I was almost past the deadline. After drawing it, I adjusted the colors and brightness on the computer and trimmed the screen…                                          | **締切** (shimekiri) means \"deadline\", and **トリミング** (tormingu) means \"trimming\" or \"cropping\".                                               |\n",
    "| **安藤**: へえ...時間がかかるんだ。                                                                                                                                            | **Ando**: I see... it takes a lot of time.                                                                                                                                                                                       |                                                                                                                                                    |\n",
    "| **山本**: 応募する直前になってどうしても納得いかなくて、雪の中モデルさんに立ってもらって描き直したこともありました。モデルさんの協力なくしてこの作品はできませんでした。       | **Yamamoto**: Just before submitting, I was so dissatisfied with it that I asked a model to stand in the snow so I could redraw it. This work couldn’t have been done without the model’s cooperation.                           | **納得いかなくて** (nattoku ikanakte) means \"not satisfied\" or \"couldn’t accept\". **協力** (kyōryoku) means \"cooperation\".                         |\n",
    "| **安藤**: 安藤さんは絵を描くのは好きですか。                                                                                                                                   | **Ando**: Do you like drawing, Ando-san?                                                                                                                                                                                         |                                                                                                                                                    |\n",
    "| **安藤**: 見るのは大好きだよ。でもイラストの作成ソフトはおろか、パソコンに元から入ってるソフトもうまく使いこなせなくて。                                                       | **Ando**: I love looking at them. But I’m not good at using illustration software, let alone the software that comes preinstalled on my computer.                                                                                | **おろか** (oroka) means \"let alone\" or \"much less\".                                                                                               |\n",
    "| **安藤**: よかったら、今度教えてほしいな。                                                                                                                                     | **Ando**: If you don’t mind, I’d love for you to teach me sometime.                                                                                                                                                              |                                                                                                                                                    |\n",
    "| **山本**: いいですよ。加工のしようによっては、同じイラストでも違う雰囲気が出せるので面白いですよ。                                                                             | **Yamamoto**: Sure. Depending on how you process it, you can create a different atmosphere with the same illustration, so it’s really interesting.                                                                               | **加工** (kakō) means \"editing\" or \"processing\".                                                                                                   |\n",
    "| **山本**: そうだ。週末に桜が咲き始めるらしいから、公園にスケッチしに行きませんか。そのあと僕の家でイラストの作成ソフトの使い方を教えますよ。                                   | **Yamamoto**: Oh, by the way, I heard that the cherry blossoms will start blooming this weekend. Would you like to go sketch in the park? After that, I’ll teach you how to use the illustration software at my place.           | **スケッチ** (suketchi) means \"sketch\". **桜** (sakura) means \"cherry blossoms\".                                                                   |\n",
    "| **安藤**: ええ、面白そう!楽しみだなあ!                                                                                                                                         | **Ando**: That sounds fun! I’m looking forward to it!                                                                                                                                                                            |                                                                                                                                                    |\n",
    "\n",
    "### 解説：\n",
    "\n",
    "- **コンクール** (contest) や\n",
    "\n",
    "  **評価** (evaluation)、**納得いかない** (dissatisfied) など、作品に関する話題が多いです。山本さんが絵を描く過程やこだわりについて語り、安藤さんがそれに興味を持って質問しています。\n",
    "\n",
    "- 山本さんが絵に対して非常に真剣に取り組んでいることがよく伝わっており、特に自分の納得できる作品ができるまで公開しないという点で、プロ意識が感じられます。\n"
   ]
  },
  {
   "cell_type": "markdown",
   "metadata": {},
   "source": [
    "---"
   ]
  },
  {
   "cell_type": "markdown",
   "metadata": {},
   "source": [
    "# Grammar 1\n"
   ]
  },
  {
   "cell_type": "markdown",
   "metadata": {},
   "source": []
  },
  {
   "cell_type": "markdown",
   "metadata": {},
   "source": []
  },
  {
   "cell_type": "markdown",
   "metadata": {},
   "source": []
  },
  {
   "cell_type": "markdown",
   "metadata": {},
   "source": [
    "---\n",
    "---"
   ]
  },
  {
   "cell_type": "markdown",
   "metadata": {},
   "source": [
    "# Grammar 2\n"
   ]
  },
  {
   "cell_type": "markdown",
   "metadata": {},
   "source": []
  },
  {
   "cell_type": "markdown",
   "metadata": {},
   "source": []
  },
  {
   "cell_type": "markdown",
   "metadata": {},
   "source": []
  },
  {
   "cell_type": "markdown",
   "metadata": {},
   "source": [
    "---\n",
    "---"
   ]
  },
  {
   "cell_type": "markdown",
   "metadata": {},
   "source": [
    "# Grammar 3\n"
   ]
  },
  {
   "cell_type": "markdown",
   "metadata": {},
   "source": []
  },
  {
   "cell_type": "markdown",
   "metadata": {},
   "source": []
  },
  {
   "cell_type": "markdown",
   "metadata": {},
   "source": []
  },
  {
   "cell_type": "markdown",
   "metadata": {},
   "source": [
    "---\n",
    "---"
   ]
  },
  {
   "cell_type": "markdown",
   "metadata": {},
   "source": [
    "# Grammar 4\n"
   ]
  },
  {
   "cell_type": "markdown",
   "metadata": {},
   "source": []
  },
  {
   "cell_type": "markdown",
   "metadata": {},
   "source": []
  },
  {
   "cell_type": "markdown",
   "metadata": {},
   "source": []
  },
  {
   "cell_type": "markdown",
   "metadata": {},
   "source": [
    "---\n",
    "---"
   ]
  },
  {
   "cell_type": "markdown",
   "metadata": {},
   "source": [
    "# Grammar 5\n"
   ]
  },
  {
   "cell_type": "markdown",
   "metadata": {},
   "source": []
  },
  {
   "cell_type": "markdown",
   "metadata": {},
   "source": []
  },
  {
   "cell_type": "markdown",
   "metadata": {},
   "source": []
  },
  {
   "cell_type": "markdown",
   "metadata": {},
   "source": [
    "---\n",
    "---"
   ]
  },
  {
   "cell_type": "markdown",
   "metadata": {},
   "source": [
    "# Grammar 6\n"
   ]
  },
  {
   "cell_type": "markdown",
   "metadata": {},
   "source": []
  },
  {
   "cell_type": "markdown",
   "metadata": {},
   "source": []
  },
  {
   "cell_type": "markdown",
   "metadata": {},
   "source": []
  },
  {
   "cell_type": "markdown",
   "metadata": {},
   "source": [
    "---\n",
    "---"
   ]
  },
  {
   "cell_type": "markdown",
   "metadata": {},
   "source": [
    "# Grammar 7\n"
   ]
  },
  {
   "cell_type": "markdown",
   "metadata": {},
   "source": []
  },
  {
   "cell_type": "markdown",
   "metadata": {},
   "source": []
  },
  {
   "cell_type": "markdown",
   "metadata": {},
   "source": []
  },
  {
   "cell_type": "markdown",
   "metadata": {},
   "source": [
    "---\n",
    "---"
   ]
  },
  {
   "cell_type": "markdown",
   "metadata": {},
   "source": [
    "# Grammar 8\n"
   ]
  },
  {
   "cell_type": "markdown",
   "metadata": {},
   "source": []
  },
  {
   "cell_type": "markdown",
   "metadata": {},
   "source": []
  },
  {
   "cell_type": "markdown",
   "metadata": {},
   "source": []
  },
  {
   "cell_type": "markdown",
   "metadata": {},
   "source": [
    "---\n",
    "---"
   ]
  },
  {
   "cell_type": "markdown",
   "metadata": {},
   "source": [
    "# Grammar 9\n"
   ]
  },
  {
   "cell_type": "markdown",
   "metadata": {},
   "source": []
  },
  {
   "cell_type": "markdown",
   "metadata": {},
   "source": []
  },
  {
   "cell_type": "markdown",
   "metadata": {},
   "source": []
  },
  {
   "cell_type": "markdown",
   "metadata": {},
   "source": [
    "---\n",
    "---"
   ]
  },
  {
   "cell_type": "markdown",
   "metadata": {},
   "source": [
    "# Grammar 10\n"
   ]
  },
  {
   "cell_type": "markdown",
   "metadata": {},
   "source": []
  },
  {
   "cell_type": "markdown",
   "metadata": {},
   "source": []
  },
  {
   "cell_type": "markdown",
   "metadata": {},
   "source": []
  },
  {
   "cell_type": "markdown",
   "metadata": {},
   "source": [
    "---\n",
    "---"
   ]
  },
  {
   "cell_type": "markdown",
   "metadata": {},
   "source": [
    "# Grammar 11\n"
   ]
  },
  {
   "cell_type": "markdown",
   "metadata": {},
   "source": []
  },
  {
   "cell_type": "markdown",
   "metadata": {},
   "source": []
  },
  {
   "cell_type": "markdown",
   "metadata": {},
   "source": []
  },
  {
   "cell_type": "markdown",
   "metadata": {},
   "source": [
    "---\n",
    "---"
   ]
  },
  {
   "cell_type": "markdown",
   "metadata": {},
   "source": [
    "# Grammar 12\n"
   ]
  },
  {
   "cell_type": "markdown",
   "metadata": {},
   "source": []
  },
  {
   "cell_type": "markdown",
   "metadata": {},
   "source": []
  },
  {
   "cell_type": "markdown",
   "metadata": {},
   "source": []
  },
  {
   "cell_type": "markdown",
   "metadata": {},
   "source": [
    "---\n",
    "---"
   ]
  }
 ],
 "metadata": {
  "language_info": {
   "name": "python"
  }
 },
 "nbformat": 4,
 "nbformat_minor": 2
}
