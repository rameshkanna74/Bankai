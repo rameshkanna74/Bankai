{
 "cells": [
  {
   "cell_type": "markdown",
   "metadata": {},
   "source": [
    "# Vocabulary"
   ]
  },
  {
   "cell_type": "markdown",
   "metadata": {},
   "source": [
    "    1.くつ 靴 n. shoes\n",
    "    2.くつした 靴下 n. socks\n",
    "    3.ハンカチ n. handkerchief\n",
    "    4.ぼうし 帽子 n. hat/cap\n",
    "    5.うわぎ 上着 n. jacket\n",
    "    6.コート n. coat\n",
    "    7.ズボン n. pants\n",
    "    8.くつや 靴屋 n. shoe store\n",
    "    9.ぱんや パン屋 n. bakery\n",
    "    10.パン n. bread\n",
    "    11.さかなや 魚屋 n. fish market\n",
    "    12.おもう 思う G1 to think\n",
    "    13.いう 言う G1 to say\n",
    "    14.サイズ n. size\n",
    "    15.メートル n. meters\n",
    "    16.センチ n. centimeters\n",
    "    17.はく 履く G1 to wear (clothing below the waist)\n",
    "    18.きる 着る G2 to wear (clothing above the waist)\n",
    "    19.かぶる 被る G1 put on (one's hat)\n",
    "    20.ぬぐ 脱ぐ G1 take off (clothing)\n",
    "    21.ひく 弾く G1 to play (a musical instrument)\n",
    "    22.ギター n. guitar\n",
    "    23.ピアノ n. piano\n",
    "    24.コンサート n. concert\n",
    "    25.ちょうど adv. just\n"
   ]
  },
  {
   "cell_type": "markdown",
   "metadata": {},
   "source": [
    "    26.もちろん adv. sure/of course\n",
    "    27.いくら interr. how much\n",
    "    28.ドル n. dollars\n",
    "    29.より particle than\n",
    "    30.いちばん 一番 n./adv. best/most\n",
    "    31.ほしい 欲しい n. to want\n",
    "    32.おきなわ 沖縄 n. Okinawa (Japan's farthest southern island)\n",
    "    33.ほっかいどう 北海道 n. Hokkaido (Japan's farthest northern island)\n",
    "    34.ヨーロッパ n. Europe\n",
    "    35.アジア n. Asia\n",
    "    36.イタリア n. Italy\n",
    "    37.タイ n. Thailand\n",
    "    38.マレーシア n. Malaysia\n",
    "    39.インドネシア n. Indonesia\n",
    "    40.どう interr. how/what\n",
    "    41.ぎゅうにゅう 牛乳 n. milk\n",
    "    42.こども 子供 n. child\n",
    "    43.ほう 方 n. side/way\n",
    "    44.ピンク n. pink\n",
    "    45.ビール n. beer\n"
   ]
  },
  {
   "cell_type": "markdown",
   "metadata": {},
   "source": [
    "Sure! Here’s the formatted table for the vocabulary you provided:\n",
    "\n",
    "---\n",
    "\n",
    "| No. | Japanese (Kanji) | Hiragana   | Romaji     | English Translation                | Part of Speech | Example Sentence (Japanese) | Example Sentence (English)          | Example Sentence (Romaji)     | Notes                             |\n",
    "| --- | ---------------- | ---------- | ---------- | ---------------------------------- | -------------- | --------------------------- | ----------------------------------- | ----------------------------- | --------------------------------- |\n",
    "| 1   | 靴               | くつ       | kutsu      | shoes                              | n.             | 靴を買います。              | I will buy shoes.                   | Kutsu o kaimasu.              | Common term for footwear          |\n",
    "| 2   | 靴下             | くつした   | kutsushita | socks                              | n.             | 靴下が脱げました。          | My socks came off.                  | Kutsushita ga nugemashita.    | Worn on feet                      |\n",
    "| 3   | ハンカチ         | ハンカチ   | hankachi   | handkerchief                       | n.             | ハンカチを持っています。    | I have a handkerchief.              | Hankachi o motteimasu.        | Used for wiping hands or face     |\n",
    "| 4   | 帽子             | ぼうし     | bōshi      | hat/cap                            | n.             | 帽子をかぶります。          | I will wear a hat.                  | Bōshi o kaburimasu.           | Common headwear                   |\n",
    "| 5   | 上着             | うわぎ     | uwagi      | jacket                             | n.             | 上着を着ています。          | I am wearing a jacket.              | Uwagi o kiteimasu.            | Upper body clothing               |\n",
    "| 6   | コート           | コート     | kōto       | coat                               | n.             | コートを着ています。        | I am wearing a coat.                | Kōto o kiteimasu.             | Outerwear for cold weather        |\n",
    "| 7   | ズボン           | ズボン     | zubon      | pants                              | n.             | ズボンを履いています。      | I am wearing pants.                 | Zubon o haiteimasu.           | Common lower body clothing        |\n",
    "| 8   | 靴屋             | くつや     | kutsuya    | shoe store                         | n.             | 靴屋に行きます。            | I will go to the shoe store.        | Kutsuya ni ikimasu.           | Place to buy shoes                |\n",
    "| 9   | パン屋           | ぱんや     | pan'ya     | bakery                             | n.             | パン屋でパンを買います。    | I will buy bread at the bakery.     | Panya de pan o kaimasu.       | Place to buy bread                |\n",
    "| 10  | パン             | パン       | pan        | bread                              | n.             | パンを食べます。            | I will eat bread.                   | Pan o tabemasu.               | Staple food item                  |\n",
    "| 11  | 魚屋             | さかなや   | sakanaya   | fish market                        | n.             | 魚屋で魚を買います。        | I will buy fish at the fish market. | Sakanaya de sakana o kaimasu. | Place to buy fish                 |\n",
    "| 12  | 思う             | おもう     | omou       | to think                           | G1             | そう思います。              | I think so.                         | Sō omoimasu.                  | Common verb for thinking          |\n",
    "| 13  | 言う             | いう       | iu         | to say                             | G1             | 彼はそう言いました。        | He said so.                         | Kare wa sō iimashita.         | Common verb for speaking          |\n",
    "| 14  | サイズ           | サイズ     | saizu      | size                               | n.             | このサイズは大きいです。    | This size is large.                 | Kono saizu wa ōkii desu.      | Used to describe dimensions       |\n",
    "| 15  | メートル         | メートル   | mētoru     | meters                             | n.             | それは五メートルです。      | That is five meters.                | Sore wa go mētoru desu.       | Metric unit of length             |\n",
    "| 16  | センチ           | センチ     | senchi     | centimeters                        | n.             | これは二十センチです。      | This is twenty centimeters.         | Kore wa nijū senchi desu.     | Metric unit of length             |\n",
    "| 17  | 履く             | はく       | haku       | to wear (clothing below the waist) | G1             | 靴を履いています。          | I am wearing shoes.                 | Kutsu o haiteimasu.           | Refers to lower body clothing     |\n",
    "| 18  | 着る             | きる       | kiru       | to wear (clothing above the waist) | G2             | シャツを着ています。        | I am wearing a shirt.               | Shatsu o kiteimasu.           | Refers to upper body clothing     |\n",
    "| 19  | 被る             | かぶる     | kaburu     | to put on (one's hat)              | G1             | 帽子を被っています。        | I am wearing a hat.                 | Bōshi o kabutteimasu.         | Refers specifically to hats       |\n",
    "| 20  | 脱ぐ             | ぬぐ       | nugu       | to take off (clothing)             | G1             | 上着を脱ぎます。            | I will take off my jacket.          | Uwagi o nugimasu.             | Common verb for removing clothing |\n",
    "| 21  | 弾く             | ひく       | hiku       | to play (a musical instrument)     | G1             | ギターを弾きます。          | I will play the guitar.             | Gitā o hikimasu.              | Refers to playing instruments     |\n",
    "| 22  | ギター           | ギター     | gitā       | guitar                             | n.             | ギターを弾いています。      | I am playing the guitar.            | Gitā o hiiteimasu.            | Popular string instrument         |\n",
    "| 23  | ピアノ           | ピアノ     | piano      | piano                              | n.             | ピアノを弾きます。          | I will play the piano.              | Piano o hikimasu.             | Popular keyboard instrument       |\n",
    "| 24  | コンサート       | コンサート | konsāto    | concert                            | n.             | コンサートに行きます。      | I will go to the concert.           | Konsāto ni ikimasu.           | Live musical performance          |\n",
    "| 25  | ちょうど         | ちょうど   | chōdo      | just                               | adv.           | ちょうどいいサイズです。    | It is just the right size.          | Chōdo ii saizu desu.          | Used to indicate precision        |\n",
    "\n",
    "---\n",
    "\n",
    "Let me know if you need any further adjustments or additional information!\n"
   ]
  },
  {
   "cell_type": "markdown",
   "metadata": {},
   "source": [
    "Sure! Here’s the formatted table for the additional vocabulary you provided:\n",
    "\n",
    "---\n",
    "\n",
    "| No. | Japanese (Kanji) | Hiragana     | Romaji     | English Translation                         | Part of Speech | Example Sentence (Japanese)          | Example Sentence (English)       | Example Sentence (Romaji)                 | Notes                           |\n",
    "| --- | ---------------- | ------------ | ---------- | ------------------------------------------- | -------------- | ------------------------------------ | -------------------------------- | ----------------------------------------- | ------------------------------- |\n",
    "| 26  | もちろん         | もちろん     | mochiron   | sure/of course                              | adv.           | もちろん行きます。                   | I will go, of course.            | Mochiron ikimasu.                         | Used to affirm something        |\n",
    "| 27  | いくら           | いくら       | ikura      | how much                                    | interr.        | これはいくらですか？                 | How much is this?                | Kore wa ikura desu ka?                    | Used to ask for prices          |\n",
    "| 28  | ドル             | ドル         | doru       | dollars                                     | n.             | 一ドルは約 100 円です。              | One dollar is about 100 yen.     | Ichi doru wa yaku 100 en desu.            | Currency used in the US         |\n",
    "| 29  | より             | より         | yori       | than                                        | particle       | 彼は私より背が高いです。             | He is taller than me.            | Kare wa watashi yori se ga takai desu.    | Used for comparisons            |\n",
    "| 30  | 一番             | 一番         | ichiban    | best/most                                   | n./adv.        | 彼は一番好きな歌手です。             | He is my favorite singer.        | Kare wa ichiban sukina kashu desu.        | Indicates the highest degree    |\n",
    "| 31  | 欲しい           | ほしい       | hoshii     | to want                                     | n.             | 新しい靴が欲しいです。               | I want new shoes.                | Atarashii kutsu ga hoshii desu.           | Expresses desire                |\n",
    "| 32  | 沖縄             | おきなわ     | Okinawa    | Okinawa (Japan's farthest southern island)  | n.             | 沖縄に行ったことがあります。         | I have been to Okinawa.          | Okinawa ni itta koto ga arimasu.          | Popular vacation destination    |\n",
    "| 33  | 北海道           | ほっかいどう | Hokkaidō   | Hokkaido (Japan's farthest northern island) | n.             | 北海道は美しい場所です。             | Hokkaido is a beautiful place.   | Hokkaidō wa utsukushii basho desu.        | Known for its nature            |\n",
    "| 34  | ヨーロッパ       | ヨーロッパ   | Yōroppa    | Europe                                      | n.             | ヨーロッパに行きたいです。           | I want to go to Europe.          | Yōroppa ni ikitai desu.                   | Continent with many countries   |\n",
    "| 35  | アジア           | アジア       | Ajia       | Asia                                        | n.             | アジアは多様な文化があります。       | Asia has diverse cultures.       | Ajia wa tayōna bunka ga arimasu.          | Largest continent by population |\n",
    "| 36  | イタリア         | イタリア     | Itaria     | Italy                                       | n.             | イタリアの料理が好きです。           | I like Italian cuisine.          | Itaria no ryōri ga suki desu.             | Known for its cuisine           |\n",
    "| 37  | タイ             | タイ         | Tai        | Thailand                                    | n.             | タイは観光地がたくさんあります。     | Thailand has many tourist spots. | Tai wa kankōchi ga takusan arimasu.       | Popular travel destination      |\n",
    "| 38  | マレーシア       | マレーシア   | Marēshia   | Malaysia                                    | n.             | マレーシアは美しいビーチがあります。 | Malaysia has beautiful beaches.  | Marēshia wa utsukushii bīchi ga arimasu.  | Known for its diversity         |\n",
    "| 39  | インドネシア     | インドネシア | Indoneshia | Indonesia                                   | n.             | インドネシアには多くの島があります。 | Indonesia has many islands.      | Indoneshia ni wa ōku no shima ga arimasu. | Known for its islands           |\n",
    "| 40  | どう             | どう         | dō         | how/what                                    | interr.        | どうしたのですか？                   | What happened?                   | Dō shita no desu ka?                      | Used to inquire about manner    |\n",
    "| 41  | 牛乳             | ぎゅうにゅう | gyūnyū     | milk                                        | n.             | 牛乳が好きです。                     | I like milk.                     | Gyūnyū ga suki desu.                      | Common beverage                 |\n",
    "| 42  | 子供             | こども       | kodomo     | child                                       | n.             | 子供たちが遊んでいます。             | The children are playing.        | Kodomotachi ga asondeimasu.               | Refers to young people          |\n",
    "| 43  | 方               | ほう         | hō         | side/way                                    | n.             | 右の方に行ってください。             | Please go to the right side.     | Migi no hō ni itte kudasai.               | Used to indicate direction      |\n",
    "| 44  | ピンク           | ピンク       | pink       | pink                                        | n.             | ピンクの花が好きです。               | I like pink flowers.             | Pinku no hana ga suki desu.               | Common color                    |\n",
    "| 45  | ビール           | ビール       | bīru       | beer                                        | n.             | ビールを飲みます。                   | I will drink beer.               | Bīru o nomimasu.                          | Popular alcoholic beverage      |\n",
    "\n",
    "---\n",
    "\n",
    "If you need any more help or additional vocabulary, feel free to ask!\n"
   ]
  },
  {
   "cell_type": "markdown",
   "metadata": {},
   "source": []
  },
  {
   "cell_type": "markdown",
   "metadata": {},
   "source": []
  },
  {
   "cell_type": "markdown",
   "metadata": {},
   "source": [
    "---"
   ]
  },
  {
   "cell_type": "markdown",
   "metadata": {},
   "source": [
    "# Conversation"
   ]
  },
  {
   "cell_type": "markdown",
   "metadata": {},
   "source": [
    "ワン:お待たせしました。 どの 店 に 行きますか。\n",
    "\n",
    "安 藤 :わたしは 新 しい 靴 を 買いたいです。 靴屋さんに 行きましょう。\n",
    "\n",
    "ワン:いいですね。 わたしも 新 しい 靴 が ほしいです。\n",
    "\n",
    "店 員 :いらっしゃいませ。\n",
    "\n",
    "安 藤 :この 白 い靴 と 黒 い靴 と どちらが いいと 思 いますか。\n",
    "\n",
    "ワン: 黒 い 靴 の ほうが いいと 思 います。 安 藤 さんは 白 いの と黒 いのと どちらが 好きですか。\n",
    "\n",
    "安 藤 : 私 も 黒 いのが 好きです。 すみません。\n",
    "\n",
    "店 員 :はい。\n",
    "\n",
    "安 藤 :この 靴 、24 センチありますか。\n",
    "\n",
    "店 員 :こちらは 24 センチです。\n",
    "\n",
    "安 藤 :履いてもいいですか。\n",
    "\n",
    "店 員 :はい、もちろんです。どうぞ。\n",
    "\n",
    "店 員 :いかがですか。\n",
    "\n",
    "安 藤 :ちょうどいいと 思 います。 この 靴 は いくらですか。\n",
    "\n",
    "店 員 :こちらの お靴 は 5800 円 です。\n",
    "\n",
    "安 藤 :あの青 い靴 はいくらですか。\n",
    "\n",
    "店 員 :青 い靴 は 黒 い 靴 より ちょっと 安 いです。 5500 円 です。\n",
    "\n",
    "安 藤 :ワンさん、どう 思 いますか。\n",
    "\n",
    "ワン:うん、黒 い 靴 は ちょっと 高 いですが、 青 い 靴 より きれいだと\n",
    "\n",
    "思 います。\n",
    "\n",
    "安 藤 :じゃ、 黒 い 靴 を 買います。 これをください。\n",
    "\n",
    "店 員 :かしこまりました。ありがとうございます。\n"
   ]
  },
  {
   "cell_type": "markdown",
   "metadata": {},
   "source": [
    "Here's the formatted table for your conversation:\n",
    "\n",
    "| Speaker | Japanese (Hiragana)                                                                         | Japanese (Kanji)                                                             | English Translation                                                                          | Romaji                                                                                               | Notes                                                |\n",
    "| ------- | ------------------------------------------------------------------------------------------- | ---------------------------------------------------------------------------- | -------------------------------------------------------------------------------------------- | ---------------------------------------------------------------------------------------------------- | ---------------------------------------------------- |\n",
    "| ワン    | お待たせしました。どの 店 に 行きますか。                                                   | お待たせしました。どの店に行きますか。                                       | Thank you for waiting. Which store shall we go to?                                           | Omatase shimashita. Dono mise ni ikimasu ka?                                                         | Opening the conversation.                            |\n",
    "| 安藤    | わたしは 新 しい 靴 を 買いたいです。靴屋さんに 行きましょう。                              | 私は新しい靴を買いたいです。靴屋さんに行きましょう。                         | I want to buy new shoes. Let’s go to the shoe store.                                         | Watashi wa atarashii kutsu wo kaitai desu. Kutsu-ya san ni ikimashou.                                | Expressing intent to shop for shoes.                 |\n",
    "| ワン    | いいですね。わたしも 新 しい 靴 が ほしいです。                                             | いいですね。私も新しい靴がほしいです。                                       | Sounds good. I also want new shoes.                                                          | Ii desu ne. Watashi mo atarashii kutsu ga hoshii desu.                                               | Agreeing with the plan.                              |\n",
    "| 店 員   | いらっしゃいませ。                                                                          | いらっしゃいませ。                                                           | Welcome!                                                                                     | Irasshaimase.                                                                                        | Greeting customers.                                  |\n",
    "| 安藤    | この 白 い靴 と 黒 い靴 と どちらが いいと 思 いますか。                                    | この白い靴と黒い靴とどちらがいいと思いますか。                               | Which do you think is better, these white shoes or these black ones?                         | Kono shiroi kutsu to kurai kutsu to dochira ga ii to omoimasu ka?                                    | Asking for an opinion on the shoes.                  |\n",
    "| ワン    | 黒 い 靴 の ほうが いいと 思 います。安 藤 さんは 白 いの と黒 いのと どちらが 好きですか。 | 黒い靴のほうがいいと思います。安藤さんは白いのと黒いのとどちらが好きですか。 | I think the black shoes are better. Which do you like, the white ones or the black ones?     | Kurai kutsu no hou ga ii to omoimasu. Andou-san wa shiroi no to kurai no to dochira ga suki desu ka? | Sharing an opinion and asking for preference.        |\n",
    "| 安藤    | 私 も 黒 いのが 好きです。すみません。                                                      | 私も黒いのが好きです。すみません。                                           | I also like the black ones. Excuse me.                                                       | Watashi mo kurai no ga suki desu. Sumimasen.                                                         | Agreeing and politely getting the staff's attention. |\n",
    "| 店 員   | はい。                                                                                      | はい。                                                                       | Yes.                                                                                         | Hai.                                                                                                 | Responding to the customer.                          |\n",
    "| 安藤    | この 靴 、24 センチありますか。                                                             | この靴、24 センチありますか。                                                | Do you have these shoes in 24 centimeters?                                                   | Kono kutsu, 24 senchi arimasu ka?                                                                    | Inquiring about shoe size availability.              |\n",
    "| 店 員   | こちらは 24 センチです。                                                                    | こちらは 24 センチです。                                                     | Here is 24 centimeters.                                                                      | Kochira wa 24 senchi desu.                                                                           | Confirming size availability.                        |\n",
    "| 安藤    | 履いてもいいですか。                                                                        | 履いてもいいですか。                                                         | May I try them on?                                                                           | Haitemo ii desu ka?                                                                                  | Asking for permission to try on the shoes.           |\n",
    "| 店 員   | はい、もちろんです。どうぞ。                                                                | はい、もちろんです。どうぞ。                                                 | Yes, of course. Please go ahead.                                                             | Hai, mochiron desu. Douzo.                                                                           | Encouraging the customer to try on the shoes.        |\n",
    "| 店 員   | いかがですか。                                                                              | いかがですか。                                                               | How do they fit?                                                                             | Ikagadesu ka?                                                                                        | Asking for feedback on the fit.                      |\n",
    "| 安藤    | ちょうどいいと 思 います。この 靴 は いくらですか。                                         | ちょうどいいと思います。この靴はいくらですか。                               | I think they fit just right. How much are these shoes?                                       | Choudo ii to omoimasu. Kono kutsu wa ikura desu ka?                                                  | Giving feedback and asking for the price.            |\n",
    "| 店 員   | こちらの お靴 は 5800 円 です。                                                             | こちらのお靴は 5800 円です。                                                 | These shoes are 5,800 yen.                                                                   | Kochira no okutsu wa 5800 en desu.                                                                   | Stating the price of the shoes.                      |\n",
    "| 安藤    | あの青 い靴 はいくらですか。                                                                | あの青い靴はいくらですか。                                                   | How much are those blue shoes?                                                               | Ano aoi kutsu wa ikura desu ka?                                                                      | Inquiring about another pair of shoes.               |\n",
    "| 店 員   | 青 い靴 は 黒 い 靴 より ちょっと 安 いです。5500 円 です。                                 | 青い靴は黒い靴よりちょっと安いです。5500 円です。                            | The blue shoes are a little cheaper than the black ones. They are 5,500 yen.                 | Aoi kutsu wa kurai kutsu yori chotto yasui desu. 5500 en desu.                                       | Comparing prices between the shoes.                  |\n",
    "| 安藤    | ワンさん、どう 思 いますか。                                                                | ワンさん、どう思いますか。                                                   | What do you think, Wan-san?                                                                  | Wan-san, dou omoimasu ka?                                                                            | Asking for Wan's opinion on the blue shoes.          |\n",
    "| ワン    | うん、黒 い 靴 は ちょっと 高 いですが、青 い 靴 より きれいだと 思 います。                | うん、黒い靴はちょっと高いですが、青い靴よりきれいだと思います。             | Well, the black shoes are a bit expensive, but I think they are prettier than the blue ones. | Un, kurai kutsu wa chotto takai desu ga, aoi kutsu yori kirei da to omoimasu.                        | Sharing thoughts on the shoes' appearance and price. |\n",
    "| 安藤    | じゃ、黒い靴を買います。これをください。                                                    | じゃ、黒い靴を買います。これをください。                                     | Then I'll buy the black shoes. Please give me these.                                         | Jaa, kurai kutsu wo kaimasu. Kore wo kudasai.                                                        | Making the purchase decision.                        |\n",
    "| 店 員   | かしこまりました。ありがとうございます。                                                    | かしこまりました。ありがとうございます。                                     | Certainly. Thank you very much.                                                              | Kashikomarimashita. Arigatou gozaimasu.                                                              | Confirming the order and expressing gratitude.       |\n",
    "\n",
    "Let me know if you need any adjustments or further help!\n"
   ]
  },
  {
   "cell_type": "markdown",
   "metadata": {},
   "source": [
    "---"
   ]
  },
  {
   "cell_type": "markdown",
   "metadata": {},
   "source": [
    "# Grammar 1\n"
   ]
  },
  {
   "cell_type": "markdown",
   "metadata": {},
   "source": []
  },
  {
   "cell_type": "markdown",
   "metadata": {},
   "source": []
  },
  {
   "cell_type": "markdown",
   "metadata": {},
   "source": [
    "---\n",
    "---"
   ]
  },
  {
   "cell_type": "markdown",
   "metadata": {},
   "source": [
    "# Grammar 2\n"
   ]
  },
  {
   "cell_type": "markdown",
   "metadata": {},
   "source": []
  },
  {
   "cell_type": "markdown",
   "metadata": {},
   "source": []
  },
  {
   "cell_type": "markdown",
   "metadata": {},
   "source": [
    "---\n",
    "---"
   ]
  },
  {
   "cell_type": "markdown",
   "metadata": {},
   "source": [
    "# Grammar 3\n"
   ]
  },
  {
   "cell_type": "markdown",
   "metadata": {},
   "source": []
  },
  {
   "cell_type": "markdown",
   "metadata": {},
   "source": []
  },
  {
   "cell_type": "markdown",
   "metadata": {},
   "source": [
    "---\n",
    "---"
   ]
  },
  {
   "cell_type": "markdown",
   "metadata": {},
   "source": [
    "# Grammar 4\n"
   ]
  },
  {
   "cell_type": "markdown",
   "metadata": {},
   "source": []
  },
  {
   "cell_type": "markdown",
   "metadata": {},
   "source": []
  },
  {
   "cell_type": "markdown",
   "metadata": {},
   "source": [
    "---\n",
    "---"
   ]
  },
  {
   "cell_type": "markdown",
   "metadata": {},
   "source": [
    "# Grammar 5\n"
   ]
  },
  {
   "cell_type": "markdown",
   "metadata": {},
   "source": []
  },
  {
   "cell_type": "markdown",
   "metadata": {},
   "source": []
  },
  {
   "cell_type": "markdown",
   "metadata": {},
   "source": [
    "---\n",
    "---"
   ]
  },
  {
   "cell_type": "markdown",
   "metadata": {},
   "source": [
    "# Grammar 6\n"
   ]
  },
  {
   "cell_type": "markdown",
   "metadata": {},
   "source": []
  },
  {
   "cell_type": "markdown",
   "metadata": {},
   "source": []
  },
  {
   "cell_type": "markdown",
   "metadata": {},
   "source": [
    "---\n",
    "---"
   ]
  },
  {
   "cell_type": "markdown",
   "metadata": {},
   "source": [
    "# Grammar 7\n"
   ]
  },
  {
   "cell_type": "markdown",
   "metadata": {},
   "source": []
  },
  {
   "cell_type": "markdown",
   "metadata": {},
   "source": []
  },
  {
   "cell_type": "markdown",
   "metadata": {},
   "source": [
    "---\n",
    "---"
   ]
  },
  {
   "cell_type": "markdown",
   "metadata": {},
   "source": [
    "# Grammar 8\n"
   ]
  },
  {
   "cell_type": "markdown",
   "metadata": {},
   "source": []
  },
  {
   "cell_type": "markdown",
   "metadata": {},
   "source": []
  },
  {
   "cell_type": "markdown",
   "metadata": {},
   "source": [
    "---\n",
    "---"
   ]
  },
  {
   "cell_type": "markdown",
   "metadata": {},
   "source": [
    "# Grammar 9\n"
   ]
  },
  {
   "cell_type": "markdown",
   "metadata": {},
   "source": []
  },
  {
   "cell_type": "markdown",
   "metadata": {},
   "source": []
  },
  {
   "cell_type": "markdown",
   "metadata": {},
   "source": [
    "---\n",
    "---"
   ]
  }
 ],
 "metadata": {
  "language_info": {
   "name": "python"
  }
 },
 "nbformat": 4,
 "nbformat_minor": 2
}
