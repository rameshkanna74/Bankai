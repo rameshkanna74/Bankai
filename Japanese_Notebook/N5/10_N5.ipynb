{
 "cells": [
  {
   "cell_type": "markdown",
   "metadata": {},
   "source": [
    "# Vocabulary"
   ]
  },
  {
   "cell_type": "markdown",
   "metadata": {},
   "source": [
    "    1.まんが 漫画 n. comic book\n",
    "    2.アニメ n. animation/cartoons\n",
    "    3.テレビドラマ n. TV drama\n",
    "    4.ばんぐみ 番組 n. TV program\n",
    "    5.くだもの 果物 n. fruit\n",
    "    6.さかな 魚 n. fish\n",
    "    7.ダンス n./G3 dance/to dance\n",
    "    8.スポーツ n./G3 sports/to do sports\n",
    "    9.おんがく 音楽 n. music\n",
    "    10.かね 金 n. money\n",
    "    11.チケット n. ticket\n",
    "    12.きっぷ 切符 n. ticket\n",
    "    13.おとこ 男 n. man\n",
    "    14.おんな 女 n. woman\n",
    "    15.かれ 彼 n. he\n",
    "    16.かのじょ 彼女 n. she\n",
    "    17.ぼく 僕 n. I (used by men)\n",
    "    18.おれ 俺 n. I (used by men)\n",
    "    19.すき 好き な-adj. like\n",
    "    20.きらい 嫌い な-adj. hate\n",
    "    21.じょうず 上手 な-adj. to be good at\n",
    "    22.へた 下手 な-adj. to be bad at\n",
    "    23.わかる 分かる G1 to understand\n",
    "    24.ほんや 本屋 n. bookstore\n",
    "    25.コンビニ n. convenience store\n"
   ]
  },
  {
   "cell_type": "markdown",
   "metadata": {},
   "source": [
    "    26.きっさてん 喫茶店 n. coffee shop\n",
    "    27.きって 切手 n. stamp\n",
    "    28.すこし 少し adv. a little\n",
    "    29.ぜんぜん 全然 adv. not at all\n",
    "    30.え 絵 n. picture (drawing)\n",
    "    31.えがく 描く G1 to draw\n",
    "    32.あげる G2 to give\n",
    "    33.もらう G1 to receive\n",
    "    34.かえす 返す G1 to return (things)\n",
    "    35.せ 背 n. height/back\n",
    "    36.レンタルショップ n. rental shop\n",
    "    37.あまい 甘い い-adj. sweet\n",
    "    38.からい 辛い い-adj. spicy\n",
    "    39.にがい 苦い い-adj. bitter\n",
    "    40.しおからい 塩辛い い-adj. salty\n",
    "    41.すっぱい 酸っぱい い-adj. sour\n",
    "    42.こい 濃い い-adj. thick\n",
    "    43.うすい 薄い い-adj. thin\n",
    "    44.もの 物 n. things\n",
    "    45.いろ 色 n. color\n",
    "    46.かかる G1 to take time/money\n",
    "    47.どうして interr./adv. why"
   ]
  },
  {
   "cell_type": "markdown",
   "metadata": {},
   "source": [
    "Sure! Here’s the formatted table for all the vocabulary you provided:\n",
    "\n",
    "| No. | Japanese (Kanji) | Hiragana     | Romaji        | English Translation | Part of Speech | Example Sentence (Japanese)    | Example Sentence (English)       | Example Sentence (Romaji)             | Notes                                   |\n",
    "| --- | ---------------- | ------------ | ------------- | ------------------- | -------------- | ------------------------------ | -------------------------------- | ------------------------------------- | --------------------------------------- |\n",
    "| 1   | 漫画             | まんが       | manga         | comic book          | n.             | 彼は漫画を読むのが好きです。   | He likes to read comic books.    | kare wa manga o yomu no ga suki desu. | Popular form of entertainment in Japan. |\n",
    "| 2   | アニメ           | アニメ       | anime         | animation/cartoons  | n.             | 私はアニメが大好きです。       | I love anime.                    | watashi wa anime ga daisuki desu.     | Includes various genres.                |\n",
    "| 3   | テレビドラマ     | てれびどらま | terebi dorama | TV drama            | n.             | そのテレビドラマは面白いです。 | That TV drama is interesting.    | sono terebi dorama wa omoshiroi desu. | Often serialized and popular.           |\n",
    "| 4   | 番組             | ばんぐみ     | bangumi       | TV program          | n.             | 新しい番組が始まりました。     | A new program has started.       | atarashii bangumi ga hajimarimashita. | Can refer to any TV show.               |\n",
    "| 5   | 果物             | くだもの     | kudamono      | fruit               | n.             | 果物をたくさん食べます。       | I eat a lot of fruit.            | kudamono o takusan tabemasu.          | Includes various types of fruits.       |\n",
    "| 6   | 魚               | さかな       | sakana        | fish                | n.             | 魚が泳いでいます。             | The fish is swimming.            | sakana ga oyoideimasu.                | Common in Japanese cuisine.             |\n",
    "| 7   | ダンス           | ダンス       | dansu         | dance               | n./G3          | ダンスが上手です。             | I am good at dancing.            | dansu ga jouzu desu.                  | Popular form of expression.             |\n",
    "| 8   | スポーツ         | スポーツ     | supōtsu       | sports              | n./G3          | 彼女はスポーツが好きです。     | She likes sports.                | kanojo wa supōtsu ga suki desu.       | Includes many activities.               |\n",
    "| 9   | 音楽             | おんがく     | ongaku        | music               | n.             | 音楽を聴くのが好きです。       | I like to listen to music.       | ongaku o kiku no ga suki desu.        | Various genres and styles.              |\n",
    "| 10  | 金               | かね         | kane          | money               | n.             | お金が足りないです。           | I don’t have enough money.       | okane ga tarinai desu.                | Essential for transactions.             |\n",
    "| 11  | チケット         | チケット     | chiketto      | ticket              | n.             | チケットを買いました。         | I bought a ticket.               | chiketto o kaimashita.                | Used for entry to events.               |\n",
    "| 12  | 切符             | きっぷ       | kippu         | ticket              | n.             | 切符を忘れないでください。     | Please don’t forget the ticket.  | kippu o wasurenaide kudasai.          | Often used for transportation.          |\n",
    "| 13  | 男               | おとこ       | otoko         | man                 | n.             | 彼は男です。                   | He is a man.                     | kare wa otoko desu.                   | Refers to adult males.                  |\n",
    "| 14  | 女               | おんな       | onna          | woman               | n.             | 彼女は女です。                 | She is a woman.                  | kanojo wa onna desu.                  | Refers to adult females.                |\n",
    "| 15  | 彼               | かれ         | kare          | he                  | n.             | 彼は学生です。                 | He is a student.                 | kare wa gakusei desu.                 | Can also mean \"boyfriend.\"              |\n",
    "| 16  | 彼女             | かのじょ     | kanojo        | she                 | n.             | 彼女は先生です。               | She is a teacher.                | kanojo wa sensei desu.                | Can also mean \"girlfriend.\"             |\n",
    "| 17  | 僕               | ぼく         | boku          | I (used by men)     | pronoun        | 僕は映画が好きです。           | I like movies.                   | boku wa eiga ga suki desu.            | Informal, often used by boys.           |\n",
    "| 18  | 俺               | おれ         | ore           | I (used by men)     | pronoun        | 俺は遊びに行く。               | I’m going to hang out.           | ore wa asobi ni iku.                  | Very informal, masculine.               |\n",
    "| 19  | 好き             | すき         | suki          | like                | な-adj.        | 日本の食べ物が好きです。       | I like Japanese food.            | nihon no tabemono ga suki desu.       | Commonly used to express preference.    |\n",
    "| 20  | 嫌い             | きらい       | kirai         | hate                | な-adj.        | 野菜が嫌いです。               | I hate vegetables.               | yasai ga kirai desu.                  | Expresses strong dislike.               |\n",
    "| 21  | 上手             | じょうず     | jouzu         | to be good at       | な-adj.        | 彼はピアノが上手です。         | He is good at piano.             | kare wa piano ga jouzu desu.          | Indicates skill or proficiency.         |\n",
    "| 22  | 下手             | へた         | heta          | to be bad at        | な-adj.        | 私はサッカーが下手です。       | I am bad at soccer.              | watashi wa sakkā ga heta desu.        | Indicates lack of skill.                |\n",
    "| 23  | 分かる           | わかる       | wakaru        | to understand       | G1             | これは簡単だと分かる。         | I understand this is easy.       | kore wa kantan da to wakaru.          | Used to express comprehension.          |\n",
    "| 24  | 本屋             | ほんや       | honya         | bookstore           | n.             | 本屋に行きます。               | I will go to the bookstore.      | honya ni ikimasu.                     | A place for buying books.               |\n",
    "| 25  | コンビニ         | コンビニ     | konbini       | convenience store   | n.             | コンビニで買い物をします。     | I shop at the convenience store. | konbini de kaimono o shimasu.         | Common for quick shopping.              |\n",
    "\n",
    "Feel free to ask if you need any further information!\n"
   ]
  },
  {
   "cell_type": "markdown",
   "metadata": {},
   "source": [
    "Sure! Here’s the formatted table for the additional vocabulary you provided:\n",
    "\n",
    "| No. | Japanese (Kanji) | Hiragana         | Romaji         | English Translation | Part of Speech | Example Sentence (Japanese)        | Example Sentence (English)               | Example Sentence (Romaji)          | Notes                                  |\n",
    "| --- | ---------------- | ---------------- | -------------- | ------------------- | -------------- | ---------------------------------- | ---------------------------------------- | ---------------------------------- | -------------------------------------- |\n",
    "| 26  | 喫茶店           | きっさてん       | kissaten       | coffee shop         | n.             | この喫茶店は静かです。             | This coffee shop is quiet.               | kono kissaten wa shizuka desu.     | A place to enjoy coffee and snacks.    |\n",
    "| 27  | 切手             | きって           | kitte          | stamp               | n.             | 切手を買わなければなりません。     | I need to buy a stamp.                   | kitte o kawanakereba narimasen.    | Used for mailing letters.              |\n",
    "| 28  | 少し             | すこし           | sukoshi        | a little            | adv.           | 少し待ってください。               | Please wait a little.                    | sukoshi matte kudasai.             | Indicates a small amount.              |\n",
    "| 29  | 全然             | ぜんぜん         | zenzen         | not at all          | adv.           | 全然分かりません。                 | I don’t understand at all.               | zenzen wakarimasen.                | Used with negative forms.              |\n",
    "| 30  | 絵               | え               | e              | picture (drawing)   | n.             | この絵は美しいです。               | This picture is beautiful.               | kono e wa utsukushii desu.         | Refers to drawings or paintings.       |\n",
    "| 31  | 描く             | えがく           | egaku          | to draw             | G1             | 彼は絵を描きます。                 | He draws pictures.                       | kare wa e o kakimasu.              | Involves creating art.                 |\n",
    "| 32  | あげる           | あげる           | ageru          | to give             | G2             | プレゼントをあげます。             | I will give a present.                   | purezento o agemasu.               | Often used in gifting.                 |\n",
    "| 33  | もらう           | もらう           | morau          | to receive          | G1             | 友達から本をもらいました。         | I received a book from a friend.         | tomodachi kara hon o moraimashita. | Indicates receiving something.         |\n",
    "| 34  | 返す             | かえす           | kaesu          | to return (things)  | G1             | 本を返します。                     | I will return the book.                  | hon o kaeshimasu.                  | Used for returning items.              |\n",
    "| 35  | 背               | せ               | se             | height/back         | n.             | 彼女の背は高いです。               | Her height is tall.                      | kanojo no se wa takai desu.        | Can refer to physical height.          |\n",
    "| 36  | レンタルショップ | れんたるしょっぷ | rentaru shoppu | rental shop         | n.             | 映画のレンタルショップに行きます。 | I will go to the rental shop for movies. | eiga no rentaru shoppu ni ikimasu. | Place to rent items, especially media. |\n",
    "| 37  | 甘い             | あまい           | amai           | sweet               | い-adj.        | このケーキは甘いです。             | This cake is sweet.                      | kono kēki wa amai desu.            | Common taste in desserts.              |\n",
    "| 38  | 辛い             | からい           | karai          | spicy               | い-adj.        | この料理は辛いです。               | This dish is spicy.                      | kono ryōri wa karai desu.          | Commonly used in Japanese cuisine.     |\n",
    "| 39  | 苦い             | にがい           | nigai          | bitter              | い-adj.        | コーヒーが苦いです。               | The coffee is bitter.                    | kōhī ga nigai desu.                | Taste often associated with coffee.    |\n",
    "| 40  | 塩辛い           | しおからい       | shiokarai      | salty               | い-adj.        | このスープは塩辛いです。           | This soup is salty.                      | kono sūpu wa shiokarai desu.       | Common in savory dishes.               |\n",
    "| 41  | 酸っぱい         | すっぱい         | suppai         | sour                | い-adj.        | このレモンは酸っぱいです。         | This lemon is sour.                      | kono remon wa suppai desu.         | Commonly found in fruits.              |\n",
    "| 42  | 濃い             | こい             | koi            | thick               | い-adj.        | このスープは濃いです。             | This soup is thick.                      | kono sūpu wa koi desu.             | Often refers to flavor or texture.     |\n",
    "| 43  | 薄い             | うすい           | usui           | thin                | い-adj.        | この紙は薄いです。                 | This paper is thin.                      | kono kami wa usui desu.            | Opposite of thick.                     |\n",
    "| 44  | 物               | もの             | mono           | things              | n.             | これは大切な物です。               | This is an important thing.              | kore wa taisetsu na mono desu.     | General term for items or objects.     |\n",
    "| 45  | 色               | いろ             | iro            | color               | n.             | 好きな色は青です。                 | My favorite color is blue.               | sukina iro wa ao desu.             | Used to describe hues.                 |\n",
    "| 46  | かかる           | かかる           | kakaru         | to take time/money  | G1             | 旅行にお金がかかります。           | Traveling takes money.                   | ryokō ni okane ga kakarimasu.      | Can refer to costs or duration.        |\n",
    "| 47  | どうして         | どうして         | dōshite        | why                 | interr./adv.   | どうして遅れたのですか？           | Why were you late?                       | dōshite okureta no desu ka?        | Used to ask reasons.                   |\n",
    "\n",
    "If you need any more information or further assistance, feel free to ask!\n"
   ]
  },
  {
   "cell_type": "markdown",
   "metadata": {},
   "source": [
    "安 藤 :明日 私は 秋 葉 原 へ 行きます。\n",
    "\n",
    "ワン:どうしてですか。\n",
    "\n",
    "安 藤 :秋 葉 原 へ まんがを 買いに 行くからです。 いっしょに 行きませんか。\n",
    "\n",
    "ワン:いいですよ。 安 藤 さんは まんがが 好きですか。\n",
    "\n",
    "安藤: 私 は、あまり 好きじゃ ありませんが、フランス 人 の 友 達 が まんがが 大好きです。 彼 に、マンガを あげます。\n",
    "\n",
    "ワン:そうですか。 日本は まんがが 有 名 ですね。\n",
    "\n",
    "安藤:ワンさんは まんがが わかりますか。\n",
    "\n",
    "ワン: 少 しわかります。\n",
    "\n",
    "安藤:よかった! じゃあ、あした 一 緒 に 本屋に 行きましょう。\n",
    "\n",
    "ワン:はい。\n",
    "\n",
    "安藤:ありがとう ございます。\n",
    "\n",
    "安 藤 :ああ、この映画を 知っています。\n",
    "\n",
    "ワン:この映画、とても おもしろいですよ。この DVD は レンタルショップから 借りました。金 曜 日 までに 返 さなければなりません。今 から いっしょに この映画を 見ませんか。\n",
    "\n",
    "安 藤 :いいですね。 見ましょう。"
   ]
  },
  {
   "cell_type": "markdown",
   "metadata": {},
   "source": [
    "Here’s the formatted table for your latest conversation:\n",
    "\n",
    "| Speaker | Japanese (Hiragana)                                                                                                                                                          | Japanese (Kanji)                                                                                                                                | English Translation                                                                                                                                     | Romaji                                                                                                                                                                 | Notes                                                      |\n",
    "| ------- | ---------------------------------------------------------------------------------------------------------------------------------------------------------------------------- | ----------------------------------------------------------------------------------------------------------------------------------------------- | ------------------------------------------------------------------------------------------------------------------------------------------------------- | ---------------------------------------------------------------------------------------------------------------------------------------------------------------------- | ---------------------------------------------------------- |\n",
    "| 安藤    | あした わたしは あきはばらへ いきます。                                                                                                                                      | 明日私は秋葉原へ行きます。                                                                                                                      | Tomorrow, I will go to Akihabara.                                                                                                                       | Ashita watashi wa Akihabara e ikimasu.                                                                                                                                 | Stating plans for the next day.                            |\n",
    "| ワン    | どうしてですか。                                                                                                                                                             | どうしてですか。                                                                                                                                | Why is that?                                                                                                                                            | Doushite desu ka?                                                                                                                                                      | Asking for clarification.                                  |\n",
    "| 安藤    | あきはばらへ まんがを かいに いくからです。いっしょに いきませんか。                                                                                                         | 秋葉原へマンガを買いに行くからです。一緒に行きませんか。                                                                                        | I’m going to buy manga in Akihabara. Would you like to go with me?                                                                                      | Akihabara e manga wo kai ni iku kara desu. Issho ni ikimasen ka?                                                                                                       | Inviting someone to join.                                  |\n",
    "| ワン    | いいですよ。あんどうさんは まんがが すきですか。                                                                                                                             | いいですよ。安藤さんはマンガが好きですか。                                                                                                      | Sure! Do you like manga, Ando-san?                                                                                                                      | Ii desu yo. Andou-san wa manga ga suki desu ka?                                                                                                                        | Responding positively to the invitation.                   |\n",
    "| 安藤    | わたしは、あまり すきじゃ ありませんが、フランスじんのともだちが まんがが だいすきです。かれに、マンガを あげます。                                                          | 私はあまり好きじゃありませんが、フランス人の友達がマンガが大好きです。彼にマンガをあげます。                                                    | I don’t really like it, but my French friend loves manga. I’ll give him some manga.                                                                     | Watashi wa, amari suki ja arimasen ga, Furansu-jin no tomodachi ga manga ga daisuki desu. Kare ni manga wo agemasu.                                                    | Sharing personal preferences and intentions.               |\n",
    "| ワン    | そうですか。にほんは まんがが ゆうめいですね。                                                                                                                               | そうですか。日本は漫画が有名ですね。                                                                                                            | I see. Manga is famous in Japan, isn’t it?                                                                                                              | Sou desu ka. Nihon wa manga ga yuumei desu ne.                                                                                                                         | Commenting on the cultural significance of manga in Japan. |\n",
    "| 安藤    | ワンさんは まんがが わかりますか。                                                                                                                                           | ワンさんは漫画が分かりますか。                                                                                                                  | Do you understand manga, Wan-san?                                                                                                                       | Wan-san wa manga ga wakarimasu ka?                                                                                                                                     | Inquiring about the other person's familiarity with manga. |\n",
    "| ワン    | すこしわかります。                                                                                                                                                           | 少し分かります。                                                                                                                                | I understand a little.                                                                                                                                  | Sukoshi wakarimasu.                                                                                                                                                    | Sharing limited understanding.                             |\n",
    "| 安藤    | よかった!じゃあ、あした いっしょに ほんやに いきましょう。                                                                                                                   | よかった！じゃあ、明日一緒に本屋に行きましょう。                                                                                                | Great! Then let’s go to the bookstore together tomorrow.                                                                                                | Yokatta! Jaa, ashita issho ni honya ni ikimashou.                                                                                                                      | Making plans for the next day.                             |\n",
    "| ワン    | はい。                                                                                                                                                                       | はい。                                                                                                                                          | Yes.                                                                                                                                                    | Hai.                                                                                                                                                                   | Affirmative response.                                      |\n",
    "| 安藤    | ありがとう ございます。                                                                                                                                                      | ありがとうございます。                                                                                                                          | Thank you very much.                                                                                                                                    | Arigatou gozaimasu.                                                                                                                                                    | Expressing gratitude.                                      |\n",
    "| 安藤    | ああ、このえいがを しっています。                                                                                                                                            | ああ、この映画を知っています。                                                                                                                  | Ah, I know this movie.                                                                                                                                  | Aa, kono eiga wo shitteimasu.                                                                                                                                          | Recognizing a movie.                                       |\n",
    "| ワン    | このえいが、とても おもしろいですよ。この DVD は れんたるショップから かりました。きんようび までに かえさなければなりません。いま から いっしょに このえいがを みませんか。 | この映画、とても面白いですよ。この DVD はレンタルショップから借りました。金曜日までに返さなければなりません。今から一緒にこの映画を見ませんか。 | This movie is very interesting. I borrowed this DVD from a rental shop. I have to return it by Friday. Would you like to watch this movie together now? | Kono eiga, totemo omoshiroi desu yo. Kono DVD wa rentaru shoppu kara karimashita. Kinyoubi made ni kaesanakereba narimasen. Ima kara issho ni kono eiga wo mimasen ka? | Suggesting a movie.                                        |\n",
    "| 安藤    | いいですね。みましょう。                                                                                                                                                     | いいですね。見ましょう。                                                                                                                        | Sounds good. Let’s watch it.                                                                                                                            | Ii desu ne. Mimashou.                                                                                                                                                  | Agreeing to the suggestion.                                |\n",
    "\n",
    "If you need any more adjustments or additional details, just let me know!\n"
   ]
  },
  {
   "cell_type": "markdown",
   "metadata": {},
   "source": [
    "Here's the formatted table based on your new conversation:\n",
    "\n",
    "| Speaker | Japanese (Hiragana)                                                                                                                                                         | Japanese (Kanji)                                                                                                                                | English Translation                                                                                                                                  | Romaji                                                                                                                                                                 | Notes                                                    |\n",
    "| ------- | --------------------------------------------------------------------------------------------------------------------------------------------------------------------------- | ----------------------------------------------------------------------------------------------------------------------------------------------- | ---------------------------------------------------------------------------------------------------------------------------------------------------- | ---------------------------------------------------------------------------------------------------------------------------------------------------------------------- | -------------------------------------------------------- |\n",
    "| 安藤    | あした わたしは あきはばら へ いきます。                                                                                                                                    | 明日私は秋葉原へ行きます。                                                                                                                      | I’m going to Akihabara tomorrow.                                                                                                                     | Ashita watashi wa Akihabara e ikimasu.                                                                                                                                 | Stating future plans.                                    |\n",
    "| ワン    | どうしてですか。                                                                                                                                                            | どうしてですか。                                                                                                                                | Why is that?                                                                                                                                         | Doushite desu ka?                                                                                                                                                      | Asking for the reason.                                   |\n",
    "| 安藤    | あきはばらへ まんがを かいに いくからです。いっしょに いきませんか。                                                                                                        | 秋葉原へ漫画を買いに行くからです。一緒に行きませんか。                                                                                          | I’m going to buy manga in Akihabara. Would you like to go with me?                                                                                   | Akihabara e manga wo kai ni ikukara desu. Issho ni ikimasen ka?                                                                                                        | Inviting the other person to join.                       |\n",
    "| ワン    | いいですよ。あんどうさんは まんがが すきですか。                                                                                                                            | いいですよ。安藤さんは漫画が好きですか。                                                                                                        | Sure! Do you like manga, Ando-san?                                                                                                                   | Ii desu yo. Andou-san wa manga ga suki desu ka?                                                                                                                        | Responding positively to the invitation.                 |\n",
    "| 安藤    | わたしは、あまり すきじゃ ありませんが、フランスじんの ともだちが まんがが だいすきです。かれに、まんがを あげます。                                                        | 私は、あまり好きじゃありませんが、フランス人の友達が漫画が大好きです。彼に、マンガをあげます。                                                  | I don’t like it very much, but my French friend loves manga. I’ll give him some manga.                                                               | Watashi wa, amari suki ja arimasen ga, Furansu jin no tomodachi ga manga ga daisuki desu. Kare ni, manga wo agemasu.                                                   | Explaining personal preferences and mentioning a friend. |\n",
    "| ワン    | そうですか。にほんは まんがが ゆうめい ですね。                                                                                                                             | そうですか。日本は漫画が有名ですね。                                                                                                            | I see. Manga is famous in Japan, isn’t it?                                                                                                           | Sou desu ka. Nihon wa manga ga yuumei desu ne.                                                                                                                         | Acknowledging the statement about manga in Japan.        |\n",
    "| 安藤    | わんさんは まんがが わかりますか。                                                                                                                                          | ワンさんは漫画がわかりますか。                                                                                                                  | Do you understand manga, Wan-san?                                                                                                                    | Wan-san wa manga ga wakarimasu ka?                                                                                                                                     | Asking about the other person's familiarity with manga.  |\n",
    "| ワン    | すこし わかります。                                                                                                                                                         | 少しわかります。                                                                                                                                | I understand a little.                                                                                                                               | Sukoshi wakarimasu.                                                                                                                                                    | Indicating limited understanding.                        |\n",
    "| 安藤    | よかった! じゃあ、あした いっしょに ほんやに いきましょう。                                                                                                                 | よかった！じゃあ、明日一緒に本屋に行きましょう。                                                                                                | Great! Then let’s go to the bookstore together tomorrow.                                                                                             | Yokatta! Jaa, ashita issho ni honya ni ikimashou.                                                                                                                      | Making plans for the next day.                           |\n",
    "| ワン    | はい。                                                                                                                                                                      | はい。                                                                                                                                          | Yes.                                                                                                                                                 | Hai.                                                                                                                                                                   | Confirming the plans.                                    |\n",
    "| 安藤    | ありがとう ございます。                                                                                                                                                     | ありがとうございます。                                                                                                                          | Thank you very much.                                                                                                                                 | Arigatou gozaimasu.                                                                                                                                                    | Expressing gratitude.                                    |\n",
    "| 安藤    | ああ、このえいがを しっています。                                                                                                                                           | ああ、この映画を知っています。                                                                                                                  | Oh, I know this movie.                                                                                                                               | Aa, kono eiga wo shitteimasu.                                                                                                                                          | Recognizing the movie.                                   |\n",
    "| ワン    | このえいが、とても おもしろいですよ。この DVD は れんたるショップから かりました。きんようび までに かえさなければなりません。いまから いっしょに このえいがを みませんか。 | この映画、とても面白いですよ。この DVD はレンタルショップから借りました。金曜日までに返さなければなりません。今から一緒にこの映画を見ませんか。 | This movie is really interesting. I borrowed this DVD from a rental shop. I have to return it by Friday. How about watching this movie together now? | Kono eiga, totemo omoshiroi desu yo. Kono DVD wa rentaru shoppu kara karimashita. Kinyoubi made ni kaesanakereba narimasen. Ima kara issho ni kono eiga wo mimasen ka? | Proposing to watch the movie together.                   |\n",
    "| 安藤    | いいですね。みましょう。                                                                                                                                                    | いいですね。見ましょう。                                                                                                                        | That sounds good. Let’s watch it.                                                                                                                    | Ii desu ne. Mimashou.                                                                                                                                                  | Agreeing to the proposal.                                |\n",
    "\n",
    "If you have any further requests or need additional details, just let me know!\n"
   ]
  },
  {
   "cell_type": "markdown",
   "metadata": {},
   "source": [
    "---"
   ]
  },
  {
   "cell_type": "markdown",
   "metadata": {},
   "source": [
    "# Conversation"
   ]
  },
  {
   "cell_type": "markdown",
   "metadata": {},
   "source": []
  },
  {
   "cell_type": "markdown",
   "metadata": {},
   "source": []
  },
  {
   "cell_type": "markdown",
   "metadata": {},
   "source": [
    "---"
   ]
  },
  {
   "cell_type": "markdown",
   "metadata": {},
   "source": [
    "# Grammar 1\n"
   ]
  },
  {
   "cell_type": "markdown",
   "metadata": {},
   "source": []
  },
  {
   "cell_type": "markdown",
   "metadata": {},
   "source": []
  },
  {
   "cell_type": "markdown",
   "metadata": {},
   "source": [
    "---\n",
    "---"
   ]
  },
  {
   "cell_type": "markdown",
   "metadata": {},
   "source": [
    "# Grammar 2\n"
   ]
  },
  {
   "cell_type": "markdown",
   "metadata": {},
   "source": []
  },
  {
   "cell_type": "markdown",
   "metadata": {},
   "source": []
  },
  {
   "cell_type": "markdown",
   "metadata": {},
   "source": [
    "---\n",
    "---"
   ]
  },
  {
   "cell_type": "markdown",
   "metadata": {},
   "source": [
    "# Grammar 3\n"
   ]
  },
  {
   "cell_type": "markdown",
   "metadata": {},
   "source": []
  },
  {
   "cell_type": "markdown",
   "metadata": {},
   "source": []
  },
  {
   "cell_type": "markdown",
   "metadata": {},
   "source": [
    "---\n",
    "---"
   ]
  },
  {
   "cell_type": "markdown",
   "metadata": {},
   "source": [
    "# Grammar 4\n"
   ]
  },
  {
   "cell_type": "markdown",
   "metadata": {},
   "source": []
  },
  {
   "cell_type": "markdown",
   "metadata": {},
   "source": []
  },
  {
   "cell_type": "markdown",
   "metadata": {},
   "source": [
    "---\n",
    "---"
   ]
  },
  {
   "cell_type": "markdown",
   "metadata": {},
   "source": [
    "# Grammar 5\n"
   ]
  },
  {
   "cell_type": "markdown",
   "metadata": {},
   "source": []
  },
  {
   "cell_type": "markdown",
   "metadata": {},
   "source": []
  },
  {
   "cell_type": "markdown",
   "metadata": {},
   "source": [
    "---\n",
    "---"
   ]
  },
  {
   "cell_type": "markdown",
   "metadata": {},
   "source": [
    "# Grammar 6\n"
   ]
  },
  {
   "cell_type": "markdown",
   "metadata": {},
   "source": []
  },
  {
   "cell_type": "markdown",
   "metadata": {},
   "source": []
  },
  {
   "cell_type": "markdown",
   "metadata": {},
   "source": [
    "---\n",
    "---"
   ]
  },
  {
   "cell_type": "markdown",
   "metadata": {},
   "source": [
    "# Grammar 7\n"
   ]
  },
  {
   "cell_type": "markdown",
   "metadata": {},
   "source": []
  },
  {
   "cell_type": "markdown",
   "metadata": {},
   "source": []
  },
  {
   "cell_type": "markdown",
   "metadata": {},
   "source": [
    "---\n",
    "---"
   ]
  },
  {
   "cell_type": "markdown",
   "metadata": {},
   "source": [
    "# Grammar 8\n"
   ]
  },
  {
   "cell_type": "markdown",
   "metadata": {},
   "source": []
  },
  {
   "cell_type": "markdown",
   "metadata": {},
   "source": []
  },
  {
   "cell_type": "markdown",
   "metadata": {},
   "source": [
    "---\n",
    "---"
   ]
  },
  {
   "cell_type": "markdown",
   "metadata": {},
   "source": [
    "# Grammar 9\n"
   ]
  },
  {
   "cell_type": "markdown",
   "metadata": {},
   "source": []
  },
  {
   "cell_type": "markdown",
   "metadata": {},
   "source": []
  },
  {
   "cell_type": "markdown",
   "metadata": {},
   "source": [
    "---\n",
    "---"
   ]
  }
 ],
 "metadata": {
  "language_info": {
   "name": "python"
  }
 },
 "nbformat": 4,
 "nbformat_minor": 2
}
