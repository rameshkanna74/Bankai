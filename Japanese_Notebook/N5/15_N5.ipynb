{
 "cells": [
  {
   "cell_type": "markdown",
   "metadata": {},
   "source": [
    "# Vocabulary"
   ]
  },
  {
   "cell_type": "markdown",
   "metadata": {},
   "source": [
    "    1.しけん 試験 n. examination\n",
    "    2.りゅうがくせい 留学生 n. international student\n",
    "    3.りょうしん 両親 n. parents\n",
    "    4.よく adv. often/well\n",
    "    5.もっと adv. more\n",
    "    6.がんばる 頑張る G1 to do one's best\n",
    "    7.とぶ 飛ぶ G1 to fly\n",
    "    8.しゅみ 趣味 n. interest/hobby\n",
    "    9.きえる 消える G2 to disappear\n",
    "    10.わたす 渡す G1 to hand over\n",
    "    11.わたる 渡る G1 to cross\n",
    "    12.いたい 痛い い-adj. painful\n",
    "    13.かわいい 可愛い い-adj. cute/lovely\n",
    "    14.かぜ 風邪 n. a cold (illness)\n",
    "    15.ひく 引く G1 to pull/to catch (a cold)\n",
    "    16.からだ 体 n. body\n",
    "    17.あたま 頭 n. head\n",
    "    18.あし 足 n. foot\n",
    "    19.め 目 n. eye\n",
    "    20.はな 鼻 n. nose\n",
    "    21.みみ 耳 n. ear\n",
    "    22.くち 口 n. mouth\n",
    "    23.かお 顔 n. face\n",
    "    24.おなか お腹 n. stomach\n",
    "    25.びょうき 病気 n. disease\n"
   ]
  },
  {
   "cell_type": "markdown",
   "metadata": {},
   "source": [
    "    26.くすり 薬 n. medicine\n",
    "    27.にっき 日記 n. diary\n",
    "    28.どうぶつ 動物 n. animal\n",
    "    29.とり 鳥 n. bird\n",
    "    30.インターネット n. Internet\n",
    "    31.うんてん 運転 n./G3 driving/to drive\n",
    "    32.やきゅう 野球 n. baseball\n",
    "    33.たっきゅう 卓球 n. table tennis/pingpong\n",
    "    34.サッカー n. soccer\n",
    "    35.バスケットボール n. basketball\n",
    "    36.プール n. pool\n",
    "    37.うみ 海 n. sea\n",
    "    38.そら 空 n. sky\n",
    "    39.しかし conj. but\n",
    "    40.できる 出来る G2 can\n",
    "    41.ふろ お風呂 n. bath\n",
    "    42.おんせん 温泉 n. onsen (Japanese hot springs)\n",
    "    43.だいどころ 台所 n. kitchen\n",
    "    44.ながい 長い い-adj. long\n",
    "    45.みじかい 短い い-adj. short\n",
    "    46.はし 橋 n. bridge\n",
    "    47.わね interjection to express depth of feeling or emphasis\n"
   ]
  },
  {
   "cell_type": "markdown",
   "metadata": {},
   "source": [
    "Here’s the formatted table for the new vocabulary you provided:\n",
    "\n",
    "---\n",
    "\n",
    "| No. | Japanese (Kanji) | Hiragana       | Romaji     | English Translation       | Part of Speech | Example Sentence (Japanese) | Example Sentence (English)      | Example Sentence (Romaji)         | Notes                                |\n",
    "| --- | ---------------- | -------------- | ---------- | ------------------------- | -------------- | --------------------------- | ------------------------------- | --------------------------------- | ------------------------------------ |\n",
    "| 1   | 試験             | しけん         | shiken     | examination               | n.             | 試験が来週です。            | The exam is next week.          | Shiken ga raishū desu.            | Academic context                     |\n",
    "| 2   | 留学生           | りゅうがくせい | ryūgakusei | international student     | n.             | 彼は留学生です。            | He is an international student. | Kare wa ryūgakusei desu.          | Study abroad context                 |\n",
    "| 3   | 両親             | りょうしん     | ryōshin    | parents                   | n.             | 両親は旅行中です。          | My parents are traveling.       | Ryōshin wa ryokō-chū desu.        | Family context                       |\n",
    "| 4   | よく             | よく           | yoku       | often/well                | adv.           | 彼はよく映画を見ます。      | He often watches movies.        | Kare wa yoku eiga o mimasu.       | Indicates frequency                  |\n",
    "| 5   | もっと           | もっと         | motto      | more                      | adv.           | もっと勉強したいです。      | I want to study more.           | Motto benkyō shitai desu.         | Expresses desire for increase        |\n",
    "| 6   | 頑張る           | がんばる       | ganbaru    | to do one's best          | G1             | 頑張ってください。          | Please do your best.            | Ganbatte kudasai.                 | Encouragement                        |\n",
    "| 7   | 飛ぶ             | とぶ           | tobu       | to fly                    | G1             | 鳥が空を飛んでいます。      | A bird is flying in the sky.    | Tori ga sora o tondeimasu.        | Action related to movement           |\n",
    "| 8   | 趣味             | しゅみ         | shumi      | interest/hobby            | n.             | 趣味は音楽を聴くことです。  | My hobby is listening to music. | Shumi wa ongaku o kiku koto desu. | Personal interests                   |\n",
    "| 9   | 消える           | きえる         | kieru      | to disappear              | G2             | 照明が消えました。          | The light disappeared.          | Shōmei ga kiemashita.             | Common in describing loss            |\n",
    "| 10  | 渡す             | わたす         | watasu     | to hand over              | G1             | 資料を渡しました。          | I handed over the documents.    | Shiryō o watashimashita.          | Action of giving                     |\n",
    "| 11  | 渡る             | わたる         | wataru     | to cross                  | G1             | 橋を渡ります。              | I will cross the bridge.        | Hashi o watarimasu.               | Related to movement                  |\n",
    "| 12  | 痛い             | いたい         | itai       | painful                   | い-adj.        | 足が痛いです。              | My foot hurts.                  | Ashi ga itai desu.                | Used to describe physical discomfort |\n",
    "| 13  | 可愛い           | かわいい       | kawaii     | cute/lovely               | い-adj.        | 猫が可愛いです。            | The cat is cute.                | Neko ga kawaii desu.              | Commonly used in compliments         |\n",
    "| 14  | 風邪             | かぜ           | kaze       | a cold (illness)          | n.             | 風邪をひきました。          | I caught a cold.                | Kaze o hikimashita.               | Common illness                       |\n",
    "| 15  | 引く             | ひく           | hiku       | to pull/to catch (a cold) | G1             | ドアを引いてください。      | Please pull the door.           | Doa o hiite kudasai.              | Common action                        |\n",
    "| 16  | 体               | からだ         | karada     | body                      | n.             | 体が健康です。              | My body is healthy.             | Karada ga kenkō desu.             | Related to health                    |\n",
    "| 17  | 頭               | あたま         | atama      | head                      | n.             | 頭が痛いです。              | My head hurts.                  | Atama ga itai desu.               | Commonly used in health context      |\n",
    "| 18  | 足               | あし           | ashi       | foot                      | n.             | 足が疲れています。          | My foot is tired.               | Ashi ga tsukareteimasu.           | Part of the body                     |\n",
    "| 19  | 目               | め             | me         | eye                       | n.             | 目がかゆいです。            | My eye is itchy.                | Me ga kayui desu.                 | Sensory organ                        |\n",
    "| 20  | 鼻               | はな           | hana       | nose                      | n.             | 鼻水が出ています。          | I have a runny nose.            | Hanamizu ga deteimasu.            | Related to health                    |\n",
    "| 21  | 耳               | みみ           | mimi       | ear                       | n.             | 耳が聞こえません。          | I can't hear from my ear.       | Mimi ga kikoemasen.               | Sensory organ                        |\n",
    "| 22  | 口               | くち           | kuchi      | mouth                     | n.             | 口が渇いています。          | My mouth is dry.                | Kuchi ga kawaitemasu.             | Commonly used in health context      |\n",
    "| 23  | 顔               | かお           | kao        | face                      | n.             | 彼女は顔が赤いです。        | She has a red face.             | Kanojo wa kao ga akai desu.       | Used in descriptions                 |\n",
    "| 24  | お腹             | おなか         | onaka      | stomach                   | n.             | お腹がすいています。        | I am hungry.                    | Onaka ga suiteimasu.              | Commonly used in health context      |\n",
    "| 25  | 病気             | びょうき       | byōki      | disease                   | n.             | 彼は病気です。              | He is sick.                     | Kare wa byōki desu.               | General term for illness             |\n",
    "\n",
    "---\n",
    "\n",
    "If you have more vocabulary or need anything else, feel free to ask!\n"
   ]
  },
  {
   "cell_type": "markdown",
   "metadata": {},
   "source": [
    "Here’s the formatted table for the additional vocabulary you provided:\n",
    "\n",
    "---\n",
    "\n",
    "| No. | Japanese (Kanji) | Hiragana         | Romaji        | English Translation                                  | Part of Speech | Example Sentence (Japanese)          | Example Sentence (English)       | Example Sentence (Romaji)             | Notes                             |\n",
    "| --- | ---------------- | ---------------- | ------------- | ---------------------------------------------------- | -------------- | ------------------------------------ | -------------------------------- | ------------------------------------- | --------------------------------- |\n",
    "| 26  | 薬               | くすり           | kusuri        | medicine                                             | n.             | この薬を飲んでください。             | Please take this medicine.       | Kono kusuri o nonde kudasai.          | Used for health-related contexts  |\n",
    "| 27  | 日記             | にっき           | nikki         | diary                                                | n.             | 毎晩日記を書いています。             | I write in my diary every night. | Maiban nikki o kaiteimasu.            | Personal reflection               |\n",
    "| 28  | 動物             | どうぶつ         | dōbutsu       | animal                                               | n.             | 動物園に行きます。                   | I am going to the zoo.           | Dōbutsuen ni ikimasu.                 | General term for living creatures |\n",
    "| 29  | 鳥               | とり             | tori          | bird                                                 | n.             | 鳥が空を飛んでいます。               | A bird is flying in the sky.     | Tori ga sora o tondeimasu.            | Commonly used in nature contexts  |\n",
    "| 30  | インターネット   | インターネット   | intānetto     | Internet                                             | n.             | インターネットを使います。           | I use the Internet.              | Intānetto o tsukaimasu.               | Digital context                   |\n",
    "| 31  | 運転             | うんてん         | unten         | driving/to drive                                     | n./G3          | 車を運転します。                     | I drive a car.                   | Kuruma o unten shimasu.               | Related to transportation         |\n",
    "| 32  | 野球             | やきゅう         | yakyū         | baseball                                             | n.             | 野球を見に行きます。                 | I will go watch a baseball game. | Yakyū o mi ni ikimasu.                | Popular sport in Japan            |\n",
    "| 33  | 卓球             | たっきゅう       | takkyū        | table tennis/ping pong                               | n.             | 卓球が好きです。                     | I like table tennis.             | Takkyū ga suki desu.                  | Common recreational activity      |\n",
    "| 34  | サッカー         | サッカー         | sakkā         | soccer                                               | n.             | サッカーをします。                   | I play soccer.                   | Sakkā o shimasu.                      | Popular sport in Japan            |\n",
    "| 35  | バスケットボール | バスケットボール | basukettobōru | basketball                                           | n.             | バスケットボールが上手です。         | I am good at basketball.         | Basukettobōru ga jōzu desu.           | Popular sport                     |\n",
    "| 36  | プール           | プール           | pūru          | pool                                                 | n.             | プールで泳ぎます。                   | I swim in the pool.              | Pūru de oyoimasu.                     | Related to leisure                |\n",
    "| 37  | 海               | うみ             | umi           | sea                                                  | n.             | 海で遊びました。                     | I played at the sea.             | Umi de asobimashita.                  | Nature-related context            |\n",
    "| 38  | 空               | そら             | sora          | sky                                                  | n.             | 空は青いです。                       | The sky is blue.                 | Sora wa aoi desu.                     | Commonly used in descriptions     |\n",
    "| 39  | しかし           | しかし           | shikashi      | but                                                  | conj.          | 雨が降っています。しかし、行きます。 | It is raining, but I will go.    | Ame ga futteimasu. Shikashi, ikimasu. | Connects contrasting statements   |\n",
    "| 40  | 出来る           | できる           | dekiru        | can                                                  | G2             | それが出来ます。                     | I can do that.                   | Sore ga dekimasu.                     | Indicates ability                 |\n",
    "| 41  | お風呂           | おふろ           | ofuro         | bath                                                 | n.             | お風呂に入ります。                   | I will take a bath.              | Ofuro ni hairimasu.                   | Related to hygiene                |\n",
    "| 42  | 温泉             | おんせん         | onsen         | onsen (Japanese hot springs)                         | n.             | 温泉に行きたいです。                 | I want to go to the onsen.       | Onsen ni ikitai desu.                 | Popular tourist destination       |\n",
    "| 43  | 台所             | だいどころ       | daidokoro     | kitchen                                              | n.             | 台所で料理をします。                 | I cook in the kitchen.           | Daidokoro de ryōri o shimasu.         | Related to home and cooking       |\n",
    "| 44  | 長い             | ながい           | nagai         | long                                                 | い-adj.        | 長い道を歩きます。                   | I walk on a long road.           | Nagai michi o arukimasu.              | Used in descriptions              |\n",
    "| 45  | 短い             | みじかい         | mijikai       | short                                                | い-adj.        | 短い映画を見ました。                 | I watched a short movie.         | Mijikai eiga o mimashita.             | Used in descriptions              |\n",
    "| 46  | 橋               | はし             | hashi         | bridge                                               | n.             | 橋を渡ります。                       | I will cross the bridge.         | Hashi o watarimasu.                   | Commonly used in directions       |\n",
    "| 47  | わね             | わね             | wane          | interjection to express depth of feeling or emphasis | interjection   | すごいですね、わね！                 | That's amazing, isn't it!        | Sugoi desu ne, wane!                  | Expresses emotion or emphasis     |\n",
    "\n",
    "---\n",
    "\n",
    "If you need any further assistance or have more vocabulary, let me know!\n"
   ]
  },
  {
   "cell_type": "markdown",
   "metadata": {},
   "source": []
  },
  {
   "cell_type": "markdown",
   "metadata": {},
   "source": []
  },
  {
   "cell_type": "markdown",
   "metadata": {},
   "source": [
    "---"
   ]
  },
  {
   "cell_type": "markdown",
   "metadata": {},
   "source": [
    "# Conversation"
   ]
  },
  {
   "cell_type": "markdown",
   "metadata": {},
   "source": [
    "みのり:ああ、ワンさん、こんにちは。\n",
    "\n",
    "ワン:みのりちゃん、こんにちは! お 姉 さんいる?\n",
    "\n",
    "みのり: 今 、 ちょっと 出かけています。 でも、すぐ 戻 ると 思 います。どうぞ 入 って ください。\n",
    "\n",
    "ワン:ありがとう!\n",
    "\n",
    "ワン: 大 学 生 活 はどう?\n",
    "\n",
    "みのり: 忙 しいですが、 楽 しいです。勉 強 を したり、アルバイトを したりしています。来 週 試験が ありますので、たくさん 勉 強 を しなければなりません。\n",
    "\n",
    "ワン:試験、頑張ってくださいね。みのりちゃん、たくさん 本 を 持っているわね。\n",
    "\n",
    "みのり: 私 の 趣味は 本 を 読むことです。 よく 本 を 読 みます。\n",
    "\n",
    "ワン:この 本 、みのりちゃんが 買ったの?\n",
    "\n",
    "みのり:いいえ、これは 図 書 館 から 借りた 本 です。 昨日、図 書 館 に 本 を 返 すことが できませんでした。 今日 大 学 に 行く 時 返します。\n",
    "\n",
    "安 藤 :ただいま。ああ、ワンさん、お待たせしました。\n",
    "\n",
    "ワン:いいえ。 安 藤 さん、こんにちは。\n",
    "\n",
    "みのり:じゃ、わたしは 大 学 に 行ってきます。\n",
    "\n",
    "安 藤 :行ってらっしゃい。\n"
   ]
  },
  {
   "cell_type": "markdown",
   "metadata": {},
   "source": [
    "Here's the formatted table for your conversation:\n",
    "\n",
    "| Speaker | Japanese (Hiragana)                                                                                                                              | Japanese (Kanji)                                                                                                                   | English Translation                                                                                                                   | Romaji                                                                                                                                                          | Notes                                             |\n",
    "| ------- | ------------------------------------------------------------------------------------------------------------------------------------------------ | ---------------------------------------------------------------------------------------------------------------------------------- | ------------------------------------------------------------------------------------------------------------------------------------- | --------------------------------------------------------------------------------------------------------------------------------------------------------------- | ------------------------------------------------- |\n",
    "| みのり  | ああ、ワンさん、こんにちは。                                                                                                                     | ああ、ワンさん、こんにちは。                                                                                                       | Oh, Wan-san, hello!                                                                                                                   | Aa, Wan-san, konnichiwa.                                                                                                                                        | A friendly greeting.                              |\n",
    "| ワン    | みのりちゃん、こんにちは! お 姉 さんいる?                                                                                                        | みのりちゃん、こんにちは！お姉さんいる？                                                                                           | Minori-chan, hello! Is your sister home?                                                                                              | Minori-chan, konnichiwa! Oneesan iru?                                                                                                                           | Inquiring about someone's family.                 |\n",
    "| みのり  | 今 、 ちょっと 出かけています。 でも、すぐ 戻 ると 思 います。どうぞ 入 って ください。                                                          | 今、ちょっと出かけています。でも、すぐ戻ると思います。どうぞ入ってください。                                                       | She’s out right now, but I think she’ll be back soon. Please come in.                                                                 | Ima, chotto dekaketeimasu. Demo, sugu modoru to omoimasu. Douzo haitte kudasai.                                                                                 | Inviting someone inside.                          |\n",
    "| ワン    | ありがとう!                                                                                                                                      | ありがとう！                                                                                                                       | Thank you!                                                                                                                            | Arigatou!                                                                                                                                                       | Expressing gratitude.                             |\n",
    "| ワン    | 大 学 生 活 はどう?                                                                                                                              | 大学生活はどう？                                                                                                                   | How is university life?                                                                                                               | Daigaku seikatsu wa dou?                                                                                                                                        | Asking about university experience.               |\n",
    "| みのり  | 忙 しいですが、 楽 しいです。勉 強 を したり、アルバイトを したりしています。来 週 試験が ありますので、たくさん 勉 強 を しなければなりません。 | 忙しいですが、楽しいです。勉強をしたり、アルバイトをしたりしています。来週試験がありますので、たくさん勉強をしなければなりません。 | It’s busy but fun. I’m studying and working part-time. I have an exam next week, so I have to study a lot.                            | Isogashii desu ga, tanoshii desu. Benkyou wo shitari, arubaito wo shitari shiteimasu. Raishuu shiken ga arimasu node, takusan benkyou wo shinakereba narimasen. | Describing university life and responsibilities.  |\n",
    "| ワン    | 試験、頑張ってくださいね。みのりちゃん、たくさん 本 を 持っているわね。                                                                          | 試験、頑張ってくださいね。みのりちゃん、たくさん本を持っているわね。                                                               | Good luck with your exam! Minori-chan, you have a lot of books!                                                                       | Shiken, ganbatte kudasai ne. Minori-chan, takusan hon wo motteiru wa ne.                                                                                        | Encouraging a friend and commenting on her books. |\n",
    "| みのり  | 私 の 趣味は 本 を 読むことです。 よく 本 を 読 みます。                                                                                         | 私の趣味は本を読むことです。よく本を読みます。                                                                                     | My hobby is reading books. I read often.                                                                                              | Watashi no shumi wa hon wo yomu koto desu. Yoku hon wo yomimasu.                                                                                                | Sharing a personal interest.                      |\n",
    "| ワン    | この 本 、みのりちゃんが 買ったの?                                                                                                               | この本、みのりちゃんが買ったの？                                                                                                   | Did Minori-chan buy this book?                                                                                                        | Kono hon, Minori-chan ga katta no?                                                                                                                              | Asking about a specific book.                     |\n",
    "| みのり  | いいえ、これは 図 書 館 から 借りた 本 です。 昨日、図 書 館 に 本 を 返 すことが できませんでした。 今日 大 学 に 行く 時 返します。            | いいえ、これは図書館から借りた本です。昨日、図書館に本を返すことができませんでした。今日大学に行く時返します。                     | No, this is a book I borrowed from the library. I couldn’t return the book yesterday. I will return it when I go to university today. | Iie, kore wa toshokan kara karita hon desu. Kinou, toshokan ni hon wo kaesu koto ga dekimasen deshita. Kyou daigaku ni iku toki kaeshimasu.                     | Explaining the situation about the book.          |\n",
    "| 安藤    | ただいま。ああ、ワンさん、お待たせしました。                                                                                                     | ただいま。ああ、ワンさん、お待たせしました。                                                                                       | I’m back. Oh, Wan-san, sorry to keep you waiting.                                                                                     | Tadaima. Aa, Wan-san, omatase shimashita.                                                                                                                       | Returning home and greeting.                      |\n",
    "| ワン    | いいえ。 安 藤 さん、こんにちは。                                                                                                                | いいえ。安藤さん、こんにちは。                                                                                                     | No problem. Hello, Ando-san.                                                                                                          | Iie. Andou-san, konnichiwa.                                                                                                                                     | Acknowledging the greeting.                       |\n",
    "| みのり  | じゃ、わたしは 大 学 に 行ってきます。                                                                                                           | じゃ、私は大学に行ってきます。                                                                                                     | Well then, I’m off to university.                                                                                                     | Ja, watashi wa daigaku ni itte kimasu.                                                                                                                          | Saying goodbye before leaving.                    |\n",
    "| 安藤    | 行ってらっしゃい。                                                                                                                               | 行ってらっしゃい。                                                                                                                 | Have a good day!                                                                                                                      | Itterasshai.                                                                                                                                                    | Wishing someone a good day.                       |\n",
    "\n",
    "Let me know if you need any changes or additional information!\n"
   ]
  },
  {
   "cell_type": "markdown",
   "metadata": {},
   "source": [
    "---"
   ]
  },
  {
   "cell_type": "markdown",
   "metadata": {},
   "source": [
    "# Grammar 1\n"
   ]
  },
  {
   "cell_type": "markdown",
   "metadata": {},
   "source": []
  },
  {
   "cell_type": "markdown",
   "metadata": {},
   "source": []
  },
  {
   "cell_type": "markdown",
   "metadata": {},
   "source": [
    "---\n",
    "---"
   ]
  },
  {
   "cell_type": "markdown",
   "metadata": {},
   "source": [
    "# Grammar 2\n"
   ]
  },
  {
   "cell_type": "markdown",
   "metadata": {},
   "source": []
  },
  {
   "cell_type": "markdown",
   "metadata": {},
   "source": []
  },
  {
   "cell_type": "markdown",
   "metadata": {},
   "source": [
    "---\n",
    "---"
   ]
  },
  {
   "cell_type": "markdown",
   "metadata": {},
   "source": [
    "# Grammar 3\n"
   ]
  },
  {
   "cell_type": "markdown",
   "metadata": {},
   "source": []
  },
  {
   "cell_type": "markdown",
   "metadata": {},
   "source": []
  },
  {
   "cell_type": "markdown",
   "metadata": {},
   "source": [
    "---\n",
    "---"
   ]
  },
  {
   "cell_type": "markdown",
   "metadata": {},
   "source": [
    "# Grammar 4\n"
   ]
  },
  {
   "cell_type": "markdown",
   "metadata": {},
   "source": []
  },
  {
   "cell_type": "markdown",
   "metadata": {},
   "source": []
  },
  {
   "cell_type": "markdown",
   "metadata": {},
   "source": [
    "---\n",
    "---"
   ]
  },
  {
   "cell_type": "markdown",
   "metadata": {},
   "source": [
    "# Grammar 5\n"
   ]
  },
  {
   "cell_type": "markdown",
   "metadata": {},
   "source": []
  },
  {
   "cell_type": "markdown",
   "metadata": {},
   "source": []
  },
  {
   "cell_type": "markdown",
   "metadata": {},
   "source": [
    "---\n",
    "---"
   ]
  },
  {
   "cell_type": "markdown",
   "metadata": {},
   "source": [
    "# Grammar 6\n"
   ]
  },
  {
   "cell_type": "markdown",
   "metadata": {},
   "source": []
  },
  {
   "cell_type": "markdown",
   "metadata": {},
   "source": []
  },
  {
   "cell_type": "markdown",
   "metadata": {},
   "source": [
    "---\n",
    "---"
   ]
  },
  {
   "cell_type": "markdown",
   "metadata": {},
   "source": [
    "# Grammar 7\n"
   ]
  },
  {
   "cell_type": "markdown",
   "metadata": {},
   "source": []
  },
  {
   "cell_type": "markdown",
   "metadata": {},
   "source": []
  },
  {
   "cell_type": "markdown",
   "metadata": {},
   "source": [
    "---\n",
    "---"
   ]
  },
  {
   "cell_type": "markdown",
   "metadata": {},
   "source": [
    "# Grammar 8\n"
   ]
  },
  {
   "cell_type": "markdown",
   "metadata": {},
   "source": []
  },
  {
   "cell_type": "markdown",
   "metadata": {},
   "source": []
  },
  {
   "cell_type": "markdown",
   "metadata": {},
   "source": [
    "---\n",
    "---"
   ]
  },
  {
   "cell_type": "markdown",
   "metadata": {},
   "source": [
    "# Grammar 9\n"
   ]
  },
  {
   "cell_type": "markdown",
   "metadata": {},
   "source": []
  },
  {
   "cell_type": "markdown",
   "metadata": {},
   "source": []
  },
  {
   "cell_type": "markdown",
   "metadata": {},
   "source": [
    "---\n",
    "---"
   ]
  }
 ],
 "metadata": {
  "language_info": {
   "name": "python"
  }
 },
 "nbformat": 4,
 "nbformat_minor": 2
}
