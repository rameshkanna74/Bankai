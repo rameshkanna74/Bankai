{
 "cells": [
  {
   "cell_type": "markdown",
   "metadata": {},
   "source": [
    "# Vocabulary"
   ]
  },
  {
   "cell_type": "markdown",
   "metadata": {},
   "source": [
    "    1.にもつ 荷物 n. baggage/luggage\n",
    "    2.かいもの 買い物 n./G3 shopping/to go shopping\n",
    "    3.せんたく 洗濯 n./G3 laundry/to do laundry\n",
    "    4.れんしゅう 練習 n./G3 practice/to practice\n",
    "    5.あらう 洗う G1 to wash\n",
    "    6.あびる 浴びる G2 to take (a shower)\n",
    "    7.シャワー n. shower\n",
    "    8.じゅんび 準備 n./G3 preparation/to prepare\n",
    "    9.まだ adv. not yet\n",
    "    10.もう adv. already\n",
    "    11.おわる 終わる G1 to end\n",
    "    12.はじまる 始まる G1 to begin\n",
    "    13.くうこう 空港 n. airport\n",
    "    14.チェックイン n./G3 check in/to check in\n",
    "    15.チェックアウト n./G3 check out/to check out\n",
    "    16.は 歯 n. teeth\n",
    "    17.みがく 磨く G1 to brush\n",
    "    18.とる 撮る G1 to take (a picture/ video)\n",
    "    19.つくる 作る G1 to make\n",
    "    20.すわる 座る G1 to sit\n",
    "    21.おくる 送る G1 to send\n",
    "    22.~じゅう ~中 suffix in the process of\n",
    "    23.ラジオ n. radio\n",
    "    24.きく 聞く G1 to hear\n",
    "    25.だす 出す G1 to take out\n"
   ]
  },
  {
   "cell_type": "markdown",
   "metadata": {},
   "source": [
    "    26.しゅくだい 宿題 n. homework\n",
    "    27.ようじ 用事 n. errand\n",
    "    28.みなさん 皆さん n. everyone\n",
    "    29.にわ 庭 n. garden\n",
    "    30.さくら 桜 n. cherry blossom\n",
    "    31.き 木 n. tree\n",
    "    32.はる 春 n. spring\n",
    "    33.なつ 夏 n. summer\n",
    "    34.あき 秋 n. fall\n",
    "    35.ふゆ 冬 n. winter\n",
    "    36.べんとう 弁当 n. Bento (boxed lunch)\n",
    "    37.て 手 n. hand\n",
    "    38.かお 顔 n. face\n",
    "    39.ふく 服 n. clothes\n",
    "    40.きたない 汚い い-adj. dirty\n",
    "    41.かいわ 会話 n./G3 conversation/to converse\n",
    "    42.ぶんぽう 文法 n. grammar\n",
    "    43.てがみ 手紙 n. letter\n",
    "    44.さい 歳 counters ~years old\n",
    "    45.いくつ interr. how old/how many\n",
    "    46.なる G1 to become"
   ]
  },
  {
   "cell_type": "markdown",
   "metadata": {},
   "source": [
    "Sure! Here’s the formatted table for the vocabulary you provided:\n",
    "\n",
    "---\n",
    "\n",
    "| No. | Japanese (Kanji) | Hiragana       | Romaji     | English Translation       | Part of Speech | Example Sentence (Japanese)  | Example Sentence (English)       | Example Sentence (Romaji)  | Notes                                 |\n",
    "| --- | ---------------- | -------------- | ---------- | ------------------------- | -------------- | ---------------------------- | -------------------------------- | -------------------------- | ------------------------------------- |\n",
    "| 1   | 荷物             | にもつ         | nimotsu    | baggage/luggage           | noun           | 荷物を持って行きます。       | I will take my luggage.          | nimotsu o motte ikimasu.   | Refers to bags or luggage             |\n",
    "| 2   | 買い物           | かいもの       | kaimono    | shopping                  | noun/G3        | 買い物に行きます。           | I will go shopping.              | kaimono ni ikimasu.        | Common activity; can be a verb too    |\n",
    "| 3   | 洗濯             | せんたく       | sentaku    | laundry                   | noun/G3        | 洗濯をします。               | I do laundry.                    | sentaku o shimasu.         | Related to cleaning clothes           |\n",
    "| 4   | 練習             | れんしゅう     | renshū     | practice                  | noun/G3        | ピアノの練習をします。       | I practice the piano.            | piano no renshū o shimasu. | Important for skill improvement       |\n",
    "| 5   | 洗う             | あらう         | arau       | to wash                   | G1             | 手を洗います。               | I will wash my hands.            | te o araimasu.             | Common action related to hygiene      |\n",
    "| 6   | 浴びる           | あびる         | abiru      | to take (a shower)        | G2             | シャワーを浴びます。         | I will take a shower.            | shawā o abimasu.           | Refers to bathing or showering        |\n",
    "| 7   | シャワー         | シャワー       | shawā      | shower                    | noun           | シャワーが壊れています。     | The shower is broken.            | shawā ga kowareteimasu.    | Common fixture in bathrooms           |\n",
    "| 8   | 準備             | じゅんび       | junbi      | preparation               | noun/G3        | 準備ができました。           | The preparation is done.         | junbi ga dekimashita.      | Involves getting ready for something  |\n",
    "| 9   | まだ             | まだ           | mada       | not yet                   | adverb         | まだ終わっていません。       | It’s not finished yet.           | mada owatteimasen.         | Used to indicate something is ongoing |\n",
    "| 10  | もう             | もう           | mō         | already                   | adverb         | もう行きました。             | I have already gone.             | mō ikimashita.             | Indicates completion or time passed   |\n",
    "| 11  | 終わる           | おわる         | owaru      | to end                    | G1             | 仕事が終わります。           | Work will end.                   | shigoto ga owarimasu.      | Commonly used for events or tasks     |\n",
    "| 12  | 始まる           | はじまる       | hajimaru   | to begin                  | G1             | 会議が始まります。           | The meeting will begin.          | kaigi ga hajimarimasu.     | Used for the start of events          |\n",
    "| 13  | 空港             | くうこう       | kūkō       | airport                   | noun           | 空港に着きました。           | I arrived at the airport.        | kūkō ni tsukimashita.      | Essential for travel-related context  |\n",
    "| 14  | チェックイン     | チェックイン   | chekkuin   | check in                  | noun/G3        | チェックインを済ませました。 | I completed the check-in.        | chekkuin o sumasemashita.  | Related to travel and accommodation   |\n",
    "| 15  | チェックアウト   | チェックアウト | chekkuauto | check out                 | noun/G3        | チェックアウトの時間です。   | It’s time to check out.          | chekkuauto no jikan desu.  | Final step in hotel stays             |\n",
    "| 16  | 歯               | は             | ha         | teeth                     | noun           | 歯が痛いです。               | My teeth hurt.                   | ha ga itai desu.           | Refers to dental health               |\n",
    "| 17  | 磨く             | みがく         | migaku     | to brush                  | G1             | 歯を磨きます。               | I will brush my teeth.           | ha o migakimasu.           | Essential for dental hygiene          |\n",
    "| 18  | 撮る             | とる           | toru       | to take (a picture/video) | G1             | 写真を撮ります。             | I will take a photo.             | shashin o torimasu.        | Related to photography                |\n",
    "| 19  | 作る             | つくる         | tsukuru    | to make                   | G1             | ケーキを作ります。           | I will make a cake.              | kēki o tsukurimasu.        | Refers to creating or building        |\n",
    "| 20  | 座る             | すわる         | suwaru     | to sit                    | G1             | 椅子に座ります。             | I will sit on the chair.         | isu ni suwarimasu.         | Common action in various contexts     |\n",
    "| 21  | 送る             | おくる         | okuru      | to send                   | G1             | 手紙を送ります。             | I will send a letter.            | tegami o okurimasu.        | Related to communication              |\n",
    "| 22  | ~中              | ~じゅう        | ~jū        | in the process of         | suffix         | 勉強中です。                 | I am in the process of studying. | benkyō chū desu.           | Used to indicate ongoing actions      |\n",
    "| 23  | ラジオ           | ラジオ         | rajio      | radio                     | noun           | ラジオを聞きます。           | I listen to the radio.           | rajio o kikimasu.          | Common source of entertainment        |\n",
    "| 24  | 聞く             | きく           | kiku       | to hear                   | G1             | 音楽を聞きます。             | I listen to music.               | ongaku o kikimasu.         | Involves auditory perception          |\n",
    "| 25  | 出す             | だす           | dasu       | to take out               | G1             | ゴミを出します。             | I will take out the trash.       | gomi o dashimasu.          | Related to removing items             |\n",
    "\n",
    "---\n",
    "\n",
    "Feel free to ask if you need further modifications or additional information!\n"
   ]
  },
  {
   "cell_type": "markdown",
   "metadata": {},
   "source": [
    "Sure! Here’s the formatted table for the additional vocabulary you provided:\n",
    "\n",
    "---\n",
    "\n",
    "| No. | Japanese (Kanji) | Hiragana   | Romaji   | English Translation | Part of Speech | Example Sentence (Japanese) | Example Sentence (English)               | Example Sentence (Romaji)          | Notes                                       |\n",
    "| --- | ---------------- | ---------- | -------- | ------------------- | -------------- | --------------------------- | ---------------------------------------- | ---------------------------------- | ------------------------------------------- |\n",
    "| 26  | 宿題             | しゅくだい | shukudai | homework            | noun           | 宿題をします。              | I will do my homework.                   | shukudai o shimasu.                | Common school-related task                  |\n",
    "| 27  | 用事             | ようじ     | yōji     | errand              | noun           | 用事があります。            | I have an errand.                        | yōji ga arimasu.                   | Refers to tasks or business to attend       |\n",
    "| 28  | 皆さん           | みなさん   | minasan  | everyone            | noun           | 皆さん、こんにちは。        | Hello, everyone.                         | minasan, konnichiwa.               | Polite way to address a group               |\n",
    "| 29  | 庭               | にわ       | niwa     | garden              | noun           | 庭で花を育てています。      | I am growing flowers in the garden.      | niwa de hana o sodate ています.    | Often associated with home gardening        |\n",
    "| 30  | 桜               | さくら     | sakura   | cherry blossom      | noun           | 桜の花が咲いています。      | The cherry blossoms are blooming.        | sakura no hana ga saiteimasu.      | Iconic symbol of spring in Japan            |\n",
    "| 31  | 木               | き         | ki       | tree                | noun           | 木の下に座ります。          | I will sit under the tree.               | ki no shita ni suwarimasu.         | Fundamental element of nature               |\n",
    "| 32  | 春               | はる       | haru     | spring              | noun           | 春が来ました。              | Spring has arrived.                      | haru ga kimashita.                 | Season associated with new beginnings       |\n",
    "| 33  | 夏               | なつ       | natsu    | summer              | noun           | 夏休みが楽しみです。        | I am looking forward to summer vacation. | natsu yasumi ga tanoshimi desu.    | Warm season often associated with vacations |\n",
    "| 34  | 秋               | あき       | aki      | fall                | noun           | 秋の景色が美しいです。      | The autumn scenery is beautiful.         | aki no keshiki ga utsukushii desu. | Season known for colorful leaves            |\n",
    "| 35  | 冬               | ふゆ       | fuyu     | winter              | noun           | 冬に雪が降ります。          | It snows in winter.                      | fuyu ni yuki ga furimasu.          | Associated with cold weather                |\n",
    "| 36  | 弁当             | べんとう   | bentō    | bento (boxed lunch) | noun           | 弁当を持って行きます。      | I will take a bento.                     | bentō o motte ikimasu.             | Popular lunch option in Japan               |\n",
    "| 37  | 手               | て         | te       | hand                | noun           | 手を洗いましょう。          | Let’s wash our hands.                    | te o araimashō.                    | Basic body part; often involved in actions  |\n",
    "| 38  | 顔               | かお       | kao      | face                | noun           | 顔が赤くなっています。      | My face has turned red.                  | kao ga akakunatteimasu.            | Important aspect of personal expression     |\n",
    "| 39  | 服               | ふく       | fuku     | clothes             | noun           | 新しい服を買いました。      | I bought new clothes.                    | atarashii fuku o kaimashita.       | Related to fashion and personal attire      |\n",
    "| 40  | 汚い             | きたない   | kitanai  | dirty               | i-adjective    | 部屋が汚いです。            | The room is dirty.                       | heya ga kitanai desu.              | Describes lack of cleanliness               |\n",
    "| 41  | 会話             | かいわ     | kaiwa    | conversation        | noun/G3        | 友達と会話をします。        | I have a conversation with my friend.    | tomodachi to kaiwa o shimasu.      | Essential for communication                 |\n",
    "| 42  | 文法             | ぶんぽう   | bunpō    | grammar             | noun           | 文法を勉強しています。      | I am studying grammar.                   | bunpō o benkyō shiteimasu.         | Key component of language learning          |\n",
    "| 43  | 手紙             | てがみ     | tegami   | letter              | noun           | 手紙を書きます。            | I will write a letter.                   | tegami o kakimasu.                 | Traditional form of communication           |\n",
    "| 44  | 歳               | さい       | sai      | ~years old          | counters       | 彼は 10 歳です。            | He is 10 years old.                      | kare wa jussai desu.               | Used to express age                         |\n",
    "| 45  | いくつ           | いくつ     | ikutsu   | how old/how many    | interrogative  | いくつですか？              | How old are you?                         | ikutsu desu ka?                    | Commonly used in questions                  |\n",
    "| 46  | なる             | なる       | naru     | to become           | G1             | 医者になります。            | I will become a doctor.                  | isha ni narimasu.                  | Indicates change or transformation          |\n",
    "\n",
    "---\n",
    "\n",
    "Feel free to ask if you need any further information or modifications!\n"
   ]
  },
  {
   "cell_type": "markdown",
   "metadata": {},
   "source": []
  },
  {
   "cell_type": "markdown",
   "metadata": {},
   "source": []
  },
  {
   "cell_type": "markdown",
   "metadata": {},
   "source": [
    "---"
   ]
  },
  {
   "cell_type": "markdown",
   "metadata": {},
   "source": [
    "# Conversation"
   ]
  },
  {
   "cell_type": "markdown",
   "metadata": {},
   "source": [
    "シルヴァン:みなさん、あした フランス支社に 戻 ります。お世話に なりました。 ありがとう ございました。\n",
    "\n",
    "ラン:はやいですね。荷物はもう 準 備 しましたか。\n",
    "\n",
    "シルヴァン:いいえ、まだです。 お土産を 買ってから、 準 備 します。\n",
    "\n",
    "ラジ:そうですか。これ、 安 藤 さんからのお土産です\n",
    "\n",
    "シルヴァン:ありがとう ございます。 安 藤 さんは 何 を していますか。\n",
    "\n",
    "ラジ: 安 藤 さんは 電話を かけています。 電話が 終わってから、すぐ来ます。\n",
    "\n",
    "安藤:すみません、 遅 くなりました。\n",
    "\n",
    "シルヴァン: 安 藤 さん、お土産、ありがとうございます。\n",
    "\n",
    "安藤:いいえ。 あした 何時の 飛行機ですか。\n",
    "\n",
    "シルヴァン:午後 6 時の 飛行機です。\n",
    "\n",
    "ラジ :空 港 に 行く 前 に、 どこかへ 行きますか。\n",
    "\n",
    "シルヴァン:いいえ、どこにも 行きません。 ホテルに います。\n",
    "\n",
    "ラジ:みなさん、 空 港 に 行く 前 に、いっしょに 昼 ごはんを 食べませんか。\n",
    "\n",
    "安 藤 :いいですね。 明日は 土曜日ですから、わたしは 大 丈 夫 です。\n",
    "\n",
    "ラン:ごめんなさい。 明日 私 は ちょっと用事が あります。\n",
    "\n",
    "ラジ:それは 残 念 ですね。 わたしは 一 日 中 ひまです。 どこで何時に会いますか。\n",
    "\n",
    "シルヴァン:そうですね。 午後 4 時に 空 港 で チェックインします。ホテルから 空 港 まで 1 時間 かかりますから、 2 時 50 分 にホテルを出ます。\n",
    "\n",
    "じゃ、1 時半に ホテルの 入 口 で 会いましょうか。\n",
    "\n",
    "ラジ: 安 藤 :はい、じゃ、また明日。\n",
    "\n",
    "ラン: シルヴァンさん、どうぞ お元気で。\n"
   ]
  },
  {
   "cell_type": "markdown",
   "metadata": {},
   "source": [
    "Here's the formatted table for your latest conversation:\n",
    "\n",
    "| Speaker    | Japanese (Hiragana)                                                                                                                      | Japanese (Kanji)                                                                                                       | English Translation                                                                                                                      | Romaji                                                                                                                                  | Notes                                                |\n",
    "| ---------- | ---------------------------------------------------------------------------------------------------------------------------------------- | ---------------------------------------------------------------------------------------------------------------------- | ---------------------------------------------------------------------------------------------------------------------------------------- | --------------------------------------------------------------------------------------------------------------------------------------- | ---------------------------------------------------- |\n",
    "| シルヴァン | みなさん、あした フランスししゃに もどります。おせわに なりました。ありがとう ございました。                                             | みなさん、明日フランス支社に戻ります。お世話になりました。ありがとうございました。                                     | Everyone, I will return to the French branch tomorrow. Thank you for your support.                                                       | Minasan, ashita Furansu shisha ni modorimasu. Osewa ni narimashita. Arigatou gozaimashita.                                              | Expressing gratitude before leaving.                 |\n",
    "| ラン       | はやいですね。にもつは もう じゅんびしましたか。                                                                                         | 早いですね。荷物はもう準備しましたか。                                                                                 | That's quick! Have you already prepared your luggage?                                                                                    | Hayai desu ne. Nimotsu wa mou junbi shimashita ka?                                                                                      | Asking about luggage preparation.                    |\n",
    "| シルヴァン | いいえ、まだです。おみやげを かってから、じゅんびします。                                                                                | いいえ、まだです。お土産を買ってから準備します。                                                                       | No, not yet. I will prepare after buying souvenirs.                                                                                      | Iie, mada desu. Omiyage wo katte kara, junbi shimasu.                                                                                   | Stating future plans regarding luggage.              |\n",
    "| ラジ       | そうですか。これ、安藤さんからのおみやげです。                                                                                           | そうですか。これ、安藤さんからのお土産です。                                                                           | I see. This is a souvenir from Ando-san.                                                                                                 | Sou desu ka. Kore, Andou-san kara no omiyage desu.                                                                                      | Giving a souvenir to Sylvain.                        |\n",
    "| シルヴァン | ありがとう ございます。安 藤 さんは 何 を していますか。                                                                                 | ありがとうございます。安藤さんは何をしていますか。                                                                     | Thank you very much. What is Ando-san doing?                                                                                             | Arigatou gozaimasu. Andou-san wa nani wo shiteimasu ka?                                                                                 | Asking about Ando's activity.                        |\n",
    "| ラジ       | 安 藤 さんは でんわを かけています。でんわが おわってから、すぐ きます。                                                                 | 安藤さんは電話をかけています。電話が終わってから、すぐ来ます。                                                         | Ando-san is making a phone call. She will come as soon as she finishes.                                                                  | Andou-san wa denwa wo kaketeimasu. Denwa ga owatte kara, sugu kimasu.                                                                   | Providing information about Ando's status.           |\n",
    "| 安藤       | すみません、おそくなりました。                                                                                                           | すみません、遅くなりました。                                                                                           | Sorry for being late.                                                                                                                    | Sumimasen, osoku narimashita.                                                                                                           | Apologizing for the delay.                           |\n",
    "| シルヴァン | 安 藤 さん、おみやげ、ありがとうございます。                                                                                             | 安藤さん、お土産、ありがとうございます。                                                                               | Thank you for the souvenir, Ando-san.                                                                                                    | Andou-san, omiyage, arigatou gozaimasu.                                                                                                 | Acknowledging the gift.                              |\n",
    "| 安藤       | いいえ。あした なんじの ひこうきですか。                                                                                                 | いいえ。明日何時の飛行機ですか。                                                                                       | No problem. What time is your flight tomorrow?                                                                                           | Iie. Ashita nan-ji no hikouki desu ka?                                                                                                  | Asking about the flight time.                        |\n",
    "| シルヴァン | ごご 6 じの ひこうきです。                                                                                                               | 午後 6 時の飛行機です。                                                                                                | It’s a 6 PM flight.                                                                                                                      | Gogo 6 ji no hikouki desu.                                                                                                              | Sharing flight details.                              |\n",
    "| ラジ       | くうこうに いく まえに、どこかへ いきますか。                                                                                            | 空港に行く前に、どこかへ行きますか。                                                                                   | Before going to the airport, are you going anywhere?                                                                                     | Kuukou ni iku mae ni, doko ka e ikimasu ka?                                                                                             | Inquiring about plans before heading to the airport. |\n",
    "| シルヴァン | いいえ、どこにも いきません。ホテルに います。                                                                                           | いいえ、どこにも行きません。ホテルにいます。                                                                           | No, I’m not going anywhere. I’ll be at the hotel.                                                                                        | Iie, doko ni mo ikimasen. Hoteru ni imasu.                                                                                              | Confirming no additional plans.                      |\n",
    "| ラジ       | みなさん、くうこうに いく まえに、いっしょに ひるごはんを たべませんか。                                                                 | 皆さん、空港に行く前に、一緒に昼ご飯を食べませんか。                                                                   | Everyone, how about having lunch together before going to the airport?                                                                   | Minasan, kuukou ni iku mae ni, issho ni hirugohan wo tabemasen ka?                                                                      | Suggesting a group lunch.                            |\n",
    "| 安藤       | いいですね。あしたは どようびですから、わたしは だいじょうぶです。                                                                       | いいですね。明日は土曜日ですから、私は大丈夫です。                                                                     | Sounds good. I’m free tomorrow since it’s Saturday.                                                                                      | Ii desu ne. Ashita wa doyoubi desu kara, watashi wa daijoubu desu.                                                                      | Agreeing to the lunch plan.                          |\n",
    "| ラン       | ごめんなさい。あした わたしは ちょっとようじが あります。                                                                                | ごめんなさい。明日私はちょっと用事があります。                                                                         | I’m sorry. I have a little errand tomorrow.                                                                                              | Gomen nasai. Ashita watashi wa chotto youji ga arimasu.                                                                                 | Apologizing for being unavailable.                   |\n",
    "| ラジ       | それは ざんねん ですね。わたしは いちにちじゅう ひまです。どこで なんじに あいますか。                                                   | それは残念ですね。私は一日中暇です。どこで何時に会いますか。                                                           | That’s too bad. I’m free all day. Where and what time shall we meet?                                                                     | Sore wa zannen desu ne. Watashi wa ichi nichijuu hima desu. Doko de nan-ji ni aimasu ka?                                                | Suggesting to meet and coordinate plans.             |\n",
    "| シルヴァン | そうですね。ごご 4 じに くうこうで ちぇっくいんします。ホテルから くうこうまで 1 じかん かかりますから、2 じ 50 ぷんに ホテルを でます。 | そうですね。午後 4 時に空港でチェックインします。ホテルから空港まで 1 時間かかりますから、2 時 50 分にホテルを出ます。 | Well, I will check in at the airport at 4 PM. It takes one hour to get to the airport from the hotel, so I will leave the hotel at 2:50. | Sou desu ne. Gogo 4 ji ni kuukou de chekkuin shimasu. Hoteru kara kuukou made 1 jikan kakarimasu kara, 2 ji 50 pun ni hoteru wo demasu. | Providing check-in and travel details.               |\n",
    "| シルヴァン | じゃ、1 じはんに ホテルの にゅうぐちで あいましょうか。                                                                                  | じゃ、1 時半にホテルの入口で会いましょうか。                                                                           | So, shall we meet at the hotel entrance at 1:30?                                                                                         | Ja, 1 ji han ni hoteru no nyuuguchi de aimashou ka?                                                                                     | Confirming the meeting time and place.               |\n",
    "| ラジ       | はい。                                                                                                                                   | はい。                                                                                                                 | Yes.                                                                                                                                     | Hai.                                                                                                                                    | Agreeing to the meeting plan.                        |\n",
    "| 安藤       | はい、じゃ、またあした。                                                                                                                 | はい、じゃ、また明日。                                                                                                 | Yes, then see you tomorrow.                                                                                                              | Hai, ja, mata ashita.                                                                                                                   | Saying goodbye for now.                              |\n",
    "| ラン       | シルヴァンさん、どうぞ おげんきで。                                                                                                      | シルヴァンさん、どうぞお元気で。 | Sylvain-san, please take care. | Shiruvuan-san, douzo ogenki de. | Wishing someone well before their departure. |\n",
    "\n",
    "Let me know if you need any changes or further assistance!\n"
   ]
  },
  {
   "cell_type": "markdown",
   "metadata": {},
   "source": [
    "---"
   ]
  },
  {
   "cell_type": "markdown",
   "metadata": {},
   "source": [
    "# Grammar 1\n"
   ]
  },
  {
   "cell_type": "markdown",
   "metadata": {},
   "source": []
  },
  {
   "cell_type": "markdown",
   "metadata": {},
   "source": []
  },
  {
   "cell_type": "markdown",
   "metadata": {},
   "source": [
    "---\n",
    "---"
   ]
  },
  {
   "cell_type": "markdown",
   "metadata": {},
   "source": [
    "# Grammar 2\n"
   ]
  },
  {
   "cell_type": "markdown",
   "metadata": {},
   "source": []
  },
  {
   "cell_type": "markdown",
   "metadata": {},
   "source": []
  },
  {
   "cell_type": "markdown",
   "metadata": {},
   "source": [
    "---\n",
    "---"
   ]
  },
  {
   "cell_type": "markdown",
   "metadata": {},
   "source": [
    "# Grammar 3\n"
   ]
  },
  {
   "cell_type": "markdown",
   "metadata": {},
   "source": []
  },
  {
   "cell_type": "markdown",
   "metadata": {},
   "source": []
  },
  {
   "cell_type": "markdown",
   "metadata": {},
   "source": [
    "---\n",
    "---"
   ]
  },
  {
   "cell_type": "markdown",
   "metadata": {},
   "source": [
    "# Grammar 4\n"
   ]
  },
  {
   "cell_type": "markdown",
   "metadata": {},
   "source": []
  },
  {
   "cell_type": "markdown",
   "metadata": {},
   "source": []
  },
  {
   "cell_type": "markdown",
   "metadata": {},
   "source": [
    "---\n",
    "---"
   ]
  },
  {
   "cell_type": "markdown",
   "metadata": {},
   "source": [
    "# Grammar 5\n"
   ]
  },
  {
   "cell_type": "markdown",
   "metadata": {},
   "source": []
  },
  {
   "cell_type": "markdown",
   "metadata": {},
   "source": []
  },
  {
   "cell_type": "markdown",
   "metadata": {},
   "source": [
    "---\n",
    "---"
   ]
  },
  {
   "cell_type": "markdown",
   "metadata": {},
   "source": [
    "# Grammar 6\n"
   ]
  },
  {
   "cell_type": "markdown",
   "metadata": {},
   "source": []
  },
  {
   "cell_type": "markdown",
   "metadata": {},
   "source": []
  },
  {
   "cell_type": "markdown",
   "metadata": {},
   "source": [
    "---\n",
    "---"
   ]
  },
  {
   "cell_type": "markdown",
   "metadata": {},
   "source": [
    "# Grammar 7\n"
   ]
  },
  {
   "cell_type": "markdown",
   "metadata": {},
   "source": []
  },
  {
   "cell_type": "markdown",
   "metadata": {},
   "source": []
  },
  {
   "cell_type": "markdown",
   "metadata": {},
   "source": [
    "---\n",
    "---"
   ]
  },
  {
   "cell_type": "markdown",
   "metadata": {},
   "source": [
    "# Grammar 8\n"
   ]
  },
  {
   "cell_type": "markdown",
   "metadata": {},
   "source": []
  },
  {
   "cell_type": "markdown",
   "metadata": {},
   "source": []
  },
  {
   "cell_type": "markdown",
   "metadata": {},
   "source": [
    "---\n",
    "---"
   ]
  },
  {
   "cell_type": "markdown",
   "metadata": {},
   "source": [
    "# Grammar 9\n"
   ]
  },
  {
   "cell_type": "markdown",
   "metadata": {},
   "source": []
  },
  {
   "cell_type": "markdown",
   "metadata": {},
   "source": []
  },
  {
   "cell_type": "markdown",
   "metadata": {},
   "source": [
    "---\n",
    "---"
   ]
  }
 ],
 "metadata": {
  "language_info": {
   "name": "python"
  }
 },
 "nbformat": 4,
 "nbformat_minor": 2
}
