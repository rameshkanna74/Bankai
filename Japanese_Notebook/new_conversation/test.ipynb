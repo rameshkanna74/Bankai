{
 "cells": [
  {
   "cell_type": "code",
   "execution_count": null,
   "metadata": {
    "vscode": {
     "languageId": "plaintext"
    }
   },
   "outputs": [],
   "source": [
    "import pandas as pd\n",
    "\n",
    "# Load the Excel files\n",
    "file1 = pd.read_excel('/home/aurexus/Documents/Anki/notebook/new_conversation/S24_D00.xlsx')\n",
    "file2 = pd.read_excel('/home/aurexus/Documents/Anki/notebook/new_conversation/D00.xlsx')\n",
    "\n",
    "# Compare the two dataframes\n",
    "diff = file1.compare(file2)\n",
    "\n",
    "# Print or save the differences\n",
    "print(diff)\n",
    "diff.to_excel('comparison_output.xlsx')\n",
    "\n"
   ]
  }
 ],
 "metadata": {
  "language_info": {
   "name": "python"
  }
 },
 "nbformat": 4,
 "nbformat_minor": 2
}
