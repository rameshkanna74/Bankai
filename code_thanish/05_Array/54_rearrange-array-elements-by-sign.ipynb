{
 "cells": [
  {
   "cell_type": "markdown",
   "metadata": {},
   "source": [
    "2149. Rearrange Array Elements by Sign\n",
    "      Medium\n",
    "      Topics\n",
    "      Companies\n",
    "      Hint\n",
    "\n",
    "You are given a 0-indexed integer array nums of even length consisting of an equal number of positive and negative integers.\n",
    "\n",
    "You should return the array of nums such that the the array follows the given conditions:\n",
    "\n",
    "    Every consecutive pair of integers have opposite signs.\n",
    "    For all integers with the same sign, the order in which they were present in nums is preserved.\n",
    "    The rearranged array begins with a positive integer.\n",
    "\n",
    "Return the modified array after rearranging the elements to satisfy the aforementioned conditions.\n",
    "\n",
    "Example 1:\n",
    "\n",
    "Input: nums = [3,1,-2,-5,2,-4]\n",
    "Output: [3,-2,1,-5,2,-4]\n",
    "Explanation:\n",
    "The positive integers in nums are [3,1,2]. The negative integers are [-2,-5,-4].\n",
    "The only possible way to rearrange them such that they satisfy all conditions is [3,-2,1,-5,2,-4].\n",
    "Other ways such as [1,-2,2,-5,3,-4], [3,1,2,-2,-5,-4], [-2,3,-5,1,-4,2] are incorrect because they do not satisfy one or more conditions.\n",
    "\n",
    "Example 2:\n",
    "\n",
    "Input: nums = [-1,1]\n",
    "Output: [1,-1]\n",
    "Explanation:\n",
    "1 is the only positive integer and -1 the only negative integer in nums.\n",
    "So nums is rearranged to [1,-1].\n",
    "\n",
    "Constraints:\n",
    "\n",
    "    2 <= nums.length <= 2 * 105\n",
    "    nums.length is even\n",
    "    1 <= |nums[i]| <= 105\n",
    "    nums consists of equal number of positive and negative integers.\n",
    "\n",
    "It is not required to do the modifications in-place.\n",
    "\n",
    "\n",
    "---\n",
    "\n",
    "give best time and space complexity code in rust,give variables usefull name, add comments to explain the code way more clear,also add code to run example case\n",
    "\n",
    "---\n",
    "\n",
    "\n",
    "\n",
    "impl Solution {\n",
    "    pub fn rearrange_array(nums: Vec<i32>) -> Vec<i32> {\n",
    "        \n",
    "    }\n",
    "}"
   ]
  },
  {
   "cell_type": "code",
   "execution_count": null,
   "metadata": {
    "vscode": {
     "languageId": "plaintext"
    }
   },
   "outputs": [],
   "source": [
    "impl Solution {\n",
    "    pub fn rearrange_array(nums: Vec<i32>) -> Vec<i32> {\n",
    "        let n = nums.len();\n",
    "        let mut ans = vec![];\n",
    "        let mut i = vec![0; 2];\n",
    "\n",
    "        let go_next = |k: &mut usize, cmp: &(dyn Fn(&i32, &i32) -> bool)| {\n",
    "            while *k < n && cmp(&nums[*k], &0) {\n",
    "                *k += 1;\n",
    "            }\n",
    "        };\n",
    "\n",
    "        let i_fn: Vec<&(dyn Fn(&i32, &i32) -> bool)> =\n",
    "            vec![&core::cmp::PartialOrd::le, &core::cmp::PartialOrd::gt];\n",
    "\n",
    "        go_next(&mut i[0], i_fn[0]);\n",
    "        go_next(&mut i[1], i_fn[1]);\n",
    "\n",
    "        let mut state = 0;\n",
    "\n",
    "        while i[0] < n || i[1] < n {\n",
    "            go_next(&mut i[state], i_fn[state]);\n",
    "            if i[state] < n {\n",
    "                ans.push(nums[i[state]]);\n",
    "                i[state] += 1;\n",
    "            }\n",
    "            state ^= 1;\n",
    "        }\n",
    "\n",
    "        ans\n",
    "    }\n",
    "}"
   ]
  },
  {
   "cell_type": "code",
   "execution_count": null,
   "metadata": {
    "vscode": {
     "languageId": "plaintext"
    }
   },
   "outputs": [],
   "source": [
    "impl Solution {\n",
    "    pub fn rearrange_array(nums: Vec<i32>) -> Vec<i32> {\n",
    "        let mut pos = 0;\n",
    "        let mut neg = 1;\n",
    "        let n = nums.len();\n",
    "        let mut ans = vec![0; n];\n",
    "        nums.iter().for_each(|&num| {\n",
    "            let idx = if num < 0 { neg } else { pos };\n",
    "            ans[idx] = num;\n",
    "            if num < 0 {\n",
    "                neg += 2;\n",
    "            } else {\n",
    "                pos += 2;\n",
    "            }\n",
    "        });\n",
    "        ans\n",
    "    }\n",
    "}"
   ]
  }
 ],
 "metadata": {
  "language_info": {
   "name": "python"
  }
 },
 "nbformat": 4,
 "nbformat_minor": 2
}
