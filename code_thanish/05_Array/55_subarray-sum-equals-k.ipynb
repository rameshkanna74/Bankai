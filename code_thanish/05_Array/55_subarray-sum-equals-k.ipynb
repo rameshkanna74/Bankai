{
 "cells": [
  {
   "cell_type": "markdown",
   "metadata": {},
   "source": [
    "560. Subarray Sum Equals K\n",
    "     Medium\n",
    "     Topics\n",
    "     Companies\n",
    "     Hint\n",
    "\n",
    "Given an array of integers nums and an integer k, return the total number of subarrays whose sum equals to k.\n",
    "\n",
    "A subarray is a contiguous non-empty sequence of elements within an array.\n",
    "\n",
    "Example 1:\n",
    "\n",
    "Input: nums = [1,1,1], k = 2\n",
    "Output: 2\n",
    "\n",
    "Example 2:\n",
    "\n",
    "Input: nums = [1,2,3], k = 3\n",
    "Output: 2\n",
    "\n",
    "Constraints:\n",
    "\n",
    "    1 <= nums.length <= 2 * 104\n",
    "    -1000 <= nums[i] <= 1000\n",
    "    -107 <= k <= 107\n",
    "\n",
    "\n",
    "---\n",
    "\n",
    "give best time and space complexity code in rust,give variables usefull name, add comments to explain the code way more clear,also add code to run example case\n",
    "\n",
    "---\n",
    "\n",
    "\n",
    "impl Solution {\n",
    "    pub fn subarray_sum(nums: Vec<i32>, k: i32) -> i32 {\n",
    "        \n",
    "    }\n",
    "}"
   ]
  },
  {
   "cell_type": "code",
   "execution_count": null,
   "metadata": {
    "vscode": {
     "languageId": "plaintext"
    }
   },
   "outputs": [],
   "source": [
    "use std::collections::HashMap;\n",
    "\n",
    "struct Solution;\n",
    "\n",
    "impl Solution {\n",
    "    pub fn subarray_sum(nums: Vec<i32>, k: i32) -> i32 {\n",
    "        let mut mp: HashMap<i32, i32> = HashMap::new();\n",
    "        mp.insert(0, 1);\n",
    "\n",
    "        let mut pre_sum = 0;\n",
    "        let mut cnt = 0;\n",
    "\n",
    "        for num in nums {\n",
    "            pre_sum += num;\n",
    "            if let Some(&count) = mp.get(&(pre_sum - k)) {\n",
    "                cnt += count;\n",
    "            }\n",
    "            *mp.entry(pre_sum).or_insert(0) += 1;\n",
    "        }\n",
    "\n",
    "        cnt\n",
    "    }\n",
    "}\n"
   ]
  }
 ],
 "metadata": {
  "language_info": {
   "name": "python"
  }
 },
 "nbformat": 4,
 "nbformat_minor": 2
}
