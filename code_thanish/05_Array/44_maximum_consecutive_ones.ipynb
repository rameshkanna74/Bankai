{
 "cells": [
  {
   "cell_type": "markdown",
   "metadata": {},
   "source": [
    "136. Single Number\n",
    "     Easy\n",
    "     Topics\n",
    "     Companies\n",
    "     Hint\n",
    "\n",
    "Given a non-empty array of integers nums, every element appears twice except for one. Find that single one.\n",
    "\n",
    "You must implement a solution with a linear runtime complexity and use only constant extra space.\n",
    "\n",
    "Example 1:\n",
    "\n",
    "Input: nums = [2,2,1]\n",
    "Output: 1\n",
    "\n",
    "Example 2:\n",
    "\n",
    "Input: nums = [4,1,2,1,2]\n",
    "Output: 4\n",
    "\n",
    "Example 3:\n",
    "\n",
    "Input: nums = [1]\n",
    "Output: 1\n",
    "\n",
    "Constraints:\n",
    "\n",
    "    1 <= nums.length <= 3 * 104\n",
    "    -3 * 104 <= nums[i] <= 3 * 104\n",
    "    Each element in the array appears twice except for one element which appears only once.\n",
    "\n",
    "\n",
    "---\n",
    "\n",
    "give best time and space complexity code in rust,give variables usefull name, add comments to explain the code way more clear,also add code to run example case\n",
    "\n",
    "---\n",
    "\n",
    "\n",
    "\n",
    "impl Solution {\n",
    "    pub fn single_number(nums: Vec<i32>) -> i32 {\n",
    "        \n",
    "    }\n",
    "}"
   ]
  }
 ],
 "metadata": {
  "language_info": {
   "name": "python"
  }
 },
 "nbformat": 4,
 "nbformat_minor": 2
}
