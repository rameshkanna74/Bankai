{
 "cells": [
  {
   "cell_type": "markdown",
   "metadata": {},
   "source": [
    "Array leaders\n",
    "\n",
    "You are given an array arr of positive integers. Your task is to find all the leaders in the array. An element is considered a leader if it is greater than or equal to all elements to its right. The rightmost element is always a leader.\n",
    "\n",
    "Examples:\n",
    "\n",
    "Input: arr = [16, 17, 4, 3, 5, 2]\n",
    "Output: [17, 5, 2]\n",
    "Explanation: Note that there is nothing greater on the right side of 17, 5 and, 2.\n",
    "\n",
    "Input: arr = [10, 4, 2, 4, 1]\n",
    "Output: [10, 4, 4, 1]\n",
    "Explanation: Note that both of the 4s are in output, as to be a leader an equal element is also allowed on the right. side\n",
    "\n",
    "Input: arr = [5, 10, 20, 40]\n",
    "Output: [40]\n",
    "Explanation: When an array is sorted in increasing order, only the rightmost element is leader.\n",
    "\n",
    "Input: arr = [30, 10, 10, 5]\n",
    "Output: [30, 10, 10, 5]\n",
    "Explanation: When an array is sorted in non-increasing order, all elements are leaders.\n",
    "\n",
    "Constraints:\n",
    "1 <= arr.size() <= 106\n",
    "0 <= arr[i] <= 106\n",
    "\n",
    "\n",
    "---\n",
    "\n",
    "give best time and space complexity code in rust,give variables usefull name, add comments to explain the code way more clear,also add code to run example case\n",
    "\n",
    "---\n"
   ]
  },
  {
   "cell_type": "markdown",
   "metadata": {},
   "source": []
  },
  {
   "cell_type": "code",
   "execution_count": null,
   "metadata": {
    "vscode": {
     "languageId": "plaintext"
    }
   },
   "outputs": [],
   "source": [
    "fn find_leaders(arr: Vec<i64>) -> Vec<i64> {\n",
    "    let mut leaders = Vec::new();\n",
    "    let mut max_so_far = i64::MIN; // Initialize max_so_far with the smallest possible value\n",
    "\n",
    "    // Traverse the array from right to left\n",
    "    for &value in arr.iter().rev() {\n",
    "        if value >= max_so_far {\n",
    "            leaders.push(value);  // This value is a leader\n",
    "            max_so_far = value;   // Update max_so_far\n",
    "        }\n",
    "    }\n",
    "\n",
    "    // The leaders array is in reverse order since we iterated from right to left\n",
    "    leaders.reverse();  // Reverse to maintain the order from left to right\n",
    "\n",
    "    leaders\n",
    "}\n",
    "\n",
    "fn main() {\n",
    "    // Test case 1\n",
    "    let arr1 = vec![16, 17, 4, 3, 5, 2];\n",
    "    let result1 = find_leaders(arr1);\n",
    "    println!(\"Leaders in arr1: {:?}\", result1);  // Output: [17, 5, 2]\n",
    "\n",
    "    // Test case 2\n",
    "    let arr2 = vec![10, 4, 2, 4, 1];\n",
    "    let result2 = find_leaders(arr2);\n",
    "    println!(\"Leaders in arr2: {:?}\", result2);  // Output: [10, 4, 4, 1]\n",
    "\n",
    "    // Test case 3\n",
    "    let arr3 = vec![5, 10, 20, 40];\n",
    "    let result3 = find_leaders(arr3);\n",
    "    println!(\"Leaders in arr3: {:?}\", result3);  // Output: [40]\n",
    "\n",
    "    // Test case 4\n",
    "    let arr4 = vec![30, 10, 10, 5];\n",
    "    let result4 = find_leaders(arr4);\n",
    "    println!(\"Leaders in arr4: {:?}\", result4);  // Output: [30, 10, 10, 5]\n",
    "}\n"
   ]
  }
 ],
 "metadata": {
  "language_info": {
   "name": "python"
  }
 },
 "nbformat": 4,
 "nbformat_minor": 2
}
