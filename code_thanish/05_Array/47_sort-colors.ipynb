{
 "cells": [
  {
   "cell_type": "markdown",
   "metadata": {},
   "source": [
    "75. Sort Colors\n",
    "    Medium\n",
    "    Topics\n",
    "    Companies\n",
    "    Hint\n",
    "\n",
    "Given an array nums with n objects colored red, white, or blue, sort them in-place so that objects of the same color are adjacent, with the colors in the order red, white, and blue.\n",
    "\n",
    "We will use the integers 0, 1, and 2 to represent the color red, white, and blue, respectively.\n",
    "\n",
    "You must solve this problem without using the library's sort function.\n",
    "\n",
    "Example 1:\n",
    "\n",
    "Input: nums = [2,0,2,1,1,0]\n",
    "Output: [0,0,1,1,2,2]\n",
    "\n",
    "Example 2:\n",
    "\n",
    "Input: nums = [2,0,1]\n",
    "Output: [0,1,2]\n",
    "\n",
    "Constraints:\n",
    "\n",
    "    n == nums.length\n",
    "    1 <= n <= 300\n",
    "    nums[i] is either 0, 1, or 2.\n",
    "\n",
    "Follow up: Could you come up with a one-pass algorithm using only constant extra space?\n",
    "\n",
    "---\n",
    "\n",
    "give best time and space complexity code in rust,give variables usefull name, add comments to explain the code way more clear,also add code to run example case\n",
    "\n",
    "---\n",
    "\n",
    "\n",
    "impl Solution {\n",
    "    pub fn sort_colors(nums: &mut Vec<i32>) {\n",
    "        \n",
    "    }\n",
    "}"
   ]
  },
  {
   "cell_type": "code",
   "execution_count": null,
   "metadata": {
    "vscode": {
     "languageId": "plaintext"
    }
   },
   "outputs": [],
   "source": [
    "impl Solution {\n",
    "    pub fn sort_colors(nums: &mut Vec<i32>) {\n",
    "        let n = nums.len();\n",
    "        let (mut l, mut m, mut h) = (0,0,n-1);\n",
    "        while m<=h && h>0 as usize {\n",
    "            if nums[m]==0 {\n",
    "                (nums[l], nums[m]) = (nums[m], nums[l]);\n",
    "                l+=1;\n",
    "                m+=1;\n",
    "            }\n",
    "            else if nums[m]==1 {\n",
    "                m+=1\n",
    "            }\n",
    "            else {\n",
    "                (nums[h], nums[m]) = (nums[m], nums[h]);\n",
    "                h-=1;\n",
    "            }\n",
    "        }\n",
    "    }\n",
    "}"
   ]
  }
 ],
 "metadata": {
  "language_info": {
   "name": "python"
  }
 },
 "nbformat": 4,
 "nbformat_minor": 2
}
