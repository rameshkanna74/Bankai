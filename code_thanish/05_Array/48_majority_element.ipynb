{
 "cells": [
  {
   "cell_type": "markdown",
   "metadata": {},
   "source": [
    "169. Majority Element\n",
    "     Easy\n",
    "     Topics\n",
    "     Companies\n",
    "\n",
    "Given an array nums of size n, return the majority element.\n",
    "\n",
    "The majority element is the element that appears more than ⌊n / 2⌋ times. You may assume that the majority element always exists in the array.\n",
    "\n",
    "Example 1:\n",
    "\n",
    "Input: nums = [3,2,3]\n",
    "Output: 3\n",
    "\n",
    "Example 2:\n",
    "\n",
    "Input: nums = [2,2,1,1,1,2,2]\n",
    "Output: 2\n",
    "\n",
    "Constraints:\n",
    "\n",
    "    n == nums.length\n",
    "    1 <= n <= 5 * 104\n",
    "    -109 <= nums[i] <= 109\n",
    "\n",
    "Follow-up: Could you solve the problem in linear time and in O(1) space?\n",
    "\n",
    "---\n",
    "\n",
    "give best time and space complexity code in rust,give variables usefull name, add comments to explain the code way more clear,also add code to run example case\n",
    "\n",
    "---\n",
    "\n",
    "\n",
    "impl Solution {\n",
    "    pub fn majority_element(nums: Vec<i32>) -> i32 {\n",
    "        \n",
    "    }\n",
    "}"
   ]
  },
  {
   "cell_type": "code",
   "execution_count": null,
   "metadata": {
    "vscode": {
     "languageId": "plaintext"
    }
   },
   "outputs": [],
   "source": [
    "use std::collections::HashMap;\n",
    "\n",
    "impl Solution {\n",
    "    pub fn majority_element(nums: Vec<i32>) -> i32 {\n",
    "        let k:usize = nums.len();\n",
    "        let maj:i32 = (k as f32 / 2 as f32).ceil() as i32;\n",
    "        let mut res:i32 = 0;\n",
    "\n",
    "        let mut scores = HashMap::new();\n",
    "\n",
    "        for i in 0..k {\n",
    "            let v = scores.get(&nums[i]).copied().unwrap_or(0);\n",
    "\n",
    "            if (v + 1) >= maj {\n",
    "                res = nums[i];\n",
    "                break;\n",
    "            } else {\n",
    "                scores.insert(nums[i], v + 1);\n",
    "            }\n",
    "        }\n",
    "\n",
    "        res        \n",
    "    }\n",
    "}"
   ]
  }
 ],
 "metadata": {
  "language_info": {
   "name": "python"
  }
 },
 "nbformat": 4,
 "nbformat_minor": 2
}
