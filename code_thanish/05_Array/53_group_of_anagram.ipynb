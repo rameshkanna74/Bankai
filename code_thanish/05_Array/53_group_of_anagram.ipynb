{
 "cells": [
  {
   "cell_type": "markdown",
   "metadata": {},
   "source": [
    "49. Group Anagrams\n",
    "    Medium\n",
    "    Topics\n",
    "    Companies\n",
    "\n",
    "Given an array of strings strs, group the\n",
    "anagrams\n",
    "together. You can return the answer in any order.\n",
    "\n",
    "Example 1:\n",
    "\n",
    "Input: strs = [\"eat\",\"tea\",\"tan\",\"ate\",\"nat\",\"bat\"]\n",
    "\n",
    "Output: [[\"bat\"],[\"nat\",\"tan\"],[\"ate\",\"eat\",\"tea\"]]\n",
    "\n",
    "Explanation:\n",
    "\n",
    "    There is no string in strs that can be rearranged to form \"bat\".\n",
    "    The strings \"nat\" and \"tan\" are anagrams as they can be rearranged to form each other.\n",
    "    The strings \"ate\", \"eat\", and \"tea\" are anagrams as they can be rearranged to form each other.\n",
    "\n",
    "Example 2:\n",
    "\n",
    "Input: strs = [\"\"]\n",
    "\n",
    "Output: [[\"\"]]\n",
    "\n",
    "Example 3:\n",
    "\n",
    "Input: strs = [\"a\"]\n",
    "\n",
    "Output: [[\"a\"]]\n",
    "\n",
    "Constraints:\n",
    "\n",
    "    1 <= strs.length <= 104\n",
    "    0 <= strs[i].length <= 100\n",
    "    strs[i] consists of lowercase English letters.\n",
    "\n",
    "\n",
    "\n",
    "---\n",
    "\n",
    "give best time and space complexity code in rust,give variables usefull name, add comments to explain the code way more clear,also add code to run example case\n",
    "\n",
    "---\n",
    "\n",
    "\n",
    "impl Solution {\n",
    "    pub fn group_anagrams(strs: Vec<String>) -> Vec<Vec<String>> {\n",
    "        \n",
    "    }\n",
    "}"
   ]
  },
  {
   "cell_type": "code",
   "execution_count": null,
   "metadata": {
    "vscode": {
     "languageId": "plaintext"
    }
   },
   "outputs": [],
   "source": [
    "use std::collections::HashMap;\n",
    "\n",
    "const PRIMES: [usize; 26] = [\n",
    "    3, 5, 7, 11, 13, 17, 19, 23, 29, 31, 37, 41, 43, 47, 53, 59, 61, 67, 71, \n",
    "    73, 79, 83, 89, 97, 101, 103\n",
    "]; // Assign a unique prime to each letter a-z\n",
    "\n",
    "impl Solution {\n",
    "    pub fn group_anagrams(strs: Vec<String>) -> Vec<Vec<String>> {\n",
    "        strs.iter()\n",
    "            .fold(HashMap::new(), |mut map: HashMap<_, Vec<String>>, s| {\n",
    "                // Compute the hash as a product of primes corresponding to character counts\n",
    "                let hash = s.bytes().fold(1usize, |prod, b| {\n",
    "                    prod.wrapping_mul(PRIMES[(b - b'a') as usize])\n",
    "                });\n",
    "\n",
    "                // Group strings by hash\n",
    "                map.entry(hash)\n",
    "                    .and_modify(|v| v.push(s.to_string()))\n",
    "                    .or_insert(vec![s.to_string()]);\n",
    "                map\n",
    "            })\n",
    "            .into_iter()\n",
    "            .map(|(_, v)| v)\n",
    "            .collect()\n",
    "    }\n",
    "}\n"
   ]
  },
  {
   "cell_type": "code",
   "execution_count": null,
   "metadata": {
    "vscode": {
     "languageId": "plaintext"
    }
   },
   "outputs": [],
   "source": [
    "use std::collections::HashMap;\n",
    "impl Solution {\n",
    "    pub fn group_anagrams(strs: Vec<String>) -> Vec<Vec<String>> {\n",
    "        let mut map: HashMap<String, Vec<String>> = HashMap::new();\n",
    "        for s in strs.iter() {\n",
    "            let mut chars: Vec<char> = s.chars().collect();\n",
    "            chars.sort_unstable();  \n",
    "            let sorted_str = chars.into_iter().collect::<String>();\n",
    "\n",
    "            map.entry(sorted_str)\n",
    "                .or_insert_with(Vec::new)  \n",
    "                .push(s.to_string());     \n",
    "        }\n",
    "    \n",
    "        \n",
    "        let grouped: Vec<Vec<String>> = map.into_iter()\n",
    "            .map(|(_, group)| group)\n",
    "            .collect();\n",
    "\n",
    "        grouped\n",
    "    }\n",
    "}"
   ]
  }
 ],
 "metadata": {
  "language_info": {
   "name": "python"
  }
 },
 "nbformat": 4,
 "nbformat_minor": 2
}
