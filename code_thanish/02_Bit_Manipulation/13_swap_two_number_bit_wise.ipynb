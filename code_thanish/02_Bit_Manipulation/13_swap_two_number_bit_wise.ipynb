{
 "cells": [
  {
   "cell_type": "markdown",
   "metadata": {},
   "source": [
    "Swapping two numbers using bitwise operators is a well-known technique that allows you to exchange values without using a temporary variable. The XOR operator (`^`) is the key to this approach. Let's walk through how to achieve this and then provide the solution in Rust.\n",
    "\n",
    "### XOR Swap Explanation:\n",
    "\n",
    "The idea behind the XOR swap is based on the properties of the XOR operation:\n",
    "\n",
    "- `a ^ a = 0` (XOR of a number with itself is zero)\n",
    "- `a ^ 0 = a` (XOR of a number with zero is the number itself)\n",
    "- XOR is commutative and associative, meaning `a ^ b ^ c = a ^ (b ^ c)`.\n",
    "\n",
    "### Steps for XOR swap:\n",
    "\n",
    "Given two numbers `a` and `b`, the swap can be done in three steps:\n",
    "\n",
    "1. `a = a ^ b` — This step stores the XOR of `a` and `b` in `a`.\n",
    "2. `b = a ^ b` — Now `b` becomes the original `a` (since `a` is now `a ^ b`).\n",
    "3. `a = a ^ b` — Finally, `a` becomes the original `b`.\n",
    "\n",
    "### Time Complexity:\n",
    "\n",
    "- **Time Complexity**: \\( O(1) \\), because each XOR operation is constant time.\n",
    "- **Space Complexity**: \\( O(1) \\), since we are using no extra space besides the input variables.\n",
    "\n",
    "### Rust Code Implementation:\n",
    "\n",
    "```rust\n",
    "impl Solution {\n",
    "    pub fn swap_numbers(a: &mut i32, b: &mut i32) {\n",
    "        // Step 1: a becomes a ^ b\n",
    "        *a = *a ^ *b;\n",
    "\n",
    "        // Step 2: b becomes a ^ b, which is the original a\n",
    "        *b = *a ^ *b;\n",
    "\n",
    "        // Step 3: a becomes a ^ b, which is the original b\n",
    "        *a = *a ^ *b;\n",
    "    }\n",
    "}\n",
    "\n",
    "fn main() {\n",
    "    let mut a = 5;\n",
    "    let mut b = 10;\n",
    "\n",
    "    // Print original values\n",
    "    println!(\"Before swap: a = {}, b = {}\", a, b);\n",
    "\n",
    "    // Call the swap function\n",
    "    Solution::swap_numbers(&mut a, &mut b);\n",
    "\n",
    "    // Print swapped values\n",
    "    println!(\"After swap: a = {}, b = {}\", a, b);\n",
    "}\n",
    "```\n",
    "\n",
    "### Explanation:\n",
    "\n",
    "1. `*a = *a ^ *b;` - This computes the XOR of `a` and `b` and stores it in `a`.\n",
    "2. `*b = *a ^ *b;` - Since `*a` is now `a ^ b`, this step computes `a ^ b ^ b`, which simplifies to the original value of `a`. So, `b` is now `a`.\n",
    "3. `*a = *a ^ *b;` - Now that `*b` holds the original value of `a`, `*a` becomes `a ^ b ^ a`, which simplifies to the original value of `b`. So, `a` is now `b`.\n",
    "\n",
    "### Example Walkthrough:\n",
    "\n",
    "#### Example 1:\n",
    "\n",
    "- Initial values:\n",
    "  - `a = 5` (`0101` in binary)\n",
    "  - `b = 10` (`1010` in binary)\n",
    "- Step 1: `a = a ^ b`\n",
    "  - `a = 5 ^ 10 = 15` (`1111` in binary)\n",
    "- Step 2: `b = a ^ b`\n",
    "  - `b = 15 ^ 10 = 5` (b becomes original a)\n",
    "- Step 3: `a = a ^ b`\n",
    "\n",
    "  - `a = 15 ^ 5 = 10` (a becomes original b)\n",
    "\n",
    "- Final swapped values:\n",
    "  - `a = 10`, `b = 5`.\n",
    "\n",
    "#### Example 2:\n",
    "\n",
    "- Initial values:\n",
    "  - `a = 1` (`0001` in binary)\n",
    "  - `b = 3` (`0011` in binary)\n",
    "- Step 1: `a = a ^ b`\n",
    "  - `a = 1 ^ 3 = 2` (`0010` in binary)\n",
    "- Step 2: `b = a ^ b`\n",
    "  - `b = 2 ^ 3 = 1` (b becomes original a)\n",
    "- Step 3: `a = a ^ b`\n",
    "\n",
    "  - `a = 2 ^ 1 = 3` (a becomes original b)\n",
    "\n",
    "- Final swapped values:\n",
    "  - `a = 3`, `b = 1`.\n",
    "\n",
    "### Edge Case:\n",
    "\n",
    "- If `a == b`, the XOR operation still works because XORing a number with itself results in 0, and then XORing again restores the original values.\n",
    "\n",
    "This method is very efficient because it avoids using additional memory, making it a space-efficient solution for swapping values.\n"
   ]
  },
  {
   "cell_type": "code",
   "execution_count": 2,
   "metadata": {
    "vscode": {
     "languageId": "rust"
    }
   },
   "outputs": [
    {
     "name": "stdout",
     "output_type": "stream",
     "text": [
      "Before swap: a = 5, b = 10\n",
      "After swap: a = 10, b = 5\n"
     ]
    },
    {
     "data": {
      "text/plain": [
       "()"
      ]
     },
     "execution_count": 2,
     "metadata": {},
     "output_type": "execute_result"
    }
   ],
   "source": [
    "pub struct Solution;\n",
    "\n",
    "impl Solution {\n",
    "    pub fn swap_numbers(a: &mut i32, b: &mut i32) {\n",
    "        // Step 1: a becomes a ^ b\n",
    "        *a = *a ^ *b;\n",
    "        \n",
    "        // Step 2: b becomes a ^ b, which is the original a\n",
    "        *b = *a ^ *b;\n",
    "        \n",
    "        // Step 3: a becomes a ^ b, which is the original b\n",
    "        *a = *a ^ *b;\n",
    "    }\n",
    "}\n",
    "\n",
    "fn main() {\n",
    "    let mut a = 5;\n",
    "    let mut b = 10;\n",
    "    \n",
    "    // Print original values\n",
    "    println!(\"Before swap: a = {}, b = {}\", a, b);\n",
    "    \n",
    "    // Call the swap function\n",
    "    Solution::swap_numbers(&mut a, &mut b);\n",
    "    \n",
    "    // Print swapped values\n",
    "    println!(\"After swap: a = {}, b = {}\", a, b);\n",
    "}\n",
    "\n",
    "main()"
   ]
  },
  {
   "cell_type": "code",
   "execution_count": null,
   "metadata": {
    "vscode": {
     "languageId": "rust"
    }
   },
   "outputs": [],
   "source": []
  }
 ],
 "metadata": {
  "kernelspec": {
   "display_name": "Rust",
   "language": "rust",
   "name": "rust"
  },
  "language_info": {
   "codemirror_mode": "rust",
   "file_extension": ".rs",
   "mimetype": "text/rust",
   "name": "Rust",
   "pygment_lexer": "rust",
   "version": ""
  }
 },
 "nbformat": 4,
 "nbformat_minor": 2
}
