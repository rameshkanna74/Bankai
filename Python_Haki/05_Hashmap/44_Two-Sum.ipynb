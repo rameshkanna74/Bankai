{
 "cells": [
  {
   "cell_type": "code",
   "execution_count": 10,
   "metadata": {},
   "outputs": [
    {
     "name": "stdout",
     "output_type": "stream",
     "text": [
      "[0, 1]\n",
      "[1, 2]\n",
      "[0, 1]\n"
     ]
    }
   ],
   "source": [
    "from typing import List\n",
    "\n",
    "\n",
    "def two_sum(nums: List, target: int):\n",
    "    seen_numbers = {}\n",
    "    for (index, num) in enumerate(nums):\n",
    "        complement = target - num\n",
    "        if complement in seen_numbers:\n",
    "            return [seen_numbers[complement], index]\n",
    "        seen_numbers[num] = index\n",
    "    return []\n",
    "\n",
    "\n",
    "print(two_sum(nums=[2, 7, 11, 15], target=9))\n",
    "print(two_sum(nums=[3, 2, 4], target=6))\n",
    "print(two_sum(nums=[3, 3], target=6))"
   ]
  },
  {
   "cell_type": "code",
   "execution_count": 8,
   "metadata": {},
   "outputs": [
    {
     "name": "stdout",
     "output_type": "stream",
     "text": [
      "[0, 1]\n",
      "[1, 2]\n",
      "[0, 1]\n"
     ]
    }
   ],
   "source": [
    "from typing import List\n",
    "\n",
    "def two_sum(nums: List[int], target: int) -> List[int]:\n",
    "    seen_numbers = {}\n",
    "    for index, num in enumerate(nums):\n",
    "        complement = target - num\n",
    "        if complement in seen_numbers:\n",
    "            return [seen_numbers[complement], index]\n",
    "        seen_numbers[num] = index\n",
    "    return []\n",
    "\n",
    "# Test cases\n",
    "print(two_sum(nums=[2, 7, 11, 15], target=9))  # Expected: [0, 1]\n",
    "print(two_sum(nums=[3, 2, 4], target=6))       # Expected: [1, 2]\n",
    "print(two_sum(nums=[3, 3], target=6))           # Expected: [0, 1]\n"
   ]
  },
  {
   "cell_type": "code",
   "execution_count": null,
   "metadata": {},
   "outputs": [],
   "source": []
  }
 ],
 "metadata": {
  "kernelspec": {
   "display_name": "moon",
   "language": "python",
   "name": "python3"
  },
  "language_info": {
   "codemirror_mode": {
    "name": "ipython",
    "version": 3
   },
   "file_extension": ".py",
   "mimetype": "text/x-python",
   "name": "python",
   "nbconvert_exporter": "python",
   "pygments_lexer": "ipython3",
   "version": "3.11.7"
  }
 },
 "nbformat": 4,
 "nbformat_minor": 2
}
