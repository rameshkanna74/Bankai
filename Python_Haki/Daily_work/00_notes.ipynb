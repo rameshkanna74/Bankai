{
 "cells": [
  {
   "cell_type": "code",
   "execution_count": 1,
   "metadata": {},
   "outputs": [
    {
     "name": "stdout",
     "output_type": "stream",
     "text": [
      "Renamed: /home/kanna/Django/dev/drf/Bankai/rust_learn/Daily_work/2024_12/10_nov.ipynb to /home/kanna/Django/dev/drf/Bankai/rust_learn/Daily_work/2024_12/10_dec.ipynb\n",
      "Renamed: /home/kanna/Django/dev/drf/Bankai/rust_learn/Daily_work/2024_12/24_nov.ipynb to /home/kanna/Django/dev/drf/Bankai/rust_learn/Daily_work/2024_12/24_dec.ipynb\n",
      "Renamed: /home/kanna/Django/dev/drf/Bankai/rust_learn/Daily_work/2024_12/13_nov.ipynb to /home/kanna/Django/dev/drf/Bankai/rust_learn/Daily_work/2024_12/13_dec.ipynb\n",
      "Renamed: /home/kanna/Django/dev/drf/Bankai/rust_learn/Daily_work/2024_12/21_nov.ipynb to /home/kanna/Django/dev/drf/Bankai/rust_learn/Daily_work/2024_12/21_dec.ipynb\n",
      "Renamed: /home/kanna/Django/dev/drf/Bankai/rust_learn/Daily_work/2024_12/06_nov.ipynb to /home/kanna/Django/dev/drf/Bankai/rust_learn/Daily_work/2024_12/06_dec.ipynb\n",
      "Renamed: /home/kanna/Django/dev/drf/Bankai/rust_learn/Daily_work/2024_12/23_nov.ipynb to /home/kanna/Django/dev/drf/Bankai/rust_learn/Daily_work/2024_12/23_dec.ipynb\n",
      "Renamed: /home/kanna/Django/dev/drf/Bankai/rust_learn/Daily_work/2024_12/25_nov.ipynb to /home/kanna/Django/dev/drf/Bankai/rust_learn/Daily_work/2024_12/25_dec.ipynb\n",
      "Renamed: /home/kanna/Django/dev/drf/Bankai/rust_learn/Daily_work/2024_12/15_nov.ipynb to /home/kanna/Django/dev/drf/Bankai/rust_learn/Daily_work/2024_12/15_dec.ipynb\n",
      "Renamed: /home/kanna/Django/dev/drf/Bankai/rust_learn/Daily_work/2024_12/07_nov.ipynb to /home/kanna/Django/dev/drf/Bankai/rust_learn/Daily_work/2024_12/07_dec.ipynb\n",
      "Renamed: /home/kanna/Django/dev/drf/Bankai/rust_learn/Daily_work/2024_12/14_nov.ipynb to /home/kanna/Django/dev/drf/Bankai/rust_learn/Daily_work/2024_12/14_dec.ipynb\n",
      "Renamed: /home/kanna/Django/dev/drf/Bankai/rust_learn/Daily_work/2024_12/20_nov.ipynb to /home/kanna/Django/dev/drf/Bankai/rust_learn/Daily_work/2024_12/20_dec.ipynb\n",
      "Renamed: /home/kanna/Django/dev/drf/Bankai/rust_learn/Daily_work/2024_12/09_nov.ipynb to /home/kanna/Django/dev/drf/Bankai/rust_learn/Daily_work/2024_12/09_dec.ipynb\n",
      "Renamed: /home/kanna/Django/dev/drf/Bankai/rust_learn/Daily_work/2024_12/22_nov.ipynb to /home/kanna/Django/dev/drf/Bankai/rust_learn/Daily_work/2024_12/22_dec.ipynb\n",
      "Renamed: /home/kanna/Django/dev/drf/Bankai/rust_learn/Daily_work/2024_12/16_nov.ipynb to /home/kanna/Django/dev/drf/Bankai/rust_learn/Daily_work/2024_12/16_dec.ipynb\n",
      "Renamed: /home/kanna/Django/dev/drf/Bankai/rust_learn/Daily_work/2024_12/11_nov.ipynb to /home/kanna/Django/dev/drf/Bankai/rust_learn/Daily_work/2024_12/11_dec.ipynb\n",
      "Renamed: /home/kanna/Django/dev/drf/Bankai/rust_learn/Daily_work/2024_12/19_nov.ipynb to /home/kanna/Django/dev/drf/Bankai/rust_learn/Daily_work/2024_12/19_dec.ipynb\n",
      "Renamed: /home/kanna/Django/dev/drf/Bankai/rust_learn/Daily_work/2024_12/17_nov.ipynb to /home/kanna/Django/dev/drf/Bankai/rust_learn/Daily_work/2024_12/17_dec.ipynb\n",
      "Renamed: /home/kanna/Django/dev/drf/Bankai/rust_learn/Daily_work/2024_12/12_nov.ipynb to /home/kanna/Django/dev/drf/Bankai/rust_learn/Daily_work/2024_12/12_dec.ipynb\n",
      "Renamed: /home/kanna/Django/dev/drf/Bankai/rust_learn/Daily_work/2024_12/30_nov.ipynb to /home/kanna/Django/dev/drf/Bankai/rust_learn/Daily_work/2024_12/30_dec.ipynb\n",
      "Renamed: /home/kanna/Django/dev/drf/Bankai/rust_learn/Daily_work/2024_12/29_nov.ipynb to /home/kanna/Django/dev/drf/Bankai/rust_learn/Daily_work/2024_12/29_dec.ipynb\n",
      "Renamed: /home/kanna/Django/dev/drf/Bankai/rust_learn/Daily_work/2024_12/18_nov.ipynb to /home/kanna/Django/dev/drf/Bankai/rust_learn/Daily_work/2024_12/18_dec.ipynb\n",
      "Renamed: /home/kanna/Django/dev/drf/Bankai/rust_learn/Daily_work/2024_12/08_nov.ipynb to /home/kanna/Django/dev/drf/Bankai/rust_learn/Daily_work/2024_12/08_dec.ipynb\n",
      "Renamed: /home/kanna/Django/dev/drf/Bankai/rust_learn/Daily_work/2024_12/31_nov.ipynb to /home/kanna/Django/dev/drf/Bankai/rust_learn/Daily_work/2024_12/31_dec.ipynb\n",
      "Renamed: /home/kanna/Django/dev/drf/Bankai/rust_learn/Daily_work/2024_12/26_nov.ipynb to /home/kanna/Django/dev/drf/Bankai/rust_learn/Daily_work/2024_12/26_dec.ipynb\n",
      "Renamed: /home/kanna/Django/dev/drf/Bankai/rust_learn/Daily_work/2024_12/27_nov.ipynb to /home/kanna/Django/dev/drf/Bankai/rust_learn/Daily_work/2024_12/27_dec.ipynb\n",
      "Renamed: /home/kanna/Django/dev/drf/Bankai/rust_learn/Daily_work/2024_12/28_nov.ipynb to /home/kanna/Django/dev/drf/Bankai/rust_learn/Daily_work/2024_12/28_dec.ipynb\n",
      "Renamed: /home/kanna/Django/dev/drf/Bankai/rust_learn/Daily_work/2024_12/05_nov.ipynb to /home/kanna/Django/dev/drf/Bankai/rust_learn/Daily_work/2024_12/05_dec.ipynb\n"
     ]
    }
   ],
   "source": [
    "import os\n",
    "\n",
    "# Specify the directory where your files are located\n",
    "directory = '/home/kanna/Django/dev/drf/Bankai/rust_learn/Daily_work/2024_12'  # Change this to your directory if needed\n",
    "\n",
    "# Iterate through the files in the directory\n",
    "for filename in os.listdir(directory):\n",
    "    # Check if the file matches the pattern\n",
    "    if filename.endswith('_nov.ipynb'):\n",
    "        # Create the new filename by replacing 'nov' with 'dec'\n",
    "        new_filename = filename.replace('_nov', '_dec')\n",
    "        \n",
    "        # Get the full path for the old and new filename\n",
    "        old_file = os.path.join(directory, filename)\n",
    "        new_file = os.path.join(directory, new_filename)\n",
    "        \n",
    "        # Rename the file\n",
    "        os.rename(old_file, new_file)\n",
    "        print(f'Renamed: {old_file} to {new_file}')\n"
   ]
  },
  {
   "cell_type": "code",
   "execution_count": null,
   "metadata": {},
   "outputs": [],
   "source": []
  }
 ],
 "metadata": {
  "kernelspec": {
   "display_name": "moon",
   "language": "python",
   "name": "python3"
  },
  "language_info": {
   "codemirror_mode": {
    "name": "ipython",
    "version": 3
   },
   "file_extension": ".py",
   "mimetype": "text/x-python",
   "name": "python",
   "nbconvert_exporter": "python",
   "pygments_lexer": "ipython3",
   "version": "3.11.7"
  }
 },
 "nbformat": 4,
 "nbformat_minor": 2
}
