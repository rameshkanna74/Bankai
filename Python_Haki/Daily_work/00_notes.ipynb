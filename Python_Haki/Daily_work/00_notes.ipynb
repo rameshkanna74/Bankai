{
 "cells": [
  {
   "cell_type": "code",
   "execution_count": 1,
   "metadata": {},
   "outputs": [
    {
     "name": "stdout",
     "output_type": "stream",
     "text": [
      "Renamed: /home/kanna/Django/dev/drf/Bankai/rust_learn/Daily_work/2024_12/10_nov.ipynb to /home/kanna/Django/dev/drf/Bankai/rust_learn/Daily_work/2024_12/10_dec.ipynb\n",
      "Renamed: /home/kanna/Django/dev/drf/Bankai/rust_learn/Daily_work/2024_12/24_nov.ipynb to /home/kanna/Django/dev/drf/Bankai/rust_learn/Daily_work/2024_12/24_dec.ipynb\n",
      "Renamed: /home/kanna/Django/dev/drf/Bankai/rust_learn/Daily_work/2024_12/13_nov.ipynb to /home/kanna/Django/dev/drf/Bankai/rust_learn/Daily_work/2024_12/13_dec.ipynb\n",
      "Renamed: /home/kanna/Django/dev/drf/Bankai/rust_learn/Daily_work/2024_12/21_nov.ipynb to /home/kanna/Django/dev/drf/Bankai/rust_learn/Daily_work/2024_12/21_dec.ipynb\n",
      "Renamed: /home/kanna/Django/dev/drf/Bankai/rust_learn/Daily_work/2024_12/06_nov.ipynb to /home/kanna/Django/dev/drf/Bankai/rust_learn/Daily_work/2024_12/06_dec.ipynb\n",
      "Renamed: /home/kanna/Django/dev/drf/Bankai/rust_learn/Daily_work/2024_12/23_nov.ipynb to /home/kanna/Django/dev/drf/Bankai/rust_learn/Daily_work/2024_12/23_dec.ipynb\n",
      "Renamed: /home/kanna/Django/dev/drf/Bankai/rust_learn/Daily_work/2024_12/25_nov.ipynb to /home/kanna/Django/dev/drf/Bankai/rust_learn/Daily_work/2024_12/25_dec.ipynb\n",
      "Renamed: /home/kanna/Django/dev/drf/Bankai/rust_learn/Daily_work/2024_12/15_nov.ipynb to /home/kanna/Django/dev/drf/Bankai/rust_learn/Daily_work/2024_12/15_dec.ipynb\n",
      "Renamed: /home/kanna/Django/dev/drf/Bankai/rust_learn/Daily_work/2024_12/07_nov.ipynb to /home/kanna/Django/dev/drf/Bankai/rust_learn/Daily_work/2024_12/07_dec.ipynb\n",
      "Renamed: /home/kanna/Django/dev/drf/Bankai/rust_learn/Daily_work/2024_12/14_nov.ipynb to /home/kanna/Django/dev/drf/Bankai/rust_learn/Daily_work/2024_12/14_dec.ipynb\n",
      "Renamed: /home/kanna/Django/dev/drf/Bankai/rust_learn/Daily_work/2024_12/20_nov.ipynb to /home/kanna/Django/dev/drf/Bankai/rust_learn/Daily_work/2024_12/20_dec.ipynb\n",
      "Renamed: /home/kanna/Django/dev/drf/Bankai/rust_learn/Daily_work/2024_12/09_nov.ipynb to /home/kanna/Django/dev/drf/Bankai/rust_learn/Daily_work/2024_12/09_dec.ipynb\n",
      "Renamed: /home/kanna/Django/dev/drf/Bankai/rust_learn/Daily_work/2024_12/22_nov.ipynb to /home/kanna/Django/dev/drf/Bankai/rust_learn/Daily_work/2024_12/22_dec.ipynb\n",
      "Renamed: /home/kanna/Django/dev/drf/Bankai/rust_learn/Daily_work/2024_12/16_nov.ipynb to /home/kanna/Django/dev/drf/Bankai/rust_learn/Daily_work/2024_12/16_dec.ipynb\n",
      "Renamed: /home/kanna/Django/dev/drf/Bankai/rust_learn/Daily_work/2024_12/11_nov.ipynb to /home/kanna/Django/dev/drf/Bankai/rust_learn/Daily_work/2024_12/11_dec.ipynb\n",
      "Renamed: /home/kanna/Django/dev/drf/Bankai/rust_learn/Daily_work/2024_12/19_nov.ipynb to /home/kanna/Django/dev/drf/Bankai/rust_learn/Daily_work/2024_12/19_dec.ipynb\n",
      "Renamed: /home/kanna/Django/dev/drf/Bankai/rust_learn/Daily_work/2024_12/17_nov.ipynb to /home/kanna/Django/dev/drf/Bankai/rust_learn/Daily_work/2024_12/17_dec.ipynb\n",
      "Renamed: /home/kanna/Django/dev/drf/Bankai/rust_learn/Daily_work/2024_12/12_nov.ipynb to /home/kanna/Django/dev/drf/Bankai/rust_learn/Daily_work/2024_12/12_dec.ipynb\n",
      "Renamed: /home/kanna/Django/dev/drf/Bankai/rust_learn/Daily_work/2024_12/30_nov.ipynb to /home/kanna/Django/dev/drf/Bankai/rust_learn/Daily_work/2024_12/30_dec.ipynb\n",
      "Renamed: /home/kanna/Django/dev/drf/Bankai/rust_learn/Daily_work/2024_12/29_nov.ipynb to /home/kanna/Django/dev/drf/Bankai/rust_learn/Daily_work/2024_12/29_dec.ipynb\n",
      "Renamed: /home/kanna/Django/dev/drf/Bankai/rust_learn/Daily_work/2024_12/18_nov.ipynb to /home/kanna/Django/dev/drf/Bankai/rust_learn/Daily_work/2024_12/18_dec.ipynb\n",
      "Renamed: /home/kanna/Django/dev/drf/Bankai/rust_learn/Daily_work/2024_12/08_nov.ipynb to /home/kanna/Django/dev/drf/Bankai/rust_learn/Daily_work/2024_12/08_dec.ipynb\n",
      "Renamed: /home/kanna/Django/dev/drf/Bankai/rust_learn/Daily_work/2024_12/31_nov.ipynb to /home/kanna/Django/dev/drf/Bankai/rust_learn/Daily_work/2024_12/31_dec.ipynb\n",
      "Renamed: /home/kanna/Django/dev/drf/Bankai/rust_learn/Daily_work/2024_12/26_nov.ipynb to /home/kanna/Django/dev/drf/Bankai/rust_learn/Daily_work/2024_12/26_dec.ipynb\n",
      "Renamed: /home/kanna/Django/dev/drf/Bankai/rust_learn/Daily_work/2024_12/27_nov.ipynb to /home/kanna/Django/dev/drf/Bankai/rust_learn/Daily_work/2024_12/27_dec.ipynb\n",
      "Renamed: /home/kanna/Django/dev/drf/Bankai/rust_learn/Daily_work/2024_12/28_nov.ipynb to /home/kanna/Django/dev/drf/Bankai/rust_learn/Daily_work/2024_12/28_dec.ipynb\n",
      "Renamed: /home/kanna/Django/dev/drf/Bankai/rust_learn/Daily_work/2024_12/05_nov.ipynb to /home/kanna/Django/dev/drf/Bankai/rust_learn/Daily_work/2024_12/05_dec.ipynb\n"
     ]
    }
   ],
   "source": [
    "import os\n",
    "\n",
    "# Specify the directory where your files are located\n",
    "directory = '/home/kanna/Django/dev/drf/Bankai/rust_learn/Daily_work/2024_12'  # Change this to your directory if needed\n",
    "\n",
    "# Iterate through the files in the directory\n",
    "for filename in os.listdir(directory):\n",
    "    # Check if the file matches the pattern\n",
    "    if filename.endswith('_nov.ipynb'):\n",
    "        # Create the new filename by replacing 'nov' with 'dec'\n",
    "        new_filename = filename.replace('_nov', '_dec')\n",
    "        \n",
    "        # Get the full path for the old and new filename\n",
    "        old_file = os.path.join(directory, filename)\n",
    "        new_file = os.path.join(directory, new_filename)\n",
    "        \n",
    "        # Rename the file\n",
    "        os.rename(old_file, new_file)\n",
    "        print(f'Renamed: {old_file} to {new_file}')\n"
   ]
  },
  {
   "cell_type": "code",
   "execution_count": 4,
   "metadata": {},
   "outputs": [
    {
     "name": "stdout",
     "output_type": "stream",
     "text": [
      "Created: /home/kanna/Django/dev/drf/Bankai/rust_learn/Daily_work/2025_03/2025_mar_05.ipynb\n",
      "Created: /home/kanna/Django/dev/drf/Bankai/rust_learn/Daily_work/2025_03/2025_mar_06.ipynb\n",
      "Created: /home/kanna/Django/dev/drf/Bankai/rust_learn/Daily_work/2025_03/2025_mar_07.ipynb\n",
      "Created: /home/kanna/Django/dev/drf/Bankai/rust_learn/Daily_work/2025_03/2025_mar_08.ipynb\n",
      "Created: /home/kanna/Django/dev/drf/Bankai/rust_learn/Daily_work/2025_03/2025_mar_09.ipynb\n",
      "Created: /home/kanna/Django/dev/drf/Bankai/rust_learn/Daily_work/2025_03/2025_mar_10.ipynb\n",
      "Created: /home/kanna/Django/dev/drf/Bankai/rust_learn/Daily_work/2025_03/2025_mar_11.ipynb\n",
      "Created: /home/kanna/Django/dev/drf/Bankai/rust_learn/Daily_work/2025_03/2025_mar_12.ipynb\n",
      "Created: /home/kanna/Django/dev/drf/Bankai/rust_learn/Daily_work/2025_03/2025_mar_13.ipynb\n",
      "Created: /home/kanna/Django/dev/drf/Bankai/rust_learn/Daily_work/2025_03/2025_mar_14.ipynb\n",
      "Created: /home/kanna/Django/dev/drf/Bankai/rust_learn/Daily_work/2025_03/2025_mar_15.ipynb\n",
      "Created: /home/kanna/Django/dev/drf/Bankai/rust_learn/Daily_work/2025_03/2025_mar_16.ipynb\n",
      "Created: /home/kanna/Django/dev/drf/Bankai/rust_learn/Daily_work/2025_03/2025_mar_17.ipynb\n",
      "Created: /home/kanna/Django/dev/drf/Bankai/rust_learn/Daily_work/2025_03/2025_mar_18.ipynb\n",
      "Created: /home/kanna/Django/dev/drf/Bankai/rust_learn/Daily_work/2025_03/2025_mar_19.ipynb\n",
      "Created: /home/kanna/Django/dev/drf/Bankai/rust_learn/Daily_work/2025_03/2025_mar_20.ipynb\n",
      "Created: /home/kanna/Django/dev/drf/Bankai/rust_learn/Daily_work/2025_03/2025_mar_21.ipynb\n",
      "Created: /home/kanna/Django/dev/drf/Bankai/rust_learn/Daily_work/2025_03/2025_mar_22.ipynb\n",
      "Created: /home/kanna/Django/dev/drf/Bankai/rust_learn/Daily_work/2025_03/2025_mar_23.ipynb\n",
      "Created: /home/kanna/Django/dev/drf/Bankai/rust_learn/Daily_work/2025_03/2025_mar_24.ipynb\n",
      "Created: /home/kanna/Django/dev/drf/Bankai/rust_learn/Daily_work/2025_03/2025_mar_25.ipynb\n",
      "Created: /home/kanna/Django/dev/drf/Bankai/rust_learn/Daily_work/2025_03/2025_mar_26.ipynb\n",
      "Created: /home/kanna/Django/dev/drf/Bankai/rust_learn/Daily_work/2025_03/2025_mar_27.ipynb\n",
      "Created: /home/kanna/Django/dev/drf/Bankai/rust_learn/Daily_work/2025_03/2025_mar_28.ipynb\n",
      "Created: /home/kanna/Django/dev/drf/Bankai/rust_learn/Daily_work/2025_03/2025_mar_29.ipynb\n",
      "Created: /home/kanna/Django/dev/drf/Bankai/rust_learn/Daily_work/2025_03/2025_mar_30.ipynb\n",
      "Created: /home/kanna/Django/dev/drf/Bankai/rust_learn/Daily_work/2025_03/2025_mar_31.ipynb\n"
     ]
    }
   ],
   "source": [
    "import shutil\n",
    "from pathlib import Path\n",
    "\n",
    "# Input file and target folder\n",
    "input_file = Path(\"/home/kanna/Django/dev/drf/Bankai/rust_learn/Daily_work/2025_03/2025_mar_04.ipynb\")\n",
    "target_folder = Path(\"/home/kanna/Django/dev/drf/Bankai/rust_learn/Daily_work/2025_03/\")\n",
    "\n",
    "# Ensure target folder exists\n",
    "target_folder.mkdir(parents=True, exist_ok=True)\n",
    "\n",
    "# Generate and copy files from 02 to 21\n",
    "for day in range(5, 32):\n",
    "    new_filename = f\"2025_mar_{day:02d}.ipynb\"\n",
    "    target_file = target_folder / new_filename\n",
    "    shutil.copy(input_file, target_file)\n",
    "    print(f\"Created: {target_file}\")\n"
   ]
  },
  {
   "cell_type": "code",
   "execution_count": null,
   "metadata": {},
   "outputs": [],
   "source": []
  }
 ],
 "metadata": {
  "kernelspec": {
   "display_name": "moon",
   "language": "python",
   "name": "python3"
  },
  "language_info": {
   "codemirror_mode": {
    "name": "ipython",
    "version": 3
   },
   "file_extension": ".py",
   "mimetype": "text/x-python",
   "name": "python",
   "nbconvert_exporter": "python",
   "pygments_lexer": "ipython3",
   "version": "3.11.11"
  }
 },
 "nbformat": 4,
 "nbformat_minor": 2
}
