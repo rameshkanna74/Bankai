{
 "cells": [
  {
   "cell_type": "markdown",
   "metadata": {},
   "source": [
    "2022. Convert 1D Array Into 2D Array\n",
    "\n",
    "You are given a 0-indexed 1-dimensional (1D) integer array original, and two integers, m and n. You are tasked with creating a 2-dimensional (2D) array with m rows and n columns using all the elements from original.\n",
    "\n",
    "The elements from indices 0 to n - 1 (inclusive) of original should form the first row of the constructed 2D array, the elements from indices n to 2 \\* n - 1 (inclusive) should form the second row of the constructed 2D array, and so on.\n",
    "\n",
    "Return an m x n 2D array constructed according to the above procedure, or an empty 2D array if it is impossible.\n",
    "\n",
    "Example 1:\n",
    "\n",
    "Input: original = [1,2,3,4], m = 2, n = 2\n",
    "Output: [[1,2],[3,4]]\n",
    "Explanation: The constructed 2D array should contain 2 rows and 2 columns.\n",
    "The first group of n=2 elements in original, [1,2], becomes the first row in the constructed 2D array.\n",
    "The second group of n=2 elements in original, [3,4], becomes the second row in the constructed 2D array.\n",
    "\n",
    "Example 2:\n",
    "\n",
    "Input: original = [1,2,3], m = 1, n = 3\n",
    "Output: [[1,2,3]]\n",
    "Explanation: The constructed 2D array should contain 1 row and 3 columns.\n",
    "Put all three elements in original into the first row of the constructed 2D array.\n",
    "\n",
    "Example 3:\n",
    "\n",
    "Input: original = [1,2], m = 1, n = 1\n",
    "Output: []\n",
    "Explanation: There are 2 elements in original.\n",
    "It is impossible to fit 2 elements in a 1x1 2D array, so return an empty 2D array.\n",
    "\n",
    "Constraints:\n",
    "\n",
    "    1 <= original.length <= 5 * 104\n",
    "    1 <= original[i] <= 105\n",
    "    1 <= m, n <= 4 * 104\n",
    "\n",
    "-------------------------------------\n",
    "\n",
    "give best time and space complexity code in rust,give variables usefull name, add comments to explain the code way more clear,also add code to run example case, use below typing\n",
    "\n",
    "==============\n",
    "\n",
    "class Solution:\n",
    "    def construct2DArray(self, original: List[int], m: int, n: int) -> List[List[int]]:\n",
    "        "
   ]
  },
  {
   "cell_type": "markdown",
   "metadata": {},
   "source": []
  },
  {
   "cell_type": "code",
   "execution_count": 7,
   "metadata": {},
   "outputs": [
    {
     "name": "stdout",
     "output_type": "stream",
     "text": [
      "[[1, 2, 3]]\n",
      "[[1, 2], [3, 4]]\n"
     ]
    }
   ],
   "source": [
    "from typing import List\n",
    "\n",
    "\n",
    "def conver2d_array(original: List[int], m: int, n: int):\n",
    "    if len(original) != (m * n):\n",
    "        return []\n",
    "    result = [[0] * n for _ in range(m)]\n",
    "    for i in range(0, m):\n",
    "        for j in range(0, n):\n",
    "            result[i][j] = original[i * n + j]\n",
    "    return result\n",
    "\n",
    "\n",
    "print(conver2d_array(original=[1, 2, 3], m=1, n=3))\n",
    "# i want output like [[1,2,3]]\n",
    "\n",
    "print(conver2d_array(original=[1, 2,3,4], m=2, n=2))\n",
    "# i want output like [[1,2,3]]"
   ]
  },
  {
   "cell_type": "code",
   "execution_count": 9,
   "metadata": {},
   "outputs": [
    {
     "name": "stdout",
     "output_type": "stream",
     "text": [
      "[[1, 2], [3, 4]]\n"
     ]
    }
   ],
   "source": [
    "from typing import List\n",
    "\n",
    "def construct2_d_array(original: List[int], m: int, n: int) -> List[List[int]]:\n",
    "    if len(original) != m * n:\n",
    "        return []\n",
    "    \n",
    "    # Create the 2D array by splitting the original list into chunks of size n\n",
    "    result = [original[i * n:(i + 1) * n] for i in range(m)]\n",
    "    \n",
    "    return result\n",
    "\n",
    "# Test cases\n",
    "print(construct2_d_array(original=[1, 2, 3, 4], m=2, n=2))\n",
    "# Output: [[1, 2], [3, 4]]\n",
    "\n",
    "# print(construct2_d_array(original=[1, 2, 3], m=1, n=3))\n",
    "# Output: [[1, 2, 3]]\n",
    "\n",
    "# print(construct2_d_array(original=[1, 2], m=2, n=2))\n",
    "# Output: []\n"
   ]
  },
  {
   "cell_type": "code",
   "execution_count": null,
   "metadata": {},
   "outputs": [],
   "source": []
  }
 ],
 "metadata": {
  "kernelspec": {
   "display_name": "moon",
   "language": "python",
   "name": "python3"
  },
  "language_info": {
   "codemirror_mode": {
    "name": "ipython",
    "version": 3
   },
   "file_extension": ".py",
   "mimetype": "text/x-python",
   "name": "python",
   "nbconvert_exporter": "python",
   "pygments_lexer": "ipython3",
   "version": "3.11.7"
  }
 },
 "nbformat": 4,
 "nbformat_minor": 2
}
