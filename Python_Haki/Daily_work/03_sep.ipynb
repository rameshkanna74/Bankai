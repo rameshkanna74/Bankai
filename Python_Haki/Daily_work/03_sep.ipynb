{
 "cells": [
  {
   "cell_type": "markdown",
   "metadata": {},
   "source": [
    "1945. Sum of Digits of String After Convert\n",
    "\n",
    "You are given a string s consisting of lowercase English letters, and an integer k.\n",
    "\n",
    "First, convert s into an integer by replacing each letter with its position in the alphabet (i.e., replace 'a' with 1, 'b' with 2, ..., 'z' with 26). Then, transform the integer by replacing it with the sum of its digits. Repeat the transform operation k times in total.\n",
    "\n",
    "For example, if s = \"zbax\" and k = 2, then the resulting integer would be 8 by the following operations:\n",
    "\n",
    "    Convert: \"zbax\" ➝ \"(26)(2)(1)(24)\" ➝ \"262124\" ➝ 262124\n",
    "    Transform #1: 262124 ➝ 2 + 6 + 2 + 1 + 2 + 4 ➝ 17\n",
    "    Transform #2: 17 ➝ 1 + 7 ➝ 8\n",
    "\n",
    "Return the resulting integer after performing the operations described above.\n",
    "\n",
    "Example 1:\n",
    "\n",
    "Input: s = \"iiii\", k = 1\n",
    "Output: 36\n",
    "Explanation: The operations are as follows:\n",
    "\n",
    "- Convert: \"iiii\" ➝ \"(9)(9)(9)(9)\" ➝ \"9999\" ➝ 9999\n",
    "- Transform #1: 9999 ➝ 9 + 9 + 9 + 9 ➝ 36\n",
    "  Thus the resulting integer is 36.\n",
    "\n",
    "Example 2:\n",
    "\n",
    "Input: s = \"leetcode\", k = 2\n",
    "Output: 6\n",
    "Explanation: The operations are as follows:\n",
    "\n",
    "- Convert: \"leetcode\" ➝ \"(12)(5)(5)(20)(3)(15)(4)(5)\" ➝ \"12552031545\" ➝ 12552031545\n",
    "- Transform #1: 12552031545 ➝ 1 + 2 + 5 + 5 + 2 + 0 + 3 + 1 + 5 + 4 + 5 ➝ 33\n",
    "- Transform #2: 33 ➝ 3 + 3 ➝ 6\n",
    "  Thus the resulting integer is 6.\n",
    "\n",
    "Example 3:\n",
    "\n",
    "Input: s = \"zbax\", k = 2\n",
    "Output: 8\n",
    "\n",
    "Constraints:\n",
    "\n",
    "    1 <= s.length <= 100\n",
    "    1 <= k <= 10\n",
    "    s consists of lowercase English letters.\n",
    "\n",
    "-------------------------------------\n",
    "\n",
    "give best time and space complexity code in rust,give variables usefull name, add comments to explain the code way more clear,also add code to run example case, use below typing\n",
    "==============\n",
    "impl Solution {\n",
    "    pub fn get_lucky(s: String, k: i32) -> i32 {\n",
    "        \n",
    "    }\n",
    "}"
   ]
  },
  {
   "cell_type": "markdown",
   "metadata": {},
   "source": [
    "Here's a well-optimized Rust solution for the problem with detailed comments, useful variable names, and example case execution. The code has the best time and space complexity suitable for this problem.\n",
    "\n",
    "```rust\n",
    "impl Solution {\n",
    "    pub fn get_lucky(s: String, k: i32) -> i32 {\n",
    "        // Step 1: Convert the string into its corresponding integer representation\n",
    "        let mut num_string = String::new();\n",
    "        for c in s.chars() {\n",
    "            let digit_value = (c as u8 - b'a' + 1).to_string();\n",
    "            num_string.push_str(&digit_value);\n",
    "        }\n",
    "\n",
    "        // Step 2: Apply the transformation operation k times\n",
    "        let mut current_number = num_string.chars().map(|c| c.to_digit(10).unwrap()).sum::<u32>();\n",
    "\n",
    "        for _ in 1..k {\n",
    "            current_number = current_number.to_string().chars().map(|c| c.to_digit(10).unwrap()).sum();\n",
    "        }\n",
    "\n",
    "        current_number as i32\n",
    "    }\n",
    "}\n",
    "\n",
    "// Example usage\n",
    "fn main() {\n",
    "    // Example case 1\n",
    "    let s1 = \"iiii\".to_string();\n",
    "    let k1 = 1;\n",
    "    let result1 = Solution::get_lucky(s1, k1);\n",
    "    println!(\"Result for example 1: {}\", result1); // Expected output: 36\n",
    "\n",
    "    // Example case 2\n",
    "    let s2 = \"leetcode\".to_string();\n",
    "    let k2 = 2;\n",
    "    let result2 = Solution::get_lucky(s2, k2);\n",
    "    println!(\"Result for example 2: {}\", result2); // Expected output: 6\n",
    "\n",
    "    // Example case 3\n",
    "    let s3 = \"zbax\".to_string();\n",
    "    let k3 = 2;\n",
    "    let result3 = Solution::get_lucky(s3, k3);\n",
    "    println!(\"Result for example 3: {}\", result3); // Expected output: 8\n",
    "}\n",
    "```\n",
    "\n",
    "### Explanation and Optimization\n",
    "\n",
    "1. **String Conversion**:\n",
    "\n",
    "   - We first convert each character in the input string `s` to its corresponding position in the alphabet. For example, 'a' becomes '1', 'b' becomes '2', and so on.\n",
    "   - This conversion is done by iterating through each character, calculating its position (`(c as u8 - b'a' + 1)`), and appending it to a string.\n",
    "\n",
    "2. **Transformation Process**:\n",
    "\n",
    "   - The string is then transformed into a number by summing its digits. This sum is repeated `k` times as per the problem statement.\n",
    "   - The sum of digits is computed using the `map` and `sum` functions, which are efficient for this purpose.\n",
    "\n",
    "3. **Efficiency**:\n",
    "   - The solution is optimized with a time complexity of \\(O(n)\\) for the initial conversion and \\(O(k \\times m)\\) for the transformations, where \\(m\\) is the number of digits.\n",
    "   - The space complexity is \\(O(1)\\) (excluding input storage) as we perform operations in place.\n",
    "\n",
    "### Example Case Execution:\n",
    "\n",
    "- The `main` function includes three examples with the expected outputs to demonstrate how the `get_lucky` function works.\n"
   ]
  },
  {
   "cell_type": "code",
   "execution_count": null,
   "metadata": {},
   "outputs": [],
   "source": [
    "# pub fn get_lucky(s: String, k: i32) -> i32 {\n",
    "#     // Step 1: Convert the string into its corresponding integer representation\n",
    "#     let mut num_string = String::new();\n",
    "#     for c in s.chars() {\n",
    "#         let digit_value = (c as u8 - b'a' + 1).to_string();\n",
    "#         num_string.push_str(&digit_value);\n",
    "#     }\n",
    "    \n",
    "#     // Step 2: Apply the transformation operation k times\n",
    "#     let mut current_number = num_string.chars().map(|c| c.to_digit(10).unwrap()).sum::<u32>();\n",
    "\n",
    "#     for _ in 1..k {\n",
    "#         current_number = current_number.to_string().chars().map(|c| c.to_digit(10).unwrap()).sum();\n",
    "#     }\n",
    "    \n",
    "#     current_number as i32\n",
    "# }\n",
    "\n",
    "# fn main() {\n",
    "#     // Example case 1\n",
    "#     let s1 = \"iiii\".to_string();\n",
    "#     let k1 = 1;\n",
    "#     let result1 = get_lucky(s1, k1);\n",
    "#     println!(\"Result for example 1: {}\", result1); // Expected output: 36\n",
    "\n",
    "#     // Example case 2\n",
    "#     let s2 = \"leetcode\".to_string();\n",
    "#     let k2 = 2;\n",
    "#     let result2 = get_lucky(s2, k2);\n",
    "#     println!(\"Result for example 2: {}\", result2); // Expected output: 6\n",
    "\n",
    "#     // Example case 3\n",
    "#     let s3 = \"zbax\".to_string();\n",
    "#     let k3 = 2;\n",
    "#     let result3 = get_lucky(s3, k3);\n",
    "#     println!(\"Result for example 3: {}\", result3); // Expected output: 8\n",
    "# }\n",
    "\n",
    "# main()"
   ]
  },
  {
   "cell_type": "code",
   "execution_count": 17,
   "metadata": {},
   "outputs": [
    {
     "name": "stdout",
     "output_type": "stream",
     "text": [
      "9999\n",
      "36\n",
      "Result for example 1: 36\n",
      "12552031545\n",
      "33\n",
      "Result for example 2: 6\n",
      "262124\n",
      "17\n",
      "Result for example 3: 8\n"
     ]
    }
   ],
   "source": [
    "def get_lucky(s: str, k: int) -> int:\n",
    "    # Step 1: Convert the string into its corresponding integer representation\n",
    "    num_string = ''.join(str(ord(c) - ord('a') + 1) for c in s)\n",
    "    print(num_string)\n",
    "    # Step 2: Apply the transformation operation k times\n",
    "    current_number = sum(int(digit) for digit in num_string)\n",
    "    print(current_number)\n",
    "    \n",
    "    for _ in range(1, k):\n",
    "        current_number = sum(int(digit) for digit in str(current_number))\n",
    "    \n",
    "    return current_number\n",
    "\n",
    "# Test cases\n",
    "if __name__ == \"__main__\":\n",
    "    # Example case 1\n",
    "    s1 = \"iiii\"\n",
    "    k1 = 1\n",
    "    result1 = get_lucky(s1, k1)\n",
    "    print(f\"Result for example 1: {result1}\")  # Expected output: 36\n",
    "\n",
    "    # Example case 2\n",
    "    s2 = \"leetcode\"\n",
    "    k2 = 2\n",
    "    result2 = get_lucky(s2, k2)\n",
    "    print(f\"Result for example 2: {result2}\")  # Expected output: 6\n",
    "\n",
    "    # Example case 3\n",
    "    s3 = \"zbax\"\n",
    "    k3 = 2\n",
    "    result3 = get_lucky(s3, k3)\n",
    "    print(f\"Result for example 3: {result3}\")  # Expected output: 8\n"
   ]
  },
  {
   "cell_type": "code",
   "execution_count": 13,
   "metadata": {},
   "outputs": [
    {
     "data": {
      "text/plain": [
       "'20'"
      ]
     },
     "execution_count": 13,
     "metadata": {},
     "output_type": "execute_result"
    }
   ],
   "source": [
    "a = \"\".join(str(ord(\"t\") - ord('a') + 1))\n",
    "a"
   ]
  },
  {
   "cell_type": "code",
   "execution_count": 10,
   "metadata": {},
   "outputs": [
    {
     "data": {
      "text/plain": [
       "98"
      ]
     },
     "execution_count": 10,
     "metadata": {},
     "output_type": "execute_result"
    }
   ],
   "source": [
    "ord('')"
   ]
  },
  {
   "cell_type": "code",
   "execution_count": null,
   "metadata": {},
   "outputs": [],
   "source": []
  }
 ],
 "metadata": {
  "kernelspec": {
   "display_name": "moon",
   "language": "python",
   "name": "python3"
  },
  "language_info": {
   "codemirror_mode": {
    "name": "ipython",
    "version": 3
   },
   "file_extension": ".py",
   "mimetype": "text/x-python",
   "name": "python",
   "nbconvert_exporter": "python",
   "pygments_lexer": "ipython3",
   "version": "3.11.7"
  }
 },
 "nbformat": 4,
 "nbformat_minor": 2
}
