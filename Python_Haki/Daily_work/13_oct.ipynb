{
 "cells": [
  {
   "cell_type": "code",
   "execution_count": 2,
   "metadata": {},
   "outputs": [
    {
     "name": "stdout",
     "output_type": "stream",
     "text": [
      "[20, 24]\n"
     ]
    }
   ],
   "source": [
    "import heapq\n",
    "\n",
    "class Solution:\n",
    "    def smallestRange(self, nums):\n",
    "        # Initialize the range, number of lists (k), and the maximum value\n",
    "        range_ = None\n",
    "        k = len(nums)\n",
    "        max_val = float('-inf')\n",
    "\n",
    "        # Create a min-heap\n",
    "        heap = []\n",
    "\n",
    "        # Populate the heap with the first element of each list\n",
    "        for idx, vec in enumerate(nums):\n",
    "            heapq.heappush(heap, (vec[0], idx, 0))\n",
    "            max_val = max(max_val, vec[0])\n",
    "\n",
    "        # While the heap contains elements from each list\n",
    "        while len(heap) == k:\n",
    "            min_val, list_index, element_index = heapq.heappop(heap)\n",
    "\n",
    "            # Calculate the current range\n",
    "            current_range = max_val - min_val\n",
    "            \n",
    "            # Update the smallest range if found\n",
    "            if range_ is None:\n",
    "                range_ = (min_val, max_val)\n",
    "            else:\n",
    "                start, end = range_\n",
    "                if current_range < end - start:\n",
    "                    range_ = (min_val, max_val)\n",
    "                elif current_range == end - start and min_val < start:\n",
    "                    range_ = (min_val, max_val)\n",
    "\n",
    "            # If there are more elements in the current list, push the next element\n",
    "            if element_index + 1 < len(nums[list_index]):\n",
    "                next_val = nums[list_index][element_index + 1]\n",
    "                heapq.heappush(heap, (next_val, list_index, element_index + 1))\n",
    "                max_val = max(max_val, next_val)\n",
    "            else:\n",
    "                # If we reach the end of any list, we can't continue\n",
    "                break\n",
    "\n",
    "        # Return the smallest range found, or an empty list if none\n",
    "        return list(range_) if range_ else []\n",
    "\n",
    "# Example usage\n",
    "if __name__ == \"__main__\":\n",
    "    solution = Solution()\n",
    "    nums = [\n",
    "        [4, 10, 15, 24, 26],\n",
    "        [0, 9, 12, 20],\n",
    "        [5, 18, 22, 30],\n",
    "    ]\n",
    "    \n",
    "    result = solution.smallestRange(nums)\n",
    "    print(result)  # Output: [20, 24]\n"
   ]
  },
  {
   "cell_type": "code",
   "execution_count": null,
   "metadata": {},
   "outputs": [],
   "source": []
  }
 ],
 "metadata": {
  "kernelspec": {
   "display_name": "moon",
   "language": "python",
   "name": "python3"
  },
  "language_info": {
   "codemirror_mode": {
    "name": "ipython",
    "version": 3
   },
   "file_extension": ".py",
   "mimetype": "text/x-python",
   "name": "python",
   "nbconvert_exporter": "python",
   "pygments_lexer": "ipython3",
   "version": "3.11.7"
  }
 },
 "nbformat": 4,
 "nbformat_minor": 2
}
