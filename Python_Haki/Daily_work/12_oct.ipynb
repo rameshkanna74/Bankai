{
 "cells": [
  {
   "cell_type": "markdown",
   "metadata": {},
   "source": [
    "Here’s the Python version of the `min_groups` function, along with the code to run the example cases:\n",
    "\n",
    "```python\n",
    "class Solution:\n",
    "    def min_groups(self, intervals):\n",
    "        # Step 1: Collect start and end times into two separate lists\n",
    "        starts = []\n",
    "        ends = []\n",
    "\n",
    "        for interval in intervals:\n",
    "            starts.append(interval[0])  # Collect start times\n",
    "            ends.append(interval[1])      # Collect end times\n",
    "\n",
    "        # Step 2: Sort the starts and ends\n",
    "        starts.sort()  # Sort start times\n",
    "        ends.sort()    # Sort end times\n",
    "\n",
    "        total = 0      # To keep track of active intervals\n",
    "        max_total = 0  # To record the maximum active intervals at any time\n",
    "        start_idx = 0  # Index for traversing start times\n",
    "        end_idx = 0    # Index for traversing end times\n",
    "\n",
    "        # Step 3: Traverse through sorted starts and ends\n",
    "        while start_idx < len(intervals):\n",
    "            if starts[start_idx] <= ends[end_idx]:\n",
    "                # A new interval is starting before the current one ends\n",
    "                total += 1  # Increase active interval count\n",
    "                start_idx += 1  # Move to the next start\n",
    "                max_total = max(max_total, total)  # Update the maximum if needed\n",
    "            else:\n",
    "                # The current interval has ended\n",
    "                total -= 1  # Decrease active interval count\n",
    "                end_idx += 1  # Move to the next end\n",
    "\n",
    "        return max_total  # Return the maximum number of overlapping intervals\n",
    "\n",
    "# Example cases\n",
    "if __name__ == \"__main__\":\n",
    "    solution = Solution()\n",
    "\n",
    "    intervals1 = [[5, 10], [6, 8], [1, 5], [2, 3], [1, 10]]\n",
    "    result1 = solution.min_groups(intervals1)\n",
    "    print(\"Example 1 Result:\", result1)  # Expected output: 3\n",
    "\n",
    "    intervals2 = [[1, 3], [5, 6], [8, 10], [11, 13]]\n",
    "    result2 = solution.min_groups(intervals2)\n",
    "    print(\"Example 2 Result:\", result2)  # Expected output: 1\n",
    "```\n",
    "\n",
    "### Explanation:\n",
    "\n",
    "- The function processes the input intervals by separating their start and end points.\n",
    "- It sorts both lists and then iterates through them to count overlapping intervals, keeping track of the maximum overlap found.\n",
    "- The example cases are executed at the end, displaying the expected results.\n"
   ]
  },
  {
   "cell_type": "markdown",
   "metadata": {},
   "source": []
  }
 ],
 "metadata": {
  "language_info": {
   "name": "python"
  }
 },
 "nbformat": 4,
 "nbformat_minor": 2
}
