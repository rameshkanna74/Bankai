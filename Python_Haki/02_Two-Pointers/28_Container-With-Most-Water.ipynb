{
 "cells": [
  {
   "cell_type": "code",
   "execution_count": 5,
   "metadata": {},
   "outputs": [
    {
     "name": "stdout",
     "output_type": "stream",
     "text": [
      "The maximum area of water for example 2 is: 40\n"
     ]
    }
   ],
   "source": [
    "from typing import List\n",
    "\n",
    "\n",
    "def max_area(height: List[int]) -> int:\n",
    "    left = 0  # Pointer to the left end of the array\n",
    "    right = len(height) - 1  # Pointer to the right end of the array\n",
    "    max_area = 0  # To store the maximum area found\n",
    "\n",
    "    # Use two pointers technique to calculate the area\n",
    "    while left < right:\n",
    "        # Calculate the width and current area with the current left and right lines\n",
    "        width = right - left\n",
    "        current_area = width * min(height[left], height[right])\n",
    "\n",
    "        # Update max_area if the current area is larger\n",
    "        max_area = max(max_area, current_area)\n",
    "\n",
    "        # Move the pointer pointing to the shorter line inward\n",
    "        if height[left] < height[right]:\n",
    "            left += 1\n",
    "        else:\n",
    "            right -= 1\n",
    "\n",
    "    return max_area\n",
    "\n",
    "\n",
    "# Example usage\n",
    "if __name__ == \"__main__\":\n",
    "    # height1 = [1, 8, 6, 2, 5, 4, 8, 3, 7]\n",
    "    # result1 = max_area(height1)\n",
    "    # print(\n",
    "    #     f\"The maximum area of water for example 1 is: {result1}\"\n",
    "    # )  # Expected output: 49\n",
    "\n",
    "    height2 = [10, 2, 5, 6, 2, 8]\n",
    "    result2 = max_area(height2)\n",
    "    print(\n",
    "        f\"The maximum area of water for example 2 is: {result2}\"\n",
    "    )  # Expected output: 1"
   ]
  },
  {
   "cell_type": "code",
   "execution_count": null,
   "metadata": {},
   "outputs": [],
   "source": []
  }
 ],
 "metadata": {
  "kernelspec": {
   "display_name": "moon",
   "language": "python",
   "name": "python3"
  },
  "language_info": {
   "codemirror_mode": {
    "name": "ipython",
    "version": 3
   },
   "file_extension": ".py",
   "mimetype": "text/x-python",
   "name": "python",
   "nbconvert_exporter": "python",
   "pygments_lexer": "ipython3",
   "version": "3.11.7"
  }
 },
 "nbformat": 4,
 "nbformat_minor": 2
}
