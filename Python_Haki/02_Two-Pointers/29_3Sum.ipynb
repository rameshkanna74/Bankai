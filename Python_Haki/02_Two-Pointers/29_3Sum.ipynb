{
 "cells": [
  {
   "cell_type": "code",
   "execution_count": 1,
   "metadata": {},
   "outputs": [
    {
     "name": "stdout",
     "output_type": "stream",
     "text": [
      "Result for example 1: [[-1, -1, 2], [-1, 0, 1]]\n"
     ]
    }
   ],
   "source": [
    "def three_sum(nums):\n",
    "    \"\"\"\n",
    "    Finds all unique triplets in the array that sum to 0.\n",
    "\n",
    "    Args:\n",
    "        nums: A list of integers.\n",
    "\n",
    "    Returns:\n",
    "        A list of lists, where each inner list represents a triplet that sums to 0.\n",
    "    \"\"\"\n",
    "\n",
    "    result = []\n",
    "    n = len(nums)\n",
    "\n",
    "    # Sort the array to enable the two-pointer technique\n",
    "    nums.sort()\n",
    "\n",
    "    # Iterate over the array, looking for triplets that sum to zero\n",
    "    for i in range(n - 2):\n",
    "        # Skip duplicate elements to avoid duplicate triplets in the result\n",
    "        if i > 0 and nums[i] == nums[i - 1]:\n",
    "            continue\n",
    "\n",
    "        # Two-pointer approach to find pairs that sum with nums[i] to zero\n",
    "        left = i + 1\n",
    "        right = n - 1\n",
    "\n",
    "        while left < right:\n",
    "            sum = nums[i] + nums[left] + nums[right]\n",
    "\n",
    "            if sum == 0:\n",
    "                # Found a valid triplet\n",
    "                result.append([nums[i], nums[left], nums[right]])\n",
    "\n",
    "                # Move the left pointer to skip duplicates\n",
    "                while left < right and nums[left] == nums[left + 1]:\n",
    "                    left += 1\n",
    "                # Move the right pointer to skip duplicates\n",
    "                while left < right and nums[right] == nums[right - 1]:\n",
    "                    right -= 1\n",
    "\n",
    "                # Move both pointers inward after processing the current pair\n",
    "                left += 1\n",
    "                right -= 1\n",
    "            elif sum < 0:\n",
    "                # Increase the sum by moving the left pointer to the right\n",
    "                left += 1\n",
    "            else:\n",
    "                # Decrease the sum by moving the right pointer to the left\n",
    "                right -= 1\n",
    "\n",
    "    return result\n",
    "\n",
    "# Example cases\n",
    "nums1 = [-1, 0, 1, 2, -1, -4]\n",
    "result1 = three_sum(nums1)\n",
    "print(\"Result for example 1:\", result1)  # Expected output: [[-1, -1, 2], [-1, 0, 1]]\n",
    "\n",
    "# nums2 = [0, 1, 1]\n",
    "# result2 = three_sum(nums2)\n",
    "# print(\"Result for example 2:\", result2)  # Expected output: []\n",
    "\n",
    "# nums3 = [0, 0, 0]\n",
    "# result3 = three_sum(nums3)\n",
    "# print(\"Result for example 3:\", result3)  # Expected output: [[0, 0, 0]]"
   ]
  }
 ],
 "metadata": {
  "kernelspec": {
   "display_name": "moon",
   "language": "python",
   "name": "python3"
  },
  "language_info": {
   "codemirror_mode": {
    "name": "ipython",
    "version": 3
   },
   "file_extension": ".py",
   "mimetype": "text/x-python",
   "name": "python",
   "nbconvert_exporter": "python",
   "pygments_lexer": "ipython3",
   "version": "3.11.7"
  }
 },
 "nbformat": 4,
 "nbformat_minor": 2
}
