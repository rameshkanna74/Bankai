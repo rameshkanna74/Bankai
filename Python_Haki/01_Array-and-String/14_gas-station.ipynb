{
 "cells": [
  {
   "cell_type": "code",
   "execution_count": 1,
   "metadata": {},
   "outputs": [],
   "source": [
    "def canCompleteCircuit(gas, cost):\n",
    "    # Initialize total_tank and current_tank to 0\n",
    "    total_tank = 0\n",
    "    current_tank = 0\n",
    "    start_station = 0\n",
    "\n",
    "    # Traverse all stations\n",
    "    for i in range(len(gas)):\n",
    "        # Calculate the net gas remaining at this station\n",
    "        total_tank += gas[i] - cost[i]\n",
    "        current_tank += gas[i] - cost[i]\n",
    "\n",
    "        # If current_tank is negative, we can't start from the current start_station\n",
    "        if current_tank < 0:\n",
    "            # We move the start_station to the next station\n",
    "            start_station = i + 1\n",
    "            # Reset current_tank for the new starting station\n",
    "            current_tank = 0\n",
    "\n",
    "    # If the total_tank is non-negative, we can complete the circuit starting from start_station\n",
    "    # Otherwise, return -1\n",
    "    return start_station if total_tank >= 0 else -1"
   ]
  },
  {
   "cell_type": "code",
   "execution_count": 2,
   "metadata": {},
   "outputs": [
    {
     "name": "stdout",
     "output_type": "stream",
     "text": [
      "Input: gas = [1, 2, 3, 4, 5], cost = [3, 4, 5, 1, 2]\n",
      "Output: 3\n",
      "Input: gas = [2, 3, 4], cost = [3, 4, 3]\n",
      "Output: -1\n"
     ]
    }
   ],
   "source": [
    "# Example cases:\n",
    "gas1 = [1, 2, 3, 4, 5]\n",
    "cost1 = [3, 4, 5, 1, 2]\n",
    "gas2 = [2, 3, 4]\n",
    "cost2 = [3, 4, 3]\n",
    "\n",
    "# Run the examples\n",
    "output1 = canCompleteCircuit(gas1, cost1)\n",
    "output2 = canCompleteCircuit(gas2, cost2)\n",
    "\n",
    "print(f\"Input: gas = {gas1}, cost = {cost1}\\nOutput: {output1}\")  # Expected: 3\n",
    "print(f\"Input: gas = {gas2}, cost = {cost2}\\nOutput: {output2}\")  # Expected: -1"
   ]
  },
  {
   "cell_type": "markdown",
   "metadata": {},
   "source": [
    "Here's a Python solution to solve the problem using O(n) time complexity and O(1) space complexity:\n",
    "\n",
    "```python\n",
    "def canCompleteCircuit(gas, cost):\n",
    "    # Initialize total_tank and current_tank to 0\n",
    "    total_tank = 0\n",
    "    current_tank = 0\n",
    "    start_station = 0\n",
    "\n",
    "    # Traverse all stations\n",
    "    for i in range(len(gas)):\n",
    "        # Calculate the net gas remaining at this station\n",
    "        total_tank += gas[i] - cost[i]\n",
    "        current_tank += gas[i] - cost[i]\n",
    "\n",
    "        # If current_tank is negative, we can't start from the current start_station\n",
    "        if current_tank < 0:\n",
    "            # We move the start_station to the next station\n",
    "            start_station = i + 1\n",
    "            # Reset current_tank for the new starting station\n",
    "            current_tank = 0\n",
    "\n",
    "    # If the total_tank is non-negative, we can complete the circuit starting from start_station\n",
    "    # Otherwise, return -1\n",
    "    return start_station if total_tank >= 0 else -1\n",
    "\n",
    "# Example cases:\n",
    "gas1 = [1, 2, 3, 4, 5]\n",
    "cost1 = [3, 4, 5, 1, 2]\n",
    "gas2 = [2, 3, 4]\n",
    "cost2 = [3, 4, 3]\n",
    "\n",
    "# Run the examples\n",
    "output1 = canCompleteCircuit(gas1, cost1)\n",
    "output2 = canCompleteCircuit(gas2, cost2)\n",
    "\n",
    "print(f\"Input: gas = {gas1}, cost = {cost1}\\nOutput: {output1}\")  # Expected: 3\n",
    "print(f\"Input: gas = {gas2}, cost = {cost2}\\nOutput: {output2}\")  # Expected: -1\n",
    "```\n",
    "\n",
    "### Explanation:\n",
    "\n",
    "1. **Initialization**:\n",
    "\n",
    "   - We start by initializing `total_tank` and `current_tank` to 0. `total_tank` keeps track of the overall gas balance, and `current_tank` tracks the gas balance starting from the current potential starting station.\n",
    "   - `start_station` is initialized to 0, which is our starting index candidate.\n",
    "\n",
    "2. **Traversing the Stations**:\n",
    "\n",
    "   - For each station `i`, we calculate the net gas remaining after considering the gas available at the station and the gas required to move to the next station. This is done by `total_tank += gas[i] - cost[i]` and `current_tank += gas[i] - cost[i]`.\n",
    "   - If `current_tank` becomes negative, it means the car cannot move forward starting from the current `start_station`, so we update `start_station` to `i + 1` and reset `current_tank` to 0.\n",
    "\n",
    "3. **Final Decision**:\n",
    "   - If the `total_tank` is non-negative after the loop, the circuit can be completed starting from `start_station`. If `total_tank` is negative, it's impossible to complete the circuit, so we return `-1`.\n",
    "\n",
    "### Time and Space Complexity:\n",
    "\n",
    "- **Time Complexity**: O(n) because we only make one pass through the gas and cost arrays.\n",
    "- **Space Complexity**: O(1) as we are using a constant amount of extra space.\n",
    "\n",
    "### Example Run:\n",
    "\n",
    "- For `gas = [1, 2, 3, 4, 5]` and `cost = [3, 4, 5, 1, 2]`, the function returns `3` because starting from station 3 allows you to complete the circuit.\n",
    "- For `gas = [2, 3, 4]` and `cost = [3, 4, 3]`, the function returns `-1` because no starting point allows you to complete the circuit.\n",
    "\n",
    "This implementation is optimal for the problem, meeting the constraints effectively.\n"
   ]
  },
  {
   "cell_type": "code",
   "execution_count": null,
   "metadata": {},
   "outputs": [],
   "source": []
  }
 ],
 "metadata": {
  "kernelspec": {
   "display_name": "moon",
   "language": "python",
   "name": "python3"
  },
  "language_info": {
   "codemirror_mode": {
    "name": "ipython",
    "version": 3
   },
   "file_extension": ".py",
   "mimetype": "text/x-python",
   "name": "python",
   "nbconvert_exporter": "python",
   "pygments_lexer": "ipython3",
   "version": "3.11.7"
  }
 },
 "nbformat": 4,
 "nbformat_minor": 2
}
