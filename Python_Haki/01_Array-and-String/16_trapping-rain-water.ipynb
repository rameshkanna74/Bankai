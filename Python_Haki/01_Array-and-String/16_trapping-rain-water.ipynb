{
 "cells": [
  {
   "cell_type": "code",
   "execution_count": 1,
   "metadata": {},
   "outputs": [
    {
     "name": "stdout",
     "output_type": "stream",
     "text": [
      "Input: height = [0, 1, 0, 2, 1, 0, 1, 3, 2, 1, 2, 1]\n",
      "Output: 6\n",
      "Input: height = [4, 2, 0, 3, 2, 5]\n",
      "Output: 9\n"
     ]
    }
   ],
   "source": [
    "def trap(height):\n",
    "    if not height:\n",
    "        return 0\n",
    "\n",
    "    left, right = 0, len(height) - 1\n",
    "    left_max, right_max = height[left], height[right]\n",
    "    water_trapped = 0\n",
    "\n",
    "    while left < right:\n",
    "        if left_max < right_max:\n",
    "            left += 1\n",
    "            left_max = max(left_max, height[left])\n",
    "            water_trapped += max(0, left_max - height[left])\n",
    "        else:\n",
    "            right -= 1\n",
    "            right_max = max(right_max, height[right])\n",
    "            water_trapped += max(0, right_max - height[right])\n",
    "\n",
    "    return water_trapped\n",
    "    \n",
    "# Example cases\n",
    "height1 = [0, 1, 0, 2, 1, 0, 1, 3, 2, 1, 2, 1]\n",
    "height2 = [4, 2, 0, 3, 2, 5]\n",
    "\n",
    "# Run the examples\n",
    "output1 = trap(height1)\n",
    "output2 = trap(height2)\n",
    "\n",
    "print(f\"Input: height = {height1}\\nOutput: {output1}\")  # Expected: 6\n",
    "print(f\"Input: height = {height2}\\nOutput: {output2}\")  # Expected: 9"
   ]
  },
  {
   "cell_type": "code",
   "execution_count": 2,
   "metadata": {},
   "outputs": [
    {
     "name": "stdout",
     "output_type": "stream",
     "text": [
      "Input: height = [0, 1, 0, 2, 1, 0, 1, 3, 2, 1, 2, 1]\n",
      "Output: 6\n",
      "Input: height = [4, 2, 0, 3, 2, 5]\n",
      "Output: 9\n"
     ]
    }
   ],
   "source": []
  },
  {
   "cell_type": "markdown",
   "metadata": {},
   "source": [
    "To solve the problem of finding out how much water can be trapped between the bars of an elevation map after it rains, we can use a two-pointer approach, which is efficient in both time and space complexity.\n",
    "\n",
    "### Approach:\n",
    "\n",
    "1. **Initialize pointers and variables**:\n",
    "   - Use two pointers, `left` and `right`, initialized to the beginning and end of the array.\n",
    "   - Track the maximum heights encountered from both the left (`left_max`) and the right (`right_max`).\n",
    "   - Accumulate the trapped water using a variable `water_trapped`.\n",
    "\n",
    "2. **Two-pointer traversal**:\n",
    "   - Move the `left` pointer to the right and the `right` pointer to the left based on the comparison of `left_max` and `right_max`.\n",
    "   - At each step, determine the water trapped at the current index by comparing the current height with the `left_max` or `right_max`.\n",
    "   - Accumulate the difference between the `left_max` (or `right_max`) and the current height into `water_trapped`.\n",
    "\n",
    "3. **Continue until the pointers meet**:\n",
    "   - The process continues until the `left` and `right` pointers meet, which means all possible positions have been evaluated.\n",
    "\n",
    "### Code Implementation:\n",
    "\n",
    "```python\n",
    "def trap(height):\n",
    "    if not height:\n",
    "        return 0\n",
    "\n",
    "    left, right = 0, len(height) - 1\n",
    "    left_max, right_max = height[left], height[right]\n",
    "    water_trapped = 0\n",
    "\n",
    "    while left < right:\n",
    "        if left_max < right_max:\n",
    "            left += 1\n",
    "            left_max = max(left_max, height[left])\n",
    "            water_trapped += max(0, left_max - height[left])\n",
    "        else:\n",
    "            right -= 1\n",
    "            right_max = max(right_max, height[right])\n",
    "            water_trapped += max(0, right_max - height[right])\n",
    "\n",
    "    return water_trapped\n",
    "\n",
    "# Example cases\n",
    "height1 = [0,1,0,2,1,0,1,3,2,1,2,1]\n",
    "height2 = [4,2,0,3,2,5]\n",
    "\n",
    "# Run the examples\n",
    "output1 = trap(height1)\n",
    "output2 = trap(height2)\n",
    "\n",
    "print(f\"Input: height = {height1}\\nOutput: {output1}\")  # Expected: 6\n",
    "print(f\"Input: height = {height2}\\nOutput: {output2}\")  # Expected: 9\n",
    "```\n",
    "\n",
    "### Explanation:\n",
    "\n",
    "- **Initialization**: \n",
    "  - `left` and `right` pointers start at the beginning and end of the array, respectively. \n",
    "  - `left_max` and `right_max` keep track of the maximum heights seen so far from both sides.\n",
    "\n",
    "- **Two-pointer Logic**:\n",
    "  - If `left_max` is smaller than `right_max`, it means the current potential for trapping water is determined by `left_max`. Move the `left` pointer and update the trapped water.\n",
    "  - If `right_max` is smaller or equal, the potential is determined by `right_max`. Move the `right` pointer and update the trapped water.\n",
    "\n",
    "- **Termination**:\n",
    "  - The loop ends when the `left` and `right` pointers meet, indicating all positions have been evaluated for potential water trapping.\n",
    "\n",
    "### Time and Space Complexity:\n",
    "\n",
    "- **Time Complexity**: O(n), where n is the number of bars in the elevation map. The array is traversed once.\n",
    "- **Space Complexity**: O(1), as we are using a constant amount of extra space for the pointers and variables.\n",
    "\n",
    "This method efficiently calculates the amount of trapped water by considering the elevation map's shape from both ends simultaneously."
   ]
  },
  {
   "cell_type": "code",
   "execution_count": null,
   "metadata": {},
   "outputs": [],
   "source": []
  },
  {
   "cell_type": "code",
   "execution_count": null,
   "metadata": {},
   "outputs": [],
   "source": []
  }
 ],
 "metadata": {
  "kernelspec": {
   "display_name": "moon",
   "language": "python",
   "name": "python3"
  },
  "language_info": {
   "codemirror_mode": {
    "name": "ipython",
    "version": 3
   },
   "file_extension": ".py",
   "mimetype": "text/x-python",
   "name": "python",
   "nbconvert_exporter": "python",
   "pygments_lexer": "ipython3",
   "version": "3.11.7"
  }
 },
 "nbformat": 4,
 "nbformat_minor": 2
}
