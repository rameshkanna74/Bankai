{
 "cells": [
  {
   "cell_type": "code",
   "execution_count": 1,
   "metadata": {},
   "outputs": [],
   "source": [
    "def candy(ratings):\n",
    "    n = len(ratings)\n",
    "    candies = [1] * n  # Step 1: Initialize each child with 1 candy\n",
    "\n",
    "    # Step 2: Left-to-right pass\n",
    "    for i in range(1, n):\n",
    "        if ratings[i] > ratings[i - 1]:\n",
    "            candies[i] = candies[i - 1] + 1\n",
    "\n",
    "    # Step 3: Right-to-left pass\n",
    "    for i in range(n - 2, -1, -1):\n",
    "        if ratings[i] > ratings[i + 1]:\n",
    "            candies[i] = max(candies[i], candies[i + 1] + 1)\n",
    "\n",
    "    # Step 4: Sum up the candies\n",
    "    return sum(candies)"
   ]
  },
  {
   "cell_type": "code",
   "execution_count": 2,
   "metadata": {},
   "outputs": [
    {
     "name": "stdout",
     "output_type": "stream",
     "text": [
      "Input: ratings = [1, 0, 2]\n",
      "Output: 5\n",
      "Input: ratings = [1, 2, 2]\n",
      "Output: 4\n"
     ]
    }
   ],
   "source": [
    "# Example cases\n",
    "ratings1 = [1, 0, 2]\n",
    "ratings2 = [1, 2, 2]\n",
    "\n",
    "# Run the examples\n",
    "output1 = candy(ratings1)\n",
    "output2 = candy(ratings2)\n",
    "\n",
    "print(f\"Input: ratings = {ratings1}\\nOutput: {output1}\")  # Expected: 5\n",
    "print(f\"Input: ratings = {ratings2}\\nOutput: {output2}\")  # Expected: 4"
   ]
  },
  {
   "cell_type": "markdown",
   "metadata": {},
   "source": [
    "To solve the problem of distributing the minimum number of candies to children based on their ratings, we'll use a two-pass approach. We'll make sure that:\n",
    "\n",
    "1. Each child gets at least one candy.\n",
    "2. Children with higher ratings than their neighbors get more candies.\n",
    "\n",
    "### Approach:\n",
    "\n",
    "1. **Initialize the candies array**:\n",
    "   - Start by giving each child 1 candy.\n",
    "\n",
    "2. **Left-to-right pass**:\n",
    "   - Traverse the array from left to right. If a child has a higher rating than the previous child, give them one more candy than the previous child.\n",
    "\n",
    "3. **Right-to-left pass**:\n",
    "   - Traverse the array from right to left. If a child has a higher rating than the next child and doesn't already have more candies, adjust the candies to ensure the child has more candies than the next child.\n",
    "\n",
    "4. **Sum the candies**:\n",
    "   - Finally, sum up the candies array to get the minimum number of candies required.\n",
    "\n",
    "### Code Implementation:\n",
    "\n",
    "```python\n",
    "def candy(ratings):\n",
    "    n = len(ratings)\n",
    "    candies = [1] * n  # Step 1: Initialize each child with 1 candy\n",
    "\n",
    "    # Step 2: Left-to-right pass\n",
    "    for i in range(1, n):\n",
    "        if ratings[i] > ratings[i - 1]:\n",
    "            candies[i] = candies[i - 1] + 1\n",
    "\n",
    "    # Step 3: Right-to-left pass\n",
    "    for i in range(n - 2, -1, -1):\n",
    "        if ratings[i] > ratings[i + 1]:\n",
    "            candies[i] = max(candies[i], candies[i + 1] + 1)\n",
    "\n",
    "    # Step 4: Sum up the candies\n",
    "    return sum(candies)\n",
    "\n",
    "# Example cases\n",
    "ratings1 = [1, 0, 2]\n",
    "ratings2 = [1, 2, 2]\n",
    "\n",
    "# Run the examples\n",
    "output1 = candy(ratings1)\n",
    "output2 = candy(ratings2)\n",
    "\n",
    "print(f\"Input: ratings = {ratings1}\\nOutput: {output1}\")  # Expected: 5\n",
    "print(f\"Input: ratings = {ratings2}\\nOutput: {output2}\")  # Expected: 4\n",
    "```\n",
    "\n",
    "### Explanation:\n",
    "\n",
    "- **Initialization**: \n",
    "  - We first give each child 1 candy.\n",
    "\n",
    "- **First Pass (Left-to-right)**:\n",
    "  - For each child, if their rating is higher than the previous child's rating, we give them one more candy than the previous child.\n",
    "\n",
    "- **Second Pass (Right-to-left)**:\n",
    "  - We ensure that the child has more candies than the next child if they have a higher rating, while keeping the maximum candies calculated so far.\n",
    "\n",
    "- **Summing Up**:\n",
    "  - The final step is simply summing the values in the `candies` array to get the minimum number of candies required.\n",
    "\n",
    "### Time and Space Complexity:\n",
    "\n",
    "- **Time Complexity**: O(n), where n is the number of children. We perform two passes through the ratings array.\n",
    "- **Space Complexity**: O(n) for storing the candies array.\n",
    "\n",
    "This approach efficiently distributes candies while satisfying the given conditions and ensures that the solution is optimal."
   ]
  },
  {
   "cell_type": "code",
   "execution_count": null,
   "metadata": {},
   "outputs": [],
   "source": []
  }
 ],
 "metadata": {
  "kernelspec": {
   "display_name": "moon",
   "language": "python",
   "name": "python3"
  },
  "language_info": {
   "codemirror_mode": {
    "name": "ipython",
    "version": 3
   },
   "file_extension": ".py",
   "mimetype": "text/x-python",
   "name": "python",
   "nbconvert_exporter": "python",
   "pygments_lexer": "ipython3",
   "version": "3.11.7"
  }
 },
 "nbformat": 4,
 "nbformat_minor": 2
}
