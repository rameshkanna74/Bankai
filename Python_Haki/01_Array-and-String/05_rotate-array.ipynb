{
 "cells": [
  {
   "cell_type": "code",
   "execution_count": 5,
   "metadata": {},
   "outputs": [],
   "source": [
    "def rotate_array(nums, k):\n",
    "    # Normalize k to ensure it's within the bounds of the array length\n",
    "    k %= len(nums)\n",
    "\n",
    "    # Step 1: Reverse the entire array\n",
    "    reverse(nums, 0, len(nums) - 1)\n",
    "\n",
    "    # Step 2: Reverse the first k elements\n",
    "    reverse(nums, 0, k - 1)\n",
    "\n",
    "    # Step 3: Reverse the remaining elements\n",
    "    reverse(nums, k, len(nums) - 1)\n",
    "\n",
    "\n",
    "def reverse(nums, start, end):\n",
    "    # Helper function to reverse elements in the array between start and end indices\n",
    "    while start < end:\n",
    "        nums[start], nums[end] = nums[end], nums[start]\n",
    "        start += 1\n",
    "        end -= 1"
   ]
  },
  {
   "cell_type": "code",
   "execution_count": 6,
   "metadata": {},
   "outputs": [],
   "source": [
    "nums = [1, 2, 3, 4, 5, 6, 7]\n",
    "k = 3\n",
    "rotate_array(nums, k)"
   ]
  },
  {
   "cell_type": "code",
   "execution_count": 7,
   "metadata": {},
   "outputs": [
    {
     "name": "stdout",
     "output_type": "stream",
     "text": [
      "nums after rotate_array: [5, 6, 7, 1, 2, 3, 4]\n"
     ]
    }
   ],
   "source": [
    "print(\"nums after rotate_array:\", nums)"
   ]
  },
  {
   "cell_type": "markdown",
   "metadata": {},
   "source": [
    "To solve the problem of rotating the array to the right by `k` steps with O(1) space complexity, we can use a combination of reversing parts of the array. This approach is efficient and works in-place.\n",
    "\n",
    "### Code:\n",
    "```python\n",
    "def rotate_array(nums, k):\n",
    "    # Normalize k to ensure it's within the bounds of the array length\n",
    "    k %= len(nums)\n",
    "    \n",
    "    # Step 1: Reverse the entire array\n",
    "    reverse(nums, 0, len(nums) - 1)\n",
    "    \n",
    "    # Step 2: Reverse the first k elements\n",
    "    reverse(nums, 0, k - 1)\n",
    "    \n",
    "    # Step 3: Reverse the remaining elements\n",
    "    reverse(nums, k, len(nums) - 1)\n",
    "\n",
    "def reverse(nums, start, end):\n",
    "    # Helper function to reverse elements in the array between start and end indices\n",
    "    while start < end:\n",
    "        nums[start], nums[end] = nums[end], nums[start]\n",
    "        start += 1\n",
    "        end -= 1\n",
    "```\n",
    "\n",
    "### Explanation:\n",
    "- **Time Complexity**: O(n), where `n` is the length of the array `nums`. We reverse the array three times, but each reverse operation is linear.\n",
    "- **Space Complexity**: O(1). The rotation is done in-place, so no extra space is used apart from a few variables.\n",
    "\n",
    "### How it Works:\n",
    "1. **Normalization**: \n",
    "   - The rotation value `k` is normalized using `k %= len(nums)` to handle cases where `k` is greater than the length of the array. This way, rotating the array `n` times is the same as not rotating it at all.\n",
    "\n",
    "2. **Reverse the Entire Array**:\n",
    "   - By reversing the entire array, the elements that need to be rotated to the front are now at the back, but in reverse order.\n",
    "\n",
    "3. **Reverse the First `k` Elements**:\n",
    "   - Reversing the first `k` elements places them in the correct order at the beginning of the array.\n",
    "\n",
    "4. **Reverse the Remaining Elements**:\n",
    "   - Finally, the remaining elements (from index `k` to the end) are reversed to restore their original order but after the rotation.\n",
    "\n",
    "This method efficiently rotates the array in-place with minimal space usage, achieving the desired result with the best time and space complexity."
   ]
  },
  {
   "cell_type": "code",
   "execution_count": null,
   "metadata": {},
   "outputs": [],
   "source": []
  }
 ],
 "metadata": {
  "kernelspec": {
   "display_name": "moon",
   "language": "python",
   "name": "python3"
  },
  "language_info": {
   "codemirror_mode": {
    "name": "ipython",
    "version": 3
   },
   "file_extension": ".py",
   "mimetype": "text/x-python",
   "name": "python",
   "nbconvert_exporter": "python",
   "pygments_lexer": "ipython3",
   "version": "3.11.7"
  }
 },
 "nbformat": 4,
 "nbformat_minor": 2
}
