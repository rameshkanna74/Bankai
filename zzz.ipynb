{
 "cells": [
  {
   "cell_type": "code",
   "execution_count": 7,
   "metadata": {},
   "outputs": [
    {
     "name": "stdout",
     "output_type": "stream",
     "text": [
      "Output 1: Array;Dynamic Programming;Product of Array Except Self\n",
      "Output 2: array;dynamic-programming;product-of-array-except-self\n"
     ]
    }
   ],
   "source": [
    "def process_list(input_list):\n",
    "    # Output 1: Join the strings with a semicolon\n",
    "    output1 = ';'.join(input_list)\n",
    "\n",
    "    # Output 2: Convert to lowercase and replace spaces with hyphens\n",
    "    output2 = ';'.join(item.lower().replace(' ', '-') for item in input_list)\n",
    "\n",
    "    return output1, output2\n",
    "\n",
    "# Input\n",
    "input_data = [\"Array\", \"Hash Table\", \"Divide and Conquer\", \"Sorting Counting\"]\n",
    "input_data = [\"Array\",\"Two Pointers\"]\n",
    "input_data = [\"Array\", \"Math\" ,\"Two Pointers\"]\n",
    "input_data = [\"Array\", \"Dynamic Programming\",\"Product of Array Except Self\"]\n",
    "\n",
    "\n",
    "# Process the input\n",
    "output1, output2 = process_list(input_data)\n",
    "\n",
    "# Print the results\n",
    "print(\"Output 1:\", output1)\n",
    "print(\"Output 2:\", output2)\n"
   ]
  },
  {
   "cell_type": "markdown",
   "metadata": {},
   "source": [
    "<pre><code>\n",
    "\n",
    "</code></pre>"
   ]
  },
  {
   "cell_type": "markdown",
   "metadata": {},
   "source": [
    "thani oruvan,\n",
    "mangatha,\n",
    "saturanga vettai,\n",
    "ayutha ezuthu,\n",
    "shivaji the boss,\n",
    "\n",
    "mentalist,suits,Reacher,Start-Up\n",
    "\n",
    "Guys for watching these anime \n",
    "1.Capeta\n",
    "2.Hajime no ippo\n",
    "3.Naruto\n",
    "4.Detective Conan\n",
    "5.Classroom of the Elite"
   ]
  },
  {
   "cell_type": "code",
   "execution_count": 22,
   "metadata": {},
   "outputs": [
    {
     "name": "stdout",
     "output_type": "stream",
     "text": [
      "[0, 4]\n",
      "[0, 2]\n",
      "[1, 2]\n",
      "[0, 1]\n",
      "[]\n",
      "[]\n"
     ]
    }
   ],
   "source": [
    "from typing import List\n",
    "\n",
    "\n",
    "def two_sum(nums: List[int], target: int) -> List[int]:\n",
    "    index_of_nums = {}\n",
    "    for i, num in enumerate(nums):\n",
    "        complement = target - num\n",
    "        if complement in index_of_nums:\n",
    "            return [index_of_nums[complement], i]\n",
    "        index_of_nums[num] = i\n",
    "    return []\n",
    "\n",
    "\n",
    "print(two_sum([2, 5, 6, 1, 7], 9))  # [0, 4]\n",
    "print(two_sum([-2, 7, 11, 15], 9))  # [0, 1]\n",
    "print(two_sum([3, 2, 4], 6))  # [1, 2]\n",
    "print(two_sum([3, 3], 6))  # [0, 1]\n",
    "print(two_sum([1], 2))  # []\n",
    "print(two_sum([], 2))  # []"
   ]
  },
  {
   "cell_type": "code",
   "execution_count": 23,
   "metadata": {},
   "outputs": [
    {
     "name": "stdout",
     "output_type": "stream",
     "text": [
      "True\n",
      "True\n",
      "False\n",
      "True\n"
     ]
    }
   ],
   "source": [
    "from typing import List\n",
    "\n",
    "\n",
    "def contains_duplicate(nums: List[int]) -> bool:\n",
    "    num_set = set()\n",
    "    for i in nums:\n",
    "        if i in num_set:\n",
    "            return True\n",
    "        num_set.add(i)\n",
    "    return False\n",
    "\n",
    "\n",
    "print(contains_duplicate(nums=[2, 5, 6, 1, 7, 0, 0]))  # True\n",
    "print(contains_duplicate(nums=[-1, -5, -8, -9, -5]))  # True\n",
    "print(contains_duplicate(nums=[]))  # False\n",
    "print(contains_duplicate(nums=[\"air\", \"water\", \"earth\", \"fire\", \"air\"]))  # True"
   ]
  },
  {
   "cell_type": "code",
   "execution_count": 10,
   "metadata": {},
   "outputs": [
    {
     "name": "stdout",
     "output_type": "stream",
     "text": [
      "True\n",
      "False\n",
      "True\n"
     ]
    }
   ],
   "source": [
    "def valid_anagram(s: str, t: str) -> bool:\n",
    "    if len(s) != len(t):\n",
    "        return False\n",
    "    count_s, count_t = {}, {}\n",
    "    for i in range(len(s)):\n",
    "        count_s[s[i]] = 1 + count_s.get(s[i], 0)\n",
    "        count_t[t[i]] = 1 + count_t.get(t[i], 0)\n",
    "    return count_s == count_t\n",
    "\n",
    "\n",
    "print(valid_anagram(\"tar\", \"rat\"))\n",
    "print(valid_anagram(\"tar\", \"mat\"))\n",
    "print(valid_anagram(\"***@#$\", \"*$#@**\"))"
   ]
  },
  {
   "cell_type": "code",
   "execution_count": 18,
   "metadata": {},
   "outputs": [
    {
     "name": "stdout",
     "output_type": "stream",
     "text": [
      "True\n",
      "False\n",
      "True\n"
     ]
    }
   ],
   "source": [
    "def valid_anagram(s: str, t: str) -> bool:\n",
    "    if len(s) != len(t):\n",
    "        return False\n",
    "    count = {}\n",
    "    for i in range(len(s)):\n",
    "        count[s[i]] = count.get(s[i], 0) + 1\n",
    "        count[t[i]] = count.get(t[i], 0) - 1\n",
    "\n",
    "    for value in count.values():\n",
    "        if value != 0:\n",
    "            return False\n",
    "    return True\n",
    "\n",
    "\n",
    "print(valid_anagram(\"tar\", \"rat\"))\n",
    "print(valid_anagram(\"tar\", \"mat\"))\n",
    "print(valid_anagram(\"***@#$\", \"*$#@**\"))"
   ]
  },
  {
   "cell_type": "code",
   "execution_count": 17,
   "metadata": {},
   "outputs": [
    {
     "name": "stdout",
     "output_type": "stream",
     "text": [
      "True\n",
      "False\n",
      "True\n"
     ]
    }
   ],
   "source": [
    "from collections import Counter, defaultdict\n",
    "\n",
    "\n",
    "def valid_anagram(s: str, t: str) -> bool:\n",
    "    return Counter(s) == Counter(t)\n",
    "\n",
    "\n",
    "print(valid_anagram(\"tar\", \"rat\"))  # Output: True\n",
    "print(valid_anagram(\"tar\", \"mat\"))  # Output: False\n",
    "print(valid_anagram(\"***@#$\", \"*$#@**\"))  # Output: True"
   ]
  },
  {
   "cell_type": "code",
   "execution_count": 22,
   "metadata": {},
   "outputs": [
    {
     "name": "stdout",
     "output_type": "stream",
     "text": [
      "Original array:\n",
      "38 27 43 3 9 82 10 \n",
      "less pivot [3, 9]\n",
      "great pivot [38, 27, 43, 82]\n",
      "less pivot [3]\n",
      "great pivot []\n",
      "less pivot [38, 27, 43]\n",
      "great pivot []\n",
      "less pivot [38, 27]\n",
      "great pivot []\n",
      "less pivot []\n",
      "great pivot [38]\n",
      "\n",
      "Sorted array:\n",
      "3 9 10 27 38 43 82 \n"
     ]
    }
   ],
   "source": [
    "def quick_sort(arr):\n",
    "    # Base case: if the array is empty or contains a single element, it's already sorted\n",
    "    if len(arr) <= 1:\n",
    "        return arr\n",
    "    else:\n",
    "        # Select the pivot element (here, we choose the last element as the pivot)\n",
    "        pivot = arr[-1]\n",
    "\n",
    "        # Partition the array into two sub-arrays\n",
    "        less_than_pivot = [x for x in arr[:-1] if x <= pivot]\n",
    "        print(\"less pivot\", less_than_pivot)\n",
    "        greater_than_pivot = [x for x in arr[:-1] if x > pivot]\n",
    "        print(\"great pivot\", greater_than_pivot)\n",
    "\n",
    "        # Recursively apply quick_sort to the sub-arrays and concatenate the results\n",
    "        return quick_sort(less_than_pivot) + [pivot] + quick_sort(greater_than_pivot)\n",
    "\n",
    "\n",
    "def print_list(arr):\n",
    "    for i in range(len(arr)):\n",
    "        print(arr[i], end=\" \")\n",
    "    print()\n",
    "\n",
    "\n",
    "# Example usage\n",
    "arr = [38, 27, 43, 3, 9, 82, 10]\n",
    "print(\"Original array:\")\n",
    "print_list(arr)\n",
    "\n",
    "sorted_arr = quick_sort(arr)\n",
    "\n",
    "print(\"\\nSorted array:\")\n",
    "print_list(sorted_arr)"
   ]
  },
  {
   "cell_type": "code",
   "execution_count": 16,
   "metadata": {},
   "outputs": [
    {
     "name": "stdout",
     "output_type": "stream",
     "text": [
      "[['eat', 'tea', 'ate'], ['tan', 'nat'], ['bat']]\n",
      "[['']]\n",
      "[['a']]\n"
     ]
    }
   ],
   "source": [
    "from collections import defaultdict\n",
    "\n",
    "\n",
    "def group_anagrams(strs):\n",
    "    anagram_map = defaultdict(list)\n",
    "\n",
    "    for s in strs:\n",
    "        # Initialize a count array for 26 letters\n",
    "        count = [0] * 26  # Assuming the input consists of lowercase English letters\n",
    "        for char in s:\n",
    "            count[ord(char) - ord(\"a\")] += 1\n",
    "\n",
    "        # Use the tuple of counts as the key\n",
    "        anagram_map[tuple(count)].append(s)\n",
    "\n",
    "    return list(anagram_map.values())\n",
    "\n",
    "\n",
    "# Test cases\n",
    "print(group_anagrams([\"eat\", \"tea\", \"tan\", \"ate\", \"nat\", \"bat\"]))\n",
    "# Output: [[\"eat\",\"tea\",\"ate\"], [\"tan\",\"nat\"], [\"bat\"]]\n",
    "\n",
    "print(group_anagrams([\"\"]))\n",
    "# Output: [[\"\"]]\n",
    "\n",
    "print(group_anagrams([\"a\"]))\n",
    "# Output: [[\"a\"]]"
   ]
  },
  {
   "cell_type": "code",
   "execution_count": 3,
   "metadata": {},
   "outputs": [
    {
     "name": "stdout",
     "output_type": "stream",
     "text": [
      "[1, 2]\n",
      "[1]\n"
     ]
    }
   ],
   "source": [
    "def topKFrequent(nums, k):\n",
    "    # Step 1: Frequency Dictionary\n",
    "    freq = {}\n",
    "    for num in nums:\n",
    "        freq[num] = freq.get(num, 0) + 1\n",
    "    \n",
    "    # Step 2: Bucket Sort\n",
    "    bucket = [[] for _ in range(len(nums) + 1)]\n",
    "    for num, count in freq.items():\n",
    "        bucket[count].append(num)\n",
    "    \n",
    "    # Step 3: Gather k Most Frequent Elements\n",
    "    result = []\n",
    "    for i in range(len(bucket) - 1, 0, -1):\n",
    "        for num in bucket[i]:\n",
    "            result.append(num)\n",
    "            if len(result) == k:\n",
    "                return result\n",
    "\n",
    "# Example usage\n",
    "nums1 = [1, 1, 1, 2, 2, 3]\n",
    "k1 = 2\n",
    "print(topKFrequent(nums1, k1))  # Output: [1, 2]\n",
    "\n",
    "nums2 = [1]\n",
    "k2 = 1\n",
    "print(topKFrequent(nums2, k2))  # Output: [1]\n"
   ]
  },
  {
   "cell_type": "markdown",
   "metadata": {},
   "source": [
    "---------------------\n",
    "give best time and space complexity code in python3,give variables usefull name, add comments to explain the code way more clear,also add code to run example case"
   ]
  },
  {
   "cell_type": "code",
   "execution_count": 10,
   "metadata": {},
   "outputs": [
    {
     "name": "stdout",
     "output_type": "stream",
     "text": [
      "Renamed: 82_Binary-Tree-Right-Side-View -> 82_Binary-Tree-Right-Side-View.ipynb\n",
      "Renamed: 83_Average-of-Levels-in-Binary-Tree -> 83_Average-of-Levels-in-Binary-Tree.ipynb\n",
      "Renamed: 84_Binary-Tree-Level-Order-Traversal -> 84_Binary-Tree-Level-Order-Traversal.ipynb\n",
      "Renamed: 85_Binary-Tree-Zigzag-Level-Order-Traversal -> 85_Binary-Tree-Zigzag-Level-Order-Traversal.ipynb\n"
     ]
    }
   ],
   "source": [
    "import os\n",
    "\n",
    "\n",
    "def add_extension_to_files(folder_name):\n",
    "    try:\n",
    "        # List all files in the specified folder\n",
    "        files = os.listdir(folder_name)\n",
    "\n",
    "        for filename in files:\n",
    "            # Construct the full file path\n",
    "            old_file_path = os.path.join(folder_name, filename)\n",
    "\n",
    "            # Skip directories and already renamed files\n",
    "            if os.path.isfile(old_file_path) and not filename.endswith(\".ipynb\"):\n",
    "                # New file path with .ipynb extension\n",
    "                new_file_path = old_file_path + \".ipynb\"\n",
    "\n",
    "                # Rename the file\n",
    "                os.rename(old_file_path, new_file_path)\n",
    "                print(f\"Renamed: {filename} -> {filename}.ipynb\")\n",
    "\n",
    "    except FileNotFoundError:\n",
    "        print(f\"The folder '{folder_name}' does not exist.\")\n",
    "    except Exception as e:\n",
    "        print(f\"An error occurred: {e}\")\n",
    "\n",
    "\n",
    "# Get folder name from user input\n",
    "folder_name = input(\"Enter the folder name: \")\n",
    "\n",
    "# Call the function to add .ipynb extension to all files\n",
    "add_extension_to_files(folder_name)"
   ]
  },
  {
   "cell_type": "code",
   "execution_count": 7,
   "metadata": {},
   "outputs": [
    {
     "name": "stdout",
     "output_type": "stream",
     "text": [
      "Renamed: 82_Binary-Tree-Right-Side-View -> 82_Binary-Tree-Right-Side-View.rs\n",
      "Renamed: 83_Average-of-Levels-in-Binary-Tree -> 83_Average-of-Levels-in-Binary-Tree.rs\n",
      "Renamed: 84_Binary-Tree-Level-Order-Traversal -> 84_Binary-Tree-Level-Order-Traversal.rs\n",
      "Renamed: 85_Binary-Tree-Zigzag-Level-Order-Traversal -> 85_Binary-Tree-Zigzag-Level-Order-Traversal.rs\n"
     ]
    }
   ],
   "source": [
    "import os\n",
    "\n",
    "\n",
    "def add_extension_to_files(folder_name):\n",
    "    try:\n",
    "        # List all files in the specified folder\n",
    "        files = os.listdir(folder_name)\n",
    "\n",
    "        for filename in files:\n",
    "            # Construct the full file path\n",
    "            old_file_path = os.path.join(folder_name, filename)\n",
    "\n",
    "            # Skip directories and already renamed files\n",
    "            if os.path.isfile(old_file_path) and not filename.endswith(\".ipynb\"):\n",
    "                # New file path with .ipynb extension\n",
    "                new_file_path = old_file_path + \".rs\"\n",
    "\n",
    "                # Rename the file\n",
    "                os.rename(old_file_path, new_file_path)\n",
    "                print(f\"Renamed: {filename} -> {filename}.rs\")\n",
    "\n",
    "    except FileNotFoundError:\n",
    "        print(f\"The folder '{folder_name}' does not exist.\")\n",
    "    except Exception as e:\n",
    "        print(f\"An error occurred: {e}\")\n",
    "\n",
    "\n",
    "# Get folder name from user input\n",
    "folder_name = input(\"Enter the folder name: \")\n",
    "\n",
    "# Call the function to add .ipynb extension to all files\n",
    "add_extension_to_files(folder_name)"
   ]
  },
  {
   "cell_type": "code",
   "execution_count": 11,
   "metadata": {},
   "outputs": [
    {
     "data": {
      "text/plain": [
       "170141183460469231731687303715884105728"
      ]
     },
     "execution_count": 11,
     "metadata": {},
     "output_type": "execute_result"
    }
   ],
   "source": [
    "2**127"
   ]
  },
  {
   "cell_type": "code",
   "execution_count": null,
   "metadata": {},
   "outputs": [],
   "source": []
  }
 ],
 "metadata": {
  "kernelspec": {
   "display_name": "moon",
   "language": "python",
   "name": "python3"
  },
  "language_info": {
   "codemirror_mode": {
    "name": "ipython",
    "version": 3
   },
   "file_extension": ".py",
   "mimetype": "text/x-python",
   "name": "python",
   "nbconvert_exporter": "python",
   "pygments_lexer": "ipython3",
   "version": "3.11.11"
  }
 },
 "nbformat": 4,
 "nbformat_minor": 2
}
