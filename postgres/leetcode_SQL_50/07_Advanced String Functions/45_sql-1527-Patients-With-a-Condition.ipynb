{
 "cells": [
  {
   "cell_type": "markdown",
   "metadata": {},
   "source": [
    "1527. Patients With a Condition\n",
    "\n",
    "Easy\n",
    "Topics\n",
    "Companies\n",
    "\n",
    "SQL Schema\n",
    "Pandas Schema\n",
    "Table: Patients\n",
    "\n",
    "+--------------+---------+\n",
    "| Column Name  | Type    |\n",
    "+--------------+---------+\n",
    "| patient_id   | int     |\n",
    "| patient_name | varchar |\n",
    "| conditions   | varchar |\n",
    "+--------------+---------+\n",
    "patient_id is the primary key (column with unique values) for this table.\n",
    "'conditions' contains 0 or more code separated by spaces. \n",
    "This table contains information of the patients in the hospital.\n",
    " \n",
    "\n",
    "Write a solution to find the patient_id, patient_name, and conditions of the patients who have Type I Diabetes. Type I Diabetes always starts with DIAB1 prefix.\n",
    "\n",
    "Return the result table in any order.\n",
    "\n",
    "The result format is in the following example.\n",
    "\n",
    " \n",
    "\n",
    "Example 1:\n",
    "\n",
    "Input: \n",
    "Patients table:\n",
    "+------------+--------------+--------------+\n",
    "| patient_id | patient_name | conditions   |\n",
    "+------------+--------------+--------------+\n",
    "| 1          | Daniel       | YFEV COUGH   |\n",
    "| 2          | Alice        |              |\n",
    "| 3          | Bob          | DIAB100 MYOP |\n",
    "| 4          | George       | ACNE DIAB100 |\n",
    "| 5          | Alain        | DIAB201      |\n",
    "+------------+--------------+--------------+\n",
    "Output: \n",
    "+------------+--------------+--------------+\n",
    "| patient_id | patient_name | conditions   |\n",
    "+------------+--------------+--------------+\n",
    "| 3          | Bob          | DIAB100 MYOP |\n",
    "| 4          | George       | ACNE DIAB100 | \n",
    "+------------+--------------+--------------+\n",
    "Explanation: Bob and George both have a condition that starts with DIAB1.\n",
    "\n",
    "---\n",
    "\n",
    "give best time and space complexity sql query for postgresql and pandas(python code) ,give variables usefull name, add comments to explain the code way more clear, schema is below\n",
    "---\n",
    "\n",
    "# Pandas schema\n",
    "data = [[1, 'Daniel', 'YFEV COUGH'], [2, 'Alice', ''], [3, 'Bob', 'DIAB100 MYOP'], [4, 'George', 'ACNE DIAB100'], [5, 'Alain', 'DIAB201']]\n",
    "patients = pd.DataFrame(data, columns=['patient_id', 'patient_name', 'conditions']).astype({'patient_id':'int64', 'patient_name':'object', 'conditions':'object'})\n",
    "\n",
    "# SQL schema\n",
    "Create table If Not Exists Patients (patient_id int, patient_name varchar(30), conditions varchar(100))\n",
    "Truncate table Patients\n",
    "insert into Patients (patient_id, patient_name, conditions) values ('1', 'Daniel', 'YFEV COUGH')\n",
    "insert into Patients (patient_id, patient_name, conditions) values ('2', 'Alice', '')\n",
    "insert into Patients (patient_id, patient_name, conditions) values ('3', 'Bob', 'DIAB100 MYOP')\n",
    "insert into Patients (patient_id, patient_name, conditions) values ('4', 'George', 'ACNE DIAB100')\n",
    "insert into Patients (patient_id, patient_name, conditions) values ('5', 'Alain', 'DIAB201')\n"
   ]
  },
  {
   "cell_type": "code",
   "execution_count": null,
   "metadata": {},
   "outputs": [],
   "source": [
    "import pandas as pd\n",
    "\n",
    "def find_patients(patients: pd.DataFrame) -> pd.DataFrame:\n",
    "    # Use the str.contains() method to find patients with Type I Diabetes\n",
    "    patients_with_diabetes = patients[patients['conditions'].str.contains(r'\\bDIAB1')]\n",
    "    \n",
    "    # Select only the required columns\n",
    "    result_df = patients_with_diabetes[['patient_id', 'patient_name', 'conditions']]\n",
    "    \n",
    "    return result_df"
   ]
  },
  {
   "cell_type": "markdown",
   "metadata": {},
   "source": [
    "```py\n",
    "import pandas as pd\n",
    "\n",
    "def find_patients(patients: pd.DataFrame) -> pd.DataFrame:\n",
    "    return patients.loc[ patients['conditions'].str.contains(r'(^| )DIAB1') ]\n",
    "```\n"
   ]
  },
  {
   "cell_type": "markdown",
   "metadata": {
    "vscode": {
     "languageId": "plaintext"
    }
   },
   "source": [
    "```sql\n",
    "-- Write your PostgreSQL query statement below\n",
    "SELECT *\n",
    "FROM patients\n",
    "WHERE conditions ~ '(^| )DIAB1'; -- '(^| )DIAB1' is Raw String like Pandas. \n",
    "```\n"
   ]
  },
  {
   "cell_type": "markdown",
   "metadata": {},
   "source": [
    "---\n",
    "---"
   ]
  },
  {
   "cell_type": "markdown",
   "metadata": {},
   "source": []
  },
  {
   "cell_type": "markdown",
   "metadata": {},
   "source": []
  }
 ],
 "metadata": {
  "kernelspec": {
   "display_name": "moon",
   "language": "python",
   "name": "python3"
  },
  "language_info": {
   "name": "python",
   "version": "3.11.11"
  }
 },
 "nbformat": 4,
 "nbformat_minor": 2
}
