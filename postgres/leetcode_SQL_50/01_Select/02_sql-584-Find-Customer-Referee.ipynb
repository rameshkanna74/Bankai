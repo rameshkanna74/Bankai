{
 "cells": [
  {
   "cell_type": "markdown",
   "metadata": {},
   "source": [
    "584. Find Customer Referee\n",
    "\n",
    "    Easy\n",
    "    Topics\n",
    "    Companies\n",
    "    Hint\n",
    "\n",
    "Table: Customer\n",
    "\n",
    "+-------------+---------+\n",
    "| Column Name | Type    |\n",
    "+-------------+---------+\n",
    "| id          | int     |\n",
    "| name        | varchar |\n",
    "| referee_id  | int     |\n",
    "+-------------+---------+\n",
    "\n",
    "In SQL, id is the primary key column for this table.\n",
    "Each row of this table indicates the id of a customer, their name, and the id of the customer who referred them.\n",
    " \n",
    "\n",
    "Find the names of the customer that are not referred by the customer with id = 2.\n",
    "\n",
    "Return the result table in any order.\n",
    "\n",
    "The result format is in the following example.\n",
    "\n",
    " \n",
    "\n",
    "Example 1:\n",
    "\n",
    "Input: \n",
    "Customer table:\n",
    "\n",
    "+----+------+------------+\n",
    "| id | name | referee_id |\n",
    "+----+------+------------+\n",
    "| 1  | Will | null       |\n",
    "| 2  | Jane | null       |\n",
    "| 3  | Alex | 2          |\n",
    "| 4  | Bill | null       |\n",
    "| 5  | Zack | 1          |\n",
    "| 6  | Mark | 2          |\n",
    "+----+------+------------+\n",
    "\n",
    "Output: \n",
    "\n",
    "+------+\n",
    "| name |\n",
    "+------+\n",
    "| Will |\n",
    "| Jane |\n",
    "| Bill |\n",
    "| Zack |\n",
    "+------+\n",
    "\n",
    "\n",
    "---\n",
    "\n",
    "give best time and space complexity sql query for postgresql and pandas(python code) ,give variables usefull name, add comments to explain the code way more clear, schema is below\n",
    "\n",
    "---\n",
    "\n",
    "\n",
    "# SQL Schema\n",
    "\n",
    "Create table If Not Exists Customer (id int, name varchar(25), referee_id int)\n",
    "Truncate table Customer\n",
    "insert into Customer (id, name, referee_id) values ('1', 'Will', NULL)\n",
    "insert into Customer (id, name, referee_id) values ('2', 'Jane', NULL)\n",
    "insert into Customer (id, name, referee_id) values ('3', 'Alex', '2')\n",
    "insert into Customer (id, name, referee_id) values ('4', 'Bill', NULL)\n",
    "insert into Customer (id, name, referee_id) values ('5', 'Zack', '1')\n",
    "insert into Customer (id, name, referee_id) values ('6', 'Mark', '2')\n",
    "\n",
    "# Pandas Schema\n",
    "\n",
    "data = [[1, 'Will', None], [2, 'Jane', None], [3, 'Alex', 2], [4, 'Bill', None], [5, 'Zack', 1], [6, 'Mark', 2]]\n",
    "customer = pd.DataFrame(data, columns=['id', 'name', 'referee_id']).astype({'id':'Int64', 'name':'object', 'referee_id':'Int64'})"
   ]
  },
  {
   "cell_type": "code",
   "execution_count": null,
   "metadata": {},
   "outputs": [],
   "source": [
    "import pandas as pd\n",
    "\n",
    "\n",
    "def find_customer_referee(customer: pd.DataFrame) -> pd.DataFrame:\n",
    "    customer = customer[\n",
    "        (customer[\"referee_id\"].isnull()) | (customer[\"referee_id\"] != 2)\n",
    "    ][[\"name\"]]\n",
    "    return customer"
   ]
  },
  {
   "cell_type": "code",
   "execution_count": null,
   "metadata": {
    "vscode": {
     "languageId": "plaintext"
    }
   },
   "outputs": [],
   "source": [
    "-- Write your PostgreSQL query statement below\n",
    "\n",
    "select name from Customer where referee_id != 2 or referee_id is null"
   ]
  },
  {
   "cell_type": "markdown",
   "metadata": {},
   "source": [
    "\n",
    "```sql\n",
    "\n",
    "-- Write your PostgreSQL query statement below\n",
    "select name from Customer where referee_id != 2 or referee_id is null\n",
    "\n",
    "```\n",
    "\n",
    "\n",
    "```sql\n",
    "-- Query to find names of customers not referred by the customer with id = 2\n",
    "SELECT \n",
    "    name AS customer_name          -- Return the names of the customers\n",
    "FROM \n",
    "    Customer\n",
    "WHERE \n",
    "    referee_id IS DISTINCT FROM 2; -- Exclude customers referred by id = 2 (or null values)\n",
    "```\n",
    "\n",
    "```sql\n",
    "SELECT name\n",
    "FROM Customer\n",
    "WHERE COALESCE(referee_id, 0) != 2;\n",
    "```"
   ]
  },
  {
   "cell_type": "markdown",
   "metadata": {},
   "source": [
    "EXPLAINED\n",
    "\n",
    "COALESCE(referee_id, 0) != 2\n",
    "\n",
    "The COALESCE function checks each row’s referee_id:\n",
    "If referee_id is NULL, it substitutes 0.\n",
    "It then compares the result to 2.\n",
    "Only rows where the result is not equal to 2 are included in the result set.\n",
    "Order of Execution\n",
    "FROM Customer > WHERE COALESCE(referee_id, 0) != 2 > SELECT name\n",
    "\n"
   ]
  },
  {
   "cell_type": "markdown",
   "metadata": {},
   "source": [
    "---\n",
    "---"
   ]
  },
  {
   "cell_type": "markdown",
   "metadata": {},
   "source": []
  },
  {
   "cell_type": "markdown",
   "metadata": {},
   "source": []
  }
 ],
 "metadata": {
  "kernelspec": {
   "display_name": "moon",
   "language": "python",
   "name": "python3"
  },
  "language_info": {
   "name": "python",
   "version": "3.11.11"
  }
 },
 "nbformat": 4,
 "nbformat_minor": 2
}
