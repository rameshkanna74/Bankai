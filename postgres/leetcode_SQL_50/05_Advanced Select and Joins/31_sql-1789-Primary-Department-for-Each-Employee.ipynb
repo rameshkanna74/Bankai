{
 "cells": [
  {
   "cell_type": "markdown",
   "metadata": {},
   "source": [
    "1789. Primary Department for Each Employee\n",
    "\n",
    "    Easy\n",
    "    Topics\n",
    "    Companies\n",
    "\n",
    "Table: Employee\n",
    "\n",
    "+---------------+---------+\n",
    "| Column Name   |  Type   |\n",
    "+---------------+---------+\n",
    "| employee_id   | int     |\n",
    "| department_id | int     |\n",
    "| primary_flag  | varchar |\n",
    "+---------------+---------+\n",
    "(employee_id, department_id) is the primary key (combination of columns with unique values) for this table.\n",
    "employee_id is the id of the employee.\n",
    "department_id is the id of the department to which the employee belongs.\n",
    "primary_flag is an ENUM (category) of type ('Y', 'N'). If the flag is 'Y', the department is the primary department for the employee. If the flag is 'N', the department is not the primary.\n",
    " \n",
    "\n",
    "Employees can belong to multiple departments. When the employee joins other departments, they need to decide which department is their primary department. Note that when an employee belongs to only one department, their primary column is 'N'.\n",
    "\n",
    "Write a solution to report all the employees with their primary department. For employees who belong to one department, report their only department.\n",
    "\n",
    "Return the result table in any order.\n",
    "\n",
    "The result format is in the following example.\n",
    "\n",
    " \n",
    "\n",
    "Example 1:\n",
    "\n",
    "Input: \n",
    "Employee table:\n",
    "+-------------+---------------+--------------+\n",
    "| employee_id | department_id | primary_flag |\n",
    "+-------------+---------------+--------------+\n",
    "| 1           | 1             | N            |\n",
    "| 2           | 1             | Y            |\n",
    "| 2           | 2             | N            |\n",
    "| 3           | 3             | N            |\n",
    "| 4           | 2             | N            |\n",
    "| 4           | 3             | Y            |\n",
    "| 4           | 4             | N            |\n",
    "+-------------+---------------+--------------+\n",
    "Output: \n",
    "+-------------+---------------+\n",
    "| employee_id | department_id |\n",
    "+-------------+---------------+\n",
    "| 1           | 1             |\n",
    "| 2           | 1             |\n",
    "| 3           | 3             |\n",
    "| 4           | 3             |\n",
    "+-------------+---------------+\n",
    "Explanation: \n",
    "- The Primary department for employee 1 is 1.\n",
    "- The Primary department for employee 2 is 1.\n",
    "- The Primary department for employee 3 is 3.\n",
    "- The Primary department for employee 4 is 3.\n",
    "\n",
    "---\n",
    "\n",
    "give best time and space complexity sql query for postgresql and pandas(python code) ,give variables usefull name, add comments to explain the code way more clear, schema is below\n",
    "\n",
    "---\n",
    "\n",
    "# Pandas schema\n",
    "data = [['1', '1', 'N'], ['2', '1', 'Y'], ['2', '2', 'N'], ['3', '3', 'N'], ['4', '2', 'N'], ['4', '3', 'Y'], ['4', '4', 'N']]\n",
    "employee = pd.DataFrame(data, columns=['employee_id', 'department_id', 'primary_flag']).astype({'employee_id':'Int64', 'department_id':'Int64', 'primary_flag':'object'})\n",
    "\n",
    "# SQL schema\n",
    "Create table If Not Exists Employee (employee_id int, department_id int, primary_flag ENUM('Y','N'))\n",
    "Truncate table Employee\n",
    "insert into Employee (employee_id, department_id, primary_flag) values ('1', '1', 'N')\n",
    "insert into Employee (employee_id, department_id, primary_flag) values ('2', '1', 'Y')\n",
    "insert into Employee (employee_id, department_id, primary_flag) values ('2', '2', 'N')\n",
    "insert into Employee (employee_id, department_id, primary_flag) values ('3', '3', 'N')\n",
    "insert into Employee (employee_id, department_id, primary_flag) values ('4', '2', 'N')\n",
    "insert into Employee (employee_id, department_id, primary_flag) values ('4', '3', 'Y')\n",
    "insert into Employee (employee_id, department_id, primary_flag) values ('4', '4', 'N')\n"
   ]
  },
  {
   "cell_type": "code",
   "execution_count": null,
   "metadata": {},
   "outputs": [],
   "source": [
    "import pandas as pd\n",
    "\n",
    "def find_primary_department(employee: pd.DataFrame) -> pd.DataFrame:\n",
    "    employee = employee[(~employee.duplicated(subset='employee_id', keep=False))|(employee.primary_flag==\"Y\")]\n",
    "\n",
    "    return employee[['employee_id', 'department_id']]"
   ]
  },
  {
   "cell_type": "markdown",
   "metadata": {},
   "source": [
    "```py\n",
    "import pandas as pd\n",
    "\n",
    "def find_primary_department(employee: pd.DataFrame) -> pd.DataFrame:\n",
    "    employee = employee[(~employee.duplicated(subset='employee_id', keep=False))|(employee.primary_flag==\"Y\")]\n",
    "\n",
    "    return employee[['employee_id', 'department_id']]\n",
    "```\n"
   ]
  },
  {
   "cell_type": "markdown",
   "metadata": {
    "vscode": {
     "languageId": "plaintext"
    }
   },
   "source": [
    "```sql\n",
    "-- Write your PostgreSQL query statement below\n",
    "-- SELECT employee_id,department_id FROM Employee  WHERE primary_flag = 'Y' \n",
    "-- GROUP BY employee_id,department_id\n",
    "-- UNION\n",
    "SELECT employee_id, department_id FROM Employee WHERE employee_id IN (\n",
    "SELECT employee_id FROM Employee\n",
    "GROUP BY employee_id HAVING COUNT(*) =1) OR primary_flag = 'Y'\n",
    "```\n"
   ]
  },
  {
   "cell_type": "markdown",
   "metadata": {},
   "source": [
    "---\n",
    "---"
   ]
  },
  {
   "cell_type": "markdown",
   "metadata": {},
   "source": []
  },
  {
   "cell_type": "markdown",
   "metadata": {},
   "source": []
  }
 ],
 "metadata": {
  "kernelspec": {
   "display_name": "moon",
   "language": "python",
   "name": "python3"
  },
  "language_info": {
   "name": "python",
   "version": "3.11.11"
  }
 },
 "nbformat": 4,
 "nbformat_minor": 2
}
