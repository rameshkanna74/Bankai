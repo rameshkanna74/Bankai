{
 "cells": [
  {
   "cell_type": "markdown",
   "metadata": {},
   "source": [
    "1204. Last Person to Fit in the Bus\n",
    "\n",
    "    Medium\n",
    "    Topics\n",
    "    Companies\n",
    "\n",
    "Table: Queue\n",
    "\n",
    "+-------------+---------+\n",
    "| Column Name | Type    |\n",
    "+-------------+---------+\n",
    "| person_id   | int     |\n",
    "| person_name | varchar |\n",
    "| weight      | int     |\n",
    "| turn        | int     |\n",
    "+-------------+---------+\n",
    "person_id column contains unique values.\n",
    "This table has the information about all people waiting for a bus.\n",
    "The person_id and turn columns will contain all numbers from 1 to n, where n is the number of rows in the table.\n",
    "turn determines the order of which the people will board the bus, where turn=1 denotes the first person to board and turn=n denotes the last person to board.\n",
    "weight is the weight of the person in kilograms.\n",
    " \n",
    "\n",
    "There is a queue of people waiting to board a bus. However, the bus has a weight limit of 1000 kilograms, so there may be some people who cannot board.\n",
    "\n",
    "Write a solution to find the person_name of the last person that can fit on the bus without exceeding the weight limit. The test cases are generated such that the first person does not exceed the weight limit.\n",
    "\n",
    "Note that only one person can board the bus at any given turn.\n",
    "\n",
    "The result format is in the following example.\n",
    "\n",
    " \n",
    "\n",
    "Example 1:\n",
    "\n",
    "Input: \n",
    "Queue table:\n",
    "+-----------+-------------+--------+------+\n",
    "| person_id | person_name | weight | turn |\n",
    "+-----------+-------------+--------+------+\n",
    "| 5         | Alice       | 250    | 1    |\n",
    "| 4         | Bob         | 175    | 5    |\n",
    "| 3         | Alex        | 350    | 2    |\n",
    "| 6         | John Cena   | 400    | 3    |\n",
    "| 1         | Winston     | 500    | 6    |\n",
    "| 2         | Marie       | 200    | 4    |\n",
    "+-----------+-------------+--------+------+\n",
    "Output: \n",
    "+-------------+\n",
    "| person_name |\n",
    "+-------------+\n",
    "| John Cena   |\n",
    "+-------------+\n",
    "Explanation: The folowing table is ordered by the turn for simplicity.\n",
    "+------+----+-----------+--------+--------------+\n",
    "| Turn | ID | Name      | Weight | Total Weight |\n",
    "+------+----+-----------+--------+--------------+\n",
    "| 1    | 5  | Alice     | 250    | 250          |\n",
    "| 2    | 3  | Alex      | 350    | 600          |\n",
    "| 3    | 6  | John Cena | 400    | 1000         | (last person to board)\n",
    "| 4    | 2  | Marie     | 200    | 1200         | (cannot board)\n",
    "| 5    | 4  | Bob       | 175    | ___          |\n",
    "| 6    | 1  | Winston   | 500    | ___          |\n",
    "+------+----+-----------+--------+--------------+\n",
    "\n",
    "---\n",
    "\n",
    "give best time and space complexity sql query for postgresql and pandas(python code) ,give variables usefull name, add comments to explain the code way more clear, schema is below\n",
    "\n",
    "---\n",
    "\n",
    "# Pandas schema\n",
    "data = [[5, 'Alice', 250, 1], [4, 'Bob', 175, 5], [3, 'Alex', 350, 2], [6, 'John Cena', 400, 3], [1, 'Winston', 500, 6], [2, 'Marie', 200, 4]]\n",
    "queue = pd.DataFrame(data, columns=['person_id', 'person_name', 'weight', 'turn']).astype({'person_id':'Int64', 'person_name':'object', 'weight':'Int64', 'turn':'Int64'})\n",
    "\n",
    "# SQL schema\n",
    "Create table If Not Exists Queue (person_id int, person_name varchar(30), weight int, turn int)\n",
    "Truncate table Queue\n",
    "insert into Queue (person_id, person_name, weight, turn) values ('5', 'Alice', '250', '1')\n",
    "insert into Queue (person_id, person_name, weight, turn) values ('4', 'Bob', '175', '5')\n",
    "insert into Queue (person_id, person_name, weight, turn) values ('3', 'Alex', '350', '2')\n",
    "insert into Queue (person_id, person_name, weight, turn) values ('6', 'John Cena', '400', '3')\n",
    "insert into Queue (person_id, person_name, weight, turn) values ('1', 'Winston', '500', '6')\n",
    "insert into Queue (person_id, person_name, weight, turn) values ('2', 'Marie', '200', '4')\n"
   ]
  },
  {
   "cell_type": "code",
   "execution_count": null,
   "metadata": {},
   "outputs": [],
   "source": [
    "import pandas as pd\n",
    "\n",
    "def last_passenger(queue: pd.DataFrame, ans = 1000) -> pd.DataFrame:\n",
    "\n",
    "    queue.sort_values('turn', inplace = True)\n",
    "    queue['weight'] = queue.weight.cumsum()\n",
    "    \n",
    "    return queue[queue.weight <= 1000].tail(1)[['person_name']]"
   ]
  },
  {
   "cell_type": "markdown",
   "metadata": {},
   "source": [
    "```py\n",
    "import pandas as pd\n",
    "\n",
    "def last_passenger(queue: pd.DataFrame, ans = 1000) -> pd.DataFrame:\n",
    "\n",
    "    queue.sort_values('turn', inplace = True)\n",
    "    \n",
    "    for name, weight in zip(queue.person_name, queue.weight):\n",
    "                           \n",
    "        if weight > ans: break                    \n",
    "        ans-= weight\n",
    "        prev = name\n",
    "        \n",
    "    return pd.DataFrame({'person_name': [prev]})\n",
    "```\n"
   ]
  },
  {
   "cell_type": "markdown",
   "metadata": {
    "vscode": {
     "languageId": "plaintext"
    }
   },
   "source": [
    "```sql\n",
    "-- Write your PostgreSQL query statement below\n",
    "WITH cum_sum AS (\n",
    "    SELECT person_name, SUM(weight) OVER(ORDER BY turn asc) AS total_weight\n",
    "    FROM Queue\n",
    ")\n",
    "\n",
    "SELECT person_name\n",
    "FROM cum_sum\n",
    "WHERE total_weight <= 1000 \n",
    "ORDER BY total_weight DESC\n",
    "LIMIT 1\n",
    "```\n"
   ]
  },
  {
   "cell_type": "markdown",
   "metadata": {},
   "source": [
    "---\n",
    "---"
   ]
  },
  {
   "cell_type": "markdown",
   "metadata": {},
   "source": []
  },
  {
   "cell_type": "markdown",
   "metadata": {},
   "source": []
  }
 ],
 "metadata": {
  "kernelspec": {
   "display_name": "moon",
   "language": "python",
   "name": "python3"
  },
  "language_info": {
   "name": "python",
   "version": "3.11.11"
  }
 },
 "nbformat": 4,
 "nbformat_minor": 2
}
