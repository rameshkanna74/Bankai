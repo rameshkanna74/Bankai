{
 "cells": [
  {
   "cell_type": "markdown",
   "metadata": {},
   "source": [
    "1731. The Number of Employees Which Report to Each Employee\n",
    "\n",
    "    Easy\n",
    "    Topics\n",
    "    Companies\n",
    "\n",
    "Table: Employees\n",
    "\n",
    "+-------------+----------+\n",
    "| Column Name | Type     |\n",
    "+-------------+----------+\n",
    "| employee_id | int      |\n",
    "| name        | varchar  |\n",
    "| reports_to  | int      |\n",
    "| age         | int      |\n",
    "+-------------+----------+\n",
    "employee_id is the column with unique values for this table.\n",
    "This table contains information about the employees and the id of the manager they report to. Some employees do not report to anyone (reports_to is null). \n",
    " \n",
    "\n",
    "For this problem, we will consider a manager an employee who has at least 1 other employee reporting to them.\n",
    "\n",
    "Write a solution to report the ids and the names of all managers, the number of employees who report directly to them, and the average age of the reports rounded to the nearest integer.\n",
    "\n",
    "Return the result table ordered by employee_id.\n",
    "\n",
    "The result format is in the following example.\n",
    "\n",
    " \n",
    "\n",
    "Example 1:\n",
    "\n",
    "Input: \n",
    "Employees table:\n",
    "+-------------+---------+------------+-----+\n",
    "| employee_id | name    | reports_to | age |\n",
    "+-------------+---------+------------+-----+\n",
    "| 9           | Hercy   | null       | 43  |\n",
    "| 6           | Alice   | 9          | 41  |\n",
    "| 4           | Bob     | 9          | 36  |\n",
    "| 2           | Winston | null       | 37  |\n",
    "+-------------+---------+------------+-----+\n",
    "Output: \n",
    "+-------------+-------+---------------+-------------+\n",
    "| employee_id | name  | reports_count | average_age |\n",
    "+-------------+-------+---------------+-------------+\n",
    "| 9           | Hercy | 2             | 39          |\n",
    "+-------------+-------+---------------+-------------+\n",
    "Explanation: Hercy has 2 people report directly to him, Alice and Bob. Their average age is (41+36)/2 = 38.5, which is 39 after rounding it to the nearest integer.\n",
    "Example 2:\n",
    "\n",
    "Input: \n",
    "Employees table:\n",
    "+-------------+---------+------------+-----+ \n",
    "| employee_id | name    | reports_to | age |\n",
    "|-------------|---------|------------|-----|\n",
    "| 1           | Michael | null       | 45  |\n",
    "| 2           | Alice   | 1          | 38  |\n",
    "| 3           | Bob     | 1          | 42  |\n",
    "| 4           | Charlie | 2          | 34  |\n",
    "| 5           | David   | 2          | 40  |\n",
    "| 6           | Eve     | 3          | 37  |\n",
    "| 7           | Frank   | null       | 50  |\n",
    "| 8           | Grace   | null       | 48  |\n",
    "+-------------+---------+------------+-----+ \n",
    "Output: \n",
    "+-------------+---------+---------------+-------------+\n",
    "| employee_id | name    | reports_count | average_age |\n",
    "| ----------- | ------- | ------------- | ----------- |\n",
    "| 1           | Michael | 2             | 40          |\n",
    "| 2           | Alice   | 2             | 37          |\n",
    "| 3           | Bob     | 1             | 37          |\n",
    "+-------------+---------+---------------+-------------+\n",
    "\n",
    "---\n",
    "\n",
    "give best time and space complexity sql query for postgresql and pandas(python code) ,give variables usefull name, add comments to explain the code way more clear, schema is below\n",
    "\n",
    "---\n",
    "\n",
    "# Pandas schema\n",
    "data = [[9, 'Hercy', None, 43], [6, 'Alice', 9, 41], [4, 'Bob', 9, 36], [2, 'Winston', None, 37]]\n",
    "employees = pd.DataFrame(data, columns=['employee_id', 'name', 'reports_to', 'age']).astype({'employee_id':'Int64', 'name':'object', 'reports_to':'Int64', 'age':'Int64'})\n",
    "\n",
    "# SQL schema\n",
    "Create table If Not Exists Employees(employee_id int, name varchar(20), reports_to int, age int)\n",
    "Truncate table Employees\n",
    "insert into Employees (employee_id, name, reports_to, age) values ('9', 'Hercy', NULL, '43')\n",
    "insert into Employees (employee_id, name, reports_to, age) values ('6', 'Alice', '9', '41')\n",
    "insert into Employees (employee_id, name, reports_to, age) values ('4', 'Bob', '9', '36')\n",
    "insert into Employees (employee_id, name, reports_to, age) values ('2', 'Winston', NULL, '37')\n"
   ]
  },
  {
   "cell_type": "code",
   "execution_count": null,
   "metadata": {},
   "outputs": [],
   "source": [
    "import pandas as pd\n",
    "\n",
    "def count_employees(employees: pd.DataFrame) -> pd.DataFrame:\n",
    "    by_manager = employees.groupby('reports_to', as_index=False).agg(reports_count=('employee_id', 'size'), average_age=('age', 'mean'))\n",
    "    # round has no inplace parameter X(\n",
    "    # + <fudge factor> to defeat banker's/round-to-even rule X( X(\n",
    "    by_manager.average_age = (by_manager.average_age + 1e-12).round(0)\n",
    "\n",
    "    merged = by_manager.merge(employees, how='left', left_on='reports_to', right_on='employee_id')\n",
    "    merged.rename(columns={'reports_to': 'employee_id'}, inplace=True)\n",
    "\n",
    "    return merged[['employee_id', 'name', 'reports_count', 'average_age']]"
   ]
  },
  {
   "cell_type": "markdown",
   "metadata": {
    "vscode": {
     "languageId": "plaintext"
    }
   },
   "source": [
    "```sql\n",
    "SELECT e1.employee_id as employee_id, MAX(e1.name) as name,\n",
    "COUNT(e2.reports_to) as reports_count, ROUND(AVG(e2.age)) as average_age \n",
    "FROM Employees e1 JOIN Employees e2 ON e1.employee_id = e2.reports_to \n",
    "GROUP BY e1.employee_id\n",
    "ORDER BY employee_id\n",
    "```\n"
   ]
  },
  {
   "cell_type": "markdown",
   "metadata": {},
   "source": [
    "```py\n",
    "import pandas as pd\n",
    "\n",
    "def count_employees(employees: pd.DataFrame) -> pd.DataFrame:\n",
    "    by_manager = employees.groupby('reports_to', as_index=False).agg(reports_count=('employee_id', 'size'), average_age=('age', 'mean'))\n",
    "    # round has no inplace parameter X(\n",
    "    # + <fudge factor> to defeat banker's/round-to-even rule X( X(\n",
    "    by_manager.average_age = (by_manager.average_age + 1e-12).round(0)\n",
    "\n",
    "    merged = by_manager.merge(employees, how='left', left_on='reports_to', right_on='employee_id')\n",
    "    merged.rename(columns={'reports_to': 'employee_id'}, inplace=True)\n",
    "\n",
    "    return merged[['employee_id', 'name', 'reports_count', 'average_age']]\n",
    "```\n"
   ]
  },
  {
   "cell_type": "markdown",
   "metadata": {},
   "source": [
    "---\n",
    "---"
   ]
  },
  {
   "cell_type": "markdown",
   "metadata": {},
   "source": []
  },
  {
   "cell_type": "markdown",
   "metadata": {},
   "source": []
  }
 ],
 "metadata": {
  "kernelspec": {
   "display_name": "moon",
   "language": "python",
   "name": "python3"
  },
  "language_info": {
   "name": "python",
   "version": "3.11.11"
  }
 },
 "nbformat": 4,
 "nbformat_minor": 2
}
