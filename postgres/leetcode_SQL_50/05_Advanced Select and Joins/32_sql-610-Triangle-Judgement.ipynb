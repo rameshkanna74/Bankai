{
 "cells": [
  {
   "cell_type": "markdown",
   "metadata": {},
   "source": [
    "610. Triangle Judgement\n",
    "\n",
    "    Easy\n",
    "    Topics\n",
    "    Companies\n",
    "\n",
    "Table: Triangle\n",
    "\n",
    "+-------------+------+\n",
    "| Column Name | Type |\n",
    "+-------------+------+\n",
    "| x           | int  |\n",
    "| y           | int  |\n",
    "| z           | int  |\n",
    "+-------------+------+\n",
    "In SQL, (x, y, z) is the primary key column for this table.\n",
    "Each row of this table contains the lengths of three line segments.\n",
    " \n",
    "\n",
    "Report for every three line segments whether they can form a triangle.\n",
    "\n",
    "Return the result table in any order.\n",
    "\n",
    "The result format is in the following example.\n",
    "\n",
    " \n",
    "\n",
    "Example 1:\n",
    "\n",
    "Input: \n",
    "Triangle table:\n",
    "+----+----+----+\n",
    "| x  | y  | z  |\n",
    "+----+----+----+\n",
    "| 13 | 15 | 30 |\n",
    "| 10 | 20 | 15 |\n",
    "+----+----+----+\n",
    "Output: \n",
    "+----+----+----+----------+\n",
    "| x  | y  | z  | triangle |\n",
    "+----+----+----+----------+\n",
    "| 13 | 15 | 30 | No       |\n",
    "| 10 | 20 | 15 | Yes      |\n",
    "+----+----+----+----------+\n",
    "\n",
    "\n",
    "---\n",
    "\n",
    "give best time and space complexity sql query for postgresql and pandas(python code) ,give variables usefull name, add comments to explain the code way more clear, schema is below\n",
    "\n",
    "---\n",
    "\n",
    "# Pandas schema\n",
    "data = [[13, 15, 30], [10, 20, 15]]\n",
    "triangle = pd.DataFrame(data, columns=['x', 'y', 'z']).astype({'x':'Int64', 'y':'Int64', 'z':'Int64'})\n",
    "\n",
    "# SQL schema\n",
    "Create table If Not Exists Triangle (x int, y int, z int)\n",
    "Truncate table Triangle\n",
    "insert into Triangle (x, y, z) values ('13', '15', '30')\n",
    "insert into Triangle (x, y, z) values ('10', '20', '15')\n"
   ]
  },
  {
   "cell_type": "code",
   "execution_count": null,
   "metadata": {},
   "outputs": [],
   "source": [
    "import pandas as pd\n",
    "\n",
    "def triangle_judgement(triangle: pd.DataFrame) -> pd.DataFrame:\n",
    "    triangle['triangle'] = triangle.apply(\n",
    "        lambda t: 'Yes' if ((t.x + t.y > t.z) & (t.y + t.z > t.x) & (t.x + t.z > t.y)) else 'No', axis=1)\n",
    "\n",
    "    return triangle"
   ]
  },
  {
   "cell_type": "markdown",
   "metadata": {},
   "source": [
    "```py\n",
    "import pandas as pd\n",
    "\n",
    "def triangle_judgement(triangle: pd.DataFrame) -> pd.DataFrame:\n",
    "    triangle['triangle'] = triangle.apply(\n",
    "        lambda t: 'Yes' if ((t.x + t.y > t.z) & (t.y + t.z > t.x) & (t.x + t.z > t.y)) else 'No', axis=1)\n",
    "\n",
    "    return triangle\n",
    "```\n"
   ]
  },
  {
   "cell_type": "markdown",
   "metadata": {
    "vscode": {
     "languageId": "plaintext"
    }
   },
   "source": [
    "```sql\n",
    "SELECT *, \n",
    "    CASE\n",
    "        WHEN ((x+y+z) - GREATEST(x,y,z)) > GREATEST(x,y,z) THEN 'Yes' \n",
    "        ELSE 'No'\n",
    "    END AS triangle\n",
    "FROM Triangle;\n",
    "```\n"
   ]
  },
  {
   "cell_type": "markdown",
   "metadata": {},
   "source": [
    "---\n",
    "---"
   ]
  },
  {
   "cell_type": "markdown",
   "metadata": {},
   "source": []
  },
  {
   "cell_type": "markdown",
   "metadata": {},
   "source": []
  }
 ],
 "metadata": {
  "kernelspec": {
   "display_name": "moon",
   "language": "python",
   "name": "python3"
  },
  "language_info": {
   "name": "python",
   "version": "3.11.11"
  }
 },
 "nbformat": 4,
 "nbformat_minor": 2
}
