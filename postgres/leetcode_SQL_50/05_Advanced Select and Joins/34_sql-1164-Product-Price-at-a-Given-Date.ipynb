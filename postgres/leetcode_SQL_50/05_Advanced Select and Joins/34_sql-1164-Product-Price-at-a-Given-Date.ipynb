{
 "cells": [
  {
   "cell_type": "markdown",
   "metadata": {},
   "source": [
    "1164. Product Price at a Given Date\n",
    "\n",
    "    Medium\n",
    "    Topics\n",
    "    Companies\n",
    "\n",
    "Table: Products\n",
    "\n",
    "+---------------+---------+\n",
    "| Column Name   | Type    |\n",
    "+---------------+---------+\n",
    "| product_id    | int     |\n",
    "| new_price     | int     |\n",
    "| change_date   | date    |\n",
    "+---------------+---------+\n",
    "(product_id, change_date) is the primary key (combination of columns with unique values) of this table.\n",
    "Each row of this table indicates that the price of some product was changed to a new price at some date.\n",
    " \n",
    "\n",
    "Write a solution to find the prices of all products on 2019-08-16. Assume the price of all products before any change is 10.\n",
    "\n",
    "Return the result table in any order.\n",
    "\n",
    "The result format is in the following example.\n",
    "\n",
    " \n",
    "\n",
    "Example 1:\n",
    "\n",
    "Input: \n",
    "Products table:\n",
    "+------------+-----------+-------------+\n",
    "| product_id | new_price | change_date |\n",
    "+------------+-----------+-------------+\n",
    "| 1          | 20        | 2019-08-14  |\n",
    "| 2          | 50        | 2019-08-14  |\n",
    "| 1          | 30        | 2019-08-15  |\n",
    "| 1          | 35        | 2019-08-16  |\n",
    "| 2          | 65        | 2019-08-17  |\n",
    "| 3          | 20        | 2019-08-18  |\n",
    "+------------+-----------+-------------+\n",
    "Output: \n",
    "+------------+-------+\n",
    "| product_id | price |\n",
    "+------------+-------+\n",
    "| 2          | 50    |\n",
    "| 1          | 35    |\n",
    "| 3          | 10    |\n",
    "+------------+-------+\n",
    "\n",
    "---\n",
    "\n",
    "give best time and space complexity sql query for postgresql and pandas(python code) ,give variables usefull name, add comments to explain the code way more clear, schema is below\n",
    "\n",
    "---\n",
    "\n",
    "# Pandas schema\n",
    "data = [[1, 20, '2019-08-14'], [2, 50, '2019-08-14'], [1, 30, '2019-08-15'], [1, 35, '2019-08-16'], [2, 65, '2019-08-17'], [3, 20, '2019-08-18']]\n",
    "products = pd.DataFrame(data, columns=['product_id', 'new_price', 'change_date']).astype({'product_id':'Int64', 'new_price':'Int64', 'change_date':'datetime64[ns]'})\n",
    "\n",
    "# SQL schema\n",
    "Create table If Not Exists Products (product_id int, new_price int, change_date date)\n",
    "Truncate table Products\n",
    "insert into Products (product_id, new_price, change_date) values ('1', '20', '2019-08-14')\n",
    "insert into Products (product_id, new_price, change_date) values ('2', '50', '2019-08-14')\n",
    "insert into Products (product_id, new_price, change_date) values ('1', '30', '2019-08-15')\n",
    "insert into Products (product_id, new_price, change_date) values ('1', '35', '2019-08-16')\n",
    "insert into Products (product_id, new_price, change_date) values ('2', '65', '2019-08-17')\n",
    "insert into Products (product_id, new_price, change_date) values ('3', '20', '2019-08-18')"
   ]
  },
  {
   "cell_type": "code",
   "execution_count": null,
   "metadata": {},
   "outputs": [],
   "source": [
    "import pandas as pd\n",
    "\n",
    "\n",
    "def price_at_given_date(products: pd.DataFrame) -> pd.DataFrame:\n",
    "    df1 = products[products.change_date <= \"2019-08-16\"]\n",
    "    df2 = products[products.change_date > \"2019-08-16\"]\n",
    "    df2.new_price = 10\n",
    "    df2 = df2[~df2.product_id.isin(df1.product_id)]\n",
    "    return (\n",
    "        pd.concat([df1, df2])\n",
    "        .sort_values(by=\"change_date\", ascending=False)\n",
    "        .drop_duplicates([\"product_id\"])[[\"product_id\", \"new_price\"]]\n",
    "        .rename(columns={\"new_price\": \"price\"})\n",
    "    )"
   ]
  },
  {
   "cell_type": "markdown",
   "metadata": {},
   "source": [
    "```py\n",
    "import pandas as pd\n",
    "\n",
    "def price_at_given_date(products: pd.DataFrame) -> pd.DataFrame:\n",
    "    df1 = products[products.change_date <= '2019-08-16']\n",
    "    df2 = products[products.change_date > '2019-08-16']\n",
    "    df2.new_price = 10\n",
    "    df2 = df2[~df2.product_id.isin(df1.product_id)]\n",
    "    return pd.concat([df1,df2]).sort_values(by = 'change_date', ascending = False).drop_duplicates(['product_id'])[['product_id','new_price']].rename(columns = {'new_price' : 'price'})\n",
    "\n",
    "```\n"
   ]
  },
  {
   "cell_type": "markdown",
   "metadata": {
    "vscode": {
     "languageId": "plaintext"
    }
   },
   "source": [
    "```sql\n",
    "-- Write your PostgreSQL query statement below\n",
    "(SELECT DISTINCT ON(product_id) product_id,new_price as price FROM Products WHERE\n",
    "change_date <= '2019-08-16' ORDER BY product_id,change_date DESC)\n",
    "\n",
    "UNION ALL\n",
    "\n",
    "SELECT product_id, 10 AS price FROM Products\n",
    "GROUP BY product_id\n",
    "HAVING min(change_date) > '2019-08-16'\n",
    "\n",
    "```\n"
   ]
  },
  {
   "cell_type": "markdown",
   "metadata": {},
   "source": [
    "---\n",
    "---"
   ]
  },
  {
   "cell_type": "markdown",
   "metadata": {},
   "source": []
  },
  {
   "cell_type": "markdown",
   "metadata": {},
   "source": []
  }
 ],
 "metadata": {
  "kernelspec": {
   "display_name": "moon",
   "language": "python",
   "name": "python3"
  },
  "language_info": {
   "name": "python",
   "version": "3.11.11"
  }
 },
 "nbformat": 4,
 "nbformat_minor": 2
}
