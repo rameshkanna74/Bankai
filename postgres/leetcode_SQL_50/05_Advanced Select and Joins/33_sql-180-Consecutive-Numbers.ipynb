{
 "cells": [
  {
   "cell_type": "markdown",
   "metadata": {},
   "source": [
    "180. Consecutive Numbers\n",
    "\n",
    "    Medium\n",
    "    Topics\n",
    "    Companies\n",
    "\n",
    "Table: Logs\n",
    "\n",
    "+-------------+---------+\n",
    "| Column Name | Type    |\n",
    "+-------------+---------+\n",
    "| id          | int     |\n",
    "| num         | varchar |\n",
    "+-------------+---------+\n",
    "In SQL, id is the primary key for this table.\n",
    "id is an autoincrement column starting from 1.\n",
    " \n",
    "\n",
    "Find all numbers that appear at least three times consecutively.\n",
    "\n",
    "Return the result table in any order.\n",
    "\n",
    "The result format is in the following example.\n",
    "\n",
    " \n",
    "\n",
    "Example 1:\n",
    "\n",
    "Input: \n",
    "Logs table:\n",
    "+----+-----+\n",
    "| id | num |\n",
    "+----+-----+\n",
    "| 1  | 1   |\n",
    "| 2  | 1   |\n",
    "| 3  | 1   |\n",
    "| 4  | 2   |\n",
    "| 5  | 1   |\n",
    "| 6  | 2   |\n",
    "| 7  | 2   |\n",
    "+----+-----+\n",
    "Output: \n",
    "+-----------------+\n",
    "| ConsecutiveNums |\n",
    "+-----------------+\n",
    "| 1               |\n",
    "+-----------------+\n",
    "Explanation: 1 is the only number that appears consecutively for at least three times.\n",
    "\n",
    "---\n",
    "\n",
    "give best time and space complexity sql query for postgresql and pandas(python code) ,give variables usefull name, add comments to explain the code way more clear, schema is below\n",
    "---\n",
    "\n",
    "# Pandas schema\n",
    "data = [[1, 1], [2, 1], [3, 1], [4, 2], [5, 1], [6, 2], [7, 2]]\n",
    "logs = pd.DataFrame(data, columns=['id', 'num']).astype({'id':'Int64', 'num':'Int64'})\n",
    "\n",
    "# SQL schema\n",
    "Create table If Not Exists Logs (id int, num int)\n",
    "Truncate table Logs\n",
    "insert into Logs (id, num) values ('1', '1')\n",
    "insert into Logs (id, num) values ('2', '1')\n",
    "insert into Logs (id, num) values ('3', '1')\n",
    "insert into Logs (id, num) values ('4', '2')\n",
    "insert into Logs (id, num) values ('5', '1')\n",
    "insert into Logs (id, num) values ('6', '2')\n",
    "insert into Logs (id, num) values ('7', '2')\n"
   ]
  },
  {
   "cell_type": "code",
   "execution_count": null,
   "metadata": {},
   "outputs": [],
   "source": [
    "import pandas as pd\n",
    "\n",
    "def consecutive_numbers(logs: pd.DataFrame) -> pd.DataFrame:\n",
    "\n",
    "    logs.sort_values(['id'], inplace = True)\n",
    "\n",
    "    logs = logs[(logs.num == logs.num.shift(1)) & \n",
    "                (logs.num == logs.num.shift(2)) & \n",
    "                (logs.id  == logs.id.shift(1)+1) & # <-- added in the revision\n",
    "                (logs.id  == logs.id.shift(2)+2)   # <-- added in the revision\n",
    "                ].drop_duplicates('num')\n",
    "        \n",
    "    return logs.iloc[:,[1]].rename(columns = {'num':'ConsecutiveNums'})"
   ]
  },
  {
   "cell_type": "markdown",
   "metadata": {},
   "source": [
    "```py\n",
    "import pandas as pd\n",
    "\n",
    "def consecutive_numbers(logs: pd.DataFrame) -> pd.DataFrame:\n",
    "\n",
    "    logs.sort_values(['id'], inplace = True)\n",
    "\n",
    "    logs = logs[(logs.num == logs.num.shift(1)) & \n",
    "                (logs.num == logs.num.shift(2)) & \n",
    "                (logs.id  == logs.id.shift(1)+1) & # <-- added in the revision\n",
    "                (logs.id  == logs.id.shift(2)+2)   # <-- added in the revision\n",
    "                ].drop_duplicates('num')\n",
    "        \n",
    "    return logs.iloc[:,[1]].rename(columns = {'num':'ConsecutiveNums'})\n",
    "```\n"
   ]
  },
  {
   "cell_type": "markdown",
   "metadata": {
    "vscode": {
     "languageId": "plaintext"
    }
   },
   "source": [
    "```sql\n",
    "SELECT DISTINCT\n",
    "    num AS ConsecutiveNums\n",
    "FROM\n",
    "    (\n",
    "        SELECT \n",
    "            num,\n",
    "            LAG(num, 1) OVER (ORDER BY id) as prev1,\n",
    "            LAG(num, 2) OVER (ORDER BY id) as prev2\n",
    "        FROM\n",
    "            Logs\n",
    "    ) AS subquery\n",
    "WHERE\n",
    "    num = prev1 AND num = prev2\n",
    "```\n"
   ]
  },
  {
   "cell_type": "markdown",
   "metadata": {},
   "source": [
    "---\n",
    "---"
   ]
  },
  {
   "cell_type": "markdown",
   "metadata": {},
   "source": []
  },
  {
   "cell_type": "markdown",
   "metadata": {},
   "source": []
  }
 ],
 "metadata": {
  "kernelspec": {
   "display_name": "moon",
   "language": "python",
   "name": "python3"
  },
  "language_info": {
   "name": "python",
   "version": "3.11.11"
  }
 },
 "nbformat": 4,
 "nbformat_minor": 2
}
