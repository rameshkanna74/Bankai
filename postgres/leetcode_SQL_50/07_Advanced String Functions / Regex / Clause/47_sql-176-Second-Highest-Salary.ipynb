{
 "cells": [
  {
   "cell_type": "markdown",
   "metadata": {},
   "source": [
    "176. Second Highest Salary\n",
    "\n",
    "    Medium\n",
    "    Topics\n",
    "    Companies\n",
    "\n",
    "Table: Employee\n",
    "\n",
    "+-------------+------+\n",
    "| Column Name | Type |\n",
    "+-------------+------+\n",
    "| id          | int  |\n",
    "| salary      | int  |\n",
    "+-------------+------+\n",
    "id is the primary key (column with unique values) for this table.\n",
    "Each row of this table contains information about the salary of an employee.\n",
    " \n",
    "\n",
    "Write a solution to find the second highest distinct salary from the Employee table. If there is no second highest salary, return null (return None in Pandas).\n",
    "\n",
    "The result format is in the following example.\n",
    "\n",
    " \n",
    "\n",
    "Example 1:\n",
    "\n",
    "Input: \n",
    "Employee table:\n",
    "+----+--------+\n",
    "| id | salary |\n",
    "+----+--------+\n",
    "| 1  | 100    |\n",
    "| 2  | 200    |\n",
    "| 3  | 300    |\n",
    "+----+--------+\n",
    "Output: \n",
    "+---------------------+\n",
    "| SecondHighestSalary |\n",
    "+---------------------+\n",
    "| 200                 |\n",
    "+---------------------+\n",
    "Example 2:\n",
    "\n",
    "Input: \n",
    "Employee table:\n",
    "+----+--------+\n",
    "| id | salary |\n",
    "+----+--------+\n",
    "| 1  | 100    |\n",
    "+----+--------+\n",
    "Output: \n",
    "+---------------------+\n",
    "| SecondHighestSalary |\n",
    "+---------------------+\n",
    "| null                |\n",
    "+---------------------+\n",
    "\n",
    "---\n",
    "\n",
    "give best time and space complexity sql query for postgresql and pandas(python code) ,give variables usefull name, add comments to explain the code way more clear, schema is below\n",
    "---\n",
    "\n",
    "# Pandas schema\n",
    "data = [[1, 100], [2, 200], [3, 300]]\n",
    "employee = pd.DataFrame(data, columns=['id', 'salary']).astype({'id':'int64', 'salary':'int64'})\n",
    "\n",
    "# SQL schema\n",
    "Create table If Not Exists Employee (id int, salary int)\n",
    "Truncate table Employee\n",
    "insert into Employee (id, salary) values ('1', '100')\n",
    "insert into Employee (id, salary) values ('2', '200')\n",
    "insert into Employee (id, salary) values ('3', '300')\n"
   ]
  },
  {
   "cell_type": "code",
   "execution_count": null,
   "metadata": {},
   "outputs": [],
   "source": [
    "import pandas as pd\n",
    "\n",
    "def second_highest_salary(employee: pd.DataFrame) -> pd.DataFrame:\n",
    "    # Drop any duplicate salary values to avoid counting duplicates as separate salary ranks\n",
    "    unique_salaries = employee['salary'].drop_duplicates()\n",
    "\n",
    "    # Sort the unique salaries in descending order and get the second highest salary\n",
    "    second_highest = unique_salaries.nlargest(2).iloc[-1] if len(unique_salaries) >= 2 else None\n",
    "\n",
    "    # If the second highest salary doesn't exist (e.g., there are fewer than two unique salaries), return None\n",
    "    if second_highest is None:\n",
    "        return pd.DataFrame({'SecondHighestSalary': [None]})\n",
    "\n",
    "    # Create a DataFrame with the second highest salary\n",
    "    result_df = pd.DataFrame({'SecondHighestSalary': [second_highest]})\n",
    "\n",
    "    return result_df"
   ]
  },
  {
   "cell_type": "markdown",
   "metadata": {},
   "source": [
    "```py\n",
    "import pandas as pd\n",
    "\n",
    "def second_highest_salary(employee: pd.DataFrame) -> pd.DataFrame:\n",
    "    # Drop any duplicate salary values to avoid counting duplicates as separate salary ranks\n",
    "    unique_salaries = employee['salary'].drop_duplicates()\n",
    "\n",
    "    # Sort the unique salaries in descending order and get the second highest salary\n",
    "    second_highest = unique_salaries.nlargest(2).iloc[-1] if len(unique_salaries) >= 2 else None\n",
    "\n",
    "    # If the second highest salary doesn't exist (e.g., there are fewer than two unique salaries), return None\n",
    "    if second_highest is None:\n",
    "        return pd.DataFrame({'SecondHighestSalary': [None]})\n",
    "\n",
    "    # Create a DataFrame with the second highest salary\n",
    "    result_df = pd.DataFrame({'SecondHighestSalary': [second_highest]})\n",
    "\n",
    "    return result_df\n",
    "```\n"
   ]
  },
  {
   "cell_type": "markdown",
   "metadata": {
    "vscode": {
     "languageId": "plaintext"
    }
   },
   "source": [
    "```sql\n",
    "# Write your MySQL query statement below\n",
    "select max(salary) as SecondHighestSalary \n",
    "from Employee  \n",
    "Where salary < (select max(salary) from Employee)\n",
    "```\n"
   ]
  },
  {
   "cell_type": "markdown",
   "metadata": {},
   "source": [
    "---\n",
    "---"
   ]
  },
  {
   "cell_type": "markdown",
   "metadata": {},
   "source": []
  },
  {
   "cell_type": "markdown",
   "metadata": {},
   "source": []
  }
 ],
 "metadata": {
  "kernelspec": {
   "display_name": "moon",
   "language": "python",
   "name": "python3"
  },
  "language_info": {
   "name": "python",
   "version": "3.11.11"
  }
 },
 "nbformat": 4,
 "nbformat_minor": 2
}
