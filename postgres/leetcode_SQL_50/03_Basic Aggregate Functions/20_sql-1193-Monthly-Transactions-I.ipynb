{
 "cells": [
  {
   "cell_type": "markdown",
   "metadata": {},
   "source": [
    "1193. Monthly Transactions I\n",
    "\n",
    "    Medium\n",
    "    Topics\n",
    "    Companies\n",
    "\n",
    "Table: Transactions\n",
    "\n",
    "+---------------+---------+\n",
    "| Column Name   | Type    |\n",
    "+---------------+---------+\n",
    "| id            | int     |\n",
    "| country       | varchar |\n",
    "| state         | enum    |\n",
    "| amount        | int     |\n",
    "| trans_date    | date    |\n",
    "+---------------+---------+\n",
    "id is the primary key of this table.\n",
    "The table has information about incoming transactions.\n",
    "The state column is an enum of type [\"approved\", \"declined\"].\n",
    " \n",
    "\n",
    "Write an SQL query to find for each month and country, the number of transactions and their total amount, the number of approved transactions and their total amount.\n",
    "\n",
    "Return the result table in any order.\n",
    "\n",
    "The query result format is in the following example.\n",
    "\n",
    " \n",
    "\n",
    "Example 1:\n",
    "\n",
    "Input: \n",
    "Transactions table:\n",
    "+------+---------+----------+--------+------------+\n",
    "| id   | country | state    | amount | trans_date |\n",
    "+------+---------+----------+--------+------------+\n",
    "| 121  | US      | approved | 1000   | 2018-12-18 |\n",
    "| 122  | US      | declined | 2000   | 2018-12-19 |\n",
    "| 123  | US      | approved | 2000   | 2019-01-01 |\n",
    "| 124  | DE      | approved | 2000   | 2019-01-07 |\n",
    "+------+---------+----------+--------+------------+\n",
    "Output: \n",
    "+----------+---------+-------------+----------------+--------------------+-----------------------+\n",
    "| month    | country | trans_count | approved_count | trans_total_amount | approved_total_amount |\n",
    "+----------+---------+-------------+----------------+--------------------+-----------------------+\n",
    "| 2018-12  | US      | 2           | 1              | 3000               | 1000                  |\n",
    "| 2019-01  | US      | 1           | 1              | 2000               | 2000                  |\n",
    "| 2019-01  | DE      | 1           | 1              | 2000               | 2000                  |\n",
    "+----------+---------+-------------+----------------+--------------------+-----------------------+\n",
    "\n",
    "---\n",
    "\n",
    "give best time and space complexity sql query for postgresql and pandas(python code) ,give variables usefull name, add comments to explain the code way more clear, schema is below\n",
    "---\n",
    "\n",
    "# Pandas schema\n",
    "data = [[121, 'US', 'approved', 1000, '2018-12-18'], [122, 'US', 'declined', 2000, '2018-12-19'], [123, 'US', 'approved', 2000, '2019-01-01'], [124, 'DE', 'approved', 2000, '2019-01-07']]\n",
    "transactions = pd.DataFrame(data, columns=['id', 'country', 'state', 'amount', 'trans_date']).astype({'id':'Int64', 'country':'object', 'state':'object', 'amount':'Int64', 'trans_date':'datetime64[ns]'})\n",
    "\n",
    "# SQL schema\n",
    "Create table If Not Exists Transactions (id int, country varchar(4), state enum('approved', 'declined'), amount int, trans_date date)\n",
    "Truncate table Transactions\n",
    "insert into Transactions (id, country, state, amount, trans_date) values ('121', 'US', 'approved', '1000', '2018-12-18')\n",
    "insert into Transactions (id, country, state, amount, trans_date) values ('122', 'US', 'declined', '2000', '2018-12-19')\n",
    "insert into Transactions (id, country, state, amount, trans_date) values ('123', 'US', 'approved', '2000', '2019-01-01')\n",
    "insert into Transactions (id, country, state, amount, trans_date) values ('124', 'DE', 'approved', '2000', '2019-01-07')\n"
   ]
  },
  {
   "cell_type": "code",
   "execution_count": null,
   "metadata": {},
   "outputs": [],
   "source": [
    "import pandas as pd\n",
    "\n",
    "def monthly_transactions(transactions: pd.DataFrame) -> pd.DataFrame:\n",
    "    transactions['month'] = pd.to_datetime(transactions['trans_date']).dt.strftime('%Y-%m')\n",
    "    transactions['state'] = transactions['state'].str.replace('approved', '1').replace('declined', '0')\n",
    "    transactions['state'] = transactions['state'].astype(int)\n",
    "    transactions['approved_total_amount'] = transactions['amount'] * transactions['state']\n",
    "    resq = transactions.groupby(['month', 'country'], dropna=False).agg({'id' : 'count', 'state' : 'sum', 'amount' : 'sum', 'approved_total_amount' : 'sum'}).reset_index()\n",
    "    return resq.rename(columns={'id' : 'trans_count', 'state' : 'approved_count', 'amount' : 'trans_total_amount'})"
   ]
  },
  {
   "cell_type": "markdown",
   "metadata": {},
   "source": [
    "```py\n",
    "import pandas as pd\n",
    "\n",
    "def monthly_transactions(transactions: pd.DataFrame) -> pd.DataFrame:\n",
    "    transactions['month'] = pd.to_datetime(transactions['trans_date']).dt.strftime('%Y-%m')\n",
    "    transactions['state'] = transactions['state'].str.replace('approved', '1').replace('declined', '0')\n",
    "    transactions['state'] = transactions['state'].astype(int)\n",
    "    transactions['approved_total_amount'] = transactions['amount'] * transactions['state']\n",
    "    resq = transactions.groupby(['month', 'country'], dropna=False).agg({'id' : 'count', 'state' : 'sum', 'amount' : 'sum', 'approved_total_amount' : 'sum'}).reset_index()\n",
    "    return resq.rename(columns={'id' : 'trans_count', 'state' : 'approved_count', 'amount' : 'trans_total_amount'})\n",
    "```\n"
   ]
  },
  {
   "cell_type": "markdown",
   "metadata": {
    "vscode": {
     "languageId": "plaintext"
    }
   },
   "source": [
    "```sql\n",
    "-- Write your PostgreSQL query statement below\n",
    "SELECT to_char(trans_date,'yyyy-mm') as month, country, \n",
    "COUNT(amount) as trans_count, \n",
    "COUNT(CASE WHEN state = 'approved' then id else null end) as approved_count,\n",
    "SUM(amount) as trans_total_amount,\n",
    "SUM(CASE WHEN state = 'approved' then amount else 0 end) as approved_total_amount \n",
    "FROM Transactions \n",
    "GROUP BY month,country\n",
    "```\n"
   ]
  },
  {
   "cell_type": "markdown",
   "metadata": {},
   "source": [
    "---\n",
    "---"
   ]
  },
  {
   "cell_type": "markdown",
   "metadata": {},
   "source": []
  },
  {
   "cell_type": "markdown",
   "metadata": {},
   "source": []
  }
 ],
 "metadata": {
  "kernelspec": {
   "display_name": "moon",
   "language": "python",
   "name": "python3"
  },
  "language_info": {
   "name": "python",
   "version": "3.11.11"
  }
 },
 "nbformat": 4,
 "nbformat_minor": 2
}
