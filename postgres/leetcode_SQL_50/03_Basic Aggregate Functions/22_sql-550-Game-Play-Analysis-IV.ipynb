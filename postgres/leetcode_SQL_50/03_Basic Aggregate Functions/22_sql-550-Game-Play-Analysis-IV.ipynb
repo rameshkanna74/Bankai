{
 "cells": [
  {
   "cell_type": "markdown",
   "metadata": {},
   "source": [
    "550. Game Play Analysis IV\n",
    "\n",
    "    Medium\n",
    "    Topics\n",
    "    Companies\n",
    "\n",
    "Table: Activity\n",
    "\n",
    "+--------------+---------+\n",
    "| Column Name  | Type    |\n",
    "+--------------+---------+\n",
    "| player_id    | int     |\n",
    "| device_id    | int     |\n",
    "| event_date   | date    |\n",
    "| games_played | int     |\n",
    "+--------------+---------+\n",
    "(player_id, event_date) is the primary key (combination of columns with unique values) of this table.\n",
    "This table shows the activity of players of some games.\n",
    "Each row is a record of a player who logged in and played a number of games (possibly 0) before logging out on someday using some device.\n",
    " \n",
    "\n",
    "Write a solution to report the fraction of players that logged in again on the day after the day they first logged in, rounded to 2 decimal places. In other words, you need to count the number of players that logged in for at least two consecutive days starting from their first login date, then divide that number by the total number of players.\n",
    "\n",
    "The result format is in the following example.\n",
    "\n",
    " \n",
    "\n",
    "Example 1:\n",
    "\n",
    "Input: \n",
    "Activity table:\n",
    "+-----------+-----------+------------+--------------+\n",
    "| player_id | device_id | event_date | games_played |\n",
    "+-----------+-----------+------------+--------------+\n",
    "| 1         | 2         | 2016-03-01 | 5            |\n",
    "| 1         | 2         | 2016-03-02 | 6            |\n",
    "| 2         | 3         | 2017-06-25 | 1            |\n",
    "| 3         | 1         | 2016-03-02 | 0            |\n",
    "| 3         | 4         | 2018-07-03 | 5            |\n",
    "+-----------+-----------+------------+--------------+\n",
    "Output: \n",
    "+-----------+\n",
    "| fraction  |\n",
    "+-----------+\n",
    "| 0.33      |\n",
    "+-----------+\n",
    "Explanation: \n",
    "Only the player with id 1 logged back in after the first day he had logged in so the answer is 1/3 = 0.33\n",
    "\n",
    "---\n",
    "\n",
    "give best time and space complexity sql query for postgresql and pandas(python code) ,give variables usefull name, add comments to explain the code way more clear, schema is below\n",
    "---\n",
    "\n",
    "# Pandas schema\n",
    "data = [[1, 2, '2016-03-01', 5], [1, 2, '2016-03-02', 6], [2, 3, '2017-06-25', 1], [3, 1, '2016-03-02', 0], [3, 4, '2018-07-03', 5]]\n",
    "activity = pd.DataFrame(data, columns=['player_id', 'device_id', 'event_date', 'games_played']).astype({'player_id':'Int64', 'device_id':'Int64', 'event_date':'datetime64[ns]', 'games_played':'Int64'})\n",
    "\n",
    "# SQL schema\n",
    "Create table If Not Exists Activity (player_id int, device_id int, event_date date, games_played int)\n",
    "Truncate table Activity\n",
    "insert into Activity (player_id, device_id, event_date, games_played) values ('1', '2', '2016-03-01', '5')\n",
    "insert into Activity (player_id, device_id, event_date, games_played) values ('1', '2', '2016-03-02', '6')\n",
    "insert into Activity (player_id, device_id, event_date, games_played) values ('2', '3', '2017-06-25', '1')\n",
    "insert into Activity (player_id, device_id, event_date, games_played) values ('3', '1', '2016-03-02', '0')\n",
    "insert into Activity (player_id, device_id, event_date, games_played) values ('3', '4', '2018-07-03', '5')\n"
   ]
  },
  {
   "cell_type": "code",
   "execution_count": null,
   "metadata": {},
   "outputs": [],
   "source": [
    "import pandas as pd\n",
    "\n",
    "def gameplay_analysis(activity: pd.DataFrame) -> pd.DataFrame:\n",
    "      activity[\"first\"] = activity.groupby(\"player_id\").event_date.transform(min)\n",
    "      activity_2nd_day = activity.loc[activity[\"first\"] + pd.DateOffset(1) == activity[\"event_date\"]]\n",
    "      return pd.DataFrame({\"fraction\":[round(len(activity_2nd_day) / activity.player_id.nunique(),2)]})"
   ]
  },
  {
   "cell_type": "markdown",
   "metadata": {},
   "source": [
    "```py\n",
    "import pandas as pd\n",
    "\n",
    "def gameplay_analysis(activity: pd.DataFrame) -> pd.DataFrame:\n",
    "      activity[\"first\"] = activity.groupby(\"player_id\").event_date.transform(min)\n",
    "      activity_2nd_day = activity.loc[activity[\"first\"] + pd.DateOffset(1) == activity[\"event_date\"]]\n",
    "      return pd.DataFrame({\"fraction\":[round(len(activity_2nd_day) / activity.player_id.nunique(),2)]})\n",
    "```\n"
   ]
  },
  {
   "cell_type": "markdown",
   "metadata": {
    "vscode": {
     "languageId": "plaintext"
    }
   },
   "source": [
    "```sql\n",
    "select round (count(*)::numeric / (select count (distinct player_id) from activity) , 2) fraction\n",
    "from activity\n",
    "where (player_id , event_date) in (\n",
    "        select player_id , min(event_date) + 1 firstLog\n",
    "        from activity\n",
    "        group by 1 )\n",
    "\n",
    "```\n"
   ]
  },
  {
   "cell_type": "markdown",
   "metadata": {},
   "source": [
    "---\n",
    "---"
   ]
  },
  {
   "cell_type": "markdown",
   "metadata": {},
   "source": []
  },
  {
   "cell_type": "markdown",
   "metadata": {},
   "source": []
  }
 ],
 "metadata": {
  "kernelspec": {
   "display_name": "moon",
   "language": "python",
   "name": "python3"
  },
  "language_info": {
   "name": "python",
   "version": "3.11.11"
  }
 },
 "nbformat": 4,
 "nbformat_minor": 2
}
