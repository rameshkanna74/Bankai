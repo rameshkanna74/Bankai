{
 "cells": [
  {
   "cell_type": "markdown",
   "metadata": {},
   "source": [
    "1211. Queries Quality and Percentage\n",
    "\n",
    "    Easy\n",
    "    Topics\n",
    "    Companies\n",
    "\n",
    "Table: Queries\n",
    "\n",
    "+-------------+---------+\n",
    "| Column Name | Type    |\n",
    "+-------------+---------+\n",
    "| query_name  | varchar |\n",
    "| result      | varchar |\n",
    "| position    | int     |\n",
    "| rating      | int     |\n",
    "+-------------+---------+\n",
    "This table may have duplicate rows.\n",
    "This table contains information collected from some queries on a database.\n",
    "The position column has a value from 1 to 500.\n",
    "The rating column has a value from 1 to 5. Query with rating less than 3 is a poor query.\n",
    " \n",
    "\n",
    "We define query quality as:\n",
    "\n",
    "The average of the ratio between query rating and its position.\n",
    "\n",
    "We also define poor query percentage as:\n",
    "\n",
    "The percentage of all queries with rating less than 3.\n",
    "\n",
    "Write a solution to find each query_name, the quality and poor_query_percentage.\n",
    "\n",
    "Both quality and poor_query_percentage should be rounded to 2 decimal places.\n",
    "\n",
    "Return the result table in any order.\n",
    "\n",
    "The result format is in the following example.\n",
    "\n",
    " \n",
    "\n",
    "Example 1:\n",
    "\n",
    "Input: \n",
    "Queries table:\n",
    "+------------+-------------------+----------+--------+\n",
    "| query_name | result            | position | rating |\n",
    "+------------+-------------------+----------+--------+\n",
    "| Dog        | Golden Retriever  | 1        | 5      |\n",
    "| Dog        | German Shepherd   | 2        | 5      |\n",
    "| Dog        | Mule              | 200      | 1      |\n",
    "| Cat        | Shirazi           | 5        | 2      |\n",
    "| Cat        | Siamese           | 3        | 3      |\n",
    "| Cat        | Sphynx            | 7        | 4      |\n",
    "+------------+-------------------+----------+--------+\n",
    "Output: \n",
    "+------------+---------+-----------------------+\n",
    "| query_name | quality | poor_query_percentage |\n",
    "+------------+---------+-----------------------+\n",
    "| Dog        | 2.50    | 33.33                 |\n",
    "| Cat        | 0.66    | 33.33                 |\n",
    "+------------+---------+-----------------------+\n",
    "Explanation: \n",
    "Dog queries quality is ((5 / 1) + (5 / 2) + (1 / 200)) / 3 = 2.50\n",
    "Dog queries poor_ query_percentage is (1 / 3) * 100 = 33.33\n",
    "\n",
    "Cat queries quality equals ((2 / 5) + (3 / 3) + (4 / 7)) / 3 = 0.66\n",
    "Cat queries poor_ query_percentage is (1 / 3) * 100 = 33.33\n",
    "\n",
    "---\n",
    "\n",
    "give best time and space complexity sql query for postgresql and pandas(python code) ,give variables usefull name, add comments to explain the code way more clear, schema is below\n",
    "---\n",
    "\n",
    "# Pandas schema\n",
    "data = [['Dog', 'Golden Retriever', 1, 5], ['Dog', 'German Shepherd', 2, 5], ['Dog', 'Mule', 200, 1], ['Cat', 'Shirazi', 5, 2], ['Cat', 'Siamese', 3, 3], ['Cat', 'Sphynx', 7, 4]]\n",
    "queries = pd.DataFrame(data, columns=['query_name', 'result', 'position', 'rating']).astype({'query_name':'object', 'result':'object', 'position':'Int64', 'rating':'Int64'})\n",
    "\n",
    "# SQL schema\n",
    "Create table If Not Exists Queries (query_name varchar(30), result varchar(50), position int, rating int)\n",
    "Truncate table Queries\n",
    "insert into Queries (query_name, result, position, rating) values ('Dog', 'Golden Retriever', '1', '5')\n",
    "insert into Queries (query_name, result, position, rating) values ('Dog', 'German Shepherd', '2', '5')\n",
    "insert into Queries (query_name, result, position, rating) values ('Dog', 'Mule', '200', '1')\n",
    "insert into Queries (query_name, result, position, rating) values ('Cat', 'Shirazi', '5', '2')\n",
    "insert into Queries (query_name, result, position, rating) values ('Cat', 'Siamese', '3', '3')\n",
    "insert into Queries (query_name, result, position, rating) values ('Cat', 'Sphynx', '7', '4')\n"
   ]
  },
  {
   "cell_type": "code",
   "execution_count": null,
   "metadata": {},
   "outputs": [],
   "source": [
    "import pandas as pd\n",
    "\n",
    "round2 = lambda x: round(x + 1e-9, 2)\n",
    "\n",
    "def queries_stats(queries: pd.DataFrame) -> pd.DataFrame:\n",
    "\n",
    "    queries['quality'] = queries.rating/queries.position\n",
    "    queries['poor_query_percentage'] = (queries.rating < 3)*100\n",
    "\n",
    "    return queries.groupby('query_name')[['quality',\n",
    "          'poor_query_percentage']].mean().apply(round2).reset_index()"
   ]
  },
  {
   "cell_type": "markdown",
   "metadata": {},
   "source": [
    "```py\n",
    "import pandas as pd\n",
    "\n",
    "round2 = lambda x: round(x + 1e-9, 2)\n",
    "\n",
    "def queries_stats(queries: pd.DataFrame) -> pd.DataFrame:\n",
    "\n",
    "    queries['quality'] = queries.rating/queries.position\n",
    "    queries['poor_query_percentage'] = (queries.rating < 3)*100\n",
    "\n",
    "    return queries.groupby('query_name')[['quality',\n",
    "          'poor_query_percentage']].mean().apply(round2).reset_index()\n",
    "```\n"
   ]
  },
  {
   "cell_type": "markdown",
   "metadata": {
    "vscode": {
     "languageId": "plaintext"
    }
   },
   "source": [
    "```sql\n",
    "-- Write your PostgreSQL query statement below\n",
    "SELECT \n",
    "    query_name,\n",
    "    ROUND(AVG(rating*1.0/position), 2) AS quality,\n",
    "    ROUND(AVG((rating < 3)::int*100), 2) AS poor_query_percentage\n",
    "FROM\n",
    "    Queries\n",
    "GROUP BY\n",
    "    query_name\n",
    "```\n"
   ]
  },
  {
   "cell_type": "markdown",
   "metadata": {},
   "source": [
    "---\n",
    "---"
   ]
  },
  {
   "cell_type": "markdown",
   "metadata": {},
   "source": []
  },
  {
   "cell_type": "markdown",
   "metadata": {},
   "source": []
  }
 ],
 "metadata": {
  "kernelspec": {
   "display_name": "moon",
   "language": "python",
   "name": "python3"
  },
  "language_info": {
   "name": "python",
   "version": "3.11.11"
  }
 },
 "nbformat": 4,
 "nbformat_minor": 2
}
