{
 "cells": [
  {
   "cell_type": "markdown",
   "metadata": {},
   "source": [
    "577. Employee Bonus\n",
    "\n",
    "    Easy\n",
    "    Topics\n",
    "    Companies\n",
    "    Hint\n",
    "\n",
    "Table: Employee\n",
    "\n",
    "+-------------+---------+\n",
    "| Column Name | Type    |\n",
    "+-------------+---------+\n",
    "| empId       | int     |\n",
    "| name        | varchar |\n",
    "| supervisor  | int     |\n",
    "| salary      | int     |\n",
    "+-------------+---------+\n",
    "empId is the column with unique values for this table.\n",
    "Each row of this table indicates the name and the ID of an employee in addition to their salary and the id of their manager.\n",
    " \n",
    "\n",
    "Table: Bonus\n",
    "\n",
    "+-------------+------+\n",
    "| Column Name | Type |\n",
    "+-------------+------+\n",
    "| empId       | int  |\n",
    "| bonus       | int  |\n",
    "+-------------+------+\n",
    "empId is the column of unique values for this table.\n",
    "empId is a foreign key (reference column) to empId from the Employee table.\n",
    "Each row of this table contains the id of an employee and their respective bonus.\n",
    " \n",
    "\n",
    "Write a solution to report the name and bonus amount of each employee with a bonus less than 1000.\n",
    "\n",
    "Return the result table in any order.\n",
    "\n",
    "The result format is in the following example.\n",
    "\n",
    " \n",
    "\n",
    "Example 1:\n",
    "\n",
    "Input: \n",
    "Employee table:\n",
    "+-------+--------+------------+--------+\n",
    "| empId | name   | supervisor | salary |\n",
    "+-------+--------+------------+--------+\n",
    "| 3     | Brad   | null       | 4000   |\n",
    "| 1     | John   | 3          | 1000   |\n",
    "| 2     | Dan    | 3          | 2000   |\n",
    "| 4     | Thomas | 3          | 4000   |\n",
    "+-------+--------+------------+--------+\n",
    "Bonus table:\n",
    "+-------+-------+\n",
    "| empId | bonus |\n",
    "+-------+-------+\n",
    "| 2     | 500   |\n",
    "| 4     | 2000  |\n",
    "+-------+-------+\n",
    "Output: \n",
    "+------+-------+\n",
    "| name | bonus |\n",
    "+------+-------+\n",
    "| Brad | null  |\n",
    "| John | null  |\n",
    "| Dan  | 500   |\n",
    "+------+-------+\n",
    "\n",
    "---\n",
    "\n",
    "give best time and space complexity sql query for postgresql and pandas(python code) ,give variables usefull name, add comments to explain the code way more clear, schema is below\n",
    "\n",
    "---\n",
    "\n",
    "# Pandas schema\n",
    "\n",
    "data = [[3, 'Brad', None, 4000], [1, 'John', 3, 1000], [2, 'Dan', 3, 2000], [4, 'Thomas', 3, 4000]]\n",
    "employee = pd.DataFrame(data, columns=['empId', 'name', 'supervisor', 'salary']).astype({'empId':'Int64', 'name':'object', 'supervisor':'Int64', 'salary':'Int64'})\n",
    "data = [[2, 500], [4, 2000]]\n",
    "bonus = pd.DataFrame(data, columns=['empId', 'bonus']).astype({'empId':'Int64', 'bonus':'Int64'})\n",
    "\n",
    "# SQL schema\n",
    "\n",
    "Create table If Not Exists Employee (empId int, name varchar(255), supervisor int, salary int)\n",
    "Create table If Not Exists Bonus (empId int, bonus int)\n",
    "Truncate table Employee\n",
    "insert into Employee (empId, name, supervisor, salary) values ('3', 'Brad', NULL, '4000')\n",
    "insert into Employee (empId, name, supervisor, salary) values ('1', 'John', '3', '1000')\n",
    "insert into Employee (empId, name, supervisor, salary) values ('2', 'Dan', '3', '2000')\n",
    "insert into Employee (empId, name, supervisor, salary) values ('4', 'Thomas', '3', '4000')\n",
    "Truncate table Bonus\n",
    "insert into Bonus (empId, bonus) values ('2', '500')\n",
    "insert into Bonus (empId, bonus) values ('4', '2000')\n"
   ]
  },
  {
   "cell_type": "code",
   "execution_count": null,
   "metadata": {},
   "outputs": [],
   "source": [
    "import pandas as pd\n",
    "\n",
    "\n",
    "def employee_bonus(employee: pd.DataFrame, bonus: pd.DataFrame) -> pd.DataFrame:\n",
    "    # Perform a left join on the 'empId' column\n",
    "    merged_df = pd.merge(employee, bonus, on=\"empId\", how=\"left\")\n",
    "\n",
    "    # Filter rows where bonus is less than 1000 or is NaN\n",
    "    result = merged_df[(merged_df[\"bonus\"] < 1000) | (merged_df[\"bonus\"].isna())]\n",
    "\n",
    "    # Select only the 'name' and 'bonus' columns\n",
    "    return result[[\"name\", \"bonus\"]]"
   ]
  },
  {
   "cell_type": "markdown",
   "metadata": {
    "vscode": {
     "languageId": "plaintext"
    }
   },
   "source": [
    "```sql\n",
    "SELECT name, bonus\n",
    "FROM Employee\n",
    "LEFT JOIN Bonus ON Employee.empId = Bonus.empId\n",
    "WHERE bonus < 1000 OR bonus IS NULL;\n",
    "```\n"
   ]
  },
  {
   "cell_type": "markdown",
   "metadata": {},
   "source": [
    "```py\n",
    "import pandas as pd\n",
    "\n",
    "def employee_bonus(employee: pd.DataFrame, bonus: pd.DataFrame) -> pd.DataFrame:\n",
    "    # Perform a left join on the 'empId' column\n",
    "    merged_df = pd.merge(employee, bonus, on='empId', how='left')\n",
    "\n",
    "    # Filter rows where bonus is less than 1000 or is NaN\n",
    "    result = merged_df[(merged_df['bonus'] < 1000) | (merged_df['bonus'].isna())]\n",
    "\n",
    "    # Select only the 'name' and 'bonus' columns\n",
    "    return result[['name', 'bonus']]\n",
    "```\n"
   ]
  },
  {
   "cell_type": "markdown",
   "metadata": {},
   "source": [
    "---\n",
    "---"
   ]
  },
  {
   "cell_type": "markdown",
   "metadata": {},
   "source": []
  },
  {
   "cell_type": "markdown",
   "metadata": {},
   "source": []
  }
 ],
 "metadata": {
  "kernelspec": {
   "display_name": "moon",
   "language": "python",
   "name": "python3"
  },
  "language_info": {
   "name": "python",
   "version": "3.11.11"
  }
 },
 "nbformat": 4,
 "nbformat_minor": 2
}
