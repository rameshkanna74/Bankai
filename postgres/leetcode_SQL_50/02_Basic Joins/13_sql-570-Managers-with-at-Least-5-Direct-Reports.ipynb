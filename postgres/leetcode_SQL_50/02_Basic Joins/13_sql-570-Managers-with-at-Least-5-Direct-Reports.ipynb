{
 "cells": [
  {
   "cell_type": "markdown",
   "metadata": {},
   "source": [
    "570. Managers with at Least 5 Direct Reports\n",
    "\n",
    "    Medium\n",
    "    Topics\n",
    "    Companies\n",
    "    Hint\n",
    "\n",
    "Table: Employee\n",
    "\n",
    "+-------------+---------+\n",
    "| Column Name | Type    |\n",
    "+-------------+---------+\n",
    "| id          | int     |\n",
    "| name        | varchar |\n",
    "| department  | varchar |\n",
    "| managerId   | int     |\n",
    "+-------------+---------+\n",
    "id is the primary key (column with unique values) for this table.\n",
    "Each row of this table indicates the name of an employee, their department, and the id of their manager.\n",
    "If managerId is null, then the employee does not have a manager.\n",
    "No employee will be the manager of themself.\n",
    " \n",
    "\n",
    "Write a solution to find managers with at least five direct reports.\n",
    "\n",
    "Return the result table in any order.\n",
    "\n",
    "The result format is in the following example.\n",
    "\n",
    " \n",
    "\n",
    "Example 1:\n",
    "\n",
    "Input: \n",
    "Employee table:\n",
    "+-----+-------+------------+-----------+\n",
    "| id  | name  | department | managerId |\n",
    "+-----+-------+------------+-----------+\n",
    "| 101 | John  | A          | null      |\n",
    "| 102 | Dan   | A          | 101       |\n",
    "| 103 | James | A          | 101       |\n",
    "| 104 | Amy   | A          | 101       |\n",
    "| 105 | Anne  | A          | 101       |\n",
    "| 106 | Ron   | B          | 101       |\n",
    "+-----+-------+------------+-----------+\n",
    "Output: \n",
    "+------+\n",
    "| name |\n",
    "+------+\n",
    "| John |\n",
    "+------+\n",
    "\n",
    "---\n",
    "\n",
    "give best time and space complexity sql query for postgresql and pandas(python code) ,give variables usefull name, add comments to explain the code way more clear\n",
    "\n",
    "---\n",
    "\n",
    "# Pandas Schema\n",
    "data = [[101, 'John', 'A', None], [102, 'Dan', 'A', 101], [103, 'James', 'A', 101], [104, 'Amy', 'A', 101], [105, 'Anne', 'A', 101], [106, 'Ron', 'B', 101]]\n",
    "employee = pd.DataFrame(data, columns=['id', 'name', 'department', 'managerId']).astype({'id':'Int64', 'name':'object', 'department':'object', 'managerId':'Int64'})\n",
    "\n",
    "# SQL Schema\n",
    "Create table If Not Exists Employee (id int, name varchar(255), department varchar(255), managerId int)\n",
    "Truncate table Employee\n",
    "insert into Employee (id, name, department, managerId) values ('101', 'John', 'A', NULL)\n",
    "insert into Employee (id, name, department, managerId) values ('102', 'Dan', 'A', '101')\n",
    "insert into Employee (id, name, department, managerId) values ('103', 'James', 'A', '101')\n",
    "insert into Employee (id, name, department, managerId) values ('104', 'Amy', 'A', '101')\n",
    "insert into Employee (id, name, department, managerId) values ('105', 'Anne', 'A', '101')\n",
    "insert into Employee (id, name, department, managerId) values ('106', 'Ron', 'B', '101')\n"
   ]
  },
  {
   "cell_type": "markdown",
   "metadata": {},
   "source": [
    "---\n",
    "---"
   ]
  },
  {
   "cell_type": "code",
   "execution_count": null,
   "metadata": {
    "vscode": {
     "languageId": "plaintext"
    }
   },
   "outputs": [],
   "source": [
    "def find_managers(employee: pd.DataFrame) -> pd.DataFrame:\n",
    "    managers = employee.groupby(\n",
    "        'managerId', as_index=False\n",
    "    ).agg(\n",
    "        reporting=('id', 'count'),\n",
    "    ).query(\n",
    "        '5 <= reporting'\n",
    "    )['managerId']\n",
    "\n",
    "    return employee[\n",
    "        employee['id'].isin(managers)\n",
    "    ][['name']]"
   ]
  },
  {
   "cell_type": "markdown",
   "metadata": {},
   "source": [
    "```py\n",
    "def find_managers(employee: pd.DataFrame) -> pd.DataFrame:\n",
    "    managers = employee.groupby(\n",
    "        'managerId', as_index=False\n",
    "    ).agg(\n",
    "        reporting=('id', 'count'),\n",
    "    ).query(\n",
    "        '5 <= reporting'\n",
    "    )['managerId']\n",
    "\n",
    "    return employee[\n",
    "        employee['id'].isin(managers)\n",
    "    ][['name']]\n",
    "```"
   ]
  },
  {
   "cell_type": "markdown",
   "metadata": {},
   "source": [
    "```sql\n",
    "SELECT e1.name\n",
    "  FROM Employee e1\n",
    "      JOIN Employee e2\n",
    "          ON e1.id = e2.managerId\n",
    " GROUP BY e1.id\n",
    "HAVING count(e2.managerId) >= 5;\n",
    "```"
   ]
  },
  {
   "cell_type": "markdown",
   "metadata": {},
   "source": [
    "---\n",
    "---"
   ]
  },
  {
   "cell_type": "markdown",
   "metadata": {},
   "source": []
  },
  {
   "cell_type": "markdown",
   "metadata": {},
   "source": []
  }
 ],
 "metadata": {
  "kernelspec": {
   "display_name": "moon",
   "language": "python",
   "name": "python3"
  },
  "language_info": {
   "name": "python",
   "version": "3.11.11"
  }
 },
 "nbformat": 4,
 "nbformat_minor": 2
}
