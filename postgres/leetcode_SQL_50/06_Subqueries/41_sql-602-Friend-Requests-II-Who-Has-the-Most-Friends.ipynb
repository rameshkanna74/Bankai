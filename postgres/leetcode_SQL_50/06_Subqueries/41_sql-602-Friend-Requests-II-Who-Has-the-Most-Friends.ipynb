{
 "cells": [
  {
   "cell_type": "markdown",
   "metadata": {},
   "source": [
    "602. Friend Requests II: Who Has the Most Friends\n",
    "\n",
    "    Medium\n",
    "    Topics\n",
    "    Companies\n",
    "    Hint\n",
    "\n",
    "Table: RequestAccepted\n",
    "\n",
    "+----------------+---------+\n",
    "| Column Name    | Type    |\n",
    "+----------------+---------+\n",
    "| requester_id   | int     |\n",
    "| accepter_id    | int     |\n",
    "| accept_date    | date    |\n",
    "+----------------+---------+\n",
    "(requester_id, accepter_id) is the primary key (combination of columns with unique values) for this table.\n",
    "This table contains the ID of the user who sent the request, the ID of the user who received the request, and the date when the request was accepted.\n",
    " \n",
    "\n",
    "Write a solution to find the people who have the most friends and the most friends number.\n",
    "\n",
    "The test cases are generated so that only one person has the most friends.\n",
    "\n",
    "The result format is in the following example.\n",
    "\n",
    " \n",
    "\n",
    "Example 1:\n",
    "\n",
    "Input: \n",
    "RequestAccepted table:\n",
    "+--------------+-------------+-------------+\n",
    "| requester_id | accepter_id | accept_date |\n",
    "+--------------+-------------+-------------+\n",
    "| 1            | 2           | 2016/06/03  |\n",
    "| 1            | 3           | 2016/06/08  |\n",
    "| 2            | 3           | 2016/06/08  |\n",
    "| 3            | 4           | 2016/06/09  |\n",
    "+--------------+-------------+-------------+\n",
    "Output: \n",
    "+----+-----+\n",
    "| id | num |\n",
    "+----+-----+\n",
    "| 3  | 3   |\n",
    "+----+-----+\n",
    "Explanation: \n",
    "The person with id 3 is a friend of people 1, 2, and 4, so he has three friends in total, which is the most number than any others.\n",
    "\n",
    "\n",
    "---\n",
    "\n",
    "give best time and space complexity sql query for postgresql and pandas(python code) ,give variables usefull name, add comments to explain the code way more clear, schema is below\n",
    "\n",
    "---\n",
    "\n",
    "# Pandas schema\n",
    "data = [[1, 2, '2016/06/03'], [1, 3, '2016/06/08'], [2, 3, '2016/06/08'], [3, 4, '2016/06/09']]\n",
    "request_accepted = pd.DataFrame(data, columns=['requester_id', 'accepter_id', 'accept_date']).astype({'requester_id':'Int64', 'accepter_id':'Int64', 'accept_date':'datetime64[ns]'})\n",
    "\n",
    "# SQL schema\n",
    "Create table If Not Exists RequestAccepted (requester_id int not null, accepter_id int null, accept_date date null)\n",
    "Truncate table RequestAccepted\n",
    "insert into RequestAccepted (requester_id, accepter_id, accept_date) values ('1', '2', '2016/06/03')\n",
    "insert into RequestAccepted (requester_id, accepter_id, accept_date) values ('1', '3', '2016/06/08')\n",
    "insert into RequestAccepted (requester_id, accepter_id, accept_date) values ('2', '3', '2016/06/08')\n",
    "insert into RequestAccepted (requester_id, accepter_id, accept_date) values ('3', '4', '2016/06/09')\n"
   ]
  },
  {
   "cell_type": "code",
   "execution_count": null,
   "metadata": {},
   "outputs": [],
   "source": [
    "import pandas as pd\n",
    "\n",
    "def most_friends(request_accepted: pd.DataFrame) -> pd.DataFrame:\n",
    "    res = pd.concat([request_accepted[\"requester_id\"], request_accepted[\"accepter_id\"]]).tolist()\n",
    "    r = mode(res)\n",
    "    return pd.DataFrame({\"id\" : [r], \"num\" : [res.count(r)]})"
   ]
  },
  {
   "cell_type": "markdown",
   "metadata": {},
   "source": [
    "```py\n",
    "import pandas as pd\n",
    "\n",
    "def most_friends(request_accepted: pd.DataFrame) -> pd.DataFrame:\n",
    "    res = pd.concat([request_accepted[\"requester_id\"], request_accepted[\"accepter_id\"]]).tolist()\n",
    "    r = mode(res)\n",
    "    return pd.DataFrame({\"id\" : [r], \"num\" : [res.count(r)]})\n",
    "```\n"
   ]
  },
  {
   "cell_type": "markdown",
   "metadata": {
    "vscode": {
     "languageId": "plaintext"
    }
   },
   "source": [
    "```sql\n",
    "-- Write your PostgreSQL query statement below\n",
    "WITH temp as \n",
    "(SELECT requester_id as id FROM RequestAccepted\n",
    "UNION ALL\n",
    "SELECT accepter_id as id FROM RequestAccepted)\n",
    "\n",
    "SELECT id,COUNT(id) as num FROM temp GROUP BY id \n",
    "ORDER BY num DESC LIMIT 1\n",
    "```\n"
   ]
  },
  {
   "cell_type": "markdown",
   "metadata": {},
   "source": [
    "---\n",
    "---"
   ]
  },
  {
   "cell_type": "markdown",
   "metadata": {},
   "source": []
  },
  {
   "cell_type": "markdown",
   "metadata": {},
   "source": []
  }
 ],
 "metadata": {
  "kernelspec": {
   "display_name": "moon",
   "language": "python",
   "name": "python3"
  },
  "language_info": {
   "name": "python",
   "version": "3.11.11"
  }
 },
 "nbformat": 4,
 "nbformat_minor": 2
}
