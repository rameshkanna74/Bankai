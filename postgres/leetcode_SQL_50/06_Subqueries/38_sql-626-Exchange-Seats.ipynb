{
 "cells": [
  {
   "cell_type": "markdown",
   "metadata": {},
   "source": [
    "626. Exchange Seats\n",
    "\n",
    "    Medium\n",
    "    Topics\n",
    "    Companies\n",
    "\n",
    "Table: Seat\n",
    "\n",
    "+-------------+---------+\n",
    "| Column Name | Type    |\n",
    "+-------------+---------+\n",
    "| id          | int     |\n",
    "| student     | varchar |\n",
    "+-------------+---------+\n",
    "id is the primary key (unique value) column for this table.\n",
    "Each row of this table indicates the name and the ID of a student.\n",
    "The ID sequence always starts from 1 and increments continuously.\n",
    " \n",
    "\n",
    "Write a solution to swap the seat id of every two consecutive students. If the number of students is odd, the id of the last student is not swapped.\n",
    "\n",
    "Return the result table ordered by id in ascending order.\n",
    "\n",
    "The result format is in the following example.\n",
    "\n",
    " \n",
    "\n",
    "Example 1:\n",
    "\n",
    "Input: \n",
    "Seat table:\n",
    "+----+---------+\n",
    "| id | student |\n",
    "+----+---------+\n",
    "| 1  | Abbot   |\n",
    "| 2  | Doris   |\n",
    "| 3  | Emerson |\n",
    "| 4  | Green   |\n",
    "| 5  | Jeames  |\n",
    "+----+---------+\n",
    "Output: \n",
    "+----+---------+\n",
    "| id | student |\n",
    "+----+---------+\n",
    "| 1  | Doris   |\n",
    "| 2  | Abbot   |\n",
    "| 3  | Green   |\n",
    "| 4  | Emerson |\n",
    "| 5  | Jeames  |\n",
    "+----+---------+\n",
    "Explanation: \n",
    "Note that if the number of students is odd, there is no need to change the last one's seat.\n",
    "\n",
    "---\n",
    "\n",
    "give best time and space complexity sql query for postgresql and pandas(python code) ,give variables usefull name, add comments to explain the code way more clear, schema is below\n",
    "\n",
    "---\n",
    "\n",
    "# Pandas schema\n",
    "data = [[1, 'Abbot'], [2, 'Doris'], [3, 'Emerson'], [4, 'Green'], [5, 'Jeames']]\n",
    "seat = pd.DataFrame(data, columns=['id', 'student']).astype({'id':'Int64', 'student':'object'})\n",
    "\n",
    "# SQL schema\n",
    "Create table If Not Exists Seat (id int, student varchar(255))\n",
    "Truncate table Seat\n",
    "insert into Seat (id, student) values ('1', 'Abbot')\n",
    "insert into Seat (id, student) values ('2', 'Doris')\n",
    "insert into Seat (id, student) values ('3', 'Emerson')\n",
    "insert into Seat (id, student) values ('4', 'Green')\n",
    "insert into Seat (id, student) values ('5', 'Jeames')\n"
   ]
  },
  {
   "cell_type": "code",
   "execution_count": null,
   "metadata": {},
   "outputs": [],
   "source": [
    "import pandas as pd\n",
    "\n",
    "def exchange_seats(seat: pd.DataFrame) -> pd.DataFrame:\n",
    "    len_df = len(seat.index)\n",
    "    temp = seat[\"student\"].copy()\n",
    "    for i in range(len_df):\n",
    "        seat.loc[i, \"student\"] = temp[i-1] if i%2 else temp[(i+1) % len_df]\n",
    "    if len_df % 2:\n",
    "        seat.loc[len_df-1, \"student\"] = temp[len_df-1]\n",
    "\n",
    "    return seat\n",
    "    "
   ]
  },
  {
   "cell_type": "code",
   "execution_count": null,
   "metadata": {},
   "outputs": [],
   "source": [
    "import pandas as pd\n",
    "\n",
    "def exchange_seats(seat: pd.DataFrame) -> pd.DataFrame:\n",
    "    temp = seat.student.copy()\n",
    "    seat.loc[(seat.id%2==1) & (seat.id != len(seat)), 'student'] = temp.shift(-1)\n",
    "    seat.loc[(seat.id%2==0), 'student'] = temp.shift(1)\n",
    "    return seat\n",
    "    "
   ]
  },
  {
   "cell_type": "markdown",
   "metadata": {},
   "source": [
    "```py\n",
    "import pandas as pd\n",
    "\n",
    "def exchange_seats(seat: pd.DataFrame) -> pd.DataFrame:\n",
    "    len_df = len(seat.index)\n",
    "    temp = seat[\"student\"].copy()\n",
    "    for i in range(len_df):\n",
    "        seat.loc[i, \"student\"] = temp[i-1] if i%2 else temp[(i+1) % len_df]\n",
    "    if len_df % 2:\n",
    "        seat.loc[len_df-1, \"student\"] = temp[len_df-1]\n",
    "\n",
    "    return seat\n",
    "    \n",
    "```\n"
   ]
  },
  {
   "cell_type": "markdown",
   "metadata": {
    "vscode": {
     "languageId": "plaintext"
    }
   },
   "source": [
    "```sql\n",
    "-- Write your PostgreSQL query statement below\n",
    "SELECT(\n",
    "  CASE WHEN id % 2 = 1 and  id = (select max(id) from Seat) THEN id\n",
    "  WHEN id % 2 = 1 THEN id + 1\n",
    "  WHEN id % 2 = 0 THEN id - 1\n",
    "  END ) AS id, student \n",
    "FROM Seat\n",
    "ORDER BY id\n",
    "```\n"
   ]
  },
  {
   "cell_type": "markdown",
   "metadata": {},
   "source": [
    "---\n",
    "---"
   ]
  },
  {
   "cell_type": "markdown",
   "metadata": {},
   "source": []
  },
  {
   "cell_type": "markdown",
   "metadata": {},
   "source": []
  }
 ],
 "metadata": {
  "kernelspec": {
   "display_name": "moon",
   "language": "python",
   "name": "python3"
  },
  "language_info": {
   "name": "python",
   "version": "3.11.11"
  }
 },
 "nbformat": 4,
 "nbformat_minor": 2
}
