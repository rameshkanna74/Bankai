{
 "cells": [
  {
   "cell_type": "markdown",
   "metadata": {},
   "source": [
    "1978. Employees Whose Manager Left the Company\n",
    "\n",
    "    Easy\n",
    "    Topics\n",
    "    Companies\n",
    "\n",
    "Table: Employees\n",
    "\n",
    "+-------------+----------+\n",
    "| Column Name | Type     |\n",
    "+-------------+----------+\n",
    "| employee_id | int      |\n",
    "| name        | varchar  |\n",
    "| manager_id  | int      |\n",
    "| salary      | int      |\n",
    "+-------------+----------+\n",
    "In SQL, employee_id is the primary key for this table.\n",
    "This table contains information about the employees, their salary, and the ID of their manager. Some employees do not have a manager (manager_id is null). \n",
    " \n",
    "\n",
    "Find the IDs of the employees whose salary is strictly less than $30000 and whose manager left the company. When a manager leaves the company, their information is deleted from the Employees table, but the reports still have their manager_id set to the manager that left.\n",
    "\n",
    "Return the result table ordered by employee_id.\n",
    "\n",
    "The result format is in the following example.\n",
    "\n",
    " \n",
    "\n",
    "Example 1:\n",
    "\n",
    "Input:  \n",
    "Employees table:\n",
    "+-------------+-----------+------------+--------+\n",
    "| employee_id | name      | manager_id | salary |\n",
    "+-------------+-----------+------------+--------+\n",
    "| 3           | Mila      | 9          | 60301  |\n",
    "| 12          | Antonella | null       | 31000  |\n",
    "| 13          | Emery     | null       | 67084  |\n",
    "| 1           | Kalel     | 11         | 21241  |\n",
    "| 9           | Mikaela   | null       | 50937  |\n",
    "| 11          | Joziah    | 6          | 28485  |\n",
    "+-------------+-----------+------------+--------+\n",
    "Output: \n",
    "+-------------+\n",
    "| employee_id |\n",
    "+-------------+\n",
    "| 11          |\n",
    "+-------------+\n",
    "\n",
    "Explanation: \n",
    "The employees with a salary less than $30000 are 1 (Kalel) and 11 (Joziah).\n",
    "Kalel's manager is employee 11, who is still in the company (Joziah).\n",
    "Joziah's manager is employee 6, who left the company because there is no row for employee 6 as it was deleted.\n",
    "\n",
    "\n",
    "---\n",
    "\n",
    "give best time and space complexity sql query for postgresql and pandas(python code) ,give variables usefull name, add comments to explain the code way more clear, schema is below\n",
    "\n",
    "---\n",
    "\n",
    "# Pandas schema\n",
    "data = [[3, 'Mila', 9, 60301], [12, 'Antonella', None, 31000], [13, 'Emery', None, 67084], [1, 'Kalel', 11, 21241], [9, 'Mikaela', None, 50937], [11, 'Joziah', 6, 28485]]\n",
    "employees = pd.DataFrame(data, columns=['employee_id', 'name', 'manager_id', 'salary']).astype({'employee_id':'Int64', 'name':'object', 'manager_id':'Int64', 'salary':'Int64'})\n",
    "\n",
    "# SQL schema\n",
    "Create table If Not Exists Employees (employee_id int, name varchar(20), manager_id int, salary int)\n",
    "Truncate table Employees\n",
    "insert into Employees (employee_id, name, manager_id, salary) values ('3', 'Mila', '9', '60301')\n",
    "insert into Employees (employee_id, name, manager_id, salary) values ('12', 'Antonella', NULL, '31000')\n",
    "insert into Employees (employee_id, name, manager_id, salary) values ('13', 'Emery', NULL, '67084')\n",
    "insert into Employees (employee_id, name, manager_id, salary) values ('1', 'Kalel', '11', '21241')\n",
    "insert into Employees (employee_id, name, manager_id, salary) values ('9', 'Mikaela', NULL, '50937')\n",
    "insert into Employees (employee_id, name, manager_id, salary) values ('11', 'Joziah', '6', '28485')\n"
   ]
  },
  {
   "cell_type": "code",
   "execution_count": null,
   "metadata": {},
   "outputs": [],
   "source": [
    "import pandas as pd\n",
    "\n",
    "def find_employees(employees: pd.DataFrame) -> pd.DataFrame:\n",
    "    return employees[~(employees[\"manager_id\"].isin(employees[\"employee_id\"])) & \n",
    "    (employees[\"salary\"] < 30000)].dropna()[[\"employee_id\"]]\\\n",
    "    .sort_values(by=\"employee_id\",ascending=True)"
   ]
  },
  {
   "cell_type": "markdown",
   "metadata": {},
   "source": [
    "```py\n",
    "import pandas as pd\n",
    "\n",
    "def find_employees(employees: pd.DataFrame) -> pd.DataFrame:\n",
    "    return employees[~(employees[\"manager_id\"].isin(employees[\"employee_id\"])) & \n",
    "    (employees[\"salary\"] < 30000)].dropna()[[\"employee_id\"]]\\\n",
    "    .sort_values(by=\"employee_id\",ascending=True)\n",
    "```\n"
   ]
  },
  {
   "cell_type": "markdown",
   "metadata": {
    "vscode": {
     "languageId": "plaintext"
    }
   },
   "source": [
    "```sql\n",
    "select employee_id from Employees\n",
    "where manager_id not in (select employee_id from Employees) and salary < 30000\n",
    "order by employee_id;\n",
    "```\n"
   ]
  },
  {
   "cell_type": "markdown",
   "metadata": {},
   "source": [
    "---\n",
    "---"
   ]
  },
  {
   "cell_type": "markdown",
   "metadata": {},
   "source": []
  },
  {
   "cell_type": "markdown",
   "metadata": {},
   "source": []
  }
 ],
 "metadata": {
  "kernelspec": {
   "display_name": "moon",
   "language": "python",
   "name": "python3"
  },
  "language_info": {
   "name": "python",
   "version": "3.11.11"
  }
 },
 "nbformat": 4,
 "nbformat_minor": 2
}
