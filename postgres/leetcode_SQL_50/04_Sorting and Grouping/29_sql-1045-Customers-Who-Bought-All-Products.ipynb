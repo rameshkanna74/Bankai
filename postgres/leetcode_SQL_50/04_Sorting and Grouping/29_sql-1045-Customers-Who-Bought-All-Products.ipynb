{
 "cells": [
  {
   "cell_type": "markdown",
   "metadata": {},
   "source": [
    "1045. Customers Who Bought All Products\n",
    "\n",
    "    Medium\n",
    "    Topics\n",
    "    Companies\n",
    "\n",
    "Table: Customer\n",
    "\n",
    "+-------------+---------+\n",
    "| Column Name | Type    |\n",
    "+-------------+---------+\n",
    "| customer_id | int     |\n",
    "| product_key | int     |\n",
    "+-------------+---------+\n",
    "This table may contain duplicates rows. \n",
    "customer_id is not NULL.\n",
    "product_key is a foreign key (reference column) to Product table.\n",
    " \n",
    "\n",
    "Table: Product\n",
    "\n",
    "+-------------+---------+\n",
    "| Column Name | Type    |\n",
    "+-------------+---------+\n",
    "| product_key | int     |\n",
    "+-------------+---------+\n",
    "product_key is the primary key (column with unique values) for this table.\n",
    " \n",
    "\n",
    "Write a solution to report the customer ids from the Customer table that bought all the products in the Product table.\n",
    "\n",
    "Return the result table in any order.\n",
    "\n",
    "The result format is in the following example.\n",
    "\n",
    " \n",
    "\n",
    "Example 1:\n",
    "\n",
    "Input: \n",
    "Customer table:\n",
    "+-------------+-------------+\n",
    "| customer_id | product_key |\n",
    "+-------------+-------------+\n",
    "| 1           | 5           |\n",
    "| 2           | 6           |\n",
    "| 3           | 5           |\n",
    "| 3           | 6           |\n",
    "| 1           | 6           |\n",
    "+-------------+-------------+\n",
    "Product table:\n",
    "+-------------+\n",
    "| product_key |\n",
    "+-------------+\n",
    "| 5           |\n",
    "| 6           |\n",
    "+-------------+\n",
    "Output: \n",
    "+-------------+\n",
    "| customer_id |\n",
    "+-------------+\n",
    "| 1           |\n",
    "| 3           |\n",
    "+-------------+\n",
    "Explanation: \n",
    "The customers who bought all the products (5 and 6) are customers with IDs 1 and 3.\n",
    "\n",
    "---\n",
    "\n",
    "give best time and space complexity sql query for postgresql and pandas(python code) ,give variables usefull name, add comments to explain the code way more clear, schema is below\n",
    "\n",
    "---\n",
    "\n",
    "# Pandas schema\n",
    "data = [[1, 5], [2, 6], [3, 5], [3, 6], [1, 6]]\n",
    "customer = pd.DataFrame(data, columns=['customer_id', 'product_key']).astype({'customer_id':'Int64', 'product_key':'Int64'})\n",
    "data = [[5], [6]]\n",
    "product = pd.DataFrame(data, columns=['product_key']).astype({'product_key':'Int64'})\n",
    "\n",
    "# SQL schema\n",
    "Create table If Not Exists Customer (customer_id int, product_key int)\n",
    "Create table Product (product_key int)\n",
    "Truncate table Customer\n",
    "insert into Customer (customer_id, product_key) values ('1', '5')\n",
    "insert into Customer (customer_id, product_key) values ('2', '6')\n",
    "insert into Customer (customer_id, product_key) values ('3', '5')\n",
    "insert into Customer (customer_id, product_key) values ('3', '6')\n",
    "insert into Customer (customer_id, product_key) values ('1', '6')\n",
    "Truncate table Product\n",
    "insert into Product (product_key) values ('5')\n",
    "insert into Product (product_key) values ('6')\n"
   ]
  },
  {
   "cell_type": "code",
   "execution_count": null,
   "metadata": {},
   "outputs": [],
   "source": [
    "import pandas as pd\n",
    "\n",
    "\n",
    "def find_customers(customer: pd.DataFrame, product: pd.DataFrame) -> pd.DataFrame:\n",
    "\n",
    "    df = (\n",
    "        customer.drop_duplicates(keep=\"first\")\n",
    "        .groupby(\"customer_id\")\n",
    "        .count()\n",
    "        .reset_index()\n",
    "    )\n",
    "\n",
    "    return df[df.product_key == len(product)][[\"customer_id\"]]"
   ]
  },
  {
   "cell_type": "markdown",
   "metadata": {},
   "source": [
    "```py\n",
    "import pandas as pd\n",
    "\n",
    "def find_customers(customer: pd.DataFrame, \n",
    "                   product: pd.DataFrame) -> pd.DataFrame:\n",
    "    \n",
    "    df = customer.drop_duplicates(keep = 'first'\n",
    "                ).groupby('customer_id').count().reset_index()\n",
    "\n",
    "    return df[df.product_key == len(product)][['customer_id']]\n",
    "```\n"
   ]
  },
  {
   "cell_type": "markdown",
   "metadata": {
    "vscode": {
     "languageId": "plaintext"
    }
   },
   "source": [
    "```sql\n",
    "-- Write your PostgreSQL query statement below\n",
    "SELECT c.customer_id FROM Customer c LEFT JOIN Product p ON c.product_key = p.product_key \n",
    "GROUP BY c.customer_id \n",
    "HAVING ARRAY(SELECT product_key FROM Product ORDER BY product_key)  <@ ARRAY_AGG(c.product_key)ORDER BY 1\n",
    "```\n"
   ]
  },
  {
   "cell_type": "markdown",
   "metadata": {},
   "source": [
    "---\n",
    "---"
   ]
  },
  {
   "cell_type": "markdown",
   "metadata": {},
   "source": []
  },
  {
   "cell_type": "markdown",
   "metadata": {},
   "source": []
  }
 ],
 "metadata": {
  "kernelspec": {
   "display_name": "moon",
   "language": "python",
   "name": "python3"
  },
  "language_info": {
   "name": "python",
   "version": "3.11.11"
  }
 },
 "nbformat": 4,
 "nbformat_minor": 2
}
