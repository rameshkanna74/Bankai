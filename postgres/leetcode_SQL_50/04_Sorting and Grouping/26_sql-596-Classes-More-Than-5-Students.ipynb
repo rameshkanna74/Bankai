{
 "cells": [
  {
   "cell_type": "markdown",
   "metadata": {},
   "source": [
    "596. Classes More Than 5 Students\n",
    "\n",
    "    Easy\n",
    "    Topics\n",
    "    Companies\n",
    "\n",
    "Table: Courses\n",
    "\n",
    "+-------------+---------+\n",
    "| Column Name | Type    |\n",
    "+-------------+---------+\n",
    "| student     | varchar |\n",
    "| class       | varchar |\n",
    "+-------------+---------+\n",
    "(student, class) is the primary key (combination of columns with unique values) for this table.\n",
    "Each row of this table indicates the name of a student and the class in which they are enrolled.\n",
    " \n",
    "\n",
    "Write a solution to find all the classes that have at least five students.\n",
    "\n",
    "Return the result table in any order.\n",
    "\n",
    "The result format is in the following example.\n",
    "\n",
    " \n",
    "\n",
    "Example 1:\n",
    "\n",
    "Input: \n",
    "Courses table:\n",
    "+---------+----------+\n",
    "| student | class    |\n",
    "+---------+----------+\n",
    "| A       | Math     |\n",
    "| B       | English  |\n",
    "| C       | Math     |\n",
    "| D       | Biology  |\n",
    "| E       | Math     |\n",
    "| F       | Computer |\n",
    "| G       | Math     |\n",
    "| H       | Math     |\n",
    "| I       | Math     |\n",
    "+---------+----------+\n",
    "Output: \n",
    "+---------+\n",
    "| class   |\n",
    "+---------+\n",
    "| Math    |\n",
    "+---------+\n",
    "Explanation: \n",
    "- Math has 6 students, so we include it.\n",
    "- English has 1 student, so we do not include it.\n",
    "- Biology has 1 student, so we do not include it.\n",
    "- Computer has 1 student, so we do not include it.\n",
    "\n",
    "---\n",
    "\n",
    "give best time and space complexity sql query for postgresql and pandas(python code) ,give variables usefull name, add comments to explain the code way more clear, schema is below\n",
    "\n",
    "---\n",
    "\n",
    "# Pandas schema\n",
    "data = [['A', 'Math'], ['B', 'English'], ['C', 'Math'], ['D', 'Biology'], ['E', 'Math'], ['F', 'Computer'], ['G', 'Math'], ['H', 'Math'], ['I', 'Math']]\n",
    "courses = pd.DataFrame(data, columns=['student', 'class']).astype({'student':'object', 'class':'object'})\n",
    "\n",
    "# SQL schema\n",
    "Create table If Not Exists Courses (student varchar(255), class varchar(255))\n",
    "Truncate table Courses\n",
    "insert into Courses (student, class) values ('A', 'Math')\n",
    "insert into Courses (student, class) values ('B', 'English')\n",
    "insert into Courses (student, class) values ('C', 'Math')\n",
    "insert into Courses (student, class) values ('D', 'Biology')\n",
    "insert into Courses (student, class) values ('E', 'Math')\n",
    "insert into Courses (student, class) values ('F', 'Computer')\n",
    "insert into Courses (student, class) values ('G', 'Math')\n",
    "insert into Courses (student, class) values ('H', 'Math')\n",
    "insert into Courses (student, class) values ('I', 'Math')\n"
   ]
  },
  {
   "cell_type": "code",
   "execution_count": null,
   "metadata": {},
   "outputs": [],
   "source": [
    "import pandas as pd\n",
    "\n",
    "def find_classes(courses: pd.DataFrame) -> pd.DataFrame:\n",
    "    # Group by class and count the number of students in each class\n",
    "    class_counts = courses.groupby('class')['student'].count().reset_index()\n",
    "    \n",
    "    # Filter classes with at least five students\n",
    "    result = class_counts[class_counts['student'] >= 5][[\"class\"]]\n",
    "    \n",
    "    return result"
   ]
  },
  {
   "cell_type": "markdown",
   "metadata": {},
   "source": [
    "```py\n",
    "import pandas as pd\n",
    "\n",
    "def find_classes(courses: pd.DataFrame) -> pd.DataFrame:\n",
    "    # Group by class and count the number of students in each class\n",
    "    class_counts = courses.groupby('class')['student'].count().reset_index()\n",
    "    \n",
    "    # Filter classes with at least five students\n",
    "    result = class_counts[class_counts['student'] >= 5][[\"class\"]]\n",
    "    \n",
    "    return result\n",
    "```\n"
   ]
  },
  {
   "cell_type": "markdown",
   "metadata": {
    "vscode": {
     "languageId": "plaintext"
    }
   },
   "source": [
    "```sql\n",
    "SELECT class FROM Courses\n",
    "GROUP BY class\n",
    "HAVING COUNT(student) >= 5;\n",
    "```\n"
   ]
  },
  {
   "cell_type": "markdown",
   "metadata": {},
   "source": [
    "---\n",
    "---"
   ]
  },
  {
   "cell_type": "markdown",
   "metadata": {},
   "source": []
  },
  {
   "cell_type": "markdown",
   "metadata": {},
   "source": []
  }
 ],
 "metadata": {
  "kernelspec": {
   "display_name": "moon",
   "language": "python",
   "name": "python3"
  },
  "language_info": {
   "name": "python",
   "version": "3.11.11"
  }
 },
 "nbformat": 4,
 "nbformat_minor": 2
}
