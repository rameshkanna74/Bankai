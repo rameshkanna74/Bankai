{
 "cells": [
  {
   "cell_type": "markdown",
   "metadata": {},
   "source": [
    "1795. Rearrange Products Table\n",
    "\n",
    "    Easy\n",
    "    Topics\n",
    "    Companies\n",
    "\n",
    "Table: Products\n",
    "\n",
    "+-------------+---------+\n",
    "| Column Name | Type    |\n",
    "+-------------+---------+\n",
    "| product_id  | int     |\n",
    "| store1      | int     |\n",
    "| store2      | int     |\n",
    "| store3      | int     |\n",
    "+-------------+---------+\n",
    "product_id is the primary key (column with unique values) for this table.\n",
    "Each row in this table indicates the product's price in 3 different stores: store1, store2, and store3.\n",
    "If the product is not available in a store, the price will be null in that store's column.\n",
    " \n",
    "\n",
    "Write a solution to rearrange the Products table so that each row has (product_id, store, price). If a product is not available in a store, do not include a row with that product_id and store combination in the result table.\n",
    "\n",
    "Return the result table in any order.\n",
    "\n",
    "The result format is in the following example.\n",
    "\n",
    " \n",
    "\n",
    "Example 1:\n",
    "\n",
    "Input: \n",
    "Products table:\n",
    "+------------+--------+--------+--------+\n",
    "| product_id | store1 | store2 | store3 |\n",
    "+------------+--------+--------+--------+\n",
    "| 0          | 95     | 100    | 105    |\n",
    "| 1          | 70     | null   | 80     |\n",
    "+------------+--------+--------+--------+\n",
    "Output: \n",
    "+------------+--------+-------+\n",
    "| product_id | store  | price |\n",
    "+------------+--------+-------+\n",
    "| 0          | store1 | 95    |\n",
    "| 0          | store2 | 100   |\n",
    "| 0          | store3 | 105   |\n",
    "| 1          | store1 | 70    |\n",
    "| 1          | store3 | 80    |\n",
    "+------------+--------+-------+\n",
    "Explanation: \n",
    "Product 0 is available in all three stores with prices 95, 100, and 105 respectively.\n",
    "Product 1 is available in store1 with price 70 and store3 with price 80. The product is not available in store2.\n",
    "\n",
    "---\n",
    "\n",
    "give best time and space complexity sql query for postgresql and pandas(python code) ,give variables usefull name, add comments to explain the code way more clear\n",
    "\n",
    "---\n",
    "\n"
   ]
  },
  {
   "cell_type": "markdown",
   "metadata": {},
   "source": [
    "---\n",
    "---"
   ]
  },
  {
   "cell_type": "code",
   "execution_count": null,
   "metadata": {},
   "outputs": [],
   "source": [
    "def rearrange_products_table(products: pd.DataFrame) -> pd.DataFrame:\n",
    "    return pd.melt(\n",
    "        products, id_vars=\"product_id\", var_name=\"store\", value_name=\"price\"\n",
    "    ).dropna()"
   ]
  },
  {
   "cell_type": "markdown",
   "metadata": {},
   "source": [
    "```py\n",
    "def rearrange_products_table(products: pd.DataFrame) -> pd.DataFrame:\n",
    "    return pd.melt(\n",
    "        products, id_vars='product_id', var_name='store', value_name='price'\n",
    "    ).dropna()\n",
    "```\n"
   ]
  },
  {
   "cell_type": "markdown",
   "metadata": {
    "vscode": {
     "languageId": "plaintext"
    }
   },
   "source": [
    "```sql\n",
    "SELECT product_id,\n",
    "       'store1' AS store,\n",
    "       store1 AS price\n",
    "  FROM Products\n",
    " WHERE store1 IS NOT NULL\n",
    "\n",
    " UNION\n",
    "\n",
    " SELECT product_id,\n",
    "       'store2' AS store,\n",
    "       store2 AS price\n",
    "  FROM Products\n",
    " WHERE store2 IS NOT NULL\n",
    "\n",
    " UNION\n",
    "\n",
    " SELECT product_id,\n",
    "       'store3' AS store,\n",
    "       store3 AS price\n",
    "  FROM Products\n",
    " WHERE store3 IS NOT NULL\n",
    "\n",
    " ORDER BY product_id, store;\n",
    "```\n"
   ]
  },
  {
   "cell_type": "markdown",
   "metadata": {},
   "source": [
    "---\n",
    "---"
   ]
  },
  {
   "cell_type": "markdown",
   "metadata": {},
   "source": []
  },
  {
   "cell_type": "markdown",
   "metadata": {},
   "source": []
  }
 ],
 "metadata": {
  "kernelspec": {
   "display_name": "moon",
   "language": "python",
   "name": "python3"
  },
  "language_info": {
   "name": "python",
   "version": "3.11.11"
  }
 },
 "nbformat": 4,
 "nbformat_minor": 2
}
