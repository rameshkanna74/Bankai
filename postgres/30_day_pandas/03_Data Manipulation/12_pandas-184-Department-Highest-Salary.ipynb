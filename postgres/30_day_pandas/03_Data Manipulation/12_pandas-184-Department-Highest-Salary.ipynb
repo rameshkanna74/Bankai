{
 "cells": [
  {
   "cell_type": "markdown",
   "metadata": {},
   "source": [
    "184. Department Highest Salary\n",
    "\n",
    "     Medium\n",
    "     Topics\n",
    "     Companies\n",
    "\n",
    "Table: Employee\n",
    "\n",
    "+--------------+---------+\n",
    "| Column Name | Type |\n",
    "+--------------+---------+\n",
    "| id | int |\n",
    "| name | varchar |\n",
    "| salary | int |\n",
    "| departmentId | int |\n",
    "+--------------+---------+\n",
    "id is the primary key (column with unique values) for this table.\n",
    "departmentId is a foreign key (reference columns) of the ID from the Department table.\n",
    "Each row of this table indicates the ID, name, and salary of an employee. It also contains the ID of their department.\n",
    "\n",
    "Table: Department\n",
    "\n",
    "+-------------+---------+\n",
    "| Column Name | Type |\n",
    "+-------------+---------+\n",
    "| id | int |\n",
    "| name | varchar |\n",
    "+-------------+---------+\n",
    "id is the primary key (column with unique values) for this table. It is guaranteed that department name is not NULL.\n",
    "Each row of this table indicates the ID of a department and its name.\n",
    "\n",
    "Write a solution to find employees who have the highest salary in each of the departments.\n",
    "\n",
    "Return the result table in any order.\n",
    "\n",
    "The result format is in the following example.\n",
    "\n",
    "Example 1:\n",
    "\n",
    "Input:\n",
    "Employee table:\n",
    "+----+-------+--------+--------------+\n",
    "| id | name | salary | departmentId |\n",
    "+----+-------+--------+--------------+\n",
    "| 1 | Joe | 70000 | 1 |\n",
    "| 2 | Jim | 90000 | 1 |\n",
    "| 3 | Henry | 80000 | 2 |\n",
    "| 4 | Sam | 60000 | 2 |\n",
    "| 5 | Max | 90000 | 1 |\n",
    "+----+-------+--------+--------------+\n",
    "Department table:\n",
    "+----+-------+\n",
    "| id | name |\n",
    "+----+-------+\n",
    "| 1 | IT |\n",
    "| 2 | Sales |\n",
    "+----+-------+\n",
    "Output:\n",
    "+------------+----------+--------+\n",
    "| Department | Employee | Salary |\n",
    "+------------+----------+--------+\n",
    "| IT | Jim | 90000 |\n",
    "| Sales | Henry | 80000 |\n",
    "| IT | Max | 90000 |\n",
    "+------------+----------+--------+\n",
    "Explanation: Max and Jim both have the highest salary in the IT department and Henry has the highest salary in the Sales department.\n",
    "\n",
    "---\n",
    "\n",
    "give best time and space complexity sql query for postgresql and pandas(python code) ,give variables usefull name, add comments to explain the code way more clear\n",
    "\n",
    "---\n"
   ]
  },
  {
   "cell_type": "markdown",
   "metadata": {},
   "source": [
    "---\n",
    "---"
   ]
  },
  {
   "cell_type": "code",
   "execution_count": null,
   "metadata": {},
   "outputs": [],
   "source": [
    "def department_highest_salary(\n",
    "    employee: pd.DataFrame, department: pd.DataFrame\n",
    ") -> pd.DataFrame:\n",
    "    return (\n",
    "        employee.merge(\n",
    "            department,\n",
    "            left_on=\"departmentId\",\n",
    "            right_on=\"id\",\n",
    "            suffixes=(\"_employee\", \"_department\"),\n",
    "        )\n",
    "        .groupby(\"departmentId\")\n",
    "        .apply(lambda x: x[x[\"salary\"] == x[\"salary\"].max()])\n",
    "        .reset_index(drop=True)[[\"name_department\", \"name_employee\", \"salary\"]]\n",
    "        .rename(\n",
    "            columns={\n",
    "                \"name_department\": \"Department\",\n",
    "                \"name_employee\": \"Employee\",\n",
    "                \"salary\": \"Salary\",\n",
    "            }\n",
    "        )\n",
    "    )"
   ]
  },
  {
   "cell_type": "markdown",
   "metadata": {
    "vscode": {
     "languageId": "plaintext"
    }
   },
   "source": [
    "```py\n",
    "def department_highest_salary(employee: pd.DataFrame, department: pd.DataFrame) -> pd.DataFrame:\n",
    "    return employee.merge(\n",
    "        department, left_on='departmentId', right_on='id', suffixes=('_employee', '_department')\n",
    "    ).groupby(\n",
    "        'departmentId'\n",
    "    ).apply(\n",
    "        lambda x: x[x['salary'] == x['salary'].max()]\n",
    "    ).reset_index(drop=True)[\n",
    "        ['name_department', 'name_employee', 'salary']\n",
    "    ].rename(columns={\n",
    "        'name_department': 'Department',\n",
    "        'name_employee': 'Employee',\n",
    "        'salary': 'Salary',\n",
    "    })\n",
    "```\n"
   ]
  },
  {
   "cell_type": "markdown",
   "metadata": {
    "vscode": {
     "languageId": "plaintext"
    }
   },
   "source": [
    "```sql\n",
    "WITH cte AS (\n",
    "    SELECT d.name AS department,\n",
    "           e.name AS employee,\n",
    "           e.salary,\n",
    "           max(e.salary) OVER (PARTITION BY d.id) AS max_salary\n",
    "      FROM Employee e\n",
    "          JOIN Department d\n",
    "              ON e.departmentId = d.id\n",
    ")\n",
    "SELECT department,\n",
    "       employee,\n",
    "       salary\n",
    "  FROM cte\n",
    " WHERE salary = max_salary;\n",
    "```"
   ]
  },
  {
   "cell_type": "markdown",
   "metadata": {},
   "source": [
    "---\n",
    "---"
   ]
  },
  {
   "cell_type": "markdown",
   "metadata": {},
   "source": []
  },
  {
   "cell_type": "markdown",
   "metadata": {},
   "source": []
  }
 ],
 "metadata": {
  "kernelspec": {
   "display_name": "moon",
   "language": "python",
   "name": "python3"
  },
  "language_info": {
   "name": "python",
   "version": "3.11.11"
  }
 },
 "nbformat": 4,
 "nbformat_minor": 2
}
