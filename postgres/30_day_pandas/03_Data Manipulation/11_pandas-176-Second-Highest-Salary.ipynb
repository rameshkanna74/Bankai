{
 "cells": [
  {
   "cell_type": "markdown",
   "metadata": {},
   "source": [
    "176. Second Highest Salary\n",
    "\n",
    "    Medium\n",
    "    Topics\n",
    "    Companies\n",
    "\n",
    "Table: Employee\n",
    "\n",
    "+-------------+------+\n",
    "| Column Name | Type |\n",
    "+-------------+------+\n",
    "| id          | int  |\n",
    "| salary      | int  |\n",
    "+-------------+------+\n",
    "id is the primary key (column with unique values) for this table.\n",
    "Each row of this table contains information about the salary of an employee.\n",
    " \n",
    "\n",
    "Write a solution to find the second highest distinct salary from the Employee table. If there is no second highest salary, return null (return None in Pandas).\n",
    "\n",
    "The result format is in the following example.\n",
    "\n",
    " \n",
    "\n",
    "Example 1:\n",
    "\n",
    "Input: \n",
    "Employee table:\n",
    "+----+--------+\n",
    "| id | salary |\n",
    "+----+--------+\n",
    "| 1  | 100    |\n",
    "| 2  | 200    |\n",
    "| 3  | 300    |\n",
    "+----+--------+\n",
    "Output: \n",
    "+---------------------+\n",
    "| SecondHighestSalary |\n",
    "+---------------------+\n",
    "| 200                 |\n",
    "+---------------------+\n",
    "Example 2:\n",
    "\n",
    "Input: \n",
    "Employee table:\n",
    "+----+--------+\n",
    "| id | salary |\n",
    "+----+--------+\n",
    "| 1  | 100    |\n",
    "+----+--------+\n",
    "Output: \n",
    "+---------------------+\n",
    "| SecondHighestSalary |\n",
    "+---------------------+\n",
    "| null                |\n",
    "+---------------------+\n",
    "\n",
    "---\n",
    "\n",
    "give best time and space complexity sql query for postgresql and pandas(python code) ,give variables usefull name, add comments to explain the code way more clear\n",
    "\n",
    "---\n",
    "\n"
   ]
  },
  {
   "cell_type": "markdown",
   "metadata": {},
   "source": [
    "---\n",
    "---"
   ]
  },
  {
   "cell_type": "code",
   "execution_count": null,
   "metadata": {},
   "outputs": [],
   "source": [
    "def second_highest_salary(employee: pd.DataFrame) -> pd.DataFrame:\n",
    "    sorted_salaries = employee[\"salary\"].sort_values(ascending=False).drop_duplicates()\n",
    "    return pd.DataFrame(\n",
    "        {\n",
    "            \"SecondHighestSalary\": [\n",
    "                None if sorted_salaries.size < 2 else sorted_salaries.iloc[1]\n",
    "            ]\n",
    "        }\n",
    "    )"
   ]
  },
  {
   "cell_type": "markdown",
   "metadata": {},
   "source": [
    "```py\n",
    "def second_highest_salary(employee: pd.DataFrame) -> pd.DataFrame:\n",
    "    sorted_salaries = employee['salary'].sort_values(\n",
    "        ascending=False\n",
    "    ).drop_duplicates()\n",
    "    return pd.DataFrame({\n",
    "        'SecondHighestSalary': [None if sorted_salaries.size < 2 else sorted_salaries.iloc[1]]\n",
    "    })\n",
    "```\n"
   ]
  },
  {
   "cell_type": "markdown",
   "metadata": {
    "vscode": {
     "languageId": "plaintext"
    }
   },
   "source": [
    "```sql\n",
    "SELECT (\n",
    "    SELECT DISTINCT Salary\n",
    "      FROM Employee\n",
    "     ORDER BY Salary DESC\n",
    "     LIMIT 1\n",
    "    OFFSET 1\n",
    ") AS SecondHighestSalary;\n",
    "```\n"
   ]
  },
  {
   "cell_type": "markdown",
   "metadata": {},
   "source": [
    "---\n",
    "---"
   ]
  },
  {
   "cell_type": "markdown",
   "metadata": {},
   "source": []
  },
  {
   "cell_type": "markdown",
   "metadata": {},
   "source": []
  }
 ],
 "metadata": {
  "kernelspec": {
   "display_name": "moon",
   "language": "python",
   "name": "python3"
  },
  "language_info": {
   "name": "python",
   "version": "3.11.11"
  }
 },
 "nbformat": 4,
 "nbformat_minor": 2
}
