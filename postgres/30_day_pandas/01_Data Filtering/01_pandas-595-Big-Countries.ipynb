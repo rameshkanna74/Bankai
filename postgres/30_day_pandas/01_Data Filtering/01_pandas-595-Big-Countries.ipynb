{
 "cells": [
  {
   "cell_type": "markdown",
   "metadata": {},
   "source": [
    "595. Big Countries\n",
    "    Easy\n",
    "    Topics\n",
    "    Companies\n",
    "\n",
    "Table: World\n",
    "\n",
    "+-------------+---------+\n",
    "| Column Name | Type    |\n",
    "+-------------+---------+\n",
    "| name        | varchar |\n",
    "| continent   | varchar |\n",
    "| area        | int     |\n",
    "| population  | int     |\n",
    "| gdp         | bigint  |\n",
    "+-------------+---------+\n",
    "name is the primary key (column with unique values) for this table.\n",
    "Each row of this table gives information about the name of a country, the continent to which it belongs, its area, the population, and its GDP value.\n",
    " \n",
    "\n",
    "A country is big if:\n",
    "\n",
    "it has an area of at least three million (i.e., 3000000 km2), or\n",
    "it has a population of at least twenty-five million (i.e., 25000000).\n",
    "Write a solution to find the name, population, and area of the big countries.\n",
    "\n",
    "Return the result table in any order.\n",
    "\n",
    "The result format is in the following example.\n",
    "\n",
    " \n",
    "\n",
    "Example 1:\n",
    "\n",
    "Input: \n",
    "World table:\n",
    "+-------------+-----------+---------+------------+--------------+\n",
    "| name        | continent | area    | population | gdp          |\n",
    "+-------------+-----------+---------+------------+--------------+\n",
    "| Afghanistan | Asia      | 652230  | 25500100   | 20343000000  |\n",
    "| Albania     | Europe    | 28748   | 2831741    | 12960000000  |\n",
    "| Algeria     | Africa    | 2381741 | 37100000   | 188681000000 |\n",
    "| Andorra     | Europe    | 468     | 78115      | 3712000000   |\n",
    "| Angola      | Africa    | 1246700 | 20609294   | 100990000000 |\n",
    "+-------------+-----------+---------+------------+--------------+\n",
    "Output: \n",
    "+-------------+------------+---------+\n",
    "| name        | population | area    |\n",
    "+-------------+------------+---------+\n",
    "| Afghanistan | 25500100   | 652230  |\n",
    "| Algeria     | 37100000   | 2381741 |\n",
    "+-------------+------------+---------+\n",
    "\n",
    "---\n",
    "\n",
    "give best time and space complexity sql query for postgresql and pandas(python code) ,give variables usefull name, add comments to explain the code way more clear\n",
    "\n",
    "---\n",
    "\n"
   ]
  },
  {
   "cell_type": "markdown",
   "metadata": {},
   "source": [
    "---\n",
    "---"
   ]
  },
  {
   "cell_type": "code",
   "execution_count": null,
   "metadata": {},
   "outputs": [],
   "source": [
    "def big_countries(world: pd.DataFrame) -> pd.DataFrame:\n",
    "    return world[(world[\"area\"] >= 3_000_000) | (world[\"population\"] >= 25_000_000)][\n",
    "        [\"name\", \"population\", \"area\"]\n",
    "    ]"
   ]
  },
  {
   "cell_type": "markdown",
   "metadata": {},
   "source": [
    "```py\n",
    "def big_countries(world: pd.DataFrame) -> pd.DataFrame:\n",
    "    return world[\n",
    "        (world['area'] >= 3_000_000) | \\\n",
    "        (world['population'] >= 25_000_000)\n",
    "    ][['name', 'population', 'area']]\n",
    "```\n"
   ]
  },
  {
   "cell_type": "markdown",
   "metadata": {
    "vscode": {
     "languageId": "plaintext"
    }
   },
   "source": [
    "\n",
    "```sql\n",
    "SELECT name,\n",
    "       population,\n",
    "       area\n",
    "  FROM World\n",
    " WHERE population >= 25000000\n",
    "    OR area >= 3000000;\n",
    "```"
   ]
  },
  {
   "cell_type": "markdown",
   "metadata": {},
   "source": [
    "---\n",
    "---"
   ]
  },
  {
   "cell_type": "markdown",
   "metadata": {},
   "source": []
  },
  {
   "cell_type": "markdown",
   "metadata": {},
   "source": []
  }
 ],
 "metadata": {
  "kernelspec": {
   "display_name": "moon",
   "language": "python",
   "name": "python3"
  },
  "language_info": {
   "name": "python",
   "version": "3.11.11"
  }
 },
 "nbformat": 4,
 "nbformat_minor": 2
}
