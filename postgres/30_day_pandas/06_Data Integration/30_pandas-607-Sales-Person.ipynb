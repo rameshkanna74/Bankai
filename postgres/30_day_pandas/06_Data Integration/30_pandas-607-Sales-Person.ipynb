{
 "cells": [
  {
   "cell_type": "markdown",
   "metadata": {},
   "source": [
    "607. Sales Person\n",
    "\n",
    "    Easy\n",
    "    Topics\n",
    "    Companies\n",
    "    Hint\n",
    "\n",
    "Table: SalesPerson\n",
    "\n",
    "+-----------------+---------+\n",
    "| Column Name     | Type    |\n",
    "+-----------------+---------+\n",
    "| sales_id        | int     |\n",
    "| name            | varchar |\n",
    "| salary          | int     |\n",
    "| commission_rate | int     |\n",
    "| hire_date       | date    |\n",
    "+-----------------+---------+\n",
    "sales_id is the primary key (column with unique values) for this table.\n",
    "Each row of this table indicates the name and the ID of a salesperson alongside their salary, commission rate, and hire date.\n",
    " \n",
    "\n",
    "Table: Company\n",
    "\n",
    "+-------------+---------+\n",
    "| Column Name | Type    |\n",
    "+-------------+---------+\n",
    "| com_id      | int     |\n",
    "| name        | varchar |\n",
    "| city        | varchar |\n",
    "+-------------+---------+\n",
    "com_id is the primary key (column with unique values) for this table.\n",
    "Each row of this table indicates the name and the ID of a company and the city in which the company is located.\n",
    " \n",
    "\n",
    "Table: Orders\n",
    "\n",
    "+-------------+------+\n",
    "| Column Name | Type |\n",
    "+-------------+------+\n",
    "| order_id    | int  |\n",
    "| order_date  | date |\n",
    "| com_id      | int  |\n",
    "| sales_id    | int  |\n",
    "| amount      | int  |\n",
    "+-------------+------+\n",
    "order_id is the primary key (column with unique values) for this table.\n",
    "com_id is a foreign key (reference column) to com_id from the Company table.\n",
    "sales_id is a foreign key (reference column) to sales_id from the SalesPerson table.\n",
    "Each row of this table contains information about one order. This includes the ID of the company, the ID of the salesperson, the date of the order, and the amount paid.\n",
    " \n",
    "\n",
    "Write a solution to find the names of all the salespersons who did not have any orders related to the company with the name \"RED\".\n",
    "\n",
    "Return the result table in any order.\n",
    "\n",
    "The result format is in the following example.\n",
    "\n",
    " \n",
    "\n",
    "Example 1:\n",
    "\n",
    "Input: \n",
    "SalesPerson table:\n",
    "+----------+------+--------+-----------------+------------+\n",
    "| sales_id | name | salary | commission_rate | hire_date  |\n",
    "+----------+------+--------+-----------------+------------+\n",
    "| 1        | John | 100000 | 6               | 4/1/2006   |\n",
    "| 2        | Amy  | 12000  | 5               | 5/1/2010   |\n",
    "| 3        | Mark | 65000  | 12              | 12/25/2008 |\n",
    "| 4        | Pam  | 25000  | 25              | 1/1/2005   |\n",
    "| 5        | Alex | 5000   | 10              | 2/3/2007   |\n",
    "+----------+------+--------+-----------------+------------+\n",
    "Company table:\n",
    "+--------+--------+----------+\n",
    "| com_id | name   | city     |\n",
    "+--------+--------+----------+\n",
    "| 1      | RED    | Boston   |\n",
    "| 2      | ORANGE | New York |\n",
    "| 3      | YELLOW | Boston   |\n",
    "| 4      | GREEN  | Austin   |\n",
    "+--------+--------+----------+\n",
    "Orders table:\n",
    "+----------+------------+--------+----------+--------+\n",
    "| order_id | order_date | com_id | sales_id | amount |\n",
    "+----------+------------+--------+----------+--------+\n",
    "| 1        | 1/1/2014   | 3      | 4        | 10000  |\n",
    "| 2        | 2/1/2014   | 4      | 5        | 5000   |\n",
    "| 3        | 3/1/2014   | 1      | 1        | 50000  |\n",
    "| 4        | 4/1/2014   | 1      | 4        | 25000  |\n",
    "+----------+------------+--------+----------+--------+\n",
    "Output: \n",
    "+------+\n",
    "| name |\n",
    "+------+\n",
    "| Amy  |\n",
    "| Mark |\n",
    "| Alex |\n",
    "+------+\n",
    "Explanation: \n",
    "According to orders 3 and 4 in the Orders table, it is easy to tell that only salesperson John and Pam have sales to company RED, so we report all the other names in the table salesperson.\n",
    "\n",
    "---\n",
    "\n",
    "give best time and space complexity sql query for postgresql and pandas(python code) ,give variables usefull name, add comments to explain the code way more clear\n",
    "\n",
    "---\n",
    "\n"
   ]
  },
  {
   "cell_type": "markdown",
   "metadata": {},
   "source": [
    "---\n",
    "---"
   ]
  },
  {
   "cell_type": "code",
   "execution_count": null,
   "metadata": {},
   "outputs": [],
   "source": [
    "def sales_person(\n",
    "    sales_person: pd.DataFrame, company: pd.DataFrame, orders: pd.DataFrame\n",
    ") -> pd.DataFrame:\n",
    "    return sales_person[\n",
    "        ~sales_person[\"sales_id\"].isin(\n",
    "            pd.merge(\n",
    "                left=orders,\n",
    "                right=company[company[\"name\"] == \"RED\"],\n",
    "                on=\"com_id\",\n",
    "                how=\"inner\",\n",
    "            )[\"sales_id\"].unique()\n",
    "        )\n",
    "    ][[\"name\"]]"
   ]
  },
  {
   "cell_type": "markdown",
   "metadata": {
    "vscode": {
     "languageId": "plaintext"
    }
   },
   "source": [
    "```py\n",
    "def sales_person(sales_person: pd.DataFrame, company: pd.DataFrame, orders: pd.DataFrame) -> pd.DataFrame:\n",
    "    return sales_person[\n",
    "        ~sales_person['sales_id'].isin(\n",
    "            pd.merge(\n",
    "                left=orders,\n",
    "                right=company[company['name'] == 'RED'],\n",
    "                on='com_id',\n",
    "                how='inner',\n",
    "            )['sales_id'].unique()\n",
    "        )\n",
    "    ][['name']]\n",
    "```\n"
   ]
  },
  {
   "cell_type": "markdown",
   "metadata": {
    "vscode": {
     "languageId": "plaintext"
    }
   },
   "source": [
    "```sql\n",
    "SELECT s.name\n",
    "  FROM Orders o\n",
    "      JOIN Company c\n",
    "          ON o.com_id = c.com_id\n",
    "         AND c.name = 'RED'\n",
    "      RIGHT JOIN SalesPerson s\n",
    "          ON s.sales_id = o.sales_id\n",
    " WHERE o.sales_id IS NULL;\n",
    "```\n"
   ]
  },
  {
   "cell_type": "markdown",
   "metadata": {},
   "source": [
    "---\n",
    "---"
   ]
  },
  {
   "cell_type": "markdown",
   "metadata": {},
   "source": []
  },
  {
   "cell_type": "markdown",
   "metadata": {},
   "source": []
  }
 ],
 "metadata": {
  "kernelspec": {
   "display_name": "moon",
   "language": "python",
   "name": "python3"
  },
  "language_info": {
   "name": "python",
   "version": "3.11.11"
  }
 },
 "nbformat": 4,
 "nbformat_minor": 2
}
