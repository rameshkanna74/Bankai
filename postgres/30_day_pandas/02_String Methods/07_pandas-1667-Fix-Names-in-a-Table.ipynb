{
 "cells": [
  {
   "cell_type": "markdown",
   "metadata": {},
   "source": [
    "1667. Fix Names in a Table\n",
    "\n",
    "    Easy\n",
    "    Topics\n",
    "    Companies\n",
    "\n",
    "Table: Users\n",
    "\n",
    "+----------------+---------+\n",
    "| Column Name    | Type    |\n",
    "+----------------+---------+\n",
    "| user_id        | int     |\n",
    "| name           | varchar |\n",
    "+----------------+---------+\n",
    "user_id is the primary key (column with unique values) for this table.\n",
    "This table contains the ID and the name of the user. The name consists of only lowercase and uppercase characters.\n",
    " \n",
    "\n",
    "Write a solution to fix the names so that only the first character is uppercase and the rest are lowercase.\n",
    "\n",
    "Return the result table ordered by user_id.\n",
    "\n",
    "The result format is in the following example.\n",
    "\n",
    " \n",
    "\n",
    "Example 1:\n",
    "\n",
    "Input: \n",
    "Users table:\n",
    "+---------+-------+\n",
    "| user_id | name  |\n",
    "+---------+-------+\n",
    "| 1       | aLice |\n",
    "| 2       | bOB   |\n",
    "+---------+-------+\n",
    "Output: \n",
    "+---------+-------+\n",
    "| user_id | name  |\n",
    "+---------+-------+\n",
    "| 1       | Alice |\n",
    "| 2       | Bob   |\n",
    "+---------+-------+\n",
    "\n",
    "---\n",
    "\n",
    "give best time and space complexity sql query for postgresql and pandas(python code) ,give variables usefull name, add comments to explain the code way more clear\n",
    "\n",
    "---\n",
    "\n"
   ]
  },
  {
   "cell_type": "markdown",
   "metadata": {},
   "source": [
    "---\n",
    "---"
   ]
  },
  {
   "cell_type": "code",
   "execution_count": null,
   "metadata": {},
   "outputs": [],
   "source": [
    "def fix_names(users: pd.DataFrame) -> pd.DataFrame:\n",
    "    return users.assign(\n",
    "        name=users[\"name\"].str.capitalize(),\n",
    "    ).sort_values(\n",
    "        by=\"user_id\",\n",
    "    )"
   ]
  },
  {
   "cell_type": "markdown",
   "metadata": {
    "vscode": {
     "languageId": "plaintext"
    }
   },
   "source": [
    "```py\n",
    "def fix_names(users: pd.DataFrame) -> pd.DataFrame:\n",
    "    return users.assign(\n",
    "        name=users['name'].str.capitalize(),\n",
    "    ).sort_values(\n",
    "        by='user_id',\n",
    "    )\n",
    "```\n"
   ]
  },
  {
   "cell_type": "markdown",
   "metadata": {
    "vscode": {
     "languageId": "plaintext"
    }
   },
   "source": [
    "```sql\n",
    "SELECT user_id,\n",
    "       concat(upper(substring(name, 1, 1)),\n",
    "       lower(substring(name, 2))) AS name\n",
    "  FROM Users\n",
    " ORDER BY user_id;\n",
    "```"
   ]
  },
  {
   "cell_type": "markdown",
   "metadata": {},
   "source": [
    "---\n",
    "---"
   ]
  },
  {
   "cell_type": "markdown",
   "metadata": {},
   "source": []
  },
  {
   "cell_type": "markdown",
   "metadata": {},
   "source": []
  }
 ],
 "metadata": {
  "kernelspec": {
   "display_name": "moon",
   "language": "python",
   "name": "python3"
  },
  "language_info": {
   "codemirror_mode": {
    "name": "ipython",
    "version": 3
   },
   "file_extension": ".py",
   "mimetype": "text/x-python",
   "name": "python",
   "nbconvert_exporter": "python",
   "pygments_lexer": "ipython3",
   "version": "3.11.11"
  }
 },
 "nbformat": 4,
 "nbformat_minor": 2
}
