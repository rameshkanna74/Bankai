{
 "cells": [
  {
   "cell_type": "markdown",
   "metadata": {},
   "source": [
    "1741. Find Total Time Spent by Each Employee\n",
    "\n",
    "    Easy\n",
    "    Topics\n",
    "    Companies\n",
    "\n",
    "Table: Employees\n",
    "\n",
    "+-------------+------+\n",
    "| Column Name | Type |\n",
    "+-------------+------+\n",
    "| emp_id      | int  |\n",
    "| event_day   | date |\n",
    "| in_time     | int  |\n",
    "| out_time    | int  |\n",
    "+-------------+------+\n",
    "(emp_id, event_day, in_time) is the primary key (combinations of columns with unique values) of this table.\n",
    "The table shows the employees' entries and exits in an office.\n",
    "event_day is the day at which this event happened, in_time is the minute at which the employee entered the office, and out_time is the minute at which they left the office.\n",
    "in_time and out_time are between 1 and 1440.\n",
    "It is guaranteed that no two events on the same day intersect in time, and in_time < out_time.\n",
    " \n",
    "\n",
    "Write a solution to calculate the total time in minutes spent by each employee on each day at the office. Note that within one day, an employee can enter and leave more than once. The time spent in the office for a single entry is out_time - in_time.\n",
    "\n",
    "Return the result table in any order.\n",
    "\n",
    "The result format is in the following example.\n",
    "\n",
    " \n",
    "\n",
    "Example 1:\n",
    "\n",
    "Input: \n",
    "Employees table:\n",
    "+--------+------------+---------+----------+\n",
    "| emp_id | event_day  | in_time | out_time |\n",
    "+--------+------------+---------+----------+\n",
    "| 1      | 2020-11-28 | 4       | 32       |\n",
    "| 1      | 2020-11-28 | 55      | 200      |\n",
    "| 1      | 2020-12-03 | 1       | 42       |\n",
    "| 2      | 2020-11-28 | 3       | 33       |\n",
    "| 2      | 2020-12-09 | 47      | 74       |\n",
    "+--------+------------+---------+----------+\n",
    "Output: \n",
    "+------------+--------+------------+\n",
    "| day        | emp_id | total_time |\n",
    "+------------+--------+------------+\n",
    "| 2020-11-28 | 1      | 173        |\n",
    "| 2020-11-28 | 2      | 30         |\n",
    "| 2020-12-03 | 1      | 41         |\n",
    "| 2020-12-09 | 2      | 27         |\n",
    "+------------+--------+------------+\n",
    "Explanation: \n",
    "Employee 1 has three events: two on day 2020-11-28 with a total of (32 - 4) + (200 - 55) = 173, and one on day 2020-12-03 with a total of (42 - 1) = 41.\n",
    "Employee 2 has two events: one on day 2020-11-28 with a total of (33 - 3) = 30, and one on day 2020-12-09 with a total of (74 - 47) = 27.\n",
    "\n",
    "---\n",
    "\n",
    "give best time and space complexity sql query for postgresql and pandas(python code) ,give variables usefull name, add comments to explain the code way more clear\n",
    "\n",
    "---\n",
    "\n"
   ]
  },
  {
   "cell_type": "markdown",
   "metadata": {},
   "source": [
    "---\n",
    "---"
   ]
  },
  {
   "cell_type": "code",
   "execution_count": null,
   "metadata": {},
   "outputs": [],
   "source": [
    "def total_time(employees: pd.DataFrame) -> pd.DataFrame:\n",
    "    return (\n",
    "        employees.assign(\n",
    "            total_time=employees[\"out_time\"] - employees[\"in_time\"],\n",
    "            day=employees[\"event_day\"].dt.strftime(\"%Y-%m-%d\"),\n",
    "        )\n",
    "        .groupby([\"emp_id\", \"day\"], as_index=False)[\"total_time\"]\n",
    "        .sum()[[\"day\", \"emp_id\", \"total_time\"]]\n",
    "    )"
   ]
  },
  {
   "cell_type": "markdown",
   "metadata": {},
   "source": [
    "```py\n",
    "def total_time(employees: pd.DataFrame) -> pd.DataFrame:\n",
    "    return employees.assign(\n",
    "        total_time=employees['out_time'] - employees['in_time'],\n",
    "        day=employees['event_day'].dt.strftime('%Y-%m-%d'),\n",
    "    ).groupby(\n",
    "        ['emp_id', 'day'], as_index=False\n",
    "    )['total_time'].sum()[\n",
    "        ['day', 'emp_id', 'total_time']\n",
    "    ]\n",
    "```"
   ]
  },
  {
   "cell_type": "markdown",
   "metadata": {
    "vscode": {
     "languageId": "plaintext"
    }
   },
   "source": [
    "```sql\n",
    "SELECT event_day AS day,\n",
    "       emp_id,\n",
    "       sum(out_time - in_time) AS total_time\n",
    "  FROM Employees\n",
    " GROUP BY emp_id, event_day;\n",
    "```\n"
   ]
  },
  {
   "cell_type": "markdown",
   "metadata": {},
   "source": [
    "---\n",
    "---"
   ]
  },
  {
   "cell_type": "markdown",
   "metadata": {},
   "source": []
  },
  {
   "cell_type": "markdown",
   "metadata": {},
   "source": []
  }
 ],
 "metadata": {
  "kernelspec": {
   "display_name": "moon",
   "language": "python",
   "name": "python3"
  },
  "language_info": {
   "codemirror_mode": {
    "name": "ipython",
    "version": 3
   },
   "file_extension": ".py",
   "mimetype": "text/x-python",
   "name": "python",
   "nbconvert_exporter": "python",
   "pygments_lexer": "ipython3",
   "version": "3.11.11"
  }
 },
 "nbformat": 4,
 "nbformat_minor": 2
}
