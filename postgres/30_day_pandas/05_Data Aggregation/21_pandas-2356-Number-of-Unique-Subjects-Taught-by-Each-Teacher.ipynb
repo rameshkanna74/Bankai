{
 "cells": [
  {
   "cell_type": "markdown",
   "metadata": {},
   "source": [
    "2356. Number of Unique Subjects Taught by Each Teacher\n",
    "\n",
    "    Easy\n",
    "    Topics\n",
    "    Companies\n",
    "\n",
    "Table: Teacher\n",
    "\n",
    "+-------------+------+\n",
    "| Column Name | Type |\n",
    "+-------------+------+\n",
    "| teacher_id  | int  |\n",
    "| subject_id  | int  |\n",
    "| dept_id     | int  |\n",
    "+-------------+------+\n",
    "(subject_id, dept_id) is the primary key (combinations of columns with unique values) of this table.\n",
    "Each row in this table indicates that the teacher with teacher_id teaches the subject subject_id in the department dept_id.\n",
    " \n",
    "\n",
    "Write a solution to calculate the number of unique subjects each teacher teaches in the university.\n",
    "\n",
    "Return the result table in any order.\n",
    "\n",
    "The result format is shown in the following example.\n",
    "\n",
    " \n",
    "\n",
    "Example 1:\n",
    "\n",
    "Input: \n",
    "Teacher table:\n",
    "+------------+------------+---------+\n",
    "| teacher_id | subject_id | dept_id |\n",
    "+------------+------------+---------+\n",
    "| 1          | 2          | 3       |\n",
    "| 1          | 2          | 4       |\n",
    "| 1          | 3          | 3       |\n",
    "| 2          | 1          | 1       |\n",
    "| 2          | 2          | 1       |\n",
    "| 2          | 3          | 1       |\n",
    "| 2          | 4          | 1       |\n",
    "+------------+------------+---------+\n",
    "Output:  \n",
    "+------------+-----+\n",
    "| teacher_id | cnt |\n",
    "+------------+-----+\n",
    "| 1          | 2   |\n",
    "| 2          | 4   |\n",
    "+------------+-----+\n",
    "Explanation: \n",
    "Teacher 1:\n",
    "  - They teach subject 2 in departments 3 and 4.\n",
    "  - They teach subject 3 in department 3.\n",
    "Teacher 2:\n",
    "  - They teach subject 1 in department 1.\n",
    "  - They teach subject 2 in department 1.\n",
    "  - They teach subject 3 in department 1.\n",
    "  - They teach subject 4 in department 1.\n",
    "\n",
    "---\n",
    "\n",
    "give best time and space complexity sql query for postgresql and pandas(python code) ,give variables usefull name, add comments to explain the code way more clear\n",
    "\n",
    "---\n",
    "\n"
   ]
  },
  {
   "cell_type": "markdown",
   "metadata": {},
   "source": [
    "---\n",
    "---"
   ]
  },
  {
   "cell_type": "code",
   "execution_count": null,
   "metadata": {},
   "outputs": [],
   "source": [
    "def count_unique_subjects(teacher: pd.DataFrame) -> pd.DataFrame:\n",
    "    return (\n",
    "        teacher.groupby(\"teacher_id\")\n",
    "        .nunique()\n",
    "        .reset_index()\n",
    "        .rename(columns={\"subject_id\": \"cnt\"})[[\"teacher_id\", \"cnt\"]]\n",
    "    )"
   ]
  },
  {
   "cell_type": "markdown",
   "metadata": {
    "vscode": {
     "languageId": "plaintext"
    }
   },
   "source": [
    "```py\n",
    "def count_unique_subjects(teacher: pd.DataFrame) -> pd.DataFrame:\n",
    "    return teacher.groupby(\n",
    "        'teacher_id'\n",
    "    ).nunique().reset_index().rename(\n",
    "        columns={'subject_id': 'cnt'}\n",
    "    )[['teacher_id', 'cnt']]\n",
    "```"
   ]
  },
  {
   "cell_type": "markdown",
   "metadata": {
    "vscode": {
     "languageId": "plaintext"
    }
   },
   "source": [
    "```sql\n",
    "SELECT teacher_id,\n",
    "       count(DISTINCT subject_id) AS cnt\n",
    "  FROM Teacher\n",
    " GROUP BY teacher_id;\n",
    "```"
   ]
  },
  {
   "cell_type": "markdown",
   "metadata": {},
   "source": [
    "---\n",
    "---"
   ]
  },
  {
   "cell_type": "markdown",
   "metadata": {},
   "source": []
  },
  {
   "cell_type": "markdown",
   "metadata": {},
   "source": []
  }
 ],
 "metadata": {
  "kernelspec": {
   "display_name": "moon",
   "language": "python",
   "name": "python3"
  },
  "language_info": {
   "name": "python",
   "version": "3.11.11"
  }
 },
 "nbformat": 4,
 "nbformat_minor": 2
}
